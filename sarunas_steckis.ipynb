{
 "cells": [
  {
   "cell_type": "code",
   "execution_count": 3,
   "id": "c0ab0e80",
   "metadata": {
    "scrolled": true
   },
   "outputs": [],
   "source": [
    "import numpy as np\n",
    "import pandas as pd\n",
    "import seaborn as sns\n",
    "import matplotlib.pyplot as plt\n",
    "\n",
    "!pip install -r requirements.txt \n",
    "# Tiesą sakant, nesupratau, ką reikia padaryti su requirements.txt"
   ]
  },
  {
   "attachments": {},
   "cell_type": "markdown",
   "id": "8bc2df96",
   "metadata": {},
   "source": [
    "<font color='red'> Erikas Švažas: \n",
    "\n",
    "Requirements.txt buvo nurodyta keletas bibliotekų, kurios bus reikalingos norint paleisti notebooką. By default, Python aplinkoje šių modulių nėra (ir dažniausiai kiekvieną reikia įrašyti atskirai), tad gera praktika prieš pradedant dirbti yra susisetupinti aplinką - nuspręsti kokią Python versiją naudosime projekte, kokių paketų mums reikės ir, žinoma, pradėti dirbti izoliuotai nuo pagrindinės Python aplinkos (čia daugiau atsakymų į klausimą [why to use](https://towardsdatascience.com/why-you-should-use-a-virtual-environment-for-every-python-project-c17dab3b0fd0)). Paskutinė projekto užduotis buvo išexportuoti jūsų naudotą aplinką - atitinkamai tuomet aš galėčiau įsirašyti ir naudoti kai keliausiu per jūsų notebooką (tikėtina išvengčiau problemos kai paketas naudoja kitą versiją nei naudojote jūs ir pavyzdžiui - fcijos argumentai buvo pakeisti)\n",
    "\n",
    "Kurso metu mokėmės naudoti *pip* in *conda* paketų valdytojus. Abu turi pliusų ir minusų - pip puikiai tinka panašaus dydžio prejektui, bet kai bus daugiau dependencies conda gali turėti [privalumų](https://www.reddit.com/r/Python/comments/w564g0/comment/ih7jo6v/?utm_source=share&utm_medium=web2x&context=3) (nors ir viskas vyks super lėtai).\n",
    "\n",
    "Dar labai padeda įsiimportuoti papildomų extensions kaip nb_black (automatinis PEP8 formatavimas)\n",
    "```\n",
    "%load_ext nb_black\n",
    "```"
   ]
  },
  {
   "cell_type": "markdown",
   "id": "7e22e953",
   "metadata": {},
   "source": [
    "Need to read the files directly from the webpage: https://www.registrucentras.lt/p/1094"
   ]
  },
  {
   "cell_type": "markdown",
   "id": "f5f78fc2",
   "metadata": {},
   "source": [
    "#### Data import <br><br>\n",
    "Bandžiau patikrinti abu *.xlsx* ir *.csv* formatus. <br>\n",
    "Galutinis įkeltas rezultatas nesiskiria, tačiau diske csv užima daugiau vietos, kas buvo keista. VIsad maniau, kad csv yra 'optimalesnis' formatas. Manau, kad tai susiję su vidiniu formatavimu (keičiant šifrą galima padidinti/sumažinti) failo apimtį. \n",
    "\n",
    "![alt text](size_comp.png \"Size comparison\")"
   ]
  },
  {
   "cell_type": "code",
   "execution_count": 2,
   "id": "ac19a047",
   "metadata": {},
   "outputs": [],
   "source": [
    "balance_20 = pd.read_excel('JAR_FA_RODIKLIAI_BLNS_2020.xlsx')\n",
    "balance_21 = pd.read_excel('JAR_FA_RODIKLIAI_BLNS_2021.xlsx')\n",
    "profit_20 = pd.read_excel('JAR_FA_RODIKLIAI_PLNA_2020.xlsx')\n",
    "profit_21 = pd.read_excel('JAR_FA_RODIKLIAI_PLNA_2021.xlsx')\n"
   ]
  },
  {
   "attachments": {},
   "cell_type": "markdown",
   "id": "22407c01",
   "metadata": {},
   "source": [
    "<font color='red'> Erikas Švažas: \n",
    "\n",
    "\n",
    "Alternatyvus būdas būtų nusiskaityti failą tiesiai iš registrų centro svetainės (nereikia parsisiųsti)\n",
    "pd.read_csv('https://www.registrucentras.lt/aduomenys/?byla=JAR_FA_RODIKLIAI_BLNS_2020.csv')\n",
    "</font>\n",
    "\n",
    "Dėl skirtumo tarp failų dydžių, more info [here](https://stackoverflow.com/questions/46509789/csv-increase-the-file-size), bet XLSX jau yra net šiek tiek compressed."
   ]
  },
  {
   "cell_type": "code",
   "execution_count": 3,
   "id": "8e802053",
   "metadata": {},
   "outputs": [],
   "source": [
    "balance_20['metai'] = '2020'\n",
    "balance_21['metai'] = '2021'\n",
    "profit_20['metai'] = '2020'\n",
    "profit_21['metai'] = '2021'"
   ]
  },
  {
   "cell_type": "code",
   "execution_count": 36,
   "id": "75d31c5e",
   "metadata": {
    "scrolled": false
   },
   "outputs": [
    {
     "name": "stdout",
     "output_type": "stream",
     "text": [
      "<class 'pandas.core.frame.DataFrame'>\n",
      "RangeIndex: 106318 entries, 0 to 106317\n",
      "Data columns (total 20 columns):\n",
      " #   Column                        Non-Null Count   Dtype  \n",
      "---  ------                        --------------   -----  \n",
      " 0   obj_kodas                     106318 non-null  int64  \n",
      " 1   obj_pav                       106318 non-null  object \n",
      " 2   form_kodas                    106318 non-null  int64  \n",
      " 3   form_pav                      106318 non-null  object \n",
      " 4   stat_statusas                 106318 non-null  int64  \n",
      " 5   stat_pav                      106318 non-null  object \n",
      " 6   template_id                   106318 non-null  object \n",
      " 7   template_name                 106318 non-null  object \n",
      " 8   standard_id                   106318 non-null  object \n",
      " 9   standard_name                 106318 non-null  object \n",
      " 10  laikotarpis_nuo               106318 non-null  object \n",
      " 11  laikotarpis_iki               106318 non-null  object \n",
      " 12  reg_date                      106318 non-null  object \n",
      " 13  nuosavas_kapitalas            105766 non-null  float64\n",
      " 14  mok_sumos_ir_isipareigojimai  92674 non-null   float64\n",
      " 15  ilgalaikis_turtas             104940 non-null  float64\n",
      " 16  trumpalaikis_turtas           104879 non-null  float64\n",
      " 17  formavimo_data                106318 non-null  object \n",
      " 18  metai                         106318 non-null  object \n",
      " 19  key_test                      106318 non-null  object \n",
      "dtypes: float64(4), int64(3), object(13)\n",
      "memory usage: 16.2+ MB\n"
     ]
    }
   ],
   "source": [
    "balance_20.info()"
   ]
  },
  {
   "cell_type": "code",
   "execution_count": 29,
   "id": "a8bf7c1b",
   "metadata": {
    "scrolled": true
   },
   "outputs": [
    {
     "data": {
      "text/html": [
       "<div>\n",
       "<style scoped>\n",
       "    .dataframe tbody tr th:only-of-type {\n",
       "        vertical-align: middle;\n",
       "    }\n",
       "\n",
       "    .dataframe tbody tr th {\n",
       "        vertical-align: top;\n",
       "    }\n",
       "\n",
       "    .dataframe thead th {\n",
       "        text-align: right;\n",
       "    }\n",
       "</style>\n",
       "<table border=\"1\" class=\"dataframe\">\n",
       "  <thead>\n",
       "    <tr style=\"text-align: right;\">\n",
       "      <th></th>\n",
       "      <th>obj_kodas</th>\n",
       "      <th>obj_pav</th>\n",
       "      <th>form_kodas</th>\n",
       "      <th>form_pav</th>\n",
       "      <th>stat_statusas</th>\n",
       "      <th>stat_pav</th>\n",
       "      <th>template_id</th>\n",
       "      <th>template_name</th>\n",
       "      <th>standard_id</th>\n",
       "      <th>standard_name</th>\n",
       "      <th>laikotarpis_nuo</th>\n",
       "      <th>laikotarpis_iki</th>\n",
       "      <th>reg_date</th>\n",
       "      <th>nuosavas_kapitalas</th>\n",
       "      <th>mok_sumos_ir_isipareigojimai</th>\n",
       "      <th>ilgalaikis_turtas</th>\n",
       "      <th>trumpalaikis_turtas</th>\n",
       "      <th>formavimo_data</th>\n",
       "      <th>metai</th>\n",
       "      <th>key_test</th>\n",
       "    </tr>\n",
       "  </thead>\n",
       "  <tbody>\n",
       "    <tr>\n",
       "      <th>0</th>\n",
       "      <td>305217929</td>\n",
       "      <td>MB \"Jantaris\"</td>\n",
       "      <td>960</td>\n",
       "      <td>Mažoji bendrija</td>\n",
       "      <td>0</td>\n",
       "      <td>Teisinis stat neįregistruotas</td>\n",
       "      <td>FS0322</td>\n",
       "      <td>Mažųjų bendrijų finansinių ataskaitų rinkinys</td>\n",
       "      <td>BST217</td>\n",
       "      <td>BALANSAS (Neribotos civilinės atsakomybės juri...</td>\n",
       "      <td>2019-07-27</td>\n",
       "      <td>2019-12-31</td>\n",
       "      <td>2020-05-14</td>\n",
       "      <td>1610.0</td>\n",
       "      <td>NaN</td>\n",
       "      <td>0.0</td>\n",
       "      <td>1684.0</td>\n",
       "      <td>2022-12-01</td>\n",
       "      <td>2020</td>\n",
       "      <td>MB \"Jantaris\"FS03222020-05-14</td>\n",
       "    </tr>\n",
       "    <tr>\n",
       "      <th>1</th>\n",
       "      <td>304127368</td>\n",
       "      <td>Alytaus neformaliojo švietimo centras \"Toleran...</td>\n",
       "      <td>630</td>\n",
       "      <td>Asociacija</td>\n",
       "      <td>0</td>\n",
       "      <td>Teisinis stat neįregistruotas</td>\n",
       "      <td>FS0323</td>\n",
       "      <td>Pelno nesiekiančių JA finansinių ataskaitų rin...</td>\n",
       "      <td>BST216</td>\n",
       "      <td>FINANSINĖS BŪKLĖS ATASKAITA</td>\n",
       "      <td>2019-01-01</td>\n",
       "      <td>2019-12-31</td>\n",
       "      <td>2020-05-25</td>\n",
       "      <td>243.0</td>\n",
       "      <td>0.0</td>\n",
       "      <td>0.0</td>\n",
       "      <td>243.0</td>\n",
       "      <td>2022-12-01</td>\n",
       "      <td>2020</td>\n",
       "      <td>Alytaus neformaliojo švietimo centras \"Toleran...</td>\n",
       "    </tr>\n",
       "    <tr>\n",
       "      <th>2</th>\n",
       "      <td>304759186</td>\n",
       "      <td>Uždaroji akcinė bendrovė \"Balsana LT\"</td>\n",
       "      <td>310</td>\n",
       "      <td>Uždaroji akcinė bendrovė</td>\n",
       "      <td>0</td>\n",
       "      <td>Teisinis stat neįregistruotas</td>\n",
       "      <td>FS0129</td>\n",
       "      <td>Mažų ir labai mažų įmonių, netaikančių išimčių...</td>\n",
       "      <td>BST124</td>\n",
       "      <td>BALANSAS (Sutrumpintas)</td>\n",
       "      <td>2019-01-01</td>\n",
       "      <td>2019-12-31</td>\n",
       "      <td>2020-04-22</td>\n",
       "      <td>-20442.0</td>\n",
       "      <td>93324.0</td>\n",
       "      <td>2619.0</td>\n",
       "      <td>69759.0</td>\n",
       "      <td>2022-12-01</td>\n",
       "      <td>2020</td>\n",
       "      <td>Uždaroji akcinė bendrovė \"Balsana LT\"FS0129202...</td>\n",
       "    </tr>\n",
       "    <tr>\n",
       "      <th>3</th>\n",
       "      <td>191160250</td>\n",
       "      <td>Kretingos sporto klubas \"Žalgiris\"</td>\n",
       "      <td>630</td>\n",
       "      <td>Asociacija</td>\n",
       "      <td>0</td>\n",
       "      <td>Teisinis stat neįregistruotas</td>\n",
       "      <td>FS0323</td>\n",
       "      <td>Pelno nesiekiančių JA finansinių ataskaitų rin...</td>\n",
       "      <td>BST216</td>\n",
       "      <td>FINANSINĖS BŪKLĖS ATASKAITA</td>\n",
       "      <td>2019-01-01</td>\n",
       "      <td>2019-12-31</td>\n",
       "      <td>2020-02-04</td>\n",
       "      <td>0.0</td>\n",
       "      <td>0.0</td>\n",
       "      <td>0.0</td>\n",
       "      <td>2935.0</td>\n",
       "      <td>2022-12-01</td>\n",
       "      <td>2020</td>\n",
       "      <td>Kretingos sporto klubas \"Žalgiris\"FS03232020-0...</td>\n",
       "    </tr>\n",
       "    <tr>\n",
       "      <th>4</th>\n",
       "      <td>304512862</td>\n",
       "      <td>UAB \"Tedėja\"</td>\n",
       "      <td>310</td>\n",
       "      <td>Uždaroji akcinė bendrovė</td>\n",
       "      <td>0</td>\n",
       "      <td>Teisinis stat neįregistruotas</td>\n",
       "      <td>FS0129</td>\n",
       "      <td>Mažų ir labai mažų įmonių, netaikančių išimčių...</td>\n",
       "      <td>BST124</td>\n",
       "      <td>BALANSAS (Sutrumpintas)</td>\n",
       "      <td>2019-01-01</td>\n",
       "      <td>2019-12-31</td>\n",
       "      <td>2020-05-05</td>\n",
       "      <td>557480.0</td>\n",
       "      <td>19462.0</td>\n",
       "      <td>406399.0</td>\n",
       "      <td>170543.0</td>\n",
       "      <td>2022-12-01</td>\n",
       "      <td>2020</td>\n",
       "      <td>UAB \"Tedėja\"FS01292020-05-05</td>\n",
       "    </tr>\n",
       "  </tbody>\n",
       "</table>\n",
       "</div>"
      ],
      "text/plain": [
       "   obj_kodas                                            obj_pav  form_kodas  \\\n",
       "0  305217929                                      MB \"Jantaris\"         960   \n",
       "1  304127368  Alytaus neformaliojo švietimo centras \"Toleran...         630   \n",
       "2  304759186              Uždaroji akcinė bendrovė \"Balsana LT\"         310   \n",
       "3  191160250                 Kretingos sporto klubas \"Žalgiris\"         630   \n",
       "4  304512862                                       UAB \"Tedėja\"         310   \n",
       "\n",
       "                   form_pav  stat_statusas                       stat_pav  \\\n",
       "0           Mažoji bendrija              0  Teisinis stat neįregistruotas   \n",
       "1                Asociacija              0  Teisinis stat neįregistruotas   \n",
       "2  Uždaroji akcinė bendrovė              0  Teisinis stat neįregistruotas   \n",
       "3                Asociacija              0  Teisinis stat neįregistruotas   \n",
       "4  Uždaroji akcinė bendrovė              0  Teisinis stat neįregistruotas   \n",
       "\n",
       "  template_id                                      template_name standard_id  \\\n",
       "0      FS0322      Mažųjų bendrijų finansinių ataskaitų rinkinys      BST217   \n",
       "1      FS0323  Pelno nesiekiančių JA finansinių ataskaitų rin...      BST216   \n",
       "2      FS0129  Mažų ir labai mažų įmonių, netaikančių išimčių...      BST124   \n",
       "3      FS0323  Pelno nesiekiančių JA finansinių ataskaitų rin...      BST216   \n",
       "4      FS0129  Mažų ir labai mažų įmonių, netaikančių išimčių...      BST124   \n",
       "\n",
       "                                       standard_name laikotarpis_nuo  \\\n",
       "0  BALANSAS (Neribotos civilinės atsakomybės juri...      2019-07-27   \n",
       "1                        FINANSINĖS BŪKLĖS ATASKAITA      2019-01-01   \n",
       "2                            BALANSAS (Sutrumpintas)      2019-01-01   \n",
       "3                        FINANSINĖS BŪKLĖS ATASKAITA      2019-01-01   \n",
       "4                            BALANSAS (Sutrumpintas)      2019-01-01   \n",
       "\n",
       "  laikotarpis_iki    reg_date  nuosavas_kapitalas  \\\n",
       "0      2019-12-31  2020-05-14              1610.0   \n",
       "1      2019-12-31  2020-05-25               243.0   \n",
       "2      2019-12-31  2020-04-22            -20442.0   \n",
       "3      2019-12-31  2020-02-04                 0.0   \n",
       "4      2019-12-31  2020-05-05            557480.0   \n",
       "\n",
       "   mok_sumos_ir_isipareigojimai  ilgalaikis_turtas  trumpalaikis_turtas  \\\n",
       "0                           NaN                0.0               1684.0   \n",
       "1                           0.0                0.0                243.0   \n",
       "2                       93324.0             2619.0              69759.0   \n",
       "3                           0.0                0.0               2935.0   \n",
       "4                       19462.0           406399.0             170543.0   \n",
       "\n",
       "  formavimo_data metai                                           key_test  \n",
       "0     2022-12-01  2020                      MB \"Jantaris\"FS03222020-05-14  \n",
       "1     2022-12-01  2020  Alytaus neformaliojo švietimo centras \"Toleran...  \n",
       "2     2022-12-01  2020  Uždaroji akcinė bendrovė \"Balsana LT\"FS0129202...  \n",
       "3     2022-12-01  2020  Kretingos sporto klubas \"Žalgiris\"FS03232020-0...  \n",
       "4     2022-12-01  2020                       UAB \"Tedėja\"FS01292020-05-05  "
      ]
     },
     "execution_count": 29,
     "metadata": {},
     "output_type": "execute_result"
    }
   ],
   "source": [
    "balance_20.head()"
   ]
  },
  {
   "cell_type": "markdown",
   "id": "90dc5371",
   "metadata": {},
   "source": [
    "3. Susipažinkite su duomenimis [1.8 taško]: <br>\n",
    "\n",
    "a. Ką reiškia skirtingi duomenų laukai? Iš kokių atributų sudaryti duomenys? <br>\n",
    ">Abu duomenų set'ai turi standartinius įmonės duomenis (kodas, pavadinimas, tipas, etc.). *obj_kodas* ir *obj_pav* turėtų būti unikalūs *form_kodas*, *form_pav* yra įmonės grupės ir leistų kategorizuoti įmonių sąrašus. *template_id* ir *template_name*\n",
    "\n",
    "b. Kiek reikšmių ir požymių turi kiekvienas iš dokumentų? <br>\n",
    ">Požymiai (columns?): balance-17 ir profit-18; Reikšmės (rows?): b20-106318, b21-120850, p20-96616, p21-110227.\n",
    "\n",
    "c. Kokio duomenų tipo yra kiekvienas iš požymių? Ar duomenų tipai tarp atitinkamų lentelių iš 2020 ir 2021 metų sutampa? <br>\n",
    ">*Iš esmės yra 3 tipai: int, float ir object. Tikėjaus rasti ir datetime keliems stulpeliams, bet nėra.*\n",
    "\n",
    "d. Paaiškinkite kas yra object duomenų tipas ir kuo jis skiriasi nuo string duomenų tipo. <br>\n",
    ">*Object* - platesnis duomenų tipas, kuris apima ir *string* tipą. Iš 3.c. matosi, kad į *object* patenka ir datetime, nors toks duoemnų tipas yra endeminis pandose, bet matyt, be papildomo modifikavimo ne visada atpažįstamas. <br>\n",
    "Pagal rastą dokumentaciją *object* turi tokį paaiškinimą: 'Text or mixed numeric and non-numeric values'\n",
    "\n",
    "e. Kuri lentelė turi daugiausiai nežinomų verčių? Kuris požymis išsiskiria nežinomų verčių skaičiumi? <br>\n",
    ">Pelno lentelėje \"pelnas_pries_apmokestinima\". Greičiausiai dėl nepateiktų duomenų, nes įvairios ataskaitos ir jų apdorojimas praktikoje gali užtrukti (dėl užsitęsiančių užsakymų ir pan.). <br>\n",
    "Praktinis asmeninės darbovietės pavyzdys - tiksliausi duomenys iš sukčiavimo (fraud) yra fiksuojami ~2 mėn vėliau, nes visada galima vėliau gauti pranešimą apie neaptiktą sukčiavimo atvejį. \n",
    "\n",
    "f. Ar kažkuri lentelė turi pasikartojančių duomenų? <br>\n",
    ">*Visos.*\n",
    "\n",
    "i. Kokia stulpelių aibė vienareikšmiškai identifikuoja kiekvienos lentelės eilutę?\n",
    ">*Didelė...* <br>\n",
    "Pavyko sudėlioti raktą iš šių stulpelių: <br> \n",
    "['obj_pav'], ['template_id'], ['reg_date'], ['laikotarpis_nuo'], ['laikotarpis_iki'], ['standard_id'], ['nuosavas_kapitalas'] <br>\n",
    "'nuosavas_kapitalas' gali keistis metų eigoje. Reiškia, skaičiuojant vidurkius, tektų ieškoti paskutinio įrašo kiekvienai įmonei. \n"
   ]
  },
  {
   "attachments": {},
   "cell_type": "markdown",
   "id": "a79d0149",
   "metadata": {},
   "source": [
    "<font color='red'> Erikas Švažas: \n",
    "\n",
    "Šauniai panaudotas formatavimas!\n",
    "\n",
    "a) Teisingai, papildant - reikia *domain knowledge* arba ieškoti informacijos greta pagrindinių šaltinių (ypač šalia duomenų iš valstybinių kompanijų). Kad geriau suprasti skirtingus duomenų laukus, galime vadovautis Registrų centro pateiktomis *\"Duomenų rinkinio struktūros\"* lentelėmis. Būtent iš šio failo galime spręsti ką reiškia skirtingi laukai.\n",
    "\n",
    "d) Taip, teisingai. Dar pridėčiau, kad *everything is an object in Python* ir jei *Pandas* negali atpažinti duomenų tipo (ar tai integer ar string), by default bus *object*. Kiekvineas objektas turės skirtingas funkcijas ir savybes - pavyzdžiui norint naudoti string tipui būdingas fcijas .str.contains() reikės pradžioje atlikti konvertavimą į šį duomenų tipą.\n",
    "\n",
    "f) Nei viena lentelė neturi pasikartojančių duomenų [-0.3taško]. Galimas sprendimas:\n",
    "```\n",
    "balance_20[balance_20.duplicated()].shape\n",
    "```\n",
    "\n",
    "i) Įdomus sprendimo būdas įsivertinti, kurie stulpeliai reikalingi norint apibūdinti duomenis (ir teisingas!). Panašiais atvejais geriausia naudoti unikalų objektą apibūdinantį skaičių vietoje pavadinimo ir rinkinys vos iš dviejų elementų galėjo atsakyti į klausimą [-0.15taško]: \n",
    "\n",
    "*(obj_kodas, laikotarpis_nuo)*"
   ]
  },
  {
   "cell_type": "code",
   "execution_count": 7,
   "id": "5dc98371",
   "metadata": {},
   "outputs": [
    {
     "data": {
      "text/plain": [
       "96353"
      ]
     },
     "execution_count": 7,
     "metadata": {},
     "output_type": "execute_result"
    }
   ],
   "source": [
    "# 3.a. / 3.f. patikrinimas\n",
    "balance_20['obj_kodas'].nunique()\n",
    "\n",
    "# (balance_20) Turim iš viso 96353 unikalias įm. kodo reikšmes tačiau duomenų paketas turi iš viso 106318 įrašus. Yra įmonių su duplikatais, kas grečiausiai yra papildomi jų pateikti dokumentai, parodomi per stulepelius 'template_id' ir 'template_name'. \n",
    "# Tas pats kartojasi visose duomenų paketuose"
   ]
  },
  {
   "cell_type": "code",
   "execution_count": null,
   "id": "048a2aa7",
   "metadata": {
    "scrolled": true
   },
   "outputs": [],
   "source": [
    "# 3.c. datų patikrinimas - yra stulpelių, kurie turi datas, tačiau duomenų tipas vis tiek liek 'object'???\n",
    "balance_20.dtypes"
   ]
  },
  {
   "cell_type": "code",
   "execution_count": 8,
   "id": "2c7ef1a0",
   "metadata": {},
   "outputs": [
    {
     "data": {
      "text/plain": [
       "106318"
      ]
     },
     "execution_count": 8,
     "metadata": {},
     "output_type": "execute_result"
    }
   ],
   "source": [
    "# 3.i. unikalaus rakto paieška - gali būt, kad įmonės kodas + template_id duos rezultatą? Nope.... \n",
    "# Gali būti, kad keičiasi įmonės teisinis statusas ar net forma metų eigoje? \n",
    "# Tokiu atveju norėtųsi paburbėti, kad per daug informacijos vienam pakete ir jis pavirsta į sudėtingą 'event_table' tipo pakeltą\n",
    "balance_20['key_test'] = balance_20['obj_pav'] + balance_20['template_id'] + balance_20['reg_date'] + balance_20['laikotarpis_nuo'] + balance_20['laikotarpis_iki'] + balance_20['standard_id'] + balance_20['nuosavas_kapitalas'].astype('str')\n",
    "balance_20['key_test'].nunique()"
   ]
  },
  {
   "cell_type": "markdown",
   "id": "38c0caec",
   "metadata": {},
   "source": [
    "3.5 Data prep"
   ]
  },
  {
   "cell_type": "code",
   "execution_count": 6,
   "id": "6b76a7f7",
   "metadata": {},
   "outputs": [],
   "source": [
    "balance = pd.concat([balance_20, balance_21], ignore_index=True)\n",
    "profit = pd.concat([profit_20, profit_21], ignore_index=True)\n",
    "# print(balance.info(), profit.info())"
   ]
  },
  {
   "cell_type": "markdown",
   "id": "b5b710f0",
   "metadata": {},
   "source": [
    "4. Keletas juridinių asmenų pavadinimų yra tiesiogiai susiję su “Thermo Fisher” bendrove. \n",
    "<br>Raskite pilnus šių bendrovių pavadinimus. <br>[0.4 taško]"
   ]
  },
  {
   "cell_type": "code",
   "execution_count": 9,
   "id": "f8e2df80",
   "metadata": {},
   "outputs": [
    {
     "data": {
      "text/plain": [
       "1951         UAB \"Thermo Fisher Scientific Vector Holdings\"\n",
       "10090                UAB \"Thermo Fisher Scientific Baltics\"\n",
       "20518     UAB \"Thermo Fisher Scientific Vector Senior Ho...\n",
       "50917     UAB \"Thermo Fisher Scientific Vector Senior Ho...\n",
       "123296    UAB \"Thermo Fisher Scientific Vector Senior Ho...\n",
       "132163    UAB \"Thermo Fisher Scientific Vector Senior Ho...\n",
       "152746               UAB \"Thermo Fisher Scientific Baltics\"\n",
       "160561       UAB \"Thermo Fisher Scientific Vector Holdings\"\n",
       "Name: obj_pav, dtype: object"
      ]
     },
     "execution_count": 9,
     "metadata": {},
     "output_type": "execute_result"
    }
   ],
   "source": [
    "name_wildcard = 'Thermo Fisher'\n",
    "tf_set = balance[balance['obj_pav'].str.contains(f'{name_wildcard}')]\n",
    "tf_set['obj_pav']"
   ]
  },
  {
   "cell_type": "code",
   "execution_count": 10,
   "id": "a0d5726d",
   "metadata": {},
   "outputs": [
    {
     "data": {
      "text/plain": [
       "36085     UAB \"Thermo Fisher Scientific Vector Senior Ho...\n",
       "60941        UAB \"Thermo Fisher Scientific Vector Holdings\"\n",
       "81097     UAB \"Thermo Fisher Scientific Vector Senior Ho...\n",
       "86447                UAB \"Thermo Fisher Scientific Baltics\"\n",
       "112264               UAB \"Thermo Fisher Scientific Baltics\"\n",
       "130928    UAB \"Thermo Fisher Scientific Vector Senior Ho...\n",
       "143074    UAB \"Thermo Fisher Scientific Vector Senior Ho...\n",
       "172511       UAB \"Thermo Fisher Scientific Vector Holdings\"\n",
       "Name: obj_pav, dtype: object"
      ]
     },
     "execution_count": 10,
     "metadata": {},
     "output_type": "execute_result"
    }
   ],
   "source": [
    "tf_set = profit[profit['obj_pav'].str.contains(f'{name_wildcard}')]\n",
    "tf_set['obj_pav']"
   ]
  },
  {
   "cell_type": "code",
   "execution_count": 27,
   "id": "40272e33",
   "metadata": {},
   "outputs": [
    {
     "data": {
      "text/html": [
       "<div>\n",
       "<style scoped>\n",
       "    .dataframe tbody tr th:only-of-type {\n",
       "        vertical-align: middle;\n",
       "    }\n",
       "\n",
       "    .dataframe tbody tr th {\n",
       "        vertical-align: top;\n",
       "    }\n",
       "\n",
       "    .dataframe thead th {\n",
       "        text-align: right;\n",
       "    }\n",
       "</style>\n",
       "<table border=\"1\" class=\"dataframe\">\n",
       "  <thead>\n",
       "    <tr style=\"text-align: right;\">\n",
       "      <th></th>\n",
       "      <th>obj_kodas</th>\n",
       "      <th>obj_pav</th>\n",
       "      <th>form_kodas</th>\n",
       "      <th>form_pav</th>\n",
       "      <th>stat_statusas</th>\n",
       "      <th>stat_pav</th>\n",
       "      <th>template_id</th>\n",
       "      <th>template_name</th>\n",
       "      <th>standard_id</th>\n",
       "      <th>standard_name</th>\n",
       "      <th>laikotarpis_nuo</th>\n",
       "      <th>laikotarpis_iki</th>\n",
       "      <th>reg_date</th>\n",
       "      <th>nuosavas_kapitalas</th>\n",
       "      <th>mok_sumos_ir_isipareigojimai</th>\n",
       "      <th>ilgalaikis_turtas</th>\n",
       "      <th>trumpalaikis_turtas</th>\n",
       "      <th>formavimo_data</th>\n",
       "      <th>metai</th>\n",
       "      <th>key_test</th>\n",
       "    </tr>\n",
       "  </thead>\n",
       "  <tbody>\n",
       "    <tr>\n",
       "      <th>1951</th>\n",
       "      <td>305115931</td>\n",
       "      <td>UAB \"Thermo Fisher Scientific Vector Holdings\"</td>\n",
       "      <td>310</td>\n",
       "      <td>Uždaroji akcinė bendrovė</td>\n",
       "      <td>0</td>\n",
       "      <td>Teisinis stat neįregistruotas</td>\n",
       "      <td>FS0128</td>\n",
       "      <td>Labai mažų įmonių, taikančių išimtis, finansin...</td>\n",
       "      <td>BST122</td>\n",
       "      <td>BALANSAS (Trumpas)</td>\n",
       "      <td>2019-04-05</td>\n",
       "      <td>2019-12-31</td>\n",
       "      <td>2020-05-29</td>\n",
       "      <td>1.340596e+09</td>\n",
       "      <td>9.070000e+03</td>\n",
       "      <td>1.340602e+09</td>\n",
       "      <td>2550.0</td>\n",
       "      <td>2022-12-01</td>\n",
       "      <td>2020</td>\n",
       "      <td>UAB \"Thermo Fisher Scientific Vector Holdings\"...</td>\n",
       "    </tr>\n",
       "    <tr>\n",
       "      <th>10090</th>\n",
       "      <td>122351387</td>\n",
       "      <td>UAB \"Thermo Fisher Scientific Baltics\"</td>\n",
       "      <td>310</td>\n",
       "      <td>Uždaroji akcinė bendrovė</td>\n",
       "      <td>0</td>\n",
       "      <td>Teisinis stat neįregistruotas</td>\n",
       "      <td>FS0130</td>\n",
       "      <td>Vidutinių ir didelių įmonių finansinių ataskai...</td>\n",
       "      <td>BST123</td>\n",
       "      <td>BALANSAS</td>\n",
       "      <td>2019-01-01</td>\n",
       "      <td>2019-12-31</td>\n",
       "      <td>2020-05-25</td>\n",
       "      <td>8.353635e+08</td>\n",
       "      <td>4.074583e+07</td>\n",
       "      <td>1.027106e+08</td>\n",
       "      <td>775439119.0</td>\n",
       "      <td>2022-12-01</td>\n",
       "      <td>2020</td>\n",
       "      <td>UAB \"Thermo Fisher Scientific Baltics\"FS013020...</td>\n",
       "    </tr>\n",
       "    <tr>\n",
       "      <th>20518</th>\n",
       "      <td>305115970</td>\n",
       "      <td>UAB \"Thermo Fisher Scientific Vector Senior Ho...</td>\n",
       "      <td>310</td>\n",
       "      <td>Uždaroji akcinė bendrovė</td>\n",
       "      <td>0</td>\n",
       "      <td>Teisinis stat neįregistruotas</td>\n",
       "      <td>FS0128</td>\n",
       "      <td>Labai mažų įmonių, taikančių išimtis, finansin...</td>\n",
       "      <td>BST122</td>\n",
       "      <td>BALANSAS (Trumpas)</td>\n",
       "      <td>2019-04-05</td>\n",
       "      <td>2019-12-31</td>\n",
       "      <td>2020-05-29</td>\n",
       "      <td>1.340596e+09</td>\n",
       "      <td>1.148000e+04</td>\n",
       "      <td>1.340605e+09</td>\n",
       "      <td>2550.0</td>\n",
       "      <td>2022-12-01</td>\n",
       "      <td>2020</td>\n",
       "      <td>UAB \"Thermo Fisher Scientific Vector Senior Ho...</td>\n",
       "    </tr>\n",
       "    <tr>\n",
       "      <th>50917</th>\n",
       "      <td>305115956</td>\n",
       "      <td>UAB \"Thermo Fisher Scientific Vector Senior Ho...</td>\n",
       "      <td>310</td>\n",
       "      <td>Uždaroji akcinė bendrovė</td>\n",
       "      <td>0</td>\n",
       "      <td>Teisinis stat neįregistruotas</td>\n",
       "      <td>FS0128</td>\n",
       "      <td>Labai mažų įmonių, taikančių išimtis, finansin...</td>\n",
       "      <td>BST122</td>\n",
       "      <td>BALANSAS (Trumpas)</td>\n",
       "      <td>2019-04-05</td>\n",
       "      <td>2019-12-31</td>\n",
       "      <td>2020-05-29</td>\n",
       "      <td>2.303856e+08</td>\n",
       "      <td>1.097173e+09</td>\n",
       "      <td>1.327554e+09</td>\n",
       "      <td>5050.0</td>\n",
       "      <td>2022-12-01</td>\n",
       "      <td>2020</td>\n",
       "      <td>UAB \"Thermo Fisher Scientific Vector Senior Ho...</td>\n",
       "    </tr>\n",
       "  </tbody>\n",
       "</table>\n",
       "</div>"
      ],
      "text/plain": [
       "       obj_kodas                                            obj_pav  \\\n",
       "1951   305115931     UAB \"Thermo Fisher Scientific Vector Holdings\"   \n",
       "10090  122351387             UAB \"Thermo Fisher Scientific Baltics\"   \n",
       "20518  305115970  UAB \"Thermo Fisher Scientific Vector Senior Ho...   \n",
       "50917  305115956  UAB \"Thermo Fisher Scientific Vector Senior Ho...   \n",
       "\n",
       "       form_kodas                  form_pav  stat_statusas  \\\n",
       "1951          310  Uždaroji akcinė bendrovė              0   \n",
       "10090         310  Uždaroji akcinė bendrovė              0   \n",
       "20518         310  Uždaroji akcinė bendrovė              0   \n",
       "50917         310  Uždaroji akcinė bendrovė              0   \n",
       "\n",
       "                            stat_pav template_id  \\\n",
       "1951   Teisinis stat neįregistruotas      FS0128   \n",
       "10090  Teisinis stat neįregistruotas      FS0130   \n",
       "20518  Teisinis stat neįregistruotas      FS0128   \n",
       "50917  Teisinis stat neįregistruotas      FS0128   \n",
       "\n",
       "                                           template_name standard_id  \\\n",
       "1951   Labai mažų įmonių, taikančių išimtis, finansin...      BST122   \n",
       "10090  Vidutinių ir didelių įmonių finansinių ataskai...      BST123   \n",
       "20518  Labai mažų įmonių, taikančių išimtis, finansin...      BST122   \n",
       "50917  Labai mažų įmonių, taikančių išimtis, finansin...      BST122   \n",
       "\n",
       "            standard_name laikotarpis_nuo laikotarpis_iki    reg_date  \\\n",
       "1951   BALANSAS (Trumpas)      2019-04-05      2019-12-31  2020-05-29   \n",
       "10090            BALANSAS      2019-01-01      2019-12-31  2020-05-25   \n",
       "20518  BALANSAS (Trumpas)      2019-04-05      2019-12-31  2020-05-29   \n",
       "50917  BALANSAS (Trumpas)      2019-04-05      2019-12-31  2020-05-29   \n",
       "\n",
       "       nuosavas_kapitalas  mok_sumos_ir_isipareigojimai  ilgalaikis_turtas  \\\n",
       "1951         1.340596e+09                  9.070000e+03       1.340602e+09   \n",
       "10090        8.353635e+08                  4.074583e+07       1.027106e+08   \n",
       "20518        1.340596e+09                  1.148000e+04       1.340605e+09   \n",
       "50917        2.303856e+08                  1.097173e+09       1.327554e+09   \n",
       "\n",
       "       trumpalaikis_turtas formavimo_data metai  \\\n",
       "1951                2550.0     2022-12-01  2020   \n",
       "10090          775439119.0     2022-12-01  2020   \n",
       "20518               2550.0     2022-12-01  2020   \n",
       "50917               5050.0     2022-12-01  2020   \n",
       "\n",
       "                                                key_test  \n",
       "1951   UAB \"Thermo Fisher Scientific Vector Holdings\"...  \n",
       "10090  UAB \"Thermo Fisher Scientific Baltics\"FS013020...  \n",
       "20518  UAB \"Thermo Fisher Scientific Vector Senior Ho...  \n",
       "50917  UAB \"Thermo Fisher Scientific Vector Senior Ho...  "
      ]
     },
     "execution_count": 27,
     "metadata": {},
     "output_type": "execute_result"
    }
   ],
   "source": [
    "# Google paieška parodė, kad yra ir daugiau įmonių.\n",
    "name_wildcard = ['Thermo Fisher','Thermo Scientific','Applied Biosystems','Invitrogen','Fisher Scientific','Unity Lab Services','Patheon','PPD']\n",
    "look_up_value = '|'.join(name_wildcard)\n",
    "balance_20[balance_20['obj_pav'].str.contains(look_up_value)]"
   ]
  },
  {
   "cell_type": "markdown",
   "id": "5544163d",
   "metadata": {},
   "source": [
    "5. Apsimeskime, kad atributas “form_pav” neegzistuoja. Iš likusių laukelių gaukite visas UAB ir MB bendroves. <br>\n",
    "Palyginkite rekonstrukcijos tikslumą su “form_pav” vertėmis - kiek procentų verčių pavyko atkurti skirtingose duomenyse? <br>\n",
    "[0.4 taško]"
   ]
  },
  {
   "cell_type": "code",
   "execution_count": 12,
   "id": "69a11f2c",
   "metadata": {},
   "outputs": [
    {
     "name": "stdout",
     "output_type": "stream",
     "text": [
      "['Mažoji bendrija' 'Asociacija' 'Uždaroji akcinė bendrovė'\n",
      " 'Viešoji įstaiga' 'Individuali įmonė' 'Žemės ūkio bendrovė'\n",
      " 'Labdaros ir paramos fondas' 'Kooperatinė bendrovė' 'Akcinė bendrovė'\n",
      " 'Savivaldybės įmonė' 'Valstybės įmonė' 'Komanditinė ūkinė bendrija'\n",
      " 'Tikroji ūkinė bendrija' 'Bendrija' 'Užsienio juridinio asmens filialas'\n",
      " 'Biudžetinė įstaiga' 'Lietuvos prekyb.,pramon. rūmų asociacija']\n"
     ]
    }
   ],
   "source": [
    "print(balance.form_pav.unique())"
   ]
  },
  {
   "cell_type": "code",
   "execution_count": 13,
   "id": "7946d79f",
   "metadata": {},
   "outputs": [],
   "source": [
    "# trying regex to find all values in name column before \". Using a space before returns just sligtly few more values. \n",
    "balance['test'] = balance['obj_pav'].str.extract(r'^(.*?)\"')"
   ]
  },
  {
   "cell_type": "code",
   "execution_count": 52,
   "id": "5e0fd688",
   "metadata": {
    "scrolled": true
   },
   "outputs": [
    {
     "name": "stdout",
     "output_type": "stream",
     "text": [
      "['MB ' 'Alytaus neformaliojo švietimo centras '\n",
      " 'Uždaroji akcinė bendrovė ' ...\n",
      " 'Asociacija Vilkaviškio stalo žaidimų klubas ' 'MB artelė '\n",
      " 'Viešoji įstaiga jaunimo centras ']\n"
     ]
    }
   ],
   "source": [
    "print(balance.test.unique())"
   ]
  },
  {
   "cell_type": "code",
   "execution_count": 53,
   "id": "0a8340f7",
   "metadata": {
    "scrolled": true
   },
   "outputs": [
    {
     "data": {
      "text/plain": [
       "2576"
      ]
     },
     "execution_count": 53,
     "metadata": {},
     "output_type": "execute_result"
    }
   ],
   "source": [
    "n = len(pd.unique(balance_20['test']))\n",
    "n"
   ]
  },
  {
   "cell_type": "code",
   "execution_count": 55,
   "id": "2c269944",
   "metadata": {},
   "outputs": [],
   "source": [
    "balance_20['test'].to_csv('C:/Users/VARTOTOJAS/PycharmProjects/Pythonkursai/test.csv')"
   ]
  },
  {
   "cell_type": "markdown",
   "id": "4c0c8261",
   "metadata": {},
   "source": [
    "6. Apskaičiuoti vidutines reikšmes “pelnas_pries_apmokestinima” ir “nuosavas_kapitalas” laukų kiekvienai juridinio asmens formai (Uždaroji akcinė bendrovė, Mažoji bendrija, etc.) už visą laikotarpį (2020 ir 2021 metai kartu). <br>\n",
    "[0.4 taško]"
   ]
  },
  {
   "cell_type": "code",
   "execution_count": 18,
   "id": "b665d446",
   "metadata": {},
   "outputs": [],
   "source": [
    "balance_group = balance.groupby(by=['form_pav'])['nuosavas_kapitalas'].mean()\n",
    "profit_group = profit.groupby(by=['form_pav'])['pelnas_pries_apmokestinima'].mean()"
   ]
  },
  {
   "cell_type": "code",
   "execution_count": 31,
   "id": "3db7d0c9",
   "metadata": {
    "scrolled": true
   },
   "outputs": [
    {
     "data": {
      "text/plain": [
       "form_pav\n",
       "Bendrija                                    4.739000e+03\n",
       "Mažoji bendrija                             1.537167e+04\n",
       "Viešoji įstaiga                             2.621290e+04\n",
       "Labdaros ir paramos fondas                  3.124865e+04\n",
       "Asociacija                                  3.629303e+04\n",
       "Lietuvos prekyb.,pramon. rūmų asociacija    6.449100e+04\n",
       "Individuali įmonė                           1.246245e+05\n",
       "Biudžetinė įstaiga                          1.410740e+05\n",
       "Tikroji ūkinė bendrija                      2.528260e+05\n",
       "Uždaroji akcinė bendrovė                    6.288160e+05\n",
       "Kooperatinė bendrovė                        6.773609e+05\n",
       "Žemės ūkio bendrovė                         1.607303e+06\n",
       "Komanditinė ūkinė bendrija                  3.251404e+06\n",
       "Užsienio juridinio asmens filialas          3.368923e+06\n",
       "Savivaldybės įmonė                          3.431537e+06\n",
       "Akcinė bendrovė                             4.139755e+07\n",
       "Valstybės įmonė                             1.748695e+08\n",
       "Name: nuosavas_kapitalas, dtype: float64"
      ]
     },
     "execution_count": 31,
     "metadata": {},
     "output_type": "execute_result"
    }
   ],
   "source": [
    "balance_group.sort_values()"
   ]
  },
  {
   "cell_type": "markdown",
   "id": "55eda295",
   "metadata": {},
   "source": [
    "7. Atrinkti unikalias UAB ir MB įmones, kurių “nuosavas_kapitalas” buvo didesnis negu visų UAB ir MB įmonių nuosavo kapitalo mediana už visą laikotarpį (2020 ir 2021 metai kartu). <br>\n",
    "[0.4 taško]"
   ]
  },
  {
   "cell_type": "code",
   "execution_count": 39,
   "id": "229c6908",
   "metadata": {
    "scrolled": false
   },
   "outputs": [],
   "source": [
    "filt = balance_group_2['form_pav'] == 'Mažoji bendrija'"
   ]
  },
  {
   "cell_type": "code",
   "execution_count": null,
   "id": "91813220",
   "metadata": {
    "scrolled": false
   },
   "outputs": [],
   "source": [
    "balance.loc[filt]"
   ]
  },
  {
   "cell_type": "markdown",
   "id": "0cbf7e0e",
   "metadata": {},
   "source": [
    "8. Įvertinkite kurios įmonės išsiskiria ypač didele “nuosavas_kapitalas” verte (patenka į 99th percentilę). <br>Patikrinkite įmonių patenkančių į TOP-10 vertes rekvizitai.vz.lt svetainėje. Ranka įrašomi duomenys sukuria klaidos galimybę. <br>\n",
    "Ar yra bendrovė, kurios “nuosavas_kapitalas” jums kelia įtarimų? <br>\n",
    "[0.4 taško]"
   ]
  },
  {
   "cell_type": "code",
   "execution_count": 18,
   "id": "c5768dfa",
   "metadata": {},
   "outputs": [
    {
     "data": {
      "text/plain": [
       "6332414.250000088"
      ]
     },
     "execution_count": 18,
     "metadata": {},
     "output_type": "execute_result"
    }
   ],
   "source": [
    "test_sample = balance_21['nuosavas_kapitalas'].quantile(0.99)"
   ]
  },
  {
   "cell_type": "code",
   "execution_count": 27,
   "id": "97e820fa",
   "metadata": {
    "scrolled": true
   },
   "outputs": [
    {
     "data": {
      "text/plain": [
       "99977     6.332561e+06\n",
       "84742     6.334105e+06\n",
       "65893     6.349512e+06\n",
       "81483     6.350222e+06\n",
       "115156    6.358210e+06\n",
       "              ...     \n",
       "39828     1.950511e+09\n",
       "62819     2.693140e+09\n",
       "16978     2.950793e+09\n",
       "25845     3.898038e+09\n",
       "54243     3.898038e+09\n",
       "Name: nuosavas_kapitalas, Length: 1210, dtype: float64"
      ]
     },
     "execution_count": 27,
     "metadata": {},
     "output_type": "execute_result"
    }
   ],
   "source": [
    "balance_21[balance_21['nuosavas_kapitalas'] > test_sample]['nuosavas_kapitalas'].sort_values()\n",
    "# Over 1000 companies"
   ]
  },
  {
   "cell_type": "markdown",
   "id": "d900fec3",
   "metadata": {},
   "source": [
    "9. Vizualiai atvaizduoti juridinių asmenų formos pasiskirstymą per visą laikotarpį (2020 ir 2021 metais kartu). <br>\n",
    "[0.4 taško] <br>\n",
    "    a. naudojantis matplotlib funkcionalumu.<br>\n",
    "    b. naudojantis pandas funkcionalumu.<br>\n",
    "    c. naudojantis seaborn funkcionalumu.<br>\n"
   ]
  },
  {
   "cell_type": "code",
   "execution_count": 24,
   "id": "657054a9",
   "metadata": {},
   "outputs": [],
   "source": [
    "# data prep\n",
    "plot_data = balance[['metai','form_pav','obj_kodas']]"
   ]
  },
  {
   "cell_type": "code",
   "execution_count": 25,
   "id": "7cf66886",
   "metadata": {},
   "outputs": [],
   "source": [
    "plot_data = plot_data.groupby(['metai','form_pav'])['obj_kodas'].nunique().to_frame()"
   ]
  },
  {
   "cell_type": "code",
   "execution_count": 26,
   "id": "5c6261e7",
   "metadata": {},
   "outputs": [
    {
     "ename": "KeyError",
     "evalue": "'metai'",
     "output_type": "error",
     "traceback": [
      "\u001b[1;31m---------------------------------------------------------------------------\u001b[0m",
      "\u001b[1;31mKeyError\u001b[0m                                  Traceback (most recent call last)",
      "File \u001b[1;32m~\\anaconda3\\lib\\site-packages\\pandas\\core\\indexes\\base.py:3621\u001b[0m, in \u001b[0;36mIndex.get_loc\u001b[1;34m(self, key, method, tolerance)\u001b[0m\n\u001b[0;32m   3620\u001b[0m \u001b[38;5;28;01mtry\u001b[39;00m:\n\u001b[1;32m-> 3621\u001b[0m     \u001b[38;5;28;01mreturn\u001b[39;00m \u001b[38;5;28;43mself\u001b[39;49m\u001b[38;5;241;43m.\u001b[39;49m\u001b[43m_engine\u001b[49m\u001b[38;5;241;43m.\u001b[39;49m\u001b[43mget_loc\u001b[49m\u001b[43m(\u001b[49m\u001b[43mcasted_key\u001b[49m\u001b[43m)\u001b[49m\n\u001b[0;32m   3622\u001b[0m \u001b[38;5;28;01mexcept\u001b[39;00m \u001b[38;5;167;01mKeyError\u001b[39;00m \u001b[38;5;28;01mas\u001b[39;00m err:\n",
      "File \u001b[1;32m~\\anaconda3\\lib\\site-packages\\pandas\\_libs\\index.pyx:136\u001b[0m, in \u001b[0;36mpandas._libs.index.IndexEngine.get_loc\u001b[1;34m()\u001b[0m\n",
      "File \u001b[1;32m~\\anaconda3\\lib\\site-packages\\pandas\\_libs\\index.pyx:163\u001b[0m, in \u001b[0;36mpandas._libs.index.IndexEngine.get_loc\u001b[1;34m()\u001b[0m\n",
      "File \u001b[1;32mpandas\\_libs\\hashtable_class_helper.pxi:5198\u001b[0m, in \u001b[0;36mpandas._libs.hashtable.PyObjectHashTable.get_item\u001b[1;34m()\u001b[0m\n",
      "File \u001b[1;32mpandas\\_libs\\hashtable_class_helper.pxi:5206\u001b[0m, in \u001b[0;36mpandas._libs.hashtable.PyObjectHashTable.get_item\u001b[1;34m()\u001b[0m\n",
      "\u001b[1;31mKeyError\u001b[0m: 'metai'",
      "\nThe above exception was the direct cause of the following exception:\n",
      "\u001b[1;31mKeyError\u001b[0m                                  Traceback (most recent call last)",
      "Input \u001b[1;32mIn [26]\u001b[0m, in \u001b[0;36m<cell line: 1>\u001b[1;34m()\u001b[0m\n\u001b[1;32m----> 1\u001b[0m \u001b[43mplot_data\u001b[49m\u001b[38;5;241;43m.\u001b[39;49m\u001b[43mplot\u001b[49m\u001b[43m(\u001b[49m\u001b[43mx\u001b[49m\u001b[38;5;241;43m=\u001b[39;49m\u001b[38;5;124;43m'\u001b[39;49m\u001b[38;5;124;43mmetai\u001b[39;49m\u001b[38;5;124;43m'\u001b[39;49m\u001b[43m,\u001b[49m\u001b[43my\u001b[49m\u001b[38;5;241;43m=\u001b[39;49m\u001b[38;5;124;43m'\u001b[39;49m\u001b[38;5;124;43mobj_kodas\u001b[39;49m\u001b[38;5;124;43m'\u001b[39;49m\u001b[43m)\u001b[49m\n",
      "File \u001b[1;32m~\\anaconda3\\lib\\site-packages\\pandas\\plotting\\_core.py:937\u001b[0m, in \u001b[0;36mPlotAccessor.__call__\u001b[1;34m(self, *args, **kwargs)\u001b[0m\n\u001b[0;32m    935\u001b[0m \u001b[38;5;28;01mif\u001b[39;00m is_integer(x) \u001b[38;5;129;01mand\u001b[39;00m \u001b[38;5;129;01mnot\u001b[39;00m data\u001b[38;5;241m.\u001b[39mcolumns\u001b[38;5;241m.\u001b[39mholds_integer():\n\u001b[0;32m    936\u001b[0m     x \u001b[38;5;241m=\u001b[39m data_cols[x]\n\u001b[1;32m--> 937\u001b[0m \u001b[38;5;28;01melif\u001b[39;00m \u001b[38;5;129;01mnot\u001b[39;00m \u001b[38;5;28misinstance\u001b[39m(\u001b[43mdata\u001b[49m\u001b[43m[\u001b[49m\u001b[43mx\u001b[49m\u001b[43m]\u001b[49m, ABCSeries):\n\u001b[0;32m    938\u001b[0m     \u001b[38;5;28;01mraise\u001b[39;00m \u001b[38;5;167;01mValueError\u001b[39;00m(\u001b[38;5;124m\"\u001b[39m\u001b[38;5;124mx must be a label or position\u001b[39m\u001b[38;5;124m\"\u001b[39m)\n\u001b[0;32m    939\u001b[0m data \u001b[38;5;241m=\u001b[39m data\u001b[38;5;241m.\u001b[39mset_index(x)\n",
      "File \u001b[1;32m~\\anaconda3\\lib\\site-packages\\pandas\\core\\frame.py:3505\u001b[0m, in \u001b[0;36mDataFrame.__getitem__\u001b[1;34m(self, key)\u001b[0m\n\u001b[0;32m   3503\u001b[0m \u001b[38;5;28;01mif\u001b[39;00m \u001b[38;5;28mself\u001b[39m\u001b[38;5;241m.\u001b[39mcolumns\u001b[38;5;241m.\u001b[39mnlevels \u001b[38;5;241m>\u001b[39m \u001b[38;5;241m1\u001b[39m:\n\u001b[0;32m   3504\u001b[0m     \u001b[38;5;28;01mreturn\u001b[39;00m \u001b[38;5;28mself\u001b[39m\u001b[38;5;241m.\u001b[39m_getitem_multilevel(key)\n\u001b[1;32m-> 3505\u001b[0m indexer \u001b[38;5;241m=\u001b[39m \u001b[38;5;28;43mself\u001b[39;49m\u001b[38;5;241;43m.\u001b[39;49m\u001b[43mcolumns\u001b[49m\u001b[38;5;241;43m.\u001b[39;49m\u001b[43mget_loc\u001b[49m\u001b[43m(\u001b[49m\u001b[43mkey\u001b[49m\u001b[43m)\u001b[49m\n\u001b[0;32m   3506\u001b[0m \u001b[38;5;28;01mif\u001b[39;00m is_integer(indexer):\n\u001b[0;32m   3507\u001b[0m     indexer \u001b[38;5;241m=\u001b[39m [indexer]\n",
      "File \u001b[1;32m~\\anaconda3\\lib\\site-packages\\pandas\\core\\indexes\\base.py:3623\u001b[0m, in \u001b[0;36mIndex.get_loc\u001b[1;34m(self, key, method, tolerance)\u001b[0m\n\u001b[0;32m   3621\u001b[0m     \u001b[38;5;28;01mreturn\u001b[39;00m \u001b[38;5;28mself\u001b[39m\u001b[38;5;241m.\u001b[39m_engine\u001b[38;5;241m.\u001b[39mget_loc(casted_key)\n\u001b[0;32m   3622\u001b[0m \u001b[38;5;28;01mexcept\u001b[39;00m \u001b[38;5;167;01mKeyError\u001b[39;00m \u001b[38;5;28;01mas\u001b[39;00m err:\n\u001b[1;32m-> 3623\u001b[0m     \u001b[38;5;28;01mraise\u001b[39;00m \u001b[38;5;167;01mKeyError\u001b[39;00m(key) \u001b[38;5;28;01mfrom\u001b[39;00m \u001b[38;5;21;01merr\u001b[39;00m\n\u001b[0;32m   3624\u001b[0m \u001b[38;5;28;01mexcept\u001b[39;00m \u001b[38;5;167;01mTypeError\u001b[39;00m:\n\u001b[0;32m   3625\u001b[0m     \u001b[38;5;66;03m# If we have a listlike key, _check_indexing_error will raise\u001b[39;00m\n\u001b[0;32m   3626\u001b[0m     \u001b[38;5;66;03m#  InvalidIndexError. Otherwise we fall through and re-raise\u001b[39;00m\n\u001b[0;32m   3627\u001b[0m     \u001b[38;5;66;03m#  the TypeError.\u001b[39;00m\n\u001b[0;32m   3628\u001b[0m     \u001b[38;5;28mself\u001b[39m\u001b[38;5;241m.\u001b[39m_check_indexing_error(key)\n",
      "\u001b[1;31mKeyError\u001b[0m: 'metai'"
     ]
    }
   ],
   "source": [
    "plot_data.plot(x='metai',y='obj_kodas')"
   ]
  },
  {
   "cell_type": "code",
   "execution_count": null,
   "id": "aa18549e",
   "metadata": {},
   "outputs": [],
   "source": []
  }
 ],
 "metadata": {
  "kernelspec": {
   "display_name": "Python 3",
   "language": "python",
   "name": "python3"
  },
  "language_info": {
   "codemirror_mode": {
    "name": "ipython",
    "version": 3
   },
   "file_extension": ".py",
   "mimetype": "text/x-python",
   "name": "python",
   "nbconvert_exporter": "python",
   "pygments_lexer": "ipython3",
   "version": "3.9.12"
  },
  "vscode": {
   "interpreter": {
    "hash": "40d3a090f54c6569ab1632332b64b2c03c39dcf918b08424e98f38b5ae0af88f"
   }
  }
 },
 "nbformat": 4,
 "nbformat_minor": 5
}
