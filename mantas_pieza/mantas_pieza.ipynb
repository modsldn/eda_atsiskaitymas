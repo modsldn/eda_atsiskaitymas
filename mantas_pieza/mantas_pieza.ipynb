{
 "cells": [
  {
   "cell_type": "markdown",
   "id": "a4994da4-f885-4cc3-adb3-429cd5ce5c65",
   "metadata": {},
   "source": [
    "## Iš pridėto requirements.txt failo sukurti anacondos aplinką ir žemiau esančias užduotis vykdyti šioje aplinkoje"
   ]
  },
  {
   "cell_type": "markdown",
   "id": "db204b44-f484-4853-98b6-f20d1157541c",
   "metadata": {},
   "source": [
    "# Pirma Dalis"
   ]
  },
  {
   "cell_type": "code",
   "execution_count": null,
   "id": "ee47e920-6197-4469-b288-94a22555d038",
   "metadata": {},
   "outputs": [],
   "source": [
    "# \n",
    "# !pip install -r requirements.txt\n",
    "%load_ext nb_black \n",
    "\n"
   ]
  },
  {
   "cell_type": "code",
   "execution_count": null,
   "id": "491d5408-78c2-4acf-af95-517902ec25a7",
   "metadata": {},
   "outputs": [],
   "source": [
    "import pandas as pd\n",
    "import numpy as np\n",
    "import matplotlib.pyplot as plt\n",
    "import seaborn as sns\n",
    "\n",
    "from datetime import datetime as dt\n",
    "\n",
    "# panaikina scientific skaičius atsakymuose\n",
    "pd.options.display.float_format = '{:.4f}'.format\n",
    "\n",
    "pd.set_option(\"display.max_columns\", 50)\n"
   ]
  },
  {
   "cell_type": "code",
   "execution_count": null,
   "id": "f6742d9d-2b17-4f17-828b-6599248ccae9",
   "metadata": {},
   "outputs": [],
   "source": [
    "raw_balanso_ataskaita_2020 = pd.read_csv(\n",
    "    \"https://www.registrucentras.lt/aduomenys/?byla=JAR_FA_RODIKLIAI_BLNS_2020.csv\"\n",
    ")\n",
    "raw_balanso_ataskaita_2021 = pd.read_csv(\n",
    "    \"https://www.registrucentras.lt/aduomenys/?byla=JAR_FA_RODIKLIAI_BLNS_2021.csv\"\n",
    ")"
   ]
  },
  {
   "cell_type": "code",
   "execution_count": null,
   "id": "c9874bf0-3618-4fd7-a021-36bdbb0af920",
   "metadata": {},
   "outputs": [],
   "source": [
    "raw_pelno_ataskaita_2020 = pd.read_csv(\n",
    "    \"https://www.registrucentras.lt/aduomenys/?byla=JAR_FA_RODIKLIAI_PLNA_2020.csv\"\n",
    ")\n",
    "raw_pelno_ataskaita_2021 = pd.read_csv(\n",
    "    \"https://www.registrucentras.lt/aduomenys/?byla=JAR_FA_RODIKLIAI_PLNA_2021.csv\"\n",
    ")"
   ]
  },
  {
   "cell_type": "markdown",
   "id": "71c8605c-19e6-4c56-8870-810fe11c39cc",
   "metadata": {},
   "source": [
    "## 3.1 Ką reiškia skirtingi duomenų laukai? Iš kokių atributų sudaryti duomenys?\n",
    "\n",
    "Kad geriau suprasti skirtingus duomenų tipus, jų laukus, galime vadovautis Registrų centro pateiktomis **\"Duomenų rinkinio struktūros\"** nuorodomis."
   ]
  },
  {
   "cell_type": "code",
   "execution_count": null,
   "id": "df535418-fe0e-407a-b13a-44803ab7d855",
   "metadata": {},
   "outputs": [],
   "source": [
    "raw_data_dictionary_balanso_ataskaita = pd.read_excel(\n",
    "    \"https://www.registrucentras.lt/bylos/dokumentai/duomenys/aduomenys/JAR_FA_RODIKLIAI_BLNS_STR.xlsx\",\n",
    "    header=1,\n",
    ")\n",
    "raw_data_dictionary_balanso_ataskaita"
   ]
  },
  {
   "cell_type": "code",
   "execution_count": null,
   "id": "d8806e77-95a3-4d2b-aef5-f37542c44684",
   "metadata": {},
   "outputs": [],
   "source": [
    "raw_data_dictionary_pelno_nuostoliu_ataskaita = pd.read_excel(\n",
    "    \"https://www.registrucentras.lt/bylos/dokumentai/duomenys/aduomenys/JAR_FA_RODIKLIAI_PLNA_STR.xlsx\",\n",
    "    header=1,\n",
    ")\n",
    "raw_data_dictionary_pelno_nuostoliu_ataskaita.head(20)"
   ]
  },
  {
   "cell_type": "markdown",
   "id": "66d8be85-f3ba-43f4-a7de-c6eca533d01c",
   "metadata": {},
   "source": [
    "## 3.2. Kiek reikšmių ir požymių turi kiekvienas iš dokumentų?\n"
   ]
  },
  {
   "cell_type": "code",
   "execution_count": null,
   "id": "075bb9b9-0401-4874-85a0-b51a20b4631b",
   "metadata": {},
   "outputs": [],
   "source": [
    "pd.DataFrame(\n",
    "    {\n",
    "        \"features\": [\n",
    "            len(raw_balanso_ataskaita_2020.columns),\n",
    "            len(raw_balanso_ataskaita_2021.columns),\n",
    "            len(raw_pelno_ataskaita_2020.columns),\n",
    "            len(raw_pelno_ataskaita_2021.columns),\n",
    "        ],\n",
    "        \"rows\": [\n",
    "            len(raw_balanso_ataskaita_2020),\n",
    "            len(raw_balanso_ataskaita_2021),\n",
    "            len(raw_pelno_ataskaita_2020),\n",
    "            len(raw_pelno_ataskaita_2021),\n",
    "        ],\n",
    "        \"dataset_name\": [\n",
    "            \"raw_balanso_ataskaita_2020\",\n",
    "            \"raw_balanso_ataskaita_2021\",\n",
    "            \"raw_pelno_ataskaita_2020\",\n",
    "            \"raw_pelno_ataskaita_2021\",\n",
    "        ],\n",
    "    }\n",
    ").set_index(\"dataset_name\")"
   ]
  },
  {
   "cell_type": "markdown",
   "id": "548906bc-5898-4276-82e6-7abc20b60fe3",
   "metadata": {},
   "source": [
    "### 3.2. Ats:  \n",
    "Kaip matome lentelėse, požymių skaičius atitinkančiuose dokumentuose sutampa: *Juridinių asmenų pateikti finansinės atskaitomybės dokumentai – balanso ataskaitos* turi po 18, o *Juridinių asmenų pateikti finansinės atskaitomybės dokumentai – pelno (nuostolių)* ataskaitos po 17  \n",
    "Kiekvienas iš parsisiųstų dokumentų turi skirtingą skaičių reikšmių.\n"
   ]
  },
  {
   "cell_type": "markdown",
   "id": "2ef0ffcf-829d-420b-9e62-033b8938efcc",
   "metadata": {},
   "source": [
    "## 3.3 Kokio duomenų tipo yra kiekvienas iš požymių? Ar duomenų tipai tarp atitinkamų lentelių iš 2020 ir 2021 metų sutampa?"
   ]
  },
  {
   "cell_type": "markdown",
   "id": "fadfa571-c091-43d9-a177-81fbb55600b5",
   "metadata": {},
   "source": [
    "### 3.3. ats: \n",
    "Duomenų tipai sutampa tarp 2020 ir 2021 metų dokumentų, tačiau neatitinka duomenų rinkinio struktūroje nurodytų duomenų tipų."
   ]
  },
  {
   "cell_type": "code",
   "execution_count": null,
   "id": "d45980c0-839b-42b8-8705-1b4ac5474913",
   "metadata": {},
   "outputs": [],
   "source": [
    "raw_balanso_ataskaita_2020.dtypes"
   ]
  },
  {
   "cell_type": "code",
   "execution_count": null,
   "id": "f026df54-0565-4308-963f-efbbfa19b5ad",
   "metadata": {},
   "outputs": [],
   "source": [
    "raw_balanso_ataskaita_2021.dtypes == raw_balanso_ataskaita_2020.dtypes"
   ]
  },
  {
   "cell_type": "code",
   "execution_count": null,
   "id": "1893285c-3fe4-475d-b912-c3b58583e603",
   "metadata": {},
   "outputs": [],
   "source": [
    "raw_pelno_ataskaita_2020.dtypes"
   ]
  },
  {
   "cell_type": "code",
   "execution_count": null,
   "id": "1e5883ae-7c5c-4b10-a2ea-02bf966914d3",
   "metadata": {},
   "outputs": [],
   "source": [
    "raw_pelno_ataskaita_2021.dtypes == raw_pelno_ataskaita_2020.dtypes"
   ]
  },
  {
   "cell_type": "markdown",
   "id": "46c8419a-eefb-4068-871d-5bf58e499d95",
   "metadata": {},
   "source": [
    "## 3.4. Paaiškinkite kas yra object duomenų tipas ir kuo jis skiriasi nuo string duomenų tipo."
   ]
  },
  {
   "cell_type": "markdown",
   "id": "c2d76646-db1a-4013-ac99-38497a0bc19e",
   "metadata": {},
   "source": [
    "### 3.4. Ats:\n",
    "Object duomenų tipas - tai bendrinis duomenų tipas, kuris apibūdinantis, kaip duomenys kompiuterio atmintyje yra užkoduoti. Obeject duomenų tipas yra bendrinis, kuris gali savyje laikyti duomenis, tačiau neturėti priskirtam duomenų tipui būdingų savybių. Pavyzdžiui, jei  turime požymio stulpelį \"spalva\", kurią sudaro \"mėlyna\" ir \"žalia\" rekšmės. jei požymio \"spalva\" duomenų tipas bus \"Object\" jam negalėsime pritaikyti String duomenų tipui būdingų funkcijų, kaip .str.lower(), str.upper() ir pan. Kitavertus, jei pakeisime požymio \"spalva\" duomenų tipą į String, šias funkcijas galėsime naudoti."
   ]
  },
  {
   "cell_type": "markdown",
   "id": "a741dd59-6466-47fd-9a5d-518d029d3ac8",
   "metadata": {},
   "source": [
    "## 3.5. Kuri lentelė turi daugiausiai nežinomų verčių? Kuris požymis išsiskiria nežinomų verčių skaičiumi?\n",
    "\n",
    "### Ats: Pelno nuostolių ataskaita 2021 turi daugiausiai nežinomų reikšmių. Pelno nuostolių ataskaitoje 2021 yra reikšmė turinti daugiausiai nežinomųjų : 'pelnas_pries_apmokestinima': 34755"
   ]
  },
  {
   "cell_type": "code",
   "execution_count": null,
   "id": "b4f2dbd5-0b6a-4ebb-b374-8a488ba4f831",
   "metadata": {},
   "outputs": [],
   "source": [
    "def count_na_values(dataframe: pd.DataFrame) -> int:\n",
    "    return dataframe.isna().sum().sum()"
   ]
  },
  {
   "cell_type": "code",
   "execution_count": null,
   "id": "682d596d-03d4-4c84-9112-39d44587ca5c",
   "metadata": {},
   "outputs": [],
   "source": [
    "pd.DataFrame({\n",
    "'total_na_count' : [count_na_values(raw_balanso_ataskaita_2020),\n",
    "                    count_na_values(raw_balanso_ataskaita_2021),\n",
    "                    count_na_values(raw_pelno_ataskaita_2020),\n",
    "                    count_na_values(raw_pelno_ataskaita_2021)\n",
    "                   ],\n",
    "    'dataframe' : ['raw_balanso_ataskaita_2020','raw_balanso_ataskaita_2021','raw_pelno_ataskaita_2020','raw_pelno_ataskaita_2021']\n",
    "}).set_index('dataframe').plot(kind='bar');\n"
   ]
  },
  {
   "cell_type": "code",
   "execution_count": null,
   "id": "e843fe6a-a84f-4203-81ba-987e68773a13",
   "metadata": {},
   "outputs": [],
   "source": [
    "def get_feature_with_most_na(dataframe: pd.DataFrame) -> dict:\n",
    "    return dict(dataframe.isna().sum().nlargest(1))"
   ]
  },
  {
   "cell_type": "code",
   "execution_count": null,
   "id": "501b0751-8139-4c78-9b4c-baf58bb01e5e",
   "metadata": {},
   "outputs": [],
   "source": [
    "get_feature_with_most_na(raw_balanso_ataskaita_2020)"
   ]
  },
  {
   "cell_type": "code",
   "execution_count": null,
   "id": "6b16c87e-a350-4dac-9272-7edcfc8826ea",
   "metadata": {},
   "outputs": [],
   "source": [
    "get_feature_with_most_na(raw_balanso_ataskaita_2021)"
   ]
  },
  {
   "cell_type": "code",
   "execution_count": null,
   "id": "67f598c9-a671-4083-a99a-c8e13ff2bbd8",
   "metadata": {},
   "outputs": [],
   "source": [
    "get_feature_with_most_na(raw_pelno_ataskaita_2020)"
   ]
  },
  {
   "cell_type": "code",
   "execution_count": null,
   "id": "0a9dcb47-075c-4cf3-abcb-607700265fd8",
   "metadata": {},
   "outputs": [],
   "source": [
    "get_feature_with_most_na(raw_pelno_ataskaita_2021)"
   ]
  },
  {
   "cell_type": "markdown",
   "id": "d99ae1cb-bb6c-4117-9320-ffa0d20ed4a5",
   "metadata": {},
   "source": [
    "## 3.6 Ar kažkuri lentelė turi pasikartojančių duomenų?\n",
    "### Ats: iš pirmo žvilgsnio nei viena lentelė neturi pasikartojančių duomenų eilučių."
   ]
  },
  {
   "cell_type": "code",
   "execution_count": null,
   "id": "b044b664-6e72-4a12-b494-d45a2dbd01d9",
   "metadata": {},
   "outputs": [],
   "source": [
    "raw_balanso_ataskaita_2020.duplicated().sum()"
   ]
  },
  {
   "cell_type": "code",
   "execution_count": null,
   "id": "87159eba-d8ce-4083-b3aa-21c8f066f51b",
   "metadata": {},
   "outputs": [],
   "source": [
    "raw_balanso_ataskaita_2021.duplicated().sum()"
   ]
  },
  {
   "cell_type": "code",
   "execution_count": null,
   "id": "c3caf379-3ca0-402f-8a93-133c452aef6c",
   "metadata": {},
   "outputs": [],
   "source": [
    "raw_pelno_ataskaita_2020.duplicated().sum()"
   ]
  },
  {
   "cell_type": "code",
   "execution_count": null,
   "id": "c54a1596-5ffc-459d-b820-f471db9f251e",
   "metadata": {},
   "outputs": [],
   "source": [
    "raw_pelno_ataskaita_2021.duplicated().sum()"
   ]
  },
  {
   "cell_type": "markdown",
   "id": "4bbcc91a-aa55-458d-a685-b69002fc04ac",
   "metadata": {},
   "source": [
    "## 3.6.1. Kokia stulpelių aibė vienareikšmiškai identifikuoja kiekvienos lentelės eilutę?\n",
    "### ATS. vienas požymių stulpelis unikaliai neidentifikuoja eilutės reikšmes. tai galime pastebėti skaičiuojant santikį unikalių \" obj_kodas \"  skaičiaus reikšmių padalintų iš viso duomenų masyvo eilučių skaičiaus. Detaliau pasižiūrėję į duomenis pastebime, jog vienas objekto kodas (obj_kodas) gali turėti kelis skirtingus laikotarpius (laikotarpis_nuo ir laikotarpis_iki). Norint gauti unikalią aibę, galime sujungti \"obj_kodas\" ir \"laikotarpis_nuo\" reikšmes."
   ]
  },
  {
   "cell_type": "code",
   "execution_count": null,
   "id": "6872446b-8d99-4b7d-a177-d4a333e1a0bc",
   "metadata": {},
   "outputs": [],
   "source": [
    "raw_balanso_ataskaita_2020.head(3)"
   ]
  },
  {
   "cell_type": "code",
   "execution_count": null,
   "id": "5c33af2a-1abb-4841-885a-0c3edb4078c9",
   "metadata": {},
   "outputs": [],
   "source": [
    "len(raw_balanso_ataskaita_2020.obj_kodas.unique()) / len(raw_balanso_ataskaita_2020)"
   ]
  },
  {
   "cell_type": "code",
   "execution_count": null,
   "id": "2133a51a-d6c2-47db-98a1-e087d1077da9",
   "metadata": {},
   "outputs": [],
   "source": [
    "len(raw_balanso_ataskaita_2021.obj_kodas.unique()) / len(raw_balanso_ataskaita_2021)"
   ]
  },
  {
   "cell_type": "code",
   "execution_count": null,
   "id": "3da2395e-ab05-4c81-a45c-0d319a86a788",
   "metadata": {},
   "outputs": [],
   "source": [
    "len(raw_pelno_ataskaita_2021.obj_kodas.unique()) / len(raw_pelno_ataskaita_2021)"
   ]
  },
  {
   "cell_type": "code",
   "execution_count": null,
   "id": "1d647a70-a693-4b65-add3-d9fb2a7b606e",
   "metadata": {},
   "outputs": [],
   "source": [
    "len(raw_pelno_ataskaita_2020.obj_kodas.unique()) / len(raw_pelno_ataskaita_2020)"
   ]
  },
  {
   "cell_type": "code",
   "execution_count": null,
   "id": "bb57a4e4-84c0-48fc-abb5-22faecf862a9",
   "metadata": {},
   "outputs": [],
   "source": [
    "raw_balanso_ataskaita_2020.obj_kodas.value_counts()"
   ]
  },
  {
   "cell_type": "code",
   "execution_count": null,
   "id": "678f8f22-20bb-4a63-99d7-f8ea185874d4",
   "metadata": {},
   "outputs": [],
   "source": [
    "raw_balanso_ataskaita_2020[raw_balanso_ataskaita_2020[\"obj_kodas\"] == 168970870]"
   ]
  },
  {
   "cell_type": "code",
   "execution_count": null,
   "id": "57715dfb-403f-4d7a-aea7-9f0ce189d157",
   "metadata": {},
   "outputs": [],
   "source": [
    "test_2 = raw_balanso_ataskaita_2020[\n",
    "    raw_balanso_ataskaita_2020[\"obj_kodas\"] == 145496790\n",
    "]\n",
    "len(test_2) == len(test_2.laikotarpis_nuo.unique())\n",
    "test_2"
   ]
  },
  {
   "cell_type": "code",
   "execution_count": null,
   "id": "f99789a0-c54b-4fa6-808d-94335efb648c",
   "metadata": {},
   "outputs": [],
   "source": [
    "test_3 = raw_balanso_ataskaita_2020[\n",
    "    raw_balanso_ataskaita_2020[\"obj_kodas\"] == 159884874\n",
    "]\n",
    "len(test_3) == len(test_3.laikotarpis_nuo.unique())"
   ]
  },
  {
   "cell_type": "markdown",
   "id": "cac86449-5137-40b8-8988-ebbf5ab9b3b6",
   "metadata": {},
   "source": [
    "#### Unikalių aibių sukurimas ir patikrinimas"
   ]
  },
  {
   "cell_type": "code",
   "execution_count": null,
   "id": "559739a8-21cb-4a8a-93af-4f4d90be5587",
   "metadata": {},
   "outputs": [],
   "source": [
    "uniq_balanso_ataskaita_2020 = raw_balanso_ataskaita_2020.copy()\n",
    "uniq_balanso_ataskaita_2020[\"uniq_id\"] = (\n",
    "    raw_balanso_ataskaita_2020[\"laikotarpis_nuo\"].astype(str)\n",
    "    + \"_\"\n",
    "    + raw_balanso_ataskaita_2020[\"obj_kodas\"].astype(str)\n",
    ")\n",
    "\n",
    "len(uniq_balanso_ataskaita_2020.uniq_id) == len(raw_balanso_ataskaita_2020)"
   ]
  },
  {
   "cell_type": "code",
   "execution_count": null,
   "id": "54119eff-85df-4da6-a584-34569c8eb39f",
   "metadata": {},
   "outputs": [],
   "source": [
    "uniq_balanso_ataskaita_2021 = raw_balanso_ataskaita_2021.copy()\n",
    "uniq_balanso_ataskaita_2021[\"uniq_id\"] = (\n",
    "    raw_balanso_ataskaita_2021[\"laikotarpis_nuo\"].astype(str)\n",
    "    + \"_\"\n",
    "    + raw_balanso_ataskaita_2021[\"obj_kodas\"].astype(str)\n",
    ")\n",
    "\n",
    "len(uniq_balanso_ataskaita_2021.uniq_id) == len(raw_balanso_ataskaita_2021)"
   ]
  },
  {
   "cell_type": "code",
   "execution_count": null,
   "id": "3a1f6822-8279-4dfb-9b5d-e8f8e9ee610a",
   "metadata": {},
   "outputs": [],
   "source": [
    "uniq_pelno_ataskaita_2020 = raw_pelno_ataskaita_2020.copy()\n",
    "uniq_pelno_ataskaita_2020[\"uniq_id\"] = (\n",
    "    uniq_pelno_ataskaita_2020[\"laikotarpis_nuo\"].astype(str)\n",
    "    + \"_\"\n",
    "    + uniq_pelno_ataskaita_2020[\"obj_kodas\"].astype(str)\n",
    ")\n",
    "\n",
    "len(uniq_pelno_ataskaita_2020.uniq_id) == len(raw_pelno_ataskaita_2020)"
   ]
  },
  {
   "cell_type": "code",
   "execution_count": null,
   "id": "23483766-ef30-4750-be1c-5c08497060dc",
   "metadata": {},
   "outputs": [],
   "source": [
    "uniq_pelno_ataskaita_2021 = raw_pelno_ataskaita_2021.copy()\n",
    "uniq_pelno_ataskaita_2021[\"uniq_id\"] = (\n",
    "    uniq_pelno_ataskaita_2021[\"laikotarpis_nuo\"].astype(str)\n",
    "    + \"_\"\n",
    "    + uniq_pelno_ataskaita_2021[\"obj_kodas\"].astype(str)\n",
    ")\n",
    "\n",
    "len(uniq_pelno_ataskaita_2021.uniq_id) == len(raw_pelno_ataskaita_2021)"
   ]
  },
  {
   "cell_type": "markdown",
   "id": "d55dc700-7651-4bde-8d71-f176a48563e8",
   "metadata": {},
   "source": [
    "## Kad būtų patogiau dirbti, sujungsiu 2021 ir 2022 metų duomenų masyvus. kad būtų patogiau identifikuoti, sukursiu papildomą požimį, nurodantį duomenų masyvo identifikavimą."
   ]
  },
  {
   "cell_type": "code",
   "execution_count": null,
   "id": "dc62b837-82eb-4ef4-86be-2a54f31a5682",
   "metadata": {},
   "outputs": [],
   "source": [
    "uniq_balanso_ataskaita_2020[\"df_year\"], uniq_balanso_ataskaita_2021[\"df_year\"] = (\n",
    "    2020,\n",
    "    2021,\n",
    ")"
   ]
  },
  {
   "cell_type": "code",
   "execution_count": null,
   "id": "82e4353a-f7d3-46af-8b17-24d957d3c7fa",
   "metadata": {},
   "outputs": [],
   "source": [
    "balanso_ataskaita = (\n",
    "    pd.concat([uniq_balanso_ataskaita_2020, uniq_balanso_ataskaita_2021])\n",
    "    .reset_index()\n",
    "    .drop(\"index\", axis=1)\n",
    ")"
   ]
  },
  {
   "cell_type": "code",
   "execution_count": null,
   "id": "e9f26d4b-99e1-4312-9ed5-be8b99df4d69",
   "metadata": {},
   "outputs": [],
   "source": [
    "len(balanso_ataskaita) == len(uniq_balanso_ataskaita_2020) + len(\n",
    "    uniq_balanso_ataskaita_2021\n",
    ")"
   ]
  },
  {
   "cell_type": "code",
   "execution_count": null,
   "id": "07a393ec-ba7c-477e-b5a5-d11df8598f2d",
   "metadata": {},
   "outputs": [],
   "source": [
    "uniq_pelno_ataskaita_2020[\"df_year\"], uniq_pelno_ataskaita_2021[\"df_year\"] = 2020, 2021"
   ]
  },
  {
   "cell_type": "code",
   "execution_count": null,
   "id": "8fed39d4-fcaa-4553-94d7-568d1a4062e0",
   "metadata": {},
   "outputs": [],
   "source": [
    "pelno_ataskaita = pd.concat([uniq_pelno_ataskaita_2020,uniq_pelno_ataskaita_2021]).reset_index().drop('index',axis=1)\n"
   ]
  },
  {
   "cell_type": "code",
   "execution_count": null,
   "id": "90882117-7932-48e2-af8b-b9600ffc1ee2",
   "metadata": {},
   "outputs": [],
   "source": [
    "len(pelno_ataskaita) == len(uniq_pelno_ataskaita_2020) + len(uniq_pelno_ataskaita_2021)"
   ]
  },
  {
   "cell_type": "markdown",
   "id": "df5e33cb-110c-49e2-ad45-8bffd6109587",
   "metadata": {},
   "source": [
    "# Antra Dalis"
   ]
  },
  {
   "cell_type": "markdown",
   "id": "9846a466-c337-4d5e-bcbd-f50918bb0d0b",
   "metadata": {},
   "source": [
    "## 4. Keletas juridinių asmenų pavadinimų yra tiesiogiai susiję su “Thermo Fisher” bendrove. Raskite pilnus šių bendrovių pavadinimus."
   ]
  },
  {
   "cell_type": "code",
   "execution_count": null,
   "id": "26cc3f77-3dd2-4940-bb6c-77cc8fdba1fe",
   "metadata": {},
   "outputs": [],
   "source": [
    "# kad būtų galima naudoti string native funkcijas, pakeičiu duomenų tipą į \"String\"\n",
    "balanso_ataskaita[\"obj_pav\"] = balanso_ataskaita[\"obj_pav\"].astype(str)"
   ]
  },
  {
   "cell_type": "code",
   "execution_count": null,
   "id": "9633aaf2-2f45-4a86-96eb-d6f0315e6051",
   "metadata": {},
   "outputs": [],
   "source": [
    "mask = balanso_ataskaita[\"obj_pav\"].str.contains(\"Thermo Fisher\")\n",
    "balanso_ataskaita[mask][\"obj_pav\"].to_list()"
   ]
  },
  {
   "cell_type": "markdown",
   "id": "11722b9a-07e0-438f-9934-c597c379a7ce",
   "metadata": {},
   "source": [
    "### 5. Apsimeskime, kad atributas “form_pav” neegzistuoja. Iš likusių laukelių gaukite visas UAB ir MB bendroves. Palyginkite rekonstrukcijos tikslumą su “form_pav” vertėmis - kiek procentų verčių pavyko atkurti skirtingose duomenyse?"
   ]
  },
  {
   "cell_type": "code",
   "execution_count": null,
   "id": "965a2eb2-4bcc-4d8e-b27f-cfa732fcbef9",
   "metadata": {},
   "outputs": [],
   "source": [
    "def get_mb_uab_s(series: pd.Series):\n",
    "    split_obj_name = series.lower().split(\" \")\n",
    "    if \"mb\" in split_obj_name:\n",
    "        return \"Mažoji bendrija\"\n",
    "    elif (\"mažoji\" and \"bendrija\") in split_obj_name:\n",
    "        return \"Mažoji bendrija\"\n",
    "    elif \"uab\" in split_obj_name:\n",
    "        return \"Uždaroji akcinė bendrovė\"\n",
    "    elif \"uždaroji\" in split_obj_name and \"bendrovė\" in split_obj_name:\n",
    "        return \"Uždaroji akcinė bendrovė\"\n",
    "    return \"not_in_scope\""
   ]
  },
  {
   "cell_type": "code",
   "execution_count": null,
   "id": "1b2c4436-b2cc-426f-a1fd-cfc83ca1ac97",
   "metadata": {},
   "outputs": [],
   "source": [
    "balanso_ataskaita[\"inf_type\"] = balanso_ataskaita[\"obj_pav\"].apply(\n",
    "    lambda x: get_mb_uab_s(x)\n",
    ")"
   ]
  },
  {
   "cell_type": "code",
   "execution_count": null,
   "id": "35946184-9272-4c1d-a5f2-1ae406e5f9b2",
   "metadata": {},
   "outputs": [],
   "source": [
    "balanso_ataskaita[\"inf_type\"].value_counts()"
   ]
  },
  {
   "cell_type": "code",
   "execution_count": null,
   "id": "7cfbf9d5-83b4-49e1-8274-406e719ffcdb",
   "metadata": {},
   "outputs": [],
   "source": [
    "result = (\n",
    "    len(balanso_ataskaita[balanso_ataskaita[\"inf_type\"] == \"Mažoji bendrija\"])\n",
    "    / len(balanso_ataskaita[balanso_ataskaita[\"form_pav\"] == \"Mažoji bendrija\"])\n",
    "    * 100\n",
    ")\n",
    "\n",
    "print(f\" Pavyko atkurti {round(result,2)}% Mažoji bendrija verčių\")"
   ]
  },
  {
   "cell_type": "code",
   "execution_count": null,
   "id": "b46a8d9c-419a-4c5f-8386-3503a204b5de",
   "metadata": {},
   "outputs": [],
   "source": [
    "result = (\n",
    "    len(balanso_ataskaita[balanso_ataskaita[\"inf_type\"] == \"Uždaroji akcinė bendrovė\"])\n",
    "    / len(\n",
    "        balanso_ataskaita[balanso_ataskaita[\"form_pav\"] == \"Uždaroji akcinė bendrovė\"]\n",
    "    )\n",
    "    * 100\n",
    ")\n",
    "\n",
    "print(f\" Pavyko atkurti {round(result,2)}% Uždaroji akcinė bendrovė verčių\")"
   ]
  },
  {
   "cell_type": "markdown",
   "id": "44a0b0bd-3717-4d15-b853-253709a3b84a",
   "metadata": {},
   "source": [
    "Nepavyko gauti 100 procentų dėl pritaikytos logikos, ieškant 'mb' reikšmes, gaunamas skaičius yra didesnis, todėl, kad įtraukiami list'o elementai turintys 'mb' viduje, kaip pavyzdys galėtų būti žodis staMBbus.\n",
    "\n",
    "tačiau kadangi paklaida yra maža, pasilieku galimybę pataisyti šį sprendimą, jei liks laiko ateityje"
   ]
  },
  {
   "cell_type": "markdown",
   "id": "33325d7a-737e-45a7-88af-d1530ee616ce",
   "metadata": {},
   "source": [
    "## 6. Apskaičiuoti vidutines reikšmes “pelnas_pries_apmokestinima” ir “nuosavas_kapitalas” laukų kiekvienai juridinio asmens formai (Uždaroji akcinė bendrovė, Mažoji bendrija, etc.) už visą laikotarpį (2020 ir 2021 metai kartu)."
   ]
  },
  {
   "cell_type": "code",
   "execution_count": null,
   "id": "ba48a25f-5a43-468d-9a61-e487f8977ed3",
   "metadata": {},
   "outputs": [],
   "source": [
    "pelno_ataskaita.groupby(\"form_pav\").mean()[\"pelnas_pries_apmokestinima\"].sort_values(\n",
    "    ascending=False\n",
    ")"
   ]
  },
  {
   "cell_type": "code",
   "execution_count": null,
   "id": "87d1b542-0ec1-4b0b-9572-1fa425f52678",
   "metadata": {},
   "outputs": [],
   "source": [
    "balanso_ataskaita.groupby(\"form_pav\").mean()[\"nuosavas_kapitalas\"].sort_values(\n",
    "    ascending=False\n",
    ")"
   ]
  },
  {
   "cell_type": "markdown",
   "id": "9fe510db-4511-4424-973c-821511fa6788",
   "metadata": {},
   "source": [
    "## 7. Atrinkti unikalias UAB ir MB įmones, kurių “nuosavas_kapitalas” buvo didesnis negu visų UAB ir MB įmonių nuosavo kapitalo mediana už visą laitotarpį (2020 ir 2021 metai kartu)"
   ]
  },
  {
   "cell_type": "code",
   "execution_count": null,
   "id": "de3fe181-b8c0-4862-b747-932384a25811",
   "metadata": {},
   "outputs": [],
   "source": [
    "# susikuriamas naujas dataset'as su subset'u, kuri sudaro tik UAB IR MB\n",
    "sample_df = balanso_ataskaita[\n",
    "    (balanso_ataskaita[\"form_pav\"] == \"Uždaroji akcinė bendrovė\")\n",
    "    | (balanso_ataskaita[\"form_pav\"] == \"Mažoji bendrija\")\n",
    "]\n",
    "# surandama UAB ir MB mediana\n",
    "nuosavo_kapitalo_mediana = sample_df[\"nuosavas_kapitalas\"].median()"
   ]
  },
  {
   "cell_type": "code",
   "execution_count": null,
   "id": "c9cf220a-4624-41d9-a7f9-75c05fb96b0d",
   "metadata": {},
   "outputs": [],
   "source": [
    "nuosavo_kapitalo_mediana"
   ]
  },
  {
   "cell_type": "code",
   "execution_count": null,
   "id": "87ac1036-73c8-4687-8e61-29d9bed17b55",
   "metadata": {},
   "outputs": [],
   "source": [
    "mask = sample_df[\"nuosavas_kapitalas\"] > nuosavo_kapitalo_mediana\n",
    "\n",
    "unique_company_list = sample_df[mask][\"obj_pav\"].unique().tolist()\n",
    "\n",
    "len(unique_company_list)"
   ]
  },
  {
   "cell_type": "code",
   "execution_count": null,
   "id": "01271afc-8531-42a6-b1d1-9f3170030817",
   "metadata": {},
   "outputs": [],
   "source": [
    "# atkomentavę ir paleidę žemiau esančią kodo eilutę, gausite sąrašą visų įmonių\n",
    "\n",
    "# unique_company_list"
   ]
  },
  {
   "cell_type": "markdown",
   "id": "1e61fc53-1315-48fb-ae3c-189f632f6edd",
   "metadata": {},
   "source": [
    "## 8. Įvertinkite kurios įmonės išsiskiria ypač didele “nuosavas_kapitalas” verte (patenka į 99th percentilę). Patikrinkite įmonių patenkančių į TOP-10 vertes rekvizitai.vz.lt svetainėje. Ranka įrašomi duomenys sukuria klaidos galimybę. Ar yra bendrovė, kurios “nuosavas_kapitalas” jums kelia įtarimų?"
   ]
  },
  {
   "cell_type": "code",
   "execution_count": null,
   "id": "c13656ef-1fbf-4c1f-8a39-e310ebb075bc",
   "metadata": {},
   "outputs": [],
   "source": [
    "# skaičiuojant percentilę, panaikinsiu nežinomas reikšmes.\n",
    "\n",
    "temp_arr = balanso_ataskaita[\"nuosavas_kapitalas\"].dropna()"
   ]
  },
  {
   "cell_type": "code",
   "execution_count": null,
   "id": "95f05036-5800-40eb-a487-bb1cf516f9b6",
   "metadata": {},
   "outputs": [],
   "source": [
    "perc_99 = np.percentile(temp_arr, 99)\n",
    "perc_99"
   ]
  },
  {
   "cell_type": "code",
   "execution_count": null,
   "id": "40441c37-213a-4885-b354-f5a9572307e8",
   "metadata": {},
   "outputs": [],
   "source": [
    "mask = (\n",
    "    balanso_ataskaita.groupby([\"obj_pav\", \"df_year\"]).mean()[\"nuosavas_kapitalas\"]\n",
    "    > perc_99\n",
    ")\n",
    "\n",
    "balanso_ataskaita.groupby([\"obj_pav\", \"df_year\"]).mean()[\"nuosavas_kapitalas\"][\n",
    "    mask\n",
    "].sort_values(ascending=False).head(10)"
   ]
  },
  {
   "cell_type": "markdown",
   "id": "4cb32715-7daa-4ad3-99a4-730b5789a333",
   "metadata": {},
   "source": [
    "1. Thermo Fisher Scientific Vector Holdings 2020 metais -> sutampa\n",
    "2. UAB \"Thermo Fisher Scientific Vector Senior Holdings I\" 2020 metais -> sutampa\n",
    "3. UAB \"Thermo Fisher Scientific Vector Senior Holdings II\"  2020 metais -> sutampa\n",
    "4. Valstybės įmonė Lietuvos automobilių kelių direkcija 2020 metais -> sutampa\n",
    "5. Uždaroji akcinė bendrovė \"Vilniaus prekyba\" 2020 metai -> sutampa\n",
    "6. AB \"Ignitis grupė\" 2020 metai -> sutampa\n",
    "7. Uždaroji akcinė bendrovė \"Vilniaus prekyba\" 2019 metai -> sutampa\n",
    "8. MAXIMA GRUPĖ UAB 2020 metai -> sutampa\n",
    "9. MAXIMA GRUPĖ UAB 2019 metai -> sutampa\n",
    "10. UAB \"Thermo Fisher Scientific Vector Senior Holdings I\" 2019 metai -> sutampa  \n",
    "  \n",
    "Visos top 10 įmonių nuosavas kapitalas sutampa su nuosavu kapitalu, nurodytu rekvizitai.lt. būtų itin keista, jei būtų kitaip. :)\n"
   ]
  },
  {
   "cell_type": "markdown",
   "id": "f87d2c43-0339-4e1e-8b72-731bea158406",
   "metadata": {},
   "source": [
    "## 9. Vizualiai atvaizduoti juridinių asmenų formos pasiskirstymą per visą laikotarpį (2020 ir 2021 metais kartu). Vizualizacijos turi sutapti su pavaizduota dešinėje"
   ]
  },
  {
   "cell_type": "code",
   "execution_count": null,
   "id": "cff12d94-4960-4309-95dc-2a66beeae3ed",
   "metadata": {},
   "outputs": [],
   "source": [
    "kiekis = (\n",
    "    balanso_ataskaita.groupby([\"form_pav\", \"df_year\"])\n",
    "    .count()[\"obj_kodas\"]\n",
    "    .reset_index()\n",
    ")\n",
    "kiekis"
   ]
  },
  {
   "cell_type": "code",
   "execution_count": null,
   "id": "9f6208ea-d63e-4efe-ac28-5fca88681586",
   "metadata": {},
   "outputs": [],
   "source": [
    "fig = plt.figure(figsize=(10, 5))\n",
    "\n",
    "sns.barplot(data=kiekis, x=\"form_pav\", y=\"obj_kodas\", hue=\"df_year\")"
   ]
  },
  {
   "cell_type": "markdown",
   "id": "64806838-3b7f-4665-9af1-f6b12ae99e13",
   "metadata": {},
   "source": [
    "## 10. Kurį mėnesį buvo įregistruota daugiausiai juridinių asmenų 2020 ir 2021 metais? Atvaizduokite stulpelinę diagramą."
   ]
  },
  {
   "cell_type": "code",
   "execution_count": null,
   "id": "12d320d4-e06f-4cc2-9b24-7e0318286f8c",
   "metadata": {},
   "outputs": [],
   "source": [
    "# pakeičiu duomenų tipą į datetime\n",
    "balanso_ataskaita[\"reg_date\"] = pd.to_datetime(balanso_ataskaita[\"reg_date\"])"
   ]
  },
  {
   "cell_type": "code",
   "execution_count": null,
   "id": "cd7ba234-dd69-476b-908a-ad6baf2f4030",
   "metadata": {},
   "outputs": [],
   "source": [
    "# susikuriu nauja stulpeli, pagal kuri butu galima agreguoti duomenis\n",
    "balanso_ataskaita[\"reg_year_month\"] = balanso_ataskaita[\"reg_date\"].dt.strftime(\"%Y-%m\")"
   ]
  },
  {
   "cell_type": "code",
   "execution_count": null,
   "id": "30ddb5ac-448c-4b5a-b238-ac19713c6ab4",
   "metadata": {},
   "outputs": [],
   "source": [
    "\n",
    "grpd_data =  balanso_ataskaita.groupby(['reg_year_month']).count()['form_pav'].reset_index()\n"
   ]
  },
  {
   "cell_type": "code",
   "execution_count": null,
   "id": "47203004-212c-46dd-a070-b47961b1dc41",
   "metadata": {},
   "outputs": [],
   "source": [
    "grpd_data"
   ]
  },
  {
   "cell_type": "code",
   "execution_count": null,
   "id": "fad027be-0207-43fb-a786-5abc92b931f9",
   "metadata": {},
   "outputs": [],
   "source": [
    "plot = sns.barplot(grpd_data, x='reg_year_month', y='form_pav')\n",
    "plt.title('Įmonių skaičius pamėnesiui įregistruotų 2020 ir 2021 metais')\n",
    "plot.set(xlabel=None, ylabel='Skaičius')\n",
    "plt.xticks(rotation = 45);\n"
   ]
  },
  {
   "cell_type": "markdown",
   "id": "424630f6-6a81-4d86-8908-10a9cb15cdcb",
   "metadata": {},
   "source": [
    "## 11. Vizualiai atvaizduoti juridinių asmenų statuso pasiskirstymą kiekvienais metais"
   ]
  },
  {
   "cell_type": "code",
   "execution_count": null,
   "id": "092a5188-e0e8-4317-9bfb-ea7409b58099",
   "metadata": {},
   "outputs": [],
   "source": [
    "balanso_ataskaita.groupby([\"stat_statusas\", \"df_year\"]).count()[\"stat_pav\"]"
   ]
  },
  {
   "cell_type": "code",
   "execution_count": null,
   "id": "9be56f0e-3e98-4df3-81fe-8e349a9910df",
   "metadata": {},
   "outputs": [],
   "source": [
    "hist_df = (\n",
    "    balanso_ataskaita.groupby([\"stat_statusas\", \"df_year\"])\n",
    "    .count()[\"stat_pav\"]\n",
    "    .reset_index(name=\"count\")\n",
    ")\n",
    "hist_df"
   ]
  },
  {
   "cell_type": "code",
   "execution_count": null,
   "id": "5ef07936-0960-4827-b521-b0eaeb6bcbb7",
   "metadata": {},
   "outputs": [],
   "source": [
    "hist = sns.histplot(data=hist_df, x=\"stat_statusas\", hue='df_year', element='step');\n",
    "hist.set(title='Juridinių asmenų pasiskirstymas 2020 ir 2021 metais');\n",
    "\n"
   ]
  },
  {
   "cell_type": "markdown",
   "id": "4944ef24-6976-452d-9ed3-701f233fc747",
   "metadata": {},
   "source": [
    "Iš histogramos matome, jog abejais metais pasiskirstymas yra itin panašus."
   ]
  },
  {
   "cell_type": "markdown",
   "id": "abf3237c-01ba-468d-b2e8-36ff3b9b1bc4",
   "metadata": {},
   "source": [
    "## 12.  Kiekvienai įmonei apskaičiuoti tendenciją. Jei “grynasis_pelnas” + “nuosavas_kapitalas” 2021 metais buvo didesnis už 2020 metais deklaruotą, tai tendencija “teigiama”, jei ne - “neigiama”. Atvaizduoti tendencijos duomenis stulpelinėje diagramoje"
   ]
  },
  {
   "cell_type": "code",
   "execution_count": null,
   "id": "d60c2a36-4748-447f-ac61-aa7203beb5ac",
   "metadata": {},
   "outputs": [],
   "source": [
    "merged_df = balanso_ataskaita.merge(pelno_ataskaita, on=\"uniq_id\", how=\"left\")"
   ]
  },
  {
   "cell_type": "code",
   "execution_count": null,
   "id": "98e0a1e0-b2c9-4dfc-8836-c9f176057973",
   "metadata": {},
   "outputs": [],
   "source": [
    "# grupuojant gaunamas nuosavo kapitalo vidurkis kiekvienai unikaliai įmonei kiekvienais metais (taip panaikinami įmonių pavadinimų pasikartojimai, turintys skirtinas nuosavo_kapitalo reikšmes)\n",
    "\n",
    "balanso_ataskaita_nuosavas_kapitalas_vid = (\n",
    "    balanso_ataskaita.groupby([\"obj_pav\", \"df_year\"])\n",
    "    .mean()[\"nuosavas_kapitalas\"]\n",
    "    .reset_index(name=\"nuosavo_kapitalo_vidurkis\")\n",
    ")\n",
    "balanso_ataskaita_nuosavas_kapitalas_vid"
   ]
  },
  {
   "cell_type": "code",
   "execution_count": null,
   "id": "1bfc772b-9afe-46ac-9e41-bc7880033718",
   "metadata": {},
   "outputs": [],
   "source": [
    "pelno_ataskaita_grynasis_pelnas_vid = (\n",
    "    pelno_ataskaita.groupby([\"obj_pav\", \"df_year\"])\n",
    "    .mean()[\"grynasis_pelnas\"]\n",
    "    .reset_index(name=\"grynojo_pelno_vidurkis\")\n",
    ")\n",
    "pelno_ataskaita_grynasis_pelnas_vid"
   ]
  },
  {
   "cell_type": "code",
   "execution_count": null,
   "id": "92c1a88f-9d07-47c7-8104-71b0793b1a0e",
   "metadata": {},
   "outputs": [],
   "source": [
    "# inner join palieka tik tas įmones, kurios yra minimos abiejuose duomenų masyvuose.\n",
    "sujungtos_ataskaitos = balanso_ataskaita_nuosavas_kapitalas_vid.merge(\n",
    "    pelno_ataskaita_grynasis_pelnas_vid, on=[\"obj_pav\", \"df_year\"], how=\"inner\"\n",
    ")\n",
    "\n",
    "sujungtos_ataskaitos.shape"
   ]
  },
  {
   "cell_type": "code",
   "execution_count": null,
   "id": "1b7a5f89-4764-4e4f-913d-1bc8cc8cbcf5",
   "metadata": {},
   "outputs": [],
   "source": [
    "sujungtos_ataskaitos[\"kapitalo_pelno_suma\"] = (\n",
    "    sujungtos_ataskaitos[\"nuosavo_kapitalo_vidurkis\"]\n",
    "    + sujungtos_ataskaitos[\"grynojo_pelno_vidurkis\"]\n",
    ")"
   ]
  },
  {
   "cell_type": "code",
   "execution_count": null,
   "id": "0df41b57-1b4c-493b-b5e1-de9700d41c52",
   "metadata": {},
   "outputs": [],
   "source": [
    "def get_tendency(dataframe):\n",
    "    imoniu_pav = dataframe.obj_pav.unique().tolist()\n",
    "    dict_ = {}\n",
    "    for name in imoniu_pav:\n",
    "        # print(name)\n",
    "        try:\n",
    "            temp_df = dataframe[dataframe['obj_pav'] == name ].reset_index()\n",
    "            if (temp_df['kapitalo_pelno_suma'][1] - temp_df['kapitalo_pelno_suma'][0] ) > 0:\n",
    "                result = ('Teigiama tendencija')\n",
    "            if  (temp_df['kapitalo_pelno_suma'][1] - temp_df['kapitalo_pelno_suma'][0] ) < 0: \n",
    "                result = ('Neigiama tendencija')\n",
    "            if (temp_df['kapitalo_pelno_suma'][1] - temp_df['kapitalo_pelno_suma'][0] ) == 0:\n",
    "                result =('Pokyčio nebuvo')\n",
    "               \n",
    "        except:\n",
    "            result = ('Truksta duomenu')\n",
    "        dict_.update({name:result})\n",
    "    return dict_\n",
    "      \n",
    "    \n"
   ]
  },
  {
   "cell_type": "code",
   "execution_count": null,
   "id": "ad4c2d6b-3953-4809-8f82-7b24fa2b8428",
   "metadata": {
    "tags": []
   },
   "outputs": [],
   "source": [
    "# tai tikrai nėra pats optimaliausias sprendimas (užtruka ~15 minučių kol sukuriamas rinkinys), tačiau veikia kuo puikiausiai :)\n",
    "\n",
    "# del sios priezasties, uzkomentuoju apacioje esanti koda, tačiau išsaugau gautą duomenų rinkinį su priskirtu nauju požymiu.\n",
    "\n",
    "# dict_for_mapping = get_tendency(sujungtos_ataskaitos)\n",
    "# sujungtos_ataskaitos[\"tendencija\"] = sujungtos_ataskaitos[\"obj_pav\"].map(dict_for_mapping)\n",
    "# # sujungtos_ataskaitos.to_csv('bendras_duomenu_rinkinys_su_tendencija.csv')"
   ]
  },
  {
   "cell_type": "code",
   "execution_count": null,
   "id": "7ed0958d-6dc6-4efb-b322-2bce61f5e32d",
   "metadata": {},
   "outputs": [],
   "source": [
    "# sukurtame rinkinyje yra 106702 unikalios reikšmės, kurių skaičius sutampa su unikaliais įmonių pavadinimais pagrindiniame duomenų rinkinyje.\n",
    "\n",
    "# len(dict_for_mapping) == sujungtos_ataskaitos['obj_pav'].unique().size"
   ]
  },
  {
   "attachments": {
    "576a7afa-6e00-4e7c-9e86-7a99cce3a787.png": {
     "image/png": "[encoded data removed]"
    }
   },
   "cell_type": "markdown",
   "id": "5674566b-dfd4-400e-8c4a-c3479a5a2ea1",
   "metadata": {},
   "source": [
    "![image.png](attachment:576a7afa-6e00-4e7c-9e86-7a99cce3a787.png)"
   ]
  },
  {
   "cell_type": "code",
   "execution_count": null,
   "id": "1d8f3c9b-9169-40b6-be5b-110b8e688740",
   "metadata": {},
   "outputs": [],
   "source": [
    "sujungtos_ataskaitos = pd.read_csv(\n",
    "    \"bendras_duomenu_rinkinys_su_tendencija.csv\", index_col=False\n",
    ").drop(\"Unnamed: 0\", axis=1)"
   ]
  },
  {
   "cell_type": "code",
   "execution_count": null,
   "id": "54cff8f2-ed61-4ae9-8d1a-25afff98796e",
   "metadata": {},
   "outputs": [],
   "source": [
    "sujungtos_ataskaitos[sujungtos_ataskaitos[\"df_year\"] == 2021].groupby(\n",
    "    \"tendencija\"\n",
    ").count()[\"obj_pav\"].plot(kind=\"bar\")\n",
    "plt.title(\"Grynojo Pelno ir Nuosavo Kapitalo pokytis `20 ir `21 metais \\n\")\n",
    "plt.xlabel(\"\")\n",
    "plt.ylabel(\"Skaičius\")\n",
    "plt.xticks(rotation=45)"
   ]
  },
  {
   "cell_type": "markdown",
   "id": "88a93acd-89c3-449d-9c97-206cbcd1a0d9",
   "metadata": {},
   "source": [
    "## 13. Surasti UAB ir MB įmones, kurios 2020 vykdė veiklą, o 2021 - bankrutavo. Bankrutavusių įmonių statusai: “Bankrutavęs”, “Bankrutuojantis”, “Išregistruotas”, “Inicijuojamas likvidavimas”, “Likviduojamas”, “Likviduojamas dėl bankroto”. Toliau veiklą vykdanti įmonė pažymėta \"Teisinis stat neįregistruotas\" statusu. Kokia bankrutavusių įmonių “nuosavas_kapitalas”suma 2021 metais? Kokia bankrutavusių įmonių “grynasis_pelnas” suma 2021 metais? Palyginti šias sumas su veikiančių įmonių atitinkamomis sumomis.\n",
    "\n",
    "### Ats 1. Surasti UAB ir MB įmones, kurios 2020 vykdė veiklą, o 2021 - bankrutavo.\n",
    "    'UAB \"Kesko Senukai Digital\"',\n",
    "    'Uždaroji akcinė bendrovė \"Agrovet\"',\n",
    "    'Uždaroji akcinė bendrovė \"Saulenė\"',\n",
    "     'Uždaroji akcinė bendrovė \"Pušis\"'"
   ]
  },
  {
   "cell_type": "code",
   "execution_count": null,
   "id": "9f4a18c3-664a-4e96-8763-49feab53bb64",
   "metadata": {},
   "outputs": [],
   "source": [
    "# susikursiu du subset'us, kuriuose bus tik UAB ir MB imones, kad dirbti butu paprasciau\n",
    "mask_balanso = (balanso_ataskaita[\"form_pav\"] == \"Mažoji bendrija\") | (\n",
    "    balanso_ataskaita[\"form_pav\"] == \"Uždaroji akcinė bendrovė\"\n",
    ")\n",
    "\n",
    "balanso_mb_uab_subset = balanso_ataskaita[mask_balanso].copy()\n",
    "balanso_mb_uab_subset.shape"
   ]
  },
  {
   "cell_type": "code",
   "execution_count": null,
   "id": "f3e12540-b16c-4354-a183-ae5b250799e6",
   "metadata": {},
   "outputs": [],
   "source": [
    "mask_pelno = (pelno_ataskaita[\"form_pav\"] == \"Mažoji bendrija\") | (\n",
    "    pelno_ataskaita[\"form_pav\"] == \"Uždaroji akcinė bendrovė\"\n",
    ")\n",
    "\n",
    "pelno_mb_uab_subset = pelno_ataskaita[mask_pelno].copy()\n",
    "pelno_mb_uab_subset.shape"
   ]
  },
  {
   "cell_type": "code",
   "execution_count": null,
   "id": "8042fd8c-0d1c-4f8f-8a94-5a5925188cd4",
   "metadata": {},
   "outputs": [],
   "source": [
    "balanso_mb_uab_subset.stat_pav.value_counts()"
   ]
  },
  {
   "cell_type": "code",
   "execution_count": null,
   "id": "eefc5763-eeb8-4243-9663-e2250846c1fe",
   "metadata": {},
   "outputs": [],
   "source": [
    "pelno_mb_uab_subset.stat_pav.value_counts()"
   ]
  },
  {
   "cell_type": "code",
   "execution_count": null,
   "id": "51c9eeca-4873-43f0-a53e-4a935971615f",
   "metadata": {},
   "outputs": [],
   "source": [
    "# susikursiu binariny \"bankrutavęs\" stulpelį kiekviename iš duomenų masyvų. tai padės filtruoti ir lyginti reikšmes skirtingais metais"
   ]
  },
  {
   "cell_type": "code",
   "execution_count": null,
   "id": "c2aebcaa-12fc-438c-8e06-89c9f8a7db1e",
   "metadata": {},
   "outputs": [],
   "source": [
    "def is_bankrupt(dataframe):\n",
    "    bankroto_pav = [\n",
    "        \"Bankrutavęs\",\n",
    "        \"Bankrutuojantis\",\n",
    "        \"Išregistruotas\",\n",
    "        \"Inicijuojamas likvidavimas\",\n",
    "        \"Likviduojamas\",\n",
    "        \"Likviduojamas dėl bankroto\",\n",
    "    ]\n",
    "\n",
    "    if dataframe[\"stat_pav\"] in bankroto_pav:\n",
    "        return 1\n",
    "    return 0\n",
    "\n",
    "\n",
    "balanso_mb_uab_subset[\"yra_bankrutaves\"] = balanso_mb_uab_subset.apply(\n",
    "    is_bankrupt, axis=1\n",
    ")"
   ]
  },
  {
   "cell_type": "code",
   "execution_count": null,
   "id": "2989cb1a-9f71-4dfe-90f5-a727a161d9e0",
   "metadata": {},
   "outputs": [],
   "source": [
    "balanso_mb_uab_subset[balanso_mb_uab_subset[\"yra_bankrutaves\"] == 1][\n",
    "    \"stat_pav\"\n",
    "].value_counts()"
   ]
  },
  {
   "cell_type": "code",
   "execution_count": null,
   "id": "ba53629d-3a24-424b-b4d5-fb937a939692",
   "metadata": {},
   "outputs": [],
   "source": [
    "balanso_mb_uab_subset[balanso_mb_uab_subset[\"yra_bankrutaves\"] != 1][\n",
    "    \"stat_pav\"\n",
    "].value_counts()"
   ]
  },
  {
   "cell_type": "code",
   "execution_count": null,
   "id": "b4ec4a37-85bd-4592-9b58-b63606eab3ea",
   "metadata": {},
   "outputs": [],
   "source": [
    "pelno_mb_uab_subset[\"yra_bankrutaves\"] = pelno_mb_uab_subset.apply(is_bankrupt, axis=1)"
   ]
  },
  {
   "cell_type": "code",
   "execution_count": null,
   "id": "7a59efce-eaf2-4f7c-8e9a-5ddd0b1d6579",
   "metadata": {},
   "outputs": [],
   "source": [
    "pelno_mb_uab_subset[pelno_mb_uab_subset[\"yra_bankrutaves\"] == 1][\n",
    "    \"stat_pav\"\n",
    "].value_counts().sum()"
   ]
  },
  {
   "cell_type": "code",
   "execution_count": null,
   "id": "b2cc41e7-d118-4bcf-bb28-b02fe96b800b",
   "metadata": {},
   "outputs": [],
   "source": [
    "pelno_mb_uab_subset[pelno_mb_uab_subset[\"yra_bankrutaves\"] != 1][\n",
    "    \"stat_pav\"\n",
    "].value_counts()"
   ]
  },
  {
   "cell_type": "code",
   "execution_count": null,
   "id": "bd8b440e-70b7-43a4-9cd0-6a5d7b8a5f67",
   "metadata": {},
   "outputs": [],
   "source": [
    "def bankrutavo_2021(dataframe):\n",
    "    if (dataframe['df_year'] == 2021 and dataframe['yra_bankrutaves'] == 1):\n",
    "        return 1\n",
    "    return 0\n",
    "def vykde_veikla_2020(dataframe):\n",
    "    if (dataframe['df_year'] == 2020 and dataframe['yra_bankrutaves'] == 0):\n",
    "        return 1\n",
    "    return 0\n"
   ]
  },
  {
   "cell_type": "code",
   "execution_count": null,
   "id": "3da8260c-5f80-4bdd-bd88-df756f3a1844",
   "metadata": {},
   "outputs": [],
   "source": [
    "balanso_mb_uab_subset[\"bankrutavo_2021\"] = balanso_mb_uab_subset.apply(\n",
    "    bankrutavo_2021, axis=1\n",
    ")\n",
    "balanso_mb_uab_subset[\"vykde_veikla_2020\"] = balanso_mb_uab_subset.apply(\n",
    "    vykde_veikla_2020, axis=1\n",
    ")\n",
    "\n",
    "pelno_mb_uab_subset[\"bankrutavo_2021\"] = pelno_mb_uab_subset.apply(\n",
    "    bankrutavo_2021, axis=1\n",
    ")\n",
    "pelno_mb_uab_subset[\"vykde_veikla_2020\"] = pelno_mb_uab_subset.apply(\n",
    "    vykde_veikla_2020, axis=1\n",
    ")"
   ]
  },
  {
   "cell_type": "code",
   "execution_count": null,
   "id": "fd599aec-e8b1-40b1-a674-0f985578185c",
   "metadata": {},
   "outputs": [],
   "source": [
    "balanso_mb_uab_subset[\n",
    "    (balanso_mb_uab_subset[\"bankrutavo_2021\"] == 0)\n",
    "    & (balanso_mb_uab_subset[\"vykde_veikla_2020\"] == 1)\n",
    "][\"stat_pav\"].value_counts()"
   ]
  },
  {
   "cell_type": "code",
   "execution_count": null,
   "id": "ae65259b-0be0-4b7c-9c71-e1c756f78965",
   "metadata": {},
   "outputs": [],
   "source": [
    "balanso_mb_uab_subset[(balanso_mb_uab_subset[\"bankrutavo_2021\"] == 1)][\n",
    "    \"stat_pav\"\n",
    "].value_counts()"
   ]
  },
  {
   "cell_type": "code",
   "execution_count": null,
   "id": "459a14ce-7b56-45f4-a0e8-0f3e517ff206",
   "metadata": {},
   "outputs": [],
   "source": [
    "vykde_veikla_2020_list = (\n",
    "    balanso_mb_uab_subset[balanso_mb_uab_subset[\"vykde_veikla_2020\"] == 1][\"obj_pav\"]\n",
    "    .unique()\n",
    "    .tolist()\n",
    ")\n",
    "bankrutavo_2021_list = (\n",
    "    balanso_mb_uab_subset[balanso_mb_uab_subset[\"bankrutavo_2021\"] == 1][\"obj_pav\"]\n",
    "    .unique()\n",
    "    .tolist()\n",
    ")"
   ]
  },
  {
   "cell_type": "code",
   "execution_count": null,
   "id": "1bea7fdc-6397-4f1f-b507-cbf1aefc11d9",
   "metadata": {},
   "outputs": [],
   "source": [
    "atsakymas = [i for i in vykde_veikla_2020_list if i in bankrutavo_2021_list]"
   ]
  },
  {
   "cell_type": "code",
   "execution_count": null,
   "id": "a5ddb5e5-4f83-40c9-9712-4c9cf36c6674",
   "metadata": {},
   "outputs": [],
   "source": [
    "atsakymas"
   ]
  },
  {
   "cell_type": "markdown",
   "id": "0bab3eb9-71cc-4d49-b9d9-dc4fa7b75c09",
   "metadata": {},
   "source": [
    "### 13.2 Kokia bankrutavusių įmonių “nuosavas_kapitalas”suma 2021 metais? Kokia bankrutavusių įmonių “grynasis_pelnas” suma 2021 metais? Palyginti šias sumas su veikiančių įmonių atitinkamomis sumomis\n",
    "### ats: 13.2\n",
    "* bankrutavusių įmonių “nuosavas_kapitalas” suma 2021 metais = 452059119.80654764\n",
    "* bankrutavusių įmonių “grynasis_pelnas” suma 2021 metais = -139702616.41369045 \n",
    "* veikiančių įmonių “nuosavas_kapitalas” suma 2021 metais = 54547149970.47768\n",
    "* veikiančių įmonių “grynasis_pelnas” suma 2021 metais = 5278014541.534724\n",
    "\n",
    "lyginant sumas, matome, kad grynasis pelnas turi itin didelę įtaką. :)"
   ]
  },
  {
   "cell_type": "code",
   "execution_count": null,
   "id": "37f5f784-2d8e-454a-bed0-338df38cdd30",
   "metadata": {},
   "outputs": [],
   "source": [
    "# išsirenku tik bankrutavusias įmones 2021 metais, kadangi įrašai pasikartoja, o ties kiekvienu įrašu nuosavas įmonės kapiatalas skiriasi - imu vidurkį. kurį susumuoju.\n",
    "\n",
    "balanso_mb_uab_subset[balanso_mb_uab_subset[\"bankrutavo_2021\"] == 1].groupby(\n",
    "    \"obj_pav\"\n",
    ").mean()[\"nuosavas_kapitalas\"].sum()"
   ]
  },
  {
   "cell_type": "code",
   "execution_count": null,
   "id": "904fbf2d-1872-4fcf-a3b2-29c2e5071980",
   "metadata": {},
   "outputs": [],
   "source": [
    "# taip pat, tik su pelnu\n",
    "pelno_mb_uab_subset[(pelno_mb_uab_subset[\"bankrutavo_2021\"] == 1)].groupby(\n",
    "    \"obj_pav\"\n",
    ").mean()[\"grynasis_pelnas\"].sum()"
   ]
  },
  {
   "cell_type": "code",
   "execution_count": null,
   "id": "c1a799f2-2811-4e5b-b7f5-4202c0c44ab8",
   "metadata": {},
   "outputs": [],
   "source": [
    "balanso_mb_uab_subset[\n",
    "    (balanso_mb_uab_subset[\"bankrutavo_2021\"] == 0)\n",
    "    & (balanso_mb_uab_subset[\"df_year\"] == 2021)\n",
    "    & (balanso_mb_uab_subset[\"stat_pav\"] == \"Teisinis stat neįregistruotas\")\n",
    "].groupby(\"obj_pav\").mean()[\"nuosavas_kapitalas\"].sum()"
   ]
  },
  {
   "cell_type": "code",
   "execution_count": null,
   "id": "7950e146-f9e1-4a7b-b596-d3c0350bc92f",
   "metadata": {},
   "outputs": [],
   "source": [
    "pelno_mb_uab_subset[\n",
    "    (pelno_mb_uab_subset[\"bankrutavo_2021\"] == 0)\n",
    "    & (pelno_mb_uab_subset[\"df_year\"] == 2021)\n",
    "    & (pelno_mb_uab_subset[\"stat_pav\"] == \"Teisinis stat neįregistruotas\")\n",
    "].groupby(\"obj_pav\").mean()[\"grynasis_pelnas\"].sum()"
   ]
  },
  {
   "cell_type": "markdown",
   "id": "de044ba0-f1b5-44bd-90d6-8a3d3d87d1bc",
   "metadata": {},
   "source": [
    "### 14. Sukurti naują stulpelį “turtas”, kuris skaičiuojamas sudedant “trumpalaikis_turtas” ir “ilgalaikis_turtas”.\n",
    "    a. Suskirstyti įmones į 5 grupes pagal lauką “turtas”.\n",
    "    b. Palyginti kaip šios grupės keičiasi 2020 ir 2021 metais. Palyginimą atvaizduoti skrituline diagrama ir gauti tokį patį kaip apačioje pavaizduotas paveikslas (skaitinės reikšmės gali skirtis):\n",
    "        i. naudojantis matplotlib funkcionalumu.\n",
    "        ii. naudojantis pandas funkcionalumu.\n"
   ]
  },
  {
   "cell_type": "code",
   "execution_count": null,
   "id": "dffac138-8153-4e3f-9532-5391b303a958",
   "metadata": {},
   "outputs": [],
   "source": [
    "balanso_ataskaita[\"turtas\"] = (\n",
    "    balanso_ataskaita[\"ilgalaikis_turtas\"] + balanso_ataskaita[\"trumpalaikis_turtas\"]\n",
    ")"
   ]
  },
  {
   "cell_type": "code",
   "execution_count": null,
   "id": "f5b0b7d7-6593-4829-a848-0a61f7e33c06",
   "metadata": {},
   "outputs": [],
   "source": [
    "# kadangi turime pasikartojančias įmones, surasiu unikalias įmonių turto vidurkio reikšmes `20 ir `21 metais\n",
    "\n",
    "plot_turtas = (\n",
    "    balanso_ataskaita.groupby([\"obj_pav\", \"df_year\"])\n",
    "    .mean()[\"turtas\"]\n",
    "    .unstack()\n",
    "    .reset_index()\n",
    ")\n",
    "plot_turtas"
   ]
  },
  {
   "cell_type": "code",
   "execution_count": null,
   "id": "71f4a453-4599-4f9a-9e1c-f4a77c5d7e7b",
   "metadata": {},
   "outputs": [],
   "source": [
    "bins = [1,3_000, 20_000, 35_000, 70_000, 100_000]\n",
    "category = ['iki 3k', '3k - 20k', '20k-35k', '35k-70k', '70k+']\n",
    "plot_turtas['20_cut'] = pd.cut(plot_turtas[2020], bins, labels=category)\n",
    "plot_turtas['21_cut'] = pd.cut(plot_turtas[2021], bins, labels=category)\n"
   ]
  },
  {
   "cell_type": "code",
   "execution_count": null,
   "id": "61edc5a5-8d12-4c68-aa41-a0ef85bd6cc6",
   "metadata": {},
   "outputs": [],
   "source": [
    "fig, (ax1, ax2) = plt.subplots(1, 2, figsize=(10, 8))\n",
    "\n",
    "# is stack overflow:\n",
    "def make_autopct(values):\n",
    "    def my_autopct(pct):\n",
    "        total = sum(values)\n",
    "        val = int(round(pct * total / 100.0))\n",
    "        return \"{p:.2f}%  ({v:d})\".format(p=pct, v=val)\n",
    "\n",
    "    return my_autopct\n",
    "\n",
    "\n",
    "plt_20 = (\n",
    "    plot_turtas.groupby(\"20_cut\")\n",
    "    .sum()[2020]\n",
    "    .sort_values()\n",
    "    .plot(kind=\"pie\", autopct=make_autopct([2020]), title=\"2020\", ax=ax1)\n",
    ")\n",
    "\n",
    "plt_21 = (\n",
    "    plot_turtas.groupby(\"21_cut\")\n",
    "    .sum()[2021]\n",
    "    .sort_values()\n",
    "    .plot(kind=\"pie\", autopct=make_autopct([2021]), title=\"2021\", ax=ax2)\n",
    ")\n",
    "\n",
    "\n",
    "plt.ylabel(\"\")"
   ]
  },
  {
   "cell_type": "markdown",
   "id": "2edbc103-2ed9-41f4-8d31-b0eab599e933",
   "metadata": {},
   "source": [
    "## 15. Rasti TOP-100 pelningiausių įmonių pagal “grynasis pelnas” ir TOP-100 įmonių kurių “nuosavas kapitalas” didžiausias. Ar yra sutampančių įmonių šiuose sąrašuose?"
   ]
  },
  {
   "cell_type": "code",
   "execution_count": null,
   "id": "04f6ffcb-a31f-476b-8dc1-165f6af68f53",
   "metadata": {},
   "outputs": [],
   "source": [
    "top_100_nuosavas_kapitalas = (\n",
    "    balanso_ataskaita.groupby(\"obj_pav\")\n",
    "    .mean()[\"nuosavas_kapitalas\"]\n",
    "    .nlargest(100)\n",
    "    .sort_values(ascending=False)\n",
    "    .reset_index()[\"obj_pav\"]\n",
    "    .tolist()\n",
    ")\n",
    "top_100_grynasis_pelnas = (\n",
    "    pelno_ataskaita.groupby(\"obj_pav\")\n",
    "    .mean()[\"grynasis_pelnas\"]\n",
    "    .nlargest(100)\n",
    "    .sort_values(ascending=False)\n",
    "    .reset_index()[\"obj_pav\"]\n",
    "    .tolist()\n",
    ")"
   ]
  },
  {
   "cell_type": "code",
   "execution_count": null,
   "id": "496718c9-70a3-4737-be00-206a9252f44e",
   "metadata": {},
   "outputs": [],
   "source": [
    "set(top_100_nuosavas_kapitalas).intersection(set(top_100_grynasis_pelnas))"
   ]
  },
  {
   "cell_type": "code",
   "execution_count": null,
   "id": "32fde4f7-44e7-49d2-93a7-a24977feaf1c",
   "metadata": {},
   "outputs": [],
   "source": [
    "top_companies = [i for i in top_100_nuosavas_kapitalas if i in top_100_grynasis_pelnas]\n",
    "len(top_companies)"
   ]
  },
  {
   "cell_type": "code",
   "execution_count": null,
   "id": "7237973e-30e6-48bd-8a65-e7cc4ff25ba9",
   "metadata": {},
   "outputs": [],
   "source": [
    "# sutampančios įmonės\n",
    "top_companies"
   ]
  },
  {
   "cell_type": "markdown",
   "id": "b645ab5d-da1d-4cc6-967a-784638e0f8f3",
   "metadata": {},
   "source": [
    "## 16. Ar TOP įmonės pagal “grynasis pelnas” iš 15 užduoties skiriasi pagal metus, t.y. 2020 ir 2021 metais? Kurios įmonės iškrenta iš TOP sąrašo 2021 metais? \n",
    "### 16.1. Ar TOP įmonės pagal “grynasis pelnas” iš 15 užduoties skiriasi pagal metus, t.y. 2020 ir 2021 metais? \n",
    "#### TOP 100 įmonės 2020 metais, kurios nėra Tarp TOP 100 pelningiausių 2021/2022 kartu:\n",
    "     'UAB \"Avion Express\"',\n",
    "     'UAB \"GetJet Airlines\"',\n",
    "     'AB \"BALTIC SHOPPING CENTERS\"',\n",
    "     'UAB \"Green Genius\"',\n",
    "     'UAB \"Sorensen Invest\"',\n",
    "     'UAB LIVE SQUARE LT',\n",
    "     'AB \"Amber Grid\"',\n",
    "     'Uždarojo tipo informuotiesiems investuotojams skirta investicinė bendrovė UAB \"LIM Verslo Trikampio NT Fondas\"',\n",
    "     'UAB \"Inter Krasta\"',\n",
    "     'UAB \"Klaško\"',\n",
    "     'UAB \"HEKON\"',\n",
    "     '4Wind UAB',\n",
    "     'UAB \"Vilniaus aidai\"',\n",
    "     'UAB \"SPECTATOR\"',\n",
    "     'Baltic Champs Group UAB',\n",
    "     'Atvirojo tipo Informuotiesiems investuotojams skirta investicinė kintamojo kapitalo bendrovė \"Mūsų ateities investicijos\"',\n",
    "     'MD PARTNERS UAB',\n",
    "     'UAB \"EBV Finance\"',\n",
    "     'MG investment UAB',\n",
    "     'UAB \"K29\"',\n",
    "     'Uždaroji akcinė bendrovė \"NESTE LIETUVA\"',\n",
    "     'UAB \"Biosantara\"\n",
    "#### TOP 100 įmonės 2021 metais, kurios nėra Tarp TOP 100 pelningiausių 2020/2021 kartu:\n",
    "      'UAB \"Skyroad Leasing\"',\n",
    "     'AviaAM Leasing Service Centre AB',\n",
    "     'UAB \"Magnus Investments\"',\n",
    "     'UAB AR Finance',\n",
    "     'Uždaroji akcinė bendrovė \"VILBRA\"',\n",
    "     'IKI Lietuva UAB',\n",
    "     'Akcinė bendrovė \"Invalda privatus kapitalas\"',\n",
    "     'UAB \"BFIII G1\"',\n",
    "     'UAB \"Agrokoncerno grūdai\"',\n",
    "     'UAB \"BIOTECHA\"',\n",
    "     'UAB \"Egilora\"',\n",
    "     'Uždaroji akcinė bendrovė \"IMMOBILITAS\"',\n",
    "     'Uždaroji akcinė bendrovė \"TRANSIMEKSA\"',\n",
    "     'Uždaroji akcinė bendrovė \"Ryterna\"',\n",
    "     'UAB \"Nordcurrent Group\"',\n",
    "     'Informuotiesiems investuotojams skirta uždarojo tipo investicinė UAB \"Baltic Retail Properties\"',\n",
    "     'AB \"Modus Energy\"',\n",
    "     'Littelfuse LT UAB',\n",
    "     'UAB \"Sonex consulting\"',\n",
    "     'UAB \"Ingka Investments Lithuania\"',\n",
    "     'Uždaroji akcinė bendrovė \"RIMI LIETUVA\""
   ]
  },
  {
   "cell_type": "code",
   "execution_count": null,
   "id": "25445dc1-cc88-4855-ad6c-e53500beaf81",
   "metadata": {},
   "outputs": [],
   "source": [
    "pelningiausios_2020 = (\n",
    "    pelno_ataskaita[pelno_ataskaita[\"df_year\"] == 2020]\n",
    "    .groupby(\"obj_pav\")\n",
    "    .sum()[\"grynasis_pelnas\"]\n",
    "    .nlargest(100)\n",
    "    .sort_values(ascending=False)\n",
    "    .reset_index()[\"obj_pav\"]\n",
    "    .tolist()\n",
    ")\n",
    "pelningiausios_2021 = (\n",
    "    pelno_ataskaita[pelno_ataskaita[\"df_year\"] == 2021]\n",
    "    .groupby(\"obj_pav\")\n",
    "    .sum()[\"grynasis_pelnas\"]\n",
    "    .nlargest(100)\n",
    "    .sort_values(ascending=False)\n",
    "    .reset_index()[\"obj_pav\"]\n",
    "    .tolist()\n",
    ")"
   ]
  },
  {
   "cell_type": "code",
   "execution_count": null,
   "id": "e9b744a7-4a24-4f75-bd3f-5e01bb600fea",
   "metadata": {},
   "outputs": [],
   "source": [
    "# pelningiausios_2020"
   ]
  },
  {
   "cell_type": "code",
   "execution_count": null,
   "id": "a7f2333a-4735-4f5a-bfb8-c539bb5f6a3f",
   "metadata": {},
   "outputs": [],
   "source": [
    "# pelningiausios_2021"
   ]
  },
  {
   "cell_type": "code",
   "execution_count": null,
   "id": "5a1d830b-ea0d-40f6-85d9-f708073b91fa",
   "metadata": {},
   "outputs": [],
   "source": [
    "[i for i in pelningiausios_2020 if i not in top_100_grynasis_pelnas]"
   ]
  },
  {
   "cell_type": "code",
   "execution_count": null,
   "id": "b8db01bd-6737-4ccd-9456-e641c8cba137",
   "metadata": {},
   "outputs": [],
   "source": [
    "[i for i in pelningiausios_2021 if i not in top_100_grynasis_pelnas]"
   ]
  },
  {
   "cell_type": "markdown",
   "id": "487e40dc-99e2-491e-8dce-60bd4874f70b",
   "metadata": {},
   "source": [
    "### 16.2. Kurios įmonės iškrenta iš TOP sąrašo 2021 metais ?"
   ]
  },
  {
   "cell_type": "code",
   "execution_count": null,
   "id": "be83080b-6ad1-48d6-9d86-8e8eccb9f0eb",
   "metadata": {},
   "outputs": [],
   "source": [
    "[i for i in pelningiausios_2020 if i not in pelningiausios_2021]"
   ]
  },
  {
   "cell_type": "markdown",
   "id": "e77157d5-6c5b-41c8-8bb2-79db579a9239",
   "metadata": {},
   "source": [
    "# Trečia Dalis"
   ]
  },
  {
   "cell_type": "markdown",
   "id": "23b6bff5",
   "metadata": {},
   "source": [
    "<font color='red'> Justas Kalpokas: \n",
    "1. <font color='red'> viskas puikiai sekėsi, bet turbūt dėl laiko stokos nepavyko padaryti įmonių palyginimo ir labiausiai augusių atrinkimo. <font color='red'> \n",
    "\n",
    "\n",
    "</font>"
   ]
  },
  {
   "cell_type": "code",
   "execution_count": null,
   "id": "6ec39bfc-84ca-4a60-b3aa-2923c78e176e",
   "metadata": {},
   "outputs": [],
   "source": [
    "# sodra_2019 = pd.read_csv('monthly-2019-sodra.csv', sep=';')\n",
    "# sodra_2020 = pd.read_csv('monthly-2020-sodra.csv', sep=';')\n"
   ]
  },
  {
   "cell_type": "code",
   "execution_count": null,
   "id": "a83ba946",
   "metadata": {},
   "outputs": [],
   "source": [
    "sodra_2019 = pd.read_csv(\"../data/monthly-2019.csv\", sep=\";\")\n",
    "sodra_2020 = pd.read_csv(\"../data/monthly-2020.csv\", sep=\";\")"
   ]
  },
  {
   "cell_type": "code",
   "execution_count": null,
   "id": "a3f0e5ef-ffa8-4989-a4f7-8f58a1f0487b",
   "metadata": {},
   "outputs": [],
   "source": [
    "sodra_2019.shape"
   ]
  },
  {
   "cell_type": "code",
   "execution_count": null,
   "id": "a68d0420-0430-4238-94cf-a24799822061",
   "metadata": {},
   "outputs": [],
   "source": [
    "sodra_2019.info()"
   ]
  },
  {
   "cell_type": "code",
   "execution_count": null,
   "id": "09a9d4c9-e0c0-4f35-924f-ce3318d091b2",
   "metadata": {},
   "outputs": [],
   "source": [
    "sodra_2020.shape"
   ]
  },
  {
   "cell_type": "code",
   "execution_count": null,
   "id": "67ec12ef-8361-4645-93a1-a4cb63da9a1c",
   "metadata": {},
   "outputs": [],
   "source": [
    "sodra_2020.info()"
   ]
  },
  {
   "cell_type": "code",
   "execution_count": null,
   "id": "1dba0752-605f-41b0-bbc4-9c334a9cc661",
   "metadata": {},
   "outputs": [],
   "source": [
    "# pasilieku tik reikalingus columns'us.\n",
    "# nesirenku\n",
    "required_cols = [\n",
    "    \"Juridinių asmenų registro kodas (jarCode)\",\n",
    "    \"Pavadinimas (name)\",\n",
    "    \"Vidutinis darbo užmokestis (avgWage)\",\n",
    "    \"Mėnuo (month)\",\n",
    "    \"Apdraustųjų skaičius (numInsured)\",\n",
    "    \"Vidutinis darbo užmokestis II (avgWage2)\",\n",
    "    \"Apdraustųjų skaičius II (numInsured2)\",\n",
    "    \"Ekonominės veiklos rūšies kodas(ecoActCode)\",\n",
    "    \"Ekonominės veiklos rūšies pavadinimas(ecoActName)\",\n",
    "    \"Savivaldybė, kurioje registruota(municipality)\",\n",
    "]\n",
    "sodra_2019 = sodra_2019[required_cols]\n",
    "sodra_2020 = sodra_2020[required_cols]"
   ]
  },
  {
   "cell_type": "code",
   "execution_count": null,
   "id": "c08286fe-3719-4445-8729-82946cc7b344",
   "metadata": {},
   "outputs": [],
   "source": [
    "sodros_duomenys = pd.concat([sodra_2019, sodra_2020])\n",
    "sodros_duomenys.info()"
   ]
  },
  {
   "cell_type": "code",
   "execution_count": null,
   "id": "7d2c2e7a-5e1e-4861-82aa-0c6990d8cd4c",
   "metadata": {},
   "outputs": [],
   "source": [
    "balanso_ataskaita[\"obj_kodas\"].isna().sum() + pelno_ataskaita[\"obj_kodas\"].isna().sum()"
   ]
  },
  {
   "cell_type": "code",
   "execution_count": null,
   "id": "77cad919-d5af-4204-b711-b82f36fa4e9f",
   "metadata": {},
   "outputs": [],
   "source": [
    "sodros_duomenys['Juridinių asmenų registro kodas (jarCode)'].isna().sum()\n"
   ]
  },
  {
   "cell_type": "code",
   "execution_count": null,
   "id": "82dd1c2a-f7ce-4c64-ad18-84023ee5abab",
   "metadata": {},
   "outputs": [],
   "source": [
    "sodros_duomenys[sodros_duomenys[\"Juridinių asmenų registro kodas (jarCode)\"].isna()][\n",
    "    \"Pavadinimas (name)\"\n",
    "].unique()[:20]"
   ]
  },
  {
   "cell_type": "markdown",
   "id": "a4f4a31c-bc4b-4e13-887d-4edf8124aaaa",
   "metadata": {},
   "source": [
    "Kadangi registrų duomenyse (balanso ir pelno ataskaitose 2020 ir 2021 metais) nėra nežinomų obj. kodo reikšmių, nežinomas reikšmes pašalinu ir iš sodros duomenų."
   ]
  },
  {
   "cell_type": "code",
   "execution_count": null,
   "id": "c1b6ad22-00b0-494f-bfc2-90ec5f30e735",
   "metadata": {},
   "outputs": [],
   "source": [
    "sodros_duomenys = sodros_duomenys[\n",
    "    ~(sodros_duomenys[\"Juridinių asmenų registro kodas (jarCode)\"].isna())\n",
    "]"
   ]
  },
  {
   "cell_type": "code",
   "execution_count": null,
   "id": "5acebfd6-7e1e-4987-b568-f2a6c784bccd",
   "metadata": {},
   "outputs": [],
   "source": [
    "sodros_duomenys[\"Juridinių asmenų registro kodas (jarCode)\"].isna().sum()"
   ]
  },
  {
   "cell_type": "code",
   "execution_count": null,
   "id": "2dbcb092-f1ca-46c3-ba83-44c59433233f",
   "metadata": {},
   "outputs": [],
   "source": [
    "sodros_duomenys.sample(3)"
   ]
  },
  {
   "cell_type": "code",
   "execution_count": null,
   "id": "c998bd70-2afb-44f7-b084-d02c6e2e3fe7",
   "metadata": {},
   "outputs": [],
   "source": [
    "column_mapping = {\n",
    "    \"Juridinių asmenų registro kodas (jarCode)\": \"obj_kodas\",\n",
    "    \"Pavadinimas (name)\": \"obj_pav\",\n",
    "    \"Vidutinis darbo užmokestis (avgWage)\": \"vid_atlyginimas_1\",\n",
    "    \"Mėnuo (month)\": \"menuo\",\n",
    "    \"Apdraustųjų skaičius (numInsured)\": \"darb_sk_1\",\n",
    "    \"Vidutinis darbo užmokestis II (avgWage2)\": \"vid_atlyginimas_2\",\n",
    "    \"Apdraustųjų skaičius II (numInsured2)\": \"darb_sk_2\",\n",
    "    \"Ekonominės veiklos rūšies kodas(ecoActCode)\": \"veikl_rus_kod\",\n",
    "    \"Ekonominės veiklos rūšies pavadinimas(ecoActName)\": \"veikl_rus_pav\",\n",
    "    \"Savivaldybė, kurioje registruota(municipality)\": \"savivaldybe\",\n",
    "}\n",
    "\n",
    "sodros_duomenys.rename(columns=column_mapping, inplace=True)"
   ]
  },
  {
   "cell_type": "code",
   "execution_count": null,
   "id": "b60db8c9-8790-4197-bf07-6d4dabffb10d",
   "metadata": {},
   "outputs": [],
   "source": [
    "sodros_duomenys.isna().sum()"
   ]
  },
  {
   "cell_type": "markdown",
   "id": "dd4f883f-fd56-49ff-87dc-35efca5005c8",
   "metadata": {},
   "source": [
    "vekl_rus_kod ir viekl_rus_pav -> pati logika, kaip ir su \"Juridinių asmenų registro kodas (jarCode)\""
   ]
  },
  {
   "cell_type": "code",
   "execution_count": null,
   "id": "c67964c0-efe8-4a8a-91c7-ddd3263d0cb5",
   "metadata": {},
   "outputs": [],
   "source": [
    "sodros_duomenys = sodros_duomenys[~(sodros_duomenys[\"veikl_rus_kod\"].isna())] # .notna()\n",
    "sodros_duomenys = sodros_duomenys[~(sodros_duomenys[\"veikl_rus_pav\"].isna())]"
   ]
  },
  {
   "cell_type": "code",
   "execution_count": null,
   "id": "e3000cdb-790b-459f-bead-351dd292ff5e",
   "metadata": {},
   "outputs": [],
   "source": [
    "sodros_duomenys[\"data\"] = pd.to_datetime(sodros_duomenys[\"menuo\"], format=\"%Y%m\")"
   ]
  },
  {
   "cell_type": "code",
   "execution_count": null,
   "id": "dcfa0a8f-645b-4242-87dd-511febf4f4bb",
   "metadata": {},
   "outputs": [],
   "source": [
    "sodros_duomenys[\"metai\"] = sodros_duomenys[\"data\"].dt.year\n",
    "sodros_duomenys[\"menuo\"] = sodros_duomenys[\"data\"].dt.month"
   ]
  },
  {
   "cell_type": "markdown",
   "id": "307236cb-c19d-4290-ad80-9fbbfd65c027",
   "metadata": {},
   "source": [
    "Matome, kad nežinomos reikšmės \"vidutinis atlyginimas 1\" sudaro net 56% visu reiksmiu (2019 ir 2020 kartu). o vid atlyginimas2 net 99,7 procento visų reikšmių.\n",
    "todėl išmetu vid_atlyginimas_2 stulpelį"
   ]
  },
  {
   "cell_type": "code",
   "execution_count": null,
   "id": "7a7eb008-1e81-4be4-91df-fe1f4025d16c",
   "metadata": {},
   "outputs": [],
   "source": [
    "sodros_duomenys.isna().sum() / len(sodros_duomenys)"
   ]
  },
  {
   "cell_type": "code",
   "execution_count": null,
   "id": "5b6de4f8-28b0-4bf1-a73b-7335c24cf8b6",
   "metadata": {},
   "outputs": [],
   "source": [
    "sodros_duomenys.drop([\"vid_atlyginimas_2\"], axis=1, inplace=True)"
   ]
  },
  {
   "cell_type": "code",
   "execution_count": null,
   "id": "dc75d8a3-0cd6-4840-847b-182b37d1e21b",
   "metadata": {},
   "outputs": [],
   "source": [
    "sodros_duomenys.isna().sum() / len(sodros_duomenys)"
   ]
  },
  {
   "cell_type": "code",
   "execution_count": null,
   "id": "761c45fd-2c72-4501-926d-2318b429a80e",
   "metadata": {},
   "outputs": [],
   "source": [
    "# sodros_duomenys = sodros_duomenys.reset_index()"
   ]
  },
  {
   "cell_type": "code",
   "execution_count": null,
   "id": "ae594112-65e4-49e4-9ec8-5da892ab43e9",
   "metadata": {},
   "outputs": [],
   "source": [
    "sodros_duomenys.isna().sum() / len(sodros_duomenys)"
   ]
  },
  {
   "cell_type": "code",
   "execution_count": null,
   "id": "5a3d1619-1548-4f6e-8fa1-74a79b12641c",
   "metadata": {},
   "outputs": [],
   "source": [
    "sodros_duomenys = sodros_duomenys.dropna()"
   ]
  },
  {
   "cell_type": "markdown",
   "id": "91f1ecf6-7cd7-421a-b8e1-e87d3847de3e",
   "metadata": {},
   "source": [
    "isskiriu duomenu masyvus ir galutinai apskaiciuoju atlyginimu ir darbuotoju vidurkius pries prijungiant duomenis"
   ]
  },
  {
   "cell_type": "code",
   "execution_count": null,
   "id": "ebc834e3-7284-445b-becd-67a03406adf9",
   "metadata": {},
   "outputs": [],
   "source": [
    "final_sodra_19 = sodros_duomenys[sodros_duomenys[\"metai\"] == 2019]\n",
    "final_sodra_20 = sodros_duomenys[sodros_duomenys[\"metai\"] == 2020]"
   ]
  },
  {
   "cell_type": "code",
   "execution_count": null,
   "id": "91ba8759-b40c-4c97-8af8-8e4ff1478f1b",
   "metadata": {},
   "outputs": [],
   "source": [
    "darbuotoju_apskaiciavimas_2019 = final_sodra_19[(final_sodra_19['menuo']==12)][['obj_kodas','darb_sk_1','darb_sk_2']]\n",
    "darbuotoju_apskaiciavimas_2020 = final_sodra_20[(final_sodra_20['menuo']==12)][['obj_kodas','darb_sk_1','darb_sk_2']]\n",
    "# darbuotoju_apskaiciavimas\n"
   ]
  },
  {
   "cell_type": "code",
   "execution_count": null,
   "id": "a2c5d3d8-553b-4a67-acda-f9f4b582c75b",
   "metadata": {},
   "outputs": [],
   "source": [
    "darbuotoju_apskaiciavimas_2019['darbuotoju_skaicius'] = darbuotoju_apskaiciavimas_2019[['darb_sk_1','darb_sk_2']].sum(axis=1)\n",
    "darbuotoju_apskaiciavimas_2020['darbuotoju_skaicius'] = darbuotoju_apskaiciavimas_2020[['darb_sk_1','darb_sk_2']].sum(axis=1)\n"
   ]
  },
  {
   "cell_type": "code",
   "execution_count": null,
   "id": "5ef02a30-6efe-4856-9a67-679dfe1890f9",
   "metadata": {},
   "outputs": [],
   "source": [
    "darbuotoju_apskaiciavimas_2020.drop(['darb_sk_1','darb_sk_2'],axis=1, inplace=True)\n",
    "darbuotoju_apskaiciavimas_2019.drop(['darb_sk_1','darb_sk_2'],axis=1, inplace=True)\n"
   ]
  },
  {
   "cell_type": "code",
   "execution_count": null,
   "id": "af307c56-99cb-49fc-95cd-9600a79ccda0",
   "metadata": {},
   "outputs": [],
   "source": [
    "darbuotoju_apskaiciavimas_2019"
   ]
  },
  {
   "cell_type": "code",
   "execution_count": null,
   "id": "884f3120-0b9d-498a-aef6-ad7343eb7c8a",
   "metadata": {},
   "outputs": [],
   "source": [
    "final_sodra_19 = final_sodra_19.merge(darbuotoju_apskaiciavimas_2019, on=\"obj_kodas\")\n",
    "final_sodra_20 = final_sodra_20.merge(darbuotoju_apskaiciavimas_2020, on=\"obj_kodas\")\n",
    "final_sodra_19.drop([\"darb_sk_1\", \"darb_sk_2\"], axis=1, inplace=True)\n",
    "final_sodra_20.drop([\"darb_sk_1\", \"darb_sk_2\"], axis=1, inplace=True)"
   ]
  },
  {
   "cell_type": "code",
   "execution_count": null,
   "id": "cee045a0-9f5f-4935-819c-713d024d5f66",
   "metadata": {},
   "outputs": [],
   "source": [
    "final_sodra_19"
   ]
  },
  {
   "cell_type": "code",
   "execution_count": null,
   "id": "ba197cb0-9b49-4b2b-8aa0-0e8ddb09bc8a",
   "metadata": {},
   "outputs": [],
   "source": [
    "final_sodra_19[\"vid_atlyginimas\"] = (\n",
    "    final_sodra_19[\"vid_atlyginimas_1\"]\n",
    "    .groupby(final_sodra_19[\"obj_kodas\"])\n",
    "    .transform(\"mean\")\n",
    ")\n",
    "final_sodra_20[\"vid_atlyginimas\"] = (\n",
    "    final_sodra_20[\"vid_atlyginimas_1\"]\n",
    "    .groupby(final_sodra_20[\"obj_kodas\"])\n",
    "    .transform(\"mean\")\n",
    ")"
   ]
  },
  {
   "cell_type": "code",
   "execution_count": null,
   "id": "c63c3ba9-76f9-4bf1-b0d6-709e38cc7dcf",
   "metadata": {},
   "outputs": [],
   "source": [
    "final_sodra_19.drop([\"vid_atlyginimas_1\", \"menuo\", \"data\"], axis=1, inplace=True)\n",
    "final_sodra_20.drop([\"vid_atlyginimas_1\", \"menuo\", \"data\"], axis=1, inplace=True)"
   ]
  },
  {
   "cell_type": "code",
   "execution_count": null,
   "id": "acf39c04-ef22-4010-b894-b7082ee0bc9b",
   "metadata": {},
   "outputs": [],
   "source": [
    "final_sodra_19.drop_duplicates(inplace=True)\n",
    "final_sodra_20.drop_duplicates(inplace=True)"
   ]
  },
  {
   "cell_type": "code",
   "execution_count": null,
   "id": "5383ad93-a077-480d-a067-3a820cb62367",
   "metadata": {},
   "outputs": [],
   "source": [
    "final_sodra_19"
   ]
  },
  {
   "cell_type": "code",
   "execution_count": null,
   "id": "c3510f7a-752b-45a2-ab72-3497c864b226",
   "metadata": {},
   "outputs": [],
   "source": [
    "final_sodra_20"
   ]
  },
  {
   "cell_type": "code",
   "execution_count": null,
   "id": "0ca1a9b0-1525-47dc-8aaf-9c8217cba6b0",
   "metadata": {},
   "outputs": [],
   "source": [
    "raw_balanso_ataskaita_2020"
   ]
  },
  {
   "cell_type": "code",
   "execution_count": null,
   "id": "136f82ac-5fc3-43de-aa79-b79aa997836d",
   "metadata": {},
   "outputs": [],
   "source": [
    "# pd.read_csv(\"../data/3_uzduotis_data_sample.csv\")"
   ]
  },
  {
   "cell_type": "code",
   "execution_count": null,
   "id": "471fd9a1-e2a1-45e0-8c72-ec1872e9ccb9",
   "metadata": {},
   "outputs": [],
   "source": [
    "pd.read_csv('3_uzduotis_data_sample.csv').columns"
   ]
  },
  {
   "cell_type": "code",
   "execution_count": null,
   "id": "382f217d-8d95-4976-a4ef-bc2614264719",
   "metadata": {},
   "outputs": [],
   "source": []
  },
  {
   "cell_type": "code",
   "execution_count": null,
   "id": "ad2b7d75-9bee-439f-a3dd-72eaa13588b8",
   "metadata": {},
   "outputs": [],
   "source": [
    "columns_to_select_balansas = [\n",
    "    \"obj_kodas\",\n",
    "    \"obj_pav\",\n",
    "    \"form_pav\",\n",
    "    \"nuosavas_kapitalas\",\n",
    "    \"mok_sumos_ir_isipareigojimai\",\n",
    "    \"ilgalaikis_turtas\",\n",
    "    \"trumpalaikis_turtas\",\n",
    "]\n",
    "columns_to_select_pelnas = [\n",
    "    \"obj_kodas\",\n",
    "    \"obj_pav\",\n",
    "    \"pardavimo_pajamos\",\n",
    "    \"grynasis_pelnas\",\n",
    "]\n",
    "\n",
    "selected_pelno_2020 = raw_pelno_ataskaita_2020[columns_to_select_pelnas]\n",
    "selected_balanso_2020 = raw_balanso_ataskaita_2020[columns_to_select_balansas]"
   ]
  },
  {
   "cell_type": "code",
   "execution_count": null,
   "id": "0d6000e1-e3e4-4c3b-bf5b-086f18ecba03",
   "metadata": {},
   "outputs": [],
   "source": [
    "selected_pelno_2020"
   ]
  },
  {
   "cell_type": "code",
   "execution_count": null,
   "id": "032d5b3f-e2d6-4a2a-84f1-8105d680e21d",
   "metadata": {},
   "outputs": [],
   "source": [
    "selected_balanso_2020[\n",
    "    [\n",
    "        \"nuosavas_kapitalas\",\n",
    "        \"mok_sumos_ir_isipareigojimai\",\n",
    "        \"ilgalaikis_turtas\",\n",
    "        \"trumpalaikis_turtas\",\n",
    "    ]\n",
    "] = (\n",
    "    selected_balanso_2020[\n",
    "        [\n",
    "            \"nuosavas_kapitalas\",\n",
    "            \"mok_sumos_ir_isipareigojimai\",\n",
    "            \"ilgalaikis_turtas\",\n",
    "            \"trumpalaikis_turtas\",\n",
    "        ]\n",
    "    ]\n",
    "    .groupby(selected_balanso_2020[\"obj_kodas\"])\n",
    "    .transform(\"mean\")\n",
    ")\n",
    "selected_pelno_2020[[\"pardavimo_pajamos\", \"grynasis_pelnas\"]] = (\n",
    "    selected_pelno_2020[[\"pardavimo_pajamos\", \"grynasis_pelnas\"]]\n",
    "    .groupby(selected_pelno_2020[\"obj_kodas\"])\n",
    "    .transform(\"mean\")\n",
    ")"
   ]
  },
  {
   "cell_type": "code",
   "execution_count": null,
   "id": "082dee17-8b79-4914-898f-fd7fe1e9a478",
   "metadata": {},
   "outputs": [],
   "source": [
    "final_balanso_2020 = selected_balanso_2020.drop_duplicates()\n",
    "final_pelno_2020 = selected_pelno_2020.drop_duplicates()"
   ]
  },
  {
   "cell_type": "code",
   "execution_count": null,
   "id": "ea1bfad2-923d-4d50-9946-9572527e8a83",
   "metadata": {},
   "outputs": [],
   "source": [
    "temp_ = final_balanso_2020.merge(final_sodra_19, on=\"obj_kodas\", how=\"inner\").merge(\n",
    "    selected_pelno_2020, on=\"obj_kodas\", how=\"inner\"\n",
    ")"
   ]
  },
  {
   "cell_type": "code",
   "execution_count": null,
   "id": "1fb26e7e-a378-4aba-8d03-18a65048801c",
   "metadata": {},
   "outputs": [],
   "source": [
    "!pip freeze > requirements.yml"
   ]
  },
  {
   "cell_type": "code",
   "execution_count": null,
   "id": "9e36411b-6d51-4c78-92f0-09264ad2a016",
   "metadata": {},
   "outputs": [],
   "source": []
  },
  {
   "cell_type": "code",
   "execution_count": null,
   "id": "7c5d26b4-5f87-490e-b86d-84e097a02ac9",
   "metadata": {},
   "outputs": [],
   "source": []
  },
  {
   "cell_type": "code",
   "execution_count": null,
   "id": "e5f448d3-4b56-4de4-a445-161c151982d9",
   "metadata": {},
   "outputs": [],
   "source": []
  },
  {
   "cell_type": "code",
   "execution_count": null,
   "id": "8d8cafd1",
   "metadata": {},
   "outputs": [],
   "source": []
  }
 ],
 "metadata": {
  "kernelspec": {
   "display_name": "Python 3 (ipykernel)",
   "language": "python",
   "name": "python3"
  },
  "language_info": {
   "codemirror_mode": {
    "name": "ipython",
    "version": 3
   },
   "file_extension": ".py",
   "mimetype": "text/x-python",
   "name": "python",
   "nbconvert_exporter": "python",
   "pygments_lexer": "ipython3",
   "version": "3.9.2"
  }
 },
 "nbformat": 4,
 "nbformat_minor": 5
}
