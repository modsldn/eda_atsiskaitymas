{
 "cells": [
  {
   "cell_type": "markdown",
   "id": "a4994da4-f885-4cc3-adb3-429cd5ce5c65",
   "metadata": {},
   "source": [
    "## Iš pridėto requirements.txt failo sukurti anacondos aplinką ir žemiau esančias užduotis vykdyti šioje aplinkoje"
   ]
  },
  {
   "cell_type": "markdown",
   "id": "db204b44-f484-4853-98b6-f20d1157541c",
   "metadata": {},
   "source": [
    "# Pirma Dalis"
   ]
  },
  {
   "cell_type": "code",
   "execution_count": 1,
   "id": "ee47e920-6197-4469-b288-94a22555d038",
   "metadata": {},
   "outputs": [
    {
     "data": {
      "application/javascript": "\n            setTimeout(function() {\n                var nbb_cell_id = 1;\n                var nbb_unformatted_code = \"# \\n# !pip install -r requirements.txt\\n%load_ext nb_black \";\n                var nbb_formatted_code = \"#\\n# !pip install -r requirements.txt\\n%load_ext nb_black\";\n                var nbb_cells = Jupyter.notebook.get_cells();\n                for (var i = 0; i < nbb_cells.length; ++i) {\n                    if (nbb_cells[i].input_prompt_number == nbb_cell_id) {\n                        if (nbb_cells[i].get_text() == nbb_unformatted_code) {\n                             nbb_cells[i].set_text(nbb_formatted_code);\n                        }\n                        break;\n                    }\n                }\n            }, 500);\n            ",
      "text/plain": [
       "<IPython.core.display.Javascript object>"
      ]
     },
     "metadata": {},
     "output_type": "display_data"
    }
   ],
   "source": [
    "# \n",
    "# !pip install -r requirements.txt\n",
    "%load_ext nb_black \n",
    "\n"
   ]
  },
  {
   "attachments": {},
   "cell_type": "markdown",
   "id": "be4e341c",
   "metadata": {},
   "source": [
    "<font color='red'> Erikas Švažas: \n",
    "\n",
    "1. Šaunu, kad panaudotas nb_black! Puiki praktika! \n",
    "\n",
    "2. Pip puikiai tinka panašaus dydžio prejektui, bet kai bus daugiau dependencies conda gali turėti [privalumų](https://www.reddit.com/r/Python/comments/w564g0/comment/ih7jo6v/?utm_source=share&utm_medium=web2x&context=3) (nors ir viskas vyks super lėtai)\n",
    "\n",
    "</font>"
   ]
  },
  {
   "cell_type": "code",
   "execution_count": 2,
   "id": "491d5408-78c2-4acf-af95-517902ec25a7",
   "metadata": {},
   "outputs": [
    {
     "data": {
      "application/javascript": "\n            setTimeout(function() {\n                var nbb_cell_id = 2;\n                var nbb_unformatted_code = \"import pandas as pd\\nimport numpy as np\\nimport matplotlib.pyplot as plt\\nimport seaborn as sns\\n\\nfrom datetime import datetime as dt\\n\\n# panaikina scientific skai\\u010dius atsakymuose\\npd.options.display.float_format = '{:.4f}'.format\\n\\npd.set_option(\\\"display.max_columns\\\", 50)\";\n                var nbb_formatted_code = \"import pandas as pd\\nimport numpy as np\\nimport matplotlib.pyplot as plt\\nimport seaborn as sns\\n\\nfrom datetime import datetime as dt\\n\\n# panaikina scientific skai\\u010dius atsakymuose\\npd.options.display.float_format = \\\"{:.4f}\\\".format\\n\\npd.set_option(\\\"display.max_columns\\\", 50)\";\n                var nbb_cells = Jupyter.notebook.get_cells();\n                for (var i = 0; i < nbb_cells.length; ++i) {\n                    if (nbb_cells[i].input_prompt_number == nbb_cell_id) {\n                        if (nbb_cells[i].get_text() == nbb_unformatted_code) {\n                             nbb_cells[i].set_text(nbb_formatted_code);\n                        }\n                        break;\n                    }\n                }\n            }, 500);\n            ",
      "text/plain": [
       "<IPython.core.display.Javascript object>"
      ]
     },
     "metadata": {},
     "output_type": "display_data"
    }
   ],
   "source": [
    "import pandas as pd\n",
    "import numpy as np\n",
    "import matplotlib.pyplot as plt\n",
    "import seaborn as sns\n",
    "\n",
    "from datetime import datetime as dt\n",
    "\n",
    "# panaikina scientific skaičius atsakymuose\n",
    "pd.options.display.float_format = '{:.4f}'.format\n",
    "\n",
    "pd.set_option(\"display.max_columns\", 50)\n"
   ]
  },
  {
   "cell_type": "code",
   "execution_count": 3,
   "id": "f6742d9d-2b17-4f17-828b-6599248ccae9",
   "metadata": {},
   "outputs": [
    {
     "data": {
      "application/javascript": "\n            setTimeout(function() {\n                var nbb_cell_id = 3;\n                var nbb_unformatted_code = \"raw_balanso_ataskaita_2020 = pd.read_csv('https://www.registrucentras.lt/aduomenys/?byla=JAR_FA_RODIKLIAI_BLNS_2020.csv')\\nraw_balanso_ataskaita_2021 = pd.read_csv('https://www.registrucentras.lt/aduomenys/?byla=JAR_FA_RODIKLIAI_BLNS_2021.csv')\";\n                var nbb_formatted_code = \"raw_balanso_ataskaita_2020 = pd.read_csv(\\n    \\\"https://www.registrucentras.lt/aduomenys/?byla=JAR_FA_RODIKLIAI_BLNS_2020.csv\\\"\\n)\\nraw_balanso_ataskaita_2021 = pd.read_csv(\\n    \\\"https://www.registrucentras.lt/aduomenys/?byla=JAR_FA_RODIKLIAI_BLNS_2021.csv\\\"\\n)\";\n                var nbb_cells = Jupyter.notebook.get_cells();\n                for (var i = 0; i < nbb_cells.length; ++i) {\n                    if (nbb_cells[i].input_prompt_number == nbb_cell_id) {\n                        if (nbb_cells[i].get_text() == nbb_unformatted_code) {\n                             nbb_cells[i].set_text(nbb_formatted_code);\n                        }\n                        break;\n                    }\n                }\n            }, 500);\n            ",
      "text/plain": [
       "<IPython.core.display.Javascript object>"
      ]
     },
     "metadata": {},
     "output_type": "display_data"
    }
   ],
   "source": [
    "raw_balanso_ataskaita_2020 = pd.read_csv('https://www.registrucentras.lt/aduomenys/?byla=JAR_FA_RODIKLIAI_BLNS_2020.csv')\n",
    "raw_balanso_ataskaita_2021 = pd.read_csv('https://www.registrucentras.lt/aduomenys/?byla=JAR_FA_RODIKLIAI_BLNS_2021.csv')"
   ]
  },
  {
   "cell_type": "code",
   "execution_count": 4,
   "id": "c9874bf0-3618-4fd7-a021-36bdbb0af920",
   "metadata": {},
   "outputs": [
    {
     "data": {
      "application/javascript": "\n            setTimeout(function() {\n                var nbb_cell_id = 4;\n                var nbb_unformatted_code = \"raw_pelno_ataskaita_2020 = pd.read_csv('https://www.registrucentras.lt/aduomenys/?byla=JAR_FA_RODIKLIAI_PLNA_2020.csv')\\nraw_pelno_ataskaita_2021 = pd.read_csv('https://www.registrucentras.lt/aduomenys/?byla=JAR_FA_RODIKLIAI_PLNA_2021.csv')\";\n                var nbb_formatted_code = \"raw_pelno_ataskaita_2020 = pd.read_csv(\\n    \\\"https://www.registrucentras.lt/aduomenys/?byla=JAR_FA_RODIKLIAI_PLNA_2020.csv\\\"\\n)\\nraw_pelno_ataskaita_2021 = pd.read_csv(\\n    \\\"https://www.registrucentras.lt/aduomenys/?byla=JAR_FA_RODIKLIAI_PLNA_2021.csv\\\"\\n)\";\n                var nbb_cells = Jupyter.notebook.get_cells();\n                for (var i = 0; i < nbb_cells.length; ++i) {\n                    if (nbb_cells[i].input_prompt_number == nbb_cell_id) {\n                        if (nbb_cells[i].get_text() == nbb_unformatted_code) {\n                             nbb_cells[i].set_text(nbb_formatted_code);\n                        }\n                        break;\n                    }\n                }\n            }, 500);\n            ",
      "text/plain": [
       "<IPython.core.display.Javascript object>"
      ]
     },
     "metadata": {},
     "output_type": "display_data"
    }
   ],
   "source": [
    "raw_pelno_ataskaita_2020 = pd.read_csv('https://www.registrucentras.lt/aduomenys/?byla=JAR_FA_RODIKLIAI_PLNA_2020.csv')\n",
    "raw_pelno_ataskaita_2021 = pd.read_csv('https://www.registrucentras.lt/aduomenys/?byla=JAR_FA_RODIKLIAI_PLNA_2021.csv')"
   ]
  },
  {
   "cell_type": "markdown",
   "id": "71c8605c-19e6-4c56-8870-810fe11c39cc",
   "metadata": {},
   "source": [
    "## 3.1 Ką reiškia skirtingi duomenų laukai? Iš kokių atributų sudaryti duomenys?\n",
    "\n",
    "Kad geriau suprasti skirtingus duomenų tipus, jų laukus, galime vadovautis Registrų centro pateiktomis **\"Duomenų rinkinio struktūros\"** nuorodomis."
   ]
  },
  {
   "cell_type": "code",
   "execution_count": 5,
   "id": "df535418-fe0e-407a-b13a-44803ab7d855",
   "metadata": {},
   "outputs": [
    {
     "data": {
      "text/html": [
       "<div>\n",
       "<style scoped>\n",
       "    .dataframe tbody tr th:only-of-type {\n",
       "        vertical-align: middle;\n",
       "    }\n",
       "\n",
       "    .dataframe tbody tr th {\n",
       "        vertical-align: top;\n",
       "    }\n",
       "\n",
       "    .dataframe thead th {\n",
       "        text-align: right;\n",
       "    }\n",
       "</style>\n",
       "<table border=\"1\" class=\"dataframe\">\n",
       "  <thead>\n",
       "    <tr style=\"text-align: right;\">\n",
       "      <th></th>\n",
       "      <th>Žymėjimas</th>\n",
       "      <th>Tipas</th>\n",
       "      <th>Atributo aprašymas</th>\n",
       "    </tr>\n",
       "  </thead>\n",
       "  <tbody>\n",
       "    <tr>\n",
       "      <th>0</th>\n",
       "      <td>obj_kodas</td>\n",
       "      <td>decimal</td>\n",
       "      <td>juridinio asmens kodas Juridinių asmenų registre</td>\n",
       "    </tr>\n",
       "    <tr>\n",
       "      <th>1</th>\n",
       "      <td>obj_pav</td>\n",
       "      <td>string</td>\n",
       "      <td>juridinio asmens pavadinimas (individualių įmo...</td>\n",
       "    </tr>\n",
       "    <tr>\n",
       "      <th>2</th>\n",
       "      <td>form_kodas</td>\n",
       "      <td>decimal</td>\n",
       "      <td>juridinio asmens formos kodas</td>\n",
       "    </tr>\n",
       "    <tr>\n",
       "      <th>3</th>\n",
       "      <td>form_pav</td>\n",
       "      <td>string</td>\n",
       "      <td>juridinio asmens formos pavadinimas</td>\n",
       "    </tr>\n",
       "    <tr>\n",
       "      <th>4</th>\n",
       "      <td>stat_statusas</td>\n",
       "      <td>decimal</td>\n",
       "      <td>juridinio asmens teisinio statuso kodas</td>\n",
       "    </tr>\n",
       "    <tr>\n",
       "      <th>5</th>\n",
       "      <td>stat_pav</td>\n",
       "      <td>string</td>\n",
       "      <td>juridinio asmens teisinio statuso pavadinimas</td>\n",
       "    </tr>\n",
       "    <tr>\n",
       "      <th>6</th>\n",
       "      <td>template_id</td>\n",
       "      <td>decimal</td>\n",
       "      <td>ataskaitos rūšies kodas</td>\n",
       "    </tr>\n",
       "    <tr>\n",
       "      <th>7</th>\n",
       "      <td>template_name</td>\n",
       "      <td>string</td>\n",
       "      <td>ataskaitos rūšies pavadinimas</td>\n",
       "    </tr>\n",
       "    <tr>\n",
       "      <th>8</th>\n",
       "      <td>standard_id</td>\n",
       "      <td>decimal</td>\n",
       "      <td>FA dokumentų rinkinio kodas</td>\n",
       "    </tr>\n",
       "    <tr>\n",
       "      <th>9</th>\n",
       "      <td>standard_name</td>\n",
       "      <td>string</td>\n",
       "      <td>FA dokumentų rinkinio tipas</td>\n",
       "    </tr>\n",
       "    <tr>\n",
       "      <th>10</th>\n",
       "      <td>laikotarpis_nuo</td>\n",
       "      <td>date</td>\n",
       "      <td>finansinių metų pradžios data</td>\n",
       "    </tr>\n",
       "    <tr>\n",
       "      <th>11</th>\n",
       "      <td>laikotarpis_iki</td>\n",
       "      <td>date</td>\n",
       "      <td>finansinių metų pabaigos data</td>\n",
       "    </tr>\n",
       "    <tr>\n",
       "      <th>12</th>\n",
       "      <td>reg_date</td>\n",
       "      <td>date</td>\n",
       "      <td>FA dokumentų registravimo JAR data</td>\n",
       "    </tr>\n",
       "    <tr>\n",
       "      <th>13</th>\n",
       "      <td>nuosavas_kapitalas</td>\n",
       "      <td>decimal</td>\n",
       "      <td>FA ataskaitos rodiklio (nuosavo kapitalo) reik...</td>\n",
       "    </tr>\n",
       "    <tr>\n",
       "      <th>14</th>\n",
       "      <td>mok_sumos_ir_isipareigojimai</td>\n",
       "      <td>decimal</td>\n",
       "      <td>FA rodiklio (mokėtinų sumų ir įsipareigojimų) ...</td>\n",
       "    </tr>\n",
       "    <tr>\n",
       "      <th>15</th>\n",
       "      <td>ilgalaikis_turtas</td>\n",
       "      <td>decimal</td>\n",
       "      <td>FA ataskaitos rodiklio (ilgalaikio turto) reik...</td>\n",
       "    </tr>\n",
       "    <tr>\n",
       "      <th>16</th>\n",
       "      <td>trumpalaikis_turtas</td>\n",
       "      <td>decimal</td>\n",
       "      <td>FA ataskaitos rodiklio (trumpalaikio turto) re...</td>\n",
       "    </tr>\n",
       "  </tbody>\n",
       "</table>\n",
       "</div>"
      ],
      "text/plain": [
       "                       Žymėjimas    Tipas  \\\n",
       "0                      obj_kodas  decimal   \n",
       "1                        obj_pav   string   \n",
       "2                     form_kodas  decimal   \n",
       "3                       form_pav   string   \n",
       "4                  stat_statusas  decimal   \n",
       "5                       stat_pav   string   \n",
       "6                    template_id  decimal   \n",
       "7                  template_name   string   \n",
       "8                    standard_id  decimal   \n",
       "9                  standard_name   string   \n",
       "10               laikotarpis_nuo     date   \n",
       "11               laikotarpis_iki     date   \n",
       "12                      reg_date     date   \n",
       "13            nuosavas_kapitalas  decimal   \n",
       "14  mok_sumos_ir_isipareigojimai  decimal   \n",
       "15             ilgalaikis_turtas  decimal   \n",
       "16           trumpalaikis_turtas  decimal   \n",
       "\n",
       "                                   Atributo aprašymas  \n",
       "0   juridinio asmens kodas Juridinių asmenų registre   \n",
       "1   juridinio asmens pavadinimas (individualių įmo...  \n",
       "2                       juridinio asmens formos kodas  \n",
       "3                 juridinio asmens formos pavadinimas  \n",
       "4             juridinio asmens teisinio statuso kodas  \n",
       "5       juridinio asmens teisinio statuso pavadinimas  \n",
       "6                             ataskaitos rūšies kodas  \n",
       "7                       ataskaitos rūšies pavadinimas  \n",
       "8                         FA dokumentų rinkinio kodas  \n",
       "9                         FA dokumentų rinkinio tipas  \n",
       "10                      finansinių metų pradžios data  \n",
       "11                      finansinių metų pabaigos data  \n",
       "12                 FA dokumentų registravimo JAR data  \n",
       "13  FA ataskaitos rodiklio (nuosavo kapitalo) reik...  \n",
       "14  FA rodiklio (mokėtinų sumų ir įsipareigojimų) ...  \n",
       "15  FA ataskaitos rodiklio (ilgalaikio turto) reik...  \n",
       "16  FA ataskaitos rodiklio (trumpalaikio turto) re...  "
      ]
     },
     "execution_count": 5,
     "metadata": {},
     "output_type": "execute_result"
    },
    {
     "data": {
      "application/javascript": "\n            setTimeout(function() {\n                var nbb_cell_id = 5;\n                var nbb_unformatted_code = \"raw_data_dictionary_balanso_ataskaita = pd.read_excel('https://www.registrucentras.lt/bylos/dokumentai/duomenys/aduomenys/JAR_FA_RODIKLIAI_BLNS_STR.xlsx', header=1)\\nraw_data_dictionary_balanso_ataskaita\";\n                var nbb_formatted_code = \"raw_data_dictionary_balanso_ataskaita = pd.read_excel(\\n    \\\"https://www.registrucentras.lt/bylos/dokumentai/duomenys/aduomenys/JAR_FA_RODIKLIAI_BLNS_STR.xlsx\\\",\\n    header=1,\\n)\\nraw_data_dictionary_balanso_ataskaita\";\n                var nbb_cells = Jupyter.notebook.get_cells();\n                for (var i = 0; i < nbb_cells.length; ++i) {\n                    if (nbb_cells[i].input_prompt_number == nbb_cell_id) {\n                        if (nbb_cells[i].get_text() == nbb_unformatted_code) {\n                             nbb_cells[i].set_text(nbb_formatted_code);\n                        }\n                        break;\n                    }\n                }\n            }, 500);\n            ",
      "text/plain": [
       "<IPython.core.display.Javascript object>"
      ]
     },
     "metadata": {},
     "output_type": "display_data"
    }
   ],
   "source": [
    "raw_data_dictionary_balanso_ataskaita = pd.read_excel('https://www.registrucentras.lt/bylos/dokumentai/duomenys/aduomenys/JAR_FA_RODIKLIAI_BLNS_STR.xlsx', header=1)\n",
    "raw_data_dictionary_balanso_ataskaita"
   ]
  },
  {
   "cell_type": "code",
   "execution_count": 6,
   "id": "d8806e77-95a3-4d2b-aef5-f37542c44684",
   "metadata": {},
   "outputs": [
    {
     "data": {
      "text/html": [
       "<div>\n",
       "<style scoped>\n",
       "    .dataframe tbody tr th:only-of-type {\n",
       "        vertical-align: middle;\n",
       "    }\n",
       "\n",
       "    .dataframe tbody tr th {\n",
       "        vertical-align: top;\n",
       "    }\n",
       "\n",
       "    .dataframe thead th {\n",
       "        text-align: right;\n",
       "    }\n",
       "</style>\n",
       "<table border=\"1\" class=\"dataframe\">\n",
       "  <thead>\n",
       "    <tr style=\"text-align: right;\">\n",
       "      <th></th>\n",
       "      <th>Žymėjimas</th>\n",
       "      <th>Tipas</th>\n",
       "      <th>Atributo aprašymas</th>\n",
       "    </tr>\n",
       "  </thead>\n",
       "  <tbody>\n",
       "    <tr>\n",
       "      <th>0</th>\n",
       "      <td>obj_kodas</td>\n",
       "      <td>decimal</td>\n",
       "      <td>juridinio asmens kodas Juridinių asmenų registre</td>\n",
       "    </tr>\n",
       "    <tr>\n",
       "      <th>1</th>\n",
       "      <td>obj_pav</td>\n",
       "      <td>string</td>\n",
       "      <td>juridinio asmens pavadinimas (individualių įmo...</td>\n",
       "    </tr>\n",
       "    <tr>\n",
       "      <th>2</th>\n",
       "      <td>form_kodas</td>\n",
       "      <td>decimal</td>\n",
       "      <td>juridinio asmens formos kodas</td>\n",
       "    </tr>\n",
       "    <tr>\n",
       "      <th>3</th>\n",
       "      <td>form_pav</td>\n",
       "      <td>string</td>\n",
       "      <td>juridinio asmens formos pavadinimas</td>\n",
       "    </tr>\n",
       "    <tr>\n",
       "      <th>4</th>\n",
       "      <td>stat_statusas</td>\n",
       "      <td>decimal</td>\n",
       "      <td>juridinio asmens teisinio statuso kodas</td>\n",
       "    </tr>\n",
       "    <tr>\n",
       "      <th>5</th>\n",
       "      <td>stat_pav</td>\n",
       "      <td>string</td>\n",
       "      <td>juridinio asmens teisinio statuso pavadinimas</td>\n",
       "    </tr>\n",
       "    <tr>\n",
       "      <th>6</th>\n",
       "      <td>template_id</td>\n",
       "      <td>decimal</td>\n",
       "      <td>ataskaitos rūšies kodas</td>\n",
       "    </tr>\n",
       "    <tr>\n",
       "      <th>7</th>\n",
       "      <td>template_name</td>\n",
       "      <td>string</td>\n",
       "      <td>ataskaitos rūšies pavadinimas</td>\n",
       "    </tr>\n",
       "    <tr>\n",
       "      <th>8</th>\n",
       "      <td>standard_id</td>\n",
       "      <td>decimal</td>\n",
       "      <td>FA dokumentų rinkinio kodas</td>\n",
       "    </tr>\n",
       "    <tr>\n",
       "      <th>9</th>\n",
       "      <td>standard_name</td>\n",
       "      <td>string</td>\n",
       "      <td>FA dokumentų rinkinio tipas</td>\n",
       "    </tr>\n",
       "    <tr>\n",
       "      <th>10</th>\n",
       "      <td>laikotarpis_nuo</td>\n",
       "      <td>date</td>\n",
       "      <td>finansinių metų pradžios data</td>\n",
       "    </tr>\n",
       "    <tr>\n",
       "      <th>11</th>\n",
       "      <td>laikotarpis_iki</td>\n",
       "      <td>date</td>\n",
       "      <td>finansinių metų pabaigos data</td>\n",
       "    </tr>\n",
       "    <tr>\n",
       "      <th>12</th>\n",
       "      <td>reg_date</td>\n",
       "      <td>date</td>\n",
       "      <td>FA dokumentų registravimo JAR data</td>\n",
       "    </tr>\n",
       "    <tr>\n",
       "      <th>13</th>\n",
       "      <td>pelnas_pries_apmokestinima</td>\n",
       "      <td>decimal</td>\n",
       "      <td>FA ataskaitos rodiklio (pelno prieš apmokestin...</td>\n",
       "    </tr>\n",
       "    <tr>\n",
       "      <th>14</th>\n",
       "      <td>grynasis_pelnas</td>\n",
       "      <td>decimal</td>\n",
       "      <td>FA ataskaitos rodiklio (grynojo pelno) reikšmė...</td>\n",
       "    </tr>\n",
       "    <tr>\n",
       "      <th>15</th>\n",
       "      <td>pardavimo_pajamos</td>\n",
       "      <td>decimal</td>\n",
       "      <td>FA ataskaitos rodiklio (pardavimo pajamų) reik...</td>\n",
       "    </tr>\n",
       "  </tbody>\n",
       "</table>\n",
       "</div>"
      ],
      "text/plain": [
       "                     Žymėjimas    Tipas  \\\n",
       "0                    obj_kodas  decimal   \n",
       "1                      obj_pav   string   \n",
       "2                   form_kodas  decimal   \n",
       "3                     form_pav   string   \n",
       "4                stat_statusas  decimal   \n",
       "5                     stat_pav   string   \n",
       "6                  template_id  decimal   \n",
       "7                template_name   string   \n",
       "8                  standard_id  decimal   \n",
       "9                standard_name   string   \n",
       "10             laikotarpis_nuo     date   \n",
       "11             laikotarpis_iki     date   \n",
       "12                    reg_date     date   \n",
       "13  pelnas_pries_apmokestinima  decimal   \n",
       "14             grynasis_pelnas  decimal   \n",
       "15           pardavimo_pajamos  decimal   \n",
       "\n",
       "                                   Atributo aprašymas  \n",
       "0   juridinio asmens kodas Juridinių asmenų registre   \n",
       "1   juridinio asmens pavadinimas (individualių įmo...  \n",
       "2                       juridinio asmens formos kodas  \n",
       "3                 juridinio asmens formos pavadinimas  \n",
       "4             juridinio asmens teisinio statuso kodas  \n",
       "5       juridinio asmens teisinio statuso pavadinimas  \n",
       "6                             ataskaitos rūšies kodas  \n",
       "7                       ataskaitos rūšies pavadinimas  \n",
       "8                         FA dokumentų rinkinio kodas  \n",
       "9                         FA dokumentų rinkinio tipas  \n",
       "10                      finansinių metų pradžios data  \n",
       "11                      finansinių metų pabaigos data  \n",
       "12                 FA dokumentų registravimo JAR data  \n",
       "13  FA ataskaitos rodiklio (pelno prieš apmokestin...  \n",
       "14  FA ataskaitos rodiklio (grynojo pelno) reikšmė...  \n",
       "15  FA ataskaitos rodiklio (pardavimo pajamų) reik...  "
      ]
     },
     "execution_count": 6,
     "metadata": {},
     "output_type": "execute_result"
    },
    {
     "data": {
      "application/javascript": "\n            setTimeout(function() {\n                var nbb_cell_id = 6;\n                var nbb_unformatted_code = \"raw_data_dictionary_pelno_nuostoliu_ataskaita = pd.read_excel('https://www.registrucentras.lt/bylos/dokumentai/duomenys/aduomenys/JAR_FA_RODIKLIAI_PLNA_STR.xlsx', header=1)\\nraw_data_dictionary_pelno_nuostoliu_ataskaita.head(20)\";\n                var nbb_formatted_code = \"raw_data_dictionary_pelno_nuostoliu_ataskaita = pd.read_excel(\\n    \\\"https://www.registrucentras.lt/bylos/dokumentai/duomenys/aduomenys/JAR_FA_RODIKLIAI_PLNA_STR.xlsx\\\",\\n    header=1,\\n)\\nraw_data_dictionary_pelno_nuostoliu_ataskaita.head(20)\";\n                var nbb_cells = Jupyter.notebook.get_cells();\n                for (var i = 0; i < nbb_cells.length; ++i) {\n                    if (nbb_cells[i].input_prompt_number == nbb_cell_id) {\n                        if (nbb_cells[i].get_text() == nbb_unformatted_code) {\n                             nbb_cells[i].set_text(nbb_formatted_code);\n                        }\n                        break;\n                    }\n                }\n            }, 500);\n            ",
      "text/plain": [
       "<IPython.core.display.Javascript object>"
      ]
     },
     "metadata": {},
     "output_type": "display_data"
    }
   ],
   "source": [
    "raw_data_dictionary_pelno_nuostoliu_ataskaita = pd.read_excel('https://www.registrucentras.lt/bylos/dokumentai/duomenys/aduomenys/JAR_FA_RODIKLIAI_PLNA_STR.xlsx', header=1)\n",
    "raw_data_dictionary_pelno_nuostoliu_ataskaita.head(20)"
   ]
  },
  {
   "cell_type": "markdown",
   "id": "66d8be85-f3ba-43f4-a7de-c6eca533d01c",
   "metadata": {},
   "source": [
    "## 3.2. Kiek reikšmių ir požymių turi kiekvienas iš dokumentų?\n"
   ]
  },
  {
   "cell_type": "code",
   "execution_count": 7,
   "id": "075bb9b9-0401-4874-85a0-b51a20b4631b",
   "metadata": {},
   "outputs": [
    {
     "data": {
      "text/html": [
       "<div>\n",
       "<style scoped>\n",
       "    .dataframe tbody tr th:only-of-type {\n",
       "        vertical-align: middle;\n",
       "    }\n",
       "\n",
       "    .dataframe tbody tr th {\n",
       "        vertical-align: top;\n",
       "    }\n",
       "\n",
       "    .dataframe thead th {\n",
       "        text-align: right;\n",
       "    }\n",
       "</style>\n",
       "<table border=\"1\" class=\"dataframe\">\n",
       "  <thead>\n",
       "    <tr style=\"text-align: right;\">\n",
       "      <th></th>\n",
       "      <th>features</th>\n",
       "      <th>rows</th>\n",
       "    </tr>\n",
       "    <tr>\n",
       "      <th>dataset_name</th>\n",
       "      <th></th>\n",
       "      <th></th>\n",
       "    </tr>\n",
       "  </thead>\n",
       "  <tbody>\n",
       "    <tr>\n",
       "      <th>raw_balanso_ataskaita_2020</th>\n",
       "      <td>18</td>\n",
       "      <td>106318</td>\n",
       "    </tr>\n",
       "    <tr>\n",
       "      <th>raw_balanso_ataskaita_2021</th>\n",
       "      <td>18</td>\n",
       "      <td>120850</td>\n",
       "    </tr>\n",
       "    <tr>\n",
       "      <th>raw_pelno_ataskaita_2020</th>\n",
       "      <td>17</td>\n",
       "      <td>96616</td>\n",
       "    </tr>\n",
       "    <tr>\n",
       "      <th>raw_pelno_ataskaita_2021</th>\n",
       "      <td>17</td>\n",
       "      <td>110227</td>\n",
       "    </tr>\n",
       "  </tbody>\n",
       "</table>\n",
       "</div>"
      ],
      "text/plain": [
       "                            features    rows\n",
       "dataset_name                                \n",
       "raw_balanso_ataskaita_2020        18  106318\n",
       "raw_balanso_ataskaita_2021        18  120850\n",
       "raw_pelno_ataskaita_2020          17   96616\n",
       "raw_pelno_ataskaita_2021          17  110227"
      ]
     },
     "execution_count": 7,
     "metadata": {},
     "output_type": "execute_result"
    },
    {
     "data": {
      "application/javascript": "\n            setTimeout(function() {\n                var nbb_cell_id = 7;\n                var nbb_unformatted_code = \"pd.DataFrame({\\n    'features' : [len(raw_balanso_ataskaita_2020.columns), len(raw_balanso_ataskaita_2021.columns), len(raw_pelno_ataskaita_2020.columns), len(raw_pelno_ataskaita_2021.columns)],\\n    'rows' : [len(raw_balanso_ataskaita_2020), len(raw_balanso_ataskaita_2021), len(raw_pelno_ataskaita_2020), len(raw_pelno_ataskaita_2021)],\\n    'dataset_name': ['raw_balanso_ataskaita_2020','raw_balanso_ataskaita_2021','raw_pelno_ataskaita_2020','raw_pelno_ataskaita_2021']\\n}).set_index('dataset_name')\";\n                var nbb_formatted_code = \"pd.DataFrame(\\n    {\\n        \\\"features\\\": [\\n            len(raw_balanso_ataskaita_2020.columns),\\n            len(raw_balanso_ataskaita_2021.columns),\\n            len(raw_pelno_ataskaita_2020.columns),\\n            len(raw_pelno_ataskaita_2021.columns),\\n        ],\\n        \\\"rows\\\": [\\n            len(raw_balanso_ataskaita_2020),\\n            len(raw_balanso_ataskaita_2021),\\n            len(raw_pelno_ataskaita_2020),\\n            len(raw_pelno_ataskaita_2021),\\n        ],\\n        \\\"dataset_name\\\": [\\n            \\\"raw_balanso_ataskaita_2020\\\",\\n            \\\"raw_balanso_ataskaita_2021\\\",\\n            \\\"raw_pelno_ataskaita_2020\\\",\\n            \\\"raw_pelno_ataskaita_2021\\\",\\n        ],\\n    }\\n).set_index(\\\"dataset_name\\\")\";\n                var nbb_cells = Jupyter.notebook.get_cells();\n                for (var i = 0; i < nbb_cells.length; ++i) {\n                    if (nbb_cells[i].input_prompt_number == nbb_cell_id) {\n                        if (nbb_cells[i].get_text() == nbb_unformatted_code) {\n                             nbb_cells[i].set_text(nbb_formatted_code);\n                        }\n                        break;\n                    }\n                }\n            }, 500);\n            ",
      "text/plain": [
       "<IPython.core.display.Javascript object>"
      ]
     },
     "metadata": {},
     "output_type": "display_data"
    }
   ],
   "source": [
    "pd.DataFrame({\n",
    "    'features' : [len(raw_balanso_ataskaita_2020.columns), len(raw_balanso_ataskaita_2021.columns), len(raw_pelno_ataskaita_2020.columns), len(raw_pelno_ataskaita_2021.columns)],\n",
    "    'rows' : [len(raw_balanso_ataskaita_2020), len(raw_balanso_ataskaita_2021), len(raw_pelno_ataskaita_2020), len(raw_pelno_ataskaita_2021)],\n",
    "    'dataset_name': ['raw_balanso_ataskaita_2020','raw_balanso_ataskaita_2021','raw_pelno_ataskaita_2020','raw_pelno_ataskaita_2021']\n",
    "}).set_index('dataset_name')"
   ]
  },
  {
   "attachments": {},
   "cell_type": "markdown",
   "id": "c96d6a71",
   "metadata": {},
   "source": [
    "<font color='red'> Erikas Švažas: \n",
    "\n",
    "1. Puiki mintis informaciją apie 4 datasetus atvaizduoti per vieną DataFrame.\n",
    "2. Mintis - be aware apie  *shape* fciją kaip alternatyvą *len*.\n",
    "</font>"
   ]
  },
  {
   "cell_type": "markdown",
   "id": "548906bc-5898-4276-82e6-7abc20b60fe3",
   "metadata": {},
   "source": [
    "### 3.2. Ats:  \n",
    "Kaip matome lentelėse, požymių skaičius atitinkančiuose dokumentuose sutampa: *Juridinių asmenų pateikti finansinės atskaitomybės dokumentai – balanso ataskaitos* turi po 18, o *Juridinių asmenų pateikti finansinės atskaitomybės dokumentai – pelno (nuostolių)* ataskaitos po 17  \n",
    "Kiekvienas iš parsisiųstų dokumentų turi skirtingą skaičių reikšmių.\n"
   ]
  },
  {
   "cell_type": "markdown",
   "id": "2ef0ffcf-829d-420b-9e62-033b8938efcc",
   "metadata": {},
   "source": [
    "## 3.3 Kokio duomenų tipo yra kiekvienas iš požymių? Ar duomenų tipai tarp atitinkamų lentelių iš 2020 ir 2021 metų sutampa?"
   ]
  },
  {
   "cell_type": "markdown",
   "id": "fadfa571-c091-43d9-a177-81fbb55600b5",
   "metadata": {},
   "source": [
    "### 3.3. ats: \n",
    "Duomenų tipai sutampa tarp 2020 ir 2021 metų dokumentų, tačiau neatitinka duomenų rinkinio struktūroje nurodytų duomenų tipų."
   ]
  },
  {
   "cell_type": "code",
   "execution_count": 8,
   "id": "d45980c0-839b-42b8-8705-1b4ac5474913",
   "metadata": {},
   "outputs": [
    {
     "data": {
      "text/plain": [
       "obj_kodas                         int64\n",
       "obj_pav                          object\n",
       "form_kodas                        int64\n",
       "form_pav                         object\n",
       "stat_statusas                     int64\n",
       "stat_pav                         object\n",
       "template_id                      object\n",
       "template_name                    object\n",
       "standard_id                      object\n",
       "standard_name                    object\n",
       "laikotarpis_nuo                  object\n",
       "laikotarpis_iki                  object\n",
       "reg_date                         object\n",
       "nuosavas_kapitalas              float64\n",
       "mok_sumos_ir_isipareigojimai    float64\n",
       "ilgalaikis_turtas               float64\n",
       "trumpalaikis_turtas             float64\n",
       "formavimo_data                   object\n",
       "dtype: object"
      ]
     },
     "execution_count": 8,
     "metadata": {},
     "output_type": "execute_result"
    },
    {
     "data": {
      "application/javascript": "\n            setTimeout(function() {\n                var nbb_cell_id = 8;\n                var nbb_unformatted_code = \"raw_balanso_ataskaita_2020.dtypes\";\n                var nbb_formatted_code = \"raw_balanso_ataskaita_2020.dtypes\";\n                var nbb_cells = Jupyter.notebook.get_cells();\n                for (var i = 0; i < nbb_cells.length; ++i) {\n                    if (nbb_cells[i].input_prompt_number == nbb_cell_id) {\n                        if (nbb_cells[i].get_text() == nbb_unformatted_code) {\n                             nbb_cells[i].set_text(nbb_formatted_code);\n                        }\n                        break;\n                    }\n                }\n            }, 500);\n            ",
      "text/plain": [
       "<IPython.core.display.Javascript object>"
      ]
     },
     "metadata": {},
     "output_type": "display_data"
    }
   ],
   "source": [
    "raw_balanso_ataskaita_2020.dtypes"
   ]
  },
  {
   "cell_type": "code",
   "execution_count": 9,
   "id": "f026df54-0565-4308-963f-efbbfa19b5ad",
   "metadata": {},
   "outputs": [
    {
     "data": {
      "text/plain": [
       "obj_kodas                       True\n",
       "obj_pav                         True\n",
       "form_kodas                      True\n",
       "form_pav                        True\n",
       "stat_statusas                   True\n",
       "stat_pav                        True\n",
       "template_id                     True\n",
       "template_name                   True\n",
       "standard_id                     True\n",
       "standard_name                   True\n",
       "laikotarpis_nuo                 True\n",
       "laikotarpis_iki                 True\n",
       "reg_date                        True\n",
       "nuosavas_kapitalas              True\n",
       "mok_sumos_ir_isipareigojimai    True\n",
       "ilgalaikis_turtas               True\n",
       "trumpalaikis_turtas             True\n",
       "formavimo_data                  True\n",
       "dtype: bool"
      ]
     },
     "execution_count": 9,
     "metadata": {},
     "output_type": "execute_result"
    },
    {
     "data": {
      "application/javascript": "\n            setTimeout(function() {\n                var nbb_cell_id = 9;\n                var nbb_unformatted_code = \"raw_balanso_ataskaita_2021.dtypes == raw_balanso_ataskaita_2020.dtypes\";\n                var nbb_formatted_code = \"raw_balanso_ataskaita_2021.dtypes == raw_balanso_ataskaita_2020.dtypes\";\n                var nbb_cells = Jupyter.notebook.get_cells();\n                for (var i = 0; i < nbb_cells.length; ++i) {\n                    if (nbb_cells[i].input_prompt_number == nbb_cell_id) {\n                        if (nbb_cells[i].get_text() == nbb_unformatted_code) {\n                             nbb_cells[i].set_text(nbb_formatted_code);\n                        }\n                        break;\n                    }\n                }\n            }, 500);\n            ",
      "text/plain": [
       "<IPython.core.display.Javascript object>"
      ]
     },
     "metadata": {},
     "output_type": "display_data"
    }
   ],
   "source": [
    "raw_balanso_ataskaita_2021.dtypes == raw_balanso_ataskaita_2020.dtypes"
   ]
  },
  {
   "cell_type": "code",
   "execution_count": 10,
   "id": "1893285c-3fe4-475d-b912-c3b58583e603",
   "metadata": {},
   "outputs": [
    {
     "data": {
      "text/plain": [
       "obj_kodas                       int64\n",
       "obj_pav                        object\n",
       "form_kodas                      int64\n",
       "form_pav                       object\n",
       "stat_statusas                   int64\n",
       "stat_pav                       object\n",
       "template_id                    object\n",
       "template_name                  object\n",
       "standard_id                    object\n",
       "standard_name                  object\n",
       "laikotarpis_nuo                object\n",
       "laikotarpis_iki                object\n",
       "reg_date                       object\n",
       "pelnas_pries_apmokestinima    float64\n",
       "grynasis_pelnas               float64\n",
       "pardavimo_pajamos             float64\n",
       "formavimo_data                 object\n",
       "dtype: object"
      ]
     },
     "execution_count": 10,
     "metadata": {},
     "output_type": "execute_result"
    },
    {
     "data": {
      "application/javascript": "\n            setTimeout(function() {\n                var nbb_cell_id = 10;\n                var nbb_unformatted_code = \"raw_pelno_ataskaita_2020.dtypes\";\n                var nbb_formatted_code = \"raw_pelno_ataskaita_2020.dtypes\";\n                var nbb_cells = Jupyter.notebook.get_cells();\n                for (var i = 0; i < nbb_cells.length; ++i) {\n                    if (nbb_cells[i].input_prompt_number == nbb_cell_id) {\n                        if (nbb_cells[i].get_text() == nbb_unformatted_code) {\n                             nbb_cells[i].set_text(nbb_formatted_code);\n                        }\n                        break;\n                    }\n                }\n            }, 500);\n            ",
      "text/plain": [
       "<IPython.core.display.Javascript object>"
      ]
     },
     "metadata": {},
     "output_type": "display_data"
    }
   ],
   "source": [
    "raw_pelno_ataskaita_2020.dtypes"
   ]
  },
  {
   "cell_type": "code",
   "execution_count": 11,
   "id": "1e5883ae-7c5c-4b10-a2ea-02bf966914d3",
   "metadata": {},
   "outputs": [
    {
     "data": {
      "text/plain": [
       "obj_kodas                     True\n",
       "obj_pav                       True\n",
       "form_kodas                    True\n",
       "form_pav                      True\n",
       "stat_statusas                 True\n",
       "stat_pav                      True\n",
       "template_id                   True\n",
       "template_name                 True\n",
       "standard_id                   True\n",
       "standard_name                 True\n",
       "laikotarpis_nuo               True\n",
       "laikotarpis_iki               True\n",
       "reg_date                      True\n",
       "pelnas_pries_apmokestinima    True\n",
       "grynasis_pelnas               True\n",
       "pardavimo_pajamos             True\n",
       "formavimo_data                True\n",
       "dtype: bool"
      ]
     },
     "execution_count": 11,
     "metadata": {},
     "output_type": "execute_result"
    },
    {
     "data": {
      "application/javascript": "\n            setTimeout(function() {\n                var nbb_cell_id = 11;\n                var nbb_unformatted_code = \"raw_pelno_ataskaita_2021.dtypes == raw_pelno_ataskaita_2020.dtypes\";\n                var nbb_formatted_code = \"raw_pelno_ataskaita_2021.dtypes == raw_pelno_ataskaita_2020.dtypes\";\n                var nbb_cells = Jupyter.notebook.get_cells();\n                for (var i = 0; i < nbb_cells.length; ++i) {\n                    if (nbb_cells[i].input_prompt_number == nbb_cell_id) {\n                        if (nbb_cells[i].get_text() == nbb_unformatted_code) {\n                             nbb_cells[i].set_text(nbb_formatted_code);\n                        }\n                        break;\n                    }\n                }\n            }, 500);\n            ",
      "text/plain": [
       "<IPython.core.display.Javascript object>"
      ]
     },
     "metadata": {},
     "output_type": "display_data"
    }
   ],
   "source": [
    "raw_pelno_ataskaita_2021.dtypes == raw_pelno_ataskaita_2020.dtypes"
   ]
  },
  {
   "cell_type": "markdown",
   "id": "46c8419a-eefb-4068-871d-5bf58e499d95",
   "metadata": {},
   "source": [
    "## 3.4. Paaiškinkite kas yra object duomenų tipas ir kuo jis skiriasi nuo string duomenų tipo."
   ]
  },
  {
   "cell_type": "markdown",
   "id": "c2d76646-db1a-4013-ac99-38497a0bc19e",
   "metadata": {},
   "source": [
    "### 3.4. Ats:\n",
    "Object duomenų tipas - tai bendrinis duomenų tipas, kuris apibūdinantis, kaip duomenys kompiuterio atmintyje yra užkoduoti. Obeject duomenų tipas yra bendrinis, kuris gali savyje laikyti duomenis, tačiau neturėti priskirtam duomenų tipui būdingų savybių. Pavyzdžiui, jei  turime požymio stulpelį \"spalva\", kurią sudaro \"mėlyna\" ir \"žalia\" rekšmės. jei požymio \"spalva\" duomenų tipas bus \"Object\" jam negalėsime pritaikyti String duomenų tipui būdingų funkcijų, kaip .str.lower(), str.upper() ir pan. Kitavertus, jei pakeisime požymio \"spalva\" duomenų tipą į String, šias funkcijas galėsime naudoti."
   ]
  },
  {
   "attachments": {},
   "cell_type": "markdown",
   "id": "08d75800",
   "metadata": {},
   "source": [
    "<font color='red'> Erikas Švažas: \n",
    "Taip, teisingai. Dar pridėčiau, kad *everything is an object in Python* ir jei *Pandas* negali atpažinti duomenų tipo, by default bus *object*. Šaunus pastebėjimas dėl skiringų fcijų *object* ir *string* kintamiesiems.\n",
    "\n",
    "</font>"
   ]
  },
  {
   "cell_type": "markdown",
   "id": "a741dd59-6466-47fd-9a5d-518d029d3ac8",
   "metadata": {},
   "source": [
    "## 3.5. Kuri lentelė turi daugiausiai nežinomų verčių? Kuris požymis išsiskiria nežinomų verčių skaičiumi?\n",
    "\n",
    "### Ats: Pelno nuostolių ataskaita 2021 turi daugiausiai nežinomų reikšmių. Pelno nuostolių ataskaitoje 2021 yra reikšmė turinti daugiausiai nežinomųjų : 'pelnas_pries_apmokestinima': 34755"
   ]
  },
  {
   "attachments": {},
   "cell_type": "markdown",
   "id": "6199eed0",
   "metadata": {},
   "source": [
    "<font color='red'> Erikas Švažas: \n",
    "šauniai panaudojai *Pandas* intrinsic fcijas, kad atsakytum į klausimą. Be aware apie open-source paketus (pav [šis](https://github.com/ResidentMario/missingno)) skirtus tokiom užduotim spręsti.\n",
    "</font>"
   ]
  },
  {
   "cell_type": "code",
   "execution_count": 12,
   "id": "b4f2dbd5-0b6a-4ebb-b374-8a488ba4f831",
   "metadata": {},
   "outputs": [
    {
     "data": {
      "application/javascript": "\n            setTimeout(function() {\n                var nbb_cell_id = 12;\n                var nbb_unformatted_code = \"def count_na_values(dataframe: pd.DataFrame) -> int:\\n     return dataframe.isna().sum().sum()\";\n                var nbb_formatted_code = \"def count_na_values(dataframe: pd.DataFrame) -> int:\\n    return dataframe.isna().sum().sum()\";\n                var nbb_cells = Jupyter.notebook.get_cells();\n                for (var i = 0; i < nbb_cells.length; ++i) {\n                    if (nbb_cells[i].input_prompt_number == nbb_cell_id) {\n                        if (nbb_cells[i].get_text() == nbb_unformatted_code) {\n                             nbb_cells[i].set_text(nbb_formatted_code);\n                        }\n                        break;\n                    }\n                }\n            }, 500);\n            ",
      "text/plain": [
       "<IPython.core.display.Javascript object>"
      ]
     },
     "metadata": {},
     "output_type": "display_data"
    }
   ],
   "source": [
    "def count_na_values(dataframe: pd.DataFrame) -> int:\n",
    "     return dataframe.isna().sum().sum()"
   ]
  },
  {
   "cell_type": "code",
   "execution_count": 13,
   "id": "682d596d-03d4-4c84-9112-39d44587ca5c",
   "metadata": {},
   "outputs": [
    {
     "data": {
      "image/png": "[encoded data removed]",
      "text/plain": [
       "<Figure size 640x480 with 1 Axes>"
      ]
     },
     "metadata": {},
     "output_type": "display_data"
    },
    {
     "data": {
      "application/javascript": "\n            setTimeout(function() {\n                var nbb_cell_id = 13;\n                var nbb_unformatted_code = \"pd.DataFrame({\\n'total_na_count' : [count_na_values(raw_balanso_ataskaita_2020),\\n                    count_na_values(raw_balanso_ataskaita_2021),\\n                    count_na_values(raw_pelno_ataskaita_2020),\\n                    count_na_values(raw_pelno_ataskaita_2021)\\n                   ],\\n    'dataframe' : ['raw_balanso_ataskaita_2020','raw_balanso_ataskaita_2021','raw_pelno_ataskaita_2020','raw_pelno_ataskaita_2021']\\n}).set_index('dataframe').plot(kind='bar');\";\n                var nbb_formatted_code = \"pd.DataFrame(\\n    {\\n        \\\"total_na_count\\\": [\\n            count_na_values(raw_balanso_ataskaita_2020),\\n            count_na_values(raw_balanso_ataskaita_2021),\\n            count_na_values(raw_pelno_ataskaita_2020),\\n            count_na_values(raw_pelno_ataskaita_2021),\\n        ],\\n        \\\"dataframe\\\": [\\n            \\\"raw_balanso_ataskaita_2020\\\",\\n            \\\"raw_balanso_ataskaita_2021\\\",\\n            \\\"raw_pelno_ataskaita_2020\\\",\\n            \\\"raw_pelno_ataskaita_2021\\\",\\n        ],\\n    }\\n).set_index(\\\"dataframe\\\").plot(kind=\\\"bar\\\")\";\n                var nbb_cells = Jupyter.notebook.get_cells();\n                for (var i = 0; i < nbb_cells.length; ++i) {\n                    if (nbb_cells[i].input_prompt_number == nbb_cell_id) {\n                        if (nbb_cells[i].get_text() == nbb_unformatted_code) {\n                             nbb_cells[i].set_text(nbb_formatted_code);\n                        }\n                        break;\n                    }\n                }\n            }, 500);\n            ",
      "text/plain": [
       "<IPython.core.display.Javascript object>"
      ]
     },
     "metadata": {},
     "output_type": "display_data"
    }
   ],
   "source": [
    "pd.DataFrame({\n",
    "'total_na_count' : [count_na_values(raw_balanso_ataskaita_2020),\n",
    "                    count_na_values(raw_balanso_ataskaita_2021),\n",
    "                    count_na_values(raw_pelno_ataskaita_2020),\n",
    "                    count_na_values(raw_pelno_ataskaita_2021)\n",
    "                   ],\n",
    "    'dataframe' : ['raw_balanso_ataskaita_2020','raw_balanso_ataskaita_2021','raw_pelno_ataskaita_2020','raw_pelno_ataskaita_2021']\n",
    "}).set_index('dataframe').plot(kind='bar');\n"
   ]
  },
  {
   "cell_type": "code",
   "execution_count": 14,
   "id": "e843fe6a-a84f-4203-81ba-987e68773a13",
   "metadata": {},
   "outputs": [
    {
     "data": {
      "application/javascript": "\n            setTimeout(function() {\n                var nbb_cell_id = 14;\n                var nbb_unformatted_code = \"def get_feature_with_most_na(dataframe: pd.DataFrame) -> dict:\\n    return dict(dataframe.isna().sum().nlargest(1))\";\n                var nbb_formatted_code = \"def get_feature_with_most_na(dataframe: pd.DataFrame) -> dict:\\n    return dict(dataframe.isna().sum().nlargest(1))\";\n                var nbb_cells = Jupyter.notebook.get_cells();\n                for (var i = 0; i < nbb_cells.length; ++i) {\n                    if (nbb_cells[i].input_prompt_number == nbb_cell_id) {\n                        if (nbb_cells[i].get_text() == nbb_unformatted_code) {\n                             nbb_cells[i].set_text(nbb_formatted_code);\n                        }\n                        break;\n                    }\n                }\n            }, 500);\n            ",
      "text/plain": [
       "<IPython.core.display.Javascript object>"
      ]
     },
     "metadata": {},
     "output_type": "display_data"
    }
   ],
   "source": [
    "def get_feature_with_most_na(dataframe: pd.DataFrame) -> dict:\n",
    "    return dict(dataframe.isna().sum().nlargest(1))"
   ]
  },
  {
   "cell_type": "code",
   "execution_count": 15,
   "id": "501b0751-8139-4c78-9b4c-baf58bb01e5e",
   "metadata": {},
   "outputs": [
    {
     "data": {
      "text/plain": [
       "{'mok_sumos_ir_isipareigojimai': 13644}"
      ]
     },
     "execution_count": 15,
     "metadata": {},
     "output_type": "execute_result"
    },
    {
     "data": {
      "application/javascript": "\n            setTimeout(function() {\n                var nbb_cell_id = 15;\n                var nbb_unformatted_code = \"get_feature_with_most_na(raw_balanso_ataskaita_2020)\";\n                var nbb_formatted_code = \"get_feature_with_most_na(raw_balanso_ataskaita_2020)\";\n                var nbb_cells = Jupyter.notebook.get_cells();\n                for (var i = 0; i < nbb_cells.length; ++i) {\n                    if (nbb_cells[i].input_prompt_number == nbb_cell_id) {\n                        if (nbb_cells[i].get_text() == nbb_unformatted_code) {\n                             nbb_cells[i].set_text(nbb_formatted_code);\n                        }\n                        break;\n                    }\n                }\n            }, 500);\n            ",
      "text/plain": [
       "<IPython.core.display.Javascript object>"
      ]
     },
     "metadata": {},
     "output_type": "display_data"
    }
   ],
   "source": [
    "get_feature_with_most_na(raw_balanso_ataskaita_2020)"
   ]
  },
  {
   "cell_type": "code",
   "execution_count": 16,
   "id": "6b16c87e-a350-4dac-9272-7edcfc8826ea",
   "metadata": {},
   "outputs": [
    {
     "data": {
      "text/plain": [
       "{'mok_sumos_ir_isipareigojimai': 19670}"
      ]
     },
     "execution_count": 16,
     "metadata": {},
     "output_type": "execute_result"
    },
    {
     "data": {
      "application/javascript": "\n            setTimeout(function() {\n                var nbb_cell_id = 16;\n                var nbb_unformatted_code = \"get_feature_with_most_na(raw_balanso_ataskaita_2021)\";\n                var nbb_formatted_code = \"get_feature_with_most_na(raw_balanso_ataskaita_2021)\";\n                var nbb_cells = Jupyter.notebook.get_cells();\n                for (var i = 0; i < nbb_cells.length; ++i) {\n                    if (nbb_cells[i].input_prompt_number == nbb_cell_id) {\n                        if (nbb_cells[i].get_text() == nbb_unformatted_code) {\n                             nbb_cells[i].set_text(nbb_formatted_code);\n                        }\n                        break;\n                    }\n                }\n            }, 500);\n            ",
      "text/plain": [
       "<IPython.core.display.Javascript object>"
      ]
     },
     "metadata": {},
     "output_type": "display_data"
    }
   ],
   "source": [
    "get_feature_with_most_na(raw_balanso_ataskaita_2021)"
   ]
  },
  {
   "cell_type": "code",
   "execution_count": 17,
   "id": "67f598c9-a671-4083-a99a-c8e13ff2bbd8",
   "metadata": {},
   "outputs": [
    {
     "data": {
      "text/plain": [
       "{'pelnas_pries_apmokestinima': 30365}"
      ]
     },
     "execution_count": 17,
     "metadata": {},
     "output_type": "execute_result"
    },
    {
     "data": {
      "application/javascript": "\n            setTimeout(function() {\n                var nbb_cell_id = 17;\n                var nbb_unformatted_code = \"get_feature_with_most_na(raw_pelno_ataskaita_2020)\";\n                var nbb_formatted_code = \"get_feature_with_most_na(raw_pelno_ataskaita_2020)\";\n                var nbb_cells = Jupyter.notebook.get_cells();\n                for (var i = 0; i < nbb_cells.length; ++i) {\n                    if (nbb_cells[i].input_prompt_number == nbb_cell_id) {\n                        if (nbb_cells[i].get_text() == nbb_unformatted_code) {\n                             nbb_cells[i].set_text(nbb_formatted_code);\n                        }\n                        break;\n                    }\n                }\n            }, 500);\n            ",
      "text/plain": [
       "<IPython.core.display.Javascript object>"
      ]
     },
     "metadata": {},
     "output_type": "display_data"
    }
   ],
   "source": [
    "get_feature_with_most_na(raw_pelno_ataskaita_2020)"
   ]
  },
  {
   "cell_type": "code",
   "execution_count": 18,
   "id": "0a9dcb47-075c-4cf3-abcb-607700265fd8",
   "metadata": {},
   "outputs": [
    {
     "data": {
      "text/plain": [
       "{'pelnas_pries_apmokestinima': 34755}"
      ]
     },
     "execution_count": 18,
     "metadata": {},
     "output_type": "execute_result"
    },
    {
     "data": {
      "application/javascript": "\n            setTimeout(function() {\n                var nbb_cell_id = 18;\n                var nbb_unformatted_code = \"get_feature_with_most_na(raw_pelno_ataskaita_2021)\";\n                var nbb_formatted_code = \"get_feature_with_most_na(raw_pelno_ataskaita_2021)\";\n                var nbb_cells = Jupyter.notebook.get_cells();\n                for (var i = 0; i < nbb_cells.length; ++i) {\n                    if (nbb_cells[i].input_prompt_number == nbb_cell_id) {\n                        if (nbb_cells[i].get_text() == nbb_unformatted_code) {\n                             nbb_cells[i].set_text(nbb_formatted_code);\n                        }\n                        break;\n                    }\n                }\n            }, 500);\n            ",
      "text/plain": [
       "<IPython.core.display.Javascript object>"
      ]
     },
     "metadata": {},
     "output_type": "display_data"
    }
   ],
   "source": [
    "get_feature_with_most_na(raw_pelno_ataskaita_2021)"
   ]
  },
  {
   "cell_type": "markdown",
   "id": "d99ae1cb-bb6c-4117-9320-ffa0d20ed4a5",
   "metadata": {},
   "source": [
    "## 3.6 Ar kažkuri lentelė turi pasikartojančių duomenų?\n",
    "### Ats: iš pirmo žvilgsnio nei viena lentelė neturi pasikartojančių duomenų eilučių."
   ]
  },
  {
   "cell_type": "code",
   "execution_count": 19,
   "id": "b044b664-6e72-4a12-b494-d45a2dbd01d9",
   "metadata": {},
   "outputs": [
    {
     "data": {
      "text/plain": [
       "0"
      ]
     },
     "execution_count": 19,
     "metadata": {},
     "output_type": "execute_result"
    },
    {
     "data": {
      "application/javascript": "\n            setTimeout(function() {\n                var nbb_cell_id = 19;\n                var nbb_unformatted_code = \"raw_balanso_ataskaita_2020.duplicated().sum()\";\n                var nbb_formatted_code = \"raw_balanso_ataskaita_2020.duplicated().sum()\";\n                var nbb_cells = Jupyter.notebook.get_cells();\n                for (var i = 0; i < nbb_cells.length; ++i) {\n                    if (nbb_cells[i].input_prompt_number == nbb_cell_id) {\n                        if (nbb_cells[i].get_text() == nbb_unformatted_code) {\n                             nbb_cells[i].set_text(nbb_formatted_code);\n                        }\n                        break;\n                    }\n                }\n            }, 500);\n            ",
      "text/plain": [
       "<IPython.core.display.Javascript object>"
      ]
     },
     "metadata": {},
     "output_type": "display_data"
    }
   ],
   "source": [
    "raw_balanso_ataskaita_2020.duplicated().sum()"
   ]
  },
  {
   "cell_type": "code",
   "execution_count": 20,
   "id": "87159eba-d8ce-4083-b3aa-21c8f066f51b",
   "metadata": {},
   "outputs": [
    {
     "data": {
      "text/plain": [
       "0"
      ]
     },
     "execution_count": 20,
     "metadata": {},
     "output_type": "execute_result"
    },
    {
     "data": {
      "application/javascript": "\n            setTimeout(function() {\n                var nbb_cell_id = 20;\n                var nbb_unformatted_code = \"raw_balanso_ataskaita_2021.duplicated().sum()\";\n                var nbb_formatted_code = \"raw_balanso_ataskaita_2021.duplicated().sum()\";\n                var nbb_cells = Jupyter.notebook.get_cells();\n                for (var i = 0; i < nbb_cells.length; ++i) {\n                    if (nbb_cells[i].input_prompt_number == nbb_cell_id) {\n                        if (nbb_cells[i].get_text() == nbb_unformatted_code) {\n                             nbb_cells[i].set_text(nbb_formatted_code);\n                        }\n                        break;\n                    }\n                }\n            }, 500);\n            ",
      "text/plain": [
       "<IPython.core.display.Javascript object>"
      ]
     },
     "metadata": {},
     "output_type": "display_data"
    }
   ],
   "source": [
    "raw_balanso_ataskaita_2021.duplicated().sum()"
   ]
  },
  {
   "cell_type": "code",
   "execution_count": 21,
   "id": "c3caf379-3ca0-402f-8a93-133c452aef6c",
   "metadata": {},
   "outputs": [
    {
     "data": {
      "text/plain": [
       "0"
      ]
     },
     "execution_count": 21,
     "metadata": {},
     "output_type": "execute_result"
    },
    {
     "data": {
      "application/javascript": "\n            setTimeout(function() {\n                var nbb_cell_id = 21;\n                var nbb_unformatted_code = \"raw_pelno_ataskaita_2020.duplicated().sum()\";\n                var nbb_formatted_code = \"raw_pelno_ataskaita_2020.duplicated().sum()\";\n                var nbb_cells = Jupyter.notebook.get_cells();\n                for (var i = 0; i < nbb_cells.length; ++i) {\n                    if (nbb_cells[i].input_prompt_number == nbb_cell_id) {\n                        if (nbb_cells[i].get_text() == nbb_unformatted_code) {\n                             nbb_cells[i].set_text(nbb_formatted_code);\n                        }\n                        break;\n                    }\n                }\n            }, 500);\n            ",
      "text/plain": [
       "<IPython.core.display.Javascript object>"
      ]
     },
     "metadata": {},
     "output_type": "display_data"
    }
   ],
   "source": [
    "raw_pelno_ataskaita_2020.duplicated().sum()"
   ]
  },
  {
   "cell_type": "code",
   "execution_count": 22,
   "id": "c54a1596-5ffc-459d-b820-f471db9f251e",
   "metadata": {},
   "outputs": [
    {
     "data": {
      "text/plain": [
       "0"
      ]
     },
     "execution_count": 22,
     "metadata": {},
     "output_type": "execute_result"
    },
    {
     "data": {
      "application/javascript": "\n            setTimeout(function() {\n                var nbb_cell_id = 22;\n                var nbb_unformatted_code = \"raw_pelno_ataskaita_2021.duplicated().sum()\";\n                var nbb_formatted_code = \"raw_pelno_ataskaita_2021.duplicated().sum()\";\n                var nbb_cells = Jupyter.notebook.get_cells();\n                for (var i = 0; i < nbb_cells.length; ++i) {\n                    if (nbb_cells[i].input_prompt_number == nbb_cell_id) {\n                        if (nbb_cells[i].get_text() == nbb_unformatted_code) {\n                             nbb_cells[i].set_text(nbb_formatted_code);\n                        }\n                        break;\n                    }\n                }\n            }, 500);\n            ",
      "text/plain": [
       "<IPython.core.display.Javascript object>"
      ]
     },
     "metadata": {},
     "output_type": "display_data"
    }
   ],
   "source": [
    "raw_pelno_ataskaita_2021.duplicated().sum()"
   ]
  },
  {
   "cell_type": "markdown",
   "id": "4bbcc91a-aa55-458d-a685-b69002fc04ac",
   "metadata": {},
   "source": [
    "## 3.6.1. Kokia stulpelių aibė vienareikšmiškai identifikuoja kiekvienos lentelės eilutę?\n",
    "### ATS. vienas požymių stulpelis unikaliai neidentifikuoja eilutės reikšmes. tai galime pastebėti skaičiuojant santikį unikalių \" obj_kodas \"  skaičiaus reikšmių padalintų iš viso duomenų masyvo eilučių skaičiaus. Detaliau pasižiūrėję į duomenis pastebime, jog vienas objekto kodas (obj_kodas) gali turėti kelis skirtingus laikotarpius (laikotarpis_nuo ir laikotarpis_iki). Norint gauti unikalią aibę, galime sujungti \"obj_kodas\" ir \"laikotarpis_nuo\" reikšmes."
   ]
  },
  {
   "attachments": {},
   "cell_type": "markdown",
   "id": "6fc5bc38",
   "metadata": {},
   "source": [
    "<font color='red'> Erikas Švažas: \n",
    "Taip, gerai pastebėta!\n",
    "</font>"
   ]
  },
  {
   "cell_type": "code",
   "execution_count": 23,
   "id": "6872446b-8d99-4b7d-a177-d4a333e1a0bc",
   "metadata": {},
   "outputs": [
    {
     "data": {
      "text/html": [
       "<div>\n",
       "<style scoped>\n",
       "    .dataframe tbody tr th:only-of-type {\n",
       "        vertical-align: middle;\n",
       "    }\n",
       "\n",
       "    .dataframe tbody tr th {\n",
       "        vertical-align: top;\n",
       "    }\n",
       "\n",
       "    .dataframe thead th {\n",
       "        text-align: right;\n",
       "    }\n",
       "</style>\n",
       "<table border=\"1\" class=\"dataframe\">\n",
       "  <thead>\n",
       "    <tr style=\"text-align: right;\">\n",
       "      <th></th>\n",
       "      <th>obj_kodas</th>\n",
       "      <th>obj_pav</th>\n",
       "      <th>form_kodas</th>\n",
       "      <th>form_pav</th>\n",
       "      <th>stat_statusas</th>\n",
       "      <th>stat_pav</th>\n",
       "      <th>template_id</th>\n",
       "      <th>template_name</th>\n",
       "      <th>standard_id</th>\n",
       "      <th>standard_name</th>\n",
       "      <th>laikotarpis_nuo</th>\n",
       "      <th>laikotarpis_iki</th>\n",
       "      <th>reg_date</th>\n",
       "      <th>nuosavas_kapitalas</th>\n",
       "      <th>mok_sumos_ir_isipareigojimai</th>\n",
       "      <th>ilgalaikis_turtas</th>\n",
       "      <th>trumpalaikis_turtas</th>\n",
       "      <th>formavimo_data</th>\n",
       "    </tr>\n",
       "  </thead>\n",
       "  <tbody>\n",
       "    <tr>\n",
       "      <th>0</th>\n",
       "      <td>305217929</td>\n",
       "      <td>MB \"Jantaris\"</td>\n",
       "      <td>960</td>\n",
       "      <td>Mažoji bendrija</td>\n",
       "      <td>0</td>\n",
       "      <td>Teisinis stat neįregistruotas</td>\n",
       "      <td>FS0322</td>\n",
       "      <td>Mažųjų bendrijų finansinių ataskaitų rinkinys</td>\n",
       "      <td>BST217</td>\n",
       "      <td>BALANSAS (Neribotos civilinės atsakomybės juri...</td>\n",
       "      <td>2019-07-27</td>\n",
       "      <td>2019-12-31</td>\n",
       "      <td>2020-05-14</td>\n",
       "      <td>1610.0000</td>\n",
       "      <td>NaN</td>\n",
       "      <td>0.0000</td>\n",
       "      <td>1684.0000</td>\n",
       "      <td>2022-12-01</td>\n",
       "    </tr>\n",
       "    <tr>\n",
       "      <th>1</th>\n",
       "      <td>304127368</td>\n",
       "      <td>Alytaus neformaliojo švietimo centras \"Toleran...</td>\n",
       "      <td>630</td>\n",
       "      <td>Asociacija</td>\n",
       "      <td>0</td>\n",
       "      <td>Teisinis stat neįregistruotas</td>\n",
       "      <td>FS0323</td>\n",
       "      <td>Pelno nesiekiančių JA finansinių ataskaitų rin...</td>\n",
       "      <td>BST216</td>\n",
       "      <td>FINANSINĖS BŪKLĖS ATASKAITA</td>\n",
       "      <td>2019-01-01</td>\n",
       "      <td>2019-12-31</td>\n",
       "      <td>2020-05-25</td>\n",
       "      <td>243.0000</td>\n",
       "      <td>0.0000</td>\n",
       "      <td>0.0000</td>\n",
       "      <td>243.0000</td>\n",
       "      <td>2022-12-01</td>\n",
       "    </tr>\n",
       "    <tr>\n",
       "      <th>2</th>\n",
       "      <td>304759186</td>\n",
       "      <td>Uždaroji akcinė bendrovė \"Balsana LT\"</td>\n",
       "      <td>310</td>\n",
       "      <td>Uždaroji akcinė bendrovė</td>\n",
       "      <td>0</td>\n",
       "      <td>Teisinis stat neįregistruotas</td>\n",
       "      <td>FS0129</td>\n",
       "      <td>Mažų ir labai mažų įmonių, netaikančių išimčių...</td>\n",
       "      <td>BST124</td>\n",
       "      <td>BALANSAS (Sutrumpintas)</td>\n",
       "      <td>2019-01-01</td>\n",
       "      <td>2019-12-31</td>\n",
       "      <td>2020-04-22</td>\n",
       "      <td>-20442.0000</td>\n",
       "      <td>93324.0000</td>\n",
       "      <td>2619.0000</td>\n",
       "      <td>69759.0000</td>\n",
       "      <td>2022-12-01</td>\n",
       "    </tr>\n",
       "  </tbody>\n",
       "</table>\n",
       "</div>"
      ],
      "text/plain": [
       "   obj_kodas                                            obj_pav  form_kodas  \\\n",
       "0  305217929                                      MB \"Jantaris\"         960   \n",
       "1  304127368  Alytaus neformaliojo švietimo centras \"Toleran...         630   \n",
       "2  304759186              Uždaroji akcinė bendrovė \"Balsana LT\"         310   \n",
       "\n",
       "                   form_pav  stat_statusas                       stat_pav  \\\n",
       "0           Mažoji bendrija              0  Teisinis stat neįregistruotas   \n",
       "1                Asociacija              0  Teisinis stat neįregistruotas   \n",
       "2  Uždaroji akcinė bendrovė              0  Teisinis stat neįregistruotas   \n",
       "\n",
       "  template_id                                      template_name standard_id  \\\n",
       "0      FS0322      Mažųjų bendrijų finansinių ataskaitų rinkinys      BST217   \n",
       "1      FS0323  Pelno nesiekiančių JA finansinių ataskaitų rin...      BST216   \n",
       "2      FS0129  Mažų ir labai mažų įmonių, netaikančių išimčių...      BST124   \n",
       "\n",
       "                                       standard_name laikotarpis_nuo  \\\n",
       "0  BALANSAS (Neribotos civilinės atsakomybės juri...      2019-07-27   \n",
       "1                        FINANSINĖS BŪKLĖS ATASKAITA      2019-01-01   \n",
       "2                            BALANSAS (Sutrumpintas)      2019-01-01   \n",
       "\n",
       "  laikotarpis_iki    reg_date  nuosavas_kapitalas  \\\n",
       "0      2019-12-31  2020-05-14           1610.0000   \n",
       "1      2019-12-31  2020-05-25            243.0000   \n",
       "2      2019-12-31  2020-04-22         -20442.0000   \n",
       "\n",
       "   mok_sumos_ir_isipareigojimai  ilgalaikis_turtas  trumpalaikis_turtas  \\\n",
       "0                           NaN             0.0000            1684.0000   \n",
       "1                        0.0000             0.0000             243.0000   \n",
       "2                    93324.0000          2619.0000           69759.0000   \n",
       "\n",
       "  formavimo_data  \n",
       "0     2022-12-01  \n",
       "1     2022-12-01  \n",
       "2     2022-12-01  "
      ]
     },
     "execution_count": 23,
     "metadata": {},
     "output_type": "execute_result"
    },
    {
     "data": {
      "application/javascript": "\n            setTimeout(function() {\n                var nbb_cell_id = 23;\n                var nbb_unformatted_code = \"raw_balanso_ataskaita_2020.head(3)\";\n                var nbb_formatted_code = \"raw_balanso_ataskaita_2020.head(3)\";\n                var nbb_cells = Jupyter.notebook.get_cells();\n                for (var i = 0; i < nbb_cells.length; ++i) {\n                    if (nbb_cells[i].input_prompt_number == nbb_cell_id) {\n                        if (nbb_cells[i].get_text() == nbb_unformatted_code) {\n                             nbb_cells[i].set_text(nbb_formatted_code);\n                        }\n                        break;\n                    }\n                }\n            }, 500);\n            ",
      "text/plain": [
       "<IPython.core.display.Javascript object>"
      ]
     },
     "metadata": {},
     "output_type": "display_data"
    }
   ],
   "source": [
    "raw_balanso_ataskaita_2020.head(3)"
   ]
  },
  {
   "cell_type": "code",
   "execution_count": 24,
   "id": "5c33af2a-1abb-4841-885a-0c3edb4078c9",
   "metadata": {},
   "outputs": [
    {
     "data": {
      "text/plain": [
       "0.9062717507853797"
      ]
     },
     "execution_count": 24,
     "metadata": {},
     "output_type": "execute_result"
    },
    {
     "data": {
      "application/javascript": "\n            setTimeout(function() {\n                var nbb_cell_id = 24;\n                var nbb_unformatted_code = \"len(raw_balanso_ataskaita_2020.obj_kodas.unique()) / len(raw_balanso_ataskaita_2020)\";\n                var nbb_formatted_code = \"len(raw_balanso_ataskaita_2020.obj_kodas.unique()) / len(raw_balanso_ataskaita_2020)\";\n                var nbb_cells = Jupyter.notebook.get_cells();\n                for (var i = 0; i < nbb_cells.length; ++i) {\n                    if (nbb_cells[i].input_prompt_number == nbb_cell_id) {\n                        if (nbb_cells[i].get_text() == nbb_unformatted_code) {\n                             nbb_cells[i].set_text(nbb_formatted_code);\n                        }\n                        break;\n                    }\n                }\n            }, 500);\n            ",
      "text/plain": [
       "<IPython.core.display.Javascript object>"
      ]
     },
     "metadata": {},
     "output_type": "display_data"
    }
   ],
   "source": [
    "len(raw_balanso_ataskaita_2020.obj_kodas.unique()) / len(raw_balanso_ataskaita_2020)"
   ]
  },
  {
   "cell_type": "code",
   "execution_count": 25,
   "id": "2133a51a-d6c2-47db-98a1-e087d1077da9",
   "metadata": {},
   "outputs": [
    {
     "data": {
      "text/plain": [
       "0.8835498551923873"
      ]
     },
     "execution_count": 25,
     "metadata": {},
     "output_type": "execute_result"
    },
    {
     "data": {
      "application/javascript": "\n            setTimeout(function() {\n                var nbb_cell_id = 25;\n                var nbb_unformatted_code = \"len(raw_balanso_ataskaita_2021.obj_kodas.unique()) / len(raw_balanso_ataskaita_2021)\";\n                var nbb_formatted_code = \"len(raw_balanso_ataskaita_2021.obj_kodas.unique()) / len(raw_balanso_ataskaita_2021)\";\n                var nbb_cells = Jupyter.notebook.get_cells();\n                for (var i = 0; i < nbb_cells.length; ++i) {\n                    if (nbb_cells[i].input_prompt_number == nbb_cell_id) {\n                        if (nbb_cells[i].get_text() == nbb_unformatted_code) {\n                             nbb_cells[i].set_text(nbb_formatted_code);\n                        }\n                        break;\n                    }\n                }\n            }, 500);\n            ",
      "text/plain": [
       "<IPython.core.display.Javascript object>"
      ]
     },
     "metadata": {},
     "output_type": "display_data"
    }
   ],
   "source": [
    "len(raw_balanso_ataskaita_2021.obj_kodas.unique()) / len(raw_balanso_ataskaita_2021)"
   ]
  },
  {
   "cell_type": "code",
   "execution_count": 26,
   "id": "3da2395e-ab05-4c81-a45c-0d319a86a788",
   "metadata": {},
   "outputs": [
    {
     "data": {
      "text/plain": [
       "0.8887659103486442"
      ]
     },
     "execution_count": 26,
     "metadata": {},
     "output_type": "execute_result"
    },
    {
     "data": {
      "application/javascript": "\n            setTimeout(function() {\n                var nbb_cell_id = 26;\n                var nbb_unformatted_code = \"len(raw_pelno_ataskaita_2021.obj_kodas.unique()) / len(raw_pelno_ataskaita_2021)\";\n                var nbb_formatted_code = \"len(raw_pelno_ataskaita_2021.obj_kodas.unique()) / len(raw_pelno_ataskaita_2021)\";\n                var nbb_cells = Jupyter.notebook.get_cells();\n                for (var i = 0; i < nbb_cells.length; ++i) {\n                    if (nbb_cells[i].input_prompt_number == nbb_cell_id) {\n                        if (nbb_cells[i].get_text() == nbb_unformatted_code) {\n                             nbb_cells[i].set_text(nbb_formatted_code);\n                        }\n                        break;\n                    }\n                }\n            }, 500);\n            ",
      "text/plain": [
       "<IPython.core.display.Javascript object>"
      ]
     },
     "metadata": {},
     "output_type": "display_data"
    }
   ],
   "source": [
    "len(raw_pelno_ataskaita_2021.obj_kodas.unique()) / len(raw_pelno_ataskaita_2021)"
   ]
  },
  {
   "cell_type": "code",
   "execution_count": 27,
   "id": "1d647a70-a693-4b65-add3-d9fb2a7b606e",
   "metadata": {},
   "outputs": [
    {
     "data": {
      "text/plain": [
       "0.9132338329055228"
      ]
     },
     "execution_count": 27,
     "metadata": {},
     "output_type": "execute_result"
    },
    {
     "data": {
      "application/javascript": "\n            setTimeout(function() {\n                var nbb_cell_id = 27;\n                var nbb_unformatted_code = \"len(raw_pelno_ataskaita_2020.obj_kodas.unique()) / len(raw_pelno_ataskaita_2020)\";\n                var nbb_formatted_code = \"len(raw_pelno_ataskaita_2020.obj_kodas.unique()) / len(raw_pelno_ataskaita_2020)\";\n                var nbb_cells = Jupyter.notebook.get_cells();\n                for (var i = 0; i < nbb_cells.length; ++i) {\n                    if (nbb_cells[i].input_prompt_number == nbb_cell_id) {\n                        if (nbb_cells[i].get_text() == nbb_unformatted_code) {\n                             nbb_cells[i].set_text(nbb_formatted_code);\n                        }\n                        break;\n                    }\n                }\n            }, 500);\n            ",
      "text/plain": [
       "<IPython.core.display.Javascript object>"
      ]
     },
     "metadata": {},
     "output_type": "display_data"
    }
   ],
   "source": [
    "len(raw_pelno_ataskaita_2020.obj_kodas.unique()) / len(raw_pelno_ataskaita_2020)"
   ]
  },
  {
   "cell_type": "code",
   "execution_count": 28,
   "id": "bb57a4e4-84c0-48fc-abb5-22faecf862a9",
   "metadata": {},
   "outputs": [
    {
     "data": {
      "text/plain": [
       "168970870    16\n",
       "145496790    16\n",
       "135994223    15\n",
       "300603439    14\n",
       "159884874    14\n",
       "             ..\n",
       "304756667     1\n",
       "305253875     1\n",
       "303166628     1\n",
       "154835371     1\n",
       "303778867     1\n",
       "Name: obj_kodas, Length: 96353, dtype: int64"
      ]
     },
     "execution_count": 28,
     "metadata": {},
     "output_type": "execute_result"
    },
    {
     "data": {
      "application/javascript": "\n            setTimeout(function() {\n                var nbb_cell_id = 28;\n                var nbb_unformatted_code = \"raw_balanso_ataskaita_2020.obj_kodas.value_counts()\";\n                var nbb_formatted_code = \"raw_balanso_ataskaita_2020.obj_kodas.value_counts()\";\n                var nbb_cells = Jupyter.notebook.get_cells();\n                for (var i = 0; i < nbb_cells.length; ++i) {\n                    if (nbb_cells[i].input_prompt_number == nbb_cell_id) {\n                        if (nbb_cells[i].get_text() == nbb_unformatted_code) {\n                             nbb_cells[i].set_text(nbb_formatted_code);\n                        }\n                        break;\n                    }\n                }\n            }, 500);\n            ",
      "text/plain": [
       "<IPython.core.display.Javascript object>"
      ]
     },
     "metadata": {},
     "output_type": "display_data"
    }
   ],
   "source": [
    "raw_balanso_ataskaita_2020.obj_kodas.value_counts()"
   ]
  },
  {
   "cell_type": "code",
   "execution_count": 29,
   "id": "678f8f22-20bb-4a63-99d7-f8ea185874d4",
   "metadata": {},
   "outputs": [
    {
     "data": {
      "text/html": [
       "<div>\n",
       "<style scoped>\n",
       "    .dataframe tbody tr th:only-of-type {\n",
       "        vertical-align: middle;\n",
       "    }\n",
       "\n",
       "    .dataframe tbody tr th {\n",
       "        vertical-align: top;\n",
       "    }\n",
       "\n",
       "    .dataframe thead th {\n",
       "        text-align: right;\n",
       "    }\n",
       "</style>\n",
       "<table border=\"1\" class=\"dataframe\">\n",
       "  <thead>\n",
       "    <tr style=\"text-align: right;\">\n",
       "      <th></th>\n",
       "      <th>obj_kodas</th>\n",
       "      <th>obj_pav</th>\n",
       "      <th>form_kodas</th>\n",
       "      <th>form_pav</th>\n",
       "      <th>stat_statusas</th>\n",
       "      <th>stat_pav</th>\n",
       "      <th>template_id</th>\n",
       "      <th>template_name</th>\n",
       "      <th>standard_id</th>\n",
       "      <th>standard_name</th>\n",
       "      <th>laikotarpis_nuo</th>\n",
       "      <th>laikotarpis_iki</th>\n",
       "      <th>reg_date</th>\n",
       "      <th>nuosavas_kapitalas</th>\n",
       "      <th>mok_sumos_ir_isipareigojimai</th>\n",
       "      <th>ilgalaikis_turtas</th>\n",
       "      <th>trumpalaikis_turtas</th>\n",
       "      <th>formavimo_data</th>\n",
       "    </tr>\n",
       "  </thead>\n",
       "  <tbody>\n",
       "    <tr>\n",
       "      <th>6196</th>\n",
       "      <td>168970870</td>\n",
       "      <td>UAB \"Auremidė\"</td>\n",
       "      <td>310</td>\n",
       "      <td>Uždaroji akcinė bendrovė</td>\n",
       "      <td>0</td>\n",
       "      <td>Teisinis stat neįregistruotas</td>\n",
       "      <td>FS0101</td>\n",
       "      <td>Sutrumpintų finansinių ataskaitų rinkinys</td>\n",
       "      <td>BST101</td>\n",
       "      <td>BALANSAS</td>\n",
       "      <td>2007-01-01</td>\n",
       "      <td>2007-12-31</td>\n",
       "      <td>2020-12-17</td>\n",
       "      <td>0.0000</td>\n",
       "      <td>0.0000</td>\n",
       "      <td>0.0000</td>\n",
       "      <td>0.0000</td>\n",
       "      <td>2022-12-01</td>\n",
       "    </tr>\n",
       "    <tr>\n",
       "      <th>9093</th>\n",
       "      <td>168970870</td>\n",
       "      <td>UAB \"Auremidė\"</td>\n",
       "      <td>310</td>\n",
       "      <td>Uždaroji akcinė bendrovė</td>\n",
       "      <td>0</td>\n",
       "      <td>Teisinis stat neįregistruotas</td>\n",
       "      <td>FS0101</td>\n",
       "      <td>Sutrumpintų finansinių ataskaitų rinkinys</td>\n",
       "      <td>BST101</td>\n",
       "      <td>BALANSAS</td>\n",
       "      <td>2011-01-01</td>\n",
       "      <td>2011-12-31</td>\n",
       "      <td>2020-12-17</td>\n",
       "      <td>0.0000</td>\n",
       "      <td>0.0000</td>\n",
       "      <td>0.0000</td>\n",
       "      <td>0.0000</td>\n",
       "      <td>2022-12-01</td>\n",
       "    </tr>\n",
       "    <tr>\n",
       "      <th>15873</th>\n",
       "      <td>168970870</td>\n",
       "      <td>UAB \"Auremidė\"</td>\n",
       "      <td>310</td>\n",
       "      <td>Uždaroji akcinė bendrovė</td>\n",
       "      <td>0</td>\n",
       "      <td>Teisinis stat neįregistruotas</td>\n",
       "      <td>FS0301</td>\n",
       "      <td>Sutrumpintų finansinių ataskaitų rinkinys</td>\n",
       "      <td>BST101</td>\n",
       "      <td>BALANSAS</td>\n",
       "      <td>2015-01-01</td>\n",
       "      <td>2015-12-31</td>\n",
       "      <td>2020-12-17</td>\n",
       "      <td>0.0000</td>\n",
       "      <td>0.0000</td>\n",
       "      <td>0.0000</td>\n",
       "      <td>0.0000</td>\n",
       "      <td>2022-12-01</td>\n",
       "    </tr>\n",
       "    <tr>\n",
       "      <th>24534</th>\n",
       "      <td>168970870</td>\n",
       "      <td>UAB \"Auremidė\"</td>\n",
       "      <td>310</td>\n",
       "      <td>Uždaroji akcinė bendrovė</td>\n",
       "      <td>0</td>\n",
       "      <td>Teisinis stat neįregistruotas</td>\n",
       "      <td>FS0001</td>\n",
       "      <td>Trumpa finansinė atskaitomybė</td>\n",
       "      <td>BST001</td>\n",
       "      <td>BALANSAS</td>\n",
       "      <td>2004-01-01</td>\n",
       "      <td>2004-12-31</td>\n",
       "      <td>2020-12-17</td>\n",
       "      <td>0.0000</td>\n",
       "      <td>0.0000</td>\n",
       "      <td>0.0000</td>\n",
       "      <td>0.0000</td>\n",
       "      <td>2022-12-01</td>\n",
       "    </tr>\n",
       "    <tr>\n",
       "      <th>34639</th>\n",
       "      <td>168970870</td>\n",
       "      <td>UAB \"Auremidė\"</td>\n",
       "      <td>310</td>\n",
       "      <td>Uždaroji akcinė bendrovė</td>\n",
       "      <td>0</td>\n",
       "      <td>Teisinis stat neįregistruotas</td>\n",
       "      <td>FS0201</td>\n",
       "      <td>Sutrumpintų finansinių ataskaitų rinkinys</td>\n",
       "      <td>BST101</td>\n",
       "      <td>BALANSAS</td>\n",
       "      <td>2012-01-01</td>\n",
       "      <td>2012-12-31</td>\n",
       "      <td>2020-12-17</td>\n",
       "      <td>0.0000</td>\n",
       "      <td>0.0000</td>\n",
       "      <td>0.0000</td>\n",
       "      <td>0.0000</td>\n",
       "      <td>2022-12-01</td>\n",
       "    </tr>\n",
       "    <tr>\n",
       "      <th>34681</th>\n",
       "      <td>168970870</td>\n",
       "      <td>UAB \"Auremidė\"</td>\n",
       "      <td>310</td>\n",
       "      <td>Uždaroji akcinė bendrovė</td>\n",
       "      <td>0</td>\n",
       "      <td>Teisinis stat neįregistruotas</td>\n",
       "      <td>FS0201</td>\n",
       "      <td>Sutrumpintų finansinių ataskaitų rinkinys</td>\n",
       "      <td>BST101</td>\n",
       "      <td>BALANSAS</td>\n",
       "      <td>2014-01-01</td>\n",
       "      <td>2014-12-31</td>\n",
       "      <td>2020-12-17</td>\n",
       "      <td>0.0000</td>\n",
       "      <td>0.0000</td>\n",
       "      <td>0.0000</td>\n",
       "      <td>0.0000</td>\n",
       "      <td>2022-12-01</td>\n",
       "    </tr>\n",
       "    <tr>\n",
       "      <th>35863</th>\n",
       "      <td>168970870</td>\n",
       "      <td>UAB \"Auremidė\"</td>\n",
       "      <td>310</td>\n",
       "      <td>Uždaroji akcinė bendrovė</td>\n",
       "      <td>0</td>\n",
       "      <td>Teisinis stat neįregistruotas</td>\n",
       "      <td>FS0101</td>\n",
       "      <td>Sutrumpintų finansinių ataskaitų rinkinys</td>\n",
       "      <td>BST101</td>\n",
       "      <td>BALANSAS</td>\n",
       "      <td>2009-01-01</td>\n",
       "      <td>2009-12-31</td>\n",
       "      <td>2020-12-17</td>\n",
       "      <td>0.0000</td>\n",
       "      <td>0.0000</td>\n",
       "      <td>0.0000</td>\n",
       "      <td>0.0000</td>\n",
       "      <td>2022-12-01</td>\n",
       "    </tr>\n",
       "    <tr>\n",
       "      <th>44491</th>\n",
       "      <td>168970870</td>\n",
       "      <td>UAB \"Auremidė\"</td>\n",
       "      <td>310</td>\n",
       "      <td>Uždaroji akcinė bendrovė</td>\n",
       "      <td>0</td>\n",
       "      <td>Teisinis stat neįregistruotas</td>\n",
       "      <td>FS0129</td>\n",
       "      <td>Mažų ir labai mažų įmonių, netaikančių išimčių...</td>\n",
       "      <td>BST124</td>\n",
       "      <td>BALANSAS (Sutrumpintas)</td>\n",
       "      <td>2018-01-01</td>\n",
       "      <td>2018-12-31</td>\n",
       "      <td>2020-12-17</td>\n",
       "      <td>0.0000</td>\n",
       "      <td>0.0000</td>\n",
       "      <td>0.0000</td>\n",
       "      <td>0.0000</td>\n",
       "      <td>2022-12-01</td>\n",
       "    </tr>\n",
       "    <tr>\n",
       "      <th>53938</th>\n",
       "      <td>168970870</td>\n",
       "      <td>UAB \"Auremidė\"</td>\n",
       "      <td>310</td>\n",
       "      <td>Uždaroji akcinė bendrovė</td>\n",
       "      <td>0</td>\n",
       "      <td>Teisinis stat neįregistruotas</td>\n",
       "      <td>FS0101</td>\n",
       "      <td>Sutrumpintų finansinių ataskaitų rinkinys</td>\n",
       "      <td>BST101</td>\n",
       "      <td>BALANSAS</td>\n",
       "      <td>2008-01-01</td>\n",
       "      <td>2008-12-31</td>\n",
       "      <td>2020-12-17</td>\n",
       "      <td>0.0000</td>\n",
       "      <td>0.0000</td>\n",
       "      <td>0.0000</td>\n",
       "      <td>0.0000</td>\n",
       "      <td>2022-12-01</td>\n",
       "    </tr>\n",
       "    <tr>\n",
       "      <th>66132</th>\n",
       "      <td>168970870</td>\n",
       "      <td>UAB \"Auremidė\"</td>\n",
       "      <td>310</td>\n",
       "      <td>Uždaroji akcinė bendrovė</td>\n",
       "      <td>0</td>\n",
       "      <td>Teisinis stat neįregistruotas</td>\n",
       "      <td>FS0201</td>\n",
       "      <td>Sutrumpintų finansinių ataskaitų rinkinys</td>\n",
       "      <td>BST101</td>\n",
       "      <td>BALANSAS</td>\n",
       "      <td>2013-01-01</td>\n",
       "      <td>2013-12-31</td>\n",
       "      <td>2020-12-17</td>\n",
       "      <td>0.0000</td>\n",
       "      <td>0.0000</td>\n",
       "      <td>0.0000</td>\n",
       "      <td>0.0000</td>\n",
       "      <td>2022-12-01</td>\n",
       "    </tr>\n",
       "    <tr>\n",
       "      <th>72966</th>\n",
       "      <td>168970870</td>\n",
       "      <td>UAB \"Auremidė\"</td>\n",
       "      <td>310</td>\n",
       "      <td>Uždaroji akcinė bendrovė</td>\n",
       "      <td>0</td>\n",
       "      <td>Teisinis stat neįregistruotas</td>\n",
       "      <td>FS0129</td>\n",
       "      <td>Mažų ir labai mažų įmonių, netaikančių išimčių...</td>\n",
       "      <td>BST124</td>\n",
       "      <td>BALANSAS (Sutrumpintas)</td>\n",
       "      <td>2019-01-01</td>\n",
       "      <td>2019-12-31</td>\n",
       "      <td>2020-12-17</td>\n",
       "      <td>0.0000</td>\n",
       "      <td>0.0000</td>\n",
       "      <td>0.0000</td>\n",
       "      <td>0.0000</td>\n",
       "      <td>2022-12-01</td>\n",
       "    </tr>\n",
       "    <tr>\n",
       "      <th>78995</th>\n",
       "      <td>168970870</td>\n",
       "      <td>UAB \"Auremidė\"</td>\n",
       "      <td>310</td>\n",
       "      <td>Uždaroji akcinė bendrovė</td>\n",
       "      <td>0</td>\n",
       "      <td>Teisinis stat neįregistruotas</td>\n",
       "      <td>FS0101</td>\n",
       "      <td>Sutrumpintų finansinių ataskaitų rinkinys</td>\n",
       "      <td>BST101</td>\n",
       "      <td>BALANSAS</td>\n",
       "      <td>2010-01-01</td>\n",
       "      <td>2010-12-31</td>\n",
       "      <td>2020-12-17</td>\n",
       "      <td>0.0000</td>\n",
       "      <td>0.0000</td>\n",
       "      <td>0.0000</td>\n",
       "      <td>0.0000</td>\n",
       "      <td>2022-12-01</td>\n",
       "    </tr>\n",
       "    <tr>\n",
       "      <th>81966</th>\n",
       "      <td>168970870</td>\n",
       "      <td>UAB \"Auremidė\"</td>\n",
       "      <td>310</td>\n",
       "      <td>Uždaroji akcinė bendrovė</td>\n",
       "      <td>0</td>\n",
       "      <td>Teisinis stat neįregistruotas</td>\n",
       "      <td>FS0029</td>\n",
       "      <td>Mažų ir labai mažų įmonių, netaikančių išimčių...</td>\n",
       "      <td>BST024</td>\n",
       "      <td>BALANSAS (Sutrumpintas)</td>\n",
       "      <td>2016-01-01</td>\n",
       "      <td>2016-12-31</td>\n",
       "      <td>2020-12-17</td>\n",
       "      <td>0.0000</td>\n",
       "      <td>0.0000</td>\n",
       "      <td>0.0000</td>\n",
       "      <td>0.0000</td>\n",
       "      <td>2022-12-01</td>\n",
       "    </tr>\n",
       "    <tr>\n",
       "      <th>87550</th>\n",
       "      <td>168970870</td>\n",
       "      <td>UAB \"Auremidė\"</td>\n",
       "      <td>310</td>\n",
       "      <td>Uždaroji akcinė bendrovė</td>\n",
       "      <td>0</td>\n",
       "      <td>Teisinis stat neįregistruotas</td>\n",
       "      <td>FS0101</td>\n",
       "      <td>Sutrumpintų finansinių ataskaitų rinkinys</td>\n",
       "      <td>BST101</td>\n",
       "      <td>BALANSAS</td>\n",
       "      <td>2006-01-01</td>\n",
       "      <td>2006-12-31</td>\n",
       "      <td>2020-12-17</td>\n",
       "      <td>0.0000</td>\n",
       "      <td>0.0000</td>\n",
       "      <td>0.0000</td>\n",
       "      <td>0.0000</td>\n",
       "      <td>2022-12-01</td>\n",
       "    </tr>\n",
       "    <tr>\n",
       "      <th>90306</th>\n",
       "      <td>168970870</td>\n",
       "      <td>UAB \"Auremidė\"</td>\n",
       "      <td>310</td>\n",
       "      <td>Uždaroji akcinė bendrovė</td>\n",
       "      <td>0</td>\n",
       "      <td>Teisinis stat neįregistruotas</td>\n",
       "      <td>FS0001</td>\n",
       "      <td>Trumpa finansinė atskaitomybė</td>\n",
       "      <td>BST001</td>\n",
       "      <td>BALANSAS</td>\n",
       "      <td>2005-01-01</td>\n",
       "      <td>2005-12-31</td>\n",
       "      <td>2020-12-17</td>\n",
       "      <td>0.0000</td>\n",
       "      <td>0.0000</td>\n",
       "      <td>0.0000</td>\n",
       "      <td>0.0000</td>\n",
       "      <td>2022-12-01</td>\n",
       "    </tr>\n",
       "    <tr>\n",
       "      <th>104343</th>\n",
       "      <td>168970870</td>\n",
       "      <td>UAB \"Auremidė\"</td>\n",
       "      <td>310</td>\n",
       "      <td>Uždaroji akcinė bendrovė</td>\n",
       "      <td>0</td>\n",
       "      <td>Teisinis stat neįregistruotas</td>\n",
       "      <td>FS0129</td>\n",
       "      <td>Mažų ir labai mažų įmonių, netaikančių išimčių...</td>\n",
       "      <td>BST124</td>\n",
       "      <td>BALANSAS (Sutrumpintas)</td>\n",
       "      <td>2017-01-01</td>\n",
       "      <td>2017-12-31</td>\n",
       "      <td>2020-12-17</td>\n",
       "      <td>0.0000</td>\n",
       "      <td>0.0000</td>\n",
       "      <td>0.0000</td>\n",
       "      <td>0.0000</td>\n",
       "      <td>2022-12-01</td>\n",
       "    </tr>\n",
       "  </tbody>\n",
       "</table>\n",
       "</div>"
      ],
      "text/plain": [
       "        obj_kodas         obj_pav  form_kodas                  form_pav  \\\n",
       "6196    168970870  UAB \"Auremidė\"         310  Uždaroji akcinė bendrovė   \n",
       "9093    168970870  UAB \"Auremidė\"         310  Uždaroji akcinė bendrovė   \n",
       "15873   168970870  UAB \"Auremidė\"         310  Uždaroji akcinė bendrovė   \n",
       "24534   168970870  UAB \"Auremidė\"         310  Uždaroji akcinė bendrovė   \n",
       "34639   168970870  UAB \"Auremidė\"         310  Uždaroji akcinė bendrovė   \n",
       "34681   168970870  UAB \"Auremidė\"         310  Uždaroji akcinė bendrovė   \n",
       "35863   168970870  UAB \"Auremidė\"         310  Uždaroji akcinė bendrovė   \n",
       "44491   168970870  UAB \"Auremidė\"         310  Uždaroji akcinė bendrovė   \n",
       "53938   168970870  UAB \"Auremidė\"         310  Uždaroji akcinė bendrovė   \n",
       "66132   168970870  UAB \"Auremidė\"         310  Uždaroji akcinė bendrovė   \n",
       "72966   168970870  UAB \"Auremidė\"         310  Uždaroji akcinė bendrovė   \n",
       "78995   168970870  UAB \"Auremidė\"         310  Uždaroji akcinė bendrovė   \n",
       "81966   168970870  UAB \"Auremidė\"         310  Uždaroji akcinė bendrovė   \n",
       "87550   168970870  UAB \"Auremidė\"         310  Uždaroji akcinė bendrovė   \n",
       "90306   168970870  UAB \"Auremidė\"         310  Uždaroji akcinė bendrovė   \n",
       "104343  168970870  UAB \"Auremidė\"         310  Uždaroji akcinė bendrovė   \n",
       "\n",
       "        stat_statusas                       stat_pav template_id  \\\n",
       "6196                0  Teisinis stat neįregistruotas      FS0101   \n",
       "9093                0  Teisinis stat neįregistruotas      FS0101   \n",
       "15873               0  Teisinis stat neįregistruotas      FS0301   \n",
       "24534               0  Teisinis stat neįregistruotas      FS0001   \n",
       "34639               0  Teisinis stat neįregistruotas      FS0201   \n",
       "34681               0  Teisinis stat neįregistruotas      FS0201   \n",
       "35863               0  Teisinis stat neįregistruotas      FS0101   \n",
       "44491               0  Teisinis stat neįregistruotas      FS0129   \n",
       "53938               0  Teisinis stat neįregistruotas      FS0101   \n",
       "66132               0  Teisinis stat neįregistruotas      FS0201   \n",
       "72966               0  Teisinis stat neįregistruotas      FS0129   \n",
       "78995               0  Teisinis stat neįregistruotas      FS0101   \n",
       "81966               0  Teisinis stat neįregistruotas      FS0029   \n",
       "87550               0  Teisinis stat neįregistruotas      FS0101   \n",
       "90306               0  Teisinis stat neįregistruotas      FS0001   \n",
       "104343              0  Teisinis stat neįregistruotas      FS0129   \n",
       "\n",
       "                                            template_name standard_id  \\\n",
       "6196            Sutrumpintų finansinių ataskaitų rinkinys      BST101   \n",
       "9093            Sutrumpintų finansinių ataskaitų rinkinys      BST101   \n",
       "15873           Sutrumpintų finansinių ataskaitų rinkinys      BST101   \n",
       "24534                       Trumpa finansinė atskaitomybė      BST001   \n",
       "34639           Sutrumpintų finansinių ataskaitų rinkinys      BST101   \n",
       "34681           Sutrumpintų finansinių ataskaitų rinkinys      BST101   \n",
       "35863           Sutrumpintų finansinių ataskaitų rinkinys      BST101   \n",
       "44491   Mažų ir labai mažų įmonių, netaikančių išimčių...      BST124   \n",
       "53938           Sutrumpintų finansinių ataskaitų rinkinys      BST101   \n",
       "66132           Sutrumpintų finansinių ataskaitų rinkinys      BST101   \n",
       "72966   Mažų ir labai mažų įmonių, netaikančių išimčių...      BST124   \n",
       "78995           Sutrumpintų finansinių ataskaitų rinkinys      BST101   \n",
       "81966   Mažų ir labai mažų įmonių, netaikančių išimčių...      BST024   \n",
       "87550           Sutrumpintų finansinių ataskaitų rinkinys      BST101   \n",
       "90306                       Trumpa finansinė atskaitomybė      BST001   \n",
       "104343  Mažų ir labai mažų įmonių, netaikančių išimčių...      BST124   \n",
       "\n",
       "                  standard_name laikotarpis_nuo laikotarpis_iki    reg_date  \\\n",
       "6196                   BALANSAS      2007-01-01      2007-12-31  2020-12-17   \n",
       "9093                   BALANSAS      2011-01-01      2011-12-31  2020-12-17   \n",
       "15873                  BALANSAS      2015-01-01      2015-12-31  2020-12-17   \n",
       "24534                  BALANSAS      2004-01-01      2004-12-31  2020-12-17   \n",
       "34639                  BALANSAS      2012-01-01      2012-12-31  2020-12-17   \n",
       "34681                  BALANSAS      2014-01-01      2014-12-31  2020-12-17   \n",
       "35863                  BALANSAS      2009-01-01      2009-12-31  2020-12-17   \n",
       "44491   BALANSAS (Sutrumpintas)      2018-01-01      2018-12-31  2020-12-17   \n",
       "53938                  BALANSAS      2008-01-01      2008-12-31  2020-12-17   \n",
       "66132                  BALANSAS      2013-01-01      2013-12-31  2020-12-17   \n",
       "72966   BALANSAS (Sutrumpintas)      2019-01-01      2019-12-31  2020-12-17   \n",
       "78995                  BALANSAS      2010-01-01      2010-12-31  2020-12-17   \n",
       "81966   BALANSAS (Sutrumpintas)      2016-01-01      2016-12-31  2020-12-17   \n",
       "87550                  BALANSAS      2006-01-01      2006-12-31  2020-12-17   \n",
       "90306                  BALANSAS      2005-01-01      2005-12-31  2020-12-17   \n",
       "104343  BALANSAS (Sutrumpintas)      2017-01-01      2017-12-31  2020-12-17   \n",
       "\n",
       "        nuosavas_kapitalas  mok_sumos_ir_isipareigojimai  ilgalaikis_turtas  \\\n",
       "6196                0.0000                        0.0000             0.0000   \n",
       "9093                0.0000                        0.0000             0.0000   \n",
       "15873               0.0000                        0.0000             0.0000   \n",
       "24534               0.0000                        0.0000             0.0000   \n",
       "34639               0.0000                        0.0000             0.0000   \n",
       "34681               0.0000                        0.0000             0.0000   \n",
       "35863               0.0000                        0.0000             0.0000   \n",
       "44491               0.0000                        0.0000             0.0000   \n",
       "53938               0.0000                        0.0000             0.0000   \n",
       "66132               0.0000                        0.0000             0.0000   \n",
       "72966               0.0000                        0.0000             0.0000   \n",
       "78995               0.0000                        0.0000             0.0000   \n",
       "81966               0.0000                        0.0000             0.0000   \n",
       "87550               0.0000                        0.0000             0.0000   \n",
       "90306               0.0000                        0.0000             0.0000   \n",
       "104343              0.0000                        0.0000             0.0000   \n",
       "\n",
       "        trumpalaikis_turtas formavimo_data  \n",
       "6196                 0.0000     2022-12-01  \n",
       "9093                 0.0000     2022-12-01  \n",
       "15873                0.0000     2022-12-01  \n",
       "24534                0.0000     2022-12-01  \n",
       "34639                0.0000     2022-12-01  \n",
       "34681                0.0000     2022-12-01  \n",
       "35863                0.0000     2022-12-01  \n",
       "44491                0.0000     2022-12-01  \n",
       "53938                0.0000     2022-12-01  \n",
       "66132                0.0000     2022-12-01  \n",
       "72966                0.0000     2022-12-01  \n",
       "78995                0.0000     2022-12-01  \n",
       "81966                0.0000     2022-12-01  \n",
       "87550                0.0000     2022-12-01  \n",
       "90306                0.0000     2022-12-01  \n",
       "104343               0.0000     2022-12-01  "
      ]
     },
     "execution_count": 29,
     "metadata": {},
     "output_type": "execute_result"
    },
    {
     "data": {
      "application/javascript": "\n            setTimeout(function() {\n                var nbb_cell_id = 29;\n                var nbb_unformatted_code = \"raw_balanso_ataskaita_2020[raw_balanso_ataskaita_2020['obj_kodas'] == 168970870]\";\n                var nbb_formatted_code = \"raw_balanso_ataskaita_2020[raw_balanso_ataskaita_2020[\\\"obj_kodas\\\"] == 168970870]\";\n                var nbb_cells = Jupyter.notebook.get_cells();\n                for (var i = 0; i < nbb_cells.length; ++i) {\n                    if (nbb_cells[i].input_prompt_number == nbb_cell_id) {\n                        if (nbb_cells[i].get_text() == nbb_unformatted_code) {\n                             nbb_cells[i].set_text(nbb_formatted_code);\n                        }\n                        break;\n                    }\n                }\n            }, 500);\n            ",
      "text/plain": [
       "<IPython.core.display.Javascript object>"
      ]
     },
     "metadata": {},
     "output_type": "display_data"
    }
   ],
   "source": [
    "raw_balanso_ataskaita_2020[raw_balanso_ataskaita_2020['obj_kodas'] == 168970870]"
   ]
  },
  {
   "cell_type": "code",
   "execution_count": 30,
   "id": "57715dfb-403f-4d7a-aea7-9f0ce189d157",
   "metadata": {},
   "outputs": [
    {
     "data": {
      "text/html": [
       "<div>\n",
       "<style scoped>\n",
       "    .dataframe tbody tr th:only-of-type {\n",
       "        vertical-align: middle;\n",
       "    }\n",
       "\n",
       "    .dataframe tbody tr th {\n",
       "        vertical-align: top;\n",
       "    }\n",
       "\n",
       "    .dataframe thead th {\n",
       "        text-align: right;\n",
       "    }\n",
       "</style>\n",
       "<table border=\"1\" class=\"dataframe\">\n",
       "  <thead>\n",
       "    <tr style=\"text-align: right;\">\n",
       "      <th></th>\n",
       "      <th>obj_kodas</th>\n",
       "      <th>obj_pav</th>\n",
       "      <th>form_kodas</th>\n",
       "      <th>form_pav</th>\n",
       "      <th>stat_statusas</th>\n",
       "      <th>stat_pav</th>\n",
       "      <th>template_id</th>\n",
       "      <th>template_name</th>\n",
       "      <th>standard_id</th>\n",
       "      <th>standard_name</th>\n",
       "      <th>laikotarpis_nuo</th>\n",
       "      <th>laikotarpis_iki</th>\n",
       "      <th>reg_date</th>\n",
       "      <th>nuosavas_kapitalas</th>\n",
       "      <th>mok_sumos_ir_isipareigojimai</th>\n",
       "      <th>ilgalaikis_turtas</th>\n",
       "      <th>trumpalaikis_turtas</th>\n",
       "      <th>formavimo_data</th>\n",
       "    </tr>\n",
       "  </thead>\n",
       "  <tbody>\n",
       "    <tr>\n",
       "      <th>11966</th>\n",
       "      <td>145496790</td>\n",
       "      <td>Medžiotojų klubas \"Kurtas\"</td>\n",
       "      <td>630</td>\n",
       "      <td>Asociacija</td>\n",
       "      <td>0</td>\n",
       "      <td>Teisinis stat neįregistruotas</td>\n",
       "      <td>FS0101</td>\n",
       "      <td>Sutrumpintų finansinių ataskaitų rinkinys</td>\n",
       "      <td>BST101</td>\n",
       "      <td>BALANSAS</td>\n",
       "      <td>2010-01-01</td>\n",
       "      <td>2010-12-31</td>\n",
       "      <td>2020-08-04</td>\n",
       "      <td>2604.0000</td>\n",
       "      <td>0.0000</td>\n",
       "      <td>0.0000</td>\n",
       "      <td>2604.0000</td>\n",
       "      <td>2022-12-01</td>\n",
       "    </tr>\n",
       "    <tr>\n",
       "      <th>17343</th>\n",
       "      <td>145496790</td>\n",
       "      <td>Medžiotojų klubas \"Kurtas\"</td>\n",
       "      <td>630</td>\n",
       "      <td>Asociacija</td>\n",
       "      <td>0</td>\n",
       "      <td>Teisinis stat neįregistruotas</td>\n",
       "      <td>FS0223</td>\n",
       "      <td>Pelno nesiekiančių JA finansinių ataskaitų rin...</td>\n",
       "      <td>BST116</td>\n",
       "      <td>BALANSAS</td>\n",
       "      <td>2016-01-01</td>\n",
       "      <td>2016-12-31</td>\n",
       "      <td>2020-08-04</td>\n",
       "      <td>117.0000</td>\n",
       "      <td>0.0000</td>\n",
       "      <td>0.0000</td>\n",
       "      <td>117.0000</td>\n",
       "      <td>2022-12-01</td>\n",
       "    </tr>\n",
       "    <tr>\n",
       "      <th>24218</th>\n",
       "      <td>145496790</td>\n",
       "      <td>Medžiotojų klubas \"Kurtas\"</td>\n",
       "      <td>630</td>\n",
       "      <td>Asociacija</td>\n",
       "      <td>0</td>\n",
       "      <td>Teisinis stat neįregistruotas</td>\n",
       "      <td>FS0223</td>\n",
       "      <td>Pelno nesiekiančių JA finansinių ataskaitų rin...</td>\n",
       "      <td>BST116</td>\n",
       "      <td>BALANSAS</td>\n",
       "      <td>2017-01-01</td>\n",
       "      <td>2017-12-31</td>\n",
       "      <td>2020-08-04</td>\n",
       "      <td>121.0000</td>\n",
       "      <td>0.0000</td>\n",
       "      <td>0.0000</td>\n",
       "      <td>121.0000</td>\n",
       "      <td>2022-12-01</td>\n",
       "    </tr>\n",
       "    <tr>\n",
       "      <th>26317</th>\n",
       "      <td>145496790</td>\n",
       "      <td>Medžiotojų klubas \"Kurtas\"</td>\n",
       "      <td>630</td>\n",
       "      <td>Asociacija</td>\n",
       "      <td>0</td>\n",
       "      <td>Teisinis stat neįregistruotas</td>\n",
       "      <td>FS0001</td>\n",
       "      <td>Trumpa finansinė atskaitomybė</td>\n",
       "      <td>BST001</td>\n",
       "      <td>BALANSAS</td>\n",
       "      <td>2004-01-01</td>\n",
       "      <td>2004-12-31</td>\n",
       "      <td>2020-08-04</td>\n",
       "      <td>126.0000</td>\n",
       "      <td>0.0000</td>\n",
       "      <td>0.0000</td>\n",
       "      <td>126.0000</td>\n",
       "      <td>2022-12-01</td>\n",
       "    </tr>\n",
       "    <tr>\n",
       "      <th>27316</th>\n",
       "      <td>145496790</td>\n",
       "      <td>Medžiotojų klubas \"Kurtas\"</td>\n",
       "      <td>630</td>\n",
       "      <td>Asociacija</td>\n",
       "      <td>0</td>\n",
       "      <td>Teisinis stat neįregistruotas</td>\n",
       "      <td>FS0101</td>\n",
       "      <td>Sutrumpintų finansinių ataskaitų rinkinys</td>\n",
       "      <td>BST101</td>\n",
       "      <td>BALANSAS</td>\n",
       "      <td>2008-01-01</td>\n",
       "      <td>2008-12-31</td>\n",
       "      <td>2020-08-04</td>\n",
       "      <td>2482.0000</td>\n",
       "      <td>0.0000</td>\n",
       "      <td>0.0000</td>\n",
       "      <td>2482.0000</td>\n",
       "      <td>2022-12-01</td>\n",
       "    </tr>\n",
       "    <tr>\n",
       "      <th>29709</th>\n",
       "      <td>145496790</td>\n",
       "      <td>Medžiotojų klubas \"Kurtas\"</td>\n",
       "      <td>630</td>\n",
       "      <td>Asociacija</td>\n",
       "      <td>0</td>\n",
       "      <td>Teisinis stat neįregistruotas</td>\n",
       "      <td>FS0101</td>\n",
       "      <td>Sutrumpintų finansinių ataskaitų rinkinys</td>\n",
       "      <td>BST101</td>\n",
       "      <td>BALANSAS</td>\n",
       "      <td>2007-01-01</td>\n",
       "      <td>2007-12-31</td>\n",
       "      <td>2020-08-04</td>\n",
       "      <td>2334.0000</td>\n",
       "      <td>0.0000</td>\n",
       "      <td>0.0000</td>\n",
       "      <td>2334.0000</td>\n",
       "      <td>2022-12-01</td>\n",
       "    </tr>\n",
       "    <tr>\n",
       "      <th>30141</th>\n",
       "      <td>145496790</td>\n",
       "      <td>Medžiotojų klubas \"Kurtas\"</td>\n",
       "      <td>630</td>\n",
       "      <td>Asociacija</td>\n",
       "      <td>0</td>\n",
       "      <td>Teisinis stat neįregistruotas</td>\n",
       "      <td>FS0201</td>\n",
       "      <td>Sutrumpintų finansinių ataskaitų rinkinys</td>\n",
       "      <td>BST101</td>\n",
       "      <td>BALANSAS</td>\n",
       "      <td>2012-01-01</td>\n",
       "      <td>2012-12-31</td>\n",
       "      <td>2020-08-04</td>\n",
       "      <td>18.0000</td>\n",
       "      <td>0.0000</td>\n",
       "      <td>0.0000</td>\n",
       "      <td>18.0000</td>\n",
       "      <td>2022-12-01</td>\n",
       "    </tr>\n",
       "    <tr>\n",
       "      <th>49085</th>\n",
       "      <td>145496790</td>\n",
       "      <td>Medžiotojų klubas \"Kurtas\"</td>\n",
       "      <td>630</td>\n",
       "      <td>Asociacija</td>\n",
       "      <td>0</td>\n",
       "      <td>Teisinis stat neįregistruotas</td>\n",
       "      <td>FS0101</td>\n",
       "      <td>Sutrumpintų finansinių ataskaitų rinkinys</td>\n",
       "      <td>BST101</td>\n",
       "      <td>BALANSAS</td>\n",
       "      <td>2011-01-01</td>\n",
       "      <td>2011-12-31</td>\n",
       "      <td>2020-08-04</td>\n",
       "      <td>2704.0000</td>\n",
       "      <td>0.0000</td>\n",
       "      <td>0.0000</td>\n",
       "      <td>2704.0000</td>\n",
       "      <td>2022-12-01</td>\n",
       "    </tr>\n",
       "    <tr>\n",
       "      <th>63021</th>\n",
       "      <td>145496790</td>\n",
       "      <td>Medžiotojų klubas \"Kurtas\"</td>\n",
       "      <td>630</td>\n",
       "      <td>Asociacija</td>\n",
       "      <td>0</td>\n",
       "      <td>Teisinis stat neįregistruotas</td>\n",
       "      <td>FS0101</td>\n",
       "      <td>Sutrumpintų finansinių ataskaitų rinkinys</td>\n",
       "      <td>BST101</td>\n",
       "      <td>BALANSAS</td>\n",
       "      <td>2009-01-01</td>\n",
       "      <td>2009-12-31</td>\n",
       "      <td>2020-08-04</td>\n",
       "      <td>2533.0000</td>\n",
       "      <td>0.0000</td>\n",
       "      <td>0.0000</td>\n",
       "      <td>2533.0000</td>\n",
       "      <td>2022-12-01</td>\n",
       "    </tr>\n",
       "    <tr>\n",
       "      <th>64326</th>\n",
       "      <td>145496790</td>\n",
       "      <td>Medžiotojų klubas \"Kurtas\"</td>\n",
       "      <td>630</td>\n",
       "      <td>Asociacija</td>\n",
       "      <td>0</td>\n",
       "      <td>Teisinis stat neįregistruotas</td>\n",
       "      <td>FS0023</td>\n",
       "      <td>Pelno nesiekiančių įmonių finansinė atskaitomybė</td>\n",
       "      <td>BST016</td>\n",
       "      <td>BALANSAS</td>\n",
       "      <td>2013-01-01</td>\n",
       "      <td>2013-12-31</td>\n",
       "      <td>2020-08-04</td>\n",
       "      <td>47.0000</td>\n",
       "      <td>0.0000</td>\n",
       "      <td>0.0000</td>\n",
       "      <td>47.0000</td>\n",
       "      <td>2022-12-01</td>\n",
       "    </tr>\n",
       "    <tr>\n",
       "      <th>64386</th>\n",
       "      <td>145496790</td>\n",
       "      <td>Medžiotojų klubas \"Kurtas\"</td>\n",
       "      <td>630</td>\n",
       "      <td>Asociacija</td>\n",
       "      <td>0</td>\n",
       "      <td>Teisinis stat neįregistruotas</td>\n",
       "      <td>FS0023</td>\n",
       "      <td>Pelno nesiekiančių įmonių finansinė atskaitomybė</td>\n",
       "      <td>BST016</td>\n",
       "      <td>BALANSAS</td>\n",
       "      <td>2014-01-01</td>\n",
       "      <td>2014-12-31</td>\n",
       "      <td>2020-08-04</td>\n",
       "      <td>65.0000</td>\n",
       "      <td>0.0000</td>\n",
       "      <td>0.0000</td>\n",
       "      <td>65.0000</td>\n",
       "      <td>2022-12-01</td>\n",
       "    </tr>\n",
       "    <tr>\n",
       "      <th>70734</th>\n",
       "      <td>145496790</td>\n",
       "      <td>Medžiotojų klubas \"Kurtas\"</td>\n",
       "      <td>630</td>\n",
       "      <td>Asociacija</td>\n",
       "      <td>0</td>\n",
       "      <td>Teisinis stat neįregistruotas</td>\n",
       "      <td>FS0223</td>\n",
       "      <td>Pelno nesiekiančių JA finansinių ataskaitų rin...</td>\n",
       "      <td>BST116</td>\n",
       "      <td>BALANSAS</td>\n",
       "      <td>2018-01-01</td>\n",
       "      <td>2018-12-31</td>\n",
       "      <td>2020-08-04</td>\n",
       "      <td>121.0000</td>\n",
       "      <td>0.0000</td>\n",
       "      <td>0.0000</td>\n",
       "      <td>121.0000</td>\n",
       "      <td>2022-12-01</td>\n",
       "    </tr>\n",
       "    <tr>\n",
       "      <th>70776</th>\n",
       "      <td>145496790</td>\n",
       "      <td>Medžiotojų klubas \"Kurtas\"</td>\n",
       "      <td>630</td>\n",
       "      <td>Asociacija</td>\n",
       "      <td>0</td>\n",
       "      <td>Teisinis stat neįregistruotas</td>\n",
       "      <td>FS0101</td>\n",
       "      <td>Sutrumpintų finansinių ataskaitų rinkinys</td>\n",
       "      <td>BST101</td>\n",
       "      <td>BALANSAS</td>\n",
       "      <td>2006-01-01</td>\n",
       "      <td>2006-12-31</td>\n",
       "      <td>2020-08-04</td>\n",
       "      <td>534.0000</td>\n",
       "      <td>0.0000</td>\n",
       "      <td>0.0000</td>\n",
       "      <td>534.0000</td>\n",
       "      <td>2022-12-01</td>\n",
       "    </tr>\n",
       "    <tr>\n",
       "      <th>72325</th>\n",
       "      <td>145496790</td>\n",
       "      <td>Medžiotojų klubas \"Kurtas\"</td>\n",
       "      <td>630</td>\n",
       "      <td>Asociacija</td>\n",
       "      <td>0</td>\n",
       "      <td>Teisinis stat neįregistruotas</td>\n",
       "      <td>FS0001</td>\n",
       "      <td>Trumpa finansinė atskaitomybė</td>\n",
       "      <td>BST001</td>\n",
       "      <td>BALANSAS</td>\n",
       "      <td>2005-01-01</td>\n",
       "      <td>2005-12-31</td>\n",
       "      <td>2020-08-05</td>\n",
       "      <td>2769.0000</td>\n",
       "      <td>0.0000</td>\n",
       "      <td>0.0000</td>\n",
       "      <td>2769.0000</td>\n",
       "      <td>2022-12-01</td>\n",
       "    </tr>\n",
       "    <tr>\n",
       "      <th>87236</th>\n",
       "      <td>145496790</td>\n",
       "      <td>Medžiotojų klubas \"Kurtas\"</td>\n",
       "      <td>630</td>\n",
       "      <td>Asociacija</td>\n",
       "      <td>0</td>\n",
       "      <td>Teisinis stat neįregistruotas</td>\n",
       "      <td>FS0034</td>\n",
       "      <td>Labdaros ir paramos fondų, asociacijų metinės ...</td>\n",
       "      <td>BST026</td>\n",
       "      <td>METINĖS ATASKAITOS DUOMENYS</td>\n",
       "      <td>2019-01-01</td>\n",
       "      <td>2019-12-31</td>\n",
       "      <td>2020-08-04</td>\n",
       "      <td>121.0000</td>\n",
       "      <td>NaN</td>\n",
       "      <td>NaN</td>\n",
       "      <td>NaN</td>\n",
       "      <td>2022-12-01</td>\n",
       "    </tr>\n",
       "    <tr>\n",
       "      <th>105414</th>\n",
       "      <td>145496790</td>\n",
       "      <td>Medžiotojų klubas \"Kurtas\"</td>\n",
       "      <td>630</td>\n",
       "      <td>Asociacija</td>\n",
       "      <td>0</td>\n",
       "      <td>Teisinis stat neįregistruotas</td>\n",
       "      <td>FS0123</td>\n",
       "      <td>Pelno nesiekiančių įmonių finansinė atskaitomybė</td>\n",
       "      <td>BST116</td>\n",
       "      <td>BALANSAS</td>\n",
       "      <td>2015-01-01</td>\n",
       "      <td>2015-12-31</td>\n",
       "      <td>2020-08-04</td>\n",
       "      <td>29.0000</td>\n",
       "      <td>0.0000</td>\n",
       "      <td>0.0000</td>\n",
       "      <td>29.0000</td>\n",
       "      <td>2022-12-01</td>\n",
       "    </tr>\n",
       "  </tbody>\n",
       "</table>\n",
       "</div>"
      ],
      "text/plain": [
       "        obj_kodas                     obj_pav  form_kodas    form_pav  \\\n",
       "11966   145496790  Medžiotojų klubas \"Kurtas\"         630  Asociacija   \n",
       "17343   145496790  Medžiotojų klubas \"Kurtas\"         630  Asociacija   \n",
       "24218   145496790  Medžiotojų klubas \"Kurtas\"         630  Asociacija   \n",
       "26317   145496790  Medžiotojų klubas \"Kurtas\"         630  Asociacija   \n",
       "27316   145496790  Medžiotojų klubas \"Kurtas\"         630  Asociacija   \n",
       "29709   145496790  Medžiotojų klubas \"Kurtas\"         630  Asociacija   \n",
       "30141   145496790  Medžiotojų klubas \"Kurtas\"         630  Asociacija   \n",
       "49085   145496790  Medžiotojų klubas \"Kurtas\"         630  Asociacija   \n",
       "63021   145496790  Medžiotojų klubas \"Kurtas\"         630  Asociacija   \n",
       "64326   145496790  Medžiotojų klubas \"Kurtas\"         630  Asociacija   \n",
       "64386   145496790  Medžiotojų klubas \"Kurtas\"         630  Asociacija   \n",
       "70734   145496790  Medžiotojų klubas \"Kurtas\"         630  Asociacija   \n",
       "70776   145496790  Medžiotojų klubas \"Kurtas\"         630  Asociacija   \n",
       "72325   145496790  Medžiotojų klubas \"Kurtas\"         630  Asociacija   \n",
       "87236   145496790  Medžiotojų klubas \"Kurtas\"         630  Asociacija   \n",
       "105414  145496790  Medžiotojų klubas \"Kurtas\"         630  Asociacija   \n",
       "\n",
       "        stat_statusas                       stat_pav template_id  \\\n",
       "11966               0  Teisinis stat neįregistruotas      FS0101   \n",
       "17343               0  Teisinis stat neįregistruotas      FS0223   \n",
       "24218               0  Teisinis stat neįregistruotas      FS0223   \n",
       "26317               0  Teisinis stat neįregistruotas      FS0001   \n",
       "27316               0  Teisinis stat neįregistruotas      FS0101   \n",
       "29709               0  Teisinis stat neįregistruotas      FS0101   \n",
       "30141               0  Teisinis stat neįregistruotas      FS0201   \n",
       "49085               0  Teisinis stat neįregistruotas      FS0101   \n",
       "63021               0  Teisinis stat neįregistruotas      FS0101   \n",
       "64326               0  Teisinis stat neįregistruotas      FS0023   \n",
       "64386               0  Teisinis stat neįregistruotas      FS0023   \n",
       "70734               0  Teisinis stat neįregistruotas      FS0223   \n",
       "70776               0  Teisinis stat neįregistruotas      FS0101   \n",
       "72325               0  Teisinis stat neįregistruotas      FS0001   \n",
       "87236               0  Teisinis stat neįregistruotas      FS0034   \n",
       "105414              0  Teisinis stat neįregistruotas      FS0123   \n",
       "\n",
       "                                            template_name standard_id  \\\n",
       "11966           Sutrumpintų finansinių ataskaitų rinkinys      BST101   \n",
       "17343   Pelno nesiekiančių JA finansinių ataskaitų rin...      BST116   \n",
       "24218   Pelno nesiekiančių JA finansinių ataskaitų rin...      BST116   \n",
       "26317                       Trumpa finansinė atskaitomybė      BST001   \n",
       "27316           Sutrumpintų finansinių ataskaitų rinkinys      BST101   \n",
       "29709           Sutrumpintų finansinių ataskaitų rinkinys      BST101   \n",
       "30141           Sutrumpintų finansinių ataskaitų rinkinys      BST101   \n",
       "49085           Sutrumpintų finansinių ataskaitų rinkinys      BST101   \n",
       "63021           Sutrumpintų finansinių ataskaitų rinkinys      BST101   \n",
       "64326    Pelno nesiekiančių įmonių finansinė atskaitomybė      BST016   \n",
       "64386    Pelno nesiekiančių įmonių finansinė atskaitomybė      BST016   \n",
       "70734   Pelno nesiekiančių JA finansinių ataskaitų rin...      BST116   \n",
       "70776           Sutrumpintų finansinių ataskaitų rinkinys      BST101   \n",
       "72325                       Trumpa finansinė atskaitomybė      BST001   \n",
       "87236   Labdaros ir paramos fondų, asociacijų metinės ...      BST026   \n",
       "105414   Pelno nesiekiančių įmonių finansinė atskaitomybė      BST116   \n",
       "\n",
       "                      standard_name laikotarpis_nuo laikotarpis_iki  \\\n",
       "11966                      BALANSAS      2010-01-01      2010-12-31   \n",
       "17343                      BALANSAS      2016-01-01      2016-12-31   \n",
       "24218                      BALANSAS      2017-01-01      2017-12-31   \n",
       "26317                      BALANSAS      2004-01-01      2004-12-31   \n",
       "27316                      BALANSAS      2008-01-01      2008-12-31   \n",
       "29709                      BALANSAS      2007-01-01      2007-12-31   \n",
       "30141                      BALANSAS      2012-01-01      2012-12-31   \n",
       "49085                      BALANSAS      2011-01-01      2011-12-31   \n",
       "63021                      BALANSAS      2009-01-01      2009-12-31   \n",
       "64326                      BALANSAS      2013-01-01      2013-12-31   \n",
       "64386                      BALANSAS      2014-01-01      2014-12-31   \n",
       "70734                      BALANSAS      2018-01-01      2018-12-31   \n",
       "70776                      BALANSAS      2006-01-01      2006-12-31   \n",
       "72325                      BALANSAS      2005-01-01      2005-12-31   \n",
       "87236   METINĖS ATASKAITOS DUOMENYS      2019-01-01      2019-12-31   \n",
       "105414                     BALANSAS      2015-01-01      2015-12-31   \n",
       "\n",
       "          reg_date  nuosavas_kapitalas  mok_sumos_ir_isipareigojimai  \\\n",
       "11966   2020-08-04           2604.0000                        0.0000   \n",
       "17343   2020-08-04            117.0000                        0.0000   \n",
       "24218   2020-08-04            121.0000                        0.0000   \n",
       "26317   2020-08-04            126.0000                        0.0000   \n",
       "27316   2020-08-04           2482.0000                        0.0000   \n",
       "29709   2020-08-04           2334.0000                        0.0000   \n",
       "30141   2020-08-04             18.0000                        0.0000   \n",
       "49085   2020-08-04           2704.0000                        0.0000   \n",
       "63021   2020-08-04           2533.0000                        0.0000   \n",
       "64326   2020-08-04             47.0000                        0.0000   \n",
       "64386   2020-08-04             65.0000                        0.0000   \n",
       "70734   2020-08-04            121.0000                        0.0000   \n",
       "70776   2020-08-04            534.0000                        0.0000   \n",
       "72325   2020-08-05           2769.0000                        0.0000   \n",
       "87236   2020-08-04            121.0000                           NaN   \n",
       "105414  2020-08-04             29.0000                        0.0000   \n",
       "\n",
       "        ilgalaikis_turtas  trumpalaikis_turtas formavimo_data  \n",
       "11966              0.0000            2604.0000     2022-12-01  \n",
       "17343              0.0000             117.0000     2022-12-01  \n",
       "24218              0.0000             121.0000     2022-12-01  \n",
       "26317              0.0000             126.0000     2022-12-01  \n",
       "27316              0.0000            2482.0000     2022-12-01  \n",
       "29709              0.0000            2334.0000     2022-12-01  \n",
       "30141              0.0000              18.0000     2022-12-01  \n",
       "49085              0.0000            2704.0000     2022-12-01  \n",
       "63021              0.0000            2533.0000     2022-12-01  \n",
       "64326              0.0000              47.0000     2022-12-01  \n",
       "64386              0.0000              65.0000     2022-12-01  \n",
       "70734              0.0000             121.0000     2022-12-01  \n",
       "70776              0.0000             534.0000     2022-12-01  \n",
       "72325              0.0000            2769.0000     2022-12-01  \n",
       "87236                 NaN                  NaN     2022-12-01  \n",
       "105414             0.0000              29.0000     2022-12-01  "
      ]
     },
     "execution_count": 30,
     "metadata": {},
     "output_type": "execute_result"
    },
    {
     "data": {
      "application/javascript": "\n            setTimeout(function() {\n                var nbb_cell_id = 30;\n                var nbb_unformatted_code = \"test_2 = raw_balanso_ataskaita_2020[raw_balanso_ataskaita_2020['obj_kodas'] == 145496790]\\nlen(test_2) == len(test_2.laikotarpis_nuo.unique())\\ntest_2\";\n                var nbb_formatted_code = \"test_2 = raw_balanso_ataskaita_2020[\\n    raw_balanso_ataskaita_2020[\\\"obj_kodas\\\"] == 145496790\\n]\\nlen(test_2) == len(test_2.laikotarpis_nuo.unique())\\ntest_2\";\n                var nbb_cells = Jupyter.notebook.get_cells();\n                for (var i = 0; i < nbb_cells.length; ++i) {\n                    if (nbb_cells[i].input_prompt_number == nbb_cell_id) {\n                        if (nbb_cells[i].get_text() == nbb_unformatted_code) {\n                             nbb_cells[i].set_text(nbb_formatted_code);\n                        }\n                        break;\n                    }\n                }\n            }, 500);\n            ",
      "text/plain": [
       "<IPython.core.display.Javascript object>"
      ]
     },
     "metadata": {},
     "output_type": "display_data"
    }
   ],
   "source": [
    "test_2 = raw_balanso_ataskaita_2020[raw_balanso_ataskaita_2020['obj_kodas'] == 145496790]\n",
    "len(test_2) == len(test_2.laikotarpis_nuo.unique())\n",
    "test_2"
   ]
  },
  {
   "cell_type": "code",
   "execution_count": 31,
   "id": "f99789a0-c54b-4fa6-808d-94335efb648c",
   "metadata": {},
   "outputs": [
    {
     "data": {
      "text/plain": [
       "True"
      ]
     },
     "execution_count": 31,
     "metadata": {},
     "output_type": "execute_result"
    },
    {
     "data": {
      "application/javascript": "\n            setTimeout(function() {\n                var nbb_cell_id = 31;\n                var nbb_unformatted_code = \"test_3 = raw_balanso_ataskaita_2020[raw_balanso_ataskaita_2020['obj_kodas'] == 159884874]\\nlen(test_3) == len(test_3.laikotarpis_nuo.unique())\";\n                var nbb_formatted_code = \"test_3 = raw_balanso_ataskaita_2020[\\n    raw_balanso_ataskaita_2020[\\\"obj_kodas\\\"] == 159884874\\n]\\nlen(test_3) == len(test_3.laikotarpis_nuo.unique())\";\n                var nbb_cells = Jupyter.notebook.get_cells();\n                for (var i = 0; i < nbb_cells.length; ++i) {\n                    if (nbb_cells[i].input_prompt_number == nbb_cell_id) {\n                        if (nbb_cells[i].get_text() == nbb_unformatted_code) {\n                             nbb_cells[i].set_text(nbb_formatted_code);\n                        }\n                        break;\n                    }\n                }\n            }, 500);\n            ",
      "text/plain": [
       "<IPython.core.display.Javascript object>"
      ]
     },
     "metadata": {},
     "output_type": "display_data"
    }
   ],
   "source": [
    "test_3 = raw_balanso_ataskaita_2020[raw_balanso_ataskaita_2020['obj_kodas'] == 159884874]\n",
    "len(test_3) == len(test_3.laikotarpis_nuo.unique())"
   ]
  },
  {
   "cell_type": "markdown",
   "id": "cac86449-5137-40b8-8988-ebbf5ab9b3b6",
   "metadata": {},
   "source": [
    "#### Unikalių aibių sukurimas ir patikrinimas"
   ]
  },
  {
   "cell_type": "code",
   "execution_count": 32,
   "id": "559739a8-21cb-4a8a-93af-4f4d90be5587",
   "metadata": {},
   "outputs": [
    {
     "data": {
      "text/plain": [
       "True"
      ]
     },
     "execution_count": 32,
     "metadata": {},
     "output_type": "execute_result"
    },
    {
     "data": {
      "application/javascript": "\n            setTimeout(function() {\n                var nbb_cell_id = 32;\n                var nbb_unformatted_code = \"uniq_balanso_ataskaita_2020 = raw_balanso_ataskaita_2020.copy()\\nuniq_balanso_ataskaita_2020['uniq_id'] = raw_balanso_ataskaita_2020['laikotarpis_nuo'].astype(str)+'_'+raw_balanso_ataskaita_2020['obj_kodas'].astype(str)\\n\\nlen(uniq_balanso_ataskaita_2020.uniq_id) == len(raw_balanso_ataskaita_2020)\";\n                var nbb_formatted_code = \"uniq_balanso_ataskaita_2020 = raw_balanso_ataskaita_2020.copy()\\nuniq_balanso_ataskaita_2020[\\\"uniq_id\\\"] = (\\n    raw_balanso_ataskaita_2020[\\\"laikotarpis_nuo\\\"].astype(str)\\n    + \\\"_\\\"\\n    + raw_balanso_ataskaita_2020[\\\"obj_kodas\\\"].astype(str)\\n)\\n\\nlen(uniq_balanso_ataskaita_2020.uniq_id) == len(raw_balanso_ataskaita_2020)\";\n                var nbb_cells = Jupyter.notebook.get_cells();\n                for (var i = 0; i < nbb_cells.length; ++i) {\n                    if (nbb_cells[i].input_prompt_number == nbb_cell_id) {\n                        if (nbb_cells[i].get_text() == nbb_unformatted_code) {\n                             nbb_cells[i].set_text(nbb_formatted_code);\n                        }\n                        break;\n                    }\n                }\n            }, 500);\n            ",
      "text/plain": [
       "<IPython.core.display.Javascript object>"
      ]
     },
     "metadata": {},
     "output_type": "display_data"
    }
   ],
   "source": [
    "uniq_balanso_ataskaita_2020 = raw_balanso_ataskaita_2020.copy()\n",
    "uniq_balanso_ataskaita_2020['uniq_id'] = raw_balanso_ataskaita_2020['laikotarpis_nuo'].astype(str)+'_'+raw_balanso_ataskaita_2020['obj_kodas'].astype(str)\n",
    "\n",
    "len(uniq_balanso_ataskaita_2020.uniq_id) == len(raw_balanso_ataskaita_2020)"
   ]
  },
  {
   "cell_type": "code",
   "execution_count": 33,
   "id": "54119eff-85df-4da6-a584-34569c8eb39f",
   "metadata": {},
   "outputs": [
    {
     "data": {
      "text/plain": [
       "True"
      ]
     },
     "execution_count": 33,
     "metadata": {},
     "output_type": "execute_result"
    },
    {
     "data": {
      "application/javascript": "\n            setTimeout(function() {\n                var nbb_cell_id = 33;\n                var nbb_unformatted_code = \"uniq_balanso_ataskaita_2021 = raw_balanso_ataskaita_2021.copy()\\nuniq_balanso_ataskaita_2021['uniq_id'] = raw_balanso_ataskaita_2021['laikotarpis_nuo'].astype(str)+'_'+raw_balanso_ataskaita_2021['obj_kodas'].astype(str)\\n\\nlen(uniq_balanso_ataskaita_2021.uniq_id) == len(raw_balanso_ataskaita_2021)\";\n                var nbb_formatted_code = \"uniq_balanso_ataskaita_2021 = raw_balanso_ataskaita_2021.copy()\\nuniq_balanso_ataskaita_2021[\\\"uniq_id\\\"] = (\\n    raw_balanso_ataskaita_2021[\\\"laikotarpis_nuo\\\"].astype(str)\\n    + \\\"_\\\"\\n    + raw_balanso_ataskaita_2021[\\\"obj_kodas\\\"].astype(str)\\n)\\n\\nlen(uniq_balanso_ataskaita_2021.uniq_id) == len(raw_balanso_ataskaita_2021)\";\n                var nbb_cells = Jupyter.notebook.get_cells();\n                for (var i = 0; i < nbb_cells.length; ++i) {\n                    if (nbb_cells[i].input_prompt_number == nbb_cell_id) {\n                        if (nbb_cells[i].get_text() == nbb_unformatted_code) {\n                             nbb_cells[i].set_text(nbb_formatted_code);\n                        }\n                        break;\n                    }\n                }\n            }, 500);\n            ",
      "text/plain": [
       "<IPython.core.display.Javascript object>"
      ]
     },
     "metadata": {},
     "output_type": "display_data"
    }
   ],
   "source": [
    "uniq_balanso_ataskaita_2021 = raw_balanso_ataskaita_2021.copy()\n",
    "uniq_balanso_ataskaita_2021['uniq_id'] = raw_balanso_ataskaita_2021['laikotarpis_nuo'].astype(str)+'_'+raw_balanso_ataskaita_2021['obj_kodas'].astype(str)\n",
    "\n",
    "len(uniq_balanso_ataskaita_2021.uniq_id) == len(raw_balanso_ataskaita_2021)"
   ]
  },
  {
   "cell_type": "code",
   "execution_count": 34,
   "id": "3a1f6822-8279-4dfb-9b5d-e8f8e9ee610a",
   "metadata": {},
   "outputs": [
    {
     "data": {
      "text/plain": [
       "True"
      ]
     },
     "execution_count": 34,
     "metadata": {},
     "output_type": "execute_result"
    },
    {
     "data": {
      "application/javascript": "\n            setTimeout(function() {\n                var nbb_cell_id = 34;\n                var nbb_unformatted_code = \"uniq_pelno_ataskaita_2020 = raw_pelno_ataskaita_2020.copy()\\nuniq_pelno_ataskaita_2020['uniq_id'] = uniq_pelno_ataskaita_2020['laikotarpis_nuo'].astype(str)+'_'+ uniq_pelno_ataskaita_2020['obj_kodas'].astype(str)\\n\\nlen(uniq_pelno_ataskaita_2020.uniq_id) == len(raw_pelno_ataskaita_2020)\";\n                var nbb_formatted_code = \"uniq_pelno_ataskaita_2020 = raw_pelno_ataskaita_2020.copy()\\nuniq_pelno_ataskaita_2020[\\\"uniq_id\\\"] = (\\n    uniq_pelno_ataskaita_2020[\\\"laikotarpis_nuo\\\"].astype(str)\\n    + \\\"_\\\"\\n    + uniq_pelno_ataskaita_2020[\\\"obj_kodas\\\"].astype(str)\\n)\\n\\nlen(uniq_pelno_ataskaita_2020.uniq_id) == len(raw_pelno_ataskaita_2020)\";\n                var nbb_cells = Jupyter.notebook.get_cells();\n                for (var i = 0; i < nbb_cells.length; ++i) {\n                    if (nbb_cells[i].input_prompt_number == nbb_cell_id) {\n                        if (nbb_cells[i].get_text() == nbb_unformatted_code) {\n                             nbb_cells[i].set_text(nbb_formatted_code);\n                        }\n                        break;\n                    }\n                }\n            }, 500);\n            ",
      "text/plain": [
       "<IPython.core.display.Javascript object>"
      ]
     },
     "metadata": {},
     "output_type": "display_data"
    }
   ],
   "source": [
    "uniq_pelno_ataskaita_2020 = raw_pelno_ataskaita_2020.copy()\n",
    "uniq_pelno_ataskaita_2020['uniq_id'] = uniq_pelno_ataskaita_2020['laikotarpis_nuo'].astype(str)+'_'+ uniq_pelno_ataskaita_2020['obj_kodas'].astype(str)\n",
    "\n",
    "len(uniq_pelno_ataskaita_2020.uniq_id) == len(raw_pelno_ataskaita_2020)"
   ]
  },
  {
   "cell_type": "code",
   "execution_count": 35,
   "id": "23483766-ef30-4750-be1c-5c08497060dc",
   "metadata": {},
   "outputs": [
    {
     "data": {
      "text/plain": [
       "True"
      ]
     },
     "execution_count": 35,
     "metadata": {},
     "output_type": "execute_result"
    },
    {
     "data": {
      "application/javascript": "\n            setTimeout(function() {\n                var nbb_cell_id = 35;\n                var nbb_unformatted_code = \"uniq_pelno_ataskaita_2021 = raw_pelno_ataskaita_2021.copy()\\nuniq_pelno_ataskaita_2021['uniq_id'] = uniq_pelno_ataskaita_2021['laikotarpis_nuo'].astype(str)+ '_'+ uniq_pelno_ataskaita_2021['obj_kodas'].astype(str)\\n\\nlen(uniq_pelno_ataskaita_2021.uniq_id) == len(raw_pelno_ataskaita_2021)\";\n                var nbb_formatted_code = \"uniq_pelno_ataskaita_2021 = raw_pelno_ataskaita_2021.copy()\\nuniq_pelno_ataskaita_2021[\\\"uniq_id\\\"] = (\\n    uniq_pelno_ataskaita_2021[\\\"laikotarpis_nuo\\\"].astype(str)\\n    + \\\"_\\\"\\n    + uniq_pelno_ataskaita_2021[\\\"obj_kodas\\\"].astype(str)\\n)\\n\\nlen(uniq_pelno_ataskaita_2021.uniq_id) == len(raw_pelno_ataskaita_2021)\";\n                var nbb_cells = Jupyter.notebook.get_cells();\n                for (var i = 0; i < nbb_cells.length; ++i) {\n                    if (nbb_cells[i].input_prompt_number == nbb_cell_id) {\n                        if (nbb_cells[i].get_text() == nbb_unformatted_code) {\n                             nbb_cells[i].set_text(nbb_formatted_code);\n                        }\n                        break;\n                    }\n                }\n            }, 500);\n            ",
      "text/plain": [
       "<IPython.core.display.Javascript object>"
      ]
     },
     "metadata": {},
     "output_type": "display_data"
    }
   ],
   "source": [
    "uniq_pelno_ataskaita_2021 = raw_pelno_ataskaita_2021.copy()\n",
    "uniq_pelno_ataskaita_2021['uniq_id'] = uniq_pelno_ataskaita_2021['laikotarpis_nuo'].astype(str)+ '_'+ uniq_pelno_ataskaita_2021['obj_kodas'].astype(str)\n",
    "\n",
    "len(uniq_pelno_ataskaita_2021.uniq_id) == len(raw_pelno_ataskaita_2021)"
   ]
  },
  {
   "cell_type": "markdown",
   "id": "d55dc700-7651-4bde-8d71-f176a48563e8",
   "metadata": {},
   "source": [
    "## Kad būtų patogiau dirbti, sujungsiu 2021 ir 2022 metų duomenų masyvus. kad būtų patogiau identifikuoti, sukursiu papildomą požimį, nurodantį duomenų masyvo identifikavimą."
   ]
  },
  {
   "attachments": {},
   "cell_type": "markdown",
   "id": "be6bd08f",
   "metadata": {},
   "source": [
    "<font color='red'> Erikas Švažas: \n",
    "Šaunu, kad atlikęs operaciją patikrini ar rezultatas yra tikrai *expected*, geras sprendimas, kuris tikrai padės apsisaugoti ateityje!\n",
    "</font>"
   ]
  },
  {
   "cell_type": "code",
   "execution_count": 36,
   "id": "dc62b837-82eb-4ef4-86be-2a54f31a5682",
   "metadata": {},
   "outputs": [
    {
     "data": {
      "application/javascript": "\n            setTimeout(function() {\n                var nbb_cell_id = 36;\n                var nbb_unformatted_code = \"uniq_balanso_ataskaita_2020['df_year'], uniq_balanso_ataskaita_2021['df_year'] = 2020, 2021\";\n                var nbb_formatted_code = \"uniq_balanso_ataskaita_2020[\\\"df_year\\\"], uniq_balanso_ataskaita_2021[\\\"df_year\\\"] = (\\n    2020,\\n    2021,\\n)\";\n                var nbb_cells = Jupyter.notebook.get_cells();\n                for (var i = 0; i < nbb_cells.length; ++i) {\n                    if (nbb_cells[i].input_prompt_number == nbb_cell_id) {\n                        if (nbb_cells[i].get_text() == nbb_unformatted_code) {\n                             nbb_cells[i].set_text(nbb_formatted_code);\n                        }\n                        break;\n                    }\n                }\n            }, 500);\n            ",
      "text/plain": [
       "<IPython.core.display.Javascript object>"
      ]
     },
     "metadata": {},
     "output_type": "display_data"
    }
   ],
   "source": [
    "uniq_balanso_ataskaita_2020['df_year'], uniq_balanso_ataskaita_2021['df_year'] = 2020, 2021"
   ]
  },
  {
   "cell_type": "code",
   "execution_count": 37,
   "id": "82e4353a-f7d3-46af-8b17-24d957d3c7fa",
   "metadata": {},
   "outputs": [
    {
     "data": {
      "application/javascript": "\n            setTimeout(function() {\n                var nbb_cell_id = 37;\n                var nbb_unformatted_code = \"balanso_ataskaita = pd.concat([uniq_balanso_ataskaita_2020 ,uniq_balanso_ataskaita_2021]).reset_index().drop('index',axis=1)\";\n                var nbb_formatted_code = \"balanso_ataskaita = (\\n    pd.concat([uniq_balanso_ataskaita_2020, uniq_balanso_ataskaita_2021])\\n    .reset_index()\\n    .drop(\\\"index\\\", axis=1)\\n)\";\n                var nbb_cells = Jupyter.notebook.get_cells();\n                for (var i = 0; i < nbb_cells.length; ++i) {\n                    if (nbb_cells[i].input_prompt_number == nbb_cell_id) {\n                        if (nbb_cells[i].get_text() == nbb_unformatted_code) {\n                             nbb_cells[i].set_text(nbb_formatted_code);\n                        }\n                        break;\n                    }\n                }\n            }, 500);\n            ",
      "text/plain": [
       "<IPython.core.display.Javascript object>"
      ]
     },
     "metadata": {},
     "output_type": "display_data"
    }
   ],
   "source": [
    "balanso_ataskaita = pd.concat([uniq_balanso_ataskaita_2020 ,uniq_balanso_ataskaita_2021]).reset_index().drop('index',axis=1)"
   ]
  },
  {
   "cell_type": "code",
   "execution_count": 38,
   "id": "e9f26d4b-99e1-4312-9ed5-be8b99df4d69",
   "metadata": {},
   "outputs": [
    {
     "data": {
      "text/plain": [
       "True"
      ]
     },
     "execution_count": 38,
     "metadata": {},
     "output_type": "execute_result"
    },
    {
     "data": {
      "application/javascript": "\n            setTimeout(function() {\n                var nbb_cell_id = 38;\n                var nbb_unformatted_code = \"len(balanso_ataskaita) == len(uniq_balanso_ataskaita_2020) + len(uniq_balanso_ataskaita_2021)\";\n                var nbb_formatted_code = \"len(balanso_ataskaita) == len(uniq_balanso_ataskaita_2020) + len(\\n    uniq_balanso_ataskaita_2021\\n)\";\n                var nbb_cells = Jupyter.notebook.get_cells();\n                for (var i = 0; i < nbb_cells.length; ++i) {\n                    if (nbb_cells[i].input_prompt_number == nbb_cell_id) {\n                        if (nbb_cells[i].get_text() == nbb_unformatted_code) {\n                             nbb_cells[i].set_text(nbb_formatted_code);\n                        }\n                        break;\n                    }\n                }\n            }, 500);\n            ",
      "text/plain": [
       "<IPython.core.display.Javascript object>"
      ]
     },
     "metadata": {},
     "output_type": "display_data"
    }
   ],
   "source": [
    "len(balanso_ataskaita) == len(uniq_balanso_ataskaita_2020) + len(uniq_balanso_ataskaita_2021)"
   ]
  },
  {
   "cell_type": "code",
   "execution_count": 39,
   "id": "07a393ec-ba7c-477e-b5a5-d11df8598f2d",
   "metadata": {},
   "outputs": [
    {
     "data": {
      "application/javascript": "\n            setTimeout(function() {\n                var nbb_cell_id = 39;\n                var nbb_unformatted_code = \"uniq_pelno_ataskaita_2020['df_year'], uniq_pelno_ataskaita_2021['df_year'] = 2020 ,2021\";\n                var nbb_formatted_code = \"uniq_pelno_ataskaita_2020[\\\"df_year\\\"], uniq_pelno_ataskaita_2021[\\\"df_year\\\"] = 2020, 2021\";\n                var nbb_cells = Jupyter.notebook.get_cells();\n                for (var i = 0; i < nbb_cells.length; ++i) {\n                    if (nbb_cells[i].input_prompt_number == nbb_cell_id) {\n                        if (nbb_cells[i].get_text() == nbb_unformatted_code) {\n                             nbb_cells[i].set_text(nbb_formatted_code);\n                        }\n                        break;\n                    }\n                }\n            }, 500);\n            ",
      "text/plain": [
       "<IPython.core.display.Javascript object>"
      ]
     },
     "metadata": {},
     "output_type": "display_data"
    }
   ],
   "source": [
    "uniq_pelno_ataskaita_2020['df_year'], uniq_pelno_ataskaita_2021['df_year'] = 2020 ,2021"
   ]
  },
  {
   "cell_type": "code",
   "execution_count": 40,
   "id": "8fed39d4-fcaa-4553-94d7-568d1a4062e0",
   "metadata": {},
   "outputs": [
    {
     "data": {
      "application/javascript": "\n            setTimeout(function() {\n                var nbb_cell_id = 40;\n                var nbb_unformatted_code = \"pelno_ataskaita = pd.concat([uniq_pelno_ataskaita_2020,uniq_pelno_ataskaita_2021]).reset_index().drop('index',axis=1)\";\n                var nbb_formatted_code = \"pelno_ataskaita = (\\n    pd.concat([uniq_pelno_ataskaita_2020, uniq_pelno_ataskaita_2021])\\n    .reset_index()\\n    .drop(\\\"index\\\", axis=1)\\n)\";\n                var nbb_cells = Jupyter.notebook.get_cells();\n                for (var i = 0; i < nbb_cells.length; ++i) {\n                    if (nbb_cells[i].input_prompt_number == nbb_cell_id) {\n                        if (nbb_cells[i].get_text() == nbb_unformatted_code) {\n                             nbb_cells[i].set_text(nbb_formatted_code);\n                        }\n                        break;\n                    }\n                }\n            }, 500);\n            ",
      "text/plain": [
       "<IPython.core.display.Javascript object>"
      ]
     },
     "metadata": {},
     "output_type": "display_data"
    }
   ],
   "source": [
    "pelno_ataskaita = pd.concat([uniq_pelno_ataskaita_2020,uniq_pelno_ataskaita_2021]).reset_index().drop('index',axis=1)\n"
   ]
  },
  {
   "cell_type": "code",
   "execution_count": 41,
   "id": "90882117-7932-48e2-af8b-b9600ffc1ee2",
   "metadata": {},
   "outputs": [
    {
     "data": {
      "text/plain": [
       "True"
      ]
     },
     "execution_count": 41,
     "metadata": {},
     "output_type": "execute_result"
    },
    {
     "data": {
      "application/javascript": "\n            setTimeout(function() {\n                var nbb_cell_id = 41;\n                var nbb_unformatted_code = \"len(pelno_ataskaita) == len(uniq_pelno_ataskaita_2020) + len(uniq_pelno_ataskaita_2021)\";\n                var nbb_formatted_code = \"len(pelno_ataskaita) == len(uniq_pelno_ataskaita_2020) + len(uniq_pelno_ataskaita_2021)\";\n                var nbb_cells = Jupyter.notebook.get_cells();\n                for (var i = 0; i < nbb_cells.length; ++i) {\n                    if (nbb_cells[i].input_prompt_number == nbb_cell_id) {\n                        if (nbb_cells[i].get_text() == nbb_unformatted_code) {\n                             nbb_cells[i].set_text(nbb_formatted_code);\n                        }\n                        break;\n                    }\n                }\n            }, 500);\n            ",
      "text/plain": [
       "<IPython.core.display.Javascript object>"
      ]
     },
     "metadata": {},
     "output_type": "display_data"
    }
   ],
   "source": [
    "len(pelno_ataskaita) == len(uniq_pelno_ataskaita_2020) + len(uniq_pelno_ataskaita_2021)"
   ]
  },
  {
   "cell_type": "markdown",
   "id": "df5e33cb-110c-49e2-ad45-8bffd6109587",
   "metadata": {},
   "source": [
    "# Antra Dalis"
   ]
  },
  {
   "cell_type": "markdown",
   "id": "9846a466-c337-4d5e-bcbd-f50918bb0d0b",
   "metadata": {},
   "source": [
    "## 4. Keletas juridinių asmenų pavadinimų yra tiesiogiai susiję su “Thermo Fisher” bendrove. Raskite pilnus šių bendrovių pavadinimus."
   ]
  },
  {
   "cell_type": "code",
   "execution_count": 42,
   "id": "26cc3f77-3dd2-4940-bb6c-77cc8fdba1fe",
   "metadata": {},
   "outputs": [
    {
     "data": {
      "application/javascript": "\n            setTimeout(function() {\n                var nbb_cell_id = 42;\n                var nbb_unformatted_code = \"# kad b\\u016bt\\u0173 galima naudoti string native funkcijas, pakei\\u010diu duomen\\u0173 tip\\u0105 \\u012f \\\"String\\\"\\nbalanso_ataskaita['obj_pav'] = balanso_ataskaita['obj_pav'].astype(str)\";\n                var nbb_formatted_code = \"# kad b\\u016bt\\u0173 galima naudoti string native funkcijas, pakei\\u010diu duomen\\u0173 tip\\u0105 \\u012f \\\"String\\\"\\nbalanso_ataskaita[\\\"obj_pav\\\"] = balanso_ataskaita[\\\"obj_pav\\\"].astype(str)\";\n                var nbb_cells = Jupyter.notebook.get_cells();\n                for (var i = 0; i < nbb_cells.length; ++i) {\n                    if (nbb_cells[i].input_prompt_number == nbb_cell_id) {\n                        if (nbb_cells[i].get_text() == nbb_unformatted_code) {\n                             nbb_cells[i].set_text(nbb_formatted_code);\n                        }\n                        break;\n                    }\n                }\n            }, 500);\n            ",
      "text/plain": [
       "<IPython.core.display.Javascript object>"
      ]
     },
     "metadata": {},
     "output_type": "display_data"
    }
   ],
   "source": [
    "# kad būtų galima naudoti string native funkcijas, pakeičiu duomenų tipą į \"String\"\n",
    "balanso_ataskaita['obj_pav'] = balanso_ataskaita['obj_pav'].astype(str)"
   ]
  },
  {
   "cell_type": "code",
   "execution_count": 43,
   "id": "9633aaf2-2f45-4a86-96eb-d6f0315e6051",
   "metadata": {},
   "outputs": [
    {
     "data": {
      "text/plain": [
       "['UAB \"Thermo Fisher Scientific Vector Holdings\"',\n",
       " 'UAB \"Thermo Fisher Scientific Baltics\"',\n",
       " 'UAB \"Thermo Fisher Scientific Vector Senior Holdings I\"',\n",
       " 'UAB \"Thermo Fisher Scientific Vector Senior Holdings II\"',\n",
       " 'UAB \"Thermo Fisher Scientific Vector Senior Holdings II\"',\n",
       " 'UAB \"Thermo Fisher Scientific Vector Senior Holdings I\"',\n",
       " 'UAB \"Thermo Fisher Scientific Baltics\"',\n",
       " 'UAB \"Thermo Fisher Scientific Vector Holdings\"']"
      ]
     },
     "execution_count": 43,
     "metadata": {},
     "output_type": "execute_result"
    },
    {
     "data": {
      "application/javascript": "\n            setTimeout(function() {\n                var nbb_cell_id = 43;\n                var nbb_unformatted_code = \"mask = balanso_ataskaita['obj_pav'].str.contains('Thermo Fisher')\\nbalanso_ataskaita[mask]['obj_pav'].to_list()\";\n                var nbb_formatted_code = \"mask = balanso_ataskaita[\\\"obj_pav\\\"].str.contains(\\\"Thermo Fisher\\\")\\nbalanso_ataskaita[mask][\\\"obj_pav\\\"].to_list()\";\n                var nbb_cells = Jupyter.notebook.get_cells();\n                for (var i = 0; i < nbb_cells.length; ++i) {\n                    if (nbb_cells[i].input_prompt_number == nbb_cell_id) {\n                        if (nbb_cells[i].get_text() == nbb_unformatted_code) {\n                             nbb_cells[i].set_text(nbb_formatted_code);\n                        }\n                        break;\n                    }\n                }\n            }, 500);\n            ",
      "text/plain": [
       "<IPython.core.display.Javascript object>"
      ]
     },
     "metadata": {},
     "output_type": "display_data"
    }
   ],
   "source": [
    "mask = balanso_ataskaita['obj_pav'].str.contains('Thermo Fisher')\n",
    "balanso_ataskaita[mask]['obj_pav'].to_list()"
   ]
  },
  {
   "attachments": {},
   "cell_type": "markdown",
   "id": "660c88f3",
   "metadata": {},
   "source": [
    "<font color=\"red\"> Erikas Švažas\n",
    "\n",
    "Ateityje gali praversti .str.contains(case=?) argumentas\n",
    "\n",
    "</font>"
   ]
  },
  {
   "cell_type": "markdown",
   "id": "11722b9a-07e0-438f-9934-c597c379a7ce",
   "metadata": {},
   "source": [
    "### 5. Apsimeskime, kad atributas “form_pav” neegzistuoja. Iš likusių laukelių gaukite visas UAB ir MB bendroves. Palyginkite rekonstrukcijos tikslumą su “form_pav” vertėmis - kiek procentų verčių pavyko atkurti skirtingose duomenyse?"
   ]
  },
  {
   "cell_type": "code",
   "execution_count": 44,
   "id": "965a2eb2-4bcc-4d8e-b27f-cfa732fcbef9",
   "metadata": {},
   "outputs": [
    {
     "data": {
      "application/javascript": "\n            setTimeout(function() {\n                var nbb_cell_id = 44;\n                var nbb_unformatted_code = \"def get_mb_uab_s(series: pd.Series):\\n    split_obj_name = series.lower().split(' ')\\n    if  'mb' in split_obj_name:\\n        return 'Ma\\u017eoji bendrija' \\n    elif ('ma\\u017eoji' and 'bendrija') in split_obj_name :\\n        return 'Ma\\u017eoji bendrija' \\n    elif 'uab' in split_obj_name:\\n        return 'U\\u017edaroji akcin\\u0117 bendrov\\u0117'\\n    elif 'u\\u017edaroji' in split_obj_name and 'bendrov\\u0117' in split_obj_name:\\n        return 'U\\u017edaroji akcin\\u0117 bendrov\\u0117'\\n    return 'not_in_scope'\\n   \";\n                var nbb_formatted_code = \"def get_mb_uab_s(series: pd.Series):\\n    split_obj_name = series.lower().split(\\\" \\\")\\n    if \\\"mb\\\" in split_obj_name:\\n        return \\\"Ma\\u017eoji bendrija\\\"\\n    elif (\\\"ma\\u017eoji\\\" and \\\"bendrija\\\") in split_obj_name:\\n        return \\\"Ma\\u017eoji bendrija\\\"\\n    elif \\\"uab\\\" in split_obj_name:\\n        return \\\"U\\u017edaroji akcin\\u0117 bendrov\\u0117\\\"\\n    elif \\\"u\\u017edaroji\\\" in split_obj_name and \\\"bendrov\\u0117\\\" in split_obj_name:\\n        return \\\"U\\u017edaroji akcin\\u0117 bendrov\\u0117\\\"\\n    return \\\"not_in_scope\\\"\";\n                var nbb_cells = Jupyter.notebook.get_cells();\n                for (var i = 0; i < nbb_cells.length; ++i) {\n                    if (nbb_cells[i].input_prompt_number == nbb_cell_id) {\n                        if (nbb_cells[i].get_text() == nbb_unformatted_code) {\n                             nbb_cells[i].set_text(nbb_formatted_code);\n                        }\n                        break;\n                    }\n                }\n            }, 500);\n            ",
      "text/plain": [
       "<IPython.core.display.Javascript object>"
      ]
     },
     "metadata": {},
     "output_type": "display_data"
    }
   ],
   "source": [
    "def get_mb_uab_s(series: pd.Series):\n",
    "    split_obj_name = series.lower().split(' ')\n",
    "    if  'mb' in split_obj_name:\n",
    "        return 'Mažoji bendrija' \n",
    "    elif ('mažoji' and 'bendrija') in split_obj_name :\n",
    "        return 'Mažoji bendrija' \n",
    "    elif 'uab' in split_obj_name:\n",
    "        return 'Uždaroji akcinė bendrovė'\n",
    "    elif 'uždaroji' in split_obj_name and 'bendrovė' in split_obj_name:\n",
    "        return 'Uždaroji akcinė bendrovė'\n",
    "    return 'not_in_scope'\n",
    "   "
   ]
  },
  {
   "cell_type": "code",
   "execution_count": 45,
   "id": "1b2c4436-b2cc-426f-a1fd-cfc83ca1ac97",
   "metadata": {},
   "outputs": [
    {
     "data": {
      "application/javascript": "\n            setTimeout(function() {\n                var nbb_cell_id = 45;\n                var nbb_unformatted_code = \"balanso_ataskaita['inf_type'] = balanso_ataskaita['obj_pav'].apply(lambda x: get_mb_uab_s(x))\";\n                var nbb_formatted_code = \"balanso_ataskaita[\\\"inf_type\\\"] = balanso_ataskaita[\\\"obj_pav\\\"].apply(\\n    lambda x: get_mb_uab_s(x)\\n)\";\n                var nbb_cells = Jupyter.notebook.get_cells();\n                for (var i = 0; i < nbb_cells.length; ++i) {\n                    if (nbb_cells[i].input_prompt_number == nbb_cell_id) {\n                        if (nbb_cells[i].get_text() == nbb_unformatted_code) {\n                             nbb_cells[i].set_text(nbb_formatted_code);\n                        }\n                        break;\n                    }\n                }\n            }, 500);\n            ",
      "text/plain": [
       "<IPython.core.display.Javascript object>"
      ]
     },
     "metadata": {},
     "output_type": "display_data"
    }
   ],
   "source": [
    "balanso_ataskaita['inf_type'] = balanso_ataskaita['obj_pav'].apply(lambda x: get_mb_uab_s(x))"
   ]
  },
  {
   "cell_type": "code",
   "execution_count": 46,
   "id": "35946184-9272-4c1d-a5f2-1ae406e5f9b2",
   "metadata": {},
   "outputs": [
    {
     "data": {
      "text/plain": [
       "Uždaroji akcinė bendrovė    158439\n",
       "not_in_scope                 35847\n",
       "Mažoji bendrija              32882\n",
       "Name: inf_type, dtype: int64"
      ]
     },
     "execution_count": 46,
     "metadata": {},
     "output_type": "execute_result"
    },
    {
     "data": {
      "application/javascript": "\n            setTimeout(function() {\n                var nbb_cell_id = 46;\n                var nbb_unformatted_code = \"balanso_ataskaita['inf_type'].value_counts()\";\n                var nbb_formatted_code = \"balanso_ataskaita[\\\"inf_type\\\"].value_counts()\";\n                var nbb_cells = Jupyter.notebook.get_cells();\n                for (var i = 0; i < nbb_cells.length; ++i) {\n                    if (nbb_cells[i].input_prompt_number == nbb_cell_id) {\n                        if (nbb_cells[i].get_text() == nbb_unformatted_code) {\n                             nbb_cells[i].set_text(nbb_formatted_code);\n                        }\n                        break;\n                    }\n                }\n            }, 500);\n            ",
      "text/plain": [
       "<IPython.core.display.Javascript object>"
      ]
     },
     "metadata": {},
     "output_type": "display_data"
    }
   ],
   "source": [
    "balanso_ataskaita['inf_type'].value_counts()"
   ]
  },
  {
   "cell_type": "code",
   "execution_count": 47,
   "id": "7cfbf9d5-83b4-49e1-8274-406e719ffcdb",
   "metadata": {},
   "outputs": [
    {
     "name": "stdout",
     "output_type": "stream",
     "text": [
      " Pavyko atkurti 101.55% Mažoji bendrija verčių\n"
     ]
    },
    {
     "data": {
      "application/javascript": "\n            setTimeout(function() {\n                var nbb_cell_id = 47;\n                var nbb_unformatted_code = \"result = len(balanso_ataskaita[balanso_ataskaita['inf_type'] == 'Ma\\u017eoji bendrija']) / \\\\\\n    len(balanso_ataskaita[balanso_ataskaita['form_pav'] == 'Ma\\u017eoji bendrija']) * 100\\n\\nprint(f\\\" Pavyko atkurti {round(result,2)}% Ma\\u017eoji bendrija ver\\u010di\\u0173\\\")\";\n                var nbb_formatted_code = \"result = (\\n    len(balanso_ataskaita[balanso_ataskaita[\\\"inf_type\\\"] == \\\"Ma\\u017eoji bendrija\\\"])\\n    / len(balanso_ataskaita[balanso_ataskaita[\\\"form_pav\\\"] == \\\"Ma\\u017eoji bendrija\\\"])\\n    * 100\\n)\\n\\nprint(f\\\" Pavyko atkurti {round(result,2)}% Ma\\u017eoji bendrija ver\\u010di\\u0173\\\")\";\n                var nbb_cells = Jupyter.notebook.get_cells();\n                for (var i = 0; i < nbb_cells.length; ++i) {\n                    if (nbb_cells[i].input_prompt_number == nbb_cell_id) {\n                        if (nbb_cells[i].get_text() == nbb_unformatted_code) {\n                             nbb_cells[i].set_text(nbb_formatted_code);\n                        }\n                        break;\n                    }\n                }\n            }, 500);\n            ",
      "text/plain": [
       "<IPython.core.display.Javascript object>"
      ]
     },
     "metadata": {},
     "output_type": "display_data"
    }
   ],
   "source": [
    "result = len(balanso_ataskaita[balanso_ataskaita['inf_type'] == 'Mažoji bendrija']) / \\\n",
    "    len(balanso_ataskaita[balanso_ataskaita['form_pav'] == 'Mažoji bendrija']) * 100\n",
    "\n",
    "print(f\" Pavyko atkurti {round(result,2)}% Mažoji bendrija verčių\")"
   ]
  },
  {
   "attachments": {},
   "cell_type": "markdown",
   "id": "65fa80ce",
   "metadata": {},
   "source": [
    "<font color=\"red\"> Erikas Švažas:\n",
    "Puikiai, kad pastebėjote jog gali būti tiek UAB, tiek ilgasis pavadinimas (Uždaroji akcinė bendrovė). Pravartu būtų naudoti str.contains() logiką vietoje str.split().\n",
    "\n",
    "</font>"
   ]
  },
  {
   "cell_type": "code",
   "execution_count": 48,
   "id": "b46a8d9c-419a-4c5f-8386-3503a204b5de",
   "metadata": {},
   "outputs": [
    {
     "name": "stdout",
     "output_type": "stream",
     "text": [
      " Pavyko atkurti 99.9% Uždaroji akcinė bendrovė verčių\n"
     ]
    },
    {
     "data": {
      "application/javascript": "\n            setTimeout(function() {\n                var nbb_cell_id = 48;\n                var nbb_unformatted_code = \"result = len(balanso_ataskaita[balanso_ataskaita['inf_type'] == 'U\\u017edaroji akcin\\u0117 bendrov\\u0117']) / \\\\\\n    len(balanso_ataskaita[balanso_ataskaita['form_pav'] == 'U\\u017edaroji akcin\\u0117 bendrov\\u0117']) * 100\\n\\nprint(f\\\" Pavyko atkurti {round(result,2)}% U\\u017edaroji akcin\\u0117 bendrov\\u0117 ver\\u010di\\u0173\\\")\";\n                var nbb_formatted_code = \"result = (\\n    len(balanso_ataskaita[balanso_ataskaita[\\\"inf_type\\\"] == \\\"U\\u017edaroji akcin\\u0117 bendrov\\u0117\\\"])\\n    / len(\\n        balanso_ataskaita[balanso_ataskaita[\\\"form_pav\\\"] == \\\"U\\u017edaroji akcin\\u0117 bendrov\\u0117\\\"]\\n    )\\n    * 100\\n)\\n\\nprint(f\\\" Pavyko atkurti {round(result,2)}% U\\u017edaroji akcin\\u0117 bendrov\\u0117 ver\\u010di\\u0173\\\")\";\n                var nbb_cells = Jupyter.notebook.get_cells();\n                for (var i = 0; i < nbb_cells.length; ++i) {\n                    if (nbb_cells[i].input_prompt_number == nbb_cell_id) {\n                        if (nbb_cells[i].get_text() == nbb_unformatted_code) {\n                             nbb_cells[i].set_text(nbb_formatted_code);\n                        }\n                        break;\n                    }\n                }\n            }, 500);\n            ",
      "text/plain": [
       "<IPython.core.display.Javascript object>"
      ]
     },
     "metadata": {},
     "output_type": "display_data"
    }
   ],
   "source": [
    "result = len(balanso_ataskaita[balanso_ataskaita['inf_type'] == 'Uždaroji akcinė bendrovė']) / \\\n",
    "    len(balanso_ataskaita[balanso_ataskaita['form_pav'] == 'Uždaroji akcinė bendrovė']) * 100\n",
    "\n",
    "print(f\" Pavyko atkurti {round(result,2)}% Uždaroji akcinė bendrovė verčių\")"
   ]
  },
  {
   "cell_type": "markdown",
   "id": "44a0b0bd-3717-4d15-b853-253709a3b84a",
   "metadata": {},
   "source": [
    "Nepavyko gauti 100 procentų dėl pritaikytos logikos, ieškant 'mb' reikšmes, gaunamas skaičius yra didesnis, todėl, kad įtraukiami list'o elementai turintys 'mb' viduje, kaip pavyzdys galėtų būti žodis staMBbus.\n",
    "\n",
    "tačiau kadangi paklaida yra maža, pasilieku galimybę pataisyti šį sprendimą, jei liks laiko ateityje"
   ]
  },
  {
   "cell_type": "markdown",
   "id": "33325d7a-737e-45a7-88af-d1530ee616ce",
   "metadata": {},
   "source": [
    "## 6. Apskaičiuoti vidutines reikšmes “pelnas_pries_apmokestinima” ir “nuosavas_kapitalas” laukų kiekvienai juridinio asmens formai (Uždaroji akcinė bendrovė, Mažoji bendrija, etc.) už visą laikotarpį (2020 ir 2021 metai kartu)."
   ]
  },
  {
   "cell_type": "code",
   "execution_count": 49,
   "id": "ba48a25f-5a43-468d-9a61-e487f8977ed3",
   "metadata": {},
   "outputs": [
    {
     "data": {
      "text/plain": [
       "form_pav\n",
       "Valstybės įmonė                             4190053.8148\n",
       "Akcinė bendrovė                             2894379.1167\n",
       "Komanditinė ūkinė bendrija                   329297.8571\n",
       "Uždaroji akcinė bendrovė                     108121.5597\n",
       "Žemės ūkio bendrovė                          106521.8961\n",
       "Kooperatinė bendrovė                          46928.7250\n",
       "Savivaldybės įmonė                            39780.8444\n",
       "Biudžetinė įstaiga                            16242.0000\n",
       "Individuali įmonė                             15008.3170\n",
       "Mažoji bendrija                                7051.3261\n",
       "Viešoji įstaiga                                5904.1304\n",
       "Labdaros ir paramos fondas                      544.5789\n",
       "Asociacija                                     -297.5732\n",
       "Tikroji ūkinė bendrija                        -9874.1905\n",
       "Užsienio juridinio asmens filialas         -4722950.8846\n",
       "Lietuvos prekyb.,pramon. rūmų asociacija             NaN\n",
       "Name: pelnas_pries_apmokestinima, dtype: float64"
      ]
     },
     "execution_count": 49,
     "metadata": {},
     "output_type": "execute_result"
    },
    {
     "data": {
      "application/javascript": "\n            setTimeout(function() {\n                var nbb_cell_id = 49;\n                var nbb_unformatted_code = \"pelno_ataskaita.groupby('form_pav').mean()['pelnas_pries_apmokestinima'].sort_values(ascending=False)\";\n                var nbb_formatted_code = \"pelno_ataskaita.groupby(\\\"form_pav\\\").mean()[\\\"pelnas_pries_apmokestinima\\\"].sort_values(\\n    ascending=False\\n)\";\n                var nbb_cells = Jupyter.notebook.get_cells();\n                for (var i = 0; i < nbb_cells.length; ++i) {\n                    if (nbb_cells[i].input_prompt_number == nbb_cell_id) {\n                        if (nbb_cells[i].get_text() == nbb_unformatted_code) {\n                             nbb_cells[i].set_text(nbb_formatted_code);\n                        }\n                        break;\n                    }\n                }\n            }, 500);\n            ",
      "text/plain": [
       "<IPython.core.display.Javascript object>"
      ]
     },
     "metadata": {},
     "output_type": "display_data"
    }
   ],
   "source": [
    "pelno_ataskaita.groupby('form_pav').mean()['pelnas_pries_apmokestinima'].sort_values(ascending=False)"
   ]
  },
  {
   "cell_type": "code",
   "execution_count": 50,
   "id": "87d1b542-0ec1-4b0b-9572-1fa425f52678",
   "metadata": {},
   "outputs": [
    {
     "data": {
      "text/plain": [
       "form_pav\n",
       "Valstybės įmonė                            174869502.2414\n",
       "Akcinė bendrovė                             41397551.5726\n",
       "Savivaldybės įmonė                           3431537.4000\n",
       "Užsienio juridinio asmens filialas           3368923.1875\n",
       "Komanditinė ūkinė bendrija                   3251404.1649\n",
       "Žemės ūkio bendrovė                          1607303.1634\n",
       "Kooperatinė bendrovė                          677360.9075\n",
       "Uždaroji akcinė bendrovė                      628816.0176\n",
       "Tikroji ūkinė bendrija                        252825.9545\n",
       "Biudžetinė įstaiga                            141074.0000\n",
       "Individuali įmonė                             124624.5053\n",
       "Lietuvos prekyb.,pramon. rūmų asociacija       64491.0000\n",
       "Asociacija                                     36293.0271\n",
       "Labdaros ir paramos fondas                     31248.6528\n",
       "Viešoji įstaiga                                26212.8970\n",
       "Mažoji bendrija                                15371.6683\n",
       "Bendrija                                        4739.0000\n",
       "Name: nuosavas_kapitalas, dtype: float64"
      ]
     },
     "execution_count": 50,
     "metadata": {},
     "output_type": "execute_result"
    },
    {
     "data": {
      "application/javascript": "\n            setTimeout(function() {\n                var nbb_cell_id = 50;\n                var nbb_unformatted_code = \"balanso_ataskaita.groupby('form_pav').mean()['nuosavas_kapitalas'].sort_values(ascending=False)\";\n                var nbb_formatted_code = \"balanso_ataskaita.groupby(\\\"form_pav\\\").mean()[\\\"nuosavas_kapitalas\\\"].sort_values(\\n    ascending=False\\n)\";\n                var nbb_cells = Jupyter.notebook.get_cells();\n                for (var i = 0; i < nbb_cells.length; ++i) {\n                    if (nbb_cells[i].input_prompt_number == nbb_cell_id) {\n                        if (nbb_cells[i].get_text() == nbb_unformatted_code) {\n                             nbb_cells[i].set_text(nbb_formatted_code);\n                        }\n                        break;\n                    }\n                }\n            }, 500);\n            ",
      "text/plain": [
       "<IPython.core.display.Javascript object>"
      ]
     },
     "metadata": {},
     "output_type": "display_data"
    }
   ],
   "source": [
    "balanso_ataskaita.groupby('form_pav').mean()['nuosavas_kapitalas'].sort_values(ascending=False)"
   ]
  },
  {
   "cell_type": "markdown",
   "id": "9fe510db-4511-4424-973c-821511fa6788",
   "metadata": {},
   "source": [
    "## 7. Atrinkti unikalias UAB ir MB įmones, kurių “nuosavas_kapitalas” buvo didesnis negu visų UAB ir MB įmonių nuosavo kapitalo mediana už visą laitotarpį (2020 ir 2021 metai kartu)"
   ]
  },
  {
   "cell_type": "code",
   "execution_count": 51,
   "id": "de3fe181-b8c0-4862-b747-932384a25811",
   "metadata": {},
   "outputs": [
    {
     "data": {
      "application/javascript": "\n            setTimeout(function() {\n                var nbb_cell_id = 51;\n                var nbb_unformatted_code = \"# susikuriamas naujas dataset'as su subset'u, kuri sudaro tik UAB IR MB\\nsample_df = balanso_ataskaita[(balanso_ataskaita['form_pav'] == 'U\\u017edaroji akcin\\u0117 bendrov\\u0117') | (balanso_ataskaita['form_pav'] == 'Ma\\u017eoji bendrija') ]\\n# surandama UAB ir MB mediana\\nnuosavo_kapitalo_mediana = sample_df['nuosavas_kapitalas'].median()\";\n                var nbb_formatted_code = \"# susikuriamas naujas dataset'as su subset'u, kuri sudaro tik UAB IR MB\\nsample_df = balanso_ataskaita[\\n    (balanso_ataskaita[\\\"form_pav\\\"] == \\\"U\\u017edaroji akcin\\u0117 bendrov\\u0117\\\")\\n    | (balanso_ataskaita[\\\"form_pav\\\"] == \\\"Ma\\u017eoji bendrija\\\")\\n]\\n# surandama UAB ir MB mediana\\nnuosavo_kapitalo_mediana = sample_df[\\\"nuosavas_kapitalas\\\"].median()\";\n                var nbb_cells = Jupyter.notebook.get_cells();\n                for (var i = 0; i < nbb_cells.length; ++i) {\n                    if (nbb_cells[i].input_prompt_number == nbb_cell_id) {\n                        if (nbb_cells[i].get_text() == nbb_unformatted_code) {\n                             nbb_cells[i].set_text(nbb_formatted_code);\n                        }\n                        break;\n                    }\n                }\n            }, 500);\n            ",
      "text/plain": [
       "<IPython.core.display.Javascript object>"
      ]
     },
     "metadata": {},
     "output_type": "display_data"
    }
   ],
   "source": [
    "# susikuriamas naujas dataset'as su subset'u, kuri sudaro tik UAB IR MB\n",
    "sample_df = balanso_ataskaita[(balanso_ataskaita['form_pav'] == 'Uždaroji akcinė bendrovė') | (balanso_ataskaita['form_pav'] == 'Mažoji bendrija') ]\n",
    "# surandama UAB ir MB mediana\n",
    "nuosavo_kapitalo_mediana = sample_df['nuosavas_kapitalas'].median()"
   ]
  },
  {
   "attachments": {},
   "cell_type": "markdown",
   "id": "3d5755c0",
   "metadata": {},
   "source": [
    "<font color=\"red\"> Erikas Švažas:\n",
    "str.contains() būtų alternatyva ir šiam kartui: \n",
    "```\n",
    ".str.contains('Uždaroji akcinė bendrovė|Mažoji bendrija', regex=True )\n",
    "````\n",
    "Prieš skaičiuojant descriptive stats būtų naudinga patikrinti ar nėra duplicates.\n",
    "</font>"
   ]
  },
  {
   "cell_type": "code",
   "execution_count": 52,
   "id": "c9cf220a-4624-41d9-a7f9-75c05fb96b0d",
   "metadata": {},
   "outputs": [
    {
     "data": {
      "text/plain": [
       "13788.0"
      ]
     },
     "execution_count": 52,
     "metadata": {},
     "output_type": "execute_result"
    },
    {
     "data": {
      "application/javascript": "\n            setTimeout(function() {\n                var nbb_cell_id = 52;\n                var nbb_unformatted_code = \"nuosavo_kapitalo_mediana\";\n                var nbb_formatted_code = \"nuosavo_kapitalo_mediana\";\n                var nbb_cells = Jupyter.notebook.get_cells();\n                for (var i = 0; i < nbb_cells.length; ++i) {\n                    if (nbb_cells[i].input_prompt_number == nbb_cell_id) {\n                        if (nbb_cells[i].get_text() == nbb_unformatted_code) {\n                             nbb_cells[i].set_text(nbb_formatted_code);\n                        }\n                        break;\n                    }\n                }\n            }, 500);\n            ",
      "text/plain": [
       "<IPython.core.display.Javascript object>"
      ]
     },
     "metadata": {},
     "output_type": "display_data"
    }
   ],
   "source": [
    "nuosavo_kapitalo_mediana"
   ]
  },
  {
   "cell_type": "code",
   "execution_count": 53,
   "id": "87ac1036-73c8-4687-8e61-29d9bed17b55",
   "metadata": {},
   "outputs": [
    {
     "data": {
      "text/plain": [
       "52285"
      ]
     },
     "execution_count": 53,
     "metadata": {},
     "output_type": "execute_result"
    },
    {
     "data": {
      "application/javascript": "\n            setTimeout(function() {\n                var nbb_cell_id = 53;\n                var nbb_unformatted_code = \"mask = sample_df['nuosavas_kapitalas'] > nuosavo_kapitalo_mediana\\n\\nunique_company_list = sample_df[mask]['obj_pav'].unique().tolist()\\n\\nlen(unique_company_list)\";\n                var nbb_formatted_code = \"mask = sample_df[\\\"nuosavas_kapitalas\\\"] > nuosavo_kapitalo_mediana\\n\\nunique_company_list = sample_df[mask][\\\"obj_pav\\\"].unique().tolist()\\n\\nlen(unique_company_list)\";\n                var nbb_cells = Jupyter.notebook.get_cells();\n                for (var i = 0; i < nbb_cells.length; ++i) {\n                    if (nbb_cells[i].input_prompt_number == nbb_cell_id) {\n                        if (nbb_cells[i].get_text() == nbb_unformatted_code) {\n                             nbb_cells[i].set_text(nbb_formatted_code);\n                        }\n                        break;\n                    }\n                }\n            }, 500);\n            ",
      "text/plain": [
       "<IPython.core.display.Javascript object>"
      ]
     },
     "metadata": {},
     "output_type": "display_data"
    }
   ],
   "source": [
    "mask = sample_df['nuosavas_kapitalas'] > nuosavo_kapitalo_mediana\n",
    "\n",
    "unique_company_list = sample_df[mask]['obj_pav'].unique().tolist()\n",
    "\n",
    "len(unique_company_list)"
   ]
  },
  {
   "cell_type": "code",
   "execution_count": 54,
   "id": "01271afc-8531-42a6-b1d1-9f3170030817",
   "metadata": {},
   "outputs": [
    {
     "data": {
      "application/javascript": "\n            setTimeout(function() {\n                var nbb_cell_id = 54;\n                var nbb_unformatted_code = \"# atkomentav\\u0119 ir paleid\\u0119 \\u017eemiau esan\\u010di\\u0105 kodo eilut\\u0119, gausite s\\u0105ra\\u0161\\u0105 vis\\u0173 \\u012fmoni\\u0173\\n\\n# unique_company_list\";\n                var nbb_formatted_code = \"# atkomentav\\u0119 ir paleid\\u0119 \\u017eemiau esan\\u010di\\u0105 kodo eilut\\u0119, gausite s\\u0105ra\\u0161\\u0105 vis\\u0173 \\u012fmoni\\u0173\\n\\n# unique_company_list\";\n                var nbb_cells = Jupyter.notebook.get_cells();\n                for (var i = 0; i < nbb_cells.length; ++i) {\n                    if (nbb_cells[i].input_prompt_number == nbb_cell_id) {\n                        if (nbb_cells[i].get_text() == nbb_unformatted_code) {\n                             nbb_cells[i].set_text(nbb_formatted_code);\n                        }\n                        break;\n                    }\n                }\n            }, 500);\n            ",
      "text/plain": [
       "<IPython.core.display.Javascript object>"
      ]
     },
     "metadata": {},
     "output_type": "display_data"
    }
   ],
   "source": [
    "# atkomentavę ir paleidę žemiau esančią kodo eilutę, gausite sąrašą visų įmonių\n",
    "\n",
    "# unique_company_list"
   ]
  },
  {
   "cell_type": "markdown",
   "id": "1e61fc53-1315-48fb-ae3c-189f632f6edd",
   "metadata": {},
   "source": [
    "## 8. Įvertinkite kurios įmonės išsiskiria ypač didele “nuosavas_kapitalas” verte (patenka į 99th percentilę). Patikrinkite įmonių patenkančių į TOP-10 vertes rekvizitai.vz.lt svetainėje. Ranka įrašomi duomenys sukuria klaidos galimybę. Ar yra bendrovė, kurios “nuosavas_kapitalas” jums kelia įtarimų?"
   ]
  },
  {
   "cell_type": "code",
   "execution_count": 55,
   "id": "c13656ef-1fbf-4c1f-8a39-e310ebb075bc",
   "metadata": {},
   "outputs": [
    {
     "data": {
      "application/javascript": "\n            setTimeout(function() {\n                var nbb_cell_id = 55;\n                var nbb_unformatted_code = \"# skai\\u010diuojant percentil\\u0119, panaikinsiu ne\\u017einomas reik\\u0161mes.\\n\\ntemp_arr = balanso_ataskaita['nuosavas_kapitalas'].dropna()\";\n                var nbb_formatted_code = \"# skai\\u010diuojant percentil\\u0119, panaikinsiu ne\\u017einomas reik\\u0161mes.\\n\\ntemp_arr = balanso_ataskaita[\\\"nuosavas_kapitalas\\\"].dropna()\";\n                var nbb_cells = Jupyter.notebook.get_cells();\n                for (var i = 0; i < nbb_cells.length; ++i) {\n                    if (nbb_cells[i].input_prompt_number == nbb_cell_id) {\n                        if (nbb_cells[i].get_text() == nbb_unformatted_code) {\n                             nbb_cells[i].set_text(nbb_formatted_code);\n                        }\n                        break;\n                    }\n                }\n            }, 500);\n            ",
      "text/plain": [
       "<IPython.core.display.Javascript object>"
      ]
     },
     "metadata": {},
     "output_type": "display_data"
    }
   ],
   "source": [
    "# skaičiuojant percentilę, panaikinsiu nežinomas reikšmes.\n",
    "\n",
    "temp_arr = balanso_ataskaita['nuosavas_kapitalas'].dropna()"
   ]
  },
  {
   "attachments": {},
   "cell_type": "markdown",
   "id": "9888239a",
   "metadata": {},
   "source": [
    "<font color='red'> Erikas Švažas:\n",
    "\n",
    "Patarimas ateityje panaikinti (peržiūrėti) ir dublikatus.\n",
    "Smagiai ir efektyviai panaudotas filtravimas maskais!\n",
    "\n",
    "Dėl galutinių išvadų -> yes, sutampa. Tačiau įdomu, kad skalė yra ypač didelė ir net galima palyginti su visu LT biudžetu.\n",
    "\n",
    "</font>\n"
   ]
  },
  {
   "cell_type": "code",
   "execution_count": 56,
   "id": "95f05036-5800-40eb-a487-bb1cf516f9b6",
   "metadata": {},
   "outputs": [
    {
     "data": {
      "text/plain": [
       "6360620.000000028"
      ]
     },
     "execution_count": 56,
     "metadata": {},
     "output_type": "execute_result"
    },
    {
     "data": {
      "application/javascript": "\n            setTimeout(function() {\n                var nbb_cell_id = 56;\n                var nbb_unformatted_code = \"perc_99 = np.percentile(temp_arr, 99)\\nperc_99\";\n                var nbb_formatted_code = \"perc_99 = np.percentile(temp_arr, 99)\\nperc_99\";\n                var nbb_cells = Jupyter.notebook.get_cells();\n                for (var i = 0; i < nbb_cells.length; ++i) {\n                    if (nbb_cells[i].input_prompt_number == nbb_cell_id) {\n                        if (nbb_cells[i].get_text() == nbb_unformatted_code) {\n                             nbb_cells[i].set_text(nbb_formatted_code);\n                        }\n                        break;\n                    }\n                }\n            }, 500);\n            ",
      "text/plain": [
       "<IPython.core.display.Javascript object>"
      ]
     },
     "metadata": {},
     "output_type": "display_data"
    }
   ],
   "source": [
    "perc_99 = np.percentile(temp_arr, 99)\n",
    "perc_99"
   ]
  },
  {
   "cell_type": "code",
   "execution_count": 57,
   "id": "40441c37-213a-4885-b354-f5a9572307e8",
   "metadata": {},
   "outputs": [
    {
     "data": {
      "text/plain": [
       "obj_pav                                                   df_year\n",
       "UAB \"Thermo Fisher Scientific Vector Holdings\"            2021      3898038496.0000\n",
       "UAB \"Thermo Fisher Scientific Vector Senior Holdings I\"   2021      3898038337.0000\n",
       "UAB \"Thermo Fisher Scientific Vector Senior Holdings II\"  2021      2950792636.0000\n",
       "Valstybės įmonė Lietuvos automobilių kelių direkcija      2021      2693140000.0000\n",
       "Uždaroji akcinė bendrovė \"Vilniaus prekyba\"               2021      1950511000.0000\n",
       "AB \"Ignitis grupė\"                                        2021      1812955000.0000\n",
       "Uždaroji akcinė bendrovė \"Vilniaus prekyba\"               2020      1658114000.0000\n",
       "MAXIMA GRUPĖ UAB                                          2021      1564631000.0000\n",
       "                                                          2020      1459354000.0000\n",
       "UAB \"Thermo Fisher Scientific Vector Senior Holdings I\"   2020      1340595977.0000\n",
       "Name: nuosavas_kapitalas, dtype: float64"
      ]
     },
     "execution_count": 57,
     "metadata": {},
     "output_type": "execute_result"
    },
    {
     "data": {
      "application/javascript": "\n            setTimeout(function() {\n                var nbb_cell_id = 57;\n                var nbb_unformatted_code = \"mask = balanso_ataskaita.groupby(['obj_pav','df_year']).mean()['nuosavas_kapitalas'] > perc_99\\n\\nbalanso_ataskaita.groupby(['obj_pav','df_year']).mean()['nuosavas_kapitalas'][mask].sort_values(ascending=False).head(10)\";\n                var nbb_formatted_code = \"mask = (\\n    balanso_ataskaita.groupby([\\\"obj_pav\\\", \\\"df_year\\\"]).mean()[\\\"nuosavas_kapitalas\\\"]\\n    > perc_99\\n)\\n\\nbalanso_ataskaita.groupby([\\\"obj_pav\\\", \\\"df_year\\\"]).mean()[\\\"nuosavas_kapitalas\\\"][\\n    mask\\n].sort_values(ascending=False).head(10)\";\n                var nbb_cells = Jupyter.notebook.get_cells();\n                for (var i = 0; i < nbb_cells.length; ++i) {\n                    if (nbb_cells[i].input_prompt_number == nbb_cell_id) {\n                        if (nbb_cells[i].get_text() == nbb_unformatted_code) {\n                             nbb_cells[i].set_text(nbb_formatted_code);\n                        }\n                        break;\n                    }\n                }\n            }, 500);\n            ",
      "text/plain": [
       "<IPython.core.display.Javascript object>"
      ]
     },
     "metadata": {},
     "output_type": "display_data"
    }
   ],
   "source": [
    "mask = balanso_ataskaita.groupby(['obj_pav','df_year']).mean()['nuosavas_kapitalas'] > perc_99\n",
    "\n",
    "balanso_ataskaita.groupby(['obj_pav','df_year']).mean()['nuosavas_kapitalas'][mask].sort_values(ascending=False).head(10)"
   ]
  },
  {
   "cell_type": "markdown",
   "id": "4cb32715-7daa-4ad3-99a4-730b5789a333",
   "metadata": {},
   "source": [
    "1. Thermo Fisher Scientific Vector Holdings 2020 metais -> sutampa\n",
    "2. UAB \"Thermo Fisher Scientific Vector Senior Holdings I\" 2020 metais -> sutampa\n",
    "3. UAB \"Thermo Fisher Scientific Vector Senior Holdings II\"  2020 metais -> sutampa\n",
    "4. Valstybės įmonė Lietuvos automobilių kelių direkcija 2020 metais -> sutampa\n",
    "5. Uždaroji akcinė bendrovė \"Vilniaus prekyba\" 2020 metai -> sutampa\n",
    "6. AB \"Ignitis grupė\" 2020 metai -> sutampa\n",
    "7. Uždaroji akcinė bendrovė \"Vilniaus prekyba\" 2019 metai -> sutampa\n",
    "8. MAXIMA GRUPĖ UAB 2020 metai -> sutampa\n",
    "9. MAXIMA GRUPĖ UAB 2019 metai -> sutampa\n",
    "10. UAB \"Thermo Fisher Scientific Vector Senior Holdings I\" 2019 metai -> sutampa  \n",
    "  \n",
    "Visos top 10 įmonių nuosavas kapitalas sutampa su nuosavu kapitalu, nurodytu rekvizitai.lt. būtų itin keista, jei būtų kitaip. :)\n"
   ]
  },
  {
   "cell_type": "markdown",
   "id": "f87d2c43-0339-4e1e-8b72-731bea158406",
   "metadata": {},
   "source": [
    "## 9. Vizualiai atvaizduoti juridinių asmenų formos pasiskirstymą per visą laikotarpį (2020 ir 2021 metais kartu). Vizualizacijos turi sutapti su pavaizduota dešinėje"
   ]
  },
  {
   "cell_type": "code",
   "execution_count": 58,
   "id": "cff12d94-4960-4309-95dc-2a66beeae3ed",
   "metadata": {},
   "outputs": [
    {
     "data": {
      "text/html": [
       "<div>\n",
       "<style scoped>\n",
       "    .dataframe tbody tr th:only-of-type {\n",
       "        vertical-align: middle;\n",
       "    }\n",
       "\n",
       "    .dataframe tbody tr th {\n",
       "        vertical-align: top;\n",
       "    }\n",
       "\n",
       "    .dataframe thead th {\n",
       "        text-align: right;\n",
       "    }\n",
       "</style>\n",
       "<table border=\"1\" class=\"dataframe\">\n",
       "  <thead>\n",
       "    <tr style=\"text-align: right;\">\n",
       "      <th></th>\n",
       "      <th>form_pav</th>\n",
       "      <th>df_year</th>\n",
       "      <th>obj_kodas</th>\n",
       "    </tr>\n",
       "  </thead>\n",
       "  <tbody>\n",
       "    <tr>\n",
       "      <th>0</th>\n",
       "      <td>Akcinė bendrovė</td>\n",
       "      <td>2020</td>\n",
       "      <td>245</td>\n",
       "    </tr>\n",
       "    <tr>\n",
       "      <th>1</th>\n",
       "      <td>Akcinė bendrovė</td>\n",
       "      <td>2021</td>\n",
       "      <td>238</td>\n",
       "    </tr>\n",
       "    <tr>\n",
       "      <th>2</th>\n",
       "      <td>Asociacija</td>\n",
       "      <td>2020</td>\n",
       "      <td>9073</td>\n",
       "    </tr>\n",
       "    <tr>\n",
       "      <th>3</th>\n",
       "      <td>Asociacija</td>\n",
       "      <td>2021</td>\n",
       "      <td>9841</td>\n",
       "    </tr>\n",
       "    <tr>\n",
       "      <th>4</th>\n",
       "      <td>Bendrija</td>\n",
       "      <td>2020</td>\n",
       "      <td>1</td>\n",
       "    </tr>\n",
       "    <tr>\n",
       "      <th>5</th>\n",
       "      <td>Biudžetinė įstaiga</td>\n",
       "      <td>2020</td>\n",
       "      <td>2</td>\n",
       "    </tr>\n",
       "    <tr>\n",
       "      <th>6</th>\n",
       "      <td>Individuali įmonė</td>\n",
       "      <td>2020</td>\n",
       "      <td>677</td>\n",
       "    </tr>\n",
       "    <tr>\n",
       "      <th>7</th>\n",
       "      <td>Individuali įmonė</td>\n",
       "      <td>2021</td>\n",
       "      <td>1372</td>\n",
       "    </tr>\n",
       "    <tr>\n",
       "      <th>8</th>\n",
       "      <td>Komanditinė ūkinė bendrija</td>\n",
       "      <td>2020</td>\n",
       "      <td>39</td>\n",
       "    </tr>\n",
       "    <tr>\n",
       "      <th>9</th>\n",
       "      <td>Komanditinė ūkinė bendrija</td>\n",
       "      <td>2021</td>\n",
       "      <td>60</td>\n",
       "    </tr>\n",
       "    <tr>\n",
       "      <th>10</th>\n",
       "      <td>Kooperatinė bendrovė</td>\n",
       "      <td>2020</td>\n",
       "      <td>334</td>\n",
       "    </tr>\n",
       "    <tr>\n",
       "      <th>11</th>\n",
       "      <td>Kooperatinė bendrovė</td>\n",
       "      <td>2021</td>\n",
       "      <td>348</td>\n",
       "    </tr>\n",
       "    <tr>\n",
       "      <th>12</th>\n",
       "      <td>Labdaros ir paramos fondas</td>\n",
       "      <td>2020</td>\n",
       "      <td>598</td>\n",
       "    </tr>\n",
       "    <tr>\n",
       "      <th>13</th>\n",
       "      <td>Labdaros ir paramos fondas</td>\n",
       "      <td>2021</td>\n",
       "      <td>730</td>\n",
       "    </tr>\n",
       "    <tr>\n",
       "      <th>14</th>\n",
       "      <td>Lietuvos prekyb.,pramon. rūmų asociacija</td>\n",
       "      <td>2020</td>\n",
       "      <td>1</td>\n",
       "    </tr>\n",
       "    <tr>\n",
       "      <th>15</th>\n",
       "      <td>Mažoji bendrija</td>\n",
       "      <td>2020</td>\n",
       "      <td>13196</td>\n",
       "    </tr>\n",
       "    <tr>\n",
       "      <th>16</th>\n",
       "      <td>Mažoji bendrija</td>\n",
       "      <td>2021</td>\n",
       "      <td>19185</td>\n",
       "    </tr>\n",
       "    <tr>\n",
       "      <th>17</th>\n",
       "      <td>Savivaldybės įmonė</td>\n",
       "      <td>2020</td>\n",
       "      <td>24</td>\n",
       "    </tr>\n",
       "    <tr>\n",
       "      <th>18</th>\n",
       "      <td>Savivaldybės įmonė</td>\n",
       "      <td>2021</td>\n",
       "      <td>21</td>\n",
       "    </tr>\n",
       "    <tr>\n",
       "      <th>19</th>\n",
       "      <td>Tikroji ūkinė bendrija</td>\n",
       "      <td>2020</td>\n",
       "      <td>4</td>\n",
       "    </tr>\n",
       "    <tr>\n",
       "      <th>20</th>\n",
       "      <td>Tikroji ūkinė bendrija</td>\n",
       "      <td>2021</td>\n",
       "      <td>18</td>\n",
       "    </tr>\n",
       "    <tr>\n",
       "      <th>21</th>\n",
       "      <td>Uždaroji akcinė bendrovė</td>\n",
       "      <td>2020</td>\n",
       "      <td>76370</td>\n",
       "    </tr>\n",
       "    <tr>\n",
       "      <th>22</th>\n",
       "      <td>Uždaroji akcinė bendrovė</td>\n",
       "      <td>2021</td>\n",
       "      <td>82228</td>\n",
       "    </tr>\n",
       "    <tr>\n",
       "      <th>23</th>\n",
       "      <td>Užsienio juridinio asmens filialas</td>\n",
       "      <td>2020</td>\n",
       "      <td>16</td>\n",
       "    </tr>\n",
       "    <tr>\n",
       "      <th>24</th>\n",
       "      <td>Užsienio juridinio asmens filialas</td>\n",
       "      <td>2021</td>\n",
       "      <td>20</td>\n",
       "    </tr>\n",
       "    <tr>\n",
       "      <th>25</th>\n",
       "      <td>Valstybės įmonė</td>\n",
       "      <td>2020</td>\n",
       "      <td>13</td>\n",
       "    </tr>\n",
       "    <tr>\n",
       "      <th>26</th>\n",
       "      <td>Valstybės įmonė</td>\n",
       "      <td>2021</td>\n",
       "      <td>16</td>\n",
       "    </tr>\n",
       "    <tr>\n",
       "      <th>27</th>\n",
       "      <td>Viešoji įstaiga</td>\n",
       "      <td>2020</td>\n",
       "      <td>5324</td>\n",
       "    </tr>\n",
       "    <tr>\n",
       "      <th>28</th>\n",
       "      <td>Viešoji įstaiga</td>\n",
       "      <td>2021</td>\n",
       "      <td>6360</td>\n",
       "    </tr>\n",
       "    <tr>\n",
       "      <th>29</th>\n",
       "      <td>Žemės ūkio bendrovė</td>\n",
       "      <td>2020</td>\n",
       "      <td>401</td>\n",
       "    </tr>\n",
       "    <tr>\n",
       "      <th>30</th>\n",
       "      <td>Žemės ūkio bendrovė</td>\n",
       "      <td>2021</td>\n",
       "      <td>413</td>\n",
       "    </tr>\n",
       "  </tbody>\n",
       "</table>\n",
       "</div>"
      ],
      "text/plain": [
       "                                    form_pav  df_year  obj_kodas\n",
       "0                            Akcinė bendrovė     2020        245\n",
       "1                            Akcinė bendrovė     2021        238\n",
       "2                                 Asociacija     2020       9073\n",
       "3                                 Asociacija     2021       9841\n",
       "4                                   Bendrija     2020          1\n",
       "5                         Biudžetinė įstaiga     2020          2\n",
       "6                          Individuali įmonė     2020        677\n",
       "7                          Individuali įmonė     2021       1372\n",
       "8                 Komanditinė ūkinė bendrija     2020         39\n",
       "9                 Komanditinė ūkinė bendrija     2021         60\n",
       "10                      Kooperatinė bendrovė     2020        334\n",
       "11                      Kooperatinė bendrovė     2021        348\n",
       "12                Labdaros ir paramos fondas     2020        598\n",
       "13                Labdaros ir paramos fondas     2021        730\n",
       "14  Lietuvos prekyb.,pramon. rūmų asociacija     2020          1\n",
       "15                           Mažoji bendrija     2020      13196\n",
       "16                           Mažoji bendrija     2021      19185\n",
       "17                        Savivaldybės įmonė     2020         24\n",
       "18                        Savivaldybės įmonė     2021         21\n",
       "19                    Tikroji ūkinė bendrija     2020          4\n",
       "20                    Tikroji ūkinė bendrija     2021         18\n",
       "21                  Uždaroji akcinė bendrovė     2020      76370\n",
       "22                  Uždaroji akcinė bendrovė     2021      82228\n",
       "23        Užsienio juridinio asmens filialas     2020         16\n",
       "24        Užsienio juridinio asmens filialas     2021         20\n",
       "25                           Valstybės įmonė     2020         13\n",
       "26                           Valstybės įmonė     2021         16\n",
       "27                           Viešoji įstaiga     2020       5324\n",
       "28                           Viešoji įstaiga     2021       6360\n",
       "29                       Žemės ūkio bendrovė     2020        401\n",
       "30                       Žemės ūkio bendrovė     2021        413"
      ]
     },
     "execution_count": 58,
     "metadata": {},
     "output_type": "execute_result"
    },
    {
     "data": {
      "application/javascript": "\n            setTimeout(function() {\n                var nbb_cell_id = 58;\n                var nbb_unformatted_code = \"kiekis = balanso_ataskaita.groupby(['form_pav','df_year']).count()['obj_kodas'].reset_index()\\nkiekis\";\n                var nbb_formatted_code = \"kiekis = (\\n    balanso_ataskaita.groupby([\\\"form_pav\\\", \\\"df_year\\\"])\\n    .count()[\\\"obj_kodas\\\"]\\n    .reset_index()\\n)\\nkiekis\";\n                var nbb_cells = Jupyter.notebook.get_cells();\n                for (var i = 0; i < nbb_cells.length; ++i) {\n                    if (nbb_cells[i].input_prompt_number == nbb_cell_id) {\n                        if (nbb_cells[i].get_text() == nbb_unformatted_code) {\n                             nbb_cells[i].set_text(nbb_formatted_code);\n                        }\n                        break;\n                    }\n                }\n            }, 500);\n            ",
      "text/plain": [
       "<IPython.core.display.Javascript object>"
      ]
     },
     "metadata": {},
     "output_type": "display_data"
    }
   ],
   "source": [
    "kiekis = balanso_ataskaita.groupby(['form_pav','df_year']).count()['obj_kodas'].reset_index()\n",
    "kiekis"
   ]
  },
  {
   "cell_type": "code",
   "execution_count": 59,
   "id": "9f6208ea-d63e-4efe-ac28-5fca88681586",
   "metadata": {},
   "outputs": [
    {
     "data": {
      "text/plain": [
       "<AxesSubplot:xlabel='form_pav', ylabel='obj_kodas'>"
      ]
     },
     "execution_count": 59,
     "metadata": {},
     "output_type": "execute_result"
    },
    {
     "data": {
      "image/png": "[encoded data removed]",
      "text/plain": [
       "<Figure size 1000x500 with 1 Axes>"
      ]
     },
     "metadata": {},
     "output_type": "display_data"
    },
    {
     "data": {
      "application/javascript": "\n            setTimeout(function() {\n                var nbb_cell_id = 59;\n                var nbb_unformatted_code = \"fig = plt.figure(figsize = (10, 5))\\n\\nsns.barplot(data=kiekis, x='form_pav', y='obj_kodas', hue='df_year')\";\n                var nbb_formatted_code = \"fig = plt.figure(figsize=(10, 5))\\n\\nsns.barplot(data=kiekis, x=\\\"form_pav\\\", y=\\\"obj_kodas\\\", hue=\\\"df_year\\\")\";\n                var nbb_cells = Jupyter.notebook.get_cells();\n                for (var i = 0; i < nbb_cells.length; ++i) {\n                    if (nbb_cells[i].input_prompt_number == nbb_cell_id) {\n                        if (nbb_cells[i].get_text() == nbb_unformatted_code) {\n                             nbb_cells[i].set_text(nbb_formatted_code);\n                        }\n                        break;\n                    }\n                }\n            }, 500);\n            ",
      "text/plain": [
       "<IPython.core.display.Javascript object>"
      ]
     },
     "metadata": {},
     "output_type": "display_data"
    }
   ],
   "source": [
    "fig = plt.figure(figsize = (10, 5))\n",
    "\n",
    "sns.barplot(data=kiekis, x='form_pav', y='obj_kodas', hue='df_year')"
   ]
  },
  {
   "cell_type": "markdown",
   "id": "64806838-3b7f-4665-9af1-f6b12ae99e13",
   "metadata": {},
   "source": [
    "## 10. Kurį mėnesį buvo įregistruota daugiausiai juridinių asmenų 2020 ir 2021 metais? Atvaizduokite stulpelinę diagramą."
   ]
  },
  {
   "cell_type": "code",
   "execution_count": 60,
   "id": "12d320d4-e06f-4cc2-9b24-7e0318286f8c",
   "metadata": {},
   "outputs": [
    {
     "data": {
      "application/javascript": "\n            setTimeout(function() {\n                var nbb_cell_id = 60;\n                var nbb_unformatted_code = \"# pakei\\u010diu duomen\\u0173 tip\\u0105 \\u012f datetime\\nbalanso_ataskaita['reg_date'] = pd.to_datetime(balanso_ataskaita['reg_date'])\";\n                var nbb_formatted_code = \"# pakei\\u010diu duomen\\u0173 tip\\u0105 \\u012f datetime\\nbalanso_ataskaita[\\\"reg_date\\\"] = pd.to_datetime(balanso_ataskaita[\\\"reg_date\\\"])\";\n                var nbb_cells = Jupyter.notebook.get_cells();\n                for (var i = 0; i < nbb_cells.length; ++i) {\n                    if (nbb_cells[i].input_prompt_number == nbb_cell_id) {\n                        if (nbb_cells[i].get_text() == nbb_unformatted_code) {\n                             nbb_cells[i].set_text(nbb_formatted_code);\n                        }\n                        break;\n                    }\n                }\n            }, 500);\n            ",
      "text/plain": [
       "<IPython.core.display.Javascript object>"
      ]
     },
     "metadata": {},
     "output_type": "display_data"
    }
   ],
   "source": [
    "# pakeičiu duomenų tipą į datetime\n",
    "balanso_ataskaita['reg_date'] = pd.to_datetime(balanso_ataskaita['reg_date'])"
   ]
  },
  {
   "cell_type": "code",
   "execution_count": 61,
   "id": "cd7ba234-dd69-476b-908a-ad6baf2f4030",
   "metadata": {},
   "outputs": [
    {
     "data": {
      "application/javascript": "\n            setTimeout(function() {\n                var nbb_cell_id = 61;\n                var nbb_unformatted_code = \"# susikuriu nauja stulpeli, pagal kuri butu galima agreguoti duomenis\\nbalanso_ataskaita['reg_year_month'] = balanso_ataskaita['reg_date'].dt.strftime('%Y-%m')\";\n                var nbb_formatted_code = \"# susikuriu nauja stulpeli, pagal kuri butu galima agreguoti duomenis\\nbalanso_ataskaita[\\\"reg_year_month\\\"] = balanso_ataskaita[\\\"reg_date\\\"].dt.strftime(\\\"%Y-%m\\\")\";\n                var nbb_cells = Jupyter.notebook.get_cells();\n                for (var i = 0; i < nbb_cells.length; ++i) {\n                    if (nbb_cells[i].input_prompt_number == nbb_cell_id) {\n                        if (nbb_cells[i].get_text() == nbb_unformatted_code) {\n                             nbb_cells[i].set_text(nbb_formatted_code);\n                        }\n                        break;\n                    }\n                }\n            }, 500);\n            ",
      "text/plain": [
       "<IPython.core.display.Javascript object>"
      ]
     },
     "metadata": {},
     "output_type": "display_data"
    }
   ],
   "source": [
    "# susikuriu nauja stulpeli, pagal kuri butu galima agreguoti duomenis\n",
    "balanso_ataskaita['reg_year_month'] = balanso_ataskaita['reg_date'].dt.strftime('%Y-%m')"
   ]
  },
  {
   "cell_type": "code",
   "execution_count": 62,
   "id": "30ddb5ac-448c-4b5a-b238-ac19713c6ab4",
   "metadata": {},
   "outputs": [
    {
     "data": {
      "application/javascript": "\n            setTimeout(function() {\n                var nbb_cell_id = 62;\n                var nbb_unformatted_code = \"\\ngrpd_data =  balanso_ataskaita.groupby(['reg_year_month']).count()['form_pav'].reset_index()\";\n                var nbb_formatted_code = \"grpd_data = (\\n    balanso_ataskaita.groupby([\\\"reg_year_month\\\"]).count()[\\\"form_pav\\\"].reset_index()\\n)\";\n                var nbb_cells = Jupyter.notebook.get_cells();\n                for (var i = 0; i < nbb_cells.length; ++i) {\n                    if (nbb_cells[i].input_prompt_number == nbb_cell_id) {\n                        if (nbb_cells[i].get_text() == nbb_unformatted_code) {\n                             nbb_cells[i].set_text(nbb_formatted_code);\n                        }\n                        break;\n                    }\n                }\n            }, 500);\n            ",
      "text/plain": [
       "<IPython.core.display.Javascript object>"
      ]
     },
     "metadata": {},
     "output_type": "display_data"
    }
   ],
   "source": [
    "\n",
    "grpd_data =  balanso_ataskaita.groupby(['reg_year_month']).count()['form_pav'].reset_index()\n"
   ]
  },
  {
   "cell_type": "code",
   "execution_count": 63,
   "id": "47203004-212c-46dd-a070-b47961b1dc41",
   "metadata": {},
   "outputs": [
    {
     "data": {
      "text/html": [
       "<div>\n",
       "<style scoped>\n",
       "    .dataframe tbody tr th:only-of-type {\n",
       "        vertical-align: middle;\n",
       "    }\n",
       "\n",
       "    .dataframe tbody tr th {\n",
       "        vertical-align: top;\n",
       "    }\n",
       "\n",
       "    .dataframe thead th {\n",
       "        text-align: right;\n",
       "    }\n",
       "</style>\n",
       "<table border=\"1\" class=\"dataframe\">\n",
       "  <thead>\n",
       "    <tr style=\"text-align: right;\">\n",
       "      <th></th>\n",
       "      <th>reg_year_month</th>\n",
       "      <th>form_pav</th>\n",
       "    </tr>\n",
       "  </thead>\n",
       "  <tbody>\n",
       "    <tr>\n",
       "      <th>0</th>\n",
       "      <td>2020-01</td>\n",
       "      <td>2477</td>\n",
       "    </tr>\n",
       "    <tr>\n",
       "      <th>1</th>\n",
       "      <td>2020-02</td>\n",
       "      <td>4418</td>\n",
       "    </tr>\n",
       "    <tr>\n",
       "      <th>2</th>\n",
       "      <td>2020-03</td>\n",
       "      <td>8656</td>\n",
       "    </tr>\n",
       "    <tr>\n",
       "      <th>3</th>\n",
       "      <td>2020-04</td>\n",
       "      <td>12417</td>\n",
       "    </tr>\n",
       "    <tr>\n",
       "      <th>4</th>\n",
       "      <td>2020-05</td>\n",
       "      <td>33053</td>\n",
       "    </tr>\n",
       "    <tr>\n",
       "      <th>5</th>\n",
       "      <td>2020-06</td>\n",
       "      <td>20815</td>\n",
       "    </tr>\n",
       "    <tr>\n",
       "      <th>6</th>\n",
       "      <td>2020-07</td>\n",
       "      <td>7149</td>\n",
       "    </tr>\n",
       "    <tr>\n",
       "      <th>7</th>\n",
       "      <td>2020-08</td>\n",
       "      <td>3844</td>\n",
       "    </tr>\n",
       "    <tr>\n",
       "      <th>8</th>\n",
       "      <td>2020-09</td>\n",
       "      <td>4471</td>\n",
       "    </tr>\n",
       "    <tr>\n",
       "      <th>9</th>\n",
       "      <td>2020-10</td>\n",
       "      <td>3018</td>\n",
       "    </tr>\n",
       "    <tr>\n",
       "      <th>10</th>\n",
       "      <td>2020-11</td>\n",
       "      <td>2751</td>\n",
       "    </tr>\n",
       "    <tr>\n",
       "      <th>11</th>\n",
       "      <td>2020-12</td>\n",
       "      <td>3249</td>\n",
       "    </tr>\n",
       "    <tr>\n",
       "      <th>12</th>\n",
       "      <td>2021-01</td>\n",
       "      <td>3522</td>\n",
       "    </tr>\n",
       "    <tr>\n",
       "      <th>13</th>\n",
       "      <td>2021-02</td>\n",
       "      <td>5509</td>\n",
       "    </tr>\n",
       "    <tr>\n",
       "      <th>14</th>\n",
       "      <td>2021-03</td>\n",
       "      <td>13139</td>\n",
       "    </tr>\n",
       "    <tr>\n",
       "      <th>15</th>\n",
       "      <td>2021-04</td>\n",
       "      <td>15822</td>\n",
       "    </tr>\n",
       "    <tr>\n",
       "      <th>16</th>\n",
       "      <td>2021-05</td>\n",
       "      <td>38877</td>\n",
       "    </tr>\n",
       "    <tr>\n",
       "      <th>17</th>\n",
       "      <td>2021-06</td>\n",
       "      <td>18227</td>\n",
       "    </tr>\n",
       "    <tr>\n",
       "      <th>18</th>\n",
       "      <td>2021-07</td>\n",
       "      <td>10988</td>\n",
       "    </tr>\n",
       "    <tr>\n",
       "      <th>19</th>\n",
       "      <td>2021-08</td>\n",
       "      <td>5070</td>\n",
       "    </tr>\n",
       "    <tr>\n",
       "      <th>20</th>\n",
       "      <td>2021-09</td>\n",
       "      <td>3092</td>\n",
       "    </tr>\n",
       "    <tr>\n",
       "      <th>21</th>\n",
       "      <td>2021-10</td>\n",
       "      <td>2358</td>\n",
       "    </tr>\n",
       "    <tr>\n",
       "      <th>22</th>\n",
       "      <td>2021-11</td>\n",
       "      <td>2162</td>\n",
       "    </tr>\n",
       "    <tr>\n",
       "      <th>23</th>\n",
       "      <td>2021-12</td>\n",
       "      <td>2084</td>\n",
       "    </tr>\n",
       "  </tbody>\n",
       "</table>\n",
       "</div>"
      ],
      "text/plain": [
       "   reg_year_month  form_pav\n",
       "0         2020-01      2477\n",
       "1         2020-02      4418\n",
       "2         2020-03      8656\n",
       "3         2020-04     12417\n",
       "4         2020-05     33053\n",
       "5         2020-06     20815\n",
       "6         2020-07      7149\n",
       "7         2020-08      3844\n",
       "8         2020-09      4471\n",
       "9         2020-10      3018\n",
       "10        2020-11      2751\n",
       "11        2020-12      3249\n",
       "12        2021-01      3522\n",
       "13        2021-02      5509\n",
       "14        2021-03     13139\n",
       "15        2021-04     15822\n",
       "16        2021-05     38877\n",
       "17        2021-06     18227\n",
       "18        2021-07     10988\n",
       "19        2021-08      5070\n",
       "20        2021-09      3092\n",
       "21        2021-10      2358\n",
       "22        2021-11      2162\n",
       "23        2021-12      2084"
      ]
     },
     "execution_count": 63,
     "metadata": {},
     "output_type": "execute_result"
    },
    {
     "data": {
      "application/javascript": "\n            setTimeout(function() {\n                var nbb_cell_id = 63;\n                var nbb_unformatted_code = \"grpd_data\";\n                var nbb_formatted_code = \"grpd_data\";\n                var nbb_cells = Jupyter.notebook.get_cells();\n                for (var i = 0; i < nbb_cells.length; ++i) {\n                    if (nbb_cells[i].input_prompt_number == nbb_cell_id) {\n                        if (nbb_cells[i].get_text() == nbb_unformatted_code) {\n                             nbb_cells[i].set_text(nbb_formatted_code);\n                        }\n                        break;\n                    }\n                }\n            }, 500);\n            ",
      "text/plain": [
       "<IPython.core.display.Javascript object>"
      ]
     },
     "metadata": {},
     "output_type": "display_data"
    }
   ],
   "source": [
    "grpd_data"
   ]
  },
  {
   "cell_type": "code",
   "execution_count": 64,
   "id": "fad027be-0207-43fb-a786-5abc92b931f9",
   "metadata": {},
   "outputs": [
    {
     "data": {
      "image/png": "[encoded data removed]",
      "text/plain": [
       "<Figure size 640x480 with 1 Axes>"
      ]
     },
     "metadata": {},
     "output_type": "display_data"
    },
    {
     "data": {
      "application/javascript": "\n            setTimeout(function() {\n                var nbb_cell_id = 64;\n                var nbb_unformatted_code = \"plot = sns.barplot(grpd_data, x='reg_year_month', y='form_pav')\\nplt.title('\\u012emoni\\u0173 skai\\u010dius pam\\u0117nesiui \\u012fregistruot\\u0173 2020 ir 2021 metais')\\nplot.set(xlabel=None, ylabel='Skai\\u010dius')\\nplt.xticks(rotation = 45);\";\n                var nbb_formatted_code = \"plot = sns.barplot(grpd_data, x=\\\"reg_year_month\\\", y=\\\"form_pav\\\")\\nplt.title(\\\"\\u012emoni\\u0173 skai\\u010dius pam\\u0117nesiui \\u012fregistruot\\u0173 2020 ir 2021 metais\\\")\\nplot.set(xlabel=None, ylabel=\\\"Skai\\u010dius\\\")\\nplt.xticks(rotation=45)\";\n                var nbb_cells = Jupyter.notebook.get_cells();\n                for (var i = 0; i < nbb_cells.length; ++i) {\n                    if (nbb_cells[i].input_prompt_number == nbb_cell_id) {\n                        if (nbb_cells[i].get_text() == nbb_unformatted_code) {\n                             nbb_cells[i].set_text(nbb_formatted_code);\n                        }\n                        break;\n                    }\n                }\n            }, 500);\n            ",
      "text/plain": [
       "<IPython.core.display.Javascript object>"
      ]
     },
     "metadata": {},
     "output_type": "display_data"
    }
   ],
   "source": [
    "plot = sns.barplot(grpd_data, x='reg_year_month', y='form_pav')\n",
    "plt.title('Įmonių skaičius pamėnesiui įregistruotų 2020 ir 2021 metais')\n",
    "plot.set(xlabel=None, ylabel='Skaičius')\n",
    "plt.xticks(rotation = 45);\n"
   ]
  },
  {
   "cell_type": "markdown",
   "id": "424630f6-6a81-4d86-8908-10a9cb15cdcb",
   "metadata": {},
   "source": [
    "## 11. Vizualiai atvaizduoti juridinių asmenų statuso pasiskirstymą kiekvienais metais"
   ]
  },
  {
   "cell_type": "code",
   "execution_count": 65,
   "id": "092a5188-e0e8-4317-9bfb-ea7409b58099",
   "metadata": {},
   "outputs": [
    {
     "data": {
      "text/plain": [
       "stat_statusas  df_year\n",
       "0              2020       101084\n",
       "               2021       116097\n",
       "1              2020           78\n",
       "               2021          186\n",
       "2              2020           43\n",
       "               2021           41\n",
       "3              2020           56\n",
       "               2021           84\n",
       "4              2020           45\n",
       "               2021           50\n",
       "5              2020          374\n",
       "               2021          339\n",
       "6              2020           38\n",
       "               2021           77\n",
       "7              2020          857\n",
       "               2021          992\n",
       "8              2020           27\n",
       "               2021           25\n",
       "9              2020          275\n",
       "               2021          352\n",
       "10             2020         2862\n",
       "               2021         2108\n",
       "23             2020            6\n",
       "               2021            6\n",
       "24             2020            2\n",
       "               2021            4\n",
       "26             2020          571\n",
       "               2021          489\n",
       "Name: stat_pav, dtype: int64"
      ]
     },
     "execution_count": 65,
     "metadata": {},
     "output_type": "execute_result"
    },
    {
     "data": {
      "application/javascript": "\n            setTimeout(function() {\n                var nbb_cell_id = 65;\n                var nbb_unformatted_code = \"balanso_ataskaita.groupby(['stat_statusas','df_year']).count()['stat_pav']\";\n                var nbb_formatted_code = \"balanso_ataskaita.groupby([\\\"stat_statusas\\\", \\\"df_year\\\"]).count()[\\\"stat_pav\\\"]\";\n                var nbb_cells = Jupyter.notebook.get_cells();\n                for (var i = 0; i < nbb_cells.length; ++i) {\n                    if (nbb_cells[i].input_prompt_number == nbb_cell_id) {\n                        if (nbb_cells[i].get_text() == nbb_unformatted_code) {\n                             nbb_cells[i].set_text(nbb_formatted_code);\n                        }\n                        break;\n                    }\n                }\n            }, 500);\n            ",
      "text/plain": [
       "<IPython.core.display.Javascript object>"
      ]
     },
     "metadata": {},
     "output_type": "display_data"
    }
   ],
   "source": [
    "balanso_ataskaita.groupby(['stat_statusas','df_year']).count()['stat_pav']"
   ]
  },
  {
   "cell_type": "code",
   "execution_count": 66,
   "id": "9be56f0e-3e98-4df3-81fe-8e349a9910df",
   "metadata": {},
   "outputs": [
    {
     "data": {
      "text/html": [
       "<div>\n",
       "<style scoped>\n",
       "    .dataframe tbody tr th:only-of-type {\n",
       "        vertical-align: middle;\n",
       "    }\n",
       "\n",
       "    .dataframe tbody tr th {\n",
       "        vertical-align: top;\n",
       "    }\n",
       "\n",
       "    .dataframe thead th {\n",
       "        text-align: right;\n",
       "    }\n",
       "</style>\n",
       "<table border=\"1\" class=\"dataframe\">\n",
       "  <thead>\n",
       "    <tr style=\"text-align: right;\">\n",
       "      <th></th>\n",
       "      <th>stat_statusas</th>\n",
       "      <th>df_year</th>\n",
       "      <th>count</th>\n",
       "    </tr>\n",
       "  </thead>\n",
       "  <tbody>\n",
       "    <tr>\n",
       "      <th>0</th>\n",
       "      <td>0</td>\n",
       "      <td>2020</td>\n",
       "      <td>101084</td>\n",
       "    </tr>\n",
       "    <tr>\n",
       "      <th>1</th>\n",
       "      <td>0</td>\n",
       "      <td>2021</td>\n",
       "      <td>116097</td>\n",
       "    </tr>\n",
       "    <tr>\n",
       "      <th>2</th>\n",
       "      <td>1</td>\n",
       "      <td>2020</td>\n",
       "      <td>78</td>\n",
       "    </tr>\n",
       "    <tr>\n",
       "      <th>3</th>\n",
       "      <td>1</td>\n",
       "      <td>2021</td>\n",
       "      <td>186</td>\n",
       "    </tr>\n",
       "    <tr>\n",
       "      <th>4</th>\n",
       "      <td>2</td>\n",
       "      <td>2020</td>\n",
       "      <td>43</td>\n",
       "    </tr>\n",
       "    <tr>\n",
       "      <th>5</th>\n",
       "      <td>2</td>\n",
       "      <td>2021</td>\n",
       "      <td>41</td>\n",
       "    </tr>\n",
       "    <tr>\n",
       "      <th>6</th>\n",
       "      <td>3</td>\n",
       "      <td>2020</td>\n",
       "      <td>56</td>\n",
       "    </tr>\n",
       "    <tr>\n",
       "      <th>7</th>\n",
       "      <td>3</td>\n",
       "      <td>2021</td>\n",
       "      <td>84</td>\n",
       "    </tr>\n",
       "    <tr>\n",
       "      <th>8</th>\n",
       "      <td>4</td>\n",
       "      <td>2020</td>\n",
       "      <td>45</td>\n",
       "    </tr>\n",
       "    <tr>\n",
       "      <th>9</th>\n",
       "      <td>4</td>\n",
       "      <td>2021</td>\n",
       "      <td>50</td>\n",
       "    </tr>\n",
       "    <tr>\n",
       "      <th>10</th>\n",
       "      <td>5</td>\n",
       "      <td>2020</td>\n",
       "      <td>374</td>\n",
       "    </tr>\n",
       "    <tr>\n",
       "      <th>11</th>\n",
       "      <td>5</td>\n",
       "      <td>2021</td>\n",
       "      <td>339</td>\n",
       "    </tr>\n",
       "    <tr>\n",
       "      <th>12</th>\n",
       "      <td>6</td>\n",
       "      <td>2020</td>\n",
       "      <td>38</td>\n",
       "    </tr>\n",
       "    <tr>\n",
       "      <th>13</th>\n",
       "      <td>6</td>\n",
       "      <td>2021</td>\n",
       "      <td>77</td>\n",
       "    </tr>\n",
       "    <tr>\n",
       "      <th>14</th>\n",
       "      <td>7</td>\n",
       "      <td>2020</td>\n",
       "      <td>857</td>\n",
       "    </tr>\n",
       "    <tr>\n",
       "      <th>15</th>\n",
       "      <td>7</td>\n",
       "      <td>2021</td>\n",
       "      <td>992</td>\n",
       "    </tr>\n",
       "    <tr>\n",
       "      <th>16</th>\n",
       "      <td>8</td>\n",
       "      <td>2020</td>\n",
       "      <td>27</td>\n",
       "    </tr>\n",
       "    <tr>\n",
       "      <th>17</th>\n",
       "      <td>8</td>\n",
       "      <td>2021</td>\n",
       "      <td>25</td>\n",
       "    </tr>\n",
       "    <tr>\n",
       "      <th>18</th>\n",
       "      <td>9</td>\n",
       "      <td>2020</td>\n",
       "      <td>275</td>\n",
       "    </tr>\n",
       "    <tr>\n",
       "      <th>19</th>\n",
       "      <td>9</td>\n",
       "      <td>2021</td>\n",
       "      <td>352</td>\n",
       "    </tr>\n",
       "    <tr>\n",
       "      <th>20</th>\n",
       "      <td>10</td>\n",
       "      <td>2020</td>\n",
       "      <td>2862</td>\n",
       "    </tr>\n",
       "    <tr>\n",
       "      <th>21</th>\n",
       "      <td>10</td>\n",
       "      <td>2021</td>\n",
       "      <td>2108</td>\n",
       "    </tr>\n",
       "    <tr>\n",
       "      <th>22</th>\n",
       "      <td>23</td>\n",
       "      <td>2020</td>\n",
       "      <td>6</td>\n",
       "    </tr>\n",
       "    <tr>\n",
       "      <th>23</th>\n",
       "      <td>23</td>\n",
       "      <td>2021</td>\n",
       "      <td>6</td>\n",
       "    </tr>\n",
       "    <tr>\n",
       "      <th>24</th>\n",
       "      <td>24</td>\n",
       "      <td>2020</td>\n",
       "      <td>2</td>\n",
       "    </tr>\n",
       "    <tr>\n",
       "      <th>25</th>\n",
       "      <td>24</td>\n",
       "      <td>2021</td>\n",
       "      <td>4</td>\n",
       "    </tr>\n",
       "    <tr>\n",
       "      <th>26</th>\n",
       "      <td>26</td>\n",
       "      <td>2020</td>\n",
       "      <td>571</td>\n",
       "    </tr>\n",
       "    <tr>\n",
       "      <th>27</th>\n",
       "      <td>26</td>\n",
       "      <td>2021</td>\n",
       "      <td>489</td>\n",
       "    </tr>\n",
       "  </tbody>\n",
       "</table>\n",
       "</div>"
      ],
      "text/plain": [
       "    stat_statusas  df_year   count\n",
       "0               0     2020  101084\n",
       "1               0     2021  116097\n",
       "2               1     2020      78\n",
       "3               1     2021     186\n",
       "4               2     2020      43\n",
       "5               2     2021      41\n",
       "6               3     2020      56\n",
       "7               3     2021      84\n",
       "8               4     2020      45\n",
       "9               4     2021      50\n",
       "10              5     2020     374\n",
       "11              5     2021     339\n",
       "12              6     2020      38\n",
       "13              6     2021      77\n",
       "14              7     2020     857\n",
       "15              7     2021     992\n",
       "16              8     2020      27\n",
       "17              8     2021      25\n",
       "18              9     2020     275\n",
       "19              9     2021     352\n",
       "20             10     2020    2862\n",
       "21             10     2021    2108\n",
       "22             23     2020       6\n",
       "23             23     2021       6\n",
       "24             24     2020       2\n",
       "25             24     2021       4\n",
       "26             26     2020     571\n",
       "27             26     2021     489"
      ]
     },
     "execution_count": 66,
     "metadata": {},
     "output_type": "execute_result"
    },
    {
     "data": {
      "application/javascript": "\n            setTimeout(function() {\n                var nbb_cell_id = 66;\n                var nbb_unformatted_code = \"hist_df = balanso_ataskaita.groupby(['stat_statusas','df_year']).count()['stat_pav'].reset_index(name='count')\\nhist_df\";\n                var nbb_formatted_code = \"hist_df = (\\n    balanso_ataskaita.groupby([\\\"stat_statusas\\\", \\\"df_year\\\"])\\n    .count()[\\\"stat_pav\\\"]\\n    .reset_index(name=\\\"count\\\")\\n)\\nhist_df\";\n                var nbb_cells = Jupyter.notebook.get_cells();\n                for (var i = 0; i < nbb_cells.length; ++i) {\n                    if (nbb_cells[i].input_prompt_number == nbb_cell_id) {\n                        if (nbb_cells[i].get_text() == nbb_unformatted_code) {\n                             nbb_cells[i].set_text(nbb_formatted_code);\n                        }\n                        break;\n                    }\n                }\n            }, 500);\n            ",
      "text/plain": [
       "<IPython.core.display.Javascript object>"
      ]
     },
     "metadata": {},
     "output_type": "display_data"
    }
   ],
   "source": [
    "hist_df = balanso_ataskaita.groupby(['stat_statusas','df_year']).count()['stat_pav'].reset_index(name='count')\n",
    "hist_df"
   ]
  },
  {
   "cell_type": "code",
   "execution_count": 67,
   "id": "5ef07936-0960-4827-b521-b0eaeb6bcbb7",
   "metadata": {},
   "outputs": [
    {
     "data": {
      "image/png": "[encoded data removed]",
      "text/plain": [
       "<Figure size 640x480 with 1 Axes>"
      ]
     },
     "metadata": {},
     "output_type": "display_data"
    },
    {
     "data": {
      "application/javascript": "\n            setTimeout(function() {\n                var nbb_cell_id = 67;\n                var nbb_unformatted_code = \"hist = sns.histplot(data=hist_df, x=\\\"stat_statusas\\\", hue='df_year', element='step');\\nhist.set(title='Juridini\\u0173 asmen\\u0173 pasiskirstymas 2020 ir 2021 metais');\";\n                var nbb_formatted_code = \"hist = sns.histplot(data=hist_df, x=\\\"stat_statusas\\\", hue=\\\"df_year\\\", element=\\\"step\\\")\\nhist.set(title=\\\"Juridini\\u0173 asmen\\u0173 pasiskirstymas 2020 ir 2021 metais\\\")\";\n                var nbb_cells = Jupyter.notebook.get_cells();\n                for (var i = 0; i < nbb_cells.length; ++i) {\n                    if (nbb_cells[i].input_prompt_number == nbb_cell_id) {\n                        if (nbb_cells[i].get_text() == nbb_unformatted_code) {\n                             nbb_cells[i].set_text(nbb_formatted_code);\n                        }\n                        break;\n                    }\n                }\n            }, 500);\n            ",
      "text/plain": [
       "<IPython.core.display.Javascript object>"
      ]
     },
     "metadata": {},
     "output_type": "display_data"
    }
   ],
   "source": [
    "hist = sns.histplot(data=hist_df, x=\"stat_statusas\", hue='df_year', element='step');\n",
    "hist.set(title='Juridinių asmenų pasiskirstymas 2020 ir 2021 metais');\n",
    "\n"
   ]
  },
  {
   "cell_type": "markdown",
   "id": "4944ef24-6976-452d-9ed3-701f233fc747",
   "metadata": {},
   "source": [
    "Iš histogramos matome, jog abejais metais pasiskirstymas yra itin panašus."
   ]
  },
  {
   "cell_type": "markdown",
   "id": "abf3237c-01ba-468d-b2e8-36ff3b9b1bc4",
   "metadata": {},
   "source": [
    "## 12.  Kiekvienai įmonei apskaičiuoti tendenciją. Jei “grynasis_pelnas” + “nuosavas_kapitalas” 2021 metais buvo didesnis už 2020 metais deklaruotą, tai tendencija “teigiama”, jei ne - “neigiama”. Atvaizduoti tendencijos duomenis stulpelinėje diagramoje"
   ]
  },
  {
   "cell_type": "code",
   "execution_count": 68,
   "id": "d60c2a36-4748-447f-ac61-aa7203beb5ac",
   "metadata": {},
   "outputs": [
    {
     "data": {
      "application/javascript": "\n            setTimeout(function() {\n                var nbb_cell_id = 68;\n                var nbb_unformatted_code = \"merged_df = balanso_ataskaita.merge(pelno_ataskaita, on='uniq_id', how='left')\";\n                var nbb_formatted_code = \"merged_df = balanso_ataskaita.merge(pelno_ataskaita, on=\\\"uniq_id\\\", how=\\\"left\\\")\";\n                var nbb_cells = Jupyter.notebook.get_cells();\n                for (var i = 0; i < nbb_cells.length; ++i) {\n                    if (nbb_cells[i].input_prompt_number == nbb_cell_id) {\n                        if (nbb_cells[i].get_text() == nbb_unformatted_code) {\n                             nbb_cells[i].set_text(nbb_formatted_code);\n                        }\n                        break;\n                    }\n                }\n            }, 500);\n            ",
      "text/plain": [
       "<IPython.core.display.Javascript object>"
      ]
     },
     "metadata": {},
     "output_type": "display_data"
    }
   ],
   "source": [
    "merged_df = balanso_ataskaita.merge(pelno_ataskaita, on='uniq_id', how='left')"
   ]
  },
  {
   "cell_type": "code",
   "execution_count": 69,
   "id": "98e0a1e0-b2c9-4dfc-8836-c9f176057973",
   "metadata": {},
   "outputs": [
    {
     "data": {
      "text/html": [
       "<div>\n",
       "<style scoped>\n",
       "    .dataframe tbody tr th:only-of-type {\n",
       "        vertical-align: middle;\n",
       "    }\n",
       "\n",
       "    .dataframe tbody tr th {\n",
       "        vertical-align: top;\n",
       "    }\n",
       "\n",
       "    .dataframe thead th {\n",
       "        text-align: right;\n",
       "    }\n",
       "</style>\n",
       "<table border=\"1\" class=\"dataframe\">\n",
       "  <thead>\n",
       "    <tr style=\"text-align: right;\">\n",
       "      <th></th>\n",
       "      <th>obj_pav</th>\n",
       "      <th>df_year</th>\n",
       "      <th>nuosavo_kapitalo_vidurkis</th>\n",
       "    </tr>\n",
       "  </thead>\n",
       "  <tbody>\n",
       "    <tr>\n",
       "      <th>0</th>\n",
       "      <td>\"10 liepų\" UAB</td>\n",
       "      <td>2020</td>\n",
       "      <td>9911.0000</td>\n",
       "    </tr>\n",
       "    <tr>\n",
       "      <th>1</th>\n",
       "      <td>\"10 liepų\" UAB</td>\n",
       "      <td>2021</td>\n",
       "      <td>144709.0000</td>\n",
       "    </tr>\n",
       "    <tr>\n",
       "      <th>2</th>\n",
       "      <td>\"1024 MB\" MB</td>\n",
       "      <td>2020</td>\n",
       "      <td>-193.0000</td>\n",
       "    </tr>\n",
       "    <tr>\n",
       "      <th>3</th>\n",
       "      <td>\"1024 MB\" MB</td>\n",
       "      <td>2021</td>\n",
       "      <td>30170.0000</td>\n",
       "    </tr>\n",
       "    <tr>\n",
       "      <th>4</th>\n",
       "      <td>\"115 idėjų\" MB</td>\n",
       "      <td>2020</td>\n",
       "      <td>4173.0000</td>\n",
       "    </tr>\n",
       "    <tr>\n",
       "      <th>...</th>\n",
       "      <td>...</td>\n",
       "      <td>...</td>\n",
       "      <td>...</td>\n",
       "    </tr>\n",
       "    <tr>\n",
       "      <th>201213</th>\n",
       "      <td>Žūklės klubas \"Lures LT\"</td>\n",
       "      <td>2020</td>\n",
       "      <td>0.0000</td>\n",
       "    </tr>\n",
       "    <tr>\n",
       "      <th>201214</th>\n",
       "      <td>Žūklės klubas \"Lures LT\"</td>\n",
       "      <td>2021</td>\n",
       "      <td>0.0000</td>\n",
       "    </tr>\n",
       "    <tr>\n",
       "      <th>201215</th>\n",
       "      <td>Žūklės klubas \"Merkys\"</td>\n",
       "      <td>2021</td>\n",
       "      <td>4507.0000</td>\n",
       "    </tr>\n",
       "    <tr>\n",
       "      <th>201216</th>\n",
       "      <td>Žūklės klubas \"Paltusas\"</td>\n",
       "      <td>2021</td>\n",
       "      <td>0.0000</td>\n",
       "    </tr>\n",
       "    <tr>\n",
       "      <th>201217</th>\n",
       "      <td>Žūklės klubas \"Svajonių karpis\"</td>\n",
       "      <td>2021</td>\n",
       "      <td>5717.5000</td>\n",
       "    </tr>\n",
       "  </tbody>\n",
       "</table>\n",
       "<p>201218 rows × 3 columns</p>\n",
       "</div>"
      ],
      "text/plain": [
       "                                obj_pav  df_year  nuosavo_kapitalo_vidurkis\n",
       "0                        \"10 liepų\" UAB     2020                  9911.0000\n",
       "1                        \"10 liepų\" UAB     2021                144709.0000\n",
       "2                          \"1024 MB\" MB     2020                  -193.0000\n",
       "3                          \"1024 MB\" MB     2021                 30170.0000\n",
       "4                        \"115 idėjų\" MB     2020                  4173.0000\n",
       "...                                 ...      ...                        ...\n",
       "201213         Žūklės klubas \"Lures LT\"     2020                     0.0000\n",
       "201214         Žūklės klubas \"Lures LT\"     2021                     0.0000\n",
       "201215           Žūklės klubas \"Merkys\"     2021                  4507.0000\n",
       "201216         Žūklės klubas \"Paltusas\"     2021                     0.0000\n",
       "201217  Žūklės klubas \"Svajonių karpis\"     2021                  5717.5000\n",
       "\n",
       "[201218 rows x 3 columns]"
      ]
     },
     "execution_count": 69,
     "metadata": {},
     "output_type": "execute_result"
    },
    {
     "data": {
      "application/javascript": "\n            setTimeout(function() {\n                var nbb_cell_id = 69;\n                var nbb_unformatted_code = \"# grupuojant gaunamas nuosavo kapitalo vidurkis kiekvienai unikaliai \\u012fmonei kiekvienais metais (taip panaikinami \\u012fmoni\\u0173 pavadinim\\u0173 pasikartojimai, turintys skirtinas nuosavo_kapitalo reik\\u0161mes)\\n\\nbalanso_ataskaita_nuosavas_kapitalas_vid = balanso_ataskaita.groupby(['obj_pav','df_year']).mean()['nuosavas_kapitalas'].reset_index(name='nuosavo_kapitalo_vidurkis')\\nbalanso_ataskaita_nuosavas_kapitalas_vid\";\n                var nbb_formatted_code = \"# grupuojant gaunamas nuosavo kapitalo vidurkis kiekvienai unikaliai \\u012fmonei kiekvienais metais (taip panaikinami \\u012fmoni\\u0173 pavadinim\\u0173 pasikartojimai, turintys skirtinas nuosavo_kapitalo reik\\u0161mes)\\n\\nbalanso_ataskaita_nuosavas_kapitalas_vid = (\\n    balanso_ataskaita.groupby([\\\"obj_pav\\\", \\\"df_year\\\"])\\n    .mean()[\\\"nuosavas_kapitalas\\\"]\\n    .reset_index(name=\\\"nuosavo_kapitalo_vidurkis\\\")\\n)\\nbalanso_ataskaita_nuosavas_kapitalas_vid\";\n                var nbb_cells = Jupyter.notebook.get_cells();\n                for (var i = 0; i < nbb_cells.length; ++i) {\n                    if (nbb_cells[i].input_prompt_number == nbb_cell_id) {\n                        if (nbb_cells[i].get_text() == nbb_unformatted_code) {\n                             nbb_cells[i].set_text(nbb_formatted_code);\n                        }\n                        break;\n                    }\n                }\n            }, 500);\n            ",
      "text/plain": [
       "<IPython.core.display.Javascript object>"
      ]
     },
     "metadata": {},
     "output_type": "display_data"
    }
   ],
   "source": [
    "# grupuojant gaunamas nuosavo kapitalo vidurkis kiekvienai unikaliai įmonei kiekvienais metais (taip panaikinami įmonių pavadinimų pasikartojimai, turintys skirtinas nuosavo_kapitalo reikšmes)\n",
    "\n",
    "balanso_ataskaita_nuosavas_kapitalas_vid = balanso_ataskaita.groupby(['obj_pav','df_year']).mean()['nuosavas_kapitalas'].reset_index(name='nuosavo_kapitalo_vidurkis')\n",
    "balanso_ataskaita_nuosavas_kapitalas_vid"
   ]
  },
  {
   "cell_type": "code",
   "execution_count": 70,
   "id": "1bfc772b-9afe-46ac-9e41-bc7880033718",
   "metadata": {},
   "outputs": [
    {
     "data": {
      "text/html": [
       "<div>\n",
       "<style scoped>\n",
       "    .dataframe tbody tr th:only-of-type {\n",
       "        vertical-align: middle;\n",
       "    }\n",
       "\n",
       "    .dataframe tbody tr th {\n",
       "        vertical-align: top;\n",
       "    }\n",
       "\n",
       "    .dataframe thead th {\n",
       "        text-align: right;\n",
       "    }\n",
       "</style>\n",
       "<table border=\"1\" class=\"dataframe\">\n",
       "  <thead>\n",
       "    <tr style=\"text-align: right;\">\n",
       "      <th></th>\n",
       "      <th>obj_pav</th>\n",
       "      <th>df_year</th>\n",
       "      <th>grynojo_pelno_vidurkis</th>\n",
       "    </tr>\n",
       "  </thead>\n",
       "  <tbody>\n",
       "    <tr>\n",
       "      <th>0</th>\n",
       "      <td>\"10 liepų\" UAB</td>\n",
       "      <td>2020</td>\n",
       "      <td>-89.0000</td>\n",
       "    </tr>\n",
       "    <tr>\n",
       "      <th>1</th>\n",
       "      <td>\"10 liepų\" UAB</td>\n",
       "      <td>2021</td>\n",
       "      <td>-65202.0000</td>\n",
       "    </tr>\n",
       "    <tr>\n",
       "      <th>2</th>\n",
       "      <td>\"1024 MB\" MB</td>\n",
       "      <td>2020</td>\n",
       "      <td>35.0000</td>\n",
       "    </tr>\n",
       "    <tr>\n",
       "      <th>3</th>\n",
       "      <td>\"1024 MB\" MB</td>\n",
       "      <td>2021</td>\n",
       "      <td>30363.0000</td>\n",
       "    </tr>\n",
       "    <tr>\n",
       "      <th>4</th>\n",
       "      <td>\"115 idėjų\" MB</td>\n",
       "      <td>2020</td>\n",
       "      <td>3563.0000</td>\n",
       "    </tr>\n",
       "    <tr>\n",
       "      <th>...</th>\n",
       "      <td>...</td>\n",
       "      <td>...</td>\n",
       "      <td>...</td>\n",
       "    </tr>\n",
       "    <tr>\n",
       "      <th>184301</th>\n",
       "      <td>ŽŪB Žadžiūnų ekologinis ūkis</td>\n",
       "      <td>2021</td>\n",
       "      <td>-15801.0000</td>\n",
       "    </tr>\n",
       "    <tr>\n",
       "      <th>184302</th>\n",
       "      <td>ŽŪB Želsvelės ekologinis ūkis</td>\n",
       "      <td>2021</td>\n",
       "      <td>-1624.5000</td>\n",
       "    </tr>\n",
       "    <tr>\n",
       "      <th>184303</th>\n",
       "      <td>ŽŪĮ \"GERAS ŪKIS\" UAB</td>\n",
       "      <td>2020</td>\n",
       "      <td>-116756.0000</td>\n",
       "    </tr>\n",
       "    <tr>\n",
       "      <th>184304</th>\n",
       "      <td>ŽŪĮ \"GERAS ŪKIS\" UAB</td>\n",
       "      <td>2021</td>\n",
       "      <td>90858.0000</td>\n",
       "    </tr>\n",
       "    <tr>\n",
       "      <th>184305</th>\n",
       "      <td>Žūklės klubas \"Svajonių karpis\"</td>\n",
       "      <td>2021</td>\n",
       "      <td>NaN</td>\n",
       "    </tr>\n",
       "  </tbody>\n",
       "</table>\n",
       "<p>184306 rows × 3 columns</p>\n",
       "</div>"
      ],
      "text/plain": [
       "                                obj_pav  df_year  grynojo_pelno_vidurkis\n",
       "0                        \"10 liepų\" UAB     2020                -89.0000\n",
       "1                        \"10 liepų\" UAB     2021             -65202.0000\n",
       "2                          \"1024 MB\" MB     2020                 35.0000\n",
       "3                          \"1024 MB\" MB     2021              30363.0000\n",
       "4                        \"115 idėjų\" MB     2020               3563.0000\n",
       "...                                 ...      ...                     ...\n",
       "184301     ŽŪB Žadžiūnų ekologinis ūkis     2021             -15801.0000\n",
       "184302    ŽŪB Želsvelės ekologinis ūkis     2021              -1624.5000\n",
       "184303             ŽŪĮ \"GERAS ŪKIS\" UAB     2020            -116756.0000\n",
       "184304             ŽŪĮ \"GERAS ŪKIS\" UAB     2021              90858.0000\n",
       "184305  Žūklės klubas \"Svajonių karpis\"     2021                     NaN\n",
       "\n",
       "[184306 rows x 3 columns]"
      ]
     },
     "execution_count": 70,
     "metadata": {},
     "output_type": "execute_result"
    },
    {
     "data": {
      "application/javascript": "\n            setTimeout(function() {\n                var nbb_cell_id = 70;\n                var nbb_unformatted_code = \"pelno_ataskaita_grynasis_pelnas_vid = pelno_ataskaita.groupby(['obj_pav','df_year']).mean()['grynasis_pelnas'].reset_index(name='grynojo_pelno_vidurkis')\\npelno_ataskaita_grynasis_pelnas_vid\";\n                var nbb_formatted_code = \"pelno_ataskaita_grynasis_pelnas_vid = (\\n    pelno_ataskaita.groupby([\\\"obj_pav\\\", \\\"df_year\\\"])\\n    .mean()[\\\"grynasis_pelnas\\\"]\\n    .reset_index(name=\\\"grynojo_pelno_vidurkis\\\")\\n)\\npelno_ataskaita_grynasis_pelnas_vid\";\n                var nbb_cells = Jupyter.notebook.get_cells();\n                for (var i = 0; i < nbb_cells.length; ++i) {\n                    if (nbb_cells[i].input_prompt_number == nbb_cell_id) {\n                        if (nbb_cells[i].get_text() == nbb_unformatted_code) {\n                             nbb_cells[i].set_text(nbb_formatted_code);\n                        }\n                        break;\n                    }\n                }\n            }, 500);\n            ",
      "text/plain": [
       "<IPython.core.display.Javascript object>"
      ]
     },
     "metadata": {},
     "output_type": "display_data"
    }
   ],
   "source": [
    "pelno_ataskaita_grynasis_pelnas_vid = pelno_ataskaita.groupby(['obj_pav','df_year']).mean()['grynasis_pelnas'].reset_index(name='grynojo_pelno_vidurkis')\n",
    "pelno_ataskaita_grynasis_pelnas_vid"
   ]
  },
  {
   "cell_type": "code",
   "execution_count": 71,
   "id": "92c1a88f-9d07-47c7-8104-71b0793b1a0e",
   "metadata": {},
   "outputs": [
    {
     "data": {
      "text/plain": [
       "(184306, 4)"
      ]
     },
     "execution_count": 71,
     "metadata": {},
     "output_type": "execute_result"
    },
    {
     "data": {
      "application/javascript": "\n            setTimeout(function() {\n                var nbb_cell_id = 71;\n                var nbb_unformatted_code = \"# inner join palieka tik tas \\u012fmones, kurios yra minimos abiejuose duomen\\u0173 masyvuose.\\nsujungtos_ataskaitos = balanso_ataskaita_nuosavas_kapitalas_vid.merge(pelno_ataskaita_grynasis_pelnas_vid, on=['obj_pav', 'df_year'], how='inner')\\n\\nsujungtos_ataskaitos.shape\";\n                var nbb_formatted_code = \"# inner join palieka tik tas \\u012fmones, kurios yra minimos abiejuose duomen\\u0173 masyvuose.\\nsujungtos_ataskaitos = balanso_ataskaita_nuosavas_kapitalas_vid.merge(\\n    pelno_ataskaita_grynasis_pelnas_vid, on=[\\\"obj_pav\\\", \\\"df_year\\\"], how=\\\"inner\\\"\\n)\\n\\nsujungtos_ataskaitos.shape\";\n                var nbb_cells = Jupyter.notebook.get_cells();\n                for (var i = 0; i < nbb_cells.length; ++i) {\n                    if (nbb_cells[i].input_prompt_number == nbb_cell_id) {\n                        if (nbb_cells[i].get_text() == nbb_unformatted_code) {\n                             nbb_cells[i].set_text(nbb_formatted_code);\n                        }\n                        break;\n                    }\n                }\n            }, 500);\n            ",
      "text/plain": [
       "<IPython.core.display.Javascript object>"
      ]
     },
     "metadata": {},
     "output_type": "display_data"
    }
   ],
   "source": [
    "# inner join palieka tik tas įmones, kurios yra minimos abiejuose duomenų masyvuose.\n",
    "sujungtos_ataskaitos = balanso_ataskaita_nuosavas_kapitalas_vid.merge(pelno_ataskaita_grynasis_pelnas_vid, on=['obj_pav', 'df_year'], how='inner')\n",
    "\n",
    "sujungtos_ataskaitos.shape"
   ]
  },
  {
   "cell_type": "code",
   "execution_count": 72,
   "id": "1b7a5f89-4764-4e4f-913d-1bc8cc8cbcf5",
   "metadata": {},
   "outputs": [
    {
     "data": {
      "application/javascript": "\n            setTimeout(function() {\n                var nbb_cell_id = 72;\n                var nbb_unformatted_code = \"sujungtos_ataskaitos['kapitalo_pelno_suma'] = sujungtos_ataskaitos['nuosavo_kapitalo_vidurkis'] + sujungtos_ataskaitos['grynojo_pelno_vidurkis']\";\n                var nbb_formatted_code = \"sujungtos_ataskaitos[\\\"kapitalo_pelno_suma\\\"] = (\\n    sujungtos_ataskaitos[\\\"nuosavo_kapitalo_vidurkis\\\"]\\n    + sujungtos_ataskaitos[\\\"grynojo_pelno_vidurkis\\\"]\\n)\";\n                var nbb_cells = Jupyter.notebook.get_cells();\n                for (var i = 0; i < nbb_cells.length; ++i) {\n                    if (nbb_cells[i].input_prompt_number == nbb_cell_id) {\n                        if (nbb_cells[i].get_text() == nbb_unformatted_code) {\n                             nbb_cells[i].set_text(nbb_formatted_code);\n                        }\n                        break;\n                    }\n                }\n            }, 500);\n            ",
      "text/plain": [
       "<IPython.core.display.Javascript object>"
      ]
     },
     "metadata": {},
     "output_type": "display_data"
    }
   ],
   "source": [
    "sujungtos_ataskaitos['kapitalo_pelno_suma'] = sujungtos_ataskaitos['nuosavo_kapitalo_vidurkis'] + sujungtos_ataskaitos['grynojo_pelno_vidurkis']"
   ]
  },
  {
   "cell_type": "code",
   "execution_count": 73,
   "id": "0df41b57-1b4c-493b-b5e1-de9700d41c52",
   "metadata": {},
   "outputs": [
    {
     "data": {
      "application/javascript": "\n            setTimeout(function() {\n                var nbb_cell_id = 73;\n                var nbb_unformatted_code = \"def get_tendency(dataframe):\\n    imoniu_pav = dataframe.obj_pav.unique().tolist()\\n    dict_ = {}\\n    for name in imoniu_pav:\\n        # print(name)\\n        try:\\n            temp_df = dataframe[dataframe['obj_pav'] == name ].reset_index()\\n            if (temp_df['kapitalo_pelno_suma'][1] - temp_df['kapitalo_pelno_suma'][0] ) > 0:\\n                result = ('Teigiama tendencija')\\n            if  (temp_df['kapitalo_pelno_suma'][1] - temp_df['kapitalo_pelno_suma'][0] ) < 0: \\n                result = ('Neigiama tendencija')\\n            if (temp_df['kapitalo_pelno_suma'][1] - temp_df['kapitalo_pelno_suma'][0] ) == 0:\\n                result =('Poky\\u010dio nebuvo')\\n               \\n        except:\\n            result = ('Truksta duomenu')\\n        dict_.update({name:result})\\n    return dict_\\n      \\n    \";\n                var nbb_formatted_code = \"def get_tendency(dataframe):\\n    imoniu_pav = dataframe.obj_pav.unique().tolist()\\n    dict_ = {}\\n    for name in imoniu_pav:\\n        # print(name)\\n        try:\\n            temp_df = dataframe[dataframe[\\\"obj_pav\\\"] == name].reset_index()\\n            if (\\n                temp_df[\\\"kapitalo_pelno_suma\\\"][1] - temp_df[\\\"kapitalo_pelno_suma\\\"][0]\\n            ) > 0:\\n                result = \\\"Teigiama tendencija\\\"\\n            if (\\n                temp_df[\\\"kapitalo_pelno_suma\\\"][1] - temp_df[\\\"kapitalo_pelno_suma\\\"][0]\\n            ) < 0:\\n                result = \\\"Neigiama tendencija\\\"\\n            if (\\n                temp_df[\\\"kapitalo_pelno_suma\\\"][1] - temp_df[\\\"kapitalo_pelno_suma\\\"][0]\\n            ) == 0:\\n                result = \\\"Poky\\u010dio nebuvo\\\"\\n\\n        except:\\n            result = \\\"Truksta duomenu\\\"\\n        dict_.update({name: result})\\n    return dict_\";\n                var nbb_cells = Jupyter.notebook.get_cells();\n                for (var i = 0; i < nbb_cells.length; ++i) {\n                    if (nbb_cells[i].input_prompt_number == nbb_cell_id) {\n                        if (nbb_cells[i].get_text() == nbb_unformatted_code) {\n                             nbb_cells[i].set_text(nbb_formatted_code);\n                        }\n                        break;\n                    }\n                }\n            }, 500);\n            ",
      "text/plain": [
       "<IPython.core.display.Javascript object>"
      ]
     },
     "metadata": {},
     "output_type": "display_data"
    }
   ],
   "source": [
    "def get_tendency(dataframe):\n",
    "    imoniu_pav = dataframe.obj_pav.unique().tolist()\n",
    "    dict_ = {}\n",
    "    for name in imoniu_pav:\n",
    "        # print(name)\n",
    "        try:\n",
    "            temp_df = dataframe[dataframe['obj_pav'] == name ].reset_index()\n",
    "            if (temp_df['kapitalo_pelno_suma'][1] - temp_df['kapitalo_pelno_suma'][0] ) > 0:\n",
    "                result = ('Teigiama tendencija')\n",
    "            if  (temp_df['kapitalo_pelno_suma'][1] - temp_df['kapitalo_pelno_suma'][0] ) < 0: \n",
    "                result = ('Neigiama tendencija')\n",
    "            if (temp_df['kapitalo_pelno_suma'][1] - temp_df['kapitalo_pelno_suma'][0] ) == 0:\n",
    "                result =('Pokyčio nebuvo')\n",
    "               \n",
    "        except:\n",
    "            result = ('Truksta duomenu')\n",
    "        dict_.update({name:result})\n",
    "    return dict_\n",
    "      \n",
    "    \n"
   ]
  },
  {
   "cell_type": "code",
   "execution_count": 74,
   "id": "ad4c2d6b-3953-4809-8f82-7b24fa2b8428",
   "metadata": {
    "tags": []
   },
   "outputs": [
    {
     "data": {
      "application/javascript": "\n            setTimeout(function() {\n                var nbb_cell_id = 74;\n                var nbb_unformatted_code = \"# tai tikrai n\\u0117ra pats optimaliausias sprendimas (u\\u017etruka ~15 minu\\u010di\\u0173 kol sukuriamas rinkinys), ta\\u010diau veikia kuo puikiausiai :) \\n\\n# del sios priezasties, uzkomentuoju apacioje esanti koda, ta\\u010diau i\\u0161saugau gaut\\u0105 duomen\\u0173 rinkin\\u012f su priskirtu nauju po\\u017eymiu.\\n\\n# dict_for_mapping = get_tendency(sujungtos_ataskaitos)\\n# sujungtos_ataskaitos[\\\"tendencija\\\"] = sujungtos_ataskaitos[\\\"obj_pav\\\"].map(dict_for_mapping)\\n# # sujungtos_ataskaitos.to_csv('bendras_duomenu_rinkinys_su_tendencija.csv')\";\n                var nbb_formatted_code = \"# tai tikrai n\\u0117ra pats optimaliausias sprendimas (u\\u017etruka ~15 minu\\u010di\\u0173 kol sukuriamas rinkinys), ta\\u010diau veikia kuo puikiausiai :)\\n\\n# del sios priezasties, uzkomentuoju apacioje esanti koda, ta\\u010diau i\\u0161saugau gaut\\u0105 duomen\\u0173 rinkin\\u012f su priskirtu nauju po\\u017eymiu.\\n\\n# dict_for_mapping = get_tendency(sujungtos_ataskaitos)\\n# sujungtos_ataskaitos[\\\"tendencija\\\"] = sujungtos_ataskaitos[\\\"obj_pav\\\"].map(dict_for_mapping)\\n# # sujungtos_ataskaitos.to_csv('bendras_duomenu_rinkinys_su_tendencija.csv')\";\n                var nbb_cells = Jupyter.notebook.get_cells();\n                for (var i = 0; i < nbb_cells.length; ++i) {\n                    if (nbb_cells[i].input_prompt_number == nbb_cell_id) {\n                        if (nbb_cells[i].get_text() == nbb_unformatted_code) {\n                             nbb_cells[i].set_text(nbb_formatted_code);\n                        }\n                        break;\n                    }\n                }\n            }, 500);\n            ",
      "text/plain": [
       "<IPython.core.display.Javascript object>"
      ]
     },
     "metadata": {},
     "output_type": "display_data"
    }
   ],
   "source": [
    "# tai tikrai nėra pats optimaliausias sprendimas (užtruka ~15 minučių kol sukuriamas rinkinys), tačiau veikia kuo puikiausiai :) \n",
    "\n",
    "# del sios priezasties, uzkomentuoju apacioje esanti koda, tačiau išsaugau gautą duomenų rinkinį su priskirtu nauju požymiu.\n",
    "\n",
    "# dict_for_mapping = get_tendency(sujungtos_ataskaitos)\n",
    "# sujungtos_ataskaitos[\"tendencija\"] = sujungtos_ataskaitos[\"obj_pav\"].map(dict_for_mapping)\n",
    "# # sujungtos_ataskaitos.to_csv('bendras_duomenu_rinkinys_su_tendencija.csv')"
   ]
  },
  {
   "cell_type": "code",
   "execution_count": 75,
   "id": "7ed0958d-6dc6-4efb-b322-2bce61f5e32d",
   "metadata": {},
   "outputs": [
    {
     "data": {
      "application/javascript": "\n            setTimeout(function() {\n                var nbb_cell_id = 75;\n                var nbb_unformatted_code = \"# sukurtame rinkinyje yra 106702 unikalios reik\\u0161m\\u0117s, kuri\\u0173 skai\\u010dius sutampa su unikaliais \\u012fmoni\\u0173 pavadinimais pagrindiniame duomen\\u0173 rinkinyje.\\n\\n# len(dict_for_mapping) == sujungtos_ataskaitos['obj_pav'].unique().size\";\n                var nbb_formatted_code = \"# sukurtame rinkinyje yra 106702 unikalios reik\\u0161m\\u0117s, kuri\\u0173 skai\\u010dius sutampa su unikaliais \\u012fmoni\\u0173 pavadinimais pagrindiniame duomen\\u0173 rinkinyje.\\n\\n# len(dict_for_mapping) == sujungtos_ataskaitos['obj_pav'].unique().size\";\n                var nbb_cells = Jupyter.notebook.get_cells();\n                for (var i = 0; i < nbb_cells.length; ++i) {\n                    if (nbb_cells[i].input_prompt_number == nbb_cell_id) {\n                        if (nbb_cells[i].get_text() == nbb_unformatted_code) {\n                             nbb_cells[i].set_text(nbb_formatted_code);\n                        }\n                        break;\n                    }\n                }\n            }, 500);\n            ",
      "text/plain": [
       "<IPython.core.display.Javascript object>"
      ]
     },
     "metadata": {},
     "output_type": "display_data"
    }
   ],
   "source": [
    "# sukurtame rinkinyje yra 106702 unikalios reikšmės, kurių skaičius sutampa su unikaliais įmonių pavadinimais pagrindiniame duomenų rinkinyje.\n",
    "\n",
    "# len(dict_for_mapping) == sujungtos_ataskaitos['obj_pav'].unique().size"
   ]
  },
  {
   "attachments": {
    "576a7afa-6e00-4e7c-9e86-7a99cce3a787.png": {
     "image/png": "[encoded data removed]"
    }
   },
   "cell_type": "markdown",
   "id": "5674566b-dfd4-400e-8c4a-c3479a5a2ea1",
   "metadata": {},
   "source": [
    "![image.png](attachment:576a7afa-6e00-4e7c-9e86-7a99cce3a787.png)"
   ]
  },
  {
   "cell_type": "code",
   "execution_count": 76,
   "id": "1d8f3c9b-9169-40b6-be5b-110b8e688740",
   "metadata": {},
   "outputs": [
    {
     "data": {
      "application/javascript": "\n            setTimeout(function() {\n                var nbb_cell_id = 76;\n                var nbb_unformatted_code = \"sujungtos_ataskaitos = pd.read_csv('bendras_duomenu_rinkinys_su_tendencija.csv', index_col=False).drop('Unnamed: 0',axis=1)\";\n                var nbb_formatted_code = \"sujungtos_ataskaitos = pd.read_csv(\\n    \\\"bendras_duomenu_rinkinys_su_tendencija.csv\\\", index_col=False\\n).drop(\\\"Unnamed: 0\\\", axis=1)\";\n                var nbb_cells = Jupyter.notebook.get_cells();\n                for (var i = 0; i < nbb_cells.length; ++i) {\n                    if (nbb_cells[i].input_prompt_number == nbb_cell_id) {\n                        if (nbb_cells[i].get_text() == nbb_unformatted_code) {\n                             nbb_cells[i].set_text(nbb_formatted_code);\n                        }\n                        break;\n                    }\n                }\n            }, 500);\n            ",
      "text/plain": [
       "<IPython.core.display.Javascript object>"
      ]
     },
     "metadata": {},
     "output_type": "display_data"
    }
   ],
   "source": [
    "sujungtos_ataskaitos = pd.read_csv('bendras_duomenu_rinkinys_su_tendencija.csv', index_col=False).drop('Unnamed: 0',axis=1)"
   ]
  },
  {
   "cell_type": "code",
   "execution_count": 77,
   "id": "54cff8f2-ed61-4ae9-8d1a-25afff98796e",
   "metadata": {},
   "outputs": [
    {
     "data": {
      "image/png": "[encoded data removed]",
      "text/plain": [
       "<Figure size 640x480 with 1 Axes>"
      ]
     },
     "metadata": {},
     "output_type": "display_data"
    },
    {
     "data": {
      "application/javascript": "\n            setTimeout(function() {\n                var nbb_cell_id = 77;\n                var nbb_unformatted_code = \"sujungtos_ataskaitos[sujungtos_ataskaitos['df_year'] == 2021].groupby('tendencija').count()['obj_pav'].plot(kind='bar')\\nplt.title('Grynojo Pelno ir Nuosavo Kapitalo pokytis `20 ir `21 metais \\\\n')\\nplt.xlabel(\\\"\\\")\\nplt.ylabel('Skai\\u010dius')\\nplt.xticks(rotation = 45);\";\n                var nbb_formatted_code = \"sujungtos_ataskaitos[sujungtos_ataskaitos[\\\"df_year\\\"] == 2021].groupby(\\n    \\\"tendencija\\\"\\n).count()[\\\"obj_pav\\\"].plot(kind=\\\"bar\\\")\\nplt.title(\\\"Grynojo Pelno ir Nuosavo Kapitalo pokytis `20 ir `21 metais \\\\n\\\")\\nplt.xlabel(\\\"\\\")\\nplt.ylabel(\\\"Skai\\u010dius\\\")\\nplt.xticks(rotation=45)\";\n                var nbb_cells = Jupyter.notebook.get_cells();\n                for (var i = 0; i < nbb_cells.length; ++i) {\n                    if (nbb_cells[i].input_prompt_number == nbb_cell_id) {\n                        if (nbb_cells[i].get_text() == nbb_unformatted_code) {\n                             nbb_cells[i].set_text(nbb_formatted_code);\n                        }\n                        break;\n                    }\n                }\n            }, 500);\n            ",
      "text/plain": [
       "<IPython.core.display.Javascript object>"
      ]
     },
     "metadata": {},
     "output_type": "display_data"
    }
   ],
   "source": [
    "sujungtos_ataskaitos[sujungtos_ataskaitos['df_year'] == 2021].groupby('tendencija').count()['obj_pav'].plot(kind='bar')\n",
    "plt.title('Grynojo Pelno ir Nuosavo Kapitalo pokytis `20 ir `21 metais \\n')\n",
    "plt.xlabel(\"\")\n",
    "plt.ylabel('Skaičius')\n",
    "plt.xticks(rotation = 45);"
   ]
  },
  {
   "cell_type": "markdown",
   "id": "88a93acd-89c3-449d-9c97-206cbcd1a0d9",
   "metadata": {},
   "source": [
    "## 13. Surasti UAB ir MB įmones, kurios 2020 vykdė veiklą, o 2021 - bankrutavo. Bankrutavusių įmonių statusai: “Bankrutavęs”, “Bankrutuojantis”, “Išregistruotas”, “Inicijuojamas likvidavimas”, “Likviduojamas”, “Likviduojamas dėl bankroto”. Toliau veiklą vykdanti įmonė pažymėta \"Teisinis stat neįregistruotas\" statusu. Kokia bankrutavusių įmonių “nuosavas_kapitalas”suma 2021 metais? Kokia bankrutavusių įmonių “grynasis_pelnas” suma 2021 metais? Palyginti šias sumas su veikiančių įmonių atitinkamomis sumomis.\n",
    "\n",
    "### Ats 1. Surasti UAB ir MB įmones, kurios 2020 vykdė veiklą, o 2021 - bankrutavo.\n",
    "    'UAB \"Kesko Senukai Digital\"',\n",
    "    'Uždaroji akcinė bendrovė \"Agrovet\"',\n",
    "    'Uždaroji akcinė bendrovė \"Saulenė\"',\n",
    "     'Uždaroji akcinė bendrovė \"Pušis\"'"
   ]
  },
  {
   "cell_type": "code",
   "execution_count": 78,
   "id": "9f4a18c3-664a-4e96-8763-49feab53bb64",
   "metadata": {},
   "outputs": [
    {
     "data": {
      "text/plain": [
       "(190979, 22)"
      ]
     },
     "execution_count": 78,
     "metadata": {},
     "output_type": "execute_result"
    },
    {
     "data": {
      "application/javascript": "\n            setTimeout(function() {\n                var nbb_cell_id = 78;\n                var nbb_unformatted_code = \"# susikursiu du subset'us, kuriuose bus tik UAB ir MB imones, kad dirbti butu paprasciau\\nmask_balanso = (balanso_ataskaita['form_pav'] == 'Ma\\u017eoji bendrija') | (balanso_ataskaita['form_pav'] == 'U\\u017edaroji akcin\\u0117 bendrov\\u0117')\\n\\nbalanso_mb_uab_subset = balanso_ataskaita[mask_balanso].copy()\\nbalanso_mb_uab_subset.shape\";\n                var nbb_formatted_code = \"# susikursiu du subset'us, kuriuose bus tik UAB ir MB imones, kad dirbti butu paprasciau\\nmask_balanso = (balanso_ataskaita[\\\"form_pav\\\"] == \\\"Ma\\u017eoji bendrija\\\") | (\\n    balanso_ataskaita[\\\"form_pav\\\"] == \\\"U\\u017edaroji akcin\\u0117 bendrov\\u0117\\\"\\n)\\n\\nbalanso_mb_uab_subset = balanso_ataskaita[mask_balanso].copy()\\nbalanso_mb_uab_subset.shape\";\n                var nbb_cells = Jupyter.notebook.get_cells();\n                for (var i = 0; i < nbb_cells.length; ++i) {\n                    if (nbb_cells[i].input_prompt_number == nbb_cell_id) {\n                        if (nbb_cells[i].get_text() == nbb_unformatted_code) {\n                             nbb_cells[i].set_text(nbb_formatted_code);\n                        }\n                        break;\n                    }\n                }\n            }, 500);\n            ",
      "text/plain": [
       "<IPython.core.display.Javascript object>"
      ]
     },
     "metadata": {},
     "output_type": "display_data"
    }
   ],
   "source": [
    "# susikursiu du subset'us, kuriuose bus tik UAB ir MB imones, kad dirbti butu paprasciau\n",
    "mask_balanso = (balanso_ataskaita['form_pav'] == 'Mažoji bendrija') | (balanso_ataskaita['form_pav'] == 'Uždaroji akcinė bendrovė')\n",
    "\n",
    "balanso_mb_uab_subset = balanso_ataskaita[mask_balanso].copy()\n",
    "balanso_mb_uab_subset.shape"
   ]
  },
  {
   "cell_type": "code",
   "execution_count": 79,
   "id": "f3e12540-b16c-4354-a183-ae5b250799e6",
   "metadata": {},
   "outputs": [
    {
     "data": {
      "text/plain": [
       "(190976, 19)"
      ]
     },
     "execution_count": 79,
     "metadata": {},
     "output_type": "execute_result"
    },
    {
     "data": {
      "application/javascript": "\n            setTimeout(function() {\n                var nbb_cell_id = 79;\n                var nbb_unformatted_code = \"mask_pelno = (pelno_ataskaita['form_pav'] == 'Ma\\u017eoji bendrija') | (pelno_ataskaita['form_pav'] == 'U\\u017edaroji akcin\\u0117 bendrov\\u0117')\\n\\npelno_mb_uab_subset = pelno_ataskaita[mask_pelno].copy()\\npelno_mb_uab_subset.shape\";\n                var nbb_formatted_code = \"mask_pelno = (pelno_ataskaita[\\\"form_pav\\\"] == \\\"Ma\\u017eoji bendrija\\\") | (\\n    pelno_ataskaita[\\\"form_pav\\\"] == \\\"U\\u017edaroji akcin\\u0117 bendrov\\u0117\\\"\\n)\\n\\npelno_mb_uab_subset = pelno_ataskaita[mask_pelno].copy()\\npelno_mb_uab_subset.shape\";\n                var nbb_cells = Jupyter.notebook.get_cells();\n                for (var i = 0; i < nbb_cells.length; ++i) {\n                    if (nbb_cells[i].input_prompt_number == nbb_cell_id) {\n                        if (nbb_cells[i].get_text() == nbb_unformatted_code) {\n                             nbb_cells[i].set_text(nbb_formatted_code);\n                        }\n                        break;\n                    }\n                }\n            }, 500);\n            ",
      "text/plain": [
       "<IPython.core.display.Javascript object>"
      ]
     },
     "metadata": {},
     "output_type": "display_data"
    }
   ],
   "source": [
    "mask_pelno = (pelno_ataskaita['form_pav'] == 'Mažoji bendrija') | (pelno_ataskaita['form_pav'] == 'Uždaroji akcinė bendrovė')\n",
    "\n",
    "pelno_mb_uab_subset = pelno_ataskaita[mask_pelno].copy()\n",
    "pelno_mb_uab_subset.shape"
   ]
  },
  {
   "cell_type": "code",
   "execution_count": 80,
   "id": "8042fd8c-0d1c-4f8f-8a94-5a5925188cd4",
   "metadata": {},
   "outputs": [
    {
     "data": {
      "text/plain": [
       "Teisinis stat neįregistruotas    182234\n",
       "Išregistruotas                     4344\n",
       "Likviduojamas                      1544\n",
       "Likviduojamas dėl bankroto         1029\n",
       "Bankrutuojantis                     689\n",
       "Inicijuojamas likvidavimas          536\n",
       "Reorganizuojamas                    142\n",
       "Pertvarkomas                        120\n",
       "Bankrutavęs                         106\n",
       "Restruktūrizuojamas                  93\n",
       "Dalyvaujantis reorganizavime         74\n",
       "Dalyvaujantis atskyrime              50\n",
       "JA jung peržengiant 1 valst          12\n",
       "JA dal 1 valst ribas jung             6\n",
       "Name: stat_pav, dtype: int64"
      ]
     },
     "execution_count": 80,
     "metadata": {},
     "output_type": "execute_result"
    },
    {
     "data": {
      "application/javascript": "\n            setTimeout(function() {\n                var nbb_cell_id = 80;\n                var nbb_unformatted_code = \"balanso_mb_uab_subset.stat_pav.value_counts()\";\n                var nbb_formatted_code = \"balanso_mb_uab_subset.stat_pav.value_counts()\";\n                var nbb_cells = Jupyter.notebook.get_cells();\n                for (var i = 0; i < nbb_cells.length; ++i) {\n                    if (nbb_cells[i].input_prompt_number == nbb_cell_id) {\n                        if (nbb_cells[i].get_text() == nbb_unformatted_code) {\n                             nbb_cells[i].set_text(nbb_formatted_code);\n                        }\n                        break;\n                    }\n                }\n            }, 500);\n            ",
      "text/plain": [
       "<IPython.core.display.Javascript object>"
      ]
     },
     "metadata": {},
     "output_type": "display_data"
    }
   ],
   "source": [
    "balanso_mb_uab_subset.stat_pav.value_counts()"
   ]
  },
  {
   "cell_type": "code",
   "execution_count": 81,
   "id": "eefc5763-eeb8-4243-9663-e2250846c1fe",
   "metadata": {},
   "outputs": [
    {
     "data": {
      "text/plain": [
       "Teisinis stat neįregistruotas    182232\n",
       "Išregistruotas                     4344\n",
       "Likviduojamas                      1543\n",
       "Likviduojamas dėl bankroto         1029\n",
       "Bankrutuojantis                     689\n",
       "Inicijuojamas likvidavimas          536\n",
       "Reorganizuojamas                    142\n",
       "Pertvarkomas                        120\n",
       "Bankrutavęs                         106\n",
       "Restruktūrizuojamas                  93\n",
       "Dalyvaujantis reorganizavime         74\n",
       "Dalyvaujantis atskyrime              50\n",
       "JA jung peržengiant 1 valst          12\n",
       "JA dal 1 valst ribas jung             6\n",
       "Name: stat_pav, dtype: int64"
      ]
     },
     "execution_count": 81,
     "metadata": {},
     "output_type": "execute_result"
    },
    {
     "data": {
      "application/javascript": "\n            setTimeout(function() {\n                var nbb_cell_id = 81;\n                var nbb_unformatted_code = \"pelno_mb_uab_subset.stat_pav.value_counts()\";\n                var nbb_formatted_code = \"pelno_mb_uab_subset.stat_pav.value_counts()\";\n                var nbb_cells = Jupyter.notebook.get_cells();\n                for (var i = 0; i < nbb_cells.length; ++i) {\n                    if (nbb_cells[i].input_prompt_number == nbb_cell_id) {\n                        if (nbb_cells[i].get_text() == nbb_unformatted_code) {\n                             nbb_cells[i].set_text(nbb_formatted_code);\n                        }\n                        break;\n                    }\n                }\n            }, 500);\n            ",
      "text/plain": [
       "<IPython.core.display.Javascript object>"
      ]
     },
     "metadata": {},
     "output_type": "display_data"
    }
   ],
   "source": [
    "pelno_mb_uab_subset.stat_pav.value_counts()"
   ]
  },
  {
   "cell_type": "code",
   "execution_count": 82,
   "id": "51c9eeca-4873-43f0-a53e-4a935971615f",
   "metadata": {},
   "outputs": [
    {
     "data": {
      "application/javascript": "\n            setTimeout(function() {\n                var nbb_cell_id = 82;\n                var nbb_unformatted_code = \"#susikursiu binariny \\\"bankrutav\\u0119s\\\" stulpel\\u012f kiekviename i\\u0161 duomen\\u0173 masyv\\u0173. tai pad\\u0117s filtruoti ir lyginti reik\\u0161mes skirtingais metais\";\n                var nbb_formatted_code = \"# susikursiu binariny \\\"bankrutav\\u0119s\\\" stulpel\\u012f kiekviename i\\u0161 duomen\\u0173 masyv\\u0173. tai pad\\u0117s filtruoti ir lyginti reik\\u0161mes skirtingais metais\";\n                var nbb_cells = Jupyter.notebook.get_cells();\n                for (var i = 0; i < nbb_cells.length; ++i) {\n                    if (nbb_cells[i].input_prompt_number == nbb_cell_id) {\n                        if (nbb_cells[i].get_text() == nbb_unformatted_code) {\n                             nbb_cells[i].set_text(nbb_formatted_code);\n                        }\n                        break;\n                    }\n                }\n            }, 500);\n            ",
      "text/plain": [
       "<IPython.core.display.Javascript object>"
      ]
     },
     "metadata": {},
     "output_type": "display_data"
    }
   ],
   "source": [
    "#susikursiu binariny \"bankrutavęs\" stulpelį kiekviename iš duomenų masyvų. tai padės filtruoti ir lyginti reikšmes skirtingais metais"
   ]
  },
  {
   "cell_type": "code",
   "execution_count": 83,
   "id": "c2aebcaa-12fc-438c-8e06-89c9f8a7db1e",
   "metadata": {},
   "outputs": [
    {
     "data": {
      "application/javascript": "\n            setTimeout(function() {\n                var nbb_cell_id = 83;\n                var nbb_unformatted_code = \"def is_bankrupt(dataframe):\\n    bankroto_pav = [\\\"Bankrutav\\u0119s\\\", \\\"Bankrutuojantis\\\" ,\\\"I\\u0161registruotas\\\",\\\"Inicijuojamas likvidavimas\\\",\\\"Likviduojamas\\\",\\\"Likviduojamas d\\u0117l bankroto\\\"]\\n    \\n    if dataframe['stat_pav'] in bankroto_pav:\\n        return 1\\n    return 0\\n\\nbalanso_mb_uab_subset['yra_bankrutaves'] = balanso_mb_uab_subset.apply(is_bankrupt, axis=1)\";\n                var nbb_formatted_code = \"def is_bankrupt(dataframe):\\n    bankroto_pav = [\\n        \\\"Bankrutav\\u0119s\\\",\\n        \\\"Bankrutuojantis\\\",\\n        \\\"I\\u0161registruotas\\\",\\n        \\\"Inicijuojamas likvidavimas\\\",\\n        \\\"Likviduojamas\\\",\\n        \\\"Likviduojamas d\\u0117l bankroto\\\",\\n    ]\\n\\n    if dataframe[\\\"stat_pav\\\"] in bankroto_pav:\\n        return 1\\n    return 0\\n\\n\\nbalanso_mb_uab_subset[\\\"yra_bankrutaves\\\"] = balanso_mb_uab_subset.apply(\\n    is_bankrupt, axis=1\\n)\";\n                var nbb_cells = Jupyter.notebook.get_cells();\n                for (var i = 0; i < nbb_cells.length; ++i) {\n                    if (nbb_cells[i].input_prompt_number == nbb_cell_id) {\n                        if (nbb_cells[i].get_text() == nbb_unformatted_code) {\n                             nbb_cells[i].set_text(nbb_formatted_code);\n                        }\n                        break;\n                    }\n                }\n            }, 500);\n            ",
      "text/plain": [
       "<IPython.core.display.Javascript object>"
      ]
     },
     "metadata": {},
     "output_type": "display_data"
    }
   ],
   "source": [
    "def is_bankrupt(dataframe):\n",
    "    bankroto_pav = [\"Bankrutavęs\", \"Bankrutuojantis\" ,\"Išregistruotas\",\"Inicijuojamas likvidavimas\",\"Likviduojamas\",\"Likviduojamas dėl bankroto\"]\n",
    "    \n",
    "    if dataframe['stat_pav'] in bankroto_pav:\n",
    "        return 1\n",
    "    return 0\n",
    "\n",
    "balanso_mb_uab_subset['yra_bankrutaves'] = balanso_mb_uab_subset.apply(is_bankrupt, axis=1)"
   ]
  },
  {
   "cell_type": "code",
   "execution_count": 84,
   "id": "2989cb1a-9f71-4dfe-90f5-a727a161d9e0",
   "metadata": {},
   "outputs": [
    {
     "data": {
      "text/plain": [
       "Išregistruotas                4344\n",
       "Likviduojamas                 1544\n",
       "Likviduojamas dėl bankroto    1029\n",
       "Bankrutuojantis                689\n",
       "Inicijuojamas likvidavimas     536\n",
       "Bankrutavęs                    106\n",
       "Name: stat_pav, dtype: int64"
      ]
     },
     "execution_count": 84,
     "metadata": {},
     "output_type": "execute_result"
    },
    {
     "data": {
      "application/javascript": "\n            setTimeout(function() {\n                var nbb_cell_id = 84;\n                var nbb_unformatted_code = \"balanso_mb_uab_subset[balanso_mb_uab_subset['yra_bankrutaves'] == 1]['stat_pav'].value_counts()\";\n                var nbb_formatted_code = \"balanso_mb_uab_subset[balanso_mb_uab_subset[\\\"yra_bankrutaves\\\"] == 1][\\n    \\\"stat_pav\\\"\\n].value_counts()\";\n                var nbb_cells = Jupyter.notebook.get_cells();\n                for (var i = 0; i < nbb_cells.length; ++i) {\n                    if (nbb_cells[i].input_prompt_number == nbb_cell_id) {\n                        if (nbb_cells[i].get_text() == nbb_unformatted_code) {\n                             nbb_cells[i].set_text(nbb_formatted_code);\n                        }\n                        break;\n                    }\n                }\n            }, 500);\n            ",
      "text/plain": [
       "<IPython.core.display.Javascript object>"
      ]
     },
     "metadata": {},
     "output_type": "display_data"
    }
   ],
   "source": [
    "balanso_mb_uab_subset[balanso_mb_uab_subset['yra_bankrutaves'] == 1]['stat_pav'].value_counts()"
   ]
  },
  {
   "cell_type": "code",
   "execution_count": 85,
   "id": "ba53629d-3a24-424b-b4d5-fb937a939692",
   "metadata": {},
   "outputs": [
    {
     "data": {
      "text/plain": [
       "Teisinis stat neįregistruotas    182234\n",
       "Reorganizuojamas                    142\n",
       "Pertvarkomas                        120\n",
       "Restruktūrizuojamas                  93\n",
       "Dalyvaujantis reorganizavime         74\n",
       "Dalyvaujantis atskyrime              50\n",
       "JA jung peržengiant 1 valst          12\n",
       "JA dal 1 valst ribas jung             6\n",
       "Name: stat_pav, dtype: int64"
      ]
     },
     "execution_count": 85,
     "metadata": {},
     "output_type": "execute_result"
    },
    {
     "data": {
      "application/javascript": "\n            setTimeout(function() {\n                var nbb_cell_id = 85;\n                var nbb_unformatted_code = \"balanso_mb_uab_subset[balanso_mb_uab_subset['yra_bankrutaves'] != 1]['stat_pav'].value_counts()\";\n                var nbb_formatted_code = \"balanso_mb_uab_subset[balanso_mb_uab_subset[\\\"yra_bankrutaves\\\"] != 1][\\n    \\\"stat_pav\\\"\\n].value_counts()\";\n                var nbb_cells = Jupyter.notebook.get_cells();\n                for (var i = 0; i < nbb_cells.length; ++i) {\n                    if (nbb_cells[i].input_prompt_number == nbb_cell_id) {\n                        if (nbb_cells[i].get_text() == nbb_unformatted_code) {\n                             nbb_cells[i].set_text(nbb_formatted_code);\n                        }\n                        break;\n                    }\n                }\n            }, 500);\n            ",
      "text/plain": [
       "<IPython.core.display.Javascript object>"
      ]
     },
     "metadata": {},
     "output_type": "display_data"
    }
   ],
   "source": [
    "balanso_mb_uab_subset[balanso_mb_uab_subset['yra_bankrutaves'] != 1]['stat_pav'].value_counts()"
   ]
  },
  {
   "cell_type": "code",
   "execution_count": 86,
   "id": "b4ec4a37-85bd-4592-9b58-b63606eab3ea",
   "metadata": {},
   "outputs": [
    {
     "data": {
      "application/javascript": "\n            setTimeout(function() {\n                var nbb_cell_id = 86;\n                var nbb_unformatted_code = \"pelno_mb_uab_subset['yra_bankrutaves'] = pelno_mb_uab_subset.apply(is_bankrupt,axis=1)\";\n                var nbb_formatted_code = \"pelno_mb_uab_subset[\\\"yra_bankrutaves\\\"] = pelno_mb_uab_subset.apply(is_bankrupt, axis=1)\";\n                var nbb_cells = Jupyter.notebook.get_cells();\n                for (var i = 0; i < nbb_cells.length; ++i) {\n                    if (nbb_cells[i].input_prompt_number == nbb_cell_id) {\n                        if (nbb_cells[i].get_text() == nbb_unformatted_code) {\n                             nbb_cells[i].set_text(nbb_formatted_code);\n                        }\n                        break;\n                    }\n                }\n            }, 500);\n            ",
      "text/plain": [
       "<IPython.core.display.Javascript object>"
      ]
     },
     "metadata": {},
     "output_type": "display_data"
    }
   ],
   "source": [
    "pelno_mb_uab_subset['yra_bankrutaves'] = pelno_mb_uab_subset.apply(is_bankrupt,axis=1)"
   ]
  },
  {
   "cell_type": "code",
   "execution_count": 87,
   "id": "7a59efce-eaf2-4f7c-8e9a-5ddd0b1d6579",
   "metadata": {},
   "outputs": [
    {
     "data": {
      "text/plain": [
       "8247"
      ]
     },
     "execution_count": 87,
     "metadata": {},
     "output_type": "execute_result"
    },
    {
     "data": {
      "application/javascript": "\n            setTimeout(function() {\n                var nbb_cell_id = 87;\n                var nbb_unformatted_code = \"pelno_mb_uab_subset[pelno_mb_uab_subset['yra_bankrutaves'] == 1]['stat_pav'].value_counts().sum()\";\n                var nbb_formatted_code = \"pelno_mb_uab_subset[pelno_mb_uab_subset[\\\"yra_bankrutaves\\\"] == 1][\\n    \\\"stat_pav\\\"\\n].value_counts().sum()\";\n                var nbb_cells = Jupyter.notebook.get_cells();\n                for (var i = 0; i < nbb_cells.length; ++i) {\n                    if (nbb_cells[i].input_prompt_number == nbb_cell_id) {\n                        if (nbb_cells[i].get_text() == nbb_unformatted_code) {\n                             nbb_cells[i].set_text(nbb_formatted_code);\n                        }\n                        break;\n                    }\n                }\n            }, 500);\n            ",
      "text/plain": [
       "<IPython.core.display.Javascript object>"
      ]
     },
     "metadata": {},
     "output_type": "display_data"
    }
   ],
   "source": [
    "pelno_mb_uab_subset[pelno_mb_uab_subset['yra_bankrutaves'] == 1]['stat_pav'].value_counts().sum()"
   ]
  },
  {
   "cell_type": "code",
   "execution_count": 88,
   "id": "b2cc41e7-d118-4bcf-bb28-b02fe96b800b",
   "metadata": {},
   "outputs": [
    {
     "data": {
      "text/plain": [
       "Teisinis stat neįregistruotas    182232\n",
       "Reorganizuojamas                    142\n",
       "Pertvarkomas                        120\n",
       "Restruktūrizuojamas                  93\n",
       "Dalyvaujantis reorganizavime         74\n",
       "Dalyvaujantis atskyrime              50\n",
       "JA jung peržengiant 1 valst          12\n",
       "JA dal 1 valst ribas jung             6\n",
       "Name: stat_pav, dtype: int64"
      ]
     },
     "execution_count": 88,
     "metadata": {},
     "output_type": "execute_result"
    },
    {
     "data": {
      "application/javascript": "\n            setTimeout(function() {\n                var nbb_cell_id = 88;\n                var nbb_unformatted_code = \"pelno_mb_uab_subset[pelno_mb_uab_subset['yra_bankrutaves'] != 1]['stat_pav'].value_counts()\";\n                var nbb_formatted_code = \"pelno_mb_uab_subset[pelno_mb_uab_subset[\\\"yra_bankrutaves\\\"] != 1][\\n    \\\"stat_pav\\\"\\n].value_counts()\";\n                var nbb_cells = Jupyter.notebook.get_cells();\n                for (var i = 0; i < nbb_cells.length; ++i) {\n                    if (nbb_cells[i].input_prompt_number == nbb_cell_id) {\n                        if (nbb_cells[i].get_text() == nbb_unformatted_code) {\n                             nbb_cells[i].set_text(nbb_formatted_code);\n                        }\n                        break;\n                    }\n                }\n            }, 500);\n            ",
      "text/plain": [
       "<IPython.core.display.Javascript object>"
      ]
     },
     "metadata": {},
     "output_type": "display_data"
    }
   ],
   "source": [
    "pelno_mb_uab_subset[pelno_mb_uab_subset['yra_bankrutaves'] != 1]['stat_pav'].value_counts()"
   ]
  },
  {
   "cell_type": "code",
   "execution_count": 89,
   "id": "bd8b440e-70b7-43a4-9cd0-6a5d7b8a5f67",
   "metadata": {},
   "outputs": [
    {
     "data": {
      "application/javascript": "\n            setTimeout(function() {\n                var nbb_cell_id = 89;\n                var nbb_unformatted_code = \"def bankrutavo_2021(dataframe):\\n    if (dataframe['df_year'] == 2021 and dataframe['yra_bankrutaves'] == 1):\\n        return 1\\n    return 0\\ndef vykde_veikla_2020(dataframe):\\n    if (dataframe['df_year'] == 2020 and dataframe['yra_bankrutaves'] == 0):\\n        return 1\\n    return 0\";\n                var nbb_formatted_code = \"def bankrutavo_2021(dataframe):\\n    if dataframe[\\\"df_year\\\"] == 2021 and dataframe[\\\"yra_bankrutaves\\\"] == 1:\\n        return 1\\n    return 0\\n\\n\\ndef vykde_veikla_2020(dataframe):\\n    if dataframe[\\\"df_year\\\"] == 2020 and dataframe[\\\"yra_bankrutaves\\\"] == 0:\\n        return 1\\n    return 0\";\n                var nbb_cells = Jupyter.notebook.get_cells();\n                for (var i = 0; i < nbb_cells.length; ++i) {\n                    if (nbb_cells[i].input_prompt_number == nbb_cell_id) {\n                        if (nbb_cells[i].get_text() == nbb_unformatted_code) {\n                             nbb_cells[i].set_text(nbb_formatted_code);\n                        }\n                        break;\n                    }\n                }\n            }, 500);\n            ",
      "text/plain": [
       "<IPython.core.display.Javascript object>"
      ]
     },
     "metadata": {},
     "output_type": "display_data"
    }
   ],
   "source": [
    "def bankrutavo_2021(dataframe):\n",
    "    if (dataframe['df_year'] == 2021 and dataframe['yra_bankrutaves'] == 1):\n",
    "        return 1\n",
    "    return 0\n",
    "def vykde_veikla_2020(dataframe):\n",
    "    if (dataframe['df_year'] == 2020 and dataframe['yra_bankrutaves'] == 0):\n",
    "        return 1\n",
    "    return 0\n"
   ]
  },
  {
   "cell_type": "code",
   "execution_count": 90,
   "id": "3da8260c-5f80-4bdd-bd88-df756f3a1844",
   "metadata": {},
   "outputs": [
    {
     "data": {
      "application/javascript": "\n            setTimeout(function() {\n                var nbb_cell_id = 90;\n                var nbb_unformatted_code = \"balanso_mb_uab_subset['bankrutavo_2021'] =balanso_mb_uab_subset.apply(bankrutavo_2021, axis=1)\\nbalanso_mb_uab_subset['vykde_veikla_2020'] = balanso_mb_uab_subset.apply(vykde_veikla_2020,axis=1)\\n\\npelno_mb_uab_subset['bankrutavo_2021'] =pelno_mb_uab_subset.apply(bankrutavo_2021, axis=1)\\npelno_mb_uab_subset['vykde_veikla_2020'] = pelno_mb_uab_subset.apply(vykde_veikla_2020,axis=1)\";\n                var nbb_formatted_code = \"balanso_mb_uab_subset[\\\"bankrutavo_2021\\\"] = balanso_mb_uab_subset.apply(\\n    bankrutavo_2021, axis=1\\n)\\nbalanso_mb_uab_subset[\\\"vykde_veikla_2020\\\"] = balanso_mb_uab_subset.apply(\\n    vykde_veikla_2020, axis=1\\n)\\n\\npelno_mb_uab_subset[\\\"bankrutavo_2021\\\"] = pelno_mb_uab_subset.apply(\\n    bankrutavo_2021, axis=1\\n)\\npelno_mb_uab_subset[\\\"vykde_veikla_2020\\\"] = pelno_mb_uab_subset.apply(\\n    vykde_veikla_2020, axis=1\\n)\";\n                var nbb_cells = Jupyter.notebook.get_cells();\n                for (var i = 0; i < nbb_cells.length; ++i) {\n                    if (nbb_cells[i].input_prompt_number == nbb_cell_id) {\n                        if (nbb_cells[i].get_text() == nbb_unformatted_code) {\n                             nbb_cells[i].set_text(nbb_formatted_code);\n                        }\n                        break;\n                    }\n                }\n            }, 500);\n            ",
      "text/plain": [
       "<IPython.core.display.Javascript object>"
      ]
     },
     "metadata": {},
     "output_type": "display_data"
    }
   ],
   "source": [
    "balanso_mb_uab_subset['bankrutavo_2021'] =balanso_mb_uab_subset.apply(bankrutavo_2021, axis=1)\n",
    "balanso_mb_uab_subset['vykde_veikla_2020'] = balanso_mb_uab_subset.apply(vykde_veikla_2020,axis=1)\n",
    "\n",
    "pelno_mb_uab_subset['bankrutavo_2021'] =pelno_mb_uab_subset.apply(bankrutavo_2021, axis=1)\n",
    "pelno_mb_uab_subset['vykde_veikla_2020'] = pelno_mb_uab_subset.apply(vykde_veikla_2020,axis=1)"
   ]
  },
  {
   "cell_type": "code",
   "execution_count": 91,
   "id": "fd599aec-e8b1-40b1-a674-0f985578185c",
   "metadata": {},
   "outputs": [
    {
     "data": {
      "text/plain": [
       "Teisinis stat neįregistruotas    84948\n",
       "Reorganizuojamas                    70\n",
       "Pertvarkomas                        46\n",
       "Restruktūrizuojamas                 44\n",
       "Dalyvaujantis reorganizavime        39\n",
       "Dalyvaujantis atskyrime             26\n",
       "JA jung peržengiant 1 valst          6\n",
       "JA dal 1 valst ribas jung            2\n",
       "Name: stat_pav, dtype: int64"
      ]
     },
     "execution_count": 91,
     "metadata": {},
     "output_type": "execute_result"
    },
    {
     "data": {
      "application/javascript": "\n            setTimeout(function() {\n                var nbb_cell_id = 91;\n                var nbb_unformatted_code = \"balanso_mb_uab_subset[(balanso_mb_uab_subset['bankrutavo_2021'] ==0 ) & (balanso_mb_uab_subset['vykde_veikla_2020'] == 1)]['stat_pav'].value_counts()\";\n                var nbb_formatted_code = \"balanso_mb_uab_subset[\\n    (balanso_mb_uab_subset[\\\"bankrutavo_2021\\\"] == 0)\\n    & (balanso_mb_uab_subset[\\\"vykde_veikla_2020\\\"] == 1)\\n][\\\"stat_pav\\\"].value_counts()\";\n                var nbb_cells = Jupyter.notebook.get_cells();\n                for (var i = 0; i < nbb_cells.length; ++i) {\n                    if (nbb_cells[i].input_prompt_number == nbb_cell_id) {\n                        if (nbb_cells[i].get_text() == nbb_unformatted_code) {\n                             nbb_cells[i].set_text(nbb_formatted_code);\n                        }\n                        break;\n                    }\n                }\n            }, 500);\n            ",
      "text/plain": [
       "<IPython.core.display.Javascript object>"
      ]
     },
     "metadata": {},
     "output_type": "display_data"
    }
   ],
   "source": [
    "balanso_mb_uab_subset[(balanso_mb_uab_subset['bankrutavo_2021'] ==0 ) & (balanso_mb_uab_subset['vykde_veikla_2020'] == 1)]['stat_pav'].value_counts()"
   ]
  },
  {
   "cell_type": "code",
   "execution_count": 92,
   "id": "ae65259b-0be0-4b7c-9c71-e1c756f78965",
   "metadata": {},
   "outputs": [
    {
     "data": {
      "text/plain": [
       "Išregistruotas                1857\n",
       "Likviduojamas                  826\n",
       "Likviduojamas dėl bankroto     476\n",
       "Bankrutuojantis                325\n",
       "Inicijuojamas likvidavimas     309\n",
       "Bankrutavęs                     70\n",
       "Name: stat_pav, dtype: int64"
      ]
     },
     "execution_count": 92,
     "metadata": {},
     "output_type": "execute_result"
    },
    {
     "data": {
      "application/javascript": "\n            setTimeout(function() {\n                var nbb_cell_id = 92;\n                var nbb_unformatted_code = \"balanso_mb_uab_subset[(balanso_mb_uab_subset['bankrutavo_2021'] ==1 )]['stat_pav'].value_counts()\";\n                var nbb_formatted_code = \"balanso_mb_uab_subset[(balanso_mb_uab_subset[\\\"bankrutavo_2021\\\"] == 1)][\\n    \\\"stat_pav\\\"\\n].value_counts()\";\n                var nbb_cells = Jupyter.notebook.get_cells();\n                for (var i = 0; i < nbb_cells.length; ++i) {\n                    if (nbb_cells[i].input_prompt_number == nbb_cell_id) {\n                        if (nbb_cells[i].get_text() == nbb_unformatted_code) {\n                             nbb_cells[i].set_text(nbb_formatted_code);\n                        }\n                        break;\n                    }\n                }\n            }, 500);\n            ",
      "text/plain": [
       "<IPython.core.display.Javascript object>"
      ]
     },
     "metadata": {},
     "output_type": "display_data"
    }
   ],
   "source": [
    "balanso_mb_uab_subset[(balanso_mb_uab_subset['bankrutavo_2021'] ==1 )]['stat_pav'].value_counts()"
   ]
  },
  {
   "cell_type": "code",
   "execution_count": 93,
   "id": "459a14ce-7b56-45f4-a0e8-0f3e517ff206",
   "metadata": {},
   "outputs": [
    {
     "data": {
      "application/javascript": "\n            setTimeout(function() {\n                var nbb_cell_id = 93;\n                var nbb_unformatted_code = \"vykde_veikla_2020_list = balanso_mb_uab_subset[balanso_mb_uab_subset['vykde_veikla_2020'] == 1]['obj_pav'].unique().tolist()\\nbankrutavo_2021_list = balanso_mb_uab_subset[balanso_mb_uab_subset['bankrutavo_2021'] == 1]['obj_pav'].unique().tolist()\";\n                var nbb_formatted_code = \"vykde_veikla_2020_list = (\\n    balanso_mb_uab_subset[balanso_mb_uab_subset[\\\"vykde_veikla_2020\\\"] == 1][\\\"obj_pav\\\"]\\n    .unique()\\n    .tolist()\\n)\\nbankrutavo_2021_list = (\\n    balanso_mb_uab_subset[balanso_mb_uab_subset[\\\"bankrutavo_2021\\\"] == 1][\\\"obj_pav\\\"]\\n    .unique()\\n    .tolist()\\n)\";\n                var nbb_cells = Jupyter.notebook.get_cells();\n                for (var i = 0; i < nbb_cells.length; ++i) {\n                    if (nbb_cells[i].input_prompt_number == nbb_cell_id) {\n                        if (nbb_cells[i].get_text() == nbb_unformatted_code) {\n                             nbb_cells[i].set_text(nbb_formatted_code);\n                        }\n                        break;\n                    }\n                }\n            }, 500);\n            ",
      "text/plain": [
       "<IPython.core.display.Javascript object>"
      ]
     },
     "metadata": {},
     "output_type": "display_data"
    }
   ],
   "source": [
    "vykde_veikla_2020_list = balanso_mb_uab_subset[balanso_mb_uab_subset['vykde_veikla_2020'] == 1]['obj_pav'].unique().tolist()\n",
    "bankrutavo_2021_list = balanso_mb_uab_subset[balanso_mb_uab_subset['bankrutavo_2021'] == 1]['obj_pav'].unique().tolist()"
   ]
  },
  {
   "cell_type": "code",
   "execution_count": 94,
   "id": "1bea7fdc-6397-4f1f-b507-cbf1aefc11d9",
   "metadata": {},
   "outputs": [
    {
     "data": {
      "application/javascript": "\n            setTimeout(function() {\n                var nbb_cell_id = 94;\n                var nbb_unformatted_code = \"atsakymas = [i for i in vykde_veikla_2020_list if i in bankrutavo_2021_list]\";\n                var nbb_formatted_code = \"atsakymas = [i for i in vykde_veikla_2020_list if i in bankrutavo_2021_list]\";\n                var nbb_cells = Jupyter.notebook.get_cells();\n                for (var i = 0; i < nbb_cells.length; ++i) {\n                    if (nbb_cells[i].input_prompt_number == nbb_cell_id) {\n                        if (nbb_cells[i].get_text() == nbb_unformatted_code) {\n                             nbb_cells[i].set_text(nbb_formatted_code);\n                        }\n                        break;\n                    }\n                }\n            }, 500);\n            ",
      "text/plain": [
       "<IPython.core.display.Javascript object>"
      ]
     },
     "metadata": {},
     "output_type": "display_data"
    }
   ],
   "source": [
    "atsakymas = [i for i in vykde_veikla_2020_list if i in bankrutavo_2021_list]"
   ]
  },
  {
   "cell_type": "code",
   "execution_count": 95,
   "id": "a5ddb5e5-4f83-40c9-9712-4c9cf36c6674",
   "metadata": {},
   "outputs": [
    {
     "data": {
      "text/plain": [
       "['UAB \"Kesko Senukai Digital\"',\n",
       " 'Uždaroji akcinė bendrovė \"Agrovet\"',\n",
       " 'Uždaroji akcinė bendrovė \"Saulenė\"',\n",
       " 'Uždaroji akcinė bendrovė \"Pušis\"']"
      ]
     },
     "execution_count": 95,
     "metadata": {},
     "output_type": "execute_result"
    },
    {
     "data": {
      "application/javascript": "\n            setTimeout(function() {\n                var nbb_cell_id = 95;\n                var nbb_unformatted_code = \"atsakymas\";\n                var nbb_formatted_code = \"atsakymas\";\n                var nbb_cells = Jupyter.notebook.get_cells();\n                for (var i = 0; i < nbb_cells.length; ++i) {\n                    if (nbb_cells[i].input_prompt_number == nbb_cell_id) {\n                        if (nbb_cells[i].get_text() == nbb_unformatted_code) {\n                             nbb_cells[i].set_text(nbb_formatted_code);\n                        }\n                        break;\n                    }\n                }\n            }, 500);\n            ",
      "text/plain": [
       "<IPython.core.display.Javascript object>"
      ]
     },
     "metadata": {},
     "output_type": "display_data"
    }
   ],
   "source": [
    "atsakymas"
   ]
  },
  {
   "cell_type": "markdown",
   "id": "0bab3eb9-71cc-4d49-b9d9-dc4fa7b75c09",
   "metadata": {},
   "source": [
    "### 13.2 Kokia bankrutavusių įmonių “nuosavas_kapitalas”suma 2021 metais? Kokia bankrutavusių įmonių “grynasis_pelnas” suma 2021 metais? Palyginti šias sumas su veikiančių įmonių atitinkamomis sumomis\n",
    "### ats: 13.2\n",
    "* bankrutavusių įmonių “nuosavas_kapitalas” suma 2021 metais = 452059119.80654764\n",
    "* bankrutavusių įmonių “grynasis_pelnas” suma 2021 metais = -139702616.41369045 \n",
    "* veikiančių įmonių “nuosavas_kapitalas” suma 2021 metais = 54547149970.47768\n",
    "* veikiančių įmonių “grynasis_pelnas” suma 2021 metais = 5278014541.534724\n",
    "\n",
    "lyginant sumas, matome, kad grynasis pelnas turi itin didelę įtaką. :)"
   ]
  },
  {
   "cell_type": "code",
   "execution_count": 96,
   "id": "37f5f784-2d8e-454a-bed0-338df38cdd30",
   "metadata": {},
   "outputs": [
    {
     "data": {
      "text/plain": [
       "452059119.80654764"
      ]
     },
     "execution_count": 96,
     "metadata": {},
     "output_type": "execute_result"
    },
    {
     "data": {
      "application/javascript": "\n            setTimeout(function() {\n                var nbb_cell_id = 96;\n                var nbb_unformatted_code = \"# i\\u0161sirenku tik bankrutavusias \\u012fmones 2021 metais, kadangi \\u012fra\\u0161ai pasikartoja, o ties kiekvienu \\u012fra\\u0161u nuosavas \\u012fmon\\u0117s kapiatalas skiriasi - imu vidurk\\u012f. kur\\u012f susumuoju.\\n\\nbalanso_mb_uab_subset[balanso_mb_uab_subset['bankrutavo_2021'] == 1].groupby('obj_pav').mean()['nuosavas_kapitalas'].sum()\";\n                var nbb_formatted_code = \"# i\\u0161sirenku tik bankrutavusias \\u012fmones 2021 metais, kadangi \\u012fra\\u0161ai pasikartoja, o ties kiekvienu \\u012fra\\u0161u nuosavas \\u012fmon\\u0117s kapiatalas skiriasi - imu vidurk\\u012f. kur\\u012f susumuoju.\\n\\nbalanso_mb_uab_subset[balanso_mb_uab_subset[\\\"bankrutavo_2021\\\"] == 1].groupby(\\n    \\\"obj_pav\\\"\\n).mean()[\\\"nuosavas_kapitalas\\\"].sum()\";\n                var nbb_cells = Jupyter.notebook.get_cells();\n                for (var i = 0; i < nbb_cells.length; ++i) {\n                    if (nbb_cells[i].input_prompt_number == nbb_cell_id) {\n                        if (nbb_cells[i].get_text() == nbb_unformatted_code) {\n                             nbb_cells[i].set_text(nbb_formatted_code);\n                        }\n                        break;\n                    }\n                }\n            }, 500);\n            ",
      "text/plain": [
       "<IPython.core.display.Javascript object>"
      ]
     },
     "metadata": {},
     "output_type": "display_data"
    }
   ],
   "source": [
    "# išsirenku tik bankrutavusias įmones 2021 metais, kadangi įrašai pasikartoja, o ties kiekvienu įrašu nuosavas įmonės kapiatalas skiriasi - imu vidurkį. kurį susumuoju.\n",
    "\n",
    "balanso_mb_uab_subset[balanso_mb_uab_subset['bankrutavo_2021'] == 1].groupby('obj_pav').mean()['nuosavas_kapitalas'].sum()"
   ]
  },
  {
   "cell_type": "code",
   "execution_count": 97,
   "id": "904fbf2d-1872-4fcf-a3b2-29c2e5071980",
   "metadata": {},
   "outputs": [
    {
     "data": {
      "text/plain": [
       "-139702616.41369045"
      ]
     },
     "execution_count": 97,
     "metadata": {},
     "output_type": "execute_result"
    },
    {
     "data": {
      "application/javascript": "\n            setTimeout(function() {\n                var nbb_cell_id = 97;\n                var nbb_unformatted_code = \"# taip pat, tik su pelnu\\npelno_mb_uab_subset[(pelno_mb_uab_subset['bankrutavo_2021'] == 1)].groupby('obj_pav').mean()['grynasis_pelnas'].sum()\";\n                var nbb_formatted_code = \"# taip pat, tik su pelnu\\npelno_mb_uab_subset[(pelno_mb_uab_subset[\\\"bankrutavo_2021\\\"] == 1)].groupby(\\n    \\\"obj_pav\\\"\\n).mean()[\\\"grynasis_pelnas\\\"].sum()\";\n                var nbb_cells = Jupyter.notebook.get_cells();\n                for (var i = 0; i < nbb_cells.length; ++i) {\n                    if (nbb_cells[i].input_prompt_number == nbb_cell_id) {\n                        if (nbb_cells[i].get_text() == nbb_unformatted_code) {\n                             nbb_cells[i].set_text(nbb_formatted_code);\n                        }\n                        break;\n                    }\n                }\n            }, 500);\n            ",
      "text/plain": [
       "<IPython.core.display.Javascript object>"
      ]
     },
     "metadata": {},
     "output_type": "display_data"
    }
   ],
   "source": [
    "# taip pat, tik su pelnu\n",
    "pelno_mb_uab_subset[(pelno_mb_uab_subset['bankrutavo_2021'] == 1)].groupby('obj_pav').mean()['grynasis_pelnas'].sum()"
   ]
  },
  {
   "cell_type": "code",
   "execution_count": 98,
   "id": "c1a799f2-2811-4e5b-b7f5-4202c0c44ab8",
   "metadata": {},
   "outputs": [
    {
     "data": {
      "text/plain": [
       "54547149970.47768"
      ]
     },
     "execution_count": 98,
     "metadata": {},
     "output_type": "execute_result"
    },
    {
     "data": {
      "application/javascript": "\n            setTimeout(function() {\n                var nbb_cell_id = 98;\n                var nbb_unformatted_code = \"balanso_mb_uab_subset[(balanso_mb_uab_subset['bankrutavo_2021'] == 0\\n                      ) & (balanso_mb_uab_subset['df_year'] == 2021\\n                          ) & (balanso_mb_uab_subset['stat_pav'] == \\\"Teisinis stat ne\\u012fregistruotas\\\" )].groupby('obj_pav').mean()['nuosavas_kapitalas'].sum()\";\n                var nbb_formatted_code = \"balanso_mb_uab_subset[\\n    (balanso_mb_uab_subset[\\\"bankrutavo_2021\\\"] == 0)\\n    & (balanso_mb_uab_subset[\\\"df_year\\\"] == 2021)\\n    & (balanso_mb_uab_subset[\\\"stat_pav\\\"] == \\\"Teisinis stat ne\\u012fregistruotas\\\")\\n].groupby(\\\"obj_pav\\\").mean()[\\\"nuosavas_kapitalas\\\"].sum()\";\n                var nbb_cells = Jupyter.notebook.get_cells();\n                for (var i = 0; i < nbb_cells.length; ++i) {\n                    if (nbb_cells[i].input_prompt_number == nbb_cell_id) {\n                        if (nbb_cells[i].get_text() == nbb_unformatted_code) {\n                             nbb_cells[i].set_text(nbb_formatted_code);\n                        }\n                        break;\n                    }\n                }\n            }, 500);\n            ",
      "text/plain": [
       "<IPython.core.display.Javascript object>"
      ]
     },
     "metadata": {},
     "output_type": "display_data"
    }
   ],
   "source": [
    "balanso_mb_uab_subset[(balanso_mb_uab_subset['bankrutavo_2021'] == 0\n",
    "                      ) & (balanso_mb_uab_subset['df_year'] == 2021\n",
    "                          ) & (balanso_mb_uab_subset['stat_pav'] == \"Teisinis stat neįregistruotas\" )].groupby('obj_pav').mean()['nuosavas_kapitalas'].sum()"
   ]
  },
  {
   "cell_type": "code",
   "execution_count": 99,
   "id": "7950e146-f9e1-4a7b-b596-d3c0350bc92f",
   "metadata": {},
   "outputs": [
    {
     "data": {
      "text/plain": [
       "5278014541.534724"
      ]
     },
     "execution_count": 99,
     "metadata": {},
     "output_type": "execute_result"
    },
    {
     "data": {
      "application/javascript": "\n            setTimeout(function() {\n                var nbb_cell_id = 99;\n                var nbb_unformatted_code = \"pelno_mb_uab_subset[(pelno_mb_uab_subset['bankrutavo_2021'] == 0\\n                      ) & (pelno_mb_uab_subset['df_year'] == 2021\\n                          ) & (pelno_mb_uab_subset['stat_pav'] == \\\"Teisinis stat ne\\u012fregistruotas\\\" )].groupby('obj_pav').mean()['grynasis_pelnas'].sum()\";\n                var nbb_formatted_code = \"pelno_mb_uab_subset[\\n    (pelno_mb_uab_subset[\\\"bankrutavo_2021\\\"] == 0)\\n    & (pelno_mb_uab_subset[\\\"df_year\\\"] == 2021)\\n    & (pelno_mb_uab_subset[\\\"stat_pav\\\"] == \\\"Teisinis stat ne\\u012fregistruotas\\\")\\n].groupby(\\\"obj_pav\\\").mean()[\\\"grynasis_pelnas\\\"].sum()\";\n                var nbb_cells = Jupyter.notebook.get_cells();\n                for (var i = 0; i < nbb_cells.length; ++i) {\n                    if (nbb_cells[i].input_prompt_number == nbb_cell_id) {\n                        if (nbb_cells[i].get_text() == nbb_unformatted_code) {\n                             nbb_cells[i].set_text(nbb_formatted_code);\n                        }\n                        break;\n                    }\n                }\n            }, 500);\n            ",
      "text/plain": [
       "<IPython.core.display.Javascript object>"
      ]
     },
     "metadata": {},
     "output_type": "display_data"
    }
   ],
   "source": [
    "pelno_mb_uab_subset[(pelno_mb_uab_subset['bankrutavo_2021'] == 0\n",
    "                      ) & (pelno_mb_uab_subset['df_year'] == 2021\n",
    "                          ) & (pelno_mb_uab_subset['stat_pav'] == \"Teisinis stat neįregistruotas\" )].groupby('obj_pav').mean()['grynasis_pelnas'].sum()"
   ]
  },
  {
   "cell_type": "markdown",
   "id": "de044ba0-f1b5-44bd-90d6-8a3d3d87d1bc",
   "metadata": {},
   "source": [
    "### 14. Sukurti naują stulpelį “turtas”, kuris skaičiuojamas sudedant “trumpalaikis_turtas” ir “ilgalaikis_turtas”.\n",
    "    a. Suskirstyti įmones į 5 grupes pagal lauką “turtas”.\n",
    "    b. Palyginti kaip šios grupės keičiasi 2020 ir 2021 metais. Palyginimą atvaizduoti skrituline diagrama ir gauti tokį patį kaip apačioje pavaizduotas paveikslas (skaitinės reikšmės gali skirtis):\n",
    "        i. naudojantis matplotlib funkcionalumu.\n",
    "        ii. naudojantis pandas funkcionalumu.\n"
   ]
  },
  {
   "cell_type": "code",
   "execution_count": 100,
   "id": "dffac138-8153-4e3f-9532-5391b303a958",
   "metadata": {},
   "outputs": [
    {
     "data": {
      "application/javascript": "\n            setTimeout(function() {\n                var nbb_cell_id = 100;\n                var nbb_unformatted_code = \"balanso_ataskaita['turtas'] = balanso_ataskaita['ilgalaikis_turtas'] + balanso_ataskaita['trumpalaikis_turtas']\";\n                var nbb_formatted_code = \"balanso_ataskaita[\\\"turtas\\\"] = (\\n    balanso_ataskaita[\\\"ilgalaikis_turtas\\\"] + balanso_ataskaita[\\\"trumpalaikis_turtas\\\"]\\n)\";\n                var nbb_cells = Jupyter.notebook.get_cells();\n                for (var i = 0; i < nbb_cells.length; ++i) {\n                    if (nbb_cells[i].input_prompt_number == nbb_cell_id) {\n                        if (nbb_cells[i].get_text() == nbb_unformatted_code) {\n                             nbb_cells[i].set_text(nbb_formatted_code);\n                        }\n                        break;\n                    }\n                }\n            }, 500);\n            ",
      "text/plain": [
       "<IPython.core.display.Javascript object>"
      ]
     },
     "metadata": {},
     "output_type": "display_data"
    }
   ],
   "source": [
    "balanso_ataskaita['turtas'] = balanso_ataskaita['ilgalaikis_turtas'] + balanso_ataskaita['trumpalaikis_turtas']"
   ]
  },
  {
   "cell_type": "code",
   "execution_count": 101,
   "id": "f5b0b7d7-6593-4829-a848-0a61f7e33c06",
   "metadata": {},
   "outputs": [
    {
     "data": {
      "text/html": [
       "<div>\n",
       "<style scoped>\n",
       "    .dataframe tbody tr th:only-of-type {\n",
       "        vertical-align: middle;\n",
       "    }\n",
       "\n",
       "    .dataframe tbody tr th {\n",
       "        vertical-align: top;\n",
       "    }\n",
       "\n",
       "    .dataframe thead th {\n",
       "        text-align: right;\n",
       "    }\n",
       "</style>\n",
       "<table border=\"1\" class=\"dataframe\">\n",
       "  <thead>\n",
       "    <tr style=\"text-align: right;\">\n",
       "      <th>df_year</th>\n",
       "      <th>obj_pav</th>\n",
       "      <th>2020</th>\n",
       "      <th>2021</th>\n",
       "    </tr>\n",
       "  </thead>\n",
       "  <tbody>\n",
       "    <tr>\n",
       "      <th>0</th>\n",
       "      <td>\"10 liepų\" UAB</td>\n",
       "      <td>1115546.0000</td>\n",
       "      <td>1080582.0000</td>\n",
       "    </tr>\n",
       "    <tr>\n",
       "      <th>1</th>\n",
       "      <td>\"1024 MB\" MB</td>\n",
       "      <td>42704.0000</td>\n",
       "      <td>83247.0000</td>\n",
       "    </tr>\n",
       "    <tr>\n",
       "      <th>2</th>\n",
       "      <td>\"115 idėjų\" MB</td>\n",
       "      <td>4629.0000</td>\n",
       "      <td>NaN</td>\n",
       "    </tr>\n",
       "    <tr>\n",
       "      <th>3</th>\n",
       "      <td>\"2 Mo\" UAB</td>\n",
       "      <td>NaN</td>\n",
       "      <td>0.0000</td>\n",
       "    </tr>\n",
       "    <tr>\n",
       "      <th>4</th>\n",
       "      <td>\"21 kapitalas\" UAB</td>\n",
       "      <td>NaN</td>\n",
       "      <td>2500.0000</td>\n",
       "    </tr>\n",
       "    <tr>\n",
       "      <th>...</th>\n",
       "      <td>...</td>\n",
       "      <td>...</td>\n",
       "      <td>...</td>\n",
       "    </tr>\n",
       "    <tr>\n",
       "      <th>116015</th>\n",
       "      <td>Žūklės klubas \"Fideris\"</td>\n",
       "      <td>661.0000</td>\n",
       "      <td>638.0000</td>\n",
       "    </tr>\n",
       "    <tr>\n",
       "      <th>116016</th>\n",
       "      <td>Žūklės klubas \"Lures LT\"</td>\n",
       "      <td>NaN</td>\n",
       "      <td>NaN</td>\n",
       "    </tr>\n",
       "    <tr>\n",
       "      <th>116017</th>\n",
       "      <td>Žūklės klubas \"Merkys\"</td>\n",
       "      <td>NaN</td>\n",
       "      <td>4507.0000</td>\n",
       "    </tr>\n",
       "    <tr>\n",
       "      <th>116018</th>\n",
       "      <td>Žūklės klubas \"Paltusas\"</td>\n",
       "      <td>NaN</td>\n",
       "      <td>648.5000</td>\n",
       "    </tr>\n",
       "    <tr>\n",
       "      <th>116019</th>\n",
       "      <td>Žūklės klubas \"Svajonių karpis\"</td>\n",
       "      <td>NaN</td>\n",
       "      <td>5717.5000</td>\n",
       "    </tr>\n",
       "  </tbody>\n",
       "</table>\n",
       "<p>116020 rows × 3 columns</p>\n",
       "</div>"
      ],
      "text/plain": [
       "df_year                          obj_pav         2020         2021\n",
       "0                         \"10 liepų\" UAB 1115546.0000 1080582.0000\n",
       "1                           \"1024 MB\" MB   42704.0000   83247.0000\n",
       "2                         \"115 idėjų\" MB    4629.0000          NaN\n",
       "3                             \"2 Mo\" UAB          NaN       0.0000\n",
       "4                     \"21 kapitalas\" UAB          NaN    2500.0000\n",
       "...                                  ...          ...          ...\n",
       "116015           Žūklės klubas \"Fideris\"     661.0000     638.0000\n",
       "116016          Žūklės klubas \"Lures LT\"          NaN          NaN\n",
       "116017            Žūklės klubas \"Merkys\"          NaN    4507.0000\n",
       "116018          Žūklės klubas \"Paltusas\"          NaN     648.5000\n",
       "116019   Žūklės klubas \"Svajonių karpis\"          NaN    5717.5000\n",
       "\n",
       "[116020 rows x 3 columns]"
      ]
     },
     "execution_count": 101,
     "metadata": {},
     "output_type": "execute_result"
    },
    {
     "data": {
      "application/javascript": "\n            setTimeout(function() {\n                var nbb_cell_id = 101;\n                var nbb_unformatted_code = \"# kadangi turime pasikartojan\\u010dias \\u012fmones, surasiu unikalias \\u012fmoni\\u0173 turto vidurkio reik\\u0161mes `20 ir `21 metais\\n\\nplot_turtas = balanso_ataskaita.groupby(['obj_pav','df_year']).mean()['turtas'].unstack().reset_index()\\nplot_turtas\";\n                var nbb_formatted_code = \"# kadangi turime pasikartojan\\u010dias \\u012fmones, surasiu unikalias \\u012fmoni\\u0173 turto vidurkio reik\\u0161mes `20 ir `21 metais\\n\\nplot_turtas = (\\n    balanso_ataskaita.groupby([\\\"obj_pav\\\", \\\"df_year\\\"])\\n    .mean()[\\\"turtas\\\"]\\n    .unstack()\\n    .reset_index()\\n)\\nplot_turtas\";\n                var nbb_cells = Jupyter.notebook.get_cells();\n                for (var i = 0; i < nbb_cells.length; ++i) {\n                    if (nbb_cells[i].input_prompt_number == nbb_cell_id) {\n                        if (nbb_cells[i].get_text() == nbb_unformatted_code) {\n                             nbb_cells[i].set_text(nbb_formatted_code);\n                        }\n                        break;\n                    }\n                }\n            }, 500);\n            ",
      "text/plain": [
       "<IPython.core.display.Javascript object>"
      ]
     },
     "metadata": {},
     "output_type": "display_data"
    }
   ],
   "source": [
    "# kadangi turime pasikartojančias įmones, surasiu unikalias įmonių turto vidurkio reikšmes `20 ir `21 metais\n",
    "\n",
    "plot_turtas = balanso_ataskaita.groupby(['obj_pav','df_year']).mean()['turtas'].unstack().reset_index()\n",
    "plot_turtas"
   ]
  },
  {
   "cell_type": "code",
   "execution_count": 102,
   "id": "71f4a453-4599-4f9a-9e1c-f4a77c5d7e7b",
   "metadata": {},
   "outputs": [
    {
     "data": {
      "application/javascript": "\n            setTimeout(function() {\n                var nbb_cell_id = 102;\n                var nbb_unformatted_code = \"bins = [1,3_000, 20_000, 35_000, 70_000, 100_000]\\ncategory = ['iki 3k', '3k - 20k', '20k-35k', '35k-70k', '70k+']\\nplot_turtas['20_cut'] = pd.cut(plot_turtas[2020], bins, labels=category)\\nplot_turtas['21_cut'] = pd.cut(plot_turtas[2021], bins, labels=category)\";\n                var nbb_formatted_code = \"bins = [1, 3_000, 20_000, 35_000, 70_000, 100_000]\\ncategory = [\\\"iki 3k\\\", \\\"3k - 20k\\\", \\\"20k-35k\\\", \\\"35k-70k\\\", \\\"70k+\\\"]\\nplot_turtas[\\\"20_cut\\\"] = pd.cut(plot_turtas[2020], bins, labels=category)\\nplot_turtas[\\\"21_cut\\\"] = pd.cut(plot_turtas[2021], bins, labels=category)\";\n                var nbb_cells = Jupyter.notebook.get_cells();\n                for (var i = 0; i < nbb_cells.length; ++i) {\n                    if (nbb_cells[i].input_prompt_number == nbb_cell_id) {\n                        if (nbb_cells[i].get_text() == nbb_unformatted_code) {\n                             nbb_cells[i].set_text(nbb_formatted_code);\n                        }\n                        break;\n                    }\n                }\n            }, 500);\n            ",
      "text/plain": [
       "<IPython.core.display.Javascript object>"
      ]
     },
     "metadata": {},
     "output_type": "display_data"
    }
   ],
   "source": [
    "bins = [1,3_000, 20_000, 35_000, 70_000, 100_000]\n",
    "category = ['iki 3k', '3k - 20k', '20k-35k', '35k-70k', '70k+']\n",
    "plot_turtas['20_cut'] = pd.cut(plot_turtas[2020], bins, labels=category)\n",
    "plot_turtas['21_cut'] = pd.cut(plot_turtas[2021], bins, labels=category)\n"
   ]
  },
  {
   "cell_type": "code",
   "execution_count": 103,
   "id": "61edc5a5-8d12-4c68-aa41-a0ef85bd6cc6",
   "metadata": {},
   "outputs": [
    {
     "data": {
      "image/png": "[encoded data removed]",
      "text/plain": [
       "<Figure size 1000x800 with 2 Axes>"
      ]
     },
     "metadata": {},
     "output_type": "display_data"
    },
    {
     "data": {
      "application/javascript": "\n            setTimeout(function() {\n                var nbb_cell_id = 103;\n                var nbb_unformatted_code = \"fig, (ax1, ax2) = plt.subplots(1,2, figsize=(10,8))\\n\\n# is stack overflow:\\ndef make_autopct(values):\\n    def my_autopct(pct):\\n        total = sum(values)\\n        val = int(round(pct*total/100.0))\\n        return '{p:.2f}%  ({v:d})'.format(p=pct,v=val)\\n    return my_autopct\\n\\n\\nplt_20 = plot_turtas.groupby('20_cut').sum()[2020].sort_values().plot(kind='pie', autopct=make_autopct([2020]), title='2020', ax=ax1)\\n\\nplt_21 = plot_turtas.groupby('21_cut').sum()[2021].sort_values().plot(kind='pie', autopct=make_autopct([2021]), title='2021',ax=ax2)\\n\\n\\n\\nplt.ylabel('');\";\n                var nbb_formatted_code = \"fig, (ax1, ax2) = plt.subplots(1, 2, figsize=(10, 8))\\n\\n# is stack overflow:\\ndef make_autopct(values):\\n    def my_autopct(pct):\\n        total = sum(values)\\n        val = int(round(pct * total / 100.0))\\n        return \\\"{p:.2f}%  ({v:d})\\\".format(p=pct, v=val)\\n\\n    return my_autopct\\n\\n\\nplt_20 = (\\n    plot_turtas.groupby(\\\"20_cut\\\")\\n    .sum()[2020]\\n    .sort_values()\\n    .plot(kind=\\\"pie\\\", autopct=make_autopct([2020]), title=\\\"2020\\\", ax=ax1)\\n)\\n\\nplt_21 = (\\n    plot_turtas.groupby(\\\"21_cut\\\")\\n    .sum()[2021]\\n    .sort_values()\\n    .plot(kind=\\\"pie\\\", autopct=make_autopct([2021]), title=\\\"2021\\\", ax=ax2)\\n)\\n\\n\\nplt.ylabel(\\\"\\\")\";\n                var nbb_cells = Jupyter.notebook.get_cells();\n                for (var i = 0; i < nbb_cells.length; ++i) {\n                    if (nbb_cells[i].input_prompt_number == nbb_cell_id) {\n                        if (nbb_cells[i].get_text() == nbb_unformatted_code) {\n                             nbb_cells[i].set_text(nbb_formatted_code);\n                        }\n                        break;\n                    }\n                }\n            }, 500);\n            ",
      "text/plain": [
       "<IPython.core.display.Javascript object>"
      ]
     },
     "metadata": {},
     "output_type": "display_data"
    }
   ],
   "source": [
    "fig, (ax1, ax2) = plt.subplots(1,2, figsize=(10,8))\n",
    "\n",
    "# is stack overflow:\n",
    "def make_autopct(values):\n",
    "    def my_autopct(pct):\n",
    "        total = sum(values)\n",
    "        val = int(round(pct*total/100.0))\n",
    "        return '{p:.2f}%  ({v:d})'.format(p=pct,v=val)\n",
    "    return my_autopct\n",
    "\n",
    "\n",
    "plt_20 = plot_turtas.groupby('20_cut').sum()[2020].sort_values().plot(kind='pie', autopct=make_autopct([2020]), title='2020', ax=ax1)\n",
    "\n",
    "plt_21 = plot_turtas.groupby('21_cut').sum()[2021].sort_values().plot(kind='pie', autopct=make_autopct([2021]), title='2021',ax=ax2)\n",
    "\n",
    "\n",
    "\n",
    "plt.ylabel('');"
   ]
  },
  {
   "cell_type": "markdown",
   "id": "2edbc103-2ed9-41f4-8d31-b0eab599e933",
   "metadata": {},
   "source": [
    "## 15. Rasti TOP-100 pelningiausių įmonių pagal “grynasis pelnas” ir TOP-100 įmonių kurių “nuosavas kapitalas” didžiausias. Ar yra sutampančių įmonių šiuose sąrašuose?"
   ]
  },
  {
   "cell_type": "code",
   "execution_count": 206,
   "id": "04f6ffcb-a31f-476b-8dc1-165f6af68f53",
   "metadata": {},
   "outputs": [
    {
     "data": {
      "application/javascript": "\n            setTimeout(function() {\n                var nbb_cell_id = 206;\n                var nbb_unformatted_code = \"top_100_nuosavas_kapitalas = balanso_ataskaita.groupby('obj_pav').mean()['nuosavas_kapitalas'\\n                                                                       ].nlargest(100\\n                                                                                 ).sort_values(ascending=False\\n                                                                                              ).reset_index()['obj_pav'\\n                                                                                                             ].tolist()\\ntop_100_grynasis_pelnas = pelno_ataskaita.groupby('obj_pav').mean()['grynasis_pelnas'\\n                                                                  ].nlargest(100\\n                                                                            ).sort_values(ascending=False\\n                                                                                         ).reset_index()['obj_pav'\\n                                                                                                        ].tolist()\";\n                var nbb_formatted_code = \"top_100_nuosavas_kapitalas = (\\n    balanso_ataskaita.groupby(\\\"obj_pav\\\")\\n    .mean()[\\\"nuosavas_kapitalas\\\"]\\n    .nlargest(100)\\n    .sort_values(ascending=False)\\n    .reset_index()[\\\"obj_pav\\\"]\\n    .tolist()\\n)\\ntop_100_grynasis_pelnas = (\\n    pelno_ataskaita.groupby(\\\"obj_pav\\\")\\n    .mean()[\\\"grynasis_pelnas\\\"]\\n    .nlargest(100)\\n    .sort_values(ascending=False)\\n    .reset_index()[\\\"obj_pav\\\"]\\n    .tolist()\\n)\";\n                var nbb_cells = Jupyter.notebook.get_cells();\n                for (var i = 0; i < nbb_cells.length; ++i) {\n                    if (nbb_cells[i].input_prompt_number == nbb_cell_id) {\n                        if (nbb_cells[i].get_text() == nbb_unformatted_code) {\n                             nbb_cells[i].set_text(nbb_formatted_code);\n                        }\n                        break;\n                    }\n                }\n            }, 500);\n            ",
      "text/plain": [
       "<IPython.core.display.Javascript object>"
      ]
     },
     "metadata": {},
     "output_type": "display_data"
    }
   ],
   "source": [
    "top_100_nuosavas_kapitalas = balanso_ataskaita.groupby('obj_pav').mean()['nuosavas_kapitalas'\n",
    "                                                                       ].nlargest(100\n",
    "                                                                                 ).sort_values(ascending=False\n",
    "                                                                                              ).reset_index()['obj_pav'\n",
    "                                                                                                             ].tolist()\n",
    "top_100_grynasis_pelnas = pelno_ataskaita.groupby('obj_pav').mean()['grynasis_pelnas'\n",
    "                                                                  ].nlargest(100\n",
    "                                                                            ).sort_values(ascending=False\n",
    "                                                                                         ).reset_index()['obj_pav'\n",
    "                                                                                                        ].tolist()"
   ]
  },
  {
   "cell_type": "code",
   "execution_count": 207,
   "id": "496718c9-70a3-4737-be00-206a9252f44e",
   "metadata": {},
   "outputs": [
    {
     "data": {
      "text/plain": [
       "{'AB \"Amber Grid\"',\n",
       " 'AB \"Energijos skirstymo operatorius\"',\n",
       " 'AB \"Ignitis gamyba\"',\n",
       " 'AB \"Ignitis grupė\"',\n",
       " 'AB \"LTG Infra\"',\n",
       " 'AB DFDS Seaways',\n",
       " 'AB Vilniaus šilumos tinklai',\n",
       " 'Akcinė bendrovė \"Achema\"',\n",
       " 'Akcinė bendrovė \"Invalda INVL\"',\n",
       " 'Akcinė bendrovė \"Kauno grūdai\"',\n",
       " 'Akcinė bendrovė \"LIFOSA\"',\n",
       " 'Akcinė bendrovė \"Lietuvos geležinkeliai\"',\n",
       " 'Akcinė bendrovė \"ŽEMAITIJOS PIENAS\"',\n",
       " 'Circle K Lietuva UAB',\n",
       " 'GALIO GROUP UAB',\n",
       " 'LITGRID AB',\n",
       " 'MAXIMA LT UAB',\n",
       " 'NDX Group UAB',\n",
       " 'Telia Lietuva AB',\n",
       " 'UAB \"Bitė Lietuva\"',\n",
       " 'UAB \"ERA Family\"',\n",
       " 'UAB \"IN Group\"',\n",
       " 'UAB \"Lidl Lietuva\"',\n",
       " 'UAB \"ME investicija\"',\n",
       " 'UAB \"Panorama LT\"',\n",
       " 'UAB \"SANITEX\"',\n",
       " 'UAB \"TELE2\"',\n",
       " 'UAB \"Thermo Fisher Scientific Baltics\"',\n",
       " 'UAB \"Trust Capital\"',\n",
       " 'UAB \"VG HOLDING\"',\n",
       " 'UAB \"Yukon Advanced Optics Worldwide\"',\n",
       " 'UAB Teva Baltics',\n",
       " 'UAB koncernas \"ACHEMOS GRUPĖ\"',\n",
       " 'UŽDAROJI AKCINĖ BENDROVĖ \"LIETPAK\"',\n",
       " 'Uždaroji akcinė bendrovė \"BALTISCHES HAUS\"',\n",
       " 'Uždaroji akcinė bendrovė \"Kesko Senukai Lithuania\"',\n",
       " 'Uždaroji akcinė bendrovė \"NEO GROUP\"',\n",
       " 'Uždaroji akcinė bendrovė \"Nemuno banga\"',\n",
       " 'Uždaroji akcinė bendrovė \"RIVONA\"',\n",
       " 'Valstybės įmonė Klaipėdos valstybinio jūrų uosto direkcija',\n",
       " 'Valstybės įmonė Lietuvos oro uostai'}"
      ]
     },
     "execution_count": 207,
     "metadata": {},
     "output_type": "execute_result"
    },
    {
     "data": {
      "application/javascript": "\n            setTimeout(function() {\n                var nbb_cell_id = 207;\n                var nbb_unformatted_code = \"set(top_100_nuosavas_kapitalas).intersection(set(top_100_grynasis_pelnas))\";\n                var nbb_formatted_code = \"set(top_100_nuosavas_kapitalas).intersection(set(top_100_grynasis_pelnas))\";\n                var nbb_cells = Jupyter.notebook.get_cells();\n                for (var i = 0; i < nbb_cells.length; ++i) {\n                    if (nbb_cells[i].input_prompt_number == nbb_cell_id) {\n                        if (nbb_cells[i].get_text() == nbb_unformatted_code) {\n                             nbb_cells[i].set_text(nbb_formatted_code);\n                        }\n                        break;\n                    }\n                }\n            }, 500);\n            ",
      "text/plain": [
       "<IPython.core.display.Javascript object>"
      ]
     },
     "metadata": {},
     "output_type": "display_data"
    }
   ],
   "source": [
    "set(top_100_nuosavas_kapitalas).intersection(set(top_100_grynasis_pelnas))"
   ]
  },
  {
   "cell_type": "code",
   "execution_count": 208,
   "id": "32fde4f7-44e7-49d2-93a7-a24977feaf1c",
   "metadata": {},
   "outputs": [
    {
     "data": {
      "text/plain": [
       "41"
      ]
     },
     "execution_count": 208,
     "metadata": {},
     "output_type": "execute_result"
    },
    {
     "data": {
      "application/javascript": "\n            setTimeout(function() {\n                var nbb_cell_id = 208;\n                var nbb_unformatted_code = \"top_companies = [i for i in top_100_nuosavas_kapitalas if i in top_100_grynasis_pelnas ]\\nlen(top_companies)\";\n                var nbb_formatted_code = \"top_companies = [i for i in top_100_nuosavas_kapitalas if i in top_100_grynasis_pelnas]\\nlen(top_companies)\";\n                var nbb_cells = Jupyter.notebook.get_cells();\n                for (var i = 0; i < nbb_cells.length; ++i) {\n                    if (nbb_cells[i].input_prompt_number == nbb_cell_id) {\n                        if (nbb_cells[i].get_text() == nbb_unformatted_code) {\n                             nbb_cells[i].set_text(nbb_formatted_code);\n                        }\n                        break;\n                    }\n                }\n            }, 500);\n            ",
      "text/plain": [
       "<IPython.core.display.Javascript object>"
      ]
     },
     "metadata": {},
     "output_type": "display_data"
    }
   ],
   "source": [
    "top_companies = [i for i in top_100_nuosavas_kapitalas if i in top_100_grynasis_pelnas ]\n",
    "len(top_companies)"
   ]
  },
  {
   "cell_type": "code",
   "execution_count": 209,
   "id": "7237973e-30e6-48bd-8a65-e7cc4ff25ba9",
   "metadata": {},
   "outputs": [
    {
     "data": {
      "text/plain": [
       "['AB \"Ignitis grupė\"',\n",
       " 'Akcinė bendrovė \"Lietuvos geležinkeliai\"',\n",
       " 'UAB \"Thermo Fisher Scientific Baltics\"',\n",
       " 'AB \"LTG Infra\"',\n",
       " 'AB \"Energijos skirstymo operatorius\"',\n",
       " 'Valstybės įmonė Klaipėdos valstybinio jūrų uosto direkcija',\n",
       " 'AB \"Ignitis gamyba\"',\n",
       " 'UAB \"ME investicija\"',\n",
       " 'MAXIMA LT UAB',\n",
       " 'Telia Lietuva AB',\n",
       " 'Akcinė bendrovė \"Achema\"',\n",
       " 'UAB \"Bitė Lietuva\"',\n",
       " 'UAB Teva Baltics',\n",
       " 'AB DFDS Seaways',\n",
       " 'LITGRID AB',\n",
       " 'Uždaroji akcinė bendrovė \"NEO GROUP\"',\n",
       " 'UAB \"Lidl Lietuva\"',\n",
       " 'UAB koncernas \"ACHEMOS GRUPĖ\"',\n",
       " 'GALIO GROUP UAB',\n",
       " 'UAB \"TELE2\"',\n",
       " 'Uždaroji akcinė bendrovė \"Kesko Senukai Lithuania\"',\n",
       " 'Akcinė bendrovė \"LIFOSA\"',\n",
       " 'Uždaroji akcinė bendrovė \"BALTISCHES HAUS\"',\n",
       " 'UAB \"SANITEX\"',\n",
       " 'AB \"Amber Grid\"',\n",
       " 'Valstybės įmonė Lietuvos oro uostai',\n",
       " 'UAB \"VG HOLDING\"',\n",
       " 'UAB \"Panorama LT\"',\n",
       " 'NDX Group UAB',\n",
       " 'AB Vilniaus šilumos tinklai',\n",
       " 'UAB \"IN Group\"',\n",
       " 'UŽDAROJI AKCINĖ BENDROVĖ \"LIETPAK\"',\n",
       " 'Uždaroji akcinė bendrovė \"RIVONA\"',\n",
       " 'UAB \"ERA Family\"',\n",
       " 'Akcinė bendrovė \"Invalda INVL\"',\n",
       " 'UAB \"Yukon Advanced Optics Worldwide\"',\n",
       " 'Akcinė bendrovė \"ŽEMAITIJOS PIENAS\"',\n",
       " 'Akcinė bendrovė \"Kauno grūdai\"',\n",
       " 'Uždaroji akcinė bendrovė \"Nemuno banga\"',\n",
       " 'Circle K Lietuva UAB',\n",
       " 'UAB \"Trust Capital\"']"
      ]
     },
     "execution_count": 209,
     "metadata": {},
     "output_type": "execute_result"
    },
    {
     "data": {
      "application/javascript": "\n            setTimeout(function() {\n                var nbb_cell_id = 209;\n                var nbb_unformatted_code = \"# sutampan\\u010dios \\u012fmon\\u0117s\\ntop_companies\";\n                var nbb_formatted_code = \"# sutampan\\u010dios \\u012fmon\\u0117s\\ntop_companies\";\n                var nbb_cells = Jupyter.notebook.get_cells();\n                for (var i = 0; i < nbb_cells.length; ++i) {\n                    if (nbb_cells[i].input_prompt_number == nbb_cell_id) {\n                        if (nbb_cells[i].get_text() == nbb_unformatted_code) {\n                             nbb_cells[i].set_text(nbb_formatted_code);\n                        }\n                        break;\n                    }\n                }\n            }, 500);\n            ",
      "text/plain": [
       "<IPython.core.display.Javascript object>"
      ]
     },
     "metadata": {},
     "output_type": "display_data"
    }
   ],
   "source": [
    "# sutampančios įmonės\n",
    "top_companies"
   ]
  },
  {
   "cell_type": "markdown",
   "id": "b645ab5d-da1d-4cc6-967a-784638e0f8f3",
   "metadata": {},
   "source": [
    "## 16. Ar TOP įmonės pagal “grynasis pelnas” iš 15 užduoties skiriasi pagal metus, t.y. 2020 ir 2021 metais? Kurios įmonės iškrenta iš TOP sąrašo 2021 metais? \n",
    "### 16.1. Ar TOP įmonės pagal “grynasis pelnas” iš 15 užduoties skiriasi pagal metus, t.y. 2020 ir 2021 metais? \n",
    "#### TOP 100 įmonės 2020 metais, kurios nėra Tarp TOP 100 pelningiausių 2021/2022 kartu:\n",
    "     'UAB \"Avion Express\"',\n",
    "     'UAB \"GetJet Airlines\"',\n",
    "     'AB \"BALTIC SHOPPING CENTERS\"',\n",
    "     'UAB \"Green Genius\"',\n",
    "     'UAB \"Sorensen Invest\"',\n",
    "     'UAB LIVE SQUARE LT',\n",
    "     'AB \"Amber Grid\"',\n",
    "     'Uždarojo tipo informuotiesiems investuotojams skirta investicinė bendrovė UAB \"LIM Verslo Trikampio NT Fondas\"',\n",
    "     'UAB \"Inter Krasta\"',\n",
    "     'UAB \"Klaško\"',\n",
    "     'UAB \"HEKON\"',\n",
    "     '4Wind UAB',\n",
    "     'UAB \"Vilniaus aidai\"',\n",
    "     'UAB \"SPECTATOR\"',\n",
    "     'Baltic Champs Group UAB',\n",
    "     'Atvirojo tipo Informuotiesiems investuotojams skirta investicinė kintamojo kapitalo bendrovė \"Mūsų ateities investicijos\"',\n",
    "     'MD PARTNERS UAB',\n",
    "     'UAB \"EBV Finance\"',\n",
    "     'MG investment UAB',\n",
    "     'UAB \"K29\"',\n",
    "     'Uždaroji akcinė bendrovė \"NESTE LIETUVA\"',\n",
    "     'UAB \"Biosantara\"\n",
    "#### TOP 100 įmonės 2021 metais, kurios nėra Tarp TOP 100 pelningiausių 2020/2021 kartu:\n",
    "      'UAB \"Skyroad Leasing\"',\n",
    "     'AviaAM Leasing Service Centre AB',\n",
    "     'UAB \"Magnus Investments\"',\n",
    "     'UAB AR Finance',\n",
    "     'Uždaroji akcinė bendrovė \"VILBRA\"',\n",
    "     'IKI Lietuva UAB',\n",
    "     'Akcinė bendrovė \"Invalda privatus kapitalas\"',\n",
    "     'UAB \"BFIII G1\"',\n",
    "     'UAB \"Agrokoncerno grūdai\"',\n",
    "     'UAB \"BIOTECHA\"',\n",
    "     'UAB \"Egilora\"',\n",
    "     'Uždaroji akcinė bendrovė \"IMMOBILITAS\"',\n",
    "     'Uždaroji akcinė bendrovė \"TRANSIMEKSA\"',\n",
    "     'Uždaroji akcinė bendrovė \"Ryterna\"',\n",
    "     'UAB \"Nordcurrent Group\"',\n",
    "     'Informuotiesiems investuotojams skirta uždarojo tipo investicinė UAB \"Baltic Retail Properties\"',\n",
    "     'AB \"Modus Energy\"',\n",
    "     'Littelfuse LT UAB',\n",
    "     'UAB \"Sonex consulting\"',\n",
    "     'UAB \"Ingka Investments Lithuania\"',\n",
    "     'Uždaroji akcinė bendrovė \"RIMI LIETUVA\""
   ]
  },
  {
   "cell_type": "code",
   "execution_count": 200,
   "id": "25445dc1-cc88-4855-ad6c-e53500beaf81",
   "metadata": {},
   "outputs": [
    {
     "data": {
      "application/javascript": "\n            setTimeout(function() {\n                var nbb_cell_id = 200;\n                var nbb_unformatted_code = \"pelningiausios_2020 = pelno_ataskaita[pelno_ataskaita['df_year'] == 2020].groupby('obj_pav').sum()['grynasis_pelnas'\\n                                                                  ].nlargest(100\\n                                                                            ).sort_values(ascending=False\\n                                                                                         ).reset_index()['obj_pav'].tolist()\\npelningiausios_2020 = pelno_ataskaita[pelno_ataskaita['df_year'] == 2021].groupby('obj_pav').sum()['grynasis_pelnas'\\n                                                                  ].nlargest(100\\n                                                                            ).sort_values(ascending=False\\n                                                                                         ).reset_index()['obj_pav'].tolist()\";\n                var nbb_formatted_code = \"pelningiausios_2020 = (\\n    pelno_ataskaita[pelno_ataskaita[\\\"df_year\\\"] == 2020]\\n    .groupby(\\\"obj_pav\\\")\\n    .sum()[\\\"grynasis_pelnas\\\"]\\n    .nlargest(100)\\n    .sort_values(ascending=False)\\n    .reset_index()[\\\"obj_pav\\\"]\\n    .tolist()\\n)\\npelningiausios_2020 = (\\n    pelno_ataskaita[pelno_ataskaita[\\\"df_year\\\"] == 2021]\\n    .groupby(\\\"obj_pav\\\")\\n    .sum()[\\\"grynasis_pelnas\\\"]\\n    .nlargest(100)\\n    .sort_values(ascending=False)\\n    .reset_index()[\\\"obj_pav\\\"]\\n    .tolist()\\n)\";\n                var nbb_cells = Jupyter.notebook.get_cells();\n                for (var i = 0; i < nbb_cells.length; ++i) {\n                    if (nbb_cells[i].input_prompt_number == nbb_cell_id) {\n                        if (nbb_cells[i].get_text() == nbb_unformatted_code) {\n                             nbb_cells[i].set_text(nbb_formatted_code);\n                        }\n                        break;\n                    }\n                }\n            }, 500);\n            ",
      "text/plain": [
       "<IPython.core.display.Javascript object>"
      ]
     },
     "metadata": {},
     "output_type": "display_data"
    }
   ],
   "source": [
    "pelningiausios_2020 = pelno_ataskaita[pelno_ataskaita['df_year'] == 2020].groupby('obj_pav').sum()['grynasis_pelnas'\n",
    "                                                                  ].nlargest(100\n",
    "                                                                            ).sort_values(ascending=False\n",
    "                                                                                         ).reset_index()['obj_pav'].tolist()\n",
    "pelningiausios_2020 = pelno_ataskaita[pelno_ataskaita['df_year'] == 2021].groupby('obj_pav').sum()['grynasis_pelnas'\n",
    "                                                                  ].nlargest(100\n",
    "                                                                            ).sort_values(ascending=False\n",
    "                                                                                         ).reset_index()['obj_pav'].tolist()"
   ]
  },
  {
   "cell_type": "code",
   "execution_count": 110,
   "id": "e9b744a7-4a24-4f75-bd3f-5e01bb600fea",
   "metadata": {},
   "outputs": [
    {
     "data": {
      "application/javascript": "\n            setTimeout(function() {\n                var nbb_cell_id = 110;\n                var nbb_unformatted_code = \"# pelningiausios_2020\";\n                var nbb_formatted_code = \"# pelningiausios_2020\";\n                var nbb_cells = Jupyter.notebook.get_cells();\n                for (var i = 0; i < nbb_cells.length; ++i) {\n                    if (nbb_cells[i].input_prompt_number == nbb_cell_id) {\n                        if (nbb_cells[i].get_text() == nbb_unformatted_code) {\n                             nbb_cells[i].set_text(nbb_formatted_code);\n                        }\n                        break;\n                    }\n                }\n            }, 500);\n            ",
      "text/plain": [
       "<IPython.core.display.Javascript object>"
      ]
     },
     "metadata": {},
     "output_type": "display_data"
    }
   ],
   "source": [
    "# pelningiausios_2020"
   ]
  },
  {
   "cell_type": "code",
   "execution_count": 111,
   "id": "a7f2333a-4735-4f5a-bfb8-c539bb5f6a3f",
   "metadata": {},
   "outputs": [
    {
     "data": {
      "application/javascript": "\n            setTimeout(function() {\n                var nbb_cell_id = 111;\n                var nbb_unformatted_code = \"#pelningiausios_2021\";\n                var nbb_formatted_code = \"# pelningiausios_2021\";\n                var nbb_cells = Jupyter.notebook.get_cells();\n                for (var i = 0; i < nbb_cells.length; ++i) {\n                    if (nbb_cells[i].input_prompt_number == nbb_cell_id) {\n                        if (nbb_cells[i].get_text() == nbb_unformatted_code) {\n                             nbb_cells[i].set_text(nbb_formatted_code);\n                        }\n                        break;\n                    }\n                }\n            }, 500);\n            ",
      "text/plain": [
       "<IPython.core.display.Javascript object>"
      ]
     },
     "metadata": {},
     "output_type": "display_data"
    }
   ],
   "source": [
    "#pelningiausios_2021"
   ]
  },
  {
   "cell_type": "code",
   "execution_count": 112,
   "id": "5a1d830b-ea0d-40f6-85d9-f708073b91fa",
   "metadata": {},
   "outputs": [
    {
     "data": {
      "text/plain": [
       "['UAB \"Avion Express\"',\n",
       " 'UAB \"GetJet Airlines\"',\n",
       " 'AB \"BALTIC SHOPPING CENTERS\"',\n",
       " 'UAB \"Green Genius\"',\n",
       " 'UAB \"Sorensen Invest\"',\n",
       " 'UAB LIVE SQUARE LT',\n",
       " 'AB \"Amber Grid\"',\n",
       " 'Uždarojo tipo informuotiesiems investuotojams skirta investicinė bendrovė UAB \"LIM Verslo Trikampio NT Fondas\"',\n",
       " 'UAB \"Inter Krasta\"',\n",
       " 'UAB \"Klaško\"',\n",
       " 'UAB \"HEKON\"',\n",
       " '4Wind UAB',\n",
       " 'UAB \"Vilniaus aidai\"',\n",
       " 'UAB \"SPECTATOR\"',\n",
       " 'Baltic Champs Group UAB',\n",
       " 'Atvirojo tipo Informuotiesiems investuotojams skirta investicinė kintamojo kapitalo bendrovė \"Mūsų ateities investicijos\"',\n",
       " 'MD PARTNERS UAB',\n",
       " 'UAB \"EBV Finance\"',\n",
       " 'MG investment UAB',\n",
       " 'UAB \"K29\"',\n",
       " 'Uždaroji akcinė bendrovė \"NESTE LIETUVA\"',\n",
       " 'UAB \"Biosantara\"']"
      ]
     },
     "execution_count": 112,
     "metadata": {},
     "output_type": "execute_result"
    },
    {
     "data": {
      "application/javascript": "\n            setTimeout(function() {\n                var nbb_cell_id = 112;\n                var nbb_unformatted_code = \"[i for i in pelningiausios_2020 if i not in top_100_grynasis_pelnas]\";\n                var nbb_formatted_code = \"[i for i in pelningiausios_2020 if i not in top_100_grynasis_pelnas]\";\n                var nbb_cells = Jupyter.notebook.get_cells();\n                for (var i = 0; i < nbb_cells.length; ++i) {\n                    if (nbb_cells[i].input_prompt_number == nbb_cell_id) {\n                        if (nbb_cells[i].get_text() == nbb_unformatted_code) {\n                             nbb_cells[i].set_text(nbb_formatted_code);\n                        }\n                        break;\n                    }\n                }\n            }, 500);\n            ",
      "text/plain": [
       "<IPython.core.display.Javascript object>"
      ]
     },
     "metadata": {},
     "output_type": "display_data"
    }
   ],
   "source": [
    "[i for i in pelningiausios_2020 if i not in top_100_grynasis_pelnas]"
   ]
  },
  {
   "cell_type": "code",
   "execution_count": 113,
   "id": "b8db01bd-6737-4ccd-9456-e641c8cba137",
   "metadata": {},
   "outputs": [
    {
     "data": {
      "text/plain": [
       "['UAB \"Skyroad Leasing\"',\n",
       " 'AviaAM Leasing Service Centre AB',\n",
       " 'UAB \"Magnus Investments\"',\n",
       " 'UAB AR Finance',\n",
       " 'Uždaroji akcinė bendrovė \"VILBRA\"',\n",
       " 'IKI Lietuva UAB',\n",
       " 'Akcinė bendrovė \"Invalda privatus kapitalas\"',\n",
       " 'UAB \"BFIII G1\"',\n",
       " 'UAB \"Agrokoncerno grūdai\"',\n",
       " 'UAB \"BIOTECHA\"',\n",
       " 'UAB \"Egilora\"',\n",
       " 'Uždaroji akcinė bendrovė \"IMMOBILITAS\"',\n",
       " 'Uždaroji akcinė bendrovė \"TRANSIMEKSA\"',\n",
       " 'Uždaroji akcinė bendrovė \"Ryterna\"',\n",
       " 'UAB \"Nordcurrent Group\"',\n",
       " 'Informuotiesiems investuotojams skirta uždarojo tipo investicinė UAB \"Baltic Retail Properties\"',\n",
       " 'AB \"Modus Energy\"',\n",
       " 'Littelfuse LT UAB',\n",
       " 'UAB \"Sonex consulting\"',\n",
       " 'UAB \"Ingka Investments Lithuania\"',\n",
       " 'Uždaroji akcinė bendrovė \"RIMI LIETUVA\"']"
      ]
     },
     "execution_count": 113,
     "metadata": {},
     "output_type": "execute_result"
    },
    {
     "data": {
      "application/javascript": "\n            setTimeout(function() {\n                var nbb_cell_id = 113;\n                var nbb_unformatted_code = \"[i for i in pelningiausios_2021 if i not in top_100_grynasis_pelnas]\";\n                var nbb_formatted_code = \"[i for i in pelningiausios_2021 if i not in top_100_grynasis_pelnas]\";\n                var nbb_cells = Jupyter.notebook.get_cells();\n                for (var i = 0; i < nbb_cells.length; ++i) {\n                    if (nbb_cells[i].input_prompt_number == nbb_cell_id) {\n                        if (nbb_cells[i].get_text() == nbb_unformatted_code) {\n                             nbb_cells[i].set_text(nbb_formatted_code);\n                        }\n                        break;\n                    }\n                }\n            }, 500);\n            ",
      "text/plain": [
       "<IPython.core.display.Javascript object>"
      ]
     },
     "metadata": {},
     "output_type": "display_data"
    }
   ],
   "source": [
    "[i for i in pelningiausios_2021 if i not in top_100_grynasis_pelnas]"
   ]
  },
  {
   "cell_type": "markdown",
   "id": "487e40dc-99e2-491e-8dce-60bd4874f70b",
   "metadata": {},
   "source": [
    "### 16.2. Kurios įmonės iškrenta iš TOP sąrašo 2021 metais ?"
   ]
  },
  {
   "cell_type": "code",
   "execution_count": 205,
   "id": "be83080b-6ad1-48d6-9d86-8e8eccb9f0eb",
   "metadata": {},
   "outputs": [
    {
     "data": {
      "text/plain": [
       "['UAB \"Thermo Fisher Scientific Baltics\"',\n",
       " 'MAXIMA LT UAB',\n",
       " 'AB \"Ignitis grupė\"',\n",
       " 'AB \"Energijos skirstymo operatorius\"',\n",
       " 'UAB \"Modus Grupė\"',\n",
       " 'UAB \"TELE2\"',\n",
       " 'Akcinė bendrovė \"Achema\"',\n",
       " 'UAB \"ME investicija\"',\n",
       " 'Telia Lietuva AB',\n",
       " 'UAB \"City Service\"',\n",
       " 'UAB Teva Baltics',\n",
       " 'UAB \"Yukon Advanced Optics Worldwide\"',\n",
       " 'UAB \"Ignitis\"',\n",
       " 'AB \"Ignitis gamyba\"',\n",
       " 'UAB koncernas \"ACHEMOS GRUPĖ\"',\n",
       " 'Valstybės įmonė Klaipėdos valstybinio jūrų uosto direkcija',\n",
       " 'Uždaroji akcinė bendrovė \"Kesko Senukai Lithuania\"',\n",
       " 'UAB \"Lidl Lietuva\"',\n",
       " 'UAB \"Bitė Lietuva\"',\n",
       " 'AB \"LTG Infra\"',\n",
       " 'Akcinė bendrovė \"KRAFT FOODS LIETUVA\"',\n",
       " 'LITGRID AB',\n",
       " 'UAB \"EDVERVITA\"',\n",
       " 'UAB \"SCT Lubricants\"',\n",
       " 'UAB \"Girteka logistics\"',\n",
       " 'UAB \"JYSK BALTIC\"',\n",
       " 'UAB \"EBV GROUP\"',\n",
       " 'Uždaroji akcinė bendrovė \"MANTINGA\"',\n",
       " 'Light Conversion UAB',\n",
       " 'UAB Biotechnologinės farmacijos centras \"Biotechpharma\"',\n",
       " 'UAB \"ME Trailers\"',\n",
       " 'UAB \"SANITEX\"',\n",
       " 'Uždaroji akcinė bendrovė \"NEO GROUP\"',\n",
       " 'AB DFDS Seaways',\n",
       " 'Enefit Wind UAB',\n",
       " 'Akcinė bendrovė \"Lietuvos geležinkeliai\"',\n",
       " 'UAB \"Naujasis Užupis\"',\n",
       " 'Circle K Lietuva UAB',\n",
       " 'Akcinė bendrovė \"LIFOSA\"',\n",
       " 'AB \"LTG Cargo\"',\n",
       " 'UAB \"Skyroad Leasing\"',\n",
       " 'Uždaroji akcinė bendrovė BIRIŲ KROVINIŲ TERMINALAS',\n",
       " 'UAB \"Mars Lietuva\"',\n",
       " 'Akcinė bendrovė \"Dolomitas\"',\n",
       " 'Individuali įmonė',\n",
       " 'UAB \"TOP SPORT\"',\n",
       " 'Komanditinė ūkinė bendrija',\n",
       " 'GALIO GROUP UAB',\n",
       " 'UAB \"Narbutas International\"',\n",
       " 'Uždaroji akcinė bendrovė \"INTERSURGICAL\"',\n",
       " 'Lietuvos ir Norvegijos uždaroji akcinė bendrovė \"NORVELITA\"',\n",
       " 'Uždaroji akcinė bendrovė \"Nemuno banga\"',\n",
       " 'UAB \"Diginet LTU\"',\n",
       " 'Akcinė bendrovė VAKARŲ LAIVŲ GAMYKLA',\n",
       " 'Uždaroji akcinė bendrovė \"NORFOS MAŽMENA\"',\n",
       " 'UAB \"PHILIP MORRIS BALTIC\"',\n",
       " 'AviaAM Leasing Service Centre AB',\n",
       " 'UAB \"Magnus Investments\"',\n",
       " 'Uždaroji akcinė bendrovė \"RIVONA\"',\n",
       " 'UAB \"IN Group\"',\n",
       " 'Eastnine 3Bures-1-2 UAB',\n",
       " 'Uždaroji akcinė bendrovė \"VIČIŪNAI IR PARTNERIAI\"',\n",
       " 'UAB AR Finance',\n",
       " 'Uždaroji akcinė bendrovė \"VILBRA\"',\n",
       " 'Uždaroji akcinė bendrovė \"BALTISCHES HAUS\"',\n",
       " 'UAB \"PHILIP MORRIS LIETUVA\"',\n",
       " 'Klaipėdos konteinerių terminalas UAB',\n",
       " 'IKI Lietuva UAB',\n",
       " 'UAB \"KOMFOVENT\"',\n",
       " 'NDX Group UAB',\n",
       " 'UAB \"ZIP7\"',\n",
       " 'Uždaroji akcinė bendrovė \"VITA BALTIC INTERNATIONAL\"',\n",
       " 'UAB \"Freda\"',\n",
       " 'Akcinė bendrovė \"ŽEMAITIJOS PIENAS\"',\n",
       " 'Akcinė bendrovė \"Invalda privatus kapitalas\"',\n",
       " 'UAB \"LJB investments\"',\n",
       " 'UAB \"Nacionalinė farmacijos grupė\"',\n",
       " 'UAB \"BFIII G1\"',\n",
       " 'UAB \"Agrokoncerno grūdai\"',\n",
       " 'UŽDAROJI AKCINĖ BENDROVĖ \"LIETPAK\"',\n",
       " 'Uždaroji akcinė bendrovė \"HOPTRANSA\"',\n",
       " 'UAB \"Klaipėdos terminalo grupė\"',\n",
       " 'UAB \"BIOTECHA\"',\n",
       " 'UAB \"Hegelmann transporte\"',\n",
       " 'Akcinė bendrovė \"Kauno grūdai\"',\n",
       " 'UAB \"Egilora\"',\n",
       " 'UAB Systemair',\n",
       " 'Apple Lithuania UAB',\n",
       " 'Estoty Vilnius UAB',\n",
       " 'Uždaroji akcinė bendrovė \"IMMOBILITAS\"',\n",
       " 'Uždaroji akcinė bendrovė \"TRANSIMEKSA\"',\n",
       " 'Uždaroji akcinė bendrovė \"Ryterna\"',\n",
       " 'UAB \"Nordcurrent Group\"',\n",
       " 'Informuotiesiems investuotojams skirta uždarojo tipo investicinė UAB \"Baltic Retail Properties\"',\n",
       " 'AB \"Modus Energy\"',\n",
       " 'Littelfuse LT UAB',\n",
       " 'UAB \"Sonex consulting\"',\n",
       " 'AB Vilniaus šilumos tinklai',\n",
       " 'UAB \"Ingka Investments Lithuania\"',\n",
       " 'Uždaroji akcinė bendrovė \"RIMI LIETUVA\"']"
      ]
     },
     "execution_count": 205,
     "metadata": {},
     "output_type": "execute_result"
    },
    {
     "data": {
      "application/javascript": "\n            setTimeout(function() {\n                var nbb_cell_id = 205;\n                var nbb_unformatted_code = \"[i for i in pelningiausios_2020 if i not in pelningiausios_2021]\";\n                var nbb_formatted_code = \"[i for i in pelningiausios_2020 if i not in pelningiausios_2021]\";\n                var nbb_cells = Jupyter.notebook.get_cells();\n                for (var i = 0; i < nbb_cells.length; ++i) {\n                    if (nbb_cells[i].input_prompt_number == nbb_cell_id) {\n                        if (nbb_cells[i].get_text() == nbb_unformatted_code) {\n                             nbb_cells[i].set_text(nbb_formatted_code);\n                        }\n                        break;\n                    }\n                }\n            }, 500);\n            ",
      "text/plain": [
       "<IPython.core.display.Javascript object>"
      ]
     },
     "metadata": {},
     "output_type": "display_data"
    }
   ],
   "source": [
    "[i for i in pelningiausios_2020 if i not in pelningiausios_2021]"
   ]
  },
  {
   "cell_type": "markdown",
   "id": "e77157d5-6c5b-41c8-8bb2-79db579a9239",
   "metadata": {},
   "source": [
    "# Trečia Dalis"
   ]
  },
  {
   "cell_type": "markdown",
   "id": "cf61a967",
   "metadata": {},
   "source": [
    "<font color=\"red\"> Justas Kalpokas:\n",
    "\n",
    "viskas puikiai sekėsi, bet turbūt dėl laiko stokos nepavyko padaryti įmonių palyginimo ir labiausiai augusių atrinkimo."
   ]
  },
  {
   "cell_type": "code",
   "execution_count": 623,
   "id": "6ec39bfc-84ca-4a60-b3aa-2923c78e176e",
   "metadata": {},
   "outputs": [
    {
     "data": {
      "application/javascript": "\n            setTimeout(function() {\n                var nbb_cell_id = 623;\n                var nbb_unformatted_code = \"sodra_2019 = pd.read_csv('monthly-2019-sodra.csv', sep=';')\\nsodra_2020 = pd.read_csv('monthly-2020-sodra.csv', sep=';')\";\n                var nbb_formatted_code = \"sodra_2019 = pd.read_csv(\\\"monthly-2019-sodra.csv\\\", sep=\\\";\\\")\\nsodra_2020 = pd.read_csv(\\\"monthly-2020-sodra.csv\\\", sep=\\\";\\\")\";\n                var nbb_cells = Jupyter.notebook.get_cells();\n                for (var i = 0; i < nbb_cells.length; ++i) {\n                    if (nbb_cells[i].input_prompt_number == nbb_cell_id) {\n                        if (nbb_cells[i].get_text() == nbb_unformatted_code) {\n                             nbb_cells[i].set_text(nbb_formatted_code);\n                        }\n                        break;\n                    }\n                }\n            }, 500);\n            ",
      "text/plain": [
       "<IPython.core.display.Javascript object>"
      ]
     },
     "metadata": {},
     "output_type": "display_data"
    }
   ],
   "source": [
    "sodra_2019 = pd.read_csv('monthly-2019-sodra.csv', sep=';')\n",
    "sodra_2020 = pd.read_csv('monthly-2020-sodra.csv', sep=';')\n"
   ]
  },
  {
   "cell_type": "code",
   "execution_count": 624,
   "id": "a3f0e5ef-ffa8-4989-a4f7-8f58a1f0487b",
   "metadata": {},
   "outputs": [
    {
     "data": {
      "text/plain": [
       "(1163329, 12)"
      ]
     },
     "execution_count": 624,
     "metadata": {},
     "output_type": "execute_result"
    },
    {
     "data": {
      "application/javascript": "\n            setTimeout(function() {\n                var nbb_cell_id = 624;\n                var nbb_unformatted_code = \"sodra_2019.shape\";\n                var nbb_formatted_code = \"sodra_2019.shape\";\n                var nbb_cells = Jupyter.notebook.get_cells();\n                for (var i = 0; i < nbb_cells.length; ++i) {\n                    if (nbb_cells[i].input_prompt_number == nbb_cell_id) {\n                        if (nbb_cells[i].get_text() == nbb_unformatted_code) {\n                             nbb_cells[i].set_text(nbb_formatted_code);\n                        }\n                        break;\n                    }\n                }\n            }, 500);\n            ",
      "text/plain": [
       "<IPython.core.display.Javascript object>"
      ]
     },
     "metadata": {},
     "output_type": "display_data"
    }
   ],
   "source": [
    "sodra_2019.shape"
   ]
  },
  {
   "cell_type": "code",
   "execution_count": 625,
   "id": "a68d0420-0430-4238-94cf-a24799822061",
   "metadata": {},
   "outputs": [
    {
     "name": "stdout",
     "output_type": "stream",
     "text": [
      "<class 'pandas.core.frame.DataFrame'>\n",
      "RangeIndex: 1163329 entries, 0 to 1163328\n",
      "Data columns (total 12 columns):\n",
      " #   Column                                             Non-Null Count    Dtype  \n",
      "---  ------                                             --------------    -----  \n",
      " 0   Draudėjo kodas (code)                              1163329 non-null  int64  \n",
      " 1   Juridinių asmenų registro kodas (jarCode)          1157490 non-null  float64\n",
      " 2   Pavadinimas (name)                                 1163329 non-null  object \n",
      " 3   Savivaldybė, kurioje registruota(municipality)     1163329 non-null  object \n",
      " 4   Ekonominės veiklos rūšies kodas(ecoActCode)        1141527 non-null  float64\n",
      " 5   Ekonominės veiklos rūšies pavadinimas(ecoActName)  1141503 non-null  object \n",
      " 6   Mėnuo (month)                                      1163329 non-null  int64  \n",
      " 7   Vidutinis darbo užmokestis (avgWage)               516504 non-null   float64\n",
      " 8   Apdraustųjų skaičius (numInsured)                  1163329 non-null  int64  \n",
      " 9   Vidutinis darbo užmokestis II (avgWage2)           2815 non-null     float64\n",
      " 10  Apdraustųjų skaičius II (numInsured2)              1163329 non-null  int64  \n",
      " 11  Valstybinio socialinio draudimo įmoka (tax)        516933 non-null   float64\n",
      "dtypes: float64(5), int64(4), object(3)\n",
      "memory usage: 106.5+ MB\n"
     ]
    },
    {
     "data": {
      "application/javascript": "\n            setTimeout(function() {\n                var nbb_cell_id = 625;\n                var nbb_unformatted_code = \"sodra_2019.info()\";\n                var nbb_formatted_code = \"sodra_2019.info()\";\n                var nbb_cells = Jupyter.notebook.get_cells();\n                for (var i = 0; i < nbb_cells.length; ++i) {\n                    if (nbb_cells[i].input_prompt_number == nbb_cell_id) {\n                        if (nbb_cells[i].get_text() == nbb_unformatted_code) {\n                             nbb_cells[i].set_text(nbb_formatted_code);\n                        }\n                        break;\n                    }\n                }\n            }, 500);\n            ",
      "text/plain": [
       "<IPython.core.display.Javascript object>"
      ]
     },
     "metadata": {},
     "output_type": "display_data"
    }
   ],
   "source": [
    "sodra_2019.info()"
   ]
  },
  {
   "cell_type": "code",
   "execution_count": 626,
   "id": "09a9d4c9-e0c0-4f35-924f-ce3318d091b2",
   "metadata": {},
   "outputs": [
    {
     "data": {
      "text/plain": [
       "(1177773, 12)"
      ]
     },
     "execution_count": 626,
     "metadata": {},
     "output_type": "execute_result"
    },
    {
     "data": {
      "application/javascript": "\n            setTimeout(function() {\n                var nbb_cell_id = 626;\n                var nbb_unformatted_code = \"sodra_2020.shape\";\n                var nbb_formatted_code = \"sodra_2020.shape\";\n                var nbb_cells = Jupyter.notebook.get_cells();\n                for (var i = 0; i < nbb_cells.length; ++i) {\n                    if (nbb_cells[i].input_prompt_number == nbb_cell_id) {\n                        if (nbb_cells[i].get_text() == nbb_unformatted_code) {\n                             nbb_cells[i].set_text(nbb_formatted_code);\n                        }\n                        break;\n                    }\n                }\n            }, 500);\n            ",
      "text/plain": [
       "<IPython.core.display.Javascript object>"
      ]
     },
     "metadata": {},
     "output_type": "display_data"
    }
   ],
   "source": [
    "sodra_2020.shape"
   ]
  },
  {
   "cell_type": "code",
   "execution_count": 627,
   "id": "67ec12ef-8361-4645-93a1-a4cb63da9a1c",
   "metadata": {},
   "outputs": [
    {
     "name": "stdout",
     "output_type": "stream",
     "text": [
      "<class 'pandas.core.frame.DataFrame'>\n",
      "RangeIndex: 1177773 entries, 0 to 1177772\n",
      "Data columns (total 12 columns):\n",
      " #   Column                                             Non-Null Count    Dtype  \n",
      "---  ------                                             --------------    -----  \n",
      " 0   Draudėjo kodas (code)                              1177773 non-null  int64  \n",
      " 1   Juridinių asmenų registro kodas (jarCode)          1171537 non-null  float64\n",
      " 2   Pavadinimas (name)                                 1177773 non-null  object \n",
      " 3   Savivaldybė, kurioje registruota(municipality)     1177773 non-null  object \n",
      " 4   Ekonominės veiklos rūšies kodas(ecoActCode)        1155536 non-null  float64\n",
      " 5   Ekonominės veiklos rūšies pavadinimas(ecoActName)  1155523 non-null  object \n",
      " 6   Mėnuo (month)                                      1177773 non-null  int64  \n",
      " 7   Vidutinis darbo užmokestis (avgWage)               504228 non-null   float64\n",
      " 8   Apdraustųjų skaičius (numInsured)                  1177773 non-null  int64  \n",
      " 9   Vidutinis darbo užmokestis II (avgWage2)           2564 non-null     float64\n",
      " 10  Apdraustųjų skaičius II (numInsured2)              1177773 non-null  int64  \n",
      " 11  Valstybinio socialinio draudimo įmoka (tax)        504577 non-null   float64\n",
      "dtypes: float64(5), int64(4), object(3)\n",
      "memory usage: 107.8+ MB\n"
     ]
    },
    {
     "data": {
      "application/javascript": "\n            setTimeout(function() {\n                var nbb_cell_id = 627;\n                var nbb_unformatted_code = \"sodra_2020.info()\";\n                var nbb_formatted_code = \"sodra_2020.info()\";\n                var nbb_cells = Jupyter.notebook.get_cells();\n                for (var i = 0; i < nbb_cells.length; ++i) {\n                    if (nbb_cells[i].input_prompt_number == nbb_cell_id) {\n                        if (nbb_cells[i].get_text() == nbb_unformatted_code) {\n                             nbb_cells[i].set_text(nbb_formatted_code);\n                        }\n                        break;\n                    }\n                }\n            }, 500);\n            ",
      "text/plain": [
       "<IPython.core.display.Javascript object>"
      ]
     },
     "metadata": {},
     "output_type": "display_data"
    }
   ],
   "source": [
    "sodra_2020.info()"
   ]
  },
  {
   "cell_type": "code",
   "execution_count": 628,
   "id": "1dba0752-605f-41b0-bbc4-9c334a9cc661",
   "metadata": {},
   "outputs": [
    {
     "data": {
      "application/javascript": "\n            setTimeout(function() {\n                var nbb_cell_id = 628;\n                var nbb_unformatted_code = \"# pasilieku tik reikalingus columns'us.\\n# nesirenku \\nrequired_cols = ['Juridini\\u0173 asmen\\u0173 registro kodas (jarCode)',\\n                'Pavadinimas (name)',\\n                 'Vidutinis darbo u\\u017emokestis (avgWage)',\\n                 'M\\u0117nuo (month)',\\n                 'Apdraust\\u0173j\\u0173 skai\\u010dius (numInsured)',\\n                 'Vidutinis darbo u\\u017emokestis II (avgWage2)',\\n                 'Apdraust\\u0173j\\u0173 skai\\u010dius II (numInsured2)',\\n                 'Ekonomin\\u0117s veiklos r\\u016b\\u0161ies kodas(ecoActCode)',\\n                 'Ekonomin\\u0117s veiklos r\\u016b\\u0161ies pavadinimas(ecoActName)',\\n                 'Savivaldyb\\u0117, kurioje registruota(municipality)'\\n                ]\\nsodra_2019 = sodra_2019[required_cols]\\nsodra_2020 = sodra_2020[required_cols]\";\n                var nbb_formatted_code = \"# pasilieku tik reikalingus columns'us.\\n# nesirenku\\nrequired_cols = [\\n    \\\"Juridini\\u0173 asmen\\u0173 registro kodas (jarCode)\\\",\\n    \\\"Pavadinimas (name)\\\",\\n    \\\"Vidutinis darbo u\\u017emokestis (avgWage)\\\",\\n    \\\"M\\u0117nuo (month)\\\",\\n    \\\"Apdraust\\u0173j\\u0173 skai\\u010dius (numInsured)\\\",\\n    \\\"Vidutinis darbo u\\u017emokestis II (avgWage2)\\\",\\n    \\\"Apdraust\\u0173j\\u0173 skai\\u010dius II (numInsured2)\\\",\\n    \\\"Ekonomin\\u0117s veiklos r\\u016b\\u0161ies kodas(ecoActCode)\\\",\\n    \\\"Ekonomin\\u0117s veiklos r\\u016b\\u0161ies pavadinimas(ecoActName)\\\",\\n    \\\"Savivaldyb\\u0117, kurioje registruota(municipality)\\\",\\n]\\nsodra_2019 = sodra_2019[required_cols]\\nsodra_2020 = sodra_2020[required_cols]\";\n                var nbb_cells = Jupyter.notebook.get_cells();\n                for (var i = 0; i < nbb_cells.length; ++i) {\n                    if (nbb_cells[i].input_prompt_number == nbb_cell_id) {\n                        if (nbb_cells[i].get_text() == nbb_unformatted_code) {\n                             nbb_cells[i].set_text(nbb_formatted_code);\n                        }\n                        break;\n                    }\n                }\n            }, 500);\n            ",
      "text/plain": [
       "<IPython.core.display.Javascript object>"
      ]
     },
     "metadata": {},
     "output_type": "display_data"
    }
   ],
   "source": [
    "# pasilieku tik reikalingus columns'us.\n",
    "# nesirenku \n",
    "required_cols = ['Juridinių asmenų registro kodas (jarCode)',\n",
    "                'Pavadinimas (name)',\n",
    "                 'Vidutinis darbo užmokestis (avgWage)',\n",
    "                 'Mėnuo (month)',\n",
    "                 'Apdraustųjų skaičius (numInsured)',\n",
    "                 'Vidutinis darbo užmokestis II (avgWage2)',\n",
    "                 'Apdraustųjų skaičius II (numInsured2)',\n",
    "                 'Ekonominės veiklos rūšies kodas(ecoActCode)',\n",
    "                 'Ekonominės veiklos rūšies pavadinimas(ecoActName)',\n",
    "                 'Savivaldybė, kurioje registruota(municipality)'\n",
    "                ]\n",
    "sodra_2019 = sodra_2019[required_cols]\n",
    "sodra_2020 = sodra_2020[required_cols]"
   ]
  },
  {
   "cell_type": "code",
   "execution_count": 629,
   "id": "c08286fe-3719-4445-8729-82946cc7b344",
   "metadata": {},
   "outputs": [
    {
     "name": "stdout",
     "output_type": "stream",
     "text": [
      "<class 'pandas.core.frame.DataFrame'>\n",
      "Int64Index: 2341102 entries, 0 to 1177772\n",
      "Data columns (total 10 columns):\n",
      " #   Column                                             Dtype  \n",
      "---  ------                                             -----  \n",
      " 0   Juridinių asmenų registro kodas (jarCode)          float64\n",
      " 1   Pavadinimas (name)                                 object \n",
      " 2   Vidutinis darbo užmokestis (avgWage)               float64\n",
      " 3   Mėnuo (month)                                      int64  \n",
      " 4   Apdraustųjų skaičius (numInsured)                  int64  \n",
      " 5   Vidutinis darbo užmokestis II (avgWage2)           float64\n",
      " 6   Apdraustųjų skaičius II (numInsured2)              int64  \n",
      " 7   Ekonominės veiklos rūšies kodas(ecoActCode)        float64\n",
      " 8   Ekonominės veiklos rūšies pavadinimas(ecoActName)  object \n",
      " 9   Savivaldybė, kurioje registruota(municipality)     object \n",
      "dtypes: float64(4), int64(3), object(3)\n",
      "memory usage: 196.5+ MB\n"
     ]
    },
    {
     "data": {
      "application/javascript": "\n            setTimeout(function() {\n                var nbb_cell_id = 629;\n                var nbb_unformatted_code = \"sodros_duomenys = pd.concat([sodra_2019, sodra_2020])\\nsodros_duomenys.info()\";\n                var nbb_formatted_code = \"sodros_duomenys = pd.concat([sodra_2019, sodra_2020])\\nsodros_duomenys.info()\";\n                var nbb_cells = Jupyter.notebook.get_cells();\n                for (var i = 0; i < nbb_cells.length; ++i) {\n                    if (nbb_cells[i].input_prompt_number == nbb_cell_id) {\n                        if (nbb_cells[i].get_text() == nbb_unformatted_code) {\n                             nbb_cells[i].set_text(nbb_formatted_code);\n                        }\n                        break;\n                    }\n                }\n            }, 500);\n            ",
      "text/plain": [
       "<IPython.core.display.Javascript object>"
      ]
     },
     "metadata": {},
     "output_type": "display_data"
    }
   ],
   "source": [
    "sodros_duomenys = pd.concat([sodra_2019, sodra_2020])\n",
    "sodros_duomenys.info()"
   ]
  },
  {
   "cell_type": "code",
   "execution_count": 630,
   "id": "7d2c2e7a-5e1e-4861-82aa-0c6990d8cd4c",
   "metadata": {},
   "outputs": [
    {
     "data": {
      "text/plain": [
       "0"
      ]
     },
     "execution_count": 630,
     "metadata": {},
     "output_type": "execute_result"
    },
    {
     "data": {
      "application/javascript": "\n            setTimeout(function() {\n                var nbb_cell_id = 630;\n                var nbb_unformatted_code = \"balanso_ataskaita['obj_kodas'].isna().sum() + pelno_ataskaita['obj_kodas'].isna().sum()\";\n                var nbb_formatted_code = \"balanso_ataskaita[\\\"obj_kodas\\\"].isna().sum() + pelno_ataskaita[\\\"obj_kodas\\\"].isna().sum()\";\n                var nbb_cells = Jupyter.notebook.get_cells();\n                for (var i = 0; i < nbb_cells.length; ++i) {\n                    if (nbb_cells[i].input_prompt_number == nbb_cell_id) {\n                        if (nbb_cells[i].get_text() == nbb_unformatted_code) {\n                             nbb_cells[i].set_text(nbb_formatted_code);\n                        }\n                        break;\n                    }\n                }\n            }, 500);\n            ",
      "text/plain": [
       "<IPython.core.display.Javascript object>"
      ]
     },
     "metadata": {},
     "output_type": "display_data"
    }
   ],
   "source": [
    "balanso_ataskaita['obj_kodas'].isna().sum() + pelno_ataskaita['obj_kodas'].isna().sum()"
   ]
  },
  {
   "cell_type": "code",
   "execution_count": 631,
   "id": "77cad919-d5af-4204-b711-b82f36fa4e9f",
   "metadata": {},
   "outputs": [
    {
     "data": {
      "text/plain": [
       "12075"
      ]
     },
     "execution_count": 631,
     "metadata": {},
     "output_type": "execute_result"
    },
    {
     "data": {
      "application/javascript": "\n            setTimeout(function() {\n                var nbb_cell_id = 631;\n                var nbb_unformatted_code = \"sodros_duomenys['Juridini\\u0173 asmen\\u0173 registro kodas (jarCode)'].isna().sum()\";\n                var nbb_formatted_code = \"sodros_duomenys[\\\"Juridini\\u0173 asmen\\u0173 registro kodas (jarCode)\\\"].isna().sum()\";\n                var nbb_cells = Jupyter.notebook.get_cells();\n                for (var i = 0; i < nbb_cells.length; ++i) {\n                    if (nbb_cells[i].input_prompt_number == nbb_cell_id) {\n                        if (nbb_cells[i].get_text() == nbb_unformatted_code) {\n                             nbb_cells[i].set_text(nbb_formatted_code);\n                        }\n                        break;\n                    }\n                }\n            }, 500);\n            ",
      "text/plain": [
       "<IPython.core.display.Javascript object>"
      ]
     },
     "metadata": {},
     "output_type": "display_data"
    }
   ],
   "source": [
    "sodros_duomenys['Juridinių asmenų registro kodas (jarCode)'].isna().sum()\n"
   ]
  },
  {
   "cell_type": "code",
   "execution_count": 632,
   "id": "82dd1c2a-f7ce-4c64-ad18-84023ee5abab",
   "metadata": {},
   "outputs": [
    {
     "data": {
      "text/plain": [
       "array(['LATVIJOS RESPUBLIKOS AMBASADA', 'GOETHE-INSTITUT', 'BRITŲ TARYBA',\n",
       "       'LENKIJOS RESPUBLIKOS AMBASADA',\n",
       "       'RUSIJOS FEDERACIJOS AMBASADOS SOCIALINIO APRŪPINIMO SKYRIUS',\n",
       "       'JUNGTINIŲ AMERIKOS VALSTIJŲ AMBASADA', 'ŠVEDIJOS AMBASADA',\n",
       "       'NORVEGIJOS KARALYSTĖS AMBASADA', 'ITALIJOS RESPUBLIKOS AMBASADA',\n",
       "       'VOKIETIJOS FEDERACINĖS RESPUBLIKOS AMBASADA',\n",
       "       'PRANCŪZIJOS RESPUBLIKOS AMBASADA', 'DANIJOS KARALYSTĖS AMBASADA',\n",
       "       'SUOMIJOS RESPUBLIKOS AMBASADA', 'ČEKIJOS RESPUBLIKOS AMBASADA',\n",
       "       'ŠIAURĖS MINISTRŲ TARYBOS BIURAS LIETUVOJE',\n",
       "       'JUGTINĖS DIDŽIOSIOS BRITANIJOS IR ŠIAURĖS AIRIJOS KARALYSTĖS AMBASADA',\n",
       "       'MOKYMO IR PEDAGOGINIS KOMPLEKSAS \"PELESOS VAIKŲ DARŽELIS-VIDURINĖ MOKYKLA LIETUVIŲ MOKOMĄJA KALBA\"',\n",
       "       'KANADOS AMBASADOS SKYRIUS', 'JAPONIJOS AMBASADA',\n",
       "       'RUTRONIK ELEKTRONISCHE BAUELEMENTE GMBH'], dtype=object)"
      ]
     },
     "execution_count": 632,
     "metadata": {},
     "output_type": "execute_result"
    },
    {
     "data": {
      "application/javascript": "\n            setTimeout(function() {\n                var nbb_cell_id = 632;\n                var nbb_unformatted_code = \"sodros_duomenys[sodros_duomenys['Juridini\\u0173 asmen\\u0173 registro kodas (jarCode)'].isna()]['Pavadinimas (name)'].unique()[:20]\";\n                var nbb_formatted_code = \"sodros_duomenys[sodros_duomenys[\\\"Juridini\\u0173 asmen\\u0173 registro kodas (jarCode)\\\"].isna()][\\n    \\\"Pavadinimas (name)\\\"\\n].unique()[:20]\";\n                var nbb_cells = Jupyter.notebook.get_cells();\n                for (var i = 0; i < nbb_cells.length; ++i) {\n                    if (nbb_cells[i].input_prompt_number == nbb_cell_id) {\n                        if (nbb_cells[i].get_text() == nbb_unformatted_code) {\n                             nbb_cells[i].set_text(nbb_formatted_code);\n                        }\n                        break;\n                    }\n                }\n            }, 500);\n            ",
      "text/plain": [
       "<IPython.core.display.Javascript object>"
      ]
     },
     "metadata": {},
     "output_type": "display_data"
    }
   ],
   "source": [
    "sodros_duomenys[sodros_duomenys['Juridinių asmenų registro kodas (jarCode)'].isna()]['Pavadinimas (name)'].unique()[:20]"
   ]
  },
  {
   "cell_type": "markdown",
   "id": "a4f4a31c-bc4b-4e13-887d-4edf8124aaaa",
   "metadata": {},
   "source": [
    "Kadangi registrų duomenyse (balanso ir pelno ataskaitose 2020 ir 2021 metais) nėra nežinomų obj. kodo reikšmių, nežinomas reikšmes pašalinu ir iš sodros duomenų."
   ]
  },
  {
   "cell_type": "code",
   "execution_count": 633,
   "id": "c1b6ad22-00b0-494f-bfc2-90ec5f30e735",
   "metadata": {},
   "outputs": [
    {
     "data": {
      "application/javascript": "\n            setTimeout(function() {\n                var nbb_cell_id = 633;\n                var nbb_unformatted_code = \"sodros_duomenys = sodros_duomenys[~(sodros_duomenys['Juridini\\u0173 asmen\\u0173 registro kodas (jarCode)'].isna())]\";\n                var nbb_formatted_code = \"sodros_duomenys = sodros_duomenys[\\n    ~(sodros_duomenys[\\\"Juridini\\u0173 asmen\\u0173 registro kodas (jarCode)\\\"].isna())\\n]\";\n                var nbb_cells = Jupyter.notebook.get_cells();\n                for (var i = 0; i < nbb_cells.length; ++i) {\n                    if (nbb_cells[i].input_prompt_number == nbb_cell_id) {\n                        if (nbb_cells[i].get_text() == nbb_unformatted_code) {\n                             nbb_cells[i].set_text(nbb_formatted_code);\n                        }\n                        break;\n                    }\n                }\n            }, 500);\n            ",
      "text/plain": [
       "<IPython.core.display.Javascript object>"
      ]
     },
     "metadata": {},
     "output_type": "display_data"
    }
   ],
   "source": [
    "sodros_duomenys = sodros_duomenys[~(sodros_duomenys['Juridinių asmenų registro kodas (jarCode)'].isna())]"
   ]
  },
  {
   "cell_type": "code",
   "execution_count": 634,
   "id": "5acebfd6-7e1e-4987-b568-f2a6c784bccd",
   "metadata": {},
   "outputs": [
    {
     "data": {
      "text/plain": [
       "0"
      ]
     },
     "execution_count": 634,
     "metadata": {},
     "output_type": "execute_result"
    },
    {
     "data": {
      "application/javascript": "\n            setTimeout(function() {\n                var nbb_cell_id = 634;\n                var nbb_unformatted_code = \"sodros_duomenys['Juridini\\u0173 asmen\\u0173 registro kodas (jarCode)'].isna().sum()\";\n                var nbb_formatted_code = \"sodros_duomenys[\\\"Juridini\\u0173 asmen\\u0173 registro kodas (jarCode)\\\"].isna().sum()\";\n                var nbb_cells = Jupyter.notebook.get_cells();\n                for (var i = 0; i < nbb_cells.length; ++i) {\n                    if (nbb_cells[i].input_prompt_number == nbb_cell_id) {\n                        if (nbb_cells[i].get_text() == nbb_unformatted_code) {\n                             nbb_cells[i].set_text(nbb_formatted_code);\n                        }\n                        break;\n                    }\n                }\n            }, 500);\n            ",
      "text/plain": [
       "<IPython.core.display.Javascript object>"
      ]
     },
     "metadata": {},
     "output_type": "display_data"
    }
   ],
   "source": [
    "sodros_duomenys['Juridinių asmenų registro kodas (jarCode)'].isna().sum()"
   ]
  },
  {
   "cell_type": "code",
   "execution_count": 635,
   "id": "2dbcb092-f1ca-46c3-ba83-44c59433233f",
   "metadata": {},
   "outputs": [
    {
     "data": {
      "text/html": [
       "<div>\n",
       "<style scoped>\n",
       "    .dataframe tbody tr th:only-of-type {\n",
       "        vertical-align: middle;\n",
       "    }\n",
       "\n",
       "    .dataframe tbody tr th {\n",
       "        vertical-align: top;\n",
       "    }\n",
       "\n",
       "    .dataframe thead th {\n",
       "        text-align: right;\n",
       "    }\n",
       "</style>\n",
       "<table border=\"1\" class=\"dataframe\">\n",
       "  <thead>\n",
       "    <tr style=\"text-align: right;\">\n",
       "      <th></th>\n",
       "      <th>Juridinių asmenų registro kodas (jarCode)</th>\n",
       "      <th>Pavadinimas (name)</th>\n",
       "      <th>Vidutinis darbo užmokestis (avgWage)</th>\n",
       "      <th>Mėnuo (month)</th>\n",
       "      <th>Apdraustųjų skaičius (numInsured)</th>\n",
       "      <th>Vidutinis darbo užmokestis II (avgWage2)</th>\n",
       "      <th>Apdraustųjų skaičius II (numInsured2)</th>\n",
       "      <th>Ekonominės veiklos rūšies kodas(ecoActCode)</th>\n",
       "      <th>Ekonominės veiklos rūšies pavadinimas(ecoActName)</th>\n",
       "      <th>Savivaldybė, kurioje registruota(municipality)</th>\n",
       "    </tr>\n",
       "  </thead>\n",
       "  <tbody>\n",
       "    <tr>\n",
       "      <th>1073332</th>\n",
       "      <td>304748236.0000</td>\n",
       "      <td>UAB RAIAGRO</td>\n",
       "      <td>NaN</td>\n",
       "      <td>201905</td>\n",
       "      <td>1</td>\n",
       "      <td>NaN</td>\n",
       "      <td>0</td>\n",
       "      <td>467510.0000</td>\n",
       "      <td>Agrocheminių produktų ir trąšų didmeninė prekyba</td>\n",
       "      <td>Vilniaus m. sav.</td>\n",
       "    </tr>\n",
       "    <tr>\n",
       "      <th>594505</th>\n",
       "      <td>302421093.0000</td>\n",
       "      <td>TOMORROW'S TRENDS &amp; TOOLS, UAB</td>\n",
       "      <td>988.3700</td>\n",
       "      <td>201902</td>\n",
       "      <td>79</td>\n",
       "      <td>NaN</td>\n",
       "      <td>0</td>\n",
       "      <td>461900.0000</td>\n",
       "      <td>Įvairių prekių pardavimo agentų veikla</td>\n",
       "      <td>Vilniaus m. sav.</td>\n",
       "    </tr>\n",
       "    <tr>\n",
       "      <th>230850</th>\n",
       "      <td>155494396.0000</td>\n",
       "      <td>UŽDAROJI AKCINĖ BENDROVĖ \"MELEKSAS\"</td>\n",
       "      <td>969.7800</td>\n",
       "      <td>201909</td>\n",
       "      <td>80</td>\n",
       "      <td>NaN</td>\n",
       "      <td>0</td>\n",
       "      <td>412000.0000</td>\n",
       "      <td>Gyvenamųjų ir negyvenamųjų pastatų statyba</td>\n",
       "      <td>Ignalinos r. sav.</td>\n",
       "    </tr>\n",
       "  </tbody>\n",
       "</table>\n",
       "</div>"
      ],
      "text/plain": [
       "         Juridinių asmenų registro kodas (jarCode)  \\\n",
       "1073332                             304748236.0000   \n",
       "594505                              302421093.0000   \n",
       "230850                              155494396.0000   \n",
       "\n",
       "                          Pavadinimas (name)  \\\n",
       "1073332                          UAB RAIAGRO   \n",
       "594505        TOMORROW'S TRENDS & TOOLS, UAB   \n",
       "230850   UŽDAROJI AKCINĖ BENDROVĖ \"MELEKSAS\"   \n",
       "\n",
       "         Vidutinis darbo užmokestis (avgWage)  Mėnuo (month)  \\\n",
       "1073332                                   NaN         201905   \n",
       "594505                               988.3700         201902   \n",
       "230850                               969.7800         201909   \n",
       "\n",
       "         Apdraustųjų skaičius (numInsured)  \\\n",
       "1073332                                  1   \n",
       "594505                                  79   \n",
       "230850                                  80   \n",
       "\n",
       "         Vidutinis darbo užmokestis II (avgWage2)  \\\n",
       "1073332                                       NaN   \n",
       "594505                                        NaN   \n",
       "230850                                        NaN   \n",
       "\n",
       "         Apdraustųjų skaičius II (numInsured2)  \\\n",
       "1073332                                      0   \n",
       "594505                                       0   \n",
       "230850                                       0   \n",
       "\n",
       "         Ekonominės veiklos rūšies kodas(ecoActCode)  \\\n",
       "1073332                                  467510.0000   \n",
       "594505                                   461900.0000   \n",
       "230850                                   412000.0000   \n",
       "\n",
       "        Ekonominės veiklos rūšies pavadinimas(ecoActName)  \\\n",
       "1073332  Agrocheminių produktų ir trąšų didmeninė prekyba   \n",
       "594505             Įvairių prekių pardavimo agentų veikla   \n",
       "230850         Gyvenamųjų ir negyvenamųjų pastatų statyba   \n",
       "\n",
       "        Savivaldybė, kurioje registruota(municipality)  \n",
       "1073332                               Vilniaus m. sav.  \n",
       "594505                                Vilniaus m. sav.  \n",
       "230850                               Ignalinos r. sav.  "
      ]
     },
     "execution_count": 635,
     "metadata": {},
     "output_type": "execute_result"
    },
    {
     "data": {
      "application/javascript": "\n            setTimeout(function() {\n                var nbb_cell_id = 635;\n                var nbb_unformatted_code = \"sodros_duomenys.sample(3)\";\n                var nbb_formatted_code = \"sodros_duomenys.sample(3)\";\n                var nbb_cells = Jupyter.notebook.get_cells();\n                for (var i = 0; i < nbb_cells.length; ++i) {\n                    if (nbb_cells[i].input_prompt_number == nbb_cell_id) {\n                        if (nbb_cells[i].get_text() == nbb_unformatted_code) {\n                             nbb_cells[i].set_text(nbb_formatted_code);\n                        }\n                        break;\n                    }\n                }\n            }, 500);\n            ",
      "text/plain": [
       "<IPython.core.display.Javascript object>"
      ]
     },
     "metadata": {},
     "output_type": "display_data"
    }
   ],
   "source": [
    "sodros_duomenys.sample(3)"
   ]
  },
  {
   "cell_type": "code",
   "execution_count": 636,
   "id": "c998bd70-2afb-44f7-b084-d02c6e2e3fe7",
   "metadata": {},
   "outputs": [
    {
     "data": {
      "application/javascript": "\n            setTimeout(function() {\n                var nbb_cell_id = 636;\n                var nbb_unformatted_code = \"column_mapping = {\\n                 'Juridini\\u0173 asmen\\u0173 registro kodas (jarCode)' : 'obj_kodas',\\n                 'Pavadinimas (name)' : 'obj_pav',\\n                 'Vidutinis darbo u\\u017emokestis (avgWage)' : 'vid_atlyginimas_1',\\n                 'M\\u0117nuo (month)' : 'menuo',\\n                 'Apdraust\\u0173j\\u0173 skai\\u010dius (numInsured)': 'darb_sk_1',\\n                 'Vidutinis darbo u\\u017emokestis II (avgWage2)': 'vid_atlyginimas_2',\\n                 'Apdraust\\u0173j\\u0173 skai\\u010dius II (numInsured2)' : 'darb_sk_2',\\n                 'Ekonomin\\u0117s veiklos r\\u016b\\u0161ies kodas(ecoActCode)' : 'veikl_rus_kod',\\n                 'Ekonomin\\u0117s veiklos r\\u016b\\u0161ies pavadinimas(ecoActName)': 'veikl_rus_pav',\\n                 'Savivaldyb\\u0117, kurioje registruota(municipality)' : 'savivaldybe'\\n}\\n\\nsodros_duomenys.rename(columns=column_mapping,inplace=True)\";\n                var nbb_formatted_code = \"column_mapping = {\\n    \\\"Juridini\\u0173 asmen\\u0173 registro kodas (jarCode)\\\": \\\"obj_kodas\\\",\\n    \\\"Pavadinimas (name)\\\": \\\"obj_pav\\\",\\n    \\\"Vidutinis darbo u\\u017emokestis (avgWage)\\\": \\\"vid_atlyginimas_1\\\",\\n    \\\"M\\u0117nuo (month)\\\": \\\"menuo\\\",\\n    \\\"Apdraust\\u0173j\\u0173 skai\\u010dius (numInsured)\\\": \\\"darb_sk_1\\\",\\n    \\\"Vidutinis darbo u\\u017emokestis II (avgWage2)\\\": \\\"vid_atlyginimas_2\\\",\\n    \\\"Apdraust\\u0173j\\u0173 skai\\u010dius II (numInsured2)\\\": \\\"darb_sk_2\\\",\\n    \\\"Ekonomin\\u0117s veiklos r\\u016b\\u0161ies kodas(ecoActCode)\\\": \\\"veikl_rus_kod\\\",\\n    \\\"Ekonomin\\u0117s veiklos r\\u016b\\u0161ies pavadinimas(ecoActName)\\\": \\\"veikl_rus_pav\\\",\\n    \\\"Savivaldyb\\u0117, kurioje registruota(municipality)\\\": \\\"savivaldybe\\\",\\n}\\n\\nsodros_duomenys.rename(columns=column_mapping, inplace=True)\";\n                var nbb_cells = Jupyter.notebook.get_cells();\n                for (var i = 0; i < nbb_cells.length; ++i) {\n                    if (nbb_cells[i].input_prompt_number == nbb_cell_id) {\n                        if (nbb_cells[i].get_text() == nbb_unformatted_code) {\n                             nbb_cells[i].set_text(nbb_formatted_code);\n                        }\n                        break;\n                    }\n                }\n            }, 500);\n            ",
      "text/plain": [
       "<IPython.core.display.Javascript object>"
      ]
     },
     "metadata": {},
     "output_type": "display_data"
    }
   ],
   "source": [
    "column_mapping = {\n",
    "                 'Juridinių asmenų registro kodas (jarCode)' : 'obj_kodas',\n",
    "                 'Pavadinimas (name)' : 'obj_pav',\n",
    "                 'Vidutinis darbo užmokestis (avgWage)' : 'vid_atlyginimas_1',\n",
    "                 'Mėnuo (month)' : 'menuo',\n",
    "                 'Apdraustųjų skaičius (numInsured)': 'darb_sk_1',\n",
    "                 'Vidutinis darbo užmokestis II (avgWage2)': 'vid_atlyginimas_2',\n",
    "                 'Apdraustųjų skaičius II (numInsured2)' : 'darb_sk_2',\n",
    "                 'Ekonominės veiklos rūšies kodas(ecoActCode)' : 'veikl_rus_kod',\n",
    "                 'Ekonominės veiklos rūšies pavadinimas(ecoActName)': 'veikl_rus_pav',\n",
    "                 'Savivaldybė, kurioje registruota(municipality)' : 'savivaldybe'\n",
    "}\n",
    "\n",
    "sodros_duomenys.rename(columns=column_mapping,inplace=True)"
   ]
  },
  {
   "cell_type": "code",
   "execution_count": 637,
   "id": "b60db8c9-8790-4197-bf07-6d4dabffb10d",
   "metadata": {},
   "outputs": [
    {
     "data": {
      "text/plain": [
       "obj_kodas                  0\n",
       "obj_pav                    0\n",
       "vid_atlyginimas_1    1310599\n",
       "menuo                      0\n",
       "darb_sk_1                  0\n",
       "vid_atlyginimas_2    2323674\n",
       "darb_sk_2                  0\n",
       "veikl_rus_kod          31964\n",
       "veikl_rus_pav          32001\n",
       "savivaldybe                0\n",
       "dtype: int64"
      ]
     },
     "execution_count": 637,
     "metadata": {},
     "output_type": "execute_result"
    },
    {
     "data": {
      "application/javascript": "\n            setTimeout(function() {\n                var nbb_cell_id = 637;\n                var nbb_unformatted_code = \"sodros_duomenys.isna().sum()\";\n                var nbb_formatted_code = \"sodros_duomenys.isna().sum()\";\n                var nbb_cells = Jupyter.notebook.get_cells();\n                for (var i = 0; i < nbb_cells.length; ++i) {\n                    if (nbb_cells[i].input_prompt_number == nbb_cell_id) {\n                        if (nbb_cells[i].get_text() == nbb_unformatted_code) {\n                             nbb_cells[i].set_text(nbb_formatted_code);\n                        }\n                        break;\n                    }\n                }\n            }, 500);\n            ",
      "text/plain": [
       "<IPython.core.display.Javascript object>"
      ]
     },
     "metadata": {},
     "output_type": "display_data"
    }
   ],
   "source": [
    "sodros_duomenys.isna().sum()"
   ]
  },
  {
   "cell_type": "markdown",
   "id": "dd4f883f-fd56-49ff-87dc-35efca5005c8",
   "metadata": {},
   "source": [
    "vekl_rus_kod ir viekl_rus_pav -> pati logika, kaip ir su \"Juridinių asmenų registro kodas (jarCode)\""
   ]
  },
  {
   "cell_type": "code",
   "execution_count": 638,
   "id": "c67964c0-efe8-4a8a-91c7-ddd3263d0cb5",
   "metadata": {},
   "outputs": [
    {
     "data": {
      "application/javascript": "\n            setTimeout(function() {\n                var nbb_cell_id = 638;\n                var nbb_unformatted_code = \"sodros_duomenys = sodros_duomenys[~(sodros_duomenys['veikl_rus_kod'].isna())]\\nsodros_duomenys = sodros_duomenys[~(sodros_duomenys['veikl_rus_pav'].isna())]\";\n                var nbb_formatted_code = \"sodros_duomenys = sodros_duomenys[~(sodros_duomenys[\\\"veikl_rus_kod\\\"].isna())]\\nsodros_duomenys = sodros_duomenys[~(sodros_duomenys[\\\"veikl_rus_pav\\\"].isna())]\";\n                var nbb_cells = Jupyter.notebook.get_cells();\n                for (var i = 0; i < nbb_cells.length; ++i) {\n                    if (nbb_cells[i].input_prompt_number == nbb_cell_id) {\n                        if (nbb_cells[i].get_text() == nbb_unformatted_code) {\n                             nbb_cells[i].set_text(nbb_formatted_code);\n                        }\n                        break;\n                    }\n                }\n            }, 500);\n            ",
      "text/plain": [
       "<IPython.core.display.Javascript object>"
      ]
     },
     "metadata": {},
     "output_type": "display_data"
    }
   ],
   "source": [
    "sodros_duomenys = sodros_duomenys[~(sodros_duomenys['veikl_rus_kod'].isna())]\n",
    "sodros_duomenys = sodros_duomenys[~(sodros_duomenys['veikl_rus_pav'].isna())]"
   ]
  },
  {
   "cell_type": "code",
   "execution_count": 639,
   "id": "e3000cdb-790b-459f-bead-351dd292ff5e",
   "metadata": {},
   "outputs": [
    {
     "data": {
      "application/javascript": "\n            setTimeout(function() {\n                var nbb_cell_id = 639;\n                var nbb_unformatted_code = \"sodros_duomenys['data'] = pd.to_datetime(sodros_duomenys['menuo'],format='%Y%m')\";\n                var nbb_formatted_code = \"sodros_duomenys[\\\"data\\\"] = pd.to_datetime(sodros_duomenys[\\\"menuo\\\"], format=\\\"%Y%m\\\")\";\n                var nbb_cells = Jupyter.notebook.get_cells();\n                for (var i = 0; i < nbb_cells.length; ++i) {\n                    if (nbb_cells[i].input_prompt_number == nbb_cell_id) {\n                        if (nbb_cells[i].get_text() == nbb_unformatted_code) {\n                             nbb_cells[i].set_text(nbb_formatted_code);\n                        }\n                        break;\n                    }\n                }\n            }, 500);\n            ",
      "text/plain": [
       "<IPython.core.display.Javascript object>"
      ]
     },
     "metadata": {},
     "output_type": "display_data"
    }
   ],
   "source": [
    "sodros_duomenys['data'] = pd.to_datetime(sodros_duomenys['menuo'],format='%Y%m')"
   ]
  },
  {
   "cell_type": "code",
   "execution_count": 640,
   "id": "dcfa0a8f-645b-4242-87dd-511febf4f4bb",
   "metadata": {},
   "outputs": [
    {
     "data": {
      "application/javascript": "\n            setTimeout(function() {\n                var nbb_cell_id = 640;\n                var nbb_unformatted_code = \"sodros_duomenys['metai'] = sodros_duomenys['data'].dt.year\\nsodros_duomenys['menuo'] = sodros_duomenys['data'].dt.month\";\n                var nbb_formatted_code = \"sodros_duomenys[\\\"metai\\\"] = sodros_duomenys[\\\"data\\\"].dt.year\\nsodros_duomenys[\\\"menuo\\\"] = sodros_duomenys[\\\"data\\\"].dt.month\";\n                var nbb_cells = Jupyter.notebook.get_cells();\n                for (var i = 0; i < nbb_cells.length; ++i) {\n                    if (nbb_cells[i].input_prompt_number == nbb_cell_id) {\n                        if (nbb_cells[i].get_text() == nbb_unformatted_code) {\n                             nbb_cells[i].set_text(nbb_formatted_code);\n                        }\n                        break;\n                    }\n                }\n            }, 500);\n            ",
      "text/plain": [
       "<IPython.core.display.Javascript object>"
      ]
     },
     "metadata": {},
     "output_type": "display_data"
    }
   ],
   "source": [
    "sodros_duomenys['metai'] = sodros_duomenys['data'].dt.year\n",
    "sodros_duomenys['menuo'] = sodros_duomenys['data'].dt.month"
   ]
  },
  {
   "cell_type": "markdown",
   "id": "307236cb-c19d-4290-ad80-9fbbfd65c027",
   "metadata": {},
   "source": [
    "Matome, kad nežinomos reikšmės \"vidutinis atlyginimas 1\" sudaro net 56% visu reiksmiu (2019 ir 2020 kartu). o vid atlyginimas2 net 99,7 procento visų reikšmių.\n",
    "todėl išmetu vid_atlyginimas_2 stulpelį"
   ]
  },
  {
   "cell_type": "code",
   "execution_count": 641,
   "id": "7a7eb008-1e81-4be4-91df-fe1f4025d16c",
   "metadata": {},
   "outputs": [
    {
     "data": {
      "text/plain": [
       "obj_kodas           0.0000\n",
       "obj_pav             0.0000\n",
       "vid_atlyginimas_1   0.5605\n",
       "menuo               0.0000\n",
       "darb_sk_1           0.0000\n",
       "vid_atlyginimas_2   0.9977\n",
       "darb_sk_2           0.0000\n",
       "veikl_rus_kod       0.0000\n",
       "veikl_rus_pav       0.0000\n",
       "savivaldybe         0.0000\n",
       "data                0.0000\n",
       "metai               0.0000\n",
       "dtype: float64"
      ]
     },
     "execution_count": 641,
     "metadata": {},
     "output_type": "execute_result"
    },
    {
     "data": {
      "application/javascript": "\n            setTimeout(function() {\n                var nbb_cell_id = 641;\n                var nbb_unformatted_code = \"sodros_duomenys.isna().sum()/len(sodros_duomenys)\";\n                var nbb_formatted_code = \"sodros_duomenys.isna().sum() / len(sodros_duomenys)\";\n                var nbb_cells = Jupyter.notebook.get_cells();\n                for (var i = 0; i < nbb_cells.length; ++i) {\n                    if (nbb_cells[i].input_prompt_number == nbb_cell_id) {\n                        if (nbb_cells[i].get_text() == nbb_unformatted_code) {\n                             nbb_cells[i].set_text(nbb_formatted_code);\n                        }\n                        break;\n                    }\n                }\n            }, 500);\n            ",
      "text/plain": [
       "<IPython.core.display.Javascript object>"
      ]
     },
     "metadata": {},
     "output_type": "display_data"
    }
   ],
   "source": [
    "sodros_duomenys.isna().sum()/len(sodros_duomenys)"
   ]
  },
  {
   "cell_type": "code",
   "execution_count": 642,
   "id": "5b6de4f8-28b0-4bf1-a73b-7335c24cf8b6",
   "metadata": {},
   "outputs": [
    {
     "data": {
      "application/javascript": "\n            setTimeout(function() {\n                var nbb_cell_id = 642;\n                var nbb_unformatted_code = \"sodros_duomenys.drop(['vid_atlyginimas_2'],axis=1, inplace=True)\";\n                var nbb_formatted_code = \"sodros_duomenys.drop([\\\"vid_atlyginimas_2\\\"], axis=1, inplace=True)\";\n                var nbb_cells = Jupyter.notebook.get_cells();\n                for (var i = 0; i < nbb_cells.length; ++i) {\n                    if (nbb_cells[i].input_prompt_number == nbb_cell_id) {\n                        if (nbb_cells[i].get_text() == nbb_unformatted_code) {\n                             nbb_cells[i].set_text(nbb_formatted_code);\n                        }\n                        break;\n                    }\n                }\n            }, 500);\n            ",
      "text/plain": [
       "<IPython.core.display.Javascript object>"
      ]
     },
     "metadata": {},
     "output_type": "display_data"
    }
   ],
   "source": [
    "sodros_duomenys.drop(['vid_atlyginimas_2'],axis=1, inplace=True)"
   ]
  },
  {
   "cell_type": "code",
   "execution_count": 643,
   "id": "dc75d8a3-0cd6-4840-847b-182b37d1e21b",
   "metadata": {},
   "outputs": [
    {
     "data": {
      "text/plain": [
       "obj_kodas           0.0000\n",
       "obj_pav             0.0000\n",
       "vid_atlyginimas_1   0.5605\n",
       "menuo               0.0000\n",
       "darb_sk_1           0.0000\n",
       "darb_sk_2           0.0000\n",
       "veikl_rus_kod       0.0000\n",
       "veikl_rus_pav       0.0000\n",
       "savivaldybe         0.0000\n",
       "data                0.0000\n",
       "metai               0.0000\n",
       "dtype: float64"
      ]
     },
     "execution_count": 643,
     "metadata": {},
     "output_type": "execute_result"
    },
    {
     "data": {
      "application/javascript": "\n            setTimeout(function() {\n                var nbb_cell_id = 643;\n                var nbb_unformatted_code = \"sodros_duomenys.isna().sum()/len(sodros_duomenys)\";\n                var nbb_formatted_code = \"sodros_duomenys.isna().sum() / len(sodros_duomenys)\";\n                var nbb_cells = Jupyter.notebook.get_cells();\n                for (var i = 0; i < nbb_cells.length; ++i) {\n                    if (nbb_cells[i].input_prompt_number == nbb_cell_id) {\n                        if (nbb_cells[i].get_text() == nbb_unformatted_code) {\n                             nbb_cells[i].set_text(nbb_formatted_code);\n                        }\n                        break;\n                    }\n                }\n            }, 500);\n            ",
      "text/plain": [
       "<IPython.core.display.Javascript object>"
      ]
     },
     "metadata": {},
     "output_type": "display_data"
    }
   ],
   "source": [
    "sodros_duomenys.isna().sum()/len(sodros_duomenys)"
   ]
  },
  {
   "cell_type": "code",
   "execution_count": 644,
   "id": "761c45fd-2c72-4501-926d-2318b429a80e",
   "metadata": {},
   "outputs": [
    {
     "data": {
      "application/javascript": "\n            setTimeout(function() {\n                var nbb_cell_id = 644;\n                var nbb_unformatted_code = \"# sodros_duomenys = sodros_duomenys.reset_index()\";\n                var nbb_formatted_code = \"# sodros_duomenys = sodros_duomenys.reset_index()\";\n                var nbb_cells = Jupyter.notebook.get_cells();\n                for (var i = 0; i < nbb_cells.length; ++i) {\n                    if (nbb_cells[i].input_prompt_number == nbb_cell_id) {\n                        if (nbb_cells[i].get_text() == nbb_unformatted_code) {\n                             nbb_cells[i].set_text(nbb_formatted_code);\n                        }\n                        break;\n                    }\n                }\n            }, 500);\n            ",
      "text/plain": [
       "<IPython.core.display.Javascript object>"
      ]
     },
     "metadata": {},
     "output_type": "display_data"
    }
   ],
   "source": [
    "# sodros_duomenys = sodros_duomenys.reset_index()"
   ]
  },
  {
   "cell_type": "code",
   "execution_count": 645,
   "id": "ae594112-65e4-49e4-9ec8-5da892ab43e9",
   "metadata": {},
   "outputs": [
    {
     "data": {
      "text/plain": [
       "obj_kodas           0.0000\n",
       "obj_pav             0.0000\n",
       "vid_atlyginimas_1   0.5605\n",
       "menuo               0.0000\n",
       "darb_sk_1           0.0000\n",
       "darb_sk_2           0.0000\n",
       "veikl_rus_kod       0.0000\n",
       "veikl_rus_pav       0.0000\n",
       "savivaldybe         0.0000\n",
       "data                0.0000\n",
       "metai               0.0000\n",
       "dtype: float64"
      ]
     },
     "execution_count": 645,
     "metadata": {},
     "output_type": "execute_result"
    },
    {
     "data": {
      "application/javascript": "\n            setTimeout(function() {\n                var nbb_cell_id = 645;\n                var nbb_unformatted_code = \"sodros_duomenys.isna().sum()/len(sodros_duomenys)\";\n                var nbb_formatted_code = \"sodros_duomenys.isna().sum() / len(sodros_duomenys)\";\n                var nbb_cells = Jupyter.notebook.get_cells();\n                for (var i = 0; i < nbb_cells.length; ++i) {\n                    if (nbb_cells[i].input_prompt_number == nbb_cell_id) {\n                        if (nbb_cells[i].get_text() == nbb_unformatted_code) {\n                             nbb_cells[i].set_text(nbb_formatted_code);\n                        }\n                        break;\n                    }\n                }\n            }, 500);\n            ",
      "text/plain": [
       "<IPython.core.display.Javascript object>"
      ]
     },
     "metadata": {},
     "output_type": "display_data"
    }
   ],
   "source": [
    "sodros_duomenys.isna().sum()/len(sodros_duomenys)"
   ]
  },
  {
   "cell_type": "code",
   "execution_count": 646,
   "id": "5a3d1619-1548-4f6e-8fa1-74a79b12641c",
   "metadata": {},
   "outputs": [
    {
     "data": {
      "application/javascript": "\n            setTimeout(function() {\n                var nbb_cell_id = 646;\n                var nbb_unformatted_code = \"sodros_duomenys = sodros_duomenys.dropna()\";\n                var nbb_formatted_code = \"sodros_duomenys = sodros_duomenys.dropna()\";\n                var nbb_cells = Jupyter.notebook.get_cells();\n                for (var i = 0; i < nbb_cells.length; ++i) {\n                    if (nbb_cells[i].input_prompt_number == nbb_cell_id) {\n                        if (nbb_cells[i].get_text() == nbb_unformatted_code) {\n                             nbb_cells[i].set_text(nbb_formatted_code);\n                        }\n                        break;\n                    }\n                }\n            }, 500);\n            ",
      "text/plain": [
       "<IPython.core.display.Javascript object>"
      ]
     },
     "metadata": {},
     "output_type": "display_data"
    }
   ],
   "source": [
    "sodros_duomenys = sodros_duomenys.dropna()"
   ]
  },
  {
   "cell_type": "markdown",
   "id": "91f1ecf6-7cd7-421a-b8e1-e87d3847de3e",
   "metadata": {},
   "source": [
    "isskiriu duomenu masyvus ir galutinai apskaiciuoju atlyginimu ir darbuotoju vidurkius pries prijungiant duomenis"
   ]
  },
  {
   "cell_type": "code",
   "execution_count": 647,
   "id": "ebc834e3-7284-445b-becd-67a03406adf9",
   "metadata": {},
   "outputs": [
    {
     "data": {
      "application/javascript": "\n            setTimeout(function() {\n                var nbb_cell_id = 647;\n                var nbb_unformatted_code = \"final_sodra_19 = sodros_duomenys[sodros_duomenys['metai'] == 2019]\\nfinal_sodra_20 = sodros_duomenys[sodros_duomenys['metai'] == 2020]\";\n                var nbb_formatted_code = \"final_sodra_19 = sodros_duomenys[sodros_duomenys[\\\"metai\\\"] == 2019]\\nfinal_sodra_20 = sodros_duomenys[sodros_duomenys[\\\"metai\\\"] == 2020]\";\n                var nbb_cells = Jupyter.notebook.get_cells();\n                for (var i = 0; i < nbb_cells.length; ++i) {\n                    if (nbb_cells[i].input_prompt_number == nbb_cell_id) {\n                        if (nbb_cells[i].get_text() == nbb_unformatted_code) {\n                             nbb_cells[i].set_text(nbb_formatted_code);\n                        }\n                        break;\n                    }\n                }\n            }, 500);\n            ",
      "text/plain": [
       "<IPython.core.display.Javascript object>"
      ]
     },
     "metadata": {},
     "output_type": "display_data"
    }
   ],
   "source": [
    "final_sodra_19 = sodros_duomenys[sodros_duomenys['metai'] == 2019]\n",
    "final_sodra_20 = sodros_duomenys[sodros_duomenys['metai'] == 2020]"
   ]
  },
  {
   "cell_type": "code",
   "execution_count": 648,
   "id": "91ba8759-b40c-4c97-8af8-8e4ff1478f1b",
   "metadata": {},
   "outputs": [
    {
     "data": {
      "text/html": [
       "<div>\n",
       "<style scoped>\n",
       "    .dataframe tbody tr th:only-of-type {\n",
       "        vertical-align: middle;\n",
       "    }\n",
       "\n",
       "    .dataframe tbody tr th {\n",
       "        vertical-align: top;\n",
       "    }\n",
       "\n",
       "    .dataframe thead th {\n",
       "        text-align: right;\n",
       "    }\n",
       "</style>\n",
       "<table border=\"1\" class=\"dataframe\">\n",
       "  <thead>\n",
       "    <tr style=\"text-align: right;\">\n",
       "      <th></th>\n",
       "      <th>obj_kodas</th>\n",
       "      <th>darb_sk_1</th>\n",
       "      <th>darb_sk_2</th>\n",
       "    </tr>\n",
       "  </thead>\n",
       "  <tbody>\n",
       "    <tr>\n",
       "      <th>5862</th>\n",
       "      <td>110004884.0000</td>\n",
       "      <td>211</td>\n",
       "      <td>0</td>\n",
       "    </tr>\n",
       "    <tr>\n",
       "      <th>5874</th>\n",
       "      <td>110005648.0000</td>\n",
       "      <td>54</td>\n",
       "      <td>0</td>\n",
       "    </tr>\n",
       "    <tr>\n",
       "      <th>5908</th>\n",
       "      <td>110008377.0000</td>\n",
       "      <td>4</td>\n",
       "      <td>0</td>\n",
       "    </tr>\n",
       "    <tr>\n",
       "      <th>5920</th>\n",
       "      <td>110011925.0000</td>\n",
       "      <td>242</td>\n",
       "      <td>0</td>\n",
       "    </tr>\n",
       "    <tr>\n",
       "      <th>5932</th>\n",
       "      <td>110012112.0000</td>\n",
       "      <td>221</td>\n",
       "      <td>0</td>\n",
       "    </tr>\n",
       "    <tr>\n",
       "      <th>...</th>\n",
       "      <td>...</td>\n",
       "      <td>...</td>\n",
       "      <td>...</td>\n",
       "    </tr>\n",
       "    <tr>\n",
       "      <th>1163244</th>\n",
       "      <td>305369449.0000</td>\n",
       "      <td>118</td>\n",
       "      <td>0</td>\n",
       "    </tr>\n",
       "    <tr>\n",
       "      <th>1163278</th>\n",
       "      <td>305378925.0000</td>\n",
       "      <td>5</td>\n",
       "      <td>0</td>\n",
       "    </tr>\n",
       "    <tr>\n",
       "      <th>1163284</th>\n",
       "      <td>305386886.0000</td>\n",
       "      <td>15</td>\n",
       "      <td>0</td>\n",
       "    </tr>\n",
       "    <tr>\n",
       "      <th>1163289</th>\n",
       "      <td>305390030.0000</td>\n",
       "      <td>11</td>\n",
       "      <td>0</td>\n",
       "    </tr>\n",
       "    <tr>\n",
       "      <th>1163303</th>\n",
       "      <td>305393382.0000</td>\n",
       "      <td>7</td>\n",
       "      <td>0</td>\n",
       "    </tr>\n",
       "  </tbody>\n",
       "</table>\n",
       "<p>42281 rows × 3 columns</p>\n",
       "</div>"
      ],
      "text/plain": [
       "             obj_kodas  darb_sk_1  darb_sk_2\n",
       "5862    110004884.0000        211          0\n",
       "5874    110005648.0000         54          0\n",
       "5908    110008377.0000          4          0\n",
       "5920    110011925.0000        242          0\n",
       "5932    110012112.0000        221          0\n",
       "...                ...        ...        ...\n",
       "1163244 305369449.0000        118          0\n",
       "1163278 305378925.0000          5          0\n",
       "1163284 305386886.0000         15          0\n",
       "1163289 305390030.0000         11          0\n",
       "1163303 305393382.0000          7          0\n",
       "\n",
       "[42281 rows x 3 columns]"
      ]
     },
     "execution_count": 648,
     "metadata": {},
     "output_type": "execute_result"
    },
    {
     "data": {
      "application/javascript": "\n            setTimeout(function() {\n                var nbb_cell_id = 648;\n                var nbb_unformatted_code = \"darbuotoju_apskaiciavimas_2019 = final_sodra_19[(final_sodra_19['menuo']==12)][['obj_kodas','darb_sk_1','darb_sk_2']]\\ndarbuotoju_apskaiciavimas_2020 = final_sodra_20[(final_sodra_20['menuo']==12)][['obj_kodas','darb_sk_1','darb_sk_2']]\\ndarbuotoju_apskaiciavimas\";\n                var nbb_formatted_code = \"darbuotoju_apskaiciavimas_2019 = final_sodra_19[(final_sodra_19[\\\"menuo\\\"] == 12)][\\n    [\\\"obj_kodas\\\", \\\"darb_sk_1\\\", \\\"darb_sk_2\\\"]\\n]\\ndarbuotoju_apskaiciavimas_2020 = final_sodra_20[(final_sodra_20[\\\"menuo\\\"] == 12)][\\n    [\\\"obj_kodas\\\", \\\"darb_sk_1\\\", \\\"darb_sk_2\\\"]\\n]\\ndarbuotoju_apskaiciavimas\";\n                var nbb_cells = Jupyter.notebook.get_cells();\n                for (var i = 0; i < nbb_cells.length; ++i) {\n                    if (nbb_cells[i].input_prompt_number == nbb_cell_id) {\n                        if (nbb_cells[i].get_text() == nbb_unformatted_code) {\n                             nbb_cells[i].set_text(nbb_formatted_code);\n                        }\n                        break;\n                    }\n                }\n            }, 500);\n            ",
      "text/plain": [
       "<IPython.core.display.Javascript object>"
      ]
     },
     "metadata": {},
     "output_type": "display_data"
    }
   ],
   "source": [
    "darbuotoju_apskaiciavimas_2019 = final_sodra_19[(final_sodra_19['menuo']==12)][['obj_kodas','darb_sk_1','darb_sk_2']]\n",
    "darbuotoju_apskaiciavimas_2020 = final_sodra_20[(final_sodra_20['menuo']==12)][['obj_kodas','darb_sk_1','darb_sk_2']]\n",
    "darbuotoju_apskaiciavimas\n"
   ]
  },
  {
   "cell_type": "code",
   "execution_count": 649,
   "id": "a2c5d3d8-553b-4a67-acda-f9f4b582c75b",
   "metadata": {},
   "outputs": [
    {
     "data": {
      "application/javascript": "\n            setTimeout(function() {\n                var nbb_cell_id = 649;\n                var nbb_unformatted_code = \"darbuotoju_apskaiciavimas_2019['darbuotoju_skaicius'] = darbuotoju_apskaiciavimas_2019[['darb_sk_1','darb_sk_2']].sum(axis=1)\\ndarbuotoju_apskaiciavimas_2020['darbuotoju_skaicius'] = darbuotoju_apskaiciavimas_2020[['darb_sk_1','darb_sk_2']].sum(axis=1)\";\n                var nbb_formatted_code = \"darbuotoju_apskaiciavimas_2019[\\\"darbuotoju_skaicius\\\"] = darbuotoju_apskaiciavimas_2019[\\n    [\\\"darb_sk_1\\\", \\\"darb_sk_2\\\"]\\n].sum(axis=1)\\ndarbuotoju_apskaiciavimas_2020[\\\"darbuotoju_skaicius\\\"] = darbuotoju_apskaiciavimas_2020[\\n    [\\\"darb_sk_1\\\", \\\"darb_sk_2\\\"]\\n].sum(axis=1)\";\n                var nbb_cells = Jupyter.notebook.get_cells();\n                for (var i = 0; i < nbb_cells.length; ++i) {\n                    if (nbb_cells[i].input_prompt_number == nbb_cell_id) {\n                        if (nbb_cells[i].get_text() == nbb_unformatted_code) {\n                             nbb_cells[i].set_text(nbb_formatted_code);\n                        }\n                        break;\n                    }\n                }\n            }, 500);\n            ",
      "text/plain": [
       "<IPython.core.display.Javascript object>"
      ]
     },
     "metadata": {},
     "output_type": "display_data"
    }
   ],
   "source": [
    "darbuotoju_apskaiciavimas_2019['darbuotoju_skaicius'] = darbuotoju_apskaiciavimas_2019[['darb_sk_1','darb_sk_2']].sum(axis=1)\n",
    "darbuotoju_apskaiciavimas_2020['darbuotoju_skaicius'] = darbuotoju_apskaiciavimas_2020[['darb_sk_1','darb_sk_2']].sum(axis=1)\n"
   ]
  },
  {
   "cell_type": "code",
   "execution_count": 650,
   "id": "5ef02a30-6efe-4856-9a67-679dfe1890f9",
   "metadata": {},
   "outputs": [
    {
     "data": {
      "application/javascript": "\n            setTimeout(function() {\n                var nbb_cell_id = 650;\n                var nbb_unformatted_code = \"darbuotoju_apskaiciavimas_2020.drop(['darb_sk_1','darb_sk_2'],axis=1, inplace=True)\\ndarbuotoju_apskaiciavimas_2019.drop(['darb_sk_1','darb_sk_2'],axis=1, inplace=True)\";\n                var nbb_formatted_code = \"darbuotoju_apskaiciavimas_2020.drop([\\\"darb_sk_1\\\", \\\"darb_sk_2\\\"], axis=1, inplace=True)\\ndarbuotoju_apskaiciavimas_2019.drop([\\\"darb_sk_1\\\", \\\"darb_sk_2\\\"], axis=1, inplace=True)\";\n                var nbb_cells = Jupyter.notebook.get_cells();\n                for (var i = 0; i < nbb_cells.length; ++i) {\n                    if (nbb_cells[i].input_prompt_number == nbb_cell_id) {\n                        if (nbb_cells[i].get_text() == nbb_unformatted_code) {\n                             nbb_cells[i].set_text(nbb_formatted_code);\n                        }\n                        break;\n                    }\n                }\n            }, 500);\n            ",
      "text/plain": [
       "<IPython.core.display.Javascript object>"
      ]
     },
     "metadata": {},
     "output_type": "display_data"
    }
   ],
   "source": [
    "darbuotoju_apskaiciavimas_2020.drop(['darb_sk_1','darb_sk_2'],axis=1, inplace=True)\n",
    "darbuotoju_apskaiciavimas_2019.drop(['darb_sk_1','darb_sk_2'],axis=1, inplace=True)\n"
   ]
  },
  {
   "cell_type": "code",
   "execution_count": 651,
   "id": "af307c56-99cb-49fc-95cd-9600a79ccda0",
   "metadata": {},
   "outputs": [
    {
     "data": {
      "text/html": [
       "<div>\n",
       "<style scoped>\n",
       "    .dataframe tbody tr th:only-of-type {\n",
       "        vertical-align: middle;\n",
       "    }\n",
       "\n",
       "    .dataframe tbody tr th {\n",
       "        vertical-align: top;\n",
       "    }\n",
       "\n",
       "    .dataframe thead th {\n",
       "        text-align: right;\n",
       "    }\n",
       "</style>\n",
       "<table border=\"1\" class=\"dataframe\">\n",
       "  <thead>\n",
       "    <tr style=\"text-align: right;\">\n",
       "      <th></th>\n",
       "      <th>obj_kodas</th>\n",
       "      <th>darbuotoju_skaicius</th>\n",
       "    </tr>\n",
       "  </thead>\n",
       "  <tbody>\n",
       "    <tr>\n",
       "      <th>5862</th>\n",
       "      <td>110004884.0000</td>\n",
       "      <td>211</td>\n",
       "    </tr>\n",
       "    <tr>\n",
       "      <th>5874</th>\n",
       "      <td>110005648.0000</td>\n",
       "      <td>54</td>\n",
       "    </tr>\n",
       "    <tr>\n",
       "      <th>5908</th>\n",
       "      <td>110008377.0000</td>\n",
       "      <td>4</td>\n",
       "    </tr>\n",
       "    <tr>\n",
       "      <th>5920</th>\n",
       "      <td>110011925.0000</td>\n",
       "      <td>242</td>\n",
       "    </tr>\n",
       "    <tr>\n",
       "      <th>5932</th>\n",
       "      <td>110012112.0000</td>\n",
       "      <td>221</td>\n",
       "    </tr>\n",
       "    <tr>\n",
       "      <th>...</th>\n",
       "      <td>...</td>\n",
       "      <td>...</td>\n",
       "    </tr>\n",
       "    <tr>\n",
       "      <th>1163244</th>\n",
       "      <td>305369449.0000</td>\n",
       "      <td>118</td>\n",
       "    </tr>\n",
       "    <tr>\n",
       "      <th>1163278</th>\n",
       "      <td>305378925.0000</td>\n",
       "      <td>5</td>\n",
       "    </tr>\n",
       "    <tr>\n",
       "      <th>1163284</th>\n",
       "      <td>305386886.0000</td>\n",
       "      <td>15</td>\n",
       "    </tr>\n",
       "    <tr>\n",
       "      <th>1163289</th>\n",
       "      <td>305390030.0000</td>\n",
       "      <td>11</td>\n",
       "    </tr>\n",
       "    <tr>\n",
       "      <th>1163303</th>\n",
       "      <td>305393382.0000</td>\n",
       "      <td>7</td>\n",
       "    </tr>\n",
       "  </tbody>\n",
       "</table>\n",
       "<p>42281 rows × 2 columns</p>\n",
       "</div>"
      ],
      "text/plain": [
       "             obj_kodas  darbuotoju_skaicius\n",
       "5862    110004884.0000                  211\n",
       "5874    110005648.0000                   54\n",
       "5908    110008377.0000                    4\n",
       "5920    110011925.0000                  242\n",
       "5932    110012112.0000                  221\n",
       "...                ...                  ...\n",
       "1163244 305369449.0000                  118\n",
       "1163278 305378925.0000                    5\n",
       "1163284 305386886.0000                   15\n",
       "1163289 305390030.0000                   11\n",
       "1163303 305393382.0000                    7\n",
       "\n",
       "[42281 rows x 2 columns]"
      ]
     },
     "execution_count": 651,
     "metadata": {},
     "output_type": "execute_result"
    },
    {
     "data": {
      "application/javascript": "\n            setTimeout(function() {\n                var nbb_cell_id = 651;\n                var nbb_unformatted_code = \"darbuotoju_apskaiciavimas_2019\";\n                var nbb_formatted_code = \"darbuotoju_apskaiciavimas_2019\";\n                var nbb_cells = Jupyter.notebook.get_cells();\n                for (var i = 0; i < nbb_cells.length; ++i) {\n                    if (nbb_cells[i].input_prompt_number == nbb_cell_id) {\n                        if (nbb_cells[i].get_text() == nbb_unformatted_code) {\n                             nbb_cells[i].set_text(nbb_formatted_code);\n                        }\n                        break;\n                    }\n                }\n            }, 500);\n            ",
      "text/plain": [
       "<IPython.core.display.Javascript object>"
      ]
     },
     "metadata": {},
     "output_type": "display_data"
    }
   ],
   "source": [
    "darbuotoju_apskaiciavimas_2019"
   ]
  },
  {
   "cell_type": "code",
   "execution_count": 652,
   "id": "884f3120-0b9d-498a-aef6-ad7343eb7c8a",
   "metadata": {},
   "outputs": [
    {
     "data": {
      "application/javascript": "\n            setTimeout(function() {\n                var nbb_cell_id = 652;\n                var nbb_unformatted_code = \"final_sodra_19 = final_sodra_19.merge(darbuotoju_apskaiciavimas_2019, on='obj_kodas')\\nfinal_sodra_20 = final_sodra_20.merge(darbuotoju_apskaiciavimas_2020, on='obj_kodas')\\nfinal_sodra_19.drop(['darb_sk_1','darb_sk_2'],axis=1,inplace=True)\\nfinal_sodra_20.drop(['darb_sk_1','darb_sk_2'],axis=1,inplace=True)\";\n                var nbb_formatted_code = \"final_sodra_19 = final_sodra_19.merge(darbuotoju_apskaiciavimas_2019, on=\\\"obj_kodas\\\")\\nfinal_sodra_20 = final_sodra_20.merge(darbuotoju_apskaiciavimas_2020, on=\\\"obj_kodas\\\")\\nfinal_sodra_19.drop([\\\"darb_sk_1\\\", \\\"darb_sk_2\\\"], axis=1, inplace=True)\\nfinal_sodra_20.drop([\\\"darb_sk_1\\\", \\\"darb_sk_2\\\"], axis=1, inplace=True)\";\n                var nbb_cells = Jupyter.notebook.get_cells();\n                for (var i = 0; i < nbb_cells.length; ++i) {\n                    if (nbb_cells[i].input_prompt_number == nbb_cell_id) {\n                        if (nbb_cells[i].get_text() == nbb_unformatted_code) {\n                             nbb_cells[i].set_text(nbb_formatted_code);\n                        }\n                        break;\n                    }\n                }\n            }, 500);\n            ",
      "text/plain": [
       "<IPython.core.display.Javascript object>"
      ]
     },
     "metadata": {},
     "output_type": "display_data"
    }
   ],
   "source": [
    "final_sodra_19 = final_sodra_19.merge(darbuotoju_apskaiciavimas_2019, on='obj_kodas')\n",
    "final_sodra_20 = final_sodra_20.merge(darbuotoju_apskaiciavimas_2020, on='obj_kodas')\n",
    "final_sodra_19.drop(['darb_sk_1','darb_sk_2'],axis=1,inplace=True)\n",
    "final_sodra_20.drop(['darb_sk_1','darb_sk_2'],axis=1,inplace=True)"
   ]
  },
  {
   "cell_type": "code",
   "execution_count": 653,
   "id": "cee045a0-9f5f-4935-819c-713d024d5f66",
   "metadata": {},
   "outputs": [
    {
     "data": {
      "text/html": [
       "<div>\n",
       "<style scoped>\n",
       "    .dataframe tbody tr th:only-of-type {\n",
       "        vertical-align: middle;\n",
       "    }\n",
       "\n",
       "    .dataframe tbody tr th {\n",
       "        vertical-align: top;\n",
       "    }\n",
       "\n",
       "    .dataframe thead th {\n",
       "        text-align: right;\n",
       "    }\n",
       "</style>\n",
       "<table border=\"1\" class=\"dataframe\">\n",
       "  <thead>\n",
       "    <tr style=\"text-align: right;\">\n",
       "      <th></th>\n",
       "      <th>obj_kodas</th>\n",
       "      <th>obj_pav</th>\n",
       "      <th>vid_atlyginimas_1</th>\n",
       "      <th>menuo</th>\n",
       "      <th>veikl_rus_kod</th>\n",
       "      <th>veikl_rus_pav</th>\n",
       "      <th>savivaldybe</th>\n",
       "      <th>data</th>\n",
       "      <th>metai</th>\n",
       "      <th>darbuotoju_skaicius</th>\n",
       "    </tr>\n",
       "  </thead>\n",
       "  <tbody>\n",
       "    <tr>\n",
       "      <th>0</th>\n",
       "      <td>110004884.0000</td>\n",
       "      <td>UŽDAROJI AKCINĖ BENDROVĖ VILLON</td>\n",
       "      <td>1332.7500</td>\n",
       "      <td>1</td>\n",
       "      <td>551000.0000</td>\n",
       "      <td>Viešbučių ir panašių laikinų buveinių veikla</td>\n",
       "      <td>Vilniaus r. sav.</td>\n",
       "      <td>2019-01-01</td>\n",
       "      <td>2019</td>\n",
       "      <td>211</td>\n",
       "    </tr>\n",
       "    <tr>\n",
       "      <th>1</th>\n",
       "      <td>110004884.0000</td>\n",
       "      <td>UŽDAROJI AKCINĖ BENDROVĖ VILLON</td>\n",
       "      <td>1334.4200</td>\n",
       "      <td>2</td>\n",
       "      <td>551000.0000</td>\n",
       "      <td>Viešbučių ir panašių laikinų buveinių veikla</td>\n",
       "      <td>Vilniaus r. sav.</td>\n",
       "      <td>2019-02-01</td>\n",
       "      <td>2019</td>\n",
       "      <td>211</td>\n",
       "    </tr>\n",
       "    <tr>\n",
       "      <th>2</th>\n",
       "      <td>110004884.0000</td>\n",
       "      <td>UŽDAROJI AKCINĖ BENDROVĖ VILLON</td>\n",
       "      <td>1266.0500</td>\n",
       "      <td>3</td>\n",
       "      <td>551000.0000</td>\n",
       "      <td>Viešbučių ir panašių laikinų buveinių veikla</td>\n",
       "      <td>Vilniaus r. sav.</td>\n",
       "      <td>2019-03-01</td>\n",
       "      <td>2019</td>\n",
       "      <td>211</td>\n",
       "    </tr>\n",
       "    <tr>\n",
       "      <th>3</th>\n",
       "      <td>110004884.0000</td>\n",
       "      <td>UŽDAROJI AKCINĖ BENDROVĖ VILLON</td>\n",
       "      <td>1242.2100</td>\n",
       "      <td>4</td>\n",
       "      <td>551000.0000</td>\n",
       "      <td>Viešbučių ir panašių laikinų buveinių veikla</td>\n",
       "      <td>Vilniaus r. sav.</td>\n",
       "      <td>2019-04-01</td>\n",
       "      <td>2019</td>\n",
       "      <td>211</td>\n",
       "    </tr>\n",
       "    <tr>\n",
       "      <th>4</th>\n",
       "      <td>110004884.0000</td>\n",
       "      <td>UŽDAROJI AKCINĖ BENDROVĖ VILLON</td>\n",
       "      <td>1241.9200</td>\n",
       "      <td>5</td>\n",
       "      <td>551000.0000</td>\n",
       "      <td>Viešbučių ir panašių laikinų buveinių veikla</td>\n",
       "      <td>Vilniaus r. sav.</td>\n",
       "      <td>2019-05-01</td>\n",
       "      <td>2019</td>\n",
       "      <td>211</td>\n",
       "    </tr>\n",
       "    <tr>\n",
       "      <th>...</th>\n",
       "      <td>...</td>\n",
       "      <td>...</td>\n",
       "      <td>...</td>\n",
       "      <td>...</td>\n",
       "      <td>...</td>\n",
       "      <td>...</td>\n",
       "      <td>...</td>\n",
       "      <td>...</td>\n",
       "      <td>...</td>\n",
       "      <td>...</td>\n",
       "    </tr>\n",
       "    <tr>\n",
       "      <th>474373</th>\n",
       "      <td>305369449.0000</td>\n",
       "      <td>KOMPLEKSINIŲ PASLAUGŲ NAMAI \"ALKA\"</td>\n",
       "      <td>1766.8400</td>\n",
       "      <td>12</td>\n",
       "      <td>879000.0000</td>\n",
       "      <td>Kita stacionarinė globos veikla</td>\n",
       "      <td>Šiaulių m. sav.</td>\n",
       "      <td>2019-12-01</td>\n",
       "      <td>2019</td>\n",
       "      <td>118</td>\n",
       "    </tr>\n",
       "    <tr>\n",
       "      <th>474374</th>\n",
       "      <td>305378925.0000</td>\n",
       "      <td>UAB \"SKVERAS\"</td>\n",
       "      <td>88.8000</td>\n",
       "      <td>12</td>\n",
       "      <td>560000.0000</td>\n",
       "      <td>Maitinimo ir gėrimų teikimo veikla</td>\n",
       "      <td>Klaipėdos r. sav.</td>\n",
       "      <td>2019-12-01</td>\n",
       "      <td>2019</td>\n",
       "      <td>5</td>\n",
       "    </tr>\n",
       "    <tr>\n",
       "      <th>474375</th>\n",
       "      <td>305386886.0000</td>\n",
       "      <td>UAB \"IGEOLISE LT\"</td>\n",
       "      <td>414.2200</td>\n",
       "      <td>12</td>\n",
       "      <td>620000.0000</td>\n",
       "      <td>Kompiuterių programavimo, konsultacinė ir susi...</td>\n",
       "      <td>Vilniaus m. sav.</td>\n",
       "      <td>2019-12-01</td>\n",
       "      <td>2019</td>\n",
       "      <td>15</td>\n",
       "    </tr>\n",
       "    <tr>\n",
       "      <th>474376</th>\n",
       "      <td>305390030.0000</td>\n",
       "      <td>UAB \"AUTOSIGMUS\"</td>\n",
       "      <td>403.4100</td>\n",
       "      <td>12</td>\n",
       "      <td>450000.0000</td>\n",
       "      <td>Variklinių transporto priemonių ir motociklų d...</td>\n",
       "      <td>Vilniaus m. sav.</td>\n",
       "      <td>2019-12-01</td>\n",
       "      <td>2019</td>\n",
       "      <td>11</td>\n",
       "    </tr>\n",
       "    <tr>\n",
       "      <th>474377</th>\n",
       "      <td>305393382.0000</td>\n",
       "      <td>MB \"ALPHA SAFETY\"</td>\n",
       "      <td>1314.4300</td>\n",
       "      <td>12</td>\n",
       "      <td>820000.0000</td>\n",
       "      <td>Administracinė veikla, įstaigų ir kitų verslo ...</td>\n",
       "      <td>Kauno m. sav.</td>\n",
       "      <td>2019-12-01</td>\n",
       "      <td>2019</td>\n",
       "      <td>7</td>\n",
       "    </tr>\n",
       "  </tbody>\n",
       "</table>\n",
       "<p>474378 rows × 10 columns</p>\n",
       "</div>"
      ],
      "text/plain": [
       "            obj_kodas                             obj_pav  vid_atlyginimas_1  \\\n",
       "0      110004884.0000     UŽDAROJI AKCINĖ BENDROVĖ VILLON          1332.7500   \n",
       "1      110004884.0000     UŽDAROJI AKCINĖ BENDROVĖ VILLON          1334.4200   \n",
       "2      110004884.0000     UŽDAROJI AKCINĖ BENDROVĖ VILLON          1266.0500   \n",
       "3      110004884.0000     UŽDAROJI AKCINĖ BENDROVĖ VILLON          1242.2100   \n",
       "4      110004884.0000     UŽDAROJI AKCINĖ BENDROVĖ VILLON          1241.9200   \n",
       "...               ...                                 ...                ...   \n",
       "474373 305369449.0000  KOMPLEKSINIŲ PASLAUGŲ NAMAI \"ALKA\"          1766.8400   \n",
       "474374 305378925.0000                       UAB \"SKVERAS\"            88.8000   \n",
       "474375 305386886.0000                   UAB \"IGEOLISE LT\"           414.2200   \n",
       "474376 305390030.0000                    UAB \"AUTOSIGMUS\"           403.4100   \n",
       "474377 305393382.0000                   MB \"ALPHA SAFETY\"          1314.4300   \n",
       "\n",
       "        menuo  veikl_rus_kod  \\\n",
       "0           1    551000.0000   \n",
       "1           2    551000.0000   \n",
       "2           3    551000.0000   \n",
       "3           4    551000.0000   \n",
       "4           5    551000.0000   \n",
       "...       ...            ...   \n",
       "474373     12    879000.0000   \n",
       "474374     12    560000.0000   \n",
       "474375     12    620000.0000   \n",
       "474376     12    450000.0000   \n",
       "474377     12    820000.0000   \n",
       "\n",
       "                                            veikl_rus_pav        savivaldybe  \\\n",
       "0            Viešbučių ir panašių laikinų buveinių veikla   Vilniaus r. sav.   \n",
       "1            Viešbučių ir panašių laikinų buveinių veikla   Vilniaus r. sav.   \n",
       "2            Viešbučių ir panašių laikinų buveinių veikla   Vilniaus r. sav.   \n",
       "3            Viešbučių ir panašių laikinų buveinių veikla   Vilniaus r. sav.   \n",
       "4            Viešbučių ir panašių laikinų buveinių veikla   Vilniaus r. sav.   \n",
       "...                                                   ...                ...   \n",
       "474373                    Kita stacionarinė globos veikla    Šiaulių m. sav.   \n",
       "474374                 Maitinimo ir gėrimų teikimo veikla  Klaipėdos r. sav.   \n",
       "474375  Kompiuterių programavimo, konsultacinė ir susi...   Vilniaus m. sav.   \n",
       "474376  Variklinių transporto priemonių ir motociklų d...   Vilniaus m. sav.   \n",
       "474377  Administracinė veikla, įstaigų ir kitų verslo ...      Kauno m. sav.   \n",
       "\n",
       "             data  metai  darbuotoju_skaicius  \n",
       "0      2019-01-01   2019                  211  \n",
       "1      2019-02-01   2019                  211  \n",
       "2      2019-03-01   2019                  211  \n",
       "3      2019-04-01   2019                  211  \n",
       "4      2019-05-01   2019                  211  \n",
       "...           ...    ...                  ...  \n",
       "474373 2019-12-01   2019                  118  \n",
       "474374 2019-12-01   2019                    5  \n",
       "474375 2019-12-01   2019                   15  \n",
       "474376 2019-12-01   2019                   11  \n",
       "474377 2019-12-01   2019                    7  \n",
       "\n",
       "[474378 rows x 10 columns]"
      ]
     },
     "execution_count": 653,
     "metadata": {},
     "output_type": "execute_result"
    },
    {
     "data": {
      "application/javascript": "\n            setTimeout(function() {\n                var nbb_cell_id = 653;\n                var nbb_unformatted_code = \"final_sodra_19\";\n                var nbb_formatted_code = \"final_sodra_19\";\n                var nbb_cells = Jupyter.notebook.get_cells();\n                for (var i = 0; i < nbb_cells.length; ++i) {\n                    if (nbb_cells[i].input_prompt_number == nbb_cell_id) {\n                        if (nbb_cells[i].get_text() == nbb_unformatted_code) {\n                             nbb_cells[i].set_text(nbb_formatted_code);\n                        }\n                        break;\n                    }\n                }\n            }, 500);\n            ",
      "text/plain": [
       "<IPython.core.display.Javascript object>"
      ]
     },
     "metadata": {},
     "output_type": "display_data"
    }
   ],
   "source": [
    "final_sodra_19"
   ]
  },
  {
   "cell_type": "code",
   "execution_count": 654,
   "id": "ba197cb0-9b49-4b2b-8aa0-0e8ddb09bc8a",
   "metadata": {},
   "outputs": [
    {
     "data": {
      "application/javascript": "\n            setTimeout(function() {\n                var nbb_cell_id = 654;\n                var nbb_unformatted_code = \"final_sodra_19['vid_atlyginimas'] = final_sodra_19['vid_atlyginimas_1'].groupby(final_sodra_19['obj_kodas']).transform('mean')\\nfinal_sodra_20['vid_atlyginimas'] = final_sodra_20['vid_atlyginimas_1'].groupby(final_sodra_20['obj_kodas']).transform('mean')\";\n                var nbb_formatted_code = \"final_sodra_19[\\\"vid_atlyginimas\\\"] = (\\n    final_sodra_19[\\\"vid_atlyginimas_1\\\"]\\n    .groupby(final_sodra_19[\\\"obj_kodas\\\"])\\n    .transform(\\\"mean\\\")\\n)\\nfinal_sodra_20[\\\"vid_atlyginimas\\\"] = (\\n    final_sodra_20[\\\"vid_atlyginimas_1\\\"]\\n    .groupby(final_sodra_20[\\\"obj_kodas\\\"])\\n    .transform(\\\"mean\\\")\\n)\";\n                var nbb_cells = Jupyter.notebook.get_cells();\n                for (var i = 0; i < nbb_cells.length; ++i) {\n                    if (nbb_cells[i].input_prompt_number == nbb_cell_id) {\n                        if (nbb_cells[i].get_text() == nbb_unformatted_code) {\n                             nbb_cells[i].set_text(nbb_formatted_code);\n                        }\n                        break;\n                    }\n                }\n            }, 500);\n            ",
      "text/plain": [
       "<IPython.core.display.Javascript object>"
      ]
     },
     "metadata": {},
     "output_type": "display_data"
    }
   ],
   "source": [
    "final_sodra_19['vid_atlyginimas'] = final_sodra_19['vid_atlyginimas_1'].groupby(final_sodra_19['obj_kodas']).transform('mean')\n",
    "final_sodra_20['vid_atlyginimas'] = final_sodra_20['vid_atlyginimas_1'].groupby(final_sodra_20['obj_kodas']).transform('mean')"
   ]
  },
  {
   "cell_type": "code",
   "execution_count": 655,
   "id": "c63c3ba9-76f9-4bf1-b0d6-709e38cc7dcf",
   "metadata": {},
   "outputs": [
    {
     "data": {
      "application/javascript": "\n            setTimeout(function() {\n                var nbb_cell_id = 655;\n                var nbb_unformatted_code = \"final_sodra_19.drop(['vid_atlyginimas_1','menuo','data'],axis=1,inplace=True)\\nfinal_sodra_20.drop(['vid_atlyginimas_1','menuo','data'],axis=1,inplace=True)\";\n                var nbb_formatted_code = \"final_sodra_19.drop([\\\"vid_atlyginimas_1\\\", \\\"menuo\\\", \\\"data\\\"], axis=1, inplace=True)\\nfinal_sodra_20.drop([\\\"vid_atlyginimas_1\\\", \\\"menuo\\\", \\\"data\\\"], axis=1, inplace=True)\";\n                var nbb_cells = Jupyter.notebook.get_cells();\n                for (var i = 0; i < nbb_cells.length; ++i) {\n                    if (nbb_cells[i].input_prompt_number == nbb_cell_id) {\n                        if (nbb_cells[i].get_text() == nbb_unformatted_code) {\n                             nbb_cells[i].set_text(nbb_formatted_code);\n                        }\n                        break;\n                    }\n                }\n            }, 500);\n            ",
      "text/plain": [
       "<IPython.core.display.Javascript object>"
      ]
     },
     "metadata": {},
     "output_type": "display_data"
    }
   ],
   "source": [
    "final_sodra_19.drop(['vid_atlyginimas_1','menuo','data'],axis=1,inplace=True)\n",
    "final_sodra_20.drop(['vid_atlyginimas_1','menuo','data'],axis=1,inplace=True)"
   ]
  },
  {
   "cell_type": "code",
   "execution_count": 656,
   "id": "acf39c04-ef22-4010-b894-b7082ee0bc9b",
   "metadata": {},
   "outputs": [
    {
     "data": {
      "application/javascript": "\n            setTimeout(function() {\n                var nbb_cell_id = 656;\n                var nbb_unformatted_code = \"final_sodra_19.drop_duplicates(inplace=True)\\nfinal_sodra_20.drop_duplicates(inplace=True)\";\n                var nbb_formatted_code = \"final_sodra_19.drop_duplicates(inplace=True)\\nfinal_sodra_20.drop_duplicates(inplace=True)\";\n                var nbb_cells = Jupyter.notebook.get_cells();\n                for (var i = 0; i < nbb_cells.length; ++i) {\n                    if (nbb_cells[i].input_prompt_number == nbb_cell_id) {\n                        if (nbb_cells[i].get_text() == nbb_unformatted_code) {\n                             nbb_cells[i].set_text(nbb_formatted_code);\n                        }\n                        break;\n                    }\n                }\n            }, 500);\n            ",
      "text/plain": [
       "<IPython.core.display.Javascript object>"
      ]
     },
     "metadata": {},
     "output_type": "display_data"
    }
   ],
   "source": [
    "final_sodra_19.drop_duplicates(inplace=True)\n",
    "final_sodra_20.drop_duplicates(inplace=True)"
   ]
  },
  {
   "cell_type": "code",
   "execution_count": 657,
   "id": "5383ad93-a077-480d-a067-3a820cb62367",
   "metadata": {},
   "outputs": [
    {
     "data": {
      "text/html": [
       "<div>\n",
       "<style scoped>\n",
       "    .dataframe tbody tr th:only-of-type {\n",
       "        vertical-align: middle;\n",
       "    }\n",
       "\n",
       "    .dataframe tbody tr th {\n",
       "        vertical-align: top;\n",
       "    }\n",
       "\n",
       "    .dataframe thead th {\n",
       "        text-align: right;\n",
       "    }\n",
       "</style>\n",
       "<table border=\"1\" class=\"dataframe\">\n",
       "  <thead>\n",
       "    <tr style=\"text-align: right;\">\n",
       "      <th></th>\n",
       "      <th>obj_kodas</th>\n",
       "      <th>obj_pav</th>\n",
       "      <th>veikl_rus_kod</th>\n",
       "      <th>veikl_rus_pav</th>\n",
       "      <th>savivaldybe</th>\n",
       "      <th>metai</th>\n",
       "      <th>darbuotoju_skaicius</th>\n",
       "      <th>vid_atlyginimas</th>\n",
       "    </tr>\n",
       "  </thead>\n",
       "  <tbody>\n",
       "    <tr>\n",
       "      <th>0</th>\n",
       "      <td>110004884.0000</td>\n",
       "      <td>UŽDAROJI AKCINĖ BENDROVĖ VILLON</td>\n",
       "      <td>551000.0000</td>\n",
       "      <td>Viešbučių ir panašių laikinų buveinių veikla</td>\n",
       "      <td>Vilniaus r. sav.</td>\n",
       "      <td>2019</td>\n",
       "      <td>211</td>\n",
       "      <td>1309.1558</td>\n",
       "    </tr>\n",
       "    <tr>\n",
       "      <th>12</th>\n",
       "      <td>110005648.0000</td>\n",
       "      <td>UAB \"INFORMACINĖS PASLAUGOS\"</td>\n",
       "      <td>620000.0000</td>\n",
       "      <td>Kompiuterių programavimo, konsultacinė ir susi...</td>\n",
       "      <td>Vilniaus m. sav.</td>\n",
       "      <td>2019</td>\n",
       "      <td>54</td>\n",
       "      <td>2188.8917</td>\n",
       "    </tr>\n",
       "    <tr>\n",
       "      <th>24</th>\n",
       "      <td>110008377.0000</td>\n",
       "      <td>UŽDAROJI AKCINĖ BENDROVĖ KOMPONENTAS</td>\n",
       "      <td>682000.0000</td>\n",
       "      <td>Nuosavo arba nuomojamo nekilnojamojo turto nuo...</td>\n",
       "      <td>Vilniaus m. sav.</td>\n",
       "      <td>2019</td>\n",
       "      <td>4</td>\n",
       "      <td>1387.5175</td>\n",
       "    </tr>\n",
       "    <tr>\n",
       "      <th>36</th>\n",
       "      <td>110011925.0000</td>\n",
       "      <td>UAB ELTEL NETWORKS</td>\n",
       "      <td>422200.0000</td>\n",
       "      <td>Komunalinių elektros ir telekomunikacijos stat...</td>\n",
       "      <td>Vilniaus m. sav.</td>\n",
       "      <td>2019</td>\n",
       "      <td>242</td>\n",
       "      <td>1902.7950</td>\n",
       "    </tr>\n",
       "    <tr>\n",
       "      <th>48</th>\n",
       "      <td>110012112.0000</td>\n",
       "      <td>UAB IDW</td>\n",
       "      <td>329900.0000</td>\n",
       "      <td>Kita, niekur kitur nepriskirta, gamyba</td>\n",
       "      <td>Vilniaus m. sav.</td>\n",
       "      <td>2019</td>\n",
       "      <td>221</td>\n",
       "      <td>1516.2792</td>\n",
       "    </tr>\n",
       "    <tr>\n",
       "      <th>...</th>\n",
       "      <td>...</td>\n",
       "      <td>...</td>\n",
       "      <td>...</td>\n",
       "      <td>...</td>\n",
       "      <td>...</td>\n",
       "      <td>...</td>\n",
       "      <td>...</td>\n",
       "      <td>...</td>\n",
       "    </tr>\n",
       "    <tr>\n",
       "      <th>474373</th>\n",
       "      <td>305369449.0000</td>\n",
       "      <td>KOMPLEKSINIŲ PASLAUGŲ NAMAI \"ALKA\"</td>\n",
       "      <td>879000.0000</td>\n",
       "      <td>Kita stacionarinė globos veikla</td>\n",
       "      <td>Šiaulių m. sav.</td>\n",
       "      <td>2019</td>\n",
       "      <td>118</td>\n",
       "      <td>1766.8400</td>\n",
       "    </tr>\n",
       "    <tr>\n",
       "      <th>474374</th>\n",
       "      <td>305378925.0000</td>\n",
       "      <td>UAB \"SKVERAS\"</td>\n",
       "      <td>560000.0000</td>\n",
       "      <td>Maitinimo ir gėrimų teikimo veikla</td>\n",
       "      <td>Klaipėdos r. sav.</td>\n",
       "      <td>2019</td>\n",
       "      <td>5</td>\n",
       "      <td>88.8000</td>\n",
       "    </tr>\n",
       "    <tr>\n",
       "      <th>474375</th>\n",
       "      <td>305386886.0000</td>\n",
       "      <td>UAB \"IGEOLISE LT\"</td>\n",
       "      <td>620000.0000</td>\n",
       "      <td>Kompiuterių programavimo, konsultacinė ir susi...</td>\n",
       "      <td>Vilniaus m. sav.</td>\n",
       "      <td>2019</td>\n",
       "      <td>15</td>\n",
       "      <td>414.2200</td>\n",
       "    </tr>\n",
       "    <tr>\n",
       "      <th>474376</th>\n",
       "      <td>305390030.0000</td>\n",
       "      <td>UAB \"AUTOSIGMUS\"</td>\n",
       "      <td>450000.0000</td>\n",
       "      <td>Variklinių transporto priemonių ir motociklų d...</td>\n",
       "      <td>Vilniaus m. sav.</td>\n",
       "      <td>2019</td>\n",
       "      <td>11</td>\n",
       "      <td>403.4100</td>\n",
       "    </tr>\n",
       "    <tr>\n",
       "      <th>474377</th>\n",
       "      <td>305393382.0000</td>\n",
       "      <td>MB \"ALPHA SAFETY\"</td>\n",
       "      <td>820000.0000</td>\n",
       "      <td>Administracinė veikla, įstaigų ir kitų verslo ...</td>\n",
       "      <td>Kauno m. sav.</td>\n",
       "      <td>2019</td>\n",
       "      <td>7</td>\n",
       "      <td>1314.4300</td>\n",
       "    </tr>\n",
       "  </tbody>\n",
       "</table>\n",
       "<p>42281 rows × 8 columns</p>\n",
       "</div>"
      ],
      "text/plain": [
       "            obj_kodas                               obj_pav  veikl_rus_kod  \\\n",
       "0      110004884.0000       UŽDAROJI AKCINĖ BENDROVĖ VILLON    551000.0000   \n",
       "12     110005648.0000          UAB \"INFORMACINĖS PASLAUGOS\"    620000.0000   \n",
       "24     110008377.0000  UŽDAROJI AKCINĖ BENDROVĖ KOMPONENTAS    682000.0000   \n",
       "36     110011925.0000                    UAB ELTEL NETWORKS    422200.0000   \n",
       "48     110012112.0000                               UAB IDW    329900.0000   \n",
       "...               ...                                   ...            ...   \n",
       "474373 305369449.0000    KOMPLEKSINIŲ PASLAUGŲ NAMAI \"ALKA\"    879000.0000   \n",
       "474374 305378925.0000                         UAB \"SKVERAS\"    560000.0000   \n",
       "474375 305386886.0000                     UAB \"IGEOLISE LT\"    620000.0000   \n",
       "474376 305390030.0000                      UAB \"AUTOSIGMUS\"    450000.0000   \n",
       "474377 305393382.0000                     MB \"ALPHA SAFETY\"    820000.0000   \n",
       "\n",
       "                                            veikl_rus_pav        savivaldybe  \\\n",
       "0            Viešbučių ir panašių laikinų buveinių veikla   Vilniaus r. sav.   \n",
       "12      Kompiuterių programavimo, konsultacinė ir susi...   Vilniaus m. sav.   \n",
       "24      Nuosavo arba nuomojamo nekilnojamojo turto nuo...   Vilniaus m. sav.   \n",
       "36      Komunalinių elektros ir telekomunikacijos stat...   Vilniaus m. sav.   \n",
       "48                 Kita, niekur kitur nepriskirta, gamyba   Vilniaus m. sav.   \n",
       "...                                                   ...                ...   \n",
       "474373                    Kita stacionarinė globos veikla    Šiaulių m. sav.   \n",
       "474374                 Maitinimo ir gėrimų teikimo veikla  Klaipėdos r. sav.   \n",
       "474375  Kompiuterių programavimo, konsultacinė ir susi...   Vilniaus m. sav.   \n",
       "474376  Variklinių transporto priemonių ir motociklų d...   Vilniaus m. sav.   \n",
       "474377  Administracinė veikla, įstaigų ir kitų verslo ...      Kauno m. sav.   \n",
       "\n",
       "        metai  darbuotoju_skaicius  vid_atlyginimas  \n",
       "0        2019                  211        1309.1558  \n",
       "12       2019                   54        2188.8917  \n",
       "24       2019                    4        1387.5175  \n",
       "36       2019                  242        1902.7950  \n",
       "48       2019                  221        1516.2792  \n",
       "...       ...                  ...              ...  \n",
       "474373   2019                  118        1766.8400  \n",
       "474374   2019                    5          88.8000  \n",
       "474375   2019                   15         414.2200  \n",
       "474376   2019                   11         403.4100  \n",
       "474377   2019                    7        1314.4300  \n",
       "\n",
       "[42281 rows x 8 columns]"
      ]
     },
     "execution_count": 657,
     "metadata": {},
     "output_type": "execute_result"
    },
    {
     "data": {
      "application/javascript": "\n            setTimeout(function() {\n                var nbb_cell_id = 657;\n                var nbb_unformatted_code = \"final_sodra_19\";\n                var nbb_formatted_code = \"final_sodra_19\";\n                var nbb_cells = Jupyter.notebook.get_cells();\n                for (var i = 0; i < nbb_cells.length; ++i) {\n                    if (nbb_cells[i].input_prompt_number == nbb_cell_id) {\n                        if (nbb_cells[i].get_text() == nbb_unformatted_code) {\n                             nbb_cells[i].set_text(nbb_formatted_code);\n                        }\n                        break;\n                    }\n                }\n            }, 500);\n            ",
      "text/plain": [
       "<IPython.core.display.Javascript object>"
      ]
     },
     "metadata": {},
     "output_type": "display_data"
    }
   ],
   "source": [
    "final_sodra_19"
   ]
  },
  {
   "cell_type": "code",
   "execution_count": 658,
   "id": "c3510f7a-752b-45a2-ab72-3497c864b226",
   "metadata": {},
   "outputs": [
    {
     "data": {
      "text/html": [
       "<div>\n",
       "<style scoped>\n",
       "    .dataframe tbody tr th:only-of-type {\n",
       "        vertical-align: middle;\n",
       "    }\n",
       "\n",
       "    .dataframe tbody tr th {\n",
       "        vertical-align: top;\n",
       "    }\n",
       "\n",
       "    .dataframe thead th {\n",
       "        text-align: right;\n",
       "    }\n",
       "</style>\n",
       "<table border=\"1\" class=\"dataframe\">\n",
       "  <thead>\n",
       "    <tr style=\"text-align: right;\">\n",
       "      <th></th>\n",
       "      <th>obj_kodas</th>\n",
       "      <th>obj_pav</th>\n",
       "      <th>veikl_rus_kod</th>\n",
       "      <th>veikl_rus_pav</th>\n",
       "      <th>savivaldybe</th>\n",
       "      <th>metai</th>\n",
       "      <th>darbuotoju_skaicius</th>\n",
       "      <th>vid_atlyginimas</th>\n",
       "    </tr>\n",
       "  </thead>\n",
       "  <tbody>\n",
       "    <tr>\n",
       "      <th>0</th>\n",
       "      <td>110004884.0000</td>\n",
       "      <td>UŽDAROJI AKCINĖ BENDROVĖ VILLON</td>\n",
       "      <td>551000.0000</td>\n",
       "      <td>Viešbučių ir panašių laikinų buveinių veikla</td>\n",
       "      <td>Vilniaus r. sav.</td>\n",
       "      <td>2020</td>\n",
       "      <td>148</td>\n",
       "      <td>1167.6825</td>\n",
       "    </tr>\n",
       "    <tr>\n",
       "      <th>12</th>\n",
       "      <td>110005648.0000</td>\n",
       "      <td>UAB \"INFORMACINĖS PASLAUGOS\"</td>\n",
       "      <td>620000.0000</td>\n",
       "      <td>Kompiuterių programavimo, konsultacinė ir susi...</td>\n",
       "      <td>Vilniaus m. sav.</td>\n",
       "      <td>2020</td>\n",
       "      <td>41</td>\n",
       "      <td>1981.8150</td>\n",
       "    </tr>\n",
       "    <tr>\n",
       "      <th>24</th>\n",
       "      <td>110008377.0000</td>\n",
       "      <td>UŽDAROJI AKCINĖ BENDROVĖ KOMPONENTAS</td>\n",
       "      <td>682000.0000</td>\n",
       "      <td>Nuosavo arba nuomojamo nekilnojamojo turto nuo...</td>\n",
       "      <td>Vilniaus m. sav.</td>\n",
       "      <td>2020</td>\n",
       "      <td>4</td>\n",
       "      <td>1493.9158</td>\n",
       "    </tr>\n",
       "    <tr>\n",
       "      <th>36</th>\n",
       "      <td>110011925.0000</td>\n",
       "      <td>UAB ELTEL NETWORKS</td>\n",
       "      <td>422200.0000</td>\n",
       "      <td>Komunalinių elektros ir telekomunikacijos stat...</td>\n",
       "      <td>Vilniaus m. sav.</td>\n",
       "      <td>2020</td>\n",
       "      <td>187</td>\n",
       "      <td>1906.2192</td>\n",
       "    </tr>\n",
       "    <tr>\n",
       "      <th>48</th>\n",
       "      <td>110012112.0000</td>\n",
       "      <td>UAB IDW</td>\n",
       "      <td>329900.0000</td>\n",
       "      <td>Kita, niekur kitur nepriskirta, gamyba</td>\n",
       "      <td>Vilniaus m. sav.</td>\n",
       "      <td>2020</td>\n",
       "      <td>182</td>\n",
       "      <td>1311.7917</td>\n",
       "    </tr>\n",
       "    <tr>\n",
       "      <th>...</th>\n",
       "      <td>...</td>\n",
       "      <td>...</td>\n",
       "      <td>...</td>\n",
       "      <td>...</td>\n",
       "      <td>...</td>\n",
       "      <td>...</td>\n",
       "      <td>...</td>\n",
       "      <td>...</td>\n",
       "    </tr>\n",
       "    <tr>\n",
       "      <th>466144</th>\n",
       "      <td>305658820.0000</td>\n",
       "      <td>MAŽOJI BENDRIJA \"DIMOSTA\"</td>\n",
       "      <td>412000.0000</td>\n",
       "      <td>Gyvenamųjų ir negyvenamųjų pastatų statyba</td>\n",
       "      <td>Vilniaus r. sav.</td>\n",
       "      <td>2020</td>\n",
       "      <td>12</td>\n",
       "      <td>157.3200</td>\n",
       "    </tr>\n",
       "    <tr>\n",
       "      <th>466145</th>\n",
       "      <td>305660052.0000</td>\n",
       "      <td>MAŽOJI BENDRIJA \"PAS JUOZUKĄ\"</td>\n",
       "      <td>562000.0000</td>\n",
       "      <td>Pagaminto valgio tiekimas renginiams ir kitų m...</td>\n",
       "      <td>Kauno m. sav.</td>\n",
       "      <td>2020</td>\n",
       "      <td>4</td>\n",
       "      <td>537.0000</td>\n",
       "    </tr>\n",
       "    <tr>\n",
       "      <th>466146</th>\n",
       "      <td>305662808.0000</td>\n",
       "      <td>UAB STATULA</td>\n",
       "      <td>680000.0000</td>\n",
       "      <td>Nekilnojamojo turto operacijos</td>\n",
       "      <td>Vilniaus m. sav.</td>\n",
       "      <td>2020</td>\n",
       "      <td>11</td>\n",
       "      <td>1263.6300</td>\n",
       "    </tr>\n",
       "    <tr>\n",
       "      <th>466147</th>\n",
       "      <td>305664047.0000</td>\n",
       "      <td>NACIONALINĖ ŠEIMOS TARYBA</td>\n",
       "      <td>949900.0000</td>\n",
       "      <td>Kitų, niekur kitur nepriskirtų, narystės organ...</td>\n",
       "      <td>Vilniaus m. sav.</td>\n",
       "      <td>2020</td>\n",
       "      <td>6</td>\n",
       "      <td>2947.7900</td>\n",
       "    </tr>\n",
       "    <tr>\n",
       "      <th>466148</th>\n",
       "      <td>305665590.0000</td>\n",
       "      <td>MB \"STATYBOS GRUPĖ\"</td>\n",
       "      <td>412020.0000</td>\n",
       "      <td>Pastatų remontas, restauravimas ir rekonstravimas</td>\n",
       "      <td>Vilniaus m. sav.</td>\n",
       "      <td>2020</td>\n",
       "      <td>4</td>\n",
       "      <td>326.7900</td>\n",
       "    </tr>\n",
       "  </tbody>\n",
       "</table>\n",
       "<p>41814 rows × 8 columns</p>\n",
       "</div>"
      ],
      "text/plain": [
       "            obj_kodas                               obj_pav  veikl_rus_kod  \\\n",
       "0      110004884.0000       UŽDAROJI AKCINĖ BENDROVĖ VILLON    551000.0000   \n",
       "12     110005648.0000          UAB \"INFORMACINĖS PASLAUGOS\"    620000.0000   \n",
       "24     110008377.0000  UŽDAROJI AKCINĖ BENDROVĖ KOMPONENTAS    682000.0000   \n",
       "36     110011925.0000                    UAB ELTEL NETWORKS    422200.0000   \n",
       "48     110012112.0000                               UAB IDW    329900.0000   \n",
       "...               ...                                   ...            ...   \n",
       "466144 305658820.0000             MAŽOJI BENDRIJA \"DIMOSTA\"    412000.0000   \n",
       "466145 305660052.0000         MAŽOJI BENDRIJA \"PAS JUOZUKĄ\"    562000.0000   \n",
       "466146 305662808.0000                           UAB STATULA    680000.0000   \n",
       "466147 305664047.0000             NACIONALINĖ ŠEIMOS TARYBA    949900.0000   \n",
       "466148 305665590.0000                   MB \"STATYBOS GRUPĖ\"    412020.0000   \n",
       "\n",
       "                                            veikl_rus_pav       savivaldybe  \\\n",
       "0            Viešbučių ir panašių laikinų buveinių veikla  Vilniaus r. sav.   \n",
       "12      Kompiuterių programavimo, konsultacinė ir susi...  Vilniaus m. sav.   \n",
       "24      Nuosavo arba nuomojamo nekilnojamojo turto nuo...  Vilniaus m. sav.   \n",
       "36      Komunalinių elektros ir telekomunikacijos stat...  Vilniaus m. sav.   \n",
       "48                 Kita, niekur kitur nepriskirta, gamyba  Vilniaus m. sav.   \n",
       "...                                                   ...               ...   \n",
       "466144         Gyvenamųjų ir negyvenamųjų pastatų statyba  Vilniaus r. sav.   \n",
       "466145  Pagaminto valgio tiekimas renginiams ir kitų m...     Kauno m. sav.   \n",
       "466146                     Nekilnojamojo turto operacijos  Vilniaus m. sav.   \n",
       "466147  Kitų, niekur kitur nepriskirtų, narystės organ...  Vilniaus m. sav.   \n",
       "466148  Pastatų remontas, restauravimas ir rekonstravimas  Vilniaus m. sav.   \n",
       "\n",
       "        metai  darbuotoju_skaicius  vid_atlyginimas  \n",
       "0        2020                  148        1167.6825  \n",
       "12       2020                   41        1981.8150  \n",
       "24       2020                    4        1493.9158  \n",
       "36       2020                  187        1906.2192  \n",
       "48       2020                  182        1311.7917  \n",
       "...       ...                  ...              ...  \n",
       "466144   2020                   12         157.3200  \n",
       "466145   2020                    4         537.0000  \n",
       "466146   2020                   11        1263.6300  \n",
       "466147   2020                    6        2947.7900  \n",
       "466148   2020                    4         326.7900  \n",
       "\n",
       "[41814 rows x 8 columns]"
      ]
     },
     "execution_count": 658,
     "metadata": {},
     "output_type": "execute_result"
    },
    {
     "data": {
      "application/javascript": "\n            setTimeout(function() {\n                var nbb_cell_id = 658;\n                var nbb_unformatted_code = \"final_sodra_20\";\n                var nbb_formatted_code = \"final_sodra_20\";\n                var nbb_cells = Jupyter.notebook.get_cells();\n                for (var i = 0; i < nbb_cells.length; ++i) {\n                    if (nbb_cells[i].input_prompt_number == nbb_cell_id) {\n                        if (nbb_cells[i].get_text() == nbb_unformatted_code) {\n                             nbb_cells[i].set_text(nbb_formatted_code);\n                        }\n                        break;\n                    }\n                }\n            }, 500);\n            ",
      "text/plain": [
       "<IPython.core.display.Javascript object>"
      ]
     },
     "metadata": {},
     "output_type": "display_data"
    }
   ],
   "source": [
    "final_sodra_20"
   ]
  },
  {
   "cell_type": "code",
   "execution_count": 659,
   "id": "0ca1a9b0-1525-47dc-8aaf-9c8217cba6b0",
   "metadata": {},
   "outputs": [
    {
     "data": {
      "text/html": [
       "<div>\n",
       "<style scoped>\n",
       "    .dataframe tbody tr th:only-of-type {\n",
       "        vertical-align: middle;\n",
       "    }\n",
       "\n",
       "    .dataframe tbody tr th {\n",
       "        vertical-align: top;\n",
       "    }\n",
       "\n",
       "    .dataframe thead th {\n",
       "        text-align: right;\n",
       "    }\n",
       "</style>\n",
       "<table border=\"1\" class=\"dataframe\">\n",
       "  <thead>\n",
       "    <tr style=\"text-align: right;\">\n",
       "      <th></th>\n",
       "      <th>obj_kodas</th>\n",
       "      <th>obj_pav</th>\n",
       "      <th>form_kodas</th>\n",
       "      <th>form_pav</th>\n",
       "      <th>stat_statusas</th>\n",
       "      <th>stat_pav</th>\n",
       "      <th>template_id</th>\n",
       "      <th>template_name</th>\n",
       "      <th>standard_id</th>\n",
       "      <th>standard_name</th>\n",
       "      <th>laikotarpis_nuo</th>\n",
       "      <th>laikotarpis_iki</th>\n",
       "      <th>reg_date</th>\n",
       "      <th>nuosavas_kapitalas</th>\n",
       "      <th>mok_sumos_ir_isipareigojimai</th>\n",
       "      <th>ilgalaikis_turtas</th>\n",
       "      <th>trumpalaikis_turtas</th>\n",
       "      <th>formavimo_data</th>\n",
       "    </tr>\n",
       "  </thead>\n",
       "  <tbody>\n",
       "    <tr>\n",
       "      <th>0</th>\n",
       "      <td>305217929</td>\n",
       "      <td>MB \"Jantaris\"</td>\n",
       "      <td>960</td>\n",
       "      <td>Mažoji bendrija</td>\n",
       "      <td>0</td>\n",
       "      <td>Teisinis stat neįregistruotas</td>\n",
       "      <td>FS0322</td>\n",
       "      <td>Mažųjų bendrijų finansinių ataskaitų rinkinys</td>\n",
       "      <td>BST217</td>\n",
       "      <td>BALANSAS (Neribotos civilinės atsakomybės juri...</td>\n",
       "      <td>2019-07-27</td>\n",
       "      <td>2019-12-31</td>\n",
       "      <td>2020-05-14</td>\n",
       "      <td>1610.0000</td>\n",
       "      <td>NaN</td>\n",
       "      <td>0.0000</td>\n",
       "      <td>1684.0000</td>\n",
       "      <td>2022-12-01</td>\n",
       "    </tr>\n",
       "    <tr>\n",
       "      <th>1</th>\n",
       "      <td>304127368</td>\n",
       "      <td>Alytaus neformaliojo švietimo centras \"Toleran...</td>\n",
       "      <td>630</td>\n",
       "      <td>Asociacija</td>\n",
       "      <td>0</td>\n",
       "      <td>Teisinis stat neįregistruotas</td>\n",
       "      <td>FS0323</td>\n",
       "      <td>Pelno nesiekiančių JA finansinių ataskaitų rin...</td>\n",
       "      <td>BST216</td>\n",
       "      <td>FINANSINĖS BŪKLĖS ATASKAITA</td>\n",
       "      <td>2019-01-01</td>\n",
       "      <td>2019-12-31</td>\n",
       "      <td>2020-05-25</td>\n",
       "      <td>243.0000</td>\n",
       "      <td>0.0000</td>\n",
       "      <td>0.0000</td>\n",
       "      <td>243.0000</td>\n",
       "      <td>2022-12-01</td>\n",
       "    </tr>\n",
       "    <tr>\n",
       "      <th>2</th>\n",
       "      <td>304759186</td>\n",
       "      <td>Uždaroji akcinė bendrovė \"Balsana LT\"</td>\n",
       "      <td>310</td>\n",
       "      <td>Uždaroji akcinė bendrovė</td>\n",
       "      <td>0</td>\n",
       "      <td>Teisinis stat neįregistruotas</td>\n",
       "      <td>FS0129</td>\n",
       "      <td>Mažų ir labai mažų įmonių, netaikančių išimčių...</td>\n",
       "      <td>BST124</td>\n",
       "      <td>BALANSAS (Sutrumpintas)</td>\n",
       "      <td>2019-01-01</td>\n",
       "      <td>2019-12-31</td>\n",
       "      <td>2020-04-22</td>\n",
       "      <td>-20442.0000</td>\n",
       "      <td>93324.0000</td>\n",
       "      <td>2619.0000</td>\n",
       "      <td>69759.0000</td>\n",
       "      <td>2022-12-01</td>\n",
       "    </tr>\n",
       "    <tr>\n",
       "      <th>3</th>\n",
       "      <td>191160250</td>\n",
       "      <td>Kretingos sporto klubas \"Žalgiris\"</td>\n",
       "      <td>630</td>\n",
       "      <td>Asociacija</td>\n",
       "      <td>0</td>\n",
       "      <td>Teisinis stat neįregistruotas</td>\n",
       "      <td>FS0323</td>\n",
       "      <td>Pelno nesiekiančių JA finansinių ataskaitų rin...</td>\n",
       "      <td>BST216</td>\n",
       "      <td>FINANSINĖS BŪKLĖS ATASKAITA</td>\n",
       "      <td>2019-01-01</td>\n",
       "      <td>2019-12-31</td>\n",
       "      <td>2020-02-04</td>\n",
       "      <td>0.0000</td>\n",
       "      <td>0.0000</td>\n",
       "      <td>0.0000</td>\n",
       "      <td>2935.0000</td>\n",
       "      <td>2022-12-01</td>\n",
       "    </tr>\n",
       "    <tr>\n",
       "      <th>4</th>\n",
       "      <td>304512862</td>\n",
       "      <td>UAB \"Tedėja\"</td>\n",
       "      <td>310</td>\n",
       "      <td>Uždaroji akcinė bendrovė</td>\n",
       "      <td>0</td>\n",
       "      <td>Teisinis stat neįregistruotas</td>\n",
       "      <td>FS0129</td>\n",
       "      <td>Mažų ir labai mažų įmonių, netaikančių išimčių...</td>\n",
       "      <td>BST124</td>\n",
       "      <td>BALANSAS (Sutrumpintas)</td>\n",
       "      <td>2019-01-01</td>\n",
       "      <td>2019-12-31</td>\n",
       "      <td>2020-05-05</td>\n",
       "      <td>557480.0000</td>\n",
       "      <td>19462.0000</td>\n",
       "      <td>406399.0000</td>\n",
       "      <td>170543.0000</td>\n",
       "      <td>2022-12-01</td>\n",
       "    </tr>\n",
       "    <tr>\n",
       "      <th>...</th>\n",
       "      <td>...</td>\n",
       "      <td>...</td>\n",
       "      <td>...</td>\n",
       "      <td>...</td>\n",
       "      <td>...</td>\n",
       "      <td>...</td>\n",
       "      <td>...</td>\n",
       "      <td>...</td>\n",
       "      <td>...</td>\n",
       "      <td>...</td>\n",
       "      <td>...</td>\n",
       "      <td>...</td>\n",
       "      <td>...</td>\n",
       "      <td>...</td>\n",
       "      <td>...</td>\n",
       "      <td>...</td>\n",
       "      <td>...</td>\n",
       "      <td>...</td>\n",
       "    </tr>\n",
       "    <tr>\n",
       "      <th>106313</th>\n",
       "      <td>302564216</td>\n",
       "      <td>UAB \"Rizolta\"</td>\n",
       "      <td>310</td>\n",
       "      <td>Uždaroji akcinė bendrovė</td>\n",
       "      <td>0</td>\n",
       "      <td>Teisinis stat neįregistruotas</td>\n",
       "      <td>FS0129</td>\n",
       "      <td>Mažų ir labai mažų įmonių, netaikančių išimčių...</td>\n",
       "      <td>BST124</td>\n",
       "      <td>BALANSAS (Sutrumpintas)</td>\n",
       "      <td>2019-01-01</td>\n",
       "      <td>2019-12-31</td>\n",
       "      <td>2020-09-22</td>\n",
       "      <td>113493.0000</td>\n",
       "      <td>90023.0000</td>\n",
       "      <td>82589.0000</td>\n",
       "      <td>120916.0000</td>\n",
       "      <td>2022-12-01</td>\n",
       "    </tr>\n",
       "    <tr>\n",
       "      <th>106314</th>\n",
       "      <td>300613091</td>\n",
       "      <td>UAB \"Berta And\"</td>\n",
       "      <td>310</td>\n",
       "      <td>Uždaroji akcinė bendrovė</td>\n",
       "      <td>0</td>\n",
       "      <td>Teisinis stat neįregistruotas</td>\n",
       "      <td>FS0129</td>\n",
       "      <td>Mažų ir labai mažų įmonių, netaikančių išimčių...</td>\n",
       "      <td>BST124</td>\n",
       "      <td>BALANSAS (Sutrumpintas)</td>\n",
       "      <td>2019-01-01</td>\n",
       "      <td>2019-12-31</td>\n",
       "      <td>2020-06-01</td>\n",
       "      <td>145088.0000</td>\n",
       "      <td>1053470.0000</td>\n",
       "      <td>150544.0000</td>\n",
       "      <td>922735.0000</td>\n",
       "      <td>2022-12-01</td>\n",
       "    </tr>\n",
       "    <tr>\n",
       "      <th>106315</th>\n",
       "      <td>304213995</td>\n",
       "      <td>UAB \"Kemo statyba\"</td>\n",
       "      <td>310</td>\n",
       "      <td>Uždaroji akcinė bendrovė</td>\n",
       "      <td>0</td>\n",
       "      <td>Teisinis stat neįregistruotas</td>\n",
       "      <td>FS0129</td>\n",
       "      <td>Mažų ir labai mažų įmonių, netaikančių išimčių...</td>\n",
       "      <td>BST124</td>\n",
       "      <td>BALANSAS (Sutrumpintas)</td>\n",
       "      <td>2019-01-01</td>\n",
       "      <td>2019-12-31</td>\n",
       "      <td>2020-05-28</td>\n",
       "      <td>22305.0000</td>\n",
       "      <td>26599.0000</td>\n",
       "      <td>4968.0000</td>\n",
       "      <td>43777.0000</td>\n",
       "      <td>2022-12-01</td>\n",
       "    </tr>\n",
       "    <tr>\n",
       "      <th>106316</th>\n",
       "      <td>302640169</td>\n",
       "      <td>UAB TRANSOVITA</td>\n",
       "      <td>310</td>\n",
       "      <td>Uždaroji akcinė bendrovė</td>\n",
       "      <td>0</td>\n",
       "      <td>Teisinis stat neįregistruotas</td>\n",
       "      <td>FS0129</td>\n",
       "      <td>Mažų ir labai mažų įmonių, netaikančių išimčių...</td>\n",
       "      <td>BST124</td>\n",
       "      <td>BALANSAS (Sutrumpintas)</td>\n",
       "      <td>2019-01-01</td>\n",
       "      <td>2019-12-31</td>\n",
       "      <td>2020-05-26</td>\n",
       "      <td>77554.0000</td>\n",
       "      <td>422622.0000</td>\n",
       "      <td>328093.0000</td>\n",
       "      <td>172083.0000</td>\n",
       "      <td>2022-12-01</td>\n",
       "    </tr>\n",
       "    <tr>\n",
       "      <th>106317</th>\n",
       "      <td>303778867</td>\n",
       "      <td>VšĮ \"Medijų uostas\"</td>\n",
       "      <td>570</td>\n",
       "      <td>Viešoji įstaiga</td>\n",
       "      <td>0</td>\n",
       "      <td>Teisinis stat neįregistruotas</td>\n",
       "      <td>FS0323</td>\n",
       "      <td>Pelno nesiekiančių JA finansinių ataskaitų rin...</td>\n",
       "      <td>BST216</td>\n",
       "      <td>FINANSINĖS BŪKLĖS ATASKAITA</td>\n",
       "      <td>2019-01-01</td>\n",
       "      <td>2019-12-31</td>\n",
       "      <td>2020-05-04</td>\n",
       "      <td>2722.0000</td>\n",
       "      <td>1464.0000</td>\n",
       "      <td>590.0000</td>\n",
       "      <td>3596.0000</td>\n",
       "      <td>2022-12-01</td>\n",
       "    </tr>\n",
       "  </tbody>\n",
       "</table>\n",
       "<p>106318 rows × 18 columns</p>\n",
       "</div>"
      ],
      "text/plain": [
       "        obj_kodas                                            obj_pav  \\\n",
       "0       305217929                                      MB \"Jantaris\"   \n",
       "1       304127368  Alytaus neformaliojo švietimo centras \"Toleran...   \n",
       "2       304759186              Uždaroji akcinė bendrovė \"Balsana LT\"   \n",
       "3       191160250                 Kretingos sporto klubas \"Žalgiris\"   \n",
       "4       304512862                                       UAB \"Tedėja\"   \n",
       "...           ...                                                ...   \n",
       "106313  302564216                                      UAB \"Rizolta\"   \n",
       "106314  300613091                                    UAB \"Berta And\"   \n",
       "106315  304213995                                 UAB \"Kemo statyba\"   \n",
       "106316  302640169                                     UAB TRANSOVITA   \n",
       "106317  303778867                                VšĮ \"Medijų uostas\"   \n",
       "\n",
       "        form_kodas                  form_pav  stat_statusas  \\\n",
       "0              960           Mažoji bendrija              0   \n",
       "1              630                Asociacija              0   \n",
       "2              310  Uždaroji akcinė bendrovė              0   \n",
       "3              630                Asociacija              0   \n",
       "4              310  Uždaroji akcinė bendrovė              0   \n",
       "...            ...                       ...            ...   \n",
       "106313         310  Uždaroji akcinė bendrovė              0   \n",
       "106314         310  Uždaroji akcinė bendrovė              0   \n",
       "106315         310  Uždaroji akcinė bendrovė              0   \n",
       "106316         310  Uždaroji akcinė bendrovė              0   \n",
       "106317         570           Viešoji įstaiga              0   \n",
       "\n",
       "                             stat_pav template_id  \\\n",
       "0       Teisinis stat neįregistruotas      FS0322   \n",
       "1       Teisinis stat neįregistruotas      FS0323   \n",
       "2       Teisinis stat neįregistruotas      FS0129   \n",
       "3       Teisinis stat neįregistruotas      FS0323   \n",
       "4       Teisinis stat neįregistruotas      FS0129   \n",
       "...                               ...         ...   \n",
       "106313  Teisinis stat neįregistruotas      FS0129   \n",
       "106314  Teisinis stat neįregistruotas      FS0129   \n",
       "106315  Teisinis stat neįregistruotas      FS0129   \n",
       "106316  Teisinis stat neįregistruotas      FS0129   \n",
       "106317  Teisinis stat neįregistruotas      FS0323   \n",
       "\n",
       "                                            template_name standard_id  \\\n",
       "0           Mažųjų bendrijų finansinių ataskaitų rinkinys      BST217   \n",
       "1       Pelno nesiekiančių JA finansinių ataskaitų rin...      BST216   \n",
       "2       Mažų ir labai mažų įmonių, netaikančių išimčių...      BST124   \n",
       "3       Pelno nesiekiančių JA finansinių ataskaitų rin...      BST216   \n",
       "4       Mažų ir labai mažų įmonių, netaikančių išimčių...      BST124   \n",
       "...                                                   ...         ...   \n",
       "106313  Mažų ir labai mažų įmonių, netaikančių išimčių...      BST124   \n",
       "106314  Mažų ir labai mažų įmonių, netaikančių išimčių...      BST124   \n",
       "106315  Mažų ir labai mažų įmonių, netaikančių išimčių...      BST124   \n",
       "106316  Mažų ir labai mažų įmonių, netaikančių išimčių...      BST124   \n",
       "106317  Pelno nesiekiančių JA finansinių ataskaitų rin...      BST216   \n",
       "\n",
       "                                            standard_name laikotarpis_nuo  \\\n",
       "0       BALANSAS (Neribotos civilinės atsakomybės juri...      2019-07-27   \n",
       "1                             FINANSINĖS BŪKLĖS ATASKAITA      2019-01-01   \n",
       "2                                 BALANSAS (Sutrumpintas)      2019-01-01   \n",
       "3                             FINANSINĖS BŪKLĖS ATASKAITA      2019-01-01   \n",
       "4                                 BALANSAS (Sutrumpintas)      2019-01-01   \n",
       "...                                                   ...             ...   \n",
       "106313                            BALANSAS (Sutrumpintas)      2019-01-01   \n",
       "106314                            BALANSAS (Sutrumpintas)      2019-01-01   \n",
       "106315                            BALANSAS (Sutrumpintas)      2019-01-01   \n",
       "106316                            BALANSAS (Sutrumpintas)      2019-01-01   \n",
       "106317                        FINANSINĖS BŪKLĖS ATASKAITA      2019-01-01   \n",
       "\n",
       "       laikotarpis_iki    reg_date  nuosavas_kapitalas  \\\n",
       "0           2019-12-31  2020-05-14           1610.0000   \n",
       "1           2019-12-31  2020-05-25            243.0000   \n",
       "2           2019-12-31  2020-04-22         -20442.0000   \n",
       "3           2019-12-31  2020-02-04              0.0000   \n",
       "4           2019-12-31  2020-05-05         557480.0000   \n",
       "...                ...         ...                 ...   \n",
       "106313      2019-12-31  2020-09-22         113493.0000   \n",
       "106314      2019-12-31  2020-06-01         145088.0000   \n",
       "106315      2019-12-31  2020-05-28          22305.0000   \n",
       "106316      2019-12-31  2020-05-26          77554.0000   \n",
       "106317      2019-12-31  2020-05-04           2722.0000   \n",
       "\n",
       "        mok_sumos_ir_isipareigojimai  ilgalaikis_turtas  trumpalaikis_turtas  \\\n",
       "0                                NaN             0.0000            1684.0000   \n",
       "1                             0.0000             0.0000             243.0000   \n",
       "2                         93324.0000          2619.0000           69759.0000   \n",
       "3                             0.0000             0.0000            2935.0000   \n",
       "4                         19462.0000        406399.0000          170543.0000   \n",
       "...                              ...                ...                  ...   \n",
       "106313                    90023.0000         82589.0000          120916.0000   \n",
       "106314                  1053470.0000        150544.0000          922735.0000   \n",
       "106315                    26599.0000          4968.0000           43777.0000   \n",
       "106316                   422622.0000        328093.0000          172083.0000   \n",
       "106317                     1464.0000           590.0000            3596.0000   \n",
       "\n",
       "       formavimo_data  \n",
       "0          2022-12-01  \n",
       "1          2022-12-01  \n",
       "2          2022-12-01  \n",
       "3          2022-12-01  \n",
       "4          2022-12-01  \n",
       "...               ...  \n",
       "106313     2022-12-01  \n",
       "106314     2022-12-01  \n",
       "106315     2022-12-01  \n",
       "106316     2022-12-01  \n",
       "106317     2022-12-01  \n",
       "\n",
       "[106318 rows x 18 columns]"
      ]
     },
     "execution_count": 659,
     "metadata": {},
     "output_type": "execute_result"
    },
    {
     "data": {
      "application/javascript": "\n            setTimeout(function() {\n                var nbb_cell_id = 659;\n                var nbb_unformatted_code = \"raw_balanso_ataskaita_2020\";\n                var nbb_formatted_code = \"raw_balanso_ataskaita_2020\";\n                var nbb_cells = Jupyter.notebook.get_cells();\n                for (var i = 0; i < nbb_cells.length; ++i) {\n                    if (nbb_cells[i].input_prompt_number == nbb_cell_id) {\n                        if (nbb_cells[i].get_text() == nbb_unformatted_code) {\n                             nbb_cells[i].set_text(nbb_formatted_code);\n                        }\n                        break;\n                    }\n                }\n            }, 500);\n            ",
      "text/plain": [
       "<IPython.core.display.Javascript object>"
      ]
     },
     "metadata": {},
     "output_type": "display_data"
    }
   ],
   "source": [
    "raw_balanso_ataskaita_2020"
   ]
  },
  {
   "cell_type": "code",
   "execution_count": 660,
   "id": "136f82ac-5fc3-43de-aa79-b79aa997836d",
   "metadata": {},
   "outputs": [
    {
     "data": {
      "text/html": [
       "<div>\n",
       "<style scoped>\n",
       "    .dataframe tbody tr th:only-of-type {\n",
       "        vertical-align: middle;\n",
       "    }\n",
       "\n",
       "    .dataframe tbody tr th {\n",
       "        vertical-align: top;\n",
       "    }\n",
       "\n",
       "    .dataframe thead th {\n",
       "        text-align: right;\n",
       "    }\n",
       "</style>\n",
       "<table border=\"1\" class=\"dataframe\">\n",
       "  <thead>\n",
       "    <tr style=\"text-align: right;\">\n",
       "      <th></th>\n",
       "      <th>obj_kodas</th>\n",
       "      <th>obj_pav</th>\n",
       "      <th>form_pav</th>\n",
       "      <th>veiklos_kodas</th>\n",
       "      <th>veiklos_aprasymas</th>\n",
       "      <th>savivaldybe</th>\n",
       "      <th>nuosavas_kapitalas_20</th>\n",
       "      <th>mok_sumos_ir_isipareigojimai_20</th>\n",
       "      <th>ilgalaikis_turtas_20</th>\n",
       "      <th>trumpalaikis_turtas_20</th>\n",
       "      <th>pardavimo_pajamos_20</th>\n",
       "      <th>grynasis_pelnas_20</th>\n",
       "      <th>vid_atlyginimas_20</th>\n",
       "      <th>darbuotoju_skaicius_20</th>\n",
       "      <th>nuosavas_kapitalas_21</th>\n",
       "      <th>mok_sumos_ir_isipareigojimai_21</th>\n",
       "      <th>ilgalaikis_turtas_21</th>\n",
       "      <th>trumpalaikis_turtas_21</th>\n",
       "      <th>pardavimo_pajamos_21</th>\n",
       "      <th>grynasis_pelnas_21</th>\n",
       "      <th>vid_atlyginimas_21</th>\n",
       "      <th>darbuotoju_skaicius_21</th>\n",
       "    </tr>\n",
       "  </thead>\n",
       "  <tbody>\n",
       "    <tr>\n",
       "      <th>0</th>\n",
       "      <td>304065621</td>\n",
       "      <td>UAB \"Stasinės dvaro sodyba\"</td>\n",
       "      <td>Uždaroji akcinė bendrovė</td>\n",
       "      <td>561000.0000</td>\n",
       "      <td>Restoranų ir pagaminto valgio teikimo veikla</td>\n",
       "      <td>Kėdainių r. sav.</td>\n",
       "      <td>21069.0000</td>\n",
       "      <td>56108.0000</td>\n",
       "      <td>63042.0000</td>\n",
       "      <td>13846.0000</td>\n",
       "      <td>88992.0000</td>\n",
       "      <td>10500.0000</td>\n",
       "      <td>392.4600</td>\n",
       "      <td>7</td>\n",
       "      <td>22388.0000</td>\n",
       "      <td>51680.0000</td>\n",
       "      <td>59531.0000</td>\n",
       "      <td>14221.0000</td>\n",
       "      <td>48669.0000</td>\n",
       "      <td>1319.0000</td>\n",
       "      <td>430.3600</td>\n",
       "      <td>5</td>\n",
       "    </tr>\n",
       "    <tr>\n",
       "      <th>1</th>\n",
       "      <td>302542376</td>\n",
       "      <td>UAB \"Gedimino 9\"</td>\n",
       "      <td>Uždaroji akcinė bendrovė</td>\n",
       "      <td>682000.0000</td>\n",
       "      <td>Nuosavo arba nuomojamo nekilnojamojo turto nuo...</td>\n",
       "      <td>Vilniaus m. sav.</td>\n",
       "      <td>3446280.0000</td>\n",
       "      <td>33399866.0000</td>\n",
       "      <td>37591281.0000</td>\n",
       "      <td>193014.0000</td>\n",
       "      <td>1611605.0000</td>\n",
       "      <td>-3883947.0000</td>\n",
       "      <td>1359.2900</td>\n",
       "      <td>4</td>\n",
       "      <td>3823724.0000</td>\n",
       "      <td>33130389.0000</td>\n",
       "      <td>37170443.0000</td>\n",
       "      <td>610823.0000</td>\n",
       "      <td>2916657.0000</td>\n",
       "      <td>377444.0000</td>\n",
       "      <td>1743.1200</td>\n",
       "      <td>4</td>\n",
       "    </tr>\n",
       "    <tr>\n",
       "      <th>2</th>\n",
       "      <td>302572526</td>\n",
       "      <td>UAB \"ARITRA\"</td>\n",
       "      <td>Uždaroji akcinė bendrovė</td>\n",
       "      <td>494100.0000</td>\n",
       "      <td>Krovininis kelių transportas</td>\n",
       "      <td>Panevėžio r. sav.</td>\n",
       "      <td>128619.0000</td>\n",
       "      <td>404487.0000</td>\n",
       "      <td>124635.0000</td>\n",
       "      <td>409972.0000</td>\n",
       "      <td>585832.0000</td>\n",
       "      <td>5146.0000</td>\n",
       "      <td>619.0700</td>\n",
       "      <td>11</td>\n",
       "      <td>10001.0000</td>\n",
       "      <td>519902.0000</td>\n",
       "      <td>125544.0000</td>\n",
       "      <td>405727.0000</td>\n",
       "      <td>368274.0000</td>\n",
       "      <td>-119074.0000</td>\n",
       "      <td>666.9100</td>\n",
       "      <td>9</td>\n",
       "    </tr>\n",
       "    <tr>\n",
       "      <th>3</th>\n",
       "      <td>111822140</td>\n",
       "      <td>UAB \"OneMed\"</td>\n",
       "      <td>Uždaroji akcinė bendrovė</td>\n",
       "      <td>464600.0000</td>\n",
       "      <td>Farmacijos prekių didmeninė prekyba</td>\n",
       "      <td>Vilniaus m. sav.</td>\n",
       "      <td>218936.0000</td>\n",
       "      <td>544480.0000</td>\n",
       "      <td>82073.0000</td>\n",
       "      <td>720371.0000</td>\n",
       "      <td>2354716.0000</td>\n",
       "      <td>27516.0000</td>\n",
       "      <td>1539.5700</td>\n",
       "      <td>7</td>\n",
       "      <td>543010.0000</td>\n",
       "      <td>347916.0000</td>\n",
       "      <td>15500.0000</td>\n",
       "      <td>921278.0000</td>\n",
       "      <td>3005146.0000</td>\n",
       "      <td>324074.0000</td>\n",
       "      <td>2813.4400</td>\n",
       "      <td>7</td>\n",
       "    </tr>\n",
       "    <tr>\n",
       "      <th>4</th>\n",
       "      <td>225033960</td>\n",
       "      <td>UAB ZOOVETERINARIJOS CENTRAS \"TOTO\"</td>\n",
       "      <td>Uždaroji akcinė bendrovė</td>\n",
       "      <td>750000.0000</td>\n",
       "      <td>Veterinarinė veikla</td>\n",
       "      <td>Vilniaus m. sav.</td>\n",
       "      <td>98829.0000</td>\n",
       "      <td>236735.0000</td>\n",
       "      <td>266798.0000</td>\n",
       "      <td>67609.0000</td>\n",
       "      <td>867874.0000</td>\n",
       "      <td>-12573.0000</td>\n",
       "      <td>1353.7800</td>\n",
       "      <td>24</td>\n",
       "      <td>103998.0000</td>\n",
       "      <td>206580.0000</td>\n",
       "      <td>223964.0000</td>\n",
       "      <td>85282.0000</td>\n",
       "      <td>909893.0000</td>\n",
       "      <td>19696.0000</td>\n",
       "      <td>1462.8600</td>\n",
       "      <td>26</td>\n",
       "    </tr>\n",
       "    <tr>\n",
       "      <th>5</th>\n",
       "      <td>300586623</td>\n",
       "      <td>UAB \"EASY RENTAL\"</td>\n",
       "      <td>Uždaroji akcinė bendrovė</td>\n",
       "      <td>451100.0000</td>\n",
       "      <td>Automobilių ir lengvųjų variklinių transporto ...</td>\n",
       "      <td>Vilniaus m. sav.</td>\n",
       "      <td>59128.0000</td>\n",
       "      <td>348610.0000</td>\n",
       "      <td>98802.0000</td>\n",
       "      <td>309821.0000</td>\n",
       "      <td>481103.0000</td>\n",
       "      <td>6132.0000</td>\n",
       "      <td>862.9000</td>\n",
       "      <td>4</td>\n",
       "      <td>101402.0000</td>\n",
       "      <td>225829.0000</td>\n",
       "      <td>81273.0000</td>\n",
       "      <td>245445.0000</td>\n",
       "      <td>581604.0000</td>\n",
       "      <td>41715.0000</td>\n",
       "      <td>1105.7500</td>\n",
       "      <td>4</td>\n",
       "    </tr>\n",
       "    <tr>\n",
       "      <th>6</th>\n",
       "      <td>304640221</td>\n",
       "      <td>UAB \"Metropolio viešbutis\"</td>\n",
       "      <td>Uždaroji akcinė bendrovė</td>\n",
       "      <td>551000.0000</td>\n",
       "      <td>Viešbučių ir panašių laikinų buveinių veikla</td>\n",
       "      <td>Vilniaus m. sav.</td>\n",
       "      <td>-63871.0000</td>\n",
       "      <td>117496.0000</td>\n",
       "      <td>327.0000</td>\n",
       "      <td>56751.0000</td>\n",
       "      <td>620200.0000</td>\n",
       "      <td>-24310.0000</td>\n",
       "      <td>718.2600</td>\n",
       "      <td>14</td>\n",
       "      <td>9144.0000</td>\n",
       "      <td>67452.0000</td>\n",
       "      <td>616.0000</td>\n",
       "      <td>71308.0000</td>\n",
       "      <td>290994.0000</td>\n",
       "      <td>8815.0000</td>\n",
       "      <td>567.2900</td>\n",
       "      <td>13</td>\n",
       "    </tr>\n",
       "    <tr>\n",
       "      <th>7</th>\n",
       "      <td>165787440</td>\n",
       "      <td>Uždaroji akcinė bendrovė \"MAVISTA\"</td>\n",
       "      <td>Uždaroji akcinė bendrovė</td>\n",
       "      <td>432200.0000</td>\n",
       "      <td>Vandentiekio, šildymo ir oro kondicionavimo si...</td>\n",
       "      <td>Marijampolės sav.</td>\n",
       "      <td>1244727.0000</td>\n",
       "      <td>299629.0000</td>\n",
       "      <td>504166.0000</td>\n",
       "      <td>1023356.0000</td>\n",
       "      <td>3949233.0000</td>\n",
       "      <td>338523.0000</td>\n",
       "      <td>1156.8600</td>\n",
       "      <td>62</td>\n",
       "      <td>1359813.0000</td>\n",
       "      <td>117127.0000</td>\n",
       "      <td>471634.0000</td>\n",
       "      <td>988034.0000</td>\n",
       "      <td>2837038.0000</td>\n",
       "      <td>115086.0000</td>\n",
       "      <td>1252.0900</td>\n",
       "      <td>56</td>\n",
       "    </tr>\n",
       "    <tr>\n",
       "      <th>8</th>\n",
       "      <td>303161403</td>\n",
       "      <td>UAB \"TV partneriai\"</td>\n",
       "      <td>Uždaroji akcinė bendrovė</td>\n",
       "      <td>602000.0000</td>\n",
       "      <td>Televizijos programų rengimas ir transliavimas</td>\n",
       "      <td>Kauno m. sav.</td>\n",
       "      <td>166115.0000</td>\n",
       "      <td>136662.0000</td>\n",
       "      <td>163103.0000</td>\n",
       "      <td>138243.0000</td>\n",
       "      <td>613271.0000</td>\n",
       "      <td>54537.0000</td>\n",
       "      <td>1266.1700</td>\n",
       "      <td>9</td>\n",
       "      <td>279164.0000</td>\n",
       "      <td>229568.0000</td>\n",
       "      <td>218520.0000</td>\n",
       "      <td>286010.0000</td>\n",
       "      <td>668176.0000</td>\n",
       "      <td>112764.0000</td>\n",
       "      <td>957.9700</td>\n",
       "      <td>9</td>\n",
       "    </tr>\n",
       "    <tr>\n",
       "      <th>9</th>\n",
       "      <td>300152018</td>\n",
       "      <td>Uždaroji akcinė bendrovė \"Renavita\"</td>\n",
       "      <td>Uždaroji akcinė bendrovė</td>\n",
       "      <td>692000.0000</td>\n",
       "      <td>Apskaitos, buhalterijos ir audito veikla; kons...</td>\n",
       "      <td>Kauno m. sav.</td>\n",
       "      <td>-52328.0000</td>\n",
       "      <td>99447.0000</td>\n",
       "      <td>3755.0000</td>\n",
       "      <td>42948.0000</td>\n",
       "      <td>14014.0000</td>\n",
       "      <td>-55985.0000</td>\n",
       "      <td>642.2800</td>\n",
       "      <td>7</td>\n",
       "      <td>-43092.0000</td>\n",
       "      <td>94493.0000</td>\n",
       "      <td>1348.0000</td>\n",
       "      <td>50053.0000</td>\n",
       "      <td>68008.0000</td>\n",
       "      <td>9236.0000</td>\n",
       "      <td>1010.2400</td>\n",
       "      <td>5</td>\n",
       "    </tr>\n",
       "  </tbody>\n",
       "</table>\n",
       "</div>"
      ],
      "text/plain": [
       "   obj_kodas                              obj_pav                  form_pav  \\\n",
       "0  304065621          UAB \"Stasinės dvaro sodyba\"  Uždaroji akcinė bendrovė   \n",
       "1  302542376                     UAB \"Gedimino 9\"  Uždaroji akcinė bendrovė   \n",
       "2  302572526                         UAB \"ARITRA\"  Uždaroji akcinė bendrovė   \n",
       "3  111822140                         UAB \"OneMed\"  Uždaroji akcinė bendrovė   \n",
       "4  225033960  UAB ZOOVETERINARIJOS CENTRAS \"TOTO\"  Uždaroji akcinė bendrovė   \n",
       "5  300586623                    UAB \"EASY RENTAL\"  Uždaroji akcinė bendrovė   \n",
       "6  304640221           UAB \"Metropolio viešbutis\"  Uždaroji akcinė bendrovė   \n",
       "7  165787440   Uždaroji akcinė bendrovė \"MAVISTA\"  Uždaroji akcinė bendrovė   \n",
       "8  303161403                  UAB \"TV partneriai\"  Uždaroji akcinė bendrovė   \n",
       "9  300152018  Uždaroji akcinė bendrovė \"Renavita\"  Uždaroji akcinė bendrovė   \n",
       "\n",
       "   veiklos_kodas                                  veiklos_aprasymas  \\\n",
       "0    561000.0000       Restoranų ir pagaminto valgio teikimo veikla   \n",
       "1    682000.0000  Nuosavo arba nuomojamo nekilnojamojo turto nuo...   \n",
       "2    494100.0000                       Krovininis kelių transportas   \n",
       "3    464600.0000                Farmacijos prekių didmeninė prekyba   \n",
       "4    750000.0000                                Veterinarinė veikla   \n",
       "5    451100.0000  Automobilių ir lengvųjų variklinių transporto ...   \n",
       "6    551000.0000       Viešbučių ir panašių laikinų buveinių veikla   \n",
       "7    432200.0000  Vandentiekio, šildymo ir oro kondicionavimo si...   \n",
       "8    602000.0000     Televizijos programų rengimas ir transliavimas   \n",
       "9    692000.0000  Apskaitos, buhalterijos ir audito veikla; kons...   \n",
       "\n",
       "         savivaldybe  nuosavas_kapitalas_20  mok_sumos_ir_isipareigojimai_20  \\\n",
       "0   Kėdainių r. sav.             21069.0000                       56108.0000   \n",
       "1   Vilniaus m. sav.           3446280.0000                    33399866.0000   \n",
       "2  Panevėžio r. sav.            128619.0000                      404487.0000   \n",
       "3   Vilniaus m. sav.            218936.0000                      544480.0000   \n",
       "4   Vilniaus m. sav.             98829.0000                      236735.0000   \n",
       "5   Vilniaus m. sav.             59128.0000                      348610.0000   \n",
       "6   Vilniaus m. sav.            -63871.0000                      117496.0000   \n",
       "7  Marijampolės sav.           1244727.0000                      299629.0000   \n",
       "8      Kauno m. sav.            166115.0000                      136662.0000   \n",
       "9      Kauno m. sav.            -52328.0000                       99447.0000   \n",
       "\n",
       "   ilgalaikis_turtas_20  trumpalaikis_turtas_20  pardavimo_pajamos_20  \\\n",
       "0            63042.0000              13846.0000            88992.0000   \n",
       "1         37591281.0000             193014.0000          1611605.0000   \n",
       "2           124635.0000             409972.0000           585832.0000   \n",
       "3            82073.0000             720371.0000          2354716.0000   \n",
       "4           266798.0000              67609.0000           867874.0000   \n",
       "5            98802.0000             309821.0000           481103.0000   \n",
       "6              327.0000              56751.0000           620200.0000   \n",
       "7           504166.0000            1023356.0000          3949233.0000   \n",
       "8           163103.0000             138243.0000           613271.0000   \n",
       "9             3755.0000              42948.0000            14014.0000   \n",
       "\n",
       "   grynasis_pelnas_20  vid_atlyginimas_20  darbuotoju_skaicius_20  \\\n",
       "0          10500.0000            392.4600                       7   \n",
       "1       -3883947.0000           1359.2900                       4   \n",
       "2           5146.0000            619.0700                      11   \n",
       "3          27516.0000           1539.5700                       7   \n",
       "4         -12573.0000           1353.7800                      24   \n",
       "5           6132.0000            862.9000                       4   \n",
       "6         -24310.0000            718.2600                      14   \n",
       "7         338523.0000           1156.8600                      62   \n",
       "8          54537.0000           1266.1700                       9   \n",
       "9         -55985.0000            642.2800                       7   \n",
       "\n",
       "   nuosavas_kapitalas_21  mok_sumos_ir_isipareigojimai_21  \\\n",
       "0             22388.0000                       51680.0000   \n",
       "1           3823724.0000                    33130389.0000   \n",
       "2             10001.0000                      519902.0000   \n",
       "3            543010.0000                      347916.0000   \n",
       "4            103998.0000                      206580.0000   \n",
       "5            101402.0000                      225829.0000   \n",
       "6              9144.0000                       67452.0000   \n",
       "7           1359813.0000                      117127.0000   \n",
       "8            279164.0000                      229568.0000   \n",
       "9            -43092.0000                       94493.0000   \n",
       "\n",
       "   ilgalaikis_turtas_21  trumpalaikis_turtas_21  pardavimo_pajamos_21  \\\n",
       "0            59531.0000              14221.0000            48669.0000   \n",
       "1         37170443.0000             610823.0000          2916657.0000   \n",
       "2           125544.0000             405727.0000           368274.0000   \n",
       "3            15500.0000             921278.0000          3005146.0000   \n",
       "4           223964.0000              85282.0000           909893.0000   \n",
       "5            81273.0000             245445.0000           581604.0000   \n",
       "6              616.0000              71308.0000           290994.0000   \n",
       "7           471634.0000             988034.0000          2837038.0000   \n",
       "8           218520.0000             286010.0000           668176.0000   \n",
       "9             1348.0000              50053.0000            68008.0000   \n",
       "\n",
       "   grynasis_pelnas_21  vid_atlyginimas_21  darbuotoju_skaicius_21  \n",
       "0           1319.0000            430.3600                       5  \n",
       "1         377444.0000           1743.1200                       4  \n",
       "2        -119074.0000            666.9100                       9  \n",
       "3         324074.0000           2813.4400                       7  \n",
       "4          19696.0000           1462.8600                      26  \n",
       "5          41715.0000           1105.7500                       4  \n",
       "6           8815.0000            567.2900                      13  \n",
       "7         115086.0000           1252.0900                      56  \n",
       "8         112764.0000            957.9700                       9  \n",
       "9           9236.0000           1010.2400                       5  "
      ]
     },
     "execution_count": 660,
     "metadata": {},
     "output_type": "execute_result"
    },
    {
     "data": {
      "application/javascript": "\n            setTimeout(function() {\n                var nbb_cell_id = 660;\n                var nbb_unformatted_code = \"pd.read_csv('3_uzduotis_data_sample.csv')\";\n                var nbb_formatted_code = \"pd.read_csv(\\\"3_uzduotis_data_sample.csv\\\")\";\n                var nbb_cells = Jupyter.notebook.get_cells();\n                for (var i = 0; i < nbb_cells.length; ++i) {\n                    if (nbb_cells[i].input_prompt_number == nbb_cell_id) {\n                        if (nbb_cells[i].get_text() == nbb_unformatted_code) {\n                             nbb_cells[i].set_text(nbb_formatted_code);\n                        }\n                        break;\n                    }\n                }\n            }, 500);\n            ",
      "text/plain": [
       "<IPython.core.display.Javascript object>"
      ]
     },
     "metadata": {},
     "output_type": "display_data"
    }
   ],
   "source": [
    "pd.read_csv('3_uzduotis_data_sample.csv')"
   ]
  },
  {
   "cell_type": "code",
   "execution_count": 661,
   "id": "471fd9a1-e2a1-45e0-8c72-ec1872e9ccb9",
   "metadata": {},
   "outputs": [
    {
     "data": {
      "text/plain": [
       "Index(['obj_kodas', 'obj_pav', 'form_pav', 'veiklos_kodas',\n",
       "       'veiklos_aprasymas', 'savivaldybe', 'nuosavas_kapitalas_20',\n",
       "       'mok_sumos_ir_isipareigojimai_20', 'ilgalaikis_turtas_20',\n",
       "       'trumpalaikis_turtas_20', 'pardavimo_pajamos_20', 'grynasis_pelnas_20',\n",
       "       'vid_atlyginimas_20', 'darbuotoju_skaicius_20', 'nuosavas_kapitalas_21',\n",
       "       'mok_sumos_ir_isipareigojimai_21', 'ilgalaikis_turtas_21',\n",
       "       'trumpalaikis_turtas_21', 'pardavimo_pajamos_21', 'grynasis_pelnas_21',\n",
       "       'vid_atlyginimas_21', 'darbuotoju_skaicius_21'],\n",
       "      dtype='object')"
      ]
     },
     "execution_count": 661,
     "metadata": {},
     "output_type": "execute_result"
    },
    {
     "data": {
      "application/javascript": "\n            setTimeout(function() {\n                var nbb_cell_id = 661;\n                var nbb_unformatted_code = \"pd.read_csv('3_uzduotis_data_sample.csv').columns\";\n                var nbb_formatted_code = \"pd.read_csv(\\\"3_uzduotis_data_sample.csv\\\").columns\";\n                var nbb_cells = Jupyter.notebook.get_cells();\n                for (var i = 0; i < nbb_cells.length; ++i) {\n                    if (nbb_cells[i].input_prompt_number == nbb_cell_id) {\n                        if (nbb_cells[i].get_text() == nbb_unformatted_code) {\n                             nbb_cells[i].set_text(nbb_formatted_code);\n                        }\n                        break;\n                    }\n                }\n            }, 500);\n            ",
      "text/plain": [
       "<IPython.core.display.Javascript object>"
      ]
     },
     "metadata": {},
     "output_type": "display_data"
    }
   ],
   "source": [
    "pd.read_csv('3_uzduotis_data_sample.csv').columns"
   ]
  },
  {
   "cell_type": "code",
   "execution_count": null,
   "id": "382f217d-8d95-4976-a4ef-bc2614264719",
   "metadata": {},
   "outputs": [],
   "source": []
  },
  {
   "cell_type": "code",
   "execution_count": 668,
   "id": "ad2b7d75-9bee-439f-a3dd-72eaa13588b8",
   "metadata": {},
   "outputs": [
    {
     "data": {
      "application/javascript": "\n            setTimeout(function() {\n                var nbb_cell_id = 668;\n                var nbb_unformatted_code = \"columns_to_select_balansas =[ 'obj_kodas', 'obj_pav', 'form_pav',\\n        'nuosavas_kapitalas','mok_sumos_ir_isipareigojimai','ilgalaikis_turtas','trumpalaikis_turtas'\\n                            ]\\ncolumns_to_select_pelnas = ['obj_kodas', 'obj_pav','pardavimo_pajamos', 'grynasis_pelnas']\\n\\nselected_pelno_2020 = raw_pelno_ataskaita_2020[columns_to_select_pelnas]\\nselected_balanso_2020 = raw_balanso_ataskaita_2020[columns_to_select_balansas]\";\n                var nbb_formatted_code = \"columns_to_select_balansas = [\\n    \\\"obj_kodas\\\",\\n    \\\"obj_pav\\\",\\n    \\\"form_pav\\\",\\n    \\\"nuosavas_kapitalas\\\",\\n    \\\"mok_sumos_ir_isipareigojimai\\\",\\n    \\\"ilgalaikis_turtas\\\",\\n    \\\"trumpalaikis_turtas\\\",\\n]\\ncolumns_to_select_pelnas = [\\n    \\\"obj_kodas\\\",\\n    \\\"obj_pav\\\",\\n    \\\"pardavimo_pajamos\\\",\\n    \\\"grynasis_pelnas\\\",\\n]\\n\\nselected_pelno_2020 = raw_pelno_ataskaita_2020[columns_to_select_pelnas]\\nselected_balanso_2020 = raw_balanso_ataskaita_2020[columns_to_select_balansas]\";\n                var nbb_cells = Jupyter.notebook.get_cells();\n                for (var i = 0; i < nbb_cells.length; ++i) {\n                    if (nbb_cells[i].input_prompt_number == nbb_cell_id) {\n                        if (nbb_cells[i].get_text() == nbb_unformatted_code) {\n                             nbb_cells[i].set_text(nbb_formatted_code);\n                        }\n                        break;\n                    }\n                }\n            }, 500);\n            ",
      "text/plain": [
       "<IPython.core.display.Javascript object>"
      ]
     },
     "metadata": {},
     "output_type": "display_data"
    }
   ],
   "source": [
    "columns_to_select_balansas =[ 'obj_kodas', 'obj_pav', 'form_pav',\n",
    "        'nuosavas_kapitalas','mok_sumos_ir_isipareigojimai','ilgalaikis_turtas','trumpalaikis_turtas'\n",
    "                            ]\n",
    "columns_to_select_pelnas = ['obj_kodas', 'obj_pav','pardavimo_pajamos', 'grynasis_pelnas']\n",
    "\n",
    "selected_pelno_2020 = raw_pelno_ataskaita_2020[columns_to_select_pelnas]\n",
    "selected_balanso_2020 = raw_balanso_ataskaita_2020[columns_to_select_balansas]"
   ]
  },
  {
   "cell_type": "code",
   "execution_count": 680,
   "id": "0d6000e1-e3e4-4c3b-bf5b-086f18ecba03",
   "metadata": {},
   "outputs": [
    {
     "data": {
      "text/html": [
       "<div>\n",
       "<style scoped>\n",
       "    .dataframe tbody tr th:only-of-type {\n",
       "        vertical-align: middle;\n",
       "    }\n",
       "\n",
       "    .dataframe tbody tr th {\n",
       "        vertical-align: top;\n",
       "    }\n",
       "\n",
       "    .dataframe thead th {\n",
       "        text-align: right;\n",
       "    }\n",
       "</style>\n",
       "<table border=\"1\" class=\"dataframe\">\n",
       "  <thead>\n",
       "    <tr style=\"text-align: right;\">\n",
       "      <th></th>\n",
       "      <th>obj_kodas</th>\n",
       "      <th>obj_pav</th>\n",
       "      <th>pardavimo_pajamos</th>\n",
       "      <th>grynasis_pelnas</th>\n",
       "    </tr>\n",
       "  </thead>\n",
       "  <tbody>\n",
       "    <tr>\n",
       "      <th>0</th>\n",
       "      <td>304781777</td>\n",
       "      <td>UAB \"Ekorūmai\"</td>\n",
       "      <td>266206.0000</td>\n",
       "      <td>7654.0000</td>\n",
       "    </tr>\n",
       "    <tr>\n",
       "      <th>1</th>\n",
       "      <td>300512612</td>\n",
       "      <td>UAB \"Peikko Lietuva\"</td>\n",
       "      <td>34670479.0000</td>\n",
       "      <td>1016297.0000</td>\n",
       "    </tr>\n",
       "    <tr>\n",
       "      <th>2</th>\n",
       "      <td>303052877</td>\n",
       "      <td>UAB \"Esti projektai\"</td>\n",
       "      <td>NaN</td>\n",
       "      <td>-6518.0000</td>\n",
       "    </tr>\n",
       "    <tr>\n",
       "      <th>3</th>\n",
       "      <td>123403470</td>\n",
       "      <td>Uždaroji akcinė bendrovė \"POŽEMINĖS JUNGTYS\"</td>\n",
       "      <td>1994591.0000</td>\n",
       "      <td>358974.0000</td>\n",
       "    </tr>\n",
       "    <tr>\n",
       "      <th>4</th>\n",
       "      <td>124586163</td>\n",
       "      <td>Uždaroji akcinė bendrovė \"Mantigus\"</td>\n",
       "      <td>63052.0000</td>\n",
       "      <td>7875.0000</td>\n",
       "    </tr>\n",
       "    <tr>\n",
       "      <th>...</th>\n",
       "      <td>...</td>\n",
       "      <td>...</td>\n",
       "      <td>...</td>\n",
       "      <td>...</td>\n",
       "    </tr>\n",
       "    <tr>\n",
       "      <th>96611</th>\n",
       "      <td>167357423</td>\n",
       "      <td>UAB \"Metsuna\"</td>\n",
       "      <td>680784.0000</td>\n",
       "      <td>-38860.0000</td>\n",
       "    </tr>\n",
       "    <tr>\n",
       "      <th>96612</th>\n",
       "      <td>300642787</td>\n",
       "      <td>UAB \"EUROPEAN TRANSIT SERVICE\"</td>\n",
       "      <td>10448885.0000</td>\n",
       "      <td>105888.0000</td>\n",
       "    </tr>\n",
       "    <tr>\n",
       "      <th>96613</th>\n",
       "      <td>305282019</td>\n",
       "      <td>MB \"Plieno vizija\"</td>\n",
       "      <td>380.0000</td>\n",
       "      <td>-10770.0000</td>\n",
       "    </tr>\n",
       "    <tr>\n",
       "      <th>96614</th>\n",
       "      <td>304980291</td>\n",
       "      <td>MB \"Idėjos ir įvykiai\"</td>\n",
       "      <td>0.0000</td>\n",
       "      <td>-72.0000</td>\n",
       "    </tr>\n",
       "    <tr>\n",
       "      <th>96615</th>\n",
       "      <td>173110025</td>\n",
       "      <td>Uždaroji akcinė bendrovė \"Rokana\"</td>\n",
       "      <td>159390.0000</td>\n",
       "      <td>41088.0000</td>\n",
       "    </tr>\n",
       "  </tbody>\n",
       "</table>\n",
       "<p>96616 rows × 4 columns</p>\n",
       "</div>"
      ],
      "text/plain": [
       "       obj_kodas                                       obj_pav  \\\n",
       "0      304781777                                UAB \"Ekorūmai\"   \n",
       "1      300512612                          UAB \"Peikko Lietuva\"   \n",
       "2      303052877                          UAB \"Esti projektai\"   \n",
       "3      123403470  Uždaroji akcinė bendrovė \"POŽEMINĖS JUNGTYS\"   \n",
       "4      124586163           Uždaroji akcinė bendrovė \"Mantigus\"   \n",
       "...          ...                                           ...   \n",
       "96611  167357423                                 UAB \"Metsuna\"   \n",
       "96612  300642787                UAB \"EUROPEAN TRANSIT SERVICE\"   \n",
       "96613  305282019                            MB \"Plieno vizija\"   \n",
       "96614  304980291                        MB \"Idėjos ir įvykiai\"   \n",
       "96615  173110025             Uždaroji akcinė bendrovė \"Rokana\"   \n",
       "\n",
       "       pardavimo_pajamos  grynasis_pelnas  \n",
       "0            266206.0000        7654.0000  \n",
       "1          34670479.0000     1016297.0000  \n",
       "2                    NaN       -6518.0000  \n",
       "3           1994591.0000      358974.0000  \n",
       "4             63052.0000        7875.0000  \n",
       "...                  ...              ...  \n",
       "96611        680784.0000      -38860.0000  \n",
       "96612      10448885.0000      105888.0000  \n",
       "96613           380.0000      -10770.0000  \n",
       "96614             0.0000         -72.0000  \n",
       "96615        159390.0000       41088.0000  \n",
       "\n",
       "[96616 rows x 4 columns]"
      ]
     },
     "execution_count": 680,
     "metadata": {},
     "output_type": "execute_result"
    },
    {
     "data": {
      "application/javascript": "\n            setTimeout(function() {\n                var nbb_cell_id = 680;\n                var nbb_unformatted_code = \"selected_pelno_2020\";\n                var nbb_formatted_code = \"selected_pelno_2020\";\n                var nbb_cells = Jupyter.notebook.get_cells();\n                for (var i = 0; i < nbb_cells.length; ++i) {\n                    if (nbb_cells[i].input_prompt_number == nbb_cell_id) {\n                        if (nbb_cells[i].get_text() == nbb_unformatted_code) {\n                             nbb_cells[i].set_text(nbb_formatted_code);\n                        }\n                        break;\n                    }\n                }\n            }, 500);\n            ",
      "text/plain": [
       "<IPython.core.display.Javascript object>"
      ]
     },
     "metadata": {},
     "output_type": "display_data"
    }
   ],
   "source": [
    "selected_pelno_2020"
   ]
  },
  {
   "cell_type": "code",
   "execution_count": 675,
   "id": "032d5b3f-e2d6-4a2a-84f1-8105d680e21d",
   "metadata": {},
   "outputs": [
    {
     "name": "stderr",
     "output_type": "stream",
     "text": [
      "C:\\Users\\MantasP\\AppData\\Local\\Temp\\ipykernel_258348\\3607146914.py:1: SettingWithCopyWarning: \n",
      "A value is trying to be set on a copy of a slice from a DataFrame.\n",
      "Try using .loc[row_indexer,col_indexer] = value instead\n",
      "\n",
      "See the caveats in the documentation: https://pandas.pydata.org/pandas-docs/stable/user_guide/indexing.html#returning-a-view-versus-a-copy\n",
      "  selected_balanso_2020[['nuosavas_kapitalas','mok_sumos_ir_isipareigojimai','ilgalaikis_turtas','trumpalaikis_turtas']] = selected_balanso_2020[['nuosavas_kapitalas','mok_sumos_ir_isipareigojimai','ilgalaikis_turtas','trumpalaikis_turtas']].groupby(selected_balanso_2020['obj_kodas']).transform('mean')\n"
     ]
    },
    {
     "data": {
      "application/javascript": "\n            setTimeout(function() {\n                var nbb_cell_id = 675;\n                var nbb_unformatted_code = \"selected_balanso_2020[['nuosavas_kapitalas','mok_sumos_ir_isipareigojimai','ilgalaikis_turtas','trumpalaikis_turtas']] = selected_balanso_2020[['nuosavas_kapitalas','mok_sumos_ir_isipareigojimai','ilgalaikis_turtas','trumpalaikis_turtas']].groupby(selected_balanso_2020['obj_kodas']).transform('mean')\";\n                var nbb_formatted_code = \"selected_balanso_2020[\\n    [\\n        \\\"nuosavas_kapitalas\\\",\\n        \\\"mok_sumos_ir_isipareigojimai\\\",\\n        \\\"ilgalaikis_turtas\\\",\\n        \\\"trumpalaikis_turtas\\\",\\n    ]\\n] = (\\n    selected_balanso_2020[\\n        [\\n            \\\"nuosavas_kapitalas\\\",\\n            \\\"mok_sumos_ir_isipareigojimai\\\",\\n            \\\"ilgalaikis_turtas\\\",\\n            \\\"trumpalaikis_turtas\\\",\\n        ]\\n    ]\\n    .groupby(selected_balanso_2020[\\\"obj_kodas\\\"])\\n    .transform(\\\"mean\\\")\\n)\";\n                var nbb_cells = Jupyter.notebook.get_cells();\n                for (var i = 0; i < nbb_cells.length; ++i) {\n                    if (nbb_cells[i].input_prompt_number == nbb_cell_id) {\n                        if (nbb_cells[i].get_text() == nbb_unformatted_code) {\n                             nbb_cells[i].set_text(nbb_formatted_code);\n                        }\n                        break;\n                    }\n                }\n            }, 500);\n            ",
      "text/plain": [
       "<IPython.core.display.Javascript object>"
      ]
     },
     "metadata": {},
     "output_type": "display_data"
    }
   ],
   "source": [
    "selected_balanso_2020[['nuosavas_kapitalas','mok_sumos_ir_isipareigojimai','ilgalaikis_turtas','trumpalaikis_turtas']] = selected_balanso_2020[['nuosavas_kapitalas','mok_sumos_ir_isipareigojimai','ilgalaikis_turtas','trumpalaikis_turtas']].groupby(selected_balanso_2020['obj_kodas']).transform('mean')\n",
    "selected_pelno_2020[['pardavimo_pajamos', 'grynasis_pelnas']] = selected_pelno_2020[['pardavimo_pajamos', 'grynasis_pelnas']].groupby(selected_pelno_2020['obj_kodas']).transform('mean')"
   ]
  },
  {
   "cell_type": "code",
   "execution_count": 681,
   "id": "082dee17-8b79-4914-898f-fd7fe1e9a478",
   "metadata": {},
   "outputs": [
    {
     "data": {
      "application/javascript": "\n            setTimeout(function() {\n                var nbb_cell_id = 681;\n                var nbb_unformatted_code = \"final_balanso_2020 = selected_balanso_2020.drop_duplicates()\\nfinal_pelno_2020 = selected_pelno_2020.drop_duplicates()\";\n                var nbb_formatted_code = \"final_balanso_2020 = selected_balanso_2020.drop_duplicates()\\nfinal_pelno_2020 = selected_pelno_2020.drop_duplicates()\";\n                var nbb_cells = Jupyter.notebook.get_cells();\n                for (var i = 0; i < nbb_cells.length; ++i) {\n                    if (nbb_cells[i].input_prompt_number == nbb_cell_id) {\n                        if (nbb_cells[i].get_text() == nbb_unformatted_code) {\n                             nbb_cells[i].set_text(nbb_formatted_code);\n                        }\n                        break;\n                    }\n                }\n            }, 500);\n            ",
      "text/plain": [
       "<IPython.core.display.Javascript object>"
      ]
     },
     "metadata": {},
     "output_type": "display_data"
    }
   ],
   "source": [
    "final_balanso_2020 = selected_balanso_2020.drop_duplicates()\n",
    "final_pelno_2020 = selected_pelno_2020.drop_duplicates()"
   ]
  },
  {
   "cell_type": "code",
   "execution_count": 692,
   "id": "ea1bfad2-923d-4d50-9946-9572527e8a83",
   "metadata": {},
   "outputs": [
    {
     "data": {
      "application/javascript": "\n            setTimeout(function() {\n                var nbb_cell_id = 692;\n                var nbb_unformatted_code = \"temp_ = final_balanso_2020.merge(final_sodra_19, on='obj_kodas', how='inner').merge(selected_pelno_2020, on='obj_kodas', how='inner')\";\n                var nbb_formatted_code = \"temp_ = final_balanso_2020.merge(final_sodra_19, on=\\\"obj_kodas\\\", how=\\\"inner\\\").merge(\\n    selected_pelno_2020, on=\\\"obj_kodas\\\", how=\\\"inner\\\"\\n)\";\n                var nbb_cells = Jupyter.notebook.get_cells();\n                for (var i = 0; i < nbb_cells.length; ++i) {\n                    if (nbb_cells[i].input_prompt_number == nbb_cell_id) {\n                        if (nbb_cells[i].get_text() == nbb_unformatted_code) {\n                             nbb_cells[i].set_text(nbb_formatted_code);\n                        }\n                        break;\n                    }\n                }\n            }, 500);\n            ",
      "text/plain": [
       "<IPython.core.display.Javascript object>"
      ]
     },
     "metadata": {},
     "output_type": "display_data"
    }
   ],
   "source": [
    "temp_ = final_balanso_2020.merge(final_sodra_19, on='obj_kodas', how='inner').merge(selected_pelno_2020, on='obj_kodas', how='inner')"
   ]
  },
  {
   "cell_type": "code",
   "execution_count": 698,
   "id": "1fb26e7e-a378-4aba-8d03-18a65048801c",
   "metadata": {},
   "outputs": [
    {
     "name": "stderr",
     "output_type": "stream",
     "text": [
      "WARNING: Ignoring invalid distribution -atplotlib (c:\\users\\mantasp\\anaconda3\\envs\\jupyter_class\\lib\\site-packages)\n"
     ]
    },
    {
     "data": {
      "application/javascript": "\n            setTimeout(function() {\n                var nbb_cell_id = 698;\n                var nbb_unformatted_code = \"!pip freeze > requirements.yml\";\n                var nbb_formatted_code = \"!pip freeze > requirements.yml\";\n                var nbb_cells = Jupyter.notebook.get_cells();\n                for (var i = 0; i < nbb_cells.length; ++i) {\n                    if (nbb_cells[i].input_prompt_number == nbb_cell_id) {\n                        if (nbb_cells[i].get_text() == nbb_unformatted_code) {\n                             nbb_cells[i].set_text(nbb_formatted_code);\n                        }\n                        break;\n                    }\n                }\n            }, 500);\n            ",
      "text/plain": [
       "<IPython.core.display.Javascript object>"
      ]
     },
     "metadata": {},
     "output_type": "display_data"
    }
   ],
   "source": [
    "!pip freeze > requirements.yml"
   ]
  },
  {
   "cell_type": "code",
   "execution_count": null,
   "id": "cb8eb945-1ab1-48e6-b6c5-d7d4cc31a397",
   "metadata": {},
   "outputs": [],
   "source": []
  },
  {
   "cell_type": "code",
   "execution_count": null,
   "id": "9e36411b-6d51-4c78-92f0-09264ad2a016",
   "metadata": {},
   "outputs": [],
   "source": []
  },
  {
   "cell_type": "code",
   "execution_count": null,
   "id": "7c5d26b4-5f87-490e-b86d-84e097a02ac9",
   "metadata": {},
   "outputs": [],
   "source": []
  },
  {
   "cell_type": "code",
   "execution_count": null,
   "id": "e5f448d3-4b56-4de4-a445-161c151982d9",
   "metadata": {},
   "outputs": [],
   "source": []
  }
 ],
 "metadata": {
  "kernelspec": {
   "display_name": "Python 3 (ipykernel)",
   "language": "python",
   "name": "python3"
  },
  "language_info": {
   "codemirror_mode": {
    "name": "ipython",
    "version": 3
   },
   "file_extension": ".py",
   "mimetype": "text/x-python",
   "name": "python",
   "nbconvert_exporter": "python",
   "pygments_lexer": "ipython3",
   "version": "3.9.13"
  }
 },
 "nbformat": 4,
 "nbformat_minor": 5
}
