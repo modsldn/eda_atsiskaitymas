{
 "cells": [
  {
   "cell_type": "markdown",
   "id": "c5dc6005",
   "metadata": {},
   "source": [
    "<p style=\"font-size:24px;\">Pirma dalis </p>"
   ]
  },
  {
   "cell_type": "markdown",
   "id": "007e994f",
   "metadata": {},
   "source": [
    "### "
   ]
  },
  {
   "cell_type": "code",
   "execution_count": null,
   "id": "912fb818",
   "metadata": {},
   "outputs": [],
   "source": [
    "import ssl\n",
    "\n",
    "ssl._create_default_https_context = ssl._create_unverified_context"
   ]
  },
  {
   "cell_type": "code",
   "execution_count": null,
   "id": "5edacc18",
   "metadata": {
    "ExecuteTime": {
     "end_time": "2022-12-08T15:57:02.728177Z",
     "start_time": "2022-12-08T15:56:57.783229Z"
    }
   },
   "outputs": [],
   "source": [
    "pip install -r requirements.txt"
   ]
  },
  {
   "attachments": {},
   "cell_type": "markdown",
   "id": "bc4ce1ee",
   "metadata": {},
   "source": [
    "<font color='red'> Erikas Švažas: \n",
    "\n",
    "1. Norint išlaikyti formatavimą pagal PEP8 standartą labai padėtų papildomi extensions - pavyzdžiui nb_black\n",
    "```\n",
    "%load_ext nb_black\n",
    "```\n",
    "\n",
    "2. Pip puikiai tinka panašaus dydžio prejektui, bet kai bus daugiau dependencies conda gali turėti [privalumų](https://www.reddit.com/r/Python/comments/w564g0/comment/ih7jo6v/?utm_source=share&utm_medium=web2x&context=3) (nors ir viskas vyks super lėtai)\n",
    "\n",
    "</font>"
   ]
  },
  {
   "cell_type": "code",
   "execution_count": null,
   "id": "513b451c",
   "metadata": {
    "ExecuteTime": {
     "end_time": "2022-12-08T15:57:20.514236Z",
     "start_time": "2022-12-08T15:57:20.487287Z"
    }
   },
   "outputs": [],
   "source": [
    "from IPython.display import display, HTML\n",
    "display(HTML(\"<style>.container { width:70% !important; }</style>\"))"
   ]
  },
  {
   "cell_type": "code",
   "execution_count": null,
   "id": "f53923df",
   "metadata": {
    "ExecuteTime": {
     "end_time": "2022-12-08T15:57:30.311445Z",
     "start_time": "2022-12-08T15:57:21.363394Z"
    }
   },
   "outputs": [],
   "source": [
    "import numpy as np\n",
    "import pandas as pd\n",
    "import seaborn as sns\n"
   ]
  },
  {
   "cell_type": "markdown",
   "id": "b5d09a8e",
   "metadata": {},
   "source": [
    "### "
   ]
  },
  {
   "cell_type": "code",
   "execution_count": null,
   "id": "ae746d37",
   "metadata": {
    "ExecuteTime": {
     "end_time": "2022-12-08T15:57:38.470238Z",
     "start_time": "2022-12-08T15:57:30.339337Z"
    }
   },
   "outputs": [],
   "source": [
    "balanso_df_2020=pd.read_csv('https://www.registrucentras.lt/aduomenys/?byla=JAR_FA_RODIKLIAI_BLNS_2020.csv')"
   ]
  },
  {
   "cell_type": "code",
   "execution_count": null,
   "id": "862dc70e",
   "metadata": {
    "ExecuteTime": {
     "end_time": "2022-12-08T15:57:51.538572Z",
     "start_time": "2022-12-08T15:57:38.525962Z"
    }
   },
   "outputs": [],
   "source": [
    "nuostoliu_df_2020=pd.read_csv('https://www.registrucentras.lt/aduomenys/?byla=JAR_FA_RODIKLIAI_PLNA_2020.csv')"
   ]
  },
  {
   "cell_type": "code",
   "execution_count": null,
   "id": "4979f2ab",
   "metadata": {
    "ExecuteTime": {
     "end_time": "2022-12-08T16:00:01.879823Z",
     "start_time": "2022-12-08T15:59:54.021791Z"
    }
   },
   "outputs": [],
   "source": [
    "balanso_df_2021=pd.read_csv('https://www.registrucentras.lt/aduomenys/?byla=JAR_FA_RODIKLIAI_BLNS_2021.csv')"
   ]
  },
  {
   "cell_type": "code",
   "execution_count": null,
   "id": "de031423",
   "metadata": {
    "ExecuteTime": {
     "end_time": "2022-12-08T16:00:14.054558Z",
     "start_time": "2022-12-08T16:00:04.637919Z"
    }
   },
   "outputs": [],
   "source": [
    "nuostoliu_df_2021=pd.read_csv('https://www.registrucentras.lt/aduomenys/?byla=JAR_FA_RODIKLIAI_PLNA_2021.csv')"
   ]
  },
  {
   "cell_type": "markdown",
   "id": "eb1d6523",
   "metadata": {},
   "source": [
    "<p style=\"color:orange;padding-left:20px;\"># atskirti importavimai, nes dėl duomenų dydžio meta error</p>"
   ]
  },
  {
   "cell_type": "markdown",
   "id": "d5b53ab1",
   "metadata": {},
   "source": [
    "### "
   ]
  },
  {
   "cell_type": "markdown",
   "id": "47a30320",
   "metadata": {
    "ExecuteTime": {
     "end_time": "2022-12-05T16:37:01.767994Z",
     "start_time": "2022-12-05T16:37:01.756198Z"
    }
   },
   "source": [
    "a."
   ]
  },
  {
   "cell_type": "code",
   "execution_count": null,
   "id": "9c073d6a",
   "metadata": {
    "ExecuteTime": {
     "end_time": "2022-12-08T16:01:01.904848Z",
     "start_time": "2022-12-08T16:01:01.809811Z"
    }
   },
   "outputs": [],
   "source": [
    "df_all_balanso = pd.concat([balanso_df_2020, balanso_df_2021]) "
   ]
  },
  {
   "cell_type": "code",
   "execution_count": null,
   "id": "bfff5616",
   "metadata": {
    "ExecuteTime": {
     "end_time": "2022-12-08T16:01:02.621786Z",
     "start_time": "2022-12-08T16:01:02.505443Z"
    }
   },
   "outputs": [],
   "source": [
    "df_all_nuotoliu = pd.concat([nuostoliu_df_2020, nuostoliu_df_2021])"
   ]
  },
  {
   "cell_type": "code",
   "execution_count": null,
   "id": "ac979d25",
   "metadata": {
    "ExecuteTime": {
     "end_time": "2022-12-08T17:31:15.228561Z",
     "start_time": "2022-12-08T17:31:15.141695Z"
    },
    "scrolled": false
   },
   "outputs": [],
   "source": [
    "df_all_balanso.sample(2)"
   ]
  },
  {
   "cell_type": "code",
   "execution_count": null,
   "id": "eecab6cc",
   "metadata": {
    "ExecuteTime": {
     "end_time": "2022-12-08T16:01:39.719170Z",
     "start_time": "2022-12-08T16:01:39.606279Z"
    },
    "scrolled": true
   },
   "outputs": [],
   "source": [
    "df_all_nuotoliu.sample(2)"
   ]
  },
  {
   "cell_type": "markdown",
   "id": "7385b5b1",
   "metadata": {},
   "source": [
    "Balanso ataskaitų duomenys sudaryti iš <font color='red'>juridinio asmens, formos, statuso, ataskaitos rūšies, FA dokumentų rinkinio kodų bei pavadinimų, finansinių metų datos pradžios ir pabaigos, FA dokumento registravimo datos, FA ataskaitos, rodiklio reikšmės eurais, ir FA rodiklio ilgalaikio ir trumpalaikio turto reikšmių.</font>"
   ]
  },
  {
   "cell_type": "markdown",
   "id": "72631b9b",
   "metadata": {
    "ExecuteTime": {
     "end_time": "2022-12-05T19:35:49.477895Z",
     "start_time": "2022-12-05T19:35:49.423099Z"
    }
   },
   "source": [
    "Nuostolių ataskaitų duomenys sudaryti iš <font color='red'>juridinio asmens, formos, statuso, ataskaitos rūšies, FA dokumentų rinkinio kodų bei pavadinimų, finansinių metų datos pradžios ir pabaigos, FA dokumento registravimo datos, FA rodiklio prieš apmokestinimą reikšmės eurais, ir FA rodiklio grynojo pelno ir pardavimų pajamų turto reikšmių.</font>"
   ]
  },
  {
   "attachments": {},
   "cell_type": "markdown",
   "id": "ae155ed3",
   "metadata": {},
   "source": [
    "<font color='red'> Erikas Švažas: \n",
    "Puiki README formatavimo praktiką naudoti HTML žinias! \n",
    "Kad geriau suprasti skirtingus duomenų laukus, galime vadovautis Registrų centro pateiktomis *\"Duomenų rinkinio struktūros\"*. Importavimas nėra parodytas, bet vertės gautos, todėl maksimalus taškų skaičius.\n",
    "</font>"
   ]
  },
  {
   "cell_type": "markdown",
   "id": "f7ac130b",
   "metadata": {},
   "source": [
    "b."
   ]
  },
  {
   "cell_type": "code",
   "execution_count": null,
   "id": "9e247fb5",
   "metadata": {
    "ExecuteTime": {
     "end_time": "2022-12-08T16:01:42.379382Z",
     "start_time": "2022-12-08T16:01:41.822084Z"
    },
    "scrolled": true
   },
   "outputs": [],
   "source": [
    "df_all_balanso.info()"
   ]
  },
  {
   "cell_type": "code",
   "execution_count": null,
   "id": "b2199bea",
   "metadata": {
    "ExecuteTime": {
     "end_time": "2022-12-08T16:01:43.720476Z",
     "start_time": "2022-12-08T16:01:43.245583Z"
    }
   },
   "outputs": [],
   "source": [
    "df_all_nuotoliu.info()"
   ]
  },
  {
   "cell_type": "markdown",
   "id": "6265a8a3",
   "metadata": {
    "ExecuteTime": {
     "end_time": "2022-12-05T16:58:58.755010Z",
     "start_time": "2022-12-05T16:58:58.738656Z"
    }
   },
   "source": [
    "Balanso lentelėje yra <font color='red'>17 reiškmių</font>\n",
    "Nuostalių lentelėje yra <font color='red'>16 reiškmių</font>"
   ]
  },
  {
   "cell_type": "markdown",
   "id": "4055a212",
   "metadata": {},
   "source": [
    "<font color='red'> Erikas Švažas: \n",
    "\n",
    "Šiuo atveju labiau tiktų .shape() fcija - požymių ir reikšmių skaičius vienoje vietoje.\n",
    "</font> "
   ]
  },
  {
   "cell_type": "markdown",
   "id": "6c2b7923",
   "metadata": {},
   "source": [
    "c."
   ]
  },
  {
   "cell_type": "markdown",
   "id": "b575ad4e",
   "metadata": {
    "ExecuteTime": {
     "end_time": "2022-12-05T16:54:24.502820Z",
     "start_time": "2022-12-05T16:54:24.471150Z"
    }
   },
   "source": [
    "Balanso duomenyse iš viso yra <font color='red'>9 sveikųjų skaičių (integer) reikšmės, 5 objektinės (object, nots registros pateiktame dokumente rašo, kad string) reikšmės ir 3 slankiojantys skaičiai/datos(float)</font>"
   ]
  },
  {
   "cell_type": "markdown",
   "id": "409bf3cb",
   "metadata": {
    "ExecuteTime": {
     "end_time": "2022-12-05T19:39:21.155264Z",
     "start_time": "2022-12-05T19:39:21.126692Z"
    }
   },
   "source": [
    "Nuostolio duomenyse iš viso yra <font color='red'>8 sveikųjų skaičių (integer) reikšmės, 5 objektinės (object, nots registros pateiktame dokumente rašo, kad string) reikšmės ir 3 slankiojantys skaičiai/datos(float)</font>"
   ]
  },
  {
   "cell_type": "markdown",
   "id": "d0c502de",
   "metadata": {
    "ExecuteTime": {
     "end_time": "2022-12-05T16:59:17.092957Z",
     "start_time": "2022-12-05T16:59:17.073165Z"
    }
   },
   "source": [
    "d."
   ]
  },
  {
   "attachments": {},
   "cell_type": "markdown",
   "id": "546714b3",
   "metadata": {},
   "source": [
    "Objektinis duomenų tipas nebūtinai bus vien tik žodinis, jis gali įtraukti ir sveikus skaičius (integer) ir slankiojančius skaičius (float), tuo tarpu žodinis duomenų tipas bus traktuojamas kaip žodžiai, sakiniai.\n",
    "\n",
    "\n",
    "<font color='red'> Erikas Švažas: \n",
    "\n",
    "Taip, teisingai. Dar pridėčiau, kad *everything is an object in Python* ir jei *Pandas* negali atpažinti duomenų tipo (ar tai integer ar string), by default bus *object*. Kiekvineas objektas turės skirtingas funkcijas ir savybes - pavyzdžiui norint naudoti string tipui būdingas fcijas .str.contains() reikės pradžioje atlikti konvertavimą į šį duomenų tipą.\n",
    "</font> "
   ]
  },
  {
   "cell_type": "markdown",
   "id": "6e2fb56a",
   "metadata": {},
   "source": [
    "e."
   ]
  },
  {
   "cell_type": "code",
   "execution_count": null,
   "id": "2df7d8fb",
   "metadata": {
    "ExecuteTime": {
     "end_time": "2022-12-08T16:01:48.959572Z",
     "start_time": "2022-12-08T16:01:47.901741Z"
    }
   },
   "outputs": [],
   "source": [
    "print(f'2020 duomenų nežinomieji: {df_all_balanso.isna().sum().sum()}')\n",
    "print(f'2021 duomenų nežinomieji: {df_all_nuotoliu.isna().sum().sum()}')"
   ]
  },
  {
   "cell_type": "markdown",
   "id": "9cef1c07",
   "metadata": {
    "ExecuteTime": {
     "end_time": "2022-12-05T17:16:40.853826Z",
     "start_time": "2022-12-05T17:16:40.825182Z"
    }
   },
   "source": [
    "Daugiausiai nežinomų verčių turi <font color='red'>2021</font> metų duomenys"
   ]
  },
  {
   "cell_type": "code",
   "execution_count": null,
   "id": "0ad3e7d8",
   "metadata": {
    "ExecuteTime": {
     "end_time": "2022-12-08T16:01:51.609520Z",
     "start_time": "2022-12-08T16:01:51.101392Z"
    }
   },
   "outputs": [],
   "source": [
    "df_all_balanso.isna().sum()"
   ]
  },
  {
   "cell_type": "markdown",
   "id": "a9762e03",
   "metadata": {},
   "source": [
    "Daugiausiai nežinomųjų randama juridinių asmenų mokestiniuose, turto ir kapitalo duomenyjse"
   ]
  },
  {
   "cell_type": "code",
   "execution_count": null,
   "id": "c3688624",
   "metadata": {
    "ExecuteTime": {
     "end_time": "2022-12-08T16:01:53.180704Z",
     "start_time": "2022-12-08T16:01:52.691365Z"
    },
    "scrolled": true
   },
   "outputs": [],
   "source": [
    "df_all_nuotoliu.isna().sum()"
   ]
  },
  {
   "cell_type": "markdown",
   "id": "de2b5f03",
   "metadata": {
    "ExecuteTime": {
     "end_time": "2022-12-05T19:42:07.242353Z",
     "start_time": "2022-12-05T19:42:07.216954Z"
    }
   },
   "source": [
    "Daugiausiai nežinomųjų randama rodikliuose prieš pelno apmokęstinimą, grynojo pelno ir pardavimų pajamose"
   ]
  },
  {
   "cell_type": "markdown",
   "id": "ccda843c",
   "metadata": {},
   "source": [
    "f."
   ]
  },
  {
   "cell_type": "code",
   "execution_count": null,
   "id": "7f1b294f",
   "metadata": {
    "ExecuteTime": {
     "end_time": "2022-12-08T16:01:56.249478Z",
     "start_time": "2022-12-08T16:01:54.512643Z"
    }
   },
   "outputs": [],
   "source": [
    "print(f'2020 pasikartojantys duomenys: {df_all_balanso.duplicated().sum()}')\n",
    "print(f'2021 pasikartojantys duomenys: {df_all_nuotoliu.duplicated().sum()}')"
   ]
  },
  {
   "cell_type": "markdown",
   "id": "72ef5790",
   "metadata": {},
   "source": [
    "Nei viena lentelė neturi pasikartojančių eilutčių"
   ]
  },
  {
   "cell_type": "markdown",
   "id": "14f39288",
   "metadata": {
    "ExecuteTime": {
     "end_time": "2022-12-07T15:44:47.987474Z",
     "start_time": "2022-12-07T15:44:47.943155Z"
    }
   },
   "source": [
    "i. obj_kodas"
   ]
  },
  {
   "attachments": {},
   "cell_type": "markdown",
   "id": "2f435b97",
   "metadata": {},
   "source": [
    "\n",
    "<font color='red'> Erikas Švažas: \n",
    "Papildomai reikia įtraukti *laikotarpis_nuo*, nes *obj_kodas* pasikartoja [-0.15taško]\n",
    "</font> "
   ]
  },
  {
   "cell_type": "markdown",
   "id": "102f843a",
   "metadata": {},
   "source": [
    "&nbsp;"
   ]
  },
  {
   "cell_type": "markdown",
   "id": "4a80867a",
   "metadata": {},
   "source": [
    "&nbsp;"
   ]
  },
  {
   "cell_type": "markdown",
   "id": "96d9ed5c",
   "metadata": {
    "ExecuteTime": {
     "end_time": "2022-12-05T17:26:03.083698Z",
     "start_time": "2022-12-05T17:26:03.054937Z"
    }
   },
   "source": [
    "&nbsp;"
   ]
  },
  {
   "cell_type": "markdown",
   "id": "d3cbc586",
   "metadata": {},
   "source": [
    "&nbsp;"
   ]
  },
  {
   "cell_type": "markdown",
   "id": "9611eb9b",
   "metadata": {
    "ExecuteTime": {
     "end_time": "2022-12-05T17:24:51.883043Z",
     "start_time": "2022-12-05T17:24:51.869026Z"
    }
   },
   "source": [
    "<p style=\"font-size:24px;\"> Antra dalis </p>"
   ]
  },
  {
   "cell_type": "markdown",
   "id": "8480ad7e",
   "metadata": {},
   "source": [
    "### "
   ]
  },
  {
   "cell_type": "code",
   "execution_count": null,
   "id": "d0272dce",
   "metadata": {
    "ExecuteTime": {
     "end_time": "2022-12-08T16:02:02.130523Z",
     "start_time": "2022-12-08T16:02:01.990985Z"
    },
    "scrolled": true
   },
   "outputs": [],
   "source": [
    "df_all_balanso['obj_pav'].loc[df_all_balanso['obj_pav'].str.contains('Thermo Fisher', regex=False)].unique()"
   ]
  },
  {
   "cell_type": "code",
   "execution_count": null,
   "id": "af662949",
   "metadata": {
    "ExecuteTime": {
     "end_time": "2022-12-08T16:02:03.149241Z",
     "start_time": "2022-12-08T16:02:03.005580Z"
    }
   },
   "outputs": [],
   "source": [
    "df_all_balanso.loc[df_all_balanso['obj_pav'].str.contains('MEDIASKOPA', regex=False)]"
   ]
  },
  {
   "cell_type": "markdown",
   "id": "a2e1b9a0",
   "metadata": {
    "ExecuteTime": {
     "end_time": "2022-12-05T17:37:33.304586Z",
     "start_time": "2022-12-05T17:37:33.287822Z"
    }
   },
   "source": [
    "4 įmonės susįjusios su Thermo Fisher"
   ]
  },
  {
   "cell_type": "markdown",
   "id": "8d5bb8d8",
   "metadata": {},
   "source": [
    "### "
   ]
  },
  {
   "cell_type": "code",
   "execution_count": null,
   "id": "f65c21c4",
   "metadata": {
    "ExecuteTime": {
     "end_time": "2022-12-08T16:02:06.168408Z",
     "start_time": "2022-12-08T16:02:05.455294Z"
    }
   },
   "outputs": [],
   "source": [
    "uab_strings_search = ['UAB', 'Uždaroji akcinė bendrovė']\n",
    "mb_strings_search = ['MB', 'Mažoji bendrija']\n",
    "uab_count = len(df_all_balanso['obj_pav'].loc[df_all_balanso['obj_pav'].str.contains('|'.join(uab_strings_search))].unique())\n",
    "mb_count = len(df_all_balanso['obj_pav'][df_all_balanso['obj_pav'].str.contains('|'.join(mb_strings_search))].unique())\n",
    "uab_count_form = len(df_all_balanso[df_all_balanso['form_pav'] == 'Uždaroji akcinė bendrovė']['obj_pav'].unique())\n",
    "mb_count_form = len(df_all_balanso[df_all_balanso['form_pav'] == 'Mažoji bendrija']['obj_pav'].unique())"
   ]
  },
  {
   "cell_type": "code",
   "execution_count": null,
   "id": "26e3274e",
   "metadata": {
    "ExecuteTime": {
     "end_time": "2022-12-08T16:02:06.849161Z",
     "start_time": "2022-12-08T16:02:06.831545Z"
    }
   },
   "outputs": [],
   "source": [
    "uab_reconstruction = round((uab_count * 100) / uab_count_form, 1)\n",
    "print(f'Gauto UAB bendrovių rezultato tikslumas: {uab_reconstruction}%')"
   ]
  },
  {
   "cell_type": "code",
   "execution_count": null,
   "id": "9bfeabed",
   "metadata": {
    "ExecuteTime": {
     "end_time": "2022-12-08T16:02:07.619295Z",
     "start_time": "2022-12-08T16:02:07.606275Z"
    }
   },
   "outputs": [],
   "source": [
    "mb_reconstruction = round((mb_count * 100) / mb_count_form,1)\n",
    "print(f'Gauto UAB bendrovių rezultato tikslumas: {mb_reconstruction}%')"
   ]
  },
  {
   "cell_type": "markdown",
   "id": "1c29a3bb",
   "metadata": {
    "ExecuteTime": {
     "end_time": "2022-12-05T18:16:14.149850Z",
     "start_time": "2022-12-05T18:16:14.133104Z"
    }
   },
   "source": [
    "### "
   ]
  },
  {
   "cell_type": "code",
   "execution_count": null,
   "id": "8cba3d4b",
   "metadata": {
    "ExecuteTime": {
     "end_time": "2022-12-08T16:02:15.499903Z",
     "start_time": "2022-12-08T16:02:15.421286Z"
    }
   },
   "outputs": [],
   "source": [
    "mean_of_capital = df_all_balanso.groupby(['form_pav'])['nuosavas_kapitalas'].mean()"
   ]
  },
  {
   "cell_type": "code",
   "execution_count": null,
   "id": "93e21888",
   "metadata": {
    "ExecuteTime": {
     "end_time": "2022-12-08T16:02:17.317431Z",
     "start_time": "2022-12-08T16:02:17.291692Z"
    }
   },
   "outputs": [],
   "source": [
    "mean_of_capital"
   ]
  },
  {
   "cell_type": "code",
   "execution_count": null,
   "id": "443844bf",
   "metadata": {
    "ExecuteTime": {
     "end_time": "2022-12-08T16:02:18.225472Z",
     "start_time": "2022-12-08T16:02:18.161656Z"
    }
   },
   "outputs": [],
   "source": [
    "mean_of_loss = df_all_nuotoliu.groupby(['form_pav'])['pelnas_pries_apmokestinima'].mean()"
   ]
  },
  {
   "cell_type": "code",
   "execution_count": null,
   "id": "a584fa1c",
   "metadata": {
    "ExecuteTime": {
     "end_time": "2022-12-08T16:02:18.969571Z",
     "start_time": "2022-12-08T16:02:18.951739Z"
    },
    "scrolled": true
   },
   "outputs": [],
   "source": [
    "mean_of_loss"
   ]
  },
  {
   "cell_type": "markdown",
   "id": "cbf14b78",
   "metadata": {
    "ExecuteTime": {
     "end_time": "2022-12-06T16:13:26.631538Z",
     "start_time": "2022-12-06T16:13:26.609110Z"
    }
   },
   "source": [
    "### "
   ]
  },
  {
   "cell_type": "code",
   "execution_count": null,
   "id": "251be84b",
   "metadata": {
    "ExecuteTime": {
     "end_time": "2022-12-08T16:02:22.140727Z",
     "start_time": "2022-12-08T16:02:22.067883Z"
    }
   },
   "outputs": [],
   "source": [
    "median_of_capital = df_all_balanso.groupby(['form_pav'])['nuosavas_kapitalas'].median()"
   ]
  },
  {
   "cell_type": "code",
   "execution_count": null,
   "id": "ab4d9115",
   "metadata": {
    "ExecuteTime": {
     "end_time": "2022-12-08T16:02:23.338731Z",
     "start_time": "2022-12-08T16:02:23.038915Z"
    }
   },
   "outputs": [],
   "source": [
    "bigger_capital = df_all_balanso.loc[(df_all_balanso['form_pav'].str.contains('Uždaroji akcinė bendrovė|Mažoji bendrija', regex=True )) & (df_all_balanso['nuosavas_kapitalas']>median_of_capital['Uždaroji akcinė bendrovė'])]"
   ]
  },
  {
   "cell_type": "code",
   "execution_count": null,
   "id": "638a4ff4",
   "metadata": {
    "ExecuteTime": {
     "end_time": "2022-12-08T16:02:23.777331Z",
     "start_time": "2022-12-08T16:02:23.705746Z"
    }
   },
   "outputs": [],
   "source": [
    "bigger_capital.drop_duplicates(subset='obj_kodas')"
   ]
  },
  {
   "cell_type": "code",
   "execution_count": null,
   "id": "3aaa293e",
   "metadata": {
    "ExecuteTime": {
     "end_time": "2022-12-08T16:02:26.210390Z",
     "start_time": "2022-12-08T16:02:26.180496Z"
    }
   },
   "outputs": [],
   "source": [
    "print(f'Viso įmonių, kurių kapitalas didesnis už medianą:  {len(bigger_capital.drop_duplicates(subset=\"obj_kodas\"))}')"
   ]
  },
  {
   "cell_type": "markdown",
   "id": "5351768e",
   "metadata": {},
   "source": [
    "### "
   ]
  },
  {
   "cell_type": "code",
   "execution_count": null,
   "id": "0f9d6ae6",
   "metadata": {
    "ExecuteTime": {
     "end_time": "2022-12-08T16:02:27.339001Z",
     "start_time": "2022-12-08T16:02:27.281357Z"
    },
    "scrolled": true
   },
   "outputs": [],
   "source": [
    "balanso_df_2021.loc[(balanso_df_2021['nuosavas_kapitalas']>balanso_df_2021['nuosavas_kapitalas'].quantile(0.99))].sort_values(by='nuosavas_kapitalas', ascending=False).head(10)"
   ]
  },
  {
   "cell_type": "markdown",
   "id": "2d0e8a29",
   "metadata": {
    "ExecuteTime": {
     "end_time": "2022-12-06T17:14:10.669645Z",
     "start_time": "2022-12-06T17:14:10.616220Z"
    }
   },
   "source": [
    "Kadangi žinau kas vyksta spaudoje, tai įtarimų nei viena įmonė nekelia, galbūt tik keista, kad Vinted nėra"
   ]
  },
  {
   "cell_type": "markdown",
   "id": "0ebad598",
   "metadata": {},
   "source": [
    "### "
   ]
  },
  {
   "cell_type": "code",
   "execution_count": null,
   "id": "d0ab8c40",
   "metadata": {
    "ExecuteTime": {
     "end_time": "2022-12-08T16:02:30.320776Z",
     "start_time": "2022-12-08T16:02:30.301898Z"
    }
   },
   "outputs": [],
   "source": [
    "import matplotlib.pyplot as plt"
   ]
  },
  {
   "cell_type": "code",
   "execution_count": null,
   "id": "9d74cc67",
   "metadata": {
    "ExecuteTime": {
     "end_time": "2022-12-08T16:02:31.259070Z",
     "start_time": "2022-12-08T16:02:30.931301Z"
    }
   },
   "outputs": [],
   "source": [
    "\n",
    "\n",
    "count_forms = df_all_balanso.groupby(['form_pav',pd.DatetimeIndex(df_all_balanso['reg_date']).year]).size().reset_index(name='Vienetų skaičius')\n"
   ]
  },
  {
   "cell_type": "markdown",
   "id": "07e112d5",
   "metadata": {},
   "source": [
    "a."
   ]
  },
  {
   "cell_type": "code",
   "execution_count": null,
   "id": "f5cad3b7",
   "metadata": {
    "ExecuteTime": {
     "end_time": "2022-12-08T16:02:54.599407Z",
     "start_time": "2022-12-08T16:02:52.778921Z"
    }
   },
   "outputs": [],
   "source": [
    "x = np.arange(len(count_forms['form_pav'])) \n",
    "\n",
    "fig, ax = plt.subplots()\n",
    "rects1 = ax.bar(x , count_forms['Vienetų skaičius'], label=':(')\n",
    "\n",
    "\n",
    "ax.set_ylabel('Vienetų skaičius')\n",
    "ax.set_title('Juridinių asmenų skaičius 2020 ir 2021 metais')\n",
    "ax.set_xticks(x)\n",
    "plt.yscale(\"log\")\n",
    "ax.set_xticklabels(count_forms['form_pav'])\n",
    "plt.xticks(rotation=90)\n",
    "ax.legend()"
   ]
  },
  {
   "cell_type": "markdown",
   "id": "8ecdd03a",
   "metadata": {
    "ExecuteTime": {
     "end_time": "2022-12-06T18:49:47.303138Z",
     "start_time": "2022-12-06T18:49:47.273340Z"
    }
   },
   "source": [
    "b."
   ]
  },
  {
   "cell_type": "code",
   "execution_count": null,
   "id": "fbece814",
   "metadata": {
    "ExecuteTime": {
     "end_time": "2022-12-08T16:03:36.553947Z",
     "start_time": "2022-12-08T16:03:35.886387Z"
    }
   },
   "outputs": [],
   "source": [
    "graph_pandas = count_forms.plot(x='form_pav', y='Vienetų skaičius', kind=\"bar\", title =\"Juridinių asmenų skaičius 2020 ir 2021 metais\")\n",
    "graph_pandas.set_ylabel(\"Vienetų skaičius\", fontsize=12)\n",
    "graph_pandas.set_yscale(\"log\")\n",
    "#sorry, bet per daug laiko užtrukau prie uždavinio seaborn, kad spėčiau ir pandas :/"
   ]
  },
  {
   "cell_type": "markdown",
   "id": "523efbbd",
   "metadata": {},
   "source": [
    "c."
   ]
  },
  {
   "cell_type": "code",
   "execution_count": null,
   "id": "fb3e0c3e",
   "metadata": {
    "ExecuteTime": {
     "end_time": "2022-12-08T16:03:43.085828Z",
     "start_time": "2022-12-08T16:03:42.601975Z"
    }
   },
   "outputs": [],
   "source": [
    "\n",
    "graph_sns = sns.barplot(data=count_forms, x='form_pav', y='Vienetų skaičius',hue='reg_date')\n",
    "plt.xticks(rotation = 90)\n",
    "graph_sns.set_ylim([10**0, 10**5])\n",
    "graph_sns.set_yscale(\"log\")\n",
    "graph_sns.legend()\n",
    "graph_sns.set(title='Juridinių asmenų skaičius 2020 ir 2021 metais')\n",
    "plt.show()"
   ]
  },
  {
   "cell_type": "markdown",
   "id": "8c7d4a92",
   "metadata": {},
   "source": [
    "### "
   ]
  },
  {
   "cell_type": "code",
   "execution_count": null,
   "id": "2ddb8906",
   "metadata": {
    "ExecuteTime": {
     "end_time": "2022-12-08T16:03:49.057443Z",
     "start_time": "2022-12-08T16:03:47.748837Z"
    }
   },
   "outputs": [],
   "source": [
    "registration_by_month_2020 = balanso_df_2020.groupby(pd.DatetimeIndex(balanso_df_2020['reg_date']).strftime('%Y-%m'))['obj_kodas'].size().reset_index(name='Įmonių skaičius')\n",
    "registration_by_month_2021 = balanso_df_2021.groupby(pd.DatetimeIndex(balanso_df_2021['reg_date']).strftime('%Y-%m'))['obj_kodas'].size().reset_index(name='Įmonių skaičius')"
   ]
  },
  {
   "cell_type": "code",
   "execution_count": null,
   "id": "65003545",
   "metadata": {
    "ExecuteTime": {
     "end_time": "2022-12-08T16:03:49.133944Z",
     "start_time": "2022-12-08T16:03:49.120838Z"
    },
    "scrolled": true
   },
   "outputs": [],
   "source": [
    "registration_2020 = registration_by_month_2020.loc[registration_by_month_2020['Įmonių skaičius'].idxmax()]\n",
    "registration_2021 = registration_by_month_2021.loc[registration_by_month_2021['Įmonių skaičius'].idxmax()]"
   ]
  },
  {
   "cell_type": "code",
   "execution_count": null,
   "id": "2f398779",
   "metadata": {
    "ExecuteTime": {
     "end_time": "2022-12-08T16:03:49.275027Z",
     "start_time": "2022-12-08T16:03:49.252016Z"
    }
   },
   "outputs": [],
   "source": [
    "registration_max = pd.DataFrame([registration_2021,registration_2020])\n",
    "registration_max"
   ]
  },
  {
   "cell_type": "code",
   "execution_count": null,
   "id": "ffa72a5c",
   "metadata": {
    "ExecuteTime": {
     "end_time": "2022-12-08T16:03:51.198976Z",
     "start_time": "2022-12-08T16:03:51.186313Z"
    }
   },
   "outputs": [],
   "source": [
    "cust_colors = [\"#7800FF\", \"#9569F7\"]"
   ]
  },
  {
   "cell_type": "code",
   "execution_count": null,
   "id": "6cd683f2",
   "metadata": {
    "ExecuteTime": {
     "end_time": "2022-12-08T16:03:59.069845Z",
     "start_time": "2022-12-08T16:03:58.955000Z"
    }
   },
   "outputs": [],
   "source": [
    "graph_reg_count = sns.barplot(data=registration_max, x='reg_date', y='Įmonių skaičius',hue='reg_date')\n",
    "sns.set_palette(sns.color_palette(cust_colors))\n",
    "graph_reg_count.legend()\n",
    "graph_reg_count.set_ylabel(\"Įmonių skaičius\")\n",
    "graph_reg_count.set_xlabel(\"Registracijos mėnuo\")\n",
    "graph_reg_count.set(title='Registruotų įmonių skaičius pagal metus ir mėnesį')\n",
    "plt.show()"
   ]
  },
  {
   "cell_type": "markdown",
   "id": "3c303bbf",
   "metadata": {},
   "source": [
    "### "
   ]
  },
  {
   "cell_type": "code",
   "execution_count": null,
   "id": "6454e5d8",
   "metadata": {
    "ExecuteTime": {
     "end_time": "2022-12-08T16:04:02.641963Z",
     "start_time": "2022-12-08T16:04:02.490341Z"
    }
   },
   "outputs": [],
   "source": [
    "stat_change_by_date = df_all_balanso.groupby(['stat_pav',pd.DatetimeIndex(df_all_balanso['reg_date']).year]).size().reset_index(name='Vienetų skaičius')"
   ]
  },
  {
   "cell_type": "code",
   "execution_count": null,
   "id": "8a498e46",
   "metadata": {
    "ExecuteTime": {
     "end_time": "2022-12-08T16:04:03.839363Z",
     "start_time": "2022-12-08T16:04:03.446930Z"
    }
   },
   "outputs": [],
   "source": [
    "graph_sns_2 = sns.barplot(data=stat_change_by_date, x='stat_pav', y='Vienetų skaičius',hue='reg_date')\n",
    "plt.xticks(rotation = 90)\n",
    "graph_sns_2.set_yscale(\"log\")\n",
    "graph_sns_2.legend()\n",
    "graph_sns_2.set(title='Juridinių asmenų statuso pasiskirstym')\n",
    "plt.show()"
   ]
  },
  {
   "cell_type": "markdown",
   "id": "7e922534",
   "metadata": {},
   "source": [
    "### "
   ]
  },
  {
   "cell_type": "code",
   "execution_count": null,
   "id": "53113670",
   "metadata": {
    "ExecuteTime": {
     "end_time": "2022-12-08T19:57:07.399416Z",
     "start_time": "2022-12-08T19:57:06.759211Z"
    }
   },
   "outputs": [],
   "source": [
    "ultimate_total_huge_df = df_all_balanso.merge(df_all_nuotoliu, on=\"obj_kodas\", how = 'inner')"
   ]
  },
  {
   "cell_type": "code",
   "execution_count": null,
   "id": "5b2341f7",
   "metadata": {
    "ExecuteTime": {
     "end_time": "2022-12-08T19:57:44.627840Z",
     "start_time": "2022-12-08T19:57:44.245149Z"
    }
   },
   "outputs": [],
   "source": [
    "ultimate_total_huge_df = ultimate_total_huge_df.dropna(subset=['nuosavas_kapitalas', 'grynasis_pelnas'])"
   ]
  },
  {
   "cell_type": "code",
   "execution_count": null,
   "id": "d57e9a27",
   "metadata": {
    "ExecuteTime": {
     "end_time": "2022-12-08T19:57:47.490797Z",
     "start_time": "2022-12-08T19:57:47.459793Z"
    }
   },
   "outputs": [],
   "source": [
    "count_netincome_equity = pd.DataFrame({'obj_pav': ultimate_total_huge_df['obj_pav_x'],'reg_date': ultimate_total_huge_df['reg_date_x'] , 'count': ultimate_total_huge_df['nuosavas_kapitalas']+ultimate_total_huge_df['grynasis_pelnas'] })"
   ]
  },
  {
   "cell_type": "code",
   "execution_count": null,
   "id": "0464375f",
   "metadata": {
    "ExecuteTime": {
     "end_time": "2022-12-08T19:57:48.673779Z",
     "start_time": "2022-12-08T19:57:48.615881Z"
    },
    "scrolled": true
   },
   "outputs": [],
   "source": [
    "count_netincome_equity.loc[count_netincome_equity['obj_pav']=='MB \"Jantaris\"']"
   ]
  },
  {
   "cell_type": "code",
   "execution_count": null,
   "id": "361086e1",
   "metadata": {
    "ExecuteTime": {
     "end_time": "2022-12-08T20:00:08.221778Z",
     "start_time": "2022-12-08T20:00:08.209426Z"
    }
   },
   "outputs": [],
   "source": [
    "import datetime\n",
    "# Nespėjau iki galo :(\n",
    "print(\"Timestamp: \", pd.Timestamp.now())"
   ]
  },
  {
   "cell_type": "markdown",
   "id": "eab12bc4",
   "metadata": {},
   "source": [
    "### "
   ]
  },
  {
   "cell_type": "code",
   "execution_count": null,
   "id": "801dd004",
   "metadata": {
    "ExecuteTime": {
     "end_time": "2022-12-08T17:32:22.445572Z",
     "start_time": "2022-12-08T17:32:22.157570Z"
    }
   },
   "outputs": [],
   "source": [
    "bancrupted_values = [\"Bankrutavęs\", \"Bankrutuojantis\", \"Išregistruotas\",\"Inicijuojamas likvidavimas\", \"Likviduojamas\", \"Likviduojamas dėl bankroto\"]\n",
    "bancrupted_2021 = balanso_df_2021.loc[balanso_df_2021['stat_pav'].str.contains('|'.join(bancrupted_values))]['obj_kodas'].tolist()"
   ]
  },
  {
   "cell_type": "code",
   "execution_count": null,
   "id": "2f2da151",
   "metadata": {
    "ExecuteTime": {
     "end_time": "2022-12-08T17:32:22.910443Z",
     "start_time": "2022-12-08T17:32:22.634157Z"
    },
    "scrolled": true
   },
   "outputs": [],
   "source": [
    "not_bancrupted_2020 = balanso_df_2020.loc[(balanso_df_2020['stat_pav'].str.contains('|'.join(bancrupted_values))==False)]"
   ]
  },
  {
   "cell_type": "code",
   "execution_count": null,
   "id": "657fe212",
   "metadata": {
    "ExecuteTime": {
     "end_time": "2022-12-08T17:32:23.849517Z",
     "start_time": "2022-12-08T17:32:23.825663Z"
    }
   },
   "outputs": [],
   "source": [
    "print(len(bancrupted_2021))\n",
    "print(len(not_bancrupted_2020))"
   ]
  },
  {
   "cell_type": "code",
   "execution_count": null,
   "id": "4d23f9e4",
   "metadata": {
    "ExecuteTime": {
     "end_time": "2022-12-08T17:32:24.878050Z",
     "start_time": "2022-12-08T17:32:24.824651Z"
    },
    "scrolled": true
   },
   "outputs": [],
   "source": [
    "not_bancrupted_2020.loc[not_bancrupted_2020['obj_kodas'].isin(bancrupted_2021)]"
   ]
  },
  {
   "cell_type": "code",
   "execution_count": null,
   "id": "1baea235",
   "metadata": {
    "ExecuteTime": {
     "end_time": "2022-12-08T17:33:16.999135Z",
     "start_time": "2022-12-08T17:33:16.992002Z"
    }
   },
   "outputs": [],
   "source": [
    "#neperkandu niekaip, tai pasiduodu :("
   ]
  },
  {
   "cell_type": "markdown",
   "id": "6c2fb9c0",
   "metadata": {},
   "source": [
    "### "
   ]
  },
  {
   "cell_type": "code",
   "execution_count": null,
   "id": "2470c7df",
   "metadata": {
    "ExecuteTime": {
     "end_time": "2022-12-08T16:14:30.699792Z",
     "start_time": "2022-12-08T16:14:30.641479Z"
    }
   },
   "outputs": [],
   "source": [
    "balanso_2021_copy = balanso_df_2021\n",
    "balanso_2020_copy = balanso_df_2020"
   ]
  },
  {
   "cell_type": "code",
   "execution_count": null,
   "id": "883d2ad1",
   "metadata": {
    "ExecuteTime": {
     "end_time": "2022-12-08T16:14:31.489109Z",
     "start_time": "2022-12-08T16:14:31.431492Z"
    }
   },
   "outputs": [],
   "source": [
    "balanso_2021_copy['turtas'] = balanso_2021_copy['trumpalaikis_turtas'] + balanso_2021_copy['ilgalaikis_turtas']\n",
    "balanso_2020_copy['turtas'] = balanso_2020_copy['trumpalaikis_turtas'] + balanso_2020_copy['ilgalaikis_turtas']"
   ]
  },
  {
   "cell_type": "code",
   "execution_count": null,
   "id": "01b58799",
   "metadata": {
    "ExecuteTime": {
     "end_time": "2022-12-08T16:14:33.298978Z",
     "start_time": "2022-12-08T16:14:33.159383Z"
    }
   },
   "outputs": [],
   "source": [
    "balanso_2021_copy = balanso_2021_copy.drop(balanso_2021_copy[balanso_2021_copy['turtas'] < 0 ].index)"
   ]
  },
  {
   "cell_type": "code",
   "execution_count": null,
   "id": "386a19bb",
   "metadata": {
    "ExecuteTime": {
     "end_time": "2022-12-08T16:31:45.098495Z",
     "start_time": "2022-12-08T16:31:45.050987Z"
    }
   },
   "outputs": [],
   "source": [
    "bins = ['3k', '3k-20k', '20k-35k','35k-70k','70k+']\n",
    "# balanso_2021_copy['binned'] = pd.qcut(balanso_2021_copy['turtas'],q=[0, .2, .35, .70, .] , labels=bins)\n",
    "# balanso_2020_copy['binned'] = pd.qcut(balanso_2020_copy['turtas'], 5, labels=bins)\n",
    "balanso_2021_copy['binned'] = pd.cut(balanso_2020_copy['turtas'], [0, 3000.0, 20000.0, 35000.0, 75000.0, balanso_2020_copy['turtas'].max() ], labels=bins)\n",
    "balanso_2020_copy['binned'] = pd.cut(balanso_2020_copy['turtas'], [0, 3000.0, 20000.0, 35000.0, 75000.0, balanso_2020_copy['turtas'].max() ], labels=bins)"
   ]
  },
  {
   "cell_type": "code",
   "execution_count": null,
   "id": "4ce32cd7",
   "metadata": {
    "ExecuteTime": {
     "end_time": "2022-12-08T16:14:44.820226Z",
     "start_time": "2022-12-08T16:14:44.567162Z"
    }
   },
   "outputs": [],
   "source": [
    "balanso_2021_copy= balanso_2021_copy.drop(columns=['binned'])\n",
    "balanso_2020_copy=balanso_2020_copy.drop(columns=['binned'])"
   ]
  },
  {
   "cell_type": "code",
   "execution_count": null,
   "id": "f84c6133",
   "metadata": {
    "ExecuteTime": {
     "end_time": "2022-12-08T16:28:01.739342Z",
     "start_time": "2022-12-08T16:28:01.711647Z"
    }
   },
   "outputs": [],
   "source": [
    "balanso_2020_copy['turtas'].max()"
   ]
  },
  {
   "cell_type": "code",
   "execution_count": null,
   "id": "62272500",
   "metadata": {
    "ExecuteTime": {
     "end_time": "2022-12-08T16:32:50.270596Z",
     "start_time": "2022-12-08T16:32:50.232188Z"
    }
   },
   "outputs": [],
   "source": [
    "balanso_2020_copy.head(3)\n",
    "# Vis dar matau neatitikimų darant cut, nes tarkime trečioji reikšmė yra daugiau nei 70k, bet ją įdeda į 35-70k range.\n",
    "# Bandžiau su qcut daryti, bet nepavyko perspjauti"
   ]
  },
  {
   "cell_type": "code",
   "execution_count": null,
   "id": "00423a8d",
   "metadata": {
    "ExecuteTime": {
     "end_time": "2022-12-08T16:32:56.209932Z",
     "start_time": "2022-12-08T16:32:56.182652Z"
    }
   },
   "outputs": [],
   "source": [
    "sum_of_bins_2021 = balanso_2021_copy.groupby(balanso_2021_copy['binned']).size().reset_index(name='Vienetų skaičius')\n",
    "sum_of_bins_2020 = balanso_2020_copy.groupby(balanso_2020_copy['binned']).size().reset_index(name='Vienetų skaičius')"
   ]
  },
  {
   "cell_type": "code",
   "execution_count": null,
   "id": "e74a7dc4",
   "metadata": {
    "ExecuteTime": {
     "end_time": "2022-12-08T16:52:23.129275Z",
     "start_time": "2022-12-08T16:52:22.771893Z"
    }
   },
   "outputs": [],
   "source": [
    "fig, (ax1, ax2) = plt.subplots(1, 2, figsize=(10, 10))\n",
    "colors = sns.color_palette('pastel')[0:5]\n",
    "\n",
    "def func(pct, allvals):\n",
    "    absolute = int(pct/100.*np.sum(allvals))\n",
    "    return \"{:.1f}%\\n({:d})\".format(pct, absolute)\n",
    "\n",
    "\n",
    "ax1.pie(sum_of_bins_2020['Vienetų skaičius'], labels = sum_of_bins_2020['binned'], colors = colors, autopct=lambda pct: func(pct, sum_of_bins_2020['Vienetų skaičius']))\n",
    "ax2.pie(sum_of_bins_2021['Vienetų skaičius'], labels = sum_of_bins_2021['binned'], colors = colors, autopct=lambda pct: func(pct, sum_of_bins_2021['Vienetų skaičius']))\n",
    "ax1.set_title('2020 metais')\n",
    "ax2.set_title('2021 metais')\n",
    "fig.suptitle(\"Įregistruotų įmonių pasiskirstymas pagal sukauptą turtą\")\n",
    "plt.show()"
   ]
  },
  {
   "cell_type": "markdown",
   "id": "0000ad6a",
   "metadata": {},
   "source": [
    "### "
   ]
  },
  {
   "cell_type": "code",
   "execution_count": null,
   "id": "b831ae8c",
   "metadata": {
    "ExecuteTime": {
     "end_time": "2022-12-08T17:03:55.607998Z",
     "start_time": "2022-12-08T17:03:54.735311Z"
    }
   },
   "outputs": [],
   "source": [
    "top_100_equity = df_all_balanso.sort_values(by='nuosavas_kapitalas', ascending=False).head(100)\n",
    "top_100_netincome = df_all_nuotoliu.sort_values(by='grynasis_pelnas', ascending=False).head(100)"
   ]
  },
  {
   "cell_type": "code",
   "execution_count": null,
   "id": "f65ab437",
   "metadata": {
    "ExecuteTime": {
     "end_time": "2022-12-08T17:36:10.988593Z",
     "start_time": "2022-12-08T17:36:10.970655Z"
    }
   },
   "outputs": [],
   "source": [
    "print(f\"Įmonės kurios sutampa Top100 įmonių turinčių didžiausią nuosava kapitalą ir grynąjį pelną: {len(top_100_netincome.loc[top_100_netincome['obj_kodas'].isin(top_100_equity['obj_kodas'].tolist())])}\")"
   ]
  },
  {
   "cell_type": "code",
   "execution_count": null,
   "id": "8d5fa86f",
   "metadata": {
    "ExecuteTime": {
     "end_time": "2022-12-08T17:09:35.747827Z",
     "start_time": "2022-12-08T17:09:35.690214Z"
    },
    "scrolled": true
   },
   "outputs": [],
   "source": [
    "top_100_netincome.loc[top_100_netincome['obj_kodas'].isin(top_100_equity['obj_kodas'].tolist())]"
   ]
  },
  {
   "cell_type": "markdown",
   "id": "e0ea94bf",
   "metadata": {},
   "source": [
    "Ta pati mergelė tik išimti dublikatai"
   ]
  },
  {
   "cell_type": "code",
   "execution_count": null,
   "id": "842b4488",
   "metadata": {
    "ExecuteTime": {
     "end_time": "2022-12-08T17:45:59.499979Z",
     "start_time": "2022-12-08T17:45:58.040336Z"
    }
   },
   "outputs": [],
   "source": [
    "top_100_equity_nodub = df_all_balanso.sort_values(by='nuosavas_kapitalas', ascending=False).drop_duplicates(subset=['obj_kodas']).head(100)\n",
    "top_100_netincome_nodub = df_all_nuotoliu.sort_values(by='grynasis_pelnas', ascending=False).drop_duplicates(subset=['obj_kodas']).head(100)"
   ]
  },
  {
   "cell_type": "code",
   "execution_count": null,
   "id": "27559fa9",
   "metadata": {
    "ExecuteTime": {
     "end_time": "2022-12-08T17:47:25.279868Z",
     "start_time": "2022-12-08T17:47:25.251252Z"
    }
   },
   "outputs": [],
   "source": [
    "print(f\"Įmonės kurios sutampa Top100 įmonių turinčių didžiausią nuosava kapitalą ir grynąjį pelną(be pasikartojančių įmonių): {len(top_100_netincome_nodub.loc[top_100_netincome_nodub['obj_kodas'].isin(top_100_equity_nodub['obj_kodas'].tolist())])}\")"
   ]
  },
  {
   "cell_type": "code",
   "execution_count": null,
   "id": "8a92d20e",
   "metadata": {
    "ExecuteTime": {
     "end_time": "2022-12-08T17:46:40.219775Z",
     "start_time": "2022-12-08T17:46:40.123835Z"
    }
   },
   "outputs": [],
   "source": [
    "top_100_netincome_nodub.loc[top_100_netincome_nodub['obj_kodas'].isin(top_100_equity_nodub['obj_kodas'].tolist())]"
   ]
  },
  {
   "cell_type": "markdown",
   "id": "5b1500b2",
   "metadata": {},
   "source": [
    "### "
   ]
  },
  {
   "cell_type": "code",
   "execution_count": null,
   "id": "05638f8d",
   "metadata": {
    "ExecuteTime": {
     "end_time": "2022-12-08T17:27:31.129337Z",
     "start_time": "2022-12-08T17:27:29.983448Z"
    }
   },
   "outputs": [],
   "source": [
    "top_100_netincome_2020 = nuostoliu_df_2020.sort_values(by='grynasis_pelnas', ascending=False).head(100)\n",
    "top_100_netincome_2021 = nuostoliu_df_2021.sort_values(by='grynasis_pelnas', ascending=False).head(100)"
   ]
  },
  {
   "cell_type": "code",
   "execution_count": null,
   "id": "ffa00f03",
   "metadata": {
    "ExecuteTime": {
     "end_time": "2022-12-08T17:41:50.307497Z",
     "start_time": "2022-12-08T17:41:50.293921Z"
    }
   },
   "outputs": [],
   "source": [
    "print(f\"Įmonės kurių nėra 2021 metų Top100 grynojo pelno sąraše: {len(top_100_netincome_2020.loc[~top_100_netincome_2020['obj_kodas'].isin(top_100_netincome_2021['obj_kodas'].tolist())])}\")"
   ]
  },
  {
   "cell_type": "code",
   "execution_count": null,
   "id": "8c0409f0",
   "metadata": {
    "ExecuteTime": {
     "end_time": "2022-12-08T17:40:16.972661Z",
     "start_time": "2022-12-08T17:40:16.902129Z"
    }
   },
   "outputs": [],
   "source": [
    "top_100_netincome_2020.loc[~top_100_netincome_2020['obj_kodas'].isin(top_100_netincome_2021['obj_kodas'].tolist())]"
   ]
  },
  {
   "cell_type": "code",
   "execution_count": null,
   "id": "5fd97a08",
   "metadata": {},
   "outputs": [],
   "source": []
  },
  {
   "cell_type": "markdown",
   "id": "cb5fc8b4",
   "metadata": {},
   "source": [
    "&nbsp;"
   ]
  },
  {
   "cell_type": "markdown",
   "id": "09f83dfe",
   "metadata": {},
   "source": [
    "&nbsp;"
   ]
  },
  {
   "cell_type": "markdown",
   "id": "1b26514a",
   "metadata": {},
   "source": [
    "&nbsp;"
   ]
  },
  {
   "cell_type": "markdown",
   "id": "9ab3d122",
   "metadata": {},
   "source": [
    "&nbsp;"
   ]
  },
  {
   "cell_type": "markdown",
   "id": "79f9fb1a",
   "metadata": {},
   "source": [
    "&nbsp;"
   ]
  },
  {
   "cell_type": "markdown",
   "id": "b50e518d",
   "metadata": {},
   "source": [
    "&nbsp;"
   ]
  },
  {
   "cell_type": "markdown",
   "id": "e4119d72",
   "metadata": {},
   "source": [
    "&nbsp;"
   ]
  },
  {
   "cell_type": "markdown",
   "id": "32e123d1",
   "metadata": {},
   "source": [
    "&nbsp;"
   ]
  },
  {
   "cell_type": "markdown",
   "id": "48763752",
   "metadata": {
    "ExecuteTime": {
     "end_time": "2022-12-08T17:49:04.598009Z",
     "start_time": "2022-12-08T17:49:04.541947Z"
    }
   },
   "source": [
    "<p style=\"font-size:24px;\"> Trečia dalis </p>"
   ]
  },
  {
   "cell_type": "markdown",
   "id": "4acbefb2",
   "metadata": {},
   "source": [
    "<font color='red'> Justas Kalpokas: Panašu, kad nepavyko išsiaiškinti stulpelių reikšmių apibrėžimų. Sodros masyve month yra metai ir mėnuo kada užfiksuotas vidutinis atlyginimas ir darbuotojų skaičius. </font>"
   ]
  },
  {
   "cell_type": "markdown",
   "id": "531543e3",
   "metadata": {
    "ExecuteTime": {
     "end_time": "2022-12-08T17:49:16.680424Z",
     "start_time": "2022-12-08T17:49:16.660796Z"
    }
   },
   "source": [
    "### "
   ]
  },
  {
   "cell_type": "code",
   "execution_count": null,
   "id": "a0701d1e",
   "metadata": {
    "ExecuteTime": {
     "end_time": "2022-12-08T18:49:56.951176Z",
     "start_time": "2022-12-08T18:49:53.962754Z"
    }
   },
   "outputs": [],
   "source": [
    "sodra_data_2020 = pd.read_csv('monthly-2020.csv', sep=\";\")"
   ]
  },
  {
   "cell_type": "code",
   "execution_count": null,
   "id": "bd57f232",
   "metadata": {
    "ExecuteTime": {
     "end_time": "2022-12-08T18:02:26.070588Z",
     "start_time": "2022-12-08T18:02:22.371879Z"
    }
   },
   "outputs": [],
   "source": [
    "sodra_data_2021 = pd.read_csv('monthly-2021.csv', sep=\";\")"
   ]
  },
  {
   "cell_type": "code",
   "execution_count": null,
   "id": "a096729c",
   "metadata": {
    "ExecuteTime": {
     "end_time": "2022-12-08T18:49:58.527099Z",
     "start_time": "2022-12-08T18:49:58.484739Z"
    }
   },
   "outputs": [],
   "source": [
    "sodra_data_2020.columns = sodra_data_2020.columns.str.replace(r'^[^\\(]*\\(|\\)', '', regex=True)\n",
    "sodra_data_2021.columns = sodra_data_2021.columns.str.replace(r'^[^\\(]*\\(|\\)', '', regex=True)"
   ]
  },
  {
   "cell_type": "code",
   "execution_count": null,
   "id": "c9af5906",
   "metadata": {
    "ExecuteTime": {
     "end_time": "2022-12-08T18:49:59.847716Z",
     "start_time": "2022-12-08T18:49:59.652611Z"
    },
    "scrolled": false
   },
   "outputs": [],
   "source": [
    "sodra_data_2020['month'] = pd.to_datetime(sodra_data_2020['month'], format='%Y%m')\n",
    "sodra_data_2021['month'] = pd.to_datetime(sodra_data_2021['month'], format='%Y%m')"
   ]
  },
  {
   "cell_type": "code",
   "execution_count": null,
   "id": "6c60b872",
   "metadata": {
    "ExecuteTime": {
     "end_time": "2022-12-08T18:57:07.313270Z",
     "start_time": "2022-12-08T18:57:07.291145Z"
    }
   },
   "outputs": [],
   "source": [
    "sodra_data_2020.rename(columns = {'jarCode':'obj_kodas','month':'reg_date'}, inplace = True)"
   ]
  },
  {
   "cell_type": "code",
   "execution_count": null,
   "id": "f5cc2e3c",
   "metadata": {
    "ExecuteTime": {
     "end_time": "2022-12-08T18:57:10.462174Z",
     "start_time": "2022-12-08T18:57:08.531554Z"
    }
   },
   "outputs": [],
   "source": [
    "companies_2020 = sodra_data_2020.loc[sodra_data_2020['obj_kodas'].isin(balanso_df_2020['obj_kodas'].tolist())]\n",
    "companies_2021 = sodra_data_2021.loc[sodra_data_2021['jarCode'].isin(balanso_df_2021['obj_kodas'].tolist())]"
   ]
  },
  {
   "cell_type": "code",
   "execution_count": null,
   "id": "3be68bc1",
   "metadata": {
    "ExecuteTime": {
     "end_time": "2022-12-08T18:57:11.702607Z",
     "start_time": "2022-12-08T18:57:11.570336Z"
    }
   },
   "outputs": [],
   "source": [
    "companies_2020.sample(5)"
   ]
  },
  {
   "cell_type": "code",
   "execution_count": null,
   "id": "9c293e0c",
   "metadata": {
    "ExecuteTime": {
     "end_time": "2022-12-08T19:03:27.921557Z",
     "start_time": "2022-12-08T19:03:27.182985Z"
    },
    "scrolled": true
   },
   "outputs": [],
   "source": [
    "balanso_df_2020['reg_date'] = pd.to_datetime(balanso_df_2020['reg_date'], utc = True)\n",
    "companies_2020['reg_date'] = pd.to_datetime(companies_2020['reg_date'], utc = True)\n",
    "# test_df = balanso_df_2020.merge(companies_2020, on=\"obj_kodas\", how = 'inner')\n",
    "test_df = balanso_df_2020.merge(companies_2020, on=[\"obj_kodas\",\"reg_date\"], how = 'inner')\n",
    "#test_df = pd.merge([balanso_df_2020, companies_2020], axis=0, ignore_index=True)\n",
    "#test_df = pd.merge(balanso_df_2020, companies_2020,  how='left', left_on=['obj_kodas','obj_kodas'], right_on = ['reg_date','month'])"
   ]
  },
  {
   "cell_type": "code",
   "execution_count": null,
   "id": "bba3c3d4",
   "metadata": {
    "ExecuteTime": {
     "end_time": "2022-12-08T18:59:50.658518Z",
     "start_time": "2022-12-08T18:59:50.636771Z"
    }
   },
   "outputs": [],
   "source": [
    "balanso_df_2020['reg_date'].dtypes"
   ]
  },
  {
   "cell_type": "code",
   "execution_count": null,
   "id": "cc4f0784",
   "metadata": {
    "ExecuteTime": {
     "end_time": "2022-12-08T19:04:06.275296Z",
     "start_time": "2022-12-08T19:04:06.204334Z"
    }
   },
   "outputs": [],
   "source": [
    "companies_2020.loc[companies_2020['obj_kodas']==300021385]"
   ]
  },
  {
   "cell_type": "code",
   "execution_count": null,
   "id": "ae20bdde",
   "metadata": {
    "ExecuteTime": {
     "end_time": "2022-12-08T20:00:32.866805Z",
     "start_time": "2022-12-08T20:00:29.932947Z"
    }
   },
   "outputs": [],
   "source": [
    "!pip freeze > requiremets_Dovile_Dobavolskaite.txt\n"
   ]
  },
  {
   "cell_type": "code",
   "execution_count": null,
   "id": "66127f8b",
   "metadata": {},
   "outputs": [],
   "source": []
  }
 ],
 "metadata": {
  "kernelspec": {
   "display_name": "Python 3 (ipykernel)",
   "language": "python",
   "name": "python3"
  },
  "language_info": {
   "codemirror_mode": {
    "name": "ipython",
    "version": 3
   },
   "file_extension": ".py",
   "mimetype": "text/x-python",
   "name": "python",
   "nbconvert_exporter": "python",
   "pygments_lexer": "ipython3",
   "version": "3.9.2"
  },
  "toc": {
   "base_numbering": 1,
   "nav_menu": {},
   "number_sections": true,
   "sideBar": true,
   "skip_h1_title": false,
   "title_cell": "Table of Contents",
   "title_sidebar": "Contents",
   "toc_cell": false,
   "toc_position": {},
   "toc_section_display": true,
   "toc_window_display": false
  },
  "varInspector": {
   "cols": {
    "lenName": 16,
    "lenType": 16,
    "lenVar": 40
   },
   "kernels_config": {
    "python": {
     "delete_cmd_postfix": "",
     "delete_cmd_prefix": "del ",
     "library": "var_list.py",
     "varRefreshCmd": "print(var_dic_list())"
    },
    "r": {
     "delete_cmd_postfix": ") ",
     "delete_cmd_prefix": "rm(",
     "library": "var_list.r",
     "varRefreshCmd": "cat(var_dic_list()) "
    }
   },
   "types_to_exclude": [
    "module",
    "function",
    "builtin_function_or_method",
    "instance",
    "_Feature"
   ],
   "window_display": false
  }
 },
 "nbformat": 4,
 "nbformat_minor": 5
}
