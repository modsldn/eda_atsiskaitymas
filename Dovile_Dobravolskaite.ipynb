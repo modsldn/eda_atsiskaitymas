{
 "cells": [
  {
   "cell_type": "markdown",
   "id": "c5dc6005",
   "metadata": {},
   "source": [
    "<p style=\"font-size:24px;\">Pirma dalis </p>"
   ]
  },
  {
   "cell_type": "markdown",
   "id": "007e994f",
   "metadata": {},
   "source": [
    "### "
   ]
  },
  {
   "cell_type": "code",
   "execution_count": null,
   "id": "912fb818",
   "metadata": {},
   "outputs": [],
   "source": [
    "import ssl\n",
    "\n",
    "ssl._create_default_https_context = ssl._create_unverified_context"
   ]
  },
  {
   "cell_type": "code",
   "execution_count": null,
   "id": "5edacc18",
   "metadata": {
    "ExecuteTime": {
     "end_time": "2022-12-08T15:57:02.728177Z",
     "start_time": "2022-12-08T15:56:57.783229Z"
    }
   },
   "outputs": [],
   "source": [
    "pip install -r requirements.txt"
   ]
  },
  {
   "attachments": {},
   "cell_type": "markdown",
   "id": "bc4ce1ee",
   "metadata": {},
   "source": [
    "<font color='red'> Erikas Švažas: \n",
    "\n",
    "1. Norint išlaikyti formatavimą pagal PEP8 standartą labai padėtų papildomi extensions - pavyzdžiui nb_black\n",
    "```\n",
    "%load_ext nb_black\n",
    "```\n",
    "\n",
    "2. Pip puikiai tinka panašaus dydžio prejektui, bet kai bus daugiau dependencies conda gali turėti [privalumų](https://www.reddit.com/r/Python/comments/w564g0/comment/ih7jo6v/?utm_source=share&utm_medium=web2x&context=3) (nors ir viskas vyks super lėtai)\n",
    "\n",
    "</font>"
   ]
  },
  {
   "cell_type": "code",
   "execution_count": null,
   "id": "513b451c",
   "metadata": {
    "ExecuteTime": {
     "end_time": "2022-12-08T15:57:20.514236Z",
     "start_time": "2022-12-08T15:57:20.487287Z"
    }
   },
   "outputs": [],
   "source": [
    "from IPython.display import display, HTML\n",
    "display(HTML(\"<style>.container { width:70% !important; }</style>\"))"
   ]
  },
  {
   "cell_type": "code",
   "execution_count": 4,
   "id": "f53923df",
   "metadata": {
    "ExecuteTime": {
     "end_time": "2022-12-08T15:57:30.311445Z",
     "start_time": "2022-12-08T15:57:21.363394Z"
    }
   },
   "outputs": [],
   "source": [
    "import numpy as np\n",
    "import pandas as pd\n",
    "import seaborn as sns\n"
   ]
  },
  {
   "cell_type": "markdown",
   "id": "b5d09a8e",
   "metadata": {},
   "source": [
    "### "
   ]
  },
  {
   "cell_type": "code",
   "execution_count": 5,
   "id": "ae746d37",
   "metadata": {
    "ExecuteTime": {
     "end_time": "2022-12-08T15:57:38.470238Z",
     "start_time": "2022-12-08T15:57:30.339337Z"
    }
   },
   "outputs": [],
   "source": [
    "balanso_df_2020=pd.read_csv('https://www.registrucentras.lt/aduomenys/?byla=JAR_FA_RODIKLIAI_BLNS_2020.csv')"
   ]
  },
  {
   "cell_type": "code",
   "execution_count": 6,
   "id": "862dc70e",
   "metadata": {
    "ExecuteTime": {
     "end_time": "2022-12-08T15:57:51.538572Z",
     "start_time": "2022-12-08T15:57:38.525962Z"
    }
   },
   "outputs": [],
   "source": [
    "nuostoliu_df_2020=pd.read_csv('https://www.registrucentras.lt/aduomenys/?byla=JAR_FA_RODIKLIAI_PLNA_2020.csv')"
   ]
  },
  {
   "cell_type": "code",
   "execution_count": 7,
   "id": "4979f2ab",
   "metadata": {
    "ExecuteTime": {
     "end_time": "2022-12-08T16:00:01.879823Z",
     "start_time": "2022-12-08T15:59:54.021791Z"
    }
   },
   "outputs": [],
   "source": [
    "balanso_df_2021=pd.read_csv('https://www.registrucentras.lt/aduomenys/?byla=JAR_FA_RODIKLIAI_BLNS_2021.csv')"
   ]
  },
  {
   "cell_type": "code",
   "execution_count": 8,
   "id": "de031423",
   "metadata": {
    "ExecuteTime": {
     "end_time": "2022-12-08T16:00:14.054558Z",
     "start_time": "2022-12-08T16:00:04.637919Z"
    }
   },
   "outputs": [],
   "source": [
    "nuostoliu_df_2021=pd.read_csv('https://www.registrucentras.lt/aduomenys/?byla=JAR_FA_RODIKLIAI_PLNA_2021.csv')"
   ]
  },
  {
   "cell_type": "markdown",
   "id": "eb1d6523",
   "metadata": {},
   "source": [
    "<p style=\"color:orange;padding-left:20px;\"># atskirti importavimai, nes dėl duomenų dydžio meta error</p>"
   ]
  },
  {
   "cell_type": "markdown",
   "id": "d5b53ab1",
   "metadata": {},
   "source": [
    "### "
   ]
  },
  {
   "cell_type": "markdown",
   "id": "47a30320",
   "metadata": {
    "ExecuteTime": {
     "end_time": "2022-12-05T16:37:01.767994Z",
     "start_time": "2022-12-05T16:37:01.756198Z"
    }
   },
   "source": [
    "a."
   ]
  },
  {
   "cell_type": "code",
   "execution_count": 9,
   "id": "9c073d6a",
   "metadata": {
    "ExecuteTime": {
     "end_time": "2022-12-08T16:01:01.904848Z",
     "start_time": "2022-12-08T16:01:01.809811Z"
    }
   },
   "outputs": [],
   "source": [
    "df_all_balanso = pd.concat([balanso_df_2020, balanso_df_2021]) "
   ]
  },
  {
   "cell_type": "code",
   "execution_count": 10,
   "id": "bfff5616",
   "metadata": {
    "ExecuteTime": {
     "end_time": "2022-12-08T16:01:02.621786Z",
     "start_time": "2022-12-08T16:01:02.505443Z"
    }
   },
   "outputs": [],
   "source": [
    "df_all_nuotoliu = pd.concat([nuostoliu_df_2020, nuostoliu_df_2021])"
   ]
  },
  {
   "cell_type": "code",
   "execution_count": 11,
   "id": "ac979d25",
   "metadata": {
    "ExecuteTime": {
     "end_time": "2022-12-08T17:31:15.228561Z",
     "start_time": "2022-12-08T17:31:15.141695Z"
    },
    "scrolled": false
   },
   "outputs": [
    {
     "data": {
      "text/html": [
       "<div>\n",
       "<style scoped>\n",
       "    .dataframe tbody tr th:only-of-type {\n",
       "        vertical-align: middle;\n",
       "    }\n",
       "\n",
       "    .dataframe tbody tr th {\n",
       "        vertical-align: top;\n",
       "    }\n",
       "\n",
       "    .dataframe thead th {\n",
       "        text-align: right;\n",
       "    }\n",
       "</style>\n",
       "<table border=\"1\" class=\"dataframe\">\n",
       "  <thead>\n",
       "    <tr style=\"text-align: right;\">\n",
       "      <th></th>\n",
       "      <th>obj_kodas</th>\n",
       "      <th>obj_pav</th>\n",
       "      <th>form_kodas</th>\n",
       "      <th>form_pav</th>\n",
       "      <th>stat_statusas</th>\n",
       "      <th>stat_pav</th>\n",
       "      <th>template_id</th>\n",
       "      <th>template_name</th>\n",
       "      <th>standard_id</th>\n",
       "      <th>standard_name</th>\n",
       "      <th>laikotarpis_nuo</th>\n",
       "      <th>laikotarpis_iki</th>\n",
       "      <th>reg_date</th>\n",
       "      <th>nuosavas_kapitalas</th>\n",
       "      <th>mok_sumos_ir_isipareigojimai</th>\n",
       "      <th>ilgalaikis_turtas</th>\n",
       "      <th>trumpalaikis_turtas</th>\n",
       "      <th>formavimo_data</th>\n",
       "    </tr>\n",
       "  </thead>\n",
       "  <tbody>\n",
       "    <tr>\n",
       "      <th>97527</th>\n",
       "      <td>153642871</td>\n",
       "      <td>UAB \"DAUMONTA\"</td>\n",
       "      <td>310</td>\n",
       "      <td>Uždaroji akcinė bendrovė</td>\n",
       "      <td>0</td>\n",
       "      <td>Teisinis stat neįregistruotas</td>\n",
       "      <td>FS0129</td>\n",
       "      <td>Mažų ir labai mažų įmonių, netaikančių išimčių...</td>\n",
       "      <td>BST124</td>\n",
       "      <td>BALANSAS (Sutrumpintas)</td>\n",
       "      <td>2020-01-01</td>\n",
       "      <td>2020-12-31</td>\n",
       "      <td>2021-03-24</td>\n",
       "      <td>345233.0</td>\n",
       "      <td>22567.0</td>\n",
       "      <td>39656.0</td>\n",
       "      <td>328144.0</td>\n",
       "      <td>2022-12-01</td>\n",
       "    </tr>\n",
       "    <tr>\n",
       "      <th>11229</th>\n",
       "      <td>300113969</td>\n",
       "      <td>Uždaroji akcinė bendrovė \"POGYNĖ\"</td>\n",
       "      <td>310</td>\n",
       "      <td>Uždaroji akcinė bendrovė</td>\n",
       "      <td>0</td>\n",
       "      <td>Teisinis stat neįregistruotas</td>\n",
       "      <td>FS0029</td>\n",
       "      <td>Mažų ir labai mažų įmonių, netaikančių išimčių...</td>\n",
       "      <td>BST024</td>\n",
       "      <td>BALANSAS (Sutrumpintas)</td>\n",
       "      <td>2016-01-01</td>\n",
       "      <td>2016-12-31</td>\n",
       "      <td>2020-08-24</td>\n",
       "      <td>-95949.0</td>\n",
       "      <td>546295.0</td>\n",
       "      <td>384353.0</td>\n",
       "      <td>65993.0</td>\n",
       "      <td>2022-12-01</td>\n",
       "    </tr>\n",
       "  </tbody>\n",
       "</table>\n",
       "</div>"
      ],
      "text/plain": [
       "       obj_kodas                            obj_pav  form_kodas  \\\n",
       "97527  153642871                     UAB \"DAUMONTA\"         310   \n",
       "11229  300113969  Uždaroji akcinė bendrovė \"POGYNĖ\"         310   \n",
       "\n",
       "                       form_pav  stat_statusas                       stat_pav  \\\n",
       "97527  Uždaroji akcinė bendrovė              0  Teisinis stat neįregistruotas   \n",
       "11229  Uždaroji akcinė bendrovė              0  Teisinis stat neįregistruotas   \n",
       "\n",
       "      template_id                                      template_name  \\\n",
       "97527      FS0129  Mažų ir labai mažų įmonių, netaikančių išimčių...   \n",
       "11229      FS0029  Mažų ir labai mažų įmonių, netaikančių išimčių...   \n",
       "\n",
       "      standard_id            standard_name laikotarpis_nuo laikotarpis_iki  \\\n",
       "97527      BST124  BALANSAS (Sutrumpintas)      2020-01-01      2020-12-31   \n",
       "11229      BST024  BALANSAS (Sutrumpintas)      2016-01-01      2016-12-31   \n",
       "\n",
       "         reg_date  nuosavas_kapitalas  mok_sumos_ir_isipareigojimai  \\\n",
       "97527  2021-03-24            345233.0                       22567.0   \n",
       "11229  2020-08-24            -95949.0                      546295.0   \n",
       "\n",
       "       ilgalaikis_turtas  trumpalaikis_turtas formavimo_data  \n",
       "97527            39656.0             328144.0     2022-12-01  \n",
       "11229           384353.0              65993.0     2022-12-01  "
      ]
     },
     "execution_count": 11,
     "metadata": {},
     "output_type": "execute_result"
    }
   ],
   "source": [
    "df_all_balanso.sample(2)"
   ]
  },
  {
   "cell_type": "code",
   "execution_count": 12,
   "id": "eecab6cc",
   "metadata": {
    "ExecuteTime": {
     "end_time": "2022-12-08T16:01:39.719170Z",
     "start_time": "2022-12-08T16:01:39.606279Z"
    },
    "scrolled": true
   },
   "outputs": [
    {
     "data": {
      "text/html": [
       "<div>\n",
       "<style scoped>\n",
       "    .dataframe tbody tr th:only-of-type {\n",
       "        vertical-align: middle;\n",
       "    }\n",
       "\n",
       "    .dataframe tbody tr th {\n",
       "        vertical-align: top;\n",
       "    }\n",
       "\n",
       "    .dataframe thead th {\n",
       "        text-align: right;\n",
       "    }\n",
       "</style>\n",
       "<table border=\"1\" class=\"dataframe\">\n",
       "  <thead>\n",
       "    <tr style=\"text-align: right;\">\n",
       "      <th></th>\n",
       "      <th>obj_kodas</th>\n",
       "      <th>obj_pav</th>\n",
       "      <th>form_kodas</th>\n",
       "      <th>form_pav</th>\n",
       "      <th>stat_statusas</th>\n",
       "      <th>stat_pav</th>\n",
       "      <th>template_id</th>\n",
       "      <th>template_name</th>\n",
       "      <th>standard_id</th>\n",
       "      <th>standard_name</th>\n",
       "      <th>laikotarpis_nuo</th>\n",
       "      <th>laikotarpis_iki</th>\n",
       "      <th>reg_date</th>\n",
       "      <th>pelnas_pries_apmokestinima</th>\n",
       "      <th>grynasis_pelnas</th>\n",
       "      <th>pardavimo_pajamos</th>\n",
       "      <th>formavimo_data</th>\n",
       "    </tr>\n",
       "  </thead>\n",
       "  <tbody>\n",
       "    <tr>\n",
       "      <th>30361</th>\n",
       "      <td>303585380</td>\n",
       "      <td>UAB \"Salera\"</td>\n",
       "      <td>310</td>\n",
       "      <td>Uždaroji akcinė bendrovė</td>\n",
       "      <td>0</td>\n",
       "      <td>Teisinis stat neįregistruotas</td>\n",
       "      <td>FS0128</td>\n",
       "      <td>Labai mažų įmonių, taikančių išimtis, finansin...</td>\n",
       "      <td>IST023</td>\n",
       "      <td>PELNO (NUOSTOLIŲ) ATASKAITA (Trumpa)</td>\n",
       "      <td>2019-01-01</td>\n",
       "      <td>2019-12-31</td>\n",
       "      <td>2020-10-27</td>\n",
       "      <td>NaN</td>\n",
       "      <td>13076.0</td>\n",
       "      <td>218398.0</td>\n",
       "      <td>2022-12-01</td>\n",
       "    </tr>\n",
       "    <tr>\n",
       "      <th>97677</th>\n",
       "      <td>302861623</td>\n",
       "      <td>UAB \"Dovanų artelė\"</td>\n",
       "      <td>310</td>\n",
       "      <td>Uždaroji akcinė bendrovė</td>\n",
       "      <td>0</td>\n",
       "      <td>Teisinis stat neįregistruotas</td>\n",
       "      <td>FS0129</td>\n",
       "      <td>Mažų ir labai mažų įmonių, netaikančių išimčių...</td>\n",
       "      <td>IST024</td>\n",
       "      <td>PELNO (NUOSTOLIŲ) ATASKAITA</td>\n",
       "      <td>2020-01-01</td>\n",
       "      <td>2020-12-31</td>\n",
       "      <td>2021-04-22</td>\n",
       "      <td>20973.0</td>\n",
       "      <td>19921.0</td>\n",
       "      <td>167238.0</td>\n",
       "      <td>2022-12-01</td>\n",
       "    </tr>\n",
       "  </tbody>\n",
       "</table>\n",
       "</div>"
      ],
      "text/plain": [
       "       obj_kodas              obj_pav  form_kodas                  form_pav  \\\n",
       "30361  303585380         UAB \"Salera\"         310  Uždaroji akcinė bendrovė   \n",
       "97677  302861623  UAB \"Dovanų artelė\"         310  Uždaroji akcinė bendrovė   \n",
       "\n",
       "       stat_statusas                       stat_pav template_id  \\\n",
       "30361              0  Teisinis stat neįregistruotas      FS0128   \n",
       "97677              0  Teisinis stat neįregistruotas      FS0129   \n",
       "\n",
       "                                           template_name standard_id  \\\n",
       "30361  Labai mažų įmonių, taikančių išimtis, finansin...      IST023   \n",
       "97677  Mažų ir labai mažų įmonių, netaikančių išimčių...      IST024   \n",
       "\n",
       "                              standard_name laikotarpis_nuo laikotarpis_iki  \\\n",
       "30361  PELNO (NUOSTOLIŲ) ATASKAITA (Trumpa)      2019-01-01      2019-12-31   \n",
       "97677           PELNO (NUOSTOLIŲ) ATASKAITA      2020-01-01      2020-12-31   \n",
       "\n",
       "         reg_date  pelnas_pries_apmokestinima  grynasis_pelnas  \\\n",
       "30361  2020-10-27                         NaN          13076.0   \n",
       "97677  2021-04-22                     20973.0          19921.0   \n",
       "\n",
       "       pardavimo_pajamos formavimo_data  \n",
       "30361           218398.0     2022-12-01  \n",
       "97677           167238.0     2022-12-01  "
      ]
     },
     "execution_count": 12,
     "metadata": {},
     "output_type": "execute_result"
    }
   ],
   "source": [
    "df_all_nuotoliu.sample(2)"
   ]
  },
  {
   "cell_type": "markdown",
   "id": "7385b5b1",
   "metadata": {},
   "source": [
    "Balanso ataskaitų duomenys sudaryti iš <font color='red'>juridinio asmens, formos, statuso, ataskaitos rūšies, FA dokumentų rinkinio kodų bei pavadinimų, finansinių metų datos pradžios ir pabaigos, FA dokumento registravimo datos, FA ataskaitos, rodiklio reikšmės eurais, ir FA rodiklio ilgalaikio ir trumpalaikio turto reikšmių.</font>"
   ]
  },
  {
   "cell_type": "markdown",
   "id": "72631b9b",
   "metadata": {
    "ExecuteTime": {
     "end_time": "2022-12-05T19:35:49.477895Z",
     "start_time": "2022-12-05T19:35:49.423099Z"
    }
   },
   "source": [
    "Nuostolių ataskaitų duomenys sudaryti iš <font color='red'>juridinio asmens, formos, statuso, ataskaitos rūšies, FA dokumentų rinkinio kodų bei pavadinimų, finansinių metų datos pradžios ir pabaigos, FA dokumento registravimo datos, FA rodiklio prieš apmokestinimą reikšmės eurais, ir FA rodiklio grynojo pelno ir pardavimų pajamų turto reikšmių.</font>"
   ]
  },
  {
   "attachments": {},
   "cell_type": "markdown",
   "id": "ae155ed3",
   "metadata": {},
   "source": [
    "<font color='red'> Erikas Švažas: \n",
    "Puiki README formatavimo praktiką naudoti HTML žinias! \n",
    "Kad geriau suprasti skirtingus duomenų laukus, galime vadovautis Registrų centro pateiktomis *\"Duomenų rinkinio struktūros\"*. Importavimas nėra parodytas, bet vertės gautos, todėl maksimalus taškų skaičius.\n",
    "</font>"
   ]
  },
  {
   "cell_type": "markdown",
   "id": "f7ac130b",
   "metadata": {},
   "source": [
    "b."
   ]
  },
  {
   "cell_type": "code",
   "execution_count": 13,
   "id": "9e247fb5",
   "metadata": {
    "ExecuteTime": {
     "end_time": "2022-12-08T16:01:42.379382Z",
     "start_time": "2022-12-08T16:01:41.822084Z"
    },
    "scrolled": true
   },
   "outputs": [
    {
     "name": "stdout",
     "output_type": "stream",
     "text": [
      "<class 'pandas.core.frame.DataFrame'>\n",
      "Int64Index: 227168 entries, 0 to 120849\n",
      "Data columns (total 18 columns):\n",
      " #   Column                        Non-Null Count   Dtype  \n",
      "---  ------                        --------------   -----  \n",
      " 0   obj_kodas                     227168 non-null  int64  \n",
      " 1   obj_pav                       227168 non-null  object \n",
      " 2   form_kodas                    227168 non-null  int64  \n",
      " 3   form_pav                      227168 non-null  object \n",
      " 4   stat_statusas                 227168 non-null  int64  \n",
      " 5   stat_pav                      227168 non-null  object \n",
      " 6   template_id                   227168 non-null  object \n",
      " 7   template_name                 227168 non-null  object \n",
      " 8   standard_id                   227168 non-null  object \n",
      " 9   standard_name                 227168 non-null  object \n",
      " 10  laikotarpis_nuo               227168 non-null  object \n",
      " 11  laikotarpis_iki               227168 non-null  object \n",
      " 12  reg_date                      227168 non-null  object \n",
      " 13  nuosavas_kapitalas            225950 non-null  float64\n",
      " 14  mok_sumos_ir_isipareigojimai  193854 non-null  float64\n",
      " 15  ilgalaikis_turtas             223897 non-null  float64\n",
      " 16  trumpalaikis_turtas           223771 non-null  float64\n",
      " 17  formavimo_data                227168 non-null  object \n",
      "dtypes: float64(4), int64(3), object(11)\n",
      "memory usage: 32.9+ MB\n"
     ]
    }
   ],
   "source": [
    "df_all_balanso.info()"
   ]
  },
  {
   "cell_type": "code",
   "execution_count": 14,
   "id": "b2199bea",
   "metadata": {
    "ExecuteTime": {
     "end_time": "2022-12-08T16:01:43.720476Z",
     "start_time": "2022-12-08T16:01:43.245583Z"
    }
   },
   "outputs": [
    {
     "name": "stdout",
     "output_type": "stream",
     "text": [
      "<class 'pandas.core.frame.DataFrame'>\n",
      "Int64Index: 206843 entries, 0 to 110226\n",
      "Data columns (total 17 columns):\n",
      " #   Column                      Non-Null Count   Dtype  \n",
      "---  ------                      --------------   -----  \n",
      " 0   obj_kodas                   206843 non-null  int64  \n",
      " 1   obj_pav                     206843 non-null  object \n",
      " 2   form_kodas                  206843 non-null  int64  \n",
      " 3   form_pav                    206843 non-null  object \n",
      " 4   stat_statusas               206843 non-null  int64  \n",
      " 5   stat_pav                    206843 non-null  object \n",
      " 6   template_id                 206843 non-null  object \n",
      " 7   template_name               206843 non-null  object \n",
      " 8   standard_id                 206843 non-null  object \n",
      " 9   standard_name               206843 non-null  object \n",
      " 10  laikotarpis_nuo             206843 non-null  object \n",
      " 11  laikotarpis_iki             206843 non-null  object \n",
      " 12  reg_date                    206843 non-null  object \n",
      " 13  pelnas_pries_apmokestinima  141723 non-null  float64\n",
      " 14  grynasis_pelnas             195450 non-null  float64\n",
      " 15  pardavimo_pajamos           179892 non-null  float64\n",
      " 16  formavimo_data              206843 non-null  object \n",
      "dtypes: float64(3), int64(3), object(11)\n",
      "memory usage: 28.4+ MB\n"
     ]
    }
   ],
   "source": [
    "df_all_nuotoliu.info()"
   ]
  },
  {
   "cell_type": "markdown",
   "id": "6265a8a3",
   "metadata": {
    "ExecuteTime": {
     "end_time": "2022-12-05T16:58:58.755010Z",
     "start_time": "2022-12-05T16:58:58.738656Z"
    }
   },
   "source": [
    "Balanso lentelėje yra <font color='red'>17 reiškmių</font>\n",
    "Nuostalių lentelėje yra <font color='red'>16 reiškmių</font>"
   ]
  },
  {
   "cell_type": "markdown",
   "id": "4055a212",
   "metadata": {},
   "source": [
    "<font color='red'> Erikas Švažas: \n",
    "\n",
    "Šiuo atveju labiau tiktų .shape() fcija - požymių ir reikšmių skaičius vienoje vietoje.\n",
    "</font> "
   ]
  },
  {
   "cell_type": "markdown",
   "id": "6c2b7923",
   "metadata": {},
   "source": [
    "c."
   ]
  },
  {
   "cell_type": "markdown",
   "id": "b575ad4e",
   "metadata": {
    "ExecuteTime": {
     "end_time": "2022-12-05T16:54:24.502820Z",
     "start_time": "2022-12-05T16:54:24.471150Z"
    }
   },
   "source": [
    "Balanso duomenyse iš viso yra <font color='red'>9 sveikųjų skaičių (integer) reikšmės, 5 objektinės (object, nots registros pateiktame dokumente rašo, kad string) reikšmės ir 3 slankiojantys skaičiai/datos(float)</font>"
   ]
  },
  {
   "cell_type": "markdown",
   "id": "409bf3cb",
   "metadata": {
    "ExecuteTime": {
     "end_time": "2022-12-05T19:39:21.155264Z",
     "start_time": "2022-12-05T19:39:21.126692Z"
    }
   },
   "source": [
    "Nuostolio duomenyse iš viso yra <font color='red'>8 sveikųjų skaičių (integer) reikšmės, 5 objektinės (object, nots registros pateiktame dokumente rašo, kad string) reikšmės ir 3 slankiojantys skaičiai/datos(float)</font>"
   ]
  },
  {
   "cell_type": "markdown",
   "id": "d0c502de",
   "metadata": {
    "ExecuteTime": {
     "end_time": "2022-12-05T16:59:17.092957Z",
     "start_time": "2022-12-05T16:59:17.073165Z"
    }
   },
   "source": [
    "d."
   ]
  },
  {
   "attachments": {},
   "cell_type": "markdown",
   "id": "546714b3",
   "metadata": {},
   "source": [
    "Objektinis duomenų tipas nebūtinai bus vien tik žodinis, jis gali įtraukti ir sveikus skaičius (integer) ir slankiojančius skaičius (float), tuo tarpu žodinis duomenų tipas bus traktuojamas kaip žodžiai, sakiniai.\n",
    "\n",
    "\n",
    "<font color='red'> Erikas Švažas: \n",
    "\n",
    "Taip, teisingai. Dar pridėčiau, kad *everything is an object in Python* ir jei *Pandas* negali atpažinti duomenų tipo (ar tai integer ar string), by default bus *object*. Kiekvineas objektas turės skirtingas funkcijas ir savybes - pavyzdžiui norint naudoti string tipui būdingas fcijas .str.contains() reikės pradžioje atlikti konvertavimą į šį duomenų tipą.\n",
    "</font> "
   ]
  },
  {
   "cell_type": "markdown",
   "id": "6e2fb56a",
   "metadata": {},
   "source": [
    "e."
   ]
  },
  {
   "cell_type": "code",
   "execution_count": 15,
   "id": "2df7d8fb",
   "metadata": {
    "ExecuteTime": {
     "end_time": "2022-12-08T16:01:48.959572Z",
     "start_time": "2022-12-08T16:01:47.901741Z"
    }
   },
   "outputs": [
    {
     "name": "stdout",
     "output_type": "stream",
     "text": [
      "2020 duomenų nežinomieji: 41200\n",
      "2021 duomenų nežinomieji: 103464\n"
     ]
    }
   ],
   "source": [
    "print(f'2020 duomenų nežinomieji: {df_all_balanso.isna().sum().sum()}')\n",
    "print(f'2021 duomenų nežinomieji: {df_all_nuotoliu.isna().sum().sum()}')"
   ]
  },
  {
   "cell_type": "markdown",
   "id": "9cef1c07",
   "metadata": {
    "ExecuteTime": {
     "end_time": "2022-12-05T17:16:40.853826Z",
     "start_time": "2022-12-05T17:16:40.825182Z"
    }
   },
   "source": [
    "Daugiausiai nežinomų verčių turi <font color='red'>2021</font> metų duomenys"
   ]
  },
  {
   "cell_type": "code",
   "execution_count": 16,
   "id": "0ad3e7d8",
   "metadata": {
    "ExecuteTime": {
     "end_time": "2022-12-08T16:01:51.609520Z",
     "start_time": "2022-12-08T16:01:51.101392Z"
    }
   },
   "outputs": [
    {
     "data": {
      "text/plain": [
       "obj_kodas                           0\n",
       "obj_pav                             0\n",
       "form_kodas                          0\n",
       "form_pav                            0\n",
       "stat_statusas                       0\n",
       "stat_pav                            0\n",
       "template_id                         0\n",
       "template_name                       0\n",
       "standard_id                         0\n",
       "standard_name                       0\n",
       "laikotarpis_nuo                     0\n",
       "laikotarpis_iki                     0\n",
       "reg_date                            0\n",
       "nuosavas_kapitalas               1218\n",
       "mok_sumos_ir_isipareigojimai    33314\n",
       "ilgalaikis_turtas                3271\n",
       "trumpalaikis_turtas              3397\n",
       "formavimo_data                      0\n",
       "dtype: int64"
      ]
     },
     "execution_count": 16,
     "metadata": {},
     "output_type": "execute_result"
    }
   ],
   "source": [
    "df_all_balanso.isna().sum()"
   ]
  },
  {
   "cell_type": "markdown",
   "id": "a9762e03",
   "metadata": {},
   "source": [
    "Daugiausiai nežinomųjų randama juridinių asmenų mokestiniuose, turto ir kapitalo duomenyjse"
   ]
  },
  {
   "cell_type": "code",
   "execution_count": 17,
   "id": "c3688624",
   "metadata": {
    "ExecuteTime": {
     "end_time": "2022-12-08T16:01:53.180704Z",
     "start_time": "2022-12-08T16:01:52.691365Z"
    },
    "scrolled": true
   },
   "outputs": [
    {
     "data": {
      "text/plain": [
       "obj_kodas                         0\n",
       "obj_pav                           0\n",
       "form_kodas                        0\n",
       "form_pav                          0\n",
       "stat_statusas                     0\n",
       "stat_pav                          0\n",
       "template_id                       0\n",
       "template_name                     0\n",
       "standard_id                       0\n",
       "standard_name                     0\n",
       "laikotarpis_nuo                   0\n",
       "laikotarpis_iki                   0\n",
       "reg_date                          0\n",
       "pelnas_pries_apmokestinima    65120\n",
       "grynasis_pelnas               11393\n",
       "pardavimo_pajamos             26951\n",
       "formavimo_data                    0\n",
       "dtype: int64"
      ]
     },
     "execution_count": 17,
     "metadata": {},
     "output_type": "execute_result"
    }
   ],
   "source": [
    "df_all_nuotoliu.isna().sum()"
   ]
  },
  {
   "cell_type": "markdown",
   "id": "de2b5f03",
   "metadata": {
    "ExecuteTime": {
     "end_time": "2022-12-05T19:42:07.242353Z",
     "start_time": "2022-12-05T19:42:07.216954Z"
    }
   },
   "source": [
    "Daugiausiai nežinomųjų randama rodikliuose prieš pelno apmokęstinimą, grynojo pelno ir pardavimų pajamose"
   ]
  },
  {
   "cell_type": "markdown",
   "id": "ccda843c",
   "metadata": {},
   "source": [
    "f."
   ]
  },
  {
   "cell_type": "code",
   "execution_count": 18,
   "id": "7f1b294f",
   "metadata": {
    "ExecuteTime": {
     "end_time": "2022-12-08T16:01:56.249478Z",
     "start_time": "2022-12-08T16:01:54.512643Z"
    }
   },
   "outputs": [
    {
     "name": "stdout",
     "output_type": "stream",
     "text": [
      "2020 pasikartojantys duomenys: 0\n",
      "2021 pasikartojantys duomenys: 0\n"
     ]
    }
   ],
   "source": [
    "print(f'2020 pasikartojantys duomenys: {df_all_balanso.duplicated().sum()}')\n",
    "print(f'2021 pasikartojantys duomenys: {df_all_nuotoliu.duplicated().sum()}')"
   ]
  },
  {
   "cell_type": "markdown",
   "id": "72ef5790",
   "metadata": {},
   "source": [
    "Nei viena lentelė neturi pasikartojančių eilutčių"
   ]
  },
  {
   "cell_type": "markdown",
   "id": "14f39288",
   "metadata": {
    "ExecuteTime": {
     "end_time": "2022-12-07T15:44:47.987474Z",
     "start_time": "2022-12-07T15:44:47.943155Z"
    }
   },
   "source": [
    "i. obj_kodas"
   ]
  },
  {
   "attachments": {},
   "cell_type": "markdown",
   "id": "2f435b97",
   "metadata": {},
   "source": [
    "\n",
    "<font color='red'> Erikas Švažas: \n",
    "Papildomai reikia įtraukti *laikotarpis_nuo*, nes *obj_kodas* pasikartoja [-0.15taško]\n",
    "</font> "
   ]
  },
  {
   "cell_type": "markdown",
   "id": "102f843a",
   "metadata": {},
   "source": [
    "&nbsp;"
   ]
  },
  {
   "cell_type": "markdown",
   "id": "4a80867a",
   "metadata": {},
   "source": [
    "&nbsp;"
   ]
  },
  {
   "cell_type": "markdown",
   "id": "96d9ed5c",
   "metadata": {
    "ExecuteTime": {
     "end_time": "2022-12-05T17:26:03.083698Z",
     "start_time": "2022-12-05T17:26:03.054937Z"
    }
   },
   "source": [
    "&nbsp;"
   ]
  },
  {
   "cell_type": "markdown",
   "id": "d3cbc586",
   "metadata": {},
   "source": [
    "&nbsp;"
   ]
  },
  {
   "cell_type": "markdown",
   "id": "9611eb9b",
   "metadata": {
    "ExecuteTime": {
     "end_time": "2022-12-05T17:24:51.883043Z",
     "start_time": "2022-12-05T17:24:51.869026Z"
    }
   },
   "source": [
    "<p style=\"font-size:24px;\"> Antra dalis </p>"
   ]
  },
  {
   "attachments": {},
   "cell_type": "markdown",
   "id": "77c1f013",
   "metadata": {},
   "source": [
    "<font color=\"red\"> Erikas Švažas\n",
    "\n",
    "Ateityje gali praversti .str.contains(case=?) argumentas\n",
    "\n",
    "</font>"
   ]
  },
  {
   "cell_type": "markdown",
   "id": "8480ad7e",
   "metadata": {},
   "source": [
    "### "
   ]
  },
  {
   "cell_type": "code",
   "execution_count": 19,
   "id": "d0272dce",
   "metadata": {
    "ExecuteTime": {
     "end_time": "2022-12-08T16:02:02.130523Z",
     "start_time": "2022-12-08T16:02:01.990985Z"
    },
    "scrolled": true
   },
   "outputs": [
    {
     "data": {
      "text/plain": [
       "array(['UAB \"Thermo Fisher Scientific Vector Holdings\"',\n",
       "       'UAB \"Thermo Fisher Scientific Baltics\"',\n",
       "       'UAB \"Thermo Fisher Scientific Vector Senior Holdings I\"',\n",
       "       'UAB \"Thermo Fisher Scientific Vector Senior Holdings II\"'],\n",
       "      dtype=object)"
      ]
     },
     "execution_count": 19,
     "metadata": {},
     "output_type": "execute_result"
    }
   ],
   "source": [
    "df_all_balanso['obj_pav'].loc[df_all_balanso['obj_pav'].str.contains('Thermo Fisher', regex=False)].unique()"
   ]
  },
  {
   "cell_type": "code",
   "execution_count": 23,
   "id": "af662949",
   "metadata": {
    "ExecuteTime": {
     "end_time": "2022-12-08T16:02:03.149241Z",
     "start_time": "2022-12-08T16:02:03.005580Z"
    }
   },
   "outputs": [
    {
     "data": {
      "text/html": [
       "<div>\n",
       "<style scoped>\n",
       "    .dataframe tbody tr th:only-of-type {\n",
       "        vertical-align: middle;\n",
       "    }\n",
       "\n",
       "    .dataframe tbody tr th {\n",
       "        vertical-align: top;\n",
       "    }\n",
       "\n",
       "    .dataframe thead th {\n",
       "        text-align: right;\n",
       "    }\n",
       "</style>\n",
       "<table border=\"1\" class=\"dataframe\">\n",
       "  <thead>\n",
       "    <tr style=\"text-align: right;\">\n",
       "      <th></th>\n",
       "      <th>obj_kodas</th>\n",
       "      <th>obj_pav</th>\n",
       "      <th>form_kodas</th>\n",
       "      <th>form_pav</th>\n",
       "      <th>stat_statusas</th>\n",
       "      <th>stat_pav</th>\n",
       "      <th>template_id</th>\n",
       "      <th>template_name</th>\n",
       "      <th>standard_id</th>\n",
       "      <th>standard_name</th>\n",
       "      <th>laikotarpis_nuo</th>\n",
       "      <th>laikotarpis_iki</th>\n",
       "      <th>reg_date</th>\n",
       "      <th>nuosavas_kapitalas</th>\n",
       "      <th>mok_sumos_ir_isipareigojimai</th>\n",
       "      <th>ilgalaikis_turtas</th>\n",
       "      <th>trumpalaikis_turtas</th>\n",
       "      <th>formavimo_data</th>\n",
       "    </tr>\n",
       "  </thead>\n",
       "  <tbody>\n",
       "    <tr>\n",
       "      <th>78921</th>\n",
       "      <td>124636456</td>\n",
       "      <td>UŽDAROJI AKCINĖ BENDROVĖ \"MEDIASKOPAS\"</td>\n",
       "      <td>310</td>\n",
       "      <td>Uždaroji akcinė bendrovė</td>\n",
       "      <td>0</td>\n",
       "      <td>Teisinis stat neįregistruotas</td>\n",
       "      <td>FS0129</td>\n",
       "      <td>Mažų ir labai mažų įmonių, netaikančių išimčių...</td>\n",
       "      <td>BST124</td>\n",
       "      <td>BALANSAS (Sutrumpintas)</td>\n",
       "      <td>2019-05-01</td>\n",
       "      <td>2020-04-30</td>\n",
       "      <td>2020-10-07</td>\n",
       "      <td>307249.0</td>\n",
       "      <td>146973.0</td>\n",
       "      <td>3811.0</td>\n",
       "      <td>447681.0</td>\n",
       "      <td>2022-12-01</td>\n",
       "    </tr>\n",
       "    <tr>\n",
       "      <th>109725</th>\n",
       "      <td>124636456</td>\n",
       "      <td>UŽDAROJI AKCINĖ BENDROVĖ \"MEDIASKOPAS\"</td>\n",
       "      <td>310</td>\n",
       "      <td>Uždaroji akcinė bendrovė</td>\n",
       "      <td>0</td>\n",
       "      <td>Teisinis stat neįregistruotas</td>\n",
       "      <td>FS0129</td>\n",
       "      <td>Mažų ir labai mažų įmonių, netaikančių išimčių...</td>\n",
       "      <td>BST124</td>\n",
       "      <td>BALANSAS (Sutrumpintas)</td>\n",
       "      <td>2020-05-01</td>\n",
       "      <td>2021-04-30</td>\n",
       "      <td>2021-10-15</td>\n",
       "      <td>341662.0</td>\n",
       "      <td>173946.0</td>\n",
       "      <td>2886.0</td>\n",
       "      <td>504877.0</td>\n",
       "      <td>2022-12-01</td>\n",
       "    </tr>\n",
       "  </tbody>\n",
       "</table>\n",
       "</div>"
      ],
      "text/plain": [
       "        obj_kodas                                 obj_pav  form_kodas  \\\n",
       "78921   124636456  UŽDAROJI AKCINĖ BENDROVĖ \"MEDIASKOPAS\"         310   \n",
       "109725  124636456  UŽDAROJI AKCINĖ BENDROVĖ \"MEDIASKOPAS\"         310   \n",
       "\n",
       "                        form_pav  stat_statusas  \\\n",
       "78921   Uždaroji akcinė bendrovė              0   \n",
       "109725  Uždaroji akcinė bendrovė              0   \n",
       "\n",
       "                             stat_pav template_id  \\\n",
       "78921   Teisinis stat neįregistruotas      FS0129   \n",
       "109725  Teisinis stat neįregistruotas      FS0129   \n",
       "\n",
       "                                            template_name standard_id  \\\n",
       "78921   Mažų ir labai mažų įmonių, netaikančių išimčių...      BST124   \n",
       "109725  Mažų ir labai mažų įmonių, netaikančių išimčių...      BST124   \n",
       "\n",
       "                  standard_name laikotarpis_nuo laikotarpis_iki    reg_date  \\\n",
       "78921   BALANSAS (Sutrumpintas)      2019-05-01      2020-04-30  2020-10-07   \n",
       "109725  BALANSAS (Sutrumpintas)      2020-05-01      2021-04-30  2021-10-15   \n",
       "\n",
       "        nuosavas_kapitalas  mok_sumos_ir_isipareigojimai  ilgalaikis_turtas  \\\n",
       "78921             307249.0                      146973.0             3811.0   \n",
       "109725            341662.0                      173946.0             2886.0   \n",
       "\n",
       "        trumpalaikis_turtas formavimo_data  \n",
       "78921              447681.0     2022-12-01  \n",
       "109725             504877.0     2022-12-01  "
      ]
     },
     "execution_count": 23,
     "metadata": {},
     "output_type": "execute_result"
    }
   ],
   "source": [
    "df_all_balanso.loc[df_all_balanso['obj_pav'].str.contains('MEDIASKOPA', regex=False)]"
   ]
  },
  {
   "cell_type": "markdown",
   "id": "a2e1b9a0",
   "metadata": {
    "ExecuteTime": {
     "end_time": "2022-12-05T17:37:33.304586Z",
     "start_time": "2022-12-05T17:37:33.287822Z"
    }
   },
   "source": [
    "4 įmonės susįjusios su Thermo Fisher"
   ]
  },
  {
   "attachments": {},
   "cell_type": "markdown",
   "id": "9cdec117",
   "metadata": {},
   "source": [
    "<font color=\"red\"> Erikas Švažas:\n",
    "Puikiai, kad pastebėjote jog gali būti tiek UAB, tiek ilgasis pavadinimas (Uždaroji akcinė bendrovė).Puikus str.contains() pasirinkimas!\n",
    "\n",
    "</font>"
   ]
  },
  {
   "cell_type": "markdown",
   "id": "8d5bb8d8",
   "metadata": {},
   "source": [
    "### "
   ]
  },
  {
   "cell_type": "code",
   "execution_count": 24,
   "id": "f65c21c4",
   "metadata": {
    "ExecuteTime": {
     "end_time": "2022-12-08T16:02:06.168408Z",
     "start_time": "2022-12-08T16:02:05.455294Z"
    }
   },
   "outputs": [],
   "source": [
    "uab_strings_search = ['UAB', 'Uždaroji akcinė bendrovė']\n",
    "mb_strings_search = ['MB', 'Mažoji bendrija']\n",
    "uab_count = len(df_all_balanso['obj_pav'].loc[df_all_balanso['obj_pav'].str.contains('|'.join(uab_strings_search))].unique())\n",
    "mb_count = len(df_all_balanso['obj_pav'][df_all_balanso['obj_pav'].str.contains('|'.join(mb_strings_search))].unique())\n",
    "uab_count_form = len(df_all_balanso[df_all_balanso['form_pav'] == 'Uždaroji akcinė bendrovė']['obj_pav'].unique())\n",
    "mb_count_form = len(df_all_balanso[df_all_balanso['form_pav'] == 'Mažoji bendrija']['obj_pav'].unique())"
   ]
  },
  {
   "cell_type": "code",
   "execution_count": 25,
   "id": "26e3274e",
   "metadata": {
    "ExecuteTime": {
     "end_time": "2022-12-08T16:02:06.849161Z",
     "start_time": "2022-12-08T16:02:06.831545Z"
    }
   },
   "outputs": [
    {
     "name": "stdout",
     "output_type": "stream",
     "text": [
      "Gauto UAB bendrovių rezultato tikslumas: 99.0%\n"
     ]
    }
   ],
   "source": [
    "uab_reconstruction = round((uab_count * 100) / uab_count_form, 1)\n",
    "print(f'Gauto UAB bendrovių rezultato tikslumas: {uab_reconstruction}%')"
   ]
  },
  {
   "cell_type": "code",
   "execution_count": 26,
   "id": "9bfeabed",
   "metadata": {
    "ExecuteTime": {
     "end_time": "2022-12-08T16:02:07.619295Z",
     "start_time": "2022-12-08T16:02:07.606275Z"
    }
   },
   "outputs": [
    {
     "name": "stdout",
     "output_type": "stream",
     "text": [
      "Gauto UAB bendrovių rezultato tikslumas: 100.7%\n"
     ]
    }
   ],
   "source": [
    "mb_reconstruction = round((mb_count * 100) / mb_count_form,1)\n",
    "print(f'Gauto UAB bendrovių rezultato tikslumas: {mb_reconstruction}%')"
   ]
  },
  {
   "cell_type": "markdown",
   "id": "1c29a3bb",
   "metadata": {
    "ExecuteTime": {
     "end_time": "2022-12-05T18:16:14.149850Z",
     "start_time": "2022-12-05T18:16:14.133104Z"
    }
   },
   "source": [
    "### "
   ]
  },
  {
   "cell_type": "code",
   "execution_count": 27,
   "id": "8cba3d4b",
   "metadata": {
    "ExecuteTime": {
     "end_time": "2022-12-08T16:02:15.499903Z",
     "start_time": "2022-12-08T16:02:15.421286Z"
    }
   },
   "outputs": [],
   "source": [
    "mean_of_capital = df_all_balanso.groupby(['form_pav'])['nuosavas_kapitalas'].mean()"
   ]
  },
  {
   "cell_type": "code",
   "execution_count": 28,
   "id": "93e21888",
   "metadata": {
    "ExecuteTime": {
     "end_time": "2022-12-08T16:02:17.317431Z",
     "start_time": "2022-12-08T16:02:17.291692Z"
    }
   },
   "outputs": [
    {
     "data": {
      "text/plain": [
       "form_pav\n",
       "Akcinė bendrovė                             4.139755e+07\n",
       "Asociacija                                  3.629303e+04\n",
       "Bendrija                                    4.739000e+03\n",
       "Biudžetinė įstaiga                          1.410740e+05\n",
       "Individuali įmonė                           1.246245e+05\n",
       "Komanditinė ūkinė bendrija                  3.251404e+06\n",
       "Kooperatinė bendrovė                        6.773609e+05\n",
       "Labdaros ir paramos fondas                  3.124865e+04\n",
       "Lietuvos prekyb.,pramon. rūmų asociacija    6.449100e+04\n",
       "Mažoji bendrija                             1.537167e+04\n",
       "Savivaldybės įmonė                          3.431537e+06\n",
       "Tikroji ūkinė bendrija                      2.528260e+05\n",
       "Uždaroji akcinė bendrovė                    6.288160e+05\n",
       "Užsienio juridinio asmens filialas          3.368923e+06\n",
       "Valstybės įmonė                             1.748695e+08\n",
       "Viešoji įstaiga                             2.621290e+04\n",
       "Žemės ūkio bendrovė                         1.607303e+06\n",
       "Name: nuosavas_kapitalas, dtype: float64"
      ]
     },
     "execution_count": 28,
     "metadata": {},
     "output_type": "execute_result"
    }
   ],
   "source": [
    "mean_of_capital"
   ]
  },
  {
   "cell_type": "code",
   "execution_count": 29,
   "id": "443844bf",
   "metadata": {
    "ExecuteTime": {
     "end_time": "2022-12-08T16:02:18.225472Z",
     "start_time": "2022-12-08T16:02:18.161656Z"
    }
   },
   "outputs": [],
   "source": [
    "mean_of_loss = df_all_nuotoliu.groupby(['form_pav'])['pelnas_pries_apmokestinima'].mean()"
   ]
  },
  {
   "cell_type": "code",
   "execution_count": 42,
   "id": "a584fa1c",
   "metadata": {
    "ExecuteTime": {
     "end_time": "2022-12-08T16:02:18.969571Z",
     "start_time": "2022-12-08T16:02:18.951739Z"
    },
    "scrolled": true
   },
   "outputs": [
    {
     "data": {
      "text/plain": [
       "form_pav\n",
       "Akcinė bendrovė                             2.894379e+06\n",
       "Asociacija                                 -2.975732e+02\n",
       "Biudžetinė įstaiga                          1.624200e+04\n",
       "Individuali įmonė                           1.500832e+04\n",
       "Komanditinė ūkinė bendrija                  3.292979e+05\n",
       "Kooperatinė bendrovė                        4.692872e+04\n",
       "Labdaros ir paramos fondas                  5.445789e+02\n",
       "Lietuvos prekyb.,pramon. rūmų asociacija             NaN\n",
       "Mažoji bendrija                             7.051326e+03\n",
       "Savivaldybės įmonė                          3.978084e+04\n",
       "Tikroji ūkinė bendrija                     -9.874190e+03\n",
       "Uždaroji akcinė bendrovė                    1.081216e+05\n",
       "Užsienio juridinio asmens filialas         -4.722951e+06\n",
       "Valstybės įmonė                             4.190054e+06\n",
       "Viešoji įstaiga                             5.904130e+03\n",
       "Žemės ūkio bendrovė                         1.065219e+05\n",
       "Name: pelnas_pries_apmokestinima, dtype: float64"
      ]
     },
     "execution_count": 42,
     "metadata": {},
     "output_type": "execute_result"
    }
   ],
   "source": [
    "mean_of_loss"
   ]
  },
  {
   "cell_type": "markdown",
   "id": "cbf14b78",
   "metadata": {
    "ExecuteTime": {
     "end_time": "2022-12-06T16:13:26.631538Z",
     "start_time": "2022-12-06T16:13:26.609110Z"
    }
   },
   "source": [
    "### "
   ]
  },
  {
   "cell_type": "code",
   "execution_count": 31,
   "id": "251be84b",
   "metadata": {
    "ExecuteTime": {
     "end_time": "2022-12-08T16:02:22.140727Z",
     "start_time": "2022-12-08T16:02:22.067883Z"
    }
   },
   "outputs": [],
   "source": [
    "median_of_capital = df_all_balanso.groupby(['form_pav'])['nuosavas_kapitalas'].median()"
   ]
  },
  {
   "cell_type": "code",
   "execution_count": 32,
   "id": "ab4d9115",
   "metadata": {
    "ExecuteTime": {
     "end_time": "2022-12-08T16:02:23.338731Z",
     "start_time": "2022-12-08T16:02:23.038915Z"
    }
   },
   "outputs": [],
   "source": [
    "bigger_capital = df_all_balanso.loc[(df_all_balanso['form_pav'].str.contains('Uždaroji akcinė bendrovė|Mažoji bendrija', regex=True )) & (df_all_balanso['nuosavas_kapitalas']>median_of_capital['Uždaroji akcinė bendrovė'])]"
   ]
  },
  {
   "cell_type": "code",
   "execution_count": 34,
   "id": "638a4ff4",
   "metadata": {
    "ExecuteTime": {
     "end_time": "2022-12-08T16:02:23.777331Z",
     "start_time": "2022-12-08T16:02:23.705746Z"
    }
   },
   "outputs": [
    {
     "data": {
      "text/html": [
       "<div>\n",
       "<style scoped>\n",
       "    .dataframe tbody tr th:only-of-type {\n",
       "        vertical-align: middle;\n",
       "    }\n",
       "\n",
       "    .dataframe tbody tr th {\n",
       "        vertical-align: top;\n",
       "    }\n",
       "\n",
       "    .dataframe thead th {\n",
       "        text-align: right;\n",
       "    }\n",
       "</style>\n",
       "<table border=\"1\" class=\"dataframe\">\n",
       "  <thead>\n",
       "    <tr style=\"text-align: right;\">\n",
       "      <th></th>\n",
       "      <th>obj_kodas</th>\n",
       "      <th>obj_pav</th>\n",
       "      <th>form_kodas</th>\n",
       "      <th>form_pav</th>\n",
       "      <th>stat_statusas</th>\n",
       "      <th>stat_pav</th>\n",
       "      <th>template_id</th>\n",
       "      <th>template_name</th>\n",
       "      <th>standard_id</th>\n",
       "      <th>standard_name</th>\n",
       "      <th>laikotarpis_nuo</th>\n",
       "      <th>laikotarpis_iki</th>\n",
       "      <th>reg_date</th>\n",
       "      <th>nuosavas_kapitalas</th>\n",
       "      <th>mok_sumos_ir_isipareigojimai</th>\n",
       "      <th>ilgalaikis_turtas</th>\n",
       "      <th>trumpalaikis_turtas</th>\n",
       "      <th>formavimo_data</th>\n",
       "    </tr>\n",
       "  </thead>\n",
       "  <tbody>\n",
       "    <tr>\n",
       "      <th>4</th>\n",
       "      <td>304512862</td>\n",
       "      <td>UAB \"Tedėja\"</td>\n",
       "      <td>310</td>\n",
       "      <td>Uždaroji akcinė bendrovė</td>\n",
       "      <td>0</td>\n",
       "      <td>Teisinis stat neįregistruotas</td>\n",
       "      <td>FS0129</td>\n",
       "      <td>Mažų ir labai mažų įmonių, netaikančių išimčių...</td>\n",
       "      <td>BST124</td>\n",
       "      <td>BALANSAS (Sutrumpintas)</td>\n",
       "      <td>2019-01-01</td>\n",
       "      <td>2019-12-31</td>\n",
       "      <td>2020-05-05</td>\n",
       "      <td>557480.0</td>\n",
       "      <td>19462.0</td>\n",
       "      <td>406399.0</td>\n",
       "      <td>170543.0</td>\n",
       "      <td>2022-12-01</td>\n",
       "    </tr>\n",
       "    <tr>\n",
       "      <th>6</th>\n",
       "      <td>304259900</td>\n",
       "      <td>UAB \"Algimta\"</td>\n",
       "      <td>310</td>\n",
       "      <td>Uždaroji akcinė bendrovė</td>\n",
       "      <td>10</td>\n",
       "      <td>Išregistruotas</td>\n",
       "      <td>FS0129</td>\n",
       "      <td>Mažų ir labai mažų įmonių, netaikančių išimčių...</td>\n",
       "      <td>BST124</td>\n",
       "      <td>BALANSAS (Sutrumpintas)</td>\n",
       "      <td>2019-01-01</td>\n",
       "      <td>2019-12-31</td>\n",
       "      <td>2020-05-29</td>\n",
       "      <td>696830.0</td>\n",
       "      <td>65998.0</td>\n",
       "      <td>190000.0</td>\n",
       "      <td>572599.0</td>\n",
       "      <td>2022-12-01</td>\n",
       "    </tr>\n",
       "    <tr>\n",
       "      <th>7</th>\n",
       "      <td>304085969</td>\n",
       "      <td>MB \"Mondri darbai\"</td>\n",
       "      <td>960</td>\n",
       "      <td>Mažoji bendrija</td>\n",
       "      <td>0</td>\n",
       "      <td>Teisinis stat neįregistruotas</td>\n",
       "      <td>FS0322</td>\n",
       "      <td>Mažųjų bendrijų finansinių ataskaitų rinkinys</td>\n",
       "      <td>BST217</td>\n",
       "      <td>BALANSAS (Neribotos civilinės atsakomybės juri...</td>\n",
       "      <td>2019-01-01</td>\n",
       "      <td>2019-12-31</td>\n",
       "      <td>2020-03-31</td>\n",
       "      <td>69338.0</td>\n",
       "      <td>NaN</td>\n",
       "      <td>21415.0</td>\n",
       "      <td>108796.0</td>\n",
       "      <td>2022-12-01</td>\n",
       "    </tr>\n",
       "    <tr>\n",
       "      <th>11</th>\n",
       "      <td>121783586</td>\n",
       "      <td>UAB \"Skauduva\"</td>\n",
       "      <td>310</td>\n",
       "      <td>Uždaroji akcinė bendrovė</td>\n",
       "      <td>0</td>\n",
       "      <td>Teisinis stat neįregistruotas</td>\n",
       "      <td>FS0129</td>\n",
       "      <td>Mažų ir labai mažų įmonių, netaikančių išimčių...</td>\n",
       "      <td>BST124</td>\n",
       "      <td>BALANSAS (Sutrumpintas)</td>\n",
       "      <td>2019-01-01</td>\n",
       "      <td>2019-12-31</td>\n",
       "      <td>2020-06-12</td>\n",
       "      <td>1188712.0</td>\n",
       "      <td>1413481.0</td>\n",
       "      <td>461305.0</td>\n",
       "      <td>2142207.0</td>\n",
       "      <td>2022-12-01</td>\n",
       "    </tr>\n",
       "    <tr>\n",
       "      <th>12</th>\n",
       "      <td>300621953</td>\n",
       "      <td>Uždaroji akcinė bendrovė \"Gamafondas\"</td>\n",
       "      <td>310</td>\n",
       "      <td>Uždaroji akcinė bendrovė</td>\n",
       "      <td>0</td>\n",
       "      <td>Teisinis stat neįregistruotas</td>\n",
       "      <td>FS0129</td>\n",
       "      <td>Mažų ir labai mažų įmonių, netaikančių išimčių...</td>\n",
       "      <td>BST123</td>\n",
       "      <td>BALANSAS</td>\n",
       "      <td>2019-01-01</td>\n",
       "      <td>2019-12-31</td>\n",
       "      <td>2020-05-26</td>\n",
       "      <td>10068479.0</td>\n",
       "      <td>6586089.0</td>\n",
       "      <td>16136731.0</td>\n",
       "      <td>516088.0</td>\n",
       "      <td>2022-12-01</td>\n",
       "    </tr>\n",
       "    <tr>\n",
       "      <th>...</th>\n",
       "      <td>...</td>\n",
       "      <td>...</td>\n",
       "      <td>...</td>\n",
       "      <td>...</td>\n",
       "      <td>...</td>\n",
       "      <td>...</td>\n",
       "      <td>...</td>\n",
       "      <td>...</td>\n",
       "      <td>...</td>\n",
       "      <td>...</td>\n",
       "      <td>...</td>\n",
       "      <td>...</td>\n",
       "      <td>...</td>\n",
       "      <td>...</td>\n",
       "      <td>...</td>\n",
       "      <td>...</td>\n",
       "      <td>...</td>\n",
       "      <td>...</td>\n",
       "    </tr>\n",
       "    <tr>\n",
       "      <th>120790</th>\n",
       "      <td>302525291</td>\n",
       "      <td>UAB \"Daikčiukas\"</td>\n",
       "      <td>310</td>\n",
       "      <td>Uždaroji akcinė bendrovė</td>\n",
       "      <td>0</td>\n",
       "      <td>Teisinis stat neįregistruotas</td>\n",
       "      <td>FS0129</td>\n",
       "      <td>Mažų ir labai mažų įmonių, netaikančių išimčių...</td>\n",
       "      <td>BST124</td>\n",
       "      <td>BALANSAS (Sutrumpintas)</td>\n",
       "      <td>2020-01-01</td>\n",
       "      <td>2020-12-31</td>\n",
       "      <td>2021-09-22</td>\n",
       "      <td>49841.0</td>\n",
       "      <td>33711.0</td>\n",
       "      <td>0.0</td>\n",
       "      <td>83516.0</td>\n",
       "      <td>2022-12-01</td>\n",
       "    </tr>\n",
       "    <tr>\n",
       "      <th>120806</th>\n",
       "      <td>305196545</td>\n",
       "      <td>UAB \"Cogastro\"</td>\n",
       "      <td>310</td>\n",
       "      <td>Uždaroji akcinė bendrovė</td>\n",
       "      <td>0</td>\n",
       "      <td>Teisinis stat neįregistruotas</td>\n",
       "      <td>FS0129</td>\n",
       "      <td>Mažų ir labai mažų įmonių, netaikančių išimčių...</td>\n",
       "      <td>BST124</td>\n",
       "      <td>BALANSAS (Sutrumpintas)</td>\n",
       "      <td>2020-01-01</td>\n",
       "      <td>2020-12-31</td>\n",
       "      <td>2021-04-16</td>\n",
       "      <td>32065.0</td>\n",
       "      <td>18666.0</td>\n",
       "      <td>0.0</td>\n",
       "      <td>53929.0</td>\n",
       "      <td>2022-12-01</td>\n",
       "    </tr>\n",
       "    <tr>\n",
       "      <th>120814</th>\n",
       "      <td>305262187</td>\n",
       "      <td>MB \"Dvi D\"</td>\n",
       "      <td>960</td>\n",
       "      <td>Mažoji bendrija</td>\n",
       "      <td>0</td>\n",
       "      <td>Teisinis stat neįregistruotas</td>\n",
       "      <td>FS0322</td>\n",
       "      <td>Mažųjų bendrijų finansinių ataskaitų rinkinys</td>\n",
       "      <td>BST217</td>\n",
       "      <td>BALANSAS (Neribotos civilinės atsakomybės juri...</td>\n",
       "      <td>2020-01-01</td>\n",
       "      <td>2020-12-31</td>\n",
       "      <td>2021-04-08</td>\n",
       "      <td>30857.0</td>\n",
       "      <td>NaN</td>\n",
       "      <td>0.0</td>\n",
       "      <td>32521.0</td>\n",
       "      <td>2022-12-01</td>\n",
       "    </tr>\n",
       "    <tr>\n",
       "      <th>120817</th>\n",
       "      <td>303093475</td>\n",
       "      <td>UAB \"Berklis\"</td>\n",
       "      <td>310</td>\n",
       "      <td>Uždaroji akcinė bendrovė</td>\n",
       "      <td>0</td>\n",
       "      <td>Teisinis stat neįregistruotas</td>\n",
       "      <td>FS0129</td>\n",
       "      <td>Mažų ir labai mažų įmonių, netaikančių išimčių...</td>\n",
       "      <td>BST124</td>\n",
       "      <td>BALANSAS (Sutrumpintas)</td>\n",
       "      <td>2020-01-01</td>\n",
       "      <td>2020-12-31</td>\n",
       "      <td>2021-04-21</td>\n",
       "      <td>26753.0</td>\n",
       "      <td>22196.0</td>\n",
       "      <td>2192.0</td>\n",
       "      <td>45632.0</td>\n",
       "      <td>2022-12-01</td>\n",
       "    </tr>\n",
       "    <tr>\n",
       "      <th>120829</th>\n",
       "      <td>305429608</td>\n",
       "      <td>MB Eldio</td>\n",
       "      <td>960</td>\n",
       "      <td>Mažoji bendrija</td>\n",
       "      <td>0</td>\n",
       "      <td>Teisinis stat neįregistruotas</td>\n",
       "      <td>FS0322</td>\n",
       "      <td>Mažųjų bendrijų finansinių ataskaitų rinkinys</td>\n",
       "      <td>BST217</td>\n",
       "      <td>BALANSAS (Neribotos civilinės atsakomybės juri...</td>\n",
       "      <td>2020-01-15</td>\n",
       "      <td>2020-12-31</td>\n",
       "      <td>2021-06-13</td>\n",
       "      <td>49001.0</td>\n",
       "      <td>NaN</td>\n",
       "      <td>723.0</td>\n",
       "      <td>79249.0</td>\n",
       "      <td>2022-12-01</td>\n",
       "    </tr>\n",
       "  </tbody>\n",
       "</table>\n",
       "<p>46463 rows × 18 columns</p>\n",
       "</div>"
      ],
      "text/plain": [
       "        obj_kodas                                obj_pav  form_kodas  \\\n",
       "4       304512862                           UAB \"Tedėja\"         310   \n",
       "6       304259900                          UAB \"Algimta\"         310   \n",
       "7       304085969                     MB \"Mondri darbai\"         960   \n",
       "11      121783586                         UAB \"Skauduva\"         310   \n",
       "12      300621953  Uždaroji akcinė bendrovė \"Gamafondas\"         310   \n",
       "...           ...                                    ...         ...   \n",
       "120790  302525291                       UAB \"Daikčiukas\"         310   \n",
       "120806  305196545                         UAB \"Cogastro\"         310   \n",
       "120814  305262187                             MB \"Dvi D\"         960   \n",
       "120817  303093475                          UAB \"Berklis\"         310   \n",
       "120829  305429608                               MB Eldio         960   \n",
       "\n",
       "                        form_pav  stat_statusas  \\\n",
       "4       Uždaroji akcinė bendrovė              0   \n",
       "6       Uždaroji akcinė bendrovė             10   \n",
       "7                Mažoji bendrija              0   \n",
       "11      Uždaroji akcinė bendrovė              0   \n",
       "12      Uždaroji akcinė bendrovė              0   \n",
       "...                          ...            ...   \n",
       "120790  Uždaroji akcinė bendrovė              0   \n",
       "120806  Uždaroji akcinė bendrovė              0   \n",
       "120814           Mažoji bendrija              0   \n",
       "120817  Uždaroji akcinė bendrovė              0   \n",
       "120829           Mažoji bendrija              0   \n",
       "\n",
       "                             stat_pav template_id  \\\n",
       "4       Teisinis stat neįregistruotas      FS0129   \n",
       "6                      Išregistruotas      FS0129   \n",
       "7       Teisinis stat neįregistruotas      FS0322   \n",
       "11      Teisinis stat neįregistruotas      FS0129   \n",
       "12      Teisinis stat neįregistruotas      FS0129   \n",
       "...                               ...         ...   \n",
       "120790  Teisinis stat neįregistruotas      FS0129   \n",
       "120806  Teisinis stat neįregistruotas      FS0129   \n",
       "120814  Teisinis stat neįregistruotas      FS0322   \n",
       "120817  Teisinis stat neįregistruotas      FS0129   \n",
       "120829  Teisinis stat neįregistruotas      FS0322   \n",
       "\n",
       "                                            template_name standard_id  \\\n",
       "4       Mažų ir labai mažų įmonių, netaikančių išimčių...      BST124   \n",
       "6       Mažų ir labai mažų įmonių, netaikančių išimčių...      BST124   \n",
       "7           Mažųjų bendrijų finansinių ataskaitų rinkinys      BST217   \n",
       "11      Mažų ir labai mažų įmonių, netaikančių išimčių...      BST124   \n",
       "12      Mažų ir labai mažų įmonių, netaikančių išimčių...      BST123   \n",
       "...                                                   ...         ...   \n",
       "120790  Mažų ir labai mažų įmonių, netaikančių išimčių...      BST124   \n",
       "120806  Mažų ir labai mažų įmonių, netaikančių išimčių...      BST124   \n",
       "120814      Mažųjų bendrijų finansinių ataskaitų rinkinys      BST217   \n",
       "120817  Mažų ir labai mažų įmonių, netaikančių išimčių...      BST124   \n",
       "120829      Mažųjų bendrijų finansinių ataskaitų rinkinys      BST217   \n",
       "\n",
       "                                            standard_name laikotarpis_nuo  \\\n",
       "4                                 BALANSAS (Sutrumpintas)      2019-01-01   \n",
       "6                                 BALANSAS (Sutrumpintas)      2019-01-01   \n",
       "7       BALANSAS (Neribotos civilinės atsakomybės juri...      2019-01-01   \n",
       "11                                BALANSAS (Sutrumpintas)      2019-01-01   \n",
       "12                                               BALANSAS      2019-01-01   \n",
       "...                                                   ...             ...   \n",
       "120790                            BALANSAS (Sutrumpintas)      2020-01-01   \n",
       "120806                            BALANSAS (Sutrumpintas)      2020-01-01   \n",
       "120814  BALANSAS (Neribotos civilinės atsakomybės juri...      2020-01-01   \n",
       "120817                            BALANSAS (Sutrumpintas)      2020-01-01   \n",
       "120829  BALANSAS (Neribotos civilinės atsakomybės juri...      2020-01-15   \n",
       "\n",
       "       laikotarpis_iki    reg_date  nuosavas_kapitalas  \\\n",
       "4           2019-12-31  2020-05-05            557480.0   \n",
       "6           2019-12-31  2020-05-29            696830.0   \n",
       "7           2019-12-31  2020-03-31             69338.0   \n",
       "11          2019-12-31  2020-06-12           1188712.0   \n",
       "12          2019-12-31  2020-05-26          10068479.0   \n",
       "...                ...         ...                 ...   \n",
       "120790      2020-12-31  2021-09-22             49841.0   \n",
       "120806      2020-12-31  2021-04-16             32065.0   \n",
       "120814      2020-12-31  2021-04-08             30857.0   \n",
       "120817      2020-12-31  2021-04-21             26753.0   \n",
       "120829      2020-12-31  2021-06-13             49001.0   \n",
       "\n",
       "        mok_sumos_ir_isipareigojimai  ilgalaikis_turtas  trumpalaikis_turtas  \\\n",
       "4                            19462.0           406399.0             170543.0   \n",
       "6                            65998.0           190000.0             572599.0   \n",
       "7                                NaN            21415.0             108796.0   \n",
       "11                         1413481.0           461305.0            2142207.0   \n",
       "12                         6586089.0         16136731.0             516088.0   \n",
       "...                              ...                ...                  ...   \n",
       "120790                       33711.0                0.0              83516.0   \n",
       "120806                       18666.0                0.0              53929.0   \n",
       "120814                           NaN                0.0              32521.0   \n",
       "120817                       22196.0             2192.0              45632.0   \n",
       "120829                           NaN              723.0              79249.0   \n",
       "\n",
       "       formavimo_data  \n",
       "4          2022-12-01  \n",
       "6          2022-12-01  \n",
       "7          2022-12-01  \n",
       "11         2022-12-01  \n",
       "12         2022-12-01  \n",
       "...               ...  \n",
       "120790     2022-12-01  \n",
       "120806     2022-12-01  \n",
       "120814     2022-12-01  \n",
       "120817     2022-12-01  \n",
       "120829     2022-12-01  \n",
       "\n",
       "[46463 rows x 18 columns]"
      ]
     },
     "execution_count": 34,
     "metadata": {},
     "output_type": "execute_result"
    }
   ],
   "source": [
    "bigger_capital.drop_duplicates(subset='obj_kodas')"
   ]
  },
  {
   "cell_type": "code",
   "execution_count": 35,
   "id": "3aaa293e",
   "metadata": {
    "ExecuteTime": {
     "end_time": "2022-12-08T16:02:26.210390Z",
     "start_time": "2022-12-08T16:02:26.180496Z"
    }
   },
   "outputs": [
    {
     "name": "stdout",
     "output_type": "stream",
     "text": [
      "Viso įmonių, kurių kapitalas didesnis už medianą:  46463\n"
     ]
    }
   ],
   "source": [
    "print(f'Viso įmonių, kurių kapitalas didesnis už medianą:  {len(bigger_capital.drop_duplicates(subset=\"obj_kodas\"))}')"
   ]
  },
  {
   "cell_type": "markdown",
   "id": "5351768e",
   "metadata": {},
   "source": [
    "### "
   ]
  },
  {
   "cell_type": "code",
   "execution_count": 36,
   "id": "0f9d6ae6",
   "metadata": {
    "ExecuteTime": {
     "end_time": "2022-12-08T16:02:27.339001Z",
     "start_time": "2022-12-08T16:02:27.281357Z"
    },
    "scrolled": true
   },
   "outputs": [
    {
     "data": {
      "text/html": [
       "<div>\n",
       "<style scoped>\n",
       "    .dataframe tbody tr th:only-of-type {\n",
       "        vertical-align: middle;\n",
       "    }\n",
       "\n",
       "    .dataframe tbody tr th {\n",
       "        vertical-align: top;\n",
       "    }\n",
       "\n",
       "    .dataframe thead th {\n",
       "        text-align: right;\n",
       "    }\n",
       "</style>\n",
       "<table border=\"1\" class=\"dataframe\">\n",
       "  <thead>\n",
       "    <tr style=\"text-align: right;\">\n",
       "      <th></th>\n",
       "      <th>obj_kodas</th>\n",
       "      <th>obj_pav</th>\n",
       "      <th>form_kodas</th>\n",
       "      <th>form_pav</th>\n",
       "      <th>stat_statusas</th>\n",
       "      <th>stat_pav</th>\n",
       "      <th>template_id</th>\n",
       "      <th>template_name</th>\n",
       "      <th>standard_id</th>\n",
       "      <th>standard_name</th>\n",
       "      <th>laikotarpis_nuo</th>\n",
       "      <th>laikotarpis_iki</th>\n",
       "      <th>reg_date</th>\n",
       "      <th>nuosavas_kapitalas</th>\n",
       "      <th>mok_sumos_ir_isipareigojimai</th>\n",
       "      <th>ilgalaikis_turtas</th>\n",
       "      <th>trumpalaikis_turtas</th>\n",
       "      <th>formavimo_data</th>\n",
       "    </tr>\n",
       "  </thead>\n",
       "  <tbody>\n",
       "    <tr>\n",
       "      <th>54243</th>\n",
       "      <td>305115931</td>\n",
       "      <td>UAB \"Thermo Fisher Scientific Vector Holdings\"</td>\n",
       "      <td>310</td>\n",
       "      <td>Uždaroji akcinė bendrovė</td>\n",
       "      <td>0</td>\n",
       "      <td>Teisinis stat neįregistruotas</td>\n",
       "      <td>FS0129</td>\n",
       "      <td>Mažų ir labai mažų įmonių, netaikančių išimčių...</td>\n",
       "      <td>BST124</td>\n",
       "      <td>BALANSAS (Sutrumpintas)</td>\n",
       "      <td>2020-01-01</td>\n",
       "      <td>2020-12-31</td>\n",
       "      <td>2021-05-31</td>\n",
       "      <td>3.898038e+09</td>\n",
       "      <td>9.062000e+03</td>\n",
       "      <td>3.898045e+09</td>\n",
       "      <td>2.345000e+03</td>\n",
       "      <td>2022-12-01</td>\n",
       "    </tr>\n",
       "    <tr>\n",
       "      <th>25845</th>\n",
       "      <td>305115970</td>\n",
       "      <td>UAB \"Thermo Fisher Scientific Vector Senior Ho...</td>\n",
       "      <td>310</td>\n",
       "      <td>Uždaroji akcinė bendrovė</td>\n",
       "      <td>0</td>\n",
       "      <td>Teisinis stat neįregistruotas</td>\n",
       "      <td>FS0129</td>\n",
       "      <td>Mažų ir labai mažų įmonių, netaikančių išimčių...</td>\n",
       "      <td>BST124</td>\n",
       "      <td>BALANSAS (Sutrumpintas)</td>\n",
       "      <td>2020-01-01</td>\n",
       "      <td>2020-12-31</td>\n",
       "      <td>2021-05-31</td>\n",
       "      <td>3.898038e+09</td>\n",
       "      <td>1.148000e+04</td>\n",
       "      <td>3.898047e+09</td>\n",
       "      <td>2.381000e+03</td>\n",
       "      <td>2022-12-01</td>\n",
       "    </tr>\n",
       "    <tr>\n",
       "      <th>16978</th>\n",
       "      <td>305115956</td>\n",
       "      <td>UAB \"Thermo Fisher Scientific Vector Senior Ho...</td>\n",
       "      <td>310</td>\n",
       "      <td>Uždaroji akcinė bendrovė</td>\n",
       "      <td>0</td>\n",
       "      <td>Teisinis stat neįregistruotas</td>\n",
       "      <td>FS0129</td>\n",
       "      <td>Mažų ir labai mažų įmonių, netaikančių išimčių...</td>\n",
       "      <td>BST124</td>\n",
       "      <td>BALANSAS (Sutrumpintas)</td>\n",
       "      <td>2020-01-01</td>\n",
       "      <td>2020-12-31</td>\n",
       "      <td>2021-05-31</td>\n",
       "      <td>2.950793e+09</td>\n",
       "      <td>1.146558e+09</td>\n",
       "      <td>4.097346e+09</td>\n",
       "      <td>4.881000e+03</td>\n",
       "      <td>2022-12-01</td>\n",
       "    </tr>\n",
       "    <tr>\n",
       "      <th>62819</th>\n",
       "      <td>188710638</td>\n",
       "      <td>Valstybės įmonė Lietuvos automobilių kelių dir...</td>\n",
       "      <td>110</td>\n",
       "      <td>Valstybės įmonė</td>\n",
       "      <td>0</td>\n",
       "      <td>Teisinis stat neįregistruotas</td>\n",
       "      <td>FS0132</td>\n",
       "      <td>Valstybės ir savivaldybės įmonių finansinių at...</td>\n",
       "      <td>BST504</td>\n",
       "      <td>BALANSAS</td>\n",
       "      <td>2020-09-01</td>\n",
       "      <td>2020-12-31</td>\n",
       "      <td>2021-05-31</td>\n",
       "      <td>2.693140e+09</td>\n",
       "      <td>5.707500e+07</td>\n",
       "      <td>3.230581e+09</td>\n",
       "      <td>4.748000e+07</td>\n",
       "      <td>2022-12-01</td>\n",
       "    </tr>\n",
       "    <tr>\n",
       "      <th>39828</th>\n",
       "      <td>302608755</td>\n",
       "      <td>Uždaroji akcinė bendrovė \"Vilniaus prekyba\"</td>\n",
       "      <td>310</td>\n",
       "      <td>Uždaroji akcinė bendrovė</td>\n",
       "      <td>0</td>\n",
       "      <td>Teisinis stat neįregistruotas</td>\n",
       "      <td>FS0518</td>\n",
       "      <td>Atskirosios finansinės būklės ataskaitos duomenys</td>\n",
       "      <td>BST210</td>\n",
       "      <td>BALANSAS</td>\n",
       "      <td>2020-01-01</td>\n",
       "      <td>2020-12-31</td>\n",
       "      <td>2021-05-20</td>\n",
       "      <td>1.950511e+09</td>\n",
       "      <td>NaN</td>\n",
       "      <td>1.754522e+09</td>\n",
       "      <td>1.999910e+08</td>\n",
       "      <td>2022-12-01</td>\n",
       "    </tr>\n",
       "    <tr>\n",
       "      <th>74818</th>\n",
       "      <td>301844044</td>\n",
       "      <td>AB \"Ignitis grupė\"</td>\n",
       "      <td>320</td>\n",
       "      <td>Akcinė bendrovė</td>\n",
       "      <td>0</td>\n",
       "      <td>Teisinis stat neįregistruotas</td>\n",
       "      <td>FS0518</td>\n",
       "      <td>Atskirosios finansinės būklės ataskaitos duomenys</td>\n",
       "      <td>BST210</td>\n",
       "      <td>BALANSAS</td>\n",
       "      <td>2020-01-01</td>\n",
       "      <td>2020-12-31</td>\n",
       "      <td>2021-03-24</td>\n",
       "      <td>1.812955e+09</td>\n",
       "      <td>NaN</td>\n",
       "      <td>2.156290e+09</td>\n",
       "      <td>5.553630e+08</td>\n",
       "      <td>2022-12-01</td>\n",
       "    </tr>\n",
       "    <tr>\n",
       "      <th>119613</th>\n",
       "      <td>301066547</td>\n",
       "      <td>MAXIMA GRUPĖ UAB</td>\n",
       "      <td>310</td>\n",
       "      <td>Uždaroji akcinė bendrovė</td>\n",
       "      <td>0</td>\n",
       "      <td>Teisinis stat neįregistruotas</td>\n",
       "      <td>FS0518</td>\n",
       "      <td>Atskirosios finansinės būklės ataskaitos duomenys</td>\n",
       "      <td>BST210</td>\n",
       "      <td>BALANSAS</td>\n",
       "      <td>2020-01-01</td>\n",
       "      <td>2020-12-31</td>\n",
       "      <td>2021-04-16</td>\n",
       "      <td>1.564631e+09</td>\n",
       "      <td>NaN</td>\n",
       "      <td>1.987892e+09</td>\n",
       "      <td>1.822600e+07</td>\n",
       "      <td>2022-12-01</td>\n",
       "    </tr>\n",
       "    <tr>\n",
       "      <th>46428</th>\n",
       "      <td>122351387</td>\n",
       "      <td>UAB \"Thermo Fisher Scientific Baltics\"</td>\n",
       "      <td>310</td>\n",
       "      <td>Uždaroji akcinė bendrovė</td>\n",
       "      <td>0</td>\n",
       "      <td>Teisinis stat neįregistruotas</td>\n",
       "      <td>FS0130</td>\n",
       "      <td>Vidutinių ir didelių įmonių finansinių ataskai...</td>\n",
       "      <td>BST123</td>\n",
       "      <td>BALANSAS</td>\n",
       "      <td>2020-01-01</td>\n",
       "      <td>2020-12-31</td>\n",
       "      <td>2021-05-26</td>\n",
       "      <td>1.240838e+09</td>\n",
       "      <td>5.770567e+08</td>\n",
       "      <td>1.526711e+08</td>\n",
       "      <td>1.667527e+09</td>\n",
       "      <td>2022-12-01</td>\n",
       "    </tr>\n",
       "    <tr>\n",
       "      <th>93471</th>\n",
       "      <td>110053842</td>\n",
       "      <td>Akcinė bendrovė \"Lietuvos geležinkeliai\"</td>\n",
       "      <td>320</td>\n",
       "      <td>Akcinė bendrovė</td>\n",
       "      <td>0</td>\n",
       "      <td>Teisinis stat neįregistruotas</td>\n",
       "      <td>FS0518</td>\n",
       "      <td>Atskirosios finansinės būklės ataskaitos duomenys</td>\n",
       "      <td>BST210</td>\n",
       "      <td>BALANSAS</td>\n",
       "      <td>2020-01-01</td>\n",
       "      <td>2020-12-31</td>\n",
       "      <td>2021-05-11</td>\n",
       "      <td>1.114799e+09</td>\n",
       "      <td>NaN</td>\n",
       "      <td>1.086064e+09</td>\n",
       "      <td>7.759100e+07</td>\n",
       "      <td>2022-12-01</td>\n",
       "    </tr>\n",
       "    <tr>\n",
       "      <th>94826</th>\n",
       "      <td>305202934</td>\n",
       "      <td>AB \"LTG Infra\"</td>\n",
       "      <td>320</td>\n",
       "      <td>Akcinė bendrovė</td>\n",
       "      <td>0</td>\n",
       "      <td>Teisinis stat neįregistruotas</td>\n",
       "      <td>FS0518</td>\n",
       "      <td>Atskirosios finansinės būklės ataskaitos duomenys</td>\n",
       "      <td>BST210</td>\n",
       "      <td>BALANSAS</td>\n",
       "      <td>2020-01-01</td>\n",
       "      <td>2020-12-31</td>\n",
       "      <td>2021-03-29</td>\n",
       "      <td>6.797990e+08</td>\n",
       "      <td>NaN</td>\n",
       "      <td>1.491473e+09</td>\n",
       "      <td>5.137600e+07</td>\n",
       "      <td>2022-12-01</td>\n",
       "    </tr>\n",
       "  </tbody>\n",
       "</table>\n",
       "</div>"
      ],
      "text/plain": [
       "        obj_kodas                                            obj_pav  \\\n",
       "54243   305115931     UAB \"Thermo Fisher Scientific Vector Holdings\"   \n",
       "25845   305115970  UAB \"Thermo Fisher Scientific Vector Senior Ho...   \n",
       "16978   305115956  UAB \"Thermo Fisher Scientific Vector Senior Ho...   \n",
       "62819   188710638  Valstybės įmonė Lietuvos automobilių kelių dir...   \n",
       "39828   302608755        Uždaroji akcinė bendrovė \"Vilniaus prekyba\"   \n",
       "74818   301844044                                 AB \"Ignitis grupė\"   \n",
       "119613  301066547                                   MAXIMA GRUPĖ UAB   \n",
       "46428   122351387             UAB \"Thermo Fisher Scientific Baltics\"   \n",
       "93471   110053842           Akcinė bendrovė \"Lietuvos geležinkeliai\"   \n",
       "94826   305202934                                     AB \"LTG Infra\"   \n",
       "\n",
       "        form_kodas                  form_pav  stat_statusas  \\\n",
       "54243          310  Uždaroji akcinė bendrovė              0   \n",
       "25845          310  Uždaroji akcinė bendrovė              0   \n",
       "16978          310  Uždaroji akcinė bendrovė              0   \n",
       "62819          110           Valstybės įmonė              0   \n",
       "39828          310  Uždaroji akcinė bendrovė              0   \n",
       "74818          320           Akcinė bendrovė              0   \n",
       "119613         310  Uždaroji akcinė bendrovė              0   \n",
       "46428          310  Uždaroji akcinė bendrovė              0   \n",
       "93471          320           Akcinė bendrovė              0   \n",
       "94826          320           Akcinė bendrovė              0   \n",
       "\n",
       "                             stat_pav template_id  \\\n",
       "54243   Teisinis stat neįregistruotas      FS0129   \n",
       "25845   Teisinis stat neįregistruotas      FS0129   \n",
       "16978   Teisinis stat neįregistruotas      FS0129   \n",
       "62819   Teisinis stat neįregistruotas      FS0132   \n",
       "39828   Teisinis stat neįregistruotas      FS0518   \n",
       "74818   Teisinis stat neįregistruotas      FS0518   \n",
       "119613  Teisinis stat neįregistruotas      FS0518   \n",
       "46428   Teisinis stat neįregistruotas      FS0130   \n",
       "93471   Teisinis stat neįregistruotas      FS0518   \n",
       "94826   Teisinis stat neįregistruotas      FS0518   \n",
       "\n",
       "                                            template_name standard_id  \\\n",
       "54243   Mažų ir labai mažų įmonių, netaikančių išimčių...      BST124   \n",
       "25845   Mažų ir labai mažų įmonių, netaikančių išimčių...      BST124   \n",
       "16978   Mažų ir labai mažų įmonių, netaikančių išimčių...      BST124   \n",
       "62819   Valstybės ir savivaldybės įmonių finansinių at...      BST504   \n",
       "39828   Atskirosios finansinės būklės ataskaitos duomenys      BST210   \n",
       "74818   Atskirosios finansinės būklės ataskaitos duomenys      BST210   \n",
       "119613  Atskirosios finansinės būklės ataskaitos duomenys      BST210   \n",
       "46428   Vidutinių ir didelių įmonių finansinių ataskai...      BST123   \n",
       "93471   Atskirosios finansinės būklės ataskaitos duomenys      BST210   \n",
       "94826   Atskirosios finansinės būklės ataskaitos duomenys      BST210   \n",
       "\n",
       "                  standard_name laikotarpis_nuo laikotarpis_iki    reg_date  \\\n",
       "54243   BALANSAS (Sutrumpintas)      2020-01-01      2020-12-31  2021-05-31   \n",
       "25845   BALANSAS (Sutrumpintas)      2020-01-01      2020-12-31  2021-05-31   \n",
       "16978   BALANSAS (Sutrumpintas)      2020-01-01      2020-12-31  2021-05-31   \n",
       "62819                  BALANSAS      2020-09-01      2020-12-31  2021-05-31   \n",
       "39828                  BALANSAS      2020-01-01      2020-12-31  2021-05-20   \n",
       "74818                  BALANSAS      2020-01-01      2020-12-31  2021-03-24   \n",
       "119613                 BALANSAS      2020-01-01      2020-12-31  2021-04-16   \n",
       "46428                  BALANSAS      2020-01-01      2020-12-31  2021-05-26   \n",
       "93471                  BALANSAS      2020-01-01      2020-12-31  2021-05-11   \n",
       "94826                  BALANSAS      2020-01-01      2020-12-31  2021-03-29   \n",
       "\n",
       "        nuosavas_kapitalas  mok_sumos_ir_isipareigojimai  ilgalaikis_turtas  \\\n",
       "54243         3.898038e+09                  9.062000e+03       3.898045e+09   \n",
       "25845         3.898038e+09                  1.148000e+04       3.898047e+09   \n",
       "16978         2.950793e+09                  1.146558e+09       4.097346e+09   \n",
       "62819         2.693140e+09                  5.707500e+07       3.230581e+09   \n",
       "39828         1.950511e+09                           NaN       1.754522e+09   \n",
       "74818         1.812955e+09                           NaN       2.156290e+09   \n",
       "119613        1.564631e+09                           NaN       1.987892e+09   \n",
       "46428         1.240838e+09                  5.770567e+08       1.526711e+08   \n",
       "93471         1.114799e+09                           NaN       1.086064e+09   \n",
       "94826         6.797990e+08                           NaN       1.491473e+09   \n",
       "\n",
       "        trumpalaikis_turtas formavimo_data  \n",
       "54243          2.345000e+03     2022-12-01  \n",
       "25845          2.381000e+03     2022-12-01  \n",
       "16978          4.881000e+03     2022-12-01  \n",
       "62819          4.748000e+07     2022-12-01  \n",
       "39828          1.999910e+08     2022-12-01  \n",
       "74818          5.553630e+08     2022-12-01  \n",
       "119613         1.822600e+07     2022-12-01  \n",
       "46428          1.667527e+09     2022-12-01  \n",
       "93471          7.759100e+07     2022-12-01  \n",
       "94826          5.137600e+07     2022-12-01  "
      ]
     },
     "execution_count": 36,
     "metadata": {},
     "output_type": "execute_result"
    }
   ],
   "source": [
    "balanso_df_2021.loc[(balanso_df_2021['nuosavas_kapitalas']>balanso_df_2021['nuosavas_kapitalas'].quantile(0.99))].sort_values(by='nuosavas_kapitalas', ascending=False).head(10)"
   ]
  },
  {
   "cell_type": "markdown",
   "id": "2d0e8a29",
   "metadata": {
    "ExecuteTime": {
     "end_time": "2022-12-06T17:14:10.669645Z",
     "start_time": "2022-12-06T17:14:10.616220Z"
    }
   },
   "source": [
    "Kadangi žinau kas vyksta spaudoje, tai įtarimų nei viena įmonė nekelia, galbūt tik keista, kad Vinted nėra"
   ]
  },
  {
   "attachments": {},
   "cell_type": "markdown",
   "id": "b0c879ef",
   "metadata": {},
   "source": [
    "<font color='red'> Erikas Švažas:\n",
    "\n",
    "Smagiai ir efektyviai panaudotas filtravimas maskais!\n",
    "Dėl galutinių išvadų -> taip. Tačiau įdomu, kad skalė yra ypač didelė ir net galima palyginti su visu LT biudžetu.\n",
    "\n",
    "</font>\n"
   ]
  },
  {
   "cell_type": "markdown",
   "id": "0ebad598",
   "metadata": {},
   "source": [
    "### "
   ]
  },
  {
   "cell_type": "code",
   "execution_count": 37,
   "id": "d0ab8c40",
   "metadata": {
    "ExecuteTime": {
     "end_time": "2022-12-08T16:02:30.320776Z",
     "start_time": "2022-12-08T16:02:30.301898Z"
    }
   },
   "outputs": [],
   "source": [
    "import matplotlib.pyplot as plt"
   ]
  },
  {
   "cell_type": "code",
   "execution_count": 38,
   "id": "9d74cc67",
   "metadata": {
    "ExecuteTime": {
     "end_time": "2022-12-08T16:02:31.259070Z",
     "start_time": "2022-12-08T16:02:30.931301Z"
    }
   },
   "outputs": [],
   "source": [
    "\n",
    "\n",
    "count_forms = df_all_balanso.groupby(['form_pav',pd.DatetimeIndex(df_all_balanso['reg_date']).year]).size().reset_index(name='Vienetų skaičius')\n"
   ]
  },
  {
   "cell_type": "markdown",
   "id": "07e112d5",
   "metadata": {},
   "source": [
    "a."
   ]
  },
  {
   "cell_type": "code",
   "execution_count": 39,
   "id": "f5cad3b7",
   "metadata": {
    "ExecuteTime": {
     "end_time": "2022-12-08T16:02:54.599407Z",
     "start_time": "2022-12-08T16:02:52.778921Z"
    }
   },
   "outputs": [
    {
     "data": {
      "text/plain": [
       "<matplotlib.legend.Legend at 0x7f8dd8eedb50>"
      ]
     },
     "execution_count": 39,
     "metadata": {},
     "output_type": "execute_result"
    },
    {
     "data": {
      "image/png": "[encoded data removed]",
      "text/plain": [
       "<Figure size 640x480 with 1 Axes>"
      ]
     },
     "metadata": {},
     "output_type": "display_data"
    }
   ],
   "source": [
    "x = np.arange(len(count_forms['form_pav'])) \n",
    "\n",
    "fig, ax = plt.subplots()\n",
    "rects1 = ax.bar(x , count_forms['Vienetų skaičius'], label=':(')\n",
    "\n",
    "\n",
    "ax.set_ylabel('Vienetų skaičius')\n",
    "ax.set_title('Juridinių asmenų skaičius 2020 ir 2021 metais')\n",
    "ax.set_xticks(x)\n",
    "plt.yscale(\"log\")\n",
    "ax.set_xticklabels(count_forms['form_pav'])\n",
    "plt.xticks(rotation=90)\n",
    "ax.legend()"
   ]
  },
  {
   "cell_type": "markdown",
   "id": "8ecdd03a",
   "metadata": {
    "ExecuteTime": {
     "end_time": "2022-12-06T18:49:47.303138Z",
     "start_time": "2022-12-06T18:49:47.273340Z"
    }
   },
   "source": [
    "b."
   ]
  },
  {
   "cell_type": "code",
   "execution_count": 40,
   "id": "fbece814",
   "metadata": {
    "ExecuteTime": {
     "end_time": "2022-12-08T16:03:36.553947Z",
     "start_time": "2022-12-08T16:03:35.886387Z"
    }
   },
   "outputs": [
    {
     "data": {
      "image/png": "[encoded data removed]",
      "text/plain": [
       "<Figure size 640x480 with 1 Axes>"
      ]
     },
     "metadata": {},
     "output_type": "display_data"
    }
   ],
   "source": [
    "graph_pandas = count_forms.plot(x='form_pav', y='Vienetų skaičius', kind=\"bar\", title =\"Juridinių asmenų skaičius 2020 ir 2021 metais\")\n",
    "graph_pandas.set_ylabel(\"Vienetų skaičius\", fontsize=12)\n",
    "graph_pandas.set_yscale(\"log\")\n",
    "#sorry, bet per daug laiko užtrukau prie uždavinio seaborn, kad spėčiau ir pandas :/"
   ]
  },
  {
   "cell_type": "markdown",
   "id": "523efbbd",
   "metadata": {},
   "source": [
    "c."
   ]
  },
  {
   "cell_type": "code",
   "execution_count": 41,
   "id": "fb3e0c3e",
   "metadata": {
    "ExecuteTime": {
     "end_time": "2022-12-08T16:03:43.085828Z",
     "start_time": "2022-12-08T16:03:42.601975Z"
    }
   },
   "outputs": [
    {
     "data": {
      "image/png": "[encoded data removed]",
      "text/plain": [
       "<Figure size 640x480 with 1 Axes>"
      ]
     },
     "metadata": {},
     "output_type": "display_data"
    }
   ],
   "source": [
    "\n",
    "graph_sns = sns.barplot(data=count_forms, x='form_pav', y='Vienetų skaičius',hue='reg_date')\n",
    "plt.xticks(rotation = 90)\n",
    "graph_sns.set_ylim([10**0, 10**5])\n",
    "graph_sns.set_yscale(\"log\")\n",
    "graph_sns.legend()\n",
    "graph_sns.set(title='Juridinių asmenų skaičius 2020 ir 2021 metais')\n",
    "plt.show()"
   ]
  },
  {
   "cell_type": "markdown",
   "id": "8c7d4a92",
   "metadata": {},
   "source": [
    "### "
   ]
  },
  {
   "cell_type": "code",
   "execution_count": null,
   "id": "2ddb8906",
   "metadata": {
    "ExecuteTime": {
     "end_time": "2022-12-08T16:03:49.057443Z",
     "start_time": "2022-12-08T16:03:47.748837Z"
    }
   },
   "outputs": [],
   "source": [
    "registration_by_month_2020 = balanso_df_2020.groupby(pd.DatetimeIndex(balanso_df_2020['reg_date']).strftime('%Y-%m'))['obj_kodas'].size().reset_index(name='Įmonių skaičius')\n",
    "registration_by_month_2021 = balanso_df_2021.groupby(pd.DatetimeIndex(balanso_df_2021['reg_date']).strftime('%Y-%m'))['obj_kodas'].size().reset_index(name='Įmonių skaičius')"
   ]
  },
  {
   "cell_type": "code",
   "execution_count": null,
   "id": "65003545",
   "metadata": {
    "ExecuteTime": {
     "end_time": "2022-12-08T16:03:49.133944Z",
     "start_time": "2022-12-08T16:03:49.120838Z"
    },
    "scrolled": true
   },
   "outputs": [],
   "source": [
    "registration_2020 = registration_by_month_2020.loc[registration_by_month_2020['Įmonių skaičius'].idxmax()]\n",
    "registration_2021 = registration_by_month_2021.loc[registration_by_month_2021['Įmonių skaičius'].idxmax()]"
   ]
  },
  {
   "cell_type": "code",
   "execution_count": null,
   "id": "2f398779",
   "metadata": {
    "ExecuteTime": {
     "end_time": "2022-12-08T16:03:49.275027Z",
     "start_time": "2022-12-08T16:03:49.252016Z"
    }
   },
   "outputs": [],
   "source": [
    "registration_max = pd.DataFrame([registration_2021,registration_2020])\n",
    "registration_max"
   ]
  },
  {
   "cell_type": "code",
   "execution_count": null,
   "id": "ffa72a5c",
   "metadata": {
    "ExecuteTime": {
     "end_time": "2022-12-08T16:03:51.198976Z",
     "start_time": "2022-12-08T16:03:51.186313Z"
    }
   },
   "outputs": [],
   "source": [
    "cust_colors = [\"#7800FF\", \"#9569F7\"]"
   ]
  },
  {
   "cell_type": "code",
   "execution_count": null,
   "id": "6cd683f2",
   "metadata": {
    "ExecuteTime": {
     "end_time": "2022-12-08T16:03:59.069845Z",
     "start_time": "2022-12-08T16:03:58.955000Z"
    }
   },
   "outputs": [],
   "source": [
    "graph_reg_count = sns.barplot(data=registration_max, x='reg_date', y='Įmonių skaičius',hue='reg_date')\n",
    "sns.set_palette(sns.color_palette(cust_colors))\n",
    "graph_reg_count.legend()\n",
    "graph_reg_count.set_ylabel(\"Įmonių skaičius\")\n",
    "graph_reg_count.set_xlabel(\"Registracijos mėnuo\")\n",
    "graph_reg_count.set(title='Registruotų įmonių skaičius pagal metus ir mėnesį')\n",
    "plt.show()"
   ]
  },
  {
   "cell_type": "markdown",
   "id": "3c303bbf",
   "metadata": {},
   "source": [
    "### "
   ]
  },
  {
   "cell_type": "code",
   "execution_count": null,
   "id": "6454e5d8",
   "metadata": {
    "ExecuteTime": {
     "end_time": "2022-12-08T16:04:02.641963Z",
     "start_time": "2022-12-08T16:04:02.490341Z"
    }
   },
   "outputs": [],
   "source": [
    "stat_change_by_date = df_all_balanso.groupby(['stat_pav',pd.DatetimeIndex(df_all_balanso['reg_date']).year]).size().reset_index(name='Vienetų skaičius')"
   ]
  },
  {
   "cell_type": "code",
   "execution_count": null,
   "id": "8a498e46",
   "metadata": {
    "ExecuteTime": {
     "end_time": "2022-12-08T16:04:03.839363Z",
     "start_time": "2022-12-08T16:04:03.446930Z"
    }
   },
   "outputs": [],
   "source": [
    "graph_sns_2 = sns.barplot(data=stat_change_by_date, x='stat_pav', y='Vienetų skaičius',hue='reg_date')\n",
    "plt.xticks(rotation = 90)\n",
    "graph_sns_2.set_yscale(\"log\")\n",
    "graph_sns_2.legend()\n",
    "graph_sns_2.set(title='Juridinių asmenų statuso pasiskirstym')\n",
    "plt.show()"
   ]
  },
  {
   "cell_type": "markdown",
   "id": "7e922534",
   "metadata": {},
   "source": [
    "### "
   ]
  },
  {
   "cell_type": "code",
   "execution_count": null,
   "id": "53113670",
   "metadata": {
    "ExecuteTime": {
     "end_time": "2022-12-08T19:57:07.399416Z",
     "start_time": "2022-12-08T19:57:06.759211Z"
    }
   },
   "outputs": [],
   "source": [
    "ultimate_total_huge_df = df_all_balanso.merge(df_all_nuotoliu, on=\"obj_kodas\", how = 'inner')"
   ]
  },
  {
   "cell_type": "code",
   "execution_count": null,
   "id": "5b2341f7",
   "metadata": {
    "ExecuteTime": {
     "end_time": "2022-12-08T19:57:44.627840Z",
     "start_time": "2022-12-08T19:57:44.245149Z"
    }
   },
   "outputs": [],
   "source": [
    "ultimate_total_huge_df = ultimate_total_huge_df.dropna(subset=['nuosavas_kapitalas', 'grynasis_pelnas'])"
   ]
  },
  {
   "cell_type": "code",
   "execution_count": null,
   "id": "d57e9a27",
   "metadata": {
    "ExecuteTime": {
     "end_time": "2022-12-08T19:57:47.490797Z",
     "start_time": "2022-12-08T19:57:47.459793Z"
    }
   },
   "outputs": [],
   "source": [
    "count_netincome_equity = pd.DataFrame({'obj_pav': ultimate_total_huge_df['obj_pav_x'],'reg_date': ultimate_total_huge_df['reg_date_x'] , 'count': ultimate_total_huge_df['nuosavas_kapitalas']+ultimate_total_huge_df['grynasis_pelnas'] })"
   ]
  },
  {
   "cell_type": "code",
   "execution_count": null,
   "id": "0464375f",
   "metadata": {
    "ExecuteTime": {
     "end_time": "2022-12-08T19:57:48.673779Z",
     "start_time": "2022-12-08T19:57:48.615881Z"
    },
    "scrolled": true
   },
   "outputs": [],
   "source": [
    "count_netincome_equity.loc[count_netincome_equity['obj_pav']=='MB \"Jantaris\"']"
   ]
  },
  {
   "cell_type": "code",
   "execution_count": null,
   "id": "361086e1",
   "metadata": {
    "ExecuteTime": {
     "end_time": "2022-12-08T20:00:08.221778Z",
     "start_time": "2022-12-08T20:00:08.209426Z"
    }
   },
   "outputs": [],
   "source": [
    "import datetime\n",
    "# Nespėjau iki galo :(\n",
    "print(\"Timestamp: \", pd.Timestamp.now())"
   ]
  },
  {
   "cell_type": "markdown",
   "id": "eab12bc4",
   "metadata": {},
   "source": [
    "### "
   ]
  },
  {
   "cell_type": "code",
   "execution_count": null,
   "id": "801dd004",
   "metadata": {
    "ExecuteTime": {
     "end_time": "2022-12-08T17:32:22.445572Z",
     "start_time": "2022-12-08T17:32:22.157570Z"
    }
   },
   "outputs": [],
   "source": [
    "bancrupted_values = [\"Bankrutavęs\", \"Bankrutuojantis\", \"Išregistruotas\",\"Inicijuojamas likvidavimas\", \"Likviduojamas\", \"Likviduojamas dėl bankroto\"]\n",
    "bancrupted_2021 = balanso_df_2021.loc[balanso_df_2021['stat_pav'].str.contains('|'.join(bancrupted_values))]['obj_kodas'].tolist()"
   ]
  },
  {
   "cell_type": "code",
   "execution_count": null,
   "id": "2f2da151",
   "metadata": {
    "ExecuteTime": {
     "end_time": "2022-12-08T17:32:22.910443Z",
     "start_time": "2022-12-08T17:32:22.634157Z"
    },
    "scrolled": true
   },
   "outputs": [],
   "source": [
    "not_bancrupted_2020 = balanso_df_2020.loc[(balanso_df_2020['stat_pav'].str.contains('|'.join(bancrupted_values))==False)]"
   ]
  },
  {
   "cell_type": "code",
   "execution_count": null,
   "id": "657fe212",
   "metadata": {
    "ExecuteTime": {
     "end_time": "2022-12-08T17:32:23.849517Z",
     "start_time": "2022-12-08T17:32:23.825663Z"
    }
   },
   "outputs": [],
   "source": [
    "print(len(bancrupted_2021))\n",
    "print(len(not_bancrupted_2020))"
   ]
  },
  {
   "cell_type": "code",
   "execution_count": null,
   "id": "4d23f9e4",
   "metadata": {
    "ExecuteTime": {
     "end_time": "2022-12-08T17:32:24.878050Z",
     "start_time": "2022-12-08T17:32:24.824651Z"
    },
    "scrolled": true
   },
   "outputs": [],
   "source": [
    "not_bancrupted_2020.loc[not_bancrupted_2020['obj_kodas'].isin(bancrupted_2021)]"
   ]
  },
  {
   "cell_type": "code",
   "execution_count": null,
   "id": "1baea235",
   "metadata": {
    "ExecuteTime": {
     "end_time": "2022-12-08T17:33:16.999135Z",
     "start_time": "2022-12-08T17:33:16.992002Z"
    }
   },
   "outputs": [],
   "source": [
    "#neperkandu niekaip, tai pasiduodu :("
   ]
  },
  {
   "cell_type": "markdown",
   "id": "6c2fb9c0",
   "metadata": {},
   "source": [
    "### "
   ]
  },
  {
   "cell_type": "code",
   "execution_count": null,
   "id": "2470c7df",
   "metadata": {
    "ExecuteTime": {
     "end_time": "2022-12-08T16:14:30.699792Z",
     "start_time": "2022-12-08T16:14:30.641479Z"
    }
   },
   "outputs": [],
   "source": [
    "balanso_2021_copy = balanso_df_2021\n",
    "balanso_2020_copy = balanso_df_2020"
   ]
  },
  {
   "cell_type": "code",
   "execution_count": null,
   "id": "883d2ad1",
   "metadata": {
    "ExecuteTime": {
     "end_time": "2022-12-08T16:14:31.489109Z",
     "start_time": "2022-12-08T16:14:31.431492Z"
    }
   },
   "outputs": [],
   "source": [
    "balanso_2021_copy['turtas'] = balanso_2021_copy['trumpalaikis_turtas'] + balanso_2021_copy['ilgalaikis_turtas']\n",
    "balanso_2020_copy['turtas'] = balanso_2020_copy['trumpalaikis_turtas'] + balanso_2020_copy['ilgalaikis_turtas']"
   ]
  },
  {
   "cell_type": "code",
   "execution_count": null,
   "id": "01b58799",
   "metadata": {
    "ExecuteTime": {
     "end_time": "2022-12-08T16:14:33.298978Z",
     "start_time": "2022-12-08T16:14:33.159383Z"
    }
   },
   "outputs": [],
   "source": [
    "balanso_2021_copy = balanso_2021_copy.drop(balanso_2021_copy[balanso_2021_copy['turtas'] < 0 ].index)"
   ]
  },
  {
   "cell_type": "code",
   "execution_count": null,
   "id": "386a19bb",
   "metadata": {
    "ExecuteTime": {
     "end_time": "2022-12-08T16:31:45.098495Z",
     "start_time": "2022-12-08T16:31:45.050987Z"
    }
   },
   "outputs": [],
   "source": [
    "bins = ['3k', '3k-20k', '20k-35k','35k-70k','70k+']\n",
    "# balanso_2021_copy['binned'] = pd.qcut(balanso_2021_copy['turtas'],q=[0, .2, .35, .70, .] , labels=bins)\n",
    "# balanso_2020_copy['binned'] = pd.qcut(balanso_2020_copy['turtas'], 5, labels=bins)\n",
    "balanso_2021_copy['binned'] = pd.cut(balanso_2020_copy['turtas'], [0, 3000.0, 20000.0, 35000.0, 75000.0, balanso_2020_copy['turtas'].max() ], labels=bins)\n",
    "balanso_2020_copy['binned'] = pd.cut(balanso_2020_copy['turtas'], [0, 3000.0, 20000.0, 35000.0, 75000.0, balanso_2020_copy['turtas'].max() ], labels=bins)"
   ]
  },
  {
   "cell_type": "code",
   "execution_count": null,
   "id": "4ce32cd7",
   "metadata": {
    "ExecuteTime": {
     "end_time": "2022-12-08T16:14:44.820226Z",
     "start_time": "2022-12-08T16:14:44.567162Z"
    }
   },
   "outputs": [],
   "source": [
    "balanso_2021_copy= balanso_2021_copy.drop(columns=['binned'])\n",
    "balanso_2020_copy=balanso_2020_copy.drop(columns=['binned'])"
   ]
  },
  {
   "cell_type": "code",
   "execution_count": null,
   "id": "f84c6133",
   "metadata": {
    "ExecuteTime": {
     "end_time": "2022-12-08T16:28:01.739342Z",
     "start_time": "2022-12-08T16:28:01.711647Z"
    }
   },
   "outputs": [],
   "source": [
    "balanso_2020_copy['turtas'].max()"
   ]
  },
  {
   "cell_type": "code",
   "execution_count": null,
   "id": "62272500",
   "metadata": {
    "ExecuteTime": {
     "end_time": "2022-12-08T16:32:50.270596Z",
     "start_time": "2022-12-08T16:32:50.232188Z"
    }
   },
   "outputs": [],
   "source": [
    "balanso_2020_copy.head(3)\n",
    "# Vis dar matau neatitikimų darant cut, nes tarkime trečioji reikšmė yra daugiau nei 70k, bet ją įdeda į 35-70k range.\n",
    "# Bandžiau su qcut daryti, bet nepavyko perspjauti"
   ]
  },
  {
   "cell_type": "code",
   "execution_count": null,
   "id": "00423a8d",
   "metadata": {
    "ExecuteTime": {
     "end_time": "2022-12-08T16:32:56.209932Z",
     "start_time": "2022-12-08T16:32:56.182652Z"
    }
   },
   "outputs": [],
   "source": [
    "sum_of_bins_2021 = balanso_2021_copy.groupby(balanso_2021_copy['binned']).size().reset_index(name='Vienetų skaičius')\n",
    "sum_of_bins_2020 = balanso_2020_copy.groupby(balanso_2020_copy['binned']).size().reset_index(name='Vienetų skaičius')"
   ]
  },
  {
   "cell_type": "code",
   "execution_count": null,
   "id": "e74a7dc4",
   "metadata": {
    "ExecuteTime": {
     "end_time": "2022-12-08T16:52:23.129275Z",
     "start_time": "2022-12-08T16:52:22.771893Z"
    }
   },
   "outputs": [],
   "source": [
    "fig, (ax1, ax2) = plt.subplots(1, 2, figsize=(10, 10))\n",
    "colors = sns.color_palette('pastel')[0:5]\n",
    "\n",
    "def func(pct, allvals):\n",
    "    absolute = int(pct/100.*np.sum(allvals))\n",
    "    return \"{:.1f}%\\n({:d})\".format(pct, absolute)\n",
    "\n",
    "\n",
    "ax1.pie(sum_of_bins_2020['Vienetų skaičius'], labels = sum_of_bins_2020['binned'], colors = colors, autopct=lambda pct: func(pct, sum_of_bins_2020['Vienetų skaičius']))\n",
    "ax2.pie(sum_of_bins_2021['Vienetų skaičius'], labels = sum_of_bins_2021['binned'], colors = colors, autopct=lambda pct: func(pct, sum_of_bins_2021['Vienetų skaičius']))\n",
    "ax1.set_title('2020 metais')\n",
    "ax2.set_title('2021 metais')\n",
    "fig.suptitle(\"Įregistruotų įmonių pasiskirstymas pagal sukauptą turtą\")\n",
    "plt.show()"
   ]
  },
  {
   "cell_type": "markdown",
   "id": "0000ad6a",
   "metadata": {},
   "source": [
    "### "
   ]
  },
  {
   "cell_type": "code",
   "execution_count": null,
   "id": "b831ae8c",
   "metadata": {
    "ExecuteTime": {
     "end_time": "2022-12-08T17:03:55.607998Z",
     "start_time": "2022-12-08T17:03:54.735311Z"
    }
   },
   "outputs": [],
   "source": [
    "top_100_equity = df_all_balanso.sort_values(by='nuosavas_kapitalas', ascending=False).head(100)\n",
    "top_100_netincome = df_all_nuotoliu.sort_values(by='grynasis_pelnas', ascending=False).head(100)"
   ]
  },
  {
   "cell_type": "code",
   "execution_count": null,
   "id": "f65ab437",
   "metadata": {
    "ExecuteTime": {
     "end_time": "2022-12-08T17:36:10.988593Z",
     "start_time": "2022-12-08T17:36:10.970655Z"
    }
   },
   "outputs": [],
   "source": [
    "print(f\"Įmonės kurios sutampa Top100 įmonių turinčių didžiausią nuosava kapitalą ir grynąjį pelną: {len(top_100_netincome.loc[top_100_netincome['obj_kodas'].isin(top_100_equity['obj_kodas'].tolist())])}\")"
   ]
  },
  {
   "cell_type": "code",
   "execution_count": null,
   "id": "8d5fa86f",
   "metadata": {
    "ExecuteTime": {
     "end_time": "2022-12-08T17:09:35.747827Z",
     "start_time": "2022-12-08T17:09:35.690214Z"
    },
    "scrolled": true
   },
   "outputs": [],
   "source": [
    "top_100_netincome.loc[top_100_netincome['obj_kodas'].isin(top_100_equity['obj_kodas'].tolist())]"
   ]
  },
  {
   "cell_type": "markdown",
   "id": "e0ea94bf",
   "metadata": {},
   "source": [
    "Ta pati mergelė tik išimti dublikatai"
   ]
  },
  {
   "cell_type": "code",
   "execution_count": null,
   "id": "842b4488",
   "metadata": {
    "ExecuteTime": {
     "end_time": "2022-12-08T17:45:59.499979Z",
     "start_time": "2022-12-08T17:45:58.040336Z"
    }
   },
   "outputs": [],
   "source": [
    "top_100_equity_nodub = df_all_balanso.sort_values(by='nuosavas_kapitalas', ascending=False).drop_duplicates(subset=['obj_kodas']).head(100)\n",
    "top_100_netincome_nodub = df_all_nuotoliu.sort_values(by='grynasis_pelnas', ascending=False).drop_duplicates(subset=['obj_kodas']).head(100)"
   ]
  },
  {
   "cell_type": "code",
   "execution_count": null,
   "id": "27559fa9",
   "metadata": {
    "ExecuteTime": {
     "end_time": "2022-12-08T17:47:25.279868Z",
     "start_time": "2022-12-08T17:47:25.251252Z"
    }
   },
   "outputs": [],
   "source": [
    "print(f\"Įmonės kurios sutampa Top100 įmonių turinčių didžiausią nuosava kapitalą ir grynąjį pelną(be pasikartojančių įmonių): {len(top_100_netincome_nodub.loc[top_100_netincome_nodub['obj_kodas'].isin(top_100_equity_nodub['obj_kodas'].tolist())])}\")"
   ]
  },
  {
   "cell_type": "code",
   "execution_count": null,
   "id": "8a92d20e",
   "metadata": {
    "ExecuteTime": {
     "end_time": "2022-12-08T17:46:40.219775Z",
     "start_time": "2022-12-08T17:46:40.123835Z"
    }
   },
   "outputs": [],
   "source": [
    "top_100_netincome_nodub.loc[top_100_netincome_nodub['obj_kodas'].isin(top_100_equity_nodub['obj_kodas'].tolist())]"
   ]
  },
  {
   "cell_type": "markdown",
   "id": "5b1500b2",
   "metadata": {},
   "source": [
    "### "
   ]
  },
  {
   "cell_type": "code",
   "execution_count": null,
   "id": "05638f8d",
   "metadata": {
    "ExecuteTime": {
     "end_time": "2022-12-08T17:27:31.129337Z",
     "start_time": "2022-12-08T17:27:29.983448Z"
    }
   },
   "outputs": [],
   "source": [
    "top_100_netincome_2020 = nuostoliu_df_2020.sort_values(by='grynasis_pelnas', ascending=False).head(100)\n",
    "top_100_netincome_2021 = nuostoliu_df_2021.sort_values(by='grynasis_pelnas', ascending=False).head(100)"
   ]
  },
  {
   "cell_type": "code",
   "execution_count": null,
   "id": "ffa00f03",
   "metadata": {
    "ExecuteTime": {
     "end_time": "2022-12-08T17:41:50.307497Z",
     "start_time": "2022-12-08T17:41:50.293921Z"
    }
   },
   "outputs": [],
   "source": [
    "print(f\"Įmonės kurių nėra 2021 metų Top100 grynojo pelno sąraše: {len(top_100_netincome_2020.loc[~top_100_netincome_2020['obj_kodas'].isin(top_100_netincome_2021['obj_kodas'].tolist())])}\")"
   ]
  },
  {
   "cell_type": "code",
   "execution_count": null,
   "id": "8c0409f0",
   "metadata": {
    "ExecuteTime": {
     "end_time": "2022-12-08T17:40:16.972661Z",
     "start_time": "2022-12-08T17:40:16.902129Z"
    }
   },
   "outputs": [],
   "source": [
    "top_100_netincome_2020.loc[~top_100_netincome_2020['obj_kodas'].isin(top_100_netincome_2021['obj_kodas'].tolist())]"
   ]
  },
  {
   "cell_type": "code",
   "execution_count": null,
   "id": "5fd97a08",
   "metadata": {},
   "outputs": [],
   "source": []
  },
  {
   "cell_type": "markdown",
   "id": "cb5fc8b4",
   "metadata": {},
   "source": [
    "&nbsp;"
   ]
  },
  {
   "cell_type": "markdown",
   "id": "09f83dfe",
   "metadata": {},
   "source": [
    "&nbsp;"
   ]
  },
  {
   "cell_type": "markdown",
   "id": "1b26514a",
   "metadata": {},
   "source": [
    "&nbsp;"
   ]
  },
  {
   "cell_type": "markdown",
   "id": "9ab3d122",
   "metadata": {},
   "source": [
    "&nbsp;"
   ]
  },
  {
   "cell_type": "markdown",
   "id": "79f9fb1a",
   "metadata": {},
   "source": [
    "&nbsp;"
   ]
  },
  {
   "cell_type": "markdown",
   "id": "b50e518d",
   "metadata": {},
   "source": [
    "&nbsp;"
   ]
  },
  {
   "cell_type": "markdown",
   "id": "e4119d72",
   "metadata": {},
   "source": [
    "&nbsp;"
   ]
  },
  {
   "cell_type": "markdown",
   "id": "32e123d1",
   "metadata": {},
   "source": [
    "&nbsp;"
   ]
  },
  {
   "cell_type": "markdown",
   "id": "48763752",
   "metadata": {
    "ExecuteTime": {
     "end_time": "2022-12-08T17:49:04.598009Z",
     "start_time": "2022-12-08T17:49:04.541947Z"
    }
   },
   "source": [
    "<p style=\"font-size:24px;\"> Trečia dalis </p>"
   ]
  },
  {
   "cell_type": "markdown",
   "id": "4acbefb2",
   "metadata": {},
   "source": [
    "<font color='red'> Justas Kalpokas: Panašu, kad nepavyko išsiaiškinti stulpelių reikšmių apibrėžimų. Sodros masyve month yra metai ir mėnuo kada užfiksuotas vidutinis atlyginimas ir darbuotojų skaičius. </font>"
   ]
  },
  {
   "cell_type": "markdown",
   "id": "531543e3",
   "metadata": {
    "ExecuteTime": {
     "end_time": "2022-12-08T17:49:16.680424Z",
     "start_time": "2022-12-08T17:49:16.660796Z"
    }
   },
   "source": [
    "### "
   ]
  },
  {
   "cell_type": "code",
   "execution_count": null,
   "id": "a0701d1e",
   "metadata": {
    "ExecuteTime": {
     "end_time": "2022-12-08T18:49:56.951176Z",
     "start_time": "2022-12-08T18:49:53.962754Z"
    }
   },
   "outputs": [],
   "source": [
    "sodra_data_2020 = pd.read_csv('monthly-2020.csv', sep=\";\")"
   ]
  },
  {
   "cell_type": "code",
   "execution_count": null,
   "id": "bd57f232",
   "metadata": {
    "ExecuteTime": {
     "end_time": "2022-12-08T18:02:26.070588Z",
     "start_time": "2022-12-08T18:02:22.371879Z"
    }
   },
   "outputs": [],
   "source": [
    "sodra_data_2021 = pd.read_csv('monthly-2021.csv', sep=\";\")"
   ]
  },
  {
   "cell_type": "code",
   "execution_count": null,
   "id": "a096729c",
   "metadata": {
    "ExecuteTime": {
     "end_time": "2022-12-08T18:49:58.527099Z",
     "start_time": "2022-12-08T18:49:58.484739Z"
    }
   },
   "outputs": [],
   "source": [
    "sodra_data_2020.columns = sodra_data_2020.columns.str.replace(r'^[^\\(]*\\(|\\)', '', regex=True)\n",
    "sodra_data_2021.columns = sodra_data_2021.columns.str.replace(r'^[^\\(]*\\(|\\)', '', regex=True)"
   ]
  },
  {
   "cell_type": "code",
   "execution_count": null,
   "id": "c9af5906",
   "metadata": {
    "ExecuteTime": {
     "end_time": "2022-12-08T18:49:59.847716Z",
     "start_time": "2022-12-08T18:49:59.652611Z"
    },
    "scrolled": false
   },
   "outputs": [],
   "source": [
    "sodra_data_2020['month'] = pd.to_datetime(sodra_data_2020['month'], format='%Y%m')\n",
    "sodra_data_2021['month'] = pd.to_datetime(sodra_data_2021['month'], format='%Y%m')"
   ]
  },
  {
   "cell_type": "code",
   "execution_count": null,
   "id": "6c60b872",
   "metadata": {
    "ExecuteTime": {
     "end_time": "2022-12-08T18:57:07.313270Z",
     "start_time": "2022-12-08T18:57:07.291145Z"
    }
   },
   "outputs": [],
   "source": [
    "sodra_data_2020.rename(columns = {'jarCode':'obj_kodas','month':'reg_date'}, inplace = True)"
   ]
  },
  {
   "cell_type": "code",
   "execution_count": null,
   "id": "f5cc2e3c",
   "metadata": {
    "ExecuteTime": {
     "end_time": "2022-12-08T18:57:10.462174Z",
     "start_time": "2022-12-08T18:57:08.531554Z"
    }
   },
   "outputs": [],
   "source": [
    "companies_2020 = sodra_data_2020.loc[sodra_data_2020['obj_kodas'].isin(balanso_df_2020['obj_kodas'].tolist())]\n",
    "companies_2021 = sodra_data_2021.loc[sodra_data_2021['jarCode'].isin(balanso_df_2021['obj_kodas'].tolist())]"
   ]
  },
  {
   "cell_type": "code",
   "execution_count": null,
   "id": "3be68bc1",
   "metadata": {
    "ExecuteTime": {
     "end_time": "2022-12-08T18:57:11.702607Z",
     "start_time": "2022-12-08T18:57:11.570336Z"
    }
   },
   "outputs": [],
   "source": [
    "companies_2020.sample(5)"
   ]
  },
  {
   "cell_type": "code",
   "execution_count": null,
   "id": "9c293e0c",
   "metadata": {
    "ExecuteTime": {
     "end_time": "2022-12-08T19:03:27.921557Z",
     "start_time": "2022-12-08T19:03:27.182985Z"
    },
    "scrolled": true
   },
   "outputs": [],
   "source": [
    "balanso_df_2020['reg_date'] = pd.to_datetime(balanso_df_2020['reg_date'], utc = True)\n",
    "companies_2020['reg_date'] = pd.to_datetime(companies_2020['reg_date'], utc = True)\n",
    "# test_df = balanso_df_2020.merge(companies_2020, on=\"obj_kodas\", how = 'inner')\n",
    "test_df = balanso_df_2020.merge(companies_2020, on=[\"obj_kodas\",\"reg_date\"], how = 'inner')\n",
    "#test_df = pd.merge([balanso_df_2020, companies_2020], axis=0, ignore_index=True)\n",
    "#test_df = pd.merge(balanso_df_2020, companies_2020,  how='left', left_on=['obj_kodas','obj_kodas'], right_on = ['reg_date','month'])"
   ]
  },
  {
   "cell_type": "code",
   "execution_count": null,
   "id": "bba3c3d4",
   "metadata": {
    "ExecuteTime": {
     "end_time": "2022-12-08T18:59:50.658518Z",
     "start_time": "2022-12-08T18:59:50.636771Z"
    }
   },
   "outputs": [],
   "source": [
    "balanso_df_2020['reg_date'].dtypes"
   ]
  },
  {
   "cell_type": "code",
   "execution_count": null,
   "id": "cc4f0784",
   "metadata": {
    "ExecuteTime": {
     "end_time": "2022-12-08T19:04:06.275296Z",
     "start_time": "2022-12-08T19:04:06.204334Z"
    }
   },
   "outputs": [],
   "source": [
    "companies_2020.loc[companies_2020['obj_kodas']==300021385]"
   ]
  },
  {
   "cell_type": "code",
   "execution_count": null,
   "id": "ae20bdde",
   "metadata": {
    "ExecuteTime": {
     "end_time": "2022-12-08T20:00:32.866805Z",
     "start_time": "2022-12-08T20:00:29.932947Z"
    }
   },
   "outputs": [],
   "source": [
    "!pip freeze > requiremets_Dovile_Dobavolskaite.txt\n"
   ]
  },
  {
   "cell_type": "code",
   "execution_count": null,
   "id": "66127f8b",
   "metadata": {},
   "outputs": [],
   "source": []
  }
 ],
 "metadata": {
  "kernelspec": {
   "display_name": "Python 3",
   "language": "python",
   "name": "python3"
  },
  "language_info": {
   "codemirror_mode": {
    "name": "ipython",
    "version": 3
   },
   "file_extension": ".py",
   "mimetype": "text/x-python",
   "name": "python",
   "nbconvert_exporter": "python",
   "pygments_lexer": "ipython3",
   "version": "3.9.12"
  },
  "toc": {
   "base_numbering": 1,
   "nav_menu": {},
   "number_sections": true,
   "sideBar": true,
   "skip_h1_title": false,
   "title_cell": "Table of Contents",
   "title_sidebar": "Contents",
   "toc_cell": false,
   "toc_position": {},
   "toc_section_display": true,
   "toc_window_display": false
  },
  "varInspector": {
   "cols": {
    "lenName": 16,
    "lenType": 16,
    "lenVar": 40
   },
   "kernels_config": {
    "python": {
     "delete_cmd_postfix": "",
     "delete_cmd_prefix": "del ",
     "library": "var_list.py",
     "varRefreshCmd": "print(var_dic_list())"
    },
    "r": {
     "delete_cmd_postfix": ") ",
     "delete_cmd_prefix": "rm(",
     "library": "var_list.r",
     "varRefreshCmd": "cat(var_dic_list()) "
    }
   },
   "types_to_exclude": [
    "module",
    "function",
    "builtin_function_or_method",
    "instance",
    "_Feature"
   ],
   "window_display": false
  },
  "vscode": {
   "interpreter": {
    "hash": "40d3a090f54c6569ab1632332b64b2c03c39dcf918b08424e98f38b5ae0af88f"
   }
  }
 },
 "nbformat": 4,
 "nbformat_minor": 5
}
