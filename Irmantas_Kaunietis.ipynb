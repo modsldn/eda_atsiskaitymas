{
 "cells": [
  {
   "cell_type": "code",
   "execution_count": 1,
   "id": "740a14f1",
   "metadata": {
    "ExecuteTime": {
     "end_time": "2022-12-08T19:42:56.116021Z",
     "start_time": "2022-12-08T19:42:56.101480Z"
    }
   },
   "outputs": [],
   "source": [
    "# !pip install -r requirements.txt"
   ]
  },
  {
   "cell_type": "code",
   "execution_count": 2,
   "id": "b8bec822",
   "metadata": {
    "ExecuteTime": {
     "end_time": "2022-12-08T19:43:00.249031Z",
     "start_time": "2022-12-08T19:42:56.120556Z"
    }
   },
   "outputs": [
    {
     "data": {
      "application/javascript": [
       "\n",
       "            setTimeout(function() {\n",
       "                var nbb_cell_id = 2;\n",
       "                var nbb_unformatted_code = \"%load_ext nb_black\\nimport pandas as pd\\nimport numpy as np\\nimport matplotlib.pyplot as plt\\nimport seaborn as sns\";\n",
       "                var nbb_formatted_code = \"%load_ext nb_black\\nimport pandas as pd\\nimport numpy as np\\nimport matplotlib.pyplot as plt\\nimport seaborn as sns\";\n",
       "                var nbb_cells = Jupyter.notebook.get_cells();\n",
       "                for (var i = 0; i < nbb_cells.length; ++i) {\n",
       "                    if (nbb_cells[i].input_prompt_number == nbb_cell_id) {\n",
       "                        if (nbb_cells[i].get_text() == nbb_unformatted_code) {\n",
       "                             nbb_cells[i].set_text(nbb_formatted_code);\n",
       "                        }\n",
       "                        break;\n",
       "                    }\n",
       "                }\n",
       "            }, 500);\n",
       "            "
      ],
      "text/plain": [
       "<IPython.core.display.Javascript object>"
      ]
     },
     "metadata": {},
     "output_type": "display_data"
    }
   ],
   "source": [
    "%load_ext nb_black\n",
    "import pandas as pd\n",
    "import numpy as np\n",
    "import matplotlib.pyplot as plt\n",
    "import seaborn as sns"
   ]
  },
  {
   "cell_type": "markdown",
   "id": "0bb70180",
   "metadata": {
    "heading_collapsed": true
   },
   "source": [
    "# Pirma dalis"
   ]
  },
  {
   "cell_type": "markdown",
   "id": "c1948987",
   "metadata": {
    "ExecuteTime": {
     "end_time": "2022-12-05T16:21:20.206862Z",
     "start_time": "2022-12-05T16:21:20.194289Z"
    },
    "heading_collapsed": true,
    "hidden": true
   },
   "source": [
    "## 1-2. Duomenų skaitymas"
   ]
  },
  {
   "cell_type": "code",
   "execution_count": 3,
   "id": "38e89e6c",
   "metadata": {
    "ExecuteTime": {
     "end_time": "2022-12-08T19:43:10.205629Z",
     "start_time": "2022-12-08T19:43:00.252003Z"
    },
    "hidden": true
   },
   "outputs": [
    {
     "data": {
      "text/html": [
       "<div>\n",
       "<style scoped>\n",
       "    .dataframe tbody tr th:only-of-type {\n",
       "        vertical-align: middle;\n",
       "    }\n",
       "\n",
       "    .dataframe tbody tr th {\n",
       "        vertical-align: top;\n",
       "    }\n",
       "\n",
       "    .dataframe thead th {\n",
       "        text-align: right;\n",
       "    }\n",
       "</style>\n",
       "<table border=\"1\" class=\"dataframe\">\n",
       "  <thead>\n",
       "    <tr style=\"text-align: right;\">\n",
       "      <th></th>\n",
       "      <th>obj_kodas</th>\n",
       "      <th>obj_pav</th>\n",
       "      <th>form_kodas</th>\n",
       "      <th>form_pav</th>\n",
       "      <th>stat_statusas</th>\n",
       "      <th>stat_pav</th>\n",
       "      <th>template_id</th>\n",
       "      <th>template_name</th>\n",
       "      <th>standard_id</th>\n",
       "      <th>standard_name</th>\n",
       "      <th>laikotarpis_nuo</th>\n",
       "      <th>laikotarpis_iki</th>\n",
       "      <th>reg_date</th>\n",
       "      <th>nuosavas_kapitalas</th>\n",
       "      <th>mok_sumos_ir_isipareigojimai</th>\n",
       "      <th>ilgalaikis_turtas</th>\n",
       "      <th>trumpalaikis_turtas</th>\n",
       "    </tr>\n",
       "  </thead>\n",
       "  <tbody>\n",
       "    <tr>\n",
       "      <th>22424</th>\n",
       "      <td>304431353</td>\n",
       "      <td>MB \"Finansų idėjos\"</td>\n",
       "      <td>960</td>\n",
       "      <td>Mažoji bendrija</td>\n",
       "      <td>0</td>\n",
       "      <td>Teisinis stat neįregistruotas</td>\n",
       "      <td>FS0322</td>\n",
       "      <td>Mažųjų bendrijų finansinių ataskaitų rinkinys</td>\n",
       "      <td>BST217</td>\n",
       "      <td>BALANSAS (Neribotos civilinės atsakomybės juri...</td>\n",
       "      <td>2019-01-01</td>\n",
       "      <td>2019-12-31</td>\n",
       "      <td>2021-05-16</td>\n",
       "      <td>8284.0</td>\n",
       "      <td>NaN</td>\n",
       "      <td>676.0</td>\n",
       "      <td>7636.0</td>\n",
       "    </tr>\n",
       "    <tr>\n",
       "      <th>60332</th>\n",
       "      <td>174960681</td>\n",
       "      <td>Uždaroji akcinė bendrovė \"Kęsminta\"</td>\n",
       "      <td>310</td>\n",
       "      <td>Uždaroji akcinė bendrovė</td>\n",
       "      <td>0</td>\n",
       "      <td>Teisinis stat neįregistruotas</td>\n",
       "      <td>FS0128</td>\n",
       "      <td>Labai mažų įmonių, taikančių išimtis, finansin...</td>\n",
       "      <td>BST122</td>\n",
       "      <td>BALANSAS (Trumpas)</td>\n",
       "      <td>2020-01-01</td>\n",
       "      <td>2020-12-31</td>\n",
       "      <td>2021-03-02</td>\n",
       "      <td>-167850.0</td>\n",
       "      <td>610943.0</td>\n",
       "      <td>424120.0</td>\n",
       "      <td>18083.0</td>\n",
       "    </tr>\n",
       "    <tr>\n",
       "      <th>104476</th>\n",
       "      <td>304771548</td>\n",
       "      <td>UAB \"Balta manija\"</td>\n",
       "      <td>310</td>\n",
       "      <td>Uždaroji akcinė bendrovė</td>\n",
       "      <td>0</td>\n",
       "      <td>Teisinis stat neįregistruotas</td>\n",
       "      <td>FS0128</td>\n",
       "      <td>Labai mažų įmonių, taikančių išimtis, finansin...</td>\n",
       "      <td>BST122</td>\n",
       "      <td>BALANSAS (Trumpas)</td>\n",
       "      <td>2020-01-01</td>\n",
       "      <td>2020-12-31</td>\n",
       "      <td>2021-05-12</td>\n",
       "      <td>-1353.0</td>\n",
       "      <td>4933.0</td>\n",
       "      <td>0.0</td>\n",
       "      <td>3580.0</td>\n",
       "    </tr>\n",
       "    <tr>\n",
       "      <th>51251</th>\n",
       "      <td>304849623</td>\n",
       "      <td>MB \"Techniniai projektai\"</td>\n",
       "      <td>960</td>\n",
       "      <td>Mažoji bendrija</td>\n",
       "      <td>0</td>\n",
       "      <td>Teisinis stat neįregistruotas</td>\n",
       "      <td>FS0322</td>\n",
       "      <td>Mažųjų bendrijų finansinių ataskaitų rinkinys</td>\n",
       "      <td>BST217</td>\n",
       "      <td>BALANSAS (Neribotos civilinės atsakomybės juri...</td>\n",
       "      <td>2020-01-01</td>\n",
       "      <td>2020-12-31</td>\n",
       "      <td>2021-05-25</td>\n",
       "      <td>22261.0</td>\n",
       "      <td>NaN</td>\n",
       "      <td>0.0</td>\n",
       "      <td>29082.0</td>\n",
       "    </tr>\n",
       "    <tr>\n",
       "      <th>117918</th>\n",
       "      <td>275021220</td>\n",
       "      <td>Uždaroji akcinė bendrovė \"Brodenta\"</td>\n",
       "      <td>310</td>\n",
       "      <td>Uždaroji akcinė bendrovė</td>\n",
       "      <td>0</td>\n",
       "      <td>Teisinis stat neįregistruotas</td>\n",
       "      <td>FS0129</td>\n",
       "      <td>Mažų ir labai mažų įmonių, netaikančių išimčių...</td>\n",
       "      <td>BST124</td>\n",
       "      <td>BALANSAS (Sutrumpintas)</td>\n",
       "      <td>2020-01-01</td>\n",
       "      <td>2020-12-31</td>\n",
       "      <td>2021-04-16</td>\n",
       "      <td>11835.0</td>\n",
       "      <td>353.0</td>\n",
       "      <td>7302.0</td>\n",
       "      <td>4886.0</td>\n",
       "    </tr>\n",
       "  </tbody>\n",
       "</table>\n",
       "</div>"
      ],
      "text/plain": [
       "        obj_kodas                              obj_pav  form_kodas  \\\n",
       "22424   304431353                  MB \"Finansų idėjos\"         960   \n",
       "60332   174960681  Uždaroji akcinė bendrovė \"Kęsminta\"         310   \n",
       "104476  304771548                   UAB \"Balta manija\"         310   \n",
       "51251   304849623            MB \"Techniniai projektai\"         960   \n",
       "117918  275021220  Uždaroji akcinė bendrovė \"Brodenta\"         310   \n",
       "\n",
       "                        form_pav  stat_statusas  \\\n",
       "22424            Mažoji bendrija              0   \n",
       "60332   Uždaroji akcinė bendrovė              0   \n",
       "104476  Uždaroji akcinė bendrovė              0   \n",
       "51251            Mažoji bendrija              0   \n",
       "117918  Uždaroji akcinė bendrovė              0   \n",
       "\n",
       "                             stat_pav template_id  \\\n",
       "22424   Teisinis stat neįregistruotas      FS0322   \n",
       "60332   Teisinis stat neįregistruotas      FS0128   \n",
       "104476  Teisinis stat neįregistruotas      FS0128   \n",
       "51251   Teisinis stat neįregistruotas      FS0322   \n",
       "117918  Teisinis stat neįregistruotas      FS0129   \n",
       "\n",
       "                                            template_name standard_id  \\\n",
       "22424       Mažųjų bendrijų finansinių ataskaitų rinkinys      BST217   \n",
       "60332   Labai mažų įmonių, taikančių išimtis, finansin...      BST122   \n",
       "104476  Labai mažų įmonių, taikančių išimtis, finansin...      BST122   \n",
       "51251       Mažųjų bendrijų finansinių ataskaitų rinkinys      BST217   \n",
       "117918  Mažų ir labai mažų įmonių, netaikančių išimčių...      BST124   \n",
       "\n",
       "                                            standard_name laikotarpis_nuo  \\\n",
       "22424   BALANSAS (Neribotos civilinės atsakomybės juri...      2019-01-01   \n",
       "60332                                  BALANSAS (Trumpas)      2020-01-01   \n",
       "104476                                 BALANSAS (Trumpas)      2020-01-01   \n",
       "51251   BALANSAS (Neribotos civilinės atsakomybės juri...      2020-01-01   \n",
       "117918                            BALANSAS (Sutrumpintas)      2020-01-01   \n",
       "\n",
       "       laikotarpis_iki    reg_date  nuosavas_kapitalas  \\\n",
       "22424       2019-12-31  2021-05-16              8284.0   \n",
       "60332       2020-12-31  2021-03-02           -167850.0   \n",
       "104476      2020-12-31  2021-05-12             -1353.0   \n",
       "51251       2020-12-31  2021-05-25             22261.0   \n",
       "117918      2020-12-31  2021-04-16             11835.0   \n",
       "\n",
       "        mok_sumos_ir_isipareigojimai  ilgalaikis_turtas  trumpalaikis_turtas  \n",
       "22424                            NaN              676.0               7636.0  \n",
       "60332                       610943.0           424120.0              18083.0  \n",
       "104476                        4933.0                0.0               3580.0  \n",
       "51251                            NaN                0.0              29082.0  \n",
       "117918                         353.0             7302.0               4886.0  "
      ]
     },
     "execution_count": 3,
     "metadata": {},
     "output_type": "execute_result"
    },
    {
     "data": {
      "application/javascript": [
       "\n",
       "            setTimeout(function() {\n",
       "                var nbb_cell_id = 3;\n",
       "                var nbb_unformatted_code = \"df_BLNS_2020 = pd.read_csv(\\n    \\\"https://www.registrucentras.lt/aduomenys/?byla=JAR_FA_RODIKLIAI_BLNS_2020.csv\\\"\\n)\\ndf_BLNS_2021 = pd.read_csv(\\n    \\\"https://www.registrucentras.lt/aduomenys/?byla=JAR_FA_RODIKLIAI_BLNS_2021.csv\\\"\\n)\\n\\n# I\\u0161metame paskutin\\u012f stulpel\\u012f (dokumento formavimo dat\\u0105)\\ndf_BLNS_2020 = df_BLNS_2020.iloc[:, :-1]\\ndf_BLNS_2021 = df_BLNS_2021.iloc[:, :-1]\\n\\ndf_BLNS_2021.sample(5)\";\n",
       "                var nbb_formatted_code = \"df_BLNS_2020 = pd.read_csv(\\n    \\\"https://www.registrucentras.lt/aduomenys/?byla=JAR_FA_RODIKLIAI_BLNS_2020.csv\\\"\\n)\\ndf_BLNS_2021 = pd.read_csv(\\n    \\\"https://www.registrucentras.lt/aduomenys/?byla=JAR_FA_RODIKLIAI_BLNS_2021.csv\\\"\\n)\\n\\n# I\\u0161metame paskutin\\u012f stulpel\\u012f (dokumento formavimo dat\\u0105)\\ndf_BLNS_2020 = df_BLNS_2020.iloc[:, :-1]\\ndf_BLNS_2021 = df_BLNS_2021.iloc[:, :-1]\\n\\ndf_BLNS_2021.sample(5)\";\n",
       "                var nbb_cells = Jupyter.notebook.get_cells();\n",
       "                for (var i = 0; i < nbb_cells.length; ++i) {\n",
       "                    if (nbb_cells[i].input_prompt_number == nbb_cell_id) {\n",
       "                        if (nbb_cells[i].get_text() == nbb_unformatted_code) {\n",
       "                             nbb_cells[i].set_text(nbb_formatted_code);\n",
       "                        }\n",
       "                        break;\n",
       "                    }\n",
       "                }\n",
       "            }, 500);\n",
       "            "
      ],
      "text/plain": [
       "<IPython.core.display.Javascript object>"
      ]
     },
     "metadata": {},
     "output_type": "display_data"
    }
   ],
   "source": [
    "df_BLNS_2020 = pd.read_csv(\n",
    "    \"https://www.registrucentras.lt/aduomenys/?byla=JAR_FA_RODIKLIAI_BLNS_2020.csv\"\n",
    ")\n",
    "df_BLNS_2021 = pd.read_csv(\n",
    "    \"https://www.registrucentras.lt/aduomenys/?byla=JAR_FA_RODIKLIAI_BLNS_2021.csv\"\n",
    ")\n",
    "\n",
    "# Išmetame paskutinį stulpelį (dokumento formavimo datą)\n",
    "df_BLNS_2020 = df_BLNS_2020.iloc[:, :-1]\n",
    "df_BLNS_2021 = df_BLNS_2021.iloc[:, :-1]\n",
    "\n",
    "df_BLNS_2021.sample(5)"
   ]
  },
  {
   "cell_type": "code",
   "execution_count": 4,
   "id": "3259cd6c",
   "metadata": {
    "ExecuteTime": {
     "end_time": "2022-12-08T19:43:19.013498Z",
     "start_time": "2022-12-08T19:43:10.212682Z"
    },
    "hidden": true
   },
   "outputs": [
    {
     "data": {
      "text/html": [
       "<div>\n",
       "<style scoped>\n",
       "    .dataframe tbody tr th:only-of-type {\n",
       "        vertical-align: middle;\n",
       "    }\n",
       "\n",
       "    .dataframe tbody tr th {\n",
       "        vertical-align: top;\n",
       "    }\n",
       "\n",
       "    .dataframe thead th {\n",
       "        text-align: right;\n",
       "    }\n",
       "</style>\n",
       "<table border=\"1\" class=\"dataframe\">\n",
       "  <thead>\n",
       "    <tr style=\"text-align: right;\">\n",
       "      <th></th>\n",
       "      <th>obj_kodas</th>\n",
       "      <th>obj_pav</th>\n",
       "      <th>form_kodas</th>\n",
       "      <th>form_pav</th>\n",
       "      <th>stat_statusas</th>\n",
       "      <th>stat_pav</th>\n",
       "      <th>template_id</th>\n",
       "      <th>template_name</th>\n",
       "      <th>standard_id</th>\n",
       "      <th>standard_name</th>\n",
       "      <th>laikotarpis_nuo</th>\n",
       "      <th>laikotarpis_iki</th>\n",
       "      <th>reg_date</th>\n",
       "      <th>pelnas_pries_apmokestinima</th>\n",
       "      <th>grynasis_pelnas</th>\n",
       "      <th>pardavimo_pajamos</th>\n",
       "    </tr>\n",
       "  </thead>\n",
       "  <tbody>\n",
       "    <tr>\n",
       "      <th>69762</th>\n",
       "      <td>304719875</td>\n",
       "      <td>UAB \"Vygora\"</td>\n",
       "      <td>310</td>\n",
       "      <td>Uždaroji akcinė bendrovė</td>\n",
       "      <td>0</td>\n",
       "      <td>Teisinis stat neįregistruotas</td>\n",
       "      <td>FS0129</td>\n",
       "      <td>Mažų ir labai mažų įmonių, netaikančių išimčių...</td>\n",
       "      <td>IST024</td>\n",
       "      <td>PELNO (NUOSTOLIŲ) ATASKAITA</td>\n",
       "      <td>2020-01-01</td>\n",
       "      <td>2020-12-31</td>\n",
       "      <td>2021-03-31</td>\n",
       "      <td>445.0</td>\n",
       "      <td>391.0</td>\n",
       "      <td>NaN</td>\n",
       "    </tr>\n",
       "    <tr>\n",
       "      <th>88933</th>\n",
       "      <td>304716676</td>\n",
       "      <td>UAB \"Kaimelis\"</td>\n",
       "      <td>310</td>\n",
       "      <td>Uždaroji akcinė bendrovė</td>\n",
       "      <td>26</td>\n",
       "      <td>Likviduojamas dėl bankroto</td>\n",
       "      <td>FS0129</td>\n",
       "      <td>Mažų ir labai mažų įmonių, netaikančių išimčių...</td>\n",
       "      <td>IST024</td>\n",
       "      <td>PELNO (NUOSTOLIŲ) ATASKAITA</td>\n",
       "      <td>2020-01-01</td>\n",
       "      <td>2020-12-31</td>\n",
       "      <td>2021-06-01</td>\n",
       "      <td>-20823.0</td>\n",
       "      <td>-20823.0</td>\n",
       "      <td>19403.0</td>\n",
       "    </tr>\n",
       "    <tr>\n",
       "      <th>107539</th>\n",
       "      <td>301507422</td>\n",
       "      <td>UAB \"DASBASAS\"</td>\n",
       "      <td>310</td>\n",
       "      <td>Uždaroji akcinė bendrovė</td>\n",
       "      <td>0</td>\n",
       "      <td>Teisinis stat neįregistruotas</td>\n",
       "      <td>FS0128</td>\n",
       "      <td>Labai mažų įmonių, taikančių išimtis, finansin...</td>\n",
       "      <td>IST023</td>\n",
       "      <td>PELNO (NUOSTOLIŲ) ATASKAITA (Trumpa)</td>\n",
       "      <td>2020-01-01</td>\n",
       "      <td>2020-12-31</td>\n",
       "      <td>2021-04-29</td>\n",
       "      <td>NaN</td>\n",
       "      <td>-1717.0</td>\n",
       "      <td>19973.0</td>\n",
       "    </tr>\n",
       "    <tr>\n",
       "      <th>100431</th>\n",
       "      <td>302590296</td>\n",
       "      <td>UAB \"Luca\"</td>\n",
       "      <td>310</td>\n",
       "      <td>Uždaroji akcinė bendrovė</td>\n",
       "      <td>0</td>\n",
       "      <td>Teisinis stat neįregistruotas</td>\n",
       "      <td>FS0129</td>\n",
       "      <td>Mažų ir labai mažų įmonių, netaikančių išimčių...</td>\n",
       "      <td>IST024</td>\n",
       "      <td>PELNO (NUOSTOLIŲ) ATASKAITA</td>\n",
       "      <td>2020-01-01</td>\n",
       "      <td>2020-12-31</td>\n",
       "      <td>2021-05-07</td>\n",
       "      <td>-30125.0</td>\n",
       "      <td>-30125.0</td>\n",
       "      <td>10160.0</td>\n",
       "    </tr>\n",
       "    <tr>\n",
       "      <th>78780</th>\n",
       "      <td>304430568</td>\n",
       "      <td>UAB \"Agrojoris\"</td>\n",
       "      <td>310</td>\n",
       "      <td>Uždaroji akcinė bendrovė</td>\n",
       "      <td>0</td>\n",
       "      <td>Teisinis stat neįregistruotas</td>\n",
       "      <td>FS0129</td>\n",
       "      <td>Mažų ir labai mažų įmonių, netaikančių išimčių...</td>\n",
       "      <td>IST024</td>\n",
       "      <td>PELNO (NUOSTOLIŲ) ATASKAITA</td>\n",
       "      <td>2020-01-01</td>\n",
       "      <td>2020-12-31</td>\n",
       "      <td>2021-12-15</td>\n",
       "      <td>-91.0</td>\n",
       "      <td>-91.0</td>\n",
       "      <td>NaN</td>\n",
       "    </tr>\n",
       "  </tbody>\n",
       "</table>\n",
       "</div>"
      ],
      "text/plain": [
       "        obj_kodas          obj_pav  form_kodas                  form_pav  \\\n",
       "69762   304719875     UAB \"Vygora\"         310  Uždaroji akcinė bendrovė   \n",
       "88933   304716676   UAB \"Kaimelis\"         310  Uždaroji akcinė bendrovė   \n",
       "107539  301507422   UAB \"DASBASAS\"         310  Uždaroji akcinė bendrovė   \n",
       "100431  302590296       UAB \"Luca\"         310  Uždaroji akcinė bendrovė   \n",
       "78780   304430568  UAB \"Agrojoris\"         310  Uždaroji akcinė bendrovė   \n",
       "\n",
       "        stat_statusas                       stat_pav template_id  \\\n",
       "69762               0  Teisinis stat neįregistruotas      FS0129   \n",
       "88933              26     Likviduojamas dėl bankroto      FS0129   \n",
       "107539              0  Teisinis stat neįregistruotas      FS0128   \n",
       "100431              0  Teisinis stat neįregistruotas      FS0129   \n",
       "78780               0  Teisinis stat neįregistruotas      FS0129   \n",
       "\n",
       "                                            template_name standard_id  \\\n",
       "69762   Mažų ir labai mažų įmonių, netaikančių išimčių...      IST024   \n",
       "88933   Mažų ir labai mažų įmonių, netaikančių išimčių...      IST024   \n",
       "107539  Labai mažų įmonių, taikančių išimtis, finansin...      IST023   \n",
       "100431  Mažų ir labai mažų įmonių, netaikančių išimčių...      IST024   \n",
       "78780   Mažų ir labai mažų įmonių, netaikančių išimčių...      IST024   \n",
       "\n",
       "                               standard_name laikotarpis_nuo laikotarpis_iki  \\\n",
       "69762            PELNO (NUOSTOLIŲ) ATASKAITA      2020-01-01      2020-12-31   \n",
       "88933            PELNO (NUOSTOLIŲ) ATASKAITA      2020-01-01      2020-12-31   \n",
       "107539  PELNO (NUOSTOLIŲ) ATASKAITA (Trumpa)      2020-01-01      2020-12-31   \n",
       "100431           PELNO (NUOSTOLIŲ) ATASKAITA      2020-01-01      2020-12-31   \n",
       "78780            PELNO (NUOSTOLIŲ) ATASKAITA      2020-01-01      2020-12-31   \n",
       "\n",
       "          reg_date  pelnas_pries_apmokestinima  grynasis_pelnas  \\\n",
       "69762   2021-03-31                       445.0            391.0   \n",
       "88933   2021-06-01                    -20823.0         -20823.0   \n",
       "107539  2021-04-29                         NaN          -1717.0   \n",
       "100431  2021-05-07                    -30125.0         -30125.0   \n",
       "78780   2021-12-15                       -91.0            -91.0   \n",
       "\n",
       "        pardavimo_pajamos  \n",
       "69762                 NaN  \n",
       "88933             19403.0  \n",
       "107539            19973.0  \n",
       "100431            10160.0  \n",
       "78780                 NaN  "
      ]
     },
     "execution_count": 4,
     "metadata": {},
     "output_type": "execute_result"
    },
    {
     "data": {
      "application/javascript": [
       "\n",
       "            setTimeout(function() {\n",
       "                var nbb_cell_id = 4;\n",
       "                var nbb_unformatted_code = \"df_PLNA_2020 = pd.read_csv(\\n    \\\"https://www.registrucentras.lt/aduomenys/?byla=JAR_FA_RODIKLIAI_PLNA_2020.csv\\\"\\n)\\ndf_PLNA_2021 = pd.read_csv(\\n    \\\"https://www.registrucentras.lt/aduomenys/?byla=JAR_FA_RODIKLIAI_PLNA_2021.csv\\\"\\n)\\n\\n# I\\u0161metame paskutin\\u012f stulpel\\u012f (dokumento formavimo dat\\u0105)\\ndf_PLNA_2020 = df_PLNA_2020.iloc[:, :-1]\\ndf_PLNA_2021 = df_PLNA_2021.iloc[:, :-1]\\n\\ndf_PLNA_2021.sample(5)\";\n",
       "                var nbb_formatted_code = \"df_PLNA_2020 = pd.read_csv(\\n    \\\"https://www.registrucentras.lt/aduomenys/?byla=JAR_FA_RODIKLIAI_PLNA_2020.csv\\\"\\n)\\ndf_PLNA_2021 = pd.read_csv(\\n    \\\"https://www.registrucentras.lt/aduomenys/?byla=JAR_FA_RODIKLIAI_PLNA_2021.csv\\\"\\n)\\n\\n# I\\u0161metame paskutin\\u012f stulpel\\u012f (dokumento formavimo dat\\u0105)\\ndf_PLNA_2020 = df_PLNA_2020.iloc[:, :-1]\\ndf_PLNA_2021 = df_PLNA_2021.iloc[:, :-1]\\n\\ndf_PLNA_2021.sample(5)\";\n",
       "                var nbb_cells = Jupyter.notebook.get_cells();\n",
       "                for (var i = 0; i < nbb_cells.length; ++i) {\n",
       "                    if (nbb_cells[i].input_prompt_number == nbb_cell_id) {\n",
       "                        if (nbb_cells[i].get_text() == nbb_unformatted_code) {\n",
       "                             nbb_cells[i].set_text(nbb_formatted_code);\n",
       "                        }\n",
       "                        break;\n",
       "                    }\n",
       "                }\n",
       "            }, 500);\n",
       "            "
      ],
      "text/plain": [
       "<IPython.core.display.Javascript object>"
      ]
     },
     "metadata": {},
     "output_type": "display_data"
    }
   ],
   "source": [
    "df_PLNA_2020 = pd.read_csv(\n",
    "    \"https://www.registrucentras.lt/aduomenys/?byla=JAR_FA_RODIKLIAI_PLNA_2020.csv\"\n",
    ")\n",
    "df_PLNA_2021 = pd.read_csv(\n",
    "    \"https://www.registrucentras.lt/aduomenys/?byla=JAR_FA_RODIKLIAI_PLNA_2021.csv\"\n",
    ")\n",
    "\n",
    "# Išmetame paskutinį stulpelį (dokumento formavimo datą)\n",
    "df_PLNA_2020 = df_PLNA_2020.iloc[:, :-1]\n",
    "df_PLNA_2021 = df_PLNA_2021.iloc[:, :-1]\n",
    "\n",
    "df_PLNA_2021.sample(5)"
   ]
  },
  {
   "cell_type": "markdown",
   "id": "b6a63b8d",
   "metadata": {
    "heading_collapsed": true,
    "hidden": true
   },
   "source": [
    "## 3. Duomenų informacija"
   ]
  },
  {
   "cell_type": "markdown",
   "id": "330e0046",
   "metadata": {
    "heading_collapsed": true,
    "hidden": true
   },
   "source": [
    "### 3.a. Ką reiškia skirtingi duomenų laukai? Iš kokių atributų sudaryti duomenys?"
   ]
  },
  {
   "cell_type": "markdown",
   "id": "41575afa",
   "metadata": {
    "hidden": true
   },
   "source": [
    "Skirtingi duomenų laukai duoda skirtingą informaciją apie imonę (įrašo lygmenyje)"
   ]
  },
  {
   "cell_type": "code",
   "execution_count": 5,
   "id": "d703aa33",
   "metadata": {
    "ExecuteTime": {
     "end_time": "2022-12-08T19:43:19.044662Z",
     "start_time": "2022-12-08T19:43:19.016498Z"
    },
    "hidden": true
   },
   "outputs": [
    {
     "data": {
      "text/plain": [
       "obj_kodas                         int64\n",
       "obj_pav                          object\n",
       "form_kodas                        int64\n",
       "form_pav                         object\n",
       "stat_statusas                     int64\n",
       "stat_pav                         object\n",
       "template_id                      object\n",
       "template_name                    object\n",
       "standard_id                      object\n",
       "standard_name                    object\n",
       "laikotarpis_nuo                  object\n",
       "laikotarpis_iki                  object\n",
       "reg_date                         object\n",
       "nuosavas_kapitalas              float64\n",
       "mok_sumos_ir_isipareigojimai    float64\n",
       "ilgalaikis_turtas               float64\n",
       "trumpalaikis_turtas             float64\n",
       "dtype: object"
      ]
     },
     "execution_count": 5,
     "metadata": {},
     "output_type": "execute_result"
    },
    {
     "data": {
      "application/javascript": [
       "\n",
       "            setTimeout(function() {\n",
       "                var nbb_cell_id = 5;\n",
       "                var nbb_unformatted_code = \"df_BLNS_2020.dtypes\";\n",
       "                var nbb_formatted_code = \"df_BLNS_2020.dtypes\";\n",
       "                var nbb_cells = Jupyter.notebook.get_cells();\n",
       "                for (var i = 0; i < nbb_cells.length; ++i) {\n",
       "                    if (nbb_cells[i].input_prompt_number == nbb_cell_id) {\n",
       "                        if (nbb_cells[i].get_text() == nbb_unformatted_code) {\n",
       "                             nbb_cells[i].set_text(nbb_formatted_code);\n",
       "                        }\n",
       "                        break;\n",
       "                    }\n",
       "                }\n",
       "            }, 500);\n",
       "            "
      ],
      "text/plain": [
       "<IPython.core.display.Javascript object>"
      ]
     },
     "metadata": {},
     "output_type": "display_data"
    }
   ],
   "source": [
    "df_BLNS_2020.dtypes"
   ]
  },
  {
   "cell_type": "code",
   "execution_count": 6,
   "id": "80ab78c7",
   "metadata": {
    "ExecuteTime": {
     "end_time": "2022-12-08T19:43:19.075307Z",
     "start_time": "2022-12-08T19:43:19.049225Z"
    },
    "hidden": true
   },
   "outputs": [
    {
     "data": {
      "text/plain": [
       "obj_kodas                         int64\n",
       "obj_pav                          object\n",
       "form_kodas                        int64\n",
       "form_pav                         object\n",
       "stat_statusas                     int64\n",
       "stat_pav                         object\n",
       "template_id                      object\n",
       "template_name                    object\n",
       "standard_id                      object\n",
       "standard_name                    object\n",
       "laikotarpis_nuo                  object\n",
       "laikotarpis_iki                  object\n",
       "reg_date                         object\n",
       "nuosavas_kapitalas              float64\n",
       "mok_sumos_ir_isipareigojimai    float64\n",
       "ilgalaikis_turtas               float64\n",
       "trumpalaikis_turtas             float64\n",
       "dtype: object"
      ]
     },
     "execution_count": 6,
     "metadata": {},
     "output_type": "execute_result"
    },
    {
     "data": {
      "application/javascript": [
       "\n",
       "            setTimeout(function() {\n",
       "                var nbb_cell_id = 6;\n",
       "                var nbb_unformatted_code = \"df_BLNS_2021.dtypes\";\n",
       "                var nbb_formatted_code = \"df_BLNS_2021.dtypes\";\n",
       "                var nbb_cells = Jupyter.notebook.get_cells();\n",
       "                for (var i = 0; i < nbb_cells.length; ++i) {\n",
       "                    if (nbb_cells[i].input_prompt_number == nbb_cell_id) {\n",
       "                        if (nbb_cells[i].get_text() == nbb_unformatted_code) {\n",
       "                             nbb_cells[i].set_text(nbb_formatted_code);\n",
       "                        }\n",
       "                        break;\n",
       "                    }\n",
       "                }\n",
       "            }, 500);\n",
       "            "
      ],
      "text/plain": [
       "<IPython.core.display.Javascript object>"
      ]
     },
     "metadata": {},
     "output_type": "display_data"
    }
   ],
   "source": [
    "df_BLNS_2021.dtypes"
   ]
  },
  {
   "cell_type": "code",
   "execution_count": 7,
   "id": "36b0a908",
   "metadata": {
    "ExecuteTime": {
     "end_time": "2022-12-08T19:43:19.106903Z",
     "start_time": "2022-12-08T19:43:19.079790Z"
    },
    "hidden": true
   },
   "outputs": [
    {
     "data": {
      "text/plain": [
       "obj_kodas                       int64\n",
       "obj_pav                        object\n",
       "form_kodas                      int64\n",
       "form_pav                       object\n",
       "stat_statusas                   int64\n",
       "stat_pav                       object\n",
       "template_id                    object\n",
       "template_name                  object\n",
       "standard_id                    object\n",
       "standard_name                  object\n",
       "laikotarpis_nuo                object\n",
       "laikotarpis_iki                object\n",
       "reg_date                       object\n",
       "pelnas_pries_apmokestinima    float64\n",
       "grynasis_pelnas               float64\n",
       "pardavimo_pajamos             float64\n",
       "dtype: object"
      ]
     },
     "execution_count": 7,
     "metadata": {},
     "output_type": "execute_result"
    },
    {
     "data": {
      "application/javascript": [
       "\n",
       "            setTimeout(function() {\n",
       "                var nbb_cell_id = 7;\n",
       "                var nbb_unformatted_code = \"df_PLNA_2020.dtypes\";\n",
       "                var nbb_formatted_code = \"df_PLNA_2020.dtypes\";\n",
       "                var nbb_cells = Jupyter.notebook.get_cells();\n",
       "                for (var i = 0; i < nbb_cells.length; ++i) {\n",
       "                    if (nbb_cells[i].input_prompt_number == nbb_cell_id) {\n",
       "                        if (nbb_cells[i].get_text() == nbb_unformatted_code) {\n",
       "                             nbb_cells[i].set_text(nbb_formatted_code);\n",
       "                        }\n",
       "                        break;\n",
       "                    }\n",
       "                }\n",
       "            }, 500);\n",
       "            "
      ],
      "text/plain": [
       "<IPython.core.display.Javascript object>"
      ]
     },
     "metadata": {},
     "output_type": "display_data"
    }
   ],
   "source": [
    "df_PLNA_2020.dtypes"
   ]
  },
  {
   "cell_type": "code",
   "execution_count": 8,
   "id": "c45f0c48",
   "metadata": {
    "ExecuteTime": {
     "end_time": "2022-12-08T19:43:19.138037Z",
     "start_time": "2022-12-08T19:43:19.113433Z"
    },
    "hidden": true
   },
   "outputs": [
    {
     "data": {
      "text/plain": [
       "obj_kodas                       int64\n",
       "obj_pav                        object\n",
       "form_kodas                      int64\n",
       "form_pav                       object\n",
       "stat_statusas                   int64\n",
       "stat_pav                       object\n",
       "template_id                    object\n",
       "template_name                  object\n",
       "standard_id                    object\n",
       "standard_name                  object\n",
       "laikotarpis_nuo                object\n",
       "laikotarpis_iki                object\n",
       "reg_date                       object\n",
       "pelnas_pries_apmokestinima    float64\n",
       "grynasis_pelnas               float64\n",
       "pardavimo_pajamos             float64\n",
       "dtype: object"
      ]
     },
     "execution_count": 8,
     "metadata": {},
     "output_type": "execute_result"
    },
    {
     "data": {
      "application/javascript": [
       "\n",
       "            setTimeout(function() {\n",
       "                var nbb_cell_id = 8;\n",
       "                var nbb_unformatted_code = \"df_PLNA_2021.dtypes\";\n",
       "                var nbb_formatted_code = \"df_PLNA_2021.dtypes\";\n",
       "                var nbb_cells = Jupyter.notebook.get_cells();\n",
       "                for (var i = 0; i < nbb_cells.length; ++i) {\n",
       "                    if (nbb_cells[i].input_prompt_number == nbb_cell_id) {\n",
       "                        if (nbb_cells[i].get_text() == nbb_unformatted_code) {\n",
       "                             nbb_cells[i].set_text(nbb_formatted_code);\n",
       "                        }\n",
       "                        break;\n",
       "                    }\n",
       "                }\n",
       "            }, 500);\n",
       "            "
      ],
      "text/plain": [
       "<IPython.core.display.Javascript object>"
      ]
     },
     "metadata": {},
     "output_type": "display_data"
    }
   ],
   "source": [
    "df_PLNA_2021.dtypes"
   ]
  },
  {
   "cell_type": "markdown",
   "id": "32c093f0",
   "metadata": {
    "heading_collapsed": true,
    "hidden": true
   },
   "source": [
    "### 3.b. Kiek reikšmių ir požymių turi kiekvienas iš dokumentų?"
   ]
  },
  {
   "cell_type": "code",
   "execution_count": 9,
   "id": "434f26f8",
   "metadata": {
    "ExecuteTime": {
     "end_time": "2022-12-08T19:43:19.169265Z",
     "start_time": "2022-12-08T19:43:19.150138Z"
    },
    "hidden": true
   },
   "outputs": [
    {
     "data": {
      "text/plain": [
       "(106318, 17)"
      ]
     },
     "execution_count": 9,
     "metadata": {},
     "output_type": "execute_result"
    },
    {
     "data": {
      "application/javascript": [
       "\n",
       "            setTimeout(function() {\n",
       "                var nbb_cell_id = 9;\n",
       "                var nbb_unformatted_code = \"df_BLNS_2020.shape\";\n",
       "                var nbb_formatted_code = \"df_BLNS_2020.shape\";\n",
       "                var nbb_cells = Jupyter.notebook.get_cells();\n",
       "                for (var i = 0; i < nbb_cells.length; ++i) {\n",
       "                    if (nbb_cells[i].input_prompt_number == nbb_cell_id) {\n",
       "                        if (nbb_cells[i].get_text() == nbb_unformatted_code) {\n",
       "                             nbb_cells[i].set_text(nbb_formatted_code);\n",
       "                        }\n",
       "                        break;\n",
       "                    }\n",
       "                }\n",
       "            }, 500);\n",
       "            "
      ],
      "text/plain": [
       "<IPython.core.display.Javascript object>"
      ]
     },
     "metadata": {},
     "output_type": "display_data"
    }
   ],
   "source": [
    "df_BLNS_2020.shape"
   ]
  },
  {
   "cell_type": "code",
   "execution_count": 10,
   "id": "902a829e",
   "metadata": {
    "ExecuteTime": {
     "end_time": "2022-12-08T19:43:19.200794Z",
     "start_time": "2022-12-08T19:43:19.173164Z"
    },
    "hidden": true
   },
   "outputs": [
    {
     "data": {
      "text/plain": [
       "(120850, 17)"
      ]
     },
     "execution_count": 10,
     "metadata": {},
     "output_type": "execute_result"
    },
    {
     "data": {
      "application/javascript": [
       "\n",
       "            setTimeout(function() {\n",
       "                var nbb_cell_id = 10;\n",
       "                var nbb_unformatted_code = \"df_BLNS_2021.shape\";\n",
       "                var nbb_formatted_code = \"df_BLNS_2021.shape\";\n",
       "                var nbb_cells = Jupyter.notebook.get_cells();\n",
       "                for (var i = 0; i < nbb_cells.length; ++i) {\n",
       "                    if (nbb_cells[i].input_prompt_number == nbb_cell_id) {\n",
       "                        if (nbb_cells[i].get_text() == nbb_unformatted_code) {\n",
       "                             nbb_cells[i].set_text(nbb_formatted_code);\n",
       "                        }\n",
       "                        break;\n",
       "                    }\n",
       "                }\n",
       "            }, 500);\n",
       "            "
      ],
      "text/plain": [
       "<IPython.core.display.Javascript object>"
      ]
     },
     "metadata": {},
     "output_type": "display_data"
    }
   ],
   "source": [
    "df_BLNS_2021.shape"
   ]
  },
  {
   "cell_type": "code",
   "execution_count": 11,
   "id": "f81ea798",
   "metadata": {
    "ExecuteTime": {
     "end_time": "2022-12-08T19:43:19.231974Z",
     "start_time": "2022-12-08T19:43:19.204795Z"
    },
    "hidden": true
   },
   "outputs": [
    {
     "data": {
      "text/plain": [
       "(96616, 16)"
      ]
     },
     "execution_count": 11,
     "metadata": {},
     "output_type": "execute_result"
    },
    {
     "data": {
      "application/javascript": [
       "\n",
       "            setTimeout(function() {\n",
       "                var nbb_cell_id = 11;\n",
       "                var nbb_unformatted_code = \"df_PLNA_2020.shape\";\n",
       "                var nbb_formatted_code = \"df_PLNA_2020.shape\";\n",
       "                var nbb_cells = Jupyter.notebook.get_cells();\n",
       "                for (var i = 0; i < nbb_cells.length; ++i) {\n",
       "                    if (nbb_cells[i].input_prompt_number == nbb_cell_id) {\n",
       "                        if (nbb_cells[i].get_text() == nbb_unformatted_code) {\n",
       "                             nbb_cells[i].set_text(nbb_formatted_code);\n",
       "                        }\n",
       "                        break;\n",
       "                    }\n",
       "                }\n",
       "            }, 500);\n",
       "            "
      ],
      "text/plain": [
       "<IPython.core.display.Javascript object>"
      ]
     },
     "metadata": {},
     "output_type": "display_data"
    }
   ],
   "source": [
    "df_PLNA_2020.shape"
   ]
  },
  {
   "cell_type": "code",
   "execution_count": 12,
   "id": "64ba5c69",
   "metadata": {
    "ExecuteTime": {
     "end_time": "2022-12-08T19:43:19.263461Z",
     "start_time": "2022-12-08T19:43:19.237970Z"
    },
    "hidden": true
   },
   "outputs": [
    {
     "data": {
      "text/plain": [
       "(110227, 16)"
      ]
     },
     "execution_count": 12,
     "metadata": {},
     "output_type": "execute_result"
    },
    {
     "data": {
      "application/javascript": [
       "\n",
       "            setTimeout(function() {\n",
       "                var nbb_cell_id = 12;\n",
       "                var nbb_unformatted_code = \"df_PLNA_2021.shape\";\n",
       "                var nbb_formatted_code = \"df_PLNA_2021.shape\";\n",
       "                var nbb_cells = Jupyter.notebook.get_cells();\n",
       "                for (var i = 0; i < nbb_cells.length; ++i) {\n",
       "                    if (nbb_cells[i].input_prompt_number == nbb_cell_id) {\n",
       "                        if (nbb_cells[i].get_text() == nbb_unformatted_code) {\n",
       "                             nbb_cells[i].set_text(nbb_formatted_code);\n",
       "                        }\n",
       "                        break;\n",
       "                    }\n",
       "                }\n",
       "            }, 500);\n",
       "            "
      ],
      "text/plain": [
       "<IPython.core.display.Javascript object>"
      ]
     },
     "metadata": {},
     "output_type": "display_data"
    }
   ],
   "source": [
    "df_PLNA_2021.shape"
   ]
  },
  {
   "cell_type": "markdown",
   "id": "22b62654",
   "metadata": {
    "ExecuteTime": {
     "end_time": "2022-12-05T17:01:00.938386Z",
     "start_time": "2022-12-05T17:01:00.925301Z"
    },
    "heading_collapsed": true,
    "hidden": true
   },
   "source": [
    "### 3.c. Kokio duomenų tipo yra kiekvienas iš požymių? Ar duomenų tipai tarp atitinkamų lentelių iš 2020 ir 2021 metų sutampa?"
   ]
  },
  {
   "cell_type": "code",
   "execution_count": 13,
   "id": "9fff4b03",
   "metadata": {
    "ExecuteTime": {
     "end_time": "2022-12-08T19:43:19.464830Z",
     "start_time": "2022-12-08T19:43:19.269970Z"
    },
    "hidden": true
   },
   "outputs": [
    {
     "name": "stdout",
     "output_type": "stream",
     "text": [
      "<class 'pandas.core.frame.DataFrame'>\n",
      "RangeIndex: 106318 entries, 0 to 106317\n",
      "Data columns (total 17 columns):\n",
      " #   Column                        Non-Null Count   Dtype  \n",
      "---  ------                        --------------   -----  \n",
      " 0   obj_kodas                     106318 non-null  int64  \n",
      " 1   obj_pav                       106318 non-null  object \n",
      " 2   form_kodas                    106318 non-null  int64  \n",
      " 3   form_pav                      106318 non-null  object \n",
      " 4   stat_statusas                 106318 non-null  int64  \n",
      " 5   stat_pav                      106318 non-null  object \n",
      " 6   template_id                   106318 non-null  object \n",
      " 7   template_name                 106318 non-null  object \n",
      " 8   standard_id                   106318 non-null  object \n",
      " 9   standard_name                 106318 non-null  object \n",
      " 10  laikotarpis_nuo               106318 non-null  object \n",
      " 11  laikotarpis_iki               106318 non-null  object \n",
      " 12  reg_date                      106318 non-null  object \n",
      " 13  nuosavas_kapitalas            105766 non-null  float64\n",
      " 14  mok_sumos_ir_isipareigojimai  92674 non-null   float64\n",
      " 15  ilgalaikis_turtas             104940 non-null  float64\n",
      " 16  trumpalaikis_turtas           104879 non-null  float64\n",
      "dtypes: float64(4), int64(3), object(10)\n",
      "memory usage: 13.8+ MB\n"
     ]
    },
    {
     "data": {
      "application/javascript": [
       "\n",
       "            setTimeout(function() {\n",
       "                var nbb_cell_id = 13;\n",
       "                var nbb_unformatted_code = \"df_BLNS_2020.info()\";\n",
       "                var nbb_formatted_code = \"df_BLNS_2020.info()\";\n",
       "                var nbb_cells = Jupyter.notebook.get_cells();\n",
       "                for (var i = 0; i < nbb_cells.length; ++i) {\n",
       "                    if (nbb_cells[i].input_prompt_number == nbb_cell_id) {\n",
       "                        if (nbb_cells[i].get_text() == nbb_unformatted_code) {\n",
       "                             nbb_cells[i].set_text(nbb_formatted_code);\n",
       "                        }\n",
       "                        break;\n",
       "                    }\n",
       "                }\n",
       "            }, 500);\n",
       "            "
      ],
      "text/plain": [
       "<IPython.core.display.Javascript object>"
      ]
     },
     "metadata": {},
     "output_type": "display_data"
    }
   ],
   "source": [
    "df_BLNS_2020.info()"
   ]
  },
  {
   "cell_type": "code",
   "execution_count": 14,
   "id": "d0054486",
   "metadata": {
    "ExecuteTime": {
     "end_time": "2022-12-08T19:43:19.712456Z",
     "start_time": "2022-12-08T19:43:19.474085Z"
    },
    "hidden": true
   },
   "outputs": [
    {
     "name": "stdout",
     "output_type": "stream",
     "text": [
      "<class 'pandas.core.frame.DataFrame'>\n",
      "RangeIndex: 120850 entries, 0 to 120849\n",
      "Data columns (total 17 columns):\n",
      " #   Column                        Non-Null Count   Dtype  \n",
      "---  ------                        --------------   -----  \n",
      " 0   obj_kodas                     120850 non-null  int64  \n",
      " 1   obj_pav                       120850 non-null  object \n",
      " 2   form_kodas                    120850 non-null  int64  \n",
      " 3   form_pav                      120850 non-null  object \n",
      " 4   stat_statusas                 120850 non-null  int64  \n",
      " 5   stat_pav                      120850 non-null  object \n",
      " 6   template_id                   120850 non-null  object \n",
      " 7   template_name                 120850 non-null  object \n",
      " 8   standard_id                   120850 non-null  object \n",
      " 9   standard_name                 120850 non-null  object \n",
      " 10  laikotarpis_nuo               120850 non-null  object \n",
      " 11  laikotarpis_iki               120850 non-null  object \n",
      " 12  reg_date                      120850 non-null  object \n",
      " 13  nuosavas_kapitalas            120184 non-null  float64\n",
      " 14  mok_sumos_ir_isipareigojimai  101180 non-null  float64\n",
      " 15  ilgalaikis_turtas             118957 non-null  float64\n",
      " 16  trumpalaikis_turtas           118892 non-null  float64\n",
      "dtypes: float64(4), int64(3), object(10)\n",
      "memory usage: 15.7+ MB\n"
     ]
    },
    {
     "data": {
      "application/javascript": [
       "\n",
       "            setTimeout(function() {\n",
       "                var nbb_cell_id = 14;\n",
       "                var nbb_unformatted_code = \"df_BLNS_2021.info()\";\n",
       "                var nbb_formatted_code = \"df_BLNS_2021.info()\";\n",
       "                var nbb_cells = Jupyter.notebook.get_cells();\n",
       "                for (var i = 0; i < nbb_cells.length; ++i) {\n",
       "                    if (nbb_cells[i].input_prompt_number == nbb_cell_id) {\n",
       "                        if (nbb_cells[i].get_text() == nbb_unformatted_code) {\n",
       "                             nbb_cells[i].set_text(nbb_formatted_code);\n",
       "                        }\n",
       "                        break;\n",
       "                    }\n",
       "                }\n",
       "            }, 500);\n",
       "            "
      ],
      "text/plain": [
       "<IPython.core.display.Javascript object>"
      ]
     },
     "metadata": {},
     "output_type": "display_data"
    }
   ],
   "source": [
    "df_BLNS_2021.info()"
   ]
  },
  {
   "cell_type": "code",
   "execution_count": 15,
   "id": "e21cf609",
   "metadata": {
    "ExecuteTime": {
     "end_time": "2022-12-08T19:43:19.886140Z",
     "start_time": "2022-12-08T19:43:19.715495Z"
    },
    "hidden": true
   },
   "outputs": [
    {
     "name": "stdout",
     "output_type": "stream",
     "text": [
      "<class 'pandas.core.frame.DataFrame'>\n",
      "RangeIndex: 96616 entries, 0 to 96615\n",
      "Data columns (total 16 columns):\n",
      " #   Column                      Non-Null Count  Dtype  \n",
      "---  ------                      --------------  -----  \n",
      " 0   obj_kodas                   96616 non-null  int64  \n",
      " 1   obj_pav                     96616 non-null  object \n",
      " 2   form_kodas                  96616 non-null  int64  \n",
      " 3   form_pav                    96616 non-null  object \n",
      " 4   stat_statusas               96616 non-null  int64  \n",
      " 5   stat_pav                    96616 non-null  object \n",
      " 6   template_id                 96616 non-null  object \n",
      " 7   template_name               96616 non-null  object \n",
      " 8   standard_id                 96616 non-null  object \n",
      " 9   standard_name               96616 non-null  object \n",
      " 10  laikotarpis_nuo             96616 non-null  object \n",
      " 11  laikotarpis_iki             96616 non-null  object \n",
      " 12  reg_date                    96616 non-null  object \n",
      " 13  pelnas_pries_apmokestinima  66251 non-null  float64\n",
      " 14  grynasis_pelnas             91416 non-null  float64\n",
      " 15  pardavimo_pajamos           84575 non-null  float64\n",
      "dtypes: float64(3), int64(3), object(10)\n",
      "memory usage: 11.8+ MB\n"
     ]
    },
    {
     "data": {
      "application/javascript": [
       "\n",
       "            setTimeout(function() {\n",
       "                var nbb_cell_id = 15;\n",
       "                var nbb_unformatted_code = \"df_PLNA_2020.info()\";\n",
       "                var nbb_formatted_code = \"df_PLNA_2020.info()\";\n",
       "                var nbb_cells = Jupyter.notebook.get_cells();\n",
       "                for (var i = 0; i < nbb_cells.length; ++i) {\n",
       "                    if (nbb_cells[i].input_prompt_number == nbb_cell_id) {\n",
       "                        if (nbb_cells[i].get_text() == nbb_unformatted_code) {\n",
       "                             nbb_cells[i].set_text(nbb_formatted_code);\n",
       "                        }\n",
       "                        break;\n",
       "                    }\n",
       "                }\n",
       "            }, 500);\n",
       "            "
      ],
      "text/plain": [
       "<IPython.core.display.Javascript object>"
      ]
     },
     "metadata": {},
     "output_type": "display_data"
    }
   ],
   "source": [
    "df_PLNA_2020.info()"
   ]
  },
  {
   "cell_type": "code",
   "execution_count": 16,
   "id": "16e8170a",
   "metadata": {
    "ExecuteTime": {
     "end_time": "2022-12-08T19:43:20.073299Z",
     "start_time": "2022-12-08T19:43:19.890360Z"
    },
    "hidden": true
   },
   "outputs": [
    {
     "name": "stdout",
     "output_type": "stream",
     "text": [
      "<class 'pandas.core.frame.DataFrame'>\n",
      "RangeIndex: 110227 entries, 0 to 110226\n",
      "Data columns (total 16 columns):\n",
      " #   Column                      Non-Null Count   Dtype  \n",
      "---  ------                      --------------   -----  \n",
      " 0   obj_kodas                   110227 non-null  int64  \n",
      " 1   obj_pav                     110227 non-null  object \n",
      " 2   form_kodas                  110227 non-null  int64  \n",
      " 3   form_pav                    110227 non-null  object \n",
      " 4   stat_statusas               110227 non-null  int64  \n",
      " 5   stat_pav                    110227 non-null  object \n",
      " 6   template_id                 110227 non-null  object \n",
      " 7   template_name               110227 non-null  object \n",
      " 8   standard_id                 110227 non-null  object \n",
      " 9   standard_name               110227 non-null  object \n",
      " 10  laikotarpis_nuo             110227 non-null  object \n",
      " 11  laikotarpis_iki             110227 non-null  object \n",
      " 12  reg_date                    110227 non-null  object \n",
      " 13  pelnas_pries_apmokestinima  75472 non-null   float64\n",
      " 14  grynasis_pelnas             104034 non-null  float64\n",
      " 15  pardavimo_pajamos           95317 non-null   float64\n",
      "dtypes: float64(3), int64(3), object(10)\n",
      "memory usage: 13.5+ MB\n"
     ]
    },
    {
     "data": {
      "application/javascript": [
       "\n",
       "            setTimeout(function() {\n",
       "                var nbb_cell_id = 16;\n",
       "                var nbb_unformatted_code = \"df_PLNA_2021.info()\";\n",
       "                var nbb_formatted_code = \"df_PLNA_2021.info()\";\n",
       "                var nbb_cells = Jupyter.notebook.get_cells();\n",
       "                for (var i = 0; i < nbb_cells.length; ++i) {\n",
       "                    if (nbb_cells[i].input_prompt_number == nbb_cell_id) {\n",
       "                        if (nbb_cells[i].get_text() == nbb_unformatted_code) {\n",
       "                             nbb_cells[i].set_text(nbb_formatted_code);\n",
       "                        }\n",
       "                        break;\n",
       "                    }\n",
       "                }\n",
       "            }, 500);\n",
       "            "
      ],
      "text/plain": [
       "<IPython.core.display.Javascript object>"
      ]
     },
     "metadata": {},
     "output_type": "display_data"
    }
   ],
   "source": [
    "df_PLNA_2021.info()"
   ]
  },
  {
   "cell_type": "markdown",
   "id": "f79b6331",
   "metadata": {
    "ExecuteTime": {
     "end_time": "2022-12-05T17:23:09.047801Z",
     "start_time": "2022-12-05T17:23:08.648350Z"
    },
    "hidden": true
   },
   "source": [
    "Duomenų tipų palyginimas tarp atitinkamų lentelių"
   ]
  },
  {
   "cell_type": "code",
   "execution_count": 17,
   "id": "06906416",
   "metadata": {
    "ExecuteTime": {
     "end_time": "2022-12-08T19:43:20.463291Z",
     "start_time": "2022-12-08T19:43:20.078267Z"
    },
    "hidden": true
   },
   "outputs": [
    {
     "name": "stdout",
     "output_type": "stream",
     "text": [
      "<class 'pandas.core.frame.DataFrame'>\n",
      "RangeIndex: 106318 entries, 0 to 106317\n",
      "Data columns (total 17 columns):\n",
      " #   Column                        Non-Null Count   Dtype  \n",
      "---  ------                        --------------   -----  \n",
      " 0   obj_kodas                     106318 non-null  int64  \n",
      " 1   obj_pav                       106318 non-null  object \n",
      " 2   form_kodas                    106318 non-null  int64  \n",
      " 3   form_pav                      106318 non-null  object \n",
      " 4   stat_statusas                 106318 non-null  int64  \n",
      " 5   stat_pav                      106318 non-null  object \n",
      " 6   template_id                   106318 non-null  object \n",
      " 7   template_name                 106318 non-null  object \n",
      " 8   standard_id                   106318 non-null  object \n",
      " 9   standard_name                 106318 non-null  object \n",
      " 10  laikotarpis_nuo               106318 non-null  object \n",
      " 11  laikotarpis_iki               106318 non-null  object \n",
      " 12  reg_date                      106318 non-null  object \n",
      " 13  nuosavas_kapitalas            105766 non-null  float64\n",
      " 14  mok_sumos_ir_isipareigojimai  92674 non-null   float64\n",
      " 15  ilgalaikis_turtas             104940 non-null  float64\n",
      " 16  trumpalaikis_turtas           104879 non-null  float64\n",
      "dtypes: float64(4), int64(3), object(10)\n",
      "memory usage: 13.8+ MB\n",
      "<class 'pandas.core.frame.DataFrame'>\n",
      "RangeIndex: 120850 entries, 0 to 120849\n",
      "Data columns (total 17 columns):\n",
      " #   Column                        Non-Null Count   Dtype  \n",
      "---  ------                        --------------   -----  \n",
      " 0   obj_kodas                     120850 non-null  int64  \n",
      " 1   obj_pav                       120850 non-null  object \n",
      " 2   form_kodas                    120850 non-null  int64  \n",
      " 3   form_pav                      120850 non-null  object \n",
      " 4   stat_statusas                 120850 non-null  int64  \n",
      " 5   stat_pav                      120850 non-null  object \n",
      " 6   template_id                   120850 non-null  object \n",
      " 7   template_name                 120850 non-null  object \n",
      " 8   standard_id                   120850 non-null  object \n",
      " 9   standard_name                 120850 non-null  object \n",
      " 10  laikotarpis_nuo               120850 non-null  object \n",
      " 11  laikotarpis_iki               120850 non-null  object \n",
      " 12  reg_date                      120850 non-null  object \n",
      " 13  nuosavas_kapitalas            120184 non-null  float64\n",
      " 14  mok_sumos_ir_isipareigojimai  101180 non-null  float64\n",
      " 15  ilgalaikis_turtas             118957 non-null  float64\n",
      " 16  trumpalaikis_turtas           118892 non-null  float64\n",
      "dtypes: float64(4), int64(3), object(10)\n",
      "memory usage: 15.7+ MB\n"
     ]
    },
    {
     "data": {
      "text/plain": [
       "True"
      ]
     },
     "execution_count": 17,
     "metadata": {},
     "output_type": "execute_result"
    },
    {
     "data": {
      "application/javascript": [
       "\n",
       "            setTimeout(function() {\n",
       "                var nbb_cell_id = 17;\n",
       "                var nbb_unformatted_code = \"df_BLNS_2020.info() == df_BLNS_2021.info()\";\n",
       "                var nbb_formatted_code = \"df_BLNS_2020.info() == df_BLNS_2021.info()\";\n",
       "                var nbb_cells = Jupyter.notebook.get_cells();\n",
       "                for (var i = 0; i < nbb_cells.length; ++i) {\n",
       "                    if (nbb_cells[i].input_prompt_number == nbb_cell_id) {\n",
       "                        if (nbb_cells[i].get_text() == nbb_unformatted_code) {\n",
       "                             nbb_cells[i].set_text(nbb_formatted_code);\n",
       "                        }\n",
       "                        break;\n",
       "                    }\n",
       "                }\n",
       "            }, 500);\n",
       "            "
      ],
      "text/plain": [
       "<IPython.core.display.Javascript object>"
      ]
     },
     "metadata": {},
     "output_type": "display_data"
    }
   ],
   "source": [
    "df_BLNS_2020.info() == df_BLNS_2021.info()"
   ]
  },
  {
   "cell_type": "markdown",
   "id": "6ddf5fff",
   "metadata": {
    "hidden": true
   },
   "source": [
    "__Išvada__: duomenų tipai skirtingose lentelėse sutampa"
   ]
  },
  {
   "cell_type": "code",
   "execution_count": 18,
   "id": "ad463a4e",
   "metadata": {
    "ExecuteTime": {
     "end_time": "2022-12-08T19:43:20.807851Z",
     "start_time": "2022-12-08T19:43:20.467299Z"
    },
    "hidden": true
   },
   "outputs": [
    {
     "name": "stdout",
     "output_type": "stream",
     "text": [
      "<class 'pandas.core.frame.DataFrame'>\n",
      "RangeIndex: 96616 entries, 0 to 96615\n",
      "Data columns (total 16 columns):\n",
      " #   Column                      Non-Null Count  Dtype  \n",
      "---  ------                      --------------  -----  \n",
      " 0   obj_kodas                   96616 non-null  int64  \n",
      " 1   obj_pav                     96616 non-null  object \n",
      " 2   form_kodas                  96616 non-null  int64  \n",
      " 3   form_pav                    96616 non-null  object \n",
      " 4   stat_statusas               96616 non-null  int64  \n",
      " 5   stat_pav                    96616 non-null  object \n",
      " 6   template_id                 96616 non-null  object \n",
      " 7   template_name               96616 non-null  object \n",
      " 8   standard_id                 96616 non-null  object \n",
      " 9   standard_name               96616 non-null  object \n",
      " 10  laikotarpis_nuo             96616 non-null  object \n",
      " 11  laikotarpis_iki             96616 non-null  object \n",
      " 12  reg_date                    96616 non-null  object \n",
      " 13  pelnas_pries_apmokestinima  66251 non-null  float64\n",
      " 14  grynasis_pelnas             91416 non-null  float64\n",
      " 15  pardavimo_pajamos           84575 non-null  float64\n",
      "dtypes: float64(3), int64(3), object(10)\n",
      "memory usage: 11.8+ MB\n",
      "<class 'pandas.core.frame.DataFrame'>\n",
      "RangeIndex: 110227 entries, 0 to 110226\n",
      "Data columns (total 16 columns):\n",
      " #   Column                      Non-Null Count   Dtype  \n",
      "---  ------                      --------------   -----  \n",
      " 0   obj_kodas                   110227 non-null  int64  \n",
      " 1   obj_pav                     110227 non-null  object \n",
      " 2   form_kodas                  110227 non-null  int64  \n",
      " 3   form_pav                    110227 non-null  object \n",
      " 4   stat_statusas               110227 non-null  int64  \n",
      " 5   stat_pav                    110227 non-null  object \n",
      " 6   template_id                 110227 non-null  object \n",
      " 7   template_name               110227 non-null  object \n",
      " 8   standard_id                 110227 non-null  object \n",
      " 9   standard_name               110227 non-null  object \n",
      " 10  laikotarpis_nuo             110227 non-null  object \n",
      " 11  laikotarpis_iki             110227 non-null  object \n",
      " 12  reg_date                    110227 non-null  object \n",
      " 13  pelnas_pries_apmokestinima  75472 non-null   float64\n",
      " 14  grynasis_pelnas             104034 non-null  float64\n",
      " 15  pardavimo_pajamos           95317 non-null   float64\n",
      "dtypes: float64(3), int64(3), object(10)\n",
      "memory usage: 13.5+ MB\n"
     ]
    },
    {
     "data": {
      "text/plain": [
       "True"
      ]
     },
     "execution_count": 18,
     "metadata": {},
     "output_type": "execute_result"
    },
    {
     "data": {
      "application/javascript": [
       "\n",
       "            setTimeout(function() {\n",
       "                var nbb_cell_id = 18;\n",
       "                var nbb_unformatted_code = \"df_PLNA_2020.info() == df_PLNA_2021.info()\";\n",
       "                var nbb_formatted_code = \"df_PLNA_2020.info() == df_PLNA_2021.info()\";\n",
       "                var nbb_cells = Jupyter.notebook.get_cells();\n",
       "                for (var i = 0; i < nbb_cells.length; ++i) {\n",
       "                    if (nbb_cells[i].input_prompt_number == nbb_cell_id) {\n",
       "                        if (nbb_cells[i].get_text() == nbb_unformatted_code) {\n",
       "                             nbb_cells[i].set_text(nbb_formatted_code);\n",
       "                        }\n",
       "                        break;\n",
       "                    }\n",
       "                }\n",
       "            }, 500);\n",
       "            "
      ],
      "text/plain": [
       "<IPython.core.display.Javascript object>"
      ]
     },
     "metadata": {},
     "output_type": "display_data"
    }
   ],
   "source": [
    "df_PLNA_2020.info() == df_PLNA_2021.info()"
   ]
  },
  {
   "cell_type": "markdown",
   "id": "36d0fbfd",
   "metadata": {
    "hidden": true
   },
   "source": [
    "__Išvada__: duomenų tipai skirtingose lentelėse sutampa"
   ]
  },
  {
   "cell_type": "markdown",
   "id": "acf3073a",
   "metadata": {
    "heading_collapsed": true,
    "hidden": true
   },
   "source": [
    "### 3.d. Paaiškinkite kas yra object duomenų tipas ir kuo jis skiriasi nuo string duomenų tipo."
   ]
  },
  {
   "cell_type": "markdown",
   "id": "031a3dbc",
   "metadata": {
    "hidden": true
   },
   "source": [
    "_string_ tipas apibrėžia tik tekstinio tipo reikšmes, o _object_ tipo kintamais gali įgyti bet kokio tipo reikšmes (tekstas, skaičius, datas, tušias, neapibrėžtas, ... reikšmes)"
   ]
  },
  {
   "cell_type": "markdown",
   "id": "cda3c2d0",
   "metadata": {
    "ExecuteTime": {
     "end_time": "2022-12-05T17:14:21.796975Z",
     "start_time": "2022-12-05T17:14:21.782049Z"
    },
    "heading_collapsed": true,
    "hidden": true
   },
   "source": [
    "### 3.e. Kuri lentelė turi daugiausiai nežinomų verčių? Kuris požymis išsiskiria nežinomų verčių skaičiumi?"
   ]
  },
  {
   "cell_type": "code",
   "execution_count": 19,
   "id": "f20b13b0",
   "metadata": {
    "ExecuteTime": {
     "end_time": "2022-12-08T19:43:21.475126Z",
     "start_time": "2022-12-08T19:43:20.813439Z"
    },
    "hidden": true
   },
   "outputs": [
    {
     "name": "stdout",
     "output_type": "stream",
     "text": [
      "Lentelės BLNS_2020 nežinomų reikšmių skaičius: 17013\n",
      "Lentelės BLNS_2021 nežinomų reikšmių skaičius: 24187\n",
      "Lentelės PLNA_2020 nežinomų reikšmių skaičius: 47606\n",
      "Lentelės PLNA_2021 nežinomų reikšmių skaičius: 55858\n"
     ]
    },
    {
     "data": {
      "application/javascript": [
       "\n",
       "            setTimeout(function() {\n",
       "                var nbb_cell_id = 19;\n",
       "                var nbb_unformatted_code = \"print(\\n    f\\\"Lentel\\u0117s BLNS_2020 ne\\u017einom\\u0173 reik\\u0161mi\\u0173 skai\\u010dius: {df_BLNS_2020.isna().sum().sum()}\\\"\\n)\\nprint(\\n    f\\\"Lentel\\u0117s BLNS_2021 ne\\u017einom\\u0173 reik\\u0161mi\\u0173 skai\\u010dius: {df_BLNS_2021.isna().sum().sum()}\\\"\\n)\\nprint(\\n    f\\\"Lentel\\u0117s PLNA_2020 ne\\u017einom\\u0173 reik\\u0161mi\\u0173 skai\\u010dius: {df_PLNA_2020.isna().sum().sum()}\\\"\\n)\\nprint(\\n    f\\\"Lentel\\u0117s PLNA_2021 ne\\u017einom\\u0173 reik\\u0161mi\\u0173 skai\\u010dius: {df_PLNA_2021.isna().sum().sum()}\\\"\\n)\";\n",
       "                var nbb_formatted_code = \"print(\\n    f\\\"Lentel\\u0117s BLNS_2020 ne\\u017einom\\u0173 reik\\u0161mi\\u0173 skai\\u010dius: {df_BLNS_2020.isna().sum().sum()}\\\"\\n)\\nprint(\\n    f\\\"Lentel\\u0117s BLNS_2021 ne\\u017einom\\u0173 reik\\u0161mi\\u0173 skai\\u010dius: {df_BLNS_2021.isna().sum().sum()}\\\"\\n)\\nprint(\\n    f\\\"Lentel\\u0117s PLNA_2020 ne\\u017einom\\u0173 reik\\u0161mi\\u0173 skai\\u010dius: {df_PLNA_2020.isna().sum().sum()}\\\"\\n)\\nprint(\\n    f\\\"Lentel\\u0117s PLNA_2021 ne\\u017einom\\u0173 reik\\u0161mi\\u0173 skai\\u010dius: {df_PLNA_2021.isna().sum().sum()}\\\"\\n)\";\n",
       "                var nbb_cells = Jupyter.notebook.get_cells();\n",
       "                for (var i = 0; i < nbb_cells.length; ++i) {\n",
       "                    if (nbb_cells[i].input_prompt_number == nbb_cell_id) {\n",
       "                        if (nbb_cells[i].get_text() == nbb_unformatted_code) {\n",
       "                             nbb_cells[i].set_text(nbb_formatted_code);\n",
       "                        }\n",
       "                        break;\n",
       "                    }\n",
       "                }\n",
       "            }, 500);\n",
       "            "
      ],
      "text/plain": [
       "<IPython.core.display.Javascript object>"
      ]
     },
     "metadata": {},
     "output_type": "display_data"
    }
   ],
   "source": [
    "print(\n",
    "    f\"Lentelės BLNS_2020 nežinomų reikšmių skaičius: {df_BLNS_2020.isna().sum().sum()}\"\n",
    ")\n",
    "print(\n",
    "    f\"Lentelės BLNS_2021 nežinomų reikšmių skaičius: {df_BLNS_2021.isna().sum().sum()}\"\n",
    ")\n",
    "print(\n",
    "    f\"Lentelės PLNA_2020 nežinomų reikšmių skaičius: {df_PLNA_2020.isna().sum().sum()}\"\n",
    ")\n",
    "print(\n",
    "    f\"Lentelės PLNA_2021 nežinomų reikšmių skaičius: {df_PLNA_2021.isna().sum().sum()}\"\n",
    ")"
   ]
  },
  {
   "cell_type": "markdown",
   "id": "5df576c2",
   "metadata": {
    "ExecuteTime": {
     "end_time": "2022-12-05T17:15:34.543175Z",
     "start_time": "2022-12-05T17:15:34.354161Z"
    },
    "hidden": true
   },
   "source": [
    "__Išvada__: Daugiausiai tusčių reišmių iš duotų lentelių turi PLNA_2021 (_2021 m. pateiktų pelno (nuostolių) ataskaitų duomenys_)"
   ]
  },
  {
   "cell_type": "markdown",
   "id": "bd342641",
   "metadata": {
    "ExecuteTime": {
     "end_time": "2022-12-05T17:25:21.645957Z",
     "start_time": "2022-12-05T17:25:21.631299Z"
    },
    "heading_collapsed": true,
    "hidden": true
   },
   "source": [
    "### 3.f. Ar kažkuri lentelė turi pasikartojančių duomenų?"
   ]
  },
  {
   "cell_type": "code",
   "execution_count": 20,
   "id": "66198f53",
   "metadata": {
    "ExecuteTime": {
     "end_time": "2022-12-08T19:43:22.112578Z",
     "start_time": "2022-12-08T19:43:21.480662Z"
    },
    "hidden": true
   },
   "outputs": [
    {
     "data": {
      "text/plain": [
       "0        1\n",
       "61357    1\n",
       "61377    1\n",
       "61376    1\n",
       "61375    1\n",
       "Name: size, dtype: int64"
      ]
     },
     "execution_count": 20,
     "metadata": {},
     "output_type": "execute_result"
    },
    {
     "data": {
      "application/javascript": [
       "\n",
       "            setTimeout(function() {\n",
       "                var nbb_cell_id = 20;\n",
       "                var nbb_unformatted_code = \"df_BLNS_2020_group = df_BLNS_2020.groupby(\\n    df_BLNS_2020.columns.tolist(), as_index=False\\n).size()\\ndf_BLNS_2020_group[\\\"size\\\"].sort_values(ascending=False).head()\";\n",
       "                var nbb_formatted_code = \"df_BLNS_2020_group = df_BLNS_2020.groupby(\\n    df_BLNS_2020.columns.tolist(), as_index=False\\n).size()\\ndf_BLNS_2020_group[\\\"size\\\"].sort_values(ascending=False).head()\";\n",
       "                var nbb_cells = Jupyter.notebook.get_cells();\n",
       "                for (var i = 0; i < nbb_cells.length; ++i) {\n",
       "                    if (nbb_cells[i].input_prompt_number == nbb_cell_id) {\n",
       "                        if (nbb_cells[i].get_text() == nbb_unformatted_code) {\n",
       "                             nbb_cells[i].set_text(nbb_formatted_code);\n",
       "                        }\n",
       "                        break;\n",
       "                    }\n",
       "                }\n",
       "            }, 500);\n",
       "            "
      ],
      "text/plain": [
       "<IPython.core.display.Javascript object>"
      ]
     },
     "metadata": {},
     "output_type": "display_data"
    }
   ],
   "source": [
    "df_BLNS_2020_group = df_BLNS_2020.groupby(\n",
    "    df_BLNS_2020.columns.tolist(), as_index=False\n",
    ").size()\n",
    "df_BLNS_2020_group[\"size\"].sort_values(ascending=False).head()"
   ]
  },
  {
   "cell_type": "code",
   "execution_count": 21,
   "id": "2622e315",
   "metadata": {
    "ExecuteTime": {
     "end_time": "2022-12-08T19:43:22.899105Z",
     "start_time": "2022-12-08T19:43:22.117554Z"
    },
    "hidden": true
   },
   "outputs": [
    {
     "data": {
      "text/plain": [
       "0        1\n",
       "66970    1\n",
       "66968    1\n",
       "66967    1\n",
       "66966    1\n",
       "Name: size, dtype: int64"
      ]
     },
     "execution_count": 21,
     "metadata": {},
     "output_type": "execute_result"
    },
    {
     "data": {
      "application/javascript": [
       "\n",
       "            setTimeout(function() {\n",
       "                var nbb_cell_id = 21;\n",
       "                var nbb_unformatted_code = \"df_BLNS_2021_group = df_BLNS_2021.groupby(\\n    df_BLNS_2021.columns.tolist(), as_index=False\\n).size()\\ndf_BLNS_2021_group[\\\"size\\\"].sort_values(ascending=False).head()\";\n",
       "                var nbb_formatted_code = \"df_BLNS_2021_group = df_BLNS_2021.groupby(\\n    df_BLNS_2021.columns.tolist(), as_index=False\\n).size()\\ndf_BLNS_2021_group[\\\"size\\\"].sort_values(ascending=False).head()\";\n",
       "                var nbb_cells = Jupyter.notebook.get_cells();\n",
       "                for (var i = 0; i < nbb_cells.length; ++i) {\n",
       "                    if (nbb_cells[i].input_prompt_number == nbb_cell_id) {\n",
       "                        if (nbb_cells[i].get_text() == nbb_unformatted_code) {\n",
       "                             nbb_cells[i].set_text(nbb_formatted_code);\n",
       "                        }\n",
       "                        break;\n",
       "                    }\n",
       "                }\n",
       "            }, 500);\n",
       "            "
      ],
      "text/plain": [
       "<IPython.core.display.Javascript object>"
      ]
     },
     "metadata": {},
     "output_type": "display_data"
    }
   ],
   "source": [
    "df_BLNS_2021_group = df_BLNS_2021.groupby(\n",
    "    df_BLNS_2021.columns.tolist(), as_index=False\n",
    ").size()\n",
    "df_BLNS_2021_group[\"size\"].sort_values(ascending=False).head()"
   ]
  },
  {
   "cell_type": "code",
   "execution_count": 22,
   "id": "804c53ac",
   "metadata": {
    "ExecuteTime": {
     "end_time": "2022-12-08T19:43:23.430298Z",
     "start_time": "2022-12-08T19:43:22.902008Z"
    },
    "hidden": true
   },
   "outputs": [
    {
     "data": {
      "text/plain": [
       "0        1\n",
       "38978    1\n",
       "38980    1\n",
       "38981    1\n",
       "38982    1\n",
       "Name: size, dtype: int64"
      ]
     },
     "execution_count": 22,
     "metadata": {},
     "output_type": "execute_result"
    },
    {
     "data": {
      "application/javascript": [
       "\n",
       "            setTimeout(function() {\n",
       "                var nbb_cell_id = 22;\n",
       "                var nbb_unformatted_code = \"df_PLNA_2020_group = df_PLNA_2020.groupby(\\n    df_PLNA_2020.columns.tolist(), as_index=False\\n).size()\\ndf_PLNA_2020_group[\\\"size\\\"].sort_values(ascending=False).head()\";\n",
       "                var nbb_formatted_code = \"df_PLNA_2020_group = df_PLNA_2020.groupby(\\n    df_PLNA_2020.columns.tolist(), as_index=False\\n).size()\\ndf_PLNA_2020_group[\\\"size\\\"].sort_values(ascending=False).head()\";\n",
       "                var nbb_cells = Jupyter.notebook.get_cells();\n",
       "                for (var i = 0; i < nbb_cells.length; ++i) {\n",
       "                    if (nbb_cells[i].input_prompt_number == nbb_cell_id) {\n",
       "                        if (nbb_cells[i].get_text() == nbb_unformatted_code) {\n",
       "                             nbb_cells[i].set_text(nbb_formatted_code);\n",
       "                        }\n",
       "                        break;\n",
       "                    }\n",
       "                }\n",
       "            }, 500);\n",
       "            "
      ],
      "text/plain": [
       "<IPython.core.display.Javascript object>"
      ]
     },
     "metadata": {},
     "output_type": "display_data"
    }
   ],
   "source": [
    "df_PLNA_2020_group = df_PLNA_2020.groupby(\n",
    "    df_PLNA_2020.columns.tolist(), as_index=False\n",
    ").size()\n",
    "df_PLNA_2020_group[\"size\"].sort_values(ascending=False).head()"
   ]
  },
  {
   "cell_type": "code",
   "execution_count": 23,
   "id": "16894d59",
   "metadata": {
    "ExecuteTime": {
     "end_time": "2022-12-08T19:43:23.944419Z",
     "start_time": "2022-12-08T19:43:23.433303Z"
    },
    "hidden": true
   },
   "outputs": [
    {
     "data": {
      "text/plain": [
       "0        1\n",
       "38978    1\n",
       "38980    1\n",
       "38981    1\n",
       "38982    1\n",
       "Name: size, dtype: int64"
      ]
     },
     "execution_count": 23,
     "metadata": {},
     "output_type": "execute_result"
    },
    {
     "data": {
      "application/javascript": [
       "\n",
       "            setTimeout(function() {\n",
       "                var nbb_cell_id = 23;\n",
       "                var nbb_unformatted_code = \"df_PLNA_2021_group = df_PLNA_2020.groupby(\\n    df_PLNA_2021.columns.tolist(), as_index=False\\n).size()\\ndf_PLNA_2021_group[\\\"size\\\"].sort_values(ascending=False).head()\";\n",
       "                var nbb_formatted_code = \"df_PLNA_2021_group = df_PLNA_2020.groupby(\\n    df_PLNA_2021.columns.tolist(), as_index=False\\n).size()\\ndf_PLNA_2021_group[\\\"size\\\"].sort_values(ascending=False).head()\";\n",
       "                var nbb_cells = Jupyter.notebook.get_cells();\n",
       "                for (var i = 0; i < nbb_cells.length; ++i) {\n",
       "                    if (nbb_cells[i].input_prompt_number == nbb_cell_id) {\n",
       "                        if (nbb_cells[i].get_text() == nbb_unformatted_code) {\n",
       "                             nbb_cells[i].set_text(nbb_formatted_code);\n",
       "                        }\n",
       "                        break;\n",
       "                    }\n",
       "                }\n",
       "            }, 500);\n",
       "            "
      ],
      "text/plain": [
       "<IPython.core.display.Javascript object>"
      ]
     },
     "metadata": {},
     "output_type": "display_data"
    }
   ],
   "source": [
    "df_PLNA_2021_group = df_PLNA_2020.groupby(\n",
    "    df_PLNA_2021.columns.tolist(), as_index=False\n",
    ").size()\n",
    "df_PLNA_2021_group[\"size\"].sort_values(ascending=False).head()"
   ]
  },
  {
   "cell_type": "markdown",
   "id": "b4f49f20",
   "metadata": {
    "hidden": true
   },
   "source": [
    "__Išvada__: Nei viena lentelė neturi pasikartojančių įrašų"
   ]
  },
  {
   "cell_type": "markdown",
   "id": "c45a4d6e",
   "metadata": {
    "hidden": true
   },
   "source": [
    "#### Kokia stulpelių aibė vienareikšmiškai identifikuoja kiekvienos lentelės eilutę?"
   ]
  },
  {
   "cell_type": "code",
   "execution_count": 24,
   "id": "f190c247",
   "metadata": {
    "ExecuteTime": {
     "end_time": "2022-12-08T19:43:23.974952Z",
     "start_time": "2022-12-08T19:43:23.956886Z"
    },
    "hidden": true
   },
   "outputs": [
    {
     "data": {
      "text/plain": [
       "Index(['obj_kodas', 'obj_pav', 'form_kodas', 'form_pav', 'stat_statusas',\n",
       "       'stat_pav', 'template_id', 'template_name', 'standard_id',\n",
       "       'standard_name', 'laikotarpis_nuo', 'laikotarpis_iki', 'reg_date',\n",
       "       'nuosavas_kapitalas', 'mok_sumos_ir_isipareigojimai',\n",
       "       'ilgalaikis_turtas', 'trumpalaikis_turtas'],\n",
       "      dtype='object')"
      ]
     },
     "execution_count": 24,
     "metadata": {},
     "output_type": "execute_result"
    },
    {
     "data": {
      "application/javascript": [
       "\n",
       "            setTimeout(function() {\n",
       "                var nbb_cell_id = 24;\n",
       "                var nbb_unformatted_code = \"df_BLNS_2020.columns\";\n",
       "                var nbb_formatted_code = \"df_BLNS_2020.columns\";\n",
       "                var nbb_cells = Jupyter.notebook.get_cells();\n",
       "                for (var i = 0; i < nbb_cells.length; ++i) {\n",
       "                    if (nbb_cells[i].input_prompt_number == nbb_cell_id) {\n",
       "                        if (nbb_cells[i].get_text() == nbb_unformatted_code) {\n",
       "                             nbb_cells[i].set_text(nbb_formatted_code);\n",
       "                        }\n",
       "                        break;\n",
       "                    }\n",
       "                }\n",
       "            }, 500);\n",
       "            "
      ],
      "text/plain": [
       "<IPython.core.display.Javascript object>"
      ]
     },
     "metadata": {},
     "output_type": "display_data"
    }
   ],
   "source": [
    "df_BLNS_2020.columns"
   ]
  },
  {
   "cell_type": "code",
   "execution_count": 25,
   "id": "82fa7477",
   "metadata": {
    "ExecuteTime": {
     "end_time": "2022-12-08T19:43:24.177773Z",
     "start_time": "2022-12-08T19:43:23.982518Z"
    },
    "hidden": true
   },
   "outputs": [
    {
     "data": {
      "text/plain": [
       "(106318, 106318, 106318)"
      ]
     },
     "execution_count": 25,
     "metadata": {},
     "output_type": "execute_result"
    },
    {
     "data": {
      "application/javascript": [
       "\n",
       "            setTimeout(function() {\n",
       "                var nbb_cell_id = 25;\n",
       "                var nbb_unformatted_code = \"len(df_BLNS_2020), len(\\n    df_BLNS_2020[[\\\"obj_kodas\\\", \\\"obj_pav\\\", \\\"laikotarpis_iki\\\"]].drop_duplicates()\\n), len(df_BLNS_2020[[\\\"obj_kodas\\\", \\\"obj_pav\\\", \\\"laikotarpis_nuo\\\"]].drop_duplicates())\";\n",
       "                var nbb_formatted_code = \"len(df_BLNS_2020), len(\\n    df_BLNS_2020[[\\\"obj_kodas\\\", \\\"obj_pav\\\", \\\"laikotarpis_iki\\\"]].drop_duplicates()\\n), len(df_BLNS_2020[[\\\"obj_kodas\\\", \\\"obj_pav\\\", \\\"laikotarpis_nuo\\\"]].drop_duplicates())\";\n",
       "                var nbb_cells = Jupyter.notebook.get_cells();\n",
       "                for (var i = 0; i < nbb_cells.length; ++i) {\n",
       "                    if (nbb_cells[i].input_prompt_number == nbb_cell_id) {\n",
       "                        if (nbb_cells[i].get_text() == nbb_unformatted_code) {\n",
       "                             nbb_cells[i].set_text(nbb_formatted_code);\n",
       "                        }\n",
       "                        break;\n",
       "                    }\n",
       "                }\n",
       "            }, 500);\n",
       "            "
      ],
      "text/plain": [
       "<IPython.core.display.Javascript object>"
      ]
     },
     "metadata": {},
     "output_type": "display_data"
    }
   ],
   "source": [
    "len(df_BLNS_2020), len(\n",
    "    df_BLNS_2020[[\"obj_kodas\", \"obj_pav\", \"laikotarpis_iki\"]].drop_duplicates()\n",
    "), len(df_BLNS_2020[[\"obj_kodas\", \"obj_pav\", \"laikotarpis_nuo\"]].drop_duplicates())"
   ]
  },
  {
   "cell_type": "code",
   "execution_count": 26,
   "id": "2e630e71",
   "metadata": {
    "ExecuteTime": {
     "end_time": "2022-12-08T19:43:24.364379Z",
     "start_time": "2022-12-08T19:43:24.180330Z"
    },
    "hidden": true
   },
   "outputs": [
    {
     "data": {
      "text/plain": [
       "(120850, 120850, 120850)"
      ]
     },
     "execution_count": 26,
     "metadata": {},
     "output_type": "execute_result"
    },
    {
     "data": {
      "application/javascript": [
       "\n",
       "            setTimeout(function() {\n",
       "                var nbb_cell_id = 26;\n",
       "                var nbb_unformatted_code = \"len(df_BLNS_2021), len(\\n    df_BLNS_2021[[\\\"obj_kodas\\\", \\\"obj_pav\\\", \\\"laikotarpis_iki\\\"]].drop_duplicates()\\n), len(df_BLNS_2021[[\\\"obj_kodas\\\", \\\"obj_pav\\\", \\\"laikotarpis_nuo\\\"]].drop_duplicates())\";\n",
       "                var nbb_formatted_code = \"len(df_BLNS_2021), len(\\n    df_BLNS_2021[[\\\"obj_kodas\\\", \\\"obj_pav\\\", \\\"laikotarpis_iki\\\"]].drop_duplicates()\\n), len(df_BLNS_2021[[\\\"obj_kodas\\\", \\\"obj_pav\\\", \\\"laikotarpis_nuo\\\"]].drop_duplicates())\";\n",
       "                var nbb_cells = Jupyter.notebook.get_cells();\n",
       "                for (var i = 0; i < nbb_cells.length; ++i) {\n",
       "                    if (nbb_cells[i].input_prompt_number == nbb_cell_id) {\n",
       "                        if (nbb_cells[i].get_text() == nbb_unformatted_code) {\n",
       "                             nbb_cells[i].set_text(nbb_formatted_code);\n",
       "                        }\n",
       "                        break;\n",
       "                    }\n",
       "                }\n",
       "            }, 500);\n",
       "            "
      ],
      "text/plain": [
       "<IPython.core.display.Javascript object>"
      ]
     },
     "metadata": {},
     "output_type": "display_data"
    }
   ],
   "source": [
    "len(df_BLNS_2021), len(\n",
    "    df_BLNS_2021[[\"obj_kodas\", \"obj_pav\", \"laikotarpis_iki\"]].drop_duplicates()\n",
    "), len(df_BLNS_2021[[\"obj_kodas\", \"obj_pav\", \"laikotarpis_nuo\"]].drop_duplicates())"
   ]
  },
  {
   "cell_type": "markdown",
   "id": "448e071f",
   "metadata": {
    "hidden": true
   },
   "source": [
    "__Išvada__: Lentelių df_BLNS_2020, df_BLNS_2021 duomenų identifikavimui užtenka 3 stulpelių: _obj_kodas_, _obj_pav_, _laikotarpis_iki_ arba _obj_kodas_, _obj_pav_, _laikotarpis_nuo_"
   ]
  },
  {
   "cell_type": "code",
   "execution_count": 27,
   "id": "e8e1792e",
   "metadata": {
    "ExecuteTime": {
     "end_time": "2022-12-08T19:43:24.380406Z",
     "start_time": "2022-12-08T19:43:24.367340Z"
    },
    "hidden": true
   },
   "outputs": [
    {
     "data": {
      "text/plain": [
       "Index(['obj_kodas', 'obj_pav', 'form_kodas', 'form_pav', 'stat_statusas',\n",
       "       'stat_pav', 'template_id', 'template_name', 'standard_id',\n",
       "       'standard_name', 'laikotarpis_nuo', 'laikotarpis_iki', 'reg_date',\n",
       "       'pelnas_pries_apmokestinima', 'grynasis_pelnas', 'pardavimo_pajamos'],\n",
       "      dtype='object')"
      ]
     },
     "execution_count": 27,
     "metadata": {},
     "output_type": "execute_result"
    },
    {
     "data": {
      "application/javascript": [
       "\n",
       "            setTimeout(function() {\n",
       "                var nbb_cell_id = 27;\n",
       "                var nbb_unformatted_code = \"df_PLNA_2020.columns\";\n",
       "                var nbb_formatted_code = \"df_PLNA_2020.columns\";\n",
       "                var nbb_cells = Jupyter.notebook.get_cells();\n",
       "                for (var i = 0; i < nbb_cells.length; ++i) {\n",
       "                    if (nbb_cells[i].input_prompt_number == nbb_cell_id) {\n",
       "                        if (nbb_cells[i].get_text() == nbb_unformatted_code) {\n",
       "                             nbb_cells[i].set_text(nbb_formatted_code);\n",
       "                        }\n",
       "                        break;\n",
       "                    }\n",
       "                }\n",
       "            }, 500);\n",
       "            "
      ],
      "text/plain": [
       "<IPython.core.display.Javascript object>"
      ]
     },
     "metadata": {},
     "output_type": "display_data"
    }
   ],
   "source": [
    "df_PLNA_2020.columns"
   ]
  },
  {
   "cell_type": "code",
   "execution_count": 28,
   "id": "fdf602cb",
   "metadata": {
    "ExecuteTime": {
     "end_time": "2022-12-08T19:43:24.584622Z",
     "start_time": "2022-12-08T19:43:24.384415Z"
    },
    "hidden": true
   },
   "outputs": [
    {
     "data": {
      "text/plain": [
       "(96616, 96616, 96616)"
      ]
     },
     "execution_count": 28,
     "metadata": {},
     "output_type": "execute_result"
    },
    {
     "data": {
      "application/javascript": [
       "\n",
       "            setTimeout(function() {\n",
       "                var nbb_cell_id = 28;\n",
       "                var nbb_unformatted_code = \"len(df_PLNA_2020), len(\\n    df_PLNA_2020[[\\\"obj_kodas\\\", \\\"obj_pav\\\", \\\"laikotarpis_iki\\\"]].drop_duplicates()\\n), len(df_PLNA_2020[[\\\"obj_kodas\\\", \\\"obj_pav\\\", \\\"laikotarpis_nuo\\\"]].drop_duplicates())\";\n",
       "                var nbb_formatted_code = \"len(df_PLNA_2020), len(\\n    df_PLNA_2020[[\\\"obj_kodas\\\", \\\"obj_pav\\\", \\\"laikotarpis_iki\\\"]].drop_duplicates()\\n), len(df_PLNA_2020[[\\\"obj_kodas\\\", \\\"obj_pav\\\", \\\"laikotarpis_nuo\\\"]].drop_duplicates())\";\n",
       "                var nbb_cells = Jupyter.notebook.get_cells();\n",
       "                for (var i = 0; i < nbb_cells.length; ++i) {\n",
       "                    if (nbb_cells[i].input_prompt_number == nbb_cell_id) {\n",
       "                        if (nbb_cells[i].get_text() == nbb_unformatted_code) {\n",
       "                             nbb_cells[i].set_text(nbb_formatted_code);\n",
       "                        }\n",
       "                        break;\n",
       "                    }\n",
       "                }\n",
       "            }, 500);\n",
       "            "
      ],
      "text/plain": [
       "<IPython.core.display.Javascript object>"
      ]
     },
     "metadata": {},
     "output_type": "display_data"
    }
   ],
   "source": [
    "len(df_PLNA_2020), len(\n",
    "    df_PLNA_2020[[\"obj_kodas\", \"obj_pav\", \"laikotarpis_iki\"]].drop_duplicates()\n",
    "), len(df_PLNA_2020[[\"obj_kodas\", \"obj_pav\", \"laikotarpis_nuo\"]].drop_duplicates())"
   ]
  },
  {
   "cell_type": "code",
   "execution_count": 29,
   "id": "bd8c6748",
   "metadata": {
    "ExecuteTime": {
     "end_time": "2022-12-08T19:43:24.803974Z",
     "start_time": "2022-12-08T19:43:24.587614Z"
    },
    "hidden": true
   },
   "outputs": [
    {
     "data": {
      "text/plain": [
       "(110227, 110227, 110227)"
      ]
     },
     "execution_count": 29,
     "metadata": {},
     "output_type": "execute_result"
    },
    {
     "data": {
      "application/javascript": [
       "\n",
       "            setTimeout(function() {\n",
       "                var nbb_cell_id = 29;\n",
       "                var nbb_unformatted_code = \"len(df_PLNA_2021), len(\\n    df_PLNA_2021[[\\\"obj_kodas\\\", \\\"obj_pav\\\", \\\"laikotarpis_iki\\\"]].drop_duplicates()\\n), len(df_PLNA_2021[[\\\"obj_kodas\\\", \\\"obj_pav\\\", \\\"laikotarpis_nuo\\\"]].drop_duplicates())\";\n",
       "                var nbb_formatted_code = \"len(df_PLNA_2021), len(\\n    df_PLNA_2021[[\\\"obj_kodas\\\", \\\"obj_pav\\\", \\\"laikotarpis_iki\\\"]].drop_duplicates()\\n), len(df_PLNA_2021[[\\\"obj_kodas\\\", \\\"obj_pav\\\", \\\"laikotarpis_nuo\\\"]].drop_duplicates())\";\n",
       "                var nbb_cells = Jupyter.notebook.get_cells();\n",
       "                for (var i = 0; i < nbb_cells.length; ++i) {\n",
       "                    if (nbb_cells[i].input_prompt_number == nbb_cell_id) {\n",
       "                        if (nbb_cells[i].get_text() == nbb_unformatted_code) {\n",
       "                             nbb_cells[i].set_text(nbb_formatted_code);\n",
       "                        }\n",
       "                        break;\n",
       "                    }\n",
       "                }\n",
       "            }, 500);\n",
       "            "
      ],
      "text/plain": [
       "<IPython.core.display.Javascript object>"
      ]
     },
     "metadata": {},
     "output_type": "display_data"
    }
   ],
   "source": [
    "len(df_PLNA_2021), len(\n",
    "    df_PLNA_2021[[\"obj_kodas\", \"obj_pav\", \"laikotarpis_iki\"]].drop_duplicates()\n",
    "), len(df_PLNA_2021[[\"obj_kodas\", \"obj_pav\", \"laikotarpis_nuo\"]].drop_duplicates())"
   ]
  },
  {
   "cell_type": "markdown",
   "id": "ec03a873",
   "metadata": {
    "hidden": true
   },
   "source": [
    "__Išvada__: Lentelių df_PLNA_2020, df_PLNA_2021 duomenų identifikavimui užtenka 3 stulpelių: _obj_kodas_, _obj_pav_, _laikotarpis_iki_ arba _obj_kodas_, _obj_pav_, _laikotarpis_nuo_"
   ]
  },
  {
   "cell_type": "markdown",
   "id": "3354046b",
   "metadata": {
    "heading_collapsed": true
   },
   "source": [
    "# Antra dalis"
   ]
  },
  {
   "cell_type": "markdown",
   "id": "a296c2f7",
   "metadata": {
    "ExecuteTime": {
     "end_time": "2022-12-05T18:06:19.162056Z",
     "start_time": "2022-12-05T18:06:19.153461Z"
    },
    "heading_collapsed": true,
    "hidden": true
   },
   "source": [
    "## 4. Keletas juridinių asmenų pavadinimų yra tiesiogiai susiję su “Thermo Fisher” bendrove. Raskite pilnus šių bendrovių pavadinimus."
   ]
  },
  {
   "cell_type": "code",
   "execution_count": 30,
   "id": "162f4526",
   "metadata": {
    "ExecuteTime": {
     "end_time": "2022-12-08T19:43:24.912984Z",
     "start_time": "2022-12-08T19:43:24.806978Z"
    },
    "hidden": true
   },
   "outputs": [
    {
     "data": {
      "text/plain": [
       "['UAB \"Thermo Fisher Scientific Vector Holdings\"',\n",
       " 'UAB \"Thermo Fisher Scientific Baltics\"',\n",
       " 'UAB \"Thermo Fisher Scientific Vector Senior Holdings I\"',\n",
       " 'UAB \"Thermo Fisher Scientific Vector Senior Holdings II\"']"
      ]
     },
     "execution_count": 30,
     "metadata": {},
     "output_type": "execute_result"
    },
    {
     "data": {
      "application/javascript": [
       "\n",
       "            setTimeout(function() {\n",
       "                var nbb_cell_id = 30;\n",
       "                var nbb_unformatted_code = \"df_BLNS_2020.loc[df_BLNS_2020[\\\"obj_pav\\\"].str.contains(\\\"Thermo Fisher\\\", case=False)][\\n    \\\"obj_pav\\\"\\n].to_list()\";\n",
       "                var nbb_formatted_code = \"df_BLNS_2020.loc[df_BLNS_2020[\\\"obj_pav\\\"].str.contains(\\\"Thermo Fisher\\\", case=False)][\\n    \\\"obj_pav\\\"\\n].to_list()\";\n",
       "                var nbb_cells = Jupyter.notebook.get_cells();\n",
       "                for (var i = 0; i < nbb_cells.length; ++i) {\n",
       "                    if (nbb_cells[i].input_prompt_number == nbb_cell_id) {\n",
       "                        if (nbb_cells[i].get_text() == nbb_unformatted_code) {\n",
       "                             nbb_cells[i].set_text(nbb_formatted_code);\n",
       "                        }\n",
       "                        break;\n",
       "                    }\n",
       "                }\n",
       "            }, 500);\n",
       "            "
      ],
      "text/plain": [
       "<IPython.core.display.Javascript object>"
      ]
     },
     "metadata": {},
     "output_type": "display_data"
    }
   ],
   "source": [
    "df_BLNS_2020.loc[df_BLNS_2020[\"obj_pav\"].str.contains(\"Thermo Fisher\", case=False)][\n",
    "    \"obj_pav\"\n",
    "].to_list()"
   ]
  },
  {
   "cell_type": "code",
   "execution_count": 31,
   "id": "f67c4309",
   "metadata": {
    "ExecuteTime": {
     "end_time": "2022-12-08T19:43:25.070631Z",
     "start_time": "2022-12-08T19:43:24.920515Z"
    },
    "hidden": true
   },
   "outputs": [
    {
     "data": {
      "text/plain": [
       "['UAB \"Thermo Fisher Scientific Vector Senior Holdings II\"',\n",
       " 'UAB \"Thermo Fisher Scientific Vector Senior Holdings I\"',\n",
       " 'UAB \"Thermo Fisher Scientific Baltics\"',\n",
       " 'UAB \"Thermo Fisher Scientific Vector Holdings\"']"
      ]
     },
     "execution_count": 31,
     "metadata": {},
     "output_type": "execute_result"
    },
    {
     "data": {
      "application/javascript": [
       "\n",
       "            setTimeout(function() {\n",
       "                var nbb_cell_id = 31;\n",
       "                var nbb_unformatted_code = \"df_BLNS_2021.loc[df_BLNS_2021[\\\"obj_pav\\\"].str.contains(\\\"Thermo Fisher\\\", case=False)][\\n    \\\"obj_pav\\\"\\n].to_list()\";\n",
       "                var nbb_formatted_code = \"df_BLNS_2021.loc[df_BLNS_2021[\\\"obj_pav\\\"].str.contains(\\\"Thermo Fisher\\\", case=False)][\\n    \\\"obj_pav\\\"\\n].to_list()\";\n",
       "                var nbb_cells = Jupyter.notebook.get_cells();\n",
       "                for (var i = 0; i < nbb_cells.length; ++i) {\n",
       "                    if (nbb_cells[i].input_prompt_number == nbb_cell_id) {\n",
       "                        if (nbb_cells[i].get_text() == nbb_unformatted_code) {\n",
       "                             nbb_cells[i].set_text(nbb_formatted_code);\n",
       "                        }\n",
       "                        break;\n",
       "                    }\n",
       "                }\n",
       "            }, 500);\n",
       "            "
      ],
      "text/plain": [
       "<IPython.core.display.Javascript object>"
      ]
     },
     "metadata": {},
     "output_type": "display_data"
    }
   ],
   "source": [
    "df_BLNS_2021.loc[df_BLNS_2021[\"obj_pav\"].str.contains(\"Thermo Fisher\", case=False)][\n",
    "    \"obj_pav\"\n",
    "].to_list()"
   ]
  },
  {
   "cell_type": "code",
   "execution_count": 32,
   "id": "870357c9",
   "metadata": {
    "ExecuteTime": {
     "end_time": "2022-12-08T19:43:25.211700Z",
     "start_time": "2022-12-08T19:43:25.075643Z"
    },
    "hidden": true
   },
   "outputs": [
    {
     "data": {
      "text/plain": [
       "['UAB \"Thermo Fisher Scientific Vector Senior Holdings I\"',\n",
       " 'UAB \"Thermo Fisher Scientific Vector Holdings\"',\n",
       " 'UAB \"Thermo Fisher Scientific Vector Senior Holdings II\"',\n",
       " 'UAB \"Thermo Fisher Scientific Baltics\"']"
      ]
     },
     "execution_count": 32,
     "metadata": {},
     "output_type": "execute_result"
    },
    {
     "data": {
      "application/javascript": [
       "\n",
       "            setTimeout(function() {\n",
       "                var nbb_cell_id = 32;\n",
       "                var nbb_unformatted_code = \"df_PLNA_2020.loc[df_PLNA_2020[\\\"obj_pav\\\"].str.contains(\\\"Thermo Fisher\\\", case=False)][\\n    \\\"obj_pav\\\"\\n].to_list()\";\n",
       "                var nbb_formatted_code = \"df_PLNA_2020.loc[df_PLNA_2020[\\\"obj_pav\\\"].str.contains(\\\"Thermo Fisher\\\", case=False)][\\n    \\\"obj_pav\\\"\\n].to_list()\";\n",
       "                var nbb_cells = Jupyter.notebook.get_cells();\n",
       "                for (var i = 0; i < nbb_cells.length; ++i) {\n",
       "                    if (nbb_cells[i].input_prompt_number == nbb_cell_id) {\n",
       "                        if (nbb_cells[i].get_text() == nbb_unformatted_code) {\n",
       "                             nbb_cells[i].set_text(nbb_formatted_code);\n",
       "                        }\n",
       "                        break;\n",
       "                    }\n",
       "                }\n",
       "            }, 500);\n",
       "            "
      ],
      "text/plain": [
       "<IPython.core.display.Javascript object>"
      ]
     },
     "metadata": {},
     "output_type": "display_data"
    }
   ],
   "source": [
    "df_PLNA_2020.loc[df_PLNA_2020[\"obj_pav\"].str.contains(\"Thermo Fisher\", case=False)][\n",
    "    \"obj_pav\"\n",
    "].to_list()"
   ]
  },
  {
   "cell_type": "code",
   "execution_count": 33,
   "id": "c1948ffd",
   "metadata": {
    "ExecuteTime": {
     "end_time": "2022-12-08T19:43:25.321454Z",
     "start_time": "2022-12-08T19:43:25.219207Z"
    },
    "hidden": true
   },
   "outputs": [
    {
     "data": {
      "text/plain": [
       "['UAB \"Thermo Fisher Scientific Baltics\"',\n",
       " 'UAB \"Thermo Fisher Scientific Vector Senior Holdings I\"',\n",
       " 'UAB \"Thermo Fisher Scientific Vector Senior Holdings II\"',\n",
       " 'UAB \"Thermo Fisher Scientific Vector Holdings\"']"
      ]
     },
     "execution_count": 33,
     "metadata": {},
     "output_type": "execute_result"
    },
    {
     "data": {
      "application/javascript": [
       "\n",
       "            setTimeout(function() {\n",
       "                var nbb_cell_id = 33;\n",
       "                var nbb_unformatted_code = \"df_PLNA_2021.loc[df_PLNA_2021[\\\"obj_pav\\\"].str.contains(\\\"Thermo Fisher\\\", case=False)][\\n    \\\"obj_pav\\\"\\n].to_list()\";\n",
       "                var nbb_formatted_code = \"df_PLNA_2021.loc[df_PLNA_2021[\\\"obj_pav\\\"].str.contains(\\\"Thermo Fisher\\\", case=False)][\\n    \\\"obj_pav\\\"\\n].to_list()\";\n",
       "                var nbb_cells = Jupyter.notebook.get_cells();\n",
       "                for (var i = 0; i < nbb_cells.length; ++i) {\n",
       "                    if (nbb_cells[i].input_prompt_number == nbb_cell_id) {\n",
       "                        if (nbb_cells[i].get_text() == nbb_unformatted_code) {\n",
       "                             nbb_cells[i].set_text(nbb_formatted_code);\n",
       "                        }\n",
       "                        break;\n",
       "                    }\n",
       "                }\n",
       "            }, 500);\n",
       "            "
      ],
      "text/plain": [
       "<IPython.core.display.Javascript object>"
      ]
     },
     "metadata": {},
     "output_type": "display_data"
    }
   ],
   "source": [
    "df_PLNA_2021.loc[df_PLNA_2021[\"obj_pav\"].str.contains(\"Thermo Fisher\", case=False)][\n",
    "    \"obj_pav\"\n",
    "].to_list()"
   ]
  },
  {
   "cell_type": "markdown",
   "id": "f180c4be",
   "metadata": {
    "hidden": true
   },
   "source": [
    "__Išvada__: visose duomenyse yra 4 įmonės, susijusios su “Thermo Fisher”"
   ]
  },
  {
   "cell_type": "markdown",
   "id": "13856fbc",
   "metadata": {
    "heading_collapsed": true,
    "hidden": true
   },
   "source": [
    "## 5. Apsimeskime, kad atributas “form_pav” neegzistuoja. Iš likusių laukelių gaukite visas UAB ir MB bendroves. Palyginkite rekonstrukcijos tikslumą su “form_pav” vertėmis - kiek procentų verčių pavyko atkurti skirtingose duomenyse?"
   ]
  },
  {
   "cell_type": "code",
   "execution_count": 34,
   "id": "6235f089",
   "metadata": {
    "ExecuteTime": {
     "end_time": "2022-12-08T19:43:25.368249Z",
     "start_time": "2022-12-08T19:43:25.327869Z"
    },
    "hidden": true
   },
   "outputs": [
    {
     "data": {
      "text/html": [
       "<div>\n",
       "<style scoped>\n",
       "    .dataframe tbody tr th:only-of-type {\n",
       "        vertical-align: middle;\n",
       "    }\n",
       "\n",
       "    .dataframe tbody tr th {\n",
       "        vertical-align: top;\n",
       "    }\n",
       "\n",
       "    .dataframe thead th {\n",
       "        text-align: right;\n",
       "    }\n",
       "</style>\n",
       "<table border=\"1\" class=\"dataframe\">\n",
       "  <thead>\n",
       "    <tr style=\"text-align: right;\">\n",
       "      <th></th>\n",
       "      <th>obj_kodas</th>\n",
       "      <th>obj_pav</th>\n",
       "      <th>form_kodas</th>\n",
       "      <th>form_pav</th>\n",
       "      <th>stat_statusas</th>\n",
       "      <th>stat_pav</th>\n",
       "      <th>template_id</th>\n",
       "      <th>template_name</th>\n",
       "      <th>standard_id</th>\n",
       "      <th>standard_name</th>\n",
       "      <th>laikotarpis_nuo</th>\n",
       "      <th>laikotarpis_iki</th>\n",
       "      <th>reg_date</th>\n",
       "      <th>nuosavas_kapitalas</th>\n",
       "      <th>mok_sumos_ir_isipareigojimai</th>\n",
       "      <th>ilgalaikis_turtas</th>\n",
       "      <th>trumpalaikis_turtas</th>\n",
       "    </tr>\n",
       "  </thead>\n",
       "  <tbody>\n",
       "    <tr>\n",
       "      <th>31350</th>\n",
       "      <td>301694395</td>\n",
       "      <td>UAB \"Riktė\"</td>\n",
       "      <td>310</td>\n",
       "      <td>Uždaroji akcinė bendrovė</td>\n",
       "      <td>0</td>\n",
       "      <td>Teisinis stat neįregistruotas</td>\n",
       "      <td>FS0129</td>\n",
       "      <td>Mažų ir labai mažų įmonių, netaikančių išimčių...</td>\n",
       "      <td>BST124</td>\n",
       "      <td>BALANSAS (Sutrumpintas)</td>\n",
       "      <td>2019-01-01</td>\n",
       "      <td>2019-12-31</td>\n",
       "      <td>2020-06-02</td>\n",
       "      <td>-10367.0</td>\n",
       "      <td>73389.0</td>\n",
       "      <td>21429.0</td>\n",
       "      <td>41593.0</td>\n",
       "    </tr>\n",
       "    <tr>\n",
       "      <th>82061</th>\n",
       "      <td>126172499</td>\n",
       "      <td>Viešoji įstaiga \"Cinerama\"</td>\n",
       "      <td>570</td>\n",
       "      <td>Viešoji įstaiga</td>\n",
       "      <td>0</td>\n",
       "      <td>Teisinis stat neįregistruotas</td>\n",
       "      <td>FS0323</td>\n",
       "      <td>Pelno nesiekiančių JA finansinių ataskaitų rin...</td>\n",
       "      <td>BST216</td>\n",
       "      <td>FINANSINĖS BŪKLĖS ATASKAITA</td>\n",
       "      <td>2019-01-01</td>\n",
       "      <td>2019-12-31</td>\n",
       "      <td>2020-06-26</td>\n",
       "      <td>-1535.0</td>\n",
       "      <td>8099.0</td>\n",
       "      <td>1.0</td>\n",
       "      <td>6563.0</td>\n",
       "    </tr>\n",
       "    <tr>\n",
       "      <th>70984</th>\n",
       "      <td>304795360</td>\n",
       "      <td>UAB \"Baltijos selektas\"</td>\n",
       "      <td>310</td>\n",
       "      <td>Uždaroji akcinė bendrovė</td>\n",
       "      <td>0</td>\n",
       "      <td>Teisinis stat neįregistruotas</td>\n",
       "      <td>FS0129</td>\n",
       "      <td>Mažų ir labai mažų įmonių, netaikančių išimčių...</td>\n",
       "      <td>BST124</td>\n",
       "      <td>BALANSAS (Sutrumpintas)</td>\n",
       "      <td>2019-01-01</td>\n",
       "      <td>2019-12-31</td>\n",
       "      <td>2020-04-28</td>\n",
       "      <td>-2396.0</td>\n",
       "      <td>17894.0</td>\n",
       "      <td>10088.0</td>\n",
       "      <td>5410.0</td>\n",
       "    </tr>\n",
       "    <tr>\n",
       "      <th>7647</th>\n",
       "      <td>300111007</td>\n",
       "      <td>UAB \"AGM\"</td>\n",
       "      <td>310</td>\n",
       "      <td>Uždaroji akcinė bendrovė</td>\n",
       "      <td>0</td>\n",
       "      <td>Teisinis stat neįregistruotas</td>\n",
       "      <td>FS0129</td>\n",
       "      <td>Mažų ir labai mažų įmonių, netaikančių išimčių...</td>\n",
       "      <td>BST124</td>\n",
       "      <td>BALANSAS (Sutrumpintas)</td>\n",
       "      <td>2019-01-01</td>\n",
       "      <td>2019-12-31</td>\n",
       "      <td>2020-07-27</td>\n",
       "      <td>-25014.0</td>\n",
       "      <td>59902.0</td>\n",
       "      <td>28355.0</td>\n",
       "      <td>5373.0</td>\n",
       "    </tr>\n",
       "    <tr>\n",
       "      <th>1556</th>\n",
       "      <td>304717027</td>\n",
       "      <td>MB \"Ekokompiuteriai\"</td>\n",
       "      <td>960</td>\n",
       "      <td>Mažoji bendrija</td>\n",
       "      <td>0</td>\n",
       "      <td>Teisinis stat neįregistruotas</td>\n",
       "      <td>FS0322</td>\n",
       "      <td>Mažųjų bendrijų finansinių ataskaitų rinkinys</td>\n",
       "      <td>BST217</td>\n",
       "      <td>BALANSAS (Neribotos civilinės atsakomybės juri...</td>\n",
       "      <td>2019-01-01</td>\n",
       "      <td>2019-12-31</td>\n",
       "      <td>2020-12-23</td>\n",
       "      <td>12100.0</td>\n",
       "      <td>NaN</td>\n",
       "      <td>3059.0</td>\n",
       "      <td>15662.0</td>\n",
       "    </tr>\n",
       "  </tbody>\n",
       "</table>\n",
       "</div>"
      ],
      "text/plain": [
       "       obj_kodas                     obj_pav  form_kodas  \\\n",
       "31350  301694395                 UAB \"Riktė\"         310   \n",
       "82061  126172499  Viešoji įstaiga \"Cinerama\"         570   \n",
       "70984  304795360     UAB \"Baltijos selektas\"         310   \n",
       "7647   300111007                   UAB \"AGM\"         310   \n",
       "1556   304717027        MB \"Ekokompiuteriai\"         960   \n",
       "\n",
       "                       form_pav  stat_statusas                       stat_pav  \\\n",
       "31350  Uždaroji akcinė bendrovė              0  Teisinis stat neįregistruotas   \n",
       "82061           Viešoji įstaiga              0  Teisinis stat neįregistruotas   \n",
       "70984  Uždaroji akcinė bendrovė              0  Teisinis stat neįregistruotas   \n",
       "7647   Uždaroji akcinė bendrovė              0  Teisinis stat neįregistruotas   \n",
       "1556            Mažoji bendrija              0  Teisinis stat neįregistruotas   \n",
       "\n",
       "      template_id                                      template_name  \\\n",
       "31350      FS0129  Mažų ir labai mažų įmonių, netaikančių išimčių...   \n",
       "82061      FS0323  Pelno nesiekiančių JA finansinių ataskaitų rin...   \n",
       "70984      FS0129  Mažų ir labai mažų įmonių, netaikančių išimčių...   \n",
       "7647       FS0129  Mažų ir labai mažų įmonių, netaikančių išimčių...   \n",
       "1556       FS0322      Mažųjų bendrijų finansinių ataskaitų rinkinys   \n",
       "\n",
       "      standard_id                                      standard_name  \\\n",
       "31350      BST124                            BALANSAS (Sutrumpintas)   \n",
       "82061      BST216                        FINANSINĖS BŪKLĖS ATASKAITA   \n",
       "70984      BST124                            BALANSAS (Sutrumpintas)   \n",
       "7647       BST124                            BALANSAS (Sutrumpintas)   \n",
       "1556       BST217  BALANSAS (Neribotos civilinės atsakomybės juri...   \n",
       "\n",
       "      laikotarpis_nuo laikotarpis_iki    reg_date  nuosavas_kapitalas  \\\n",
       "31350      2019-01-01      2019-12-31  2020-06-02            -10367.0   \n",
       "82061      2019-01-01      2019-12-31  2020-06-26             -1535.0   \n",
       "70984      2019-01-01      2019-12-31  2020-04-28             -2396.0   \n",
       "7647       2019-01-01      2019-12-31  2020-07-27            -25014.0   \n",
       "1556       2019-01-01      2019-12-31  2020-12-23             12100.0   \n",
       "\n",
       "       mok_sumos_ir_isipareigojimai  ilgalaikis_turtas  trumpalaikis_turtas  \n",
       "31350                       73389.0            21429.0              41593.0  \n",
       "82061                        8099.0                1.0               6563.0  \n",
       "70984                       17894.0            10088.0               5410.0  \n",
       "7647                        59902.0            28355.0               5373.0  \n",
       "1556                            NaN             3059.0              15662.0  "
      ]
     },
     "execution_count": 34,
     "metadata": {},
     "output_type": "execute_result"
    },
    {
     "data": {
      "application/javascript": [
       "\n",
       "            setTimeout(function() {\n",
       "                var nbb_cell_id = 34;\n",
       "                var nbb_unformatted_code = \"df_BLNS_2020.sample(5)\";\n",
       "                var nbb_formatted_code = \"df_BLNS_2020.sample(5)\";\n",
       "                var nbb_cells = Jupyter.notebook.get_cells();\n",
       "                for (var i = 0; i < nbb_cells.length; ++i) {\n",
       "                    if (nbb_cells[i].input_prompt_number == nbb_cell_id) {\n",
       "                        if (nbb_cells[i].get_text() == nbb_unformatted_code) {\n",
       "                             nbb_cells[i].set_text(nbb_formatted_code);\n",
       "                        }\n",
       "                        break;\n",
       "                    }\n",
       "                }\n",
       "            }, 500);\n",
       "            "
      ],
      "text/plain": [
       "<IPython.core.display.Javascript object>"
      ]
     },
     "metadata": {},
     "output_type": "display_data"
    }
   ],
   "source": [
    "df_BLNS_2020.sample(5)"
   ]
  },
  {
   "cell_type": "code",
   "execution_count": 35,
   "id": "2d792e03",
   "metadata": {
    "ExecuteTime": {
     "end_time": "2022-12-08T19:43:25.399500Z",
     "start_time": "2022-12-08T19:43:25.373712Z"
    },
    "hidden": true
   },
   "outputs": [
    {
     "data": {
      "application/javascript": [
       "\n",
       "            setTimeout(function() {\n",
       "                var nbb_cell_id = 35;\n",
       "                var nbb_unformatted_code = \"def is_MB_UAB(x):\\n    if \\\"UAB\\\" in x:\\n        return \\\"UAB\\\"\\n    if \\\"U\\u017edaroji akcin\\u0117 bendrov\\u0117\\\" in x:\\n        return \\\"UAB\\\"\\n    elif \\\"MB\\\" in x:\\n        return \\\"MB\\\"\\n    elif \\\"Ma\\u017eoji bendrija\\\" in x:\\n        return \\\"MB\\\"\\n    return np.NaN\\n\\n\\ndef MB_UAB_procentas(df):\\n    df_BLNS_2020_temp = df[[\\\"obj_pav\\\"]].copy()\\n\\n    df_BLNS_2020_temp[\\\"forma\\\"] = df_BLNS_2020_temp[\\\"obj_pav\\\"].apply(is_MB_UAB)\\n    rez_pagal_pav = df_BLNS_2020_temp[\\\"forma\\\"].value_counts().sum()\\n\\n    MB_UAB = \\\"|\\\".join([\\\"Ma\\u017eoji bendrija\\\", \\\"U\\u017edaroji akcin\\u0117 bendrov\\u0117\\\"])\\n    rez_pagal_forma = df[\\\"form_pav\\\"].str.contains(MB_UAB).sum()\\n\\n    proc = rez_pagal_pav / rez_pagal_forma * 100\\n\\n    return proc\";\n",
       "                var nbb_formatted_code = \"def is_MB_UAB(x):\\n    if \\\"UAB\\\" in x:\\n        return \\\"UAB\\\"\\n    if \\\"U\\u017edaroji akcin\\u0117 bendrov\\u0117\\\" in x:\\n        return \\\"UAB\\\"\\n    elif \\\"MB\\\" in x:\\n        return \\\"MB\\\"\\n    elif \\\"Ma\\u017eoji bendrija\\\" in x:\\n        return \\\"MB\\\"\\n    return np.NaN\\n\\n\\ndef MB_UAB_procentas(df):\\n    df_BLNS_2020_temp = df[[\\\"obj_pav\\\"]].copy()\\n\\n    df_BLNS_2020_temp[\\\"forma\\\"] = df_BLNS_2020_temp[\\\"obj_pav\\\"].apply(is_MB_UAB)\\n    rez_pagal_pav = df_BLNS_2020_temp[\\\"forma\\\"].value_counts().sum()\\n\\n    MB_UAB = \\\"|\\\".join([\\\"Ma\\u017eoji bendrija\\\", \\\"U\\u017edaroji akcin\\u0117 bendrov\\u0117\\\"])\\n    rez_pagal_forma = df[\\\"form_pav\\\"].str.contains(MB_UAB).sum()\\n\\n    proc = rez_pagal_pav / rez_pagal_forma * 100\\n\\n    return proc\";\n",
       "                var nbb_cells = Jupyter.notebook.get_cells();\n",
       "                for (var i = 0; i < nbb_cells.length; ++i) {\n",
       "                    if (nbb_cells[i].input_prompt_number == nbb_cell_id) {\n",
       "                        if (nbb_cells[i].get_text() == nbb_unformatted_code) {\n",
       "                             nbb_cells[i].set_text(nbb_formatted_code);\n",
       "                        }\n",
       "                        break;\n",
       "                    }\n",
       "                }\n",
       "            }, 500);\n",
       "            "
      ],
      "text/plain": [
       "<IPython.core.display.Javascript object>"
      ]
     },
     "metadata": {},
     "output_type": "display_data"
    }
   ],
   "source": [
    "def is_MB_UAB(x):\n",
    "    if \"UAB\" in x:\n",
    "        return \"UAB\"\n",
    "    if \"Uždaroji akcinė bendrovė\" in x:\n",
    "        return \"UAB\"\n",
    "    elif \"MB\" in x:\n",
    "        return \"MB\"\n",
    "    elif \"Mažoji bendrija\" in x:\n",
    "        return \"MB\"\n",
    "    return np.NaN\n",
    "\n",
    "\n",
    "def MB_UAB_procentas(df):\n",
    "    df_BLNS_2020_temp = df[[\"obj_pav\"]].copy()\n",
    "\n",
    "    df_BLNS_2020_temp[\"forma\"] = df_BLNS_2020_temp[\"obj_pav\"].apply(is_MB_UAB)\n",
    "    rez_pagal_pav = df_BLNS_2020_temp[\"forma\"].value_counts().sum()\n",
    "\n",
    "    MB_UAB = \"|\".join([\"Mažoji bendrija\", \"Uždaroji akcinė bendrovė\"])\n",
    "    rez_pagal_forma = df[\"form_pav\"].str.contains(MB_UAB).sum()\n",
    "\n",
    "    proc = rez_pagal_pav / rez_pagal_forma * 100\n",
    "\n",
    "    return proc"
   ]
  },
  {
   "cell_type": "code",
   "execution_count": 36,
   "id": "7fdc3c71",
   "metadata": {
    "ExecuteTime": {
     "end_time": "2022-12-08T19:43:26.209810Z",
     "start_time": "2022-12-08T19:43:25.407380Z"
    },
    "hidden": true
   },
   "outputs": [
    {
     "name": "stdout",
     "output_type": "stream",
     "text": [
      "df_BLNS_2020 sutapimas: 99.07\n",
      "df_BLNS_2021 sutapimas: 99.15\n",
      "df_PLNA_2020 sutapimas: 99.05\n",
      "df_PLNA_2021 sutapimas: 99.14\n"
     ]
    },
    {
     "data": {
      "application/javascript": [
       "\n",
       "            setTimeout(function() {\n",
       "                var nbb_cell_id = 36;\n",
       "                var nbb_unformatted_code = \"print(f\\\"df_BLNS_2020 sutapimas: {MB_UAB_procentas(df_BLNS_2020):.2f}\\\")\\nprint(f\\\"df_BLNS_2021 sutapimas: {MB_UAB_procentas(df_BLNS_2021):.2f}\\\")\\nprint(f\\\"df_PLNA_2020 sutapimas: {MB_UAB_procentas(df_PLNA_2020):.2f}\\\")\\nprint(f\\\"df_PLNA_2021 sutapimas: {MB_UAB_procentas(df_PLNA_2021):.2f}\\\")\";\n",
       "                var nbb_formatted_code = \"print(f\\\"df_BLNS_2020 sutapimas: {MB_UAB_procentas(df_BLNS_2020):.2f}\\\")\\nprint(f\\\"df_BLNS_2021 sutapimas: {MB_UAB_procentas(df_BLNS_2021):.2f}\\\")\\nprint(f\\\"df_PLNA_2020 sutapimas: {MB_UAB_procentas(df_PLNA_2020):.2f}\\\")\\nprint(f\\\"df_PLNA_2021 sutapimas: {MB_UAB_procentas(df_PLNA_2021):.2f}\\\")\";\n",
       "                var nbb_cells = Jupyter.notebook.get_cells();\n",
       "                for (var i = 0; i < nbb_cells.length; ++i) {\n",
       "                    if (nbb_cells[i].input_prompt_number == nbb_cell_id) {\n",
       "                        if (nbb_cells[i].get_text() == nbb_unformatted_code) {\n",
       "                             nbb_cells[i].set_text(nbb_formatted_code);\n",
       "                        }\n",
       "                        break;\n",
       "                    }\n",
       "                }\n",
       "            }, 500);\n",
       "            "
      ],
      "text/plain": [
       "<IPython.core.display.Javascript object>"
      ]
     },
     "metadata": {},
     "output_type": "display_data"
    }
   ],
   "source": [
    "print(f\"df_BLNS_2020 sutapimas: {MB_UAB_procentas(df_BLNS_2020):.2f}\")\n",
    "print(f\"df_BLNS_2021 sutapimas: {MB_UAB_procentas(df_BLNS_2021):.2f}\")\n",
    "print(f\"df_PLNA_2020 sutapimas: {MB_UAB_procentas(df_PLNA_2020):.2f}\")\n",
    "print(f\"df_PLNA_2021 sutapimas: {MB_UAB_procentas(df_PLNA_2021):.2f}\")"
   ]
  },
  {
   "cell_type": "markdown",
   "id": "1b731919",
   "metadata": {
    "ExecuteTime": {
     "end_time": "2022-12-05T19:09:48.866535Z",
     "start_time": "2022-12-05T19:09:48.824412Z"
    },
    "heading_collapsed": true,
    "hidden": true
   },
   "source": [
    "## 6. Apskaičiuoti vidutinias reikšmes “pelnas_pries_apmokestinima” ir “nuosavas_kapitalas” laukų kiekvienai juridinio asmens formai (Uždaroji akcinė bendrovė, Mažoji bendrija, etc.) už visą laikotarpį (2020 ir 2021 metai kartu). "
   ]
  },
  {
   "cell_type": "markdown",
   "id": "943651f3",
   "metadata": {
    "hidden": true
   },
   "source": [
    "Nuosavo kapitalo vidurkis pagal juridinio asmens formą"
   ]
  },
  {
   "cell_type": "code",
   "execution_count": 37,
   "id": "e22ad5b2",
   "metadata": {
    "ExecuteTime": {
     "end_time": "2022-12-08T19:43:26.447862Z",
     "start_time": "2022-12-08T19:43:26.212820Z"
    },
    "hidden": true
   },
   "outputs": [
    {
     "data": {
      "text/html": [
       "<div>\n",
       "<style scoped>\n",
       "    .dataframe tbody tr th:only-of-type {\n",
       "        vertical-align: middle;\n",
       "    }\n",
       "\n",
       "    .dataframe tbody tr th {\n",
       "        vertical-align: top;\n",
       "    }\n",
       "\n",
       "    .dataframe thead th {\n",
       "        text-align: right;\n",
       "    }\n",
       "</style>\n",
       "<table border=\"1\" class=\"dataframe\">\n",
       "  <thead>\n",
       "    <tr style=\"text-align: right;\">\n",
       "      <th></th>\n",
       "      <th>nuosavas_kapitalas</th>\n",
       "    </tr>\n",
       "    <tr>\n",
       "      <th>form_pav</th>\n",
       "      <th></th>\n",
       "    </tr>\n",
       "  </thead>\n",
       "  <tbody>\n",
       "    <tr>\n",
       "      <th>Akcinė bendrovė</th>\n",
       "      <td>4.139755e+07</td>\n",
       "    </tr>\n",
       "    <tr>\n",
       "      <th>Asociacija</th>\n",
       "      <td>3.629303e+04</td>\n",
       "    </tr>\n",
       "    <tr>\n",
       "      <th>Bendrija</th>\n",
       "      <td>4.739000e+03</td>\n",
       "    </tr>\n",
       "    <tr>\n",
       "      <th>Biudžetinė įstaiga</th>\n",
       "      <td>1.410740e+05</td>\n",
       "    </tr>\n",
       "    <tr>\n",
       "      <th>Individuali įmonė</th>\n",
       "      <td>1.246245e+05</td>\n",
       "    </tr>\n",
       "    <tr>\n",
       "      <th>Komanditinė ūkinė bendrija</th>\n",
       "      <td>3.251404e+06</td>\n",
       "    </tr>\n",
       "    <tr>\n",
       "      <th>Kooperatinė bendrovė</th>\n",
       "      <td>6.773609e+05</td>\n",
       "    </tr>\n",
       "    <tr>\n",
       "      <th>Labdaros ir paramos fondas</th>\n",
       "      <td>3.124865e+04</td>\n",
       "    </tr>\n",
       "    <tr>\n",
       "      <th>Lietuvos prekyb.,pramon. rūmų asociacija</th>\n",
       "      <td>6.449100e+04</td>\n",
       "    </tr>\n",
       "    <tr>\n",
       "      <th>Mažoji bendrija</th>\n",
       "      <td>1.537167e+04</td>\n",
       "    </tr>\n",
       "    <tr>\n",
       "      <th>Savivaldybės įmonė</th>\n",
       "      <td>3.431537e+06</td>\n",
       "    </tr>\n",
       "    <tr>\n",
       "      <th>Tikroji ūkinė bendrija</th>\n",
       "      <td>2.528260e+05</td>\n",
       "    </tr>\n",
       "    <tr>\n",
       "      <th>Uždaroji akcinė bendrovė</th>\n",
       "      <td>6.288160e+05</td>\n",
       "    </tr>\n",
       "    <tr>\n",
       "      <th>Užsienio juridinio asmens filialas</th>\n",
       "      <td>3.368923e+06</td>\n",
       "    </tr>\n",
       "    <tr>\n",
       "      <th>Valstybės įmonė</th>\n",
       "      <td>1.748695e+08</td>\n",
       "    </tr>\n",
       "    <tr>\n",
       "      <th>Viešoji įstaiga</th>\n",
       "      <td>2.621290e+04</td>\n",
       "    </tr>\n",
       "    <tr>\n",
       "      <th>Žemės ūkio bendrovė</th>\n",
       "      <td>1.607303e+06</td>\n",
       "    </tr>\n",
       "  </tbody>\n",
       "</table>\n",
       "</div>"
      ],
      "text/plain": [
       "                                          nuosavas_kapitalas\n",
       "form_pav                                                    \n",
       "Akcinė bendrovė                                 4.139755e+07\n",
       "Asociacija                                      3.629303e+04\n",
       "Bendrija                                        4.739000e+03\n",
       "Biudžetinė įstaiga                              1.410740e+05\n",
       "Individuali įmonė                               1.246245e+05\n",
       "Komanditinė ūkinė bendrija                      3.251404e+06\n",
       "Kooperatinė bendrovė                            6.773609e+05\n",
       "Labdaros ir paramos fondas                      3.124865e+04\n",
       "Lietuvos prekyb.,pramon. rūmų asociacija        6.449100e+04\n",
       "Mažoji bendrija                                 1.537167e+04\n",
       "Savivaldybės įmonė                              3.431537e+06\n",
       "Tikroji ūkinė bendrija                          2.528260e+05\n",
       "Uždaroji akcinė bendrovė                        6.288160e+05\n",
       "Užsienio juridinio asmens filialas              3.368923e+06\n",
       "Valstybės įmonė                                 1.748695e+08\n",
       "Viešoji įstaiga                                 2.621290e+04\n",
       "Žemės ūkio bendrovė                             1.607303e+06"
      ]
     },
     "execution_count": 37,
     "metadata": {},
     "output_type": "execute_result"
    },
    {
     "data": {
      "application/javascript": [
       "\n",
       "            setTimeout(function() {\n",
       "                var nbb_cell_id = 37;\n",
       "                var nbb_unformatted_code = \"df_BLNS = pd.concat([df_BLNS_2020, df_BLNS_2021])[\\n    [\\\"obj_pav\\\", \\\"form_pav\\\", \\\"nuosavas_kapitalas\\\"]\\n]\\ndf_BLNS.groupby([\\\"form_pav\\\"])[[\\\"nuosavas_kapitalas\\\"]].mean()\";\n",
       "                var nbb_formatted_code = \"df_BLNS = pd.concat([df_BLNS_2020, df_BLNS_2021])[\\n    [\\\"obj_pav\\\", \\\"form_pav\\\", \\\"nuosavas_kapitalas\\\"]\\n]\\ndf_BLNS.groupby([\\\"form_pav\\\"])[[\\\"nuosavas_kapitalas\\\"]].mean()\";\n",
       "                var nbb_cells = Jupyter.notebook.get_cells();\n",
       "                for (var i = 0; i < nbb_cells.length; ++i) {\n",
       "                    if (nbb_cells[i].input_prompt_number == nbb_cell_id) {\n",
       "                        if (nbb_cells[i].get_text() == nbb_unformatted_code) {\n",
       "                             nbb_cells[i].set_text(nbb_formatted_code);\n",
       "                        }\n",
       "                        break;\n",
       "                    }\n",
       "                }\n",
       "            }, 500);\n",
       "            "
      ],
      "text/plain": [
       "<IPython.core.display.Javascript object>"
      ]
     },
     "metadata": {},
     "output_type": "display_data"
    }
   ],
   "source": [
    "df_BLNS = pd.concat([df_BLNS_2020, df_BLNS_2021])[\n",
    "    [\"obj_pav\", \"form_pav\", \"nuosavas_kapitalas\"]\n",
    "]\n",
    "df_BLNS.groupby([\"form_pav\"])[[\"nuosavas_kapitalas\"]].mean()"
   ]
  },
  {
   "cell_type": "markdown",
   "id": "1839b0da",
   "metadata": {
    "hidden": true
   },
   "source": [
    "----\n",
    "Pelno pries mokesčius vidurkis pagal juridinio asmens formą"
   ]
  },
  {
   "cell_type": "code",
   "execution_count": 38,
   "id": "3dea6e3f",
   "metadata": {
    "ExecuteTime": {
     "end_time": "2022-12-08T19:43:26.667726Z",
     "start_time": "2022-12-08T19:43:26.454426Z"
    },
    "hidden": true
   },
   "outputs": [
    {
     "data": {
      "text/html": [
       "<div>\n",
       "<style scoped>\n",
       "    .dataframe tbody tr th:only-of-type {\n",
       "        vertical-align: middle;\n",
       "    }\n",
       "\n",
       "    .dataframe tbody tr th {\n",
       "        vertical-align: top;\n",
       "    }\n",
       "\n",
       "    .dataframe thead th {\n",
       "        text-align: right;\n",
       "    }\n",
       "</style>\n",
       "<table border=\"1\" class=\"dataframe\">\n",
       "  <thead>\n",
       "    <tr style=\"text-align: right;\">\n",
       "      <th></th>\n",
       "      <th>pelnas_pries_apmokestinima</th>\n",
       "    </tr>\n",
       "    <tr>\n",
       "      <th>form_pav</th>\n",
       "      <th></th>\n",
       "    </tr>\n",
       "  </thead>\n",
       "  <tbody>\n",
       "    <tr>\n",
       "      <th>Akcinė bendrovė</th>\n",
       "      <td>2.894379e+06</td>\n",
       "    </tr>\n",
       "    <tr>\n",
       "      <th>Asociacija</th>\n",
       "      <td>-2.975732e+02</td>\n",
       "    </tr>\n",
       "    <tr>\n",
       "      <th>Biudžetinė įstaiga</th>\n",
       "      <td>1.624200e+04</td>\n",
       "    </tr>\n",
       "    <tr>\n",
       "      <th>Individuali įmonė</th>\n",
       "      <td>1.500832e+04</td>\n",
       "    </tr>\n",
       "    <tr>\n",
       "      <th>Komanditinė ūkinė bendrija</th>\n",
       "      <td>3.292979e+05</td>\n",
       "    </tr>\n",
       "    <tr>\n",
       "      <th>Kooperatinė bendrovė</th>\n",
       "      <td>4.692872e+04</td>\n",
       "    </tr>\n",
       "    <tr>\n",
       "      <th>Labdaros ir paramos fondas</th>\n",
       "      <td>5.445789e+02</td>\n",
       "    </tr>\n",
       "    <tr>\n",
       "      <th>Lietuvos prekyb.,pramon. rūmų asociacija</th>\n",
       "      <td>NaN</td>\n",
       "    </tr>\n",
       "    <tr>\n",
       "      <th>Mažoji bendrija</th>\n",
       "      <td>7.051326e+03</td>\n",
       "    </tr>\n",
       "    <tr>\n",
       "      <th>Savivaldybės įmonė</th>\n",
       "      <td>3.978084e+04</td>\n",
       "    </tr>\n",
       "    <tr>\n",
       "      <th>Tikroji ūkinė bendrija</th>\n",
       "      <td>-9.874190e+03</td>\n",
       "    </tr>\n",
       "    <tr>\n",
       "      <th>Uždaroji akcinė bendrovė</th>\n",
       "      <td>1.081216e+05</td>\n",
       "    </tr>\n",
       "    <tr>\n",
       "      <th>Užsienio juridinio asmens filialas</th>\n",
       "      <td>-4.722951e+06</td>\n",
       "    </tr>\n",
       "    <tr>\n",
       "      <th>Valstybės įmonė</th>\n",
       "      <td>4.190054e+06</td>\n",
       "    </tr>\n",
       "    <tr>\n",
       "      <th>Viešoji įstaiga</th>\n",
       "      <td>5.904130e+03</td>\n",
       "    </tr>\n",
       "    <tr>\n",
       "      <th>Žemės ūkio bendrovė</th>\n",
       "      <td>1.065219e+05</td>\n",
       "    </tr>\n",
       "  </tbody>\n",
       "</table>\n",
       "</div>"
      ],
      "text/plain": [
       "                                          pelnas_pries_apmokestinima\n",
       "form_pav                                                            \n",
       "Akcinė bendrovė                                         2.894379e+06\n",
       "Asociacija                                             -2.975732e+02\n",
       "Biudžetinė įstaiga                                      1.624200e+04\n",
       "Individuali įmonė                                       1.500832e+04\n",
       "Komanditinė ūkinė bendrija                              3.292979e+05\n",
       "Kooperatinė bendrovė                                    4.692872e+04\n",
       "Labdaros ir paramos fondas                              5.445789e+02\n",
       "Lietuvos prekyb.,pramon. rūmų asociacija                         NaN\n",
       "Mažoji bendrija                                         7.051326e+03\n",
       "Savivaldybės įmonė                                      3.978084e+04\n",
       "Tikroji ūkinė bendrija                                 -9.874190e+03\n",
       "Uždaroji akcinė bendrovė                                1.081216e+05\n",
       "Užsienio juridinio asmens filialas                     -4.722951e+06\n",
       "Valstybės įmonė                                         4.190054e+06\n",
       "Viešoji įstaiga                                         5.904130e+03\n",
       "Žemės ūkio bendrovė                                     1.065219e+05"
      ]
     },
     "execution_count": 38,
     "metadata": {},
     "output_type": "execute_result"
    },
    {
     "data": {
      "application/javascript": [
       "\n",
       "            setTimeout(function() {\n",
       "                var nbb_cell_id = 38;\n",
       "                var nbb_unformatted_code = \"df_PLNA = pd.concat([df_PLNA_2020, df_PLNA_2021])[\\n    [\\\"form_pav\\\", \\\"pelnas_pries_apmokestinima\\\"]\\n]\\ndf_PLNA.groupby([\\\"form_pav\\\"])[[\\\"pelnas_pries_apmokestinima\\\"]].mean()\";\n",
       "                var nbb_formatted_code = \"df_PLNA = pd.concat([df_PLNA_2020, df_PLNA_2021])[\\n    [\\\"form_pav\\\", \\\"pelnas_pries_apmokestinima\\\"]\\n]\\ndf_PLNA.groupby([\\\"form_pav\\\"])[[\\\"pelnas_pries_apmokestinima\\\"]].mean()\";\n",
       "                var nbb_cells = Jupyter.notebook.get_cells();\n",
       "                for (var i = 0; i < nbb_cells.length; ++i) {\n",
       "                    if (nbb_cells[i].input_prompt_number == nbb_cell_id) {\n",
       "                        if (nbb_cells[i].get_text() == nbb_unformatted_code) {\n",
       "                             nbb_cells[i].set_text(nbb_formatted_code);\n",
       "                        }\n",
       "                        break;\n",
       "                    }\n",
       "                }\n",
       "            }, 500);\n",
       "            "
      ],
      "text/plain": [
       "<IPython.core.display.Javascript object>"
      ]
     },
     "metadata": {},
     "output_type": "display_data"
    }
   ],
   "source": [
    "df_PLNA = pd.concat([df_PLNA_2020, df_PLNA_2021])[\n",
    "    [\"form_pav\", \"pelnas_pries_apmokestinima\"]\n",
    "]\n",
    "df_PLNA.groupby([\"form_pav\"])[[\"pelnas_pries_apmokestinima\"]].mean()"
   ]
  },
  {
   "cell_type": "markdown",
   "id": "df094e83",
   "metadata": {
    "heading_collapsed": true,
    "hidden": true
   },
   "source": [
    "## 7. Atrinkti unikalias UAB ir MB įmones, kurių “nuosavas_kapitalas” buvo didesnis negu visų UAB ir MB įmonių nuosavo kapitalo mediana už visą laitotarpį (2020 ir 2021 metai kartu). "
   ]
  },
  {
   "cell_type": "code",
   "execution_count": 39,
   "id": "38e289ca",
   "metadata": {
    "ExecuteTime": {
     "end_time": "2022-12-08T19:43:27.009231Z",
     "start_time": "2022-12-08T19:43:26.671256Z"
    },
    "hidden": true
   },
   "outputs": [
    {
     "data": {
      "text/html": [
       "<div>\n",
       "<style scoped>\n",
       "    .dataframe tbody tr th:only-of-type {\n",
       "        vertical-align: middle;\n",
       "    }\n",
       "\n",
       "    .dataframe tbody tr th {\n",
       "        vertical-align: top;\n",
       "    }\n",
       "\n",
       "    .dataframe thead th {\n",
       "        text-align: right;\n",
       "    }\n",
       "</style>\n",
       "<table border=\"1\" class=\"dataframe\">\n",
       "  <thead>\n",
       "    <tr style=\"text-align: right;\">\n",
       "      <th></th>\n",
       "      <th>obj_pav</th>\n",
       "      <th>form_pav</th>\n",
       "      <th>nuosavas_kapitalas_existing</th>\n",
       "      <th>nuosavas_kapitalas_median</th>\n",
       "    </tr>\n",
       "  </thead>\n",
       "  <tbody>\n",
       "    <tr>\n",
       "      <th>115743</th>\n",
       "      <td>UAB \"Baltoji ramunėlė\"</td>\n",
       "      <td>Uždaroji akcinė bendrovė</td>\n",
       "      <td>0.0</td>\n",
       "      <td>21455.0</td>\n",
       "    </tr>\n",
       "    <tr>\n",
       "      <th>58713</th>\n",
       "      <td>Uždaroji akcinė bendrovė \"MARIJAMPOLĖS PIENO K...</td>\n",
       "      <td>Uždaroji akcinė bendrovė</td>\n",
       "      <td>36999728.0</td>\n",
       "      <td>21455.0</td>\n",
       "    </tr>\n",
       "    <tr>\n",
       "      <th>146514</th>\n",
       "      <td>Uždaroji akcinė bendrovė \"TADMAKSAS\"</td>\n",
       "      <td>Uždaroji akcinė bendrovė</td>\n",
       "      <td>-93522.0</td>\n",
       "      <td>21455.0</td>\n",
       "    </tr>\n",
       "    <tr>\n",
       "      <th>25626</th>\n",
       "      <td>MB \"Rauktita\"</td>\n",
       "      <td>Mažoji bendrija</td>\n",
       "      <td>995.0</td>\n",
       "      <td>2371.0</td>\n",
       "    </tr>\n",
       "    <tr>\n",
       "      <th>85630</th>\n",
       "      <td>UAB \"VT100\"</td>\n",
       "      <td>Uždaroji akcinė bendrovė</td>\n",
       "      <td>0.0</td>\n",
       "      <td>21455.0</td>\n",
       "    </tr>\n",
       "  </tbody>\n",
       "</table>\n",
       "</div>"
      ],
      "text/plain": [
       "                                                  obj_pav  \\\n",
       "115743                             UAB \"Baltoji ramunėlė\"   \n",
       "58713   Uždaroji akcinė bendrovė \"MARIJAMPOLĖS PIENO K...   \n",
       "146514               Uždaroji akcinė bendrovė \"TADMAKSAS\"   \n",
       "25626                                       MB \"Rauktita\"   \n",
       "85630                                         UAB \"VT100\"   \n",
       "\n",
       "                        form_pav  nuosavas_kapitalas_existing  \\\n",
       "115743  Uždaroji akcinė bendrovė                          0.0   \n",
       "58713   Uždaroji akcinė bendrovė                   36999728.0   \n",
       "146514  Uždaroji akcinė bendrovė                     -93522.0   \n",
       "25626            Mažoji bendrija                        995.0   \n",
       "85630   Uždaroji akcinė bendrovė                          0.0   \n",
       "\n",
       "        nuosavas_kapitalas_median  \n",
       "115743                    21455.0  \n",
       "58713                     21455.0  \n",
       "146514                    21455.0  \n",
       "25626                      2371.0  \n",
       "85630                     21455.0  "
      ]
     },
     "execution_count": 39,
     "metadata": {},
     "output_type": "execute_result"
    },
    {
     "data": {
      "application/javascript": [
       "\n",
       "            setTimeout(function() {\n",
       "                var nbb_cell_id = 39;\n",
       "                var nbb_unformatted_code = \"MB_UAB_median = df_BLNS.groupby([\\\"form_pav\\\"])[[\\\"nuosavas_kapitalas\\\"]].median()\\ndf_BLNS_median = pd.merge(\\n    df_BLNS, MB_UAB_median, on=\\\"form_pav\\\", suffixes=(\\\"_existing\\\", \\\"_median\\\")\\n)\\n\\nMB_UAB = \\\"|\\\".join([\\\"Ma\\u017eoji bendrija\\\", \\\"U\\u017edaroji akcin\\u0117 bendrov\\u0117\\\"])\\ndf_BLNS_median = df_BLNS_median[df_BLNS_median[\\\"form_pav\\\"].str.contains(MB_UAB)]\\ndf_BLNS_median.sample(5)\";\n",
       "                var nbb_formatted_code = \"MB_UAB_median = df_BLNS.groupby([\\\"form_pav\\\"])[[\\\"nuosavas_kapitalas\\\"]].median()\\ndf_BLNS_median = pd.merge(\\n    df_BLNS, MB_UAB_median, on=\\\"form_pav\\\", suffixes=(\\\"_existing\\\", \\\"_median\\\")\\n)\\n\\nMB_UAB = \\\"|\\\".join([\\\"Ma\\u017eoji bendrija\\\", \\\"U\\u017edaroji akcin\\u0117 bendrov\\u0117\\\"])\\ndf_BLNS_median = df_BLNS_median[df_BLNS_median[\\\"form_pav\\\"].str.contains(MB_UAB)]\\ndf_BLNS_median.sample(5)\";\n",
       "                var nbb_cells = Jupyter.notebook.get_cells();\n",
       "                for (var i = 0; i < nbb_cells.length; ++i) {\n",
       "                    if (nbb_cells[i].input_prompt_number == nbb_cell_id) {\n",
       "                        if (nbb_cells[i].get_text() == nbb_unformatted_code) {\n",
       "                             nbb_cells[i].set_text(nbb_formatted_code);\n",
       "                        }\n",
       "                        break;\n",
       "                    }\n",
       "                }\n",
       "            }, 500);\n",
       "            "
      ],
      "text/plain": [
       "<IPython.core.display.Javascript object>"
      ]
     },
     "metadata": {},
     "output_type": "display_data"
    }
   ],
   "source": [
    "MB_UAB_median = df_BLNS.groupby([\"form_pav\"])[[\"nuosavas_kapitalas\"]].median()\n",
    "df_BLNS_median = pd.merge(\n",
    "    df_BLNS, MB_UAB_median, on=\"form_pav\", suffixes=(\"_existing\", \"_median\")\n",
    ")\n",
    "\n",
    "MB_UAB = \"|\".join([\"Mažoji bendrija\", \"Uždaroji akcinė bendrovė\"])\n",
    "df_BLNS_median = df_BLNS_median[df_BLNS_median[\"form_pav\"].str.contains(MB_UAB)]\n",
    "df_BLNS_median.sample(5)"
   ]
  },
  {
   "cell_type": "code",
   "execution_count": 40,
   "id": "d19f275b",
   "metadata": {
    "ExecuteTime": {
     "end_time": "2022-12-08T19:43:27.366826Z",
     "start_time": "2022-12-08T19:43:27.012603Z"
    },
    "hidden": true
   },
   "outputs": [
    {
     "data": {
      "text/html": [
       "<div>\n",
       "<style scoped>\n",
       "    .dataframe tbody tr th:only-of-type {\n",
       "        vertical-align: middle;\n",
       "    }\n",
       "\n",
       "    .dataframe tbody tr th {\n",
       "        vertical-align: top;\n",
       "    }\n",
       "\n",
       "    .dataframe thead th {\n",
       "        text-align: right;\n",
       "    }\n",
       "</style>\n",
       "<table border=\"1\" class=\"dataframe\">\n",
       "  <thead>\n",
       "    <tr style=\"text-align: right;\">\n",
       "      <th></th>\n",
       "      <th>nuosavas_kapitalas_existing</th>\n",
       "      <th>nuosavas_kapitalas_median</th>\n",
       "    </tr>\n",
       "    <tr>\n",
       "      <th>obj_pav</th>\n",
       "      <th></th>\n",
       "      <th></th>\n",
       "    </tr>\n",
       "  </thead>\n",
       "  <tbody>\n",
       "    <tr>\n",
       "      <th>\"10 liepų\" UAB</th>\n",
       "      <td>77310.0</td>\n",
       "      <td>21455.0</td>\n",
       "    </tr>\n",
       "    <tr>\n",
       "      <th>\"1024 MB\" MB</th>\n",
       "      <td>14988.5</td>\n",
       "      <td>2371.0</td>\n",
       "    </tr>\n",
       "    <tr>\n",
       "      <th>\"115 idėjų\" MB</th>\n",
       "      <td>4173.0</td>\n",
       "      <td>2371.0</td>\n",
       "    </tr>\n",
       "    <tr>\n",
       "      <th>\"3 debesėliai\" MB</th>\n",
       "      <td>75994.0</td>\n",
       "      <td>2371.0</td>\n",
       "    </tr>\n",
       "    <tr>\n",
       "      <th>\"3M Lietuva\" UAB</th>\n",
       "      <td>5246750.5</td>\n",
       "      <td>21455.0</td>\n",
       "    </tr>\n",
       "    <tr>\n",
       "      <th>...</th>\n",
       "      <td>...</td>\n",
       "      <td>...</td>\n",
       "    </tr>\n",
       "    <tr>\n",
       "      <th>Žibartonių mėsa MB</th>\n",
       "      <td>452073.5</td>\n",
       "      <td>2371.0</td>\n",
       "    </tr>\n",
       "    <tr>\n",
       "      <th>Žilinskis RE UAB</th>\n",
       "      <td>31983.5</td>\n",
       "      <td>21455.0</td>\n",
       "    </tr>\n",
       "    <tr>\n",
       "      <th>Žilvino šypsenos klinika MB</th>\n",
       "      <td>37305.5</td>\n",
       "      <td>2371.0</td>\n",
       "    </tr>\n",
       "    <tr>\n",
       "      <th>Žmurko UAB</th>\n",
       "      <td>78906.5</td>\n",
       "      <td>21455.0</td>\n",
       "    </tr>\n",
       "    <tr>\n",
       "      <th>ŽŪĮ \"GERAS ŪKIS\" UAB</th>\n",
       "      <td>57866.0</td>\n",
       "      <td>21455.0</td>\n",
       "    </tr>\n",
       "  </tbody>\n",
       "</table>\n",
       "<p>49106 rows × 2 columns</p>\n",
       "</div>"
      ],
      "text/plain": [
       "                             nuosavas_kapitalas_existing  \\\n",
       "obj_pav                                                    \n",
       "\"10 liepų\" UAB                                   77310.0   \n",
       "\"1024 MB\" MB                                     14988.5   \n",
       "\"115 idėjų\" MB                                    4173.0   \n",
       "\"3 debesėliai\" MB                                75994.0   \n",
       "\"3M Lietuva\" UAB                               5246750.5   \n",
       "...                                                  ...   \n",
       "Žibartonių mėsa MB                              452073.5   \n",
       "Žilinskis RE UAB                                 31983.5   \n",
       "Žilvino šypsenos klinika MB                      37305.5   \n",
       "Žmurko UAB                                       78906.5   \n",
       "ŽŪĮ \"GERAS ŪKIS\" UAB                             57866.0   \n",
       "\n",
       "                             nuosavas_kapitalas_median  \n",
       "obj_pav                                                 \n",
       "\"10 liepų\" UAB                                 21455.0  \n",
       "\"1024 MB\" MB                                    2371.0  \n",
       "\"115 idėjų\" MB                                  2371.0  \n",
       "\"3 debesėliai\" MB                               2371.0  \n",
       "\"3M Lietuva\" UAB                               21455.0  \n",
       "...                                                ...  \n",
       "Žibartonių mėsa MB                              2371.0  \n",
       "Žilinskis RE UAB                               21455.0  \n",
       "Žilvino šypsenos klinika MB                     2371.0  \n",
       "Žmurko UAB                                     21455.0  \n",
       "ŽŪĮ \"GERAS ŪKIS\" UAB                           21455.0  \n",
       "\n",
       "[49106 rows x 2 columns]"
      ]
     },
     "execution_count": 40,
     "metadata": {},
     "output_type": "execute_result"
    },
    {
     "data": {
      "application/javascript": [
       "\n",
       "            setTimeout(function() {\n",
       "                var nbb_cell_id = 40;\n",
       "                var nbb_unformatted_code = \"rez = df_BLNS_median.groupby(\\\"obj_pav\\\")[\\n    [\\\"nuosavas_kapitalas_existing\\\", \\\"nuosavas_kapitalas_median\\\"]\\n].median()\\nrez[rez[\\\"nuosavas_kapitalas_existing\\\"] > rez[\\\"nuosavas_kapitalas_median\\\"]]\";\n",
       "                var nbb_formatted_code = \"rez = df_BLNS_median.groupby(\\\"obj_pav\\\")[\\n    [\\\"nuosavas_kapitalas_existing\\\", \\\"nuosavas_kapitalas_median\\\"]\\n].median()\\nrez[rez[\\\"nuosavas_kapitalas_existing\\\"] > rez[\\\"nuosavas_kapitalas_median\\\"]]\";\n",
       "                var nbb_cells = Jupyter.notebook.get_cells();\n",
       "                for (var i = 0; i < nbb_cells.length; ++i) {\n",
       "                    if (nbb_cells[i].input_prompt_number == nbb_cell_id) {\n",
       "                        if (nbb_cells[i].get_text() == nbb_unformatted_code) {\n",
       "                             nbb_cells[i].set_text(nbb_formatted_code);\n",
       "                        }\n",
       "                        break;\n",
       "                    }\n",
       "                }\n",
       "            }, 500);\n",
       "            "
      ],
      "text/plain": [
       "<IPython.core.display.Javascript object>"
      ]
     },
     "metadata": {},
     "output_type": "display_data"
    }
   ],
   "source": [
    "rez = df_BLNS_median.groupby(\"obj_pav\")[\n",
    "    [\"nuosavas_kapitalas_existing\", \"nuosavas_kapitalas_median\"]\n",
    "].median()\n",
    "rez[rez[\"nuosavas_kapitalas_existing\"] > rez[\"nuosavas_kapitalas_median\"]]"
   ]
  },
  {
   "cell_type": "markdown",
   "id": "4409eeb7",
   "metadata": {
    "heading_collapsed": true,
    "hidden": true
   },
   "source": [
    "##  8. Įvertinkite kurios įmonės išsiskiria ypač didele “nuosavas_kapitalas” verte (patenka į 99th percentilę). Patikrinkite įmonių patenkančių į TOP-10 vertes __[rekvizitai.vz.lt](https://rekvizitai.vz.lt/)__ svetainėje. Ranka įrašomi duomenys sukuria klaidos galimybę. Ar yra bendrovė, kurios “nuosavas_kapitalas” jums kelia įtarimų? "
   ]
  },
  {
   "cell_type": "code",
   "execution_count": 41,
   "id": "da64f70d",
   "metadata": {
    "ExecuteTime": {
     "end_time": "2022-12-08T19:43:27.428466Z",
     "start_time": "2022-12-08T19:43:27.371338Z"
    },
    "hidden": true
   },
   "outputs": [
    {
     "name": "stdout",
     "output_type": "stream",
     "text": [
      "99th procentilis: 6364688.0\n"
     ]
    },
    {
     "data": {
      "text/html": [
       "<div>\n",
       "<style scoped>\n",
       "    .dataframe tbody tr th:only-of-type {\n",
       "        vertical-align: middle;\n",
       "    }\n",
       "\n",
       "    .dataframe tbody tr th {\n",
       "        vertical-align: top;\n",
       "    }\n",
       "\n",
       "    .dataframe thead th {\n",
       "        text-align: right;\n",
       "    }\n",
       "</style>\n",
       "<table border=\"1\" class=\"dataframe\">\n",
       "  <thead>\n",
       "    <tr style=\"text-align: right;\">\n",
       "      <th></th>\n",
       "      <th>obj_pav</th>\n",
       "      <th>nuosavas_kapitalas</th>\n",
       "    </tr>\n",
       "  </thead>\n",
       "  <tbody>\n",
       "    <tr>\n",
       "      <th>54243</th>\n",
       "      <td>UAB \"Thermo Fisher Scientific Vector Holdings\"</td>\n",
       "      <td>3.898038e+09</td>\n",
       "    </tr>\n",
       "    <tr>\n",
       "      <th>25845</th>\n",
       "      <td>UAB \"Thermo Fisher Scientific Vector Senior Ho...</td>\n",
       "      <td>3.898038e+09</td>\n",
       "    </tr>\n",
       "    <tr>\n",
       "      <th>16978</th>\n",
       "      <td>UAB \"Thermo Fisher Scientific Vector Senior Ho...</td>\n",
       "      <td>2.950793e+09</td>\n",
       "    </tr>\n",
       "    <tr>\n",
       "      <th>62819</th>\n",
       "      <td>Valstybės įmonė Lietuvos automobilių kelių dir...</td>\n",
       "      <td>2.693140e+09</td>\n",
       "    </tr>\n",
       "    <tr>\n",
       "      <th>39828</th>\n",
       "      <td>Uždaroji akcinė bendrovė \"Vilniaus prekyba\"</td>\n",
       "      <td>1.950511e+09</td>\n",
       "    </tr>\n",
       "    <tr>\n",
       "      <th>74818</th>\n",
       "      <td>AB \"Ignitis grupė\"</td>\n",
       "      <td>1.812955e+09</td>\n",
       "    </tr>\n",
       "    <tr>\n",
       "      <th>119613</th>\n",
       "      <td>MAXIMA GRUPĖ UAB</td>\n",
       "      <td>1.564631e+09</td>\n",
       "    </tr>\n",
       "    <tr>\n",
       "      <th>46428</th>\n",
       "      <td>UAB \"Thermo Fisher Scientific Baltics\"</td>\n",
       "      <td>1.240838e+09</td>\n",
       "    </tr>\n",
       "    <tr>\n",
       "      <th>93471</th>\n",
       "      <td>Akcinė bendrovė \"Lietuvos geležinkeliai\"</td>\n",
       "      <td>1.114799e+09</td>\n",
       "    </tr>\n",
       "    <tr>\n",
       "      <th>94826</th>\n",
       "      <td>AB \"LTG Infra\"</td>\n",
       "      <td>6.797990e+08</td>\n",
       "    </tr>\n",
       "  </tbody>\n",
       "</table>\n",
       "</div>"
      ],
      "text/plain": [
       "                                                  obj_pav  nuosavas_kapitalas\n",
       "54243      UAB \"Thermo Fisher Scientific Vector Holdings\"        3.898038e+09\n",
       "25845   UAB \"Thermo Fisher Scientific Vector Senior Ho...        3.898038e+09\n",
       "16978   UAB \"Thermo Fisher Scientific Vector Senior Ho...        2.950793e+09\n",
       "62819   Valstybės įmonė Lietuvos automobilių kelių dir...        2.693140e+09\n",
       "39828         Uždaroji akcinė bendrovė \"Vilniaus prekyba\"        1.950511e+09\n",
       "74818                                  AB \"Ignitis grupė\"        1.812955e+09\n",
       "119613                                   MAXIMA GRUPĖ UAB        1.564631e+09\n",
       "46428              UAB \"Thermo Fisher Scientific Baltics\"        1.240838e+09\n",
       "93471            Akcinė bendrovė \"Lietuvos geležinkeliai\"        1.114799e+09\n",
       "94826                                      AB \"LTG Infra\"        6.797990e+08"
      ]
     },
     "execution_count": 41,
     "metadata": {},
     "output_type": "execute_result"
    },
    {
     "data": {
      "application/javascript": [
       "\n",
       "            setTimeout(function() {\n",
       "                var nbb_cell_id = 41;\n",
       "                var nbb_unformatted_code = \"q_2021 = df_BLNS_2021[\\\"nuosavas_kapitalas\\\"].quantile(q=0.99)\\nprint(f\\\"99th procentilis: {q_2021:.1f}\\\")\\ndf_BLNS_2021.loc[\\n    df_BLNS_2021[\\\"nuosavas_kapitalas\\\"] > q_2021, [\\\"obj_pav\\\", \\\"nuosavas_kapitalas\\\"]\\n].sort_values(by=\\\"nuosavas_kapitalas\\\", ascending=False).head(10)\";\n",
       "                var nbb_formatted_code = \"q_2021 = df_BLNS_2021[\\\"nuosavas_kapitalas\\\"].quantile(q=0.99)\\nprint(f\\\"99th procentilis: {q_2021:.1f}\\\")\\ndf_BLNS_2021.loc[\\n    df_BLNS_2021[\\\"nuosavas_kapitalas\\\"] > q_2021, [\\\"obj_pav\\\", \\\"nuosavas_kapitalas\\\"]\\n].sort_values(by=\\\"nuosavas_kapitalas\\\", ascending=False).head(10)\";\n",
       "                var nbb_cells = Jupyter.notebook.get_cells();\n",
       "                for (var i = 0; i < nbb_cells.length; ++i) {\n",
       "                    if (nbb_cells[i].input_prompt_number == nbb_cell_id) {\n",
       "                        if (nbb_cells[i].get_text() == nbb_unformatted_code) {\n",
       "                             nbb_cells[i].set_text(nbb_formatted_code);\n",
       "                        }\n",
       "                        break;\n",
       "                    }\n",
       "                }\n",
       "            }, 500);\n",
       "            "
      ],
      "text/plain": [
       "<IPython.core.display.Javascript object>"
      ]
     },
     "metadata": {},
     "output_type": "display_data"
    }
   ],
   "source": [
    "q_2021 = df_BLNS_2021[\"nuosavas_kapitalas\"].quantile(q=0.99)\n",
    "print(f\"99th procentilis: {q_2021:.1f}\")\n",
    "df_BLNS_2021.loc[\n",
    "    df_BLNS_2021[\"nuosavas_kapitalas\"] > q_2021, [\"obj_pav\", \"nuosavas_kapitalas\"]\n",
    "].sort_values(by=\"nuosavas_kapitalas\", ascending=False).head(10)"
   ]
  },
  {
   "cell_type": "markdown",
   "id": "b2d4268c",
   "metadata": {
    "hidden": true
   },
   "source": [
    "Įtartina: \n",
    "* Thermo Fisher Scientific Vector Senior Holdings II, UAB\n",
    "* Thermo Fisher Scientific Vector Senior Holdings I, UAB\n",
    "* Thermo Fisher Scientific Baltics, UAB"
   ]
  },
  {
   "cell_type": "markdown",
   "id": "9fcece0e",
   "metadata": {
    "heading_collapsed": true,
    "hidden": true
   },
   "source": [
    "## 9. Vizualiai atvaizduoti juridinių asmenų formos pasiskirstymą per visą laikotarpį (2020 ir 2021 metais kartu). Vizualizacijos turi sutapti su pavaizduota dešinėje."
   ]
  },
  {
   "cell_type": "code",
   "execution_count": 42,
   "id": "0a515da6",
   "metadata": {
    "ExecuteTime": {
     "end_time": "2022-12-08T19:43:27.724315Z",
     "start_time": "2022-12-08T19:43:27.434993Z"
    },
    "hidden": true
   },
   "outputs": [
    {
     "data": {
      "text/plain": [
       "(227168, 3)"
      ]
     },
     "execution_count": 42,
     "metadata": {},
     "output_type": "execute_result"
    },
    {
     "data": {
      "application/javascript": [
       "\n",
       "            setTimeout(function() {\n",
       "                var nbb_cell_id = 42;\n",
       "                var nbb_unformatted_code = \"df_BLNS_2020[\\\"reg_date\\\"] = pd.to_datetime(df_BLNS_2020[\\\"reg_date\\\"], format=\\\"%Y-%m-%d\\\")\\ndf_BLNS_2021[\\\"reg_date\\\"] = pd.to_datetime(df_BLNS_2021[\\\"reg_date\\\"], format=\\\"%Y-%m-%d\\\")\\n\\ndf_BLNS_2020[\\\"metai\\\"] = df_BLNS_2020[\\\"reg_date\\\"].dt.year\\ndf_BLNS_2021[\\\"metai\\\"] = df_BLNS_2021[\\\"reg_date\\\"].dt.year\\n\\ndf_BLNS = pd.concat([df_BLNS_2020, df_BLNS_2021])[[\\\"obj_kodas\\\", \\\"form_pav\\\", \\\"metai\\\"]]\\ndf_BLNS.shape\";\n",
       "                var nbb_formatted_code = \"df_BLNS_2020[\\\"reg_date\\\"] = pd.to_datetime(df_BLNS_2020[\\\"reg_date\\\"], format=\\\"%Y-%m-%d\\\")\\ndf_BLNS_2021[\\\"reg_date\\\"] = pd.to_datetime(df_BLNS_2021[\\\"reg_date\\\"], format=\\\"%Y-%m-%d\\\")\\n\\ndf_BLNS_2020[\\\"metai\\\"] = df_BLNS_2020[\\\"reg_date\\\"].dt.year\\ndf_BLNS_2021[\\\"metai\\\"] = df_BLNS_2021[\\\"reg_date\\\"].dt.year\\n\\ndf_BLNS = pd.concat([df_BLNS_2020, df_BLNS_2021])[[\\\"obj_kodas\\\", \\\"form_pav\\\", \\\"metai\\\"]]\\ndf_BLNS.shape\";\n",
       "                var nbb_cells = Jupyter.notebook.get_cells();\n",
       "                for (var i = 0; i < nbb_cells.length; ++i) {\n",
       "                    if (nbb_cells[i].input_prompt_number == nbb_cell_id) {\n",
       "                        if (nbb_cells[i].get_text() == nbb_unformatted_code) {\n",
       "                             nbb_cells[i].set_text(nbb_formatted_code);\n",
       "                        }\n",
       "                        break;\n",
       "                    }\n",
       "                }\n",
       "            }, 500);\n",
       "            "
      ],
      "text/plain": [
       "<IPython.core.display.Javascript object>"
      ]
     },
     "metadata": {},
     "output_type": "display_data"
    }
   ],
   "source": [
    "df_BLNS_2020[\"reg_date\"] = pd.to_datetime(df_BLNS_2020[\"reg_date\"], format=\"%Y-%m-%d\")\n",
    "df_BLNS_2021[\"reg_date\"] = pd.to_datetime(df_BLNS_2021[\"reg_date\"], format=\"%Y-%m-%d\")\n",
    "\n",
    "df_BLNS_2020[\"metai\"] = df_BLNS_2020[\"reg_date\"].dt.year\n",
    "df_BLNS_2021[\"metai\"] = df_BLNS_2021[\"reg_date\"].dt.year\n",
    "\n",
    "df_BLNS = pd.concat([df_BLNS_2020, df_BLNS_2021])[[\"obj_kodas\", \"form_pav\", \"metai\"]]\n",
    "df_BLNS.shape"
   ]
  },
  {
   "cell_type": "markdown",
   "id": "fa0ea523",
   "metadata": {
    "hidden": true
   },
   "source": [
    "Išmetame dublikatus pagal įmonės kodą, formos pavadinimą ir metus, nes tais pačiais metais tapati įmonė ir su tuo pačia forma galėjo turėt kelis įrašus"
   ]
  },
  {
   "cell_type": "code",
   "execution_count": 43,
   "id": "53495aba",
   "metadata": {
    "ExecuteTime": {
     "end_time": "2022-12-08T19:43:27.833273Z",
     "start_time": "2022-12-08T19:43:27.730404Z"
    },
    "hidden": true
   },
   "outputs": [
    {
     "data": {
      "text/plain": [
       "(203130, 3)"
      ]
     },
     "execution_count": 43,
     "metadata": {},
     "output_type": "execute_result"
    },
    {
     "data": {
      "application/javascript": [
       "\n",
       "            setTimeout(function() {\n",
       "                var nbb_cell_id = 43;\n",
       "                var nbb_unformatted_code = \"df_BLNS = df_BLNS.drop_duplicates()\\ndf_BLNS.shape\";\n",
       "                var nbb_formatted_code = \"df_BLNS = df_BLNS.drop_duplicates()\\ndf_BLNS.shape\";\n",
       "                var nbb_cells = Jupyter.notebook.get_cells();\n",
       "                for (var i = 0; i < nbb_cells.length; ++i) {\n",
       "                    if (nbb_cells[i].input_prompt_number == nbb_cell_id) {\n",
       "                        if (nbb_cells[i].get_text() == nbb_unformatted_code) {\n",
       "                             nbb_cells[i].set_text(nbb_formatted_code);\n",
       "                        }\n",
       "                        break;\n",
       "                    }\n",
       "                }\n",
       "            }, 500);\n",
       "            "
      ],
      "text/plain": [
       "<IPython.core.display.Javascript object>"
      ]
     },
     "metadata": {},
     "output_type": "display_data"
    }
   ],
   "source": [
    "df_BLNS = df_BLNS.drop_duplicates()\n",
    "df_BLNS.shape"
   ]
  },
  {
   "cell_type": "code",
   "execution_count": 44,
   "id": "65243d47",
   "metadata": {
    "ExecuteTime": {
     "end_time": "2022-12-08T19:43:29.237414Z",
     "start_time": "2022-12-08T19:43:27.838262Z"
    },
    "hidden": true
   },
   "outputs": [
    {
     "data": {
      "text/plain": [
       "Text(0.5, 0, '')"
      ]
     },
     "execution_count": 44,
     "metadata": {},
     "output_type": "execute_result"
    },
    {
     "data": {
      "image/png": "[encoded data removed]",
      "text/plain": [
       "<Figure size 640x480 with 1 Axes>"
      ]
     },
     "metadata": {},
     "output_type": "display_data"
    },
    {
     "data": {
      "application/javascript": [
       "\n",
       "            setTimeout(function() {\n",
       "                var nbb_cell_id = 44;\n",
       "                var nbb_unformatted_code = \"df_BLNS_group = df_BLNS.groupby([\\\"form_pav\\\", \\\"metai\\\"])[[\\\"obj_kodas\\\"]].count().unstack()\\ndf_BLNS_group.columns = df_BLNS_group.columns.droplevel()\\ndf_BLNS_group.rename(columns={2020: \\\"2020_count\\\", 2021: \\\"2021_count\\\"}, inplace=True)\\n\\nax = df_BLNS_group.plot(\\n    kind=\\\"bar\\\",\\n    logy=True,\\n    title=\\\"Juridini\\u0173 asmen\\u0173 skai\\u010dius 2020 ir 2021 metais\\\",\\n    grid=True,\\n)\\nhandles, labels = ax.get_legend_handles_labels()\\nax.legend(handles=handles[0:], labels=labels[0:])\\nax.set_ylabel(\\\"Vienet\\u0173 skai\\u010dius\\\")\\nax.set_xlabel(\\\"\\\")\";\n",
       "                var nbb_formatted_code = \"df_BLNS_group = df_BLNS.groupby([\\\"form_pav\\\", \\\"metai\\\"])[[\\\"obj_kodas\\\"]].count().unstack()\\ndf_BLNS_group.columns = df_BLNS_group.columns.droplevel()\\ndf_BLNS_group.rename(columns={2020: \\\"2020_count\\\", 2021: \\\"2021_count\\\"}, inplace=True)\\n\\nax = df_BLNS_group.plot(\\n    kind=\\\"bar\\\",\\n    logy=True,\\n    title=\\\"Juridini\\u0173 asmen\\u0173 skai\\u010dius 2020 ir 2021 metais\\\",\\n    grid=True,\\n)\\nhandles, labels = ax.get_legend_handles_labels()\\nax.legend(handles=handles[0:], labels=labels[0:])\\nax.set_ylabel(\\\"Vienet\\u0173 skai\\u010dius\\\")\\nax.set_xlabel(\\\"\\\")\";\n",
       "                var nbb_cells = Jupyter.notebook.get_cells();\n",
       "                for (var i = 0; i < nbb_cells.length; ++i) {\n",
       "                    if (nbb_cells[i].input_prompt_number == nbb_cell_id) {\n",
       "                        if (nbb_cells[i].get_text() == nbb_unformatted_code) {\n",
       "                             nbb_cells[i].set_text(nbb_formatted_code);\n",
       "                        }\n",
       "                        break;\n",
       "                    }\n",
       "                }\n",
       "            }, 500);\n",
       "            "
      ],
      "text/plain": [
       "<IPython.core.display.Javascript object>"
      ]
     },
     "metadata": {},
     "output_type": "display_data"
    }
   ],
   "source": [
    "df_BLNS_group = df_BLNS.groupby([\"form_pav\", \"metai\"])[[\"obj_kodas\"]].count().unstack()\n",
    "df_BLNS_group.columns = df_BLNS_group.columns.droplevel()\n",
    "df_BLNS_group.rename(columns={2020: \"2020_count\", 2021: \"2021_count\"}, inplace=True)\n",
    "\n",
    "ax = df_BLNS_group.plot(\n",
    "    kind=\"bar\",\n",
    "    logy=True,\n",
    "    title=\"Juridinių asmenų skaičius 2020 ir 2021 metais\",\n",
    "    grid=True,\n",
    ")\n",
    "handles, labels = ax.get_legend_handles_labels()\n",
    "ax.legend(handles=handles[0:], labels=labels[0:])\n",
    "ax.set_ylabel(\"Vienetų skaičius\")\n",
    "ax.set_xlabel(\"\")"
   ]
  },
  {
   "cell_type": "code",
   "execution_count": 45,
   "id": "ebf2aa01",
   "metadata": {
    "ExecuteTime": {
     "end_time": "2022-12-08T19:43:30.543389Z",
     "start_time": "2022-12-08T19:43:29.240973Z"
    },
    "hidden": true,
    "scrolled": false
   },
   "outputs": [
    {
     "data": {
      "text/plain": [
       "<matplotlib.legend.Legend at 0x21380313af0>"
      ]
     },
     "execution_count": 45,
     "metadata": {},
     "output_type": "execute_result"
    },
    {
     "data": {
      "image/png": "[encoded data removed]",
      "text/plain": [
       "<Figure size 640x480 with 1 Axes>"
      ]
     },
     "metadata": {},
     "output_type": "display_data"
    },
    {
     "data": {
      "application/javascript": [
       "\n",
       "            setTimeout(function() {\n",
       "                var nbb_cell_id = 45;\n",
       "                var nbb_unformatted_code = \"# form_pav_sort = df_BLNS['form_pav'].to_set().to_\\nsns.set_style(\\\"ticks\\\", {\\\"axes.grid\\\": True})\\nax = sns.countplot(data=df_BLNS, x=\\\"form_pav\\\", hue=\\\"metai\\\")\\nax.tick_params(axis=\\\"x\\\", rotation=90)\\nax.set(yscale=\\\"log\\\")\\nax.set_ylabel(\\\"Vienet\\u0173 skai\\u010dius\\\")\\nax.set_xlabel(\\\"\\\")\\nax.set_title(\\\"Juridini\\u0173 asmen\\u0173 skai\\u010dius 2020 ir 2021 metais\\\")\\nhandles, labels = ax.get_legend_handles_labels()\\nax.legend(handles=handles[0:], labels=labels[0:])\";\n",
       "                var nbb_formatted_code = \"# form_pav_sort = df_BLNS['form_pav'].to_set().to_\\nsns.set_style(\\\"ticks\\\", {\\\"axes.grid\\\": True})\\nax = sns.countplot(data=df_BLNS, x=\\\"form_pav\\\", hue=\\\"metai\\\")\\nax.tick_params(axis=\\\"x\\\", rotation=90)\\nax.set(yscale=\\\"log\\\")\\nax.set_ylabel(\\\"Vienet\\u0173 skai\\u010dius\\\")\\nax.set_xlabel(\\\"\\\")\\nax.set_title(\\\"Juridini\\u0173 asmen\\u0173 skai\\u010dius 2020 ir 2021 metais\\\")\\nhandles, labels = ax.get_legend_handles_labels()\\nax.legend(handles=handles[0:], labels=labels[0:])\";\n",
       "                var nbb_cells = Jupyter.notebook.get_cells();\n",
       "                for (var i = 0; i < nbb_cells.length; ++i) {\n",
       "                    if (nbb_cells[i].input_prompt_number == nbb_cell_id) {\n",
       "                        if (nbb_cells[i].get_text() == nbb_unformatted_code) {\n",
       "                             nbb_cells[i].set_text(nbb_formatted_code);\n",
       "                        }\n",
       "                        break;\n",
       "                    }\n",
       "                }\n",
       "            }, 500);\n",
       "            "
      ],
      "text/plain": [
       "<IPython.core.display.Javascript object>"
      ]
     },
     "metadata": {},
     "output_type": "display_data"
    }
   ],
   "source": [
    "# form_pav_sort = df_BLNS['form_pav'].to_set().to_\n",
    "sns.set_style(\"ticks\", {\"axes.grid\": True})\n",
    "ax = sns.countplot(data=df_BLNS, x=\"form_pav\", hue=\"metai\")\n",
    "ax.tick_params(axis=\"x\", rotation=90)\n",
    "ax.set(yscale=\"log\")\n",
    "ax.set_ylabel(\"Vienetų skaičius\")\n",
    "ax.set_xlabel(\"\")\n",
    "ax.set_title(\"Juridinių asmenų skaičius 2020 ir 2021 metais\")\n",
    "handles, labels = ax.get_legend_handles_labels()\n",
    "ax.legend(handles=handles[0:], labels=labels[0:])"
   ]
  },
  {
   "cell_type": "markdown",
   "id": "f6c62b8f",
   "metadata": {
    "ExecuteTime": {
     "end_time": "2022-12-06T16:53:57.197606Z",
     "start_time": "2022-12-06T16:53:57.159587Z"
    },
    "heading_collapsed": true,
    "hidden": true
   },
   "source": [
    "## 10. Kurį mėnesį buvo įregistruota daugiausiai juridinių asmenų 2020 ir 2021 metais? Atvaizduokite stulpelinę diagramą."
   ]
  },
  {
   "cell_type": "code",
   "execution_count": 46,
   "id": "7204adb7",
   "metadata": {
    "ExecuteTime": {
     "end_time": "2022-12-08T19:43:30.604635Z",
     "start_time": "2022-12-08T19:43:30.550900Z"
    },
    "hidden": true
   },
   "outputs": [
    {
     "data": {
      "application/javascript": [
       "\n",
       "            setTimeout(function() {\n",
       "                var nbb_cell_id = 46;\n",
       "                var nbb_unformatted_code = \"df_PLNA_2020_month = df_PLNA_2020.copy()\\ndf_PLNA_2020_month[\\\"reg_date\\\"] = pd.to_datetime(df_PLNA_2020_month[\\\"reg_date\\\"])\";\n",
       "                var nbb_formatted_code = \"df_PLNA_2020_month = df_PLNA_2020.copy()\\ndf_PLNA_2020_month[\\\"reg_date\\\"] = pd.to_datetime(df_PLNA_2020_month[\\\"reg_date\\\"])\";\n",
       "                var nbb_cells = Jupyter.notebook.get_cells();\n",
       "                for (var i = 0; i < nbb_cells.length; ++i) {\n",
       "                    if (nbb_cells[i].input_prompt_number == nbb_cell_id) {\n",
       "                        if (nbb_cells[i].get_text() == nbb_unformatted_code) {\n",
       "                             nbb_cells[i].set_text(nbb_formatted_code);\n",
       "                        }\n",
       "                        break;\n",
       "                    }\n",
       "                }\n",
       "            }, 500);\n",
       "            "
      ],
      "text/plain": [
       "<IPython.core.display.Javascript object>"
      ]
     },
     "metadata": {},
     "output_type": "display_data"
    }
   ],
   "source": [
    "df_PLNA_2020_month = df_PLNA_2020.copy()\n",
    "df_PLNA_2020_month[\"reg_date\"] = pd.to_datetime(df_PLNA_2020_month[\"reg_date\"])"
   ]
  },
  {
   "cell_type": "code",
   "execution_count": 47,
   "id": "2fd6d421",
   "metadata": {
    "ExecuteTime": {
     "end_time": "2022-12-08T19:43:30.652077Z",
     "start_time": "2022-12-08T19:43:30.607621Z"
    },
    "hidden": true
   },
   "outputs": [
    {
     "data": {
      "text/html": [
       "<div>\n",
       "<style scoped>\n",
       "    .dataframe tbody tr th:only-of-type {\n",
       "        vertical-align: middle;\n",
       "    }\n",
       "\n",
       "    .dataframe tbody tr th {\n",
       "        vertical-align: top;\n",
       "    }\n",
       "\n",
       "    .dataframe thead th {\n",
       "        text-align: right;\n",
       "    }\n",
       "</style>\n",
       "<table border=\"1\" class=\"dataframe\">\n",
       "  <thead>\n",
       "    <tr style=\"text-align: right;\">\n",
       "      <th></th>\n",
       "      <th>Kiekis</th>\n",
       "    </tr>\n",
       "    <tr>\n",
       "      <th>reg_date</th>\n",
       "      <th></th>\n",
       "    </tr>\n",
       "  </thead>\n",
       "  <tbody>\n",
       "    <tr>\n",
       "      <th>2020-05</th>\n",
       "      <td>30688</td>\n",
       "    </tr>\n",
       "  </tbody>\n",
       "</table>\n",
       "</div>"
      ],
      "text/plain": [
       "          Kiekis\n",
       "reg_date        \n",
       "2020-05    30688"
      ]
     },
     "execution_count": 47,
     "metadata": {},
     "output_type": "execute_result"
    },
    {
     "data": {
      "application/javascript": [
       "\n",
       "            setTimeout(function() {\n",
       "                var nbb_cell_id = 47;\n",
       "                var nbb_unformatted_code = \"df_PLNA_2020_temp = (\\n    df_PLNA_2020_month[[\\\"reg_date\\\"]]\\n    .groupby(df_PLNA_2020_month[\\\"reg_date\\\"].dt.to_period(\\\"M\\\"))\\n    .agg(Kiekis=(\\\"reg_date\\\", \\\"count\\\"))\\n    .sort_values(by=\\\"Kiekis\\\", ascending=False)\\n)\\ndf_PLNA_2020_temp.head(1)\";\n",
       "                var nbb_formatted_code = \"df_PLNA_2020_temp = (\\n    df_PLNA_2020_month[[\\\"reg_date\\\"]]\\n    .groupby(df_PLNA_2020_month[\\\"reg_date\\\"].dt.to_period(\\\"M\\\"))\\n    .agg(Kiekis=(\\\"reg_date\\\", \\\"count\\\"))\\n    .sort_values(by=\\\"Kiekis\\\", ascending=False)\\n)\\ndf_PLNA_2020_temp.head(1)\";\n",
       "                var nbb_cells = Jupyter.notebook.get_cells();\n",
       "                for (var i = 0; i < nbb_cells.length; ++i) {\n",
       "                    if (nbb_cells[i].input_prompt_number == nbb_cell_id) {\n",
       "                        if (nbb_cells[i].get_text() == nbb_unformatted_code) {\n",
       "                             nbb_cells[i].set_text(nbb_formatted_code);\n",
       "                        }\n",
       "                        break;\n",
       "                    }\n",
       "                }\n",
       "            }, 500);\n",
       "            "
      ],
      "text/plain": [
       "<IPython.core.display.Javascript object>"
      ]
     },
     "metadata": {},
     "output_type": "display_data"
    }
   ],
   "source": [
    "df_PLNA_2020_temp = (\n",
    "    df_PLNA_2020_month[[\"reg_date\"]]\n",
    "    .groupby(df_PLNA_2020_month[\"reg_date\"].dt.to_period(\"M\"))\n",
    "    .agg(Kiekis=(\"reg_date\", \"count\"))\n",
    "    .sort_values(by=\"Kiekis\", ascending=False)\n",
    ")\n",
    "df_PLNA_2020_temp.head(1)"
   ]
  },
  {
   "cell_type": "markdown",
   "id": "9cb9b2cc",
   "metadata": {
    "hidden": true
   },
   "source": [
    "__Išvada__: Daugiausiai 2020m. registruotų įmonių buvo gegužės mėnesį"
   ]
  },
  {
   "cell_type": "code",
   "execution_count": 48,
   "id": "91546523",
   "metadata": {
    "ExecuteTime": {
     "end_time": "2022-12-08T19:43:30.979095Z",
     "start_time": "2022-12-08T19:43:30.655043Z"
    },
    "hidden": true
   },
   "outputs": [
    {
     "data": {
      "text/plain": [
       "<AxesSubplot: xlabel='reg_date'>"
      ]
     },
     "execution_count": 48,
     "metadata": {},
     "output_type": "execute_result"
    },
    {
     "data": {
      "image/png": "[encoded data removed]",
      "text/plain": [
       "<Figure size 640x480 with 1 Axes>"
      ]
     },
     "metadata": {},
     "output_type": "display_data"
    },
    {
     "data": {
      "application/javascript": [
       "\n",
       "            setTimeout(function() {\n",
       "                var nbb_cell_id = 48;\n",
       "                var nbb_unformatted_code = \"df_PLNA_2020_temp.plot(kind=\\\"bar\\\")\";\n",
       "                var nbb_formatted_code = \"df_PLNA_2020_temp.plot(kind=\\\"bar\\\")\";\n",
       "                var nbb_cells = Jupyter.notebook.get_cells();\n",
       "                for (var i = 0; i < nbb_cells.length; ++i) {\n",
       "                    if (nbb_cells[i].input_prompt_number == nbb_cell_id) {\n",
       "                        if (nbb_cells[i].get_text() == nbb_unformatted_code) {\n",
       "                             nbb_cells[i].set_text(nbb_formatted_code);\n",
       "                        }\n",
       "                        break;\n",
       "                    }\n",
       "                }\n",
       "            }, 500);\n",
       "            "
      ],
      "text/plain": [
       "<IPython.core.display.Javascript object>"
      ]
     },
     "metadata": {},
     "output_type": "display_data"
    }
   ],
   "source": [
    "df_PLNA_2020_temp.plot(kind=\"bar\")"
   ]
  },
  {
   "cell_type": "code",
   "execution_count": 49,
   "id": "5dffaf1c",
   "metadata": {
    "ExecuteTime": {
     "end_time": "2022-12-08T19:43:31.071876Z",
     "start_time": "2022-12-08T19:43:30.982007Z"
    },
    "hidden": true
   },
   "outputs": [
    {
     "data": {
      "text/html": [
       "<div>\n",
       "<style scoped>\n",
       "    .dataframe tbody tr th:only-of-type {\n",
       "        vertical-align: middle;\n",
       "    }\n",
       "\n",
       "    .dataframe tbody tr th {\n",
       "        vertical-align: top;\n",
       "    }\n",
       "\n",
       "    .dataframe thead th {\n",
       "        text-align: right;\n",
       "    }\n",
       "</style>\n",
       "<table border=\"1\" class=\"dataframe\">\n",
       "  <thead>\n",
       "    <tr style=\"text-align: right;\">\n",
       "      <th></th>\n",
       "      <th>Kiekis</th>\n",
       "    </tr>\n",
       "    <tr>\n",
       "      <th>reg_date</th>\n",
       "      <th></th>\n",
       "    </tr>\n",
       "  </thead>\n",
       "  <tbody>\n",
       "    <tr>\n",
       "      <th>2021-05</th>\n",
       "      <td>36096</td>\n",
       "    </tr>\n",
       "  </tbody>\n",
       "</table>\n",
       "</div>"
      ],
      "text/plain": [
       "          Kiekis\n",
       "reg_date        \n",
       "2021-05    36096"
      ]
     },
     "execution_count": 49,
     "metadata": {},
     "output_type": "execute_result"
    },
    {
     "data": {
      "application/javascript": [
       "\n",
       "            setTimeout(function() {\n",
       "                var nbb_cell_id = 49;\n",
       "                var nbb_unformatted_code = \"df_PLNA_2021_month = df_PLNA_2021.copy()\\ndf_PLNA_2021_month[\\\"reg_date\\\"] = pd.to_datetime(df_PLNA_2021_month[\\\"reg_date\\\"])\\n\\ndf_PLNA_2021_temp = (\\n    df_PLNA_2021_month[[\\\"reg_date\\\"]]\\n    .groupby(df_PLNA_2021_month[\\\"reg_date\\\"].dt.to_period(\\\"M\\\"))\\n    .agg(Kiekis=(\\\"reg_date\\\", \\\"count\\\"))\\n    .sort_values(by=\\\"Kiekis\\\", ascending=False)\\n)\\ndf_PLNA_2021_temp.head(1)\";\n",
       "                var nbb_formatted_code = \"df_PLNA_2021_month = df_PLNA_2021.copy()\\ndf_PLNA_2021_month[\\\"reg_date\\\"] = pd.to_datetime(df_PLNA_2021_month[\\\"reg_date\\\"])\\n\\ndf_PLNA_2021_temp = (\\n    df_PLNA_2021_month[[\\\"reg_date\\\"]]\\n    .groupby(df_PLNA_2021_month[\\\"reg_date\\\"].dt.to_period(\\\"M\\\"))\\n    .agg(Kiekis=(\\\"reg_date\\\", \\\"count\\\"))\\n    .sort_values(by=\\\"Kiekis\\\", ascending=False)\\n)\\ndf_PLNA_2021_temp.head(1)\";\n",
       "                var nbb_cells = Jupyter.notebook.get_cells();\n",
       "                for (var i = 0; i < nbb_cells.length; ++i) {\n",
       "                    if (nbb_cells[i].input_prompt_number == nbb_cell_id) {\n",
       "                        if (nbb_cells[i].get_text() == nbb_unformatted_code) {\n",
       "                             nbb_cells[i].set_text(nbb_formatted_code);\n",
       "                        }\n",
       "                        break;\n",
       "                    }\n",
       "                }\n",
       "            }, 500);\n",
       "            "
      ],
      "text/plain": [
       "<IPython.core.display.Javascript object>"
      ]
     },
     "metadata": {},
     "output_type": "display_data"
    }
   ],
   "source": [
    "df_PLNA_2021_month = df_PLNA_2021.copy()\n",
    "df_PLNA_2021_month[\"reg_date\"] = pd.to_datetime(df_PLNA_2021_month[\"reg_date\"])\n",
    "\n",
    "df_PLNA_2021_temp = (\n",
    "    df_PLNA_2021_month[[\"reg_date\"]]\n",
    "    .groupby(df_PLNA_2021_month[\"reg_date\"].dt.to_period(\"M\"))\n",
    "    .agg(Kiekis=(\"reg_date\", \"count\"))\n",
    "    .sort_values(by=\"Kiekis\", ascending=False)\n",
    ")\n",
    "df_PLNA_2021_temp.head(1)"
   ]
  },
  {
   "cell_type": "markdown",
   "id": "316094ca",
   "metadata": {
    "hidden": true
   },
   "source": [
    "__Išvada__: Daugiausiai 2021m. registruotų įmonių buvo gegužės mėnesį"
   ]
  },
  {
   "cell_type": "code",
   "execution_count": 50,
   "id": "919ee525",
   "metadata": {
    "ExecuteTime": {
     "end_time": "2022-12-08T19:43:31.383237Z",
     "start_time": "2022-12-08T19:43:31.075861Z"
    },
    "hidden": true
   },
   "outputs": [
    {
     "data": {
      "text/plain": [
       "<AxesSubplot: xlabel='reg_date'>"
      ]
     },
     "execution_count": 50,
     "metadata": {},
     "output_type": "execute_result"
    },
    {
     "data": {
      "image/png": "[encoded data removed]",
      "text/plain": [
       "<Figure size 640x480 with 1 Axes>"
      ]
     },
     "metadata": {},
     "output_type": "display_data"
    },
    {
     "data": {
      "application/javascript": [
       "\n",
       "            setTimeout(function() {\n",
       "                var nbb_cell_id = 50;\n",
       "                var nbb_unformatted_code = \"df_PLNA_2021_temp.plot(kind=\\\"bar\\\")\";\n",
       "                var nbb_formatted_code = \"df_PLNA_2021_temp.plot(kind=\\\"bar\\\")\";\n",
       "                var nbb_cells = Jupyter.notebook.get_cells();\n",
       "                for (var i = 0; i < nbb_cells.length; ++i) {\n",
       "                    if (nbb_cells[i].input_prompt_number == nbb_cell_id) {\n",
       "                        if (nbb_cells[i].get_text() == nbb_unformatted_code) {\n",
       "                             nbb_cells[i].set_text(nbb_formatted_code);\n",
       "                        }\n",
       "                        break;\n",
       "                    }\n",
       "                }\n",
       "            }, 500);\n",
       "            "
      ],
      "text/plain": [
       "<IPython.core.display.Javascript object>"
      ]
     },
     "metadata": {},
     "output_type": "display_data"
    }
   ],
   "source": [
    "df_PLNA_2021_temp.plot(kind=\"bar\")"
   ]
  },
  {
   "cell_type": "markdown",
   "id": "f09ab537",
   "metadata": {
    "heading_collapsed": true,
    "hidden": true
   },
   "source": [
    "## 11. Vizualiai atvaizduoti juridinių asmenų statuso pasiskirstymą kiekvienais metais."
   ]
  },
  {
   "cell_type": "code",
   "execution_count": 51,
   "id": "dc5c011d",
   "metadata": {
    "ExecuteTime": {
     "end_time": "2022-12-08T19:43:31.430338Z",
     "start_time": "2022-12-08T19:43:31.387234Z"
    },
    "hidden": true
   },
   "outputs": [
    {
     "data": {
      "application/javascript": [
       "\n",
       "            setTimeout(function() {\n",
       "                var nbb_cell_id = 51;\n",
       "                var nbb_unformatted_code = \"df_BLNS_2020_temp = df_BLNS_2020[[\\\"form_pav\\\"]].copy()\\ndf_BLNS_2020_temp[\\\"metai\\\"] = 2020\\n\\ndf_BLNS_2021_temp = df_BLNS_2021[[\\\"form_pav\\\"]].copy()\\ndf_BLNS_2021_temp[\\\"metai\\\"] = 2021\\n\\ndf_BLNS_temp = pd.concat([df_BLNS_2020_temp, df_BLNS_2021_temp])\";\n",
       "                var nbb_formatted_code = \"df_BLNS_2020_temp = df_BLNS_2020[[\\\"form_pav\\\"]].copy()\\ndf_BLNS_2020_temp[\\\"metai\\\"] = 2020\\n\\ndf_BLNS_2021_temp = df_BLNS_2021[[\\\"form_pav\\\"]].copy()\\ndf_BLNS_2021_temp[\\\"metai\\\"] = 2021\\n\\ndf_BLNS_temp = pd.concat([df_BLNS_2020_temp, df_BLNS_2021_temp])\";\n",
       "                var nbb_cells = Jupyter.notebook.get_cells();\n",
       "                for (var i = 0; i < nbb_cells.length; ++i) {\n",
       "                    if (nbb_cells[i].input_prompt_number == nbb_cell_id) {\n",
       "                        if (nbb_cells[i].get_text() == nbb_unformatted_code) {\n",
       "                             nbb_cells[i].set_text(nbb_formatted_code);\n",
       "                        }\n",
       "                        break;\n",
       "                    }\n",
       "                }\n",
       "            }, 500);\n",
       "            "
      ],
      "text/plain": [
       "<IPython.core.display.Javascript object>"
      ]
     },
     "metadata": {},
     "output_type": "display_data"
    }
   ],
   "source": [
    "df_BLNS_2020_temp = df_BLNS_2020[[\"form_pav\"]].copy()\n",
    "df_BLNS_2020_temp[\"metai\"] = 2020\n",
    "\n",
    "df_BLNS_2021_temp = df_BLNS_2021[[\"form_pav\"]].copy()\n",
    "df_BLNS_2021_temp[\"metai\"] = 2021\n",
    "\n",
    "df_BLNS_temp = pd.concat([df_BLNS_2020_temp, df_BLNS_2021_temp])"
   ]
  },
  {
   "cell_type": "code",
   "execution_count": 52,
   "id": "670b6758",
   "metadata": {
    "ExecuteTime": {
     "end_time": "2022-12-08T19:43:32.254064Z",
     "start_time": "2022-12-08T19:43:31.433262Z"
    },
    "hidden": true,
    "scrolled": false
   },
   "outputs": [
    {
     "data": {
      "text/plain": [
       "Text(0.5, 1.0, 'Juridinių asmenų statuso pasiskirstymas 2020m. ir 2021m.')"
      ]
     },
     "execution_count": 52,
     "metadata": {},
     "output_type": "execute_result"
    },
    {
     "data": {
      "image/png": "[encoded data removed]",
      "text/plain": [
       "<Figure size 640x480 with 1 Axes>"
      ]
     },
     "metadata": {},
     "output_type": "display_data"
    },
    {
     "data": {
      "application/javascript": [
       "\n",
       "            setTimeout(function() {\n",
       "                var nbb_cell_id = 52;\n",
       "                var nbb_unformatted_code = \"df_BLNS_group = (\\n    df_BLNS_temp.groupby([\\\"form_pav\\\", \\\"metai\\\"])[\\\"form_pav\\\"].count().unstack()\\n)\\nax = df_BLNS_group.plot.barh(logx=True)\\nax.set_ylabel(\\\"\\\")\\nax.set_title(\\\"Juridini\\u0173 asmen\\u0173 statuso pasiskirstymas 2020m. ir 2021m.\\\")\";\n",
       "                var nbb_formatted_code = \"df_BLNS_group = (\\n    df_BLNS_temp.groupby([\\\"form_pav\\\", \\\"metai\\\"])[\\\"form_pav\\\"].count().unstack()\\n)\\nax = df_BLNS_group.plot.barh(logx=True)\\nax.set_ylabel(\\\"\\\")\\nax.set_title(\\\"Juridini\\u0173 asmen\\u0173 statuso pasiskirstymas 2020m. ir 2021m.\\\")\";\n",
       "                var nbb_cells = Jupyter.notebook.get_cells();\n",
       "                for (var i = 0; i < nbb_cells.length; ++i) {\n",
       "                    if (nbb_cells[i].input_prompt_number == nbb_cell_id) {\n",
       "                        if (nbb_cells[i].get_text() == nbb_unformatted_code) {\n",
       "                             nbb_cells[i].set_text(nbb_formatted_code);\n",
       "                        }\n",
       "                        break;\n",
       "                    }\n",
       "                }\n",
       "            }, 500);\n",
       "            "
      ],
      "text/plain": [
       "<IPython.core.display.Javascript object>"
      ]
     },
     "metadata": {},
     "output_type": "display_data"
    }
   ],
   "source": [
    "df_BLNS_group = (\n",
    "    df_BLNS_temp.groupby([\"form_pav\", \"metai\"])[\"form_pav\"].count().unstack()\n",
    ")\n",
    "ax = df_BLNS_group.plot.barh(logx=True)\n",
    "ax.set_ylabel(\"\")\n",
    "ax.set_title(\"Juridinių asmenų statuso pasiskirstymas 2020m. ir 2021m.\")"
   ]
  },
  {
   "cell_type": "markdown",
   "id": "590ce09c",
   "metadata": {
    "heading_collapsed": true,
    "hidden": true
   },
   "source": [
    "## 12. Kiekvienai įmonei apskaičiuoti tendenciją. Jei “grynasis_pelnas” + “nuosavas_kapitalas” 2021 metais buvo didesnis už 2020 metais deklaruotą, tai tendencija “teigiama”, jei ne - “neigiama”. Atvaizduoti tendencijos duomenis stulpelinėje diagramoje."
   ]
  },
  {
   "cell_type": "code",
   "execution_count": 53,
   "id": "719d2b41",
   "metadata": {
    "ExecuteTime": {
     "end_time": "2022-12-08T19:43:32.426553Z",
     "start_time": "2022-12-08T19:43:32.259068Z"
    },
    "hidden": true
   },
   "outputs": [
    {
     "data": {
      "application/javascript": [
       "\n",
       "            setTimeout(function() {\n",
       "                var nbb_cell_id = 53;\n",
       "                var nbb_unformatted_code = \"df_BL_PL_2020 = df_BLNS_2020[[\\\"obj_kodas\\\", \\\"obj_pav\\\", \\\"nuosavas_kapitalas\\\"]].merge(\\n    df_PLNA_2020[[\\\"obj_kodas\\\", \\\"grynasis_pelnas\\\"]], on=\\\"obj_kodas\\\", how=\\\"outer\\\"\\n)\\ndf_BL_PL_2020[\\\"viso_2020\\\"] = (\\n    df_BL_PL_2020[\\\"nuosavas_kapitalas\\\"] + df_BL_PL_2020[\\\"grynasis_pelnas\\\"]\\n)\\n# i\\u0161metame NaN reik\\u0161mes stulepiuose \\\"nuosavas_kapitalas\\\", \\\"grynasis_pelnas\\\", nes \\u012fmon\\u0117s nepateik\\u0117\\ndf_BL_PL_2020.drop(columns=[\\\"nuosavas_kapitalas\\\", \\\"grynasis_pelnas\\\"], inplace=True)\\n\\ndf_BL_PL_2021 = df_BLNS_2021[[\\\"obj_kodas\\\", \\\"obj_pav\\\", \\\"nuosavas_kapitalas\\\"]].merge(\\n    df_PLNA_2021[[\\\"obj_kodas\\\", \\\"grynasis_pelnas\\\"]], on=\\\"obj_kodas\\\", how=\\\"outer\\\"\\n)\\ndf_BL_PL_2021[\\\"viso_2021\\\"] = (\\n    df_BL_PL_2021[\\\"nuosavas_kapitalas\\\"] + df_BL_PL_2021[\\\"grynasis_pelnas\\\"]\\n)\\n# i\\u0161metame NaN reik\\u0161mes stulepiuose \\\"nuosavas_kapitalas\\\", \\\"grynasis_pelnas\\\", nes \\u012fmon\\u0117s nepateik\\u0117\\ndf_BL_PL_2021.drop(columns=[\\\"nuosavas_kapitalas\\\", \\\"grynasis_pelnas\\\"], inplace=True)\";\n",
       "                var nbb_formatted_code = \"df_BL_PL_2020 = df_BLNS_2020[[\\\"obj_kodas\\\", \\\"obj_pav\\\", \\\"nuosavas_kapitalas\\\"]].merge(\\n    df_PLNA_2020[[\\\"obj_kodas\\\", \\\"grynasis_pelnas\\\"]], on=\\\"obj_kodas\\\", how=\\\"outer\\\"\\n)\\ndf_BL_PL_2020[\\\"viso_2020\\\"] = (\\n    df_BL_PL_2020[\\\"nuosavas_kapitalas\\\"] + df_BL_PL_2020[\\\"grynasis_pelnas\\\"]\\n)\\n# i\\u0161metame NaN reik\\u0161mes stulepiuose \\\"nuosavas_kapitalas\\\", \\\"grynasis_pelnas\\\", nes \\u012fmon\\u0117s nepateik\\u0117\\ndf_BL_PL_2020.drop(columns=[\\\"nuosavas_kapitalas\\\", \\\"grynasis_pelnas\\\"], inplace=True)\\n\\ndf_BL_PL_2021 = df_BLNS_2021[[\\\"obj_kodas\\\", \\\"obj_pav\\\", \\\"nuosavas_kapitalas\\\"]].merge(\\n    df_PLNA_2021[[\\\"obj_kodas\\\", \\\"grynasis_pelnas\\\"]], on=\\\"obj_kodas\\\", how=\\\"outer\\\"\\n)\\ndf_BL_PL_2021[\\\"viso_2021\\\"] = (\\n    df_BL_PL_2021[\\\"nuosavas_kapitalas\\\"] + df_BL_PL_2021[\\\"grynasis_pelnas\\\"]\\n)\\n# i\\u0161metame NaN reik\\u0161mes stulepiuose \\\"nuosavas_kapitalas\\\", \\\"grynasis_pelnas\\\", nes \\u012fmon\\u0117s nepateik\\u0117\\ndf_BL_PL_2021.drop(columns=[\\\"nuosavas_kapitalas\\\", \\\"grynasis_pelnas\\\"], inplace=True)\";\n",
       "                var nbb_cells = Jupyter.notebook.get_cells();\n",
       "                for (var i = 0; i < nbb_cells.length; ++i) {\n",
       "                    if (nbb_cells[i].input_prompt_number == nbb_cell_id) {\n",
       "                        if (nbb_cells[i].get_text() == nbb_unformatted_code) {\n",
       "                             nbb_cells[i].set_text(nbb_formatted_code);\n",
       "                        }\n",
       "                        break;\n",
       "                    }\n",
       "                }\n",
       "            }, 500);\n",
       "            "
      ],
      "text/plain": [
       "<IPython.core.display.Javascript object>"
      ]
     },
     "metadata": {},
     "output_type": "display_data"
    }
   ],
   "source": [
    "df_BL_PL_2020 = df_BLNS_2020[[\"obj_kodas\", \"obj_pav\", \"nuosavas_kapitalas\"]].merge(\n",
    "    df_PLNA_2020[[\"obj_kodas\", \"grynasis_pelnas\"]], on=\"obj_kodas\", how=\"outer\"\n",
    ")\n",
    "df_BL_PL_2020[\"viso_2020\"] = (\n",
    "    df_BL_PL_2020[\"nuosavas_kapitalas\"] + df_BL_PL_2020[\"grynasis_pelnas\"]\n",
    ")\n",
    "# išmetame NaN reikšmes stulepiuose \"nuosavas_kapitalas\", \"grynasis_pelnas\", nes įmonės nepateikė\n",
    "df_BL_PL_2020.drop(columns=[\"nuosavas_kapitalas\", \"grynasis_pelnas\"], inplace=True)\n",
    "\n",
    "df_BL_PL_2021 = df_BLNS_2021[[\"obj_kodas\", \"obj_pav\", \"nuosavas_kapitalas\"]].merge(\n",
    "    df_PLNA_2021[[\"obj_kodas\", \"grynasis_pelnas\"]], on=\"obj_kodas\", how=\"outer\"\n",
    ")\n",
    "df_BL_PL_2021[\"viso_2021\"] = (\n",
    "    df_BL_PL_2021[\"nuosavas_kapitalas\"] + df_BL_PL_2021[\"grynasis_pelnas\"]\n",
    ")\n",
    "# išmetame NaN reikšmes stulepiuose \"nuosavas_kapitalas\", \"grynasis_pelnas\", nes įmonės nepateikė\n",
    "df_BL_PL_2021.drop(columns=[\"nuosavas_kapitalas\", \"grynasis_pelnas\"], inplace=True)"
   ]
  },
  {
   "cell_type": "code",
   "execution_count": 54,
   "id": "1f026573",
   "metadata": {
    "ExecuteTime": {
     "end_time": "2022-12-08T19:43:32.521165Z",
     "start_time": "2022-12-08T19:43:32.429144Z"
    },
    "hidden": true
   },
   "outputs": [
    {
     "data": {
      "application/javascript": [
       "\n",
       "            setTimeout(function() {\n",
       "                var nbb_cell_id = 54;\n",
       "                var nbb_unformatted_code = \"df_BL_PL = df_BL_PL_2020.merge(\\n    df_BL_PL_2021[[\\\"obj_kodas\\\", \\\"viso_2021\\\"]], on=\\\"obj_kodas\\\", how=\\\"outer\\\"\\n)\";\n",
       "                var nbb_formatted_code = \"df_BL_PL = df_BL_PL_2020.merge(\\n    df_BL_PL_2021[[\\\"obj_kodas\\\", \\\"viso_2021\\\"]], on=\\\"obj_kodas\\\", how=\\\"outer\\\"\\n)\";\n",
       "                var nbb_cells = Jupyter.notebook.get_cells();\n",
       "                for (var i = 0; i < nbb_cells.length; ++i) {\n",
       "                    if (nbb_cells[i].input_prompt_number == nbb_cell_id) {\n",
       "                        if (nbb_cells[i].get_text() == nbb_unformatted_code) {\n",
       "                             nbb_cells[i].set_text(nbb_formatted_code);\n",
       "                        }\n",
       "                        break;\n",
       "                    }\n",
       "                }\n",
       "            }, 500);\n",
       "            "
      ],
      "text/plain": [
       "<IPython.core.display.Javascript object>"
      ]
     },
     "metadata": {},
     "output_type": "display_data"
    }
   ],
   "source": [
    "df_BL_PL = df_BL_PL_2020.merge(\n",
    "    df_BL_PL_2021[[\"obj_kodas\", \"viso_2021\"]], on=\"obj_kodas\", how=\"outer\"\n",
    ")"
   ]
  },
  {
   "cell_type": "code",
   "execution_count": 55,
   "id": "7eed9bf5",
   "metadata": {
    "ExecuteTime": {
     "end_time": "2022-12-08T19:43:32.582666Z",
     "start_time": "2022-12-08T19:43:32.525031Z"
    },
    "hidden": true
   },
   "outputs": [
    {
     "data": {
      "text/html": [
       "<div>\n",
       "<style scoped>\n",
       "    .dataframe tbody tr th:only-of-type {\n",
       "        vertical-align: middle;\n",
       "    }\n",
       "\n",
       "    .dataframe tbody tr th {\n",
       "        vertical-align: top;\n",
       "    }\n",
       "\n",
       "    .dataframe thead th {\n",
       "        text-align: right;\n",
       "    }\n",
       "</style>\n",
       "<table border=\"1\" class=\"dataframe\">\n",
       "  <thead>\n",
       "    <tr style=\"text-align: right;\">\n",
       "      <th></th>\n",
       "      <th>obj_kodas</th>\n",
       "      <th>obj_pav</th>\n",
       "      <th>viso_2020</th>\n",
       "      <th>viso_2021</th>\n",
       "    </tr>\n",
       "  </thead>\n",
       "  <tbody>\n",
       "    <tr>\n",
       "      <th>152130</th>\n",
       "      <td>124256347</td>\n",
       "      <td>NaN</td>\n",
       "      <td>NaN</td>\n",
       "      <td>19.0</td>\n",
       "    </tr>\n",
       "    <tr>\n",
       "      <th>152131</th>\n",
       "      <td>124256347</td>\n",
       "      <td>NaN</td>\n",
       "      <td>NaN</td>\n",
       "      <td>19.0</td>\n",
       "    </tr>\n",
       "    <tr>\n",
       "      <th>152132</th>\n",
       "      <td>124256347</td>\n",
       "      <td>NaN</td>\n",
       "      <td>NaN</td>\n",
       "      <td>19.0</td>\n",
       "    </tr>\n",
       "    <tr>\n",
       "      <th>152133</th>\n",
       "      <td>124256347</td>\n",
       "      <td>NaN</td>\n",
       "      <td>NaN</td>\n",
       "      <td>19.0</td>\n",
       "    </tr>\n",
       "    <tr>\n",
       "      <th>152134</th>\n",
       "      <td>124256347</td>\n",
       "      <td>NaN</td>\n",
       "      <td>NaN</td>\n",
       "      <td>19.0</td>\n",
       "    </tr>\n",
       "    <tr>\n",
       "      <th>...</th>\n",
       "      <td>...</td>\n",
       "      <td>...</td>\n",
       "      <td>...</td>\n",
       "      <td>...</td>\n",
       "    </tr>\n",
       "    <tr>\n",
       "      <th>228892</th>\n",
       "      <td>301541937</td>\n",
       "      <td>NaN</td>\n",
       "      <td>NaN</td>\n",
       "      <td>2896.0</td>\n",
       "    </tr>\n",
       "    <tr>\n",
       "      <th>228893</th>\n",
       "      <td>305493272</td>\n",
       "      <td>NaN</td>\n",
       "      <td>NaN</td>\n",
       "      <td>1396.0</td>\n",
       "    </tr>\n",
       "    <tr>\n",
       "      <th>228894</th>\n",
       "      <td>305429608</td>\n",
       "      <td>NaN</td>\n",
       "      <td>NaN</td>\n",
       "      <td>97952.0</td>\n",
       "    </tr>\n",
       "    <tr>\n",
       "      <th>228895</th>\n",
       "      <td>305594047</td>\n",
       "      <td>NaN</td>\n",
       "      <td>NaN</td>\n",
       "      <td>-1160.0</td>\n",
       "    </tr>\n",
       "    <tr>\n",
       "      <th>228896</th>\n",
       "      <td>305464872</td>\n",
       "      <td>NaN</td>\n",
       "      <td>NaN</td>\n",
       "      <td>-13242.0</td>\n",
       "    </tr>\n",
       "  </tbody>\n",
       "</table>\n",
       "<p>76767 rows × 4 columns</p>\n",
       "</div>"
      ],
      "text/plain": [
       "        obj_kodas obj_pav  viso_2020  viso_2021\n",
       "152130  124256347     NaN        NaN       19.0\n",
       "152131  124256347     NaN        NaN       19.0\n",
       "152132  124256347     NaN        NaN       19.0\n",
       "152133  124256347     NaN        NaN       19.0\n",
       "152134  124256347     NaN        NaN       19.0\n",
       "...           ...     ...        ...        ...\n",
       "228892  301541937     NaN        NaN     2896.0\n",
       "228893  305493272     NaN        NaN     1396.0\n",
       "228894  305429608     NaN        NaN    97952.0\n",
       "228895  305594047     NaN        NaN    -1160.0\n",
       "228896  305464872     NaN        NaN   -13242.0\n",
       "\n",
       "[76767 rows x 4 columns]"
      ]
     },
     "execution_count": 55,
     "metadata": {},
     "output_type": "execute_result"
    },
    {
     "data": {
      "application/javascript": [
       "\n",
       "            setTimeout(function() {\n",
       "                var nbb_cell_id = 55;\n",
       "                var nbb_unformatted_code = \"df_BL_PL[df_BL_PL[\\\"obj_pav\\\"].isna()]\";\n",
       "                var nbb_formatted_code = \"df_BL_PL[df_BL_PL[\\\"obj_pav\\\"].isna()]\";\n",
       "                var nbb_cells = Jupyter.notebook.get_cells();\n",
       "                for (var i = 0; i < nbb_cells.length; ++i) {\n",
       "                    if (nbb_cells[i].input_prompt_number == nbb_cell_id) {\n",
       "                        if (nbb_cells[i].get_text() == nbb_unformatted_code) {\n",
       "                             nbb_cells[i].set_text(nbb_formatted_code);\n",
       "                        }\n",
       "                        break;\n",
       "                    }\n",
       "                }\n",
       "            }, 500);\n",
       "            "
      ],
      "text/plain": [
       "<IPython.core.display.Javascript object>"
      ]
     },
     "metadata": {},
     "output_type": "display_data"
    }
   ],
   "source": [
    "df_BL_PL[df_BL_PL[\"obj_pav\"].isna()]"
   ]
  },
  {
   "cell_type": "code",
   "execution_count": 56,
   "id": "3491f8f5",
   "metadata": {
    "ExecuteTime": {
     "end_time": "2022-12-08T19:43:32.659218Z",
     "start_time": "2022-12-08T19:43:32.586633Z"
    },
    "hidden": true
   },
   "outputs": [
    {
     "data": {
      "text/html": [
       "<div>\n",
       "<style scoped>\n",
       "    .dataframe tbody tr th:only-of-type {\n",
       "        vertical-align: middle;\n",
       "    }\n",
       "\n",
       "    .dataframe tbody tr th {\n",
       "        vertical-align: top;\n",
       "    }\n",
       "\n",
       "    .dataframe thead th {\n",
       "        text-align: right;\n",
       "    }\n",
       "</style>\n",
       "<table border=\"1\" class=\"dataframe\">\n",
       "  <thead>\n",
       "    <tr style=\"text-align: right;\">\n",
       "      <th></th>\n",
       "      <th>obj_kodas</th>\n",
       "      <th>obj_pav</th>\n",
       "      <th>viso_2020</th>\n",
       "      <th>viso_2021</th>\n",
       "    </tr>\n",
       "  </thead>\n",
       "  <tbody>\n",
       "    <tr>\n",
       "      <th>0</th>\n",
       "      <td>305217929</td>\n",
       "      <td>MB \"Jantaris\"</td>\n",
       "      <td>3200.0</td>\n",
       "      <td>2208.0</td>\n",
       "    </tr>\n",
       "    <tr>\n",
       "      <th>1</th>\n",
       "      <td>304127368</td>\n",
       "      <td>Alytaus neformaliojo švietimo centras \"Toleran...</td>\n",
       "      <td>NaN</td>\n",
       "      <td>NaN</td>\n",
       "    </tr>\n",
       "    <tr>\n",
       "      <th>2</th>\n",
       "      <td>304759186</td>\n",
       "      <td>Uždaroji akcinė bendrovė \"Balsana LT\"</td>\n",
       "      <td>-26224.0</td>\n",
       "      <td>-62042.0</td>\n",
       "    </tr>\n",
       "    <tr>\n",
       "      <th>3</th>\n",
       "      <td>191160250</td>\n",
       "      <td>Kretingos sporto klubas \"Žalgiris\"</td>\n",
       "      <td>NaN</td>\n",
       "      <td>NaN</td>\n",
       "    </tr>\n",
       "    <tr>\n",
       "      <th>4</th>\n",
       "      <td>304512862</td>\n",
       "      <td>UAB \"Tedėja\"</td>\n",
       "      <td>625832.0</td>\n",
       "      <td>631729.0</td>\n",
       "    </tr>\n",
       "    <tr>\n",
       "      <th>...</th>\n",
       "      <td>...</td>\n",
       "      <td>...</td>\n",
       "      <td>...</td>\n",
       "      <td>...</td>\n",
       "    </tr>\n",
       "    <tr>\n",
       "      <th>152125</th>\n",
       "      <td>302564216</td>\n",
       "      <td>UAB \"Rizolta\"</td>\n",
       "      <td>152686.0</td>\n",
       "      <td>162919.0</td>\n",
       "    </tr>\n",
       "    <tr>\n",
       "      <th>152126</th>\n",
       "      <td>300613091</td>\n",
       "      <td>UAB \"Berta And\"</td>\n",
       "      <td>194984.0</td>\n",
       "      <td>6564.0</td>\n",
       "    </tr>\n",
       "    <tr>\n",
       "      <th>152127</th>\n",
       "      <td>304213995</td>\n",
       "      <td>UAB \"Kemo statyba\"</td>\n",
       "      <td>420.0</td>\n",
       "      <td>-35479.0</td>\n",
       "    </tr>\n",
       "    <tr>\n",
       "      <th>152128</th>\n",
       "      <td>302640169</td>\n",
       "      <td>UAB TRANSOVITA</td>\n",
       "      <td>84080.0</td>\n",
       "      <td>164648.0</td>\n",
       "    </tr>\n",
       "    <tr>\n",
       "      <th>152129</th>\n",
       "      <td>303778867</td>\n",
       "      <td>VšĮ \"Medijų uostas\"</td>\n",
       "      <td>NaN</td>\n",
       "      <td>NaN</td>\n",
       "    </tr>\n",
       "  </tbody>\n",
       "</table>\n",
       "<p>152130 rows × 4 columns</p>\n",
       "</div>"
      ],
      "text/plain": [
       "        obj_kodas                                            obj_pav  \\\n",
       "0       305217929                                      MB \"Jantaris\"   \n",
       "1       304127368  Alytaus neformaliojo švietimo centras \"Toleran...   \n",
       "2       304759186              Uždaroji akcinė bendrovė \"Balsana LT\"   \n",
       "3       191160250                 Kretingos sporto klubas \"Žalgiris\"   \n",
       "4       304512862                                       UAB \"Tedėja\"   \n",
       "...           ...                                                ...   \n",
       "152125  302564216                                      UAB \"Rizolta\"   \n",
       "152126  300613091                                    UAB \"Berta And\"   \n",
       "152127  304213995                                 UAB \"Kemo statyba\"   \n",
       "152128  302640169                                     UAB TRANSOVITA   \n",
       "152129  303778867                                VšĮ \"Medijų uostas\"   \n",
       "\n",
       "        viso_2020  viso_2021  \n",
       "0          3200.0     2208.0  \n",
       "1             NaN        NaN  \n",
       "2        -26224.0   -62042.0  \n",
       "3             NaN        NaN  \n",
       "4        625832.0   631729.0  \n",
       "...           ...        ...  \n",
       "152125   152686.0   162919.0  \n",
       "152126   194984.0     6564.0  \n",
       "152127      420.0   -35479.0  \n",
       "152128    84080.0   164648.0  \n",
       "152129        NaN        NaN  \n",
       "\n",
       "[152130 rows x 4 columns]"
      ]
     },
     "execution_count": 56,
     "metadata": {},
     "output_type": "execute_result"
    },
    {
     "data": {
      "application/javascript": [
       "\n",
       "            setTimeout(function() {\n",
       "                var nbb_cell_id = 56;\n",
       "                var nbb_unformatted_code = \"df_BL_PL = df_BL_PL.dropna(subset=[\\\"obj_pav\\\"])  # istrinamos imones be pavadinimo\\ndf_BL_PL\";\n",
       "                var nbb_formatted_code = \"df_BL_PL = df_BL_PL.dropna(subset=[\\\"obj_pav\\\"])  # istrinamos imones be pavadinimo\\ndf_BL_PL\";\n",
       "                var nbb_cells = Jupyter.notebook.get_cells();\n",
       "                for (var i = 0; i < nbb_cells.length; ++i) {\n",
       "                    if (nbb_cells[i].input_prompt_number == nbb_cell_id) {\n",
       "                        if (nbb_cells[i].get_text() == nbb_unformatted_code) {\n",
       "                             nbb_cells[i].set_text(nbb_formatted_code);\n",
       "                        }\n",
       "                        break;\n",
       "                    }\n",
       "                }\n",
       "            }, 500);\n",
       "            "
      ],
      "text/plain": [
       "<IPython.core.display.Javascript object>"
      ]
     },
     "metadata": {},
     "output_type": "display_data"
    }
   ],
   "source": [
    "df_BL_PL = df_BL_PL.dropna(subset=[\"obj_pav\"])  # istrinamos imones be pavadinimo\n",
    "df_BL_PL"
   ]
  },
  {
   "cell_type": "code",
   "execution_count": 57,
   "id": "623ab5ed",
   "metadata": {
    "ExecuteTime": {
     "end_time": "2022-12-08T19:43:34.061450Z",
     "start_time": "2022-12-08T19:43:32.665151Z"
    },
    "hidden": true
   },
   "outputs": [
    {
     "data": {
      "text/html": [
       "<div>\n",
       "<style scoped>\n",
       "    .dataframe tbody tr th:only-of-type {\n",
       "        vertical-align: middle;\n",
       "    }\n",
       "\n",
       "    .dataframe tbody tr th {\n",
       "        vertical-align: top;\n",
       "    }\n",
       "\n",
       "    .dataframe thead th {\n",
       "        text-align: right;\n",
       "    }\n",
       "</style>\n",
       "<table border=\"1\" class=\"dataframe\">\n",
       "  <thead>\n",
       "    <tr style=\"text-align: right;\">\n",
       "      <th></th>\n",
       "      <th>obj_kodas</th>\n",
       "      <th>obj_pav</th>\n",
       "      <th>viso_2020</th>\n",
       "      <th>viso_2021</th>\n",
       "      <th>tendencija</th>\n",
       "    </tr>\n",
       "  </thead>\n",
       "  <tbody>\n",
       "    <tr>\n",
       "      <th>0</th>\n",
       "      <td>305217929</td>\n",
       "      <td>MB \"Jantaris\"</td>\n",
       "      <td>3200.0</td>\n",
       "      <td>2208.0</td>\n",
       "      <td>neigiama</td>\n",
       "    </tr>\n",
       "    <tr>\n",
       "      <th>1</th>\n",
       "      <td>304127368</td>\n",
       "      <td>Alytaus neformaliojo švietimo centras \"Toleran...</td>\n",
       "      <td>NaN</td>\n",
       "      <td>NaN</td>\n",
       "      <td>neigiama</td>\n",
       "    </tr>\n",
       "    <tr>\n",
       "      <th>2</th>\n",
       "      <td>304759186</td>\n",
       "      <td>Uždaroji akcinė bendrovė \"Balsana LT\"</td>\n",
       "      <td>-26224.0</td>\n",
       "      <td>-62042.0</td>\n",
       "      <td>neigiama</td>\n",
       "    </tr>\n",
       "    <tr>\n",
       "      <th>3</th>\n",
       "      <td>191160250</td>\n",
       "      <td>Kretingos sporto klubas \"Žalgiris\"</td>\n",
       "      <td>NaN</td>\n",
       "      <td>NaN</td>\n",
       "      <td>neigiama</td>\n",
       "    </tr>\n",
       "    <tr>\n",
       "      <th>4</th>\n",
       "      <td>304512862</td>\n",
       "      <td>UAB \"Tedėja\"</td>\n",
       "      <td>625832.0</td>\n",
       "      <td>631729.0</td>\n",
       "      <td>teigiama</td>\n",
       "    </tr>\n",
       "    <tr>\n",
       "      <th>...</th>\n",
       "      <td>...</td>\n",
       "      <td>...</td>\n",
       "      <td>...</td>\n",
       "      <td>...</td>\n",
       "      <td>...</td>\n",
       "    </tr>\n",
       "    <tr>\n",
       "      <th>152125</th>\n",
       "      <td>302564216</td>\n",
       "      <td>UAB \"Rizolta\"</td>\n",
       "      <td>152686.0</td>\n",
       "      <td>162919.0</td>\n",
       "      <td>teigiama</td>\n",
       "    </tr>\n",
       "    <tr>\n",
       "      <th>152126</th>\n",
       "      <td>300613091</td>\n",
       "      <td>UAB \"Berta And\"</td>\n",
       "      <td>194984.0</td>\n",
       "      <td>6564.0</td>\n",
       "      <td>neigiama</td>\n",
       "    </tr>\n",
       "    <tr>\n",
       "      <th>152127</th>\n",
       "      <td>304213995</td>\n",
       "      <td>UAB \"Kemo statyba\"</td>\n",
       "      <td>420.0</td>\n",
       "      <td>-35479.0</td>\n",
       "      <td>neigiama</td>\n",
       "    </tr>\n",
       "    <tr>\n",
       "      <th>152128</th>\n",
       "      <td>302640169</td>\n",
       "      <td>UAB TRANSOVITA</td>\n",
       "      <td>84080.0</td>\n",
       "      <td>164648.0</td>\n",
       "      <td>teigiama</td>\n",
       "    </tr>\n",
       "    <tr>\n",
       "      <th>152129</th>\n",
       "      <td>303778867</td>\n",
       "      <td>VšĮ \"Medijų uostas\"</td>\n",
       "      <td>NaN</td>\n",
       "      <td>NaN</td>\n",
       "      <td>neigiama</td>\n",
       "    </tr>\n",
       "  </tbody>\n",
       "</table>\n",
       "<p>152130 rows × 5 columns</p>\n",
       "</div>"
      ],
      "text/plain": [
       "        obj_kodas                                            obj_pav  \\\n",
       "0       305217929                                      MB \"Jantaris\"   \n",
       "1       304127368  Alytaus neformaliojo švietimo centras \"Toleran...   \n",
       "2       304759186              Uždaroji akcinė bendrovė \"Balsana LT\"   \n",
       "3       191160250                 Kretingos sporto klubas \"Žalgiris\"   \n",
       "4       304512862                                       UAB \"Tedėja\"   \n",
       "...           ...                                                ...   \n",
       "152125  302564216                                      UAB \"Rizolta\"   \n",
       "152126  300613091                                    UAB \"Berta And\"   \n",
       "152127  304213995                                 UAB \"Kemo statyba\"   \n",
       "152128  302640169                                     UAB TRANSOVITA   \n",
       "152129  303778867                                VšĮ \"Medijų uostas\"   \n",
       "\n",
       "        viso_2020  viso_2021 tendencija  \n",
       "0          3200.0     2208.0   neigiama  \n",
       "1             NaN        NaN   neigiama  \n",
       "2        -26224.0   -62042.0   neigiama  \n",
       "3             NaN        NaN   neigiama  \n",
       "4        625832.0   631729.0   teigiama  \n",
       "...           ...        ...        ...  \n",
       "152125   152686.0   162919.0   teigiama  \n",
       "152126   194984.0     6564.0   neigiama  \n",
       "152127      420.0   -35479.0   neigiama  \n",
       "152128    84080.0   164648.0   teigiama  \n",
       "152129        NaN        NaN   neigiama  \n",
       "\n",
       "[152130 rows x 5 columns]"
      ]
     },
     "execution_count": 57,
     "metadata": {},
     "output_type": "execute_result"
    },
    {
     "data": {
      "application/javascript": [
       "\n",
       "            setTimeout(function() {\n",
       "                var nbb_cell_id = 57;\n",
       "                var nbb_unformatted_code = \"def set_tendencija(x):\\n    if x[\\\"viso_2021\\\"] > x[\\\"viso_2020\\\"]:\\n        return \\\"teigiama\\\"\\n    return \\\"neigiama\\\"\\n\\n\\ndf_BL_PL[\\\"tendencija\\\"] = df_BL_PL[[\\\"viso_2020\\\", \\\"viso_2021\\\"]].apply(\\n    set_tendencija, axis=1\\n)\\ndf_BL_PL\";\n",
       "                var nbb_formatted_code = \"def set_tendencija(x):\\n    if x[\\\"viso_2021\\\"] > x[\\\"viso_2020\\\"]:\\n        return \\\"teigiama\\\"\\n    return \\\"neigiama\\\"\\n\\n\\ndf_BL_PL[\\\"tendencija\\\"] = df_BL_PL[[\\\"viso_2020\\\", \\\"viso_2021\\\"]].apply(\\n    set_tendencija, axis=1\\n)\\ndf_BL_PL\";\n",
       "                var nbb_cells = Jupyter.notebook.get_cells();\n",
       "                for (var i = 0; i < nbb_cells.length; ++i) {\n",
       "                    if (nbb_cells[i].input_prompt_number == nbb_cell_id) {\n",
       "                        if (nbb_cells[i].get_text() == nbb_unformatted_code) {\n",
       "                             nbb_cells[i].set_text(nbb_formatted_code);\n",
       "                        }\n",
       "                        break;\n",
       "                    }\n",
       "                }\n",
       "            }, 500);\n",
       "            "
      ],
      "text/plain": [
       "<IPython.core.display.Javascript object>"
      ]
     },
     "metadata": {},
     "output_type": "display_data"
    }
   ],
   "source": [
    "def set_tendencija(x):\n",
    "    if x[\"viso_2021\"] > x[\"viso_2020\"]:\n",
    "        return \"teigiama\"\n",
    "    return \"neigiama\"\n",
    "\n",
    "\n",
    "df_BL_PL[\"tendencija\"] = df_BL_PL[[\"viso_2020\", \"viso_2021\"]].apply(\n",
    "    set_tendencija, axis=1\n",
    ")\n",
    "df_BL_PL"
   ]
  },
  {
   "cell_type": "code",
   "execution_count": 58,
   "id": "c9662a83",
   "metadata": {
    "ExecuteTime": {
     "end_time": "2022-12-08T19:43:34.265003Z",
     "start_time": "2022-12-08T19:43:34.065256Z"
    },
    "hidden": true
   },
   "outputs": [
    {
     "data": {
      "text/plain": [
       "<AxesSubplot: xlabel='tendencija', ylabel='Kiekis'>"
      ]
     },
     "execution_count": 58,
     "metadata": {},
     "output_type": "execute_result"
    },
    {
     "data": {
      "image/png": "[encoded data removed]",
      "text/plain": [
       "<Figure size 640x480 with 1 Axes>"
      ]
     },
     "metadata": {},
     "output_type": "display_data"
    },
    {
     "data": {
      "application/javascript": [
       "\n",
       "            setTimeout(function() {\n",
       "                var nbb_cell_id = 58;\n",
       "                var nbb_unformatted_code = \"df_BL_PL.groupby(\\\"tendencija\\\")[\\\"tendencija\\\"].count().plot(kind=\\\"bar\\\", ylabel=\\\"Kiekis\\\")\";\n",
       "                var nbb_formatted_code = \"df_BL_PL.groupby(\\\"tendencija\\\")[\\\"tendencija\\\"].count().plot(kind=\\\"bar\\\", ylabel=\\\"Kiekis\\\")\";\n",
       "                var nbb_cells = Jupyter.notebook.get_cells();\n",
       "                for (var i = 0; i < nbb_cells.length; ++i) {\n",
       "                    if (nbb_cells[i].input_prompt_number == nbb_cell_id) {\n",
       "                        if (nbb_cells[i].get_text() == nbb_unformatted_code) {\n",
       "                             nbb_cells[i].set_text(nbb_formatted_code);\n",
       "                        }\n",
       "                        break;\n",
       "                    }\n",
       "                }\n",
       "            }, 500);\n",
       "            "
      ],
      "text/plain": [
       "<IPython.core.display.Javascript object>"
      ]
     },
     "metadata": {},
     "output_type": "display_data"
    }
   ],
   "source": [
    "df_BL_PL.groupby(\"tendencija\")[\"tendencija\"].count().plot(kind=\"bar\", ylabel=\"Kiekis\")"
   ]
  },
  {
   "cell_type": "markdown",
   "id": "53aacaae",
   "metadata": {
    "heading_collapsed": true,
    "hidden": true
   },
   "source": [
    "## 13. Surasti UAB ir MB įmones, kurios 2020 vykdė veiklą, o 2021 - bankrutavo. Bankrutavusių įmonių statusai: “Bankrutavęs”, “Bankrutuojantis”, “Išregistruotas”, “Inicijuojamas likvidavimas”, “Likviduojamas”, “Likviduojamas dėl bankroto”. Toliau veiklą vykdanti įmonė pažymėta \"Teisinis stat neįregistruotas\" statusu. Kokia bankrutavusių įmonių “nuosavas_kapitalas”suma 2021 metais? Kokia bankrutavusių įmonių “grynasis_pelnas” suma 2021 metais? Palyginti šias sumas su veikiančių įmonių atitinkamomis sumomis. "
   ]
  },
  {
   "cell_type": "code",
   "execution_count": 59,
   "id": "b11a9bee",
   "metadata": {
    "ExecuteTime": {
     "end_time": "2022-12-08T19:43:34.296644Z",
     "start_time": "2022-12-08T19:43:34.268960Z"
    },
    "hidden": true
   },
   "outputs": [
    {
     "data": {
      "application/javascript": [
       "\n",
       "            setTimeout(function() {\n",
       "                var nbb_cell_id = 59;\n",
       "                var nbb_unformatted_code = \"def find_unique_MB_UAB(df: pd.DataFrame):\\n    df[\\\"laikotarpis_iki\\\"] = pd.to_datetime(df[\\\"laikotarpis_iki\\\"])\\n\\n    # 'Ma\\u017eoji bendrija' = 310, 'U\\u017edaroji akcin\\u0117 bendrov\\u0117' = 960\\n    MB_UAB_kodai = [310, 960]\\n\\n    # I\\u0161renka tik MB ir UAB\\n    result = df[df[\\\"form_kodas\\\"].isin(MB_UAB_kodai)]\\n\\n    # Suru\\u0161iuoja pagal \\u012fmon\\u0117s kod\\u0105 ir paskutin\\u012f u\\u017eregistruot\\u0105 laikotarpi_iki\\n    result = result.sort_values(by=[\\\"obj_kodas\\\", \\\"laikotarpis_iki\\\"])\\n\\n    # I\\u0161meta dublikatus (pagal \\u012fmon\\u0117s kod\\u0105), paliekant paskutin\\u012f u\\u017eregistruot\\u0105 laikotarp\\u012f\\n    result = result.drop_duplicates(subset=\\\"obj_kodas\\\", keep=\\\"last\\\")\\n\\n    return result\";\n",
       "                var nbb_formatted_code = \"def find_unique_MB_UAB(df: pd.DataFrame):\\n    df[\\\"laikotarpis_iki\\\"] = pd.to_datetime(df[\\\"laikotarpis_iki\\\"])\\n\\n    # 'Ma\\u017eoji bendrija' = 310, 'U\\u017edaroji akcin\\u0117 bendrov\\u0117' = 960\\n    MB_UAB_kodai = [310, 960]\\n\\n    # I\\u0161renka tik MB ir UAB\\n    result = df[df[\\\"form_kodas\\\"].isin(MB_UAB_kodai)]\\n\\n    # Suru\\u0161iuoja pagal \\u012fmon\\u0117s kod\\u0105 ir paskutin\\u012f u\\u017eregistruot\\u0105 laikotarpi_iki\\n    result = result.sort_values(by=[\\\"obj_kodas\\\", \\\"laikotarpis_iki\\\"])\\n\\n    # I\\u0161meta dublikatus (pagal \\u012fmon\\u0117s kod\\u0105), paliekant paskutin\\u012f u\\u017eregistruot\\u0105 laikotarp\\u012f\\n    result = result.drop_duplicates(subset=\\\"obj_kodas\\\", keep=\\\"last\\\")\\n\\n    return result\";\n",
       "                var nbb_cells = Jupyter.notebook.get_cells();\n",
       "                for (var i = 0; i < nbb_cells.length; ++i) {\n",
       "                    if (nbb_cells[i].input_prompt_number == nbb_cell_id) {\n",
       "                        if (nbb_cells[i].get_text() == nbb_unformatted_code) {\n",
       "                             nbb_cells[i].set_text(nbb_formatted_code);\n",
       "                        }\n",
       "                        break;\n",
       "                    }\n",
       "                }\n",
       "            }, 500);\n",
       "            "
      ],
      "text/plain": [
       "<IPython.core.display.Javascript object>"
      ]
     },
     "metadata": {},
     "output_type": "display_data"
    }
   ],
   "source": [
    "def find_unique_MB_UAB(df: pd.DataFrame):\n",
    "    df[\"laikotarpis_iki\"] = pd.to_datetime(df[\"laikotarpis_iki\"])\n",
    "\n",
    "    # 'Mažoji bendrija' = 310, 'Uždaroji akcinė bendrovė' = 960\n",
    "    MB_UAB_kodai = [310, 960]\n",
    "\n",
    "    # Išrenka tik MB ir UAB\n",
    "    result = df[df[\"form_kodas\"].isin(MB_UAB_kodai)]\n",
    "\n",
    "    # Surušiuoja pagal įmonės kodą ir paskutinį užregistruotą laikotarpi_iki\n",
    "    result = result.sort_values(by=[\"obj_kodas\", \"laikotarpis_iki\"])\n",
    "\n",
    "    # Išmeta dublikatus (pagal įmonės kodą), paliekant paskutinį užregistruotą laikotarpį\n",
    "    result = result.drop_duplicates(subset=\"obj_kodas\", keep=\"last\")\n",
    "\n",
    "    return result"
   ]
  },
  {
   "cell_type": "code",
   "execution_count": 60,
   "id": "4cd08927",
   "metadata": {
    "ExecuteTime": {
     "end_time": "2022-12-08T19:43:34.581087Z",
     "start_time": "2022-12-08T19:43:34.300230Z"
    },
    "hidden": true
   },
   "outputs": [
    {
     "data": {
      "text/plain": [
       "((81374, 18), (81374, 16))"
      ]
     },
     "execution_count": 60,
     "metadata": {},
     "output_type": "execute_result"
    },
    {
     "data": {
      "application/javascript": [
       "\n",
       "            setTimeout(function() {\n",
       "                var nbb_cell_id = 60;\n",
       "                var nbb_unformatted_code = \"df_BLNS_MB_UAB_2020 = find_unique_MB_UAB(df_BLNS_2020)\\ndf_PLNA_MB_UAB_2020 = find_unique_MB_UAB(df_PLNA_2020)\\n\\ndf_BLNS_MB_UAB_2020.shape, df_PLNA_MB_UAB_2020.shape\";\n",
       "                var nbb_formatted_code = \"df_BLNS_MB_UAB_2020 = find_unique_MB_UAB(df_BLNS_2020)\\ndf_PLNA_MB_UAB_2020 = find_unique_MB_UAB(df_PLNA_2020)\\n\\ndf_BLNS_MB_UAB_2020.shape, df_PLNA_MB_UAB_2020.shape\";\n",
       "                var nbb_cells = Jupyter.notebook.get_cells();\n",
       "                for (var i = 0; i < nbb_cells.length; ++i) {\n",
       "                    if (nbb_cells[i].input_prompt_number == nbb_cell_id) {\n",
       "                        if (nbb_cells[i].get_text() == nbb_unformatted_code) {\n",
       "                             nbb_cells[i].set_text(nbb_formatted_code);\n",
       "                        }\n",
       "                        break;\n",
       "                    }\n",
       "                }\n",
       "            }, 500);\n",
       "            "
      ],
      "text/plain": [
       "<IPython.core.display.Javascript object>"
      ]
     },
     "metadata": {},
     "output_type": "display_data"
    }
   ],
   "source": [
    "df_BLNS_MB_UAB_2020 = find_unique_MB_UAB(df_BLNS_2020)\n",
    "df_PLNA_MB_UAB_2020 = find_unique_MB_UAB(df_PLNA_2020)\n",
    "\n",
    "df_BLNS_MB_UAB_2020.shape, df_PLNA_MB_UAB_2020.shape"
   ]
  },
  {
   "cell_type": "markdown",
   "id": "80e54ac4",
   "metadata": {
    "hidden": true
   },
   "source": [
    "Tikriname ar Balanso ir Pelno(Nuostolio) duomenyse sutampa įmonių statusai"
   ]
  },
  {
   "cell_type": "code",
   "execution_count": 61,
   "id": "b59907b7",
   "metadata": {
    "ExecuteTime": {
     "end_time": "2022-12-08T19:43:34.658206Z",
     "start_time": "2022-12-08T19:43:34.585050Z"
    },
    "hidden": true
   },
   "outputs": [
    {
     "data": {
      "text/html": [
       "<div>\n",
       "<style scoped>\n",
       "    .dataframe tbody tr th:only-of-type {\n",
       "        vertical-align: middle;\n",
       "    }\n",
       "\n",
       "    .dataframe tbody tr th {\n",
       "        vertical-align: top;\n",
       "    }\n",
       "\n",
       "    .dataframe thead th {\n",
       "        text-align: right;\n",
       "    }\n",
       "</style>\n",
       "<table border=\"1\" class=\"dataframe\">\n",
       "  <thead>\n",
       "    <tr style=\"text-align: right;\">\n",
       "      <th></th>\n",
       "      <th>obj_kodas</th>\n",
       "      <th>obj_pav</th>\n",
       "      <th>stat_statusas_BLNS</th>\n",
       "      <th>stat_statusas_PLNA</th>\n",
       "    </tr>\n",
       "  </thead>\n",
       "  <tbody>\n",
       "  </tbody>\n",
       "</table>\n",
       "</div>"
      ],
      "text/plain": [
       "Empty DataFrame\n",
       "Columns: [obj_kodas, obj_pav, stat_statusas_BLNS, stat_statusas_PLNA]\n",
       "Index: []"
      ]
     },
     "execution_count": 61,
     "metadata": {},
     "output_type": "execute_result"
    },
    {
     "data": {
      "application/javascript": [
       "\n",
       "            setTimeout(function() {\n",
       "                var nbb_cell_id = 61;\n",
       "                var nbb_unformatted_code = \"df_temp = df_BLNS_MB_UAB_2020[[\\\"obj_kodas\\\", \\\"obj_pav\\\", \\\"stat_statusas\\\"]].merge(\\n    df_PLNA_MB_UAB_2020[[\\\"obj_kodas\\\", \\\"stat_statusas\\\"]],\\n    on=\\\"obj_kodas\\\",\\n    how=\\\"outer\\\",\\n    suffixes=[\\\"_BLNS\\\", \\\"_PLNA\\\"],\\n)\\ndf_temp[df_temp[\\\"stat_statusas_BLNS\\\"] != df_temp[\\\"stat_statusas_PLNA\\\"]]\";\n",
       "                var nbb_formatted_code = \"df_temp = df_BLNS_MB_UAB_2020[[\\\"obj_kodas\\\", \\\"obj_pav\\\", \\\"stat_statusas\\\"]].merge(\\n    df_PLNA_MB_UAB_2020[[\\\"obj_kodas\\\", \\\"stat_statusas\\\"]],\\n    on=\\\"obj_kodas\\\",\\n    how=\\\"outer\\\",\\n    suffixes=[\\\"_BLNS\\\", \\\"_PLNA\\\"],\\n)\\ndf_temp[df_temp[\\\"stat_statusas_BLNS\\\"] != df_temp[\\\"stat_statusas_PLNA\\\"]]\";\n",
       "                var nbb_cells = Jupyter.notebook.get_cells();\n",
       "                for (var i = 0; i < nbb_cells.length; ++i) {\n",
       "                    if (nbb_cells[i].input_prompt_number == nbb_cell_id) {\n",
       "                        if (nbb_cells[i].get_text() == nbb_unformatted_code) {\n",
       "                             nbb_cells[i].set_text(nbb_formatted_code);\n",
       "                        }\n",
       "                        break;\n",
       "                    }\n",
       "                }\n",
       "            }, 500);\n",
       "            "
      ],
      "text/plain": [
       "<IPython.core.display.Javascript object>"
      ]
     },
     "metadata": {},
     "output_type": "display_data"
    }
   ],
   "source": [
    "df_temp = df_BLNS_MB_UAB_2020[[\"obj_kodas\", \"obj_pav\", \"stat_statusas\"]].merge(\n",
    "    df_PLNA_MB_UAB_2020[[\"obj_kodas\", \"stat_statusas\"]],\n",
    "    on=\"obj_kodas\",\n",
    "    how=\"outer\",\n",
    "    suffixes=[\"_BLNS\", \"_PLNA\"],\n",
    ")\n",
    "df_temp[df_temp[\"stat_statusas_BLNS\"] != df_temp[\"stat_statusas_PLNA\"]]"
   ]
  },
  {
   "cell_type": "markdown",
   "id": "c9565150",
   "metadata": {
    "hidden": true
   },
   "source": [
    "__Išvada__: Duomenų failuose df_BLNS_MB_UAB_2020 ir df_PLNA_MB_UAB_2020 statusai sutampa\n",
    "\n",
    "----------"
   ]
  },
  {
   "cell_type": "code",
   "execution_count": 62,
   "id": "a0c458cd",
   "metadata": {
    "ExecuteTime": {
     "end_time": "2022-12-08T19:43:35.111835Z",
     "start_time": "2022-12-08T19:43:34.663622Z"
    },
    "hidden": true
   },
   "outputs": [
    {
     "name": "stdout",
     "output_type": "stream",
     "text": [
      "(89983, 18) (89981, 16)\n"
     ]
    },
    {
     "data": {
      "text/html": [
       "<div>\n",
       "<style scoped>\n",
       "    .dataframe tbody tr th:only-of-type {\n",
       "        vertical-align: middle;\n",
       "    }\n",
       "\n",
       "    .dataframe tbody tr th {\n",
       "        vertical-align: top;\n",
       "    }\n",
       "\n",
       "    .dataframe thead th {\n",
       "        text-align: right;\n",
       "    }\n",
       "</style>\n",
       "<table border=\"1\" class=\"dataframe\">\n",
       "  <thead>\n",
       "    <tr style=\"text-align: right;\">\n",
       "      <th></th>\n",
       "      <th>obj_kodas</th>\n",
       "      <th>obj_pav</th>\n",
       "      <th>stat_statusas_BLNS</th>\n",
       "      <th>stat_statusas_PLNA</th>\n",
       "    </tr>\n",
       "  </thead>\n",
       "  <tbody>\n",
       "    <tr>\n",
       "      <th>17973</th>\n",
       "      <td>258952330</td>\n",
       "      <td>Uždaroji akcinė bendrovė \"PARAMA INVALIDAMS\"</td>\n",
       "      <td>7</td>\n",
       "      <td>NaN</td>\n",
       "    </tr>\n",
       "    <tr>\n",
       "      <th>54714</th>\n",
       "      <td>304064576</td>\n",
       "      <td>MB \"Vulpė\"</td>\n",
       "      <td>0</td>\n",
       "      <td>NaN</td>\n",
       "    </tr>\n",
       "  </tbody>\n",
       "</table>\n",
       "</div>"
      ],
      "text/plain": [
       "       obj_kodas                                       obj_pav  \\\n",
       "17973  258952330  Uždaroji akcinė bendrovė \"PARAMA INVALIDAMS\"   \n",
       "54714  304064576                                    MB \"Vulpė\"   \n",
       "\n",
       "       stat_statusas_BLNS  stat_statusas_PLNA  \n",
       "17973                   7                 NaN  \n",
       "54714                   0                 NaN  "
      ]
     },
     "execution_count": 62,
     "metadata": {},
     "output_type": "execute_result"
    },
    {
     "data": {
      "application/javascript": [
       "\n",
       "            setTimeout(function() {\n",
       "                var nbb_cell_id = 62;\n",
       "                var nbb_unformatted_code = \"df_BLNS_MB_UAB_2021 = find_unique_MB_UAB(df_BLNS_2021)\\ndf_PLNA_MB_UAB_2021 = find_unique_MB_UAB(df_PLNA_2021)\\n\\nprint(df_BLNS_MB_UAB_2021.shape, df_PLNA_MB_UAB_2021.shape)\\n\\ndf_temp = df_BLNS_MB_UAB_2021[[\\\"obj_kodas\\\", \\\"obj_pav\\\", \\\"stat_statusas\\\"]].merge(\\n    df_PLNA_MB_UAB_2021[[\\\"obj_kodas\\\", \\\"stat_statusas\\\"]],\\n    on=\\\"obj_kodas\\\",\\n    how=\\\"outer\\\",\\n    suffixes=[\\\"_BLNS\\\", \\\"_PLNA\\\"],\\n)\\ndf_temp[df_temp[\\\"stat_statusas_BLNS\\\"] != df_temp[\\\"stat_statusas_PLNA\\\"]]\";\n",
       "                var nbb_formatted_code = \"df_BLNS_MB_UAB_2021 = find_unique_MB_UAB(df_BLNS_2021)\\ndf_PLNA_MB_UAB_2021 = find_unique_MB_UAB(df_PLNA_2021)\\n\\nprint(df_BLNS_MB_UAB_2021.shape, df_PLNA_MB_UAB_2021.shape)\\n\\ndf_temp = df_BLNS_MB_UAB_2021[[\\\"obj_kodas\\\", \\\"obj_pav\\\", \\\"stat_statusas\\\"]].merge(\\n    df_PLNA_MB_UAB_2021[[\\\"obj_kodas\\\", \\\"stat_statusas\\\"]],\\n    on=\\\"obj_kodas\\\",\\n    how=\\\"outer\\\",\\n    suffixes=[\\\"_BLNS\\\", \\\"_PLNA\\\"],\\n)\\ndf_temp[df_temp[\\\"stat_statusas_BLNS\\\"] != df_temp[\\\"stat_statusas_PLNA\\\"]]\";\n",
       "                var nbb_cells = Jupyter.notebook.get_cells();\n",
       "                for (var i = 0; i < nbb_cells.length; ++i) {\n",
       "                    if (nbb_cells[i].input_prompt_number == nbb_cell_id) {\n",
       "                        if (nbb_cells[i].get_text() == nbb_unformatted_code) {\n",
       "                             nbb_cells[i].set_text(nbb_formatted_code);\n",
       "                        }\n",
       "                        break;\n",
       "                    }\n",
       "                }\n",
       "            }, 500);\n",
       "            "
      ],
      "text/plain": [
       "<IPython.core.display.Javascript object>"
      ]
     },
     "metadata": {},
     "output_type": "display_data"
    }
   ],
   "source": [
    "df_BLNS_MB_UAB_2021 = find_unique_MB_UAB(df_BLNS_2021)\n",
    "df_PLNA_MB_UAB_2021 = find_unique_MB_UAB(df_PLNA_2021)\n",
    "\n",
    "print(df_BLNS_MB_UAB_2021.shape, df_PLNA_MB_UAB_2021.shape)\n",
    "\n",
    "df_temp = df_BLNS_MB_UAB_2021[[\"obj_kodas\", \"obj_pav\", \"stat_statusas\"]].merge(\n",
    "    df_PLNA_MB_UAB_2021[[\"obj_kodas\", \"stat_statusas\"]],\n",
    "    on=\"obj_kodas\",\n",
    "    how=\"outer\",\n",
    "    suffixes=[\"_BLNS\", \"_PLNA\"],\n",
    ")\n",
    "df_temp[df_temp[\"stat_statusas_BLNS\"] != df_temp[\"stat_statusas_PLNA\"]]"
   ]
  },
  {
   "cell_type": "markdown",
   "id": "08ff063a",
   "metadata": {
    "hidden": true
   },
   "source": [
    "__Išvada__: Tarp MB ir UAB 2021 metais BLNS ir PLNA statusai nesutampa keliuose įrašuose.\n",
    "Įrašai bus pašalinti, nes nėra informacijos pelno arba balanso ataskaitose"
   ]
  },
  {
   "cell_type": "code",
   "execution_count": 63,
   "id": "1c81bc87",
   "metadata": {
    "ExecuteTime": {
     "end_time": "2022-12-08T19:43:35.188782Z",
     "start_time": "2022-12-08T19:43:35.116804Z"
    },
    "hidden": true
   },
   "outputs": [
    {
     "data": {
      "text/plain": [
       "((89981, 18), (89981, 16))"
      ]
     },
     "execution_count": 63,
     "metadata": {},
     "output_type": "execute_result"
    },
    {
     "data": {
      "application/javascript": [
       "\n",
       "            setTimeout(function() {\n",
       "                var nbb_cell_id = 63;\n",
       "                var nbb_unformatted_code = \"drop_obj_kodas = df_temp.loc[\\n    df_temp[\\\"stat_statusas_BLNS\\\"] != df_temp[\\\"stat_statusas_PLNA\\\"], \\\"obj_kodas\\\"\\n]\\ndf_BLNS_MB_UAB_2021 = df_BLNS_MB_UAB_2021[\\n    ~df_BLNS_MB_UAB_2021[\\\"obj_kodas\\\"].isin(drop_obj_kodas)\\n]\\ndf_PLNA_MB_UAB_2021 = df_PLNA_MB_UAB_2021[\\n    ~df_PLNA_MB_UAB_2021[\\\"obj_kodas\\\"].isin(drop_obj_kodas)\\n]\\ndf_BLNS_MB_UAB_2021.shape, df_PLNA_MB_UAB_2021.shape\";\n",
       "                var nbb_formatted_code = \"drop_obj_kodas = df_temp.loc[\\n    df_temp[\\\"stat_statusas_BLNS\\\"] != df_temp[\\\"stat_statusas_PLNA\\\"], \\\"obj_kodas\\\"\\n]\\ndf_BLNS_MB_UAB_2021 = df_BLNS_MB_UAB_2021[\\n    ~df_BLNS_MB_UAB_2021[\\\"obj_kodas\\\"].isin(drop_obj_kodas)\\n]\\ndf_PLNA_MB_UAB_2021 = df_PLNA_MB_UAB_2021[\\n    ~df_PLNA_MB_UAB_2021[\\\"obj_kodas\\\"].isin(drop_obj_kodas)\\n]\\ndf_BLNS_MB_UAB_2021.shape, df_PLNA_MB_UAB_2021.shape\";\n",
       "                var nbb_cells = Jupyter.notebook.get_cells();\n",
       "                for (var i = 0; i < nbb_cells.length; ++i) {\n",
       "                    if (nbb_cells[i].input_prompt_number == nbb_cell_id) {\n",
       "                        if (nbb_cells[i].get_text() == nbb_unformatted_code) {\n",
       "                             nbb_cells[i].set_text(nbb_formatted_code);\n",
       "                        }\n",
       "                        break;\n",
       "                    }\n",
       "                }\n",
       "            }, 500);\n",
       "            "
      ],
      "text/plain": [
       "<IPython.core.display.Javascript object>"
      ]
     },
     "metadata": {},
     "output_type": "display_data"
    }
   ],
   "source": [
    "drop_obj_kodas = df_temp.loc[\n",
    "    df_temp[\"stat_statusas_BLNS\"] != df_temp[\"stat_statusas_PLNA\"], \"obj_kodas\"\n",
    "]\n",
    "df_BLNS_MB_UAB_2021 = df_BLNS_MB_UAB_2021[\n",
    "    ~df_BLNS_MB_UAB_2021[\"obj_kodas\"].isin(drop_obj_kodas)\n",
    "]\n",
    "df_PLNA_MB_UAB_2021 = df_PLNA_MB_UAB_2021[\n",
    "    ~df_PLNA_MB_UAB_2021[\"obj_kodas\"].isin(drop_obj_kodas)\n",
    "]\n",
    "df_BLNS_MB_UAB_2021.shape, df_PLNA_MB_UAB_2021.shape"
   ]
  },
  {
   "cell_type": "markdown",
   "id": "fecbe0b0",
   "metadata": {
    "hidden": true
   },
   "source": [
    "------"
   ]
  },
  {
   "cell_type": "code",
   "execution_count": 64,
   "id": "f5302b4c",
   "metadata": {
    "ExecuteTime": {
     "end_time": "2022-12-08T19:43:35.219404Z",
     "start_time": "2022-12-08T19:43:35.193405Z"
    },
    "hidden": true
   },
   "outputs": [
    {
     "data": {
      "application/javascript": [
       "\n",
       "            setTimeout(function() {\n",
       "                var nbb_cell_id = 64;\n",
       "                var nbb_unformatted_code = \"df_2020 = df_BLNS_MB_UAB_2020[[\\\"obj_kodas\\\", \\\"obj_pav\\\", \\\"stat_statusas\\\", \\\"stat_pav\\\"]]\";\n",
       "                var nbb_formatted_code = \"df_2020 = df_BLNS_MB_UAB_2020[[\\\"obj_kodas\\\", \\\"obj_pav\\\", \\\"stat_statusas\\\", \\\"stat_pav\\\"]]\";\n",
       "                var nbb_cells = Jupyter.notebook.get_cells();\n",
       "                for (var i = 0; i < nbb_cells.length; ++i) {\n",
       "                    if (nbb_cells[i].input_prompt_number == nbb_cell_id) {\n",
       "                        if (nbb_cells[i].get_text() == nbb_unformatted_code) {\n",
       "                             nbb_cells[i].set_text(nbb_formatted_code);\n",
       "                        }\n",
       "                        break;\n",
       "                    }\n",
       "                }\n",
       "            }, 500);\n",
       "            "
      ],
      "text/plain": [
       "<IPython.core.display.Javascript object>"
      ]
     },
     "metadata": {},
     "output_type": "display_data"
    }
   ],
   "source": [
    "df_2020 = df_BLNS_MB_UAB_2020[[\"obj_kodas\", \"obj_pav\", \"stat_statusas\", \"stat_pav\"]]"
   ]
  },
  {
   "cell_type": "code",
   "execution_count": 65,
   "id": "06570722",
   "metadata": {
    "ExecuteTime": {
     "end_time": "2022-12-08T19:43:35.266192Z",
     "start_time": "2022-12-08T19:43:35.221328Z"
    },
    "hidden": true
   },
   "outputs": [
    {
     "data": {
      "text/html": [
       "<div>\n",
       "<style scoped>\n",
       "    .dataframe tbody tr th:only-of-type {\n",
       "        vertical-align: middle;\n",
       "    }\n",
       "\n",
       "    .dataframe tbody tr th {\n",
       "        vertical-align: top;\n",
       "    }\n",
       "\n",
       "    .dataframe thead th {\n",
       "        text-align: right;\n",
       "    }\n",
       "</style>\n",
       "<table border=\"1\" class=\"dataframe\">\n",
       "  <thead>\n",
       "    <tr style=\"text-align: right;\">\n",
       "      <th></th>\n",
       "      <th>obj_kodas</th>\n",
       "      <th>obj_pav</th>\n",
       "      <th>stat_statusas</th>\n",
       "      <th>stat_pav</th>\n",
       "    </tr>\n",
       "  </thead>\n",
       "  <tbody>\n",
       "    <tr>\n",
       "      <th>82462</th>\n",
       "      <td>302963902</td>\n",
       "      <td>UAB \"Deirada\"</td>\n",
       "      <td>0</td>\n",
       "      <td>Teisinis stat neįregistruotas</td>\n",
       "    </tr>\n",
       "    <tr>\n",
       "      <th>45451</th>\n",
       "      <td>304412367</td>\n",
       "      <td>UAB \"Vigitos prekyba\"</td>\n",
       "      <td>0</td>\n",
       "      <td>Teisinis stat neįregistruotas</td>\n",
       "    </tr>\n",
       "    <tr>\n",
       "      <th>58120</th>\n",
       "      <td>145814766</td>\n",
       "      <td>UAB \"Judra plius\"</td>\n",
       "      <td>0</td>\n",
       "      <td>Teisinis stat neįregistruotas</td>\n",
       "    </tr>\n",
       "    <tr>\n",
       "      <th>46768</th>\n",
       "      <td>300610227</td>\n",
       "      <td>UAB \"L.S.TRANS\"</td>\n",
       "      <td>0</td>\n",
       "      <td>Teisinis stat neįregistruotas</td>\n",
       "    </tr>\n",
       "    <tr>\n",
       "      <th>42149</th>\n",
       "      <td>304862656</td>\n",
       "      <td>UAB \"Du komponentai\"</td>\n",
       "      <td>0</td>\n",
       "      <td>Teisinis stat neįregistruotas</td>\n",
       "    </tr>\n",
       "  </tbody>\n",
       "</table>\n",
       "</div>"
      ],
      "text/plain": [
       "       obj_kodas                obj_pav  stat_statusas  \\\n",
       "82462  302963902          UAB \"Deirada\"              0   \n",
       "45451  304412367  UAB \"Vigitos prekyba\"              0   \n",
       "58120  145814766      UAB \"Judra plius\"              0   \n",
       "46768  300610227        UAB \"L.S.TRANS\"              0   \n",
       "42149  304862656   UAB \"Du komponentai\"              0   \n",
       "\n",
       "                            stat_pav  \n",
       "82462  Teisinis stat neįregistruotas  \n",
       "45451  Teisinis stat neįregistruotas  \n",
       "58120  Teisinis stat neįregistruotas  \n",
       "46768  Teisinis stat neįregistruotas  \n",
       "42149  Teisinis stat neįregistruotas  "
      ]
     },
     "execution_count": 65,
     "metadata": {},
     "output_type": "execute_result"
    },
    {
     "data": {
      "application/javascript": [
       "\n",
       "            setTimeout(function() {\n",
       "                var nbb_cell_id = 65;\n",
       "                var nbb_unformatted_code = \"# 2020 metais \\u012fmon\\u0117s vykdancios veikl\\u0105 (Teisinis stat ne\\u012fregistruotas = 0)\\ndf_vykdo_2020 = df_2020[df_2020[\\\"stat_statusas\\\"] == 0]\\ndf_vykdo_2020.sample(5)\";\n",
       "                var nbb_formatted_code = \"# 2020 metais \\u012fmon\\u0117s vykdancios veikl\\u0105 (Teisinis stat ne\\u012fregistruotas = 0)\\ndf_vykdo_2020 = df_2020[df_2020[\\\"stat_statusas\\\"] == 0]\\ndf_vykdo_2020.sample(5)\";\n",
       "                var nbb_cells = Jupyter.notebook.get_cells();\n",
       "                for (var i = 0; i < nbb_cells.length; ++i) {\n",
       "                    if (nbb_cells[i].input_prompt_number == nbb_cell_id) {\n",
       "                        if (nbb_cells[i].get_text() == nbb_unformatted_code) {\n",
       "                             nbb_cells[i].set_text(nbb_formatted_code);\n",
       "                        }\n",
       "                        break;\n",
       "                    }\n",
       "                }\n",
       "            }, 500);\n",
       "            "
      ],
      "text/plain": [
       "<IPython.core.display.Javascript object>"
      ]
     },
     "metadata": {},
     "output_type": "display_data"
    }
   ],
   "source": [
    "# 2020 metais įmonės vykdancios veiklą (Teisinis stat neįregistruotas = 0)\n",
    "df_vykdo_2020 = df_2020[df_2020[\"stat_statusas\"] == 0]\n",
    "df_vykdo_2020.sample(5)"
   ]
  },
  {
   "cell_type": "code",
   "execution_count": 66,
   "id": "62ce7067",
   "metadata": {
    "ExecuteTime": {
     "end_time": "2022-12-08T19:43:35.359926Z",
     "start_time": "2022-12-08T19:43:35.269703Z"
    },
    "hidden": true
   },
   "outputs": [
    {
     "data": {
      "application/javascript": [
       "\n",
       "            setTimeout(function() {\n",
       "                var nbb_cell_id = 66;\n",
       "                var nbb_unformatted_code = \"# Surenkame 2021 met\\u0173 duomenis \\u012f vien\\u0105 df\\ndf_2021 = df_BLNS_MB_UAB_2021[\\n    [\\\"obj_kodas\\\", \\\"obj_pav\\\", \\\"stat_statusas\\\", \\\"stat_pav\\\", \\\"nuosavas_kapitalas\\\"]\\n].merge(\\n    df_PLNA_MB_UAB_2021[[\\\"obj_kodas\\\", \\\"grynasis_pelnas\\\"]], on=\\\"obj_kodas\\\", how=\\\"outer\\\"\\n)\";\n",
       "                var nbb_formatted_code = \"# Surenkame 2021 met\\u0173 duomenis \\u012f vien\\u0105 df\\ndf_2021 = df_BLNS_MB_UAB_2021[\\n    [\\\"obj_kodas\\\", \\\"obj_pav\\\", \\\"stat_statusas\\\", \\\"stat_pav\\\", \\\"nuosavas_kapitalas\\\"]\\n].merge(\\n    df_PLNA_MB_UAB_2021[[\\\"obj_kodas\\\", \\\"grynasis_pelnas\\\"]], on=\\\"obj_kodas\\\", how=\\\"outer\\\"\\n)\";\n",
       "                var nbb_cells = Jupyter.notebook.get_cells();\n",
       "                for (var i = 0; i < nbb_cells.length; ++i) {\n",
       "                    if (nbb_cells[i].input_prompt_number == nbb_cell_id) {\n",
       "                        if (nbb_cells[i].get_text() == nbb_unformatted_code) {\n",
       "                             nbb_cells[i].set_text(nbb_formatted_code);\n",
       "                        }\n",
       "                        break;\n",
       "                    }\n",
       "                }\n",
       "            }, 500);\n",
       "            "
      ],
      "text/plain": [
       "<IPython.core.display.Javascript object>"
      ]
     },
     "metadata": {},
     "output_type": "display_data"
    }
   ],
   "source": [
    "# Surenkame 2021 metų duomenis į vieną df\n",
    "df_2021 = df_BLNS_MB_UAB_2021[\n",
    "    [\"obj_kodas\", \"obj_pav\", \"stat_statusas\", \"stat_pav\", \"nuosavas_kapitalas\"]\n",
    "].merge(\n",
    "    df_PLNA_MB_UAB_2021[[\"obj_kodas\", \"grynasis_pelnas\"]], on=\"obj_kodas\", how=\"outer\"\n",
    ")"
   ]
  },
  {
   "cell_type": "code",
   "execution_count": 67,
   "id": "5c37b94f",
   "metadata": {
    "ExecuteTime": {
     "end_time": "2022-12-08T19:43:35.421748Z",
     "start_time": "2022-12-08T19:43:35.363954Z"
    },
    "hidden": true
   },
   "outputs": [
    {
     "data": {
      "text/html": [
       "<div>\n",
       "<style scoped>\n",
       "    .dataframe tbody tr th:only-of-type {\n",
       "        vertical-align: middle;\n",
       "    }\n",
       "\n",
       "    .dataframe tbody tr th {\n",
       "        vertical-align: top;\n",
       "    }\n",
       "\n",
       "    .dataframe thead th {\n",
       "        text-align: right;\n",
       "    }\n",
       "</style>\n",
       "<table border=\"1\" class=\"dataframe\">\n",
       "  <thead>\n",
       "    <tr style=\"text-align: right;\">\n",
       "      <th></th>\n",
       "      <th>obj_kodas</th>\n",
       "      <th>obj_pav</th>\n",
       "      <th>stat_statusas</th>\n",
       "      <th>stat_pav</th>\n",
       "      <th>nuosavas_kapitalas</th>\n",
       "      <th>grynasis_pelnas</th>\n",
       "    </tr>\n",
       "  </thead>\n",
       "  <tbody>\n",
       "    <tr>\n",
       "      <th>11027</th>\n",
       "      <td>148057179</td>\n",
       "      <td>Uždaroji akcinė bendrovė \"EKTONAS\"</td>\n",
       "      <td>0</td>\n",
       "      <td>Teisinis stat neįregistruotas</td>\n",
       "      <td>148239.0</td>\n",
       "      <td>14509.0</td>\n",
       "    </tr>\n",
       "    <tr>\n",
       "      <th>18270</th>\n",
       "      <td>281305150</td>\n",
       "      <td>UAB Mažoji Užupio klinika</td>\n",
       "      <td>0</td>\n",
       "      <td>Teisinis stat neįregistruotas</td>\n",
       "      <td>86530.0</td>\n",
       "      <td>45269.0</td>\n",
       "    </tr>\n",
       "    <tr>\n",
       "      <th>70920</th>\n",
       "      <td>304866512</td>\n",
       "      <td>UAB \"Savaitgalis šiandien\"</td>\n",
       "      <td>0</td>\n",
       "      <td>Teisinis stat neįregistruotas</td>\n",
       "      <td>-7497.0</td>\n",
       "      <td>1611.0</td>\n",
       "    </tr>\n",
       "    <tr>\n",
       "      <th>67447</th>\n",
       "      <td>304737282</td>\n",
       "      <td>UAB GM Žurnalų leidybos grupė</td>\n",
       "      <td>0</td>\n",
       "      <td>Teisinis stat neįregistruotas</td>\n",
       "      <td>-240000.0</td>\n",
       "      <td>60000.0</td>\n",
       "    </tr>\n",
       "    <tr>\n",
       "      <th>78540</th>\n",
       "      <td>305218326</td>\n",
       "      <td>MB \"Epizodas\"</td>\n",
       "      <td>0</td>\n",
       "      <td>Teisinis stat neįregistruotas</td>\n",
       "      <td>-3492.0</td>\n",
       "      <td>-1915.0</td>\n",
       "    </tr>\n",
       "  </tbody>\n",
       "</table>\n",
       "</div>"
      ],
      "text/plain": [
       "       obj_kodas                             obj_pav  stat_statusas  \\\n",
       "11027  148057179  Uždaroji akcinė bendrovė \"EKTONAS\"              0   \n",
       "18270  281305150           UAB Mažoji Užupio klinika              0   \n",
       "70920  304866512          UAB \"Savaitgalis šiandien\"              0   \n",
       "67447  304737282       UAB GM Žurnalų leidybos grupė              0   \n",
       "78540  305218326                       MB \"Epizodas\"              0   \n",
       "\n",
       "                            stat_pav  nuosavas_kapitalas  grynasis_pelnas  \n",
       "11027  Teisinis stat neįregistruotas            148239.0          14509.0  \n",
       "18270  Teisinis stat neįregistruotas             86530.0          45269.0  \n",
       "70920  Teisinis stat neįregistruotas             -7497.0           1611.0  \n",
       "67447  Teisinis stat neįregistruotas           -240000.0          60000.0  \n",
       "78540  Teisinis stat neįregistruotas             -3492.0          -1915.0  "
      ]
     },
     "execution_count": 67,
     "metadata": {},
     "output_type": "execute_result"
    },
    {
     "data": {
      "application/javascript": [
       "\n",
       "            setTimeout(function() {\n",
       "                var nbb_cell_id = 67;\n",
       "                var nbb_unformatted_code = \"# 2021 metais bankrutavusios arba vykdancios veikl\\u0105 (statuso kodas n\\u0117ra [1, 2, 3, 4, 8, 23, 24])\\ndf_imones_2021 = df_2021[~df_2021[\\\"stat_statusas\\\"].isin([1, 2, 3, 4, 8, 23, 24])]\\ndf_imones_2021.sample(5)\";\n",
       "                var nbb_formatted_code = \"# 2021 metais bankrutavusios arba vykdancios veikl\\u0105 (statuso kodas n\\u0117ra [1, 2, 3, 4, 8, 23, 24])\\ndf_imones_2021 = df_2021[~df_2021[\\\"stat_statusas\\\"].isin([1, 2, 3, 4, 8, 23, 24])]\\ndf_imones_2021.sample(5)\";\n",
       "                var nbb_cells = Jupyter.notebook.get_cells();\n",
       "                for (var i = 0; i < nbb_cells.length; ++i) {\n",
       "                    if (nbb_cells[i].input_prompt_number == nbb_cell_id) {\n",
       "                        if (nbb_cells[i].get_text() == nbb_unformatted_code) {\n",
       "                             nbb_cells[i].set_text(nbb_formatted_code);\n",
       "                        }\n",
       "                        break;\n",
       "                    }\n",
       "                }\n",
       "            }, 500);\n",
       "            "
      ],
      "text/plain": [
       "<IPython.core.display.Javascript object>"
      ]
     },
     "metadata": {},
     "output_type": "display_data"
    }
   ],
   "source": [
    "# 2021 metais bankrutavusios arba vykdancios veiklą (statuso kodas nėra [1, 2, 3, 4, 8, 23, 24])\n",
    "df_imones_2021 = df_2021[~df_2021[\"stat_statusas\"].isin([1, 2, 3, 4, 8, 23, 24])]\n",
    "df_imones_2021.sample(5)"
   ]
  },
  {
   "cell_type": "code",
   "execution_count": 68,
   "id": "37479afb",
   "metadata": {
    "ExecuteTime": {
     "end_time": "2022-12-08T19:43:35.546399Z",
     "start_time": "2022-12-08T19:43:35.427733Z"
    },
    "hidden": true
   },
   "outputs": [
    {
     "data": {
      "text/html": [
       "<div>\n",
       "<style scoped>\n",
       "    .dataframe tbody tr th:only-of-type {\n",
       "        vertical-align: middle;\n",
       "    }\n",
       "\n",
       "    .dataframe tbody tr th {\n",
       "        vertical-align: top;\n",
       "    }\n",
       "\n",
       "    .dataframe thead th {\n",
       "        text-align: right;\n",
       "    }\n",
       "</style>\n",
       "<table border=\"1\" class=\"dataframe\">\n",
       "  <thead>\n",
       "    <tr style=\"text-align: right;\">\n",
       "      <th></th>\n",
       "      <th>obj_kodas</th>\n",
       "      <th>obj_pav</th>\n",
       "      <th>stat_statusas_2020</th>\n",
       "      <th>stat_pav_2020</th>\n",
       "      <th>stat_statusas_2021</th>\n",
       "      <th>stat_pav_2021</th>\n",
       "      <th>nuosavas_kapitalas</th>\n",
       "      <th>grynasis_pelnas</th>\n",
       "    </tr>\n",
       "  </thead>\n",
       "  <tbody>\n",
       "    <tr>\n",
       "      <th>45496</th>\n",
       "      <td>303184850</td>\n",
       "      <td>UAB Alstiko</td>\n",
       "      <td>0</td>\n",
       "      <td>Teisinis stat neįregistruotas</td>\n",
       "      <td>0</td>\n",
       "      <td>Teisinis stat neįregistruotas</td>\n",
       "      <td>13868.0</td>\n",
       "      <td>2235.0</td>\n",
       "    </tr>\n",
       "    <tr>\n",
       "      <th>4678</th>\n",
       "      <td>125475155</td>\n",
       "      <td>UAB \"AKTYVUMO SPEKTRAS\"</td>\n",
       "      <td>0</td>\n",
       "      <td>Teisinis stat neįregistruotas</td>\n",
       "      <td>0</td>\n",
       "      <td>Teisinis stat neįregistruotas</td>\n",
       "      <td>10413.0</td>\n",
       "      <td>0.0</td>\n",
       "    </tr>\n",
       "    <tr>\n",
       "      <th>29145</th>\n",
       "      <td>302422156</td>\n",
       "      <td>UAB \"IGNOLITA &amp; CO\"</td>\n",
       "      <td>0</td>\n",
       "      <td>Teisinis stat neįregistruotas</td>\n",
       "      <td>0</td>\n",
       "      <td>Teisinis stat neįregistruotas</td>\n",
       "      <td>6730.0</td>\n",
       "      <td>643.0</td>\n",
       "    </tr>\n",
       "    <tr>\n",
       "      <th>65832</th>\n",
       "      <td>304782199</td>\n",
       "      <td>\"Altmedia\" UAB</td>\n",
       "      <td>0</td>\n",
       "      <td>Teisinis stat neįregistruotas</td>\n",
       "      <td>0</td>\n",
       "      <td>Teisinis stat neįregistruotas</td>\n",
       "      <td>194200.0</td>\n",
       "      <td>186335.0</td>\n",
       "    </tr>\n",
       "    <tr>\n",
       "      <th>7306</th>\n",
       "      <td>134937949</td>\n",
       "      <td>Uždaroji akcinė bendrovė \"Spaudos praktika\"</td>\n",
       "      <td>0</td>\n",
       "      <td>Teisinis stat neįregistruotas</td>\n",
       "      <td>0</td>\n",
       "      <td>Teisinis stat neįregistruotas</td>\n",
       "      <td>1540171.0</td>\n",
       "      <td>286493.0</td>\n",
       "    </tr>\n",
       "  </tbody>\n",
       "</table>\n",
       "</div>"
      ],
      "text/plain": [
       "       obj_kodas                                      obj_pav  \\\n",
       "45496  303184850                                  UAB Alstiko   \n",
       "4678   125475155                      UAB \"AKTYVUMO SPEKTRAS\"   \n",
       "29145  302422156                          UAB \"IGNOLITA & CO\"   \n",
       "65832  304782199                               \"Altmedia\" UAB   \n",
       "7306   134937949  Uždaroji akcinė bendrovė \"Spaudos praktika\"   \n",
       "\n",
       "       stat_statusas_2020                  stat_pav_2020  stat_statusas_2021  \\\n",
       "45496                   0  Teisinis stat neįregistruotas                   0   \n",
       "4678                    0  Teisinis stat neįregistruotas                   0   \n",
       "29145                   0  Teisinis stat neįregistruotas                   0   \n",
       "65832                   0  Teisinis stat neįregistruotas                   0   \n",
       "7306                    0  Teisinis stat neįregistruotas                   0   \n",
       "\n",
       "                       stat_pav_2021  nuosavas_kapitalas  grynasis_pelnas  \n",
       "45496  Teisinis stat neįregistruotas             13868.0           2235.0  \n",
       "4678   Teisinis stat neįregistruotas             10413.0              0.0  \n",
       "29145  Teisinis stat neįregistruotas              6730.0            643.0  \n",
       "65832  Teisinis stat neįregistruotas            194200.0         186335.0  \n",
       "7306   Teisinis stat neįregistruotas           1540171.0         286493.0  "
      ]
     },
     "execution_count": 68,
     "metadata": {},
     "output_type": "execute_result"
    },
    {
     "data": {
      "application/javascript": [
       "\n",
       "            setTimeout(function() {\n",
       "                var nbb_cell_id = 68;\n",
       "                var nbb_unformatted_code = \"# Apjungiam 2020m. ir 2021m. duomenis pagal \\u012fmon\\u0117s kod\\u0105\\ndf_2020_2021 = df_vykdo_2020.merge(\\n    df_imones_2021[\\n        [\\n            \\\"obj_kodas\\\",\\n            \\\"stat_statusas\\\",\\n            \\\"stat_pav\\\",\\n            \\\"nuosavas_kapitalas\\\",\\n            \\\"grynasis_pelnas\\\",\\n        ]\\n    ],\\n    on=\\\"obj_kodas\\\",\\n    how=\\\"left\\\",\\n    suffixes=[\\\"_2020\\\", \\\"_2021\\\"],\\n)\\ndf_2020_2021 = df_2020_2021.dropna(subset=[\\\"stat_statusas_2021\\\"])\\ndf_2020_2021[\\\"stat_statusas_2021\\\"] = df_2020_2021[\\\"stat_statusas_2021\\\"].astype(np.int64)\\ndf_2020_2021.sample(5)\";\n",
       "                var nbb_formatted_code = \"# Apjungiam 2020m. ir 2021m. duomenis pagal \\u012fmon\\u0117s kod\\u0105\\ndf_2020_2021 = df_vykdo_2020.merge(\\n    df_imones_2021[\\n        [\\n            \\\"obj_kodas\\\",\\n            \\\"stat_statusas\\\",\\n            \\\"stat_pav\\\",\\n            \\\"nuosavas_kapitalas\\\",\\n            \\\"grynasis_pelnas\\\",\\n        ]\\n    ],\\n    on=\\\"obj_kodas\\\",\\n    how=\\\"left\\\",\\n    suffixes=[\\\"_2020\\\", \\\"_2021\\\"],\\n)\\ndf_2020_2021 = df_2020_2021.dropna(subset=[\\\"stat_statusas_2021\\\"])\\ndf_2020_2021[\\\"stat_statusas_2021\\\"] = df_2020_2021[\\\"stat_statusas_2021\\\"].astype(np.int64)\\ndf_2020_2021.sample(5)\";\n",
       "                var nbb_cells = Jupyter.notebook.get_cells();\n",
       "                for (var i = 0; i < nbb_cells.length; ++i) {\n",
       "                    if (nbb_cells[i].input_prompt_number == nbb_cell_id) {\n",
       "                        if (nbb_cells[i].get_text() == nbb_unformatted_code) {\n",
       "                             nbb_cells[i].set_text(nbb_formatted_code);\n",
       "                        }\n",
       "                        break;\n",
       "                    }\n",
       "                }\n",
       "            }, 500);\n",
       "            "
      ],
      "text/plain": [
       "<IPython.core.display.Javascript object>"
      ]
     },
     "metadata": {},
     "output_type": "display_data"
    }
   ],
   "source": [
    "# Apjungiam 2020m. ir 2021m. duomenis pagal įmonės kodą\n",
    "df_2020_2021 = df_vykdo_2020.merge(\n",
    "    df_imones_2021[\n",
    "        [\n",
    "            \"obj_kodas\",\n",
    "            \"stat_statusas\",\n",
    "            \"stat_pav\",\n",
    "            \"nuosavas_kapitalas\",\n",
    "            \"grynasis_pelnas\",\n",
    "        ]\n",
    "    ],\n",
    "    on=\"obj_kodas\",\n",
    "    how=\"left\",\n",
    "    suffixes=[\"_2020\", \"_2021\"],\n",
    ")\n",
    "df_2020_2021 = df_2020_2021.dropna(subset=[\"stat_statusas_2021\"])\n",
    "df_2020_2021[\"stat_statusas_2021\"] = df_2020_2021[\"stat_statusas_2021\"].astype(np.int64)\n",
    "df_2020_2021.sample(5)"
   ]
  },
  {
   "cell_type": "code",
   "execution_count": 69,
   "id": "4655df55",
   "metadata": {
    "ExecuteTime": {
     "end_time": "2022-12-08T19:43:35.593021Z",
     "start_time": "2022-12-08T19:43:35.565387Z"
    },
    "hidden": true
   },
   "outputs": [
    {
     "data": {
      "text/plain": [
       "stat_statusas_2020  stat_statusas_2021\n",
       "0                   0                     70647\n",
       "dtype: int64"
      ]
     },
     "execution_count": 69,
     "metadata": {},
     "output_type": "execute_result"
    },
    {
     "data": {
      "application/javascript": [
       "\n",
       "            setTimeout(function() {\n",
       "                var nbb_cell_id = 69;\n",
       "                var nbb_unformatted_code = \"# Patikriname ar visos MB ir UAB \\u012fmon\\u0117s i\\u0161 2020m. turi statusus 2021 metais\\ndf_2020_2021[[\\\"stat_statusas_2020\\\", \\\"stat_statusas_2021\\\"]].value_counts(dropna=False)\";\n",
       "                var nbb_formatted_code = \"# Patikriname ar visos MB ir UAB \\u012fmon\\u0117s i\\u0161 2020m. turi statusus 2021 metais\\ndf_2020_2021[[\\\"stat_statusas_2020\\\", \\\"stat_statusas_2021\\\"]].value_counts(dropna=False)\";\n",
       "                var nbb_cells = Jupyter.notebook.get_cells();\n",
       "                for (var i = 0; i < nbb_cells.length; ++i) {\n",
       "                    if (nbb_cells[i].input_prompt_number == nbb_cell_id) {\n",
       "                        if (nbb_cells[i].get_text() == nbb_unformatted_code) {\n",
       "                             nbb_cells[i].set_text(nbb_formatted_code);\n",
       "                        }\n",
       "                        break;\n",
       "                    }\n",
       "                }\n",
       "            }, 500);\n",
       "            "
      ],
      "text/plain": [
       "<IPython.core.display.Javascript object>"
      ]
     },
     "metadata": {},
     "output_type": "display_data"
    }
   ],
   "source": [
    "# Patikriname ar visos MB ir UAB įmonės iš 2020m. turi statusus 2021 metais\n",
    "df_2020_2021[[\"stat_statusas_2020\", \"stat_statusas_2021\"]].value_counts(dropna=False)"
   ]
  },
  {
   "cell_type": "code",
   "execution_count": 70,
   "id": "706db57d",
   "metadata": {
    "ExecuteTime": {
     "end_time": "2022-12-08T19:43:35.624166Z",
     "start_time": "2022-12-08T19:43:35.599125Z"
    },
    "hidden": true
   },
   "outputs": [
    {
     "data": {
      "application/javascript": [
       "\n",
       "            setTimeout(function() {\n",
       "                var nbb_cell_id = 70;\n",
       "                var nbb_unformatted_code = \"# Pa\\u0161alimane \\u012fmones, kuri\\u0173 2021m. statusas ne\\u017einomas\\ndf_2020_2021 = df_2020_2021.dropna(subset=[\\\"stat_statusas_2021\\\"])\\ndf_2020_2021[\\\"stat_statusas_2021\\\"] = df_2020_2021[\\\"stat_statusas_2021\\\"].astype(np.int64)\";\n",
       "                var nbb_formatted_code = \"# Pa\\u0161alimane \\u012fmones, kuri\\u0173 2021m. statusas ne\\u017einomas\\ndf_2020_2021 = df_2020_2021.dropna(subset=[\\\"stat_statusas_2021\\\"])\\ndf_2020_2021[\\\"stat_statusas_2021\\\"] = df_2020_2021[\\\"stat_statusas_2021\\\"].astype(np.int64)\";\n",
       "                var nbb_cells = Jupyter.notebook.get_cells();\n",
       "                for (var i = 0; i < nbb_cells.length; ++i) {\n",
       "                    if (nbb_cells[i].input_prompt_number == nbb_cell_id) {\n",
       "                        if (nbb_cells[i].get_text() == nbb_unformatted_code) {\n",
       "                             nbb_cells[i].set_text(nbb_formatted_code);\n",
       "                        }\n",
       "                        break;\n",
       "                    }\n",
       "                }\n",
       "            }, 500);\n",
       "            "
      ],
      "text/plain": [
       "<IPython.core.display.Javascript object>"
      ]
     },
     "metadata": {},
     "output_type": "display_data"
    }
   ],
   "source": [
    "# Pašalimane įmones, kurių 2021m. statusas nežinomas\n",
    "df_2020_2021 = df_2020_2021.dropna(subset=[\"stat_statusas_2021\"])\n",
    "df_2020_2021[\"stat_statusas_2021\"] = df_2020_2021[\"stat_statusas_2021\"].astype(np.int64)"
   ]
  },
  {
   "cell_type": "code",
   "execution_count": 71,
   "id": "b18606bf",
   "metadata": {
    "ExecuteTime": {
     "end_time": "2022-12-08T19:43:35.654912Z",
     "start_time": "2022-12-08T19:43:35.630312Z"
    },
    "hidden": true
   },
   "outputs": [
    {
     "data": {
      "text/html": [
       "<div>\n",
       "<style scoped>\n",
       "    .dataframe tbody tr th:only-of-type {\n",
       "        vertical-align: middle;\n",
       "    }\n",
       "\n",
       "    .dataframe tbody tr th {\n",
       "        vertical-align: top;\n",
       "    }\n",
       "\n",
       "    .dataframe thead th {\n",
       "        text-align: right;\n",
       "    }\n",
       "</style>\n",
       "<table border=\"1\" class=\"dataframe\">\n",
       "  <thead>\n",
       "    <tr style=\"text-align: right;\">\n",
       "      <th></th>\n",
       "      <th>obj_kodas</th>\n",
       "      <th>obj_pav</th>\n",
       "      <th>stat_statusas_2020</th>\n",
       "      <th>stat_pav_2020</th>\n",
       "      <th>stat_statusas_2021</th>\n",
       "      <th>stat_pav_2021</th>\n",
       "      <th>nuosavas_kapitalas</th>\n",
       "      <th>grynasis_pelnas</th>\n",
       "    </tr>\n",
       "  </thead>\n",
       "  <tbody>\n",
       "  </tbody>\n",
       "</table>\n",
       "</div>"
      ],
      "text/plain": [
       "Empty DataFrame\n",
       "Columns: [obj_kodas, obj_pav, stat_statusas_2020, stat_pav_2020, stat_statusas_2021, stat_pav_2021, nuosavas_kapitalas, grynasis_pelnas]\n",
       "Index: []"
      ]
     },
     "execution_count": 71,
     "metadata": {},
     "output_type": "execute_result"
    },
    {
     "data": {
      "application/javascript": [
       "\n",
       "            setTimeout(function() {\n",
       "                var nbb_cell_id = 71;\n",
       "                var nbb_unformatted_code = \"df_bankrutavusios = df_2020_2021[\\n    df_2020_2021[\\\"stat_statusas_2020\\\"] != df_2020_2021[\\\"stat_statusas_2021\\\"]\\n]\\ndf_bankrutavusios\";\n",
       "                var nbb_formatted_code = \"df_bankrutavusios = df_2020_2021[\\n    df_2020_2021[\\\"stat_statusas_2020\\\"] != df_2020_2021[\\\"stat_statusas_2021\\\"]\\n]\\ndf_bankrutavusios\";\n",
       "                var nbb_cells = Jupyter.notebook.get_cells();\n",
       "                for (var i = 0; i < nbb_cells.length; ++i) {\n",
       "                    if (nbb_cells[i].input_prompt_number == nbb_cell_id) {\n",
       "                        if (nbb_cells[i].get_text() == nbb_unformatted_code) {\n",
       "                             nbb_cells[i].set_text(nbb_formatted_code);\n",
       "                        }\n",
       "                        break;\n",
       "                    }\n",
       "                }\n",
       "            }, 500);\n",
       "            "
      ],
      "text/plain": [
       "<IPython.core.display.Javascript object>"
      ]
     },
     "metadata": {},
     "output_type": "display_data"
    }
   ],
   "source": [
    "df_bankrutavusios = df_2020_2021[\n",
    "    df_2020_2021[\"stat_statusas_2020\"] != df_2020_2021[\"stat_statusas_2021\"]\n",
    "]\n",
    "df_bankrutavusios"
   ]
  },
  {
   "cell_type": "markdown",
   "id": "c883e4fc",
   "metadata": {
    "hidden": true
   },
   "source": [
    "__Išvada__: Nėra 2020m veikusių, o 2021 bankrutavusių UAB ir MB įmonių"
   ]
  },
  {
   "cell_type": "code",
   "execution_count": 72,
   "id": "2614f54c",
   "metadata": {
    "ExecuteTime": {
     "end_time": "2022-12-08T19:43:35.685612Z",
     "start_time": "2022-12-08T19:43:35.660512Z"
    },
    "hidden": true
   },
   "outputs": [
    {
     "name": "stdout",
     "output_type": "stream",
     "text": [
      "Veikiančių MB ir UAB įmonių nuosavas kapitalas: 53,004,966,154\n",
      "Veikiančių MB ir UAB įmonių grynasis pelnas: 5,149,581,016\n"
     ]
    },
    {
     "data": {
      "application/javascript": [
       "\n",
       "            setTimeout(function() {\n",
       "                var nbb_cell_id = 72;\n",
       "                var nbb_unformatted_code = \"veikianciu_nuosavas_kapitalas = df_2020_2021[\\\"nuosavas_kapitalas\\\"].sum()\\nveikianciu_grynasis_pelnas = df_2020_2021[\\\"grynasis_pelnas\\\"].sum()\\nprint(\\n    f\\\"Veikian\\u010di\\u0173 MB ir UAB \\u012fmoni\\u0173 nuosavas kapitalas: {veikianciu_nuosavas_kapitalas:,.0f}\\\"\\n)\\nprint(f\\\"Veikian\\u010di\\u0173 MB ir UAB \\u012fmoni\\u0173 grynasis pelnas: {veikianciu_grynasis_pelnas:,.0f}\\\")\";\n",
       "                var nbb_formatted_code = \"veikianciu_nuosavas_kapitalas = df_2020_2021[\\\"nuosavas_kapitalas\\\"].sum()\\nveikianciu_grynasis_pelnas = df_2020_2021[\\\"grynasis_pelnas\\\"].sum()\\nprint(\\n    f\\\"Veikian\\u010di\\u0173 MB ir UAB \\u012fmoni\\u0173 nuosavas kapitalas: {veikianciu_nuosavas_kapitalas:,.0f}\\\"\\n)\\nprint(f\\\"Veikian\\u010di\\u0173 MB ir UAB \\u012fmoni\\u0173 grynasis pelnas: {veikianciu_grynasis_pelnas:,.0f}\\\")\";\n",
       "                var nbb_cells = Jupyter.notebook.get_cells();\n",
       "                for (var i = 0; i < nbb_cells.length; ++i) {\n",
       "                    if (nbb_cells[i].input_prompt_number == nbb_cell_id) {\n",
       "                        if (nbb_cells[i].get_text() == nbb_unformatted_code) {\n",
       "                             nbb_cells[i].set_text(nbb_formatted_code);\n",
       "                        }\n",
       "                        break;\n",
       "                    }\n",
       "                }\n",
       "            }, 500);\n",
       "            "
      ],
      "text/plain": [
       "<IPython.core.display.Javascript object>"
      ]
     },
     "metadata": {},
     "output_type": "display_data"
    }
   ],
   "source": [
    "veikianciu_nuosavas_kapitalas = df_2020_2021[\"nuosavas_kapitalas\"].sum()\n",
    "veikianciu_grynasis_pelnas = df_2020_2021[\"grynasis_pelnas\"].sum()\n",
    "print(\n",
    "    f\"Veikiančių MB ir UAB įmonių nuosavas kapitalas: {veikianciu_nuosavas_kapitalas:,.0f}\"\n",
    ")\n",
    "print(f\"Veikiančių MB ir UAB įmonių grynasis pelnas: {veikianciu_grynasis_pelnas:,.0f}\")"
   ]
  },
  {
   "cell_type": "markdown",
   "id": "88fa59fc",
   "metadata": {
    "ExecuteTime": {
     "end_time": "2022-12-07T15:38:41.265116Z",
     "start_time": "2022-12-07T15:38:41.265116Z"
    },
    "heading_collapsed": true,
    "hidden": true,
    "scrolled": true
   },
   "source": [
    "## 14. Sukurti naują stulpelį “turtas”, kuris skaičiuojamas sudedant “trumpalaikis_turtas” ir “ilgalaikis_turtas”"
   ]
  },
  {
   "cell_type": "code",
   "execution_count": 73,
   "id": "e4a0450e",
   "metadata": {
    "ExecuteTime": {
     "end_time": "2022-12-08T19:43:37.321906Z",
     "start_time": "2022-12-08T19:43:35.689217Z"
    },
    "hidden": true
   },
   "outputs": [
    {
     "data": {
      "text/html": [
       "<div>\n",
       "<style scoped>\n",
       "    .dataframe tbody tr th:only-of-type {\n",
       "        vertical-align: middle;\n",
       "    }\n",
       "\n",
       "    .dataframe tbody tr th {\n",
       "        vertical-align: top;\n",
       "    }\n",
       "\n",
       "    .dataframe thead th {\n",
       "        text-align: right;\n",
       "    }\n",
       "</style>\n",
       "<table border=\"1\" class=\"dataframe\">\n",
       "  <thead>\n",
       "    <tr style=\"text-align: right;\">\n",
       "      <th></th>\n",
       "      <th>obj_kodas</th>\n",
       "      <th>obj_pav</th>\n",
       "      <th>form_kodas</th>\n",
       "      <th>form_pav</th>\n",
       "      <th>stat_statusas</th>\n",
       "      <th>stat_pav</th>\n",
       "      <th>template_id</th>\n",
       "      <th>template_name</th>\n",
       "      <th>standard_id</th>\n",
       "      <th>standard_name</th>\n",
       "      <th>laikotarpis_nuo</th>\n",
       "      <th>laikotarpis_iki</th>\n",
       "      <th>reg_date</th>\n",
       "      <th>nuosavas_kapitalas</th>\n",
       "      <th>mok_sumos_ir_isipareigojimai</th>\n",
       "      <th>ilgalaikis_turtas</th>\n",
       "      <th>trumpalaikis_turtas</th>\n",
       "      <th>metai</th>\n",
       "      <th>turtas</th>\n",
       "    </tr>\n",
       "  </thead>\n",
       "  <tbody>\n",
       "    <tr>\n",
       "      <th>64382</th>\n",
       "      <td>305231793</td>\n",
       "      <td>UAB \"Stagelita\"</td>\n",
       "      <td>310</td>\n",
       "      <td>Uždaroji akcinė bendrovė</td>\n",
       "      <td>0</td>\n",
       "      <td>Teisinis stat neįregistruotas</td>\n",
       "      <td>FS0129</td>\n",
       "      <td>Mažų ir labai mažų įmonių, netaikančių išimčių...</td>\n",
       "      <td>BST124</td>\n",
       "      <td>BALANSAS (Sutrumpintas)</td>\n",
       "      <td>2019-08-21</td>\n",
       "      <td>2019-12-31</td>\n",
       "      <td>2020-04-09</td>\n",
       "      <td>1173.0</td>\n",
       "      <td>67791.0</td>\n",
       "      <td>67205.0</td>\n",
       "      <td>1759.0</td>\n",
       "      <td>2020</td>\n",
       "      <td>68964.0</td>\n",
       "    </tr>\n",
       "    <tr>\n",
       "      <th>18175</th>\n",
       "      <td>304929635</td>\n",
       "      <td>VšĮ \"Bilietų nėra\"</td>\n",
       "      <td>570</td>\n",
       "      <td>Viešoji įstaiga</td>\n",
       "      <td>0</td>\n",
       "      <td>Teisinis stat neįregistruotas</td>\n",
       "      <td>FS0323</td>\n",
       "      <td>Pelno nesiekiančių JA finansinių ataskaitų rin...</td>\n",
       "      <td>BST216</td>\n",
       "      <td>FINANSINĖS BŪKLĖS ATASKAITA</td>\n",
       "      <td>2019-01-01</td>\n",
       "      <td>2019-12-31</td>\n",
       "      <td>2020-04-07</td>\n",
       "      <td>10.0</td>\n",
       "      <td>0.0</td>\n",
       "      <td>0.0</td>\n",
       "      <td>48.0</td>\n",
       "      <td>2020</td>\n",
       "      <td>48.0</td>\n",
       "    </tr>\n",
       "    <tr>\n",
       "      <th>37280</th>\n",
       "      <td>148417976</td>\n",
       "      <td>UAB \"Programmatus\"</td>\n",
       "      <td>310</td>\n",
       "      <td>Uždaroji akcinė bendrovė</td>\n",
       "      <td>0</td>\n",
       "      <td>Teisinis stat neįregistruotas</td>\n",
       "      <td>FS0129</td>\n",
       "      <td>Mažų ir labai mažų įmonių, netaikančių išimčių...</td>\n",
       "      <td>BST124</td>\n",
       "      <td>BALANSAS (Sutrumpintas)</td>\n",
       "      <td>2019-01-01</td>\n",
       "      <td>2019-12-31</td>\n",
       "      <td>2020-06-01</td>\n",
       "      <td>33382.0</td>\n",
       "      <td>88728.0</td>\n",
       "      <td>4391.0</td>\n",
       "      <td>117324.0</td>\n",
       "      <td>2020</td>\n",
       "      <td>121715.0</td>\n",
       "    </tr>\n",
       "    <tr>\n",
       "      <th>61367</th>\n",
       "      <td>304607260</td>\n",
       "      <td>UAB \"Transgoldas\"</td>\n",
       "      <td>310</td>\n",
       "      <td>Uždaroji akcinė bendrovė</td>\n",
       "      <td>0</td>\n",
       "      <td>Teisinis stat neįregistruotas</td>\n",
       "      <td>FS0129</td>\n",
       "      <td>Mažų ir labai mažų įmonių, netaikančių išimčių...</td>\n",
       "      <td>BST124</td>\n",
       "      <td>BALANSAS (Sutrumpintas)</td>\n",
       "      <td>2019-01-01</td>\n",
       "      <td>2019-12-31</td>\n",
       "      <td>2020-05-29</td>\n",
       "      <td>-6293.0</td>\n",
       "      <td>6440.0</td>\n",
       "      <td>144.0</td>\n",
       "      <td>3.0</td>\n",
       "      <td>2020</td>\n",
       "      <td>147.0</td>\n",
       "    </tr>\n",
       "    <tr>\n",
       "      <th>67533</th>\n",
       "      <td>303550397</td>\n",
       "      <td>UAB \"Smilgius\"</td>\n",
       "      <td>310</td>\n",
       "      <td>Uždaroji akcinė bendrovė</td>\n",
       "      <td>0</td>\n",
       "      <td>Teisinis stat neįregistruotas</td>\n",
       "      <td>FS0128</td>\n",
       "      <td>Labai mažų įmonių, taikančių išimtis, finansin...</td>\n",
       "      <td>BST122</td>\n",
       "      <td>BALANSAS (Trumpas)</td>\n",
       "      <td>2019-01-01</td>\n",
       "      <td>2019-12-31</td>\n",
       "      <td>2020-05-28</td>\n",
       "      <td>61578.0</td>\n",
       "      <td>67331.0</td>\n",
       "      <td>7618.0</td>\n",
       "      <td>120516.0</td>\n",
       "      <td>2020</td>\n",
       "      <td>128134.0</td>\n",
       "    </tr>\n",
       "  </tbody>\n",
       "</table>\n",
       "</div>"
      ],
      "text/plain": [
       "       obj_kodas             obj_pav  form_kodas                  form_pav  \\\n",
       "64382  305231793     UAB \"Stagelita\"         310  Uždaroji akcinė bendrovė   \n",
       "18175  304929635  VšĮ \"Bilietų nėra\"         570           Viešoji įstaiga   \n",
       "37280  148417976  UAB \"Programmatus\"         310  Uždaroji akcinė bendrovė   \n",
       "61367  304607260   UAB \"Transgoldas\"         310  Uždaroji akcinė bendrovė   \n",
       "67533  303550397      UAB \"Smilgius\"         310  Uždaroji akcinė bendrovė   \n",
       "\n",
       "       stat_statusas                       stat_pav template_id  \\\n",
       "64382              0  Teisinis stat neįregistruotas      FS0129   \n",
       "18175              0  Teisinis stat neįregistruotas      FS0323   \n",
       "37280              0  Teisinis stat neįregistruotas      FS0129   \n",
       "61367              0  Teisinis stat neįregistruotas      FS0129   \n",
       "67533              0  Teisinis stat neįregistruotas      FS0128   \n",
       "\n",
       "                                           template_name standard_id  \\\n",
       "64382  Mažų ir labai mažų įmonių, netaikančių išimčių...      BST124   \n",
       "18175  Pelno nesiekiančių JA finansinių ataskaitų rin...      BST216   \n",
       "37280  Mažų ir labai mažų įmonių, netaikančių išimčių...      BST124   \n",
       "61367  Mažų ir labai mažų įmonių, netaikančių išimčių...      BST124   \n",
       "67533  Labai mažų įmonių, taikančių išimtis, finansin...      BST122   \n",
       "\n",
       "                     standard_name laikotarpis_nuo laikotarpis_iki   reg_date  \\\n",
       "64382      BALANSAS (Sutrumpintas)      2019-08-21      2019-12-31 2020-04-09   \n",
       "18175  FINANSINĖS BŪKLĖS ATASKAITA      2019-01-01      2019-12-31 2020-04-07   \n",
       "37280      BALANSAS (Sutrumpintas)      2019-01-01      2019-12-31 2020-06-01   \n",
       "61367      BALANSAS (Sutrumpintas)      2019-01-01      2019-12-31 2020-05-29   \n",
       "67533           BALANSAS (Trumpas)      2019-01-01      2019-12-31 2020-05-28   \n",
       "\n",
       "       nuosavas_kapitalas  mok_sumos_ir_isipareigojimai  ilgalaikis_turtas  \\\n",
       "64382              1173.0                       67791.0            67205.0   \n",
       "18175                10.0                           0.0                0.0   \n",
       "37280             33382.0                       88728.0             4391.0   \n",
       "61367             -6293.0                        6440.0              144.0   \n",
       "67533             61578.0                       67331.0             7618.0   \n",
       "\n",
       "       trumpalaikis_turtas  metai    turtas  \n",
       "64382               1759.0   2020   68964.0  \n",
       "18175                 48.0   2020      48.0  \n",
       "37280             117324.0   2020  121715.0  \n",
       "61367                  3.0   2020     147.0  \n",
       "67533             120516.0   2020  128134.0  "
      ]
     },
     "execution_count": 73,
     "metadata": {},
     "output_type": "execute_result"
    },
    {
     "data": {
      "application/javascript": [
       "\n",
       "            setTimeout(function() {\n",
       "                var nbb_cell_id = 73;\n",
       "                var nbb_unformatted_code = \"df_BLNS_2020[\\\"turtas\\\"] = df_BLNS_2020.apply(\\n    lambda x: x[\\\"trumpalaikis_turtas\\\"] + x[\\\"ilgalaikis_turtas\\\"], axis=1\\n)\\ndf_BLNS_2020.sample(5)\";\n",
       "                var nbb_formatted_code = \"df_BLNS_2020[\\\"turtas\\\"] = df_BLNS_2020.apply(\\n    lambda x: x[\\\"trumpalaikis_turtas\\\"] + x[\\\"ilgalaikis_turtas\\\"], axis=1\\n)\\ndf_BLNS_2020.sample(5)\";\n",
       "                var nbb_cells = Jupyter.notebook.get_cells();\n",
       "                for (var i = 0; i < nbb_cells.length; ++i) {\n",
       "                    if (nbb_cells[i].input_prompt_number == nbb_cell_id) {\n",
       "                        if (nbb_cells[i].get_text() == nbb_unformatted_code) {\n",
       "                             nbb_cells[i].set_text(nbb_formatted_code);\n",
       "                        }\n",
       "                        break;\n",
       "                    }\n",
       "                }\n",
       "            }, 500);\n",
       "            "
      ],
      "text/plain": [
       "<IPython.core.display.Javascript object>"
      ]
     },
     "metadata": {},
     "output_type": "display_data"
    }
   ],
   "source": [
    "df_BLNS_2020[\"turtas\"] = df_BLNS_2020.apply(\n",
    "    lambda x: x[\"trumpalaikis_turtas\"] + x[\"ilgalaikis_turtas\"], axis=1\n",
    ")\n",
    "df_BLNS_2020.sample(5)"
   ]
  },
  {
   "cell_type": "code",
   "execution_count": 74,
   "id": "066833af",
   "metadata": {
    "ExecuteTime": {
     "end_time": "2022-12-08T19:43:37.368305Z",
     "start_time": "2022-12-08T19:43:37.326928Z"
    },
    "hidden": true
   },
   "outputs": [
    {
     "data": {
      "text/plain": [
       "turto_grupe\n",
       "70k+           41488\n",
       "3k-20k         21613\n",
       "iki 3k         21128\n",
       "35k-70k        11599\n",
       "20k-35k         9051\n",
       "dtype: int64"
      ]
     },
     "execution_count": 74,
     "metadata": {},
     "output_type": "execute_result"
    },
    {
     "data": {
      "application/javascript": [
       "\n",
       "            setTimeout(function() {\n",
       "                var nbb_cell_id = 74;\n",
       "                var nbb_unformatted_code = \"bins = [-np.infty, 3_000, 20_000, 35_000, 70_000, np.infty]\\nbins_labels = [\\\"iki 3k\\\", \\\"3k-20k\\\", \\\"20k-35k\\\", \\\"35k-70k\\\", \\\"70k+\\\"]\\ndf_BLNS_2020[\\\"turto_grupe\\\"] = pd.cut(\\n    df_BLNS_2020[\\\"turtas\\\"], bins=bins, labels=bins_labels\\n)\\ndf_turtas_2020 = df_BLNS_2020[[\\\"turto_grupe\\\"]].value_counts()\\ndf_turtas_2020\";\n",
       "                var nbb_formatted_code = \"bins = [-np.infty, 3_000, 20_000, 35_000, 70_000, np.infty]\\nbins_labels = [\\\"iki 3k\\\", \\\"3k-20k\\\", \\\"20k-35k\\\", \\\"35k-70k\\\", \\\"70k+\\\"]\\ndf_BLNS_2020[\\\"turto_grupe\\\"] = pd.cut(\\n    df_BLNS_2020[\\\"turtas\\\"], bins=bins, labels=bins_labels\\n)\\ndf_turtas_2020 = df_BLNS_2020[[\\\"turto_grupe\\\"]].value_counts()\\ndf_turtas_2020\";\n",
       "                var nbb_cells = Jupyter.notebook.get_cells();\n",
       "                for (var i = 0; i < nbb_cells.length; ++i) {\n",
       "                    if (nbb_cells[i].input_prompt_number == nbb_cell_id) {\n",
       "                        if (nbb_cells[i].get_text() == nbb_unformatted_code) {\n",
       "                             nbb_cells[i].set_text(nbb_formatted_code);\n",
       "                        }\n",
       "                        break;\n",
       "                    }\n",
       "                }\n",
       "            }, 500);\n",
       "            "
      ],
      "text/plain": [
       "<IPython.core.display.Javascript object>"
      ]
     },
     "metadata": {},
     "output_type": "display_data"
    }
   ],
   "source": [
    "bins = [-np.infty, 3_000, 20_000, 35_000, 70_000, np.infty]\n",
    "bins_labels = [\"iki 3k\", \"3k-20k\", \"20k-35k\", \"35k-70k\", \"70k+\"]\n",
    "df_BLNS_2020[\"turto_grupe\"] = pd.cut(\n",
    "    df_BLNS_2020[\"turtas\"], bins=bins, labels=bins_labels\n",
    ")\n",
    "df_turtas_2020 = df_BLNS_2020[[\"turto_grupe\"]].value_counts()\n",
    "df_turtas_2020"
   ]
  },
  {
   "cell_type": "code",
   "execution_count": 75,
   "id": "3d6495a6",
   "metadata": {
    "ExecuteTime": {
     "end_time": "2022-12-08T19:43:38.989423Z",
     "start_time": "2022-12-08T19:43:37.372322Z"
    },
    "hidden": true
   },
   "outputs": [
    {
     "data": {
      "text/html": [
       "<div>\n",
       "<style scoped>\n",
       "    .dataframe tbody tr th:only-of-type {\n",
       "        vertical-align: middle;\n",
       "    }\n",
       "\n",
       "    .dataframe tbody tr th {\n",
       "        vertical-align: top;\n",
       "    }\n",
       "\n",
       "    .dataframe thead th {\n",
       "        text-align: right;\n",
       "    }\n",
       "</style>\n",
       "<table border=\"1\" class=\"dataframe\">\n",
       "  <thead>\n",
       "    <tr style=\"text-align: right;\">\n",
       "      <th></th>\n",
       "      <th>obj_kodas</th>\n",
       "      <th>obj_pav</th>\n",
       "      <th>form_kodas</th>\n",
       "      <th>form_pav</th>\n",
       "      <th>stat_statusas</th>\n",
       "      <th>stat_pav</th>\n",
       "      <th>template_id</th>\n",
       "      <th>template_name</th>\n",
       "      <th>standard_id</th>\n",
       "      <th>standard_name</th>\n",
       "      <th>laikotarpis_nuo</th>\n",
       "      <th>laikotarpis_iki</th>\n",
       "      <th>reg_date</th>\n",
       "      <th>nuosavas_kapitalas</th>\n",
       "      <th>mok_sumos_ir_isipareigojimai</th>\n",
       "      <th>ilgalaikis_turtas</th>\n",
       "      <th>trumpalaikis_turtas</th>\n",
       "      <th>metai</th>\n",
       "      <th>turtas</th>\n",
       "    </tr>\n",
       "  </thead>\n",
       "  <tbody>\n",
       "    <tr>\n",
       "      <th>80229</th>\n",
       "      <td>300539463</td>\n",
       "      <td>UAB \"Dentmeda\"</td>\n",
       "      <td>310</td>\n",
       "      <td>Uždaroji akcinė bendrovė</td>\n",
       "      <td>0</td>\n",
       "      <td>Teisinis stat neįregistruotas</td>\n",
       "      <td>FS0128</td>\n",
       "      <td>Labai mažų įmonių, taikančių išimtis, finansin...</td>\n",
       "      <td>BST122</td>\n",
       "      <td>BALANSAS (Trumpas)</td>\n",
       "      <td>2020-01-01</td>\n",
       "      <td>2020-12-31</td>\n",
       "      <td>2021-04-06</td>\n",
       "      <td>154101.0</td>\n",
       "      <td>30166.0</td>\n",
       "      <td>104486.0</td>\n",
       "      <td>79098.0</td>\n",
       "      <td>2021</td>\n",
       "      <td>183584.0</td>\n",
       "    </tr>\n",
       "    <tr>\n",
       "      <th>79289</th>\n",
       "      <td>177406566</td>\n",
       "      <td>Uždaroji akcinė bendrovė \"ELDENĖ\"</td>\n",
       "      <td>310</td>\n",
       "      <td>Uždaroji akcinė bendrovė</td>\n",
       "      <td>0</td>\n",
       "      <td>Teisinis stat neįregistruotas</td>\n",
       "      <td>FS0129</td>\n",
       "      <td>Mažų ir labai mažų įmonių, netaikančių išimčių...</td>\n",
       "      <td>BST124</td>\n",
       "      <td>BALANSAS (Sutrumpintas)</td>\n",
       "      <td>2020-01-01</td>\n",
       "      <td>2020-12-31</td>\n",
       "      <td>2021-05-25</td>\n",
       "      <td>-106124.0</td>\n",
       "      <td>231292.0</td>\n",
       "      <td>44550.0</td>\n",
       "      <td>87873.0</td>\n",
       "      <td>2021</td>\n",
       "      <td>132423.0</td>\n",
       "    </tr>\n",
       "    <tr>\n",
       "      <th>89235</th>\n",
       "      <td>303157351</td>\n",
       "      <td>Melioracijos sistemų naudotojų asociacija \"Paš...</td>\n",
       "      <td>630</td>\n",
       "      <td>Asociacija</td>\n",
       "      <td>0</td>\n",
       "      <td>Teisinis stat neįregistruotas</td>\n",
       "      <td>FS0323</td>\n",
       "      <td>Pelno nesiekiančių JA finansinių ataskaitų rin...</td>\n",
       "      <td>BST216</td>\n",
       "      <td>FINANSINĖS BŪKLĖS ATASKAITA</td>\n",
       "      <td>2020-01-01</td>\n",
       "      <td>2020-12-31</td>\n",
       "      <td>2021-07-22</td>\n",
       "      <td>0.0</td>\n",
       "      <td>0.0</td>\n",
       "      <td>205238.0</td>\n",
       "      <td>89.0</td>\n",
       "      <td>2021</td>\n",
       "      <td>205327.0</td>\n",
       "    </tr>\n",
       "    <tr>\n",
       "      <th>17705</th>\n",
       "      <td>304771459</td>\n",
       "      <td>Klaipėdos Tarptautinis Rotaract klubas</td>\n",
       "      <td>630</td>\n",
       "      <td>Asociacija</td>\n",
       "      <td>0</td>\n",
       "      <td>Teisinis stat neįregistruotas</td>\n",
       "      <td>FS0323</td>\n",
       "      <td>Pelno nesiekiančių JA finansinių ataskaitų rin...</td>\n",
       "      <td>BST216</td>\n",
       "      <td>FINANSINĖS BŪKLĖS ATASKAITA</td>\n",
       "      <td>2019-01-01</td>\n",
       "      <td>2019-12-31</td>\n",
       "      <td>2021-04-15</td>\n",
       "      <td>0.0</td>\n",
       "      <td>0.0</td>\n",
       "      <td>0.0</td>\n",
       "      <td>2233.0</td>\n",
       "      <td>2021</td>\n",
       "      <td>2233.0</td>\n",
       "    </tr>\n",
       "    <tr>\n",
       "      <th>51254</th>\n",
       "      <td>300008249</td>\n",
       "      <td>UAB \"GA PROJEKTAI\"</td>\n",
       "      <td>310</td>\n",
       "      <td>Uždaroji akcinė bendrovė</td>\n",
       "      <td>0</td>\n",
       "      <td>Teisinis stat neįregistruotas</td>\n",
       "      <td>FS0128</td>\n",
       "      <td>Labai mažų įmonių, taikančių išimtis, finansin...</td>\n",
       "      <td>BST122</td>\n",
       "      <td>BALANSAS (Trumpas)</td>\n",
       "      <td>2019-01-01</td>\n",
       "      <td>2019-12-31</td>\n",
       "      <td>2021-07-28</td>\n",
       "      <td>49787.0</td>\n",
       "      <td>55543.0</td>\n",
       "      <td>33805.0</td>\n",
       "      <td>70204.0</td>\n",
       "      <td>2021</td>\n",
       "      <td>104009.0</td>\n",
       "    </tr>\n",
       "  </tbody>\n",
       "</table>\n",
       "</div>"
      ],
      "text/plain": [
       "       obj_kodas                                            obj_pav  \\\n",
       "80229  300539463                                     UAB \"Dentmeda\"   \n",
       "79289  177406566                  Uždaroji akcinė bendrovė \"ELDENĖ\"   \n",
       "89235  303157351  Melioracijos sistemų naudotojų asociacija \"Paš...   \n",
       "17705  304771459             Klaipėdos Tarptautinis Rotaract klubas   \n",
       "51254  300008249                                 UAB \"GA PROJEKTAI\"   \n",
       "\n",
       "       form_kodas                  form_pav  stat_statusas  \\\n",
       "80229         310  Uždaroji akcinė bendrovė              0   \n",
       "79289         310  Uždaroji akcinė bendrovė              0   \n",
       "89235         630                Asociacija              0   \n",
       "17705         630                Asociacija              0   \n",
       "51254         310  Uždaroji akcinė bendrovė              0   \n",
       "\n",
       "                            stat_pav template_id  \\\n",
       "80229  Teisinis stat neįregistruotas      FS0128   \n",
       "79289  Teisinis stat neįregistruotas      FS0129   \n",
       "89235  Teisinis stat neįregistruotas      FS0323   \n",
       "17705  Teisinis stat neįregistruotas      FS0323   \n",
       "51254  Teisinis stat neįregistruotas      FS0128   \n",
       "\n",
       "                                           template_name standard_id  \\\n",
       "80229  Labai mažų įmonių, taikančių išimtis, finansin...      BST122   \n",
       "79289  Mažų ir labai mažų įmonių, netaikančių išimčių...      BST124   \n",
       "89235  Pelno nesiekiančių JA finansinių ataskaitų rin...      BST216   \n",
       "17705  Pelno nesiekiančių JA finansinių ataskaitų rin...      BST216   \n",
       "51254  Labai mažų įmonių, taikančių išimtis, finansin...      BST122   \n",
       "\n",
       "                     standard_name laikotarpis_nuo laikotarpis_iki   reg_date  \\\n",
       "80229           BALANSAS (Trumpas)      2020-01-01      2020-12-31 2021-04-06   \n",
       "79289      BALANSAS (Sutrumpintas)      2020-01-01      2020-12-31 2021-05-25   \n",
       "89235  FINANSINĖS BŪKLĖS ATASKAITA      2020-01-01      2020-12-31 2021-07-22   \n",
       "17705  FINANSINĖS BŪKLĖS ATASKAITA      2019-01-01      2019-12-31 2021-04-15   \n",
       "51254           BALANSAS (Trumpas)      2019-01-01      2019-12-31 2021-07-28   \n",
       "\n",
       "       nuosavas_kapitalas  mok_sumos_ir_isipareigojimai  ilgalaikis_turtas  \\\n",
       "80229            154101.0                       30166.0           104486.0   \n",
       "79289           -106124.0                      231292.0            44550.0   \n",
       "89235                 0.0                           0.0           205238.0   \n",
       "17705                 0.0                           0.0                0.0   \n",
       "51254             49787.0                       55543.0            33805.0   \n",
       "\n",
       "       trumpalaikis_turtas  metai    turtas  \n",
       "80229              79098.0   2021  183584.0  \n",
       "79289              87873.0   2021  132423.0  \n",
       "89235                 89.0   2021  205327.0  \n",
       "17705               2233.0   2021    2233.0  \n",
       "51254              70204.0   2021  104009.0  "
      ]
     },
     "execution_count": 75,
     "metadata": {},
     "output_type": "execute_result"
    },
    {
     "data": {
      "application/javascript": [
       "\n",
       "            setTimeout(function() {\n",
       "                var nbb_cell_id = 75;\n",
       "                var nbb_unformatted_code = \"df_BLNS_2021[\\\"turtas\\\"] = df_BLNS_2021.apply(\\n    lambda x: x[\\\"trumpalaikis_turtas\\\"] + x[\\\"ilgalaikis_turtas\\\"], axis=1\\n)\\ndf_BLNS_2021.sample(5)\";\n",
       "                var nbb_formatted_code = \"df_BLNS_2021[\\\"turtas\\\"] = df_BLNS_2021.apply(\\n    lambda x: x[\\\"trumpalaikis_turtas\\\"] + x[\\\"ilgalaikis_turtas\\\"], axis=1\\n)\\ndf_BLNS_2021.sample(5)\";\n",
       "                var nbb_cells = Jupyter.notebook.get_cells();\n",
       "                for (var i = 0; i < nbb_cells.length; ++i) {\n",
       "                    if (nbb_cells[i].input_prompt_number == nbb_cell_id) {\n",
       "                        if (nbb_cells[i].get_text() == nbb_unformatted_code) {\n",
       "                             nbb_cells[i].set_text(nbb_formatted_code);\n",
       "                        }\n",
       "                        break;\n",
       "                    }\n",
       "                }\n",
       "            }, 500);\n",
       "            "
      ],
      "text/plain": [
       "<IPython.core.display.Javascript object>"
      ]
     },
     "metadata": {},
     "output_type": "display_data"
    }
   ],
   "source": [
    "df_BLNS_2021[\"turtas\"] = df_BLNS_2021.apply(\n",
    "    lambda x: x[\"trumpalaikis_turtas\"] + x[\"ilgalaikis_turtas\"], axis=1\n",
    ")\n",
    "df_BLNS_2021.sample(5)"
   ]
  },
  {
   "cell_type": "code",
   "execution_count": 76,
   "id": "af1a887f",
   "metadata": {
    "ExecuteTime": {
     "end_time": "2022-12-08T19:43:39.035465Z",
     "start_time": "2022-12-08T19:43:38.995372Z"
    },
    "hidden": true
   },
   "outputs": [
    {
     "data": {
      "text/plain": [
       "turto_grupe\n",
       "70k+           46274\n",
       "3k-20k         24735\n",
       "iki 3k         24517\n",
       "35k-70k        13087\n",
       "20k-35k        10279\n",
       "dtype: int64"
      ]
     },
     "execution_count": 76,
     "metadata": {},
     "output_type": "execute_result"
    },
    {
     "data": {
      "application/javascript": [
       "\n",
       "            setTimeout(function() {\n",
       "                var nbb_cell_id = 76;\n",
       "                var nbb_unformatted_code = \"df_BLNS_2021[\\\"turto_grupe\\\"] = pd.cut(\\n    df_BLNS_2021[\\\"turtas\\\"], bins=bins, labels=bins_labels\\n)\\ndf_turtas_2021 = df_BLNS_2021[[\\\"turto_grupe\\\"]].value_counts()\\ndf_turtas_2021\";\n",
       "                var nbb_formatted_code = \"df_BLNS_2021[\\\"turto_grupe\\\"] = pd.cut(\\n    df_BLNS_2021[\\\"turtas\\\"], bins=bins, labels=bins_labels\\n)\\ndf_turtas_2021 = df_BLNS_2021[[\\\"turto_grupe\\\"]].value_counts()\\ndf_turtas_2021\";\n",
       "                var nbb_cells = Jupyter.notebook.get_cells();\n",
       "                for (var i = 0; i < nbb_cells.length; ++i) {\n",
       "                    if (nbb_cells[i].input_prompt_number == nbb_cell_id) {\n",
       "                        if (nbb_cells[i].get_text() == nbb_unformatted_code) {\n",
       "                             nbb_cells[i].set_text(nbb_formatted_code);\n",
       "                        }\n",
       "                        break;\n",
       "                    }\n",
       "                }\n",
       "            }, 500);\n",
       "            "
      ],
      "text/plain": [
       "<IPython.core.display.Javascript object>"
      ]
     },
     "metadata": {},
     "output_type": "display_data"
    }
   ],
   "source": [
    "df_BLNS_2021[\"turto_grupe\"] = pd.cut(\n",
    "    df_BLNS_2021[\"turtas\"], bins=bins, labels=bins_labels\n",
    ")\n",
    "df_turtas_2021 = df_BLNS_2021[[\"turto_grupe\"]].value_counts()\n",
    "df_turtas_2021"
   ]
  },
  {
   "cell_type": "code",
   "execution_count": 77,
   "id": "a331e14f",
   "metadata": {
    "ExecuteTime": {
     "end_time": "2022-12-08T19:43:39.347481Z",
     "start_time": "2022-12-08T19:43:39.039020Z"
    },
    "hidden": true
   },
   "outputs": [
    {
     "data": {
      "image/png": "[encoded data removed]",
      "text/plain": [
       "<Figure size 1000x500 with 2 Axes>"
      ]
     },
     "metadata": {},
     "output_type": "display_data"
    },
    {
     "data": {
      "application/javascript": [
       "\n",
       "            setTimeout(function() {\n",
       "                var nbb_cell_id = 77;\n",
       "                var nbb_unformatted_code = \"viso = df_turtas_2020.sum()\\n\\n\\ndef proc_and_absolute_value(x):\\n    proc = x\\n    val = x * viso / 100\\n    return f\\\"{proc:.1f}%\\\\n({val:,.0f})\\\"\\n\\n\\nfig, ax = plt.subplots(1, 2, figsize=(10, 5))\\n\\nlabels_2020 = [x[0] for x in df_turtas_2020.index]\\nlabels_2021 = [x[0] for x in df_turtas_2021.index]\\n\\nax[0].pie(df_turtas_2020, labels=labels_2020, autopct=proc_and_absolute_value)\\nax[0].set_title(\\\"2020 metais\\\")\\n\\nax[1] = df_turtas_2021.plot(\\n    y=\\\"turto_grupe\\\",\\n    kind=\\\"pie\\\",\\n    labels=labels_2021,\\n    title=\\\"2021 metais\\\",\\n    ylabel=\\\"\\\",\\n    autopct=proc_and_absolute_value,\\n)\";\n",
       "                var nbb_formatted_code = \"viso = df_turtas_2020.sum()\\n\\n\\ndef proc_and_absolute_value(x):\\n    proc = x\\n    val = x * viso / 100\\n    return f\\\"{proc:.1f}%\\\\n({val:,.0f})\\\"\\n\\n\\nfig, ax = plt.subplots(1, 2, figsize=(10, 5))\\n\\nlabels_2020 = [x[0] for x in df_turtas_2020.index]\\nlabels_2021 = [x[0] for x in df_turtas_2021.index]\\n\\nax[0].pie(df_turtas_2020, labels=labels_2020, autopct=proc_and_absolute_value)\\nax[0].set_title(\\\"2020 metais\\\")\\n\\nax[1] = df_turtas_2021.plot(\\n    y=\\\"turto_grupe\\\",\\n    kind=\\\"pie\\\",\\n    labels=labels_2021,\\n    title=\\\"2021 metais\\\",\\n    ylabel=\\\"\\\",\\n    autopct=proc_and_absolute_value,\\n)\";\n",
       "                var nbb_cells = Jupyter.notebook.get_cells();\n",
       "                for (var i = 0; i < nbb_cells.length; ++i) {\n",
       "                    if (nbb_cells[i].input_prompt_number == nbb_cell_id) {\n",
       "                        if (nbb_cells[i].get_text() == nbb_unformatted_code) {\n",
       "                             nbb_cells[i].set_text(nbb_formatted_code);\n",
       "                        }\n",
       "                        break;\n",
       "                    }\n",
       "                }\n",
       "            }, 500);\n",
       "            "
      ],
      "text/plain": [
       "<IPython.core.display.Javascript object>"
      ]
     },
     "metadata": {},
     "output_type": "display_data"
    }
   ],
   "source": [
    "viso = df_turtas_2020.sum()\n",
    "\n",
    "\n",
    "def proc_and_absolute_value(x):\n",
    "    proc = x\n",
    "    val = x * viso / 100\n",
    "    return f\"{proc:.1f}%\\n({val:,.0f})\"\n",
    "\n",
    "\n",
    "fig, ax = plt.subplots(1, 2, figsize=(10, 5))\n",
    "\n",
    "labels_2020 = [x[0] for x in df_turtas_2020.index]\n",
    "labels_2021 = [x[0] for x in df_turtas_2021.index]\n",
    "\n",
    "ax[0].pie(df_turtas_2020, labels=labels_2020, autopct=proc_and_absolute_value)\n",
    "ax[0].set_title(\"2020 metais\")\n",
    "\n",
    "ax[1] = df_turtas_2021.plot(\n",
    "    y=\"turto_grupe\",\n",
    "    kind=\"pie\",\n",
    "    labels=labels_2021,\n",
    "    title=\"2021 metais\",\n",
    "    ylabel=\"\",\n",
    "    autopct=proc_and_absolute_value,\n",
    ")"
   ]
  },
  {
   "cell_type": "markdown",
   "id": "c86a6204",
   "metadata": {
    "ExecuteTime": {
     "end_time": "2022-12-07T15:38:41.273119Z",
     "start_time": "2022-12-07T15:38:41.273119Z"
    },
    "heading_collapsed": true,
    "hidden": true
   },
   "source": [
    "## 15. Rasti TOP-100 pelningiausių įmonių pagal “grynasis pelnas” ir TOP-100 įmonių, kurių “nuosavas kapitalas” didžiausias. Ar yra sutampančių įmonių šiuose sąrašuose? Skaičiuojant TOP įmonės įtraukti viso laikotarpio įmones (naudoti 2020 ir 2021 metų duomenis kartu)."
   ]
  },
  {
   "cell_type": "code",
   "execution_count": 78,
   "id": "03059da9",
   "metadata": {
    "ExecuteTime": {
     "end_time": "2022-12-08T19:43:39.783274Z",
     "start_time": "2022-12-08T19:43:39.351003Z"
    },
    "hidden": true
   },
   "outputs": [
    {
     "data": {
      "text/html": [
       "<div>\n",
       "<style scoped>\n",
       "    .dataframe tbody tr th:only-of-type {\n",
       "        vertical-align: middle;\n",
       "    }\n",
       "\n",
       "    .dataframe tbody tr th {\n",
       "        vertical-align: top;\n",
       "    }\n",
       "\n",
       "    .dataframe thead th {\n",
       "        text-align: right;\n",
       "    }\n",
       "</style>\n",
       "<table border=\"1\" class=\"dataframe\">\n",
       "  <thead>\n",
       "    <tr style=\"text-align: right;\">\n",
       "      <th></th>\n",
       "      <th>nuosavas_kapitalas</th>\n",
       "    </tr>\n",
       "    <tr>\n",
       "      <th>obj_pav</th>\n",
       "      <th></th>\n",
       "    </tr>\n",
       "  </thead>\n",
       "  <tbody>\n",
       "    <tr>\n",
       "      <th>Valstybės įmonė Lietuvos automobilių kelių direkcija</th>\n",
       "      <td>2.693140e+09</td>\n",
       "    </tr>\n",
       "    <tr>\n",
       "      <th>UAB \"Thermo Fisher Scientific Vector Holdings\"</th>\n",
       "      <td>2.619317e+09</td>\n",
       "    </tr>\n",
       "    <tr>\n",
       "      <th>UAB \"Thermo Fisher Scientific Vector Senior Holdings I\"</th>\n",
       "      <td>2.619317e+09</td>\n",
       "    </tr>\n",
       "    <tr>\n",
       "      <th>Uždaroji akcinė bendrovė \"Vilniaus prekyba\"</th>\n",
       "      <td>1.804312e+09</td>\n",
       "    </tr>\n",
       "    <tr>\n",
       "      <th>UAB \"Thermo Fisher Scientific Vector Senior Holdings II\"</th>\n",
       "      <td>1.590589e+09</td>\n",
       "    </tr>\n",
       "    <tr>\n",
       "      <th>...</th>\n",
       "      <td>...</td>\n",
       "    </tr>\n",
       "    <tr>\n",
       "      <th>Circle K Lietuva UAB</th>\n",
       "      <td>7.745149e+07</td>\n",
       "    </tr>\n",
       "    <tr>\n",
       "      <th>Akcinė bendrovė \"KLAIPĖDOS MEDIENA\"</th>\n",
       "      <td>7.495343e+07</td>\n",
       "    </tr>\n",
       "    <tr>\n",
       "      <th>UAB \"CGP Management\"</th>\n",
       "      <td>7.482410e+07</td>\n",
       "    </tr>\n",
       "    <tr>\n",
       "      <th>UAB \"Trust Capital\"</th>\n",
       "      <td>7.464350e+07</td>\n",
       "    </tr>\n",
       "    <tr>\n",
       "      <th>UAB SBA Grupė</th>\n",
       "      <td>7.366750e+07</td>\n",
       "    </tr>\n",
       "  </tbody>\n",
       "</table>\n",
       "<p>100 rows × 1 columns</p>\n",
       "</div>"
      ],
      "text/plain": [
       "                                                    nuosavas_kapitalas\n",
       "obj_pav                                                               \n",
       "Valstybės įmonė Lietuvos automobilių kelių dire...        2.693140e+09\n",
       "UAB \"Thermo Fisher Scientific Vector Holdings\"            2.619317e+09\n",
       "UAB \"Thermo Fisher Scientific Vector Senior Hol...        2.619317e+09\n",
       "Uždaroji akcinė bendrovė \"Vilniaus prekyba\"               1.804312e+09\n",
       "UAB \"Thermo Fisher Scientific Vector Senior Hol...        1.590589e+09\n",
       "...                                                                ...\n",
       "Circle K Lietuva UAB                                      7.745149e+07\n",
       "Akcinė bendrovė \"KLAIPĖDOS MEDIENA\"                       7.495343e+07\n",
       "UAB \"CGP Management\"                                      7.482410e+07\n",
       "UAB \"Trust Capital\"                                       7.464350e+07\n",
       "UAB SBA Grupė                                             7.366750e+07\n",
       "\n",
       "[100 rows x 1 columns]"
      ]
     },
     "execution_count": 78,
     "metadata": {},
     "output_type": "execute_result"
    },
    {
     "data": {
      "application/javascript": [
       "\n",
       "            setTimeout(function() {\n",
       "                var nbb_cell_id = 78;\n",
       "                var nbb_unformatted_code = \"df_BLNS_2020[\\\"metai\\\"] = 2020\\ndf_BLNS_2021[\\\"metai\\\"] = 2021\\ndf_BLNS = pd.concat([df_BLNS_2020, df_BLNS_2021])\\nTop100_kapitalas = (\\n    df_BLNS.groupby([\\\"obj_pav\\\"])[[\\\"nuosavas_kapitalas\\\"]]\\n    .mean()\\n    .sort_values(by=\\\"nuosavas_kapitalas\\\", ascending=False)\\n    .head(100)\\n)\\nTop100_kapitalas\";\n",
       "                var nbb_formatted_code = \"df_BLNS_2020[\\\"metai\\\"] = 2020\\ndf_BLNS_2021[\\\"metai\\\"] = 2021\\ndf_BLNS = pd.concat([df_BLNS_2020, df_BLNS_2021])\\nTop100_kapitalas = (\\n    df_BLNS.groupby([\\\"obj_pav\\\"])[[\\\"nuosavas_kapitalas\\\"]]\\n    .mean()\\n    .sort_values(by=\\\"nuosavas_kapitalas\\\", ascending=False)\\n    .head(100)\\n)\\nTop100_kapitalas\";\n",
       "                var nbb_cells = Jupyter.notebook.get_cells();\n",
       "                for (var i = 0; i < nbb_cells.length; ++i) {\n",
       "                    if (nbb_cells[i].input_prompt_number == nbb_cell_id) {\n",
       "                        if (nbb_cells[i].get_text() == nbb_unformatted_code) {\n",
       "                             nbb_cells[i].set_text(nbb_formatted_code);\n",
       "                        }\n",
       "                        break;\n",
       "                    }\n",
       "                }\n",
       "            }, 500);\n",
       "            "
      ],
      "text/plain": [
       "<IPython.core.display.Javascript object>"
      ]
     },
     "metadata": {},
     "output_type": "display_data"
    }
   ],
   "source": [
    "df_BLNS_2020[\"metai\"] = 2020\n",
    "df_BLNS_2021[\"metai\"] = 2021\n",
    "df_BLNS = pd.concat([df_BLNS_2020, df_BLNS_2021])\n",
    "Top100_kapitalas = (\n",
    "    df_BLNS.groupby([\"obj_pav\"])[[\"nuosavas_kapitalas\"]]\n",
    "    .mean()\n",
    "    .sort_values(by=\"nuosavas_kapitalas\", ascending=False)\n",
    "    .head(100)\n",
    ")\n",
    "Top100_kapitalas"
   ]
  },
  {
   "cell_type": "code",
   "execution_count": 79,
   "id": "a1fb55fc",
   "metadata": {
    "ExecuteTime": {
     "end_time": "2022-12-08T19:43:40.184834Z",
     "start_time": "2022-12-08T19:43:39.787274Z"
    },
    "hidden": true
   },
   "outputs": [
    {
     "data": {
      "text/html": [
       "<div>\n",
       "<style scoped>\n",
       "    .dataframe tbody tr th:only-of-type {\n",
       "        vertical-align: middle;\n",
       "    }\n",
       "\n",
       "    .dataframe tbody tr th {\n",
       "        vertical-align: top;\n",
       "    }\n",
       "\n",
       "    .dataframe thead th {\n",
       "        text-align: right;\n",
       "    }\n",
       "</style>\n",
       "<table border=\"1\" class=\"dataframe\">\n",
       "  <thead>\n",
       "    <tr style=\"text-align: right;\">\n",
       "      <th></th>\n",
       "      <th>grynasis_pelnas</th>\n",
       "    </tr>\n",
       "    <tr>\n",
       "      <th>obj_pav</th>\n",
       "      <th></th>\n",
       "    </tr>\n",
       "  </thead>\n",
       "  <tbody>\n",
       "    <tr>\n",
       "      <th>UAB \"Thermo Fisher Scientific Baltics\"</th>\n",
       "      <td>326035597.5</td>\n",
       "    </tr>\n",
       "    <tr>\n",
       "      <th>MAXIMA LT UAB</th>\n",
       "      <td>151670500.0</td>\n",
       "    </tr>\n",
       "    <tr>\n",
       "      <th>AB \"Ignitis grupė\"</th>\n",
       "      <td>73395000.0</td>\n",
       "    </tr>\n",
       "    <tr>\n",
       "      <th>UAB \"ME investicija\"</th>\n",
       "      <td>62657674.0</td>\n",
       "    </tr>\n",
       "    <tr>\n",
       "      <th>UAB \"TELE2\"</th>\n",
       "      <td>60717000.0</td>\n",
       "    </tr>\n",
       "    <tr>\n",
       "      <th>...</th>\n",
       "      <td>...</td>\n",
       "    </tr>\n",
       "    <tr>\n",
       "      <th>Uždaroji akcinė bendrovė \"HOPTRANSA\"</th>\n",
       "      <td>7037687.0</td>\n",
       "    </tr>\n",
       "    <tr>\n",
       "      <th>Estoty Vilnius UAB</th>\n",
       "      <td>7029127.0</td>\n",
       "    </tr>\n",
       "    <tr>\n",
       "      <th>Apple Lithuania UAB</th>\n",
       "      <td>6937525.5</td>\n",
       "    </tr>\n",
       "    <tr>\n",
       "      <th>UAB \"ZIP7\"</th>\n",
       "      <td>6927955.5</td>\n",
       "    </tr>\n",
       "    <tr>\n",
       "      <th>AB Vilniaus šilumos tinklai</th>\n",
       "      <td>6883500.0</td>\n",
       "    </tr>\n",
       "  </tbody>\n",
       "</table>\n",
       "<p>100 rows × 1 columns</p>\n",
       "</div>"
      ],
      "text/plain": [
       "                                        grynasis_pelnas\n",
       "obj_pav                                                \n",
       "UAB \"Thermo Fisher Scientific Baltics\"      326035597.5\n",
       "MAXIMA LT UAB                               151670500.0\n",
       "AB \"Ignitis grupė\"                           73395000.0\n",
       "UAB \"ME investicija\"                         62657674.0\n",
       "UAB \"TELE2\"                                  60717000.0\n",
       "...                                                 ...\n",
       "Uždaroji akcinė bendrovė \"HOPTRANSA\"          7037687.0\n",
       "Estoty Vilnius UAB                            7029127.0\n",
       "Apple Lithuania UAB                           6937525.5\n",
       "UAB \"ZIP7\"                                    6927955.5\n",
       "AB Vilniaus šilumos tinklai                   6883500.0\n",
       "\n",
       "[100 rows x 1 columns]"
      ]
     },
     "execution_count": 79,
     "metadata": {},
     "output_type": "execute_result"
    },
    {
     "data": {
      "application/javascript": [
       "\n",
       "            setTimeout(function() {\n",
       "                var nbb_cell_id = 79;\n",
       "                var nbb_unformatted_code = \"df_PLNA_2020[\\\"metai\\\"] = 2020\\ndf_PLNA_2021[\\\"metai\\\"] = 2021\\n\\ndf_PLNA = pd.concat([df_PLNA_2020, df_PLNA_2021])\\nTop100_pelnas = (\\n    df_PLNA.groupby([\\\"obj_pav\\\"])[[\\\"grynasis_pelnas\\\"]]\\n    .mean()\\n    .sort_values(by=\\\"grynasis_pelnas\\\", ascending=False)\\n    .head(100)\\n)\\nTop100_pelnas\";\n",
       "                var nbb_formatted_code = \"df_PLNA_2020[\\\"metai\\\"] = 2020\\ndf_PLNA_2021[\\\"metai\\\"] = 2021\\n\\ndf_PLNA = pd.concat([df_PLNA_2020, df_PLNA_2021])\\nTop100_pelnas = (\\n    df_PLNA.groupby([\\\"obj_pav\\\"])[[\\\"grynasis_pelnas\\\"]]\\n    .mean()\\n    .sort_values(by=\\\"grynasis_pelnas\\\", ascending=False)\\n    .head(100)\\n)\\nTop100_pelnas\";\n",
       "                var nbb_cells = Jupyter.notebook.get_cells();\n",
       "                for (var i = 0; i < nbb_cells.length; ++i) {\n",
       "                    if (nbb_cells[i].input_prompt_number == nbb_cell_id) {\n",
       "                        if (nbb_cells[i].get_text() == nbb_unformatted_code) {\n",
       "                             nbb_cells[i].set_text(nbb_formatted_code);\n",
       "                        }\n",
       "                        break;\n",
       "                    }\n",
       "                }\n",
       "            }, 500);\n",
       "            "
      ],
      "text/plain": [
       "<IPython.core.display.Javascript object>"
      ]
     },
     "metadata": {},
     "output_type": "display_data"
    }
   ],
   "source": [
    "df_PLNA_2020[\"metai\"] = 2020\n",
    "df_PLNA_2021[\"metai\"] = 2021\n",
    "\n",
    "df_PLNA = pd.concat([df_PLNA_2020, df_PLNA_2021])\n",
    "Top100_pelnas = (\n",
    "    df_PLNA.groupby([\"obj_pav\"])[[\"grynasis_pelnas\"]]\n",
    "    .mean()\n",
    "    .sort_values(by=\"grynasis_pelnas\", ascending=False)\n",
    "    .head(100)\n",
    ")\n",
    "Top100_pelnas"
   ]
  },
  {
   "cell_type": "code",
   "execution_count": 80,
   "id": "958a050b",
   "metadata": {
    "ExecuteTime": {
     "end_time": "2022-12-08T19:43:40.216331Z",
     "start_time": "2022-12-08T19:43:40.187831Z"
    },
    "hidden": true
   },
   "outputs": [
    {
     "data": {
      "text/plain": [
       "41"
      ]
     },
     "execution_count": 80,
     "metadata": {},
     "output_type": "execute_result"
    },
    {
     "data": {
      "application/javascript": [
       "\n",
       "            setTimeout(function() {\n",
       "                var nbb_cell_id = 80;\n",
       "                var nbb_unformatted_code = \"Top100_kapitalas_imones = set(Top100_kapitalas.index)\\nTop100_pelnas_imones = set(Top100_pelnas.index)\\nlen(Top100_kapitalas_imones.intersection(Top100_pelnas_imones))\";\n",
       "                var nbb_formatted_code = \"Top100_kapitalas_imones = set(Top100_kapitalas.index)\\nTop100_pelnas_imones = set(Top100_pelnas.index)\\nlen(Top100_kapitalas_imones.intersection(Top100_pelnas_imones))\";\n",
       "                var nbb_cells = Jupyter.notebook.get_cells();\n",
       "                for (var i = 0; i < nbb_cells.length; ++i) {\n",
       "                    if (nbb_cells[i].input_prompt_number == nbb_cell_id) {\n",
       "                        if (nbb_cells[i].get_text() == nbb_unformatted_code) {\n",
       "                             nbb_cells[i].set_text(nbb_formatted_code);\n",
       "                        }\n",
       "                        break;\n",
       "                    }\n",
       "                }\n",
       "            }, 500);\n",
       "            "
      ],
      "text/plain": [
       "<IPython.core.display.Javascript object>"
      ]
     },
     "metadata": {},
     "output_type": "display_data"
    }
   ],
   "source": [
    "Top100_kapitalas_imones = set(Top100_kapitalas.index)\n",
    "Top100_pelnas_imones = set(Top100_pelnas.index)\n",
    "len(Top100_kapitalas_imones.intersection(Top100_pelnas_imones))"
   ]
  },
  {
   "cell_type": "markdown",
   "id": "bc250555",
   "metadata": {
    "hidden": true
   },
   "source": [
    "__Išvada__: yra sutampančių įmonių tarp Top100 pelningiausių ir turtigiausių (pagal kapitalą)"
   ]
  },
  {
   "cell_type": "markdown",
   "id": "43908cc5",
   "metadata": {
    "heading_collapsed": true,
    "hidden": true
   },
   "source": [
    "## 16. Ar TOP įmonės pagal “grynasis pelnas” iš 15 užduoties skiriasi pagal metus, t.y. 2020 ir 2021 metais? Kurios įmonės iškrenta iš TOP sąrašo 2021 metais?"
   ]
  },
  {
   "cell_type": "code",
   "execution_count": 81,
   "id": "29f435f0",
   "metadata": {
    "ExecuteTime": {
     "end_time": "2022-12-08T19:43:40.620024Z",
     "start_time": "2022-12-08T19:43:40.219355Z"
    },
    "hidden": true
   },
   "outputs": [
    {
     "data": {
      "text/plain": [
       "57"
      ]
     },
     "execution_count": 81,
     "metadata": {},
     "output_type": "execute_result"
    },
    {
     "data": {
      "application/javascript": [
       "\n",
       "            setTimeout(function() {\n",
       "                var nbb_cell_id = 81;\n",
       "                var nbb_unformatted_code = \"pelnas_top100_2020 = (\\n    df_PLNA_2020.groupby([\\\"obj_pav\\\"])[[\\\"grynasis_pelnas\\\"]]\\n    .mean()\\n    .sort_values(by=\\\"grynasis_pelnas\\\", ascending=False)\\n    .head(100)\\n)\\npelnas_top100_2021 = (\\n    df_PLNA_2021.groupby([\\\"obj_pav\\\"])[[\\\"grynasis_pelnas\\\"]]\\n    .mean()\\n    .sort_values(by=\\\"grynasis_pelnas\\\", ascending=False)\\n    .head(100)\\n)\\nimones_2020 = set(pelnas_top100_2020.index)\\nimones_2021 = set(pelnas_top100_2021.index)\\nlen(imones_2020 & imones_2021)\";\n",
       "                var nbb_formatted_code = \"pelnas_top100_2020 = (\\n    df_PLNA_2020.groupby([\\\"obj_pav\\\"])[[\\\"grynasis_pelnas\\\"]]\\n    .mean()\\n    .sort_values(by=\\\"grynasis_pelnas\\\", ascending=False)\\n    .head(100)\\n)\\npelnas_top100_2021 = (\\n    df_PLNA_2021.groupby([\\\"obj_pav\\\"])[[\\\"grynasis_pelnas\\\"]]\\n    .mean()\\n    .sort_values(by=\\\"grynasis_pelnas\\\", ascending=False)\\n    .head(100)\\n)\\nimones_2020 = set(pelnas_top100_2020.index)\\nimones_2021 = set(pelnas_top100_2021.index)\\nlen(imones_2020 & imones_2021)\";\n",
       "                var nbb_cells = Jupyter.notebook.get_cells();\n",
       "                for (var i = 0; i < nbb_cells.length; ++i) {\n",
       "                    if (nbb_cells[i].input_prompt_number == nbb_cell_id) {\n",
       "                        if (nbb_cells[i].get_text() == nbb_unformatted_code) {\n",
       "                             nbb_cells[i].set_text(nbb_formatted_code);\n",
       "                        }\n",
       "                        break;\n",
       "                    }\n",
       "                }\n",
       "            }, 500);\n",
       "            "
      ],
      "text/plain": [
       "<IPython.core.display.Javascript object>"
      ]
     },
     "metadata": {},
     "output_type": "display_data"
    }
   ],
   "source": [
    "pelnas_top100_2020 = (\n",
    "    df_PLNA_2020.groupby([\"obj_pav\"])[[\"grynasis_pelnas\"]]\n",
    "    .mean()\n",
    "    .sort_values(by=\"grynasis_pelnas\", ascending=False)\n",
    "    .head(100)\n",
    ")\n",
    "pelnas_top100_2021 = (\n",
    "    df_PLNA_2021.groupby([\"obj_pav\"])[[\"grynasis_pelnas\"]]\n",
    "    .mean()\n",
    "    .sort_values(by=\"grynasis_pelnas\", ascending=False)\n",
    "    .head(100)\n",
    ")\n",
    "imones_2020 = set(pelnas_top100_2020.index)\n",
    "imones_2021 = set(pelnas_top100_2021.index)\n",
    "len(imones_2020 & imones_2021)"
   ]
  },
  {
   "cell_type": "markdown",
   "id": "f17383ea",
   "metadata": {
    "hidden": true
   },
   "source": [
    "__Išvada__: TOP įmonės pagal \"grynasis pelnas\" skiriasi pagal metus (2020m. ir 2021m.), t.y. skiriasi 57 įmonėmis"
   ]
  },
  {
   "cell_type": "markdown",
   "id": "d691e193",
   "metadata": {
    "hidden": true
   },
   "source": [
    "Įmonės, kurios buvo 2020 TOP100'e, o 2021 neliko"
   ]
  },
  {
   "cell_type": "code",
   "execution_count": 82,
   "id": "470408b9",
   "metadata": {
    "ExecuteTime": {
     "end_time": "2022-12-08T19:43:40.651116Z",
     "start_time": "2022-12-08T19:43:40.623011Z"
    },
    "hidden": true
   },
   "outputs": [
    {
     "data": {
      "text/plain": [
       "['UAB \"Klaško\"',\n",
       " 'Valstybės įmonė Lietuvos oro uostai',\n",
       " 'Uždarojo tipo informuotiesiems investuotojams skirta investicinė bendrovė UAB \"LIM Verslo Trikampio NT Fondas\"',\n",
       " 'MAXIMA International Sourcing UAB',\n",
       " 'Uždaroji akcinė bendrovė \"Nemuno vaistinė\"',\n",
       " 'Uždarojo tipo informuotiesiems investuotojams skirta investicinė bendrovė UAB \"Verslo trikampis\"',\n",
       " 'UAB \"RAY Investments\"',\n",
       " 'UAB Gren Klaipėda',\n",
       " 'UAB \"Panorama LT\"',\n",
       " 'MD PARTNERS UAB',\n",
       " 'UAB \"ME HOLDING NT\"',\n",
       " 'UAB \"Inter Krasta\"',\n",
       " 'UAB \"OLIFĖJA\"',\n",
       " 'Uždaroji akcinė bendrovė \"LITESKO\"',\n",
       " 'UAB \"CIE LT FORGE\"',\n",
       " 'Akcinė bendrovė \"Invalda INVL\"',\n",
       " 'UAB \"Daltonas\"',\n",
       " 'Silver Screen Holdings UAB',\n",
       " 'AB \"BALTIC SHOPPING CENTERS\"',\n",
       " 'UAB \"ERA Family\"',\n",
       " 'UAB \"HEKON\"',\n",
       " 'UAB \"Trust Capital\"',\n",
       " 'UAB \"Schage Real Estate\"',\n",
       " 'Uždaroji akcinė bendrovė \"NESTE LIETUVA\"',\n",
       " 'UAB \"Sorensen Invest\"',\n",
       " 'AB \"Amber Grid\"',\n",
       " '4Wind UAB',\n",
       " 'MG investment UAB',\n",
       " 'UAB LIVE SQUARE LT',\n",
       " 'Technopolis Lietuva UAB',\n",
       " 'UAB \"FELIT\"',\n",
       " 'Uždaroji akcinė bendrovė \"VAKARŲ MEDIENOS GRUPĖ\"',\n",
       " 'UAB \"K29\"',\n",
       " 'UAB \"Avion Express\"',\n",
       " 'UAB \"EBV Finance\"',\n",
       " 'Atvirojo tipo Informuotiesiems investuotojams skirta investicinė kintamojo kapitalo bendrovė \"Mūsų ateities investicijos\"',\n",
       " 'UAB \"GetJet Airlines\"',\n",
       " 'UAB \"SPECTATOR\"',\n",
       " 'UAB \"Biosantara\"',\n",
       " 'UAB \"V. Paulius & associates real estate\"',\n",
       " 'UAB \"Green Genius\"',\n",
       " 'Specialioji uždarojo tipo nekilnojamojo turto investicinė bendrovė \"INVL Baltic Real Estate\"',\n",
       " 'UAB \"Vilniaus aidai\"']"
      ]
     },
     "execution_count": 82,
     "metadata": {},
     "output_type": "execute_result"
    },
    {
     "data": {
      "application/javascript": [
       "\n",
       "            setTimeout(function() {\n",
       "                var nbb_cell_id = 82;\n",
       "                var nbb_unformatted_code = \"list(imones_2020 - imones_2021)\";\n",
       "                var nbb_formatted_code = \"list(imones_2020 - imones_2021)\";\n",
       "                var nbb_cells = Jupyter.notebook.get_cells();\n",
       "                for (var i = 0; i < nbb_cells.length; ++i) {\n",
       "                    if (nbb_cells[i].input_prompt_number == nbb_cell_id) {\n",
       "                        if (nbb_cells[i].get_text() == nbb_unformatted_code) {\n",
       "                             nbb_cells[i].set_text(nbb_formatted_code);\n",
       "                        }\n",
       "                        break;\n",
       "                    }\n",
       "                }\n",
       "            }, 500);\n",
       "            "
      ],
      "text/plain": [
       "<IPython.core.display.Javascript object>"
      ]
     },
     "metadata": {},
     "output_type": "display_data"
    }
   ],
   "source": [
    "list(imones_2020 - imones_2021)"
   ]
  },
  {
   "cell_type": "markdown",
   "id": "f7aa1011",
   "metadata": {
    "heading_collapsed": true
   },
   "source": [
    "# Trečia dalis"
   ]
  },
  {
   "cell_type": "markdown",
   "id": "e7118a74",
   "metadata": {
    "heading_collapsed": true,
    "hidden": true
   },
   "source": [
    "## 3.0. Duomenų importas ir tvarkymas"
   ]
  },
  {
   "cell_type": "code",
   "execution_count": 83,
   "id": "6bbbcf88",
   "metadata": {
    "ExecuteTime": {
     "end_time": "2022-12-08T19:43:40.682699Z",
     "start_time": "2022-12-08T19:43:40.653984Z"
    },
    "hidden": true
   },
   "outputs": [
    {
     "data": {
      "application/javascript": [
       "\n",
       "            setTimeout(function() {\n",
       "                var nbb_cell_id = 83;\n",
       "                var nbb_unformatted_code = \"import zipfile\";\n",
       "                var nbb_formatted_code = \"import zipfile\";\n",
       "                var nbb_cells = Jupyter.notebook.get_cells();\n",
       "                for (var i = 0; i < nbb_cells.length; ++i) {\n",
       "                    if (nbb_cells[i].input_prompt_number == nbb_cell_id) {\n",
       "                        if (nbb_cells[i].get_text() == nbb_unformatted_code) {\n",
       "                             nbb_cells[i].set_text(nbb_formatted_code);\n",
       "                        }\n",
       "                        break;\n",
       "                    }\n",
       "                }\n",
       "            }, 500);\n",
       "            "
      ],
      "text/plain": [
       "<IPython.core.display.Javascript object>"
      ]
     },
     "metadata": {},
     "output_type": "display_data"
    }
   ],
   "source": [
    "import zipfile"
   ]
  },
  {
   "cell_type": "code",
   "execution_count": 84,
   "id": "a913dc89",
   "metadata": {
    "ExecuteTime": {
     "end_time": "2022-12-08T19:43:45.180942Z",
     "start_time": "2022-12-08T19:43:40.686660Z"
    },
    "hidden": true
   },
   "outputs": [
    {
     "data": {
      "application/javascript": [
       "\n",
       "            setTimeout(function() {\n",
       "                var nbb_cell_id = 84;\n",
       "                var nbb_unformatted_code = \"# linkas = \\\"https://atvira.sodra.lt/imones/downloads/2019/monthly-2019.csv.zip\\\"\\n# linkas = \\\"https://atvira.sodra.lt/imones/downloads/2019/monthly-2019.json.zip\\\"\\nlinkas2020 = \\\"./data/monthly-2019.csv.zip\\\"\\nlinkas2021 = \\\"./data/monthly-2020.csv.zip\\\"\\n\\nwith zipfile.ZipFile(linkas2020) as zip_csv:\\n    with zip_csv.open(\\\"monthly-2019.csv\\\") as csv_file:\\n        df_sodra_2020 = pd.read_csv(csv_file, sep=\\\";\\\")\\n\\nwith zipfile.ZipFile(linkas2021) as zip_csv:\\n    with zip_csv.open(\\\"monthly-2020.csv\\\") as csv_file:\\n        df_sodra_2021 = pd.read_csv(csv_file, sep=\\\";\\\")\";\n",
       "                var nbb_formatted_code = \"# linkas = \\\"https://atvira.sodra.lt/imones/downloads/2019/monthly-2019.csv.zip\\\"\\n# linkas = \\\"https://atvira.sodra.lt/imones/downloads/2019/monthly-2019.json.zip\\\"\\nlinkas2020 = \\\"./data/monthly-2019.csv.zip\\\"\\nlinkas2021 = \\\"./data/monthly-2020.csv.zip\\\"\\n\\nwith zipfile.ZipFile(linkas2020) as zip_csv:\\n    with zip_csv.open(\\\"monthly-2019.csv\\\") as csv_file:\\n        df_sodra_2020 = pd.read_csv(csv_file, sep=\\\";\\\")\\n\\nwith zipfile.ZipFile(linkas2021) as zip_csv:\\n    with zip_csv.open(\\\"monthly-2020.csv\\\") as csv_file:\\n        df_sodra_2021 = pd.read_csv(csv_file, sep=\\\";\\\")\";\n",
       "                var nbb_cells = Jupyter.notebook.get_cells();\n",
       "                for (var i = 0; i < nbb_cells.length; ++i) {\n",
       "                    if (nbb_cells[i].input_prompt_number == nbb_cell_id) {\n",
       "                        if (nbb_cells[i].get_text() == nbb_unformatted_code) {\n",
       "                             nbb_cells[i].set_text(nbb_formatted_code);\n",
       "                        }\n",
       "                        break;\n",
       "                    }\n",
       "                }\n",
       "            }, 500);\n",
       "            "
      ],
      "text/plain": [
       "<IPython.core.display.Javascript object>"
      ]
     },
     "metadata": {},
     "output_type": "display_data"
    }
   ],
   "source": [
    "# linkas = \"https://atvira.sodra.lt/imones/downloads/2019/monthly-2019.csv.zip\"\n",
    "# linkas = \"https://atvira.sodra.lt/imones/downloads/2019/monthly-2019.json.zip\"\n",
    "linkas2020 = \"./data/monthly-2019.csv.zip\"\n",
    "linkas2021 = \"./data/monthly-2020.csv.zip\"\n",
    "\n",
    "with zipfile.ZipFile(linkas2020) as zip_csv:\n",
    "    with zip_csv.open(\"monthly-2019.csv\") as csv_file:\n",
    "        df_sodra_2020 = pd.read_csv(csv_file, sep=\";\")\n",
    "\n",
    "with zipfile.ZipFile(linkas2021) as zip_csv:\n",
    "    with zip_csv.open(\"monthly-2020.csv\") as csv_file:\n",
    "        df_sodra_2021 = pd.read_csv(csv_file, sep=\";\")"
   ]
  },
  {
   "cell_type": "code",
   "execution_count": 85,
   "id": "b7733698",
   "metadata": {
    "ExecuteTime": {
     "end_time": "2022-12-08T19:43:45.212242Z",
     "start_time": "2022-12-08T19:43:45.184948Z"
    },
    "hidden": true
   },
   "outputs": [
    {
     "data": {
      "application/javascript": [
       "\n",
       "            setTimeout(function() {\n",
       "                var nbb_cell_id = 85;\n",
       "                var nbb_unformatted_code = \"new_columns_names = {\\n    \\\"Draud\\u0117jo kodas (code)\\\": \\\"code\\\",\\n    \\\"Juridini\\u0173 asmen\\u0173 registro kodas (jarCode)\\\": \\\"obj_kodas\\\",\\n    \\\"Pavadinimas (name)\\\": \\\"obj_pav\\\",\\n    \\\"Savivaldyb\\u0117, kurioje registruota(municipality)\\\": \\\"savivaldybe\\\",\\n    \\\"Ekonomin\\u0117s veiklos r\\u016b\\u0161ies kodas(ecoActCode)\\\": \\\"veiklos_kodas\\\",\\n    \\\"Ekonomin\\u0117s veiklos r\\u016b\\u0161ies pavadinimas(ecoActName)\\\": \\\"veiklos_aprasymas\\\",\\n    \\\"M\\u0117nuo (month)\\\": \\\"menuo\\\",\\n    \\\"Vidutinis darbo u\\u017emokestis (avgWage)\\\": \\\"vid_atlyginimas\\\",\\n    \\\"Apdraust\\u0173j\\u0173 skai\\u010dius (numInsured)\\\": \\\"darbuotoju_skaicius\\\",\\n    \\\"Vidutinis darbo u\\u017emokestis II (avgWage2)\\\": \\\"vid_atlyginimas_II\\\",\\n    \\\"Apdraust\\u0173j\\u0173 skai\\u010dius II (numInsured2)\\\": \\\"darbuotoju_skaicius_II\\\",\\n    \\\"Valstybinio socialinio draudimo \\u012fmoka (tax)\\\": \\\"sodros_imoka\\\",\\n}\\ndf_sodra_2020.rename(columns=new_columns_names, inplace=True)\\ndf_sodra_2021.rename(columns=new_columns_names, inplace=True)\";\n",
       "                var nbb_formatted_code = \"new_columns_names = {\\n    \\\"Draud\\u0117jo kodas (code)\\\": \\\"code\\\",\\n    \\\"Juridini\\u0173 asmen\\u0173 registro kodas (jarCode)\\\": \\\"obj_kodas\\\",\\n    \\\"Pavadinimas (name)\\\": \\\"obj_pav\\\",\\n    \\\"Savivaldyb\\u0117, kurioje registruota(municipality)\\\": \\\"savivaldybe\\\",\\n    \\\"Ekonomin\\u0117s veiklos r\\u016b\\u0161ies kodas(ecoActCode)\\\": \\\"veiklos_kodas\\\",\\n    \\\"Ekonomin\\u0117s veiklos r\\u016b\\u0161ies pavadinimas(ecoActName)\\\": \\\"veiklos_aprasymas\\\",\\n    \\\"M\\u0117nuo (month)\\\": \\\"menuo\\\",\\n    \\\"Vidutinis darbo u\\u017emokestis (avgWage)\\\": \\\"vid_atlyginimas\\\",\\n    \\\"Apdraust\\u0173j\\u0173 skai\\u010dius (numInsured)\\\": \\\"darbuotoju_skaicius\\\",\\n    \\\"Vidutinis darbo u\\u017emokestis II (avgWage2)\\\": \\\"vid_atlyginimas_II\\\",\\n    \\\"Apdraust\\u0173j\\u0173 skai\\u010dius II (numInsured2)\\\": \\\"darbuotoju_skaicius_II\\\",\\n    \\\"Valstybinio socialinio draudimo \\u012fmoka (tax)\\\": \\\"sodros_imoka\\\",\\n}\\ndf_sodra_2020.rename(columns=new_columns_names, inplace=True)\\ndf_sodra_2021.rename(columns=new_columns_names, inplace=True)\";\n",
       "                var nbb_cells = Jupyter.notebook.get_cells();\n",
       "                for (var i = 0; i < nbb_cells.length; ++i) {\n",
       "                    if (nbb_cells[i].input_prompt_number == nbb_cell_id) {\n",
       "                        if (nbb_cells[i].get_text() == nbb_unformatted_code) {\n",
       "                             nbb_cells[i].set_text(nbb_formatted_code);\n",
       "                        }\n",
       "                        break;\n",
       "                    }\n",
       "                }\n",
       "            }, 500);\n",
       "            "
      ],
      "text/plain": [
       "<IPython.core.display.Javascript object>"
      ]
     },
     "metadata": {},
     "output_type": "display_data"
    }
   ],
   "source": [
    "new_columns_names = {\n",
    "    \"Draudėjo kodas (code)\": \"code\",\n",
    "    \"Juridinių asmenų registro kodas (jarCode)\": \"obj_kodas\",\n",
    "    \"Pavadinimas (name)\": \"obj_pav\",\n",
    "    \"Savivaldybė, kurioje registruota(municipality)\": \"savivaldybe\",\n",
    "    \"Ekonominės veiklos rūšies kodas(ecoActCode)\": \"veiklos_kodas\",\n",
    "    \"Ekonominės veiklos rūšies pavadinimas(ecoActName)\": \"veiklos_aprasymas\",\n",
    "    \"Mėnuo (month)\": \"menuo\",\n",
    "    \"Vidutinis darbo užmokestis (avgWage)\": \"vid_atlyginimas\",\n",
    "    \"Apdraustųjų skaičius (numInsured)\": \"darbuotoju_skaicius\",\n",
    "    \"Vidutinis darbo užmokestis II (avgWage2)\": \"vid_atlyginimas_II\",\n",
    "    \"Apdraustųjų skaičius II (numInsured2)\": \"darbuotoju_skaicius_II\",\n",
    "    \"Valstybinio socialinio draudimo įmoka (tax)\": \"sodros_imoka\",\n",
    "}\n",
    "df_sodra_2020.rename(columns=new_columns_names, inplace=True)\n",
    "df_sodra_2021.rename(columns=new_columns_names, inplace=True)"
   ]
  },
  {
   "cell_type": "markdown",
   "id": "af733333",
   "metadata": {
    "hidden": true
   },
   "source": [
    "> sutampančių ir nesutampančių įmonių kodų tarp BLNS ir Sodra duomenų"
   ]
  },
  {
   "cell_type": "code",
   "execution_count": 86,
   "id": "eae6da64",
   "metadata": {
    "ExecuteTime": {
     "end_time": "2022-12-08T19:43:45.445731Z",
     "start_time": "2022-12-08T19:43:45.218228Z"
    },
    "hidden": true
   },
   "outputs": [
    {
     "data": {
      "text/plain": [
       "(96353, 22857, 73496, 110861)"
      ]
     },
     "execution_count": 86,
     "metadata": {},
     "output_type": "execute_result"
    },
    {
     "data": {
      "application/javascript": [
       "\n",
       "            setTimeout(function() {\n",
       "                var nbb_cell_id = 86;\n",
       "                var nbb_unformatted_code = \"BLNS = set(df_BLNS_2020[\\\"obj_kodas\\\"])\\nsodra = set(df_sodra_2020[\\\"obj_kodas\\\"])\\n\\nlen(BLNS), len(BLNS - sodra), len(BLNS.intersection(sodra)), len(sodra)\";\n",
       "                var nbb_formatted_code = \"BLNS = set(df_BLNS_2020[\\\"obj_kodas\\\"])\\nsodra = set(df_sodra_2020[\\\"obj_kodas\\\"])\\n\\nlen(BLNS), len(BLNS - sodra), len(BLNS.intersection(sodra)), len(sodra)\";\n",
       "                var nbb_cells = Jupyter.notebook.get_cells();\n",
       "                for (var i = 0; i < nbb_cells.length; ++i) {\n",
       "                    if (nbb_cells[i].input_prompt_number == nbb_cell_id) {\n",
       "                        if (nbb_cells[i].get_text() == nbb_unformatted_code) {\n",
       "                             nbb_cells[i].set_text(nbb_formatted_code);\n",
       "                        }\n",
       "                        break;\n",
       "                    }\n",
       "                }\n",
       "            }, 500);\n",
       "            "
      ],
      "text/plain": [
       "<IPython.core.display.Javascript object>"
      ]
     },
     "metadata": {},
     "output_type": "display_data"
    }
   ],
   "source": [
    "BLNS = set(df_BLNS_2020[\"obj_kodas\"])\n",
    "sodra = set(df_sodra_2020[\"obj_kodas\"])\n",
    "\n",
    "len(BLNS), len(BLNS - sodra), len(BLNS.intersection(sodra)), len(sodra)"
   ]
  },
  {
   "cell_type": "markdown",
   "id": "700d4bf1",
   "metadata": {
    "hidden": true
   },
   "source": [
    "__Pastaba__: imsiu tik tas įmones, kurios yra BLNS duomenų masyve "
   ]
  },
  {
   "cell_type": "code",
   "execution_count": 87,
   "id": "0674e4cf",
   "metadata": {
    "ExecuteTime": {
     "end_time": "2022-12-08T19:43:47.065834Z",
     "start_time": "2022-12-08T19:43:45.447574Z"
    },
    "hidden": true
   },
   "outputs": [
    {
     "data": {
      "application/javascript": [
       "\n",
       "            setTimeout(function() {\n",
       "                var nbb_cell_id = 87;\n",
       "                var nbb_unformatted_code = \"def tvarkyti_sodra(df: pd.DataFrame):\\n    # pa\\u0161alinam \\u012fmones be \\u012fmon\\u0117s kodo\\n    df_1 = df[~df[\\\"obj_kodas\\\"].isna()]\\n    df_1 = df_1.sort_values([\\\"obj_kodas\\\", \\\"menuo\\\"])\\n\\n    # i\\u0161renkame paskutin\\u012f \\u012fmon\\u0117s \\u012fra\\u0161\\u0105 metuose\\n    result = df_1.groupby(\\\"obj_kodas\\\").last().sort_values(\\\"obj_kodas\\\").reset_index()\\n\\n    return result\\n\\n\\ndf_sodra_2020 = tvarkyti_sodra(df_sodra_2020)\\ndf_sodra_2021 = tvarkyti_sodra(df_sodra_2021)\";\n",
       "                var nbb_formatted_code = \"def tvarkyti_sodra(df: pd.DataFrame):\\n    # pa\\u0161alinam \\u012fmones be \\u012fmon\\u0117s kodo\\n    df_1 = df[~df[\\\"obj_kodas\\\"].isna()]\\n    df_1 = df_1.sort_values([\\\"obj_kodas\\\", \\\"menuo\\\"])\\n\\n    # i\\u0161renkame paskutin\\u012f \\u012fmon\\u0117s \\u012fra\\u0161\\u0105 metuose\\n    result = df_1.groupby(\\\"obj_kodas\\\").last().sort_values(\\\"obj_kodas\\\").reset_index()\\n\\n    return result\\n\\n\\ndf_sodra_2020 = tvarkyti_sodra(df_sodra_2020)\\ndf_sodra_2021 = tvarkyti_sodra(df_sodra_2021)\";\n",
       "                var nbb_cells = Jupyter.notebook.get_cells();\n",
       "                for (var i = 0; i < nbb_cells.length; ++i) {\n",
       "                    if (nbb_cells[i].input_prompt_number == nbb_cell_id) {\n",
       "                        if (nbb_cells[i].get_text() == nbb_unformatted_code) {\n",
       "                             nbb_cells[i].set_text(nbb_formatted_code);\n",
       "                        }\n",
       "                        break;\n",
       "                    }\n",
       "                }\n",
       "            }, 500);\n",
       "            "
      ],
      "text/plain": [
       "<IPython.core.display.Javascript object>"
      ]
     },
     "metadata": {},
     "output_type": "display_data"
    }
   ],
   "source": [
    "def tvarkyti_sodra(df: pd.DataFrame):\n",
    "    # pašalinam įmones be įmonės kodo\n",
    "    df_1 = df[~df[\"obj_kodas\"].isna()]\n",
    "    df_1 = df_1.sort_values([\"obj_kodas\", \"menuo\"])\n",
    "\n",
    "    # išrenkame paskutinį įmonės įrašą metuose\n",
    "    result = df_1.groupby(\"obj_kodas\").last().sort_values(\"obj_kodas\").reset_index()\n",
    "\n",
    "    return result\n",
    "\n",
    "\n",
    "df_sodra_2020 = tvarkyti_sodra(df_sodra_2020)\n",
    "df_sodra_2021 = tvarkyti_sodra(df_sodra_2021)"
   ]
  },
  {
   "cell_type": "code",
   "execution_count": 88,
   "id": "17e3c9e8",
   "metadata": {
    "ExecuteTime": {
     "end_time": "2022-12-08T19:44:00.480585Z",
     "start_time": "2022-12-08T19:43:47.075365Z"
    },
    "hidden": true
   },
   "outputs": [
    {
     "data": {
      "application/javascript": [
       "\n",
       "            setTimeout(function() {\n",
       "                var nbb_cell_id = 88;\n",
       "                var nbb_unformatted_code = \"def tvarkyti_PLNS_BLNA(df: pd.DataFrame):\\n    #     df[\\\"laikotarpis_nuo\\\"] = pd.to_datetime(df[\\\"laikotarpis_nuo\\\"], format=\\\"%Y-%m-%d\\\")\\n    df[\\\"laikotarpis_iki\\\"] = pd.to_datetime(df[\\\"laikotarpis_iki\\\"], format=\\\"%Y-%m-%d\\\")\\n    df[\\\"reg_date\\\"] = pd.to_datetime(df[\\\"reg_date\\\"], format=\\\"%Y-%m-%d\\\")\\n\\n    # paliekam tik tuos \\u012fra\\u0161us, kuriu laikotarpis_iki yra ataskaitos metai\\n    metai = df[\\\"reg_date\\\"].max().year - 1\\n    df_1 = df[df[\\\"laikotarpis_iki\\\"].dt.year == metai]\\n\\n    # paliekame tik \\u012fmon\\u0117s paskutinius \\u012fra\\u0161us\\n    result = (\\n        df_1.sort_values([\\\"obj_kodas\\\", \\\"laikotarpis_iki\\\"])\\n        .groupby(\\\"obj_kodas\\\")\\n        .last()\\n        .reset_index()\\n    )\\n\\n    return result\\n\\n\\ndf_BLNS_2020 = tvarkyti_PLNS_BLNA(df_BLNS_2020)\\ndf_BLNS_2021 = tvarkyti_PLNS_BLNA(df_BLNS_2021)\\ndf_PLNA_2020 = tvarkyti_PLNS_BLNA(df_PLNA_2020)\\ndf_PLNA_2021 = tvarkyti_PLNS_BLNA(df_PLNA_2021)\";\n",
       "                var nbb_formatted_code = \"def tvarkyti_PLNS_BLNA(df: pd.DataFrame):\\n    #     df[\\\"laikotarpis_nuo\\\"] = pd.to_datetime(df[\\\"laikotarpis_nuo\\\"], format=\\\"%Y-%m-%d\\\")\\n    df[\\\"laikotarpis_iki\\\"] = pd.to_datetime(df[\\\"laikotarpis_iki\\\"], format=\\\"%Y-%m-%d\\\")\\n    df[\\\"reg_date\\\"] = pd.to_datetime(df[\\\"reg_date\\\"], format=\\\"%Y-%m-%d\\\")\\n\\n    # paliekam tik tuos \\u012fra\\u0161us, kuriu laikotarpis_iki yra ataskaitos metai\\n    metai = df[\\\"reg_date\\\"].max().year - 1\\n    df_1 = df[df[\\\"laikotarpis_iki\\\"].dt.year == metai]\\n\\n    # paliekame tik \\u012fmon\\u0117s paskutinius \\u012fra\\u0161us\\n    result = (\\n        df_1.sort_values([\\\"obj_kodas\\\", \\\"laikotarpis_iki\\\"])\\n        .groupby(\\\"obj_kodas\\\")\\n        .last()\\n        .reset_index()\\n    )\\n\\n    return result\\n\\n\\ndf_BLNS_2020 = tvarkyti_PLNS_BLNA(df_BLNS_2020)\\ndf_BLNS_2021 = tvarkyti_PLNS_BLNA(df_BLNS_2021)\\ndf_PLNA_2020 = tvarkyti_PLNS_BLNA(df_PLNA_2020)\\ndf_PLNA_2021 = tvarkyti_PLNS_BLNA(df_PLNA_2021)\";\n",
       "                var nbb_cells = Jupyter.notebook.get_cells();\n",
       "                for (var i = 0; i < nbb_cells.length; ++i) {\n",
       "                    if (nbb_cells[i].input_prompt_number == nbb_cell_id) {\n",
       "                        if (nbb_cells[i].get_text() == nbb_unformatted_code) {\n",
       "                             nbb_cells[i].set_text(nbb_formatted_code);\n",
       "                        }\n",
       "                        break;\n",
       "                    }\n",
       "                }\n",
       "            }, 500);\n",
       "            "
      ],
      "text/plain": [
       "<IPython.core.display.Javascript object>"
      ]
     },
     "metadata": {},
     "output_type": "display_data"
    }
   ],
   "source": [
    "def tvarkyti_PLNS_BLNA(df: pd.DataFrame):\n",
    "    #     df[\"laikotarpis_nuo\"] = pd.to_datetime(df[\"laikotarpis_nuo\"], format=\"%Y-%m-%d\")\n",
    "    df[\"laikotarpis_iki\"] = pd.to_datetime(df[\"laikotarpis_iki\"], format=\"%Y-%m-%d\")\n",
    "    df[\"reg_date\"] = pd.to_datetime(df[\"reg_date\"], format=\"%Y-%m-%d\")\n",
    "\n",
    "    # paliekam tik tuos įrašus, kuriu laikotarpis_iki yra ataskaitos metai\n",
    "    metai = df[\"reg_date\"].max().year - 1\n",
    "    df_1 = df[df[\"laikotarpis_iki\"].dt.year == metai]\n",
    "\n",
    "    # paliekame tik įmonės paskutinius įrašus\n",
    "    result = (\n",
    "        df_1.sort_values([\"obj_kodas\", \"laikotarpis_iki\"])\n",
    "        .groupby(\"obj_kodas\")\n",
    "        .last()\n",
    "        .reset_index()\n",
    "    )\n",
    "\n",
    "    return result\n",
    "\n",
    "\n",
    "df_BLNS_2020 = tvarkyti_PLNS_BLNA(df_BLNS_2020)\n",
    "df_BLNS_2021 = tvarkyti_PLNS_BLNA(df_BLNS_2021)\n",
    "df_PLNA_2020 = tvarkyti_PLNS_BLNA(df_PLNA_2020)\n",
    "df_PLNA_2021 = tvarkyti_PLNS_BLNA(df_PLNA_2021)"
   ]
  },
  {
   "cell_type": "code",
   "execution_count": 89,
   "id": "aeccc3b0",
   "metadata": {
    "ExecuteTime": {
     "end_time": "2022-12-08T19:44:00.650163Z",
     "start_time": "2022-12-08T19:44:00.485587Z"
    },
    "hidden": true
   },
   "outputs": [
    {
     "data": {
      "application/javascript": [
       "\n",
       "            setTimeout(function() {\n",
       "                var nbb_cell_id = 89;\n",
       "                var nbb_unformatted_code = \"df_temp = df_BLNS_2020[\\n    [\\n        \\\"obj_kodas\\\",\\n        \\\"obj_pav\\\",\\n        \\\"form_pav\\\",\\n        \\\"nuosavas_kapitalas\\\",\\n        \\\"mok_sumos_ir_isipareigojimai\\\",\\n        \\\"ilgalaikis_turtas\\\",\\n        \\\"trumpalaikis_turtas\\\",\\n    ]\\n].merge(\\n    df_sodra_2020[\\n        [\\n            \\\"obj_kodas\\\",\\n            \\\"veiklos_kodas\\\",\\n            \\\"veiklos_aprasymas\\\",\\n            \\\"savivaldybe\\\",\\n            \\\"vid_atlyginimas\\\",\\n            \\\"darbuotoju_skaicius\\\",\\n        ]\\n    ],\\n    on=\\\"obj_kodas\\\",\\n    how=\\\"inner\\\",\\n)\";\n",
       "                var nbb_formatted_code = \"df_temp = df_BLNS_2020[\\n    [\\n        \\\"obj_kodas\\\",\\n        \\\"obj_pav\\\",\\n        \\\"form_pav\\\",\\n        \\\"nuosavas_kapitalas\\\",\\n        \\\"mok_sumos_ir_isipareigojimai\\\",\\n        \\\"ilgalaikis_turtas\\\",\\n        \\\"trumpalaikis_turtas\\\",\\n    ]\\n].merge(\\n    df_sodra_2020[\\n        [\\n            \\\"obj_kodas\\\",\\n            \\\"veiklos_kodas\\\",\\n            \\\"veiklos_aprasymas\\\",\\n            \\\"savivaldybe\\\",\\n            \\\"vid_atlyginimas\\\",\\n            \\\"darbuotoju_skaicius\\\",\\n        ]\\n    ],\\n    on=\\\"obj_kodas\\\",\\n    how=\\\"inner\\\",\\n)\";\n",
       "                var nbb_cells = Jupyter.notebook.get_cells();\n",
       "                for (var i = 0; i < nbb_cells.length; ++i) {\n",
       "                    if (nbb_cells[i].input_prompt_number == nbb_cell_id) {\n",
       "                        if (nbb_cells[i].get_text() == nbb_unformatted_code) {\n",
       "                             nbb_cells[i].set_text(nbb_formatted_code);\n",
       "                        }\n",
       "                        break;\n",
       "                    }\n",
       "                }\n",
       "            }, 500);\n",
       "            "
      ],
      "text/plain": [
       "<IPython.core.display.Javascript object>"
      ]
     },
     "metadata": {},
     "output_type": "display_data"
    }
   ],
   "source": [
    "df_temp = df_BLNS_2020[\n",
    "    [\n",
    "        \"obj_kodas\",\n",
    "        \"obj_pav\",\n",
    "        \"form_pav\",\n",
    "        \"nuosavas_kapitalas\",\n",
    "        \"mok_sumos_ir_isipareigojimai\",\n",
    "        \"ilgalaikis_turtas\",\n",
    "        \"trumpalaikis_turtas\",\n",
    "    ]\n",
    "].merge(\n",
    "    df_sodra_2020[\n",
    "        [\n",
    "            \"obj_kodas\",\n",
    "            \"veiklos_kodas\",\n",
    "            \"veiklos_aprasymas\",\n",
    "            \"savivaldybe\",\n",
    "            \"vid_atlyginimas\",\n",
    "            \"darbuotoju_skaicius\",\n",
    "        ]\n",
    "    ],\n",
    "    on=\"obj_kodas\",\n",
    "    how=\"inner\",\n",
    ")"
   ]
  },
  {
   "cell_type": "code",
   "execution_count": 90,
   "id": "a1871f13",
   "metadata": {
    "ExecuteTime": {
     "end_time": "2022-12-08T19:44:00.775810Z",
     "start_time": "2022-12-08T19:44:00.653132Z"
    },
    "hidden": true
   },
   "outputs": [
    {
     "data": {
      "application/javascript": [
       "\n",
       "            setTimeout(function() {\n",
       "                var nbb_cell_id = 90;\n",
       "                var nbb_unformatted_code = \"df_2020 = df_temp.merge(\\n    df_PLNA_2020[[\\\"obj_kodas\\\", \\\"pardavimo_pajamos\\\", \\\"grynasis_pelnas\\\"]],\\n    on=\\\"obj_kodas\\\",\\n    how=\\\"inner\\\",\\n)\";\n",
       "                var nbb_formatted_code = \"df_2020 = df_temp.merge(\\n    df_PLNA_2020[[\\\"obj_kodas\\\", \\\"pardavimo_pajamos\\\", \\\"grynasis_pelnas\\\"]],\\n    on=\\\"obj_kodas\\\",\\n    how=\\\"inner\\\",\\n)\";\n",
       "                var nbb_cells = Jupyter.notebook.get_cells();\n",
       "                for (var i = 0; i < nbb_cells.length; ++i) {\n",
       "                    if (nbb_cells[i].input_prompt_number == nbb_cell_id) {\n",
       "                        if (nbb_cells[i].get_text() == nbb_unformatted_code) {\n",
       "                             nbb_cells[i].set_text(nbb_formatted_code);\n",
       "                        }\n",
       "                        break;\n",
       "                    }\n",
       "                }\n",
       "            }, 500);\n",
       "            "
      ],
      "text/plain": [
       "<IPython.core.display.Javascript object>"
      ]
     },
     "metadata": {},
     "output_type": "display_data"
    }
   ],
   "source": [
    "df_2020 = df_temp.merge(\n",
    "    df_PLNA_2020[[\"obj_kodas\", \"pardavimo_pajamos\", \"grynasis_pelnas\"]],\n",
    "    on=\"obj_kodas\",\n",
    "    how=\"inner\",\n",
    ")"
   ]
  },
  {
   "cell_type": "code",
   "execution_count": 91,
   "id": "b2eab10a",
   "metadata": {
    "ExecuteTime": {
     "end_time": "2022-12-08T19:44:00.965213Z",
     "start_time": "2022-12-08T19:44:00.779281Z"
    },
    "hidden": true
   },
   "outputs": [
    {
     "data": {
      "application/javascript": [
       "\n",
       "            setTimeout(function() {\n",
       "                var nbb_cell_id = 91;\n",
       "                var nbb_unformatted_code = \"df_temp = df_BLNS_2021[\\n    [\\n        \\\"obj_kodas\\\",\\n        \\\"obj_pav\\\",\\n        \\\"form_pav\\\",\\n        \\\"nuosavas_kapitalas\\\",\\n        \\\"mok_sumos_ir_isipareigojimai\\\",\\n        \\\"ilgalaikis_turtas\\\",\\n        \\\"trumpalaikis_turtas\\\",\\n    ]\\n].merge(\\n    df_sodra_2021[\\n        [\\n            \\\"obj_kodas\\\",\\n            \\\"veiklos_kodas\\\",\\n            \\\"veiklos_aprasymas\\\",\\n            \\\"savivaldybe\\\",\\n            \\\"vid_atlyginimas\\\",\\n            \\\"darbuotoju_skaicius\\\",\\n        ]\\n    ],\\n    on=\\\"obj_kodas\\\",\\n    how=\\\"inner\\\",\\n)\";\n",
       "                var nbb_formatted_code = \"df_temp = df_BLNS_2021[\\n    [\\n        \\\"obj_kodas\\\",\\n        \\\"obj_pav\\\",\\n        \\\"form_pav\\\",\\n        \\\"nuosavas_kapitalas\\\",\\n        \\\"mok_sumos_ir_isipareigojimai\\\",\\n        \\\"ilgalaikis_turtas\\\",\\n        \\\"trumpalaikis_turtas\\\",\\n    ]\\n].merge(\\n    df_sodra_2021[\\n        [\\n            \\\"obj_kodas\\\",\\n            \\\"veiklos_kodas\\\",\\n            \\\"veiklos_aprasymas\\\",\\n            \\\"savivaldybe\\\",\\n            \\\"vid_atlyginimas\\\",\\n            \\\"darbuotoju_skaicius\\\",\\n        ]\\n    ],\\n    on=\\\"obj_kodas\\\",\\n    how=\\\"inner\\\",\\n)\";\n",
       "                var nbb_cells = Jupyter.notebook.get_cells();\n",
       "                for (var i = 0; i < nbb_cells.length; ++i) {\n",
       "                    if (nbb_cells[i].input_prompt_number == nbb_cell_id) {\n",
       "                        if (nbb_cells[i].get_text() == nbb_unformatted_code) {\n",
       "                             nbb_cells[i].set_text(nbb_formatted_code);\n",
       "                        }\n",
       "                        break;\n",
       "                    }\n",
       "                }\n",
       "            }, 500);\n",
       "            "
      ],
      "text/plain": [
       "<IPython.core.display.Javascript object>"
      ]
     },
     "metadata": {},
     "output_type": "display_data"
    }
   ],
   "source": [
    "df_temp = df_BLNS_2021[\n",
    "    [\n",
    "        \"obj_kodas\",\n",
    "        \"obj_pav\",\n",
    "        \"form_pav\",\n",
    "        \"nuosavas_kapitalas\",\n",
    "        \"mok_sumos_ir_isipareigojimai\",\n",
    "        \"ilgalaikis_turtas\",\n",
    "        \"trumpalaikis_turtas\",\n",
    "    ]\n",
    "].merge(\n",
    "    df_sodra_2021[\n",
    "        [\n",
    "            \"obj_kodas\",\n",
    "            \"veiklos_kodas\",\n",
    "            \"veiklos_aprasymas\",\n",
    "            \"savivaldybe\",\n",
    "            \"vid_atlyginimas\",\n",
    "            \"darbuotoju_skaicius\",\n",
    "        ]\n",
    "    ],\n",
    "    on=\"obj_kodas\",\n",
    "    how=\"inner\",\n",
    ")"
   ]
  },
  {
   "cell_type": "code",
   "execution_count": 92,
   "id": "79ee6013",
   "metadata": {
    "ExecuteTime": {
     "end_time": "2022-12-08T19:44:01.041866Z",
     "start_time": "2022-12-08T19:44:00.967214Z"
    },
    "hidden": true
   },
   "outputs": [
    {
     "data": {
      "application/javascript": [
       "\n",
       "            setTimeout(function() {\n",
       "                var nbb_cell_id = 92;\n",
       "                var nbb_unformatted_code = \"df_2021 = df_temp.merge(\\n    df_PLNA_2021[[\\\"obj_kodas\\\", \\\"pardavimo_pajamos\\\", \\\"grynasis_pelnas\\\"]],\\n    on=\\\"obj_kodas\\\",\\n    how=\\\"inner\\\",\\n)\";\n",
       "                var nbb_formatted_code = \"df_2021 = df_temp.merge(\\n    df_PLNA_2021[[\\\"obj_kodas\\\", \\\"pardavimo_pajamos\\\", \\\"grynasis_pelnas\\\"]],\\n    on=\\\"obj_kodas\\\",\\n    how=\\\"inner\\\",\\n)\";\n",
       "                var nbb_cells = Jupyter.notebook.get_cells();\n",
       "                for (var i = 0; i < nbb_cells.length; ++i) {\n",
       "                    if (nbb_cells[i].input_prompt_number == nbb_cell_id) {\n",
       "                        if (nbb_cells[i].get_text() == nbb_unformatted_code) {\n",
       "                             nbb_cells[i].set_text(nbb_formatted_code);\n",
       "                        }\n",
       "                        break;\n",
       "                    }\n",
       "                }\n",
       "            }, 500);\n",
       "            "
      ],
      "text/plain": [
       "<IPython.core.display.Javascript object>"
      ]
     },
     "metadata": {},
     "output_type": "display_data"
    }
   ],
   "source": [
    "df_2021 = df_temp.merge(\n",
    "    df_PLNA_2021[[\"obj_kodas\", \"pardavimo_pajamos\", \"grynasis_pelnas\"]],\n",
    "    on=\"obj_kodas\",\n",
    "    how=\"inner\",\n",
    ")"
   ]
  },
  {
   "cell_type": "code",
   "execution_count": 93,
   "id": "6f4dfd21",
   "metadata": {
    "ExecuteTime": {
     "end_time": "2022-12-08T19:44:01.167499Z",
     "start_time": "2022-12-08T19:44:01.045850Z"
    },
    "hidden": true
   },
   "outputs": [
    {
     "data": {
      "application/javascript": [
       "\n",
       "            setTimeout(function() {\n",
       "                var nbb_cell_id = 93;\n",
       "                var nbb_unformatted_code = \"df_visa = df_2020.merge(\\n    df_2021[\\n        [\\n            \\\"obj_kodas\\\",\\n            \\\"nuosavas_kapitalas\\\",\\n            \\\"mok_sumos_ir_isipareigojimai\\\",\\n            \\\"ilgalaikis_turtas\\\",\\n            \\\"trumpalaikis_turtas\\\",\\n            \\\"pardavimo_pajamos\\\",\\n            \\\"grynasis_pelnas\\\",\\n            \\\"vid_atlyginimas\\\",\\n            \\\"darbuotoju_skaicius\\\",\\n        ]\\n    ],\\n    on=\\\"obj_kodas\\\",\\n    how=\\\"outer\\\",\\n    suffixes=[\\\"_20\\\", \\\"_21\\\"],\\n)\";\n",
       "                var nbb_formatted_code = \"df_visa = df_2020.merge(\\n    df_2021[\\n        [\\n            \\\"obj_kodas\\\",\\n            \\\"nuosavas_kapitalas\\\",\\n            \\\"mok_sumos_ir_isipareigojimai\\\",\\n            \\\"ilgalaikis_turtas\\\",\\n            \\\"trumpalaikis_turtas\\\",\\n            \\\"pardavimo_pajamos\\\",\\n            \\\"grynasis_pelnas\\\",\\n            \\\"vid_atlyginimas\\\",\\n            \\\"darbuotoju_skaicius\\\",\\n        ]\\n    ],\\n    on=\\\"obj_kodas\\\",\\n    how=\\\"outer\\\",\\n    suffixes=[\\\"_20\\\", \\\"_21\\\"],\\n)\";\n",
       "                var nbb_cells = Jupyter.notebook.get_cells();\n",
       "                for (var i = 0; i < nbb_cells.length; ++i) {\n",
       "                    if (nbb_cells[i].input_prompt_number == nbb_cell_id) {\n",
       "                        if (nbb_cells[i].get_text() == nbb_unformatted_code) {\n",
       "                             nbb_cells[i].set_text(nbb_formatted_code);\n",
       "                        }\n",
       "                        break;\n",
       "                    }\n",
       "                }\n",
       "            }, 500);\n",
       "            "
      ],
      "text/plain": [
       "<IPython.core.display.Javascript object>"
      ]
     },
     "metadata": {},
     "output_type": "display_data"
    }
   ],
   "source": [
    "df_visa = df_2020.merge(\n",
    "    df_2021[\n",
    "        [\n",
    "            \"obj_kodas\",\n",
    "            \"nuosavas_kapitalas\",\n",
    "            \"mok_sumos_ir_isipareigojimai\",\n",
    "            \"ilgalaikis_turtas\",\n",
    "            \"trumpalaikis_turtas\",\n",
    "            \"pardavimo_pajamos\",\n",
    "            \"grynasis_pelnas\",\n",
    "            \"vid_atlyginimas\",\n",
    "            \"darbuotoju_skaicius\",\n",
    "        ]\n",
    "    ],\n",
    "    on=\"obj_kodas\",\n",
    "    how=\"outer\",\n",
    "    suffixes=[\"_20\", \"_21\"],\n",
    ")"
   ]
  },
  {
   "cell_type": "code",
   "execution_count": 94,
   "id": "9592e584",
   "metadata": {
    "ExecuteTime": {
     "end_time": "2022-12-08T19:44:01.246604Z",
     "start_time": "2022-12-08T19:44:01.171049Z"
    },
    "hidden": true
   },
   "outputs": [
    {
     "data": {
      "application/javascript": [
       "\n",
       "            setTimeout(function() {\n",
       "                var nbb_cell_id = 94;\n",
       "                var nbb_unformatted_code = \"df_visa = df_visa[\\n    [\\n        \\\"obj_kodas\\\",\\n        \\\"obj_pav\\\",\\n        \\\"form_pav\\\",\\n        \\\"veiklos_kodas\\\",\\n        \\\"veiklos_aprasymas\\\",\\n        \\\"savivaldybe\\\",\\n        \\\"nuosavas_kapitalas_20\\\",\\n        \\\"mok_sumos_ir_isipareigojimai_20\\\",\\n        \\\"ilgalaikis_turtas_20\\\",\\n        \\\"trumpalaikis_turtas_20\\\",\\n        \\\"pardavimo_pajamos_20\\\",\\n        \\\"grynasis_pelnas_20\\\",\\n        \\\"vid_atlyginimas_20\\\",\\n        \\\"darbuotoju_skaicius_20\\\",\\n        \\\"nuosavas_kapitalas_21\\\",\\n        \\\"mok_sumos_ir_isipareigojimai_21\\\",\\n        \\\"ilgalaikis_turtas_21\\\",\\n        \\\"trumpalaikis_turtas_21\\\",\\n        \\\"pardavimo_pajamos_21\\\",\\n        \\\"grynasis_pelnas_21\\\",\\n        \\\"vid_atlyginimas_21\\\",\\n        \\\"darbuotoju_skaicius_21\\\",\\n    ]\\n]\";\n",
       "                var nbb_formatted_code = \"df_visa = df_visa[\\n    [\\n        \\\"obj_kodas\\\",\\n        \\\"obj_pav\\\",\\n        \\\"form_pav\\\",\\n        \\\"veiklos_kodas\\\",\\n        \\\"veiklos_aprasymas\\\",\\n        \\\"savivaldybe\\\",\\n        \\\"nuosavas_kapitalas_20\\\",\\n        \\\"mok_sumos_ir_isipareigojimai_20\\\",\\n        \\\"ilgalaikis_turtas_20\\\",\\n        \\\"trumpalaikis_turtas_20\\\",\\n        \\\"pardavimo_pajamos_20\\\",\\n        \\\"grynasis_pelnas_20\\\",\\n        \\\"vid_atlyginimas_20\\\",\\n        \\\"darbuotoju_skaicius_20\\\",\\n        \\\"nuosavas_kapitalas_21\\\",\\n        \\\"mok_sumos_ir_isipareigojimai_21\\\",\\n        \\\"ilgalaikis_turtas_21\\\",\\n        \\\"trumpalaikis_turtas_21\\\",\\n        \\\"pardavimo_pajamos_21\\\",\\n        \\\"grynasis_pelnas_21\\\",\\n        \\\"vid_atlyginimas_21\\\",\\n        \\\"darbuotoju_skaicius_21\\\",\\n    ]\\n]\";\n",
       "                var nbb_cells = Jupyter.notebook.get_cells();\n",
       "                for (var i = 0; i < nbb_cells.length; ++i) {\n",
       "                    if (nbb_cells[i].input_prompt_number == nbb_cell_id) {\n",
       "                        if (nbb_cells[i].get_text() == nbb_unformatted_code) {\n",
       "                             nbb_cells[i].set_text(nbb_formatted_code);\n",
       "                        }\n",
       "                        break;\n",
       "                    }\n",
       "                }\n",
       "            }, 500);\n",
       "            "
      ],
      "text/plain": [
       "<IPython.core.display.Javascript object>"
      ]
     },
     "metadata": {},
     "output_type": "display_data"
    }
   ],
   "source": [
    "df_visa = df_visa[\n",
    "    [\n",
    "        \"obj_kodas\",\n",
    "        \"obj_pav\",\n",
    "        \"form_pav\",\n",
    "        \"veiklos_kodas\",\n",
    "        \"veiklos_aprasymas\",\n",
    "        \"savivaldybe\",\n",
    "        \"nuosavas_kapitalas_20\",\n",
    "        \"mok_sumos_ir_isipareigojimai_20\",\n",
    "        \"ilgalaikis_turtas_20\",\n",
    "        \"trumpalaikis_turtas_20\",\n",
    "        \"pardavimo_pajamos_20\",\n",
    "        \"grynasis_pelnas_20\",\n",
    "        \"vid_atlyginimas_20\",\n",
    "        \"darbuotoju_skaicius_20\",\n",
    "        \"nuosavas_kapitalas_21\",\n",
    "        \"mok_sumos_ir_isipareigojimai_21\",\n",
    "        \"ilgalaikis_turtas_21\",\n",
    "        \"trumpalaikis_turtas_21\",\n",
    "        \"pardavimo_pajamos_21\",\n",
    "        \"grynasis_pelnas_21\",\n",
    "        \"vid_atlyginimas_21\",\n",
    "        \"darbuotoju_skaicius_21\",\n",
    "    ]\n",
    "]"
   ]
  },
  {
   "cell_type": "code",
   "execution_count": 95,
   "id": "136cf18f",
   "metadata": {
    "ExecuteTime": {
     "end_time": "2022-12-08T19:44:01.293101Z",
     "start_time": "2022-12-08T19:44:01.249238Z"
    },
    "hidden": true
   },
   "outputs": [
    {
     "data": {
      "text/html": [
       "<div>\n",
       "<style scoped>\n",
       "    .dataframe tbody tr th:only-of-type {\n",
       "        vertical-align: middle;\n",
       "    }\n",
       "\n",
       "    .dataframe tbody tr th {\n",
       "        vertical-align: top;\n",
       "    }\n",
       "\n",
       "    .dataframe thead th {\n",
       "        text-align: right;\n",
       "    }\n",
       "</style>\n",
       "<table border=\"1\" class=\"dataframe\">\n",
       "  <thead>\n",
       "    <tr style=\"text-align: right;\">\n",
       "      <th></th>\n",
       "      <th>obj_kodas</th>\n",
       "      <th>obj_pav</th>\n",
       "      <th>form_pav</th>\n",
       "      <th>veiklos_kodas</th>\n",
       "      <th>veiklos_aprasymas</th>\n",
       "      <th>savivaldybe</th>\n",
       "      <th>nuosavas_kapitalas_20</th>\n",
       "      <th>mok_sumos_ir_isipareigojimai_20</th>\n",
       "      <th>ilgalaikis_turtas_20</th>\n",
       "      <th>trumpalaikis_turtas_20</th>\n",
       "      <th>...</th>\n",
       "      <th>vid_atlyginimas_20</th>\n",
       "      <th>darbuotoju_skaicius_20</th>\n",
       "      <th>nuosavas_kapitalas_21</th>\n",
       "      <th>mok_sumos_ir_isipareigojimai_21</th>\n",
       "      <th>ilgalaikis_turtas_21</th>\n",
       "      <th>trumpalaikis_turtas_21</th>\n",
       "      <th>pardavimo_pajamos_21</th>\n",
       "      <th>grynasis_pelnas_21</th>\n",
       "      <th>vid_atlyginimas_21</th>\n",
       "      <th>darbuotoju_skaicius_21</th>\n",
       "    </tr>\n",
       "  </thead>\n",
       "  <tbody>\n",
       "    <tr>\n",
       "      <th>0</th>\n",
       "      <td>110003978</td>\n",
       "      <td>Uždaroji akcinė bendrovė \"Lietkompexim\"</td>\n",
       "      <td>Uždaroji akcinė bendrovė</td>\n",
       "      <td>682000.0</td>\n",
       "      <td>Nuosavo arba nuomojamo nekilnojamojo turto nuo...</td>\n",
       "      <td>Vilniaus m. sav.</td>\n",
       "      <td>1781906.0</td>\n",
       "      <td>91432.0</td>\n",
       "      <td>382464.0</td>\n",
       "      <td>1490380.0</td>\n",
       "      <td>...</td>\n",
       "      <td>NaN</td>\n",
       "      <td>2.0</td>\n",
       "      <td>1755061.0</td>\n",
       "      <td>23498.0</td>\n",
       "      <td>356897.0</td>\n",
       "      <td>1421293.0</td>\n",
       "      <td>85522.0</td>\n",
       "      <td>33153.0</td>\n",
       "      <td>NaN</td>\n",
       "      <td>2.0</td>\n",
       "    </tr>\n",
       "    <tr>\n",
       "      <th>1</th>\n",
       "      <td>110004884</td>\n",
       "      <td>Uždaroji akcinė bendrovė \"VILLON\"</td>\n",
       "      <td>Uždaroji akcinė bendrovė</td>\n",
       "      <td>551000.0</td>\n",
       "      <td>Viešbučių ir panašių laikinų buveinių veikla</td>\n",
       "      <td>Vilniaus r. sav.</td>\n",
       "      <td>2993187.0</td>\n",
       "      <td>37702011.0</td>\n",
       "      <td>40070639.0</td>\n",
       "      <td>648384.0</td>\n",
       "      <td>...</td>\n",
       "      <td>1401.75</td>\n",
       "      <td>211.0</td>\n",
       "      <td>2779511.0</td>\n",
       "      <td>37446848.0</td>\n",
       "      <td>39827601.0</td>\n",
       "      <td>457092.0</td>\n",
       "      <td>3111102.0</td>\n",
       "      <td>-213676.0</td>\n",
       "      <td>945.27</td>\n",
       "      <td>148.0</td>\n",
       "    </tr>\n",
       "    <tr>\n",
       "      <th>2</th>\n",
       "      <td>110005648</td>\n",
       "      <td>UAB \"Informacinės paslaugos\"</td>\n",
       "      <td>Uždaroji akcinė bendrovė</td>\n",
       "      <td>620000.0</td>\n",
       "      <td>Kompiuterių programavimo, konsultacinė ir susi...</td>\n",
       "      <td>Vilniaus m. sav.</td>\n",
       "      <td>711851.0</td>\n",
       "      <td>530251.0</td>\n",
       "      <td>89119.0</td>\n",
       "      <td>1125057.0</td>\n",
       "      <td>...</td>\n",
       "      <td>2220.77</td>\n",
       "      <td>54.0</td>\n",
       "      <td>662043.0</td>\n",
       "      <td>707609.0</td>\n",
       "      <td>53300.0</td>\n",
       "      <td>1262390.0</td>\n",
       "      <td>2657795.0</td>\n",
       "      <td>-49808.0</td>\n",
       "      <td>1500.84</td>\n",
       "      <td>41.0</td>\n",
       "    </tr>\n",
       "    <tr>\n",
       "      <th>3</th>\n",
       "      <td>110006892</td>\n",
       "      <td>Uždaroji akcinė bendrovė \"Londvil\"</td>\n",
       "      <td>Uždaroji akcinė bendrovė</td>\n",
       "      <td>682000.0</td>\n",
       "      <td>Nuosavo arba nuomojamo nekilnojamojo turto nuo...</td>\n",
       "      <td>Vilniaus m. sav.</td>\n",
       "      <td>175256.0</td>\n",
       "      <td>21719.0</td>\n",
       "      <td>86608.0</td>\n",
       "      <td>17204.0</td>\n",
       "      <td>...</td>\n",
       "      <td>NaN</td>\n",
       "      <td>2.0</td>\n",
       "      <td>186454.0</td>\n",
       "      <td>23485.0</td>\n",
       "      <td>172775.0</td>\n",
       "      <td>36828.0</td>\n",
       "      <td>107640.0</td>\n",
       "      <td>16198.0</td>\n",
       "      <td>NaN</td>\n",
       "      <td>2.0</td>\n",
       "    </tr>\n",
       "    <tr>\n",
       "      <th>4</th>\n",
       "      <td>110008377</td>\n",
       "      <td>Uždaroji akcinė bendrovė \"KOMPONENTAS\"</td>\n",
       "      <td>Uždaroji akcinė bendrovė</td>\n",
       "      <td>682000.0</td>\n",
       "      <td>Nuosavo arba nuomojamo nekilnojamojo turto nuo...</td>\n",
       "      <td>Vilniaus m. sav.</td>\n",
       "      <td>813517.0</td>\n",
       "      <td>1974318.0</td>\n",
       "      <td>2460243.0</td>\n",
       "      <td>327592.0</td>\n",
       "      <td>...</td>\n",
       "      <td>1297.04</td>\n",
       "      <td>4.0</td>\n",
       "      <td>836345.0</td>\n",
       "      <td>592593.0</td>\n",
       "      <td>665165.0</td>\n",
       "      <td>763773.0</td>\n",
       "      <td>2162155.0</td>\n",
       "      <td>119110.0</td>\n",
       "      <td>1506.25</td>\n",
       "      <td>4.0</td>\n",
       "    </tr>\n",
       "  </tbody>\n",
       "</table>\n",
       "<p>5 rows × 22 columns</p>\n",
       "</div>"
      ],
      "text/plain": [
       "   obj_kodas                                  obj_pav  \\\n",
       "0  110003978  Uždaroji akcinė bendrovė \"Lietkompexim\"   \n",
       "1  110004884        Uždaroji akcinė bendrovė \"VILLON\"   \n",
       "2  110005648             UAB \"Informacinės paslaugos\"   \n",
       "3  110006892       Uždaroji akcinė bendrovė \"Londvil\"   \n",
       "4  110008377   Uždaroji akcinė bendrovė \"KOMPONENTAS\"   \n",
       "\n",
       "                   form_pav  veiklos_kodas  \\\n",
       "0  Uždaroji akcinė bendrovė       682000.0   \n",
       "1  Uždaroji akcinė bendrovė       551000.0   \n",
       "2  Uždaroji akcinė bendrovė       620000.0   \n",
       "3  Uždaroji akcinė bendrovė       682000.0   \n",
       "4  Uždaroji akcinė bendrovė       682000.0   \n",
       "\n",
       "                                   veiklos_aprasymas       savivaldybe  \\\n",
       "0  Nuosavo arba nuomojamo nekilnojamojo turto nuo...  Vilniaus m. sav.   \n",
       "1       Viešbučių ir panašių laikinų buveinių veikla  Vilniaus r. sav.   \n",
       "2  Kompiuterių programavimo, konsultacinė ir susi...  Vilniaus m. sav.   \n",
       "3  Nuosavo arba nuomojamo nekilnojamojo turto nuo...  Vilniaus m. sav.   \n",
       "4  Nuosavo arba nuomojamo nekilnojamojo turto nuo...  Vilniaus m. sav.   \n",
       "\n",
       "   nuosavas_kapitalas_20  mok_sumos_ir_isipareigojimai_20  \\\n",
       "0              1781906.0                          91432.0   \n",
       "1              2993187.0                       37702011.0   \n",
       "2               711851.0                         530251.0   \n",
       "3               175256.0                          21719.0   \n",
       "4               813517.0                        1974318.0   \n",
       "\n",
       "   ilgalaikis_turtas_20  trumpalaikis_turtas_20  ...  vid_atlyginimas_20  \\\n",
       "0              382464.0               1490380.0  ...                 NaN   \n",
       "1            40070639.0                648384.0  ...             1401.75   \n",
       "2               89119.0               1125057.0  ...             2220.77   \n",
       "3               86608.0                 17204.0  ...                 NaN   \n",
       "4             2460243.0                327592.0  ...             1297.04   \n",
       "\n",
       "   darbuotoju_skaicius_20  nuosavas_kapitalas_21  \\\n",
       "0                     2.0              1755061.0   \n",
       "1                   211.0              2779511.0   \n",
       "2                    54.0               662043.0   \n",
       "3                     2.0               186454.0   \n",
       "4                     4.0               836345.0   \n",
       "\n",
       "   mok_sumos_ir_isipareigojimai_21  ilgalaikis_turtas_21  \\\n",
       "0                          23498.0              356897.0   \n",
       "1                       37446848.0            39827601.0   \n",
       "2                         707609.0               53300.0   \n",
       "3                          23485.0              172775.0   \n",
       "4                         592593.0              665165.0   \n",
       "\n",
       "   trumpalaikis_turtas_21  pardavimo_pajamos_21  grynasis_pelnas_21  \\\n",
       "0               1421293.0               85522.0             33153.0   \n",
       "1                457092.0             3111102.0           -213676.0   \n",
       "2               1262390.0             2657795.0            -49808.0   \n",
       "3                 36828.0              107640.0             16198.0   \n",
       "4                763773.0             2162155.0            119110.0   \n",
       "\n",
       "   vid_atlyginimas_21  darbuotoju_skaicius_21  \n",
       "0                 NaN                     2.0  \n",
       "1              945.27                   148.0  \n",
       "2             1500.84                    41.0  \n",
       "3                 NaN                     2.0  \n",
       "4             1506.25                     4.0  \n",
       "\n",
       "[5 rows x 22 columns]"
      ]
     },
     "execution_count": 95,
     "metadata": {},
     "output_type": "execute_result"
    },
    {
     "data": {
      "application/javascript": [
       "\n",
       "            setTimeout(function() {\n",
       "                var nbb_cell_id = 95;\n",
       "                var nbb_unformatted_code = \"df_visa.head()\";\n",
       "                var nbb_formatted_code = \"df_visa.head()\";\n",
       "                var nbb_cells = Jupyter.notebook.get_cells();\n",
       "                for (var i = 0; i < nbb_cells.length; ++i) {\n",
       "                    if (nbb_cells[i].input_prompt_number == nbb_cell_id) {\n",
       "                        if (nbb_cells[i].get_text() == nbb_unformatted_code) {\n",
       "                             nbb_cells[i].set_text(nbb_formatted_code);\n",
       "                        }\n",
       "                        break;\n",
       "                    }\n",
       "                }\n",
       "            }, 500);\n",
       "            "
      ],
      "text/plain": [
       "<IPython.core.display.Javascript object>"
      ]
     },
     "metadata": {},
     "output_type": "display_data"
    }
   ],
   "source": [
    "df_visa.head()"
   ]
  },
  {
   "cell_type": "code",
   "execution_count": 96,
   "id": "5db6051b",
   "metadata": {
    "ExecuteTime": {
     "end_time": "2022-12-08T19:44:01.324668Z",
     "start_time": "2022-12-08T19:44:01.297074Z"
    },
    "hidden": true
   },
   "outputs": [
    {
     "data": {
      "text/plain": [
       "(81981, 22)"
      ]
     },
     "execution_count": 96,
     "metadata": {},
     "output_type": "execute_result"
    },
    {
     "data": {
      "application/javascript": [
       "\n",
       "            setTimeout(function() {\n",
       "                var nbb_cell_id = 96;\n",
       "                var nbb_unformatted_code = \"df_visa.shape\";\n",
       "                var nbb_formatted_code = \"df_visa.shape\";\n",
       "                var nbb_cells = Jupyter.notebook.get_cells();\n",
       "                for (var i = 0; i < nbb_cells.length; ++i) {\n",
       "                    if (nbb_cells[i].input_prompt_number == nbb_cell_id) {\n",
       "                        if (nbb_cells[i].get_text() == nbb_unformatted_code) {\n",
       "                             nbb_cells[i].set_text(nbb_formatted_code);\n",
       "                        }\n",
       "                        break;\n",
       "                    }\n",
       "                }\n",
       "            }, 500);\n",
       "            "
      ],
      "text/plain": [
       "<IPython.core.display.Javascript object>"
      ]
     },
     "metadata": {},
     "output_type": "display_data"
    }
   ],
   "source": [
    "df_visa.shape"
   ]
  },
  {
   "cell_type": "code",
   "execution_count": 97,
   "id": "57b843cb",
   "metadata": {
    "ExecuteTime": {
     "end_time": "2022-12-08T19:44:01.356506Z",
     "start_time": "2022-12-08T19:44:01.327701Z"
    },
    "hidden": true
   },
   "outputs": [
    {
     "data": {
      "text/plain": [
       "Index(['obj_kodas', 'obj_pav', 'form_pav', 'veiklos_kodas',\n",
       "       'veiklos_aprasymas', 'savivaldybe', 'nuosavas_kapitalas_20',\n",
       "       'mok_sumos_ir_isipareigojimai_20', 'ilgalaikis_turtas_20',\n",
       "       'trumpalaikis_turtas_20', 'pardavimo_pajamos_20', 'grynasis_pelnas_20',\n",
       "       'vid_atlyginimas_20', 'darbuotoju_skaicius_20', 'nuosavas_kapitalas_21',\n",
       "       'mok_sumos_ir_isipareigojimai_21', 'ilgalaikis_turtas_21',\n",
       "       'trumpalaikis_turtas_21', 'pardavimo_pajamos_21', 'grynasis_pelnas_21',\n",
       "       'vid_atlyginimas_21', 'darbuotoju_skaicius_21'],\n",
       "      dtype='object')"
      ]
     },
     "execution_count": 97,
     "metadata": {},
     "output_type": "execute_result"
    },
    {
     "data": {
      "application/javascript": [
       "\n",
       "            setTimeout(function() {\n",
       "                var nbb_cell_id = 97;\n",
       "                var nbb_unformatted_code = \"df_visa.columns\";\n",
       "                var nbb_formatted_code = \"df_visa.columns\";\n",
       "                var nbb_cells = Jupyter.notebook.get_cells();\n",
       "                for (var i = 0; i < nbb_cells.length; ++i) {\n",
       "                    if (nbb_cells[i].input_prompt_number == nbb_cell_id) {\n",
       "                        if (nbb_cells[i].get_text() == nbb_unformatted_code) {\n",
       "                             nbb_cells[i].set_text(nbb_formatted_code);\n",
       "                        }\n",
       "                        break;\n",
       "                    }\n",
       "                }\n",
       "            }, 500);\n",
       "            "
      ],
      "text/plain": [
       "<IPython.core.display.Javascript object>"
      ]
     },
     "metadata": {},
     "output_type": "display_data"
    }
   ],
   "source": [
    "df_visa.columns"
   ]
  },
  {
   "cell_type": "markdown",
   "id": "ee864eef",
   "metadata": {
    "heading_collapsed": true,
    "hidden": true
   },
   "source": [
    "## 3.1. Išsiaiškinkite micro ir mažos įmonės apibrėžimą."
   ]
  },
  {
   "cell_type": "markdown",
   "id": "afb35dd6",
   "metadata": {
    "hidden": true
   },
   "source": [
    "Linkas [micro ir mažos įmonės](https://www.infolex.lt/ta/43747:str3#)"
   ]
  },
  {
   "cell_type": "markdown",
   "id": "cba265ed",
   "metadata": {
    "ExecuteTime": {
     "end_time": "2022-12-08T16:31:26.616270Z",
     "start_time": "2022-12-08T16:31:26.500076Z"
    },
    "heading_collapsed": true,
    "hidden": true
   },
   "source": [
    "## 3.2. Remdamiesi apibrėžimu išfiltruokite micro ir mažas įmones. Įmonės turi turėti statusą MB arba UAB."
   ]
  },
  {
   "cell_type": "code",
   "execution_count": 98,
   "id": "7fac0169",
   "metadata": {
    "ExecuteTime": {
     "end_time": "2022-12-08T19:44:01.388140Z",
     "start_time": "2022-12-08T19:44:01.359059Z"
    },
    "hidden": true
   },
   "outputs": [
    {
     "data": {
      "text/plain": [
       "11061"
      ]
     },
     "execution_count": 98,
     "metadata": {},
     "output_type": "execute_result"
    },
    {
     "data": {
      "application/javascript": [
       "\n",
       "            setTimeout(function() {\n",
       "                var nbb_cell_id = 98;\n",
       "                var nbb_unformatted_code = \"df_visa[\\\"form_pav\\\"].isna().sum()\";\n",
       "                var nbb_formatted_code = \"df_visa[\\\"form_pav\\\"].isna().sum()\";\n",
       "                var nbb_cells = Jupyter.notebook.get_cells();\n",
       "                for (var i = 0; i < nbb_cells.length; ++i) {\n",
       "                    if (nbb_cells[i].input_prompt_number == nbb_cell_id) {\n",
       "                        if (nbb_cells[i].get_text() == nbb_unformatted_code) {\n",
       "                             nbb_cells[i].set_text(nbb_formatted_code);\n",
       "                        }\n",
       "                        break;\n",
       "                    }\n",
       "                }\n",
       "            }, 500);\n",
       "            "
      ],
      "text/plain": [
       "<IPython.core.display.Javascript object>"
      ]
     },
     "metadata": {},
     "output_type": "display_data"
    }
   ],
   "source": [
    "df_visa[\"form_pav\"].isna().sum()"
   ]
  },
  {
   "cell_type": "markdown",
   "id": "01697fcb",
   "metadata": {
    "hidden": true
   },
   "source": [
    "Įrašus be formos pavadinimo išmetu"
   ]
  },
  {
   "cell_type": "code",
   "execution_count": 99,
   "id": "3414fb09",
   "metadata": {
    "ExecuteTime": {
     "end_time": "2022-12-08T19:44:01.434866Z",
     "start_time": "2022-12-08T19:44:01.392703Z"
    },
    "hidden": true
   },
   "outputs": [
    {
     "data": {
      "application/javascript": [
       "\n",
       "            setTimeout(function() {\n",
       "                var nbb_cell_id = 99;\n",
       "                var nbb_unformatted_code = \"df_visa_temp = df_visa[df_visa[\\\"form_pav\\\"].notna()]\";\n",
       "                var nbb_formatted_code = \"df_visa_temp = df_visa[df_visa[\\\"form_pav\\\"].notna()]\";\n",
       "                var nbb_cells = Jupyter.notebook.get_cells();\n",
       "                for (var i = 0; i < nbb_cells.length; ++i) {\n",
       "                    if (nbb_cells[i].input_prompt_number == nbb_cell_id) {\n",
       "                        if (nbb_cells[i].get_text() == nbb_unformatted_code) {\n",
       "                             nbb_cells[i].set_text(nbb_formatted_code);\n",
       "                        }\n",
       "                        break;\n",
       "                    }\n",
       "                }\n",
       "            }, 500);\n",
       "            "
      ],
      "text/plain": [
       "<IPython.core.display.Javascript object>"
      ]
     },
     "metadata": {},
     "output_type": "display_data"
    }
   ],
   "source": [
    "df_visa_temp = df_visa[df_visa[\"form_pav\"].notna()]"
   ]
  },
  {
   "cell_type": "code",
   "execution_count": 100,
   "id": "58156b49",
   "metadata": {
    "ExecuteTime": {
     "end_time": "2022-12-08T19:44:01.544655Z",
     "start_time": "2022-12-08T19:44:01.440471Z"
    },
    "hidden": true
   },
   "outputs": [
    {
     "data": {
      "application/javascript": [
       "\n",
       "            setTimeout(function() {\n",
       "                var nbb_cell_id = 100;\n",
       "                var nbb_unformatted_code = \"MB_UAB = \\\"|\\\".join([\\\"Ma\\u017eoji bendrija\\\", \\\"U\\u017edaroji akcin\\u0117 bendrov\\u0117\\\"])\\ndf_MB_UAB = df_visa_temp[df_visa_temp[\\\"form_pav\\\"].str.contains(MB_UAB)]\";\n",
       "                var nbb_formatted_code = \"MB_UAB = \\\"|\\\".join([\\\"Ma\\u017eoji bendrija\\\", \\\"U\\u017edaroji akcin\\u0117 bendrov\\u0117\\\"])\\ndf_MB_UAB = df_visa_temp[df_visa_temp[\\\"form_pav\\\"].str.contains(MB_UAB)]\";\n",
       "                var nbb_cells = Jupyter.notebook.get_cells();\n",
       "                for (var i = 0; i < nbb_cells.length; ++i) {\n",
       "                    if (nbb_cells[i].input_prompt_number == nbb_cell_id) {\n",
       "                        if (nbb_cells[i].get_text() == nbb_unformatted_code) {\n",
       "                             nbb_cells[i].set_text(nbb_formatted_code);\n",
       "                        }\n",
       "                        break;\n",
       "                    }\n",
       "                }\n",
       "            }, 500);\n",
       "            "
      ],
      "text/plain": [
       "<IPython.core.display.Javascript object>"
      ]
     },
     "metadata": {},
     "output_type": "display_data"
    }
   ],
   "source": [
    "MB_UAB = \"|\".join([\"Mažoji bendrija\", \"Uždaroji akcinė bendrovė\"])\n",
    "df_MB_UAB = df_visa_temp[df_visa_temp[\"form_pav\"].str.contains(MB_UAB)]"
   ]
  },
  {
   "cell_type": "code",
   "execution_count": 101,
   "id": "65947660",
   "metadata": {
    "ExecuteTime": {
     "end_time": "2022-12-08T19:44:01.637716Z",
     "start_time": "2022-12-08T19:44:01.549230Z"
    },
    "hidden": true
   },
   "outputs": [
    {
     "data": {
      "text/html": [
       "<div>\n",
       "<style scoped>\n",
       "    .dataframe tbody tr th:only-of-type {\n",
       "        vertical-align: middle;\n",
       "    }\n",
       "\n",
       "    .dataframe tbody tr th {\n",
       "        vertical-align: top;\n",
       "    }\n",
       "\n",
       "    .dataframe thead th {\n",
       "        text-align: right;\n",
       "    }\n",
       "</style>\n",
       "<table border=\"1\" class=\"dataframe\">\n",
       "  <thead>\n",
       "    <tr style=\"text-align: right;\">\n",
       "      <th></th>\n",
       "      <th>obj_kodas</th>\n",
       "      <th>obj_pav</th>\n",
       "      <th>form_pav</th>\n",
       "      <th>veiklos_kodas</th>\n",
       "      <th>veiklos_aprasymas</th>\n",
       "      <th>savivaldybe</th>\n",
       "      <th>nuosavas_kapitalas_20</th>\n",
       "      <th>mok_sumos_ir_isipareigojimai_20</th>\n",
       "      <th>ilgalaikis_turtas_20</th>\n",
       "      <th>trumpalaikis_turtas_20</th>\n",
       "      <th>...</th>\n",
       "      <th>vid_atlyginimas_20</th>\n",
       "      <th>darbuotoju_skaicius_20</th>\n",
       "      <th>nuosavas_kapitalas_21</th>\n",
       "      <th>mok_sumos_ir_isipareigojimai_21</th>\n",
       "      <th>ilgalaikis_turtas_21</th>\n",
       "      <th>trumpalaikis_turtas_21</th>\n",
       "      <th>pardavimo_pajamos_21</th>\n",
       "      <th>grynasis_pelnas_21</th>\n",
       "      <th>vid_atlyginimas_21</th>\n",
       "      <th>darbuotoju_skaicius_21</th>\n",
       "    </tr>\n",
       "  </thead>\n",
       "  <tbody>\n",
       "    <tr>\n",
       "      <th>0</th>\n",
       "      <td>110003978</td>\n",
       "      <td>Uždaroji akcinė bendrovė \"Lietkompexim\"</td>\n",
       "      <td>Uždaroji akcinė bendrovė</td>\n",
       "      <td>682000.0</td>\n",
       "      <td>Nuosavo arba nuomojamo nekilnojamojo turto nuo...</td>\n",
       "      <td>Vilniaus m. sav.</td>\n",
       "      <td>1781906.0</td>\n",
       "      <td>91432.0</td>\n",
       "      <td>382464.0</td>\n",
       "      <td>1490380.0</td>\n",
       "      <td>...</td>\n",
       "      <td>NaN</td>\n",
       "      <td>2.0</td>\n",
       "      <td>1755061.0</td>\n",
       "      <td>23498.0</td>\n",
       "      <td>356897.0</td>\n",
       "      <td>1421293.0</td>\n",
       "      <td>85522.0</td>\n",
       "      <td>33153.0</td>\n",
       "      <td>NaN</td>\n",
       "      <td>2.0</td>\n",
       "    </tr>\n",
       "    <tr>\n",
       "      <th>2</th>\n",
       "      <td>110005648</td>\n",
       "      <td>UAB \"Informacinės paslaugos\"</td>\n",
       "      <td>Uždaroji akcinė bendrovė</td>\n",
       "      <td>620000.0</td>\n",
       "      <td>Kompiuterių programavimo, konsultacinė ir susi...</td>\n",
       "      <td>Vilniaus m. sav.</td>\n",
       "      <td>711851.0</td>\n",
       "      <td>530251.0</td>\n",
       "      <td>89119.0</td>\n",
       "      <td>1125057.0</td>\n",
       "      <td>...</td>\n",
       "      <td>2220.77</td>\n",
       "      <td>54.0</td>\n",
       "      <td>662043.0</td>\n",
       "      <td>707609.0</td>\n",
       "      <td>53300.0</td>\n",
       "      <td>1262390.0</td>\n",
       "      <td>2657795.0</td>\n",
       "      <td>-49808.0</td>\n",
       "      <td>1500.84</td>\n",
       "      <td>41.0</td>\n",
       "    </tr>\n",
       "    <tr>\n",
       "      <th>3</th>\n",
       "      <td>110006892</td>\n",
       "      <td>Uždaroji akcinė bendrovė \"Londvil\"</td>\n",
       "      <td>Uždaroji akcinė bendrovė</td>\n",
       "      <td>682000.0</td>\n",
       "      <td>Nuosavo arba nuomojamo nekilnojamojo turto nuo...</td>\n",
       "      <td>Vilniaus m. sav.</td>\n",
       "      <td>175256.0</td>\n",
       "      <td>21719.0</td>\n",
       "      <td>86608.0</td>\n",
       "      <td>17204.0</td>\n",
       "      <td>...</td>\n",
       "      <td>NaN</td>\n",
       "      <td>2.0</td>\n",
       "      <td>186454.0</td>\n",
       "      <td>23485.0</td>\n",
       "      <td>172775.0</td>\n",
       "      <td>36828.0</td>\n",
       "      <td>107640.0</td>\n",
       "      <td>16198.0</td>\n",
       "      <td>NaN</td>\n",
       "      <td>2.0</td>\n",
       "    </tr>\n",
       "    <tr>\n",
       "      <th>4</th>\n",
       "      <td>110008377</td>\n",
       "      <td>Uždaroji akcinė bendrovė \"KOMPONENTAS\"</td>\n",
       "      <td>Uždaroji akcinė bendrovė</td>\n",
       "      <td>682000.0</td>\n",
       "      <td>Nuosavo arba nuomojamo nekilnojamojo turto nuo...</td>\n",
       "      <td>Vilniaus m. sav.</td>\n",
       "      <td>813517.0</td>\n",
       "      <td>1974318.0</td>\n",
       "      <td>2460243.0</td>\n",
       "      <td>327592.0</td>\n",
       "      <td>...</td>\n",
       "      <td>1297.04</td>\n",
       "      <td>4.0</td>\n",
       "      <td>836345.0</td>\n",
       "      <td>592593.0</td>\n",
       "      <td>665165.0</td>\n",
       "      <td>763773.0</td>\n",
       "      <td>2162155.0</td>\n",
       "      <td>119110.0</td>\n",
       "      <td>1506.25</td>\n",
       "      <td>4.0</td>\n",
       "    </tr>\n",
       "    <tr>\n",
       "      <th>8</th>\n",
       "      <td>110013748</td>\n",
       "      <td>Bendra Lietuvos JAV ir Rusijos įmonė uždaroji ...</td>\n",
       "      <td>Uždaroji akcinė bendrovė</td>\n",
       "      <td>464900.0</td>\n",
       "      <td>Kitų namų ūkio reikmenų didmeninė prekyba</td>\n",
       "      <td>Kauno m. sav.</td>\n",
       "      <td>193724.0</td>\n",
       "      <td>52483.0</td>\n",
       "      <td>147185.0</td>\n",
       "      <td>97165.0</td>\n",
       "      <td>...</td>\n",
       "      <td>1005.85</td>\n",
       "      <td>9.0</td>\n",
       "      <td>213497.0</td>\n",
       "      <td>86977.0</td>\n",
       "      <td>162855.0</td>\n",
       "      <td>135766.0</td>\n",
       "      <td>229124.0</td>\n",
       "      <td>19773.0</td>\n",
       "      <td>1234.07</td>\n",
       "      <td>9.0</td>\n",
       "    </tr>\n",
       "  </tbody>\n",
       "</table>\n",
       "<p>5 rows × 22 columns</p>\n",
       "</div>"
      ],
      "text/plain": [
       "   obj_kodas                                            obj_pav  \\\n",
       "0  110003978            Uždaroji akcinė bendrovė \"Lietkompexim\"   \n",
       "2  110005648                       UAB \"Informacinės paslaugos\"   \n",
       "3  110006892                 Uždaroji akcinė bendrovė \"Londvil\"   \n",
       "4  110008377             Uždaroji akcinė bendrovė \"KOMPONENTAS\"   \n",
       "8  110013748  Bendra Lietuvos JAV ir Rusijos įmonė uždaroji ...   \n",
       "\n",
       "                   form_pav  veiklos_kodas  \\\n",
       "0  Uždaroji akcinė bendrovė       682000.0   \n",
       "2  Uždaroji akcinė bendrovė       620000.0   \n",
       "3  Uždaroji akcinė bendrovė       682000.0   \n",
       "4  Uždaroji akcinė bendrovė       682000.0   \n",
       "8  Uždaroji akcinė bendrovė       464900.0   \n",
       "\n",
       "                                   veiklos_aprasymas       savivaldybe  \\\n",
       "0  Nuosavo arba nuomojamo nekilnojamojo turto nuo...  Vilniaus m. sav.   \n",
       "2  Kompiuterių programavimo, konsultacinė ir susi...  Vilniaus m. sav.   \n",
       "3  Nuosavo arba nuomojamo nekilnojamojo turto nuo...  Vilniaus m. sav.   \n",
       "4  Nuosavo arba nuomojamo nekilnojamojo turto nuo...  Vilniaus m. sav.   \n",
       "8          Kitų namų ūkio reikmenų didmeninė prekyba     Kauno m. sav.   \n",
       "\n",
       "   nuosavas_kapitalas_20  mok_sumos_ir_isipareigojimai_20  \\\n",
       "0              1781906.0                          91432.0   \n",
       "2               711851.0                         530251.0   \n",
       "3               175256.0                          21719.0   \n",
       "4               813517.0                        1974318.0   \n",
       "8               193724.0                          52483.0   \n",
       "\n",
       "   ilgalaikis_turtas_20  trumpalaikis_turtas_20  ...  vid_atlyginimas_20  \\\n",
       "0              382464.0               1490380.0  ...                 NaN   \n",
       "2               89119.0               1125057.0  ...             2220.77   \n",
       "3               86608.0                 17204.0  ...                 NaN   \n",
       "4             2460243.0                327592.0  ...             1297.04   \n",
       "8              147185.0                 97165.0  ...             1005.85   \n",
       "\n",
       "   darbuotoju_skaicius_20  nuosavas_kapitalas_21  \\\n",
       "0                     2.0              1755061.0   \n",
       "2                    54.0               662043.0   \n",
       "3                     2.0               186454.0   \n",
       "4                     4.0               836345.0   \n",
       "8                     9.0               213497.0   \n",
       "\n",
       "   mok_sumos_ir_isipareigojimai_21  ilgalaikis_turtas_21  \\\n",
       "0                          23498.0              356897.0   \n",
       "2                         707609.0               53300.0   \n",
       "3                          23485.0              172775.0   \n",
       "4                         592593.0              665165.0   \n",
       "8                          86977.0              162855.0   \n",
       "\n",
       "   trumpalaikis_turtas_21  pardavimo_pajamos_21  grynasis_pelnas_21  \\\n",
       "0               1421293.0               85522.0             33153.0   \n",
       "2               1262390.0             2657795.0            -49808.0   \n",
       "3                 36828.0              107640.0             16198.0   \n",
       "4                763773.0             2162155.0            119110.0   \n",
       "8                135766.0              229124.0             19773.0   \n",
       "\n",
       "   vid_atlyginimas_21  darbuotoju_skaicius_21  \n",
       "0                 NaN                     2.0  \n",
       "2             1500.84                    41.0  \n",
       "3                 NaN                     2.0  \n",
       "4             1506.25                     4.0  \n",
       "8             1234.07                     9.0  \n",
       "\n",
       "[5 rows x 22 columns]"
      ]
     },
     "execution_count": 101,
     "metadata": {},
     "output_type": "execute_result"
    },
    {
     "data": {
      "application/javascript": [
       "\n",
       "            setTimeout(function() {\n",
       "                var nbb_cell_id = 101;\n",
       "                var nbb_unformatted_code = \"darbuotojai = df_MB_UAB[\\\"darbuotoju_skaicius_21\\\"]\\npajamos = df_MB_UAB[\\\"pardavimo_pajamos_21\\\"]\\nturtas = df_MB_UAB[\\\"ilgalaikis_turtas_21\\\"] + df_MB_UAB[\\\"trumpalaikis_turtas_21\\\"]\\n\\nmikro_imone = (darbuotojai < 10) & ((pajamos < 2_000_000) | (turtas <= 2_000_000))\\nmaza_imone = (darbuotojai < 50) & ((pajamos < 10_000_000) | (turtas <= 10_000_000))\\n\\ndf_mikro_maza = df_MB_UAB[mikro_imone | maza_imone]\\ndf_mikro_maza.head()\";\n",
       "                var nbb_formatted_code = \"darbuotojai = df_MB_UAB[\\\"darbuotoju_skaicius_21\\\"]\\npajamos = df_MB_UAB[\\\"pardavimo_pajamos_21\\\"]\\nturtas = df_MB_UAB[\\\"ilgalaikis_turtas_21\\\"] + df_MB_UAB[\\\"trumpalaikis_turtas_21\\\"]\\n\\nmikro_imone = (darbuotojai < 10) & ((pajamos < 2_000_000) | (turtas <= 2_000_000))\\nmaza_imone = (darbuotojai < 50) & ((pajamos < 10_000_000) | (turtas <= 10_000_000))\\n\\ndf_mikro_maza = df_MB_UAB[mikro_imone | maza_imone]\\ndf_mikro_maza.head()\";\n",
       "                var nbb_cells = Jupyter.notebook.get_cells();\n",
       "                for (var i = 0; i < nbb_cells.length; ++i) {\n",
       "                    if (nbb_cells[i].input_prompt_number == nbb_cell_id) {\n",
       "                        if (nbb_cells[i].get_text() == nbb_unformatted_code) {\n",
       "                             nbb_cells[i].set_text(nbb_formatted_code);\n",
       "                        }\n",
       "                        break;\n",
       "                    }\n",
       "                }\n",
       "            }, 500);\n",
       "            "
      ],
      "text/plain": [
       "<IPython.core.display.Javascript object>"
      ]
     },
     "metadata": {},
     "output_type": "display_data"
    }
   ],
   "source": [
    "darbuotojai = df_MB_UAB[\"darbuotoju_skaicius_21\"]\n",
    "pajamos = df_MB_UAB[\"pardavimo_pajamos_21\"]\n",
    "turtas = df_MB_UAB[\"ilgalaikis_turtas_21\"] + df_MB_UAB[\"trumpalaikis_turtas_21\"]\n",
    "\n",
    "mikro_imone = (darbuotojai < 10) & ((pajamos < 2_000_000) | (turtas <= 2_000_000))\n",
    "maza_imone = (darbuotojai < 50) & ((pajamos < 10_000_000) | (turtas <= 10_000_000))\n",
    "\n",
    "df_mikro_maza = df_MB_UAB[mikro_imone | maza_imone]\n",
    "df_mikro_maza.head()"
   ]
  },
  {
   "cell_type": "code",
   "execution_count": 102,
   "id": "b682c34a",
   "metadata": {
    "ExecuteTime": {
     "end_time": "2022-12-08T19:44:01.653550Z",
     "start_time": "2022-12-08T19:44:01.643291Z"
    },
    "hidden": true
   },
   "outputs": [
    {
     "name": "stdout",
     "output_type": "stream",
     "text": [
      "Viso MB ir UAB: 66279\n",
      "Tarp jų mikro ir mazų: 56943\n"
     ]
    },
    {
     "data": {
      "application/javascript": [
       "\n",
       "            setTimeout(function() {\n",
       "                var nbb_cell_id = 102;\n",
       "                var nbb_unformatted_code = \"print(\\n    f\\\"Viso MB ir UAB: {len(df_MB_UAB):d}\\\\nTarp j\\u0173 mikro ir maz\\u0173: {len(df_mikro_maza):d}\\\"\\n)\";\n",
       "                var nbb_formatted_code = \"print(\\n    f\\\"Viso MB ir UAB: {len(df_MB_UAB):d}\\\\nTarp j\\u0173 mikro ir maz\\u0173: {len(df_mikro_maza):d}\\\"\\n)\";\n",
       "                var nbb_cells = Jupyter.notebook.get_cells();\n",
       "                for (var i = 0; i < nbb_cells.length; ++i) {\n",
       "                    if (nbb_cells[i].input_prompt_number == nbb_cell_id) {\n",
       "                        if (nbb_cells[i].get_text() == nbb_unformatted_code) {\n",
       "                             nbb_cells[i].set_text(nbb_formatted_code);\n",
       "                        }\n",
       "                        break;\n",
       "                    }\n",
       "                }\n",
       "            }, 500);\n",
       "            "
      ],
      "text/plain": [
       "<IPython.core.display.Javascript object>"
      ]
     },
     "metadata": {},
     "output_type": "display_data"
    }
   ],
   "source": [
    "print(\n",
    "    f\"Viso MB ir UAB: {len(df_MB_UAB):d}\\nTarp jų mikro ir mazų: {len(df_mikro_maza):d}\"\n",
    ")"
   ]
  },
  {
   "cell_type": "markdown",
   "id": "931ad29e",
   "metadata": {
    "ExecuteTime": {
     "end_time": "2022-12-08T16:56:29.518725Z",
     "start_time": "2022-12-08T16:56:29.443610Z"
    },
    "heading_collapsed": true,
    "hidden": true
   },
   "source": [
    "## 3.3.  Indentifikuokite labiausiai augusias įmones."
   ]
  },
  {
   "cell_type": "code",
   "execution_count": 103,
   "id": "316fcb9c",
   "metadata": {
    "ExecuteTime": {
     "end_time": "2022-12-08T19:44:01.716202Z",
     "start_time": "2022-12-08T19:44:01.659084Z"
    },
    "hidden": true
   },
   "outputs": [
    {
     "name": "stderr",
     "output_type": "stream",
     "text": [
      "C:\\Users\\Irmantas\\AppData\\Local\\Temp\\ipykernel_3184\\2753277514.py:1: SettingWithCopyWarning: \n",
      "A value is trying to be set on a copy of a slice from a DataFrame\n",
      "\n",
      "See the caveats in the documentation: https://pandas.pydata.org/pandas-docs/stable/user_guide/indexing.html#returning-a-view-versus-a-copy\n",
      "  df_mikro_maza[\"darbuotoju_skaicius_20\"].fillna(0, inplace=True)\n",
      "C:\\Users\\Irmantas\\AppData\\Local\\Temp\\ipykernel_3184\\2753277514.py:2: SettingWithCopyWarning: \n",
      "A value is trying to be set on a copy of a slice from a DataFrame\n",
      "\n",
      "See the caveats in the documentation: https://pandas.pydata.org/pandas-docs/stable/user_guide/indexing.html#returning-a-view-versus-a-copy\n",
      "  df_mikro_maza[\"darbuotoju_skaicius_21\"].fillna(0, inplace=True)\n",
      "C:\\Users\\Irmantas\\AppData\\Local\\Temp\\ipykernel_3184\\2753277514.py:4: SettingWithCopyWarning: \n",
      "A value is trying to be set on a copy of a slice from a DataFrame.\n",
      "Try using .loc[row_indexer,col_indexer] = value instead\n",
      "\n",
      "See the caveats in the documentation: https://pandas.pydata.org/pandas-docs/stable/user_guide/indexing.html#returning-a-view-versus-a-copy\n",
      "  df_mikro_maza[\"darbuotoju_pokytis\"] = (\n",
      "C:\\Users\\Irmantas\\AppData\\Local\\Temp\\ipykernel_3184\\2753277514.py:7: SettingWithCopyWarning: \n",
      "A value is trying to be set on a copy of a slice from a DataFrame.\n",
      "Try using .loc[row_indexer,col_indexer] = value instead\n",
      "\n",
      "See the caveats in the documentation: https://pandas.pydata.org/pandas-docs/stable/user_guide/indexing.html#returning-a-view-versus-a-copy\n",
      "  df_mikro_maza[\"pajamos_pokytis\"] = (\n",
      "C:\\Users\\Irmantas\\AppData\\Local\\Temp\\ipykernel_3184\\2753277514.py:10: SettingWithCopyWarning: \n",
      "A value is trying to be set on a copy of a slice from a DataFrame.\n",
      "Try using .loc[row_indexer,col_indexer] = value instead\n",
      "\n",
      "See the caveats in the documentation: https://pandas.pydata.org/pandas-docs/stable/user_guide/indexing.html#returning-a-view-versus-a-copy\n",
      "  df_mikro_maza[\"ilg_turtas_pokytis\"] = (\n",
      "C:\\Users\\Irmantas\\AppData\\Local\\Temp\\ipykernel_3184\\2753277514.py:13: SettingWithCopyWarning: \n",
      "A value is trying to be set on a copy of a slice from a DataFrame.\n",
      "Try using .loc[row_indexer,col_indexer] = value instead\n",
      "\n",
      "See the caveats in the documentation: https://pandas.pydata.org/pandas-docs/stable/user_guide/indexing.html#returning-a-view-versus-a-copy\n",
      "  df_mikro_maza[\"vid_atlyginimas_pokytis\"] = (\n",
      "C:\\Users\\Irmantas\\AppData\\Local\\Temp\\ipykernel_3184\\2753277514.py:16: SettingWithCopyWarning: \n",
      "A value is trying to be set on a copy of a slice from a DataFrame.\n",
      "Try using .loc[row_indexer,col_indexer] = value instead\n",
      "\n",
      "See the caveats in the documentation: https://pandas.pydata.org/pandas-docs/stable/user_guide/indexing.html#returning-a-view-versus-a-copy\n",
      "  df_mikro_maza[\"isipareigojimai_pokytis\"] = (\n"
     ]
    },
    {
     "data": {
      "application/javascript": [
       "\n",
       "            setTimeout(function() {\n",
       "                var nbb_cell_id = 103;\n",
       "                var nbb_unformatted_code = \"df_mikro_maza[\\\"darbuotoju_skaicius_20\\\"].fillna(0, inplace=True)\\ndf_mikro_maza[\\\"darbuotoju_skaicius_21\\\"].fillna(0, inplace=True)\\n\\ndf_mikro_maza[\\\"darbuotoju_pokytis\\\"] = (\\n    df_mikro_maza[\\\"darbuotoju_skaicius_21\\\"] - df_mikro_maza[\\\"darbuotoju_skaicius_20\\\"]\\n)\\ndf_mikro_maza[\\\"pajamos_pokytis\\\"] = (\\n    df_mikro_maza[\\\"pardavimo_pajamos_21\\\"] - df_mikro_maza[\\\"pardavimo_pajamos_20\\\"]\\n)\\ndf_mikro_maza[\\\"ilg_turtas_pokytis\\\"] = (\\n    df_mikro_maza[\\\"ilgalaikis_turtas_21\\\"] - df_mikro_maza[\\\"ilgalaikis_turtas_20\\\"]\\n)\\ndf_mikro_maza[\\\"vid_atlyginimas_pokytis\\\"] = (\\n    df_mikro_maza[\\\"vid_atlyginimas_21\\\"] - df_mikro_maza[\\\"vid_atlyginimas_20\\\"]\\n)\\ndf_mikro_maza[\\\"isipareigojimai_pokytis\\\"] = (\\n    df_mikro_maza[\\\"vid_atlyginimas_21\\\"] - df_mikro_maza[\\\"vid_atlyginimas_20\\\"]\\n)\\n\\n\\ndf_rez = df_mikro_maza[\\n    [\\n        \\\"obj_kodas\\\",\\n        \\\"obj_pav\\\",\\n        \\\"darbuotoju_pokytis\\\",\\n        \\\"pajamos_pokytis\\\",\\n        \\\"ilg_turtas_pokytis\\\",\\n        \\\"vid_atlyginimas_pokytis\\\",\\n        \\\"isipareigojimai_pokytis\\\",\\n    ]\\n]\";\n",
       "                var nbb_formatted_code = \"df_mikro_maza[\\\"darbuotoju_skaicius_20\\\"].fillna(0, inplace=True)\\ndf_mikro_maza[\\\"darbuotoju_skaicius_21\\\"].fillna(0, inplace=True)\\n\\ndf_mikro_maza[\\\"darbuotoju_pokytis\\\"] = (\\n    df_mikro_maza[\\\"darbuotoju_skaicius_21\\\"] - df_mikro_maza[\\\"darbuotoju_skaicius_20\\\"]\\n)\\ndf_mikro_maza[\\\"pajamos_pokytis\\\"] = (\\n    df_mikro_maza[\\\"pardavimo_pajamos_21\\\"] - df_mikro_maza[\\\"pardavimo_pajamos_20\\\"]\\n)\\ndf_mikro_maza[\\\"ilg_turtas_pokytis\\\"] = (\\n    df_mikro_maza[\\\"ilgalaikis_turtas_21\\\"] - df_mikro_maza[\\\"ilgalaikis_turtas_20\\\"]\\n)\\ndf_mikro_maza[\\\"vid_atlyginimas_pokytis\\\"] = (\\n    df_mikro_maza[\\\"vid_atlyginimas_21\\\"] - df_mikro_maza[\\\"vid_atlyginimas_20\\\"]\\n)\\ndf_mikro_maza[\\\"isipareigojimai_pokytis\\\"] = (\\n    df_mikro_maza[\\\"vid_atlyginimas_21\\\"] - df_mikro_maza[\\\"vid_atlyginimas_20\\\"]\\n)\\n\\n\\ndf_rez = df_mikro_maza[\\n    [\\n        \\\"obj_kodas\\\",\\n        \\\"obj_pav\\\",\\n        \\\"darbuotoju_pokytis\\\",\\n        \\\"pajamos_pokytis\\\",\\n        \\\"ilg_turtas_pokytis\\\",\\n        \\\"vid_atlyginimas_pokytis\\\",\\n        \\\"isipareigojimai_pokytis\\\",\\n    ]\\n]\";\n",
       "                var nbb_cells = Jupyter.notebook.get_cells();\n",
       "                for (var i = 0; i < nbb_cells.length; ++i) {\n",
       "                    if (nbb_cells[i].input_prompt_number == nbb_cell_id) {\n",
       "                        if (nbb_cells[i].get_text() == nbb_unformatted_code) {\n",
       "                             nbb_cells[i].set_text(nbb_formatted_code);\n",
       "                        }\n",
       "                        break;\n",
       "                    }\n",
       "                }\n",
       "            }, 500);\n",
       "            "
      ],
      "text/plain": [
       "<IPython.core.display.Javascript object>"
      ]
     },
     "metadata": {},
     "output_type": "display_data"
    }
   ],
   "source": [
    "df_mikro_maza[\"darbuotoju_skaicius_20\"].fillna(0, inplace=True)\n",
    "df_mikro_maza[\"darbuotoju_skaicius_21\"].fillna(0, inplace=True)\n",
    "\n",
    "df_mikro_maza[\"darbuotoju_pokytis\"] = (\n",
    "    df_mikro_maza[\"darbuotoju_skaicius_21\"] - df_mikro_maza[\"darbuotoju_skaicius_20\"]\n",
    ")\n",
    "df_mikro_maza[\"pajamos_pokytis\"] = (\n",
    "    df_mikro_maza[\"pardavimo_pajamos_21\"] - df_mikro_maza[\"pardavimo_pajamos_20\"]\n",
    ")\n",
    "df_mikro_maza[\"ilg_turtas_pokytis\"] = (\n",
    "    df_mikro_maza[\"ilgalaikis_turtas_21\"] - df_mikro_maza[\"ilgalaikis_turtas_20\"]\n",
    ")\n",
    "df_mikro_maza[\"vid_atlyginimas_pokytis\"] = (\n",
    "    df_mikro_maza[\"vid_atlyginimas_21\"] - df_mikro_maza[\"vid_atlyginimas_20\"]\n",
    ")\n",
    "df_mikro_maza[\"isipareigojimai_pokytis\"] = (\n",
    "    df_mikro_maza[\"vid_atlyginimas_21\"] - df_mikro_maza[\"vid_atlyginimas_20\"]\n",
    ")\n",
    "\n",
    "\n",
    "df_rez = df_mikro_maza[\n",
    "    [\n",
    "        \"obj_kodas\",\n",
    "        \"obj_pav\",\n",
    "        \"darbuotoju_pokytis\",\n",
    "        \"pajamos_pokytis\",\n",
    "        \"ilg_turtas_pokytis\",\n",
    "        \"vid_atlyginimas_pokytis\",\n",
    "        \"isipareigojimai_pokytis\",\n",
    "    ]\n",
    "]"
   ]
  },
  {
   "cell_type": "markdown",
   "id": "fc29ab76",
   "metadata": {
    "hidden": true
   },
   "source": [
    "Paskaičiuoju kiekvieno pokyčio kvantilius (0.1 ir 0.9)\n",
    "Jei pokytis nepapuola į kvantilių intervalą skaitau kad įmonė nusišypsojo \"sėkmė\". Tokias įmones atmetu"
   ]
  },
  {
   "cell_type": "code",
   "execution_count": 105,
   "id": "828eed24",
   "metadata": {
    "ExecuteTime": {
     "end_time": "2022-12-08T19:44:57.617036Z",
     "start_time": "2022-12-08T19:44:57.571185Z"
    },
    "code_folding": [],
    "hidden": true
   },
   "outputs": [
    {
     "data": {
      "text/html": [
       "<div>\n",
       "<style scoped>\n",
       "    .dataframe tbody tr th:only-of-type {\n",
       "        vertical-align: middle;\n",
       "    }\n",
       "\n",
       "    .dataframe tbody tr th {\n",
       "        vertical-align: top;\n",
       "    }\n",
       "\n",
       "    .dataframe thead th {\n",
       "        text-align: right;\n",
       "    }\n",
       "</style>\n",
       "<table border=\"1\" class=\"dataframe\">\n",
       "  <thead>\n",
       "    <tr style=\"text-align: right;\">\n",
       "      <th></th>\n",
       "      <th>darbuotoju_pokytis</th>\n",
       "      <th>pajamos_pokytis</th>\n",
       "      <th>ilg_turtas_pokytis</th>\n",
       "      <th>vid_atlyginimas_pokytis</th>\n",
       "      <th>isipareigojimai_pokytis</th>\n",
       "    </tr>\n",
       "  </thead>\n",
       "  <tbody>\n",
       "    <tr>\n",
       "      <th>0.1</th>\n",
       "      <td>-2.0</td>\n",
       "      <td>-151929.0</td>\n",
       "      <td>-23167.2</td>\n",
       "      <td>-171.547</td>\n",
       "      <td>-171.547</td>\n",
       "    </tr>\n",
       "    <tr>\n",
       "      <th>0.9</th>\n",
       "      <td>2.0</td>\n",
       "      <td>174480.0</td>\n",
       "      <td>28613.6</td>\n",
       "      <td>385.058</td>\n",
       "      <td>385.058</td>\n",
       "    </tr>\n",
       "  </tbody>\n",
       "</table>\n",
       "</div>"
      ],
      "text/plain": [
       "     darbuotoju_pokytis  pajamos_pokytis  ilg_turtas_pokytis  \\\n",
       "0.1                -2.0        -151929.0            -23167.2   \n",
       "0.9                 2.0         174480.0             28613.6   \n",
       "\n",
       "     vid_atlyginimas_pokytis  isipareigojimai_pokytis  \n",
       "0.1                 -171.547                 -171.547  \n",
       "0.9                  385.058                  385.058  "
      ]
     },
     "execution_count": 105,
     "metadata": {},
     "output_type": "execute_result"
    },
    {
     "data": {
      "application/javascript": [
       "\n",
       "            setTimeout(function() {\n",
       "                var nbb_cell_id = 105;\n",
       "                var nbb_unformatted_code = \"q_columns = [\\n    \\\"darbuotoju_pokytis\\\",\\n    \\\"pajamos_pokytis\\\",\\n    \\\"ilg_turtas_pokytis\\\",\\n    \\\"vid_atlyginimas_pokytis\\\",\\n    \\\"isipareigojimai_pokytis\\\",\\n]\\nq = df_rez.quantile(np.array([0.1, 0.9]), numeric_only=True)[q_columns]\\nq\";\n",
       "                var nbb_formatted_code = \"q_columns = [\\n    \\\"darbuotoju_pokytis\\\",\\n    \\\"pajamos_pokytis\\\",\\n    \\\"ilg_turtas_pokytis\\\",\\n    \\\"vid_atlyginimas_pokytis\\\",\\n    \\\"isipareigojimai_pokytis\\\",\\n]\\nq = df_rez.quantile(np.array([0.1, 0.9]), numeric_only=True)[q_columns]\\nq\";\n",
       "                var nbb_cells = Jupyter.notebook.get_cells();\n",
       "                for (var i = 0; i < nbb_cells.length; ++i) {\n",
       "                    if (nbb_cells[i].input_prompt_number == nbb_cell_id) {\n",
       "                        if (nbb_cells[i].get_text() == nbb_unformatted_code) {\n",
       "                             nbb_cells[i].set_text(nbb_formatted_code);\n",
       "                        }\n",
       "                        break;\n",
       "                    }\n",
       "                }\n",
       "            }, 500);\n",
       "            "
      ],
      "text/plain": [
       "<IPython.core.display.Javascript object>"
      ]
     },
     "metadata": {},
     "output_type": "display_data"
    }
   ],
   "source": [
    "q_columns = [\n",
    "    \"darbuotoju_pokytis\",\n",
    "    \"pajamos_pokytis\",\n",
    "    \"ilg_turtas_pokytis\",\n",
    "    \"vid_atlyginimas_pokytis\",\n",
    "    \"isipareigojimai_pokytis\",\n",
    "]\n",
    "q = df_rez.quantile(np.array([0.1, 0.9]), numeric_only=True)[q_columns]\n",
    "q"
   ]
  },
  {
   "cell_type": "code",
   "execution_count": 107,
   "id": "da72d879",
   "metadata": {
    "ExecuteTime": {
     "end_time": "2022-12-08T19:45:17.023249Z",
     "start_time": "2022-12-08T19:45:16.976776Z"
    },
    "hidden": true
   },
   "outputs": [
    {
     "data": {
      "application/javascript": [
       "\n",
       "            setTimeout(function() {\n",
       "                var nbb_cell_id = 107;\n",
       "                var nbb_unformatted_code = \"df_rez2 = df_rez\\nfor col in q_columns:\\n    df_rez2 = df_rez2[\\n        ((df_rez2[col] >= q.loc[0.1, col]) & (df_rez2[col] <= q.loc[0.9, col]))\\n    ]\\n# df_rez2\";\n",
       "                var nbb_formatted_code = \"df_rez2 = df_rez\\nfor col in q_columns:\\n    df_rez2 = df_rez2[\\n        ((df_rez2[col] >= q.loc[0.1, col]) & (df_rez2[col] <= q.loc[0.9, col]))\\n    ]\\n# df_rez2\";\n",
       "                var nbb_cells = Jupyter.notebook.get_cells();\n",
       "                for (var i = 0; i < nbb_cells.length; ++i) {\n",
       "                    if (nbb_cells[i].input_prompt_number == nbb_cell_id) {\n",
       "                        if (nbb_cells[i].get_text() == nbb_unformatted_code) {\n",
       "                             nbb_cells[i].set_text(nbb_formatted_code);\n",
       "                        }\n",
       "                        break;\n",
       "                    }\n",
       "                }\n",
       "            }, 500);\n",
       "            "
      ],
      "text/plain": [
       "<IPython.core.display.Javascript object>"
      ]
     },
     "metadata": {},
     "output_type": "display_data"
    }
   ],
   "source": [
    "df_rez2 = df_rez\n",
    "for col in q_columns:\n",
    "    df_rez2 = df_rez2[\n",
    "        ((df_rez2[col] >= q.loc[0.1, col]) & (df_rez2[col] <= q.loc[0.9, col]))\n",
    "    ]\n",
    "# df_rez2"
   ]
  },
  {
   "cell_type": "markdown",
   "id": "21f5e35b",
   "metadata": {
    "hidden": true
   },
   "source": [
    "Suskaičiuoju kiekvieno pokyčio rangą ir bendrą rangą (visų rangų suma)\n",
    "Kuo bendras rangas mažesnis, tuo įmonė labiausiai paaugo"
   ]
  },
  {
   "cell_type": "code",
   "execution_count": 108,
   "id": "5dd27674",
   "metadata": {
    "ExecuteTime": {
     "end_time": "2022-12-08T19:45:19.786511Z",
     "start_time": "2022-12-08T19:45:19.744866Z"
    },
    "hidden": true
   },
   "outputs": [
    {
     "data": {
      "application/javascript": [
       "\n",
       "            setTimeout(function() {\n",
       "                var nbb_cell_id = 108;\n",
       "                var nbb_unformatted_code = \"df_rez2[\\\"pajamos_pokytis_rank\\\"] = df_rez2[[\\\"pajamos_pokytis\\\"]].rank(ascending=False)\\ndf_rez2[\\\"ilg_turtas_pokytis_rank\\\"] = df_rez2[[\\\"ilg_turtas_pokytis\\\"]].rank(ascending=False)\\ndf_rez2[\\\"vid_atlyginimas_pokytis_rank\\\"] = df_rez2[[\\\"vid_atlyginimas_pokytis\\\"]].rank(ascending=False)\\ndf_rez2[\\\"isipareigojimai_pokytis_rank\\\"] = df_rez2[[\\\"isipareigojimai_pokytis\\\"]].rank()\\ndf_rez2['bendras_rank'] = df_rez2[\\\"pajamos_pokytis_rank\\\"] + df_rez2[\\\"ilg_turtas_pokytis_rank\\\"] + df_rez2[\\\"isipareigojimai_pokytis_rank\\\"] + df_rez2[\\\"isipareigojimai_pokytis_rank\\\"]\";\n",
       "                var nbb_formatted_code = \"df_rez2[\\\"pajamos_pokytis_rank\\\"] = df_rez2[[\\\"pajamos_pokytis\\\"]].rank(ascending=False)\\ndf_rez2[\\\"ilg_turtas_pokytis_rank\\\"] = df_rez2[[\\\"ilg_turtas_pokytis\\\"]].rank(\\n    ascending=False\\n)\\ndf_rez2[\\\"vid_atlyginimas_pokytis_rank\\\"] = df_rez2[[\\\"vid_atlyginimas_pokytis\\\"]].rank(\\n    ascending=False\\n)\\ndf_rez2[\\\"isipareigojimai_pokytis_rank\\\"] = df_rez2[[\\\"isipareigojimai_pokytis\\\"]].rank()\\ndf_rez2[\\\"bendras_rank\\\"] = (\\n    df_rez2[\\\"pajamos_pokytis_rank\\\"]\\n    + df_rez2[\\\"ilg_turtas_pokytis_rank\\\"]\\n    + df_rez2[\\\"isipareigojimai_pokytis_rank\\\"]\\n    + df_rez2[\\\"isipareigojimai_pokytis_rank\\\"]\\n)\";\n",
       "                var nbb_cells = Jupyter.notebook.get_cells();\n",
       "                for (var i = 0; i < nbb_cells.length; ++i) {\n",
       "                    if (nbb_cells[i].input_prompt_number == nbb_cell_id) {\n",
       "                        if (nbb_cells[i].get_text() == nbb_unformatted_code) {\n",
       "                             nbb_cells[i].set_text(nbb_formatted_code);\n",
       "                        }\n",
       "                        break;\n",
       "                    }\n",
       "                }\n",
       "            }, 500);\n",
       "            "
      ],
      "text/plain": [
       "<IPython.core.display.Javascript object>"
      ]
     },
     "metadata": {},
     "output_type": "display_data"
    }
   ],
   "source": [
    "df_rez2[\"pajamos_pokytis_rank\"] = df_rez2[[\"pajamos_pokytis\"]].rank(ascending=False)\n",
    "df_rez2[\"ilg_turtas_pokytis_rank\"] = df_rez2[[\"ilg_turtas_pokytis\"]].rank(ascending=False)\n",
    "df_rez2[\"vid_atlyginimas_pokytis_rank\"] = df_rez2[[\"vid_atlyginimas_pokytis\"]].rank(ascending=False)\n",
    "df_rez2[\"isipareigojimai_pokytis_rank\"] = df_rez2[[\"isipareigojimai_pokytis\"]].rank()\n",
    "df_rez2['bendras_rank'] = df_rez2[\"pajamos_pokytis_rank\"] + df_rez2[\"ilg_turtas_pokytis_rank\"] + df_rez2[\"isipareigojimai_pokytis_rank\"] + df_rez2[\"isipareigojimai_pokytis_rank\"]\n"
   ]
  },
  {
   "cell_type": "code",
   "execution_count": 109,
   "id": "204222e7",
   "metadata": {
    "ExecuteTime": {
     "end_time": "2022-12-08T19:45:21.574838Z",
     "start_time": "2022-12-08T19:45:21.537008Z"
    },
    "hidden": true
   },
   "outputs": [
    {
     "name": "stdout",
     "output_type": "stream",
     "text": [
      "---- Top10 geriausių įmonių --------\n"
     ]
    },
    {
     "data": {
      "text/html": [
       "<div>\n",
       "<style scoped>\n",
       "    .dataframe tbody tr th:only-of-type {\n",
       "        vertical-align: middle;\n",
       "    }\n",
       "\n",
       "    .dataframe tbody tr th {\n",
       "        vertical-align: top;\n",
       "    }\n",
       "\n",
       "    .dataframe thead th {\n",
       "        text-align: right;\n",
       "    }\n",
       "</style>\n",
       "<table border=\"1\" class=\"dataframe\">\n",
       "  <thead>\n",
       "    <tr style=\"text-align: right;\">\n",
       "      <th></th>\n",
       "      <th>obj_kodas</th>\n",
       "      <th>obj_pav</th>\n",
       "      <th>darbuotoju_pokytis</th>\n",
       "      <th>pajamos_pokytis</th>\n",
       "      <th>ilg_turtas_pokytis</th>\n",
       "      <th>vid_atlyginimas_pokytis</th>\n",
       "      <th>isipareigojimai_pokytis</th>\n",
       "      <th>bendras_rank</th>\n",
       "    </tr>\n",
       "  </thead>\n",
       "  <tbody>\n",
       "    <tr>\n",
       "      <th>51439</th>\n",
       "      <td>303992433</td>\n",
       "      <td>UAB \"Aitrena\"</td>\n",
       "      <td>-1.0</td>\n",
       "      <td>106680.0</td>\n",
       "      <td>26497.0</td>\n",
       "      <td>-135.79</td>\n",
       "      <td>-135.79</td>\n",
       "      <td>1226.0</td>\n",
       "    </tr>\n",
       "    <tr>\n",
       "      <th>36930</th>\n",
       "      <td>302660086</td>\n",
       "      <td>UAB \"Grundotech\"</td>\n",
       "      <td>0.0</td>\n",
       "      <td>172125.0</td>\n",
       "      <td>14121.0</td>\n",
       "      <td>-141.68</td>\n",
       "      <td>-141.68</td>\n",
       "      <td>1230.0</td>\n",
       "    </tr>\n",
       "    <tr>\n",
       "      <th>33425</th>\n",
       "      <td>302533320</td>\n",
       "      <td>Forstila UAB</td>\n",
       "      <td>0.0</td>\n",
       "      <td>110395.0</td>\n",
       "      <td>23434.0</td>\n",
       "      <td>-126.12</td>\n",
       "      <td>-126.12</td>\n",
       "      <td>1483.0</td>\n",
       "    </tr>\n",
       "    <tr>\n",
       "      <th>37677</th>\n",
       "      <td>302685207</td>\n",
       "      <td>UAB \"REZETAS KL\"</td>\n",
       "      <td>0.0</td>\n",
       "      <td>151300.0</td>\n",
       "      <td>11452.0</td>\n",
       "      <td>-135.14</td>\n",
       "      <td>-135.14</td>\n",
       "      <td>1671.0</td>\n",
       "    </tr>\n",
       "    <tr>\n",
       "      <th>62559</th>\n",
       "      <td>304738815</td>\n",
       "      <td>UAB \"Agrava\"</td>\n",
       "      <td>2.0</td>\n",
       "      <td>123261.0</td>\n",
       "      <td>27926.0</td>\n",
       "      <td>-106.96</td>\n",
       "      <td>-106.96</td>\n",
       "      <td>1713.0</td>\n",
       "    </tr>\n",
       "    <tr>\n",
       "      <th>52632</th>\n",
       "      <td>304075722</td>\n",
       "      <td>UAB \"Vilgintė\"</td>\n",
       "      <td>1.0</td>\n",
       "      <td>75063.0</td>\n",
       "      <td>13343.0</td>\n",
       "      <td>-166.04</td>\n",
       "      <td>-166.04</td>\n",
       "      <td>1965.0</td>\n",
       "    </tr>\n",
       "    <tr>\n",
       "      <th>27367</th>\n",
       "      <td>301635945</td>\n",
       "      <td>UAB \"HIPERIONAS\"</td>\n",
       "      <td>0.0</td>\n",
       "      <td>77728.0</td>\n",
       "      <td>19713.0</td>\n",
       "      <td>-133.93</td>\n",
       "      <td>-133.93</td>\n",
       "      <td>2058.0</td>\n",
       "    </tr>\n",
       "    <tr>\n",
       "      <th>69997</th>\n",
       "      <td>305235432</td>\n",
       "      <td>MB \"Ragas\"</td>\n",
       "      <td>2.0</td>\n",
       "      <td>168432.0</td>\n",
       "      <td>20634.0</td>\n",
       "      <td>-91.77</td>\n",
       "      <td>-91.77</td>\n",
       "      <td>2151.0</td>\n",
       "    </tr>\n",
       "    <tr>\n",
       "      <th>67358</th>\n",
       "      <td>304989550</td>\n",
       "      <td>UAB \"Pastato sistemos\"</td>\n",
       "      <td>2.0</td>\n",
       "      <td>111793.0</td>\n",
       "      <td>10968.0</td>\n",
       "      <td>-124.47</td>\n",
       "      <td>-124.47</td>\n",
       "      <td>2295.5</td>\n",
       "    </tr>\n",
       "    <tr>\n",
       "      <th>45652</th>\n",
       "      <td>303159473</td>\n",
       "      <td>UAB \"Pilis IT\"</td>\n",
       "      <td>2.0</td>\n",
       "      <td>130027.0</td>\n",
       "      <td>23877.0</td>\n",
       "      <td>-89.56</td>\n",
       "      <td>-89.56</td>\n",
       "      <td>2328.0</td>\n",
       "    </tr>\n",
       "  </tbody>\n",
       "</table>\n",
       "</div>"
      ],
      "text/plain": [
       "       obj_kodas                 obj_pav  darbuotoju_pokytis  pajamos_pokytis  \\\n",
       "51439  303992433           UAB \"Aitrena\"                -1.0         106680.0   \n",
       "36930  302660086        UAB \"Grundotech\"                 0.0         172125.0   \n",
       "33425  302533320            Forstila UAB                 0.0         110395.0   \n",
       "37677  302685207        UAB \"REZETAS KL\"                 0.0         151300.0   \n",
       "62559  304738815            UAB \"Agrava\"                 2.0         123261.0   \n",
       "52632  304075722          UAB \"Vilgintė\"                 1.0          75063.0   \n",
       "27367  301635945        UAB \"HIPERIONAS\"                 0.0          77728.0   \n",
       "69997  305235432              MB \"Ragas\"                 2.0         168432.0   \n",
       "67358  304989550  UAB \"Pastato sistemos\"                 2.0         111793.0   \n",
       "45652  303159473          UAB \"Pilis IT\"                 2.0         130027.0   \n",
       "\n",
       "       ilg_turtas_pokytis  vid_atlyginimas_pokytis  isipareigojimai_pokytis  \\\n",
       "51439             26497.0                  -135.79                  -135.79   \n",
       "36930             14121.0                  -141.68                  -141.68   \n",
       "33425             23434.0                  -126.12                  -126.12   \n",
       "37677             11452.0                  -135.14                  -135.14   \n",
       "62559             27926.0                  -106.96                  -106.96   \n",
       "52632             13343.0                  -166.04                  -166.04   \n",
       "27367             19713.0                  -133.93                  -133.93   \n",
       "69997             20634.0                   -91.77                   -91.77   \n",
       "67358             10968.0                  -124.47                  -124.47   \n",
       "45652             23877.0                   -89.56                   -89.56   \n",
       "\n",
       "       bendras_rank  \n",
       "51439        1226.0  \n",
       "36930        1230.0  \n",
       "33425        1483.0  \n",
       "37677        1671.0  \n",
       "62559        1713.0  \n",
       "52632        1965.0  \n",
       "27367        2058.0  \n",
       "69997        2151.0  \n",
       "67358        2295.5  \n",
       "45652        2328.0  "
      ]
     },
     "execution_count": 109,
     "metadata": {},
     "output_type": "execute_result"
    },
    {
     "data": {
      "application/javascript": [
       "\n",
       "            setTimeout(function() {\n",
       "                var nbb_cell_id = 109;\n",
       "                var nbb_unformatted_code = \"print(\\\"---- Top10 geriausi\\u0173 \\u012fmoni\\u0173 --------\\\")\\ndf_rez2.sort_values(\\\"bendras_rank\\\")[\\n    [\\n        \\\"obj_kodas\\\",\\n        \\\"obj_pav\\\",\\n        \\\"darbuotoju_pokytis\\\",\\n        \\\"pajamos_pokytis\\\",\\n        \\\"ilg_turtas_pokytis\\\",\\n        \\\"vid_atlyginimas_pokytis\\\",\\n        \\\"isipareigojimai_pokytis\\\",\\n        \\\"bendras_rank\\\",\\n    ]\\n].head(10)\";\n",
       "                var nbb_formatted_code = \"print(\\\"---- Top10 geriausi\\u0173 \\u012fmoni\\u0173 --------\\\")\\ndf_rez2.sort_values(\\\"bendras_rank\\\")[\\n    [\\n        \\\"obj_kodas\\\",\\n        \\\"obj_pav\\\",\\n        \\\"darbuotoju_pokytis\\\",\\n        \\\"pajamos_pokytis\\\",\\n        \\\"ilg_turtas_pokytis\\\",\\n        \\\"vid_atlyginimas_pokytis\\\",\\n        \\\"isipareigojimai_pokytis\\\",\\n        \\\"bendras_rank\\\",\\n    ]\\n].head(10)\";\n",
       "                var nbb_cells = Jupyter.notebook.get_cells();\n",
       "                for (var i = 0; i < nbb_cells.length; ++i) {\n",
       "                    if (nbb_cells[i].input_prompt_number == nbb_cell_id) {\n",
       "                        if (nbb_cells[i].get_text() == nbb_unformatted_code) {\n",
       "                             nbb_cells[i].set_text(nbb_formatted_code);\n",
       "                        }\n",
       "                        break;\n",
       "                    }\n",
       "                }\n",
       "            }, 500);\n",
       "            "
      ],
      "text/plain": [
       "<IPython.core.display.Javascript object>"
      ]
     },
     "metadata": {},
     "output_type": "display_data"
    }
   ],
   "source": [
    "print(\"---- Top10 geriausių įmonių --------\")\n",
    "df_rez2.sort_values(\"bendras_rank\")[\n",
    "    [\n",
    "        \"obj_kodas\",\n",
    "        \"obj_pav\",\n",
    "        \"darbuotoju_pokytis\",\n",
    "        \"pajamos_pokytis\",\n",
    "        \"ilg_turtas_pokytis\",\n",
    "        \"vid_atlyginimas_pokytis\",\n",
    "        \"isipareigojimai_pokytis\",\n",
    "        \"bendras_rank\",\n",
    "    ]\n",
    "].head(10)"
   ]
  },
  {
   "cell_type": "code",
   "execution_count": null,
   "id": "b4ac6b8c",
   "metadata": {
    "ExecuteTime": {
     "end_time": "2022-12-08T18:56:31.450358Z",
     "start_time": "2022-12-08T18:56:31.412077Z"
    },
    "hidden": true
   },
   "outputs": [],
   "source": []
  },
  {
   "cell_type": "code",
   "execution_count": null,
   "id": "77f57989",
   "metadata": {
    "hidden": true
   },
   "outputs": [],
   "source": []
  },
  {
   "cell_type": "code",
   "execution_count": null,
   "id": "1f798b59",
   "metadata": {
    "hidden": true
   },
   "outputs": [],
   "source": []
  },
  {
   "cell_type": "code",
   "execution_count": null,
   "id": "e5761674",
   "metadata": {
    "hidden": true
   },
   "outputs": [],
   "source": []
  },
  {
   "cell_type": "code",
   "execution_count": 110,
   "id": "8e3f7e0b",
   "metadata": {
    "ExecuteTime": {
     "end_time": "2022-12-08T19:45:28.460242Z",
     "start_time": "2022-12-08T19:45:26.454528Z"
    },
    "hidden": true
   },
   "outputs": [
    {
     "data": {
      "application/javascript": [
       "\n",
       "            setTimeout(function() {\n",
       "                var nbb_cell_id = 110;\n",
       "                var nbb_unformatted_code = \"!pip freeze > requirements1.txt\";\n",
       "                var nbb_formatted_code = \"!pip freeze > requirements1.txt\";\n",
       "                var nbb_cells = Jupyter.notebook.get_cells();\n",
       "                for (var i = 0; i < nbb_cells.length; ++i) {\n",
       "                    if (nbb_cells[i].input_prompt_number == nbb_cell_id) {\n",
       "                        if (nbb_cells[i].get_text() == nbb_unformatted_code) {\n",
       "                             nbb_cells[i].set_text(nbb_formatted_code);\n",
       "                        }\n",
       "                        break;\n",
       "                    }\n",
       "                }\n",
       "            }, 500);\n",
       "            "
      ],
      "text/plain": [
       "<IPython.core.display.Javascript object>"
      ]
     },
     "metadata": {},
     "output_type": "display_data"
    }
   ],
   "source": [
    "!pip freeze > requirements1.txt"
   ]
  },
  {
   "cell_type": "code",
   "execution_count": null,
   "id": "a30dcd2c",
   "metadata": {
    "hidden": true
   },
   "outputs": [],
   "source": []
  }
 ],
 "metadata": {
  "kernelspec": {
   "display_name": "Python 3 (ipykernel)",
   "language": "python",
   "name": "python3"
  },
  "language_info": {
   "codemirror_mode": {
    "name": "ipython",
    "version": 3
   },
   "file_extension": ".py",
   "mimetype": "text/x-python",
   "name": "python",
   "nbconvert_exporter": "python",
   "pygments_lexer": "ipython3",
   "version": "3.10.7"
  },
  "toc": {
   "base_numbering": "1",
   "nav_menu": {},
   "number_sections": false,
   "sideBar": true,
   "skip_h1_title": false,
   "title_cell": "Table of Contents",
   "title_sidebar": "Contents",
   "toc_cell": false,
   "toc_position": {
    "height": "calc(100% - 180px)",
    "left": "10px",
    "top": "150px",
    "width": "279.273px"
   },
   "toc_section_display": true,
   "toc_window_display": true
  },
  "varInspector": {
   "cols": {
    "lenName": 16,
    "lenType": 16,
    "lenVar": 40
   },
   "kernels_config": {
    "python": {
     "delete_cmd_postfix": "",
     "delete_cmd_prefix": "del ",
     "library": "var_list.py",
     "varRefreshCmd": "print(var_dic_list())"
    },
    "r": {
     "delete_cmd_postfix": ") ",
     "delete_cmd_prefix": "rm(",
     "library": "var_list.r",
     "varRefreshCmd": "cat(var_dic_list()) "
    }
   },
   "types_to_exclude": [
    "module",
    "function",
    "builtin_function_or_method",
    "instance",
    "_Feature"
   ],
   "window_display": false
  }
 },
 "nbformat": 4,
 "nbformat_minor": 5
}
