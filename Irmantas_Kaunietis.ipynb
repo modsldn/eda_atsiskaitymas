{
 "cells": [
  {
   "cell_type": "code",
   "execution_count": null,
   "id": "740a14f1",
   "metadata": {
    "ExecuteTime": {
     "end_time": "2022-12-08T19:42:56.116021Z",
     "start_time": "2022-12-08T19:42:56.101480Z"
    }
   },
   "outputs": [],
   "source": [
    "# !pip install -r requirements.txt"
   ]
  },
  {
   "attachments": {},
   "cell_type": "markdown",
   "id": "233bd627",
   "metadata": {},
   "source": [
    "<font color='red'> Erikas Švažas: \n",
    "\n",
    "1. Šaunu, kad panaudotas nb_black! Puiki praktika! \n",
    "\n",
    "2. Pip puikiai tinka panašaus dydžio prejektui, bet kai bus daugiau dependencies conda gali turėti [privalumų](https://www.reddit.com/r/Python/comments/w564g0/comment/ih7jo6v/?utm_source=share&utm_medium=web2x&context=3) (nors ir viskas vyks super lėtai)\n",
    "\n",
    "</font>"
   ]
  },
  {
   "cell_type": "code",
   "execution_count": 1,
   "id": "b8bec822",
   "metadata": {
    "ExecuteTime": {
     "end_time": "2022-12-08T19:43:00.249031Z",
     "start_time": "2022-12-08T19:42:56.120556Z"
    }
   },
   "outputs": [
    {
     "data": {
      "application/javascript": "\n            setTimeout(function() {\n                var nbb_cell_id = 1;\n                var nbb_unformatted_code = \"%load_ext nb_black\\nimport pandas as pd\\nimport numpy as np\\nimport matplotlib.pyplot as plt\\nimport seaborn as sns\";\n                var nbb_formatted_code = \"%load_ext nb_black\\nimport pandas as pd\\nimport numpy as np\\nimport matplotlib.pyplot as plt\\nimport seaborn as sns\";\n                var nbb_cells = Jupyter.notebook.get_cells();\n                for (var i = 0; i < nbb_cells.length; ++i) {\n                    if (nbb_cells[i].input_prompt_number == nbb_cell_id) {\n                        if (nbb_cells[i].get_text() == nbb_unformatted_code) {\n                             nbb_cells[i].set_text(nbb_formatted_code);\n                        }\n                        break;\n                    }\n                }\n            }, 500);\n            ",
      "text/plain": [
       "<IPython.core.display.Javascript object>"
      ]
     },
     "metadata": {},
     "output_type": "display_data"
    }
   ],
   "source": [
    "%load_ext nb_black\n",
    "import pandas as pd\n",
    "import numpy as np\n",
    "import matplotlib.pyplot as plt\n",
    "import seaborn as sns"
   ]
  },
  {
   "cell_type": "markdown",
   "id": "0bb70180",
   "metadata": {
    "heading_collapsed": true
   },
   "source": [
    "# Pirma dalis"
   ]
  },
  {
   "cell_type": "markdown",
   "id": "c1948987",
   "metadata": {
    "ExecuteTime": {
     "end_time": "2022-12-05T16:21:20.206862Z",
     "start_time": "2022-12-05T16:21:20.194289Z"
    },
    "heading_collapsed": true,
    "hidden": true
   },
   "source": [
    "## 1-2. Duomenų skaitymas"
   ]
  },
  {
   "cell_type": "code",
   "execution_count": 2,
   "id": "38e89e6c",
   "metadata": {
    "ExecuteTime": {
     "end_time": "2022-12-08T19:43:10.205629Z",
     "start_time": "2022-12-08T19:43:00.252003Z"
    },
    "hidden": true
   },
   "outputs": [
    {
     "data": {
      "text/html": [
       "<div>\n",
       "<style scoped>\n",
       "    .dataframe tbody tr th:only-of-type {\n",
       "        vertical-align: middle;\n",
       "    }\n",
       "\n",
       "    .dataframe tbody tr th {\n",
       "        vertical-align: top;\n",
       "    }\n",
       "\n",
       "    .dataframe thead th {\n",
       "        text-align: right;\n",
       "    }\n",
       "</style>\n",
       "<table border=\"1\" class=\"dataframe\">\n",
       "  <thead>\n",
       "    <tr style=\"text-align: right;\">\n",
       "      <th></th>\n",
       "      <th>obj_kodas</th>\n",
       "      <th>obj_pav</th>\n",
       "      <th>form_kodas</th>\n",
       "      <th>form_pav</th>\n",
       "      <th>stat_statusas</th>\n",
       "      <th>stat_pav</th>\n",
       "      <th>template_id</th>\n",
       "      <th>template_name</th>\n",
       "      <th>standard_id</th>\n",
       "      <th>standard_name</th>\n",
       "      <th>laikotarpis_nuo</th>\n",
       "      <th>laikotarpis_iki</th>\n",
       "      <th>reg_date</th>\n",
       "      <th>nuosavas_kapitalas</th>\n",
       "      <th>mok_sumos_ir_isipareigojimai</th>\n",
       "      <th>ilgalaikis_turtas</th>\n",
       "      <th>trumpalaikis_turtas</th>\n",
       "    </tr>\n",
       "  </thead>\n",
       "  <tbody>\n",
       "    <tr>\n",
       "      <th>98032</th>\n",
       "      <td>304285941</td>\n",
       "      <td>UAB \"Bosra\"</td>\n",
       "      <td>310</td>\n",
       "      <td>Uždaroji akcinė bendrovė</td>\n",
       "      <td>0</td>\n",
       "      <td>Teisinis stat neįregistruotas</td>\n",
       "      <td>FS0129</td>\n",
       "      <td>Mažų ir labai mažų įmonių, netaikančių išimčių...</td>\n",
       "      <td>BST124</td>\n",
       "      <td>BALANSAS (Sutrumpintas)</td>\n",
       "      <td>2020-01-01</td>\n",
       "      <td>2020-12-31</td>\n",
       "      <td>2021-05-05</td>\n",
       "      <td>16336.0</td>\n",
       "      <td>32047.0</td>\n",
       "      <td>3621.0</td>\n",
       "      <td>44752.0</td>\n",
       "    </tr>\n",
       "    <tr>\n",
       "      <th>2908</th>\n",
       "      <td>302544765</td>\n",
       "      <td>UAB \"Girinis\"</td>\n",
       "      <td>310</td>\n",
       "      <td>Uždaroji akcinė bendrovė</td>\n",
       "      <td>0</td>\n",
       "      <td>Teisinis stat neįregistruotas</td>\n",
       "      <td>FS0129</td>\n",
       "      <td>Mažų ir labai mažų įmonių, netaikančių išimčių...</td>\n",
       "      <td>BST124</td>\n",
       "      <td>BALANSAS (Sutrumpintas)</td>\n",
       "      <td>2020-01-01</td>\n",
       "      <td>2020-12-31</td>\n",
       "      <td>2021-05-29</td>\n",
       "      <td>336418.0</td>\n",
       "      <td>175331.0</td>\n",
       "      <td>212712.0</td>\n",
       "      <td>299037.0</td>\n",
       "    </tr>\n",
       "    <tr>\n",
       "      <th>95243</th>\n",
       "      <td>303062309</td>\n",
       "      <td>inBALTO UAB</td>\n",
       "      <td>310</td>\n",
       "      <td>Uždaroji akcinė bendrovė</td>\n",
       "      <td>0</td>\n",
       "      <td>Teisinis stat neįregistruotas</td>\n",
       "      <td>FS0128</td>\n",
       "      <td>Labai mažų įmonių, taikančių išimtis, finansin...</td>\n",
       "      <td>BST122</td>\n",
       "      <td>BALANSAS (Trumpas)</td>\n",
       "      <td>2020-01-01</td>\n",
       "      <td>2020-12-31</td>\n",
       "      <td>2021-05-24</td>\n",
       "      <td>-1632.0</td>\n",
       "      <td>3520.0</td>\n",
       "      <td>0.0</td>\n",
       "      <td>1888.0</td>\n",
       "    </tr>\n",
       "    <tr>\n",
       "      <th>73987</th>\n",
       "      <td>300064867</td>\n",
       "      <td>Vilniaus aviacijos veteranų sąjunga</td>\n",
       "      <td>630</td>\n",
       "      <td>Asociacija</td>\n",
       "      <td>0</td>\n",
       "      <td>Teisinis stat neįregistruotas</td>\n",
       "      <td>FS0323</td>\n",
       "      <td>Pelno nesiekiančių JA finansinių ataskaitų rin...</td>\n",
       "      <td>BST216</td>\n",
       "      <td>FINANSINĖS BŪKLĖS ATASKAITA</td>\n",
       "      <td>2020-01-01</td>\n",
       "      <td>2020-12-31</td>\n",
       "      <td>2021-01-29</td>\n",
       "      <td>0.0</td>\n",
       "      <td>1400.0</td>\n",
       "      <td>0.0</td>\n",
       "      <td>1400.0</td>\n",
       "    </tr>\n",
       "    <tr>\n",
       "      <th>7344</th>\n",
       "      <td>135163912</td>\n",
       "      <td>UAB \"KRISTIDAS\"</td>\n",
       "      <td>310</td>\n",
       "      <td>Uždaroji akcinė bendrovė</td>\n",
       "      <td>0</td>\n",
       "      <td>Teisinis stat neįregistruotas</td>\n",
       "      <td>FS0029</td>\n",
       "      <td>Mažų ir labai mažų įmonių, netaikančių išimčių...</td>\n",
       "      <td>BST024</td>\n",
       "      <td>BALANSAS (Sutrumpintas)</td>\n",
       "      <td>2016-01-01</td>\n",
       "      <td>2016-12-31</td>\n",
       "      <td>2021-02-28</td>\n",
       "      <td>88623.0</td>\n",
       "      <td>1069.0</td>\n",
       "      <td>3097.0</td>\n",
       "      <td>86595.0</td>\n",
       "    </tr>\n",
       "  </tbody>\n",
       "</table>\n",
       "</div>"
      ],
      "text/plain": [
       "       obj_kodas                              obj_pav  form_kodas  \\\n",
       "98032  304285941                          UAB \"Bosra\"         310   \n",
       "2908   302544765                        UAB \"Girinis\"         310   \n",
       "95243  303062309                          inBALTO UAB         310   \n",
       "73987  300064867  Vilniaus aviacijos veteranų sąjunga         630   \n",
       "7344   135163912                      UAB \"KRISTIDAS\"         310   \n",
       "\n",
       "                       form_pav  stat_statusas                       stat_pav  \\\n",
       "98032  Uždaroji akcinė bendrovė              0  Teisinis stat neįregistruotas   \n",
       "2908   Uždaroji akcinė bendrovė              0  Teisinis stat neįregistruotas   \n",
       "95243  Uždaroji akcinė bendrovė              0  Teisinis stat neįregistruotas   \n",
       "73987                Asociacija              0  Teisinis stat neįregistruotas   \n",
       "7344   Uždaroji akcinė bendrovė              0  Teisinis stat neįregistruotas   \n",
       "\n",
       "      template_id                                      template_name  \\\n",
       "98032      FS0129  Mažų ir labai mažų įmonių, netaikančių išimčių...   \n",
       "2908       FS0129  Mažų ir labai mažų įmonių, netaikančių išimčių...   \n",
       "95243      FS0128  Labai mažų įmonių, taikančių išimtis, finansin...   \n",
       "73987      FS0323  Pelno nesiekiančių JA finansinių ataskaitų rin...   \n",
       "7344       FS0029  Mažų ir labai mažų įmonių, netaikančių išimčių...   \n",
       "\n",
       "      standard_id                standard_name laikotarpis_nuo  \\\n",
       "98032      BST124      BALANSAS (Sutrumpintas)      2020-01-01   \n",
       "2908       BST124      BALANSAS (Sutrumpintas)      2020-01-01   \n",
       "95243      BST122           BALANSAS (Trumpas)      2020-01-01   \n",
       "73987      BST216  FINANSINĖS BŪKLĖS ATASKAITA      2020-01-01   \n",
       "7344       BST024      BALANSAS (Sutrumpintas)      2016-01-01   \n",
       "\n",
       "      laikotarpis_iki    reg_date  nuosavas_kapitalas  \\\n",
       "98032      2020-12-31  2021-05-05             16336.0   \n",
       "2908       2020-12-31  2021-05-29            336418.0   \n",
       "95243      2020-12-31  2021-05-24             -1632.0   \n",
       "73987      2020-12-31  2021-01-29                 0.0   \n",
       "7344       2016-12-31  2021-02-28             88623.0   \n",
       "\n",
       "       mok_sumos_ir_isipareigojimai  ilgalaikis_turtas  trumpalaikis_turtas  \n",
       "98032                       32047.0             3621.0              44752.0  \n",
       "2908                       175331.0           212712.0             299037.0  \n",
       "95243                        3520.0                0.0               1888.0  \n",
       "73987                        1400.0                0.0               1400.0  \n",
       "7344                         1069.0             3097.0              86595.0  "
      ]
     },
     "execution_count": 2,
     "metadata": {},
     "output_type": "execute_result"
    },
    {
     "data": {
      "application/javascript": "\n            setTimeout(function() {\n                var nbb_cell_id = 2;\n                var nbb_unformatted_code = \"df_BLNS_2020 = pd.read_csv(\\n    \\\"https://www.registrucentras.lt/aduomenys/?byla=JAR_FA_RODIKLIAI_BLNS_2020.csv\\\"\\n)\\ndf_BLNS_2021 = pd.read_csv(\\n    \\\"https://www.registrucentras.lt/aduomenys/?byla=JAR_FA_RODIKLIAI_BLNS_2021.csv\\\"\\n)\\n\\n# I\\u0161metame paskutin\\u012f stulpel\\u012f (dokumento formavimo dat\\u0105)\\ndf_BLNS_2020 = df_BLNS_2020.iloc[:, :-1]\\ndf_BLNS_2021 = df_BLNS_2021.iloc[:, :-1]\\n\\ndf_BLNS_2021.sample(5)\";\n                var nbb_formatted_code = \"df_BLNS_2020 = pd.read_csv(\\n    \\\"https://www.registrucentras.lt/aduomenys/?byla=JAR_FA_RODIKLIAI_BLNS_2020.csv\\\"\\n)\\ndf_BLNS_2021 = pd.read_csv(\\n    \\\"https://www.registrucentras.lt/aduomenys/?byla=JAR_FA_RODIKLIAI_BLNS_2021.csv\\\"\\n)\\n\\n# I\\u0161metame paskutin\\u012f stulpel\\u012f (dokumento formavimo dat\\u0105)\\ndf_BLNS_2020 = df_BLNS_2020.iloc[:, :-1]\\ndf_BLNS_2021 = df_BLNS_2021.iloc[:, :-1]\\n\\ndf_BLNS_2021.sample(5)\";\n                var nbb_cells = Jupyter.notebook.get_cells();\n                for (var i = 0; i < nbb_cells.length; ++i) {\n                    if (nbb_cells[i].input_prompt_number == nbb_cell_id) {\n                        if (nbb_cells[i].get_text() == nbb_unformatted_code) {\n                             nbb_cells[i].set_text(nbb_formatted_code);\n                        }\n                        break;\n                    }\n                }\n            }, 500);\n            ",
      "text/plain": [
       "<IPython.core.display.Javascript object>"
      ]
     },
     "metadata": {},
     "output_type": "display_data"
    }
   ],
   "source": [
    "df_BLNS_2020 = pd.read_csv(\n",
    "    \"https://www.registrucentras.lt/aduomenys/?byla=JAR_FA_RODIKLIAI_BLNS_2020.csv\"\n",
    ")\n",
    "df_BLNS_2021 = pd.read_csv(\n",
    "    \"https://www.registrucentras.lt/aduomenys/?byla=JAR_FA_RODIKLIAI_BLNS_2021.csv\"\n",
    ")\n",
    "\n",
    "# Išmetame paskutinį stulpelį (dokumento formavimo datą)\n",
    "df_BLNS_2020 = df_BLNS_2020.iloc[:, :-1]\n",
    "df_BLNS_2021 = df_BLNS_2021.iloc[:, :-1]\n",
    "\n",
    "df_BLNS_2021.sample(5)"
   ]
  },
  {
   "cell_type": "code",
   "execution_count": null,
   "id": "3259cd6c",
   "metadata": {
    "ExecuteTime": {
     "end_time": "2022-12-08T19:43:19.013498Z",
     "start_time": "2022-12-08T19:43:10.212682Z"
    },
    "hidden": true
   },
   "outputs": [],
   "source": [
    "df_PLNA_2020 = pd.read_csv(\n",
    "    \"https://www.registrucentras.lt/aduomenys/?byla=JAR_FA_RODIKLIAI_PLNA_2020.csv\"\n",
    ")\n",
    "df_PLNA_2021 = pd.read_csv(\n",
    "    \"https://www.registrucentras.lt/aduomenys/?byla=JAR_FA_RODIKLIAI_PLNA_2021.csv\"\n",
    ")\n",
    "\n",
    "# Išmetame paskutinį stulpelį (dokumento formavimo datą)\n",
    "df_PLNA_2020 = df_PLNA_2020.iloc[:, :-1]\n",
    "df_PLNA_2021 = df_PLNA_2021.iloc[:, :-1]\n",
    "\n",
    "df_PLNA_2021.sample(5)"
   ]
  },
  {
   "cell_type": "markdown",
   "id": "b6a63b8d",
   "metadata": {
    "heading_collapsed": true,
    "hidden": true
   },
   "source": [
    "## 3. Duomenų informacija"
   ]
  },
  {
   "cell_type": "markdown",
   "id": "330e0046",
   "metadata": {
    "heading_collapsed": true,
    "hidden": true
   },
   "source": [
    "### 3.a. Ką reiškia skirtingi duomenų laukai? Iš kokių atributų sudaryti duomenys?"
   ]
  },
  {
   "cell_type": "markdown",
   "id": "41575afa",
   "metadata": {
    "hidden": true
   },
   "source": [
    "Skirtingi duomenų laukai duoda skirtingą informaciją apie imonę (įrašo lygmenyje)"
   ]
  },
  {
   "attachments": {},
   "cell_type": "markdown",
   "id": "a6376a39",
   "metadata": {},
   "source": [
    "<font color='red'> Erikas Švažas: \n",
    "\n",
    "Iš pateiktos informacijos nėra akivaidzu ką reiškia skirtingi laukai. Reikia *domain knowledge* arba ieškoti informacijos greta pagrindinių šaltinių (ypač šalia duomenų iš valstybinių kompanijų). Kad geriau suprasti skirtingus duomenų laukus, galime vadovautis Registrų centro pateiktomis *\"Duomenų rinkinio struktūros\"*.\n",
    "Būtent iš šio failo galime spręsti ką reiškia skirtingi laukai ir šiuo atveju buvo norima inspektuoti stulpelių pavadinimus ir jų reikšmes (ne duomenų tipus). [-0.3 taško]\n",
    "</font>\n"
   ]
  },
  {
   "cell_type": "code",
   "execution_count": 3,
   "id": "d703aa33",
   "metadata": {
    "ExecuteTime": {
     "end_time": "2022-12-08T19:43:19.044662Z",
     "start_time": "2022-12-08T19:43:19.016498Z"
    },
    "hidden": true
   },
   "outputs": [
    {
     "data": {
      "text/plain": [
       "obj_kodas                         int64\n",
       "obj_pav                          object\n",
       "form_kodas                        int64\n",
       "form_pav                         object\n",
       "stat_statusas                     int64\n",
       "stat_pav                         object\n",
       "template_id                      object\n",
       "template_name                    object\n",
       "standard_id                      object\n",
       "standard_name                    object\n",
       "laikotarpis_nuo                  object\n",
       "laikotarpis_iki                  object\n",
       "reg_date                         object\n",
       "nuosavas_kapitalas              float64\n",
       "mok_sumos_ir_isipareigojimai    float64\n",
       "ilgalaikis_turtas               float64\n",
       "trumpalaikis_turtas             float64\n",
       "dtype: object"
      ]
     },
     "execution_count": 3,
     "metadata": {},
     "output_type": "execute_result"
    },
    {
     "data": {
      "application/javascript": "\n            setTimeout(function() {\n                var nbb_cell_id = 3;\n                var nbb_unformatted_code = \"df_BLNS_2020.dtypes\";\n                var nbb_formatted_code = \"df_BLNS_2020.dtypes\";\n                var nbb_cells = Jupyter.notebook.get_cells();\n                for (var i = 0; i < nbb_cells.length; ++i) {\n                    if (nbb_cells[i].input_prompt_number == nbb_cell_id) {\n                        if (nbb_cells[i].get_text() == nbb_unformatted_code) {\n                             nbb_cells[i].set_text(nbb_formatted_code);\n                        }\n                        break;\n                    }\n                }\n            }, 500);\n            ",
      "text/plain": [
       "<IPython.core.display.Javascript object>"
      ]
     },
     "metadata": {},
     "output_type": "display_data"
    }
   ],
   "source": [
    "df_BLNS_2020.dtypes"
   ]
  },
  {
   "cell_type": "code",
   "execution_count": 4,
   "id": "80ab78c7",
   "metadata": {
    "ExecuteTime": {
     "end_time": "2022-12-08T19:43:19.075307Z",
     "start_time": "2022-12-08T19:43:19.049225Z"
    },
    "hidden": true
   },
   "outputs": [
    {
     "data": {
      "text/plain": [
       "obj_kodas                         int64\n",
       "obj_pav                          object\n",
       "form_kodas                        int64\n",
       "form_pav                         object\n",
       "stat_statusas                     int64\n",
       "stat_pav                         object\n",
       "template_id                      object\n",
       "template_name                    object\n",
       "standard_id                      object\n",
       "standard_name                    object\n",
       "laikotarpis_nuo                  object\n",
       "laikotarpis_iki                  object\n",
       "reg_date                         object\n",
       "nuosavas_kapitalas              float64\n",
       "mok_sumos_ir_isipareigojimai    float64\n",
       "ilgalaikis_turtas               float64\n",
       "trumpalaikis_turtas             float64\n",
       "dtype: object"
      ]
     },
     "execution_count": 4,
     "metadata": {},
     "output_type": "execute_result"
    },
    {
     "data": {
      "application/javascript": "\n            setTimeout(function() {\n                var nbb_cell_id = 4;\n                var nbb_unformatted_code = \"df_BLNS_2021.dtypes\";\n                var nbb_formatted_code = \"df_BLNS_2021.dtypes\";\n                var nbb_cells = Jupyter.notebook.get_cells();\n                for (var i = 0; i < nbb_cells.length; ++i) {\n                    if (nbb_cells[i].input_prompt_number == nbb_cell_id) {\n                        if (nbb_cells[i].get_text() == nbb_unformatted_code) {\n                             nbb_cells[i].set_text(nbb_formatted_code);\n                        }\n                        break;\n                    }\n                }\n            }, 500);\n            ",
      "text/plain": [
       "<IPython.core.display.Javascript object>"
      ]
     },
     "metadata": {},
     "output_type": "display_data"
    }
   ],
   "source": [
    "df_BLNS_2021.dtypes"
   ]
  },
  {
   "cell_type": "code",
   "execution_count": 7,
   "id": "36b0a908",
   "metadata": {
    "ExecuteTime": {
     "end_time": "2022-12-08T19:43:19.106903Z",
     "start_time": "2022-12-08T19:43:19.079790Z"
    },
    "hidden": true
   },
   "outputs": [
    {
     "data": {
      "application/javascript": "\n            setTimeout(function() {\n                var nbb_cell_id = 7;\n                var nbb_unformatted_code = \"#df_PLNA_2020.dtypes\";\n                var nbb_formatted_code = \"# df_PLNA_2020.dtypes\";\n                var nbb_cells = Jupyter.notebook.get_cells();\n                for (var i = 0; i < nbb_cells.length; ++i) {\n                    if (nbb_cells[i].input_prompt_number == nbb_cell_id) {\n                        if (nbb_cells[i].get_text() == nbb_unformatted_code) {\n                             nbb_cells[i].set_text(nbb_formatted_code);\n                        }\n                        break;\n                    }\n                }\n            }, 500);\n            ",
      "text/plain": [
       "<IPython.core.display.Javascript object>"
      ]
     },
     "metadata": {},
     "output_type": "display_data"
    }
   ],
   "source": [
    "df_PLNA_2020.dtypes"
   ]
  },
  {
   "cell_type": "code",
   "execution_count": null,
   "id": "c45f0c48",
   "metadata": {
    "ExecuteTime": {
     "end_time": "2022-12-08T19:43:19.138037Z",
     "start_time": "2022-12-08T19:43:19.113433Z"
    },
    "hidden": true
   },
   "outputs": [],
   "source": [
    "df_PLNA_2021.dtypes"
   ]
  },
  {
   "cell_type": "markdown",
   "id": "32c093f0",
   "metadata": {
    "heading_collapsed": true,
    "hidden": true
   },
   "source": [
    "### 3.b. Kiek reikšmių ir požymių turi kiekvienas iš dokumentų?"
   ]
  },
  {
   "cell_type": "code",
   "execution_count": null,
   "id": "434f26f8",
   "metadata": {
    "ExecuteTime": {
     "end_time": "2022-12-08T19:43:19.169265Z",
     "start_time": "2022-12-08T19:43:19.150138Z"
    },
    "hidden": true
   },
   "outputs": [],
   "source": [
    "df_BLNS_2020.shape"
   ]
  },
  {
   "cell_type": "code",
   "execution_count": null,
   "id": "902a829e",
   "metadata": {
    "ExecuteTime": {
     "end_time": "2022-12-08T19:43:19.200794Z",
     "start_time": "2022-12-08T19:43:19.173164Z"
    },
    "hidden": true
   },
   "outputs": [],
   "source": [
    "df_BLNS_2021.shape"
   ]
  },
  {
   "cell_type": "code",
   "execution_count": null,
   "id": "f81ea798",
   "metadata": {
    "ExecuteTime": {
     "end_time": "2022-12-08T19:43:19.231974Z",
     "start_time": "2022-12-08T19:43:19.204795Z"
    },
    "hidden": true
   },
   "outputs": [],
   "source": [
    "df_PLNA_2020.shape"
   ]
  },
  {
   "cell_type": "code",
   "execution_count": null,
   "id": "64ba5c69",
   "metadata": {
    "ExecuteTime": {
     "end_time": "2022-12-08T19:43:19.263461Z",
     "start_time": "2022-12-08T19:43:19.237970Z"
    },
    "hidden": true
   },
   "outputs": [],
   "source": [
    "df_PLNA_2021.shape"
   ]
  },
  {
   "cell_type": "markdown",
   "id": "22b62654",
   "metadata": {
    "ExecuteTime": {
     "end_time": "2022-12-05T17:01:00.938386Z",
     "start_time": "2022-12-05T17:01:00.925301Z"
    },
    "heading_collapsed": true,
    "hidden": true
   },
   "source": [
    "### 3.c. Kokio duomenų tipo yra kiekvienas iš požymių? Ar duomenų tipai tarp atitinkamų lentelių iš 2020 ir 2021 metų sutampa?"
   ]
  },
  {
   "cell_type": "code",
   "execution_count": 8,
   "id": "9fff4b03",
   "metadata": {
    "ExecuteTime": {
     "end_time": "2022-12-08T19:43:19.464830Z",
     "start_time": "2022-12-08T19:43:19.269970Z"
    },
    "hidden": true
   },
   "outputs": [
    {
     "name": "stdout",
     "output_type": "stream",
     "text": [
      "<class 'pandas.core.frame.DataFrame'>\n",
      "RangeIndex: 106318 entries, 0 to 106317\n",
      "Data columns (total 17 columns):\n",
      " #   Column                        Non-Null Count   Dtype  \n",
      "---  ------                        --------------   -----  \n",
      " 0   obj_kodas                     106318 non-null  int64  \n",
      " 1   obj_pav                       106318 non-null  object \n",
      " 2   form_kodas                    106318 non-null  int64  \n",
      " 3   form_pav                      106318 non-null  object \n",
      " 4   stat_statusas                 106318 non-null  int64  \n",
      " 5   stat_pav                      106318 non-null  object \n",
      " 6   template_id                   106318 non-null  object \n",
      " 7   template_name                 106318 non-null  object \n",
      " 8   standard_id                   106318 non-null  object \n",
      " 9   standard_name                 106318 non-null  object \n",
      " 10  laikotarpis_nuo               106318 non-null  object \n",
      " 11  laikotarpis_iki               106318 non-null  object \n",
      " 12  reg_date                      106318 non-null  object \n",
      " 13  nuosavas_kapitalas            105766 non-null  float64\n",
      " 14  mok_sumos_ir_isipareigojimai  92674 non-null   float64\n",
      " 15  ilgalaikis_turtas             104940 non-null  float64\n",
      " 16  trumpalaikis_turtas           104879 non-null  float64\n",
      "dtypes: float64(4), int64(3), object(10)\n",
      "memory usage: 13.8+ MB\n"
     ]
    },
    {
     "data": {
      "application/javascript": "\n            setTimeout(function() {\n                var nbb_cell_id = 8;\n                var nbb_unformatted_code = \"df_BLNS_2020.info()\";\n                var nbb_formatted_code = \"df_BLNS_2020.info()\";\n                var nbb_cells = Jupyter.notebook.get_cells();\n                for (var i = 0; i < nbb_cells.length; ++i) {\n                    if (nbb_cells[i].input_prompt_number == nbb_cell_id) {\n                        if (nbb_cells[i].get_text() == nbb_unformatted_code) {\n                             nbb_cells[i].set_text(nbb_formatted_code);\n                        }\n                        break;\n                    }\n                }\n            }, 500);\n            ",
      "text/plain": [
       "<IPython.core.display.Javascript object>"
      ]
     },
     "metadata": {},
     "output_type": "display_data"
    }
   ],
   "source": [
    "df_BLNS_2020.info()"
   ]
  },
  {
   "cell_type": "code",
   "execution_count": null,
   "id": "d0054486",
   "metadata": {
    "ExecuteTime": {
     "end_time": "2022-12-08T19:43:19.712456Z",
     "start_time": "2022-12-08T19:43:19.474085Z"
    },
    "hidden": true
   },
   "outputs": [],
   "source": [
    "df_BLNS_2021.info()"
   ]
  },
  {
   "cell_type": "code",
   "execution_count": null,
   "id": "e21cf609",
   "metadata": {
    "ExecuteTime": {
     "end_time": "2022-12-08T19:43:19.886140Z",
     "start_time": "2022-12-08T19:43:19.715495Z"
    },
    "hidden": true
   },
   "outputs": [],
   "source": [
    "df_PLNA_2020.info()"
   ]
  },
  {
   "cell_type": "code",
   "execution_count": null,
   "id": "16e8170a",
   "metadata": {
    "ExecuteTime": {
     "end_time": "2022-12-08T19:43:20.073299Z",
     "start_time": "2022-12-08T19:43:19.890360Z"
    },
    "hidden": true
   },
   "outputs": [],
   "source": [
    "df_PLNA_2021.info()"
   ]
  },
  {
   "cell_type": "markdown",
   "id": "f79b6331",
   "metadata": {
    "ExecuteTime": {
     "end_time": "2022-12-05T17:23:09.047801Z",
     "start_time": "2022-12-05T17:23:08.648350Z"
    },
    "hidden": true
   },
   "source": [
    "Duomenų tipų palyginimas tarp atitinkamų lentelių"
   ]
  },
  {
   "cell_type": "code",
   "execution_count": 9,
   "id": "06906416",
   "metadata": {
    "ExecuteTime": {
     "end_time": "2022-12-08T19:43:20.463291Z",
     "start_time": "2022-12-08T19:43:20.078267Z"
    },
    "hidden": true
   },
   "outputs": [
    {
     "name": "stdout",
     "output_type": "stream",
     "text": [
      "<class 'pandas.core.frame.DataFrame'>\n",
      "RangeIndex: 106318 entries, 0 to 106317\n",
      "Data columns (total 17 columns):\n",
      " #   Column                        Non-Null Count   Dtype  \n",
      "---  ------                        --------------   -----  \n",
      " 0   obj_kodas                     106318 non-null  int64  \n",
      " 1   obj_pav                       106318 non-null  object \n",
      " 2   form_kodas                    106318 non-null  int64  \n",
      " 3   form_pav                      106318 non-null  object \n",
      " 4   stat_statusas                 106318 non-null  int64  \n",
      " 5   stat_pav                      106318 non-null  object \n",
      " 6   template_id                   106318 non-null  object \n",
      " 7   template_name                 106318 non-null  object \n",
      " 8   standard_id                   106318 non-null  object \n",
      " 9   standard_name                 106318 non-null  object \n",
      " 10  laikotarpis_nuo               106318 non-null  object \n",
      " 11  laikotarpis_iki               106318 non-null  object \n",
      " 12  reg_date                      106318 non-null  object \n",
      " 13  nuosavas_kapitalas            105766 non-null  float64\n",
      " 14  mok_sumos_ir_isipareigojimai  92674 non-null   float64\n",
      " 15  ilgalaikis_turtas             104940 non-null  float64\n",
      " 16  trumpalaikis_turtas           104879 non-null  float64\n",
      "dtypes: float64(4), int64(3), object(10)\n",
      "memory usage: 13.8+ MB\n",
      "<class 'pandas.core.frame.DataFrame'>\n",
      "RangeIndex: 120850 entries, 0 to 120849\n",
      "Data columns (total 17 columns):\n",
      " #   Column                        Non-Null Count   Dtype  \n",
      "---  ------                        --------------   -----  \n",
      " 0   obj_kodas                     120850 non-null  int64  \n",
      " 1   obj_pav                       120850 non-null  object \n",
      " 2   form_kodas                    120850 non-null  int64  \n",
      " 3   form_pav                      120850 non-null  object \n",
      " 4   stat_statusas                 120850 non-null  int64  \n",
      " 5   stat_pav                      120850 non-null  object \n",
      " 6   template_id                   120850 non-null  object \n",
      " 7   template_name                 120850 non-null  object \n",
      " 8   standard_id                   120850 non-null  object \n",
      " 9   standard_name                 120850 non-null  object \n",
      " 10  laikotarpis_nuo               120850 non-null  object \n",
      " 11  laikotarpis_iki               120850 non-null  object \n",
      " 12  reg_date                      120850 non-null  object \n",
      " 13  nuosavas_kapitalas            120184 non-null  float64\n",
      " 14  mok_sumos_ir_isipareigojimai  101180 non-null  float64\n",
      " 15  ilgalaikis_turtas             118957 non-null  float64\n",
      " 16  trumpalaikis_turtas           118892 non-null  float64\n",
      "dtypes: float64(4), int64(3), object(10)\n",
      "memory usage: 15.7+ MB\n"
     ]
    },
    {
     "data": {
      "text/plain": [
       "True"
      ]
     },
     "execution_count": 9,
     "metadata": {},
     "output_type": "execute_result"
    },
    {
     "data": {
      "application/javascript": "\n            setTimeout(function() {\n                var nbb_cell_id = 9;\n                var nbb_unformatted_code = \"df_BLNS_2020.info() == df_BLNS_2021.info()\";\n                var nbb_formatted_code = \"df_BLNS_2020.info() == df_BLNS_2021.info()\";\n                var nbb_cells = Jupyter.notebook.get_cells();\n                for (var i = 0; i < nbb_cells.length; ++i) {\n                    if (nbb_cells[i].input_prompt_number == nbb_cell_id) {\n                        if (nbb_cells[i].get_text() == nbb_unformatted_code) {\n                             nbb_cells[i].set_text(nbb_formatted_code);\n                        }\n                        break;\n                    }\n                }\n            }, 500);\n            ",
      "text/plain": [
       "<IPython.core.display.Javascript object>"
      ]
     },
     "metadata": {},
     "output_type": "display_data"
    }
   ],
   "source": [
    "df_BLNS_2020.info() == df_BLNS_2021.info()"
   ]
  },
  {
   "cell_type": "markdown",
   "id": "6ddf5fff",
   "metadata": {
    "hidden": true
   },
   "source": [
    "__Išvada__: duomenų tipai skirtingose lentelėse sutampa"
   ]
  },
  {
   "cell_type": "code",
   "execution_count": null,
   "id": "ad463a4e",
   "metadata": {
    "ExecuteTime": {
     "end_time": "2022-12-08T19:43:20.807851Z",
     "start_time": "2022-12-08T19:43:20.467299Z"
    },
    "hidden": true
   },
   "outputs": [],
   "source": [
    "df_PLNA_2020.info() == df_PLNA_2021.info()"
   ]
  },
  {
   "cell_type": "markdown",
   "id": "36d0fbfd",
   "metadata": {
    "hidden": true
   },
   "source": [
    "__Išvada__: duomenų tipai skirtingose lentelėse sutampa"
   ]
  },
  {
   "cell_type": "markdown",
   "id": "acf3073a",
   "metadata": {
    "heading_collapsed": true,
    "hidden": true
   },
   "source": [
    "### 3.d. Paaiškinkite kas yra object duomenų tipas ir kuo jis skiriasi nuo string duomenų tipo."
   ]
  },
  {
   "cell_type": "markdown",
   "id": "031a3dbc",
   "metadata": {
    "hidden": true
   },
   "source": [
    "_string_ tipas apibrėžia tik tekstinio tipo reikšmes, o _object_ tipo kintamais gali įgyti bet kokio tipo reikšmes (tekstas, skaičius, datas, tušias, neapibrėžtas, ... reikšmes)"
   ]
  },
  {
   "attachments": {},
   "cell_type": "markdown",
   "id": "ed215a1d",
   "metadata": {},
   "source": [
    "<font color='red'> Erikas Švažas: \n",
    "Taip, teisingai. Dar pridėčiau, kad *everything is an object in Python* ir jei *Pandas* negali atpažinti duomenų tipo (ar tai integer ar string), by default bus *object*. Kiekvineas objektas turės skirtingas funkcijas ir savybes - pavyzdžiui norint naudoti string tipui būdingas fcijas .str.contains() reikės pradžioje atlikti konvertavimą į šį duomenų tipą.\n",
    "</font>"
   ]
  },
  {
   "cell_type": "markdown",
   "id": "cda3c2d0",
   "metadata": {
    "ExecuteTime": {
     "end_time": "2022-12-05T17:14:21.796975Z",
     "start_time": "2022-12-05T17:14:21.782049Z"
    },
    "heading_collapsed": true,
    "hidden": true
   },
   "source": [
    "### 3.e. Kuri lentelė turi daugiausiai nežinomų verčių? Kuris požymis išsiskiria nežinomų verčių skaičiumi?"
   ]
  },
  {
   "cell_type": "code",
   "execution_count": 11,
   "id": "f20b13b0",
   "metadata": {
    "ExecuteTime": {
     "end_time": "2022-12-08T19:43:21.475126Z",
     "start_time": "2022-12-08T19:43:20.813439Z"
    },
    "hidden": true
   },
   "outputs": [
    {
     "data": {
      "application/javascript": "\n            setTimeout(function() {\n                var nbb_cell_id = 11;\n                var nbb_unformatted_code = \"#print(\\n#    f\\\"Lentel\\u0117s BLNS_2020 ne\\u017einom\\u0173 reik\\u0161mi\\u0173 skai\\u010dius: {df_BLNS_2020.isna().sum().sum()}\\\"\\n#)\\n#print(\\n#    f\\\"Lentel\\u0117s BLNS_2021 ne\\u017einom\\u0173 reik\\u0161mi\\u0173 skai\\u010dius: {df_BLNS_2021.isna().sum().sum()}\\\"\\n#)\\n#print(\\n#    f\\\"Lentel\\u0117s PLNA_2020 ne\\u017einom\\u0173 reik\\u0161mi\\u0173 skai\\u010dius: {df_PLNA_2020.isna().sum().sum()}\\\"\\n#)\\n#print(\\n#    f\\\"Lentel\\u0117s PLNA_2021 ne\\u017einom\\u0173 reik\\u0161mi\\u0173 skai\\u010dius: {df_PLNA_2021.isna().sum().sum()}\\\"\\n#)\";\n                var nbb_formatted_code = \"# print(\\n#    f\\\"Lentel\\u0117s BLNS_2020 ne\\u017einom\\u0173 reik\\u0161mi\\u0173 skai\\u010dius: {df_BLNS_2020.isna().sum().sum()}\\\"\\n# )\\n# print(\\n#    f\\\"Lentel\\u0117s BLNS_2021 ne\\u017einom\\u0173 reik\\u0161mi\\u0173 skai\\u010dius: {df_BLNS_2021.isna().sum().sum()}\\\"\\n# )\\n# print(\\n#    f\\\"Lentel\\u0117s PLNA_2020 ne\\u017einom\\u0173 reik\\u0161mi\\u0173 skai\\u010dius: {df_PLNA_2020.isna().sum().sum()}\\\"\\n# )\\n# print(\\n#    f\\\"Lentel\\u0117s PLNA_2021 ne\\u017einom\\u0173 reik\\u0161mi\\u0173 skai\\u010dius: {df_PLNA_2021.isna().sum().sum()}\\\"\\n# )\";\n                var nbb_cells = Jupyter.notebook.get_cells();\n                for (var i = 0; i < nbb_cells.length; ++i) {\n                    if (nbb_cells[i].input_prompt_number == nbb_cell_id) {\n                        if (nbb_cells[i].get_text() == nbb_unformatted_code) {\n                             nbb_cells[i].set_text(nbb_formatted_code);\n                        }\n                        break;\n                    }\n                }\n            }, 500);\n            ",
      "text/plain": [
       "<IPython.core.display.Javascript object>"
      ]
     },
     "metadata": {},
     "output_type": "display_data"
    }
   ],
   "source": [
    "print(\n",
    "    f\"Lentelės BLNS_2020 nežinomų reikšmių skaičius: {df_BLNS_2020.isna().sum().sum()}\"\n",
    ")\n",
    "print(\n",
    "    f\"Lentelės BLNS_2021 nežinomų reikšmių skaičius: {df_BLNS_2021.isna().sum().sum()}\"\n",
    ")\n",
    "print(\n",
    "    f\"Lentelės PLNA_2020 nežinomų reikšmių skaičius: {df_PLNA_2020.isna().sum().sum()}\"\n",
    ")\n",
    "print(\n",
    "    f\"Lentelės PLNA_2021 nežinomų reikšmių skaičius: {df_PLNA_2021.isna().sum().sum()}\"\n",
    ")"
   ]
  },
  {
   "attachments": {},
   "cell_type": "markdown",
   "id": "67476e8e",
   "metadata": {},
   "source": [
    "<font color='red'> Erikas Švažas: \n",
    "Klausimas sudarytas iš 2 dalių, atsakymas tik į pirmą dalį (viso už dalį: 0.15 taško iš 0.3). Daugiausiai nežinomų verčių turi *pelnas_pries_apmokestinima*: 34755. Be aware apie open-source paketus (pav [šis](https://github.com/ResidentMario/missingno)) skirtus tokiom užduotim spręsti.\n",
    "</font>"
   ]
  },
  {
   "cell_type": "markdown",
   "id": "5df576c2",
   "metadata": {
    "ExecuteTime": {
     "end_time": "2022-12-05T17:15:34.543175Z",
     "start_time": "2022-12-05T17:15:34.354161Z"
    },
    "hidden": true
   },
   "source": [
    "__Išvada__: Daugiausiai tusčių reišmių iš duotų lentelių turi PLNA_2021 (_2021 m. pateiktų pelno (nuostolių) ataskaitų duomenys_)"
   ]
  },
  {
   "cell_type": "markdown",
   "id": "bd342641",
   "metadata": {
    "ExecuteTime": {
     "end_time": "2022-12-05T17:25:21.645957Z",
     "start_time": "2022-12-05T17:25:21.631299Z"
    },
    "heading_collapsed": true,
    "hidden": true
   },
   "source": [
    "### 3.f. Ar kažkuri lentelė turi pasikartojančių duomenų?"
   ]
  },
  {
   "attachments": {},
   "cell_type": "markdown",
   "id": "12068d39",
   "metadata": {},
   "source": [
    "<font color='red'> Erikas Švažas: \n",
    "Teisingas, bet komplikuotas sprendimas (groupBy operacija nėra ). Galimai efektyvesnis sprendimas (ir paprastesnis):\n",
    "```\n",
    "df_BLNS_2020[df_BLNS_2020.duplicated()].shape\n",
    "```\n",
    "</font>"
   ]
  },
  {
   "cell_type": "code",
   "execution_count": null,
   "id": "66198f53",
   "metadata": {
    "ExecuteTime": {
     "end_time": "2022-12-08T19:43:22.112578Z",
     "start_time": "2022-12-08T19:43:21.480662Z"
    },
    "hidden": true
   },
   "outputs": [],
   "source": [
    "df_BLNS_2020_group = df_BLNS_2020.groupby(\n",
    "    df_BLNS_2020.columns.tolist(), as_index=False\n",
    ").size()\n",
    "df_BLNS_2020_group[\"size\"].sort_values(ascending=False).head()"
   ]
  },
  {
   "cell_type": "code",
   "execution_count": null,
   "id": "2622e315",
   "metadata": {
    "ExecuteTime": {
     "end_time": "2022-12-08T19:43:22.899105Z",
     "start_time": "2022-12-08T19:43:22.117554Z"
    },
    "hidden": true
   },
   "outputs": [],
   "source": [
    "df_BLNS_2021_group = df_BLNS_2021.groupby(\n",
    "    df_BLNS_2021.columns.tolist(), as_index=False\n",
    ").size()\n",
    "df_BLNS_2021_group[\"size\"].sort_values(ascending=False).head()"
   ]
  },
  {
   "cell_type": "code",
   "execution_count": null,
   "id": "804c53ac",
   "metadata": {
    "ExecuteTime": {
     "end_time": "2022-12-08T19:43:23.430298Z",
     "start_time": "2022-12-08T19:43:22.902008Z"
    },
    "hidden": true
   },
   "outputs": [],
   "source": [
    "df_PLNA_2020_group = df_PLNA_2020.groupby(\n",
    "    df_PLNA_2020.columns.tolist(), as_index=False\n",
    ").size()\n",
    "df_PLNA_2020_group[\"size\"].sort_values(ascending=False).head()"
   ]
  },
  {
   "cell_type": "code",
   "execution_count": null,
   "id": "16894d59",
   "metadata": {
    "ExecuteTime": {
     "end_time": "2022-12-08T19:43:23.944419Z",
     "start_time": "2022-12-08T19:43:23.433303Z"
    },
    "hidden": true
   },
   "outputs": [],
   "source": [
    "df_PLNA_2021_group = df_PLNA_2020.groupby(\n",
    "    df_PLNA_2021.columns.tolist(), as_index=False\n",
    ").size()\n",
    "df_PLNA_2021_group[\"size\"].sort_values(ascending=False).head()"
   ]
  },
  {
   "cell_type": "markdown",
   "id": "b4f49f20",
   "metadata": {
    "hidden": true
   },
   "source": [
    "__Išvada__: Nei viena lentelė neturi pasikartojančių įrašų"
   ]
  },
  {
   "cell_type": "markdown",
   "id": "c45a4d6e",
   "metadata": {
    "hidden": true
   },
   "source": [
    "#### Kokia stulpelių aibė vienareikšmiškai identifikuoja kiekvienos lentelės eilutę?"
   ]
  },
  {
   "cell_type": "code",
   "execution_count": 13,
   "id": "f190c247",
   "metadata": {
    "ExecuteTime": {
     "end_time": "2022-12-08T19:43:23.974952Z",
     "start_time": "2022-12-08T19:43:23.956886Z"
    },
    "hidden": true
   },
   "outputs": [
    {
     "data": {
      "text/plain": [
       "Index(['obj_kodas', 'obj_pav', 'form_kodas', 'form_pav', 'stat_statusas',\n",
       "       'stat_pav', 'template_id', 'template_name', 'standard_id',\n",
       "       'standard_name', 'laikotarpis_nuo', 'laikotarpis_iki', 'reg_date',\n",
       "       'nuosavas_kapitalas', 'mok_sumos_ir_isipareigojimai',\n",
       "       'ilgalaikis_turtas', 'trumpalaikis_turtas'],\n",
       "      dtype='object')"
      ]
     },
     "execution_count": 13,
     "metadata": {},
     "output_type": "execute_result"
    },
    {
     "data": {
      "application/javascript": "\n            setTimeout(function() {\n                var nbb_cell_id = 13;\n                var nbb_unformatted_code = \"df_BLNS_2020.columns\";\n                var nbb_formatted_code = \"df_BLNS_2020.columns\";\n                var nbb_cells = Jupyter.notebook.get_cells();\n                for (var i = 0; i < nbb_cells.length; ++i) {\n                    if (nbb_cells[i].input_prompt_number == nbb_cell_id) {\n                        if (nbb_cells[i].get_text() == nbb_unformatted_code) {\n                             nbb_cells[i].set_text(nbb_formatted_code);\n                        }\n                        break;\n                    }\n                }\n            }, 500);\n            ",
      "text/plain": [
       "<IPython.core.display.Javascript object>"
      ]
     },
     "metadata": {},
     "output_type": "display_data"
    }
   ],
   "source": [
    "df_BLNS_2020.columns"
   ]
  },
  {
   "cell_type": "code",
   "execution_count": 15,
   "id": "82fa7477",
   "metadata": {
    "ExecuteTime": {
     "end_time": "2022-12-08T19:43:24.177773Z",
     "start_time": "2022-12-08T19:43:23.982518Z"
    },
    "hidden": true
   },
   "outputs": [
    {
     "data": {
      "text/plain": [
       "(106318, 106318, 106318, 106318)"
      ]
     },
     "execution_count": 15,
     "metadata": {},
     "output_type": "execute_result"
    },
    {
     "data": {
      "application/javascript": "\n            setTimeout(function() {\n                var nbb_cell_id = 15;\n                var nbb_unformatted_code = \"len(df_BLNS_2020), len(\\n    df_BLNS_2020[[\\\"obj_kodas\\\", \\\"obj_pav\\\", \\\"laikotarpis_iki\\\"]].drop_duplicates()\\n), len(df_BLNS_2020[[\\\"obj_kodas\\\", \\\"obj_pav\\\", \\\"laikotarpis_nuo\\\"]].drop_duplicates()), len(df_BLNS_2020[[\\\"obj_kodas\\\", \\\"laikotarpis_nuo\\\"]].drop_duplicates())\";\n                var nbb_formatted_code = \"len(df_BLNS_2020), len(\\n    df_BLNS_2020[[\\\"obj_kodas\\\", \\\"obj_pav\\\", \\\"laikotarpis_iki\\\"]].drop_duplicates()\\n), len(\\n    df_BLNS_2020[[\\\"obj_kodas\\\", \\\"obj_pav\\\", \\\"laikotarpis_nuo\\\"]].drop_duplicates()\\n), len(\\n    df_BLNS_2020[[\\\"obj_kodas\\\", \\\"laikotarpis_nuo\\\"]].drop_duplicates()\\n)\";\n                var nbb_cells = Jupyter.notebook.get_cells();\n                for (var i = 0; i < nbb_cells.length; ++i) {\n                    if (nbb_cells[i].input_prompt_number == nbb_cell_id) {\n                        if (nbb_cells[i].get_text() == nbb_unformatted_code) {\n                             nbb_cells[i].set_text(nbb_formatted_code);\n                        }\n                        break;\n                    }\n                }\n            }, 500);\n            ",
      "text/plain": [
       "<IPython.core.display.Javascript object>"
      ]
     },
     "metadata": {},
     "output_type": "display_data"
    }
   ],
   "source": [
    "len(df_BLNS_2020), len(\n",
    "    df_BLNS_2020[[\"obj_kodas\", \"obj_pav\", \"laikotarpis_iki\"]].drop_duplicates()\n",
    "), len(df_BLNS_2020[[\"obj_kodas\", \"obj_pav\", \"laikotarpis_nuo\"]].drop_duplicates()), "
   ]
  },
  {
   "cell_type": "code",
   "execution_count": null,
   "id": "2e630e71",
   "metadata": {
    "ExecuteTime": {
     "end_time": "2022-12-08T19:43:24.364379Z",
     "start_time": "2022-12-08T19:43:24.180330Z"
    },
    "hidden": true
   },
   "outputs": [],
   "source": [
    "len(df_BLNS_2021), len(\n",
    "    df_BLNS_2021[[\"obj_kodas\", \"obj_pav\", \"laikotarpis_iki\"]].drop_duplicates()\n",
    "), len(df_BLNS_2021[[\"obj_kodas\", \"obj_pav\", \"laikotarpis_nuo\"]].drop_duplicates())"
   ]
  },
  {
   "cell_type": "markdown",
   "id": "448e071f",
   "metadata": {
    "hidden": true
   },
   "source": [
    "__Išvada__: Lentelių df_BLNS_2020, df_BLNS_2021 duomenų identifikavimui užtenka 3 stulpelių: _obj_kodas_, _obj_pav_, _laikotarpis_iki_ arba _obj_kodas_, _obj_pav_, _laikotarpis_nuo_"
   ]
  },
  {
   "cell_type": "code",
   "execution_count": null,
   "id": "e8e1792e",
   "metadata": {
    "ExecuteTime": {
     "end_time": "2022-12-08T19:43:24.380406Z",
     "start_time": "2022-12-08T19:43:24.367340Z"
    },
    "hidden": true
   },
   "outputs": [],
   "source": [
    "df_PLNA_2020.columns"
   ]
  },
  {
   "cell_type": "code",
   "execution_count": null,
   "id": "fdf602cb",
   "metadata": {
    "ExecuteTime": {
     "end_time": "2022-12-08T19:43:24.584622Z",
     "start_time": "2022-12-08T19:43:24.384415Z"
    },
    "hidden": true
   },
   "outputs": [],
   "source": [
    "len(df_PLNA_2020), len(\n",
    "    df_PLNA_2020[[\"obj_kodas\", \"obj_pav\", \"laikotarpis_iki\"]].drop_duplicates()\n",
    "), len(df_PLNA_2020[[\"obj_kodas\", \"obj_pav\", \"laikotarpis_nuo\"]].drop_duplicates())"
   ]
  },
  {
   "cell_type": "code",
   "execution_count": null,
   "id": "bd8c6748",
   "metadata": {
    "ExecuteTime": {
     "end_time": "2022-12-08T19:43:24.803974Z",
     "start_time": "2022-12-08T19:43:24.587614Z"
    },
    "hidden": true
   },
   "outputs": [],
   "source": [
    "len(df_PLNA_2021), len(\n",
    "    df_PLNA_2021[[\"obj_kodas\", \"obj_pav\", \"laikotarpis_iki\"]].drop_duplicates()\n",
    "), len(df_PLNA_2021[[\"obj_kodas\", \"obj_pav\", \"laikotarpis_nuo\"]].drop_duplicates())"
   ]
  },
  {
   "cell_type": "markdown",
   "id": "ec03a873",
   "metadata": {
    "hidden": true
   },
   "source": [
    "__Išvada__: Lentelių df_PLNA_2020, df_PLNA_2021 duomenų identifikavimui užtenka 3 stulpelių: _obj_kodas_, _obj_pav_, _laikotarpis_iki_ arba _obj_kodas_, _obj_pav_, _laikotarpis_nuo_"
   ]
  },
  {
   "attachments": {},
   "cell_type": "markdown",
   "id": "948de663",
   "metadata": {},
   "source": [
    "<font color='red'> Erikas Švažas: \n",
    "Šiuo atveju užtektų *obj_kodas* ir *laikotarpis_nuo* stulpelių pilnai apibūdinti visą aibę (viso už dalį 0.25 taško iš 0.3)\n",
    "</font>"
   ]
  },
  {
   "cell_type": "markdown",
   "id": "3354046b",
   "metadata": {
    "heading_collapsed": true
   },
   "source": [
    "# Antra dalis"
   ]
  },
  {
   "cell_type": "markdown",
   "id": "a296c2f7",
   "metadata": {
    "ExecuteTime": {
     "end_time": "2022-12-05T18:06:19.162056Z",
     "start_time": "2022-12-05T18:06:19.153461Z"
    },
    "heading_collapsed": true,
    "hidden": true
   },
   "source": [
    "## 4. Keletas juridinių asmenų pavadinimų yra tiesiogiai susiję su “Thermo Fisher” bendrove. Raskite pilnus šių bendrovių pavadinimus."
   ]
  },
  {
   "cell_type": "code",
   "execution_count": 17,
   "id": "162f4526",
   "metadata": {
    "ExecuteTime": {
     "end_time": "2022-12-08T19:43:24.912984Z",
     "start_time": "2022-12-08T19:43:24.806978Z"
    },
    "hidden": true
   },
   "outputs": [
    {
     "data": {
      "text/plain": [
       "['UAB \"Thermo Fisher Scientific Vector Holdings\"',\n",
       " 'UAB \"Thermo Fisher Scientific Baltics\"',\n",
       " 'UAB \"Thermo Fisher Scientific Vector Senior Holdings I\"',\n",
       " 'UAB \"Thermo Fisher Scientific Vector Senior Holdings II\"']"
      ]
     },
     "execution_count": 17,
     "metadata": {},
     "output_type": "execute_result"
    },
    {
     "data": {
      "application/javascript": "\n            setTimeout(function() {\n                var nbb_cell_id = 17;\n                var nbb_unformatted_code = \"df_BLNS_2020.loc[df_BLNS_2020[\\\"obj_pav\\\"].str.contains(\\\"Thermo Fisher\\\", case=False)][\\n    \\\"obj_pav\\\"\\n].to_list()\";\n                var nbb_formatted_code = \"df_BLNS_2020.loc[df_BLNS_2020[\\\"obj_pav\\\"].str.contains(\\\"Thermo Fisher\\\", case=False)][\\n    \\\"obj_pav\\\"\\n].to_list()\";\n                var nbb_cells = Jupyter.notebook.get_cells();\n                for (var i = 0; i < nbb_cells.length; ++i) {\n                    if (nbb_cells[i].input_prompt_number == nbb_cell_id) {\n                        if (nbb_cells[i].get_text() == nbb_unformatted_code) {\n                             nbb_cells[i].set_text(nbb_formatted_code);\n                        }\n                        break;\n                    }\n                }\n            }, 500);\n            ",
      "text/plain": [
       "<IPython.core.display.Javascript object>"
      ]
     },
     "metadata": {},
     "output_type": "display_data"
    }
   ],
   "source": [
    "df_BLNS_2020.loc[df_BLNS_2020[\"obj_pav\"].str.contains(\"Thermo Fisher\", case=False)][\n",
    "    \"obj_pav\"\n",
    "].to_list()"
   ]
  },
  {
   "cell_type": "code",
   "execution_count": null,
   "id": "f67c4309",
   "metadata": {
    "ExecuteTime": {
     "end_time": "2022-12-08T19:43:25.070631Z",
     "start_time": "2022-12-08T19:43:24.920515Z"
    },
    "hidden": true
   },
   "outputs": [],
   "source": [
    "df_BLNS_2021.loc[df_BLNS_2021[\"obj_pav\"].str.contains(\"Thermo Fisher\", case=False)][\n",
    "    \"obj_pav\"\n",
    "].to_list()"
   ]
  },
  {
   "cell_type": "code",
   "execution_count": null,
   "id": "870357c9",
   "metadata": {
    "ExecuteTime": {
     "end_time": "2022-12-08T19:43:25.211700Z",
     "start_time": "2022-12-08T19:43:25.075643Z"
    },
    "hidden": true
   },
   "outputs": [],
   "source": [
    "df_PLNA_2020.loc[df_PLNA_2020[\"obj_pav\"].str.contains(\"Thermo Fisher\", case=False)][\n",
    "    \"obj_pav\"\n",
    "].to_list()"
   ]
  },
  {
   "cell_type": "code",
   "execution_count": null,
   "id": "c1948ffd",
   "metadata": {
    "ExecuteTime": {
     "end_time": "2022-12-08T19:43:25.321454Z",
     "start_time": "2022-12-08T19:43:25.219207Z"
    },
    "hidden": true
   },
   "outputs": [],
   "source": [
    "df_PLNA_2021.loc[df_PLNA_2021[\"obj_pav\"].str.contains(\"Thermo Fisher\", case=False)][\n",
    "    \"obj_pav\"\n",
    "].to_list()"
   ]
  },
  {
   "cell_type": "markdown",
   "id": "f180c4be",
   "metadata": {
    "hidden": true
   },
   "source": [
    "__Išvada__: visose duomenyse yra 4 įmonės, susijusios su “Thermo Fisher”"
   ]
  },
  {
   "cell_type": "markdown",
   "id": "13856fbc",
   "metadata": {
    "heading_collapsed": true,
    "hidden": true
   },
   "source": [
    "## 5. Apsimeskime, kad atributas “form_pav” neegzistuoja. Iš likusių laukelių gaukite visas UAB ir MB bendroves. Palyginkite rekonstrukcijos tikslumą su “form_pav” vertėmis - kiek procentų verčių pavyko atkurti skirtingose duomenyse?"
   ]
  },
  {
   "cell_type": "code",
   "execution_count": null,
   "id": "6235f089",
   "metadata": {
    "ExecuteTime": {
     "end_time": "2022-12-08T19:43:25.368249Z",
     "start_time": "2022-12-08T19:43:25.327869Z"
    },
    "hidden": true
   },
   "outputs": [],
   "source": [
    "df_BLNS_2020.sample(5)"
   ]
  },
  {
   "cell_type": "code",
   "execution_count": null,
   "id": "2d792e03",
   "metadata": {
    "ExecuteTime": {
     "end_time": "2022-12-08T19:43:25.399500Z",
     "start_time": "2022-12-08T19:43:25.373712Z"
    },
    "hidden": true
   },
   "outputs": [],
   "source": [
    "def is_MB_UAB(x):\n",
    "    if \"UAB\" in x:\n",
    "        return \"UAB\"\n",
    "    if \"Uždaroji akcinė bendrovė\" in x:\n",
    "        return \"UAB\"\n",
    "    elif \"MB\" in x:\n",
    "        return \"MB\"\n",
    "    elif \"Mažoji bendrija\" in x:\n",
    "        return \"MB\"\n",
    "    return np.NaN\n",
    "\n",
    "\n",
    "def MB_UAB_procentas(df):\n",
    "    df_BLNS_2020_temp = df[[\"obj_pav\"]].copy()\n",
    "\n",
    "    df_BLNS_2020_temp[\"forma\"] = df_BLNS_2020_temp[\"obj_pav\"].apply(is_MB_UAB)\n",
    "    rez_pagal_pav = df_BLNS_2020_temp[\"forma\"].value_counts().sum()\n",
    "\n",
    "    MB_UAB = \"|\".join([\"Mažoji bendrija\", \"Uždaroji akcinė bendrovė\"])\n",
    "    rez_pagal_forma = df[\"form_pav\"].str.contains(MB_UAB).sum()\n",
    "\n",
    "    proc = rez_pagal_pav / rez_pagal_forma * 100\n",
    "\n",
    "    return proc"
   ]
  },
  {
   "cell_type": "code",
   "execution_count": null,
   "id": "7fdc3c71",
   "metadata": {
    "ExecuteTime": {
     "end_time": "2022-12-08T19:43:26.209810Z",
     "start_time": "2022-12-08T19:43:25.407380Z"
    },
    "hidden": true
   },
   "outputs": [],
   "source": [
    "print(f\"df_BLNS_2020 sutapimas: {MB_UAB_procentas(df_BLNS_2020):.2f}\")\n",
    "print(f\"df_BLNS_2021 sutapimas: {MB_UAB_procentas(df_BLNS_2021):.2f}\")\n",
    "print(f\"df_PLNA_2020 sutapimas: {MB_UAB_procentas(df_PLNA_2020):.2f}\")\n",
    "print(f\"df_PLNA_2021 sutapimas: {MB_UAB_procentas(df_PLNA_2021):.2f}\")"
   ]
  },
  {
   "cell_type": "markdown",
   "id": "1b731919",
   "metadata": {
    "ExecuteTime": {
     "end_time": "2022-12-05T19:09:48.866535Z",
     "start_time": "2022-12-05T19:09:48.824412Z"
    },
    "heading_collapsed": true,
    "hidden": true
   },
   "source": [
    "## 6. Apskaičiuoti vidutinias reikšmes “pelnas_pries_apmokestinima” ir “nuosavas_kapitalas” laukų kiekvienai juridinio asmens formai (Uždaroji akcinė bendrovė, Mažoji bendrija, etc.) už visą laikotarpį (2020 ir 2021 metai kartu). "
   ]
  },
  {
   "cell_type": "markdown",
   "id": "943651f3",
   "metadata": {
    "hidden": true
   },
   "source": [
    "Nuosavo kapitalo vidurkis pagal juridinio asmens formą"
   ]
  },
  {
   "cell_type": "code",
   "execution_count": null,
   "id": "e22ad5b2",
   "metadata": {
    "ExecuteTime": {
     "end_time": "2022-12-08T19:43:26.447862Z",
     "start_time": "2022-12-08T19:43:26.212820Z"
    },
    "hidden": true
   },
   "outputs": [],
   "source": [
    "df_BLNS = pd.concat([df_BLNS_2020, df_BLNS_2021])[\n",
    "    [\"obj_pav\", \"form_pav\", \"nuosavas_kapitalas\"]\n",
    "]\n",
    "df_BLNS.groupby([\"form_pav\"])[[\"nuosavas_kapitalas\"]].mean()"
   ]
  },
  {
   "cell_type": "markdown",
   "id": "1839b0da",
   "metadata": {
    "hidden": true
   },
   "source": [
    "----\n",
    "Pelno pries mokesčius vidurkis pagal juridinio asmens formą"
   ]
  },
  {
   "cell_type": "code",
   "execution_count": null,
   "id": "3dea6e3f",
   "metadata": {
    "ExecuteTime": {
     "end_time": "2022-12-08T19:43:26.667726Z",
     "start_time": "2022-12-08T19:43:26.454426Z"
    },
    "hidden": true
   },
   "outputs": [],
   "source": [
    "df_PLNA = pd.concat([df_PLNA_2020, df_PLNA_2021])[\n",
    "    [\"form_pav\", \"pelnas_pries_apmokestinima\"]\n",
    "]\n",
    "df_PLNA.groupby([\"form_pav\"])[[\"pelnas_pries_apmokestinima\"]].mean()"
   ]
  },
  {
   "cell_type": "markdown",
   "id": "df094e83",
   "metadata": {
    "heading_collapsed": true,
    "hidden": true
   },
   "source": [
    "## 7. Atrinkti unikalias UAB ir MB įmones, kurių “nuosavas_kapitalas” buvo didesnis negu visų UAB ir MB įmonių nuosavo kapitalo mediana už visą laitotarpį (2020 ir 2021 metai kartu). "
   ]
  },
  {
   "cell_type": "code",
   "execution_count": null,
   "id": "38e289ca",
   "metadata": {
    "ExecuteTime": {
     "end_time": "2022-12-08T19:43:27.009231Z",
     "start_time": "2022-12-08T19:43:26.671256Z"
    },
    "hidden": true
   },
   "outputs": [],
   "source": [
    "MB_UAB_median = df_BLNS.groupby([\"form_pav\"])[[\"nuosavas_kapitalas\"]].median()\n",
    "df_BLNS_median = pd.merge(\n",
    "    df_BLNS, MB_UAB_median, on=\"form_pav\", suffixes=(\"_existing\", \"_median\")\n",
    ")\n",
    "\n",
    "MB_UAB = \"|\".join([\"Mažoji bendrija\", \"Uždaroji akcinė bendrovė\"])\n",
    "df_BLNS_median = df_BLNS_median[df_BLNS_median[\"form_pav\"].str.contains(MB_UAB)]\n",
    "df_BLNS_median.sample(5)"
   ]
  },
  {
   "cell_type": "code",
   "execution_count": null,
   "id": "d19f275b",
   "metadata": {
    "ExecuteTime": {
     "end_time": "2022-12-08T19:43:27.366826Z",
     "start_time": "2022-12-08T19:43:27.012603Z"
    },
    "hidden": true
   },
   "outputs": [],
   "source": [
    "rez = df_BLNS_median.groupby(\"obj_pav\")[\n",
    "    [\"nuosavas_kapitalas_existing\", \"nuosavas_kapitalas_median\"]\n",
    "].median()\n",
    "rez[rez[\"nuosavas_kapitalas_existing\"] > rez[\"nuosavas_kapitalas_median\"]]"
   ]
  },
  {
   "cell_type": "markdown",
   "id": "4409eeb7",
   "metadata": {
    "heading_collapsed": true,
    "hidden": true
   },
   "source": [
    "##  8. Įvertinkite kurios įmonės išsiskiria ypač didele “nuosavas_kapitalas” verte (patenka į 99th percentilę). Patikrinkite įmonių patenkančių į TOP-10 vertes __[rekvizitai.vz.lt](https://rekvizitai.vz.lt/)__ svetainėje. Ranka įrašomi duomenys sukuria klaidos galimybę. Ar yra bendrovė, kurios “nuosavas_kapitalas” jums kelia įtarimų? "
   ]
  },
  {
   "cell_type": "code",
   "execution_count": null,
   "id": "da64f70d",
   "metadata": {
    "ExecuteTime": {
     "end_time": "2022-12-08T19:43:27.428466Z",
     "start_time": "2022-12-08T19:43:27.371338Z"
    },
    "hidden": true
   },
   "outputs": [],
   "source": [
    "q_2021 = df_BLNS_2021[\"nuosavas_kapitalas\"].quantile(q=0.99)\n",
    "print(f\"99th procentilis: {q_2021:.1f}\")\n",
    "df_BLNS_2021.loc[\n",
    "    df_BLNS_2021[\"nuosavas_kapitalas\"] > q_2021, [\"obj_pav\", \"nuosavas_kapitalas\"]\n",
    "].sort_values(by=\"nuosavas_kapitalas\", ascending=False).head(10)"
   ]
  },
  {
   "cell_type": "markdown",
   "id": "b2d4268c",
   "metadata": {
    "hidden": true
   },
   "source": [
    "Įtartina: \n",
    "* Thermo Fisher Scientific Vector Senior Holdings II, UAB\n",
    "* Thermo Fisher Scientific Vector Senior Holdings I, UAB\n",
    "* Thermo Fisher Scientific Baltics, UAB"
   ]
  },
  {
   "cell_type": "markdown",
   "id": "9fcece0e",
   "metadata": {
    "heading_collapsed": true,
    "hidden": true
   },
   "source": [
    "## 9. Vizualiai atvaizduoti juridinių asmenų formos pasiskirstymą per visą laikotarpį (2020 ir 2021 metais kartu). Vizualizacijos turi sutapti su pavaizduota dešinėje."
   ]
  },
  {
   "cell_type": "code",
   "execution_count": null,
   "id": "0a515da6",
   "metadata": {
    "ExecuteTime": {
     "end_time": "2022-12-08T19:43:27.724315Z",
     "start_time": "2022-12-08T19:43:27.434993Z"
    },
    "hidden": true
   },
   "outputs": [],
   "source": [
    "df_BLNS_2020[\"reg_date\"] = pd.to_datetime(df_BLNS_2020[\"reg_date\"], format=\"%Y-%m-%d\")\n",
    "df_BLNS_2021[\"reg_date\"] = pd.to_datetime(df_BLNS_2021[\"reg_date\"], format=\"%Y-%m-%d\")\n",
    "\n",
    "df_BLNS_2020[\"metai\"] = df_BLNS_2020[\"reg_date\"].dt.year\n",
    "df_BLNS_2021[\"metai\"] = df_BLNS_2021[\"reg_date\"].dt.year\n",
    "\n",
    "df_BLNS = pd.concat([df_BLNS_2020, df_BLNS_2021])[[\"obj_kodas\", \"form_pav\", \"metai\"]]\n",
    "df_BLNS.shape"
   ]
  },
  {
   "cell_type": "markdown",
   "id": "fa0ea523",
   "metadata": {
    "hidden": true
   },
   "source": [
    "Išmetame dublikatus pagal įmonės kodą, formos pavadinimą ir metus, nes tais pačiais metais tapati įmonė ir su tuo pačia forma galėjo turėt kelis įrašus"
   ]
  },
  {
   "cell_type": "code",
   "execution_count": null,
   "id": "53495aba",
   "metadata": {
    "ExecuteTime": {
     "end_time": "2022-12-08T19:43:27.833273Z",
     "start_time": "2022-12-08T19:43:27.730404Z"
    },
    "hidden": true
   },
   "outputs": [],
   "source": [
    "df_BLNS = df_BLNS.drop_duplicates()\n",
    "df_BLNS.shape"
   ]
  },
  {
   "cell_type": "code",
   "execution_count": null,
   "id": "65243d47",
   "metadata": {
    "ExecuteTime": {
     "end_time": "2022-12-08T19:43:29.237414Z",
     "start_time": "2022-12-08T19:43:27.838262Z"
    },
    "hidden": true
   },
   "outputs": [],
   "source": [
    "df_BLNS_group = df_BLNS.groupby([\"form_pav\", \"metai\"])[[\"obj_kodas\"]].count().unstack()\n",
    "df_BLNS_group.columns = df_BLNS_group.columns.droplevel()\n",
    "df_BLNS_group.rename(columns={2020: \"2020_count\", 2021: \"2021_count\"}, inplace=True)\n",
    "\n",
    "ax = df_BLNS_group.plot(\n",
    "    kind=\"bar\",\n",
    "    logy=True,\n",
    "    title=\"Juridinių asmenų skaičius 2020 ir 2021 metais\",\n",
    "    grid=True,\n",
    ")\n",
    "handles, labels = ax.get_legend_handles_labels()\n",
    "ax.legend(handles=handles[0:], labels=labels[0:])\n",
    "ax.set_ylabel(\"Vienetų skaičius\")\n",
    "ax.set_xlabel(\"\")"
   ]
  },
  {
   "cell_type": "code",
   "execution_count": null,
   "id": "ebf2aa01",
   "metadata": {
    "ExecuteTime": {
     "end_time": "2022-12-08T19:43:30.543389Z",
     "start_time": "2022-12-08T19:43:29.240973Z"
    },
    "hidden": true,
    "scrolled": false
   },
   "outputs": [],
   "source": [
    "# form_pav_sort = df_BLNS['form_pav'].to_set().to_\n",
    "sns.set_style(\"ticks\", {\"axes.grid\": True})\n",
    "ax = sns.countplot(data=df_BLNS, x=\"form_pav\", hue=\"metai\")\n",
    "ax.tick_params(axis=\"x\", rotation=90)\n",
    "ax.set(yscale=\"log\")\n",
    "ax.set_ylabel(\"Vienetų skaičius\")\n",
    "ax.set_xlabel(\"\")\n",
    "ax.set_title(\"Juridinių asmenų skaičius 2020 ir 2021 metais\")\n",
    "handles, labels = ax.get_legend_handles_labels()\n",
    "ax.legend(handles=handles[0:], labels=labels[0:])"
   ]
  },
  {
   "cell_type": "markdown",
   "id": "f6c62b8f",
   "metadata": {
    "ExecuteTime": {
     "end_time": "2022-12-06T16:53:57.197606Z",
     "start_time": "2022-12-06T16:53:57.159587Z"
    },
    "heading_collapsed": true,
    "hidden": true
   },
   "source": [
    "## 10. Kurį mėnesį buvo įregistruota daugiausiai juridinių asmenų 2020 ir 2021 metais? Atvaizduokite stulpelinę diagramą."
   ]
  },
  {
   "cell_type": "code",
   "execution_count": null,
   "id": "7204adb7",
   "metadata": {
    "ExecuteTime": {
     "end_time": "2022-12-08T19:43:30.604635Z",
     "start_time": "2022-12-08T19:43:30.550900Z"
    },
    "hidden": true
   },
   "outputs": [],
   "source": [
    "df_PLNA_2020_month = df_PLNA_2020.copy()\n",
    "df_PLNA_2020_month[\"reg_date\"] = pd.to_datetime(df_PLNA_2020_month[\"reg_date\"])"
   ]
  },
  {
   "cell_type": "code",
   "execution_count": null,
   "id": "2fd6d421",
   "metadata": {
    "ExecuteTime": {
     "end_time": "2022-12-08T19:43:30.652077Z",
     "start_time": "2022-12-08T19:43:30.607621Z"
    },
    "hidden": true
   },
   "outputs": [],
   "source": [
    "df_PLNA_2020_temp = (\n",
    "    df_PLNA_2020_month[[\"reg_date\"]]\n",
    "    .groupby(df_PLNA_2020_month[\"reg_date\"].dt.to_period(\"M\"))\n",
    "    .agg(Kiekis=(\"reg_date\", \"count\"))\n",
    "    .sort_values(by=\"Kiekis\", ascending=False)\n",
    ")\n",
    "df_PLNA_2020_temp.head(1)"
   ]
  },
  {
   "cell_type": "markdown",
   "id": "9cb9b2cc",
   "metadata": {
    "hidden": true
   },
   "source": [
    "__Išvada__: Daugiausiai 2020m. registruotų įmonių buvo gegužės mėnesį"
   ]
  },
  {
   "cell_type": "code",
   "execution_count": null,
   "id": "91546523",
   "metadata": {
    "ExecuteTime": {
     "end_time": "2022-12-08T19:43:30.979095Z",
     "start_time": "2022-12-08T19:43:30.655043Z"
    },
    "hidden": true
   },
   "outputs": [],
   "source": [
    "df_PLNA_2020_temp.plot(kind=\"bar\")"
   ]
  },
  {
   "cell_type": "code",
   "execution_count": null,
   "id": "5dffaf1c",
   "metadata": {
    "ExecuteTime": {
     "end_time": "2022-12-08T19:43:31.071876Z",
     "start_time": "2022-12-08T19:43:30.982007Z"
    },
    "hidden": true
   },
   "outputs": [],
   "source": [
    "df_PLNA_2021_month = df_PLNA_2021.copy()\n",
    "df_PLNA_2021_month[\"reg_date\"] = pd.to_datetime(df_PLNA_2021_month[\"reg_date\"])\n",
    "\n",
    "df_PLNA_2021_temp = (\n",
    "    df_PLNA_2021_month[[\"reg_date\"]]\n",
    "    .groupby(df_PLNA_2021_month[\"reg_date\"].dt.to_period(\"M\"))\n",
    "    .agg(Kiekis=(\"reg_date\", \"count\"))\n",
    "    .sort_values(by=\"Kiekis\", ascending=False)\n",
    ")\n",
    "df_PLNA_2021_temp.head(1)"
   ]
  },
  {
   "cell_type": "markdown",
   "id": "316094ca",
   "metadata": {
    "hidden": true
   },
   "source": [
    "__Išvada__: Daugiausiai 2021m. registruotų įmonių buvo gegužės mėnesį"
   ]
  },
  {
   "cell_type": "code",
   "execution_count": null,
   "id": "919ee525",
   "metadata": {
    "ExecuteTime": {
     "end_time": "2022-12-08T19:43:31.383237Z",
     "start_time": "2022-12-08T19:43:31.075861Z"
    },
    "hidden": true
   },
   "outputs": [],
   "source": [
    "df_PLNA_2021_temp.plot(kind=\"bar\")"
   ]
  },
  {
   "cell_type": "markdown",
   "id": "f09ab537",
   "metadata": {
    "heading_collapsed": true,
    "hidden": true
   },
   "source": [
    "## 11. Vizualiai atvaizduoti juridinių asmenų statuso pasiskirstymą kiekvienais metais."
   ]
  },
  {
   "cell_type": "code",
   "execution_count": null,
   "id": "dc5c011d",
   "metadata": {
    "ExecuteTime": {
     "end_time": "2022-12-08T19:43:31.430338Z",
     "start_time": "2022-12-08T19:43:31.387234Z"
    },
    "hidden": true
   },
   "outputs": [],
   "source": [
    "df_BLNS_2020_temp = df_BLNS_2020[[\"form_pav\"]].copy()\n",
    "df_BLNS_2020_temp[\"metai\"] = 2020\n",
    "\n",
    "df_BLNS_2021_temp = df_BLNS_2021[[\"form_pav\"]].copy()\n",
    "df_BLNS_2021_temp[\"metai\"] = 2021\n",
    "\n",
    "df_BLNS_temp = pd.concat([df_BLNS_2020_temp, df_BLNS_2021_temp])"
   ]
  },
  {
   "cell_type": "code",
   "execution_count": null,
   "id": "670b6758",
   "metadata": {
    "ExecuteTime": {
     "end_time": "2022-12-08T19:43:32.254064Z",
     "start_time": "2022-12-08T19:43:31.433262Z"
    },
    "hidden": true,
    "scrolled": false
   },
   "outputs": [],
   "source": [
    "df_BLNS_group = (\n",
    "    df_BLNS_temp.groupby([\"form_pav\", \"metai\"])[\"form_pav\"].count().unstack()\n",
    ")\n",
    "ax = df_BLNS_group.plot.barh(logx=True)\n",
    "ax.set_ylabel(\"\")\n",
    "ax.set_title(\"Juridinių asmenų statuso pasiskirstymas 2020m. ir 2021m.\")"
   ]
  },
  {
   "cell_type": "markdown",
   "id": "590ce09c",
   "metadata": {
    "heading_collapsed": true,
    "hidden": true
   },
   "source": [
    "## 12. Kiekvienai įmonei apskaičiuoti tendenciją. Jei “grynasis_pelnas” + “nuosavas_kapitalas” 2021 metais buvo didesnis už 2020 metais deklaruotą, tai tendencija “teigiama”, jei ne - “neigiama”. Atvaizduoti tendencijos duomenis stulpelinėje diagramoje."
   ]
  },
  {
   "cell_type": "code",
   "execution_count": null,
   "id": "719d2b41",
   "metadata": {
    "ExecuteTime": {
     "end_time": "2022-12-08T19:43:32.426553Z",
     "start_time": "2022-12-08T19:43:32.259068Z"
    },
    "hidden": true
   },
   "outputs": [],
   "source": [
    "df_BL_PL_2020 = df_BLNS_2020[[\"obj_kodas\", \"obj_pav\", \"nuosavas_kapitalas\"]].merge(\n",
    "    df_PLNA_2020[[\"obj_kodas\", \"grynasis_pelnas\"]], on=\"obj_kodas\", how=\"outer\"\n",
    ")\n",
    "df_BL_PL_2020[\"viso_2020\"] = (\n",
    "    df_BL_PL_2020[\"nuosavas_kapitalas\"] + df_BL_PL_2020[\"grynasis_pelnas\"]\n",
    ")\n",
    "# išmetame NaN reikšmes stulepiuose \"nuosavas_kapitalas\", \"grynasis_pelnas\", nes įmonės nepateikė\n",
    "df_BL_PL_2020.drop(columns=[\"nuosavas_kapitalas\", \"grynasis_pelnas\"], inplace=True)\n",
    "\n",
    "df_BL_PL_2021 = df_BLNS_2021[[\"obj_kodas\", \"obj_pav\", \"nuosavas_kapitalas\"]].merge(\n",
    "    df_PLNA_2021[[\"obj_kodas\", \"grynasis_pelnas\"]], on=\"obj_kodas\", how=\"outer\"\n",
    ")\n",
    "df_BL_PL_2021[\"viso_2021\"] = (\n",
    "    df_BL_PL_2021[\"nuosavas_kapitalas\"] + df_BL_PL_2021[\"grynasis_pelnas\"]\n",
    ")\n",
    "# išmetame NaN reikšmes stulepiuose \"nuosavas_kapitalas\", \"grynasis_pelnas\", nes įmonės nepateikė\n",
    "df_BL_PL_2021.drop(columns=[\"nuosavas_kapitalas\", \"grynasis_pelnas\"], inplace=True)"
   ]
  },
  {
   "cell_type": "code",
   "execution_count": null,
   "id": "1f026573",
   "metadata": {
    "ExecuteTime": {
     "end_time": "2022-12-08T19:43:32.521165Z",
     "start_time": "2022-12-08T19:43:32.429144Z"
    },
    "hidden": true
   },
   "outputs": [],
   "source": [
    "df_BL_PL = df_BL_PL_2020.merge(\n",
    "    df_BL_PL_2021[[\"obj_kodas\", \"viso_2021\"]], on=\"obj_kodas\", how=\"outer\"\n",
    ")"
   ]
  },
  {
   "cell_type": "code",
   "execution_count": null,
   "id": "7eed9bf5",
   "metadata": {
    "ExecuteTime": {
     "end_time": "2022-12-08T19:43:32.582666Z",
     "start_time": "2022-12-08T19:43:32.525031Z"
    },
    "hidden": true
   },
   "outputs": [],
   "source": [
    "df_BL_PL[df_BL_PL[\"obj_pav\"].isna()]"
   ]
  },
  {
   "cell_type": "code",
   "execution_count": null,
   "id": "3491f8f5",
   "metadata": {
    "ExecuteTime": {
     "end_time": "2022-12-08T19:43:32.659218Z",
     "start_time": "2022-12-08T19:43:32.586633Z"
    },
    "hidden": true
   },
   "outputs": [],
   "source": [
    "df_BL_PL = df_BL_PL.dropna(subset=[\"obj_pav\"])  # istrinamos imones be pavadinimo\n",
    "df_BL_PL"
   ]
  },
  {
   "cell_type": "code",
   "execution_count": null,
   "id": "623ab5ed",
   "metadata": {
    "ExecuteTime": {
     "end_time": "2022-12-08T19:43:34.061450Z",
     "start_time": "2022-12-08T19:43:32.665151Z"
    },
    "hidden": true
   },
   "outputs": [],
   "source": [
    "def set_tendencija(x):\n",
    "    if x[\"viso_2021\"] > x[\"viso_2020\"]:\n",
    "        return \"teigiama\"\n",
    "    return \"neigiama\"\n",
    "\n",
    "\n",
    "df_BL_PL[\"tendencija\"] = df_BL_PL[[\"viso_2020\", \"viso_2021\"]].apply(\n",
    "    set_tendencija, axis=1\n",
    ")\n",
    "df_BL_PL"
   ]
  },
  {
   "cell_type": "code",
   "execution_count": null,
   "id": "c9662a83",
   "metadata": {
    "ExecuteTime": {
     "end_time": "2022-12-08T19:43:34.265003Z",
     "start_time": "2022-12-08T19:43:34.065256Z"
    },
    "hidden": true
   },
   "outputs": [],
   "source": [
    "df_BL_PL.groupby(\"tendencija\")[\"tendencija\"].count().plot(kind=\"bar\", ylabel=\"Kiekis\")"
   ]
  },
  {
   "cell_type": "markdown",
   "id": "53aacaae",
   "metadata": {
    "heading_collapsed": true,
    "hidden": true
   },
   "source": [
    "## 13. Surasti UAB ir MB įmones, kurios 2020 vykdė veiklą, o 2021 - bankrutavo. Bankrutavusių įmonių statusai: “Bankrutavęs”, “Bankrutuojantis”, “Išregistruotas”, “Inicijuojamas likvidavimas”, “Likviduojamas”, “Likviduojamas dėl bankroto”. Toliau veiklą vykdanti įmonė pažymėta \"Teisinis stat neįregistruotas\" statusu. Kokia bankrutavusių įmonių “nuosavas_kapitalas”suma 2021 metais? Kokia bankrutavusių įmonių “grynasis_pelnas” suma 2021 metais? Palyginti šias sumas su veikiančių įmonių atitinkamomis sumomis. "
   ]
  },
  {
   "cell_type": "code",
   "execution_count": null,
   "id": "b11a9bee",
   "metadata": {
    "ExecuteTime": {
     "end_time": "2022-12-08T19:43:34.296644Z",
     "start_time": "2022-12-08T19:43:34.268960Z"
    },
    "hidden": true
   },
   "outputs": [],
   "source": [
    "def find_unique_MB_UAB(df: pd.DataFrame):\n",
    "    df[\"laikotarpis_iki\"] = pd.to_datetime(df[\"laikotarpis_iki\"])\n",
    "\n",
    "    # 'Mažoji bendrija' = 310, 'Uždaroji akcinė bendrovė' = 960\n",
    "    MB_UAB_kodai = [310, 960]\n",
    "\n",
    "    # Išrenka tik MB ir UAB\n",
    "    result = df[df[\"form_kodas\"].isin(MB_UAB_kodai)]\n",
    "\n",
    "    # Surušiuoja pagal įmonės kodą ir paskutinį užregistruotą laikotarpi_iki\n",
    "    result = result.sort_values(by=[\"obj_kodas\", \"laikotarpis_iki\"])\n",
    "\n",
    "    # Išmeta dublikatus (pagal įmonės kodą), paliekant paskutinį užregistruotą laikotarpį\n",
    "    result = result.drop_duplicates(subset=\"obj_kodas\", keep=\"last\")\n",
    "\n",
    "    return result"
   ]
  },
  {
   "cell_type": "code",
   "execution_count": null,
   "id": "4cd08927",
   "metadata": {
    "ExecuteTime": {
     "end_time": "2022-12-08T19:43:34.581087Z",
     "start_time": "2022-12-08T19:43:34.300230Z"
    },
    "hidden": true
   },
   "outputs": [],
   "source": [
    "df_BLNS_MB_UAB_2020 = find_unique_MB_UAB(df_BLNS_2020)\n",
    "df_PLNA_MB_UAB_2020 = find_unique_MB_UAB(df_PLNA_2020)\n",
    "\n",
    "df_BLNS_MB_UAB_2020.shape, df_PLNA_MB_UAB_2020.shape"
   ]
  },
  {
   "cell_type": "markdown",
   "id": "80e54ac4",
   "metadata": {
    "hidden": true
   },
   "source": [
    "Tikriname ar Balanso ir Pelno(Nuostolio) duomenyse sutampa įmonių statusai"
   ]
  },
  {
   "cell_type": "code",
   "execution_count": null,
   "id": "b59907b7",
   "metadata": {
    "ExecuteTime": {
     "end_time": "2022-12-08T19:43:34.658206Z",
     "start_time": "2022-12-08T19:43:34.585050Z"
    },
    "hidden": true
   },
   "outputs": [],
   "source": [
    "df_temp = df_BLNS_MB_UAB_2020[[\"obj_kodas\", \"obj_pav\", \"stat_statusas\"]].merge(\n",
    "    df_PLNA_MB_UAB_2020[[\"obj_kodas\", \"stat_statusas\"]],\n",
    "    on=\"obj_kodas\",\n",
    "    how=\"outer\",\n",
    "    suffixes=[\"_BLNS\", \"_PLNA\"],\n",
    ")\n",
    "df_temp[df_temp[\"stat_statusas_BLNS\"] != df_temp[\"stat_statusas_PLNA\"]]"
   ]
  },
  {
   "cell_type": "markdown",
   "id": "c9565150",
   "metadata": {
    "hidden": true
   },
   "source": [
    "__Išvada__: Duomenų failuose df_BLNS_MB_UAB_2020 ir df_PLNA_MB_UAB_2020 statusai sutampa\n",
    "\n",
    "----------"
   ]
  },
  {
   "cell_type": "code",
   "execution_count": null,
   "id": "a0c458cd",
   "metadata": {
    "ExecuteTime": {
     "end_time": "2022-12-08T19:43:35.111835Z",
     "start_time": "2022-12-08T19:43:34.663622Z"
    },
    "hidden": true
   },
   "outputs": [],
   "source": [
    "df_BLNS_MB_UAB_2021 = find_unique_MB_UAB(df_BLNS_2021)\n",
    "df_PLNA_MB_UAB_2021 = find_unique_MB_UAB(df_PLNA_2021)\n",
    "\n",
    "print(df_BLNS_MB_UAB_2021.shape, df_PLNA_MB_UAB_2021.shape)\n",
    "\n",
    "df_temp = df_BLNS_MB_UAB_2021[[\"obj_kodas\", \"obj_pav\", \"stat_statusas\"]].merge(\n",
    "    df_PLNA_MB_UAB_2021[[\"obj_kodas\", \"stat_statusas\"]],\n",
    "    on=\"obj_kodas\",\n",
    "    how=\"outer\",\n",
    "    suffixes=[\"_BLNS\", \"_PLNA\"],\n",
    ")\n",
    "df_temp[df_temp[\"stat_statusas_BLNS\"] != df_temp[\"stat_statusas_PLNA\"]]"
   ]
  },
  {
   "cell_type": "markdown",
   "id": "08ff063a",
   "metadata": {
    "hidden": true
   },
   "source": [
    "__Išvada__: Tarp MB ir UAB 2021 metais BLNS ir PLNA statusai nesutampa keliuose įrašuose.\n",
    "Įrašai bus pašalinti, nes nėra informacijos pelno arba balanso ataskaitose"
   ]
  },
  {
   "cell_type": "code",
   "execution_count": null,
   "id": "1c81bc87",
   "metadata": {
    "ExecuteTime": {
     "end_time": "2022-12-08T19:43:35.188782Z",
     "start_time": "2022-12-08T19:43:35.116804Z"
    },
    "hidden": true
   },
   "outputs": [],
   "source": [
    "drop_obj_kodas = df_temp.loc[\n",
    "    df_temp[\"stat_statusas_BLNS\"] != df_temp[\"stat_statusas_PLNA\"], \"obj_kodas\"\n",
    "]\n",
    "df_BLNS_MB_UAB_2021 = df_BLNS_MB_UAB_2021[\n",
    "    ~df_BLNS_MB_UAB_2021[\"obj_kodas\"].isin(drop_obj_kodas)\n",
    "]\n",
    "df_PLNA_MB_UAB_2021 = df_PLNA_MB_UAB_2021[\n",
    "    ~df_PLNA_MB_UAB_2021[\"obj_kodas\"].isin(drop_obj_kodas)\n",
    "]\n",
    "df_BLNS_MB_UAB_2021.shape, df_PLNA_MB_UAB_2021.shape"
   ]
  },
  {
   "cell_type": "markdown",
   "id": "fecbe0b0",
   "metadata": {
    "hidden": true
   },
   "source": [
    "------"
   ]
  },
  {
   "cell_type": "code",
   "execution_count": null,
   "id": "f5302b4c",
   "metadata": {
    "ExecuteTime": {
     "end_time": "2022-12-08T19:43:35.219404Z",
     "start_time": "2022-12-08T19:43:35.193405Z"
    },
    "hidden": true
   },
   "outputs": [],
   "source": [
    "df_2020 = df_BLNS_MB_UAB_2020[[\"obj_kodas\", \"obj_pav\", \"stat_statusas\", \"stat_pav\"]]"
   ]
  },
  {
   "cell_type": "code",
   "execution_count": null,
   "id": "06570722",
   "metadata": {
    "ExecuteTime": {
     "end_time": "2022-12-08T19:43:35.266192Z",
     "start_time": "2022-12-08T19:43:35.221328Z"
    },
    "hidden": true
   },
   "outputs": [],
   "source": [
    "# 2020 metais įmonės vykdancios veiklą (Teisinis stat neįregistruotas = 0)\n",
    "df_vykdo_2020 = df_2020[df_2020[\"stat_statusas\"] == 0]\n",
    "df_vykdo_2020.sample(5)"
   ]
  },
  {
   "cell_type": "code",
   "execution_count": null,
   "id": "62ce7067",
   "metadata": {
    "ExecuteTime": {
     "end_time": "2022-12-08T19:43:35.359926Z",
     "start_time": "2022-12-08T19:43:35.269703Z"
    },
    "hidden": true
   },
   "outputs": [],
   "source": [
    "# Surenkame 2021 metų duomenis į vieną df\n",
    "df_2021 = df_BLNS_MB_UAB_2021[\n",
    "    [\"obj_kodas\", \"obj_pav\", \"stat_statusas\", \"stat_pav\", \"nuosavas_kapitalas\"]\n",
    "].merge(\n",
    "    df_PLNA_MB_UAB_2021[[\"obj_kodas\", \"grynasis_pelnas\"]], on=\"obj_kodas\", how=\"outer\"\n",
    ")"
   ]
  },
  {
   "cell_type": "code",
   "execution_count": null,
   "id": "5c37b94f",
   "metadata": {
    "ExecuteTime": {
     "end_time": "2022-12-08T19:43:35.421748Z",
     "start_time": "2022-12-08T19:43:35.363954Z"
    },
    "hidden": true
   },
   "outputs": [],
   "source": [
    "# 2021 metais bankrutavusios arba vykdancios veiklą (statuso kodas nėra [1, 2, 3, 4, 8, 23, 24])\n",
    "df_imones_2021 = df_2021[~df_2021[\"stat_statusas\"].isin([1, 2, 3, 4, 8, 23, 24])]\n",
    "df_imones_2021.sample(5)"
   ]
  },
  {
   "cell_type": "code",
   "execution_count": null,
   "id": "37479afb",
   "metadata": {
    "ExecuteTime": {
     "end_time": "2022-12-08T19:43:35.546399Z",
     "start_time": "2022-12-08T19:43:35.427733Z"
    },
    "hidden": true
   },
   "outputs": [],
   "source": [
    "# Apjungiam 2020m. ir 2021m. duomenis pagal įmonės kodą\n",
    "df_2020_2021 = df_vykdo_2020.merge(\n",
    "    df_imones_2021[\n",
    "        [\n",
    "            \"obj_kodas\",\n",
    "            \"stat_statusas\",\n",
    "            \"stat_pav\",\n",
    "            \"nuosavas_kapitalas\",\n",
    "            \"grynasis_pelnas\",\n",
    "        ]\n",
    "    ],\n",
    "    on=\"obj_kodas\",\n",
    "    how=\"left\",\n",
    "    suffixes=[\"_2020\", \"_2021\"],\n",
    ")\n",
    "df_2020_2021 = df_2020_2021.dropna(subset=[\"stat_statusas_2021\"])\n",
    "df_2020_2021[\"stat_statusas_2021\"] = df_2020_2021[\"stat_statusas_2021\"].astype(np.int64)\n",
    "df_2020_2021.sample(5)"
   ]
  },
  {
   "cell_type": "code",
   "execution_count": null,
   "id": "4655df55",
   "metadata": {
    "ExecuteTime": {
     "end_time": "2022-12-08T19:43:35.593021Z",
     "start_time": "2022-12-08T19:43:35.565387Z"
    },
    "hidden": true
   },
   "outputs": [],
   "source": [
    "# Patikriname ar visos MB ir UAB įmonės iš 2020m. turi statusus 2021 metais\n",
    "df_2020_2021[[\"stat_statusas_2020\", \"stat_statusas_2021\"]].value_counts(dropna=False)"
   ]
  },
  {
   "cell_type": "code",
   "execution_count": null,
   "id": "706db57d",
   "metadata": {
    "ExecuteTime": {
     "end_time": "2022-12-08T19:43:35.624166Z",
     "start_time": "2022-12-08T19:43:35.599125Z"
    },
    "hidden": true
   },
   "outputs": [],
   "source": [
    "# Pašalimane įmones, kurių 2021m. statusas nežinomas\n",
    "df_2020_2021 = df_2020_2021.dropna(subset=[\"stat_statusas_2021\"])\n",
    "df_2020_2021[\"stat_statusas_2021\"] = df_2020_2021[\"stat_statusas_2021\"].astype(np.int64)"
   ]
  },
  {
   "cell_type": "code",
   "execution_count": null,
   "id": "b18606bf",
   "metadata": {
    "ExecuteTime": {
     "end_time": "2022-12-08T19:43:35.654912Z",
     "start_time": "2022-12-08T19:43:35.630312Z"
    },
    "hidden": true
   },
   "outputs": [],
   "source": [
    "df_bankrutavusios = df_2020_2021[\n",
    "    df_2020_2021[\"stat_statusas_2020\"] != df_2020_2021[\"stat_statusas_2021\"]\n",
    "]\n",
    "df_bankrutavusios"
   ]
  },
  {
   "cell_type": "markdown",
   "id": "c883e4fc",
   "metadata": {
    "hidden": true
   },
   "source": [
    "__Išvada__: Nėra 2020m veikusių, o 2021 bankrutavusių UAB ir MB įmonių"
   ]
  },
  {
   "cell_type": "code",
   "execution_count": null,
   "id": "2614f54c",
   "metadata": {
    "ExecuteTime": {
     "end_time": "2022-12-08T19:43:35.685612Z",
     "start_time": "2022-12-08T19:43:35.660512Z"
    },
    "hidden": true
   },
   "outputs": [],
   "source": [
    "veikianciu_nuosavas_kapitalas = df_2020_2021[\"nuosavas_kapitalas\"].sum()\n",
    "veikianciu_grynasis_pelnas = df_2020_2021[\"grynasis_pelnas\"].sum()\n",
    "print(\n",
    "    f\"Veikiančių MB ir UAB įmonių nuosavas kapitalas: {veikianciu_nuosavas_kapitalas:,.0f}\"\n",
    ")\n",
    "print(f\"Veikiančių MB ir UAB įmonių grynasis pelnas: {veikianciu_grynasis_pelnas:,.0f}\")"
   ]
  },
  {
   "cell_type": "markdown",
   "id": "88fa59fc",
   "metadata": {
    "ExecuteTime": {
     "end_time": "2022-12-07T15:38:41.265116Z",
     "start_time": "2022-12-07T15:38:41.265116Z"
    },
    "heading_collapsed": true,
    "hidden": true,
    "scrolled": true
   },
   "source": [
    "## 14. Sukurti naują stulpelį “turtas”, kuris skaičiuojamas sudedant “trumpalaikis_turtas” ir “ilgalaikis_turtas”"
   ]
  },
  {
   "cell_type": "code",
   "execution_count": null,
   "id": "e4a0450e",
   "metadata": {
    "ExecuteTime": {
     "end_time": "2022-12-08T19:43:37.321906Z",
     "start_time": "2022-12-08T19:43:35.689217Z"
    },
    "hidden": true
   },
   "outputs": [],
   "source": [
    "df_BLNS_2020[\"turtas\"] = df_BLNS_2020.apply(\n",
    "    lambda x: x[\"trumpalaikis_turtas\"] + x[\"ilgalaikis_turtas\"], axis=1\n",
    ")\n",
    "df_BLNS_2020.sample(5)"
   ]
  },
  {
   "cell_type": "code",
   "execution_count": null,
   "id": "066833af",
   "metadata": {
    "ExecuteTime": {
     "end_time": "2022-12-08T19:43:37.368305Z",
     "start_time": "2022-12-08T19:43:37.326928Z"
    },
    "hidden": true
   },
   "outputs": [],
   "source": [
    "bins = [-np.infty, 3_000, 20_000, 35_000, 70_000, np.infty]\n",
    "bins_labels = [\"iki 3k\", \"3k-20k\", \"20k-35k\", \"35k-70k\", \"70k+\"]\n",
    "df_BLNS_2020[\"turto_grupe\"] = pd.cut(\n",
    "    df_BLNS_2020[\"turtas\"], bins=bins, labels=bins_labels\n",
    ")\n",
    "df_turtas_2020 = df_BLNS_2020[[\"turto_grupe\"]].value_counts()\n",
    "df_turtas_2020"
   ]
  },
  {
   "cell_type": "code",
   "execution_count": null,
   "id": "3d6495a6",
   "metadata": {
    "ExecuteTime": {
     "end_time": "2022-12-08T19:43:38.989423Z",
     "start_time": "2022-12-08T19:43:37.372322Z"
    },
    "hidden": true
   },
   "outputs": [],
   "source": [
    "df_BLNS_2021[\"turtas\"] = df_BLNS_2021.apply(\n",
    "    lambda x: x[\"trumpalaikis_turtas\"] + x[\"ilgalaikis_turtas\"], axis=1\n",
    ")\n",
    "df_BLNS_2021.sample(5)"
   ]
  },
  {
   "cell_type": "code",
   "execution_count": null,
   "id": "af1a887f",
   "metadata": {
    "ExecuteTime": {
     "end_time": "2022-12-08T19:43:39.035465Z",
     "start_time": "2022-12-08T19:43:38.995372Z"
    },
    "hidden": true
   },
   "outputs": [],
   "source": [
    "df_BLNS_2021[\"turto_grupe\"] = pd.cut(\n",
    "    df_BLNS_2021[\"turtas\"], bins=bins, labels=bins_labels\n",
    ")\n",
    "df_turtas_2021 = df_BLNS_2021[[\"turto_grupe\"]].value_counts()\n",
    "df_turtas_2021"
   ]
  },
  {
   "cell_type": "code",
   "execution_count": null,
   "id": "a331e14f",
   "metadata": {
    "ExecuteTime": {
     "end_time": "2022-12-08T19:43:39.347481Z",
     "start_time": "2022-12-08T19:43:39.039020Z"
    },
    "hidden": true
   },
   "outputs": [],
   "source": [
    "viso = df_turtas_2020.sum()\n",
    "\n",
    "\n",
    "def proc_and_absolute_value(x):\n",
    "    proc = x\n",
    "    val = x * viso / 100\n",
    "    return f\"{proc:.1f}%\\n({val:,.0f})\"\n",
    "\n",
    "\n",
    "fig, ax = plt.subplots(1, 2, figsize=(10, 5))\n",
    "\n",
    "labels_2020 = [x[0] for x in df_turtas_2020.index]\n",
    "labels_2021 = [x[0] for x in df_turtas_2021.index]\n",
    "\n",
    "ax[0].pie(df_turtas_2020, labels=labels_2020, autopct=proc_and_absolute_value)\n",
    "ax[0].set_title(\"2020 metais\")\n",
    "\n",
    "ax[1] = df_turtas_2021.plot(\n",
    "    y=\"turto_grupe\",\n",
    "    kind=\"pie\",\n",
    "    labels=labels_2021,\n",
    "    title=\"2021 metais\",\n",
    "    ylabel=\"\",\n",
    "    autopct=proc_and_absolute_value,\n",
    ")"
   ]
  },
  {
   "cell_type": "markdown",
   "id": "c86a6204",
   "metadata": {
    "ExecuteTime": {
     "end_time": "2022-12-07T15:38:41.273119Z",
     "start_time": "2022-12-07T15:38:41.273119Z"
    },
    "heading_collapsed": true,
    "hidden": true
   },
   "source": [
    "## 15. Rasti TOP-100 pelningiausių įmonių pagal “grynasis pelnas” ir TOP-100 įmonių, kurių “nuosavas kapitalas” didžiausias. Ar yra sutampančių įmonių šiuose sąrašuose? Skaičiuojant TOP įmonės įtraukti viso laikotarpio įmones (naudoti 2020 ir 2021 metų duomenis kartu)."
   ]
  },
  {
   "cell_type": "code",
   "execution_count": null,
   "id": "03059da9",
   "metadata": {
    "ExecuteTime": {
     "end_time": "2022-12-08T19:43:39.783274Z",
     "start_time": "2022-12-08T19:43:39.351003Z"
    },
    "hidden": true
   },
   "outputs": [],
   "source": [
    "df_BLNS_2020[\"metai\"] = 2020\n",
    "df_BLNS_2021[\"metai\"] = 2021\n",
    "df_BLNS = pd.concat([df_BLNS_2020, df_BLNS_2021])\n",
    "Top100_kapitalas = (\n",
    "    df_BLNS.groupby([\"obj_pav\"])[[\"nuosavas_kapitalas\"]]\n",
    "    .mean()\n",
    "    .sort_values(by=\"nuosavas_kapitalas\", ascending=False)\n",
    "    .head(100)\n",
    ")\n",
    "Top100_kapitalas"
   ]
  },
  {
   "cell_type": "code",
   "execution_count": null,
   "id": "a1fb55fc",
   "metadata": {
    "ExecuteTime": {
     "end_time": "2022-12-08T19:43:40.184834Z",
     "start_time": "2022-12-08T19:43:39.787274Z"
    },
    "hidden": true
   },
   "outputs": [],
   "source": [
    "df_PLNA_2020[\"metai\"] = 2020\n",
    "df_PLNA_2021[\"metai\"] = 2021\n",
    "\n",
    "df_PLNA = pd.concat([df_PLNA_2020, df_PLNA_2021])\n",
    "Top100_pelnas = (\n",
    "    df_PLNA.groupby([\"obj_pav\"])[[\"grynasis_pelnas\"]]\n",
    "    .mean()\n",
    "    .sort_values(by=\"grynasis_pelnas\", ascending=False)\n",
    "    .head(100)\n",
    ")\n",
    "Top100_pelnas"
   ]
  },
  {
   "cell_type": "code",
   "execution_count": null,
   "id": "958a050b",
   "metadata": {
    "ExecuteTime": {
     "end_time": "2022-12-08T19:43:40.216331Z",
     "start_time": "2022-12-08T19:43:40.187831Z"
    },
    "hidden": true
   },
   "outputs": [],
   "source": [
    "Top100_kapitalas_imones = set(Top100_kapitalas.index)\n",
    "Top100_pelnas_imones = set(Top100_pelnas.index)\n",
    "len(Top100_kapitalas_imones.intersection(Top100_pelnas_imones))"
   ]
  },
  {
   "cell_type": "markdown",
   "id": "bc250555",
   "metadata": {
    "hidden": true
   },
   "source": [
    "__Išvada__: yra sutampančių įmonių tarp Top100 pelningiausių ir turtigiausių (pagal kapitalą)"
   ]
  },
  {
   "cell_type": "markdown",
   "id": "43908cc5",
   "metadata": {
    "heading_collapsed": true,
    "hidden": true
   },
   "source": [
    "## 16. Ar TOP įmonės pagal “grynasis pelnas” iš 15 užduoties skiriasi pagal metus, t.y. 2020 ir 2021 metais? Kurios įmonės iškrenta iš TOP sąrašo 2021 metais?"
   ]
  },
  {
   "cell_type": "code",
   "execution_count": null,
   "id": "29f435f0",
   "metadata": {
    "ExecuteTime": {
     "end_time": "2022-12-08T19:43:40.620024Z",
     "start_time": "2022-12-08T19:43:40.219355Z"
    },
    "hidden": true
   },
   "outputs": [],
   "source": [
    "pelnas_top100_2020 = (\n",
    "    df_PLNA_2020.groupby([\"obj_pav\"])[[\"grynasis_pelnas\"]]\n",
    "    .mean()\n",
    "    .sort_values(by=\"grynasis_pelnas\", ascending=False)\n",
    "    .head(100)\n",
    ")\n",
    "pelnas_top100_2021 = (\n",
    "    df_PLNA_2021.groupby([\"obj_pav\"])[[\"grynasis_pelnas\"]]\n",
    "    .mean()\n",
    "    .sort_values(by=\"grynasis_pelnas\", ascending=False)\n",
    "    .head(100)\n",
    ")\n",
    "imones_2020 = set(pelnas_top100_2020.index)\n",
    "imones_2021 = set(pelnas_top100_2021.index)\n",
    "len(imones_2020 & imones_2021)"
   ]
  },
  {
   "cell_type": "markdown",
   "id": "f17383ea",
   "metadata": {
    "hidden": true
   },
   "source": [
    "__Išvada__: TOP įmonės pagal \"grynasis pelnas\" skiriasi pagal metus (2020m. ir 2021m.), t.y. skiriasi 57 įmonėmis"
   ]
  },
  {
   "cell_type": "markdown",
   "id": "d691e193",
   "metadata": {
    "hidden": true
   },
   "source": [
    "Įmonės, kurios buvo 2020 TOP100'e, o 2021 neliko"
   ]
  },
  {
   "cell_type": "code",
   "execution_count": null,
   "id": "470408b9",
   "metadata": {
    "ExecuteTime": {
     "end_time": "2022-12-08T19:43:40.651116Z",
     "start_time": "2022-12-08T19:43:40.623011Z"
    },
    "hidden": true
   },
   "outputs": [],
   "source": [
    "list(imones_2020 - imones_2021)"
   ]
  },
  {
   "cell_type": "markdown",
   "id": "f7aa1011",
   "metadata": {
    "heading_collapsed": true
   },
   "source": [
    "# Trečia dalis"
   ]
  },
  {
   "cell_type": "markdown",
   "id": "e7118a74",
   "metadata": {
    "heading_collapsed": true,
    "hidden": true
   },
   "source": [
    "## 3.0. Duomenų importas ir tvarkymas"
   ]
  },
  {
   "cell_type": "markdown",
   "id": "db990959",
   "metadata": {},
   "source": [
    "<font color='red'> Justas Kalpokas komentaras: \n",
    "1. csv.zip gali būti tiesiogiai nusakaityti į pandas. \n",
    "2. jeigu rasote funkcijos argumento tipa, pridekite ir tipa, kuri funkcija grazina\n",
    "3. Patiko sprendimas su rankais surikiuoti imones pagal skirtingus parametrus. \n",
    "4. Manau, kad galutine funkcija atrenkanti top 10 imoniu nera labai gera, jus tik susumuojate rankus. As gal ivesciau papildomus svorius, kad pvz. tarp 10 nepakliuto tos, kuriu atlyginimas mazejo. \n",
    "</font>"
   ]
  },
  {
   "cell_type": "code",
   "execution_count": null,
   "id": "6bbbcf88",
   "metadata": {
    "ExecuteTime": {
     "end_time": "2022-12-08T19:43:40.682699Z",
     "start_time": "2022-12-08T19:43:40.653984Z"
    },
    "hidden": true
   },
   "outputs": [],
   "source": [
    "import zipfile"
   ]
  },
  {
   "cell_type": "code",
   "execution_count": null,
   "id": "a913dc89",
   "metadata": {
    "ExecuteTime": {
     "end_time": "2022-12-08T19:43:45.180942Z",
     "start_time": "2022-12-08T19:43:40.686660Z"
    },
    "hidden": true
   },
   "outputs": [],
   "source": [
    "# linkas = \"https://atvira.sodra.lt/imones/downloads/2019/monthly-2019.csv.zip\"\n",
    "# linkas = \"https://atvira.sodra.lt/imones/downloads/2019/monthly-2019.json.zip\"\n",
    "linkas2020 = \"./data/monthly-2019.csv.zip\"\n",
    "linkas2021 = \"./data/monthly-2020.csv.zip\"\n",
    "\n",
    "with zipfile.ZipFile(linkas2020) as zip_csv:\n",
    "    with zip_csv.open(\"monthly-2019.csv\") as csv_file:\n",
    "        df_sodra_2020 = pd.read_csv(csv_file, sep=\";\")\n",
    "\n",
    "with zipfile.ZipFile(linkas2021) as zip_csv:\n",
    "    with zip_csv.open(\"monthly-2020.csv\") as csv_file:\n",
    "        df_sodra_2021 = pd.read_csv(csv_file, sep=\";\")"
   ]
  },
  {
   "cell_type": "code",
   "execution_count": null,
   "id": "b7733698",
   "metadata": {
    "ExecuteTime": {
     "end_time": "2022-12-08T19:43:45.212242Z",
     "start_time": "2022-12-08T19:43:45.184948Z"
    },
    "hidden": true
   },
   "outputs": [],
   "source": [
    "new_columns_names = {\n",
    "    \"Draudėjo kodas (code)\": \"code\",\n",
    "    \"Juridinių asmenų registro kodas (jarCode)\": \"obj_kodas\",\n",
    "    \"Pavadinimas (name)\": \"obj_pav\",\n",
    "    \"Savivaldybė, kurioje registruota(municipality)\": \"savivaldybe\",\n",
    "    \"Ekonominės veiklos rūšies kodas(ecoActCode)\": \"veiklos_kodas\",\n",
    "    \"Ekonominės veiklos rūšies pavadinimas(ecoActName)\": \"veiklos_aprasymas\",\n",
    "    \"Mėnuo (month)\": \"menuo\",\n",
    "    \"Vidutinis darbo užmokestis (avgWage)\": \"vid_atlyginimas\",\n",
    "    \"Apdraustųjų skaičius (numInsured)\": \"darbuotoju_skaicius\",\n",
    "    \"Vidutinis darbo užmokestis II (avgWage2)\": \"vid_atlyginimas_II\",\n",
    "    \"Apdraustųjų skaičius II (numInsured2)\": \"darbuotoju_skaicius_II\",\n",
    "    \"Valstybinio socialinio draudimo įmoka (tax)\": \"sodros_imoka\",\n",
    "}\n",
    "df_sodra_2020.rename(columns=new_columns_names, inplace=True)\n",
    "df_sodra_2021.rename(columns=new_columns_names, inplace=True)"
   ]
  },
  {
   "cell_type": "markdown",
   "id": "af733333",
   "metadata": {
    "hidden": true
   },
   "source": [
    "> sutampančių ir nesutampančių įmonių kodų tarp BLNS ir Sodra duomenų"
   ]
  },
  {
   "cell_type": "code",
   "execution_count": null,
   "id": "eae6da64",
   "metadata": {
    "ExecuteTime": {
     "end_time": "2022-12-08T19:43:45.445731Z",
     "start_time": "2022-12-08T19:43:45.218228Z"
    },
    "hidden": true
   },
   "outputs": [],
   "source": [
    "BLNS = set(df_BLNS_2020[\"obj_kodas\"])\n",
    "sodra = set(df_sodra_2020[\"obj_kodas\"])\n",
    "\n",
    "len(BLNS), len(BLNS - sodra), len(BLNS.intersection(sodra)), len(sodra)"
   ]
  },
  {
   "cell_type": "markdown",
   "id": "700d4bf1",
   "metadata": {
    "hidden": true
   },
   "source": [
    "__Pastaba__: imsiu tik tas įmones, kurios yra BLNS duomenų masyve "
   ]
  },
  {
   "cell_type": "code",
   "execution_count": null,
   "id": "0674e4cf",
   "metadata": {
    "ExecuteTime": {
     "end_time": "2022-12-08T19:43:47.065834Z",
     "start_time": "2022-12-08T19:43:45.447574Z"
    },
    "hidden": true
   },
   "outputs": [],
   "source": [
    "def tvarkyti_sodra(df: pd.DataFrame) -> pd.DataFrame: # jeigu rasote argumento tipa, pridekite ir tipa, kuri grazina\n",
    "    # pašalinam įmones be įmonės kodo\n",
    "    df_1 = df[~df[\"obj_kodas\"].isna()]\n",
    "    df_1 = df_1.sort_values([\"obj_kodas\", \"menuo\"])\n",
    "\n",
    "    # išrenkame paskutinį įmonės įrašą metuose\n",
    "    result = df_1.groupby(\"obj_kodas\").last().sort_values(\"obj_kodas\").reset_index()\n",
    "\n",
    "    return result\n",
    "\n",
    "\n",
    "df_sodra_2020 = tvarkyti_sodra(df_sodra_2020)\n",
    "df_sodra_2021 = tvarkyti_sodra(df_sodra_2021)"
   ]
  },
  {
   "cell_type": "code",
   "execution_count": null,
   "id": "17e3c9e8",
   "metadata": {
    "ExecuteTime": {
     "end_time": "2022-12-08T19:44:00.480585Z",
     "start_time": "2022-12-08T19:43:47.075365Z"
    },
    "hidden": true
   },
   "outputs": [],
   "source": [
    "def tvarkyti_PLNS_BLNA(df: pd.DataFrame):\n",
    "    #     df[\"laikotarpis_nuo\"] = pd.to_datetime(df[\"laikotarpis_nuo\"], format=\"%Y-%m-%d\")\n",
    "    df[\"laikotarpis_iki\"] = pd.to_datetime(df[\"laikotarpis_iki\"], format=\"%Y-%m-%d\")\n",
    "    df[\"reg_date\"] = pd.to_datetime(df[\"reg_date\"], format=\"%Y-%m-%d\")\n",
    "\n",
    "    # paliekam tik tuos įrašus, kuriu laikotarpis_iki yra ataskaitos metai\n",
    "    metai = df[\"reg_date\"].max().year - 1\n",
    "    df_1 = df[df[\"laikotarpis_iki\"].dt.year == metai]\n",
    "\n",
    "    # paliekame tik įmonės paskutinius įrašus\n",
    "    result = (\n",
    "        df_1.sort_values([\"obj_kodas\", \"laikotarpis_iki\"])\n",
    "        .groupby(\"obj_kodas\")\n",
    "        .last()\n",
    "        .reset_index()\n",
    "    )\n",
    "\n",
    "    return result\n",
    "\n",
    "\n",
    "df_BLNS_2020 = tvarkyti_PLNS_BLNA(df_BLNS_2020)\n",
    "df_BLNS_2021 = tvarkyti_PLNS_BLNA(df_BLNS_2021)\n",
    "df_PLNA_2020 = tvarkyti_PLNS_BLNA(df_PLNA_2020)\n",
    "df_PLNA_2021 = tvarkyti_PLNS_BLNA(df_PLNA_2021)"
   ]
  },
  {
   "cell_type": "code",
   "execution_count": null,
   "id": "aeccc3b0",
   "metadata": {
    "ExecuteTime": {
     "end_time": "2022-12-08T19:44:00.650163Z",
     "start_time": "2022-12-08T19:44:00.485587Z"
    },
    "hidden": true
   },
   "outputs": [],
   "source": [
    "df_temp = df_BLNS_2020[\n",
    "    [\n",
    "        \"obj_kodas\",\n",
    "        \"obj_pav\",\n",
    "        \"form_pav\",\n",
    "        \"nuosavas_kapitalas\",\n",
    "        \"mok_sumos_ir_isipareigojimai\",\n",
    "        \"ilgalaikis_turtas\",\n",
    "        \"trumpalaikis_turtas\",\n",
    "    ]\n",
    "].merge(\n",
    "    df_sodra_2020[\n",
    "        [\n",
    "            \"obj_kodas\",\n",
    "            \"veiklos_kodas\",\n",
    "            \"veiklos_aprasymas\",\n",
    "            \"savivaldybe\",\n",
    "            \"vid_atlyginimas\",\n",
    "            \"darbuotoju_skaicius\",\n",
    "        ]\n",
    "    ],\n",
    "    on=\"obj_kodas\",\n",
    "    how=\"inner\",\n",
    ")"
   ]
  },
  {
   "cell_type": "code",
   "execution_count": null,
   "id": "a1871f13",
   "metadata": {
    "ExecuteTime": {
     "end_time": "2022-12-08T19:44:00.775810Z",
     "start_time": "2022-12-08T19:44:00.653132Z"
    },
    "hidden": true
   },
   "outputs": [],
   "source": [
    "df_2020 = df_temp.merge(\n",
    "    df_PLNA_2020[[\"obj_kodas\", \"pardavimo_pajamos\", \"grynasis_pelnas\"]],\n",
    "    on=\"obj_kodas\",\n",
    "    how=\"inner\",\n",
    ")"
   ]
  },
  {
   "cell_type": "code",
   "execution_count": null,
   "id": "b2eab10a",
   "metadata": {
    "ExecuteTime": {
     "end_time": "2022-12-08T19:44:00.965213Z",
     "start_time": "2022-12-08T19:44:00.779281Z"
    },
    "hidden": true
   },
   "outputs": [],
   "source": [
    "df_temp = df_BLNS_2021[\n",
    "    [\n",
    "        \"obj_kodas\",\n",
    "        \"obj_pav\",\n",
    "        \"form_pav\",\n",
    "        \"nuosavas_kapitalas\",\n",
    "        \"mok_sumos_ir_isipareigojimai\",\n",
    "        \"ilgalaikis_turtas\",\n",
    "        \"trumpalaikis_turtas\",\n",
    "    ]\n",
    "].merge(\n",
    "    df_sodra_2021[\n",
    "        [\n",
    "            \"obj_kodas\",\n",
    "            \"veiklos_kodas\",\n",
    "            \"veiklos_aprasymas\",\n",
    "            \"savivaldybe\",\n",
    "            \"vid_atlyginimas\",\n",
    "            \"darbuotoju_skaicius\",\n",
    "        ]\n",
    "    ],\n",
    "    on=\"obj_kodas\",\n",
    "    how=\"inner\",\n",
    ")"
   ]
  },
  {
   "cell_type": "code",
   "execution_count": null,
   "id": "79ee6013",
   "metadata": {
    "ExecuteTime": {
     "end_time": "2022-12-08T19:44:01.041866Z",
     "start_time": "2022-12-08T19:44:00.967214Z"
    },
    "hidden": true
   },
   "outputs": [],
   "source": [
    "df_2021 = df_temp.merge(\n",
    "    df_PLNA_2021[[\"obj_kodas\", \"pardavimo_pajamos\", \"grynasis_pelnas\"]],\n",
    "    on=\"obj_kodas\",\n",
    "    how=\"inner\",\n",
    ")"
   ]
  },
  {
   "cell_type": "code",
   "execution_count": null,
   "id": "6f4dfd21",
   "metadata": {
    "ExecuteTime": {
     "end_time": "2022-12-08T19:44:01.167499Z",
     "start_time": "2022-12-08T19:44:01.045850Z"
    },
    "hidden": true
   },
   "outputs": [],
   "source": [
    "df_visa = df_2020.merge(\n",
    "    df_2021[\n",
    "        [\n",
    "            \"obj_kodas\",\n",
    "            \"nuosavas_kapitalas\",\n",
    "            \"mok_sumos_ir_isipareigojimai\",\n",
    "            \"ilgalaikis_turtas\",\n",
    "            \"trumpalaikis_turtas\",\n",
    "            \"pardavimo_pajamos\",\n",
    "            \"grynasis_pelnas\",\n",
    "            \"vid_atlyginimas\",\n",
    "            \"darbuotoju_skaicius\",\n",
    "        ]\n",
    "    ],\n",
    "    on=\"obj_kodas\",\n",
    "    how=\"outer\",\n",
    "    suffixes=[\"_20\", \"_21\"],\n",
    ")"
   ]
  },
  {
   "cell_type": "code",
   "execution_count": null,
   "id": "9592e584",
   "metadata": {
    "ExecuteTime": {
     "end_time": "2022-12-08T19:44:01.246604Z",
     "start_time": "2022-12-08T19:44:01.171049Z"
    },
    "hidden": true
   },
   "outputs": [],
   "source": [
    "df_visa = df_visa[\n",
    "    [\n",
    "        \"obj_kodas\",\n",
    "        \"obj_pav\",\n",
    "        \"form_pav\",\n",
    "        \"veiklos_kodas\",\n",
    "        \"veiklos_aprasymas\",\n",
    "        \"savivaldybe\",\n",
    "        \"nuosavas_kapitalas_20\",\n",
    "        \"mok_sumos_ir_isipareigojimai_20\",\n",
    "        \"ilgalaikis_turtas_20\",\n",
    "        \"trumpalaikis_turtas_20\",\n",
    "        \"pardavimo_pajamos_20\",\n",
    "        \"grynasis_pelnas_20\",\n",
    "        \"vid_atlyginimas_20\",\n",
    "        \"darbuotoju_skaicius_20\",\n",
    "        \"nuosavas_kapitalas_21\",\n",
    "        \"mok_sumos_ir_isipareigojimai_21\",\n",
    "        \"ilgalaikis_turtas_21\",\n",
    "        \"trumpalaikis_turtas_21\",\n",
    "        \"pardavimo_pajamos_21\",\n",
    "        \"grynasis_pelnas_21\",\n",
    "        \"vid_atlyginimas_21\",\n",
    "        \"darbuotoju_skaicius_21\",\n",
    "    ]\n",
    "]"
   ]
  },
  {
   "cell_type": "code",
   "execution_count": null,
   "id": "136cf18f",
   "metadata": {
    "ExecuteTime": {
     "end_time": "2022-12-08T19:44:01.293101Z",
     "start_time": "2022-12-08T19:44:01.249238Z"
    },
    "hidden": true
   },
   "outputs": [],
   "source": [
    "df_visa.head()"
   ]
  },
  {
   "cell_type": "code",
   "execution_count": null,
   "id": "5db6051b",
   "metadata": {
    "ExecuteTime": {
     "end_time": "2022-12-08T19:44:01.324668Z",
     "start_time": "2022-12-08T19:44:01.297074Z"
    },
    "hidden": true
   },
   "outputs": [],
   "source": [
    "df_visa.shape"
   ]
  },
  {
   "cell_type": "code",
   "execution_count": null,
   "id": "57b843cb",
   "metadata": {
    "ExecuteTime": {
     "end_time": "2022-12-08T19:44:01.356506Z",
     "start_time": "2022-12-08T19:44:01.327701Z"
    },
    "hidden": true
   },
   "outputs": [],
   "source": [
    "df_visa.columns"
   ]
  },
  {
   "cell_type": "markdown",
   "id": "ee864eef",
   "metadata": {
    "heading_collapsed": true,
    "hidden": true
   },
   "source": [
    "## 3.1. Išsiaiškinkite micro ir mažos įmonės apibrėžimą."
   ]
  },
  {
   "cell_type": "markdown",
   "id": "afb35dd6",
   "metadata": {
    "hidden": true
   },
   "source": [
    "Linkas [micro ir mažos įmonės](https://www.infolex.lt/ta/43747:str3#)"
   ]
  },
  {
   "cell_type": "markdown",
   "id": "cba265ed",
   "metadata": {
    "ExecuteTime": {
     "end_time": "2022-12-08T16:31:26.616270Z",
     "start_time": "2022-12-08T16:31:26.500076Z"
    },
    "heading_collapsed": true,
    "hidden": true
   },
   "source": [
    "## 3.2. Remdamiesi apibrėžimu išfiltruokite micro ir mažas įmones. Įmonės turi turėti statusą MB arba UAB."
   ]
  },
  {
   "cell_type": "code",
   "execution_count": null,
   "id": "7fac0169",
   "metadata": {
    "ExecuteTime": {
     "end_time": "2022-12-08T19:44:01.388140Z",
     "start_time": "2022-12-08T19:44:01.359059Z"
    },
    "hidden": true
   },
   "outputs": [],
   "source": [
    "df_visa[\"form_pav\"].isna().sum()"
   ]
  },
  {
   "cell_type": "markdown",
   "id": "01697fcb",
   "metadata": {
    "hidden": true
   },
   "source": [
    "Įrašus be formos pavadinimo išmetu"
   ]
  },
  {
   "cell_type": "code",
   "execution_count": null,
   "id": "3414fb09",
   "metadata": {
    "ExecuteTime": {
     "end_time": "2022-12-08T19:44:01.434866Z",
     "start_time": "2022-12-08T19:44:01.392703Z"
    },
    "hidden": true
   },
   "outputs": [],
   "source": [
    "df_visa_temp = df_visa[df_visa[\"form_pav\"].notna()]"
   ]
  },
  {
   "cell_type": "code",
   "execution_count": null,
   "id": "58156b49",
   "metadata": {
    "ExecuteTime": {
     "end_time": "2022-12-08T19:44:01.544655Z",
     "start_time": "2022-12-08T19:44:01.440471Z"
    },
    "hidden": true
   },
   "outputs": [],
   "source": [
    "MB_UAB = \"|\".join([\"Mažoji bendrija\", \"Uždaroji akcinė bendrovė\"])\n",
    "df_MB_UAB = df_visa_temp[df_visa_temp[\"form_pav\"].str.contains(MB_UAB)]"
   ]
  },
  {
   "cell_type": "code",
   "execution_count": null,
   "id": "65947660",
   "metadata": {
    "ExecuteTime": {
     "end_time": "2022-12-08T19:44:01.637716Z",
     "start_time": "2022-12-08T19:44:01.549230Z"
    },
    "hidden": true
   },
   "outputs": [],
   "source": [
    "darbuotojai = df_MB_UAB[\"darbuotoju_skaicius_21\"]\n",
    "pajamos = df_MB_UAB[\"pardavimo_pajamos_21\"]\n",
    "turtas = df_MB_UAB[\"ilgalaikis_turtas_21\"] + df_MB_UAB[\"trumpalaikis_turtas_21\"]\n",
    "\n",
    "mikro_imone = (darbuotojai < 10) & ((pajamos < 2_000_000) | (turtas <= 2_000_000))\n",
    "maza_imone = (darbuotojai < 50) & ((pajamos < 10_000_000) | (turtas <= 10_000_000))\n",
    "\n",
    "df_mikro_maza = df_MB_UAB[mikro_imone | maza_imone]\n",
    "df_mikro_maza.head()"
   ]
  },
  {
   "cell_type": "code",
   "execution_count": null,
   "id": "b682c34a",
   "metadata": {
    "ExecuteTime": {
     "end_time": "2022-12-08T19:44:01.653550Z",
     "start_time": "2022-12-08T19:44:01.643291Z"
    },
    "hidden": true
   },
   "outputs": [],
   "source": [
    "print(\n",
    "    f\"Viso MB ir UAB: {len(df_MB_UAB):d}\\nTarp jų mikro ir mazų: {len(df_mikro_maza):d}\"\n",
    ")"
   ]
  },
  {
   "cell_type": "markdown",
   "id": "931ad29e",
   "metadata": {
    "ExecuteTime": {
     "end_time": "2022-12-08T16:56:29.518725Z",
     "start_time": "2022-12-08T16:56:29.443610Z"
    },
    "heading_collapsed": true,
    "hidden": true
   },
   "source": [
    "## 3.3.  Indentifikuokite labiausiai augusias įmones."
   ]
  },
  {
   "cell_type": "code",
   "execution_count": null,
   "id": "316fcb9c",
   "metadata": {
    "ExecuteTime": {
     "end_time": "2022-12-08T19:44:01.716202Z",
     "start_time": "2022-12-08T19:44:01.659084Z"
    },
    "hidden": true
   },
   "outputs": [],
   "source": [
    "df_mikro_maza[\"darbuotoju_skaicius_20\"].fillna(0, inplace=True)\n",
    "df_mikro_maza[\"darbuotoju_skaicius_21\"].fillna(0, inplace=True)\n",
    "\n",
    "df_mikro_maza[\"darbuotoju_pokytis\"] = (\n",
    "    df_mikro_maza[\"darbuotoju_skaicius_21\"] - df_mikro_maza[\"darbuotoju_skaicius_20\"]\n",
    ")\n",
    "df_mikro_maza[\"pajamos_pokytis\"] = (\n",
    "    df_mikro_maza[\"pardavimo_pajamos_21\"] - df_mikro_maza[\"pardavimo_pajamos_20\"]\n",
    ")\n",
    "df_mikro_maza[\"ilg_turtas_pokytis\"] = (\n",
    "    df_mikro_maza[\"ilgalaikis_turtas_21\"] - df_mikro_maza[\"ilgalaikis_turtas_20\"]\n",
    ")\n",
    "df_mikro_maza[\"vid_atlyginimas_pokytis\"] = (\n",
    "    df_mikro_maza[\"vid_atlyginimas_21\"] - df_mikro_maza[\"vid_atlyginimas_20\"]\n",
    ")\n",
    "df_mikro_maza[\"isipareigojimai_pokytis\"] = (\n",
    "    df_mikro_maza[\"vid_atlyginimas_21\"] - df_mikro_maza[\"vid_atlyginimas_20\"]\n",
    ")\n",
    "\n",
    "\n",
    "df_rez = df_mikro_maza[\n",
    "    [\n",
    "        \"obj_kodas\",\n",
    "        \"obj_pav\",\n",
    "        \"darbuotoju_pokytis\",\n",
    "        \"pajamos_pokytis\",\n",
    "        \"ilg_turtas_pokytis\",\n",
    "        \"vid_atlyginimas_pokytis\",\n",
    "        \"isipareigojimai_pokytis\",\n",
    "    ]\n",
    "]"
   ]
  },
  {
   "cell_type": "markdown",
   "id": "fc29ab76",
   "metadata": {
    "hidden": true
   },
   "source": [
    "Paskaičiuoju kiekvieno pokyčio kvantilius (0.1 ir 0.9)\n",
    "Jei pokytis nepapuola į kvantilių intervalą skaitau kad įmonė nusišypsojo \"sėkmė\". Tokias įmones atmetu"
   ]
  },
  {
   "cell_type": "code",
   "execution_count": null,
   "id": "828eed24",
   "metadata": {
    "ExecuteTime": {
     "end_time": "2022-12-08T19:44:57.617036Z",
     "start_time": "2022-12-08T19:44:57.571185Z"
    },
    "code_folding": [],
    "hidden": true
   },
   "outputs": [],
   "source": [
    "q_columns = [\n",
    "    \"darbuotoju_pokytis\",\n",
    "    \"pajamos_pokytis\",\n",
    "    \"ilg_turtas_pokytis\",\n",
    "    \"vid_atlyginimas_pokytis\",\n",
    "    \"isipareigojimai_pokytis\",\n",
    "]\n",
    "q = df_rez.quantile(np.array([0.1, 0.9]), numeric_only=True)[q_columns]\n",
    "q"
   ]
  },
  {
   "cell_type": "code",
   "execution_count": null,
   "id": "da72d879",
   "metadata": {
    "ExecuteTime": {
     "end_time": "2022-12-08T19:45:17.023249Z",
     "start_time": "2022-12-08T19:45:16.976776Z"
    },
    "hidden": true
   },
   "outputs": [],
   "source": [
    "df_rez2 = df_rez\n",
    "for col in q_columns:\n",
    "    df_rez2 = df_rez2[\n",
    "        ((df_rez2[col] >= q.loc[0.1, col]) & (df_rez2[col] <= q.loc[0.9, col]))\n",
    "    ]\n",
    "# df_rez2"
   ]
  },
  {
   "cell_type": "markdown",
   "id": "21f5e35b",
   "metadata": {
    "hidden": true
   },
   "source": [
    "Suskaičiuoju kiekvieno pokyčio rangą ir bendrą rangą (visų rangų suma)\n",
    "Kuo bendras rangas mažesnis, tuo įmonė labiausiai paaugo"
   ]
  },
  {
   "cell_type": "code",
   "execution_count": null,
   "id": "5dd27674",
   "metadata": {
    "ExecuteTime": {
     "end_time": "2022-12-08T19:45:19.786511Z",
     "start_time": "2022-12-08T19:45:19.744866Z"
    },
    "hidden": true
   },
   "outputs": [],
   "source": [
    "df_rez2[\"pajamos_pokytis_rank\"] = df_rez2[[\"pajamos_pokytis\"]].rank(ascending=False)\n",
    "df_rez2[\"ilg_turtas_pokytis_rank\"] = df_rez2[[\"ilg_turtas_pokytis\"]].rank(ascending=False)\n",
    "df_rez2[\"vid_atlyginimas_pokytis_rank\"] = df_rez2[[\"vid_atlyginimas_pokytis\"]].rank(ascending=False)\n",
    "df_rez2[\"isipareigojimai_pokytis_rank\"] = df_rez2[[\"isipareigojimai_pokytis\"]].rank()\n",
    "df_rez2['bendras_rank'] = df_rez2[\"pajamos_pokytis_rank\"] + df_rez2[\"ilg_turtas_pokytis_rank\"] + df_rez2[\"isipareigojimai_pokytis_rank\"] + df_rez2[\"isipareigojimai_pokytis_rank\"]\n"
   ]
  },
  {
   "cell_type": "code",
   "execution_count": null,
   "id": "204222e7",
   "metadata": {
    "ExecuteTime": {
     "end_time": "2022-12-08T19:45:21.574838Z",
     "start_time": "2022-12-08T19:45:21.537008Z"
    },
    "hidden": true
   },
   "outputs": [],
   "source": [
    "print(\"---- Top10 geriausių įmonių --------\")\n",
    "df_rez2.sort_values(\"bendras_rank\")[\n",
    "    [\n",
    "        \"obj_kodas\",\n",
    "        \"obj_pav\",\n",
    "        \"darbuotoju_pokytis\",\n",
    "        \"pajamos_pokytis\",\n",
    "        \"ilg_turtas_pokytis\",\n",
    "        \"vid_atlyginimas_pokytis\",\n",
    "        \"isipareigojimai_pokytis\",\n",
    "        \"bendras_rank\",\n",
    "    ]\n",
    "].head(10)"
   ]
  },
  {
   "cell_type": "code",
   "execution_count": null,
   "id": "b4ac6b8c",
   "metadata": {
    "ExecuteTime": {
     "end_time": "2022-12-08T18:56:31.450358Z",
     "start_time": "2022-12-08T18:56:31.412077Z"
    },
    "hidden": true
   },
   "outputs": [],
   "source": []
  },
  {
   "cell_type": "code",
   "execution_count": null,
   "id": "77f57989",
   "metadata": {
    "hidden": true
   },
   "outputs": [],
   "source": []
  },
  {
   "cell_type": "code",
   "execution_count": null,
   "id": "1f798b59",
   "metadata": {
    "hidden": true
   },
   "outputs": [],
   "source": []
  },
  {
   "cell_type": "code",
   "execution_count": null,
   "id": "e5761674",
   "metadata": {
    "hidden": true
   },
   "outputs": [],
   "source": []
  },
  {
   "cell_type": "code",
   "execution_count": null,
   "id": "8e3f7e0b",
   "metadata": {
    "ExecuteTime": {
     "end_time": "2022-12-08T19:45:28.460242Z",
     "start_time": "2022-12-08T19:45:26.454528Z"
    },
    "hidden": true
   },
   "outputs": [],
   "source": [
    "!pip freeze > requirements1.txt"
   ]
  },
  {
   "cell_type": "code",
   "execution_count": null,
   "id": "a30dcd2c",
   "metadata": {
    "hidden": true
   },
   "outputs": [],
   "source": []
  }
 ],
 "metadata": {
  "kernelspec": {
   "display_name": "Python 3",
   "language": "python",
   "name": "python3"
  },
  "language_info": {
   "codemirror_mode": {
    "name": "ipython",
    "version": 3
   },
   "file_extension": ".py",
   "mimetype": "text/x-python",
   "name": "python",
   "nbconvert_exporter": "python",
   "pygments_lexer": "ipython3",
   "version": "3.10.4 (main, Jul 26 2022, 15:10:52) [Clang 13.1.6 (clang-1316.0.21.2.5)]"
  },
  "toc": {
   "base_numbering": "1",
   "nav_menu": {},
   "number_sections": false,
   "sideBar": true,
   "skip_h1_title": false,
   "title_cell": "Table of Contents",
   "title_sidebar": "Contents",
   "toc_cell": false,
   "toc_position": {
    "height": "calc(100% - 180px)",
    "left": "10px",
    "top": "150px",
    "width": "279.273px"
   },
   "toc_section_display": true,
   "toc_window_display": true
  },
  "varInspector": {
   "cols": {
    "lenName": 16,
    "lenType": 16,
    "lenVar": 40
   },
   "kernels_config": {
    "python": {
     "delete_cmd_postfix": "",
     "delete_cmd_prefix": "del ",
     "library": "var_list.py",
     "varRefreshCmd": "print(var_dic_list())"
    },
    "r": {
     "delete_cmd_postfix": ") ",
     "delete_cmd_prefix": "rm(",
     "library": "var_list.r",
     "varRefreshCmd": "cat(var_dic_list()) "
    }
   },
   "types_to_exclude": [
    "module",
    "function",
    "builtin_function_or_method",
    "instance",
    "_Feature"
   ],
   "window_display": false
  },
  "vscode": {
   "interpreter": {
    "hash": "26da6cf43c948e3e39a137ae8dddff40a859a473b305a6bed05f8458a5b8607f"
   }
  }
 },
 "nbformat": 4,
 "nbformat_minor": 5
}
