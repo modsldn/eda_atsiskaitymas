{
 "cells": [
  {
   "cell_type": "markdown",
   "id": "64ae03c7",
   "metadata": {},
   "source": [
    "# Pirma Dalis"
   ]
  },
  {
   "cell_type": "markdown",
   "id": "b0e1c7f3",
   "metadata": {
    "ExecuteTime": {
     "end_time": "2022-12-05T16:36:25.922255Z",
     "start_time": "2022-12-05T16:36:25.913253Z"
    }
   },
   "source": [
    "## 1."
   ]
  },
  {
   "cell_type": "code",
   "execution_count": 500,
   "id": "4ae17a38",
   "metadata": {
    "ExecuteTime": {
     "end_time": "2022-12-08T19:39:16.825300Z",
     "start_time": "2022-12-08T19:39:16.813302Z"
    }
   },
   "outputs": [],
   "source": [
    "# Importing packages\n",
    "import pandas as pd\n",
    "import numpy as np\n",
    "import seaborn as sns\n",
    "import matplotlib.pyplot as plt"
   ]
  },
  {
   "cell_type": "code",
   "execution_count": 501,
   "id": "80e16ce0",
   "metadata": {
    "ExecuteTime": {
     "end_time": "2022-12-08T19:39:16.841304Z",
     "start_time": "2022-12-08T19:39:16.827301Z"
    }
   },
   "outputs": [],
   "source": [
    "pd.set_option('display.max_rows', 500)"
   ]
  },
  {
   "cell_type": "markdown",
   "id": "c81ff3dd",
   "metadata": {
    "ExecuteTime": {
     "end_time": "2022-12-08T19:15:37.428737Z",
     "start_time": "2022-12-08T19:15:37.416602Z"
    }
   },
   "source": [
    "## 2. Parsisiųsti 2020 ir 2021 įmonių “Juridinių asmenų duomenis"
   ]
  },
  {
   "cell_type": "code",
   "execution_count": 502,
   "id": "7c30de96",
   "metadata": {
    "ExecuteTime": {
     "end_time": "2022-12-08T19:39:21.559527Z",
     "start_time": "2022-12-08T19:39:16.843307Z"
    }
   },
   "outputs": [],
   "source": [
    "# Reading data\n",
    "# ba - balanso ataskaita\n",
    "ba2020_data = pd.read_csv(\n",
    "    'https://www.registrucentras.lt//aduomenys//?byla=JAR_FA_RODIKLIAI_BLNS_2020.csv')\n",
    "ba2021_data = pd.read_csv(\n",
    "    'https://www.registrucentras.lt//aduomenys//?byla=JAR_FA_RODIKLIAI_BLNS_2021.csv')\n",
    "# pna - pelno/nuostoliu ataskaita\n",
    "pna2020_data = pd.read_csv(\n",
    "    'https://www.registrucentras.lt/aduomenys/?byla=JAR_FA_RODIKLIAI_PLNA_2020.csv')\n",
    "pna2021_data = pd.read_csv(\n",
    "    'https://www.registrucentras.lt/aduomenys/?byla=JAR_FA_RODIKLIAI_PLNA_2021.csv')"
   ]
  },
  {
   "cell_type": "code",
   "execution_count": 503,
   "id": "cca234c1",
   "metadata": {
    "ExecuteTime": {
     "end_time": "2022-12-08T19:39:21.604633Z",
     "start_time": "2022-12-08T19:39:21.561896Z"
    }
   },
   "outputs": [],
   "source": [
    "# copying datasets to reduce request count in case dataset collapses.\n",
    "ba2020 = ba2020_data.copy()\n",
    "ba2021 = ba2021_data.copy()\n",
    "pna2020 = pna2020_data.copy()\n",
    "pna2021 = pna2021_data.copy()"
   ]
  },
  {
   "cell_type": "code",
   "execution_count": 504,
   "id": "71e2e071",
   "metadata": {
    "ExecuteTime": {
     "end_time": "2022-12-08T19:39:21.619627Z",
     "start_time": "2022-12-08T19:39:21.606625Z"
    }
   },
   "outputs": [],
   "source": [
    "# setting names on dataframes\n",
    "ba2020.name = 'ba2020'\n",
    "ba2021.name = 'ba2021'\n",
    "pna2020.name = 'pna2020'\n",
    "pna2021.name = 'pna2021'"
   ]
  },
  {
   "cell_type": "markdown",
   "id": "2ea4f8b8",
   "metadata": {},
   "source": [
    "# 3. 3. Susipažinkite su duomenimis"
   ]
  },
  {
   "cell_type": "markdown",
   "id": "e81c9222",
   "metadata": {},
   "source": [
    "## a. Ką reiškia skirtingi duomenų laukai? Iš kokių atributų sudaryti duomenys?"
   ]
  },
  {
   "cell_type": "code",
   "execution_count": 505,
   "id": "0524355e",
   "metadata": {
    "ExecuteTime": {
     "end_time": "2022-12-08T19:39:21.711288Z",
     "start_time": "2022-12-08T19:39:21.621627Z"
    },
    "scrolled": false
   },
   "outputs": [
    {
     "data": {
      "text/html": [
       "<div>\n",
       "<style scoped>\n",
       "    .dataframe tbody tr th:only-of-type {\n",
       "        vertical-align: middle;\n",
       "    }\n",
       "\n",
       "    .dataframe tbody tr th {\n",
       "        vertical-align: top;\n",
       "    }\n",
       "\n",
       "    .dataframe thead th {\n",
       "        text-align: right;\n",
       "    }\n",
       "</style>\n",
       "<table border=\"1\" class=\"dataframe\">\n",
       "  <thead>\n",
       "    <tr style=\"text-align: right;\">\n",
       "      <th></th>\n",
       "      <th>Žymėjimas</th>\n",
       "      <th>Tipas</th>\n",
       "      <th>Atributo aprašymas</th>\n",
       "    </tr>\n",
       "  </thead>\n",
       "  <tbody>\n",
       "    <tr>\n",
       "      <th>0</th>\n",
       "      <td>obj_kodas</td>\n",
       "      <td>decimal</td>\n",
       "      <td>juridinio asmens kodas Juridinių asmenų registre</td>\n",
       "    </tr>\n",
       "    <tr>\n",
       "      <th>1</th>\n",
       "      <td>obj_pav</td>\n",
       "      <td>string</td>\n",
       "      <td>juridinio asmens pavadinimas (individualių įmo...</td>\n",
       "    </tr>\n",
       "    <tr>\n",
       "      <th>2</th>\n",
       "      <td>form_kodas</td>\n",
       "      <td>decimal</td>\n",
       "      <td>juridinio asmens formos kodas</td>\n",
       "    </tr>\n",
       "    <tr>\n",
       "      <th>3</th>\n",
       "      <td>form_pav</td>\n",
       "      <td>string</td>\n",
       "      <td>juridinio asmens formos pavadinimas</td>\n",
       "    </tr>\n",
       "    <tr>\n",
       "      <th>4</th>\n",
       "      <td>stat_statusas</td>\n",
       "      <td>decimal</td>\n",
       "      <td>juridinio asmens teisinio statuso kodas</td>\n",
       "    </tr>\n",
       "    <tr>\n",
       "      <th>5</th>\n",
       "      <td>stat_pav</td>\n",
       "      <td>string</td>\n",
       "      <td>juridinio asmens teisinio statuso pavadinimas</td>\n",
       "    </tr>\n",
       "    <tr>\n",
       "      <th>6</th>\n",
       "      <td>template_id</td>\n",
       "      <td>decimal</td>\n",
       "      <td>ataskaitos rūšies kodas</td>\n",
       "    </tr>\n",
       "    <tr>\n",
       "      <th>7</th>\n",
       "      <td>template_name</td>\n",
       "      <td>string</td>\n",
       "      <td>ataskaitos rūšies pavadinimas</td>\n",
       "    </tr>\n",
       "    <tr>\n",
       "      <th>8</th>\n",
       "      <td>standard_id</td>\n",
       "      <td>decimal</td>\n",
       "      <td>FA dokumentų rinkinio kodas</td>\n",
       "    </tr>\n",
       "    <tr>\n",
       "      <th>9</th>\n",
       "      <td>standard_name</td>\n",
       "      <td>string</td>\n",
       "      <td>FA dokumentų rinkinio tipas</td>\n",
       "    </tr>\n",
       "    <tr>\n",
       "      <th>10</th>\n",
       "      <td>laikotarpis_nuo</td>\n",
       "      <td>date</td>\n",
       "      <td>finansinių metų pradžios data</td>\n",
       "    </tr>\n",
       "    <tr>\n",
       "      <th>11</th>\n",
       "      <td>laikotarpis_iki</td>\n",
       "      <td>date</td>\n",
       "      <td>finansinių metų pabaigos data</td>\n",
       "    </tr>\n",
       "    <tr>\n",
       "      <th>12</th>\n",
       "      <td>reg_date</td>\n",
       "      <td>date</td>\n",
       "      <td>FA dokumentų registravimo JAR data</td>\n",
       "    </tr>\n",
       "    <tr>\n",
       "      <th>13</th>\n",
       "      <td>nuosavas_kapitalas</td>\n",
       "      <td>decimal</td>\n",
       "      <td>FA ataskaitos rodiklio (nuosavo kapitalo) reik...</td>\n",
       "    </tr>\n",
       "    <tr>\n",
       "      <th>14</th>\n",
       "      <td>mok_sumos_ir_isipareigojimai</td>\n",
       "      <td>decimal</td>\n",
       "      <td>FA rodiklio (mokėtinų sumų ir įsipareigojimų) ...</td>\n",
       "    </tr>\n",
       "    <tr>\n",
       "      <th>15</th>\n",
       "      <td>ilgalaikis_turtas</td>\n",
       "      <td>decimal</td>\n",
       "      <td>FA ataskaitos rodiklio (ilgalaikio turto) reik...</td>\n",
       "    </tr>\n",
       "    <tr>\n",
       "      <th>16</th>\n",
       "      <td>trumpalaikis_turtas</td>\n",
       "      <td>decimal</td>\n",
       "      <td>FA ataskaitos rodiklio (trumpalaikio turto) re...</td>\n",
       "    </tr>\n",
       "  </tbody>\n",
       "</table>\n",
       "</div>"
      ],
      "text/plain": [
       "                       Žymėjimas    Tipas  \\\n",
       "0                      obj_kodas  decimal   \n",
       "1                        obj_pav   string   \n",
       "2                     form_kodas  decimal   \n",
       "3                       form_pav   string   \n",
       "4                  stat_statusas  decimal   \n",
       "5                       stat_pav   string   \n",
       "6                    template_id  decimal   \n",
       "7                  template_name   string   \n",
       "8                    standard_id  decimal   \n",
       "9                  standard_name   string   \n",
       "10               laikotarpis_nuo     date   \n",
       "11               laikotarpis_iki     date   \n",
       "12                      reg_date     date   \n",
       "13            nuosavas_kapitalas  decimal   \n",
       "14  mok_sumos_ir_isipareigojimai  decimal   \n",
       "15             ilgalaikis_turtas  decimal   \n",
       "16           trumpalaikis_turtas  decimal   \n",
       "\n",
       "                                   Atributo aprašymas  \n",
       "0   juridinio asmens kodas Juridinių asmenų registre   \n",
       "1   juridinio asmens pavadinimas (individualių įmo...  \n",
       "2                       juridinio asmens formos kodas  \n",
       "3                 juridinio asmens formos pavadinimas  \n",
       "4             juridinio asmens teisinio statuso kodas  \n",
       "5       juridinio asmens teisinio statuso pavadinimas  \n",
       "6                             ataskaitos rūšies kodas  \n",
       "7                       ataskaitos rūšies pavadinimas  \n",
       "8                         FA dokumentų rinkinio kodas  \n",
       "9                         FA dokumentų rinkinio tipas  \n",
       "10                      finansinių metų pradžios data  \n",
       "11                      finansinių metų pabaigos data  \n",
       "12                 FA dokumentų registravimo JAR data  \n",
       "13  FA ataskaitos rodiklio (nuosavo kapitalo) reik...  \n",
       "14  FA rodiklio (mokėtinų sumų ir įsipareigojimų) ...  \n",
       "15  FA ataskaitos rodiklio (ilgalaikio turto) reik...  \n",
       "16  FA ataskaitos rodiklio (trumpalaikio turto) re...  "
      ]
     },
     "execution_count": 505,
     "metadata": {},
     "output_type": "execute_result"
    }
   ],
   "source": [
    "# ba dataframe attributes\n",
    "ba_att = pd.read_excel(\n",
    "    'https://www.registrucentras.lt/bylos/dokumentai/duomenys/aduomenys/JAR_FA_RODIKLIAI_BLNS_STR.xlsx', header=1)\n",
    "ba_att"
   ]
  },
  {
   "cell_type": "code",
   "execution_count": 506,
   "id": "35fc6b37",
   "metadata": {
    "ExecuteTime": {
     "end_time": "2022-12-08T19:39:21.791004Z",
     "start_time": "2022-12-08T19:39:21.713288Z"
    },
    "scrolled": true
   },
   "outputs": [
    {
     "data": {
      "text/html": [
       "<div>\n",
       "<style scoped>\n",
       "    .dataframe tbody tr th:only-of-type {\n",
       "        vertical-align: middle;\n",
       "    }\n",
       "\n",
       "    .dataframe tbody tr th {\n",
       "        vertical-align: top;\n",
       "    }\n",
       "\n",
       "    .dataframe thead th {\n",
       "        text-align: right;\n",
       "    }\n",
       "</style>\n",
       "<table border=\"1\" class=\"dataframe\">\n",
       "  <thead>\n",
       "    <tr style=\"text-align: right;\">\n",
       "      <th></th>\n",
       "      <th>Žymėjimas</th>\n",
       "      <th>Tipas</th>\n",
       "      <th>Atributo aprašymas</th>\n",
       "    </tr>\n",
       "  </thead>\n",
       "  <tbody>\n",
       "    <tr>\n",
       "      <th>0</th>\n",
       "      <td>obj_kodas</td>\n",
       "      <td>decimal</td>\n",
       "      <td>juridinio asmens kodas Juridinių asmenų registre</td>\n",
       "    </tr>\n",
       "    <tr>\n",
       "      <th>1</th>\n",
       "      <td>obj_pav</td>\n",
       "      <td>string</td>\n",
       "      <td>juridinio asmens pavadinimas (individualių įmo...</td>\n",
       "    </tr>\n",
       "    <tr>\n",
       "      <th>2</th>\n",
       "      <td>form_kodas</td>\n",
       "      <td>decimal</td>\n",
       "      <td>juridinio asmens formos kodas</td>\n",
       "    </tr>\n",
       "    <tr>\n",
       "      <th>3</th>\n",
       "      <td>form_pav</td>\n",
       "      <td>string</td>\n",
       "      <td>juridinio asmens formos pavadinimas</td>\n",
       "    </tr>\n",
       "    <tr>\n",
       "      <th>4</th>\n",
       "      <td>stat_statusas</td>\n",
       "      <td>decimal</td>\n",
       "      <td>juridinio asmens teisinio statuso kodas</td>\n",
       "    </tr>\n",
       "    <tr>\n",
       "      <th>5</th>\n",
       "      <td>stat_pav</td>\n",
       "      <td>string</td>\n",
       "      <td>juridinio asmens teisinio statuso pavadinimas</td>\n",
       "    </tr>\n",
       "    <tr>\n",
       "      <th>6</th>\n",
       "      <td>template_id</td>\n",
       "      <td>decimal</td>\n",
       "      <td>ataskaitos rūšies kodas</td>\n",
       "    </tr>\n",
       "    <tr>\n",
       "      <th>7</th>\n",
       "      <td>template_name</td>\n",
       "      <td>string</td>\n",
       "      <td>ataskaitos rūšies pavadinimas</td>\n",
       "    </tr>\n",
       "    <tr>\n",
       "      <th>8</th>\n",
       "      <td>standard_id</td>\n",
       "      <td>decimal</td>\n",
       "      <td>FA dokumentų rinkinio kodas</td>\n",
       "    </tr>\n",
       "    <tr>\n",
       "      <th>9</th>\n",
       "      <td>standard_name</td>\n",
       "      <td>string</td>\n",
       "      <td>FA dokumentų rinkinio tipas</td>\n",
       "    </tr>\n",
       "    <tr>\n",
       "      <th>10</th>\n",
       "      <td>laikotarpis_nuo</td>\n",
       "      <td>date</td>\n",
       "      <td>finansinių metų pradžios data</td>\n",
       "    </tr>\n",
       "    <tr>\n",
       "      <th>11</th>\n",
       "      <td>laikotarpis_iki</td>\n",
       "      <td>date</td>\n",
       "      <td>finansinių metų pabaigos data</td>\n",
       "    </tr>\n",
       "    <tr>\n",
       "      <th>12</th>\n",
       "      <td>reg_date</td>\n",
       "      <td>date</td>\n",
       "      <td>FA dokumentų registravimo JAR data</td>\n",
       "    </tr>\n",
       "    <tr>\n",
       "      <th>13</th>\n",
       "      <td>pelnas_pries_apmokestinima</td>\n",
       "      <td>decimal</td>\n",
       "      <td>FA ataskaitos rodiklio (pelno prieš apmokestin...</td>\n",
       "    </tr>\n",
       "    <tr>\n",
       "      <th>14</th>\n",
       "      <td>grynasis_pelnas</td>\n",
       "      <td>decimal</td>\n",
       "      <td>FA ataskaitos rodiklio (grynojo pelno) reikšmė...</td>\n",
       "    </tr>\n",
       "    <tr>\n",
       "      <th>15</th>\n",
       "      <td>pardavimo_pajamos</td>\n",
       "      <td>decimal</td>\n",
       "      <td>FA ataskaitos rodiklio (pardavimo pajamų) reik...</td>\n",
       "    </tr>\n",
       "  </tbody>\n",
       "</table>\n",
       "</div>"
      ],
      "text/plain": [
       "                     Žymėjimas    Tipas  \\\n",
       "0                    obj_kodas  decimal   \n",
       "1                      obj_pav   string   \n",
       "2                   form_kodas  decimal   \n",
       "3                     form_pav   string   \n",
       "4                stat_statusas  decimal   \n",
       "5                     stat_pav   string   \n",
       "6                  template_id  decimal   \n",
       "7                template_name   string   \n",
       "8                  standard_id  decimal   \n",
       "9                standard_name   string   \n",
       "10             laikotarpis_nuo     date   \n",
       "11             laikotarpis_iki     date   \n",
       "12                    reg_date     date   \n",
       "13  pelnas_pries_apmokestinima  decimal   \n",
       "14             grynasis_pelnas  decimal   \n",
       "15           pardavimo_pajamos  decimal   \n",
       "\n",
       "                                   Atributo aprašymas  \n",
       "0   juridinio asmens kodas Juridinių asmenų registre   \n",
       "1   juridinio asmens pavadinimas (individualių įmo...  \n",
       "2                       juridinio asmens formos kodas  \n",
       "3                 juridinio asmens formos pavadinimas  \n",
       "4             juridinio asmens teisinio statuso kodas  \n",
       "5       juridinio asmens teisinio statuso pavadinimas  \n",
       "6                             ataskaitos rūšies kodas  \n",
       "7                       ataskaitos rūšies pavadinimas  \n",
       "8                         FA dokumentų rinkinio kodas  \n",
       "9                         FA dokumentų rinkinio tipas  \n",
       "10                      finansinių metų pradžios data  \n",
       "11                      finansinių metų pabaigos data  \n",
       "12                 FA dokumentų registravimo JAR data  \n",
       "13  FA ataskaitos rodiklio (pelno prieš apmokestin...  \n",
       "14  FA ataskaitos rodiklio (grynojo pelno) reikšmė...  \n",
       "15  FA ataskaitos rodiklio (pardavimo pajamų) reik...  "
      ]
     },
     "execution_count": 506,
     "metadata": {},
     "output_type": "execute_result"
    }
   ],
   "source": [
    "# pna dataframe attributes\n",
    "pna_att = pd.read_excel(\n",
    "    'https://www.registrucentras.lt/bylos/dokumentai/duomenys/aduomenys/JAR_FA_RODIKLIAI_PLNA_STR.xlsx', header=1)\n",
    "pna_att"
   ]
  },
  {
   "cell_type": "markdown",
   "id": "11729304",
   "metadata": {},
   "source": [
    "## b. Kiek reikšmių ir požymių turi kiekvienas iš dokumentų?"
   ]
  },
  {
   "cell_type": "code",
   "execution_count": 507,
   "id": "b52f3534",
   "metadata": {
    "ExecuteTime": {
     "end_time": "2022-12-08T19:39:21.807007Z",
     "start_time": "2022-12-08T19:39:21.792004Z"
    }
   },
   "outputs": [],
   "source": [
    "def get_features_and_values(df):\n",
    "    name = df.name\n",
    "    features = len(df.columns)\n",
    "    values = len(df)\n",
    "    return print(f'{name} dataset has:\\n{features} features\\n{values} values')"
   ]
  },
  {
   "cell_type": "code",
   "execution_count": 508,
   "id": "60dc2513",
   "metadata": {
    "ExecuteTime": {
     "end_time": "2022-12-08T19:39:21.823011Z",
     "start_time": "2022-12-08T19:39:21.809008Z"
    }
   },
   "outputs": [],
   "source": [
    "df_li = [ba2020, ba2021, pna2020, pna2021]"
   ]
  },
  {
   "cell_type": "code",
   "execution_count": 509,
   "id": "9580c460",
   "metadata": {
    "ExecuteTime": {
     "end_time": "2022-12-08T19:39:21.839014Z",
     "start_time": "2022-12-08T19:39:21.826012Z"
    }
   },
   "outputs": [
    {
     "name": "stdout",
     "output_type": "stream",
     "text": [
      "ba2020 dataset has:\n",
      "18 features\n",
      "106318 values\n",
      " \n",
      "ba2021 dataset has:\n",
      "18 features\n",
      "120850 values\n",
      " \n",
      "pna2020 dataset has:\n",
      "17 features\n",
      "96616 values\n",
      " \n",
      "pna2021 dataset has:\n",
      "17 features\n",
      "110227 values\n",
      " \n"
     ]
    }
   ],
   "source": [
    "for df in df_li:\n",
    "    get_features_and_values(df)\n",
    "    print(' ')"
   ]
  },
  {
   "cell_type": "markdown",
   "id": "a1b3c0dc",
   "metadata": {},
   "source": [
    "## c. Kokio duomenų tipo yra kiekvienas iš požymių? Ar duomenų tipai tarp atitinkamų lentelių iš 2020 ir 2021 metų sutampa?\n"
   ]
  },
  {
   "cell_type": "markdown",
   "id": "eda8a6cd",
   "metadata": {
    "ExecuteTime": {
     "end_time": "2022-12-05T17:07:02.980825Z",
     "start_time": "2022-12-05T17:07:02.956816Z"
    }
   },
   "source": [
    "Duomenų tipus ir požymius galime matyti Pirmos dalies 3.a punkte."
   ]
  },
  {
   "cell_type": "markdown",
   "id": "f3e0e271",
   "metadata": {
    "ExecuteTime": {
     "end_time": "2022-12-05T17:15:43.667086Z",
     "start_time": "2022-12-05T17:15:43.657082Z"
    }
   },
   "source": [
    "## d. Paaiškinkite kas yra object duomenų tipas ir kuo jis skiriasi nuo string duomenų tipo."
   ]
  },
  {
   "cell_type": "markdown",
   "id": "d76324b6",
   "metadata": {
    "ExecuteTime": {
     "end_time": "2022-12-05T17:18:30.859605Z",
     "start_time": "2022-12-05T17:18:30.848603Z"
    }
   },
   "source": [
    "Object duomenų tipas yra string arba string ir numeric verčių mišinys. pvz: data, kur turime skaičius ir brūkšnelius. Atpažinimo kodai kurie susideda iš raidžių ir skaičių. etc."
   ]
  },
  {
   "cell_type": "markdown",
   "id": "afff9e2b",
   "metadata": {
    "ExecuteTime": {
     "end_time": "2022-12-05T17:18:48.432565Z",
     "start_time": "2022-12-05T17:18:48.423563Z"
    }
   },
   "source": [
    "## e. Kuri lentelė turi daugiausiai nežinomų verčių? Kuris požymis išsiskiria nežinomų verčių skaičiumi?"
   ]
  },
  {
   "cell_type": "code",
   "execution_count": 510,
   "id": "7b8c6129",
   "metadata": {
    "ExecuteTime": {
     "end_time": "2022-12-08T19:39:21.854931Z",
     "start_time": "2022-12-08T19:39:21.840015Z"
    }
   },
   "outputs": [],
   "source": [
    "# Iterating through frames to find out about nan values.\n",
    "def Nan_info(df):\n",
    "    name = df.name\n",
    "    nanval = df.isna().sum().sum()\n",
    "    maxval = df.isna().sum().sort_values(ascending=False)[:1][0]\n",
    "    max_feat = df.isna().sum().sort_values(ascending=False)[:1].keys()[0]\n",
    "    \n",
    "    print(f'{name} dataset has {nanval} NaN values.\\nFeature {max_feat} has the most Nan values,\\nwith a total of {maxval}')"
   ]
  },
  {
   "cell_type": "code",
   "execution_count": 511,
   "id": "2d978f22",
   "metadata": {
    "ExecuteTime": {
     "end_time": "2022-12-08T19:39:23.373228Z",
     "start_time": "2022-12-08T19:39:21.856933Z"
    }
   },
   "outputs": [
    {
     "name": "stdout",
     "output_type": "stream",
     "text": [
      "ba2020 dataset has 17013 NaN values.\n",
      "Feature mok_sumos_ir_isipareigojimai has the most Nan values,\n",
      "with a total of 13644\n",
      " \n",
      "ba2021 dataset has 24187 NaN values.\n",
      "Feature mok_sumos_ir_isipareigojimai has the most Nan values,\n",
      "with a total of 19670\n",
      " \n",
      "pna2020 dataset has 47606 NaN values.\n",
      "Feature pelnas_pries_apmokestinima has the most Nan values,\n",
      "with a total of 30365\n",
      " \n",
      "pna2021 dataset has 55858 NaN values.\n",
      "Feature pelnas_pries_apmokestinima has the most Nan values,\n",
      "with a total of 34755\n",
      " \n"
     ]
    }
   ],
   "source": [
    "for df in df_li:\n",
    "    Nan_info(df)\n",
    "    print(' ')"
   ]
  },
  {
   "cell_type": "markdown",
   "id": "d311b1c7",
   "metadata": {
    "ExecuteTime": {
     "end_time": "2022-12-05T17:36:25.094410Z",
     "start_time": "2022-12-05T17:36:25.081407Z"
    }
   },
   "source": [
    "Daugiausiai nežinomų verčių turi Pelno/Nuostolių ataskaitos.Požymis pelnas_pries_apmokestinima turi 55858 vertes, tiek 2020 tiek 2021 metais."
   ]
  },
  {
   "cell_type": "markdown",
   "id": "82c021e3",
   "metadata": {},
   "source": [
    "## f. Ar kažkuri lentelė turi pasikartojančių duomenų?"
   ]
  },
  {
   "cell_type": "code",
   "execution_count": 512,
   "id": "851a23f1",
   "metadata": {
    "ExecuteTime": {
     "end_time": "2022-12-08T19:39:23.389232Z",
     "start_time": "2022-12-08T19:39:23.374228Z"
    }
   },
   "outputs": [],
   "source": [
    "# Checking for duplicates.\n",
    "def has_dupes(df):\n",
    "    name = df.name\n",
    "    dupes = df.duplicated().sum()\n",
    "\n",
    "    if dupes > 0:\n",
    "        print(f'{name} has duplicates. Amount {dupes}')\n",
    "    else:\n",
    "        print(f'{name} does not have duplicate values.')"
   ]
  },
  {
   "cell_type": "code",
   "execution_count": 513,
   "id": "566d34dd",
   "metadata": {
    "ExecuteTime": {
     "end_time": "2022-12-08T19:39:23.952125Z",
     "start_time": "2022-12-08T19:39:23.390231Z"
    }
   },
   "outputs": [
    {
     "name": "stdout",
     "output_type": "stream",
     "text": [
      "ba2020 does not have duplicate values.\n",
      "ba2021 does not have duplicate values.\n",
      "pna2020 does not have duplicate values.\n",
      "pna2021 does not have duplicate values.\n"
     ]
    }
   ],
   "source": [
    "for df in df_li:\n",
    "    has_dupes(df)"
   ]
  },
  {
   "cell_type": "markdown",
   "id": "2bbbe2f2",
   "metadata": {},
   "source": [
    "Nei viena lentelė neturi pasikartojančių duomenų."
   ]
  },
  {
   "cell_type": "markdown",
   "id": "48fb1d44",
   "metadata": {},
   "source": [
    "## i. Kokia stulpelių aibė vienareikšmiškai identifikuoja kiekvienos lentelės eilutę?"
   ]
  },
  {
   "cell_type": "code",
   "execution_count": 514,
   "id": "8a3740b5",
   "metadata": {
    "ExecuteTime": {
     "end_time": "2022-12-08T19:39:23.983836Z",
     "start_time": "2022-12-08T19:39:23.954126Z"
    },
    "scrolled": false
   },
   "outputs": [
    {
     "data": {
      "text/plain": [
       "0"
      ]
     },
     "execution_count": 514,
     "metadata": {},
     "output_type": "execute_result"
    }
   ],
   "source": [
    "# Uniquity\n",
    "ba2020[['obj_kodas','laikotarpis_nuo','laikotarpis_iki']].duplicated().sum()"
   ]
  },
  {
   "cell_type": "markdown",
   "id": "324e90a7",
   "metadata": {},
   "source": [
    "Objekto kodas ir laikotarpis nuo iki parodo unikalumą šiame duomenų rinkinyje."
   ]
  },
  {
   "cell_type": "code",
   "execution_count": 515,
   "id": "cf5a6d59",
   "metadata": {
    "ExecuteTime": {
     "end_time": "2022-12-08T19:39:23.999881Z",
     "start_time": "2022-12-08T19:39:23.984836Z"
    }
   },
   "outputs": [],
   "source": [
    "# Checking if dataframes are unique\n",
    "def obj_nuo_iki_unique(df):\n",
    "    name = df.name\n",
    "    check = df[['obj_kodas','laikotarpis_nuo','laikotarpis_iki']].duplicated().sum()\n",
    "    if check > 0:\n",
    "        print(f\"{name} dataset does not provide uniqueness through 'obj_kodas','laikotarpis_nuo','laikotarpis_iki'\")\n",
    "    else:\n",
    "        print(f\"{name} provides uniqueness through 'obj_kodas','laikotarpis_nuo','laikotarpis_iki'\")"
   ]
  },
  {
   "cell_type": "code",
   "execution_count": 516,
   "id": "6f1798dd",
   "metadata": {
    "ExecuteTime": {
     "end_time": "2022-12-08T19:39:24.093902Z",
     "start_time": "2022-12-08T19:39:24.000881Z"
    },
    "scrolled": false
   },
   "outputs": [
    {
     "name": "stdout",
     "output_type": "stream",
     "text": [
      "ba2020 provides uniqueness through 'obj_kodas','laikotarpis_nuo','laikotarpis_iki'\n",
      "ba2021 provides uniqueness through 'obj_kodas','laikotarpis_nuo','laikotarpis_iki'\n",
      "pna2020 provides uniqueness through 'obj_kodas','laikotarpis_nuo','laikotarpis_iki'\n",
      "pna2021 provides uniqueness through 'obj_kodas','laikotarpis_nuo','laikotarpis_iki'\n"
     ]
    }
   ],
   "source": [
    "for df in df_li:\n",
    "    obj_nuo_iki_unique(df)"
   ]
  },
  {
   "cell_type": "markdown",
   "id": "c735efe1",
   "metadata": {
    "ExecuteTime": {
     "end_time": "2022-12-05T18:04:22.589266Z",
     "start_time": "2022-12-05T18:04:22.581264Z"
    }
   },
   "source": [
    "Kaip matome datasete objekto kodas su laikotarpiu rėžiu nusako unikalumą duomenų šaltinyje."
   ]
  },
  {
   "cell_type": "markdown",
   "id": "053ba72c",
   "metadata": {},
   "source": [
    "# Antra dalis"
   ]
  },
  {
   "cell_type": "markdown",
   "id": "caf00417",
   "metadata": {
    "ExecuteTime": {
     "end_time": "2022-12-05T18:19:03.001994Z",
     "start_time": "2022-12-05T18:19:02.989998Z"
    }
   },
   "source": [
    "## 4. Keletas juridinių asmenų pavadinimų yra tiesiogiai susiję su “Thermo Fisher” bendrove. Raskite pilnus šių bendrovių pavadinimus."
   ]
  },
  {
   "cell_type": "code",
   "execution_count": 517,
   "id": "c7fc1a5f",
   "metadata": {
    "ExecuteTime": {
     "end_time": "2022-12-08T19:39:24.139913Z",
     "start_time": "2022-12-08T19:39:24.095902Z"
    }
   },
   "outputs": [
    {
     "data": {
      "text/plain": [
       "array(['UAB \"Thermo Fisher Scientific Vector Holdings\"',\n",
       "       'UAB \"Thermo Fisher Scientific Baltics\"',\n",
       "       'UAB \"Thermo Fisher Scientific Vector Senior Holdings I\"',\n",
       "       'UAB \"Thermo Fisher Scientific Vector Senior Holdings II\"'],\n",
       "      dtype=object)"
      ]
     },
     "execution_count": 517,
     "metadata": {},
     "output_type": "execute_result"
    }
   ],
   "source": [
    "# names that match Thermo Fisher\n",
    "ba2020[ba2020['obj_pav'].str.contains(\"Thermo Fisher\")]['obj_pav'].unique()"
   ]
  },
  {
   "cell_type": "markdown",
   "id": "885f4026",
   "metadata": {},
   "source": [
    "## 5. Apsimeskime, kad atributas “form_pav” neegzistuoja. Iš likusių laukelių gaukite visas UAB ir MB bendroves. Palyginkite rekonstrukcijos tikslumą su “form_pav” vertėmis - kiek procentų verčių pavyko atkurti skirtingose duomenyse?"
   ]
  },
  {
   "cell_type": "code",
   "execution_count": 518,
   "id": "1b42023c",
   "metadata": {
    "ExecuteTime": {
     "end_time": "2022-12-08T19:39:24.155917Z",
     "start_time": "2022-12-08T19:39:24.140913Z"
    }
   },
   "outputs": [],
   "source": [
    "def get_form_name(name: str):\n",
    "    name = name.lower()\n",
    "    if 'uždaroji akcinė' in name or 'uab' in name:\n",
    "        return 'Uždaroji akcinė bendrovė'\n",
    "    if 'mb' in name:\n",
    "        return 'Mažoji bendrija'\n",
    "    if 'všį' in name or 'viešoji' in name:\n",
    "        return 'Viešoji įstaiga'\n",
    "    if 'labdaros' in name or 'fondas' in name:\n",
    "        return 'Labdaros ir paramos fondas'\n",
    "    return 'Asociacija'"
   ]
  },
  {
   "cell_type": "code",
   "execution_count": 519,
   "id": "bfb023a9",
   "metadata": {
    "ExecuteTime": {
     "end_time": "2022-12-08T19:39:24.171921Z",
     "start_time": "2022-12-08T19:39:24.156917Z"
    },
    "scrolled": false
   },
   "outputs": [],
   "source": [
    "def get_reconstruct_percent(df):\n",
    "    name = df.name\n",
    "    length = len(df)  # Dataset length\n",
    "    names = df['obj_pav'].apply(get_form_name) # Creating a series with modified name\n",
    "    unmatched = len(df[~(df['form_pav'] == names)]) # Inverse search by name.\n",
    "    \n",
    "    percent = (unmatched/length)*100# Percent of matching error.\n",
    "    \n",
    "    print(f\"{name} has a {round(percent,2)} % matching error with {unmatched} rows unmatched.\")"
   ]
  },
  {
   "cell_type": "code",
   "execution_count": 520,
   "id": "8e59cdb2",
   "metadata": {
    "ExecuteTime": {
     "end_time": "2022-12-08T19:39:24.374760Z",
     "start_time": "2022-12-08T19:39:24.173921Z"
    }
   },
   "outputs": [
    {
     "name": "stdout",
     "output_type": "stream",
     "text": [
      "ba2020 has a 2.57 % matching error with 2735 rows unmatched.\n",
      "ba2021 has a 3.17 % matching error with 3832 rows unmatched.\n",
      "pna2020 has a 2.55 % matching error with 2468 rows unmatched.\n",
      "pna2021 has a 3.11 % matching error with 3432 rows unmatched.\n"
     ]
    }
   ],
   "source": [
    "for df in df_li:\n",
    "    get_reconstruct_percent(df)"
   ]
  },
  {
   "cell_type": "markdown",
   "id": "0aa70588",
   "metadata": {},
   "source": [
    "## 6. Apskaičiuoti vidutinias reikšmes “pelnas_pries_apmokestinima” ir “nuosavas_kapitalas” laukų kiekvienai juridinio asmens formai (Uždaroji akcinė bendrovė, Mažoji bendrija, etc.) už visą laikotarpį (2020 ir 2021 metai kartu)"
   ]
  },
  {
   "cell_type": "code",
   "execution_count": 521,
   "id": "e7b3e6fe",
   "metadata": {
    "ExecuteTime": {
     "end_time": "2022-12-08T19:39:24.592559Z",
     "start_time": "2022-12-08T19:39:24.376762Z"
    }
   },
   "outputs": [],
   "source": [
    "# Concatted dataset with 2020 and 2021 values.\n",
    "pna = pd.concat([pna2020, pna2021], axis=0)\n",
    "pna.reset_index(inplace=True)\n",
    "pna['pelnas_pries_apmokestinima'].fillna(0, inplace=True)\n",
    "pna.drop(columns='index', axis=0, inplace=True)\n",
    "pna['reg_date'] = pd.to_datetime(pna['reg_date'])\n",
    "ba = pd.concat([ba2020, ba2021], axis=0)\n",
    "ba.reset_index(inplace=True)\n",
    "ba.drop(columns='index', axis=0, inplace=True)\n",
    "ba['nuosavas_kapitalas'].fillna(0, inplace=True)\n",
    "ba['reg_date'] = pd.to_datetime(ba['reg_date'])"
   ]
  },
  {
   "cell_type": "code",
   "execution_count": 522,
   "id": "62539c7c",
   "metadata": {
    "ExecuteTime": {
     "end_time": "2022-12-08T19:39:24.858888Z",
     "start_time": "2022-12-08T19:39:24.593559Z"
    }
   },
   "outputs": [],
   "source": [
    "# Unified the two datasets. Did not check for data leaks and breaks. (Probably a lot)\n",
    "df = ba.merge(pna[['obj_kodas', 'laikotarpis_nuo', 'laikotarpis_iki', 'pelnas_pries_apmokestinima', 'grynasis_pelnas',\n",
    "              'pardavimo_pajamos']], how='inner', on=['obj_kodas', 'laikotarpis_nuo', 'laikotarpis_iki'], indicator=False)\n",
    "df.reset_index()\n",
    "df['reg_date'] = pd.to_datetime(df['reg_date'])"
   ]
  },
  {
   "cell_type": "code",
   "execution_count": 523,
   "id": "a04b9d04",
   "metadata": {
    "ExecuteTime": {
     "end_time": "2022-12-08T19:39:24.937080Z",
     "start_time": "2022-12-08T19:39:24.860886Z"
    }
   },
   "outputs": [
    {
     "data": {
      "text/html": [
       "<div>\n",
       "<style scoped>\n",
       "    .dataframe tbody tr th:only-of-type {\n",
       "        vertical-align: middle;\n",
       "    }\n",
       "\n",
       "    .dataframe tbody tr th {\n",
       "        vertical-align: top;\n",
       "    }\n",
       "\n",
       "    .dataframe thead th {\n",
       "        text-align: right;\n",
       "    }\n",
       "</style>\n",
       "<table border=\"1\" class=\"dataframe\">\n",
       "  <thead>\n",
       "    <tr style=\"text-align: right;\">\n",
       "      <th></th>\n",
       "      <th>pelnas_pries_apmokestinima</th>\n",
       "    </tr>\n",
       "    <tr>\n",
       "      <th>form_pav</th>\n",
       "      <th></th>\n",
       "    </tr>\n",
       "  </thead>\n",
       "  <tbody>\n",
       "    <tr>\n",
       "      <th>Akcinė bendrovė</th>\n",
       "      <td>2.720597e+06</td>\n",
       "    </tr>\n",
       "    <tr>\n",
       "      <th>Asociacija</th>\n",
       "      <td>-1.614179e+01</td>\n",
       "    </tr>\n",
       "    <tr>\n",
       "      <th>Biudžetinė įstaiga</th>\n",
       "      <td>8.121000e+03</td>\n",
       "    </tr>\n",
       "    <tr>\n",
       "      <th>Individuali įmonė</th>\n",
       "      <td>1.286950e+04</td>\n",
       "    </tr>\n",
       "    <tr>\n",
       "      <th>Komanditinė ūkinė bendrija</th>\n",
       "      <td>2.794042e+05</td>\n",
       "    </tr>\n",
       "    <tr>\n",
       "      <th>Kooperatinė bendrovė</th>\n",
       "      <td>3.853385e+04</td>\n",
       "    </tr>\n",
       "    <tr>\n",
       "      <th>Labdaros ir paramos fondas</th>\n",
       "      <td>4.538158e+01</td>\n",
       "    </tr>\n",
       "    <tr>\n",
       "      <th>Lietuvos prekyb.,pramon. rūmų asociacija</th>\n",
       "      <td>0.000000e+00</td>\n",
       "    </tr>\n",
       "    <tr>\n",
       "      <th>Mažoji bendrija</th>\n",
       "      <td>6.624475e+03</td>\n",
       "    </tr>\n",
       "    <tr>\n",
       "      <th>Savivaldybės įmonė</th>\n",
       "      <td>3.978084e+04</td>\n",
       "    </tr>\n",
       "    <tr>\n",
       "      <th>Tikroji ūkinė bendrija</th>\n",
       "      <td>-9.425364e+03</td>\n",
       "    </tr>\n",
       "    <tr>\n",
       "      <th>Uždaroji akcinė bendrovė</th>\n",
       "      <td>7.312552e+04</td>\n",
       "    </tr>\n",
       "    <tr>\n",
       "      <th>Užsienio juridinio asmens filialas</th>\n",
       "      <td>-3.411020e+06</td>\n",
       "    </tr>\n",
       "    <tr>\n",
       "      <th>Valstybės įmonė</th>\n",
       "      <td>3.901085e+06</td>\n",
       "    </tr>\n",
       "    <tr>\n",
       "      <th>Viešoji įstaiga</th>\n",
       "      <td>1.190836e+02</td>\n",
       "    </tr>\n",
       "    <tr>\n",
       "      <th>Žemės ūkio bendrovė</th>\n",
       "      <td>8.689255e+04</td>\n",
       "    </tr>\n",
       "  </tbody>\n",
       "</table>\n",
       "</div>"
      ],
      "text/plain": [
       "                                          pelnas_pries_apmokestinima\n",
       "form_pav                                                            \n",
       "Akcinė bendrovė                                         2.720597e+06\n",
       "Asociacija                                             -1.614179e+01\n",
       "Biudžetinė įstaiga                                      8.121000e+03\n",
       "Individuali įmonė                                       1.286950e+04\n",
       "Komanditinė ūkinė bendrija                              2.794042e+05\n",
       "Kooperatinė bendrovė                                    3.853385e+04\n",
       "Labdaros ir paramos fondas                              4.538158e+01\n",
       "Lietuvos prekyb.,pramon. rūmų asociacija                0.000000e+00\n",
       "Mažoji bendrija                                         6.624475e+03\n",
       "Savivaldybės įmonė                                      3.978084e+04\n",
       "Tikroji ūkinė bendrija                                 -9.425364e+03\n",
       "Uždaroji akcinė bendrovė                                7.312552e+04\n",
       "Užsienio juridinio asmens filialas                     -3.411020e+06\n",
       "Valstybės įmonė                                         3.901085e+06\n",
       "Viešoji įstaiga                                         1.190836e+02\n",
       "Žemės ūkio bendrovė                                     8.689255e+04"
      ]
     },
     "execution_count": 523,
     "metadata": {},
     "output_type": "execute_result"
    }
   ],
   "source": [
    "df.groupby('form_pav')[['pelnas_pries_apmokestinima']].mean()"
   ]
  },
  {
   "cell_type": "code",
   "execution_count": 524,
   "id": "08af3fc7",
   "metadata": {
    "ExecuteTime": {
     "end_time": "2022-12-08T19:39:24.967086Z",
     "start_time": "2022-12-08T19:39:24.939080Z"
    }
   },
   "outputs": [
    {
     "data": {
      "text/html": [
       "<div>\n",
       "<style scoped>\n",
       "    .dataframe tbody tr th:only-of-type {\n",
       "        vertical-align: middle;\n",
       "    }\n",
       "\n",
       "    .dataframe tbody tr th {\n",
       "        vertical-align: top;\n",
       "    }\n",
       "\n",
       "    .dataframe thead th {\n",
       "        text-align: right;\n",
       "    }\n",
       "</style>\n",
       "<table border=\"1\" class=\"dataframe\">\n",
       "  <thead>\n",
       "    <tr style=\"text-align: right;\">\n",
       "      <th></th>\n",
       "      <th>nuosavas_kapitalas</th>\n",
       "    </tr>\n",
       "    <tr>\n",
       "      <th>form_pav</th>\n",
       "      <th></th>\n",
       "    </tr>\n",
       "  </thead>\n",
       "  <tbody>\n",
       "    <tr>\n",
       "      <th>Akcinė bendrovė</th>\n",
       "      <td>4.131184e+07</td>\n",
       "    </tr>\n",
       "    <tr>\n",
       "      <th>Asociacija</th>\n",
       "      <td>1.125605e+05</td>\n",
       "    </tr>\n",
       "    <tr>\n",
       "      <th>Biudžetinė įstaiga</th>\n",
       "      <td>1.410740e+05</td>\n",
       "    </tr>\n",
       "    <tr>\n",
       "      <th>Individuali įmonė</th>\n",
       "      <td>1.213401e+05</td>\n",
       "    </tr>\n",
       "    <tr>\n",
       "      <th>Komanditinė ūkinė bendrija</th>\n",
       "      <td>3.185719e+06</td>\n",
       "    </tr>\n",
       "    <tr>\n",
       "      <th>Kooperatinė bendrovė</th>\n",
       "      <td>6.763677e+05</td>\n",
       "    </tr>\n",
       "    <tr>\n",
       "      <th>Labdaros ir paramos fondas</th>\n",
       "      <td>1.101702e+04</td>\n",
       "    </tr>\n",
       "    <tr>\n",
       "      <th>Lietuvos prekyb.,pramon. rūmų asociacija</th>\n",
       "      <td>6.449100e+04</td>\n",
       "    </tr>\n",
       "    <tr>\n",
       "      <th>Mažoji bendrija</th>\n",
       "      <td>1.532266e+04</td>\n",
       "    </tr>\n",
       "    <tr>\n",
       "      <th>Savivaldybės įmonė</th>\n",
       "      <td>3.431537e+06</td>\n",
       "    </tr>\n",
       "    <tr>\n",
       "      <th>Tikroji ūkinė bendrija</th>\n",
       "      <td>2.528260e+05</td>\n",
       "    </tr>\n",
       "    <tr>\n",
       "      <th>Uždaroji akcinė bendrovė</th>\n",
       "      <td>6.251961e+05</td>\n",
       "    </tr>\n",
       "    <tr>\n",
       "      <th>Užsienio juridinio asmens filialas</th>\n",
       "      <td>2.994598e+06</td>\n",
       "    </tr>\n",
       "    <tr>\n",
       "      <th>Valstybės įmonė</th>\n",
       "      <td>1.748695e+08</td>\n",
       "    </tr>\n",
       "    <tr>\n",
       "      <th>Viešoji įstaiga</th>\n",
       "      <td>3.742151e+04</td>\n",
       "    </tr>\n",
       "    <tr>\n",
       "      <th>Žemės ūkio bendrovė</th>\n",
       "      <td>1.607303e+06</td>\n",
       "    </tr>\n",
       "  </tbody>\n",
       "</table>\n",
       "</div>"
      ],
      "text/plain": [
       "                                          nuosavas_kapitalas\n",
       "form_pav                                                    \n",
       "Akcinė bendrovė                                 4.131184e+07\n",
       "Asociacija                                      1.125605e+05\n",
       "Biudžetinė įstaiga                              1.410740e+05\n",
       "Individuali įmonė                               1.213401e+05\n",
       "Komanditinė ūkinė bendrija                      3.185719e+06\n",
       "Kooperatinė bendrovė                            6.763677e+05\n",
       "Labdaros ir paramos fondas                      1.101702e+04\n",
       "Lietuvos prekyb.,pramon. rūmų asociacija        6.449100e+04\n",
       "Mažoji bendrija                                 1.532266e+04\n",
       "Savivaldybės įmonė                              3.431537e+06\n",
       "Tikroji ūkinė bendrija                          2.528260e+05\n",
       "Uždaroji akcinė bendrovė                        6.251961e+05\n",
       "Užsienio juridinio asmens filialas              2.994598e+06\n",
       "Valstybės įmonė                                 1.748695e+08\n",
       "Viešoji įstaiga                                 3.742151e+04\n",
       "Žemės ūkio bendrovė                             1.607303e+06"
      ]
     },
     "execution_count": 524,
     "metadata": {},
     "output_type": "execute_result"
    }
   ],
   "source": [
    "df.groupby('form_pav')[['nuosavas_kapitalas']].mean()"
   ]
  },
  {
   "cell_type": "markdown",
   "id": "687d9705",
   "metadata": {},
   "source": [
    "## 7. Atrinkti unikalias UAB ir MB įmones, kurių “nuosavas_kapitalas” buvo didesnis negu visų UAB ir MB įmonių nuosavo kapitalo mediana už visą laitotarpį (2020 ir 2021 metai kartu)."
   ]
  },
  {
   "cell_type": "code",
   "execution_count": 525,
   "id": "b2770662",
   "metadata": {
    "ExecuteTime": {
     "end_time": "2022-12-08T19:39:25.060108Z",
     "start_time": "2022-12-08T19:39:24.969087Z"
    }
   },
   "outputs": [],
   "source": [
    "#Getting median values for mb and uab firm types.\n",
    "mb_median = df[df['form_pav'] == 'Mažoji bendrija'].groupby(\n",
    "    'form_pav')['nuosavas_kapitalas'].median()[0]\n",
    "uab_median = df[df['form_pav'] == 'Uždaroji akcinė bendrovė'].groupby(\n",
    "    'form_pav')['nuosavas_kapitalas'].median()[0]"
   ]
  },
  {
   "cell_type": "code",
   "execution_count": 526,
   "id": "32a5d1f5",
   "metadata": {
    "ExecuteTime": {
     "end_time": "2022-12-08T19:39:25.186016Z",
     "start_time": "2022-12-08T19:39:25.062108Z"
    }
   },
   "outputs": [
    {
     "name": "stderr",
     "output_type": "stream",
     "text": [
      "C:\\Users\\clawl\\AppData\\Local\\Temp\\ipykernel_12720\\2650558691.py:1: UserWarning: Boolean Series key will be reindexed to match DataFrame index.\n",
      "  temp7 = df[(df['form_pav'] == 'Mažoji bendrija') | (\n"
     ]
    }
   ],
   "source": [
    "temp7 = df[(df['form_pav'] == 'Mažoji bendrija') | (\n",
    "    ba['form_pav'] == 'Uždaroji akcinė bendrovė')]"
   ]
  },
  {
   "cell_type": "code",
   "execution_count": 527,
   "id": "ba59f6f8",
   "metadata": {
    "ExecuteTime": {
     "end_time": "2022-12-08T19:39:25.295040Z",
     "start_time": "2022-12-08T19:39:25.193016Z"
    },
    "scrolled": true
   },
   "outputs": [
    {
     "data": {
      "text/html": [
       "<div>\n",
       "<style scoped>\n",
       "    .dataframe tbody tr th:only-of-type {\n",
       "        vertical-align: middle;\n",
       "    }\n",
       "\n",
       "    .dataframe tbody tr th {\n",
       "        vertical-align: top;\n",
       "    }\n",
       "\n",
       "    .dataframe thead th {\n",
       "        text-align: right;\n",
       "    }\n",
       "</style>\n",
       "<table border=\"1\" class=\"dataframe\">\n",
       "  <thead>\n",
       "    <tr style=\"text-align: right;\">\n",
       "      <th></th>\n",
       "      <th>obj_kodas</th>\n",
       "      <th>obj_pav</th>\n",
       "      <th>form_kodas</th>\n",
       "      <th>form_pav</th>\n",
       "      <th>stat_statusas</th>\n",
       "      <th>stat_pav</th>\n",
       "      <th>template_id</th>\n",
       "      <th>template_name</th>\n",
       "      <th>standard_id</th>\n",
       "      <th>standard_name</th>\n",
       "      <th>...</th>\n",
       "      <th>laikotarpis_iki</th>\n",
       "      <th>reg_date</th>\n",
       "      <th>nuosavas_kapitalas</th>\n",
       "      <th>mok_sumos_ir_isipareigojimai</th>\n",
       "      <th>ilgalaikis_turtas</th>\n",
       "      <th>trumpalaikis_turtas</th>\n",
       "      <th>formavimo_data</th>\n",
       "      <th>pelnas_pries_apmokestinima</th>\n",
       "      <th>grynasis_pelnas</th>\n",
       "      <th>pardavimo_pajamos</th>\n",
       "    </tr>\n",
       "  </thead>\n",
       "  <tbody>\n",
       "    <tr>\n",
       "      <th>5</th>\n",
       "      <td>304259900</td>\n",
       "      <td>UAB \"Algimta\"</td>\n",
       "      <td>310</td>\n",
       "      <td>Uždaroji akcinė bendrovė</td>\n",
       "      <td>10</td>\n",
       "      <td>Išregistruotas</td>\n",
       "      <td>FS0129</td>\n",
       "      <td>Mažų ir labai mažų įmonių, netaikančių išimčių...</td>\n",
       "      <td>BST124</td>\n",
       "      <td>BALANSAS (Sutrumpintas)</td>\n",
       "      <td>...</td>\n",
       "      <td>2019-12-31</td>\n",
       "      <td>2020-05-29</td>\n",
       "      <td>696830.0</td>\n",
       "      <td>65998.0</td>\n",
       "      <td>190000.0</td>\n",
       "      <td>572599.0</td>\n",
       "      <td>2022-12-01</td>\n",
       "      <td>408758.0</td>\n",
       "      <td>347444.0</td>\n",
       "      <td>714534.0</td>\n",
       "    </tr>\n",
       "    <tr>\n",
       "      <th>6</th>\n",
       "      <td>304085969</td>\n",
       "      <td>MB \"Mondri darbai\"</td>\n",
       "      <td>960</td>\n",
       "      <td>Mažoji bendrija</td>\n",
       "      <td>0</td>\n",
       "      <td>Teisinis stat neįregistruotas</td>\n",
       "      <td>FS0322</td>\n",
       "      <td>Mažųjų bendrijų finansinių ataskaitų rinkinys</td>\n",
       "      <td>BST217</td>\n",
       "      <td>BALANSAS (Neribotos civilinės atsakomybės juri...</td>\n",
       "      <td>...</td>\n",
       "      <td>2019-12-31</td>\n",
       "      <td>2020-03-31</td>\n",
       "      <td>69338.0</td>\n",
       "      <td>NaN</td>\n",
       "      <td>21415.0</td>\n",
       "      <td>108796.0</td>\n",
       "      <td>2022-12-01</td>\n",
       "      <td>79324.0</td>\n",
       "      <td>69137.0</td>\n",
       "      <td>482027.0</td>\n",
       "    </tr>\n",
       "    <tr>\n",
       "      <th>11</th>\n",
       "      <td>300621953</td>\n",
       "      <td>Uždaroji akcinė bendrovė \"Gamafondas\"</td>\n",
       "      <td>310</td>\n",
       "      <td>Uždaroji akcinė bendrovė</td>\n",
       "      <td>0</td>\n",
       "      <td>Teisinis stat neįregistruotas</td>\n",
       "      <td>FS0129</td>\n",
       "      <td>Mažų ir labai mažų įmonių, netaikančių išimčių...</td>\n",
       "      <td>BST123</td>\n",
       "      <td>BALANSAS</td>\n",
       "      <td>...</td>\n",
       "      <td>2019-12-31</td>\n",
       "      <td>2020-05-26</td>\n",
       "      <td>10068479.0</td>\n",
       "      <td>6586089.0</td>\n",
       "      <td>16136731.0</td>\n",
       "      <td>516088.0</td>\n",
       "      <td>2022-12-01</td>\n",
       "      <td>0.0</td>\n",
       "      <td>0.0</td>\n",
       "      <td>NaN</td>\n",
       "    </tr>\n",
       "    <tr>\n",
       "      <th>12</th>\n",
       "      <td>304908897</td>\n",
       "      <td>UAB \"Ineuras\"</td>\n",
       "      <td>310</td>\n",
       "      <td>Uždaroji akcinė bendrovė</td>\n",
       "      <td>0</td>\n",
       "      <td>Teisinis stat neįregistruotas</td>\n",
       "      <td>FS0129</td>\n",
       "      <td>Mažų ir labai mažų įmonių, netaikančių išimčių...</td>\n",
       "      <td>BST124</td>\n",
       "      <td>BALANSAS (Sutrumpintas)</td>\n",
       "      <td>...</td>\n",
       "      <td>2019-12-31</td>\n",
       "      <td>2020-08-05</td>\n",
       "      <td>79100.0</td>\n",
       "      <td>45937.0</td>\n",
       "      <td>0.0</td>\n",
       "      <td>123736.0</td>\n",
       "      <td>2022-12-01</td>\n",
       "      <td>80662.0</td>\n",
       "      <td>76622.0</td>\n",
       "      <td>200680.0</td>\n",
       "    </tr>\n",
       "    <tr>\n",
       "      <th>13</th>\n",
       "      <td>300136117</td>\n",
       "      <td>UAB \"Kauno tekstilė\"</td>\n",
       "      <td>310</td>\n",
       "      <td>Uždaroji akcinė bendrovė</td>\n",
       "      <td>0</td>\n",
       "      <td>Teisinis stat neįregistruotas</td>\n",
       "      <td>FS0129</td>\n",
       "      <td>Mažų ir labai mažų įmonių, netaikančių išimčių...</td>\n",
       "      <td>BST124</td>\n",
       "      <td>BALANSAS (Sutrumpintas)</td>\n",
       "      <td>...</td>\n",
       "      <td>2019-12-31</td>\n",
       "      <td>2020-04-20</td>\n",
       "      <td>40374.0</td>\n",
       "      <td>61060.0</td>\n",
       "      <td>0.0</td>\n",
       "      <td>101434.0</td>\n",
       "      <td>2022-12-01</td>\n",
       "      <td>7863.0</td>\n",
       "      <td>7690.0</td>\n",
       "      <td>352989.0</td>\n",
       "    </tr>\n",
       "    <tr>\n",
       "      <th>...</th>\n",
       "      <td>...</td>\n",
       "      <td>...</td>\n",
       "      <td>...</td>\n",
       "      <td>...</td>\n",
       "      <td>...</td>\n",
       "      <td>...</td>\n",
       "      <td>...</td>\n",
       "      <td>...</td>\n",
       "      <td>...</td>\n",
       "      <td>...</td>\n",
       "      <td>...</td>\n",
       "      <td>...</td>\n",
       "      <td>...</td>\n",
       "      <td>...</td>\n",
       "      <td>...</td>\n",
       "      <td>...</td>\n",
       "      <td>...</td>\n",
       "      <td>...</td>\n",
       "      <td>...</td>\n",
       "      <td>...</td>\n",
       "      <td>...</td>\n",
       "    </tr>\n",
       "    <tr>\n",
       "      <th>206823</th>\n",
       "      <td>305429608</td>\n",
       "      <td>MB Eldio</td>\n",
       "      <td>960</td>\n",
       "      <td>Mažoji bendrija</td>\n",
       "      <td>0</td>\n",
       "      <td>Teisinis stat neįregistruotas</td>\n",
       "      <td>FS0322</td>\n",
       "      <td>Mažųjų bendrijų finansinių ataskaitų rinkinys</td>\n",
       "      <td>BST217</td>\n",
       "      <td>BALANSAS (Neribotos civilinės atsakomybės juri...</td>\n",
       "      <td>...</td>\n",
       "      <td>2020-12-31</td>\n",
       "      <td>2021-06-13</td>\n",
       "      <td>49001.0</td>\n",
       "      <td>NaN</td>\n",
       "      <td>723.0</td>\n",
       "      <td>79249.0</td>\n",
       "      <td>2022-12-01</td>\n",
       "      <td>48951.0</td>\n",
       "      <td>48951.0</td>\n",
       "      <td>168881.0</td>\n",
       "    </tr>\n",
       "    <tr>\n",
       "      <th>206826</th>\n",
       "      <td>302304325</td>\n",
       "      <td>UAB \"Pixelmator Team\"</td>\n",
       "      <td>310</td>\n",
       "      <td>Uždaroji akcinė bendrovė</td>\n",
       "      <td>0</td>\n",
       "      <td>Teisinis stat neįregistruotas</td>\n",
       "      <td>FS0129</td>\n",
       "      <td>Mažų ir labai mažų įmonių, netaikančių išimčių...</td>\n",
       "      <td>BST124</td>\n",
       "      <td>BALANSAS (Sutrumpintas)</td>\n",
       "      <td>...</td>\n",
       "      <td>2020-12-31</td>\n",
       "      <td>2021-07-15</td>\n",
       "      <td>1949626.0</td>\n",
       "      <td>288715.0</td>\n",
       "      <td>391651.0</td>\n",
       "      <td>1846690.0</td>\n",
       "      <td>2022-12-01</td>\n",
       "      <td>379898.0</td>\n",
       "      <td>379898.0</td>\n",
       "      <td>1862402.0</td>\n",
       "    </tr>\n",
       "    <tr>\n",
       "      <th>206829</th>\n",
       "      <td>300584266</td>\n",
       "      <td>UAB \"TPI Vilnius\"</td>\n",
       "      <td>310</td>\n",
       "      <td>Uždaroji akcinė bendrovė</td>\n",
       "      <td>0</td>\n",
       "      <td>Teisinis stat neįregistruotas</td>\n",
       "      <td>FS0129</td>\n",
       "      <td>Mažų ir labai mažų įmonių, netaikančių išimčių...</td>\n",
       "      <td>BST124</td>\n",
       "      <td>BALANSAS (Sutrumpintas)</td>\n",
       "      <td>...</td>\n",
       "      <td>2020-12-31</td>\n",
       "      <td>2021-05-27</td>\n",
       "      <td>130623.0</td>\n",
       "      <td>69485.0</td>\n",
       "      <td>11281.0</td>\n",
       "      <td>188135.0</td>\n",
       "      <td>2022-12-01</td>\n",
       "      <td>-2509.0</td>\n",
       "      <td>-2509.0</td>\n",
       "      <td>319859.0</td>\n",
       "    </tr>\n",
       "    <tr>\n",
       "      <th>206833</th>\n",
       "      <td>305281369</td>\n",
       "      <td>UAB \"Modris\"</td>\n",
       "      <td>310</td>\n",
       "      <td>Uždaroji akcinė bendrovė</td>\n",
       "      <td>0</td>\n",
       "      <td>Teisinis stat neįregistruotas</td>\n",
       "      <td>FS0129</td>\n",
       "      <td>Mažų ir labai mažų įmonių, netaikančių išimčių...</td>\n",
       "      <td>BST124</td>\n",
       "      <td>BALANSAS (Sutrumpintas)</td>\n",
       "      <td>...</td>\n",
       "      <td>2020-12-31</td>\n",
       "      <td>2021-05-26</td>\n",
       "      <td>23311.0</td>\n",
       "      <td>139309.0</td>\n",
       "      <td>162600.0</td>\n",
       "      <td>20.0</td>\n",
       "      <td>2022-12-01</td>\n",
       "      <td>5181.0</td>\n",
       "      <td>4401.0</td>\n",
       "      <td>49536.0</td>\n",
       "    </tr>\n",
       "    <tr>\n",
       "      <th>206838</th>\n",
       "      <td>302423888</td>\n",
       "      <td>UAB \"People Link\"</td>\n",
       "      <td>310</td>\n",
       "      <td>Uždaroji akcinė bendrovė</td>\n",
       "      <td>0</td>\n",
       "      <td>Teisinis stat neįregistruotas</td>\n",
       "      <td>FS0129</td>\n",
       "      <td>Mažų ir labai mažų įmonių, netaikančių išimčių...</td>\n",
       "      <td>BST124</td>\n",
       "      <td>BALANSAS (Sutrumpintas)</td>\n",
       "      <td>...</td>\n",
       "      <td>2020-12-31</td>\n",
       "      <td>2021-06-01</td>\n",
       "      <td>350452.0</td>\n",
       "      <td>91145.0</td>\n",
       "      <td>58520.0</td>\n",
       "      <td>370571.0</td>\n",
       "      <td>2022-12-01</td>\n",
       "      <td>235414.0</td>\n",
       "      <td>200480.0</td>\n",
       "      <td>1046179.0</td>\n",
       "    </tr>\n",
       "  </tbody>\n",
       "</table>\n",
       "<p>71629 rows × 21 columns</p>\n",
       "</div>"
      ],
      "text/plain": [
       "        obj_kodas                                obj_pav  form_kodas  \\\n",
       "5       304259900                          UAB \"Algimta\"         310   \n",
       "6       304085969                     MB \"Mondri darbai\"         960   \n",
       "11      300621953  Uždaroji akcinė bendrovė \"Gamafondas\"         310   \n",
       "12      304908897                          UAB \"Ineuras\"         310   \n",
       "13      300136117                   UAB \"Kauno tekstilė\"         310   \n",
       "...           ...                                    ...         ...   \n",
       "206823  305429608                               MB Eldio         960   \n",
       "206826  302304325                  UAB \"Pixelmator Team\"         310   \n",
       "206829  300584266                      UAB \"TPI Vilnius\"         310   \n",
       "206833  305281369                           UAB \"Modris\"         310   \n",
       "206838  302423888                      UAB \"People Link\"         310   \n",
       "\n",
       "                        form_pav  stat_statusas  \\\n",
       "5       Uždaroji akcinė bendrovė             10   \n",
       "6                Mažoji bendrija              0   \n",
       "11      Uždaroji akcinė bendrovė              0   \n",
       "12      Uždaroji akcinė bendrovė              0   \n",
       "13      Uždaroji akcinė bendrovė              0   \n",
       "...                          ...            ...   \n",
       "206823           Mažoji bendrija              0   \n",
       "206826  Uždaroji akcinė bendrovė              0   \n",
       "206829  Uždaroji akcinė bendrovė              0   \n",
       "206833  Uždaroji akcinė bendrovė              0   \n",
       "206838  Uždaroji akcinė bendrovė              0   \n",
       "\n",
       "                             stat_pav template_id  \\\n",
       "5                      Išregistruotas      FS0129   \n",
       "6       Teisinis stat neįregistruotas      FS0322   \n",
       "11      Teisinis stat neįregistruotas      FS0129   \n",
       "12      Teisinis stat neįregistruotas      FS0129   \n",
       "13      Teisinis stat neįregistruotas      FS0129   \n",
       "...                               ...         ...   \n",
       "206823  Teisinis stat neįregistruotas      FS0322   \n",
       "206826  Teisinis stat neįregistruotas      FS0129   \n",
       "206829  Teisinis stat neįregistruotas      FS0129   \n",
       "206833  Teisinis stat neįregistruotas      FS0129   \n",
       "206838  Teisinis stat neįregistruotas      FS0129   \n",
       "\n",
       "                                            template_name standard_id  \\\n",
       "5       Mažų ir labai mažų įmonių, netaikančių išimčių...      BST124   \n",
       "6           Mažųjų bendrijų finansinių ataskaitų rinkinys      BST217   \n",
       "11      Mažų ir labai mažų įmonių, netaikančių išimčių...      BST123   \n",
       "12      Mažų ir labai mažų įmonių, netaikančių išimčių...      BST124   \n",
       "13      Mažų ir labai mažų įmonių, netaikančių išimčių...      BST124   \n",
       "...                                                   ...         ...   \n",
       "206823      Mažųjų bendrijų finansinių ataskaitų rinkinys      BST217   \n",
       "206826  Mažų ir labai mažų įmonių, netaikančių išimčių...      BST124   \n",
       "206829  Mažų ir labai mažų įmonių, netaikančių išimčių...      BST124   \n",
       "206833  Mažų ir labai mažų įmonių, netaikančių išimčių...      BST124   \n",
       "206838  Mažų ir labai mažų įmonių, netaikančių išimčių...      BST124   \n",
       "\n",
       "                                            standard_name  ...  \\\n",
       "5                                 BALANSAS (Sutrumpintas)  ...   \n",
       "6       BALANSAS (Neribotos civilinės atsakomybės juri...  ...   \n",
       "11                                               BALANSAS  ...   \n",
       "12                                BALANSAS (Sutrumpintas)  ...   \n",
       "13                                BALANSAS (Sutrumpintas)  ...   \n",
       "...                                                   ...  ...   \n",
       "206823  BALANSAS (Neribotos civilinės atsakomybės juri...  ...   \n",
       "206826                            BALANSAS (Sutrumpintas)  ...   \n",
       "206829                            BALANSAS (Sutrumpintas)  ...   \n",
       "206833                            BALANSAS (Sutrumpintas)  ...   \n",
       "206838                            BALANSAS (Sutrumpintas)  ...   \n",
       "\n",
       "       laikotarpis_iki   reg_date nuosavas_kapitalas  \\\n",
       "5           2019-12-31 2020-05-29           696830.0   \n",
       "6           2019-12-31 2020-03-31            69338.0   \n",
       "11          2019-12-31 2020-05-26         10068479.0   \n",
       "12          2019-12-31 2020-08-05            79100.0   \n",
       "13          2019-12-31 2020-04-20            40374.0   \n",
       "...                ...        ...                ...   \n",
       "206823      2020-12-31 2021-06-13            49001.0   \n",
       "206826      2020-12-31 2021-07-15          1949626.0   \n",
       "206829      2020-12-31 2021-05-27           130623.0   \n",
       "206833      2020-12-31 2021-05-26            23311.0   \n",
       "206838      2020-12-31 2021-06-01           350452.0   \n",
       "\n",
       "        mok_sumos_ir_isipareigojimai  ilgalaikis_turtas  trumpalaikis_turtas  \\\n",
       "5                            65998.0           190000.0             572599.0   \n",
       "6                                NaN            21415.0             108796.0   \n",
       "11                         6586089.0         16136731.0             516088.0   \n",
       "12                           45937.0                0.0             123736.0   \n",
       "13                           61060.0                0.0             101434.0   \n",
       "...                              ...                ...                  ...   \n",
       "206823                           NaN              723.0              79249.0   \n",
       "206826                      288715.0           391651.0            1846690.0   \n",
       "206829                       69485.0            11281.0             188135.0   \n",
       "206833                      139309.0           162600.0                 20.0   \n",
       "206838                       91145.0            58520.0             370571.0   \n",
       "\n",
       "        formavimo_data pelnas_pries_apmokestinima  grynasis_pelnas  \\\n",
       "5           2022-12-01                   408758.0         347444.0   \n",
       "6           2022-12-01                    79324.0          69137.0   \n",
       "11          2022-12-01                        0.0              0.0   \n",
       "12          2022-12-01                    80662.0          76622.0   \n",
       "13          2022-12-01                     7863.0           7690.0   \n",
       "...                ...                        ...              ...   \n",
       "206823      2022-12-01                    48951.0          48951.0   \n",
       "206826      2022-12-01                   379898.0         379898.0   \n",
       "206829      2022-12-01                    -2509.0          -2509.0   \n",
       "206833      2022-12-01                     5181.0           4401.0   \n",
       "206838      2022-12-01                   235414.0         200480.0   \n",
       "\n",
       "        pardavimo_pajamos  \n",
       "5                714534.0  \n",
       "6                482027.0  \n",
       "11                    NaN  \n",
       "12               200680.0  \n",
       "13               352989.0  \n",
       "...                   ...  \n",
       "206823           168881.0  \n",
       "206826          1862402.0  \n",
       "206829           319859.0  \n",
       "206833            49536.0  \n",
       "206838          1046179.0  \n",
       "\n",
       "[71629 rows x 21 columns]"
      ]
     },
     "execution_count": 527,
     "metadata": {},
     "output_type": "execute_result"
    }
   ],
   "source": [
    "temp7[(temp7['form_pav'] == 'Mažoji bendrija') & (temp7['nuosavas_kapitalas'] > mb_median) | (\n",
    "    temp7['form_pav'] == 'Uždaroji akcinė bendrovė') & (temp7['nuosavas_kapitalas'] > uab_median)]"
   ]
  },
  {
   "cell_type": "markdown",
   "id": "918c6013",
   "metadata": {},
   "source": [
    "## 8. Įvertinkite kurios įmonės išsiskiria ypač didele “nuosavas_kapitalas” verte (patenka į 99th percentilę). Patikrinkite įmonių patenkančių į TOP-10 vertes rekvizitai.vz.lt svetainėje. Ranka įrašomi duomenys sukuria klaidos galimybę. Ar yra bendrovė, kurios “nuosavas_kapitalas” jums kelia įtarimų? "
   ]
  },
  {
   "cell_type": "code",
   "execution_count": 528,
   "id": "c29b85c7",
   "metadata": {
    "ExecuteTime": {
     "end_time": "2022-12-08T19:39:25.340653Z",
     "start_time": "2022-12-08T19:39:25.296040Z"
    },
    "scrolled": false
   },
   "outputs": [
    {
     "data": {
      "text/html": [
       "<div>\n",
       "<style scoped>\n",
       "    .dataframe tbody tr th:only-of-type {\n",
       "        vertical-align: middle;\n",
       "    }\n",
       "\n",
       "    .dataframe tbody tr th {\n",
       "        vertical-align: top;\n",
       "    }\n",
       "\n",
       "    .dataframe thead th {\n",
       "        text-align: right;\n",
       "    }\n",
       "</style>\n",
       "<table border=\"1\" class=\"dataframe\">\n",
       "  <thead>\n",
       "    <tr style=\"text-align: right;\">\n",
       "      <th></th>\n",
       "      <th>obj_kodas</th>\n",
       "      <th>obj_pav</th>\n",
       "      <th>form_kodas</th>\n",
       "      <th>form_pav</th>\n",
       "      <th>stat_statusas</th>\n",
       "      <th>stat_pav</th>\n",
       "      <th>template_id</th>\n",
       "      <th>template_name</th>\n",
       "      <th>standard_id</th>\n",
       "      <th>standard_name</th>\n",
       "      <th>...</th>\n",
       "      <th>laikotarpis_iki</th>\n",
       "      <th>reg_date</th>\n",
       "      <th>nuosavas_kapitalas</th>\n",
       "      <th>mok_sumos_ir_isipareigojimai</th>\n",
       "      <th>ilgalaikis_turtas</th>\n",
       "      <th>trumpalaikis_turtas</th>\n",
       "      <th>formavimo_data</th>\n",
       "      <th>pelnas_pries_apmokestinima</th>\n",
       "      <th>grynasis_pelnas</th>\n",
       "      <th>pardavimo_pajamos</th>\n",
       "    </tr>\n",
       "  </thead>\n",
       "  <tbody>\n",
       "    <tr>\n",
       "      <th>146107</th>\n",
       "      <td>305115931</td>\n",
       "      <td>UAB \"Thermo Fisher Scientific Vector Holdings\"</td>\n",
       "      <td>310</td>\n",
       "      <td>Uždaroji akcinė bendrovė</td>\n",
       "      <td>0</td>\n",
       "      <td>Teisinis stat neįregistruotas</td>\n",
       "      <td>FS0129</td>\n",
       "      <td>Mažų ir labai mažų įmonių, netaikančių išimčių...</td>\n",
       "      <td>BST124</td>\n",
       "      <td>BALANSAS (Sutrumpintas)</td>\n",
       "      <td>...</td>\n",
       "      <td>2020-12-31</td>\n",
       "      <td>2021-05-31</td>\n",
       "      <td>3.898038e+09</td>\n",
       "      <td>9.062000e+03</td>\n",
       "      <td>3.898045e+09</td>\n",
       "      <td>2345.0</td>\n",
       "      <td>2022-12-01</td>\n",
       "      <td>-1508.0</td>\n",
       "      <td>-1508.0</td>\n",
       "      <td>NaN</td>\n",
       "    </tr>\n",
       "    <tr>\n",
       "      <th>120157</th>\n",
       "      <td>305115970</td>\n",
       "      <td>UAB \"Thermo Fisher Scientific Vector Senior Ho...</td>\n",
       "      <td>310</td>\n",
       "      <td>Uždaroji akcinė bendrovė</td>\n",
       "      <td>0</td>\n",
       "      <td>Teisinis stat neįregistruotas</td>\n",
       "      <td>FS0129</td>\n",
       "      <td>Mažų ir labai mažų įmonių, netaikančių išimčių...</td>\n",
       "      <td>BST124</td>\n",
       "      <td>BALANSAS (Sutrumpintas)</td>\n",
       "      <td>...</td>\n",
       "      <td>2020-12-31</td>\n",
       "      <td>2021-05-31</td>\n",
       "      <td>3.898038e+09</td>\n",
       "      <td>1.148000e+04</td>\n",
       "      <td>3.898047e+09</td>\n",
       "      <td>2381.0</td>\n",
       "      <td>2022-12-01</td>\n",
       "      <td>-1463.0</td>\n",
       "      <td>-1463.0</td>\n",
       "      <td>NaN</td>\n",
       "    </tr>\n",
       "    <tr>\n",
       "      <th>112100</th>\n",
       "      <td>305115956</td>\n",
       "      <td>UAB \"Thermo Fisher Scientific Vector Senior Ho...</td>\n",
       "      <td>310</td>\n",
       "      <td>Uždaroji akcinė bendrovė</td>\n",
       "      <td>0</td>\n",
       "      <td>Teisinis stat neįregistruotas</td>\n",
       "      <td>FS0129</td>\n",
       "      <td>Mažų ir labai mažų įmonių, netaikančių išimčių...</td>\n",
       "      <td>BST124</td>\n",
       "      <td>BALANSAS (Sutrumpintas)</td>\n",
       "      <td>...</td>\n",
       "      <td>2020-12-31</td>\n",
       "      <td>2021-05-31</td>\n",
       "      <td>2.950793e+09</td>\n",
       "      <td>1.146558e+09</td>\n",
       "      <td>4.097346e+09</td>\n",
       "      <td>4881.0</td>\n",
       "      <td>2022-12-01</td>\n",
       "      <td>-49385070.0</td>\n",
       "      <td>-49385070.0</td>\n",
       "      <td>NaN</td>\n",
       "    </tr>\n",
       "    <tr>\n",
       "      <th>153959</th>\n",
       "      <td>188710638</td>\n",
       "      <td>Valstybės įmonė Lietuvos automobilių kelių dir...</td>\n",
       "      <td>110</td>\n",
       "      <td>Valstybės įmonė</td>\n",
       "      <td>0</td>\n",
       "      <td>Teisinis stat neįregistruotas</td>\n",
       "      <td>FS0132</td>\n",
       "      <td>Valstybės ir savivaldybės įmonių finansinių at...</td>\n",
       "      <td>BST504</td>\n",
       "      <td>BALANSAS</td>\n",
       "      <td>...</td>\n",
       "      <td>2020-12-31</td>\n",
       "      <td>2021-05-31</td>\n",
       "      <td>2.693140e+09</td>\n",
       "      <td>5.707500e+07</td>\n",
       "      <td>3.230581e+09</td>\n",
       "      <td>47480000.0</td>\n",
       "      <td>2022-12-01</td>\n",
       "      <td>1245000.0</td>\n",
       "      <td>940000.0</td>\n",
       "      <td>3975000.0</td>\n",
       "    </tr>\n",
       "    <tr>\n",
       "      <th>132953</th>\n",
       "      <td>302608755</td>\n",
       "      <td>Uždaroji akcinė bendrovė \"Vilniaus prekyba\"</td>\n",
       "      <td>310</td>\n",
       "      <td>Uždaroji akcinė bendrovė</td>\n",
       "      <td>0</td>\n",
       "      <td>Teisinis stat neįregistruotas</td>\n",
       "      <td>FS0518</td>\n",
       "      <td>Atskirosios finansinės būklės ataskaitos duomenys</td>\n",
       "      <td>BST210</td>\n",
       "      <td>BALANSAS</td>\n",
       "      <td>...</td>\n",
       "      <td>2020-12-31</td>\n",
       "      <td>2021-05-20</td>\n",
       "      <td>1.950511e+09</td>\n",
       "      <td>NaN</td>\n",
       "      <td>1.754522e+09</td>\n",
       "      <td>199991000.0</td>\n",
       "      <td>2022-12-01</td>\n",
       "      <td>292397000.0</td>\n",
       "      <td>NaN</td>\n",
       "      <td>1069000.0</td>\n",
       "    </tr>\n",
       "    <tr>\n",
       "      <th>...</th>\n",
       "      <td>...</td>\n",
       "      <td>...</td>\n",
       "      <td>...</td>\n",
       "      <td>...</td>\n",
       "      <td>...</td>\n",
       "      <td>...</td>\n",
       "      <td>...</td>\n",
       "      <td>...</td>\n",
       "      <td>...</td>\n",
       "      <td>...</td>\n",
       "      <td>...</td>\n",
       "      <td>...</td>\n",
       "      <td>...</td>\n",
       "      <td>...</td>\n",
       "      <td>...</td>\n",
       "      <td>...</td>\n",
       "      <td>...</td>\n",
       "      <td>...</td>\n",
       "      <td>...</td>\n",
       "      <td>...</td>\n",
       "      <td>...</td>\n",
       "    </tr>\n",
       "    <tr>\n",
       "      <th>158416</th>\n",
       "      <td>301353547</td>\n",
       "      <td>Uždaroji akcinė bendrovė \"Baltic Logistic Solu...</td>\n",
       "      <td>310</td>\n",
       "      <td>Uždaroji akcinė bendrovė</td>\n",
       "      <td>0</td>\n",
       "      <td>Teisinis stat neįregistruotas</td>\n",
       "      <td>FS0130</td>\n",
       "      <td>Vidutinių ir didelių įmonių finansinių ataskai...</td>\n",
       "      <td>BST123</td>\n",
       "      <td>BALANSAS</td>\n",
       "      <td>...</td>\n",
       "      <td>2020-12-31</td>\n",
       "      <td>2021-05-26</td>\n",
       "      <td>6.964559e+06</td>\n",
       "      <td>3.837021e+06</td>\n",
       "      <td>5.310635e+06</td>\n",
       "      <td>5592687.0</td>\n",
       "      <td>2022-12-01</td>\n",
       "      <td>2884353.0</td>\n",
       "      <td>2702705.0</td>\n",
       "      <td>38519752.0</td>\n",
       "    </tr>\n",
       "    <tr>\n",
       "      <th>147284</th>\n",
       "      <td>302811727</td>\n",
       "      <td>UAB \"Vievio paukščiai\"</td>\n",
       "      <td>310</td>\n",
       "      <td>Uždaroji akcinė bendrovė</td>\n",
       "      <td>0</td>\n",
       "      <td>Teisinis stat neįregistruotas</td>\n",
       "      <td>FS0130</td>\n",
       "      <td>Vidutinių ir didelių įmonių finansinių ataskai...</td>\n",
       "      <td>BST123</td>\n",
       "      <td>BALANSAS</td>\n",
       "      <td>...</td>\n",
       "      <td>2020-12-31</td>\n",
       "      <td>2021-09-08</td>\n",
       "      <td>6.956000e+06</td>\n",
       "      <td>1.802600e+07</td>\n",
       "      <td>1.708600e+07</td>\n",
       "      <td>8023000.0</td>\n",
       "      <td>2022-12-01</td>\n",
       "      <td>-1433000.0</td>\n",
       "      <td>-1202000.0</td>\n",
       "      <td>11586000.0</td>\n",
       "    </tr>\n",
       "    <tr>\n",
       "      <th>59834</th>\n",
       "      <td>304516437</td>\n",
       "      <td>UAB \"LECA Lithuania\"</td>\n",
       "      <td>310</td>\n",
       "      <td>Uždaroji akcinė bendrovė</td>\n",
       "      <td>0</td>\n",
       "      <td>Teisinis stat neįregistruotas</td>\n",
       "      <td>FS0129</td>\n",
       "      <td>Mažų ir labai mažų įmonių, netaikančių išimčių...</td>\n",
       "      <td>BST123</td>\n",
       "      <td>BALANSAS</td>\n",
       "      <td>...</td>\n",
       "      <td>2017-12-31</td>\n",
       "      <td>2020-01-08</td>\n",
       "      <td>6.952433e+06</td>\n",
       "      <td>2.661290e+05</td>\n",
       "      <td>6.073268e+06</td>\n",
       "      <td>1156622.0</td>\n",
       "      <td>2022-12-01</td>\n",
       "      <td>-496122.0</td>\n",
       "      <td>-496122.0</td>\n",
       "      <td>2661524.0</td>\n",
       "    </tr>\n",
       "    <tr>\n",
       "      <th>52111</th>\n",
       "      <td>165670049</td>\n",
       "      <td>UAB Šešupės ūkis</td>\n",
       "      <td>310</td>\n",
       "      <td>Uždaroji akcinė bendrovė</td>\n",
       "      <td>0</td>\n",
       "      <td>Teisinis stat neįregistruotas</td>\n",
       "      <td>FS0130</td>\n",
       "      <td>Vidutinių ir didelių įmonių finansinių ataskai...</td>\n",
       "      <td>BST123</td>\n",
       "      <td>BALANSAS</td>\n",
       "      <td>...</td>\n",
       "      <td>2019-12-31</td>\n",
       "      <td>2020-05-22</td>\n",
       "      <td>6.945490e+06</td>\n",
       "      <td>1.396142e+06</td>\n",
       "      <td>6.956510e+06</td>\n",
       "      <td>1708484.0</td>\n",
       "      <td>2022-12-01</td>\n",
       "      <td>-33614.0</td>\n",
       "      <td>-15549.0</td>\n",
       "      <td>2858028.0</td>\n",
       "    </tr>\n",
       "    <tr>\n",
       "      <th>145803</th>\n",
       "      <td>161621777</td>\n",
       "      <td>Uždaroji akcinė bendrovė \"MAKVEŽA\"</td>\n",
       "      <td>310</td>\n",
       "      <td>Uždaroji akcinė bendrovė</td>\n",
       "      <td>0</td>\n",
       "      <td>Teisinis stat neįregistruotas</td>\n",
       "      <td>FS0130</td>\n",
       "      <td>Vidutinių ir didelių įmonių finansinių ataskai...</td>\n",
       "      <td>BST123</td>\n",
       "      <td>BALANSAS</td>\n",
       "      <td>...</td>\n",
       "      <td>2020-12-31</td>\n",
       "      <td>2021-04-30</td>\n",
       "      <td>6.943740e+06</td>\n",
       "      <td>3.423481e+07</td>\n",
       "      <td>4.562957e+06</td>\n",
       "      <td>36585735.0</td>\n",
       "      <td>2022-12-01</td>\n",
       "      <td>875666.0</td>\n",
       "      <td>694445.0</td>\n",
       "      <td>91024306.0</td>\n",
       "    </tr>\n",
       "  </tbody>\n",
       "</table>\n",
       "<p>2069 rows × 21 columns</p>\n",
       "</div>"
      ],
      "text/plain": [
       "        obj_kodas                                            obj_pav  \\\n",
       "146107  305115931     UAB \"Thermo Fisher Scientific Vector Holdings\"   \n",
       "120157  305115970  UAB \"Thermo Fisher Scientific Vector Senior Ho...   \n",
       "112100  305115956  UAB \"Thermo Fisher Scientific Vector Senior Ho...   \n",
       "153959  188710638  Valstybės įmonė Lietuvos automobilių kelių dir...   \n",
       "132953  302608755        Uždaroji akcinė bendrovė \"Vilniaus prekyba\"   \n",
       "...           ...                                                ...   \n",
       "158416  301353547  Uždaroji akcinė bendrovė \"Baltic Logistic Solu...   \n",
       "147284  302811727                             UAB \"Vievio paukščiai\"   \n",
       "59834   304516437                               UAB \"LECA Lithuania\"   \n",
       "52111   165670049                                   UAB Šešupės ūkis   \n",
       "145803  161621777                 Uždaroji akcinė bendrovė \"MAKVEŽA\"   \n",
       "\n",
       "        form_kodas                  form_pav  stat_statusas  \\\n",
       "146107         310  Uždaroji akcinė bendrovė              0   \n",
       "120157         310  Uždaroji akcinė bendrovė              0   \n",
       "112100         310  Uždaroji akcinė bendrovė              0   \n",
       "153959         110           Valstybės įmonė              0   \n",
       "132953         310  Uždaroji akcinė bendrovė              0   \n",
       "...            ...                       ...            ...   \n",
       "158416         310  Uždaroji akcinė bendrovė              0   \n",
       "147284         310  Uždaroji akcinė bendrovė              0   \n",
       "59834          310  Uždaroji akcinė bendrovė              0   \n",
       "52111          310  Uždaroji akcinė bendrovė              0   \n",
       "145803         310  Uždaroji akcinė bendrovė              0   \n",
       "\n",
       "                             stat_pav template_id  \\\n",
       "146107  Teisinis stat neįregistruotas      FS0129   \n",
       "120157  Teisinis stat neįregistruotas      FS0129   \n",
       "112100  Teisinis stat neįregistruotas      FS0129   \n",
       "153959  Teisinis stat neįregistruotas      FS0132   \n",
       "132953  Teisinis stat neįregistruotas      FS0518   \n",
       "...                               ...         ...   \n",
       "158416  Teisinis stat neįregistruotas      FS0130   \n",
       "147284  Teisinis stat neįregistruotas      FS0130   \n",
       "59834   Teisinis stat neįregistruotas      FS0129   \n",
       "52111   Teisinis stat neįregistruotas      FS0130   \n",
       "145803  Teisinis stat neįregistruotas      FS0130   \n",
       "\n",
       "                                            template_name standard_id  \\\n",
       "146107  Mažų ir labai mažų įmonių, netaikančių išimčių...      BST124   \n",
       "120157  Mažų ir labai mažų įmonių, netaikančių išimčių...      BST124   \n",
       "112100  Mažų ir labai mažų įmonių, netaikančių išimčių...      BST124   \n",
       "153959  Valstybės ir savivaldybės įmonių finansinių at...      BST504   \n",
       "132953  Atskirosios finansinės būklės ataskaitos duomenys      BST210   \n",
       "...                                                   ...         ...   \n",
       "158416  Vidutinių ir didelių įmonių finansinių ataskai...      BST123   \n",
       "147284  Vidutinių ir didelių įmonių finansinių ataskai...      BST123   \n",
       "59834   Mažų ir labai mažų įmonių, netaikančių išimčių...      BST123   \n",
       "52111   Vidutinių ir didelių įmonių finansinių ataskai...      BST123   \n",
       "145803  Vidutinių ir didelių įmonių finansinių ataskai...      BST123   \n",
       "\n",
       "                  standard_name  ... laikotarpis_iki   reg_date  \\\n",
       "146107  BALANSAS (Sutrumpintas)  ...      2020-12-31 2021-05-31   \n",
       "120157  BALANSAS (Sutrumpintas)  ...      2020-12-31 2021-05-31   \n",
       "112100  BALANSAS (Sutrumpintas)  ...      2020-12-31 2021-05-31   \n",
       "153959                 BALANSAS  ...      2020-12-31 2021-05-31   \n",
       "132953                 BALANSAS  ...      2020-12-31 2021-05-20   \n",
       "...                         ...  ...             ...        ...   \n",
       "158416                 BALANSAS  ...      2020-12-31 2021-05-26   \n",
       "147284                 BALANSAS  ...      2020-12-31 2021-09-08   \n",
       "59834                  BALANSAS  ...      2017-12-31 2020-01-08   \n",
       "52111                  BALANSAS  ...      2019-12-31 2020-05-22   \n",
       "145803                 BALANSAS  ...      2020-12-31 2021-04-30   \n",
       "\n",
       "       nuosavas_kapitalas  mok_sumos_ir_isipareigojimai  ilgalaikis_turtas  \\\n",
       "146107       3.898038e+09                  9.062000e+03       3.898045e+09   \n",
       "120157       3.898038e+09                  1.148000e+04       3.898047e+09   \n",
       "112100       2.950793e+09                  1.146558e+09       4.097346e+09   \n",
       "153959       2.693140e+09                  5.707500e+07       3.230581e+09   \n",
       "132953       1.950511e+09                           NaN       1.754522e+09   \n",
       "...                   ...                           ...                ...   \n",
       "158416       6.964559e+06                  3.837021e+06       5.310635e+06   \n",
       "147284       6.956000e+06                  1.802600e+07       1.708600e+07   \n",
       "59834        6.952433e+06                  2.661290e+05       6.073268e+06   \n",
       "52111        6.945490e+06                  1.396142e+06       6.956510e+06   \n",
       "145803       6.943740e+06                  3.423481e+07       4.562957e+06   \n",
       "\n",
       "        trumpalaikis_turtas  formavimo_data pelnas_pries_apmokestinima  \\\n",
       "146107               2345.0      2022-12-01                    -1508.0   \n",
       "120157               2381.0      2022-12-01                    -1463.0   \n",
       "112100               4881.0      2022-12-01                -49385070.0   \n",
       "153959           47480000.0      2022-12-01                  1245000.0   \n",
       "132953          199991000.0      2022-12-01                292397000.0   \n",
       "...                     ...             ...                        ...   \n",
       "158416            5592687.0      2022-12-01                  2884353.0   \n",
       "147284            8023000.0      2022-12-01                 -1433000.0   \n",
       "59834             1156622.0      2022-12-01                  -496122.0   \n",
       "52111             1708484.0      2022-12-01                   -33614.0   \n",
       "145803           36585735.0      2022-12-01                   875666.0   \n",
       "\n",
       "        grynasis_pelnas  pardavimo_pajamos  \n",
       "146107          -1508.0                NaN  \n",
       "120157          -1463.0                NaN  \n",
       "112100      -49385070.0                NaN  \n",
       "153959         940000.0          3975000.0  \n",
       "132953              NaN          1069000.0  \n",
       "...                 ...                ...  \n",
       "158416        2702705.0         38519752.0  \n",
       "147284       -1202000.0         11586000.0  \n",
       "59834         -496122.0          2661524.0  \n",
       "52111          -15549.0          2858028.0  \n",
       "145803         694445.0         91024306.0  \n",
       "\n",
       "[2069 rows x 21 columns]"
      ]
     },
     "execution_count": 528,
     "metadata": {},
     "output_type": "execute_result"
    }
   ],
   "source": [
    "# Getting only companies that belong to 1% by 'nuosavas_kapitalas'\n",
    "df[df['nuosavas_kapitalas'] > df['nuosavas_kapitalas'].quantile(0.99)].sort_values(by='nuosavas_kapitalas', ascending=False)"
   ]
  },
  {
   "cell_type": "markdown",
   "id": "55b910c0",
   "metadata": {},
   "source": [
    "## 9. Vizualiai atvaizduoti juridinių asmenų formos pasiskirstymą per visą laikotarpį (2020 ir 2021 metais kartu). Vizualizacijos turi sutapti su pavaizduota dešinėje."
   ]
  },
  {
   "cell_type": "code",
   "execution_count": 529,
   "id": "7ad0d6fb",
   "metadata": {
    "ExecuteTime": {
     "end_time": "2022-12-08T19:39:25.805981Z",
     "start_time": "2022-12-08T19:39:25.342653Z"
    },
    "scrolled": false
   },
   "outputs": [
    {
     "data": {
      "text/plain": [
       "<matplotlib.legend.Legend at 0x14a5e369160>"
      ]
     },
     "execution_count": 529,
     "metadata": {},
     "output_type": "execute_result"
    },
    {
     "data": {
      "image/png": "[encoded data removed]",
      "text/plain": [
       "<Figure size 640x480 with 1 Axes>"
      ]
     },
     "metadata": {},
     "output_type": "display_data"
    }
   ],
   "source": [
    "# Pandas approach. Did not complete matplotlib and seaborn saddly.\n",
    "df.groupby(['form_pav',df['reg_date'].dt.year])['obj_pav'].count().unstack().plot(kind='bar', logy=True, grid=True)\n",
    "plt.title('Juridinių asmenų skaičius 2020 ir 2021 metais')\n",
    "plt.ylabel('Vienetų skaičius')\n",
    "plt.legend(['2020_count','2021_count'])"
   ]
  },
  {
   "cell_type": "markdown",
   "id": "c5f96860",
   "metadata": {
    "ExecuteTime": {
     "end_time": "2022-12-06T17:22:01.913587Z",
     "start_time": "2022-12-06T17:22:01.903585Z"
    }
   },
   "source": [
    "## 10. Kurį mėnesį buvo įregistruota daugiausiai juridinių asmenų 2020 ir 2021 metais? Atvaizduokite stulpelinę diagramą."
   ]
  },
  {
   "cell_type": "code",
   "execution_count": 530,
   "id": "1dcd7d53",
   "metadata": {
    "ExecuteTime": {
     "end_time": "2022-12-08T19:39:25.930009Z",
     "start_time": "2022-12-08T19:39:25.807981Z"
    }
   },
   "outputs": [
    {
     "data": {
      "text/plain": [
       "Text(0, 0.5, 'Juridinių asmenų sk.')"
      ]
     },
     "execution_count": 530,
     "metadata": {},
     "output_type": "execute_result"
    },
    {
     "data": {
      "image/png": "[encoded data removed]",
      "text/plain": [
       "<Figure size 640x480 with 1 Axes>"
      ]
     },
     "metadata": {},
     "output_type": "display_data"
    }
   ],
   "source": [
    "df.groupby(['form_pav',df['reg_date'].dt.to_period('M')])['obj_pav'].count().unstack().sum().sort_values(ascending=False)[:2].plot(kind='bar')\n",
    "plt.xlabel('Mėn.')\n",
    "plt.ylabel('Juridinių asmenų sk.')"
   ]
  },
  {
   "cell_type": "markdown",
   "id": "2b6eeead",
   "metadata": {},
   "source": [
    "## 11. Vizualiai atvaizduoti juridinių asmenų statuso pasiskirstymą kiekvienais metais."
   ]
  },
  {
   "cell_type": "code",
   "execution_count": 531,
   "id": "90989502",
   "metadata": {
    "ExecuteTime": {
     "end_time": "2022-12-08T19:39:26.351315Z",
     "start_time": "2022-12-08T19:39:25.931009Z"
    },
    "scrolled": false
   },
   "outputs": [
    {
     "data": {
      "text/plain": [
       "<matplotlib.legend.Legend at 0x14a35271ee0>"
      ]
     },
     "execution_count": 531,
     "metadata": {},
     "output_type": "execute_result"
    },
    {
     "data": {
      "image/png": "[encoded data removed]",
      "text/plain": [
       "<Figure size 1600x800 with 1 Axes>"
      ]
     },
     "metadata": {},
     "output_type": "display_data"
    }
   ],
   "source": [
    "df.groupby([df['reg_date'].dt.year, 'stat_pav'])['obj_pav'].count().unstack().plot(kind='bar', figsize=(16,8), logy=True, grid=True)\n",
    "plt.legend()"
   ]
  },
  {
   "cell_type": "markdown",
   "id": "c59d52c8",
   "metadata": {},
   "source": [
    "## 12. Kiekvienai įmonei apskaičiuoti tendenciją. Jei “grynasis_pelnas” + “nuosavas_kapitalas” 2021 metais buvo didesnis už 2020 metais deklaruotą, tai tendencija “teigiama”, jei ne - “neigiama”. Atvaizduoti tendencijos duomenis stulpelinėje diagramoje."
   ]
  },
  {
   "cell_type": "code",
   "execution_count": 532,
   "id": "b6e04a9d",
   "metadata": {
    "ExecuteTime": {
     "end_time": "2022-12-08T19:39:26.366697Z",
     "start_time": "2022-12-08T19:39:26.353316Z"
    }
   },
   "outputs": [],
   "source": [
    "df['pajamos'] =  df['grynasis_pelnas'] + df['nuosavas_kapitalas']"
   ]
  },
  {
   "cell_type": "code",
   "execution_count": 533,
   "id": "847fab83",
   "metadata": {
    "ExecuteTime": {
     "end_time": "2022-12-08T19:39:26.508373Z",
     "start_time": "2022-12-08T19:39:26.368698Z"
    }
   },
   "outputs": [],
   "source": [
    "tend = pd.merge(\n",
    "    df.loc[df['reg_date'].dt.year == 2020].groupby('obj_kodas')['pajamos'].sum(),\n",
    "    df.loc[df['reg_date'].dt.year == 2021].groupby('obj_kodas')['pajamos'].sum(),\n",
    "    how='inner',\n",
    "    on='obj_kodas',\n",
    "    suffixes=['2020', '2021']\n",
    ")\n",
    "tend.fillna(0, inplace=True)"
   ]
  },
  {
   "cell_type": "code",
   "execution_count": 534,
   "id": "250d496d",
   "metadata": {
    "ExecuteTime": {
     "end_time": "2022-12-08T19:39:26.523376Z",
     "start_time": "2022-12-08T19:39:26.510373Z"
    }
   },
   "outputs": [],
   "source": [
    "def tendency(x:int):\n",
    "    if x > 0:\n",
    "        return 'teigiama'\n",
    "    return 'neigiama'"
   ]
  },
  {
   "cell_type": "code",
   "execution_count": 535,
   "id": "e3c20e9e",
   "metadata": {
    "ExecuteTime": {
     "end_time": "2022-12-08T19:39:26.555383Z",
     "start_time": "2022-12-08T19:39:26.525376Z"
    }
   },
   "outputs": [],
   "source": [
    "tend['difference'] = tend['pajamos2020'] - tend['pajamos2021']\n",
    "tend['tendency'] = tend['difference'].apply(tendency)\n",
    "tend.reset_index(inplace=True)"
   ]
  },
  {
   "cell_type": "code",
   "execution_count": 536,
   "id": "c76ad42f",
   "metadata": {
    "ExecuteTime": {
     "end_time": "2022-12-08T19:39:26.774969Z",
     "start_time": "2022-12-08T19:39:26.557384Z"
    },
    "scrolled": false
   },
   "outputs": [],
   "source": [
    "df = pd.merge(df,tend[['obj_kodas','tendency']],how='left',on='obj_kodas')"
   ]
  },
  {
   "cell_type": "code",
   "execution_count": 537,
   "id": "218c57db",
   "metadata": {
    "ExecuteTime": {
     "end_time": "2022-12-08T19:39:26.870991Z",
     "start_time": "2022-12-08T19:39:26.776969Z"
    },
    "scrolled": false
   },
   "outputs": [
    {
     "data": {
      "text/plain": [
       "Text(0.5, 0, 'Tendencija')"
      ]
     },
     "execution_count": 537,
     "metadata": {},
     "output_type": "execute_result"
    },
    {
     "data": {
      "image/png": "[encoded data removed]",
      "text/plain": [
       "<Figure size 640x480 with 1 Axes>"
      ]
     },
     "metadata": {},
     "output_type": "display_data"
    }
   ],
   "source": [
    "df.groupby('tendency')['obj_kodas'].count().plot(kind='bar')\n",
    "plt.xlabel('Tendencija')"
   ]
  },
  {
   "cell_type": "markdown",
   "id": "9bc1a5b9",
   "metadata": {},
   "source": [
    "## 13. Surasti UAB ir MB įmones, kurios 2020 vykdė veiklą, o 2021 - bankrutavo. Bankrutavusių įmonių statusai: “Bankrutavęs”, “Bankrutuojantis”, “Išregistruotas”, “Inicijuojamas likvidavimas”, “Likviduojamas”, “Likviduojamas dėl bankroto”. Toliau veiklą vykdanti įmonė pažymėta \"Teisinis stat neįregistruotas\" statusu. Kokia bankrutavusių įmonių “nuosavas_kapitalas”suma 2021 metais? Kokia bankrutavusių įmonių “grynasis_pelnas” suma 2021 metais? Palyginti šias sumas su veikiančių įmonių atitinkamomis sumomis."
   ]
  },
  {
   "cell_type": "code",
   "execution_count": 538,
   "id": "e66b458c",
   "metadata": {
    "ExecuteTime": {
     "end_time": "2022-12-08T19:39:26.965826Z",
     "start_time": "2022-12-08T19:39:26.872991Z"
    }
   },
   "outputs": [],
   "source": [
    "uabmb = df[df['form_pav'].isin(['Uždaroji akcinė bendrovė','Mažoji bendrija'])]"
   ]
  },
  {
   "cell_type": "code",
   "execution_count": 539,
   "id": "df5148f5",
   "metadata": {
    "ExecuteTime": {
     "end_time": "2022-12-08T19:39:27.013837Z",
     "start_time": "2022-12-08T19:39:26.966829Z"
    }
   },
   "outputs": [],
   "source": [
    "# bankrupt filter\n",
    "bankrupt = ['Išregistruotas', 'Likviduojamas',\n",
    "            'Likviduojamas dėl bankroto', 'Bankrutuojantis',\n",
    "            'Inicijuojamas likvidavimas', 'Bankrutavęs'] \n",
    "# companies working in 2020\n",
    "working = uabmb.loc[(uabmb['reg_date'].dt.year == 2020) & (\n",
    "    uabmb['stat_pav'].isin(['Teisinis stat neįregistruotas']))]['obj_kodas']"
   ]
  },
  {
   "cell_type": "code",
   "execution_count": 540,
   "id": "ea969bbd",
   "metadata": {
    "ExecuteTime": {
     "end_time": "2022-12-08T19:39:27.045845Z",
     "start_time": "2022-12-08T19:39:27.015837Z"
    }
   },
   "outputs": [],
   "source": [
    "# Bankrupt company codes in 2021\n",
    "bankrupted = uabmb.loc[(uabmb['reg_date'].dt.year == 2021) & (\n",
    "    uabmb['stat_pav'].isin(bankrupt))][['obj_kodas', 'stat_pav']]"
   ]
  },
  {
   "cell_type": "code",
   "execution_count": 541,
   "id": "08a9a514",
   "metadata": {
    "ExecuteTime": {
     "end_time": "2022-12-08T19:39:27.075545Z",
     "start_time": "2022-12-08T19:39:27.047845Z"
    }
   },
   "outputs": [
    {
     "data": {
      "text/html": [
       "<div>\n",
       "<style scoped>\n",
       "    .dataframe tbody tr th:only-of-type {\n",
       "        vertical-align: middle;\n",
       "    }\n",
       "\n",
       "    .dataframe tbody tr th {\n",
       "        vertical-align: top;\n",
       "    }\n",
       "\n",
       "    .dataframe thead th {\n",
       "        text-align: right;\n",
       "    }\n",
       "</style>\n",
       "<table border=\"1\" class=\"dataframe\">\n",
       "  <thead>\n",
       "    <tr style=\"text-align: right;\">\n",
       "      <th></th>\n",
       "      <th>obj_kodas</th>\n",
       "      <th>stat_pav</th>\n",
       "    </tr>\n",
       "  </thead>\n",
       "  <tbody>\n",
       "    <tr>\n",
       "      <th>0</th>\n",
       "      <td>305217929</td>\n",
       "      <td>NaN</td>\n",
       "    </tr>\n",
       "    <tr>\n",
       "      <th>1</th>\n",
       "      <td>304759186</td>\n",
       "      <td>NaN</td>\n",
       "    </tr>\n",
       "    <tr>\n",
       "      <th>2</th>\n",
       "      <td>304512862</td>\n",
       "      <td>NaN</td>\n",
       "    </tr>\n",
       "    <tr>\n",
       "      <th>3</th>\n",
       "      <td>222022510</td>\n",
       "      <td>NaN</td>\n",
       "    </tr>\n",
       "    <tr>\n",
       "      <th>4</th>\n",
       "      <td>304085969</td>\n",
       "      <td>NaN</td>\n",
       "    </tr>\n",
       "    <tr>\n",
       "      <th>...</th>\n",
       "      <td>...</td>\n",
       "      <td>...</td>\n",
       "    </tr>\n",
       "    <tr>\n",
       "      <th>84943</th>\n",
       "      <td>302442493</td>\n",
       "      <td>NaN</td>\n",
       "    </tr>\n",
       "    <tr>\n",
       "      <th>84944</th>\n",
       "      <td>302564216</td>\n",
       "      <td>NaN</td>\n",
       "    </tr>\n",
       "    <tr>\n",
       "      <th>84945</th>\n",
       "      <td>300613091</td>\n",
       "      <td>NaN</td>\n",
       "    </tr>\n",
       "    <tr>\n",
       "      <th>84946</th>\n",
       "      <td>304213995</td>\n",
       "      <td>NaN</td>\n",
       "    </tr>\n",
       "    <tr>\n",
       "      <th>84947</th>\n",
       "      <td>302640169</td>\n",
       "      <td>NaN</td>\n",
       "    </tr>\n",
       "  </tbody>\n",
       "</table>\n",
       "<p>84948 rows × 2 columns</p>\n",
       "</div>"
      ],
      "text/plain": [
       "       obj_kodas stat_pav\n",
       "0      305217929      NaN\n",
       "1      304759186      NaN\n",
       "2      304512862      NaN\n",
       "3      222022510      NaN\n",
       "4      304085969      NaN\n",
       "...          ...      ...\n",
       "84943  302442493      NaN\n",
       "84944  302564216      NaN\n",
       "84945  300613091      NaN\n",
       "84946  304213995      NaN\n",
       "84947  302640169      NaN\n",
       "\n",
       "[84948 rows x 2 columns]"
      ]
     },
     "execution_count": 541,
     "metadata": {},
     "output_type": "execute_result"
    }
   ],
   "source": [
    "# Tried merging with inner to find companies that worked in 2020 but are bankrupt in 2021.\n",
    "pd.merge(working,bankrupted,how='left',on='obj_kodas')"
   ]
  },
  {
   "cell_type": "markdown",
   "id": "a9ef2d8e",
   "metadata": {},
   "source": [
    "## 14. Sukurti naują stulpelį “turtas”, kuris skaičiuojamas sudedant “trumpalaikis_turtas” ir “ilgalaikis_turtas”"
   ]
  },
  {
   "cell_type": "code",
   "execution_count": 542,
   "id": "07f46897",
   "metadata": {
    "ExecuteTime": {
     "end_time": "2022-12-08T19:39:27.091140Z",
     "start_time": "2022-12-08T19:39:27.077138Z"
    }
   },
   "outputs": [],
   "source": [
    "df['trumpalaikis_turtas'].fillna(0, inplace=True)\n",
    "df['ilgalaikis_turtas'].fillna(0, inplace=True)"
   ]
  },
  {
   "cell_type": "code",
   "execution_count": 543,
   "id": "4fe05b12",
   "metadata": {
    "ExecuteTime": {
     "end_time": "2022-12-08T19:39:27.107144Z",
     "start_time": "2022-12-08T19:39:27.092140Z"
    }
   },
   "outputs": [],
   "source": [
    "df['turtas'] = df['trumpalaikis_turtas'] + df['ilgalaikis_turtas']"
   ]
  },
  {
   "cell_type": "code",
   "execution_count": 544,
   "id": "0a8bd0e1",
   "metadata": {
    "ExecuteTime": {
     "end_time": "2022-12-08T19:39:27.123148Z",
     "start_time": "2022-12-08T19:39:27.109145Z"
    }
   },
   "outputs": [],
   "source": [
    "bins = [0, 3000, 20_000, 35_000, 70_000, df['turtas'].max()]"
   ]
  },
  {
   "cell_type": "code",
   "execution_count": 545,
   "id": "14f71f26",
   "metadata": {
    "ExecuteTime": {
     "end_time": "2022-12-08T19:39:27.139232Z",
     "start_time": "2022-12-08T19:39:27.124148Z"
    }
   },
   "outputs": [],
   "source": [
    "df['grupe'] =  pd.cut(df['turtas'], bins=bins)"
   ]
  },
  {
   "cell_type": "code",
   "execution_count": 546,
   "id": "94354e91",
   "metadata": {
    "ExecuteTime": {
     "end_time": "2022-12-08T19:39:27.511492Z",
     "start_time": "2022-12-08T19:39:27.141233Z"
    },
    "scrolled": false
   },
   "outputs": [
    {
     "data": {
      "text/plain": [
       "<matplotlib.legend.Legend at 0x14a34716940>"
      ]
     },
     "execution_count": 546,
     "metadata": {},
     "output_type": "execute_result"
    },
    {
     "data": {
      "image/png": "[encoded data removed]",
      "text/plain": [
       "<Figure size 1800x800 with 2 Axes>"
      ]
     },
     "metadata": {},
     "output_type": "display_data"
    }
   ],
   "source": [
    "fig, axes = plt.subplots(1,2, figsize=(18,8), sharey=True)\n",
    "labels = ['iki 3k', '3k-20k', '20k-35k', '35k-70k', '70k+'] # Labels for pie chart\n",
    "df[df['reg_date'].dt.year == 2020].groupby([df['reg_date'].dt.year, df['grupe']])[\n",
    "    'obj_kodas'].count().plot(kind='pie', autopct='%1.1f%%', ax=axes[0], labels=labels, startangle=145, ylabel='', xlabel='')\n",
    "df[df['reg_date'].dt.year == 2021].groupby([df['reg_date'].dt.year, df['grupe']])[\n",
    "    'obj_kodas'].count().plot(kind='pie', autopct='%1.1f%%', ax=axes[1], labels=labels, startangle=145)\n",
    "plt.suptitle('Įregistruotų įmonių pasiskirstymas pagal sukauptą turtą') # Title for figure not subplots\n",
    "plt.legend(labels) # Adding legend"
   ]
  },
  {
   "cell_type": "markdown",
   "id": "0641391a",
   "metadata": {},
   "source": [
    "## 15. Rasti TOP-100 pelningiausių įmonių pagal “grynasis pelnas” ir TOP-100 įmonių kurių “nuosavas kapitalas” didžiausias. Ar yra sutampančių įmonių šiuose sąrašuose? Skaičiuojant TOP įmonės įtraukti viso laikotarpio įmones (naudoti 2020 ir 2021 metų duomenis kartu)."
   ]
  },
  {
   "cell_type": "code",
   "execution_count": 547,
   "id": "5a6cfde4",
   "metadata": {
    "ExecuteTime": {
     "end_time": "2022-12-08T19:39:27.699922Z",
     "start_time": "2022-12-08T19:39:27.513493Z"
    }
   },
   "outputs": [],
   "source": [
    "#TOP 100 by income.\n",
    "top100gp = df.groupby('obj_pav')[['grynasis_pelnas']].sum().sort_values(by='grynasis_pelnas', ascending=False).reset_index()[:100]"
   ]
  },
  {
   "cell_type": "code",
   "execution_count": 548,
   "id": "635685f1",
   "metadata": {
    "ExecuteTime": {
     "end_time": "2022-12-08T19:39:27.900501Z",
     "start_time": "2022-12-08T19:39:27.701922Z"
    }
   },
   "outputs": [],
   "source": [
    "#TOP 100 by capital\n",
    "top100nk = df.groupby('obj_pav')[['nuosavas_kapitalas']].sum().sort_values(by='nuosavas_kapitalas', ascending=False).reset_index()[:100]"
   ]
  },
  {
   "cell_type": "code",
   "execution_count": 549,
   "id": "3320c3dc",
   "metadata": {
    "ExecuteTime": {
     "end_time": "2022-12-08T19:39:27.916102Z",
     "start_time": "2022-12-08T19:39:27.902502Z"
    }
   },
   "outputs": [
    {
     "data": {
      "text/plain": [
       "41"
      ]
     },
     "execution_count": 549,
     "metadata": {},
     "output_type": "execute_result"
    }
   ],
   "source": [
    "# Company count that shows up in both\n",
    "len(top100gp[top100gp['obj_pav'].isin(top100nk['obj_pav'].tolist())])"
   ]
  },
  {
   "cell_type": "markdown",
   "id": "ba24c588",
   "metadata": {},
   "source": [
    "## 16. Ar TOP įmonės pagal “grynasis pelnas” iš 15 užduoties skiriasi pagal metus, t.y. 2020 ir 2021 metais? Kurios įmonės iškrenta iš TOP sąrašo 2021 metais?"
   ]
  },
  {
   "cell_type": "code",
   "execution_count": 550,
   "id": "37f350d7",
   "metadata": {
    "ExecuteTime": {
     "end_time": "2022-12-08T19:39:28.242023Z",
     "start_time": "2022-12-08T19:39:27.918668Z"
    }
   },
   "outputs": [],
   "source": [
    "#Top 100 income 2020 and 2021\n",
    "top100gp2020 = df[df['reg_date'].dt.year == 2020].groupby('obj_pav')[['grynasis_pelnas']].sum().sort_values(by='grynasis_pelnas', ascending=False).reset_index()[:100]\n",
    "top100gp2021 = df[df['reg_date'].dt.year == 2021].groupby('obj_pav')[['grynasis_pelnas']].sum().sort_values(by='grynasis_pelnas', ascending=False).reset_index()[:100]"
   ]
  },
  {
   "cell_type": "code",
   "execution_count": 551,
   "id": "b390f882",
   "metadata": {
    "ExecuteTime": {
     "end_time": "2022-12-08T19:39:28.257602Z",
     "start_time": "2022-12-08T19:39:28.244025Z"
    },
    "scrolled": false
   },
   "outputs": [
    {
     "data": {
      "text/html": [
       "<div>\n",
       "<style scoped>\n",
       "    .dataframe tbody tr th:only-of-type {\n",
       "        vertical-align: middle;\n",
       "    }\n",
       "\n",
       "    .dataframe tbody tr th {\n",
       "        vertical-align: top;\n",
       "    }\n",
       "\n",
       "    .dataframe thead th {\n",
       "        text-align: right;\n",
       "    }\n",
       "</style>\n",
       "<table border=\"1\" class=\"dataframe\">\n",
       "  <thead>\n",
       "    <tr style=\"text-align: right;\">\n",
       "      <th></th>\n",
       "      <th>obj_pav</th>\n",
       "    </tr>\n",
       "  </thead>\n",
       "  <tbody>\n",
       "    <tr>\n",
       "      <th>5</th>\n",
       "      <td>UAB \"ERA Family\"</td>\n",
       "    </tr>\n",
       "    <tr>\n",
       "      <th>6</th>\n",
       "      <td>Technopolis Lietuva UAB</td>\n",
       "    </tr>\n",
       "    <tr>\n",
       "      <th>16</th>\n",
       "      <td>UAB \"Schage Real Estate\"</td>\n",
       "    </tr>\n",
       "    <tr>\n",
       "      <th>18</th>\n",
       "      <td>Uždaroji akcinė bendrovė \"VAKARŲ MEDIENOS GRUPĖ\"</td>\n",
       "    </tr>\n",
       "    <tr>\n",
       "      <th>19</th>\n",
       "      <td>UAB \"Panorama LT\"</td>\n",
       "    </tr>\n",
       "    <tr>\n",
       "      <th>24</th>\n",
       "      <td>Akcinė bendrovė \"Invalda INVL\"</td>\n",
       "    </tr>\n",
       "    <tr>\n",
       "      <th>33</th>\n",
       "      <td>UAB \"Avion Express\"</td>\n",
       "    </tr>\n",
       "    <tr>\n",
       "      <th>36</th>\n",
       "      <td>UAB \"GetJet Airlines\"</td>\n",
       "    </tr>\n",
       "    <tr>\n",
       "      <th>37</th>\n",
       "      <td>UAB \"FELIT\"</td>\n",
       "    </tr>\n",
       "    <tr>\n",
       "      <th>39</th>\n",
       "      <td>UAB \"ME HOLDING NT\"</td>\n",
       "    </tr>\n",
       "    <tr>\n",
       "      <th>40</th>\n",
       "      <td>Uždaroji akcinė bendrovė \"LITESKO\"</td>\n",
       "    </tr>\n",
       "    <tr>\n",
       "      <th>41</th>\n",
       "      <td>AB \"BALTIC SHOPPING CENTERS\"</td>\n",
       "    </tr>\n",
       "    <tr>\n",
       "      <th>43</th>\n",
       "      <td>Valstybės įmonė Lietuvos oro uostai</td>\n",
       "    </tr>\n",
       "    <tr>\n",
       "      <th>45</th>\n",
       "      <td>UAB \"Green Genius\"</td>\n",
       "    </tr>\n",
       "    <tr>\n",
       "      <th>48</th>\n",
       "      <td>UAB \"Sorensen Invest\"</td>\n",
       "    </tr>\n",
       "    <tr>\n",
       "      <th>52</th>\n",
       "      <td>UAB \"VG HOLDING\"</td>\n",
       "    </tr>\n",
       "    <tr>\n",
       "      <th>53</th>\n",
       "      <td>Uždarojo tipo informuotiesiems investuotojams ...</td>\n",
       "    </tr>\n",
       "    <tr>\n",
       "      <th>54</th>\n",
       "      <td>UAB LIVE SQUARE LT</td>\n",
       "    </tr>\n",
       "    <tr>\n",
       "      <th>55</th>\n",
       "      <td>UAB \"Daltonas\"</td>\n",
       "    </tr>\n",
       "    <tr>\n",
       "      <th>56</th>\n",
       "      <td>AB \"Amber Grid\"</td>\n",
       "    </tr>\n",
       "    <tr>\n",
       "      <th>58</th>\n",
       "      <td>Uždarojo tipo informuotiesiems investuotojams ...</td>\n",
       "    </tr>\n",
       "    <tr>\n",
       "      <th>60</th>\n",
       "      <td>UAB \"Inter Krasta\"</td>\n",
       "    </tr>\n",
       "    <tr>\n",
       "      <th>62</th>\n",
       "      <td>UAB \"TELTONIKA IoT GROUP\"</td>\n",
       "    </tr>\n",
       "    <tr>\n",
       "      <th>63</th>\n",
       "      <td>MAXIMA International Sourcing UAB</td>\n",
       "    </tr>\n",
       "    <tr>\n",
       "      <th>66</th>\n",
       "      <td>UAB \"Klaško\"</td>\n",
       "    </tr>\n",
       "    <tr>\n",
       "      <th>67</th>\n",
       "      <td>Specialioji uždarojo tipo nekilnojamojo turto ...</td>\n",
       "    </tr>\n",
       "    <tr>\n",
       "      <th>69</th>\n",
       "      <td>UAB Gren Klaipėda</td>\n",
       "    </tr>\n",
       "    <tr>\n",
       "      <th>70</th>\n",
       "      <td>UAB \"HEKON\"</td>\n",
       "    </tr>\n",
       "    <tr>\n",
       "      <th>71</th>\n",
       "      <td>Silver Screen Holdings UAB</td>\n",
       "    </tr>\n",
       "    <tr>\n",
       "      <th>73</th>\n",
       "      <td>4Wind UAB</td>\n",
       "    </tr>\n",
       "    <tr>\n",
       "      <th>74</th>\n",
       "      <td>UAB \"Vilniaus aidai\"</td>\n",
       "    </tr>\n",
       "    <tr>\n",
       "      <th>78</th>\n",
       "      <td>Uždaroji akcinė bendrovė \"Nemuno vaistinė\"</td>\n",
       "    </tr>\n",
       "    <tr>\n",
       "      <th>79</th>\n",
       "      <td>UAB \"Trust Capital\"</td>\n",
       "    </tr>\n",
       "    <tr>\n",
       "      <th>81</th>\n",
       "      <td>UAB \"SPECTATOR\"</td>\n",
       "    </tr>\n",
       "    <tr>\n",
       "      <th>82</th>\n",
       "      <td>Baltic Champs Group UAB</td>\n",
       "    </tr>\n",
       "    <tr>\n",
       "      <th>83</th>\n",
       "      <td>Atvirojo tipo Informuotiesiems investuotojams ...</td>\n",
       "    </tr>\n",
       "    <tr>\n",
       "      <th>88</th>\n",
       "      <td>MD PARTNERS UAB</td>\n",
       "    </tr>\n",
       "    <tr>\n",
       "      <th>91</th>\n",
       "      <td>UAB \"Pandos\"</td>\n",
       "    </tr>\n",
       "    <tr>\n",
       "      <th>93</th>\n",
       "      <td>UAB \"EBV Finance\"</td>\n",
       "    </tr>\n",
       "    <tr>\n",
       "      <th>94</th>\n",
       "      <td>MG investment UAB</td>\n",
       "    </tr>\n",
       "    <tr>\n",
       "      <th>96</th>\n",
       "      <td>UAB \"K29\"</td>\n",
       "    </tr>\n",
       "    <tr>\n",
       "      <th>98</th>\n",
       "      <td>Uždaroji akcinė bendrovė \"NESTE LIETUVA\"</td>\n",
       "    </tr>\n",
       "    <tr>\n",
       "      <th>99</th>\n",
       "      <td>UAB \"Biosantara\"</td>\n",
       "    </tr>\n",
       "  </tbody>\n",
       "</table>\n",
       "</div>"
      ],
      "text/plain": [
       "                                              obj_pav\n",
       "5                                    UAB \"ERA Family\"\n",
       "6                             Technopolis Lietuva UAB\n",
       "16                           UAB \"Schage Real Estate\"\n",
       "18   Uždaroji akcinė bendrovė \"VAKARŲ MEDIENOS GRUPĖ\"\n",
       "19                                  UAB \"Panorama LT\"\n",
       "24                     Akcinė bendrovė \"Invalda INVL\"\n",
       "33                                UAB \"Avion Express\"\n",
       "36                              UAB \"GetJet Airlines\"\n",
       "37                                        UAB \"FELIT\"\n",
       "39                                UAB \"ME HOLDING NT\"\n",
       "40                 Uždaroji akcinė bendrovė \"LITESKO\"\n",
       "41                       AB \"BALTIC SHOPPING CENTERS\"\n",
       "43                Valstybės įmonė Lietuvos oro uostai\n",
       "45                                 UAB \"Green Genius\"\n",
       "48                              UAB \"Sorensen Invest\"\n",
       "52                                   UAB \"VG HOLDING\"\n",
       "53  Uždarojo tipo informuotiesiems investuotojams ...\n",
       "54                                 UAB LIVE SQUARE LT\n",
       "55                                     UAB \"Daltonas\"\n",
       "56                                    AB \"Amber Grid\"\n",
       "58  Uždarojo tipo informuotiesiems investuotojams ...\n",
       "60                                 UAB \"Inter Krasta\"\n",
       "62                          UAB \"TELTONIKA IoT GROUP\"\n",
       "63                  MAXIMA International Sourcing UAB\n",
       "66                                       UAB \"Klaško\"\n",
       "67  Specialioji uždarojo tipo nekilnojamojo turto ...\n",
       "69                                  UAB Gren Klaipėda\n",
       "70                                        UAB \"HEKON\"\n",
       "71                         Silver Screen Holdings UAB\n",
       "73                                          4Wind UAB\n",
       "74                               UAB \"Vilniaus aidai\"\n",
       "78         Uždaroji akcinė bendrovė \"Nemuno vaistinė\"\n",
       "79                                UAB \"Trust Capital\"\n",
       "81                                    UAB \"SPECTATOR\"\n",
       "82                            Baltic Champs Group UAB\n",
       "83  Atvirojo tipo Informuotiesiems investuotojams ...\n",
       "88                                    MD PARTNERS UAB\n",
       "91                                       UAB \"Pandos\"\n",
       "93                                  UAB \"EBV Finance\"\n",
       "94                                  MG investment UAB\n",
       "96                                          UAB \"K29\"\n",
       "98           Uždaroji akcinė bendrovė \"NESTE LIETUVA\"\n",
       "99                                   UAB \"Biosantara\""
      ]
     },
     "execution_count": 551,
     "metadata": {},
     "output_type": "execute_result"
    }
   ],
   "source": [
    "# Companies that drop out in 2021\n",
    "top20butnot21 = top100gp2020[~top100gp2020.isin(top100gp2021['obj_pav'].tolist())].dropna()\n",
    "top20butnot21[['obj_pav']]"
   ]
  },
  {
   "cell_type": "markdown",
   "id": "89cfb233",
   "metadata": {},
   "source": [
    "# Trečia dalis"
   ]
  },
  {
   "cell_type": "markdown",
   "id": "adc4eef0",
   "metadata": {},
   "source": [
    "## 1. Jums prieinamą finansinę informaciją papildykite"
   ]
  },
  {
   "cell_type": "raw",
   "id": "41b49627",
   "metadata": {},
   "source": [
    "a. darbuotojų skaičiumi (2020, 2021 metais)\n",
    "b. atlyginimų istoriją.\n",
    "c. veiklos sritimi."
   ]
  },
  {
   "cell_type": "code",
   "execution_count": 552,
   "id": "acd5f682",
   "metadata": {
    "ExecuteTime": {
     "end_time": "2022-12-08T19:39:28.272805Z",
     "start_time": "2022-12-08T19:39:28.259601Z"
    },
    "scrolled": false
   },
   "outputs": [],
   "source": [
    "# Column mapper by task\n",
    "cols = pd.read_csv('3_uzduotis_data_sample.csv').columns"
   ]
  },
  {
   "cell_type": "code",
   "execution_count": 553,
   "id": "98ad1852",
   "metadata": {
    "ExecuteTime": {
     "end_time": "2022-12-08T19:39:28.288759Z",
     "start_time": "2022-12-08T19:39:28.273805Z"
    }
   },
   "outputs": [],
   "source": [
    "# Bandymas su apply pasidaryti metų columns, tačiau labai ilgai krovėsi.\n",
    "#def get_2020_nuosavas_kapitalas(obj:int):\n",
    "#    getsum = float(df[(df['obj_kodas'] == obj) & (df['reg_date'].dt.year == 2020)].groupby('obj_kodas')['nuosavas_kapitalas'].sum())\n",
    "#    return getsum"
   ]
  },
  {
   "cell_type": "code",
   "execution_count": 554,
   "id": "326a28cf",
   "metadata": {
    "ExecuteTime": {
     "end_time": "2022-12-08T19:39:28.945754Z",
     "start_time": "2022-12-08T19:39:28.290760Z"
    },
    "scrolled": true
   },
   "outputs": [],
   "source": [
    "# Bruteforce is better than nothing.\n",
    "features = [\n",
    "    df[df['reg_date'].dt.year == 2020].groupby('obj_kodas')[['nuosavas_kapitalas']].sum(\n",
    "    ).rename(columns={'nuosavas_kapitalas': 'nuosavas_kapitalas_20'}).reset_index()\n",
    "    ,df[df['reg_date'].dt.year == 2021].groupby('obj_kodas')[['nuosavas_kapitalas']].sum(\n",
    "    ).rename(columns={'nuosavas_kapitalas': 'nuosavas_kapitalas_21'}).reset_index()\n",
    "    ,df[df['reg_date'].dt.year == 2020].groupby('obj_kodas')[['mok_sumos_ir_isipareigojimai']].sum(\n",
    "    ).rename(columns={'mok_sumos_ir_isipareigojimai': 'mok_sumos_ir_isipareigojimai_20'}).reset_index()\n",
    "    ,df[df['reg_date'].dt.year == 2021].groupby('obj_kodas')[['mok_sumos_ir_isipareigojimai']].sum(\n",
    "    ).rename(columns={'mok_sumos_ir_isipareigojimai': 'mok_sumos_ir_isipareigojimai_21'}).reset_index()\n",
    "    ,df[df['reg_date'].dt.year == 2020].groupby('obj_kodas')[['ilgalaikis_turtas']].sum(\n",
    "    ).rename(columns={'ilgalaikis_turtas': 'ilgalaikis_turtas_20'}).reset_index()\n",
    "    ,df[df['reg_date'].dt.year == 2021].groupby('obj_kodas')[['ilgalaikis_turtas']].sum(\n",
    "    ).rename(columns={'ilgalaikis_turtas': 'ilgalaikis_turtas_21'}).reset_index()\n",
    "    ,df[df['reg_date'].dt.year == 2020].groupby('obj_kodas')[['trumpalaikis_turtas']].sum(\n",
    "    ).rename(columns={'trumpalaikis_turtas': 'trumpalaikis_turtas_20'}).reset_index()\n",
    "    ,df[df['reg_date'].dt.year == 2021].groupby('obj_kodas')[['trumpalaikis_turtas']].sum(\n",
    "    ).rename(columns={'trumpalaikis_turtas': 'trumpalaikis_turtas_21'}).reset_index()\n",
    "    ,df[df['reg_date'].dt.year == 2020].groupby('obj_kodas')[['pardavimo_pajamos']].sum(\n",
    "    ).rename(columns={'pardavimo_pajamos': 'pardavimo_pajamos_20'}).reset_index()\n",
    "    ,df[df['reg_date'].dt.year == 2021].groupby('obj_kodas')[['pardavimo_pajamos']].sum(\n",
    "    ).rename(columns={'pardavimo_pajamos': 'pardavimo_pajamos_21'}).reset_index()\n",
    "    ,df[df['reg_date'].dt.year == 2020].groupby('obj_kodas')[['grynasis_pelnas']].sum(\n",
    "    ).rename(columns={'grynasis_pelnas': 'grynasis_pelnas_20'}).reset_index()\n",
    "    ,df[df['reg_date'].dt.year == 2021].groupby('obj_kodas')[['grynasis_pelnas']].sum(\n",
    "    ).rename(columns={'grynasis_pelnas': 'grynasis_pelnas_21'}).reset_index()\n",
    "]"
   ]
  },
  {
   "cell_type": "code",
   "execution_count": 555,
   "id": "b683ee00",
   "metadata": {
    "ExecuteTime": {
     "end_time": "2022-12-08T19:39:30.321550Z",
     "start_time": "2022-12-08T19:39:28.947773Z"
    },
    "scrolled": false
   },
   "outputs": [],
   "source": [
    "# Merging original df with subdataframes\n",
    "for feat in features:\n",
    "    df = pd.merge(df,feat,on='obj_kodas',how='left')"
   ]
  },
  {
   "cell_type": "code",
   "execution_count": 556,
   "id": "dbc073cd",
   "metadata": {
    "ExecuteTime": {
     "end_time": "2022-12-08T19:39:30.336554Z",
     "start_time": "2022-12-08T19:39:30.322550Z"
    },
    "scrolled": false
   },
   "outputs": [],
   "source": [
    "# Neleidžia nuskaityti iš interneto, HTTP request 403\n",
    "#pd.read_csv('https://atvira.sodra.lt/imones/downloads/2018/monthly-2018.csv.zip', compression='zip')"
   ]
  },
  {
   "cell_type": "markdown",
   "id": "eda7db15",
   "metadata": {},
   "source": [
    "Atsiunčiami 2020 metų duomenys."
   ]
  },
  {
   "cell_type": "raw",
   "id": "df425723",
   "metadata": {},
   "source": [
    "https://atvira.sodra.lt/imones/rinkiniai/index.html\n",
    "atsisiunčiami failai:\n",
    "    monthly-2020.csv\n",
    "    monthly-2021.csv"
   ]
  },
  {
   "cell_type": "code",
   "execution_count": 557,
   "id": "dfbfe709",
   "metadata": {
    "ExecuteTime": {
     "end_time": "2022-12-08T19:39:30.430042Z",
     "start_time": "2022-12-08T19:39:30.338554Z"
    }
   },
   "outputs": [],
   "source": [
    "# Copying dataframe in case of breaking.\n",
    "sod = df.copy()"
   ]
  },
  {
   "cell_type": "code",
   "execution_count": 558,
   "id": "fff39539",
   "metadata": {
    "ExecuteTime": {
     "end_time": "2022-12-08T19:39:30.445047Z",
     "start_time": "2022-12-08T19:39:30.431042Z"
    }
   },
   "outputs": [],
   "source": [
    "# Remapping verbose feature names into more concise.\n",
    "sod_map = {\n",
    "    'Draudėjo kodas (code)':'code',\n",
    "    'Juridinių asmenų registro kodas (jarCode)':'obj_kodas',\n",
    "    'Pavadinimas (name)':'name',\n",
    "    'Savivaldybė, kurioje registruota(municipality)':'savivaldybe',\n",
    "    'Ekonominės veiklos rūšies kodas(ecoActCode)':'veiklos_kodas',\n",
    "    'Ekonominės veiklos rūšies pavadinimas(ecoActName)':'veiklos_aprasymas',\n",
    "    'Mėnuo (month)':'date',\n",
    "    'Vidutinis darbo užmokestis (avgWage)':'avgWage',\n",
    "    'Apdraustųjų skaičius (numInsured)':'employee_count',\n",
    "    'Vidutinis darbo užmokestis II (avgWage2)':'avgWage2',\n",
    "    'Apdraustųjų skaičius II (numInsured2)':'employee_count2',\n",
    "    'Valstybinio socialinio draudimo įmoka (tax)':'tax'\n",
    "}"
   ]
  },
  {
   "cell_type": "code",
   "execution_count": 559,
   "id": "e00459af",
   "metadata": {
    "ExecuteTime": {
     "end_time": "2022-12-08T19:39:34.132255Z",
     "start_time": "2022-12-08T19:39:30.447048Z"
    }
   },
   "outputs": [],
   "source": [
    "# Setting DataFrames \n",
    "sod20 = pd.read_csv('monthly-2020.csv', sep=';')\n",
    "sod21 = pd.read_csv('monthly-2021.csv', sep=';')"
   ]
  },
  {
   "cell_type": "code",
   "execution_count": 560,
   "id": "a960a2fd",
   "metadata": {
    "ExecuteTime": {
     "end_time": "2022-12-08T19:39:34.147260Z",
     "start_time": "2022-12-08T19:39:34.133256Z"
    },
    "scrolled": true
   },
   "outputs": [],
   "source": [
    "# Remapping dataframes\n",
    "sod20.rename(sod_map, axis=1, inplace=True)\n",
    "sod21.rename(sod_map, axis=1, inplace=True)"
   ]
  },
  {
   "cell_type": "code",
   "execution_count": 561,
   "id": "37d00266",
   "metadata": {
    "ExecuteTime": {
     "end_time": "2022-12-08T19:39:34.399339Z",
     "start_time": "2022-12-08T19:39:34.149261Z"
    }
   },
   "outputs": [],
   "source": [
    "# Filtering data that does not contain obj_kodas since its the unique key that i will join data on. \n",
    "sod20 = sod20[sod20['obj_kodas'].notna()]\n",
    "sod21 = sod21[sod21['obj_kodas'].notna()]"
   ]
  },
  {
   "cell_type": "code",
   "execution_count": 562,
   "id": "64bc360f",
   "metadata": {
    "ExecuteTime": {
     "end_time": "2022-12-08T19:39:34.414343Z",
     "start_time": "2022-12-08T19:39:34.401340Z"
    }
   },
   "outputs": [],
   "source": [
    "# Ugly way to parse data, but it's what worked.\n",
    "def to_dt(x):\n",
    "    s = str(x)\n",
    "    date = pd.to_datetime(s[:4] + '-' + s[-2:])\n",
    "    return date"
   ]
  },
  {
   "cell_type": "code",
   "execution_count": 563,
   "id": "be5fb4f7",
   "metadata": {
    "ExecuteTime": {
     "end_time": "2022-12-08T19:41:39.486305Z",
     "start_time": "2022-12-08T19:39:34.415344Z"
    }
   },
   "outputs": [],
   "source": [
    "# Applying dt parsing.\n",
    "sod20['date'] = sod20['date'].apply(to_dt)\n",
    "sod21['date'] = sod21['date'].apply(to_dt)"
   ]
  },
  {
   "cell_type": "code",
   "execution_count": 564,
   "id": "9ef26042",
   "metadata": {
    "ExecuteTime": {
     "end_time": "2022-12-08T19:41:40.069701Z",
     "start_time": "2022-12-08T19:41:39.487306Z"
    }
   },
   "outputs": [],
   "source": [
    "# Employees\n",
    "emp20 = sod20[sod20['date'].dt.month == 12].groupby(\n",
    "    'obj_kodas')[['employee_count']].sum().reset_index().rename(columns={'employee_count': 'darbuotoju_skaicius_20'})\n",
    "emp21 = sod21[sod21['date'].dt.month == 12].groupby(\n",
    "    'obj_kodas')[['employee_count']].sum().reset_index().rename(columns={'employee_count': 'darbuotoju_skaicius_21'})\n",
    "# Average wages\n",
    "avg20 = sod20.groupby('obj_kodas')[['avgWage']].mean().reset_index().rename(\n",
    "    columns={'avgWage': 'vid_atlyginimas_20'})\n",
    "avg21 = sod21.groupby('obj_kodas')[['avgWage']].mean().reset_index().rename(\n",
    "    columns={'avgWage': 'vid_atlyginimas_21'})\n",
    "# information\n",
    "info = sod21[['obj_kodas', 'savivaldybe', 'veiklos_kodas',\n",
    "              'veiklos_aprasymas']].drop_duplicates()\n",
    "\n",
    "features2 = [emp20, emp21, avg20, avg21, info]"
   ]
  },
  {
   "cell_type": "code",
   "execution_count": 565,
   "id": "874df8e6",
   "metadata": {
    "ExecuteTime": {
     "end_time": "2022-12-08T19:41:41.105206Z",
     "start_time": "2022-12-08T19:41:40.070702Z"
    }
   },
   "outputs": [],
   "source": [
    "for feat in features2:\n",
    "    sod = pd.merge(sod,feat,on='obj_kodas',how='left')"
   ]
  },
  {
   "cell_type": "code",
   "execution_count": 566,
   "id": "89b161d4",
   "metadata": {
    "ExecuteTime": {
     "end_time": "2022-12-08T19:41:41.211954Z",
     "start_time": "2022-12-08T19:41:41.107207Z"
    }
   },
   "outputs": [],
   "source": [
    "sod = sod[cols]"
   ]
  },
  {
   "cell_type": "markdown",
   "id": "0bd52d81",
   "metadata": {
    "ExecuteTime": {
     "end_time": "2022-12-08T17:42:25.004804Z",
     "start_time": "2022-12-08T17:42:24.993802Z"
    }
   },
   "source": [
    "## 2. Galutinis duomenų masyvas turi atrodyti kaip 3_uzduotis_data_sample.csv."
   ]
  },
  {
   "cell_type": "code",
   "execution_count": 567,
   "id": "d0b08596",
   "metadata": {
    "ExecuteTime": {
     "end_time": "2022-12-08T19:41:41.243160Z",
     "start_time": "2022-12-08T19:41:41.213954Z"
    }
   },
   "outputs": [
    {
     "data": {
      "text/html": [
       "<div>\n",
       "<style scoped>\n",
       "    .dataframe tbody tr th:only-of-type {\n",
       "        vertical-align: middle;\n",
       "    }\n",
       "\n",
       "    .dataframe tbody tr th {\n",
       "        vertical-align: top;\n",
       "    }\n",
       "\n",
       "    .dataframe thead th {\n",
       "        text-align: right;\n",
       "    }\n",
       "</style>\n",
       "<table border=\"1\" class=\"dataframe\">\n",
       "  <thead>\n",
       "    <tr style=\"text-align: right;\">\n",
       "      <th></th>\n",
       "      <th>obj_kodas</th>\n",
       "      <th>obj_pav</th>\n",
       "      <th>form_pav</th>\n",
       "      <th>veiklos_kodas</th>\n",
       "      <th>veiklos_aprasymas</th>\n",
       "      <th>savivaldybe</th>\n",
       "      <th>nuosavas_kapitalas_20</th>\n",
       "      <th>mok_sumos_ir_isipareigojimai_20</th>\n",
       "      <th>ilgalaikis_turtas_20</th>\n",
       "      <th>trumpalaikis_turtas_20</th>\n",
       "      <th>...</th>\n",
       "      <th>vid_atlyginimas_20</th>\n",
       "      <th>darbuotoju_skaicius_20</th>\n",
       "      <th>nuosavas_kapitalas_21</th>\n",
       "      <th>mok_sumos_ir_isipareigojimai_21</th>\n",
       "      <th>ilgalaikis_turtas_21</th>\n",
       "      <th>trumpalaikis_turtas_21</th>\n",
       "      <th>pardavimo_pajamos_21</th>\n",
       "      <th>grynasis_pelnas_21</th>\n",
       "      <th>vid_atlyginimas_21</th>\n",
       "      <th>darbuotoju_skaicius_21</th>\n",
       "    </tr>\n",
       "  </thead>\n",
       "  <tbody>\n",
       "    <tr>\n",
       "      <th>0</th>\n",
       "      <td>305217929</td>\n",
       "      <td>MB \"Jantaris\"</td>\n",
       "      <td>Mažoji bendrija</td>\n",
       "      <td>NaN</td>\n",
       "      <td>NaN</td>\n",
       "      <td>NaN</td>\n",
       "      <td>1610.0</td>\n",
       "      <td>0.0</td>\n",
       "      <td>0.0</td>\n",
       "      <td>1684.0</td>\n",
       "      <td>...</td>\n",
       "      <td>NaN</td>\n",
       "      <td>NaN</td>\n",
       "      <td>1909.0</td>\n",
       "      <td>0.0</td>\n",
       "      <td>0.0</td>\n",
       "      <td>1925.0</td>\n",
       "      <td>1903.0</td>\n",
       "      <td>299.0</td>\n",
       "      <td>NaN</td>\n",
       "      <td>NaN</td>\n",
       "    </tr>\n",
       "    <tr>\n",
       "      <th>1</th>\n",
       "      <td>304127368</td>\n",
       "      <td>Alytaus neformaliojo švietimo centras \"Toleran...</td>\n",
       "      <td>Asociacija</td>\n",
       "      <td>855200.0</td>\n",
       "      <td>Kultūrinis švietimas</td>\n",
       "      <td>Alytaus r. sav.</td>\n",
       "      <td>243.0</td>\n",
       "      <td>0.0</td>\n",
       "      <td>0.0</td>\n",
       "      <td>243.0</td>\n",
       "      <td>...</td>\n",
       "      <td>NaN</td>\n",
       "      <td>1.0</td>\n",
       "      <td>0.0</td>\n",
       "      <td>0.0</td>\n",
       "      <td>0.0</td>\n",
       "      <td>431.0</td>\n",
       "      <td>0.0</td>\n",
       "      <td>0.0</td>\n",
       "      <td>NaN</td>\n",
       "      <td>1.0</td>\n",
       "    </tr>\n",
       "  </tbody>\n",
       "</table>\n",
       "<p>2 rows × 22 columns</p>\n",
       "</div>"
      ],
      "text/plain": [
       "   obj_kodas                                            obj_pav  \\\n",
       "0  305217929                                      MB \"Jantaris\"   \n",
       "1  304127368  Alytaus neformaliojo švietimo centras \"Toleran...   \n",
       "\n",
       "          form_pav  veiklos_kodas     veiklos_aprasymas      savivaldybe  \\\n",
       "0  Mažoji bendrija            NaN                   NaN              NaN   \n",
       "1       Asociacija       855200.0  Kultūrinis švietimas  Alytaus r. sav.   \n",
       "\n",
       "   nuosavas_kapitalas_20  mok_sumos_ir_isipareigojimai_20  \\\n",
       "0                 1610.0                              0.0   \n",
       "1                  243.0                              0.0   \n",
       "\n",
       "   ilgalaikis_turtas_20  trumpalaikis_turtas_20  ...  vid_atlyginimas_20  \\\n",
       "0                   0.0                  1684.0  ...                 NaN   \n",
       "1                   0.0                   243.0  ...                 NaN   \n",
       "\n",
       "   darbuotoju_skaicius_20  nuosavas_kapitalas_21  \\\n",
       "0                     NaN                 1909.0   \n",
       "1                     1.0                    0.0   \n",
       "\n",
       "   mok_sumos_ir_isipareigojimai_21  ilgalaikis_turtas_21  \\\n",
       "0                              0.0                   0.0   \n",
       "1                              0.0                   0.0   \n",
       "\n",
       "   trumpalaikis_turtas_21  pardavimo_pajamos_21  grynasis_pelnas_21  \\\n",
       "0                  1925.0                1903.0               299.0   \n",
       "1                   431.0                   0.0                 0.0   \n",
       "\n",
       "   vid_atlyginimas_21  darbuotoju_skaicius_21  \n",
       "0                 NaN                     NaN  \n",
       "1                 NaN                     1.0  \n",
       "\n",
       "[2 rows x 22 columns]"
      ]
     },
     "execution_count": 567,
     "metadata": {},
     "output_type": "execute_result"
    }
   ],
   "source": [
    "sod.head(2)"
   ]
  },
  {
   "cell_type": "markdown",
   "id": "e049d3d9",
   "metadata": {},
   "source": [
    "## Užduotys"
   ]
  },
  {
   "cell_type": "markdown",
   "id": "c14704a5",
   "metadata": {},
   "source": [
    "### 1. Išsiaiškinkite micro ir mažos įmonės apibrėžimą."
   ]
  },
  {
   "cell_type": "raw",
   "id": "c303e586",
   "metadata": {},
   "source": [
    "Maža įmonė – įmonė, kurioje dirba mažiau kaip 50 darbuotojų ir kurios finansiniai duomenys atitinka bent vieną iš šių sąlygų:\n",
    "    įmonės metinės pajamos neviršija 10 mln. eurų;\n",
    "\n",
    "Labai maža įmonė (mikro) – įmonė, kurioje dirba mažiau kaip 10 darbuotojų ir kurios finansiniai duomenys atitinka bent vieną iš šių sąlygų:\n",
    "    įmonės metinės pajamos neviršija 2 mln. eurų;\n",
    "    įmonės balanse nurodyto turto vertė neviršija 2 mln. eurų."
   ]
  },
  {
   "cell_type": "markdown",
   "id": "3aaefb55",
   "metadata": {},
   "source": [
    "### 2. Remdamiesi apibrėžimu išfiltruokite micro ir mažas įmones. Įmonės turi turėti statusą MB arba UAB."
   ]
  },
  {
   "cell_type": "code",
   "execution_count": 568,
   "id": "aa0fe55c",
   "metadata": {
    "ExecuteTime": {
     "end_time": "2022-12-08T19:41:41.274651Z",
     "start_time": "2022-12-08T19:41:41.244874Z"
    },
    "scrolled": false
   },
   "outputs": [],
   "source": [
    "sodf = sod[(\n",
    "    sod['form_pav'].isin(['Uždaroji akcinė bendrovė', ' Mažoji bendrija'])) &\n",
    "    (sod['pardavimo_pajamos_21'] < 10_000_000) & # Filtras skirtas Mažoms ir mikro įmonėms.\n",
    "    (sod['pardavimo_pajamos_21'] > 10_000) & # Aktualios įmonės kurios turi bent 10k pajamų.\n",
    "    (sod['pardavimo_pajamos_20'] > 10_000) & # Nufiltruojame mažo pelno įmones iš praitų metų kad negadintu 21 metų augimo.\n",
    "    (sod['vid_atlyginimas_20'] > 642) & # Išfiltruojamos įmonės mokėjusios mažesnį nei minimalų atlygį.\n",
    "    (sod['vid_atlyginimas_21'] < 10_000) & # Keletas įmonių turėjo net 30k atlyginimus 12mėn. Išfiltruojami bonusai.\n",
    "    (sod['darbuotoju_skaicius_21'] < 50) # Filtras skirtas Mažoms ir mikro įmonėms.\n",
    "].copy()"
   ]
  },
  {
   "cell_type": "markdown",
   "id": "102d9dd4",
   "metadata": {},
   "source": [
    "### 3. Indentifikuokite labiausiai augusias įmones."
   ]
  },
  {
   "cell_type": "code",
   "execution_count": 569,
   "id": "d0713378",
   "metadata": {
    "ExecuteTime": {
     "end_time": "2022-12-08T19:41:41.289911Z",
     "start_time": "2022-12-08T19:41:41.277156Z"
    }
   },
   "outputs": [],
   "source": [
    "sodf['pardavimo_augimas_21'] = (sodf['pardavimo_pajamos_21'] - sodf['pardavimo_pajamos_20']) / sodf['pardavimo_pajamos_20'] * 100"
   ]
  },
  {
   "cell_type": "code",
   "execution_count": 570,
   "id": "a3040ffa",
   "metadata": {
    "ExecuteTime": {
     "end_time": "2022-12-08T19:41:41.305860Z",
     "start_time": "2022-12-08T19:41:41.291911Z"
    }
   },
   "outputs": [],
   "source": [
    "sodf['darbuotoju_augimas_21'] = (sodf['darbuotoju_skaicius_21'] - sodf['darbuotoju_skaicius_20']) / sodf['darbuotoju_skaicius_20'] * 100"
   ]
  },
  {
   "cell_type": "code",
   "execution_count": 571,
   "id": "18214186",
   "metadata": {
    "ExecuteTime": {
     "end_time": "2022-12-08T19:41:41.320597Z",
     "start_time": "2022-12-08T19:41:41.307861Z"
    }
   },
   "outputs": [],
   "source": [
    "sodf['vid_atlyginimas_augimas_21'] = (sodf['vid_atlyginimas_21'] - sodf['vid_atlyginimas_20']) / sodf['vid_atlyginimas_20'] * 100"
   ]
  },
  {
   "cell_type": "code",
   "execution_count": 572,
   "id": "1b557ed2",
   "metadata": {
    "ExecuteTime": {
     "end_time": "2022-12-08T19:41:41.366555Z",
     "start_time": "2022-12-08T19:41:41.322597Z"
    }
   },
   "outputs": [],
   "source": [
    "top100sales =  sodf[['obj_pav','pardavimo_augimas_21']].replace(np.inf,0).sort_values(by = 'pardavimo_augimas_21', ascending=False).drop_duplicates().round()[:100]"
   ]
  },
  {
   "cell_type": "code",
   "execution_count": 573,
   "id": "208a9972",
   "metadata": {
    "ExecuteTime": {
     "end_time": "2022-12-08T19:41:41.412265Z",
     "start_time": "2022-12-08T19:41:41.368556Z"
    },
    "scrolled": false
   },
   "outputs": [],
   "source": [
    "top100emps =  sodf[['obj_pav','darbuotoju_augimas_21']].replace(np.inf,0).sort_values(by = 'darbuotoju_augimas_21', ascending=False).drop_duplicates().round()[:100]"
   ]
  },
  {
   "cell_type": "code",
   "execution_count": 574,
   "id": "69999008",
   "metadata": {
    "ExecuteTime": {
     "end_time": "2022-12-08T19:41:41.458458Z",
     "start_time": "2022-12-08T19:41:41.414783Z"
    }
   },
   "outputs": [],
   "source": [
    "top100wgs =  sodf[['obj_pav','vid_atlyginimas_augimas_21']].replace(np.inf,0).sort_values(by = 'vid_atlyginimas_augimas_21', ascending=False).drop_duplicates().round()[:100]"
   ]
  },
  {
   "cell_type": "code",
   "execution_count": 575,
   "id": "ec3f1a6a",
   "metadata": {
    "ExecuteTime": {
     "end_time": "2022-12-08T19:41:41.490466Z",
     "start_time": "2022-12-08T19:41:41.460459Z"
    },
    "scrolled": false
   },
   "outputs": [
    {
     "data": {
      "text/html": [
       "<div>\n",
       "<style scoped>\n",
       "    .dataframe tbody tr th:only-of-type {\n",
       "        vertical-align: middle;\n",
       "    }\n",
       "\n",
       "    .dataframe tbody tr th {\n",
       "        vertical-align: top;\n",
       "    }\n",
       "\n",
       "    .dataframe thead th {\n",
       "        text-align: right;\n",
       "    }\n",
       "</style>\n",
       "<table border=\"1\" class=\"dataframe\">\n",
       "  <thead>\n",
       "    <tr style=\"text-align: right;\">\n",
       "      <th></th>\n",
       "      <th>obj_pav</th>\n",
       "      <th>pardavimo_augimas_21</th>\n",
       "      <th>vid_atlyginimas_augimas_21</th>\n",
       "      <th>darbuotoju_augimas_21</th>\n",
       "    </tr>\n",
       "  </thead>\n",
       "  <tbody>\n",
       "    <tr>\n",
       "      <th>0</th>\n",
       "      <td>UAB \"Gedimino 22 turtas\"</td>\n",
       "      <td>18302.0</td>\n",
       "      <td>NaN</td>\n",
       "      <td>NaN</td>\n",
       "    </tr>\n",
       "    <tr>\n",
       "      <th>1</th>\n",
       "      <td>UAB \"Eigera\"</td>\n",
       "      <td>14115.0</td>\n",
       "      <td>NaN</td>\n",
       "      <td>NaN</td>\n",
       "    </tr>\n",
       "    <tr>\n",
       "      <th>2</th>\n",
       "      <td>UAB Beleza Medica</td>\n",
       "      <td>11113.0</td>\n",
       "      <td>95.0</td>\n",
       "      <td>NaN</td>\n",
       "    </tr>\n",
       "    <tr>\n",
       "      <th>3</th>\n",
       "      <td>UAB \"Plasteks\"</td>\n",
       "      <td>6645.0</td>\n",
       "      <td>NaN</td>\n",
       "      <td>NaN</td>\n",
       "    </tr>\n",
       "    <tr>\n",
       "      <th>4</th>\n",
       "      <td>UAB \"Statybos investicijų valdymas\"</td>\n",
       "      <td>5637.0</td>\n",
       "      <td>NaN</td>\n",
       "      <td>NaN</td>\n",
       "    </tr>\n",
       "    <tr>\n",
       "      <th>5</th>\n",
       "      <td>UAB \"Freidesk\"</td>\n",
       "      <td>5533.0</td>\n",
       "      <td>NaN</td>\n",
       "      <td>NaN</td>\n",
       "    </tr>\n",
       "    <tr>\n",
       "      <th>6</th>\n",
       "      <td>UAB 2 AK</td>\n",
       "      <td>5154.0</td>\n",
       "      <td>119.0</td>\n",
       "      <td>NaN</td>\n",
       "    </tr>\n",
       "    <tr>\n",
       "      <th>7</th>\n",
       "      <td>VEESLA UAB</td>\n",
       "      <td>3973.0</td>\n",
       "      <td>NaN</td>\n",
       "      <td>NaN</td>\n",
       "    </tr>\n",
       "    <tr>\n",
       "      <th>8</th>\n",
       "      <td>UAB \"JV ALU\"</td>\n",
       "      <td>3434.0</td>\n",
       "      <td>NaN</td>\n",
       "      <td>NaN</td>\n",
       "    </tr>\n",
       "    <tr>\n",
       "      <th>9</th>\n",
       "      <td>UAB \"Top grupė\"</td>\n",
       "      <td>3420.0</td>\n",
       "      <td>NaN</td>\n",
       "      <td>NaN</td>\n",
       "    </tr>\n",
       "    <tr>\n",
       "      <th>10</th>\n",
       "      <td>UAB Never Naked</td>\n",
       "      <td>3295.0</td>\n",
       "      <td>NaN</td>\n",
       "      <td>NaN</td>\n",
       "    </tr>\n",
       "    <tr>\n",
       "      <th>11</th>\n",
       "      <td>UAB ELYON LT</td>\n",
       "      <td>3082.0</td>\n",
       "      <td>NaN</td>\n",
       "      <td>NaN</td>\n",
       "    </tr>\n",
       "    <tr>\n",
       "      <th>12</th>\n",
       "      <td>UAB \"Smagus\"</td>\n",
       "      <td>2901.0</td>\n",
       "      <td>NaN</td>\n",
       "      <td>NaN</td>\n",
       "    </tr>\n",
       "    <tr>\n",
       "      <th>13</th>\n",
       "      <td>UAB \"Via Solis Energia\"</td>\n",
       "      <td>2861.0</td>\n",
       "      <td>91.0</td>\n",
       "      <td>NaN</td>\n",
       "    </tr>\n",
       "    <tr>\n",
       "      <th>14</th>\n",
       "      <td>UAB \"SPARAS\"</td>\n",
       "      <td>2655.0</td>\n",
       "      <td>NaN</td>\n",
       "      <td>NaN</td>\n",
       "    </tr>\n",
       "    <tr>\n",
       "      <th>15</th>\n",
       "      <td>UAB \"Marine sign\"</td>\n",
       "      <td>2581.0</td>\n",
       "      <td>NaN</td>\n",
       "      <td>NaN</td>\n",
       "    </tr>\n",
       "    <tr>\n",
       "      <th>16</th>\n",
       "      <td>\"Supras\" UAB</td>\n",
       "      <td>2573.0</td>\n",
       "      <td>NaN</td>\n",
       "      <td>NaN</td>\n",
       "    </tr>\n",
       "    <tr>\n",
       "      <th>17</th>\n",
       "      <td>UAB BL Tech</td>\n",
       "      <td>2566.0</td>\n",
       "      <td>NaN</td>\n",
       "      <td>NaN</td>\n",
       "    </tr>\n",
       "    <tr>\n",
       "      <th>18</th>\n",
       "      <td>UAB RoyaltyRange Europe</td>\n",
       "      <td>2494.0</td>\n",
       "      <td>NaN</td>\n",
       "      <td>NaN</td>\n",
       "    </tr>\n",
       "    <tr>\n",
       "      <th>19</th>\n",
       "      <td>TeraSky Baltic UAB</td>\n",
       "      <td>2432.0</td>\n",
       "      <td>NaN</td>\n",
       "      <td>NaN</td>\n",
       "    </tr>\n",
       "    <tr>\n",
       "      <th>20</th>\n",
       "      <td>UAB \"Transdomas\"</td>\n",
       "      <td>2377.0</td>\n",
       "      <td>NaN</td>\n",
       "      <td>NaN</td>\n",
       "    </tr>\n",
       "    <tr>\n",
       "      <th>21</th>\n",
       "      <td>UAB \"Stogų dangos iš Europos\"</td>\n",
       "      <td>2377.0</td>\n",
       "      <td>NaN</td>\n",
       "      <td>NaN</td>\n",
       "    </tr>\n",
       "    <tr>\n",
       "      <th>22</th>\n",
       "      <td>UAB \"Žalias turtas\"</td>\n",
       "      <td>2250.0</td>\n",
       "      <td>NaN</td>\n",
       "      <td>NaN</td>\n",
       "    </tr>\n",
       "    <tr>\n",
       "      <th>23</th>\n",
       "      <td>UAB \"Confido\"</td>\n",
       "      <td>2162.0</td>\n",
       "      <td>126.0</td>\n",
       "      <td>NaN</td>\n",
       "    </tr>\n",
       "    <tr>\n",
       "      <th>24</th>\n",
       "      <td>Uždaroji akcinė bendrovė \"Unispektras\"</td>\n",
       "      <td>2133.0</td>\n",
       "      <td>NaN</td>\n",
       "      <td>NaN</td>\n",
       "    </tr>\n",
       "    <tr>\n",
       "      <th>25</th>\n",
       "      <td>UAB \"Autobus.lt\"</td>\n",
       "      <td>2094.0</td>\n",
       "      <td>NaN</td>\n",
       "      <td>NaN</td>\n",
       "    </tr>\n",
       "    <tr>\n",
       "      <th>26</th>\n",
       "      <td>UAB \"Rigestra\"</td>\n",
       "      <td>2090.0</td>\n",
       "      <td>NaN</td>\n",
       "      <td>NaN</td>\n",
       "    </tr>\n",
       "    <tr>\n",
       "      <th>27</th>\n",
       "      <td>UAB \"Vilniaus Doleta\"</td>\n",
       "      <td>2027.0</td>\n",
       "      <td>NaN</td>\n",
       "      <td>NaN</td>\n",
       "    </tr>\n",
       "    <tr>\n",
       "      <th>28</th>\n",
       "      <td>UAB \"Personalas 24\"</td>\n",
       "      <td>1987.0</td>\n",
       "      <td>NaN</td>\n",
       "      <td>NaN</td>\n",
       "    </tr>\n",
       "    <tr>\n",
       "      <th>29</th>\n",
       "      <td>UAB \"Compertus\"</td>\n",
       "      <td>1985.0</td>\n",
       "      <td>NaN</td>\n",
       "      <td>NaN</td>\n",
       "    </tr>\n",
       "    <tr>\n",
       "      <th>30</th>\n",
       "      <td>UAB Addeco</td>\n",
       "      <td>1905.0</td>\n",
       "      <td>NaN</td>\n",
       "      <td>NaN</td>\n",
       "    </tr>\n",
       "    <tr>\n",
       "      <th>31</th>\n",
       "      <td>UAB \"Ramislana\"</td>\n",
       "      <td>1799.0</td>\n",
       "      <td>NaN</td>\n",
       "      <td>NaN</td>\n",
       "    </tr>\n",
       "    <tr>\n",
       "      <th>32</th>\n",
       "      <td>UAB \"SP Construction\"</td>\n",
       "      <td>1745.0</td>\n",
       "      <td>NaN</td>\n",
       "      <td>NaN</td>\n",
       "    </tr>\n",
       "    <tr>\n",
       "      <th>33</th>\n",
       "      <td>HAS Business Intelligence UAB</td>\n",
       "      <td>1713.0</td>\n",
       "      <td>NaN</td>\n",
       "      <td>NaN</td>\n",
       "    </tr>\n",
       "    <tr>\n",
       "      <th>34</th>\n",
       "      <td>UAB \"A plius linija\"</td>\n",
       "      <td>1712.0</td>\n",
       "      <td>NaN</td>\n",
       "      <td>NaN</td>\n",
       "    </tr>\n",
       "    <tr>\n",
       "      <th>35</th>\n",
       "      <td>UAB \"Vitrum balticum\"</td>\n",
       "      <td>1701.0</td>\n",
       "      <td>NaN</td>\n",
       "      <td>NaN</td>\n",
       "    </tr>\n",
       "    <tr>\n",
       "      <th>36</th>\n",
       "      <td>UAB \"Osvilija\"</td>\n",
       "      <td>1688.0</td>\n",
       "      <td>NaN</td>\n",
       "      <td>200.0</td>\n",
       "    </tr>\n",
       "    <tr>\n",
       "      <th>37</th>\n",
       "      <td>UAB \"Baltic AgroPro\"</td>\n",
       "      <td>1678.0</td>\n",
       "      <td>NaN</td>\n",
       "      <td>NaN</td>\n",
       "    </tr>\n",
       "    <tr>\n",
       "      <th>38</th>\n",
       "      <td>UAB servisas \"Domus\"</td>\n",
       "      <td>1676.0</td>\n",
       "      <td>NaN</td>\n",
       "      <td>NaN</td>\n",
       "    </tr>\n",
       "    <tr>\n",
       "      <th>39</th>\n",
       "      <td>UAB ERCO Technologies</td>\n",
       "      <td>1658.0</td>\n",
       "      <td>NaN</td>\n",
       "      <td>NaN</td>\n",
       "    </tr>\n",
       "    <tr>\n",
       "      <th>40</th>\n",
       "      <td>UAB \"Litmita\"</td>\n",
       "      <td>1617.0</td>\n",
       "      <td>NaN</td>\n",
       "      <td>NaN</td>\n",
       "    </tr>\n",
       "    <tr>\n",
       "      <th>41</th>\n",
       "      <td>CAST AI Baltic UAB</td>\n",
       "      <td>1593.0</td>\n",
       "      <td>NaN</td>\n",
       "      <td>NaN</td>\n",
       "    </tr>\n",
       "    <tr>\n",
       "      <th>42</th>\n",
       "      <td>UAB ALTIMUS</td>\n",
       "      <td>1568.0</td>\n",
       "      <td>NaN</td>\n",
       "      <td>NaN</td>\n",
       "    </tr>\n",
       "    <tr>\n",
       "      <th>43</th>\n",
       "      <td>UAB \"DoiT Power\"</td>\n",
       "      <td>1559.0</td>\n",
       "      <td>NaN</td>\n",
       "      <td>NaN</td>\n",
       "    </tr>\n",
       "    <tr>\n",
       "      <th>44</th>\n",
       "      <td>UAB \"Robidena\"</td>\n",
       "      <td>1558.0</td>\n",
       "      <td>NaN</td>\n",
       "      <td>NaN</td>\n",
       "    </tr>\n",
       "    <tr>\n",
       "      <th>45</th>\n",
       "      <td>UAB GDR invest</td>\n",
       "      <td>1537.0</td>\n",
       "      <td>NaN</td>\n",
       "      <td>NaN</td>\n",
       "    </tr>\n",
       "    <tr>\n",
       "      <th>46</th>\n",
       "      <td>UAB \"PLANET GROUP\"</td>\n",
       "      <td>1532.0</td>\n",
       "      <td>NaN</td>\n",
       "      <td>NaN</td>\n",
       "    </tr>\n",
       "    <tr>\n",
       "      <th>47</th>\n",
       "      <td>UAB \"Ortopedijos paslaugos\"</td>\n",
       "      <td>1499.0</td>\n",
       "      <td>NaN</td>\n",
       "      <td>NaN</td>\n",
       "    </tr>\n",
       "    <tr>\n",
       "      <th>48</th>\n",
       "      <td>Angvik Auto Logistics UAB</td>\n",
       "      <td>1478.0</td>\n",
       "      <td>NaN</td>\n",
       "      <td>NaN</td>\n",
       "    </tr>\n",
       "    <tr>\n",
       "      <th>49</th>\n",
       "      <td>UAB \"ENERGUS GROUP\"</td>\n",
       "      <td>1449.0</td>\n",
       "      <td>NaN</td>\n",
       "      <td>NaN</td>\n",
       "    </tr>\n",
       "    <tr>\n",
       "      <th>50</th>\n",
       "      <td>\"Kalibrus\" UAB</td>\n",
       "      <td>1438.0</td>\n",
       "      <td>NaN</td>\n",
       "      <td>NaN</td>\n",
       "    </tr>\n",
       "    <tr>\n",
       "      <th>51</th>\n",
       "      <td>UAB \"MINXfarming\"</td>\n",
       "      <td>1423.0</td>\n",
       "      <td>NaN</td>\n",
       "      <td>225.0</td>\n",
       "    </tr>\n",
       "    <tr>\n",
       "      <th>52</th>\n",
       "      <td>UAB \"Inregnum\"</td>\n",
       "      <td>1411.0</td>\n",
       "      <td>NaN</td>\n",
       "      <td>NaN</td>\n",
       "    </tr>\n",
       "    <tr>\n",
       "      <th>53</th>\n",
       "      <td>Just4Jobs UAB</td>\n",
       "      <td>1356.0</td>\n",
       "      <td>NaN</td>\n",
       "      <td>NaN</td>\n",
       "    </tr>\n",
       "    <tr>\n",
       "      <th>54</th>\n",
       "      <td>UAB \"Dzūkijos žvėriena\"</td>\n",
       "      <td>1349.0</td>\n",
       "      <td>NaN</td>\n",
       "      <td>NaN</td>\n",
       "    </tr>\n",
       "    <tr>\n",
       "      <th>55</th>\n",
       "      <td>UAB \"Lajota\"</td>\n",
       "      <td>1267.0</td>\n",
       "      <td>NaN</td>\n",
       "      <td>NaN</td>\n",
       "    </tr>\n",
       "    <tr>\n",
       "      <th>56</th>\n",
       "      <td>UAB \"Danhus\"</td>\n",
       "      <td>1261.0</td>\n",
       "      <td>NaN</td>\n",
       "      <td>NaN</td>\n",
       "    </tr>\n",
       "    <tr>\n",
       "      <th>57</th>\n",
       "      <td>UAB \"Tarpo klavišas\"</td>\n",
       "      <td>1248.0</td>\n",
       "      <td>NaN</td>\n",
       "      <td>NaN</td>\n",
       "    </tr>\n",
       "    <tr>\n",
       "      <th>58</th>\n",
       "      <td>\"FIREWOOD ENTERPRICE\" UAB</td>\n",
       "      <td>1227.0</td>\n",
       "      <td>NaN</td>\n",
       "      <td>NaN</td>\n",
       "    </tr>\n",
       "    <tr>\n",
       "      <th>59</th>\n",
       "      <td>UAB \"Vitro medis\"</td>\n",
       "      <td>1225.0</td>\n",
       "      <td>95.0</td>\n",
       "      <td>NaN</td>\n",
       "    </tr>\n",
       "    <tr>\n",
       "      <th>60</th>\n",
       "      <td>UAB \"Gaurės metalai\"</td>\n",
       "      <td>1216.0</td>\n",
       "      <td>NaN</td>\n",
       "      <td>NaN</td>\n",
       "    </tr>\n",
       "    <tr>\n",
       "      <th>61</th>\n",
       "      <td>UAB \"Specprojektas\"</td>\n",
       "      <td>1216.0</td>\n",
       "      <td>NaN</td>\n",
       "      <td>NaN</td>\n",
       "    </tr>\n",
       "    <tr>\n",
       "      <th>62</th>\n",
       "      <td>UPULUPU UAB</td>\n",
       "      <td>1213.0</td>\n",
       "      <td>NaN</td>\n",
       "      <td>NaN</td>\n",
       "    </tr>\n",
       "    <tr>\n",
       "      <th>63</th>\n",
       "      <td>UAB \"Dzūkijos artojas\"</td>\n",
       "      <td>1174.0</td>\n",
       "      <td>NaN</td>\n",
       "      <td>NaN</td>\n",
       "    </tr>\n",
       "    <tr>\n",
       "      <th>64</th>\n",
       "      <td>UAB Medžiagų tiekimo centras</td>\n",
       "      <td>1164.0</td>\n",
       "      <td>NaN</td>\n",
       "      <td>NaN</td>\n",
       "    </tr>\n",
       "    <tr>\n",
       "      <th>65</th>\n",
       "      <td>UAB \"Remus\"</td>\n",
       "      <td>1157.0</td>\n",
       "      <td>NaN</td>\n",
       "      <td>NaN</td>\n",
       "    </tr>\n",
       "    <tr>\n",
       "      <th>66</th>\n",
       "      <td>SumUp EU Payments UAB</td>\n",
       "      <td>1152.0</td>\n",
       "      <td>NaN</td>\n",
       "      <td>NaN</td>\n",
       "    </tr>\n",
       "    <tr>\n",
       "      <th>67</th>\n",
       "      <td>Uždaroji akcinė bendrovė \"SIMONTA\"</td>\n",
       "      <td>1142.0</td>\n",
       "      <td>NaN</td>\n",
       "      <td>NaN</td>\n",
       "    </tr>\n",
       "    <tr>\n",
       "      <th>68</th>\n",
       "      <td>UAB \"Rio Lindo gifts\"</td>\n",
       "      <td>1134.0</td>\n",
       "      <td>92.0</td>\n",
       "      <td>NaN</td>\n",
       "    </tr>\n",
       "    <tr>\n",
       "      <th>69</th>\n",
       "      <td>UAB \"Klaipėdos Intermodalinis Terminalas\"</td>\n",
       "      <td>1133.0</td>\n",
       "      <td>NaN</td>\n",
       "      <td>NaN</td>\n",
       "    </tr>\n",
       "    <tr>\n",
       "      <th>70</th>\n",
       "      <td>UAB \"Megos investicijos\"</td>\n",
       "      <td>1124.0</td>\n",
       "      <td>NaN</td>\n",
       "      <td>NaN</td>\n",
       "    </tr>\n",
       "    <tr>\n",
       "      <th>71</th>\n",
       "      <td>UAB \"Tubuva\"</td>\n",
       "      <td>1088.0</td>\n",
       "      <td>NaN</td>\n",
       "      <td>NaN</td>\n",
       "    </tr>\n",
       "    <tr>\n",
       "      <th>72</th>\n",
       "      <td>UAB \"Transbigas\"</td>\n",
       "      <td>1080.0</td>\n",
       "      <td>NaN</td>\n",
       "      <td>NaN</td>\n",
       "    </tr>\n",
       "    <tr>\n",
       "      <th>73</th>\n",
       "      <td>UAB \"Atnidonas\"</td>\n",
       "      <td>1070.0</td>\n",
       "      <td>NaN</td>\n",
       "      <td>NaN</td>\n",
       "    </tr>\n",
       "    <tr>\n",
       "      <th>74</th>\n",
       "      <td>UAB \"Brelisa\"</td>\n",
       "      <td>1063.0</td>\n",
       "      <td>NaN</td>\n",
       "      <td>NaN</td>\n",
       "    </tr>\n",
       "    <tr>\n",
       "      <th>75</th>\n",
       "      <td>UAB Bebras Group</td>\n",
       "      <td>1045.0</td>\n",
       "      <td>NaN</td>\n",
       "      <td>NaN</td>\n",
       "    </tr>\n",
       "    <tr>\n",
       "      <th>76</th>\n",
       "      <td>UAB \"Magnetic Leasing\"</td>\n",
       "      <td>1045.0</td>\n",
       "      <td>NaN</td>\n",
       "      <td>NaN</td>\n",
       "    </tr>\n",
       "    <tr>\n",
       "      <th>77</th>\n",
       "      <td>UAB \"Transtaura\"</td>\n",
       "      <td>1028.0</td>\n",
       "      <td>NaN</td>\n",
       "      <td>NaN</td>\n",
       "    </tr>\n",
       "    <tr>\n",
       "      <th>78</th>\n",
       "      <td>Uždaroji akcinė bendrovė \"Galvaninė chemija\"</td>\n",
       "      <td>1024.0</td>\n",
       "      <td>NaN</td>\n",
       "      <td>NaN</td>\n",
       "    </tr>\n",
       "    <tr>\n",
       "      <th>79</th>\n",
       "      <td>UAB \"Artegas\"</td>\n",
       "      <td>1008.0</td>\n",
       "      <td>NaN</td>\n",
       "      <td>NaN</td>\n",
       "    </tr>\n",
       "    <tr>\n",
       "      <th>80</th>\n",
       "      <td>UAB \"Idėjų fakultetas\"</td>\n",
       "      <td>1008.0</td>\n",
       "      <td>NaN</td>\n",
       "      <td>NaN</td>\n",
       "    </tr>\n",
       "    <tr>\n",
       "      <th>81</th>\n",
       "      <td>UAB \"Fiksitus\"</td>\n",
       "      <td>1004.0</td>\n",
       "      <td>NaN</td>\n",
       "      <td>NaN</td>\n",
       "    </tr>\n",
       "    <tr>\n",
       "      <th>82</th>\n",
       "      <td>\"Gusania\" UAB</td>\n",
       "      <td>1000.0</td>\n",
       "      <td>NaN</td>\n",
       "      <td>NaN</td>\n",
       "    </tr>\n",
       "    <tr>\n",
       "      <th>83</th>\n",
       "      <td>UAB \"Trimena\"</td>\n",
       "      <td>976.0</td>\n",
       "      <td>NaN</td>\n",
       "      <td>NaN</td>\n",
       "    </tr>\n",
       "    <tr>\n",
       "      <th>84</th>\n",
       "      <td>UAB \"Tepikus\"</td>\n",
       "      <td>967.0</td>\n",
       "      <td>NaN</td>\n",
       "      <td>NaN</td>\n",
       "    </tr>\n",
       "    <tr>\n",
       "      <th>85</th>\n",
       "      <td>UAB \"Nanoenergija\"</td>\n",
       "      <td>958.0</td>\n",
       "      <td>NaN</td>\n",
       "      <td>NaN</td>\n",
       "    </tr>\n",
       "    <tr>\n",
       "      <th>86</th>\n",
       "      <td>UAB \"Olimeta\"</td>\n",
       "      <td>950.0</td>\n",
       "      <td>NaN</td>\n",
       "      <td>NaN</td>\n",
       "    </tr>\n",
       "    <tr>\n",
       "      <th>87</th>\n",
       "      <td>UAB \"Baltica stella\"</td>\n",
       "      <td>941.0</td>\n",
       "      <td>NaN</td>\n",
       "      <td>NaN</td>\n",
       "    </tr>\n",
       "    <tr>\n",
       "      <th>88</th>\n",
       "      <td>Modon Media UAB</td>\n",
       "      <td>928.0</td>\n",
       "      <td>NaN</td>\n",
       "      <td>NaN</td>\n",
       "    </tr>\n",
       "    <tr>\n",
       "      <th>89</th>\n",
       "      <td>UAB \"365 kemperiai\"</td>\n",
       "      <td>925.0</td>\n",
       "      <td>NaN</td>\n",
       "      <td>NaN</td>\n",
       "    </tr>\n",
       "    <tr>\n",
       "      <th>90</th>\n",
       "      <td>UAB ITINA</td>\n",
       "      <td>920.0</td>\n",
       "      <td>NaN</td>\n",
       "      <td>NaN</td>\n",
       "    </tr>\n",
       "    <tr>\n",
       "      <th>91</th>\n",
       "      <td>\"Transmobis\" UAB</td>\n",
       "      <td>911.0</td>\n",
       "      <td>NaN</td>\n",
       "      <td>NaN</td>\n",
       "    </tr>\n",
       "    <tr>\n",
       "      <th>92</th>\n",
       "      <td>UAB \"Energostatyba\"</td>\n",
       "      <td>899.0</td>\n",
       "      <td>NaN</td>\n",
       "      <td>NaN</td>\n",
       "    </tr>\n",
       "    <tr>\n",
       "      <th>93</th>\n",
       "      <td>UAB \"Drinkservisas\"</td>\n",
       "      <td>896.0</td>\n",
       "      <td>NaN</td>\n",
       "      <td>NaN</td>\n",
       "    </tr>\n",
       "    <tr>\n",
       "      <th>94</th>\n",
       "      <td>UAB Goodpoint</td>\n",
       "      <td>893.0</td>\n",
       "      <td>NaN</td>\n",
       "      <td>NaN</td>\n",
       "    </tr>\n",
       "    <tr>\n",
       "      <th>95</th>\n",
       "      <td>UAB AVTOZAPADTRANS</td>\n",
       "      <td>886.0</td>\n",
       "      <td>NaN</td>\n",
       "      <td>NaN</td>\n",
       "    </tr>\n",
       "    <tr>\n",
       "      <th>96</th>\n",
       "      <td>UAB \"Gorampa\"</td>\n",
       "      <td>879.0</td>\n",
       "      <td>NaN</td>\n",
       "      <td>NaN</td>\n",
       "    </tr>\n",
       "    <tr>\n",
       "      <th>97</th>\n",
       "      <td>UAB \"Ksana\"</td>\n",
       "      <td>878.0</td>\n",
       "      <td>NaN</td>\n",
       "      <td>NaN</td>\n",
       "    </tr>\n",
       "    <tr>\n",
       "      <th>98</th>\n",
       "      <td>UAB \"Turto plėtra\"</td>\n",
       "      <td>876.0</td>\n",
       "      <td>NaN</td>\n",
       "      <td>NaN</td>\n",
       "    </tr>\n",
       "    <tr>\n",
       "      <th>99</th>\n",
       "      <td>UAB \"Longo Shared Services\"</td>\n",
       "      <td>860.0</td>\n",
       "      <td>NaN</td>\n",
       "      <td>NaN</td>\n",
       "    </tr>\n",
       "  </tbody>\n",
       "</table>\n",
       "</div>"
      ],
      "text/plain": [
       "                                         obj_pav  pardavimo_augimas_21  \\\n",
       "0                       UAB \"Gedimino 22 turtas\"               18302.0   \n",
       "1                                   UAB \"Eigera\"               14115.0   \n",
       "2                              UAB Beleza Medica               11113.0   \n",
       "3                                 UAB \"Plasteks\"                6645.0   \n",
       "4            UAB \"Statybos investicijų valdymas\"                5637.0   \n",
       "5                                 UAB \"Freidesk\"                5533.0   \n",
       "6                                       UAB 2 AK                5154.0   \n",
       "7                                     VEESLA UAB                3973.0   \n",
       "8                                   UAB \"JV ALU\"                3434.0   \n",
       "9                                UAB \"Top grupė\"                3420.0   \n",
       "10                               UAB Never Naked                3295.0   \n",
       "11                                  UAB ELYON LT                3082.0   \n",
       "12                                  UAB \"Smagus\"                2901.0   \n",
       "13                       UAB \"Via Solis Energia\"                2861.0   \n",
       "14                                  UAB \"SPARAS\"                2655.0   \n",
       "15                             UAB \"Marine sign\"                2581.0   \n",
       "16                                  \"Supras\" UAB                2573.0   \n",
       "17                                   UAB BL Tech                2566.0   \n",
       "18                       UAB RoyaltyRange Europe                2494.0   \n",
       "19                            TeraSky Baltic UAB                2432.0   \n",
       "20                              UAB \"Transdomas\"                2377.0   \n",
       "21                 UAB \"Stogų dangos iš Europos\"                2377.0   \n",
       "22                           UAB \"Žalias turtas\"                2250.0   \n",
       "23                                 UAB \"Confido\"                2162.0   \n",
       "24        Uždaroji akcinė bendrovė \"Unispektras\"                2133.0   \n",
       "25                              UAB \"Autobus.lt\"                2094.0   \n",
       "26                                UAB \"Rigestra\"                2090.0   \n",
       "27                         UAB \"Vilniaus Doleta\"                2027.0   \n",
       "28                           UAB \"Personalas 24\"                1987.0   \n",
       "29                               UAB \"Compertus\"                1985.0   \n",
       "30                                    UAB Addeco                1905.0   \n",
       "31                               UAB \"Ramislana\"                1799.0   \n",
       "32                         UAB \"SP Construction\"                1745.0   \n",
       "33                 HAS Business Intelligence UAB                1713.0   \n",
       "34                          UAB \"A plius linija\"                1712.0   \n",
       "35                         UAB \"Vitrum balticum\"                1701.0   \n",
       "36                                UAB \"Osvilija\"                1688.0   \n",
       "37                          UAB \"Baltic AgroPro\"                1678.0   \n",
       "38                          UAB servisas \"Domus\"                1676.0   \n",
       "39                         UAB ERCO Technologies                1658.0   \n",
       "40                                 UAB \"Litmita\"                1617.0   \n",
       "41                            CAST AI Baltic UAB                1593.0   \n",
       "42                                   UAB ALTIMUS                1568.0   \n",
       "43                              UAB \"DoiT Power\"                1559.0   \n",
       "44                                UAB \"Robidena\"                1558.0   \n",
       "45                                UAB GDR invest                1537.0   \n",
       "46                            UAB \"PLANET GROUP\"                1532.0   \n",
       "47                   UAB \"Ortopedijos paslaugos\"                1499.0   \n",
       "48                     Angvik Auto Logistics UAB                1478.0   \n",
       "49                           UAB \"ENERGUS GROUP\"                1449.0   \n",
       "50                                \"Kalibrus\" UAB                1438.0   \n",
       "51                             UAB \"MINXfarming\"                1423.0   \n",
       "52                                UAB \"Inregnum\"                1411.0   \n",
       "53                                 Just4Jobs UAB                1356.0   \n",
       "54                       UAB \"Dzūkijos žvėriena\"                1349.0   \n",
       "55                                  UAB \"Lajota\"                1267.0   \n",
       "56                                  UAB \"Danhus\"                1261.0   \n",
       "57                          UAB \"Tarpo klavišas\"                1248.0   \n",
       "58                     \"FIREWOOD ENTERPRICE\" UAB                1227.0   \n",
       "59                             UAB \"Vitro medis\"                1225.0   \n",
       "60                          UAB \"Gaurės metalai\"                1216.0   \n",
       "61                           UAB \"Specprojektas\"                1216.0   \n",
       "62                                   UPULUPU UAB                1213.0   \n",
       "63                        UAB \"Dzūkijos artojas\"                1174.0   \n",
       "64                  UAB Medžiagų tiekimo centras                1164.0   \n",
       "65                                   UAB \"Remus\"                1157.0   \n",
       "66                         SumUp EU Payments UAB                1152.0   \n",
       "67            Uždaroji akcinė bendrovė \"SIMONTA\"                1142.0   \n",
       "68                         UAB \"Rio Lindo gifts\"                1134.0   \n",
       "69     UAB \"Klaipėdos Intermodalinis Terminalas\"                1133.0   \n",
       "70                      UAB \"Megos investicijos\"                1124.0   \n",
       "71                                  UAB \"Tubuva\"                1088.0   \n",
       "72                              UAB \"Transbigas\"                1080.0   \n",
       "73                               UAB \"Atnidonas\"                1070.0   \n",
       "74                                 UAB \"Brelisa\"                1063.0   \n",
       "75                              UAB Bebras Group                1045.0   \n",
       "76                        UAB \"Magnetic Leasing\"                1045.0   \n",
       "77                              UAB \"Transtaura\"                1028.0   \n",
       "78  Uždaroji akcinė bendrovė \"Galvaninė chemija\"                1024.0   \n",
       "79                                 UAB \"Artegas\"                1008.0   \n",
       "80                        UAB \"Idėjų fakultetas\"                1008.0   \n",
       "81                                UAB \"Fiksitus\"                1004.0   \n",
       "82                                 \"Gusania\" UAB                1000.0   \n",
       "83                                 UAB \"Trimena\"                 976.0   \n",
       "84                                 UAB \"Tepikus\"                 967.0   \n",
       "85                            UAB \"Nanoenergija\"                 958.0   \n",
       "86                                 UAB \"Olimeta\"                 950.0   \n",
       "87                          UAB \"Baltica stella\"                 941.0   \n",
       "88                               Modon Media UAB                 928.0   \n",
       "89                           UAB \"365 kemperiai\"                 925.0   \n",
       "90                                     UAB ITINA                 920.0   \n",
       "91                              \"Transmobis\" UAB                 911.0   \n",
       "92                           UAB \"Energostatyba\"                 899.0   \n",
       "93                           UAB \"Drinkservisas\"                 896.0   \n",
       "94                                 UAB Goodpoint                 893.0   \n",
       "95                            UAB AVTOZAPADTRANS                 886.0   \n",
       "96                                 UAB \"Gorampa\"                 879.0   \n",
       "97                                   UAB \"Ksana\"                 878.0   \n",
       "98                            UAB \"Turto plėtra\"                 876.0   \n",
       "99                   UAB \"Longo Shared Services\"                 860.0   \n",
       "\n",
       "    vid_atlyginimas_augimas_21  darbuotoju_augimas_21  \n",
       "0                          NaN                    NaN  \n",
       "1                          NaN                    NaN  \n",
       "2                         95.0                    NaN  \n",
       "3                          NaN                    NaN  \n",
       "4                          NaN                    NaN  \n",
       "5                          NaN                    NaN  \n",
       "6                        119.0                    NaN  \n",
       "7                          NaN                    NaN  \n",
       "8                          NaN                    NaN  \n",
       "9                          NaN                    NaN  \n",
       "10                         NaN                    NaN  \n",
       "11                         NaN                    NaN  \n",
       "12                         NaN                    NaN  \n",
       "13                        91.0                    NaN  \n",
       "14                         NaN                    NaN  \n",
       "15                         NaN                    NaN  \n",
       "16                         NaN                    NaN  \n",
       "17                         NaN                    NaN  \n",
       "18                         NaN                    NaN  \n",
       "19                         NaN                    NaN  \n",
       "20                         NaN                    NaN  \n",
       "21                         NaN                    NaN  \n",
       "22                         NaN                    NaN  \n",
       "23                       126.0                    NaN  \n",
       "24                         NaN                    NaN  \n",
       "25                         NaN                    NaN  \n",
       "26                         NaN                    NaN  \n",
       "27                         NaN                    NaN  \n",
       "28                         NaN                    NaN  \n",
       "29                         NaN                    NaN  \n",
       "30                         NaN                    NaN  \n",
       "31                         NaN                    NaN  \n",
       "32                         NaN                    NaN  \n",
       "33                         NaN                    NaN  \n",
       "34                         NaN                    NaN  \n",
       "35                         NaN                    NaN  \n",
       "36                         NaN                  200.0  \n",
       "37                         NaN                    NaN  \n",
       "38                         NaN                    NaN  \n",
       "39                         NaN                    NaN  \n",
       "40                         NaN                    NaN  \n",
       "41                         NaN                    NaN  \n",
       "42                         NaN                    NaN  \n",
       "43                         NaN                    NaN  \n",
       "44                         NaN                    NaN  \n",
       "45                         NaN                    NaN  \n",
       "46                         NaN                    NaN  \n",
       "47                         NaN                    NaN  \n",
       "48                         NaN                    NaN  \n",
       "49                         NaN                    NaN  \n",
       "50                         NaN                    NaN  \n",
       "51                         NaN                  225.0  \n",
       "52                         NaN                    NaN  \n",
       "53                         NaN                    NaN  \n",
       "54                         NaN                    NaN  \n",
       "55                         NaN                    NaN  \n",
       "56                         NaN                    NaN  \n",
       "57                         NaN                    NaN  \n",
       "58                         NaN                    NaN  \n",
       "59                        95.0                    NaN  \n",
       "60                         NaN                    NaN  \n",
       "61                         NaN                    NaN  \n",
       "62                         NaN                    NaN  \n",
       "63                         NaN                    NaN  \n",
       "64                         NaN                    NaN  \n",
       "65                         NaN                    NaN  \n",
       "66                         NaN                    NaN  \n",
       "67                         NaN                    NaN  \n",
       "68                        92.0                    NaN  \n",
       "69                         NaN                    NaN  \n",
       "70                         NaN                    NaN  \n",
       "71                         NaN                    NaN  \n",
       "72                         NaN                    NaN  \n",
       "73                         NaN                    NaN  \n",
       "74                         NaN                    NaN  \n",
       "75                         NaN                    NaN  \n",
       "76                         NaN                    NaN  \n",
       "77                         NaN                    NaN  \n",
       "78                         NaN                    NaN  \n",
       "79                         NaN                    NaN  \n",
       "80                         NaN                    NaN  \n",
       "81                         NaN                    NaN  \n",
       "82                         NaN                    NaN  \n",
       "83                         NaN                    NaN  \n",
       "84                         NaN                    NaN  \n",
       "85                         NaN                    NaN  \n",
       "86                         NaN                    NaN  \n",
       "87                         NaN                    NaN  \n",
       "88                         NaN                    NaN  \n",
       "89                         NaN                    NaN  \n",
       "90                         NaN                    NaN  \n",
       "91                         NaN                    NaN  \n",
       "92                         NaN                    NaN  \n",
       "93                         NaN                    NaN  \n",
       "94                         NaN                    NaN  \n",
       "95                         NaN                    NaN  \n",
       "96                         NaN                    NaN  \n",
       "97                         NaN                    NaN  \n",
       "98                         NaN                    NaN  \n",
       "99                         NaN                    NaN  "
      ]
     },
     "execution_count": 575,
     "metadata": {},
     "output_type": "execute_result"
    }
   ],
   "source": [
    "pd.merge((pd.merge(top100sales,top100wgs,on='obj_pav',how='left')),top100emps,on='obj_pav',how='left')"
   ]
  },
  {
   "cell_type": "markdown",
   "id": "7155a8fb",
   "metadata": {},
   "source": [
    "### 4. Sukurkite kriterijus, ir atrinkite top 10, jūsų manymu geriausių įmonių."
   ]
  },
  {
   "cell_type": "code",
   "execution_count": 576,
   "id": "0a2d8950",
   "metadata": {
    "ExecuteTime": {
     "end_time": "2022-12-08T19:41:41.506114Z",
     "start_time": "2022-12-08T19:41:41.492466Z"
    }
   },
   "outputs": [
    {
     "data": {
      "text/html": [
       "<div>\n",
       "<style scoped>\n",
       "    .dataframe tbody tr th:only-of-type {\n",
       "        vertical-align: middle;\n",
       "    }\n",
       "\n",
       "    .dataframe tbody tr th {\n",
       "        vertical-align: top;\n",
       "    }\n",
       "\n",
       "    .dataframe thead th {\n",
       "        text-align: right;\n",
       "    }\n",
       "</style>\n",
       "<table border=\"1\" class=\"dataframe\">\n",
       "  <thead>\n",
       "    <tr style=\"text-align: right;\">\n",
       "      <th></th>\n",
       "      <th>obj_pav</th>\n",
       "      <th>pardavimo_augimas_21</th>\n",
       "    </tr>\n",
       "  </thead>\n",
       "  <tbody>\n",
       "    <tr>\n",
       "      <th>194544</th>\n",
       "      <td>UAB \"Gedimino 22 turtas\"</td>\n",
       "      <td>18302.0</td>\n",
       "    </tr>\n",
       "    <tr>\n",
       "      <th>154181</th>\n",
       "      <td>UAB \"Eigera\"</td>\n",
       "      <td>14115.0</td>\n",
       "    </tr>\n",
       "    <tr>\n",
       "      <th>86184</th>\n",
       "      <td>UAB Beleza Medica</td>\n",
       "      <td>11113.0</td>\n",
       "    </tr>\n",
       "    <tr>\n",
       "      <th>99092</th>\n",
       "      <td>UAB \"Plasteks\"</td>\n",
       "      <td>6645.0</td>\n",
       "    </tr>\n",
       "    <tr>\n",
       "      <th>199580</th>\n",
       "      <td>UAB \"Statybos investicijų valdymas\"</td>\n",
       "      <td>5637.0</td>\n",
       "    </tr>\n",
       "    <tr>\n",
       "      <th>13946</th>\n",
       "      <td>UAB \"Freidesk\"</td>\n",
       "      <td>5533.0</td>\n",
       "    </tr>\n",
       "    <tr>\n",
       "      <th>101291</th>\n",
       "      <td>UAB 2 AK</td>\n",
       "      <td>5154.0</td>\n",
       "    </tr>\n",
       "    <tr>\n",
       "      <th>9705</th>\n",
       "      <td>VEESLA UAB</td>\n",
       "      <td>3973.0</td>\n",
       "    </tr>\n",
       "    <tr>\n",
       "      <th>42823</th>\n",
       "      <td>UAB \"JV ALU\"</td>\n",
       "      <td>3434.0</td>\n",
       "    </tr>\n",
       "    <tr>\n",
       "      <th>8563</th>\n",
       "      <td>UAB \"Top grupė\"</td>\n",
       "      <td>3420.0</td>\n",
       "    </tr>\n",
       "  </tbody>\n",
       "</table>\n",
       "</div>"
      ],
      "text/plain": [
       "                                    obj_pav  pardavimo_augimas_21\n",
       "194544             UAB \"Gedimino 22 turtas\"               18302.0\n",
       "154181                         UAB \"Eigera\"               14115.0\n",
       "86184                     UAB Beleza Medica               11113.0\n",
       "99092                        UAB \"Plasteks\"                6645.0\n",
       "199580  UAB \"Statybos investicijų valdymas\"                5637.0\n",
       "13946                        UAB \"Freidesk\"                5533.0\n",
       "101291                             UAB 2 AK                5154.0\n",
       "9705                             VEESLA UAB                3973.0\n",
       "42823                          UAB \"JV ALU\"                3434.0\n",
       "8563                        UAB \"Top grupė\"                3420.0"
      ]
     },
     "execution_count": 576,
     "metadata": {},
     "output_type": "execute_result"
    }
   ],
   "source": [
    "top100sales[:10]"
   ]
  },
  {
   "cell_type": "markdown",
   "id": "2f410ebe",
   "metadata": {},
   "source": [
    "### 5. Kokia suma įvertintumėt savo atrinktas įmones?"
   ]
  },
  {
   "cell_type": "markdown",
   "id": "2eaad001",
   "metadata": {},
   "source": [
    "20 mln eur."
   ]
  },
  {
   "cell_type": "code",
   "execution_count": 1,
   "id": "7788117e",
   "metadata": {
    "ExecuteTime": {
     "end_time": "2022-12-08T19:44:11.661442Z",
     "start_time": "2022-12-08T19:44:11.655441Z"
    }
   },
   "outputs": [],
   "source": [
    "#conda env export > environment.yml"
   ]
  },
  {
   "cell_type": "code",
   "execution_count": null,
   "id": "c6f54c63",
   "metadata": {},
   "outputs": [],
   "source": []
  }
 ],
 "metadata": {
  "kernelspec": {
   "display_name": "Python 3 (ipykernel)",
   "language": "python",
   "name": "python3"
  },
  "language_info": {
   "codemirror_mode": {
    "name": "ipython",
    "version": 3
   },
   "file_extension": ".py",
   "mimetype": "text/x-python",
   "name": "python",
   "nbconvert_exporter": "python",
   "pygments_lexer": "ipython3",
   "version": "3.9.12"
  },
  "toc": {
   "base_numbering": 1,
   "nav_menu": {},
   "number_sections": true,
   "sideBar": true,
   "skip_h1_title": false,
   "title_cell": "Table of Contents",
   "title_sidebar": "Contents",
   "toc_cell": false,
   "toc_position": {
    "height": "calc(100% - 180px)",
    "left": "10px",
    "top": "150px",
    "width": "384px"
   },
   "toc_section_display": true,
   "toc_window_display": false
  },
  "varInspector": {
   "cols": {
    "lenName": 16,
    "lenType": 16,
    "lenVar": 40
   },
   "kernels_config": {
    "python": {
     "delete_cmd_postfix": "",
     "delete_cmd_prefix": "del ",
     "library": "var_list.py",
     "varRefreshCmd": "print(var_dic_list())"
    },
    "r": {
     "delete_cmd_postfix": ") ",
     "delete_cmd_prefix": "rm(",
     "library": "var_list.r",
     "varRefreshCmd": "cat(var_dic_list()) "
    }
   },
   "types_to_exclude": [
    "module",
    "function",
    "builtin_function_or_method",
    "instance",
    "_Feature"
   ],
   "window_display": false
  }
 },
 "nbformat": 4,
 "nbformat_minor": 5
}
