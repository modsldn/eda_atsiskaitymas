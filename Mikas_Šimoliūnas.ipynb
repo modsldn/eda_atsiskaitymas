{
 "cells": [
  {
   "cell_type": "markdown",
   "id": "64ae03c7",
   "metadata": {},
   "source": [
    "# Pirma Dalis"
   ]
  },
  {
   "cell_type": "markdown",
   "id": "b0e1c7f3",
   "metadata": {
    "ExecuteTime": {
     "end_time": "2022-12-05T16:36:25.922255Z",
     "start_time": "2022-12-05T16:36:25.913253Z"
    }
   },
   "source": [
    "## 1."
   ]
  },
  {
   "cell_type": "code",
   "execution_count": 1,
   "id": "4ae17a38",
   "metadata": {
    "ExecuteTime": {
     "end_time": "2022-12-08T19:39:16.825300Z",
     "start_time": "2022-12-08T19:39:16.813302Z"
    }
   },
   "outputs": [],
   "source": [
    "# Importing packages\n",
    "import pandas as pd\n",
    "import numpy as np\n",
    "import seaborn as sns\n",
    "import matplotlib.pyplot as plt"
   ]
  },
  {
   "attachments": {},
   "cell_type": "markdown",
   "id": "9edc5098",
   "metadata": {},
   "source": [
    "<font color='red'> Erikas Švažas: \n",
    "\n",
    "1. Norint išlaikyti formatavimą pagal PEP8 standartą labai padėtų papildomi extensions - pavyzdžiui nb_black\n",
    "```\n",
    "%load_ext nb_black\n",
    "```\n",
    "2. Prašymas kitam kartui - palikti kiekvienos celės outputą *visible*.\n",
    "</font>"
   ]
  },
  {
   "cell_type": "code",
   "execution_count": 2,
   "id": "80e16ce0",
   "metadata": {
    "ExecuteTime": {
     "end_time": "2022-12-08T19:39:16.841304Z",
     "start_time": "2022-12-08T19:39:16.827301Z"
    }
   },
   "outputs": [],
   "source": [
    "pd.set_option('display.max_rows', 500)"
   ]
  },
  {
   "cell_type": "markdown",
   "id": "c81ff3dd",
   "metadata": {
    "ExecuteTime": {
     "end_time": "2022-12-08T19:15:37.428737Z",
     "start_time": "2022-12-08T19:15:37.416602Z"
    }
   },
   "source": [
    "## 2. Parsisiųsti 2020 ir 2021 įmonių “Juridinių asmenų duomenis"
   ]
  },
  {
   "cell_type": "code",
   "execution_count": 3,
   "id": "7c30de96",
   "metadata": {
    "ExecuteTime": {
     "end_time": "2022-12-08T19:39:21.559527Z",
     "start_time": "2022-12-08T19:39:16.843307Z"
    }
   },
   "outputs": [],
   "source": [
    "# Reading data\n",
    "# ba - balanso ataskaita\n",
    "ba2020_data = pd.read_csv(\n",
    "    'https://www.registrucentras.lt//aduomenys//?byla=JAR_FA_RODIKLIAI_BLNS_2020.csv')\n",
    "ba2021_data = pd.read_csv(\n",
    "    'https://www.registrucentras.lt//aduomenys//?byla=JAR_FA_RODIKLIAI_BLNS_2021.csv')\n",
    "# pna - pelno/nuostoliu ataskaita\n",
    "pna2020_data = pd.read_csv(\n",
    "    'https://www.registrucentras.lt/aduomenys/?byla=JAR_FA_RODIKLIAI_PLNA_2020.csv')\n",
    "pna2021_data = pd.read_csv(\n",
    "    'https://www.registrucentras.lt/aduomenys/?byla=JAR_FA_RODIKLIAI_PLNA_2021.csv')"
   ]
  },
  {
   "cell_type": "code",
   "execution_count": 4,
   "id": "cca234c1",
   "metadata": {
    "ExecuteTime": {
     "end_time": "2022-12-08T19:39:21.604633Z",
     "start_time": "2022-12-08T19:39:21.561896Z"
    }
   },
   "outputs": [],
   "source": [
    "# copying datasets to reduce request count in case dataset collapses.\n",
    "ba2020 = ba2020_data.copy()\n",
    "ba2021 = ba2021_data.copy()\n",
    "pna2020 = pna2020_data.copy()\n",
    "pna2021 = pna2021_data.copy()"
   ]
  },
  {
   "cell_type": "code",
   "execution_count": 5,
   "id": "71e2e071",
   "metadata": {
    "ExecuteTime": {
     "end_time": "2022-12-08T19:39:21.619627Z",
     "start_time": "2022-12-08T19:39:21.606625Z"
    }
   },
   "outputs": [],
   "source": [
    "# setting names on dataframes\n",
    "ba2020.name = 'ba2020'\n",
    "ba2021.name = 'ba2021'\n",
    "pna2020.name = 'pna2020'\n",
    "pna2021.name = 'pna2021'"
   ]
  },
  {
   "cell_type": "markdown",
   "id": "2ea4f8b8",
   "metadata": {},
   "source": [
    "# 3. 3. Susipažinkite su duomenimis"
   ]
  },
  {
   "cell_type": "markdown",
   "id": "e81c9222",
   "metadata": {},
   "source": [
    "## a. Ką reiškia skirtingi duomenų laukai? Iš kokių atributų sudaryti duomenys?"
   ]
  },
  {
   "cell_type": "code",
   "execution_count": 6,
   "id": "0524355e",
   "metadata": {
    "ExecuteTime": {
     "end_time": "2022-12-08T19:39:21.711288Z",
     "start_time": "2022-12-08T19:39:21.621627Z"
    },
    "scrolled": false
   },
   "outputs": [
    {
     "data": {
      "text/html": [
       "<div>\n",
       "<style scoped>\n",
       "    .dataframe tbody tr th:only-of-type {\n",
       "        vertical-align: middle;\n",
       "    }\n",
       "\n",
       "    .dataframe tbody tr th {\n",
       "        vertical-align: top;\n",
       "    }\n",
       "\n",
       "    .dataframe thead th {\n",
       "        text-align: right;\n",
       "    }\n",
       "</style>\n",
       "<table border=\"1\" class=\"dataframe\">\n",
       "  <thead>\n",
       "    <tr style=\"text-align: right;\">\n",
       "      <th></th>\n",
       "      <th>Žymėjimas</th>\n",
       "      <th>Tipas</th>\n",
       "      <th>Atributo aprašymas</th>\n",
       "    </tr>\n",
       "  </thead>\n",
       "  <tbody>\n",
       "    <tr>\n",
       "      <th>0</th>\n",
       "      <td>obj_kodas</td>\n",
       "      <td>decimal</td>\n",
       "      <td>juridinio asmens kodas Juridinių asmenų registre</td>\n",
       "    </tr>\n",
       "    <tr>\n",
       "      <th>1</th>\n",
       "      <td>obj_pav</td>\n",
       "      <td>string</td>\n",
       "      <td>juridinio asmens pavadinimas (individualių įmo...</td>\n",
       "    </tr>\n",
       "    <tr>\n",
       "      <th>2</th>\n",
       "      <td>form_kodas</td>\n",
       "      <td>decimal</td>\n",
       "      <td>juridinio asmens formos kodas</td>\n",
       "    </tr>\n",
       "    <tr>\n",
       "      <th>3</th>\n",
       "      <td>form_pav</td>\n",
       "      <td>string</td>\n",
       "      <td>juridinio asmens formos pavadinimas</td>\n",
       "    </tr>\n",
       "    <tr>\n",
       "      <th>4</th>\n",
       "      <td>stat_statusas</td>\n",
       "      <td>decimal</td>\n",
       "      <td>juridinio asmens teisinio statuso kodas</td>\n",
       "    </tr>\n",
       "    <tr>\n",
       "      <th>5</th>\n",
       "      <td>stat_pav</td>\n",
       "      <td>string</td>\n",
       "      <td>juridinio asmens teisinio statuso pavadinimas</td>\n",
       "    </tr>\n",
       "    <tr>\n",
       "      <th>6</th>\n",
       "      <td>template_id</td>\n",
       "      <td>decimal</td>\n",
       "      <td>ataskaitos rūšies kodas</td>\n",
       "    </tr>\n",
       "    <tr>\n",
       "      <th>7</th>\n",
       "      <td>template_name</td>\n",
       "      <td>string</td>\n",
       "      <td>ataskaitos rūšies pavadinimas</td>\n",
       "    </tr>\n",
       "    <tr>\n",
       "      <th>8</th>\n",
       "      <td>standard_id</td>\n",
       "      <td>decimal</td>\n",
       "      <td>FA dokumentų rinkinio kodas</td>\n",
       "    </tr>\n",
       "    <tr>\n",
       "      <th>9</th>\n",
       "      <td>standard_name</td>\n",
       "      <td>string</td>\n",
       "      <td>FA dokumentų rinkinio tipas</td>\n",
       "    </tr>\n",
       "    <tr>\n",
       "      <th>10</th>\n",
       "      <td>laikotarpis_nuo</td>\n",
       "      <td>date</td>\n",
       "      <td>finansinių metų pradžios data</td>\n",
       "    </tr>\n",
       "    <tr>\n",
       "      <th>11</th>\n",
       "      <td>laikotarpis_iki</td>\n",
       "      <td>date</td>\n",
       "      <td>finansinių metų pabaigos data</td>\n",
       "    </tr>\n",
       "    <tr>\n",
       "      <th>12</th>\n",
       "      <td>reg_date</td>\n",
       "      <td>date</td>\n",
       "      <td>FA dokumentų registravimo JAR data</td>\n",
       "    </tr>\n",
       "    <tr>\n",
       "      <th>13</th>\n",
       "      <td>nuosavas_kapitalas</td>\n",
       "      <td>decimal</td>\n",
       "      <td>FA ataskaitos rodiklio (nuosavo kapitalo) reik...</td>\n",
       "    </tr>\n",
       "    <tr>\n",
       "      <th>14</th>\n",
       "      <td>mok_sumos_ir_isipareigojimai</td>\n",
       "      <td>decimal</td>\n",
       "      <td>FA rodiklio (mokėtinų sumų ir įsipareigojimų) ...</td>\n",
       "    </tr>\n",
       "    <tr>\n",
       "      <th>15</th>\n",
       "      <td>ilgalaikis_turtas</td>\n",
       "      <td>decimal</td>\n",
       "      <td>FA ataskaitos rodiklio (ilgalaikio turto) reik...</td>\n",
       "    </tr>\n",
       "    <tr>\n",
       "      <th>16</th>\n",
       "      <td>trumpalaikis_turtas</td>\n",
       "      <td>decimal</td>\n",
       "      <td>FA ataskaitos rodiklio (trumpalaikio turto) re...</td>\n",
       "    </tr>\n",
       "  </tbody>\n",
       "</table>\n",
       "</div>"
      ],
      "text/plain": [
       "                       Žymėjimas    Tipas  \\\n",
       "0                      obj_kodas  decimal   \n",
       "1                        obj_pav   string   \n",
       "2                     form_kodas  decimal   \n",
       "3                       form_pav   string   \n",
       "4                  stat_statusas  decimal   \n",
       "5                       stat_pav   string   \n",
       "6                    template_id  decimal   \n",
       "7                  template_name   string   \n",
       "8                    standard_id  decimal   \n",
       "9                  standard_name   string   \n",
       "10               laikotarpis_nuo     date   \n",
       "11               laikotarpis_iki     date   \n",
       "12                      reg_date     date   \n",
       "13            nuosavas_kapitalas  decimal   \n",
       "14  mok_sumos_ir_isipareigojimai  decimal   \n",
       "15             ilgalaikis_turtas  decimal   \n",
       "16           trumpalaikis_turtas  decimal   \n",
       "\n",
       "                                   Atributo aprašymas  \n",
       "0   juridinio asmens kodas Juridinių asmenų registre   \n",
       "1   juridinio asmens pavadinimas (individualių įmo...  \n",
       "2                       juridinio asmens formos kodas  \n",
       "3                 juridinio asmens formos pavadinimas  \n",
       "4             juridinio asmens teisinio statuso kodas  \n",
       "5       juridinio asmens teisinio statuso pavadinimas  \n",
       "6                             ataskaitos rūšies kodas  \n",
       "7                       ataskaitos rūšies pavadinimas  \n",
       "8                         FA dokumentų rinkinio kodas  \n",
       "9                         FA dokumentų rinkinio tipas  \n",
       "10                      finansinių metų pradžios data  \n",
       "11                      finansinių metų pabaigos data  \n",
       "12                 FA dokumentų registravimo JAR data  \n",
       "13  FA ataskaitos rodiklio (nuosavo kapitalo) reik...  \n",
       "14  FA rodiklio (mokėtinų sumų ir įsipareigojimų) ...  \n",
       "15  FA ataskaitos rodiklio (ilgalaikio turto) reik...  \n",
       "16  FA ataskaitos rodiklio (trumpalaikio turto) re...  "
      ]
     },
     "execution_count": 6,
     "metadata": {},
     "output_type": "execute_result"
    }
   ],
   "source": [
    "# ba dataframe attributes\n",
    "ba_att = pd.read_excel(\n",
    "    'https://www.registrucentras.lt/bylos/dokumentai/duomenys/aduomenys/JAR_FA_RODIKLIAI_BLNS_STR.xlsx', header=1)\n",
    "ba_att"
   ]
  },
  {
   "cell_type": "code",
   "execution_count": 7,
   "id": "35fc6b37",
   "metadata": {
    "ExecuteTime": {
     "end_time": "2022-12-08T19:39:21.791004Z",
     "start_time": "2022-12-08T19:39:21.713288Z"
    },
    "scrolled": true
   },
   "outputs": [
    {
     "data": {
      "text/html": [
       "<div>\n",
       "<style scoped>\n",
       "    .dataframe tbody tr th:only-of-type {\n",
       "        vertical-align: middle;\n",
       "    }\n",
       "\n",
       "    .dataframe tbody tr th {\n",
       "        vertical-align: top;\n",
       "    }\n",
       "\n",
       "    .dataframe thead th {\n",
       "        text-align: right;\n",
       "    }\n",
       "</style>\n",
       "<table border=\"1\" class=\"dataframe\">\n",
       "  <thead>\n",
       "    <tr style=\"text-align: right;\">\n",
       "      <th></th>\n",
       "      <th>Žymėjimas</th>\n",
       "      <th>Tipas</th>\n",
       "      <th>Atributo aprašymas</th>\n",
       "    </tr>\n",
       "  </thead>\n",
       "  <tbody>\n",
       "    <tr>\n",
       "      <th>0</th>\n",
       "      <td>obj_kodas</td>\n",
       "      <td>decimal</td>\n",
       "      <td>juridinio asmens kodas Juridinių asmenų registre</td>\n",
       "    </tr>\n",
       "    <tr>\n",
       "      <th>1</th>\n",
       "      <td>obj_pav</td>\n",
       "      <td>string</td>\n",
       "      <td>juridinio asmens pavadinimas (individualių įmo...</td>\n",
       "    </tr>\n",
       "    <tr>\n",
       "      <th>2</th>\n",
       "      <td>form_kodas</td>\n",
       "      <td>decimal</td>\n",
       "      <td>juridinio asmens formos kodas</td>\n",
       "    </tr>\n",
       "    <tr>\n",
       "      <th>3</th>\n",
       "      <td>form_pav</td>\n",
       "      <td>string</td>\n",
       "      <td>juridinio asmens formos pavadinimas</td>\n",
       "    </tr>\n",
       "    <tr>\n",
       "      <th>4</th>\n",
       "      <td>stat_statusas</td>\n",
       "      <td>decimal</td>\n",
       "      <td>juridinio asmens teisinio statuso kodas</td>\n",
       "    </tr>\n",
       "    <tr>\n",
       "      <th>5</th>\n",
       "      <td>stat_pav</td>\n",
       "      <td>string</td>\n",
       "      <td>juridinio asmens teisinio statuso pavadinimas</td>\n",
       "    </tr>\n",
       "    <tr>\n",
       "      <th>6</th>\n",
       "      <td>template_id</td>\n",
       "      <td>decimal</td>\n",
       "      <td>ataskaitos rūšies kodas</td>\n",
       "    </tr>\n",
       "    <tr>\n",
       "      <th>7</th>\n",
       "      <td>template_name</td>\n",
       "      <td>string</td>\n",
       "      <td>ataskaitos rūšies pavadinimas</td>\n",
       "    </tr>\n",
       "    <tr>\n",
       "      <th>8</th>\n",
       "      <td>standard_id</td>\n",
       "      <td>decimal</td>\n",
       "      <td>FA dokumentų rinkinio kodas</td>\n",
       "    </tr>\n",
       "    <tr>\n",
       "      <th>9</th>\n",
       "      <td>standard_name</td>\n",
       "      <td>string</td>\n",
       "      <td>FA dokumentų rinkinio tipas</td>\n",
       "    </tr>\n",
       "    <tr>\n",
       "      <th>10</th>\n",
       "      <td>laikotarpis_nuo</td>\n",
       "      <td>date</td>\n",
       "      <td>finansinių metų pradžios data</td>\n",
       "    </tr>\n",
       "    <tr>\n",
       "      <th>11</th>\n",
       "      <td>laikotarpis_iki</td>\n",
       "      <td>date</td>\n",
       "      <td>finansinių metų pabaigos data</td>\n",
       "    </tr>\n",
       "    <tr>\n",
       "      <th>12</th>\n",
       "      <td>reg_date</td>\n",
       "      <td>date</td>\n",
       "      <td>FA dokumentų registravimo JAR data</td>\n",
       "    </tr>\n",
       "    <tr>\n",
       "      <th>13</th>\n",
       "      <td>pelnas_pries_apmokestinima</td>\n",
       "      <td>decimal</td>\n",
       "      <td>FA ataskaitos rodiklio (pelno prieš apmokestin...</td>\n",
       "    </tr>\n",
       "    <tr>\n",
       "      <th>14</th>\n",
       "      <td>grynasis_pelnas</td>\n",
       "      <td>decimal</td>\n",
       "      <td>FA ataskaitos rodiklio (grynojo pelno) reikšmė...</td>\n",
       "    </tr>\n",
       "    <tr>\n",
       "      <th>15</th>\n",
       "      <td>pardavimo_pajamos</td>\n",
       "      <td>decimal</td>\n",
       "      <td>FA ataskaitos rodiklio (pardavimo pajamų) reik...</td>\n",
       "    </tr>\n",
       "  </tbody>\n",
       "</table>\n",
       "</div>"
      ],
      "text/plain": [
       "                     Žymėjimas    Tipas  \\\n",
       "0                    obj_kodas  decimal   \n",
       "1                      obj_pav   string   \n",
       "2                   form_kodas  decimal   \n",
       "3                     form_pav   string   \n",
       "4                stat_statusas  decimal   \n",
       "5                     stat_pav   string   \n",
       "6                  template_id  decimal   \n",
       "7                template_name   string   \n",
       "8                  standard_id  decimal   \n",
       "9                standard_name   string   \n",
       "10             laikotarpis_nuo     date   \n",
       "11             laikotarpis_iki     date   \n",
       "12                    reg_date     date   \n",
       "13  pelnas_pries_apmokestinima  decimal   \n",
       "14             grynasis_pelnas  decimal   \n",
       "15           pardavimo_pajamos  decimal   \n",
       "\n",
       "                                   Atributo aprašymas  \n",
       "0   juridinio asmens kodas Juridinių asmenų registre   \n",
       "1   juridinio asmens pavadinimas (individualių įmo...  \n",
       "2                       juridinio asmens formos kodas  \n",
       "3                 juridinio asmens formos pavadinimas  \n",
       "4             juridinio asmens teisinio statuso kodas  \n",
       "5       juridinio asmens teisinio statuso pavadinimas  \n",
       "6                             ataskaitos rūšies kodas  \n",
       "7                       ataskaitos rūšies pavadinimas  \n",
       "8                         FA dokumentų rinkinio kodas  \n",
       "9                         FA dokumentų rinkinio tipas  \n",
       "10                      finansinių metų pradžios data  \n",
       "11                      finansinių metų pabaigos data  \n",
       "12                 FA dokumentų registravimo JAR data  \n",
       "13  FA ataskaitos rodiklio (pelno prieš apmokestin...  \n",
       "14  FA ataskaitos rodiklio (grynojo pelno) reikšmė...  \n",
       "15  FA ataskaitos rodiklio (pardavimo pajamų) reik...  "
      ]
     },
     "execution_count": 7,
     "metadata": {},
     "output_type": "execute_result"
    }
   ],
   "source": [
    "# pna dataframe attributes\n",
    "pna_att = pd.read_excel(\n",
    "    'https://www.registrucentras.lt/bylos/dokumentai/duomenys/aduomenys/JAR_FA_RODIKLIAI_PLNA_STR.xlsx', header=1)\n",
    "pna_att"
   ]
  },
  {
   "cell_type": "markdown",
   "id": "11729304",
   "metadata": {},
   "source": [
    "## b. Kiek reikšmių ir požymių turi kiekvienas iš dokumentų?"
   ]
  },
  {
   "cell_type": "code",
   "execution_count": 8,
   "id": "b52f3534",
   "metadata": {
    "ExecuteTime": {
     "end_time": "2022-12-08T19:39:21.807007Z",
     "start_time": "2022-12-08T19:39:21.792004Z"
    }
   },
   "outputs": [],
   "source": [
    "def get_features_and_values(df):\n",
    "    name = df.name\n",
    "    features = len(df.columns)\n",
    "    values = len(df)\n",
    "    return print(f'{name} dataset has:\\n{features} features\\n{values} values')"
   ]
  },
  {
   "cell_type": "markdown",
   "id": "ce35f597",
   "metadata": {},
   "source": [
    "<font color='red'> Erikas Švažas: \n",
    "\n",
    "Šaunus fstring formatavimas! Be aware apie alternatyvas len() fcijai - pd.DataFrame.shape()\n",
    "</font>"
   ]
  },
  {
   "cell_type": "code",
   "execution_count": 9,
   "id": "60dc2513",
   "metadata": {
    "ExecuteTime": {
     "end_time": "2022-12-08T19:39:21.823011Z",
     "start_time": "2022-12-08T19:39:21.809008Z"
    }
   },
   "outputs": [],
   "source": [
    "df_li = [ba2020, ba2021, pna2020, pna2021]"
   ]
  },
  {
   "cell_type": "code",
   "execution_count": 10,
   "id": "9580c460",
   "metadata": {
    "ExecuteTime": {
     "end_time": "2022-12-08T19:39:21.839014Z",
     "start_time": "2022-12-08T19:39:21.826012Z"
    }
   },
   "outputs": [
    {
     "name": "stdout",
     "output_type": "stream",
     "text": [
      "ba2020 dataset has:\n",
      "18 features\n",
      "106318 values\n",
      " \n",
      "ba2021 dataset has:\n",
      "18 features\n",
      "120850 values\n",
      " \n",
      "pna2020 dataset has:\n",
      "17 features\n",
      "96616 values\n",
      " \n",
      "pna2021 dataset has:\n",
      "17 features\n",
      "110227 values\n",
      " \n"
     ]
    }
   ],
   "source": [
    "for df in df_li:\n",
    "    get_features_and_values(df)\n",
    "    print(' ')"
   ]
  },
  {
   "cell_type": "markdown",
   "id": "a1b3c0dc",
   "metadata": {},
   "source": [
    "## c. Kokio duomenų tipo yra kiekvienas iš požymių? Ar duomenų tipai tarp atitinkamų lentelių iš 2020 ir 2021 metų sutampa?\n"
   ]
  },
  {
   "cell_type": "markdown",
   "id": "eda8a6cd",
   "metadata": {
    "ExecuteTime": {
     "end_time": "2022-12-05T17:07:02.980825Z",
     "start_time": "2022-12-05T17:07:02.956816Z"
    }
   },
   "source": [
    "Duomenų tipus ir požymius galime matyti Pirmos dalies 3.a punkte."
   ]
  },
  {
   "attachments": {},
   "cell_type": "markdown",
   "id": "c8a09329",
   "metadata": {},
   "source": [
    "<font color='red'> Erikas Švažas: \n",
    "\n",
    "*Pandas* infer duomenų tipą pagal pačioje *Pandas* esančius duomenų tipus atliekant *read_csv(). Sąlyga būtent ir prašo - koks duomenų tipas buvo priskirtas kiekvienam laukeliui. Šie tipai skiriasi nuo repositorijoje nurodytų duomenų tipų. [-0.3 taško]\n",
    "</font>"
   ]
  },
  {
   "cell_type": "markdown",
   "id": "f3e0e271",
   "metadata": {
    "ExecuteTime": {
     "end_time": "2022-12-05T17:15:43.667086Z",
     "start_time": "2022-12-05T17:15:43.657082Z"
    }
   },
   "source": [
    "## d. Paaiškinkite kas yra object duomenų tipas ir kuo jis skiriasi nuo string duomenų tipo."
   ]
  },
  {
   "cell_type": "markdown",
   "id": "d76324b6",
   "metadata": {
    "ExecuteTime": {
     "end_time": "2022-12-05T17:18:30.859605Z",
     "start_time": "2022-12-05T17:18:30.848603Z"
    }
   },
   "source": [
    "Object duomenų tipas yra string arba string ir numeric verčių mišinys. pvz: data, kur turime skaičius ir brūkšnelius. Atpažinimo kodai kurie susideda iš raidžių ir skaičių. etc."
   ]
  },
  {
   "attachments": {},
   "cell_type": "markdown",
   "id": "5074fa09",
   "metadata": {},
   "source": [
    "<font color='red'> Erikas Švažas: \n",
    "\n",
    "Dar pridėčiau, kad *everything is an object in Python* ir jei *Pandas* negali atpažinti duomenų tipo (ar tai integer ar string), by default bus *object*. Kiekvineas objektas turės skirtingas funkcijas ir savybes - pavyzdžiui norint naudoti string tipui būdingas fcijas .str.contains() reikės pradžioje atlikti konvertavimą į šį duomenų tipą.\n",
    "</font> "
   ]
  },
  {
   "cell_type": "markdown",
   "id": "afff9e2b",
   "metadata": {
    "ExecuteTime": {
     "end_time": "2022-12-05T17:18:48.432565Z",
     "start_time": "2022-12-05T17:18:48.423563Z"
    }
   },
   "source": [
    "## e. Kuri lentelė turi daugiausiai nežinomų verčių? Kuris požymis išsiskiria nežinomų verčių skaičiumi?"
   ]
  },
  {
   "cell_type": "code",
   "execution_count": 16,
   "id": "7b8c6129",
   "metadata": {
    "ExecuteTime": {
     "end_time": "2022-12-08T19:39:21.854931Z",
     "start_time": "2022-12-08T19:39:21.840015Z"
    }
   },
   "outputs": [],
   "source": [
    "# Iterating through frames to find out about nan values.\n",
    "def Nan_info(df):\n",
    "    name = df.name\n",
    "    nanval = df.isna().sum().sum()\n",
    "    maxval = df.isna().sum().sort_values(ascending=False)[:1][0]\n",
    "    max_feat = df.isna().sum().sort_values(ascending=False)[:1].keys()[0]\n",
    "    \n",
    "    print(f'{name} dataset has {nanval} NaN values.\\nFeature {max_feat} has the most Nan values,\\nwith a total of {maxval}')"
   ]
  },
  {
   "cell_type": "code",
   "execution_count": 17,
   "id": "2d978f22",
   "metadata": {
    "ExecuteTime": {
     "end_time": "2022-12-08T19:39:23.373228Z",
     "start_time": "2022-12-08T19:39:21.856933Z"
    }
   },
   "outputs": [
    {
     "name": "stdout",
     "output_type": "stream",
     "text": [
      "ba2020 dataset has 17013 NaN values.\n",
      "Feature mok_sumos_ir_isipareigojimai has the most Nan values,\n",
      "with a total of 13644\n",
      " \n",
      "ba2021 dataset has 24187 NaN values.\n",
      "Feature mok_sumos_ir_isipareigojimai has the most Nan values,\n",
      "with a total of 19670\n",
      " \n",
      "pna2020 dataset has 47606 NaN values.\n",
      "Feature pelnas_pries_apmokestinima has the most Nan values,\n",
      "with a total of 30365\n",
      " \n",
      "pna2021 dataset has 55858 NaN values.\n",
      "Feature pelnas_pries_apmokestinima has the most Nan values,\n",
      "with a total of 34755\n",
      " \n"
     ]
    }
   ],
   "source": [
    "for df in df_li:\n",
    "    Nan_info(df)\n",
    "    print(' ')"
   ]
  },
  {
   "attachments": {},
   "cell_type": "markdown",
   "id": "d311b1c7",
   "metadata": {
    "ExecuteTime": {
     "end_time": "2022-12-05T17:36:25.094410Z",
     "start_time": "2022-12-05T17:36:25.081407Z"
    }
   },
   "source": [
    "Daugiausiai nežinomų verčių turi Pelno/Nuostolių ataskaitos.Požymis pelnas_pries_apmokestinima turi 55858 vertes, tiek 2020 tiek 2021 metais.\n",
    "\n",
    "\n",
    "<font color='red'> Erikas Švažas: \n",
    "\n",
    "Kodas teisingas, tik interpretacija nėra tiksli - visas dataset'as turi ~56k trūkstamų verčių, bet požymis *pelnas_pries_apmokestinima* neturi 34755 verčių.\n",
    "\n",
    "Patarimas - vietoje value_counts() galima naudoti \n",
    "````\n",
    "dataframe.isna().sum().nlargest(1)\n",
    "````\n",
    "kad išsiaiškinti kuris feature turi daugiausiai missing values\n",
    "</font> "
   ]
  },
  {
   "cell_type": "markdown",
   "id": "82c021e3",
   "metadata": {},
   "source": [
    "## f. Ar kažkuri lentelė turi pasikartojančių duomenų?"
   ]
  },
  {
   "cell_type": "code",
   "execution_count": null,
   "id": "851a23f1",
   "metadata": {
    "ExecuteTime": {
     "end_time": "2022-12-08T19:39:23.389232Z",
     "start_time": "2022-12-08T19:39:23.374228Z"
    }
   },
   "outputs": [],
   "source": [
    "# Checking for duplicates.\n",
    "def has_dupes(df):\n",
    "    name = df.name\n",
    "    dupes = df.duplicated().sum()\n",
    "\n",
    "    if dupes > 0:\n",
    "        print(f'{name} has duplicates. Amount {dupes}')\n",
    "    else:\n",
    "        print(f'{name} does not have duplicate values.')"
   ]
  },
  {
   "cell_type": "code",
   "execution_count": null,
   "id": "566d34dd",
   "metadata": {
    "ExecuteTime": {
     "end_time": "2022-12-08T19:39:23.952125Z",
     "start_time": "2022-12-08T19:39:23.390231Z"
    }
   },
   "outputs": [],
   "source": [
    "for df in df_li:\n",
    "    has_dupes(df)"
   ]
  },
  {
   "attachments": {},
   "cell_type": "markdown",
   "id": "6fb148c4",
   "metadata": {},
   "source": [
    "\n",
    "<font color='red'> Erikas Švažas: \n",
    "\n",
    "Paprastesnė alternatyva:\n",
    "\n",
    "```\n",
    "ba2020[ba2020.duplicated()].shape\n",
    "\n",
    "```"
   ]
  },
  {
   "cell_type": "markdown",
   "id": "2bbbe2f2",
   "metadata": {},
   "source": [
    "Nei viena lentelė neturi pasikartojančių duomenų."
   ]
  },
  {
   "cell_type": "markdown",
   "id": "48fb1d44",
   "metadata": {},
   "source": [
    "## i. Kokia stulpelių aibė vienareikšmiškai identifikuoja kiekvienos lentelės eilutę?"
   ]
  },
  {
   "cell_type": "code",
   "execution_count": null,
   "id": "8a3740b5",
   "metadata": {
    "ExecuteTime": {
     "end_time": "2022-12-08T19:39:23.983836Z",
     "start_time": "2022-12-08T19:39:23.954126Z"
    },
    "scrolled": false
   },
   "outputs": [],
   "source": [
    "# Uniquity\n",
    "ba2020[['obj_kodas','laikotarpis_nuo','laikotarpis_iki']].duplicated().sum()"
   ]
  },
  {
   "cell_type": "markdown",
   "id": "324e90a7",
   "metadata": {},
   "source": [
    "Objekto kodas ir laikotarpis nuo iki parodo unikalumą šiame duomenų rinkinyje."
   ]
  },
  {
   "cell_type": "code",
   "execution_count": 23,
   "id": "cf5a6d59",
   "metadata": {
    "ExecuteTime": {
     "end_time": "2022-12-08T19:39:23.999881Z",
     "start_time": "2022-12-08T19:39:23.984836Z"
    }
   },
   "outputs": [],
   "source": [
    "# Checking if dataframes are unique\n",
    "def obj_nuo_iki_unique(df):\n",
    "    name = df.name\n",
    "    check = df[['obj_kodas','laikotarpis_nuo','laikotarpis_iki']].duplicated().sum()\n",
    "    if check > 0:\n",
    "        print(f\"{name} dataset does not provide uniqueness through 'obj_kodas','laikotarpis_nuo','laikotarpis_iki'\")\n",
    "    else:\n",
    "        print(f\"{name} provides uniqueness through 'obj_kodas','laikotarpis_nuo','laikotarpis_iki'\")"
   ]
  },
  {
   "cell_type": "code",
   "execution_count": 24,
   "id": "6f1798dd",
   "metadata": {
    "ExecuteTime": {
     "end_time": "2022-12-08T19:39:24.093902Z",
     "start_time": "2022-12-08T19:39:24.000881Z"
    },
    "scrolled": false
   },
   "outputs": [
    {
     "name": "stdout",
     "output_type": "stream",
     "text": [
      "ba2020 provides uniqueness through 'obj_kodas','laikotarpis_nuo','laikotarpis_iki'\n",
      "ba2021 provides uniqueness through 'obj_kodas','laikotarpis_nuo','laikotarpis_iki'\n",
      "pna2020 provides uniqueness through 'obj_kodas','laikotarpis_nuo','laikotarpis_iki'\n",
      "pna2021 provides uniqueness through 'obj_kodas','laikotarpis_nuo','laikotarpis_iki'\n"
     ]
    }
   ],
   "source": [
    "for df in df_li:\n",
    "    obj_nuo_iki_unique(df)"
   ]
  },
  {
   "attachments": {},
   "cell_type": "markdown",
   "id": "72c32431",
   "metadata": {},
   "source": [
    "<font color='red'> Erikas Švažas: \n",
    "\n",
    "Teisingai, bet iš esmės užtektų vieno laikotarpio stulpelio.\n",
    "</font>"
   ]
  },
  {
   "cell_type": "markdown",
   "id": "c735efe1",
   "metadata": {
    "ExecuteTime": {
     "end_time": "2022-12-05T18:04:22.589266Z",
     "start_time": "2022-12-05T18:04:22.581264Z"
    }
   },
   "source": [
    "Kaip matome datasete objekto kodas su laikotarpiu rėžiu nusako unikalumą duomenų šaltinyje."
   ]
  },
  {
   "cell_type": "markdown",
   "id": "053ba72c",
   "metadata": {},
   "source": [
    "# Antra dalis"
   ]
  },
  {
   "cell_type": "markdown",
   "id": "caf00417",
   "metadata": {
    "ExecuteTime": {
     "end_time": "2022-12-05T18:19:03.001994Z",
     "start_time": "2022-12-05T18:19:02.989998Z"
    }
   },
   "source": [
    "## 4. Keletas juridinių asmenų pavadinimų yra tiesiogiai susiję su “Thermo Fisher” bendrove. Raskite pilnus šių bendrovių pavadinimus."
   ]
  },
  {
   "attachments": {},
   "cell_type": "markdown",
   "id": "9414b030",
   "metadata": {},
   "source": [
    "<font color=\"red\"> Erikas Švažas\n",
    "\n",
    "Ateityje gali praversti .str.contains(case=?) argumentas\n",
    "\n",
    "</font>"
   ]
  },
  {
   "cell_type": "code",
   "execution_count": 18,
   "id": "c7fc1a5f",
   "metadata": {
    "ExecuteTime": {
     "end_time": "2022-12-08T19:39:24.139913Z",
     "start_time": "2022-12-08T19:39:24.095902Z"
    }
   },
   "outputs": [
    {
     "data": {
      "text/plain": [
       "array(['UAB \"Thermo Fisher Scientific Vector Holdings\"',\n",
       "       'UAB \"Thermo Fisher Scientific Baltics\"',\n",
       "       'UAB \"Thermo Fisher Scientific Vector Senior Holdings I\"',\n",
       "       'UAB \"Thermo Fisher Scientific Vector Senior Holdings II\"'],\n",
       "      dtype=object)"
      ]
     },
     "execution_count": 18,
     "metadata": {},
     "output_type": "execute_result"
    }
   ],
   "source": [
    "# names that match Thermo Fisher\n",
    "ba2020[ba2020['obj_pav'].str.contains(\"Thermo Fisher\")]['obj_pav'].unique()"
   ]
  },
  {
   "cell_type": "markdown",
   "id": "885f4026",
   "metadata": {},
   "source": [
    "## 5. Apsimeskime, kad atributas “form_pav” neegzistuoja. Iš likusių laukelių gaukite visas UAB ir MB bendroves. Palyginkite rekonstrukcijos tikslumą su “form_pav” vertėmis - kiek procentų verčių pavyko atkurti skirtingose duomenyse?"
   ]
  },
  {
   "cell_type": "code",
   "execution_count": null,
   "id": "1b42023c",
   "metadata": {
    "ExecuteTime": {
     "end_time": "2022-12-08T19:39:24.155917Z",
     "start_time": "2022-12-08T19:39:24.140913Z"
    }
   },
   "outputs": [],
   "source": [
    "def get_form_name(name: str):\n",
    "    name = name.lower()\n",
    "    if 'uždaroji akcinė' in name or 'uab' in name:\n",
    "        return 'Uždaroji akcinė bendrovė'\n",
    "    if 'mb' in name:\n",
    "        return 'Mažoji bendrija'\n",
    "    if 'všį' in name or 'viešoji' in name:\n",
    "        return 'Viešoji įstaiga'\n",
    "    if 'labdaros' in name or 'fondas' in name:\n",
    "        return 'Labdaros ir paramos fondas'\n",
    "    return 'Asociacija'"
   ]
  },
  {
   "cell_type": "code",
   "execution_count": null,
   "id": "bfb023a9",
   "metadata": {
    "ExecuteTime": {
     "end_time": "2022-12-08T19:39:24.171921Z",
     "start_time": "2022-12-08T19:39:24.156917Z"
    },
    "scrolled": false
   },
   "outputs": [],
   "source": [
    "def get_reconstruct_percent(df):\n",
    "    name = df.name\n",
    "    length = len(df)  # Dataset length\n",
    "    names = df['obj_pav'].apply(get_form_name) # Creating a series with modified name\n",
    "    unmatched = len(df[~(df['form_pav'] == names)]) # Inverse search by name.\n",
    "    \n",
    "    percent = (unmatched/length)*100# Percent of matching error.\n",
    "    \n",
    "    print(f\"{name} has a {round(percent,2)} % matching error with {unmatched} rows unmatched.\")"
   ]
  },
  {
   "cell_type": "code",
   "execution_count": null,
   "id": "8e59cdb2",
   "metadata": {
    "ExecuteTime": {
     "end_time": "2022-12-08T19:39:24.374760Z",
     "start_time": "2022-12-08T19:39:24.173921Z"
    }
   },
   "outputs": [],
   "source": [
    "for df in df_li:\n",
    "    get_reconstruct_percent(df)"
   ]
  },
  {
   "attachments": {},
   "cell_type": "markdown",
   "id": "e4c75aa9",
   "metadata": {},
   "source": [
    "<font color=\"red\"> Erikas Švažas:\n",
    "\n",
    "Puikiai, kad pastebėjote jog gali būti tiek UAB, tiek ilgasis pavadinimas (Uždaroji akcinė bendrovė). Taip pat čia buvo galima panaudoti str.split()/contains()... logiką ir nereikėtų išvardinti visų galimų if atvejų. \n",
    "\n",
    "Minusas - kai skaičiuojame rekonstrukcijos tikslumą turėtumę įtraukti tik exposed vertes (t.y. - mums neįdomi Viešoji įstaiga, bet įdomu tik UAB ir MB), tad reikėtų nusifiltruoti df_li vertes pagal obj_pav, kad išlaikytų tik UAB ir MB stulpelius (kuriuos turime) [-0.1 taško]\n",
    "</font>"
   ]
  },
  {
   "cell_type": "markdown",
   "id": "0aa70588",
   "metadata": {},
   "source": [
    "## 6. Apskaičiuoti vidutinias reikšmes “pelnas_pries_apmokestinima” ir “nuosavas_kapitalas” laukų kiekvienai juridinio asmens formai (Uždaroji akcinė bendrovė, Mažoji bendrija, etc.) už visą laikotarpį (2020 ir 2021 metai kartu)"
   ]
  },
  {
   "cell_type": "code",
   "execution_count": null,
   "id": "6bf8705e",
   "metadata": {},
   "outputs": [],
   "source": [
    "# Concatted dataset with 2020 and 2021 values.\n",
    "pna = pd.concat([pna2020, pna2021], axis=0)\n",
    "pna.reset_index(inplace=True)\n",
    "pna['pelnas_pries_apmokestinima'].fillna(0, inplace=True)\n",
    "pna.drop(columns='index', axis=0, inplace=True)\n",
    "pna['reg_date'] = pd.to_datetime(pna['reg_date'])\n",
    "ba = pd.concat([ba2020, ba2021], axis=0)\n",
    "ba.reset_index(inplace=True)\n",
    "ba.drop(columns='index', axis=0, inplace=True)\n",
    "ba['nuosavas_kapitalas'].fillna(0, inplace=True)\n",
    "ba['reg_date'] = pd.to_datetime(ba['reg_date'])"
   ]
  },
  {
   "cell_type": "code",
   "execution_count": null,
   "id": "62539c7c",
   "metadata": {
    "ExecuteTime": {
     "end_time": "2022-12-08T19:39:24.858888Z",
     "start_time": "2022-12-08T19:39:24.593559Z"
    }
   },
   "outputs": [],
   "source": [
    "# Unified the two datasets. Did not check for data leaks and breaks. (Probably a lot)\n",
    "df = ba.merge(pna[['obj_kodas', 'laikotarpis_nuo', 'laikotarpis_iki', 'pelnas_pries_apmokestinima', 'grynasis_pelnas',\n",
    "              'pardavimo_pajamos']], how='inner', on=['obj_kodas', 'laikotarpis_nuo', 'laikotarpis_iki'], indicator=False)\n",
    "df.reset_index()\n",
    "df['reg_date'] = pd.to_datetime(df['reg_date'])"
   ]
  },
  {
   "cell_type": "code",
   "execution_count": null,
   "id": "a04b9d04",
   "metadata": {
    "ExecuteTime": {
     "end_time": "2022-12-08T19:39:24.937080Z",
     "start_time": "2022-12-08T19:39:24.860886Z"
    }
   },
   "outputs": [],
   "source": [
    "df.groupby('form_pav')[['pelnas_pries_apmokestinima']].mean()"
   ]
  },
  {
   "cell_type": "code",
   "execution_count": null,
   "id": "08af3fc7",
   "metadata": {
    "ExecuteTime": {
     "end_time": "2022-12-08T19:39:24.967086Z",
     "start_time": "2022-12-08T19:39:24.939080Z"
    }
   },
   "outputs": [],
   "source": [
    "df.groupby('form_pav')[['nuosavas_kapitalas']].mean()"
   ]
  },
  {
   "cell_type": "markdown",
   "id": "687d9705",
   "metadata": {},
   "source": [
    "## 7. Atrinkti unikalias UAB ir MB įmones, kurių “nuosavas_kapitalas” buvo didesnis negu visų UAB ir MB įmonių nuosavo kapitalo mediana už visą laitotarpį (2020 ir 2021 metai kartu)."
   ]
  },
  {
   "cell_type": "code",
   "execution_count": null,
   "id": "b2770662",
   "metadata": {
    "ExecuteTime": {
     "end_time": "2022-12-08T19:39:25.060108Z",
     "start_time": "2022-12-08T19:39:24.969087Z"
    }
   },
   "outputs": [],
   "source": [
    "#Getting median values for mb and uab firm types.\n",
    "mb_median = df[df['form_pav'] == 'Mažoji bendrija'].groupby(\n",
    "    'form_pav')['nuosavas_kapitalas'].median()[0]\n",
    "uab_median = df[df['form_pav'] == 'Uždaroji akcinė bendrovė'].groupby(\n",
    "    'form_pav')['nuosavas_kapitalas'].median()[0]"
   ]
  },
  {
   "cell_type": "code",
   "execution_count": null,
   "id": "32a5d1f5",
   "metadata": {
    "ExecuteTime": {
     "end_time": "2022-12-08T19:39:25.186016Z",
     "start_time": "2022-12-08T19:39:25.062108Z"
    }
   },
   "outputs": [],
   "source": [
    "temp7 = df[(df['form_pav'] == 'Mažoji bendrija') | (\n",
    "    ba['form_pav'] == 'Uždaroji akcinė bendrovė')]"
   ]
  },
  {
   "cell_type": "code",
   "execution_count": null,
   "id": "ba59f6f8",
   "metadata": {
    "ExecuteTime": {
     "end_time": "2022-12-08T19:39:25.295040Z",
     "start_time": "2022-12-08T19:39:25.193016Z"
    },
    "scrolled": true
   },
   "outputs": [],
   "source": [
    "temp7[(temp7['form_pav'] == 'Mažoji bendrija') & (temp7['nuosavas_kapitalas'] > mb_median) | (\n",
    "    temp7['form_pav'] == 'Uždaroji akcinė bendrovė') & (temp7['nuosavas_kapitalas'] > uab_median)]"
   ]
  },
  {
   "cell_type": "markdown",
   "id": "918c6013",
   "metadata": {},
   "source": [
    "## 8. Įvertinkite kurios įmonės išsiskiria ypač didele “nuosavas_kapitalas” verte (patenka į 99th percentilę). Patikrinkite įmonių patenkančių į TOP-10 vertes rekvizitai.vz.lt svetainėje. Ranka įrašomi duomenys sukuria klaidos galimybę. Ar yra bendrovė, kurios “nuosavas_kapitalas” jums kelia įtarimų? "
   ]
  },
  {
   "cell_type": "code",
   "execution_count": null,
   "id": "c29b85c7",
   "metadata": {
    "ExecuteTime": {
     "end_time": "2022-12-08T19:39:25.340653Z",
     "start_time": "2022-12-08T19:39:25.296040Z"
    },
    "scrolled": false
   },
   "outputs": [],
   "source": [
    "# Getting only companies that belong to 1% by 'nuosavas_kapitalas'\n",
    "df[df['nuosavas_kapitalas'] > df['nuosavas_kapitalas'].quantile(0.99)].sort_values(by='nuosavas_kapitalas', ascending=False)"
   ]
  },
  {
   "cell_type": "markdown",
   "id": "55b910c0",
   "metadata": {},
   "source": [
    "## 9. Vizualiai atvaizduoti juridinių asmenų formos pasiskirstymą per visą laikotarpį (2020 ir 2021 metais kartu). Vizualizacijos turi sutapti su pavaizduota dešinėje."
   ]
  },
  {
   "cell_type": "code",
   "execution_count": null,
   "id": "7ad0d6fb",
   "metadata": {
    "ExecuteTime": {
     "end_time": "2022-12-08T19:39:25.805981Z",
     "start_time": "2022-12-08T19:39:25.342653Z"
    },
    "scrolled": false
   },
   "outputs": [],
   "source": [
    "# Pandas approach. Did not complete matplotlib and seaborn saddly.\n",
    "df.groupby(['form_pav',df['reg_date'].dt.year])['obj_pav'].count().unstack().plot(kind='bar', logy=True, grid=True)\n",
    "plt.title('Juridinių asmenų skaičius 2020 ir 2021 metais')\n",
    "plt.ylabel('Vienetų skaičius')\n",
    "plt.legend(['2020_count','2021_count'])"
   ]
  },
  {
   "cell_type": "markdown",
   "id": "c5f96860",
   "metadata": {
    "ExecuteTime": {
     "end_time": "2022-12-06T17:22:01.913587Z",
     "start_time": "2022-12-06T17:22:01.903585Z"
    }
   },
   "source": [
    "## 10. Kurį mėnesį buvo įregistruota daugiausiai juridinių asmenų 2020 ir 2021 metais? Atvaizduokite stulpelinę diagramą."
   ]
  },
  {
   "cell_type": "code",
   "execution_count": null,
   "id": "1dcd7d53",
   "metadata": {
    "ExecuteTime": {
     "end_time": "2022-12-08T19:39:25.930009Z",
     "start_time": "2022-12-08T19:39:25.807981Z"
    }
   },
   "outputs": [],
   "source": [
    "df.groupby(['form_pav',df['reg_date'].dt.to_period('M')])['obj_pav'].count().unstack().sum().sort_values(ascending=False)[:2].plot(kind='bar')\n",
    "plt.xlabel('Mėn.')\n",
    "plt.ylabel('Juridinių asmenų sk.')"
   ]
  },
  {
   "cell_type": "markdown",
   "id": "2b6eeead",
   "metadata": {},
   "source": [
    "## 11. Vizualiai atvaizduoti juridinių asmenų statuso pasiskirstymą kiekvienais metais."
   ]
  },
  {
   "cell_type": "code",
   "execution_count": null,
   "id": "90989502",
   "metadata": {
    "ExecuteTime": {
     "end_time": "2022-12-08T19:39:26.351315Z",
     "start_time": "2022-12-08T19:39:25.931009Z"
    },
    "scrolled": false
   },
   "outputs": [],
   "source": [
    "df.groupby([df['reg_date'].dt.year, 'stat_pav'])['obj_pav'].count().unstack().plot(kind='bar', figsize=(16,8), logy=True, grid=True)\n",
    "plt.legend()"
   ]
  },
  {
   "cell_type": "markdown",
   "id": "c59d52c8",
   "metadata": {},
   "source": [
    "## 12. Kiekvienai įmonei apskaičiuoti tendenciją. Jei “grynasis_pelnas” + “nuosavas_kapitalas” 2021 metais buvo didesnis už 2020 metais deklaruotą, tai tendencija “teigiama”, jei ne - “neigiama”. Atvaizduoti tendencijos duomenis stulpelinėje diagramoje."
   ]
  },
  {
   "cell_type": "code",
   "execution_count": null,
   "id": "b6e04a9d",
   "metadata": {
    "ExecuteTime": {
     "end_time": "2022-12-08T19:39:26.366697Z",
     "start_time": "2022-12-08T19:39:26.353316Z"
    }
   },
   "outputs": [],
   "source": [
    "df['pajamos'] =  df['grynasis_pelnas'] + df['nuosavas_kapitalas']"
   ]
  },
  {
   "cell_type": "code",
   "execution_count": null,
   "id": "847fab83",
   "metadata": {
    "ExecuteTime": {
     "end_time": "2022-12-08T19:39:26.508373Z",
     "start_time": "2022-12-08T19:39:26.368698Z"
    }
   },
   "outputs": [],
   "source": [
    "tend = pd.merge(\n",
    "    df.loc[df['reg_date'].dt.year == 2020].groupby('obj_kodas')['pajamos'].sum(),\n",
    "    df.loc[df['reg_date'].dt.year == 2021].groupby('obj_kodas')['pajamos'].sum(),\n",
    "    how='inner',\n",
    "    on='obj_kodas',\n",
    "    suffixes=['2020', '2021']\n",
    ")\n",
    "tend.fillna(0, inplace=True)"
   ]
  },
  {
   "cell_type": "code",
   "execution_count": null,
   "id": "250d496d",
   "metadata": {
    "ExecuteTime": {
     "end_time": "2022-12-08T19:39:26.523376Z",
     "start_time": "2022-12-08T19:39:26.510373Z"
    }
   },
   "outputs": [],
   "source": [
    "def tendency(x:int):\n",
    "    if x > 0:\n",
    "        return 'teigiama'\n",
    "    return 'neigiama'"
   ]
  },
  {
   "cell_type": "code",
   "execution_count": null,
   "id": "e3c20e9e",
   "metadata": {
    "ExecuteTime": {
     "end_time": "2022-12-08T19:39:26.555383Z",
     "start_time": "2022-12-08T19:39:26.525376Z"
    }
   },
   "outputs": [],
   "source": [
    "tend['difference'] = tend['pajamos2020'] - tend['pajamos2021']\n",
    "tend['tendency'] = tend['difference'].apply(tendency)\n",
    "tend.reset_index(inplace=True)"
   ]
  },
  {
   "cell_type": "code",
   "execution_count": null,
   "id": "c76ad42f",
   "metadata": {
    "ExecuteTime": {
     "end_time": "2022-12-08T19:39:26.774969Z",
     "start_time": "2022-12-08T19:39:26.557384Z"
    },
    "scrolled": false
   },
   "outputs": [],
   "source": [
    "df = pd.merge(df,tend[['obj_kodas','tendency']],how='left',on='obj_kodas')"
   ]
  },
  {
   "cell_type": "code",
   "execution_count": null,
   "id": "218c57db",
   "metadata": {
    "ExecuteTime": {
     "end_time": "2022-12-08T19:39:26.870991Z",
     "start_time": "2022-12-08T19:39:26.776969Z"
    },
    "scrolled": false
   },
   "outputs": [],
   "source": [
    "df.groupby('tendency')['obj_kodas'].count().plot(kind='bar')\n",
    "plt.xlabel('Tendencija')"
   ]
  },
  {
   "cell_type": "markdown",
   "id": "9bc1a5b9",
   "metadata": {},
   "source": [
    "## 13. Surasti UAB ir MB įmones, kurios 2020 vykdė veiklą, o 2021 - bankrutavo. Bankrutavusių įmonių statusai: “Bankrutavęs”, “Bankrutuojantis”, “Išregistruotas”, “Inicijuojamas likvidavimas”, “Likviduojamas”, “Likviduojamas dėl bankroto”. Toliau veiklą vykdanti įmonė pažymėta \"Teisinis stat neįregistruotas\" statusu. Kokia bankrutavusių įmonių “nuosavas_kapitalas”suma 2021 metais? Kokia bankrutavusių įmonių “grynasis_pelnas” suma 2021 metais? Palyginti šias sumas su veikiančių įmonių atitinkamomis sumomis."
   ]
  },
  {
   "cell_type": "code",
   "execution_count": null,
   "id": "e66b458c",
   "metadata": {
    "ExecuteTime": {
     "end_time": "2022-12-08T19:39:26.965826Z",
     "start_time": "2022-12-08T19:39:26.872991Z"
    }
   },
   "outputs": [],
   "source": [
    "uabmb = df[df['form_pav'].isin(['Uždaroji akcinė bendrovė','Mažoji bendrija'])]"
   ]
  },
  {
   "cell_type": "code",
   "execution_count": null,
   "id": "df5148f5",
   "metadata": {
    "ExecuteTime": {
     "end_time": "2022-12-08T19:39:27.013837Z",
     "start_time": "2022-12-08T19:39:26.966829Z"
    }
   },
   "outputs": [],
   "source": [
    "# bankrupt filter\n",
    "bankrupt = ['Išregistruotas', 'Likviduojamas',\n",
    "            'Likviduojamas dėl bankroto', 'Bankrutuojantis',\n",
    "            'Inicijuojamas likvidavimas', 'Bankrutavęs'] \n",
    "# companies working in 2020\n",
    "working = uabmb.loc[(uabmb['reg_date'].dt.year == 2020) & (\n",
    "    uabmb['stat_pav'].isin(['Teisinis stat neįregistruotas']))]['obj_kodas']"
   ]
  },
  {
   "cell_type": "code",
   "execution_count": null,
   "id": "ea969bbd",
   "metadata": {
    "ExecuteTime": {
     "end_time": "2022-12-08T19:39:27.045845Z",
     "start_time": "2022-12-08T19:39:27.015837Z"
    }
   },
   "outputs": [],
   "source": [
    "# Bankrupt company codes in 2021\n",
    "bankrupted = uabmb.loc[(uabmb['reg_date'].dt.year == 2021) & (\n",
    "    uabmb['stat_pav'].isin(bankrupt))][['obj_kodas', 'stat_pav']]"
   ]
  },
  {
   "cell_type": "code",
   "execution_count": null,
   "id": "08a9a514",
   "metadata": {
    "ExecuteTime": {
     "end_time": "2022-12-08T19:39:27.075545Z",
     "start_time": "2022-12-08T19:39:27.047845Z"
    }
   },
   "outputs": [],
   "source": [
    "# Tried merging with inner to find companies that worked in 2020 but are bankrupt in 2021.\n",
    "pd.merge(working,bankrupted,how='left',on='obj_kodas')"
   ]
  },
  {
   "cell_type": "markdown",
   "id": "a9ef2d8e",
   "metadata": {},
   "source": [
    "## 14. Sukurti naują stulpelį “turtas”, kuris skaičiuojamas sudedant “trumpalaikis_turtas” ir “ilgalaikis_turtas”"
   ]
  },
  {
   "cell_type": "code",
   "execution_count": null,
   "id": "07f46897",
   "metadata": {
    "ExecuteTime": {
     "end_time": "2022-12-08T19:39:27.091140Z",
     "start_time": "2022-12-08T19:39:27.077138Z"
    }
   },
   "outputs": [],
   "source": [
    "df['trumpalaikis_turtas'].fillna(0, inplace=True)\n",
    "df['ilgalaikis_turtas'].fillna(0, inplace=True)"
   ]
  },
  {
   "cell_type": "code",
   "execution_count": null,
   "id": "4fe05b12",
   "metadata": {
    "ExecuteTime": {
     "end_time": "2022-12-08T19:39:27.107144Z",
     "start_time": "2022-12-08T19:39:27.092140Z"
    }
   },
   "outputs": [],
   "source": [
    "df['turtas'] = df['trumpalaikis_turtas'] + df['ilgalaikis_turtas']"
   ]
  },
  {
   "cell_type": "code",
   "execution_count": null,
   "id": "0a8bd0e1",
   "metadata": {
    "ExecuteTime": {
     "end_time": "2022-12-08T19:39:27.123148Z",
     "start_time": "2022-12-08T19:39:27.109145Z"
    }
   },
   "outputs": [],
   "source": [
    "bins = [0, 3000, 20_000, 35_000, 70_000, df['turtas'].max()]"
   ]
  },
  {
   "cell_type": "code",
   "execution_count": null,
   "id": "14f71f26",
   "metadata": {
    "ExecuteTime": {
     "end_time": "2022-12-08T19:39:27.139232Z",
     "start_time": "2022-12-08T19:39:27.124148Z"
    }
   },
   "outputs": [],
   "source": [
    "df['grupe'] =  pd.cut(df['turtas'], bins=bins)"
   ]
  },
  {
   "cell_type": "code",
   "execution_count": null,
   "id": "94354e91",
   "metadata": {
    "ExecuteTime": {
     "end_time": "2022-12-08T19:39:27.511492Z",
     "start_time": "2022-12-08T19:39:27.141233Z"
    },
    "scrolled": false
   },
   "outputs": [],
   "source": [
    "fig, axes = plt.subplots(1,2, figsize=(18,8), sharey=True)\n",
    "labels = ['iki 3k', '3k-20k', '20k-35k', '35k-70k', '70k+'] # Labels for pie chart\n",
    "df[df['reg_date'].dt.year == 2020].groupby([df['reg_date'].dt.year, df['grupe']])[\n",
    "    'obj_kodas'].count().plot(kind='pie', autopct='%1.1f%%', ax=axes[0], labels=labels, startangle=145, ylabel='', xlabel='')\n",
    "df[df['reg_date'].dt.year == 2021].groupby([df['reg_date'].dt.year, df['grupe']])[\n",
    "    'obj_kodas'].count().plot(kind='pie', autopct='%1.1f%%', ax=axes[1], labels=labels, startangle=145)\n",
    "plt.suptitle('Įregistruotų įmonių pasiskirstymas pagal sukauptą turtą') # Title for figure not subplots\n",
    "plt.legend(labels) # Adding legend"
   ]
  },
  {
   "cell_type": "markdown",
   "id": "0641391a",
   "metadata": {},
   "source": [
    "## 15. Rasti TOP-100 pelningiausių įmonių pagal “grynasis pelnas” ir TOP-100 įmonių kurių “nuosavas kapitalas” didžiausias. Ar yra sutampančių įmonių šiuose sąrašuose? Skaičiuojant TOP įmonės įtraukti viso laikotarpio įmones (naudoti 2020 ir 2021 metų duomenis kartu)."
   ]
  },
  {
   "cell_type": "code",
   "execution_count": null,
   "id": "5a6cfde4",
   "metadata": {
    "ExecuteTime": {
     "end_time": "2022-12-08T19:39:27.699922Z",
     "start_time": "2022-12-08T19:39:27.513493Z"
    }
   },
   "outputs": [],
   "source": [
    "#TOP 100 by income.\n",
    "top100gp = df.groupby('obj_pav')[['grynasis_pelnas']].sum().sort_values(by='grynasis_pelnas', ascending=False).reset_index()[:100]"
   ]
  },
  {
   "cell_type": "code",
   "execution_count": null,
   "id": "635685f1",
   "metadata": {
    "ExecuteTime": {
     "end_time": "2022-12-08T19:39:27.900501Z",
     "start_time": "2022-12-08T19:39:27.701922Z"
    }
   },
   "outputs": [],
   "source": [
    "#TOP 100 by capital\n",
    "top100nk = df.groupby('obj_pav')[['nuosavas_kapitalas']].sum().sort_values(by='nuosavas_kapitalas', ascending=False).reset_index()[:100]"
   ]
  },
  {
   "cell_type": "code",
   "execution_count": null,
   "id": "3320c3dc",
   "metadata": {
    "ExecuteTime": {
     "end_time": "2022-12-08T19:39:27.916102Z",
     "start_time": "2022-12-08T19:39:27.902502Z"
    }
   },
   "outputs": [],
   "source": [
    "# Company count that shows up in both\n",
    "len(top100gp[top100gp['obj_pav'].isin(top100nk['obj_pav'].tolist())])"
   ]
  },
  {
   "cell_type": "markdown",
   "id": "ba24c588",
   "metadata": {},
   "source": [
    "## 16. Ar TOP įmonės pagal “grynasis pelnas” iš 15 užduoties skiriasi pagal metus, t.y. 2020 ir 2021 metais? Kurios įmonės iškrenta iš TOP sąrašo 2021 metais?"
   ]
  },
  {
   "cell_type": "code",
   "execution_count": null,
   "id": "37f350d7",
   "metadata": {
    "ExecuteTime": {
     "end_time": "2022-12-08T19:39:28.242023Z",
     "start_time": "2022-12-08T19:39:27.918668Z"
    }
   },
   "outputs": [],
   "source": [
    "#Top 100 income 2020 and 2021\n",
    "top100gp2020 = df[df['reg_date'].dt.year == 2020].groupby('obj_pav')[['grynasis_pelnas']].sum().sort_values(by='grynasis_pelnas', ascending=False).reset_index()[:100]\n",
    "top100gp2021 = df[df['reg_date'].dt.year == 2021].groupby('obj_pav')[['grynasis_pelnas']].sum().sort_values(by='grynasis_pelnas', ascending=False).reset_index()[:100]"
   ]
  },
  {
   "cell_type": "code",
   "execution_count": null,
   "id": "b390f882",
   "metadata": {
    "ExecuteTime": {
     "end_time": "2022-12-08T19:39:28.257602Z",
     "start_time": "2022-12-08T19:39:28.244025Z"
    },
    "scrolled": false
   },
   "outputs": [],
   "source": [
    "# Companies that drop out in 2021\n",
    "top20butnot21 = top100gp2020[~top100gp2020.isin(top100gp2021['obj_pav'].tolist())].dropna()\n",
    "top20butnot21[['obj_pav']]"
   ]
  },
  {
   "cell_type": "markdown",
   "id": "89cfb233",
   "metadata": {},
   "source": [
    "# Trečia dalis"
   ]
  },
  {
   "attachments": {},
   "cell_type": "markdown",
   "id": "5fba90c9",
   "metadata": {},
   "source": [
    "<font color='red'> Justas Kalpokas: </font>\n",
    "1. <font color='red'> paversti i data butu efektyviau isparsinant visa stulpeli, o ne iteruojant po viena. \n",
    "pvz.\n",
    "```\n",
    " pd.to_datetime(sod20['date'].map(lambda x: x[:4]+ \"-\"+ x[-2:]))\n",
    " ```\n",
    "<font color='red'> \n",
    "1. <font color='red'> sukurete 3 augimo kriterijus. Atlyginimas, pardavimai ir darbuotoju skaicius. Manau reikejo prideti svorius ir is visu kriteriju ieskoti kombinacijos, kuri leistu surikiuoti imones.    <font color='red'> \n",
    "\n",
    "\n",
    "\n"
   ]
  },
  {
   "cell_type": "markdown",
   "id": "adc4eef0",
   "metadata": {},
   "source": [
    "## 1. Jums prieinamą finansinę informaciją papildykite"
   ]
  },
  {
   "cell_type": "raw",
   "id": "41b49627",
   "metadata": {},
   "source": [
    "a. darbuotojų skaičiumi (2020, 2021 metais)\n",
    "b. atlyginimų istoriją.\n",
    "c. veiklos sritimi."
   ]
  },
  {
   "cell_type": "code",
   "execution_count": null,
   "id": "acd5f682",
   "metadata": {
    "ExecuteTime": {
     "end_time": "2022-12-08T19:39:28.272805Z",
     "start_time": "2022-12-08T19:39:28.259601Z"
    },
    "scrolled": false
   },
   "outputs": [],
   "source": [
    "# Column mapper by task\n",
    "cols = pd.read_csv('data/3_uzduotis_data_sample.csv').columns"
   ]
  },
  {
   "cell_type": "code",
   "execution_count": null,
   "id": "98ad1852",
   "metadata": {
    "ExecuteTime": {
     "end_time": "2022-12-08T19:39:28.288759Z",
     "start_time": "2022-12-08T19:39:28.273805Z"
    }
   },
   "outputs": [],
   "source": [
    "# Bandymas su apply pasidaryti metų columns, tačiau labai ilgai krovėsi.\n",
    "#def get_2020_nuosavas_kapitalas(obj:int):\n",
    "#    getsum = float(df[(df['obj_kodas'] == obj) & (df['reg_date'].dt.year == 2020)].groupby('obj_kodas')['nuosavas_kapitalas'].sum())\n",
    "#    return getsum"
   ]
  },
  {
   "cell_type": "code",
   "execution_count": null,
   "id": "326a28cf",
   "metadata": {
    "ExecuteTime": {
     "end_time": "2022-12-08T19:39:28.945754Z",
     "start_time": "2022-12-08T19:39:28.290760Z"
    },
    "scrolled": true
   },
   "outputs": [],
   "source": [
    "# Bruteforce is better than nothing.\n",
    "features = [\n",
    "    df[df['reg_date'].dt.year == 2020].groupby('obj_kodas')[['nuosavas_kapitalas']].sum(\n",
    "    ).rename(columns={'nuosavas_kapitalas': 'nuosavas_kapitalas_20'}).reset_index()\n",
    "    ,df[df['reg_date'].dt.year == 2021].groupby('obj_kodas')[['nuosavas_kapitalas']].sum(\n",
    "    ).rename(columns={'nuosavas_kapitalas': 'nuosavas_kapitalas_21'}).reset_index()\n",
    "    ,df[df['reg_date'].dt.year == 2020].groupby('obj_kodas')[['mok_sumos_ir_isipareigojimai']].sum(\n",
    "    ).rename(columns={'mok_sumos_ir_isipareigojimai': 'mok_sumos_ir_isipareigojimai_20'}).reset_index()\n",
    "    ,df[df['reg_date'].dt.year == 2021].groupby('obj_kodas')[['mok_sumos_ir_isipareigojimai']].sum(\n",
    "    ).rename(columns={'mok_sumos_ir_isipareigojimai': 'mok_sumos_ir_isipareigojimai_21'}).reset_index()\n",
    "    ,df[df['reg_date'].dt.year == 2020].groupby('obj_kodas')[['ilgalaikis_turtas']].sum(\n",
    "    ).rename(columns={'ilgalaikis_turtas': 'ilgalaikis_turtas_20'}).reset_index()\n",
    "    ,df[df['reg_date'].dt.year == 2021].groupby('obj_kodas')[['ilgalaikis_turtas']].sum(\n",
    "    ).rename(columns={'ilgalaikis_turtas': 'ilgalaikis_turtas_21'}).reset_index()\n",
    "    ,df[df['reg_date'].dt.year == 2020].groupby('obj_kodas')[['trumpalaikis_turtas']].sum(\n",
    "    ).rename(columns={'trumpalaikis_turtas': 'trumpalaikis_turtas_20'}).reset_index()\n",
    "    ,df[df['reg_date'].dt.year == 2021].groupby('obj_kodas')[['trumpalaikis_turtas']].sum(\n",
    "    ).rename(columns={'trumpalaikis_turtas': 'trumpalaikis_turtas_21'}).reset_index()\n",
    "    ,df[df['reg_date'].dt.year == 2020].groupby('obj_kodas')[['pardavimo_pajamos']].sum(\n",
    "    ).rename(columns={'pardavimo_pajamos': 'pardavimo_pajamos_20'}).reset_index()\n",
    "    ,df[df['reg_date'].dt.year == 2021].groupby('obj_kodas')[['pardavimo_pajamos']].sum(\n",
    "    ).rename(columns={'pardavimo_pajamos': 'pardavimo_pajamos_21'}).reset_index()\n",
    "    ,df[df['reg_date'].dt.year == 2020].groupby('obj_kodas')[['grynasis_pelnas']].sum(\n",
    "    ).rename(columns={'grynasis_pelnas': 'grynasis_pelnas_20'}).reset_index()\n",
    "    ,df[df['reg_date'].dt.year == 2021].groupby('obj_kodas')[['grynasis_pelnas']].sum(\n",
    "    ).rename(columns={'grynasis_pelnas': 'grynasis_pelnas_21'}).reset_index()\n",
    "]"
   ]
  },
  {
   "cell_type": "code",
   "execution_count": null,
   "id": "b683ee00",
   "metadata": {
    "ExecuteTime": {
     "end_time": "2022-12-08T19:39:30.321550Z",
     "start_time": "2022-12-08T19:39:28.947773Z"
    },
    "scrolled": false
   },
   "outputs": [],
   "source": [
    "# Merging original df with subdataframes\n",
    "for feat in features:\n",
    "    df = pd.merge(df,feat,on='obj_kodas',how='left')"
   ]
  },
  {
   "cell_type": "code",
   "execution_count": null,
   "id": "dbc073cd",
   "metadata": {
    "ExecuteTime": {
     "end_time": "2022-12-08T19:39:30.336554Z",
     "start_time": "2022-12-08T19:39:30.322550Z"
    },
    "scrolled": false
   },
   "outputs": [],
   "source": [
    "# Neleidžia nuskaityti iš interneto, HTTP request 403\n",
    "#pd.read_csv('https://atvira.sodra.lt/imones/downloads/2018/monthly-2018.csv.zip', compression='zip')"
   ]
  },
  {
   "cell_type": "markdown",
   "id": "eda7db15",
   "metadata": {},
   "source": [
    "Atsiunčiami 2020 metų duomenys."
   ]
  },
  {
   "cell_type": "raw",
   "id": "df425723",
   "metadata": {},
   "source": [
    "https://atvira.sodra.lt/imones/rinkiniai/index.html\n",
    "atsisiunčiami failai:\n",
    "    monthly-2020.csv\n",
    "    monthly-2021.csv"
   ]
  },
  {
   "cell_type": "code",
   "execution_count": null,
   "id": "dfbfe709",
   "metadata": {
    "ExecuteTime": {
     "end_time": "2022-12-08T19:39:30.430042Z",
     "start_time": "2022-12-08T19:39:30.338554Z"
    }
   },
   "outputs": [],
   "source": [
    "# Copying dataframe in case of breaking.\n",
    "sod = df.copy()"
   ]
  },
  {
   "cell_type": "code",
   "execution_count": null,
   "id": "fff39539",
   "metadata": {
    "ExecuteTime": {
     "end_time": "2022-12-08T19:39:30.445047Z",
     "start_time": "2022-12-08T19:39:30.431042Z"
    }
   },
   "outputs": [],
   "source": [
    "# Remapping verbose feature names into more concise.\n",
    "sod_map = {\n",
    "    'Draudėjo kodas (code)':'code',\n",
    "    'Juridinių asmenų registro kodas (jarCode)':'obj_kodas',\n",
    "    'Pavadinimas (name)':'name',\n",
    "    'Savivaldybė, kurioje registruota(municipality)':'savivaldybe',\n",
    "    'Ekonominės veiklos rūšies kodas(ecoActCode)':'veiklos_kodas',\n",
    "    'Ekonominės veiklos rūšies pavadinimas(ecoActName)':'veiklos_aprasymas',\n",
    "    'Mėnuo (month)':'date',\n",
    "    'Vidutinis darbo užmokestis (avgWage)':'avgWage',\n",
    "    'Apdraustųjų skaičius (numInsured)':'employee_count',\n",
    "    'Vidutinis darbo užmokestis II (avgWage2)':'avgWage2',\n",
    "    'Apdraustųjų skaičius II (numInsured2)':'employee_count2',\n",
    "    'Valstybinio socialinio draudimo įmoka (tax)':'tax'\n",
    "}"
   ]
  },
  {
   "cell_type": "code",
   "execution_count": null,
   "id": "e00459af",
   "metadata": {
    "ExecuteTime": {
     "end_time": "2022-12-08T19:39:34.132255Z",
     "start_time": "2022-12-08T19:39:30.447048Z"
    }
   },
   "outputs": [],
   "source": [
    "# Setting DataFrames \n",
    "sod20 = pd.read_csv('data/monthly-2020.csv', sep=';')\n",
    "sod21 = pd.read_csv('data/monthly-2021.csv', sep=';')"
   ]
  },
  {
   "cell_type": "code",
   "execution_count": null,
   "id": "a960a2fd",
   "metadata": {
    "ExecuteTime": {
     "end_time": "2022-12-08T19:39:34.147260Z",
     "start_time": "2022-12-08T19:39:34.133256Z"
    },
    "scrolled": true
   },
   "outputs": [],
   "source": [
    "# Remapping dataframes\n",
    "sod20.rename(sod_map, axis=1, inplace=True)\n",
    "sod21.rename(sod_map, axis=1, inplace=True)"
   ]
  },
  {
   "cell_type": "code",
   "execution_count": null,
   "id": "37d00266",
   "metadata": {
    "ExecuteTime": {
     "end_time": "2022-12-08T19:39:34.399339Z",
     "start_time": "2022-12-08T19:39:34.149261Z"
    }
   },
   "outputs": [],
   "source": [
    "# Filtering data that does not contain obj_kodas since its the unique key that i will join data on. \n",
    "sod20 = sod20[sod20['obj_kodas'].notna()]\n",
    "sod21 = sod21[sod21['obj_kodas'].notna()]"
   ]
  },
  {
   "cell_type": "code",
   "execution_count": null,
   "id": "64bc360f",
   "metadata": {
    "ExecuteTime": {
     "end_time": "2022-12-08T19:39:34.414343Z",
     "start_time": "2022-12-08T19:39:34.401340Z"
    }
   },
   "outputs": [],
   "source": [
    "# Ugly way to parse data, but it's what worked.\n",
    "def to_dt(x):\n",
    "    s = str(x)\n",
    "    date = pd.to_datetime(s[:4] + '-' + s[-2:])\n",
    "    return date"
   ]
  },
  {
   "cell_type": "code",
   "execution_count": null,
   "id": "be5fb4f7",
   "metadata": {
    "ExecuteTime": {
     "end_time": "2022-12-08T19:41:39.486305Z",
     "start_time": "2022-12-08T19:39:34.415344Z"
    }
   },
   "outputs": [],
   "source": [
    "# Applying dt parsing.\n",
    "sod20['date'] = sod20['date'].apply(to_dt)\n",
    "sod21['date'] = sod21['date'].apply(to_dt)"
   ]
  },
  {
   "cell_type": "code",
   "execution_count": null,
   "id": "9ef26042",
   "metadata": {
    "ExecuteTime": {
     "end_time": "2022-12-08T19:41:40.069701Z",
     "start_time": "2022-12-08T19:41:39.487306Z"
    }
   },
   "outputs": [],
   "source": [
    "# Employees\n",
    "emp20 = sod20[sod20['date'].dt.month == 12].groupby(\n",
    "    'obj_kodas')[['employee_count']].sum().reset_index().rename(columns={'employee_count': 'darbuotoju_skaicius_20'})\n",
    "emp21 = sod21[sod21['date'].dt.month == 12].groupby(\n",
    "    'obj_kodas')[['employee_count']].sum().reset_index().rename(columns={'employee_count': 'darbuotoju_skaicius_21'})\n",
    "# Average wages\n",
    "avg20 = sod20.groupby('obj_kodas')[['avgWage']].mean().reset_index().rename(\n",
    "    columns={'avgWage': 'vid_atlyginimas_20'})\n",
    "avg21 = sod21.groupby('obj_kodas')[['avgWage']].mean().reset_index().rename(\n",
    "    columns={'avgWage': 'vid_atlyginimas_21'})\n",
    "# information\n",
    "info = sod21[['obj_kodas', 'savivaldybe', 'veiklos_kodas',\n",
    "              'veiklos_aprasymas']].drop_duplicates()\n",
    "\n",
    "features2 = [emp20, emp21, avg20, avg21, info]"
   ]
  },
  {
   "cell_type": "code",
   "execution_count": null,
   "id": "874df8e6",
   "metadata": {
    "ExecuteTime": {
     "end_time": "2022-12-08T19:41:41.105206Z",
     "start_time": "2022-12-08T19:41:40.070702Z"
    }
   },
   "outputs": [],
   "source": [
    "for feat in features2:\n",
    "    sod = pd.merge(sod,feat,on='obj_kodas',how='left')"
   ]
  },
  {
   "cell_type": "code",
   "execution_count": null,
   "id": "89b161d4",
   "metadata": {
    "ExecuteTime": {
     "end_time": "2022-12-08T19:41:41.211954Z",
     "start_time": "2022-12-08T19:41:41.107207Z"
    }
   },
   "outputs": [],
   "source": [
    "sod = sod[cols]"
   ]
  },
  {
   "cell_type": "markdown",
   "id": "0bd52d81",
   "metadata": {
    "ExecuteTime": {
     "end_time": "2022-12-08T17:42:25.004804Z",
     "start_time": "2022-12-08T17:42:24.993802Z"
    }
   },
   "source": [
    "## 2. Galutinis duomenų masyvas turi atrodyti kaip 3_uzduotis_data_sample.csv."
   ]
  },
  {
   "cell_type": "code",
   "execution_count": null,
   "id": "d0b08596",
   "metadata": {
    "ExecuteTime": {
     "end_time": "2022-12-08T19:41:41.243160Z",
     "start_time": "2022-12-08T19:41:41.213954Z"
    }
   },
   "outputs": [],
   "source": [
    "sod.head(2)"
   ]
  },
  {
   "cell_type": "markdown",
   "id": "e049d3d9",
   "metadata": {},
   "source": [
    "## Užduotys"
   ]
  },
  {
   "cell_type": "markdown",
   "id": "c14704a5",
   "metadata": {},
   "source": [
    "### 1. Išsiaiškinkite micro ir mažos įmonės apibrėžimą."
   ]
  },
  {
   "cell_type": "raw",
   "id": "c303e586",
   "metadata": {},
   "source": [
    "Maža įmonė – įmonė, kurioje dirba mažiau kaip 50 darbuotojų ir kurios finansiniai duomenys atitinka bent vieną iš šių sąlygų:\n",
    "    įmonės metinės pajamos neviršija 10 mln. eurų;\n",
    "\n",
    "Labai maža įmonė (mikro) – įmonė, kurioje dirba mažiau kaip 10 darbuotojų ir kurios finansiniai duomenys atitinka bent vieną iš šių sąlygų:\n",
    "    įmonės metinės pajamos neviršija 2 mln. eurų;\n",
    "    įmonės balanse nurodyto turto vertė neviršija 2 mln. eurų."
   ]
  },
  {
   "cell_type": "markdown",
   "id": "3aaefb55",
   "metadata": {},
   "source": [
    "### 2. Remdamiesi apibrėžimu išfiltruokite micro ir mažas įmones. Įmonės turi turėti statusą MB arba UAB."
   ]
  },
  {
   "cell_type": "code",
   "execution_count": null,
   "id": "aa0fe55c",
   "metadata": {
    "ExecuteTime": {
     "end_time": "2022-12-08T19:41:41.274651Z",
     "start_time": "2022-12-08T19:41:41.244874Z"
    },
    "scrolled": false
   },
   "outputs": [],
   "source": [
    "sodf = sod[(\n",
    "    sod['form_pav'].isin(['Uždaroji akcinė bendrovė', ' Mažoji bendrija'])) &\n",
    "    (sod['pardavimo_pajamos_21'] < 10_000_000) & # Filtras skirtas Mažoms ir mikro įmonėms.\n",
    "    (sod['pardavimo_pajamos_21'] > 10_000) & # Aktualios įmonės kurios turi bent 10k pajamų.\n",
    "    (sod['pardavimo_pajamos_20'] > 10_000) & # Nufiltruojame mažo pelno įmones iš praitų metų kad negadintu 21 metų augimo.\n",
    "    (sod['vid_atlyginimas_20'] > 642) & # Išfiltruojamos įmonės mokėjusios mažesnį nei minimalų atlygį.\n",
    "    (sod['vid_atlyginimas_21'] < 10_000) & # Keletas įmonių turėjo net 30k atlyginimus 12mėn. Išfiltruojami bonusai.\n",
    "    (sod['darbuotoju_skaicius_21'] < 50) # Filtras skirtas Mažoms ir mikro įmonėms.\n",
    "].copy()"
   ]
  },
  {
   "cell_type": "markdown",
   "id": "102d9dd4",
   "metadata": {},
   "source": [
    "### 3. Indentifikuokite labiausiai augusias įmones."
   ]
  },
  {
   "cell_type": "code",
   "execution_count": null,
   "id": "d0713378",
   "metadata": {
    "ExecuteTime": {
     "end_time": "2022-12-08T19:41:41.289911Z",
     "start_time": "2022-12-08T19:41:41.277156Z"
    }
   },
   "outputs": [],
   "source": [
    "sodf['pardavimo_augimas_21'] = (sodf['pardavimo_pajamos_21'] - sodf['pardavimo_pajamos_20']) / sodf['pardavimo_pajamos_20'] * 100"
   ]
  },
  {
   "cell_type": "code",
   "execution_count": null,
   "id": "a3040ffa",
   "metadata": {
    "ExecuteTime": {
     "end_time": "2022-12-08T19:41:41.305860Z",
     "start_time": "2022-12-08T19:41:41.291911Z"
    }
   },
   "outputs": [],
   "source": [
    "sodf['darbuotoju_augimas_21'] = (sodf['darbuotoju_skaicius_21'] - sodf['darbuotoju_skaicius_20']) / sodf['darbuotoju_skaicius_20'] * 100"
   ]
  },
  {
   "cell_type": "code",
   "execution_count": null,
   "id": "18214186",
   "metadata": {
    "ExecuteTime": {
     "end_time": "2022-12-08T19:41:41.320597Z",
     "start_time": "2022-12-08T19:41:41.307861Z"
    }
   },
   "outputs": [],
   "source": [
    "sodf['vid_atlyginimas_augimas_21'] = (sodf['vid_atlyginimas_21'] - sodf['vid_atlyginimas_20']) / sodf['vid_atlyginimas_20'] * 100"
   ]
  },
  {
   "cell_type": "code",
   "execution_count": null,
   "id": "1b557ed2",
   "metadata": {
    "ExecuteTime": {
     "end_time": "2022-12-08T19:41:41.366555Z",
     "start_time": "2022-12-08T19:41:41.322597Z"
    }
   },
   "outputs": [],
   "source": [
    "top100sales =  sodf[['obj_pav','pardavimo_augimas_21']].replace(np.inf,0).sort_values(by = 'pardavimo_augimas_21', ascending=False).drop_duplicates().round()[:100]"
   ]
  },
  {
   "cell_type": "code",
   "execution_count": null,
   "id": "208a9972",
   "metadata": {
    "ExecuteTime": {
     "end_time": "2022-12-08T19:41:41.412265Z",
     "start_time": "2022-12-08T19:41:41.368556Z"
    },
    "scrolled": false
   },
   "outputs": [],
   "source": [
    "top100emps =  sodf[['obj_pav','darbuotoju_augimas_21']].replace(np.inf,0).sort_values(by = 'darbuotoju_augimas_21', ascending=False).drop_duplicates().round()[:100]"
   ]
  },
  {
   "cell_type": "code",
   "execution_count": null,
   "id": "69999008",
   "metadata": {
    "ExecuteTime": {
     "end_time": "2022-12-08T19:41:41.458458Z",
     "start_time": "2022-12-08T19:41:41.414783Z"
    }
   },
   "outputs": [],
   "source": [
    "top100wgs =  sodf[['obj_pav','vid_atlyginimas_augimas_21']].replace(np.inf,0).sort_values(by = 'vid_atlyginimas_augimas_21', ascending=False).drop_duplicates().round()[:100]"
   ]
  },
  {
   "cell_type": "code",
   "execution_count": null,
   "id": "ec3f1a6a",
   "metadata": {
    "ExecuteTime": {
     "end_time": "2022-12-08T19:41:41.490466Z",
     "start_time": "2022-12-08T19:41:41.460459Z"
    },
    "scrolled": false
   },
   "outputs": [],
   "source": [
    "pd.merge((pd.merge(top100sales,top100wgs,on='obj_pav',how='left')),top100emps,on='obj_pav',how='left')"
   ]
  },
  {
   "cell_type": "markdown",
   "id": "7155a8fb",
   "metadata": {},
   "source": [
    "### 4. Sukurkite kriterijus, ir atrinkite top 10, jūsų manymu geriausių įmonių."
   ]
  },
  {
   "cell_type": "code",
   "execution_count": null,
   "id": "0a2d8950",
   "metadata": {
    "ExecuteTime": {
     "end_time": "2022-12-08T19:41:41.506114Z",
     "start_time": "2022-12-08T19:41:41.492466Z"
    }
   },
   "outputs": [],
   "source": [
    "top100sales[:10]"
   ]
  },
  {
   "cell_type": "markdown",
   "id": "2f410ebe",
   "metadata": {},
   "source": [
    "### 5. Kokia suma įvertintumėt savo atrinktas įmones?"
   ]
  },
  {
   "cell_type": "markdown",
   "id": "2eaad001",
   "metadata": {},
   "source": [
    "20 mln eur."
   ]
  },
  {
   "cell_type": "code",
   "execution_count": null,
   "id": "7788117e",
   "metadata": {
    "ExecuteTime": {
     "end_time": "2022-12-08T19:44:11.661442Z",
     "start_time": "2022-12-08T19:44:11.655441Z"
    }
   },
   "outputs": [],
   "source": [
    "#conda env export > environment.yml"
   ]
  },
  {
   "cell_type": "code",
   "execution_count": null,
   "id": "c6f54c63",
   "metadata": {},
   "outputs": [],
   "source": []
  }
 ],
 "metadata": {
  "kernelspec": {
   "display_name": "Python 3",
   "language": "python",
   "name": "python3"
  },
  "language_info": {
   "codemirror_mode": {
    "name": "ipython",
    "version": 3
   },
   "file_extension": ".py",
   "mimetype": "text/x-python",
   "name": "python",
   "nbconvert_exporter": "python",
   "pygments_lexer": "ipython3",
   "version": "3.9.12"
  },
  "toc": {
   "base_numbering": 1,
   "nav_menu": {},
   "number_sections": true,
   "sideBar": true,
   "skip_h1_title": false,
   "title_cell": "Table of Contents",
   "title_sidebar": "Contents",
   "toc_cell": false,
   "toc_position": {
    "height": "calc(100% - 180px)",
    "left": "10px",
    "top": "150px",
    "width": "384px"
   },
   "toc_section_display": true,
   "toc_window_display": false
  },
  "varInspector": {
   "cols": {
    "lenName": 16,
    "lenType": 16,
    "lenVar": 40
   },
   "kernels_config": {
    "python": {
     "delete_cmd_postfix": "",
     "delete_cmd_prefix": "del ",
     "library": "var_list.py",
     "varRefreshCmd": "print(var_dic_list())"
    },
    "r": {
     "delete_cmd_postfix": ") ",
     "delete_cmd_prefix": "rm(",
     "library": "var_list.r",
     "varRefreshCmd": "cat(var_dic_list()) "
    }
   },
   "types_to_exclude": [
    "module",
    "function",
    "builtin_function_or_method",
    "instance",
    "_Feature"
   ],
   "window_display": false
  },
  "vscode": {
   "interpreter": {
    "hash": "40d3a090f54c6569ab1632332b64b2c03c39dcf918b08424e98f38b5ae0af88f"
   }
  }
 },
 "nbformat": 4,
 "nbformat_minor": 5
}
