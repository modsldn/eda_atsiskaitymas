{
 "cells": [
  {
   "cell_type": "code",
   "execution_count": 1,
   "id": "d00dbaa5",
   "metadata": {
    "ExecuteTime": {
     "end_time": "2022-12-08T18:19:13.450411Z",
     "start_time": "2022-12-08T18:19:12.187667Z"
    }
   },
   "outputs": [],
   "source": [
    "import numpy as np\n",
    "import pandas as pd\n",
    "import datetime as dt\n",
    "import matplotlib.pyplot as plt\n",
    "import seaborn as sns"
   ]
  },
  {
   "cell_type": "code",
   "execution_count": null,
   "id": "0bd27792",
   "metadata": {
    "ExecuteTime": {
     "end_time": "2022-12-08T10:24:20.393147Z",
     "start_time": "2022-12-08T10:24:18.787477Z"
    }
   },
   "outputs": [],
   "source": [
    "pip install -r requirements.txt"
   ]
  },
  {
   "cell_type": "code",
   "execution_count": 2,
   "id": "8fc75120",
   "metadata": {
    "ExecuteTime": {
     "end_time": "2022-12-08T18:19:14.487075Z",
     "start_time": "2022-12-08T18:19:14.400296Z"
    }
   },
   "outputs": [
    {
     "data": {
      "application/javascript": [
       "\n",
       "            setTimeout(function() {\n",
       "                var nbb_cell_id = 2;\n",
       "                var nbb_unformatted_code = \"%load_ext nb_black\";\n",
       "                var nbb_formatted_code = \"%load_ext nb_black\";\n",
       "                var nbb_cells = Jupyter.notebook.get_cells();\n",
       "                for (var i = 0; i < nbb_cells.length; ++i) {\n",
       "                    if (nbb_cells[i].input_prompt_number == nbb_cell_id) {\n",
       "                        if (nbb_cells[i].get_text() == nbb_unformatted_code) {\n",
       "                             nbb_cells[i].set_text(nbb_formatted_code);\n",
       "                        }\n",
       "                        break;\n",
       "                    }\n",
       "                }\n",
       "            }, 500);\n",
       "            "
      ],
      "text/plain": [
       "<IPython.core.display.Javascript object>"
      ]
     },
     "metadata": {},
     "output_type": "display_data"
    }
   ],
   "source": [
    "%load_ext nb_black"
   ]
  },
  {
   "cell_type": "markdown",
   "id": "b16f7f7c",
   "metadata": {},
   "source": [
    "# Pirma dalis"
   ]
  },
  {
   "cell_type": "markdown",
   "id": "3ed4f0a2",
   "metadata": {},
   "source": [
    "## Iš pridėto requirements.txt failo sukurti anacondos aplinką ir žemiau esančias užduotis vykdyti šioje aplinkoje. [0.25 taško]"
   ]
  },
  {
   "cell_type": "markdown",
   "id": "765dc15c",
   "metadata": {},
   "source": [
    "## Parsisiųsti 2020 ir 2021 įmonių “Juridinių asmenų pateikti finansinės atskaitomybės dokumentai – balanso ataskaitos” ir “Juridinių asmenų pateikti finansinės atskaitomybės dokumentai – pelno (nuostolių) ataskaitos” duomenis. [0.25 taško]"
   ]
  },
  {
   "cell_type": "code",
   "execution_count": 3,
   "id": "8ba74091",
   "metadata": {
    "ExecuteTime": {
     "end_time": "2022-12-08T18:19:23.316434Z",
     "start_time": "2022-12-08T18:19:17.505185Z"
    }
   },
   "outputs": [
    {
     "data": {
      "application/javascript": [
       "\n",
       "            setTimeout(function() {\n",
       "                var nbb_cell_id = 3;\n",
       "                var nbb_unformatted_code = \"url_blns_2021 = (\\n    \\\"https://www.registrucentras.lt/aduomenys/?byla=JAR_FA_RODIKLIAI_BLNS_2021.csv\\\"\\n)\\nurl_blns_2020 = (\\n    \\\"https://www.registrucentras.lt/aduomenys/?byla=JAR_FA_RODIKLIAI_BLNS_2020.csv\\\"\\n)\\nurl_plna_2021 = (\\n    \\\"https://www.registrucentras.lt/aduomenys/?byla=JAR_FA_RODIKLIAI_PLNA_2021.csv\\\"\\n)\\nurl_plna_2020 = (\\n    \\\"https://www.registrucentras.lt/aduomenys/?byla=JAR_FA_RODIKLIAI_PLNA_2020.csv\\\"\\n)\\n\\ndf_blns_2021 = pd.read_csv(url_blns_2021)\\ndf_blns_2020 = pd.read_csv(url_blns_2020)\\ndf_plna_2021 = pd.read_csv(url_plna_2021)\\ndf_plna_2020 = pd.read_csv(url_plna_2020)\";\n",
       "                var nbb_formatted_code = \"url_blns_2021 = (\\n    \\\"https://www.registrucentras.lt/aduomenys/?byla=JAR_FA_RODIKLIAI_BLNS_2021.csv\\\"\\n)\\nurl_blns_2020 = (\\n    \\\"https://www.registrucentras.lt/aduomenys/?byla=JAR_FA_RODIKLIAI_BLNS_2020.csv\\\"\\n)\\nurl_plna_2021 = (\\n    \\\"https://www.registrucentras.lt/aduomenys/?byla=JAR_FA_RODIKLIAI_PLNA_2021.csv\\\"\\n)\\nurl_plna_2020 = (\\n    \\\"https://www.registrucentras.lt/aduomenys/?byla=JAR_FA_RODIKLIAI_PLNA_2020.csv\\\"\\n)\\n\\ndf_blns_2021 = pd.read_csv(url_blns_2021)\\ndf_blns_2020 = pd.read_csv(url_blns_2020)\\ndf_plna_2021 = pd.read_csv(url_plna_2021)\\ndf_plna_2020 = pd.read_csv(url_plna_2020)\";\n",
       "                var nbb_cells = Jupyter.notebook.get_cells();\n",
       "                for (var i = 0; i < nbb_cells.length; ++i) {\n",
       "                    if (nbb_cells[i].input_prompt_number == nbb_cell_id) {\n",
       "                        if (nbb_cells[i].get_text() == nbb_unformatted_code) {\n",
       "                             nbb_cells[i].set_text(nbb_formatted_code);\n",
       "                        }\n",
       "                        break;\n",
       "                    }\n",
       "                }\n",
       "            }, 500);\n",
       "            "
      ],
      "text/plain": [
       "<IPython.core.display.Javascript object>"
      ]
     },
     "metadata": {},
     "output_type": "display_data"
    }
   ],
   "source": [
    "url_blns_2021 = (\n",
    "    \"https://www.registrucentras.lt/aduomenys/?byla=JAR_FA_RODIKLIAI_BLNS_2021.csv\"\n",
    ")\n",
    "url_blns_2020 = (\n",
    "    \"https://www.registrucentras.lt/aduomenys/?byla=JAR_FA_RODIKLIAI_BLNS_2020.csv\"\n",
    ")\n",
    "url_plna_2021 = (\n",
    "    \"https://www.registrucentras.lt/aduomenys/?byla=JAR_FA_RODIKLIAI_PLNA_2021.csv\"\n",
    ")\n",
    "url_plna_2020 = (\n",
    "    \"https://www.registrucentras.lt/aduomenys/?byla=JAR_FA_RODIKLIAI_PLNA_2020.csv\"\n",
    ")\n",
    "\n",
    "df_blns_2021 = pd.read_csv(url_blns_2021)\n",
    "df_blns_2020 = pd.read_csv(url_blns_2020)\n",
    "df_plna_2021 = pd.read_csv(url_plna_2021)\n",
    "df_plna_2020 = pd.read_csv(url_plna_2020)"
   ]
  },
  {
   "cell_type": "code",
   "execution_count": 4,
   "id": "ffa31340",
   "metadata": {
    "ExecuteTime": {
     "end_time": "2022-12-08T18:19:25.702211Z",
     "start_time": "2022-12-08T18:19:25.208363Z"
    }
   },
   "outputs": [
    {
     "data": {
      "application/javascript": [
       "\n",
       "            setTimeout(function() {\n",
       "                var nbb_cell_id = 4;\n",
       "                var nbb_unformatted_code = \"# Merge Frames:\\n\\nblns_merged = pd.concat([df_blns_2021, df_blns_2020])  # Merged blns of two years\\nplna_merged = pd.concat([df_plna_2021, df_plna_2020])  # Merged plna of two years\\n\\nfull_df = pd.concat([blns_merged, plna_merged])  # Full dataframe\\n\\ndf_of_2021 = df_blns_2021.merge(\\n    df_plna_2021,\\n    how=\\\"inner\\\",\\n    left_on=\\\"obj_kodas\\\",\\n    right_on=\\\"obj_kodas\\\",\\n    left_index=False,\\n    right_index=False,\\n) # Merged blns and plna dataframe by year 2021\\n\\ndf_of_2020 = df_blns_2020.merge(\\n    df_plna_2020,\\n    how=\\\"inner\\\",\\n    left_on=\\\"obj_kodas\\\",\\n    right_on=\\\"obj_kodas\\\",\\n    left_index=False,\\n    right_index=False,\\n)  # Merged blns and plna dataframe by year 2020\\n\\nfull_df_yearly = df_of_2021.merge(\\n    df_of_2020,\\n    how=\\\"inner\\\",\\n    left_on=\\\"obj_kodas\\\",\\n    right_on=\\\"obj_kodas\\\",\\n    left_index=False,\\n    right_index=False,\\n)\";\n",
       "                var nbb_formatted_code = \"# Merge Frames:\\n\\nblns_merged = pd.concat([df_blns_2021, df_blns_2020])  # Merged blns of two years\\nplna_merged = pd.concat([df_plna_2021, df_plna_2020])  # Merged plna of two years\\n\\nfull_df = pd.concat([blns_merged, plna_merged])  # Full dataframe\\n\\ndf_of_2021 = df_blns_2021.merge(\\n    df_plna_2021,\\n    how=\\\"inner\\\",\\n    left_on=\\\"obj_kodas\\\",\\n    right_on=\\\"obj_kodas\\\",\\n    left_index=False,\\n    right_index=False,\\n)  # Merged blns and plna dataframe by year 2021\\n\\ndf_of_2020 = df_blns_2020.merge(\\n    df_plna_2020,\\n    how=\\\"inner\\\",\\n    left_on=\\\"obj_kodas\\\",\\n    right_on=\\\"obj_kodas\\\",\\n    left_index=False,\\n    right_index=False,\\n)  # Merged blns and plna dataframe by year 2020\\n\\nfull_df_yearly = df_of_2021.merge(\\n    df_of_2020,\\n    how=\\\"inner\\\",\\n    left_on=\\\"obj_kodas\\\",\\n    right_on=\\\"obj_kodas\\\",\\n    left_index=False,\\n    right_index=False,\\n)\";\n",
       "                var nbb_cells = Jupyter.notebook.get_cells();\n",
       "                for (var i = 0; i < nbb_cells.length; ++i) {\n",
       "                    if (nbb_cells[i].input_prompt_number == nbb_cell_id) {\n",
       "                        if (nbb_cells[i].get_text() == nbb_unformatted_code) {\n",
       "                             nbb_cells[i].set_text(nbb_formatted_code);\n",
       "                        }\n",
       "                        break;\n",
       "                    }\n",
       "                }\n",
       "            }, 500);\n",
       "            "
      ],
      "text/plain": [
       "<IPython.core.display.Javascript object>"
      ]
     },
     "metadata": {},
     "output_type": "display_data"
    }
   ],
   "source": [
    "# Merge Frames:\n",
    "\n",
    "blns_merged = pd.concat([df_blns_2021, df_blns_2020])  # Merged blns of two years\n",
    "plna_merged = pd.concat([df_plna_2021, df_plna_2020])  # Merged plna of two years\n",
    "\n",
    "full_df = pd.concat([blns_merged, plna_merged])  # Full dataframe\n",
    "\n",
    "df_of_2021 = df_blns_2021.merge(\n",
    "    df_plna_2021,\n",
    "    how=\"inner\",\n",
    "    left_on=\"obj_kodas\",\n",
    "    right_on=\"obj_kodas\",\n",
    "    left_index=False,\n",
    "    right_index=False,\n",
    ")  # Merged blns and plna dataframe by year 2021\n",
    "\n",
    "df_of_2020 = df_blns_2020.merge(\n",
    "    df_plna_2020,\n",
    "    how=\"inner\",\n",
    "    left_on=\"obj_kodas\",\n",
    "    right_on=\"obj_kodas\",\n",
    "    left_index=False,\n",
    "    right_index=False,\n",
    ")  # Merged blns and plna dataframe by year 2020"
   ]
  },
  {
   "cell_type": "code",
   "execution_count": 5,
   "id": "521495d0",
   "metadata": {
    "ExecuteTime": {
     "end_time": "2022-12-08T18:19:27.785538Z",
     "start_time": "2022-12-08T18:19:27.463348Z"
    }
   },
   "outputs": [
    {
     "name": "stdout",
     "output_type": "stream",
     "text": [
      "<class 'pandas.core.frame.DataFrame'>\n",
      "Int64Index: 154868 entries, 0 to 154867\n",
      "Data columns (total 34 columns):\n",
      " #   Column                        Non-Null Count   Dtype  \n",
      "---  ------                        --------------   -----  \n",
      " 0   obj_kodas                     154868 non-null  int64  \n",
      " 1   obj_pav_x                     154868 non-null  object \n",
      " 2   form_kodas_x                  154868 non-null  int64  \n",
      " 3   form_pav_x                    154868 non-null  object \n",
      " 4   stat_statusas_x               154868 non-null  int64  \n",
      " 5   stat_pav_x                    154868 non-null  object \n",
      " 6   template_id_x                 154868 non-null  object \n",
      " 7   template_name_x               154868 non-null  object \n",
      " 8   standard_id_x                 154868 non-null  object \n",
      " 9   standard_name_x               154868 non-null  object \n",
      " 10  laikotarpis_nuo_x             154868 non-null  object \n",
      " 11  laikotarpis_iki_x             154868 non-null  object \n",
      " 12  reg_date_x                    154868 non-null  object \n",
      " 13  nuosavas_kapitalas            153456 non-null  float64\n",
      " 14  mok_sumos_ir_isipareigojimai  131277 non-null  float64\n",
      " 15  ilgalaikis_turtas             154797 non-null  float64\n",
      " 16  trumpalaikis_turtas           154722 non-null  float64\n",
      " 17  formavimo_data_x              154868 non-null  object \n",
      " 18  obj_pav_y                     154868 non-null  object \n",
      " 19  form_kodas_y                  154868 non-null  int64  \n",
      " 20  form_pav_y                    154868 non-null  object \n",
      " 21  stat_statusas_y               154868 non-null  int64  \n",
      " 22  stat_pav_y                    154868 non-null  object \n",
      " 23  template_id_y                 154868 non-null  object \n",
      " 24  template_name_y               154868 non-null  object \n",
      " 25  standard_id_y                 154868 non-null  object \n",
      " 26  standard_name_y               154868 non-null  object \n",
      " 27  laikotarpis_nuo_y             154868 non-null  object \n",
      " 28  laikotarpis_iki_y             154868 non-null  object \n",
      " 29  reg_date_y                    154868 non-null  object \n",
      " 30  pelnas_pries_apmokestinima    104528 non-null  float64\n",
      " 31  grynasis_pelnas               147112 non-null  float64\n",
      " 32  pardavimo_pajamos             123740 non-null  float64\n",
      " 33  formavimo_data_y              154868 non-null  object \n",
      "dtypes: float64(7), int64(5), object(22)\n",
      "memory usage: 41.4+ MB\n"
     ]
    },
    {
     "data": {
      "application/javascript": [
       "\n",
       "            setTimeout(function() {\n",
       "                var nbb_cell_id = 5;\n",
       "                var nbb_unformatted_code = \"df_of_2021.info()\";\n",
       "                var nbb_formatted_code = \"df_of_2021.info()\";\n",
       "                var nbb_cells = Jupyter.notebook.get_cells();\n",
       "                for (var i = 0; i < nbb_cells.length; ++i) {\n",
       "                    if (nbb_cells[i].input_prompt_number == nbb_cell_id) {\n",
       "                        if (nbb_cells[i].get_text() == nbb_unformatted_code) {\n",
       "                             nbb_cells[i].set_text(nbb_formatted_code);\n",
       "                        }\n",
       "                        break;\n",
       "                    }\n",
       "                }\n",
       "            }, 500);\n",
       "            "
      ],
      "text/plain": [
       "<IPython.core.display.Javascript object>"
      ]
     },
     "metadata": {},
     "output_type": "display_data"
    }
   ],
   "source": [
    "df_of_2021.info()"
   ]
  },
  {
   "cell_type": "code",
   "execution_count": 6,
   "id": "ce607886",
   "metadata": {
    "ExecuteTime": {
     "end_time": "2022-12-08T18:19:31.446002Z",
     "start_time": "2022-12-08T18:19:31.432539Z"
    }
   },
   "outputs": [
    {
     "data": {
      "text/plain": [
       "(434011, 21)"
      ]
     },
     "execution_count": 6,
     "metadata": {},
     "output_type": "execute_result"
    },
    {
     "data": {
      "application/javascript": [
       "\n",
       "            setTimeout(function() {\n",
       "                var nbb_cell_id = 6;\n",
       "                var nbb_unformatted_code = \"full_df.shape\";\n",
       "                var nbb_formatted_code = \"full_df.shape\";\n",
       "                var nbb_cells = Jupyter.notebook.get_cells();\n",
       "                for (var i = 0; i < nbb_cells.length; ++i) {\n",
       "                    if (nbb_cells[i].input_prompt_number == nbb_cell_id) {\n",
       "                        if (nbb_cells[i].get_text() == nbb_unformatted_code) {\n",
       "                             nbb_cells[i].set_text(nbb_formatted_code);\n",
       "                        }\n",
       "                        break;\n",
       "                    }\n",
       "                }\n",
       "            }, 500);\n",
       "            "
      ],
      "text/plain": [
       "<IPython.core.display.Javascript object>"
      ]
     },
     "metadata": {},
     "output_type": "display_data"
    }
   ],
   "source": [
    "full_df.shape"
   ]
  },
  {
   "cell_type": "markdown",
   "id": "46aad58b",
   "metadata": {},
   "source": [
    "## Susipažinkite su duomenimis [1.8 taško]:"
   ]
  },
  {
   "cell_type": "markdown",
   "id": "5cf9eacf",
   "metadata": {},
   "source": [
    "### Ką reiškia skirtingi duomenų laukai? Iš kokių atributų sudaryti duomenys?"
   ]
  },
  {
   "cell_type": "code",
   "execution_count": 7,
   "id": "7c4f95f7",
   "metadata": {
    "ExecuteTime": {
     "end_time": "2022-12-08T18:19:38.322662Z",
     "start_time": "2022-12-08T18:19:37.800896Z"
    }
   },
   "outputs": [
    {
     "data": {
      "application/javascript": [
       "\n",
       "            setTimeout(function() {\n",
       "                var nbb_cell_id = 7;\n",
       "                var nbb_unformatted_code = \"url_blns_str = \\\"https://www.registrucentras.lt/bylos/dokumentai/duomenys/aduomenys/JAR_FA_RODIKLIAI_BLNS_STR.xlsx\\\"\\nurl_plna_str = \\\"https://www.registrucentras.lt/bylos/dokumentai/duomenys/aduomenys/JAR_FA_RODIKLIAI_PLNA_STR.xlsx\\\"\\n\\ndf_blns_str = pd.read_excel(url_blns_str)\\ndf_plna_str = pd.read_excel(url_plna_str)\\n\\n# duomenys sudaryti i\\u0161: int, float, object\";\n",
       "                var nbb_formatted_code = \"url_blns_str = \\\"https://www.registrucentras.lt/bylos/dokumentai/duomenys/aduomenys/JAR_FA_RODIKLIAI_BLNS_STR.xlsx\\\"\\nurl_plna_str = \\\"https://www.registrucentras.lt/bylos/dokumentai/duomenys/aduomenys/JAR_FA_RODIKLIAI_PLNA_STR.xlsx\\\"\\n\\ndf_blns_str = pd.read_excel(url_blns_str)\\ndf_plna_str = pd.read_excel(url_plna_str)\\n\\n# duomenys sudaryti i\\u0161: int, float, object\";\n",
       "                var nbb_cells = Jupyter.notebook.get_cells();\n",
       "                for (var i = 0; i < nbb_cells.length; ++i) {\n",
       "                    if (nbb_cells[i].input_prompt_number == nbb_cell_id) {\n",
       "                        if (nbb_cells[i].get_text() == nbb_unformatted_code) {\n",
       "                             nbb_cells[i].set_text(nbb_formatted_code);\n",
       "                        }\n",
       "                        break;\n",
       "                    }\n",
       "                }\n",
       "            }, 500);\n",
       "            "
      ],
      "text/plain": [
       "<IPython.core.display.Javascript object>"
      ]
     },
     "metadata": {},
     "output_type": "display_data"
    }
   ],
   "source": [
    "url_blns_str = \"https://www.registrucentras.lt/bylos/dokumentai/duomenys/aduomenys/JAR_FA_RODIKLIAI_BLNS_STR.xlsx\"\n",
    "url_plna_str = \"https://www.registrucentras.lt/bylos/dokumentai/duomenys/aduomenys/JAR_FA_RODIKLIAI_PLNA_STR.xlsx\"\n",
    "\n",
    "df_blns_str = pd.read_excel(url_blns_str)\n",
    "df_plna_str = pd.read_excel(url_plna_str)\n",
    "\n",
    "# duomenys sudaryti iš: int, float, object"
   ]
  },
  {
   "cell_type": "markdown",
   "id": "f8f84b6b",
   "metadata": {},
   "source": [
    "### Kiek reikšmių ir požymių turi kiekvienas iš dokumentų?"
   ]
  },
  {
   "cell_type": "code",
   "execution_count": 8,
   "id": "a421987e",
   "metadata": {
    "ExecuteTime": {
     "end_time": "2022-12-08T18:19:42.715333Z",
     "start_time": "2022-12-08T18:19:42.699376Z"
    }
   },
   "outputs": [
    {
     "name": "stdout",
     "output_type": "stream",
     "text": [
      "Balanso ataskaita 2021 m. turi 120850 reikšmių ir 18 požymių\n",
      "Balanso ataskaita 2020 m. turi 106318 reikšmių ir 18 požymių\n",
      "\n",
      "Pelno (nuostolių) ataskaita 2021 m. turi 110227 reikšmes ir 17 požymių\n",
      "Pelno (nuostolių) ataskaita 2021 m. turi 96616 reikšmių ir 17 požymių\n"
     ]
    },
    {
     "data": {
      "application/javascript": [
       "\n",
       "            setTimeout(function() {\n",
       "                var nbb_cell_id = 8;\n",
       "                var nbb_unformatted_code = \"print(\\n    f\\\"Balanso ataskaita 2021 m. turi {df_blns_2021.shape[0]} reik\\u0161mi\\u0173 ir {df_blns_2021.shape[1]} po\\u017eymi\\u0173\\\"\\n)\\nprint(\\n    f\\\"Balanso ataskaita 2020 m. turi {df_blns_2020.shape[0]} reik\\u0161mi\\u0173 ir {df_blns_2020.shape[1]} po\\u017eymi\\u0173\\\"\\n)\\nprint()\\nprint(\\n    f\\\"Pelno (nuostoli\\u0173) ataskaita 2021 m. turi {df_plna_2021.shape[0]} reik\\u0161mes ir {df_plna_2021.shape[1]} po\\u017eymi\\u0173\\\"\\n)\\nprint(\\n    f\\\"Pelno (nuostoli\\u0173) ataskaita 2021 m. turi {df_plna_2020.shape[0]} reik\\u0161mi\\u0173 ir {df_plna_2020.shape[1]} po\\u017eymi\\u0173\\\"\\n)\";\n",
       "                var nbb_formatted_code = \"print(\\n    f\\\"Balanso ataskaita 2021 m. turi {df_blns_2021.shape[0]} reik\\u0161mi\\u0173 ir {df_blns_2021.shape[1]} po\\u017eymi\\u0173\\\"\\n)\\nprint(\\n    f\\\"Balanso ataskaita 2020 m. turi {df_blns_2020.shape[0]} reik\\u0161mi\\u0173 ir {df_blns_2020.shape[1]} po\\u017eymi\\u0173\\\"\\n)\\nprint()\\nprint(\\n    f\\\"Pelno (nuostoli\\u0173) ataskaita 2021 m. turi {df_plna_2021.shape[0]} reik\\u0161mes ir {df_plna_2021.shape[1]} po\\u017eymi\\u0173\\\"\\n)\\nprint(\\n    f\\\"Pelno (nuostoli\\u0173) ataskaita 2021 m. turi {df_plna_2020.shape[0]} reik\\u0161mi\\u0173 ir {df_plna_2020.shape[1]} po\\u017eymi\\u0173\\\"\\n)\";\n",
       "                var nbb_cells = Jupyter.notebook.get_cells();\n",
       "                for (var i = 0; i < nbb_cells.length; ++i) {\n",
       "                    if (nbb_cells[i].input_prompt_number == nbb_cell_id) {\n",
       "                        if (nbb_cells[i].get_text() == nbb_unformatted_code) {\n",
       "                             nbb_cells[i].set_text(nbb_formatted_code);\n",
       "                        }\n",
       "                        break;\n",
       "                    }\n",
       "                }\n",
       "            }, 500);\n",
       "            "
      ],
      "text/plain": [
       "<IPython.core.display.Javascript object>"
      ]
     },
     "metadata": {},
     "output_type": "display_data"
    }
   ],
   "source": [
    "print(\n",
    "    f\"Balanso ataskaita 2021 m. turi {df_blns_2021.shape[0]} reikšmių ir {df_blns_2021.shape[1]} požymių\"\n",
    ")\n",
    "print(\n",
    "    f\"Balanso ataskaita 2020 m. turi {df_blns_2020.shape[0]} reikšmių ir {df_blns_2020.shape[1]} požymių\"\n",
    ")\n",
    "print()\n",
    "print(\n",
    "    f\"Pelno (nuostolių) ataskaita 2021 m. turi {df_plna_2021.shape[0]} reikšmes ir {df_plna_2021.shape[1]} požymių\"\n",
    ")\n",
    "print(\n",
    "    f\"Pelno (nuostolių) ataskaita 2021 m. turi {df_plna_2020.shape[0]} reikšmių ir {df_plna_2020.shape[1]} požymių\"\n",
    ")"
   ]
  },
  {
   "cell_type": "markdown",
   "id": "10c99d9c",
   "metadata": {},
   "source": [
    "### Kokio duomenų tipo yra kiekvienas iš požymių? Ar duomenų tipai tarp atitinkamų lentelių iš 2020 ir 2021 metų sutampa?"
   ]
  },
  {
   "cell_type": "code",
   "execution_count": 9,
   "id": "3636a96e",
   "metadata": {
    "ExecuteTime": {
     "end_time": "2022-12-08T18:19:45.062194Z",
     "start_time": "2022-12-08T18:19:44.616122Z"
    }
   },
   "outputs": [
    {
     "name": "stdout",
     "output_type": "stream",
     "text": [
      "<class 'pandas.core.frame.DataFrame'>\n",
      "RangeIndex: 120850 entries, 0 to 120849\n",
      "Data columns (total 18 columns):\n",
      " #   Column                        Non-Null Count   Dtype  \n",
      "---  ------                        --------------   -----  \n",
      " 0   obj_kodas                     120850 non-null  int64  \n",
      " 1   obj_pav                       120850 non-null  object \n",
      " 2   form_kodas                    120850 non-null  int64  \n",
      " 3   form_pav                      120850 non-null  object \n",
      " 4   stat_statusas                 120850 non-null  int64  \n",
      " 5   stat_pav                      120850 non-null  object \n",
      " 6   template_id                   120850 non-null  object \n",
      " 7   template_name                 120850 non-null  object \n",
      " 8   standard_id                   120850 non-null  object \n",
      " 9   standard_name                 120850 non-null  object \n",
      " 10  laikotarpis_nuo               120850 non-null  object \n",
      " 11  laikotarpis_iki               120850 non-null  object \n",
      " 12  reg_date                      120850 non-null  object \n",
      " 13  nuosavas_kapitalas            120184 non-null  float64\n",
      " 14  mok_sumos_ir_isipareigojimai  101180 non-null  float64\n",
      " 15  ilgalaikis_turtas             118957 non-null  float64\n",
      " 16  trumpalaikis_turtas           118892 non-null  float64\n",
      " 17  formavimo_data                120850 non-null  object \n",
      "dtypes: float64(4), int64(3), object(11)\n",
      "memory usage: 16.6+ MB\n",
      "<class 'pandas.core.frame.DataFrame'>\n",
      "RangeIndex: 106318 entries, 0 to 106317\n",
      "Data columns (total 18 columns):\n",
      " #   Column                        Non-Null Count   Dtype  \n",
      "---  ------                        --------------   -----  \n",
      " 0   obj_kodas                     106318 non-null  int64  \n",
      " 1   obj_pav                       106318 non-null  object \n",
      " 2   form_kodas                    106318 non-null  int64  \n",
      " 3   form_pav                      106318 non-null  object \n",
      " 4   stat_statusas                 106318 non-null  int64  \n",
      " 5   stat_pav                      106318 non-null  object \n",
      " 6   template_id                   106318 non-null  object \n",
      " 7   template_name                 106318 non-null  object \n",
      " 8   standard_id                   106318 non-null  object \n",
      " 9   standard_name                 106318 non-null  object \n",
      " 10  laikotarpis_nuo               106318 non-null  object \n",
      " 11  laikotarpis_iki               106318 non-null  object \n",
      " 12  reg_date                      106318 non-null  object \n",
      " 13  nuosavas_kapitalas            105766 non-null  float64\n",
      " 14  mok_sumos_ir_isipareigojimai  92674 non-null   float64\n",
      " 15  ilgalaikis_turtas             104940 non-null  float64\n",
      " 16  trumpalaikis_turtas           104879 non-null  float64\n",
      " 17  formavimo_data                106318 non-null  object \n",
      "dtypes: float64(4), int64(3), object(11)\n",
      "memory usage: 14.6+ MB\n",
      "<class 'pandas.core.frame.DataFrame'>\n",
      "RangeIndex: 110227 entries, 0 to 110226\n",
      "Data columns (total 17 columns):\n",
      " #   Column                      Non-Null Count   Dtype  \n",
      "---  ------                      --------------   -----  \n",
      " 0   obj_kodas                   110227 non-null  int64  \n",
      " 1   obj_pav                     110227 non-null  object \n",
      " 2   form_kodas                  110227 non-null  int64  \n",
      " 3   form_pav                    110227 non-null  object \n",
      " 4   stat_statusas               110227 non-null  int64  \n",
      " 5   stat_pav                    110227 non-null  object \n",
      " 6   template_id                 110227 non-null  object \n",
      " 7   template_name               110227 non-null  object \n",
      " 8   standard_id                 110227 non-null  object \n",
      " 9   standard_name               110227 non-null  object \n",
      " 10  laikotarpis_nuo             110227 non-null  object \n",
      " 11  laikotarpis_iki             110227 non-null  object \n",
      " 12  reg_date                    110227 non-null  object \n",
      " 13  pelnas_pries_apmokestinima  75472 non-null   float64\n",
      " 14  grynasis_pelnas             104034 non-null  float64\n",
      " 15  pardavimo_pajamos           95317 non-null   float64\n",
      " 16  formavimo_data              110227 non-null  object \n",
      "dtypes: float64(3), int64(3), object(11)\n",
      "memory usage: 14.3+ MB\n",
      "<class 'pandas.core.frame.DataFrame'>\n",
      "RangeIndex: 96616 entries, 0 to 96615\n",
      "Data columns (total 17 columns):\n",
      " #   Column                      Non-Null Count  Dtype  \n",
      "---  ------                      --------------  -----  \n",
      " 0   obj_kodas                   96616 non-null  int64  \n",
      " 1   obj_pav                     96616 non-null  object \n",
      " 2   form_kodas                  96616 non-null  int64  \n",
      " 3   form_pav                    96616 non-null  object \n",
      " 4   stat_statusas               96616 non-null  int64  \n",
      " 5   stat_pav                    96616 non-null  object \n",
      " 6   template_id                 96616 non-null  object \n",
      " 7   template_name               96616 non-null  object \n",
      " 8   standard_id                 96616 non-null  object \n",
      " 9   standard_name               96616 non-null  object \n",
      " 10  laikotarpis_nuo             96616 non-null  object \n",
      " 11  laikotarpis_iki             96616 non-null  object \n",
      " 12  reg_date                    96616 non-null  object \n",
      " 13  pelnas_pries_apmokestinima  66251 non-null  float64\n",
      " 14  grynasis_pelnas             91416 non-null  float64\n",
      " 15  pardavimo_pajamos           84575 non-null  float64\n",
      " 16  formavimo_data              96616 non-null  object \n",
      "dtypes: float64(3), int64(3), object(11)\n",
      "memory usage: 12.5+ MB\n"
     ]
    },
    {
     "data": {
      "application/javascript": [
       "\n",
       "            setTimeout(function() {\n",
       "                var nbb_cell_id = 9;\n",
       "                var nbb_unformatted_code = \"# Info apie lenteli\\u0173 stulpelius, duomen\\u0173 tipus:\\n\\ndf_blns_2021.info()\\ndf_blns_2020.info()\\ndf_plna_2021.info()\\ndf_plna_2020.info()\";\n",
       "                var nbb_formatted_code = \"# Info apie lenteli\\u0173 stulpelius, duomen\\u0173 tipus:\\n\\ndf_blns_2021.info()\\ndf_blns_2020.info()\\ndf_plna_2021.info()\\ndf_plna_2020.info()\";\n",
       "                var nbb_cells = Jupyter.notebook.get_cells();\n",
       "                for (var i = 0; i < nbb_cells.length; ++i) {\n",
       "                    if (nbb_cells[i].input_prompt_number == nbb_cell_id) {\n",
       "                        if (nbb_cells[i].get_text() == nbb_unformatted_code) {\n",
       "                             nbb_cells[i].set_text(nbb_formatted_code);\n",
       "                        }\n",
       "                        break;\n",
       "                    }\n",
       "                }\n",
       "            }, 500);\n",
       "            "
      ],
      "text/plain": [
       "<IPython.core.display.Javascript object>"
      ]
     },
     "metadata": {},
     "output_type": "display_data"
    }
   ],
   "source": [
    "# Info apie lentelių stulpelius, duomenų tipus:\n",
    "\n",
    "df_blns_2021.info()\n",
    "df_blns_2020.info()\n",
    "df_plna_2021.info()\n",
    "df_plna_2020.info()"
   ]
  },
  {
   "cell_type": "code",
   "execution_count": 10,
   "id": "6a9d1247",
   "metadata": {
    "ExecuteTime": {
     "end_time": "2022-12-08T18:19:49.013985Z",
     "start_time": "2022-12-08T18:19:48.996033Z"
    }
   },
   "outputs": [
    {
     "name": "stdout",
     "output_type": "stream",
     "text": [
      "obj_kodas                       True\n",
      "obj_pav                         True\n",
      "form_kodas                      True\n",
      "form_pav                        True\n",
      "stat_statusas                   True\n",
      "stat_pav                        True\n",
      "template_id                     True\n",
      "template_name                   True\n",
      "standard_id                     True\n",
      "standard_name                   True\n",
      "laikotarpis_nuo                 True\n",
      "laikotarpis_iki                 True\n",
      "reg_date                        True\n",
      "nuosavas_kapitalas              True\n",
      "mok_sumos_ir_isipareigojimai    True\n",
      "ilgalaikis_turtas               True\n",
      "trumpalaikis_turtas             True\n",
      "formavimo_data                  True\n",
      "dtype: bool\n",
      "\n",
      "obj_kodas                     True\n",
      "obj_pav                       True\n",
      "form_kodas                    True\n",
      "form_pav                      True\n",
      "stat_statusas                 True\n",
      "stat_pav                      True\n",
      "template_id                   True\n",
      "template_name                 True\n",
      "standard_id                   True\n",
      "standard_name                 True\n",
      "laikotarpis_nuo               True\n",
      "laikotarpis_iki               True\n",
      "reg_date                      True\n",
      "pelnas_pries_apmokestinima    True\n",
      "grynasis_pelnas               True\n",
      "pardavimo_pajamos             True\n",
      "formavimo_data                True\n",
      "dtype: bool\n"
     ]
    },
    {
     "data": {
      "application/javascript": [
       "\n",
       "            setTimeout(function() {\n",
       "                var nbb_cell_id = 10;\n",
       "                var nbb_unformatted_code = \"# Patikrinimas ar sutampa duomen\\u0173 tipai skirting\\u0173 met\\u0173 lentel\\u0117se:\\n\\nprint(df_blns_2021.dtypes == df_blns_2020.dtypes)\\nprint()\\nprint(df_plna_2021.dtypes == df_plna_2020.dtypes)\";\n",
       "                var nbb_formatted_code = \"# Patikrinimas ar sutampa duomen\\u0173 tipai skirting\\u0173 met\\u0173 lentel\\u0117se:\\n\\nprint(df_blns_2021.dtypes == df_blns_2020.dtypes)\\nprint()\\nprint(df_plna_2021.dtypes == df_plna_2020.dtypes)\";\n",
       "                var nbb_cells = Jupyter.notebook.get_cells();\n",
       "                for (var i = 0; i < nbb_cells.length; ++i) {\n",
       "                    if (nbb_cells[i].input_prompt_number == nbb_cell_id) {\n",
       "                        if (nbb_cells[i].get_text() == nbb_unformatted_code) {\n",
       "                             nbb_cells[i].set_text(nbb_formatted_code);\n",
       "                        }\n",
       "                        break;\n",
       "                    }\n",
       "                }\n",
       "            }, 500);\n",
       "            "
      ],
      "text/plain": [
       "<IPython.core.display.Javascript object>"
      ]
     },
     "metadata": {},
     "output_type": "display_data"
    }
   ],
   "source": [
    "# Patikrinimas ar sutampa duomenų tipai skirtingų metų lentelėse:\n",
    "\n",
    "print(df_blns_2021.dtypes == df_blns_2020.dtypes)\n",
    "print()\n",
    "print(df_plna_2021.dtypes == df_plna_2020.dtypes)"
   ]
  },
  {
   "cell_type": "markdown",
   "id": "055b9380",
   "metadata": {},
   "source": [
    "### Paaiškinkite kas yra object duomenų tipas ir kuo jis skiriasi nuo string duomenų tipo."
   ]
  },
  {
   "cell_type": "markdown",
   "id": "4795ec5b",
   "metadata": {
    "ExecuteTime": {
     "end_time": "2022-12-05T17:04:32.592282Z",
     "start_time": "2022-12-05T17:04:32.579541Z"
    }
   },
   "source": [
    "Object duomenų tipas yra stulpelis kuriame gali būti saugojamos įvairios STRING, INTEGER, FLOAT vertės.\n",
    "Nuskaitant failą automtiškai stulpeliui kuriame yra STRING reikšmių priskiriamas Object tipas."
   ]
  },
  {
   "cell_type": "markdown",
   "id": "1c05363c",
   "metadata": {},
   "source": [
    "### Kuri lentelė turi daugiausiai nežinomų verčių? Kuris požymis išsiskiria nežinomų verčių skaičiumi?"
   ]
  },
  {
   "cell_type": "code",
   "execution_count": 11,
   "id": "d61dc990",
   "metadata": {
    "ExecuteTime": {
     "end_time": "2022-12-08T18:19:52.413562Z",
     "start_time": "2022-12-08T18:19:51.981680Z"
    }
   },
   "outputs": [
    {
     "name": "stdout",
     "output_type": "stream",
     "text": [
      "24187\n",
      "17013\n",
      "55858\n",
      "47606\n"
     ]
    },
    {
     "data": {
      "application/javascript": [
       "\n",
       "            setTimeout(function() {\n",
       "                var nbb_cell_id = 11;\n",
       "                var nbb_unformatted_code = \"# Kiek lentel\\u0117s turi NaN ver\\u010di\\u0173 i\\u0161 viso:\\n\\nprint(df_blns_2021.isna().sum().sum())\\nprint(df_blns_2020.isna().sum().sum())\\nprint(df_plna_2021.isna().sum().sum())\\nprint(df_plna_2020.isna().sum().sum())\";\n",
       "                var nbb_formatted_code = \"# Kiek lentel\\u0117s turi NaN ver\\u010di\\u0173 i\\u0161 viso:\\n\\nprint(df_blns_2021.isna().sum().sum())\\nprint(df_blns_2020.isna().sum().sum())\\nprint(df_plna_2021.isna().sum().sum())\\nprint(df_plna_2020.isna().sum().sum())\";\n",
       "                var nbb_cells = Jupyter.notebook.get_cells();\n",
       "                for (var i = 0; i < nbb_cells.length; ++i) {\n",
       "                    if (nbb_cells[i].input_prompt_number == nbb_cell_id) {\n",
       "                        if (nbb_cells[i].get_text() == nbb_unformatted_code) {\n",
       "                             nbb_cells[i].set_text(nbb_formatted_code);\n",
       "                        }\n",
       "                        break;\n",
       "                    }\n",
       "                }\n",
       "            }, 500);\n",
       "            "
      ],
      "text/plain": [
       "<IPython.core.display.Javascript object>"
      ]
     },
     "metadata": {},
     "output_type": "display_data"
    }
   ],
   "source": [
    "# Kiek lentelės turi NaN verčių iš viso:\n",
    "\n",
    "print(df_blns_2021.isna().sum().sum())\n",
    "print(df_blns_2020.isna().sum().sum())\n",
    "print(df_plna_2021.isna().sum().sum())\n",
    "print(df_plna_2020.isna().sum().sum())"
   ]
  },
  {
   "cell_type": "code",
   "execution_count": 12,
   "id": "e8fbecd9",
   "metadata": {
    "ExecuteTime": {
     "end_time": "2022-12-08T18:19:54.220886Z",
     "start_time": "2022-12-08T18:19:53.988419Z"
    }
   },
   "outputs": [
    {
     "name": "stdout",
     "output_type": "stream",
     "text": [
      "Požymis: 'pelnas_pries_apmokestinima' turi daugiausiai NaN reikšmių - 34755.\n"
     ]
    },
    {
     "data": {
      "application/javascript": [
       "\n",
       "            setTimeout(function() {\n",
       "                var nbb_cell_id = 12;\n",
       "                var nbb_unformatted_code = \"# Kuris po\\u017eymis turi daugiausiai NaN ver\\u010di\\u0173:\\n\\nprint(\\n    f\\\"Po\\u017eymis: '{df_plna_2021.isna().sum().idxmax()}' turi daugiausiai NaN reik\\u0161mi\\u0173 - {df_plna_2021.isna().sum().max()}.\\\"\\n)\";\n",
       "                var nbb_formatted_code = \"# Kuris po\\u017eymis turi daugiausiai NaN ver\\u010di\\u0173:\\n\\nprint(\\n    f\\\"Po\\u017eymis: '{df_plna_2021.isna().sum().idxmax()}' turi daugiausiai NaN reik\\u0161mi\\u0173 - {df_plna_2021.isna().sum().max()}.\\\"\\n)\";\n",
       "                var nbb_cells = Jupyter.notebook.get_cells();\n",
       "                for (var i = 0; i < nbb_cells.length; ++i) {\n",
       "                    if (nbb_cells[i].input_prompt_number == nbb_cell_id) {\n",
       "                        if (nbb_cells[i].get_text() == nbb_unformatted_code) {\n",
       "                             nbb_cells[i].set_text(nbb_formatted_code);\n",
       "                        }\n",
       "                        break;\n",
       "                    }\n",
       "                }\n",
       "            }, 500);\n",
       "            "
      ],
      "text/plain": [
       "<IPython.core.display.Javascript object>"
      ]
     },
     "metadata": {},
     "output_type": "display_data"
    }
   ],
   "source": [
    "# Kuris požymis turi daugiausiai NaN verčių:\n",
    "\n",
    "print(\n",
    "    f\"Požymis: '{df_plna_2021.isna().sum().idxmax()}' turi daugiausiai NaN reikšmių - {df_plna_2021.isna().sum().max()}.\"\n",
    ")"
   ]
  },
  {
   "cell_type": "markdown",
   "id": "45984d38",
   "metadata": {},
   "source": [
    "### Ar kažkuri lentelė turi pasikartojančių duomenų?"
   ]
  },
  {
   "cell_type": "markdown",
   "id": "25e4dc03",
   "metadata": {},
   "source": [
    "Visose lentelėse yra stulpelis su identiškomis reikšmėmis: \"formavimo_data\"."
   ]
  },
  {
   "cell_type": "markdown",
   "id": "fadcaa33",
   "metadata": {},
   "source": [
    "#### Kokia stulpelių aibė vienareikšmiškai identifikuoja kiekvienos lentelės eilutę?"
   ]
  },
  {
   "cell_type": "markdown",
   "id": "951f819a",
   "metadata": {},
   "source": [
    "Daugiausiai unikalių reikšmių visose lentelėse turinti stulpelis yra \"obj_kodas\". Kuris nusako juridinio asmens kodą juridinių asmenų registre."
   ]
  },
  {
   "cell_type": "code",
   "execution_count": 13,
   "id": "cc713055",
   "metadata": {
    "ExecuteTime": {
     "end_time": "2022-12-08T18:19:56.364751Z",
     "start_time": "2022-12-08T18:19:56.332810Z"
    }
   },
   "outputs": [
    {
     "data": {
      "text/plain": [
       "126281096    34\n",
       "168970870    34\n",
       "163753471    34\n",
       "135994223    32\n",
       "123926613    32\n",
       "             ..\n",
       "300631335     1\n",
       "302531682     1\n",
       "305660127     1\n",
       "305124916     1\n",
       "170075448     1\n",
       "Name: obj_kodas, Length: 117553, dtype: int64"
      ]
     },
     "execution_count": 13,
     "metadata": {},
     "output_type": "execute_result"
    },
    {
     "data": {
      "application/javascript": [
       "\n",
       "            setTimeout(function() {\n",
       "                var nbb_cell_id = 13;\n",
       "                var nbb_unformatted_code = \"full_df[\\\"obj_kodas\\\"].value_counts()\";\n",
       "                var nbb_formatted_code = \"full_df[\\\"obj_kodas\\\"].value_counts()\";\n",
       "                var nbb_cells = Jupyter.notebook.get_cells();\n",
       "                for (var i = 0; i < nbb_cells.length; ++i) {\n",
       "                    if (nbb_cells[i].input_prompt_number == nbb_cell_id) {\n",
       "                        if (nbb_cells[i].get_text() == nbb_unformatted_code) {\n",
       "                             nbb_cells[i].set_text(nbb_formatted_code);\n",
       "                        }\n",
       "                        break;\n",
       "                    }\n",
       "                }\n",
       "            }, 500);\n",
       "            "
      ],
      "text/plain": [
       "<IPython.core.display.Javascript object>"
      ]
     },
     "metadata": {},
     "output_type": "display_data"
    }
   ],
   "source": [
    "full_df[\"obj_kodas\"].value_counts()"
   ]
  },
  {
   "cell_type": "markdown",
   "id": "1c6ee73e",
   "metadata": {},
   "source": [
    "# Antra dalis"
   ]
  },
  {
   "cell_type": "markdown",
   "id": "02ad3184",
   "metadata": {},
   "source": [
    "## Keletas juridinių asmenų pavadinimų yra tiesiogiai susiję su “Thermo Fisher” bendrove. Raskite pilnus šių bendrovių pavadinimus. [0.4 taško]"
   ]
  },
  {
   "cell_type": "code",
   "execution_count": 14,
   "id": "065715f6",
   "metadata": {
    "ExecuteTime": {
     "end_time": "2022-12-08T18:19:58.816194Z",
     "start_time": "2022-12-08T18:19:58.595271Z"
    }
   },
   "outputs": [
    {
     "data": {
      "text/plain": [
       "array(['UAB \"Thermo Fisher Scientific Vector Senior Holdings II\"',\n",
       "       'UAB \"Thermo Fisher Scientific Vector Senior Holdings I\"',\n",
       "       'UAB \"Thermo Fisher Scientific Baltics\"',\n",
       "       'UAB \"Thermo Fisher Scientific Vector Holdings\"'], dtype=object)"
      ]
     },
     "execution_count": 14,
     "metadata": {},
     "output_type": "execute_result"
    },
    {
     "data": {
      "application/javascript": [
       "\n",
       "            setTimeout(function() {\n",
       "                var nbb_cell_id = 14;\n",
       "                var nbb_unformatted_code = \"obj_name = \\\"Thermo Fisher\\\"  # Filter by name\\n\\nfull_df[full_df[\\\"obj_pav\\\"].str.contains(obj_name)][\\\"obj_pav\\\"].unique()\";\n",
       "                var nbb_formatted_code = \"obj_name = \\\"Thermo Fisher\\\"  # Filter by name\\n\\nfull_df[full_df[\\\"obj_pav\\\"].str.contains(obj_name)][\\\"obj_pav\\\"].unique()\";\n",
       "                var nbb_cells = Jupyter.notebook.get_cells();\n",
       "                for (var i = 0; i < nbb_cells.length; ++i) {\n",
       "                    if (nbb_cells[i].input_prompt_number == nbb_cell_id) {\n",
       "                        if (nbb_cells[i].get_text() == nbb_unformatted_code) {\n",
       "                             nbb_cells[i].set_text(nbb_formatted_code);\n",
       "                        }\n",
       "                        break;\n",
       "                    }\n",
       "                }\n",
       "            }, 500);\n",
       "            "
      ],
      "text/plain": [
       "<IPython.core.display.Javascript object>"
      ]
     },
     "metadata": {},
     "output_type": "display_data"
    }
   ],
   "source": [
    "obj_name = \"Thermo Fisher\"  # Filter by name\n",
    "\n",
    "full_df[full_df[\"obj_pav\"].str.contains(obj_name)][\"obj_pav\"].unique()"
   ]
  },
  {
   "cell_type": "markdown",
   "id": "39717272",
   "metadata": {},
   "source": [
    "## Apsimeskime, kad atributas “form_pav” neegzistuoja. Iš likusių laukelių gaukite visas UAB ir MB bendroves. Palyginkite rekonstrukcijos tikslumą su “form_pav” vertėmis kiek procentų verčių pavyko atkurti skirtingose duomenyse? [0.4 taško]"
   ]
  },
  {
   "cell_type": "code",
   "execution_count": 15,
   "id": "6947ab91",
   "metadata": {
    "ExecuteTime": {
     "end_time": "2022-12-08T18:20:02.769297Z",
     "start_time": "2022-12-08T18:20:02.483449Z"
    }
   },
   "outputs": [
    {
     "data": {
      "application/javascript": [
       "\n",
       "            setTimeout(function() {\n",
       "                var nbb_cell_id = 15;\n",
       "                var nbb_unformatted_code = \"def split_obj_pav(x):\\n    x = x.lower()\\n    return x.split(\\\" \\\")\\n\\n\\nblns_merged[\\\"obj_pav_split\\\"] = blns_merged[\\\"obj_pav\\\"].apply(split_obj_pav)\";\n",
       "                var nbb_formatted_code = \"def split_obj_pav(x):\\n    x = x.lower()\\n    return x.split(\\\" \\\")\\n\\n\\nblns_merged[\\\"obj_pav_split\\\"] = blns_merged[\\\"obj_pav\\\"].apply(split_obj_pav)\";\n",
       "                var nbb_cells = Jupyter.notebook.get_cells();\n",
       "                for (var i = 0; i < nbb_cells.length; ++i) {\n",
       "                    if (nbb_cells[i].input_prompt_number == nbb_cell_id) {\n",
       "                        if (nbb_cells[i].get_text() == nbb_unformatted_code) {\n",
       "                             nbb_cells[i].set_text(nbb_formatted_code);\n",
       "                        }\n",
       "                        break;\n",
       "                    }\n",
       "                }\n",
       "            }, 500);\n",
       "            "
      ],
      "text/plain": [
       "<IPython.core.display.Javascript object>"
      ]
     },
     "metadata": {},
     "output_type": "display_data"
    }
   ],
   "source": [
    "def split_obj_pav(x):\n",
    "    x = x.lower()\n",
    "    return x.split(\" \")\n",
    "\n",
    "\n",
    "blns_merged[\"obj_pav_split\"] = blns_merged[\"obj_pav\"].apply(split_obj_pav)"
   ]
  },
  {
   "cell_type": "code",
   "execution_count": 16,
   "id": "03633cce",
   "metadata": {
    "ExecuteTime": {
     "end_time": "2022-12-08T18:20:04.430360Z",
     "start_time": "2022-12-08T18:20:04.312676Z"
    }
   },
   "outputs": [
    {
     "data": {
      "application/javascript": [
       "\n",
       "            setTimeout(function() {\n",
       "                var nbb_cell_id = 16;\n",
       "                var nbb_unformatted_code = \"def find_uab(uab):\\n    if (\\\"uab\\\" in uab) | (\\\"u\\u017edaroji\\\" in uab):\\n        return True\\n    else:\\n        return False\\n\\n\\ntemp_uab = blns_merged[blns_merged[\\\"obj_pav_split\\\"].map(find_uab)]\";\n",
       "                var nbb_formatted_code = \"def find_uab(uab):\\n    if (\\\"uab\\\" in uab) | (\\\"u\\u017edaroji\\\" in uab):\\n        return True\\n    else:\\n        return False\\n\\n\\ntemp_uab = blns_merged[blns_merged[\\\"obj_pav_split\\\"].map(find_uab)]\";\n",
       "                var nbb_cells = Jupyter.notebook.get_cells();\n",
       "                for (var i = 0; i < nbb_cells.length; ++i) {\n",
       "                    if (nbb_cells[i].input_prompt_number == nbb_cell_id) {\n",
       "                        if (nbb_cells[i].get_text() == nbb_unformatted_code) {\n",
       "                             nbb_cells[i].set_text(nbb_formatted_code);\n",
       "                        }\n",
       "                        break;\n",
       "                    }\n",
       "                }\n",
       "            }, 500);\n",
       "            "
      ],
      "text/plain": [
       "<IPython.core.display.Javascript object>"
      ]
     },
     "metadata": {},
     "output_type": "display_data"
    }
   ],
   "source": [
    "def find_uab(uab):\n",
    "    if (\"uab\" in uab) | (\"uždaroji\" in uab):\n",
    "        return True\n",
    "    else:\n",
    "        return False\n",
    "\n",
    "\n",
    "temp_uab = blns_merged[blns_merged[\"obj_pav_split\"].map(find_uab)]"
   ]
  },
  {
   "cell_type": "code",
   "execution_count": 17,
   "id": "8bd512c4",
   "metadata": {
    "ExecuteTime": {
     "end_time": "2022-12-08T18:20:06.386761Z",
     "start_time": "2022-12-08T18:20:06.376196Z"
    }
   },
   "outputs": [
    {
     "data": {
      "application/javascript": [
       "\n",
       "            setTimeout(function() {\n",
       "                var nbb_cell_id = 17;\n",
       "                var nbb_unformatted_code = \"recreated_uab = temp_uab.shape[0]\";\n",
       "                var nbb_formatted_code = \"recreated_uab = temp_uab.shape[0]\";\n",
       "                var nbb_cells = Jupyter.notebook.get_cells();\n",
       "                for (var i = 0; i < nbb_cells.length; ++i) {\n",
       "                    if (nbb_cells[i].input_prompt_number == nbb_cell_id) {\n",
       "                        if (nbb_cells[i].get_text() == nbb_unformatted_code) {\n",
       "                             nbb_cells[i].set_text(nbb_formatted_code);\n",
       "                        }\n",
       "                        break;\n",
       "                    }\n",
       "                }\n",
       "            }, 500);\n",
       "            "
      ],
      "text/plain": [
       "<IPython.core.display.Javascript object>"
      ]
     },
     "metadata": {},
     "output_type": "display_data"
    }
   ],
   "source": [
    "recreated_uab = temp_uab.shape[0]"
   ]
  },
  {
   "cell_type": "code",
   "execution_count": 18,
   "id": "9325001f",
   "metadata": {
    "ExecuteTime": {
     "end_time": "2022-12-08T18:20:07.446189Z",
     "start_time": "2022-12-08T18:20:07.395319Z"
    }
   },
   "outputs": [
    {
     "data": {
      "application/javascript": [
       "\n",
       "            setTimeout(function() {\n",
       "                var nbb_cell_id = 18;\n",
       "                var nbb_unformatted_code = \"actual_uab = blns_merged[blns_merged[\\\"form_pav\\\"] == \\\"U\\u017edaroji akcin\\u0117 bendrov\\u0117\\\"].shape[0]\";\n",
       "                var nbb_formatted_code = \"actual_uab = blns_merged[blns_merged[\\\"form_pav\\\"] == \\\"U\\u017edaroji akcin\\u0117 bendrov\\u0117\\\"].shape[0]\";\n",
       "                var nbb_cells = Jupyter.notebook.get_cells();\n",
       "                for (var i = 0; i < nbb_cells.length; ++i) {\n",
       "                    if (nbb_cells[i].input_prompt_number == nbb_cell_id) {\n",
       "                        if (nbb_cells[i].get_text() == nbb_unformatted_code) {\n",
       "                             nbb_cells[i].set_text(nbb_formatted_code);\n",
       "                        }\n",
       "                        break;\n",
       "                    }\n",
       "                }\n",
       "            }, 500);\n",
       "            "
      ],
      "text/plain": [
       "<IPython.core.display.Javascript object>"
      ]
     },
     "metadata": {},
     "output_type": "display_data"
    }
   ],
   "source": [
    "actual_uab = blns_merged[blns_merged[\"form_pav\"] == \"Uždaroji akcinė bendrovė\"].shape[0]"
   ]
  },
  {
   "cell_type": "code",
   "execution_count": 19,
   "id": "ed82a4d8",
   "metadata": {
    "ExecuteTime": {
     "end_time": "2022-12-08T18:20:08.173180Z",
     "start_time": "2022-12-08T18:20:08.159218Z"
    }
   },
   "outputs": [
    {
     "name": "stdout",
     "output_type": "stream",
     "text": [
      "158598\n",
      "158458\n",
      "99.91\n"
     ]
    },
    {
     "data": {
      "application/javascript": [
       "\n",
       "            setTimeout(function() {\n",
       "                var nbb_cell_id = 19;\n",
       "                var nbb_unformatted_code = \"# UAB percentage recreated\\nprint(actual_uab)\\nprint(recreated_uab)\\nprint(round((recreated_uab / actual_uab) * 100, 2))\";\n",
       "                var nbb_formatted_code = \"# UAB percentage recreated\\nprint(actual_uab)\\nprint(recreated_uab)\\nprint(round((recreated_uab / actual_uab) * 100, 2))\";\n",
       "                var nbb_cells = Jupyter.notebook.get_cells();\n",
       "                for (var i = 0; i < nbb_cells.length; ++i) {\n",
       "                    if (nbb_cells[i].input_prompt_number == nbb_cell_id) {\n",
       "                        if (nbb_cells[i].get_text() == nbb_unformatted_code) {\n",
       "                             nbb_cells[i].set_text(nbb_formatted_code);\n",
       "                        }\n",
       "                        break;\n",
       "                    }\n",
       "                }\n",
       "            }, 500);\n",
       "            "
      ],
      "text/plain": [
       "<IPython.core.display.Javascript object>"
      ]
     },
     "metadata": {},
     "output_type": "display_data"
    }
   ],
   "source": [
    "# UAB percentage recreated\n",
    "print(actual_uab)\n",
    "print(recreated_uab)\n",
    "print(round((recreated_uab / actual_uab) * 100, 2))"
   ]
  },
  {
   "cell_type": "code",
   "execution_count": 20,
   "id": "842cbabf",
   "metadata": {
    "ExecuteTime": {
     "end_time": "2022-12-08T18:20:10.394094Z",
     "start_time": "2022-12-08T18:20:10.329228Z"
    }
   },
   "outputs": [
    {
     "data": {
      "application/javascript": [
       "\n",
       "            setTimeout(function() {\n",
       "                var nbb_cell_id = 20;\n",
       "                var nbb_unformatted_code = \"def find_mb(mb):\\n    if \\\"mb\\\" in mb:\\n        return True\\n    else:\\n        return False\\n\\n\\ntemp_mb = blns_merged[blns_merged[\\\"obj_pav_split\\\"].map(find_mb)]\";\n",
       "                var nbb_formatted_code = \"def find_mb(mb):\\n    if \\\"mb\\\" in mb:\\n        return True\\n    else:\\n        return False\\n\\n\\ntemp_mb = blns_merged[blns_merged[\\\"obj_pav_split\\\"].map(find_mb)]\";\n",
       "                var nbb_cells = Jupyter.notebook.get_cells();\n",
       "                for (var i = 0; i < nbb_cells.length; ++i) {\n",
       "                    if (nbb_cells[i].input_prompt_number == nbb_cell_id) {\n",
       "                        if (nbb_cells[i].get_text() == nbb_unformatted_code) {\n",
       "                             nbb_cells[i].set_text(nbb_formatted_code);\n",
       "                        }\n",
       "                        break;\n",
       "                    }\n",
       "                }\n",
       "            }, 500);\n",
       "            "
      ],
      "text/plain": [
       "<IPython.core.display.Javascript object>"
      ]
     },
     "metadata": {},
     "output_type": "display_data"
    }
   ],
   "source": [
    "def find_mb(mb):\n",
    "    if \"mb\" in mb:\n",
    "        return True\n",
    "    else:\n",
    "        return False\n",
    "\n",
    "\n",
    "temp_mb = blns_merged[blns_merged[\"obj_pav_split\"].map(find_mb)]"
   ]
  },
  {
   "cell_type": "code",
   "execution_count": 21,
   "id": "38c465b1",
   "metadata": {
    "ExecuteTime": {
     "end_time": "2022-12-08T18:20:12.114401Z",
     "start_time": "2022-12-08T18:20:12.104738Z"
    }
   },
   "outputs": [
    {
     "data": {
      "application/javascript": [
       "\n",
       "            setTimeout(function() {\n",
       "                var nbb_cell_id = 21;\n",
       "                var nbb_unformatted_code = \"recreated_mb = temp_mb.shape[0]\";\n",
       "                var nbb_formatted_code = \"recreated_mb = temp_mb.shape[0]\";\n",
       "                var nbb_cells = Jupyter.notebook.get_cells();\n",
       "                for (var i = 0; i < nbb_cells.length; ++i) {\n",
       "                    if (nbb_cells[i].input_prompt_number == nbb_cell_id) {\n",
       "                        if (nbb_cells[i].get_text() == nbb_unformatted_code) {\n",
       "                             nbb_cells[i].set_text(nbb_formatted_code);\n",
       "                        }\n",
       "                        break;\n",
       "                    }\n",
       "                }\n",
       "            }, 500);\n",
       "            "
      ],
      "text/plain": [
       "<IPython.core.display.Javascript object>"
      ]
     },
     "metadata": {},
     "output_type": "display_data"
    }
   ],
   "source": [
    "recreated_mb = temp_mb.shape[0]"
   ]
  },
  {
   "cell_type": "code",
   "execution_count": 22,
   "id": "6c46a9f0",
   "metadata": {
    "ExecuteTime": {
     "end_time": "2022-12-08T18:20:13.107820Z",
     "start_time": "2022-12-08T18:20:13.083884Z"
    }
   },
   "outputs": [
    {
     "data": {
      "application/javascript": [
       "\n",
       "            setTimeout(function() {\n",
       "                var nbb_cell_id = 22;\n",
       "                var nbb_unformatted_code = \"actual_mb = blns_merged[blns_merged[\\\"form_pav\\\"] == \\\"Ma\\u017eoji bendrija\\\"].shape[0]\";\n",
       "                var nbb_formatted_code = \"actual_mb = blns_merged[blns_merged[\\\"form_pav\\\"] == \\\"Ma\\u017eoji bendrija\\\"].shape[0]\";\n",
       "                var nbb_cells = Jupyter.notebook.get_cells();\n",
       "                for (var i = 0; i < nbb_cells.length; ++i) {\n",
       "                    if (nbb_cells[i].input_prompt_number == nbb_cell_id) {\n",
       "                        if (nbb_cells[i].get_text() == nbb_unformatted_code) {\n",
       "                             nbb_cells[i].set_text(nbb_formatted_code);\n",
       "                        }\n",
       "                        break;\n",
       "                    }\n",
       "                }\n",
       "            }, 500);\n",
       "            "
      ],
      "text/plain": [
       "<IPython.core.display.Javascript object>"
      ]
     },
     "metadata": {},
     "output_type": "display_data"
    }
   ],
   "source": [
    "actual_mb = blns_merged[blns_merged[\"form_pav\"] == \"Mažoji bendrija\"].shape[0]"
   ]
  },
  {
   "cell_type": "code",
   "execution_count": 23,
   "id": "8d65f957",
   "metadata": {
    "ExecuteTime": {
     "end_time": "2022-12-08T18:20:15.159965Z",
     "start_time": "2022-12-08T18:20:15.151986Z"
    }
   },
   "outputs": [
    {
     "name": "stdout",
     "output_type": "stream",
     "text": [
      "32381\n",
      "31415\n",
      "97.02\n"
     ]
    },
    {
     "data": {
      "application/javascript": [
       "\n",
       "            setTimeout(function() {\n",
       "                var nbb_cell_id = 23;\n",
       "                var nbb_unformatted_code = \"# MB percentage recreated\\nprint(actual_mb)\\nprint(recreated_mb)\\nprint(round((recreated_mb / actual_mb) * 100, 2))\";\n",
       "                var nbb_formatted_code = \"# MB percentage recreated\\nprint(actual_mb)\\nprint(recreated_mb)\\nprint(round((recreated_mb / actual_mb) * 100, 2))\";\n",
       "                var nbb_cells = Jupyter.notebook.get_cells();\n",
       "                for (var i = 0; i < nbb_cells.length; ++i) {\n",
       "                    if (nbb_cells[i].input_prompt_number == nbb_cell_id) {\n",
       "                        if (nbb_cells[i].get_text() == nbb_unformatted_code) {\n",
       "                             nbb_cells[i].set_text(nbb_formatted_code);\n",
       "                        }\n",
       "                        break;\n",
       "                    }\n",
       "                }\n",
       "            }, 500);\n",
       "            "
      ],
      "text/plain": [
       "<IPython.core.display.Javascript object>"
      ]
     },
     "metadata": {},
     "output_type": "display_data"
    }
   ],
   "source": [
    "# MB percentage recreated\n",
    "print(actual_mb)\n",
    "print(recreated_mb)\n",
    "print(round((recreated_mb / actual_mb) * 100, 2))"
   ]
  },
  {
   "cell_type": "markdown",
   "id": "bb98ad8b",
   "metadata": {},
   "source": [
    "## Apskaičiuoti vidutinias reikšmes “pelnas_pries_apmokestinima” ir “nuosavas_kapitalas” laukų kiekvienai juridinio asmens formai (Uždaroji akcinė bendrovė, Mažoji bendrija, etc.) už visą laikotarpį (2020 ir 2021 metai kartu). [0.4 taško]"
   ]
  },
  {
   "cell_type": "code",
   "execution_count": null,
   "id": "955c1643",
   "metadata": {
    "ExecuteTime": {
     "end_time": "2022-12-08T10:25:43.802117Z",
     "start_time": "2022-12-08T10:25:43.733300Z"
    }
   },
   "outputs": [],
   "source": [
    "pd.options.display.float_format = \"{:.2f}\".format\n",
    "full_df.groupby(\"form_pav\")[[\"pelnas_pries_apmokestinima\", \"nuosavas_kapitalas\"]].mean()"
   ]
  },
  {
   "cell_type": "markdown",
   "id": "0d915286",
   "metadata": {},
   "source": [
    "## Atrinkti unikalias UAB ir MB įmones, kurių “nuosavas_kapitalas” buvo didesnis negu visų UAB ir MB įmonių nuosavo kapitalo mediana už visą laitotarpį (2020 ir 2021 metai kartu). [0.4 taško]"
   ]
  },
  {
   "cell_type": "code",
   "execution_count": 25,
   "id": "5f773d3f",
   "metadata": {
    "ExecuteTime": {
     "end_time": "2022-12-08T18:20:25.972810Z",
     "start_time": "2022-12-08T18:20:25.919909Z"
    }
   },
   "outputs": [
    {
     "data": {
      "application/javascript": [
       "\n",
       "            setTimeout(function() {\n",
       "                var nbb_cell_id = 25;\n",
       "                var nbb_unformatted_code = \"# Filter dataframe\\n\\nmask_uab = full_df[\\\"form_pav\\\"] == \\\"U\\u017edaroji akcin\\u0117 bendrov\\u0117\\\"\\nmask_mb = full_df[\\\"form_pav\\\"] == \\\"Ma\\u017eoji bendrija\\\"\";\n",
       "                var nbb_formatted_code = \"# Filter dataframe\\n\\nmask_uab = full_df[\\\"form_pav\\\"] == \\\"U\\u017edaroji akcin\\u0117 bendrov\\u0117\\\"\\nmask_mb = full_df[\\\"form_pav\\\"] == \\\"Ma\\u017eoji bendrija\\\"\";\n",
       "                var nbb_cells = Jupyter.notebook.get_cells();\n",
       "                for (var i = 0; i < nbb_cells.length; ++i) {\n",
       "                    if (nbb_cells[i].input_prompt_number == nbb_cell_id) {\n",
       "                        if (nbb_cells[i].get_text() == nbb_unformatted_code) {\n",
       "                             nbb_cells[i].set_text(nbb_formatted_code);\n",
       "                        }\n",
       "                        break;\n",
       "                    }\n",
       "                }\n",
       "            }, 500);\n",
       "            "
      ],
      "text/plain": [
       "<IPython.core.display.Javascript object>"
      ]
     },
     "metadata": {},
     "output_type": "display_data"
    }
   ],
   "source": [
    "# Filter dataframe\n",
    "\n",
    "mask_uab = full_df[\"form_pav\"] == \"Uždaroji akcinė bendrovė\"\n",
    "mask_mb = full_df[\"form_pav\"] == \"Mažoji bendrija\""
   ]
  },
  {
   "cell_type": "code",
   "execution_count": 26,
   "id": "4357055a",
   "metadata": {
    "ExecuteTime": {
     "end_time": "2022-12-08T18:20:27.872047Z",
     "start_time": "2022-12-08T18:20:27.792287Z"
    }
   },
   "outputs": [
    {
     "name": "stdout",
     "output_type": "stream",
     "text": [
      "21455.0\n",
      "2371.0\n"
     ]
    },
    {
     "data": {
      "application/javascript": [
       "\n",
       "            setTimeout(function() {\n",
       "                var nbb_cell_id = 26;\n",
       "                var nbb_unformatted_code = \"# Find median values\\n\\nuab_median = full_df[mask_uab][\\\"nuosavas_kapitalas\\\"].median()\\nmb_median = full_df[mask_mb][\\\"nuosavas_kapitalas\\\"].median()\\nprint(uab_median)\\nprint(mb_median)\";\n",
       "                var nbb_formatted_code = \"# Find median values\\n\\nuab_median = full_df[mask_uab][\\\"nuosavas_kapitalas\\\"].median()\\nmb_median = full_df[mask_mb][\\\"nuosavas_kapitalas\\\"].median()\\nprint(uab_median)\\nprint(mb_median)\";\n",
       "                var nbb_cells = Jupyter.notebook.get_cells();\n",
       "                for (var i = 0; i < nbb_cells.length; ++i) {\n",
       "                    if (nbb_cells[i].input_prompt_number == nbb_cell_id) {\n",
       "                        if (nbb_cells[i].get_text() == nbb_unformatted_code) {\n",
       "                             nbb_cells[i].set_text(nbb_formatted_code);\n",
       "                        }\n",
       "                        break;\n",
       "                    }\n",
       "                }\n",
       "            }, 500);\n",
       "            "
      ],
      "text/plain": [
       "<IPython.core.display.Javascript object>"
      ]
     },
     "metadata": {},
     "output_type": "display_data"
    }
   ],
   "source": [
    "# Find median values\n",
    "\n",
    "uab_median = full_df[mask_uab][\"nuosavas_kapitalas\"].median()\n",
    "mb_median = full_df[mask_mb][\"nuosavas_kapitalas\"].median()\n",
    "print(uab_median)\n",
    "print(mb_median)"
   ]
  },
  {
   "cell_type": "code",
   "execution_count": 27,
   "id": "f201a141",
   "metadata": {
    "ExecuteTime": {
     "end_time": "2022-12-08T18:20:29.489086Z",
     "start_time": "2022-12-08T18:20:29.367390Z"
    }
   },
   "outputs": [
    {
     "data": {
      "text/html": [
       "<div>\n",
       "<style scoped>\n",
       "    .dataframe tbody tr th:only-of-type {\n",
       "        vertical-align: middle;\n",
       "    }\n",
       "\n",
       "    .dataframe tbody tr th {\n",
       "        vertical-align: top;\n",
       "    }\n",
       "\n",
       "    .dataframe thead th {\n",
       "        text-align: right;\n",
       "    }\n",
       "</style>\n",
       "<table border=\"1\" class=\"dataframe\">\n",
       "  <thead>\n",
       "    <tr style=\"text-align: right;\">\n",
       "      <th></th>\n",
       "      <th>obj_kodas</th>\n",
       "      <th>obj_pav</th>\n",
       "      <th>form_kodas</th>\n",
       "      <th>form_pav</th>\n",
       "      <th>stat_statusas</th>\n",
       "      <th>stat_pav</th>\n",
       "      <th>template_id</th>\n",
       "      <th>template_name</th>\n",
       "      <th>standard_id</th>\n",
       "      <th>standard_name</th>\n",
       "      <th>...</th>\n",
       "      <th>laikotarpis_iki</th>\n",
       "      <th>reg_date</th>\n",
       "      <th>nuosavas_kapitalas</th>\n",
       "      <th>mok_sumos_ir_isipareigojimai</th>\n",
       "      <th>ilgalaikis_turtas</th>\n",
       "      <th>trumpalaikis_turtas</th>\n",
       "      <th>formavimo_data</th>\n",
       "      <th>pelnas_pries_apmokestinima</th>\n",
       "      <th>grynasis_pelnas</th>\n",
       "      <th>pardavimo_pajamos</th>\n",
       "    </tr>\n",
       "  </thead>\n",
       "  <tbody>\n",
       "    <tr>\n",
       "      <th>58767</th>\n",
       "      <td>135707310</td>\n",
       "      <td>UAB \"Ochroma\"</td>\n",
       "      <td>310</td>\n",
       "      <td>Uždaroji akcinė bendrovė</td>\n",
       "      <td>0</td>\n",
       "      <td>Teisinis stat neįregistruotas</td>\n",
       "      <td>FS0129</td>\n",
       "      <td>Mažų ir labai mažų įmonių, netaikančių išimčių...</td>\n",
       "      <td>BST124</td>\n",
       "      <td>BALANSAS (Sutrumpintas)</td>\n",
       "      <td>...</td>\n",
       "      <td>2019-12-31</td>\n",
       "      <td>2020-02-25</td>\n",
       "      <td>254628.0</td>\n",
       "      <td>133595.0</td>\n",
       "      <td>53357.0</td>\n",
       "      <td>332464.0</td>\n",
       "      <td>2022-12-01</td>\n",
       "      <td>NaN</td>\n",
       "      <td>NaN</td>\n",
       "      <td>NaN</td>\n",
       "    </tr>\n",
       "    <tr>\n",
       "      <th>25092</th>\n",
       "      <td>303306891</td>\n",
       "      <td>UAB \"Garo dizaino studija\"</td>\n",
       "      <td>310</td>\n",
       "      <td>Uždaroji akcinė bendrovė</td>\n",
       "      <td>0</td>\n",
       "      <td>Teisinis stat neįregistruotas</td>\n",
       "      <td>FS0129</td>\n",
       "      <td>Mažų ir labai mažų įmonių, netaikančių išimčių...</td>\n",
       "      <td>BST124</td>\n",
       "      <td>BALANSAS (Sutrumpintas)</td>\n",
       "      <td>...</td>\n",
       "      <td>2020-12-31</td>\n",
       "      <td>2021-07-12</td>\n",
       "      <td>198037.0</td>\n",
       "      <td>5154.0</td>\n",
       "      <td>39598.0</td>\n",
       "      <td>163323.0</td>\n",
       "      <td>2022-12-01</td>\n",
       "      <td>NaN</td>\n",
       "      <td>NaN</td>\n",
       "      <td>NaN</td>\n",
       "    </tr>\n",
       "    <tr>\n",
       "      <th>66918</th>\n",
       "      <td>301593624</td>\n",
       "      <td>UAB \"ARSIDMA\"</td>\n",
       "      <td>310</td>\n",
       "      <td>Uždaroji akcinė bendrovė</td>\n",
       "      <td>0</td>\n",
       "      <td>Teisinis stat neįregistruotas</td>\n",
       "      <td>FS0129</td>\n",
       "      <td>Mažų ir labai mažų įmonių, netaikančių išimčių...</td>\n",
       "      <td>BST124</td>\n",
       "      <td>BALANSAS (Sutrumpintas)</td>\n",
       "      <td>...</td>\n",
       "      <td>2020-12-31</td>\n",
       "      <td>2021-05-05</td>\n",
       "      <td>28358.0</td>\n",
       "      <td>83165.0</td>\n",
       "      <td>2950.0</td>\n",
       "      <td>108573.0</td>\n",
       "      <td>2022-12-01</td>\n",
       "      <td>NaN</td>\n",
       "      <td>NaN</td>\n",
       "      <td>NaN</td>\n",
       "    </tr>\n",
       "    <tr>\n",
       "      <th>27223</th>\n",
       "      <td>302985902</td>\n",
       "      <td>UAB \"TRUELLA\"</td>\n",
       "      <td>310</td>\n",
       "      <td>Uždaroji akcinė bendrovė</td>\n",
       "      <td>0</td>\n",
       "      <td>Teisinis stat neįregistruotas</td>\n",
       "      <td>FS0129</td>\n",
       "      <td>Mažų ir labai mažų įmonių, netaikančių išimčių...</td>\n",
       "      <td>BST124</td>\n",
       "      <td>BALANSAS (Sutrumpintas)</td>\n",
       "      <td>...</td>\n",
       "      <td>2019-12-31</td>\n",
       "      <td>2020-05-26</td>\n",
       "      <td>62658.0</td>\n",
       "      <td>279754.0</td>\n",
       "      <td>13136.0</td>\n",
       "      <td>329157.0</td>\n",
       "      <td>2022-12-01</td>\n",
       "      <td>NaN</td>\n",
       "      <td>NaN</td>\n",
       "      <td>NaN</td>\n",
       "    </tr>\n",
       "    <tr>\n",
       "      <th>52997</th>\n",
       "      <td>303294909</td>\n",
       "      <td>UAB \"Leksis\"</td>\n",
       "      <td>310</td>\n",
       "      <td>Uždaroji akcinė bendrovė</td>\n",
       "      <td>0</td>\n",
       "      <td>Teisinis stat neįregistruotas</td>\n",
       "      <td>FS0028</td>\n",
       "      <td>Labai mažų įmonių, taikančių išimtis, finansin...</td>\n",
       "      <td>BST022</td>\n",
       "      <td>BALANSAS (Trumpas)</td>\n",
       "      <td>...</td>\n",
       "      <td>2016-01-01</td>\n",
       "      <td>2021-06-11</td>\n",
       "      <td>26606.0</td>\n",
       "      <td>10592.0</td>\n",
       "      <td>15631.0</td>\n",
       "      <td>21567.0</td>\n",
       "      <td>2022-12-01</td>\n",
       "      <td>NaN</td>\n",
       "      <td>NaN</td>\n",
       "      <td>NaN</td>\n",
       "    </tr>\n",
       "  </tbody>\n",
       "</table>\n",
       "<p>5 rows × 21 columns</p>\n",
       "</div>"
      ],
      "text/plain": [
       "       obj_kodas                     obj_pav  form_kodas  \\\n",
       "58767  135707310               UAB \"Ochroma\"         310   \n",
       "25092  303306891  UAB \"Garo dizaino studija\"         310   \n",
       "66918  301593624               UAB \"ARSIDMA\"         310   \n",
       "27223  302985902               UAB \"TRUELLA\"         310   \n",
       "52997  303294909                UAB \"Leksis\"         310   \n",
       "\n",
       "                       form_pav  stat_statusas                       stat_pav  \\\n",
       "58767  Uždaroji akcinė bendrovė              0  Teisinis stat neįregistruotas   \n",
       "25092  Uždaroji akcinė bendrovė              0  Teisinis stat neįregistruotas   \n",
       "66918  Uždaroji akcinė bendrovė              0  Teisinis stat neįregistruotas   \n",
       "27223  Uždaroji akcinė bendrovė              0  Teisinis stat neįregistruotas   \n",
       "52997  Uždaroji akcinė bendrovė              0  Teisinis stat neįregistruotas   \n",
       "\n",
       "      template_id                                      template_name  \\\n",
       "58767      FS0129  Mažų ir labai mažų įmonių, netaikančių išimčių...   \n",
       "25092      FS0129  Mažų ir labai mažų įmonių, netaikančių išimčių...   \n",
       "66918      FS0129  Mažų ir labai mažų įmonių, netaikančių išimčių...   \n",
       "27223      FS0129  Mažų ir labai mažų įmonių, netaikančių išimčių...   \n",
       "52997      FS0028  Labai mažų įmonių, taikančių išimtis, finansin...   \n",
       "\n",
       "      standard_id            standard_name  ... laikotarpis_iki    reg_date  \\\n",
       "58767      BST124  BALANSAS (Sutrumpintas)  ...      2019-12-31  2020-02-25   \n",
       "25092      BST124  BALANSAS (Sutrumpintas)  ...      2020-12-31  2021-07-12   \n",
       "66918      BST124  BALANSAS (Sutrumpintas)  ...      2020-12-31  2021-05-05   \n",
       "27223      BST124  BALANSAS (Sutrumpintas)  ...      2019-12-31  2020-05-26   \n",
       "52997      BST022       BALANSAS (Trumpas)  ...      2016-01-01  2021-06-11   \n",
       "\n",
       "      nuosavas_kapitalas  mok_sumos_ir_isipareigojimai  ilgalaikis_turtas  \\\n",
       "58767           254628.0                      133595.0            53357.0   \n",
       "25092           198037.0                        5154.0            39598.0   \n",
       "66918            28358.0                       83165.0             2950.0   \n",
       "27223            62658.0                      279754.0            13136.0   \n",
       "52997            26606.0                       10592.0            15631.0   \n",
       "\n",
       "       trumpalaikis_turtas  formavimo_data pelnas_pries_apmokestinima  \\\n",
       "58767             332464.0      2022-12-01                        NaN   \n",
       "25092             163323.0      2022-12-01                        NaN   \n",
       "66918             108573.0      2022-12-01                        NaN   \n",
       "27223             329157.0      2022-12-01                        NaN   \n",
       "52997              21567.0      2022-12-01                        NaN   \n",
       "\n",
       "       grynasis_pelnas  pardavimo_pajamos  \n",
       "58767              NaN                NaN  \n",
       "25092              NaN                NaN  \n",
       "66918              NaN                NaN  \n",
       "27223              NaN                NaN  \n",
       "52997              NaN                NaN  \n",
       "\n",
       "[5 rows x 21 columns]"
      ]
     },
     "execution_count": 27,
     "metadata": {},
     "output_type": "execute_result"
    },
    {
     "data": {
      "application/javascript": [
       "\n",
       "            setTimeout(function() {\n",
       "                var nbb_cell_id = 27;\n",
       "                var nbb_unformatted_code = \"# Filtered UAB dataframe\\n\\nfull_df[mask_uab][full_df[mask_uab][\\\"nuosavas_kapitalas\\\"] > uab_median].sample(5)\";\n",
       "                var nbb_formatted_code = \"# Filtered UAB dataframe\\n\\nfull_df[mask_uab][full_df[mask_uab][\\\"nuosavas_kapitalas\\\"] > uab_median].sample(5)\";\n",
       "                var nbb_cells = Jupyter.notebook.get_cells();\n",
       "                for (var i = 0; i < nbb_cells.length; ++i) {\n",
       "                    if (nbb_cells[i].input_prompt_number == nbb_cell_id) {\n",
       "                        if (nbb_cells[i].get_text() == nbb_unformatted_code) {\n",
       "                             nbb_cells[i].set_text(nbb_formatted_code);\n",
       "                        }\n",
       "                        break;\n",
       "                    }\n",
       "                }\n",
       "            }, 500);\n",
       "            "
      ],
      "text/plain": [
       "<IPython.core.display.Javascript object>"
      ]
     },
     "metadata": {},
     "output_type": "display_data"
    }
   ],
   "source": [
    "# Filtered UAB dataframe\n",
    "\n",
    "full_df[mask_uab][full_df[mask_uab][\"nuosavas_kapitalas\"] > uab_median].sample(5)"
   ]
  },
  {
   "cell_type": "code",
   "execution_count": 28,
   "id": "a53f47f4",
   "metadata": {
    "ExecuteTime": {
     "end_time": "2022-12-08T18:20:31.389123Z",
     "start_time": "2022-12-08T18:20:31.333273Z"
    }
   },
   "outputs": [
    {
     "data": {
      "text/html": [
       "<div>\n",
       "<style scoped>\n",
       "    .dataframe tbody tr th:only-of-type {\n",
       "        vertical-align: middle;\n",
       "    }\n",
       "\n",
       "    .dataframe tbody tr th {\n",
       "        vertical-align: top;\n",
       "    }\n",
       "\n",
       "    .dataframe thead th {\n",
       "        text-align: right;\n",
       "    }\n",
       "</style>\n",
       "<table border=\"1\" class=\"dataframe\">\n",
       "  <thead>\n",
       "    <tr style=\"text-align: right;\">\n",
       "      <th></th>\n",
       "      <th>obj_kodas</th>\n",
       "      <th>obj_pav</th>\n",
       "      <th>form_kodas</th>\n",
       "      <th>form_pav</th>\n",
       "      <th>stat_statusas</th>\n",
       "      <th>stat_pav</th>\n",
       "      <th>template_id</th>\n",
       "      <th>template_name</th>\n",
       "      <th>standard_id</th>\n",
       "      <th>standard_name</th>\n",
       "      <th>...</th>\n",
       "      <th>laikotarpis_iki</th>\n",
       "      <th>reg_date</th>\n",
       "      <th>nuosavas_kapitalas</th>\n",
       "      <th>mok_sumos_ir_isipareigojimai</th>\n",
       "      <th>ilgalaikis_turtas</th>\n",
       "      <th>trumpalaikis_turtas</th>\n",
       "      <th>formavimo_data</th>\n",
       "      <th>pelnas_pries_apmokestinima</th>\n",
       "      <th>grynasis_pelnas</th>\n",
       "      <th>pardavimo_pajamos</th>\n",
       "    </tr>\n",
       "  </thead>\n",
       "  <tbody>\n",
       "    <tr>\n",
       "      <th>115727</th>\n",
       "      <td>305467719</td>\n",
       "      <td>MB \"Reklama verslui\"</td>\n",
       "      <td>960</td>\n",
       "      <td>Mažoji bendrija</td>\n",
       "      <td>0</td>\n",
       "      <td>Teisinis stat neįregistruotas</td>\n",
       "      <td>FS0129</td>\n",
       "      <td>Mažų ir labai mažų įmonių, netaikančių išimčių...</td>\n",
       "      <td>BST124</td>\n",
       "      <td>BALANSAS (Sutrumpintas)</td>\n",
       "      <td>...</td>\n",
       "      <td>2020-12-31</td>\n",
       "      <td>2021-03-29</td>\n",
       "      <td>28540.0</td>\n",
       "      <td>585.0</td>\n",
       "      <td>0.0</td>\n",
       "      <td>29125.0</td>\n",
       "      <td>2022-12-01</td>\n",
       "      <td>NaN</td>\n",
       "      <td>NaN</td>\n",
       "      <td>NaN</td>\n",
       "    </tr>\n",
       "    <tr>\n",
       "      <th>11531</th>\n",
       "      <td>304963071</td>\n",
       "      <td>MB \"Žilvega\"</td>\n",
       "      <td>960</td>\n",
       "      <td>Mažoji bendrija</td>\n",
       "      <td>0</td>\n",
       "      <td>Teisinis stat neįregistruotas</td>\n",
       "      <td>FS0322</td>\n",
       "      <td>Mažųjų bendrijų finansinių ataskaitų rinkinys</td>\n",
       "      <td>BST217</td>\n",
       "      <td>BALANSAS (Neribotos civilinės atsakomybės juri...</td>\n",
       "      <td>...</td>\n",
       "      <td>2019-12-31</td>\n",
       "      <td>2020-03-05</td>\n",
       "      <td>3151.0</td>\n",
       "      <td>NaN</td>\n",
       "      <td>15483.0</td>\n",
       "      <td>4181.0</td>\n",
       "      <td>2022-12-01</td>\n",
       "      <td>NaN</td>\n",
       "      <td>NaN</td>\n",
       "      <td>NaN</td>\n",
       "    </tr>\n",
       "    <tr>\n",
       "      <th>115312</th>\n",
       "      <td>304517457</td>\n",
       "      <td>MB \"Zoolobis\"</td>\n",
       "      <td>960</td>\n",
       "      <td>Mažoji bendrija</td>\n",
       "      <td>0</td>\n",
       "      <td>Teisinis stat neįregistruotas</td>\n",
       "      <td>FS0322</td>\n",
       "      <td>Mažųjų bendrijų finansinių ataskaitų rinkinys</td>\n",
       "      <td>BST217</td>\n",
       "      <td>BALANSAS (Neribotos civilinės atsakomybės juri...</td>\n",
       "      <td>...</td>\n",
       "      <td>2020-12-31</td>\n",
       "      <td>2021-03-31</td>\n",
       "      <td>12342.0</td>\n",
       "      <td>NaN</td>\n",
       "      <td>580.0</td>\n",
       "      <td>12818.0</td>\n",
       "      <td>2022-12-01</td>\n",
       "      <td>NaN</td>\n",
       "      <td>NaN</td>\n",
       "      <td>NaN</td>\n",
       "    </tr>\n",
       "    <tr>\n",
       "      <th>1939</th>\n",
       "      <td>248449590</td>\n",
       "      <td>MB \"Stilių gausa\"</td>\n",
       "      <td>960</td>\n",
       "      <td>Mažoji bendrija</td>\n",
       "      <td>0</td>\n",
       "      <td>Teisinis stat neįregistruotas</td>\n",
       "      <td>FS0322</td>\n",
       "      <td>Mažųjų bendrijų finansinių ataskaitų rinkinys</td>\n",
       "      <td>BST217</td>\n",
       "      <td>BALANSAS (Neribotos civilinės atsakomybės juri...</td>\n",
       "      <td>...</td>\n",
       "      <td>2020-12-31</td>\n",
       "      <td>2021-03-21</td>\n",
       "      <td>12676.0</td>\n",
       "      <td>NaN</td>\n",
       "      <td>1.0</td>\n",
       "      <td>46712.0</td>\n",
       "      <td>2022-12-01</td>\n",
       "      <td>NaN</td>\n",
       "      <td>NaN</td>\n",
       "      <td>NaN</td>\n",
       "    </tr>\n",
       "    <tr>\n",
       "      <th>66673</th>\n",
       "      <td>303182493</td>\n",
       "      <td>MB \"Leneva\"</td>\n",
       "      <td>960</td>\n",
       "      <td>Mažoji bendrija</td>\n",
       "      <td>0</td>\n",
       "      <td>Teisinis stat neįregistruotas</td>\n",
       "      <td>FS0322</td>\n",
       "      <td>Mažųjų bendrijų finansinių ataskaitų rinkinys</td>\n",
       "      <td>BST217</td>\n",
       "      <td>BALANSAS (Neribotos civilinės atsakomybės juri...</td>\n",
       "      <td>...</td>\n",
       "      <td>2018-12-31</td>\n",
       "      <td>2020-07-20</td>\n",
       "      <td>22074.0</td>\n",
       "      <td>NaN</td>\n",
       "      <td>7822.0</td>\n",
       "      <td>37559.0</td>\n",
       "      <td>2022-12-01</td>\n",
       "      <td>NaN</td>\n",
       "      <td>NaN</td>\n",
       "      <td>NaN</td>\n",
       "    </tr>\n",
       "  </tbody>\n",
       "</table>\n",
       "<p>5 rows × 21 columns</p>\n",
       "</div>"
      ],
      "text/plain": [
       "        obj_kodas               obj_pav  form_kodas         form_pav  \\\n",
       "115727  305467719  MB \"Reklama verslui\"         960  Mažoji bendrija   \n",
       "11531   304963071          MB \"Žilvega\"         960  Mažoji bendrija   \n",
       "115312  304517457         MB \"Zoolobis\"         960  Mažoji bendrija   \n",
       "1939    248449590     MB \"Stilių gausa\"         960  Mažoji bendrija   \n",
       "66673   303182493           MB \"Leneva\"         960  Mažoji bendrija   \n",
       "\n",
       "        stat_statusas                       stat_pav template_id  \\\n",
       "115727              0  Teisinis stat neįregistruotas      FS0129   \n",
       "11531               0  Teisinis stat neįregistruotas      FS0322   \n",
       "115312              0  Teisinis stat neįregistruotas      FS0322   \n",
       "1939                0  Teisinis stat neįregistruotas      FS0322   \n",
       "66673               0  Teisinis stat neįregistruotas      FS0322   \n",
       "\n",
       "                                            template_name standard_id  \\\n",
       "115727  Mažų ir labai mažų įmonių, netaikančių išimčių...      BST124   \n",
       "11531       Mažųjų bendrijų finansinių ataskaitų rinkinys      BST217   \n",
       "115312      Mažųjų bendrijų finansinių ataskaitų rinkinys      BST217   \n",
       "1939        Mažųjų bendrijų finansinių ataskaitų rinkinys      BST217   \n",
       "66673       Mažųjų bendrijų finansinių ataskaitų rinkinys      BST217   \n",
       "\n",
       "                                            standard_name  ...  \\\n",
       "115727                            BALANSAS (Sutrumpintas)  ...   \n",
       "11531   BALANSAS (Neribotos civilinės atsakomybės juri...  ...   \n",
       "115312  BALANSAS (Neribotos civilinės atsakomybės juri...  ...   \n",
       "1939    BALANSAS (Neribotos civilinės atsakomybės juri...  ...   \n",
       "66673   BALANSAS (Neribotos civilinės atsakomybės juri...  ...   \n",
       "\n",
       "       laikotarpis_iki    reg_date nuosavas_kapitalas  \\\n",
       "115727      2020-12-31  2021-03-29            28540.0   \n",
       "11531       2019-12-31  2020-03-05             3151.0   \n",
       "115312      2020-12-31  2021-03-31            12342.0   \n",
       "1939        2020-12-31  2021-03-21            12676.0   \n",
       "66673       2018-12-31  2020-07-20            22074.0   \n",
       "\n",
       "        mok_sumos_ir_isipareigojimai  ilgalaikis_turtas  trumpalaikis_turtas  \\\n",
       "115727                         585.0                0.0              29125.0   \n",
       "11531                            NaN            15483.0               4181.0   \n",
       "115312                           NaN              580.0              12818.0   \n",
       "1939                             NaN                1.0              46712.0   \n",
       "66673                            NaN             7822.0              37559.0   \n",
       "\n",
       "        formavimo_data pelnas_pries_apmokestinima  grynasis_pelnas  \\\n",
       "115727      2022-12-01                        NaN              NaN   \n",
       "11531       2022-12-01                        NaN              NaN   \n",
       "115312      2022-12-01                        NaN              NaN   \n",
       "1939        2022-12-01                        NaN              NaN   \n",
       "66673       2022-12-01                        NaN              NaN   \n",
       "\n",
       "        pardavimo_pajamos  \n",
       "115727                NaN  \n",
       "11531                 NaN  \n",
       "115312                NaN  \n",
       "1939                  NaN  \n",
       "66673                 NaN  \n",
       "\n",
       "[5 rows x 21 columns]"
      ]
     },
     "execution_count": 28,
     "metadata": {},
     "output_type": "execute_result"
    },
    {
     "data": {
      "application/javascript": [
       "\n",
       "            setTimeout(function() {\n",
       "                var nbb_cell_id = 28;\n",
       "                var nbb_unformatted_code = \"# Filtered MB dataframe\\n\\nfull_df[mask_mb][full_df[mask_mb][\\\"nuosavas_kapitalas\\\"] > mb_median].sample(5)\";\n",
       "                var nbb_formatted_code = \"# Filtered MB dataframe\\n\\nfull_df[mask_mb][full_df[mask_mb][\\\"nuosavas_kapitalas\\\"] > mb_median].sample(5)\";\n",
       "                var nbb_cells = Jupyter.notebook.get_cells();\n",
       "                for (var i = 0; i < nbb_cells.length; ++i) {\n",
       "                    if (nbb_cells[i].input_prompt_number == nbb_cell_id) {\n",
       "                        if (nbb_cells[i].get_text() == nbb_unformatted_code) {\n",
       "                             nbb_cells[i].set_text(nbb_formatted_code);\n",
       "                        }\n",
       "                        break;\n",
       "                    }\n",
       "                }\n",
       "            }, 500);\n",
       "            "
      ],
      "text/plain": [
       "<IPython.core.display.Javascript object>"
      ]
     },
     "metadata": {},
     "output_type": "display_data"
    }
   ],
   "source": [
    "# Filtered MB dataframe\n",
    "\n",
    "full_df[mask_mb][full_df[mask_mb][\"nuosavas_kapitalas\"] > mb_median].sample(5)"
   ]
  },
  {
   "cell_type": "markdown",
   "id": "e1a6ac0b",
   "metadata": {},
   "source": [
    "## Įvertinkite kurios įmonės išsiskiria ypač didele “nuosavas_kapitalas” verte (patenka į 99th percentilę). Patikrinkite įmonių patenkančių į TOP-10 vertes rekvizitai.vz.lt svetainėje. Ranka įrašomi duomenys sukuria klaidos galimybę. Ar yra bendrovė, kurios “nuosavas_kapitalas” jums kelia įtarimų? [0.4 taško]"
   ]
  },
  {
   "cell_type": "code",
   "execution_count": 29,
   "id": "d02e2f8b",
   "metadata": {
    "ExecuteTime": {
     "end_time": "2022-12-08T18:20:33.918253Z",
     "start_time": "2022-12-08T18:20:33.904248Z"
    }
   },
   "outputs": [
    {
     "data": {
      "application/javascript": [
       "\n",
       "            setTimeout(function() {\n",
       "                var nbb_cell_id = 29;\n",
       "                var nbb_unformatted_code = \"percentile_99 = full_df[\\\"nuosavas_kapitalas\\\"].quantile(0.99)\";\n",
       "                var nbb_formatted_code = \"percentile_99 = full_df[\\\"nuosavas_kapitalas\\\"].quantile(0.99)\";\n",
       "                var nbb_cells = Jupyter.notebook.get_cells();\n",
       "                for (var i = 0; i < nbb_cells.length; ++i) {\n",
       "                    if (nbb_cells[i].input_prompt_number == nbb_cell_id) {\n",
       "                        if (nbb_cells[i].get_text() == nbb_unformatted_code) {\n",
       "                             nbb_cells[i].set_text(nbb_formatted_code);\n",
       "                        }\n",
       "                        break;\n",
       "                    }\n",
       "                }\n",
       "            }, 500);\n",
       "            "
      ],
      "text/plain": [
       "<IPython.core.display.Javascript object>"
      ]
     },
     "metadata": {},
     "output_type": "display_data"
    }
   ],
   "source": [
    "percentile_99 = full_df[\"nuosavas_kapitalas\"].quantile(0.99)"
   ]
  },
  {
   "cell_type": "code",
   "execution_count": 30,
   "id": "f8ce9b88",
   "metadata": {
    "ExecuteTime": {
     "end_time": "2022-12-08T18:20:35.443965Z",
     "start_time": "2022-12-08T18:20:35.412051Z"
    }
   },
   "outputs": [
    {
     "data": {
      "text/html": [
       "<div>\n",
       "<style scoped>\n",
       "    .dataframe tbody tr th:only-of-type {\n",
       "        vertical-align: middle;\n",
       "    }\n",
       "\n",
       "    .dataframe tbody tr th {\n",
       "        vertical-align: top;\n",
       "    }\n",
       "\n",
       "    .dataframe thead th {\n",
       "        text-align: right;\n",
       "    }\n",
       "</style>\n",
       "<table border=\"1\" class=\"dataframe\">\n",
       "  <thead>\n",
       "    <tr style=\"text-align: right;\">\n",
       "      <th></th>\n",
       "      <th>obj_kodas</th>\n",
       "      <th>obj_pav</th>\n",
       "      <th>form_kodas</th>\n",
       "      <th>form_pav</th>\n",
       "      <th>stat_statusas</th>\n",
       "      <th>stat_pav</th>\n",
       "      <th>template_id</th>\n",
       "      <th>template_name</th>\n",
       "      <th>standard_id</th>\n",
       "      <th>standard_name</th>\n",
       "      <th>...</th>\n",
       "      <th>laikotarpis_iki</th>\n",
       "      <th>reg_date</th>\n",
       "      <th>nuosavas_kapitalas</th>\n",
       "      <th>mok_sumos_ir_isipareigojimai</th>\n",
       "      <th>ilgalaikis_turtas</th>\n",
       "      <th>trumpalaikis_turtas</th>\n",
       "      <th>formavimo_data</th>\n",
       "      <th>pelnas_pries_apmokestinima</th>\n",
       "      <th>grynasis_pelnas</th>\n",
       "      <th>pardavimo_pajamos</th>\n",
       "    </tr>\n",
       "  </thead>\n",
       "  <tbody>\n",
       "    <tr>\n",
       "      <th>54243</th>\n",
       "      <td>305115931</td>\n",
       "      <td>UAB \"Thermo Fisher Scientific Vector Holdings\"</td>\n",
       "      <td>310</td>\n",
       "      <td>Uždaroji akcinė bendrovė</td>\n",
       "      <td>0</td>\n",
       "      <td>Teisinis stat neįregistruotas</td>\n",
       "      <td>FS0129</td>\n",
       "      <td>Mažų ir labai mažų įmonių, netaikančių išimčių...</td>\n",
       "      <td>BST124</td>\n",
       "      <td>BALANSAS (Sutrumpintas)</td>\n",
       "      <td>...</td>\n",
       "      <td>2020-12-31</td>\n",
       "      <td>2021-05-31</td>\n",
       "      <td>3.898038e+09</td>\n",
       "      <td>9.062000e+03</td>\n",
       "      <td>3.898045e+09</td>\n",
       "      <td>2345.0</td>\n",
       "      <td>2022-12-01</td>\n",
       "      <td>NaN</td>\n",
       "      <td>NaN</td>\n",
       "      <td>NaN</td>\n",
       "    </tr>\n",
       "    <tr>\n",
       "      <th>25845</th>\n",
       "      <td>305115970</td>\n",
       "      <td>UAB \"Thermo Fisher Scientific Vector Senior Ho...</td>\n",
       "      <td>310</td>\n",
       "      <td>Uždaroji akcinė bendrovė</td>\n",
       "      <td>0</td>\n",
       "      <td>Teisinis stat neįregistruotas</td>\n",
       "      <td>FS0129</td>\n",
       "      <td>Mažų ir labai mažų įmonių, netaikančių išimčių...</td>\n",
       "      <td>BST124</td>\n",
       "      <td>BALANSAS (Sutrumpintas)</td>\n",
       "      <td>...</td>\n",
       "      <td>2020-12-31</td>\n",
       "      <td>2021-05-31</td>\n",
       "      <td>3.898038e+09</td>\n",
       "      <td>1.148000e+04</td>\n",
       "      <td>3.898047e+09</td>\n",
       "      <td>2381.0</td>\n",
       "      <td>2022-12-01</td>\n",
       "      <td>NaN</td>\n",
       "      <td>NaN</td>\n",
       "      <td>NaN</td>\n",
       "    </tr>\n",
       "    <tr>\n",
       "      <th>16978</th>\n",
       "      <td>305115956</td>\n",
       "      <td>UAB \"Thermo Fisher Scientific Vector Senior Ho...</td>\n",
       "      <td>310</td>\n",
       "      <td>Uždaroji akcinė bendrovė</td>\n",
       "      <td>0</td>\n",
       "      <td>Teisinis stat neįregistruotas</td>\n",
       "      <td>FS0129</td>\n",
       "      <td>Mažų ir labai mažų įmonių, netaikančių išimčių...</td>\n",
       "      <td>BST124</td>\n",
       "      <td>BALANSAS (Sutrumpintas)</td>\n",
       "      <td>...</td>\n",
       "      <td>2020-12-31</td>\n",
       "      <td>2021-05-31</td>\n",
       "      <td>2.950793e+09</td>\n",
       "      <td>1.146558e+09</td>\n",
       "      <td>4.097346e+09</td>\n",
       "      <td>4881.0</td>\n",
       "      <td>2022-12-01</td>\n",
       "      <td>NaN</td>\n",
       "      <td>NaN</td>\n",
       "      <td>NaN</td>\n",
       "    </tr>\n",
       "    <tr>\n",
       "      <th>62819</th>\n",
       "      <td>188710638</td>\n",
       "      <td>Valstybės įmonė Lietuvos automobilių kelių dir...</td>\n",
       "      <td>110</td>\n",
       "      <td>Valstybės įmonė</td>\n",
       "      <td>0</td>\n",
       "      <td>Teisinis stat neįregistruotas</td>\n",
       "      <td>FS0132</td>\n",
       "      <td>Valstybės ir savivaldybės įmonių finansinių at...</td>\n",
       "      <td>BST504</td>\n",
       "      <td>BALANSAS</td>\n",
       "      <td>...</td>\n",
       "      <td>2020-12-31</td>\n",
       "      <td>2021-05-31</td>\n",
       "      <td>2.693140e+09</td>\n",
       "      <td>5.707500e+07</td>\n",
       "      <td>3.230581e+09</td>\n",
       "      <td>47480000.0</td>\n",
       "      <td>2022-12-01</td>\n",
       "      <td>NaN</td>\n",
       "      <td>NaN</td>\n",
       "      <td>NaN</td>\n",
       "    </tr>\n",
       "    <tr>\n",
       "      <th>39828</th>\n",
       "      <td>302608755</td>\n",
       "      <td>Uždaroji akcinė bendrovė \"Vilniaus prekyba\"</td>\n",
       "      <td>310</td>\n",
       "      <td>Uždaroji akcinė bendrovė</td>\n",
       "      <td>0</td>\n",
       "      <td>Teisinis stat neįregistruotas</td>\n",
       "      <td>FS0518</td>\n",
       "      <td>Atskirosios finansinės būklės ataskaitos duomenys</td>\n",
       "      <td>BST210</td>\n",
       "      <td>BALANSAS</td>\n",
       "      <td>...</td>\n",
       "      <td>2020-12-31</td>\n",
       "      <td>2021-05-20</td>\n",
       "      <td>1.950511e+09</td>\n",
       "      <td>NaN</td>\n",
       "      <td>1.754522e+09</td>\n",
       "      <td>199991000.0</td>\n",
       "      <td>2022-12-01</td>\n",
       "      <td>NaN</td>\n",
       "      <td>NaN</td>\n",
       "      <td>NaN</td>\n",
       "    </tr>\n",
       "    <tr>\n",
       "      <th>74818</th>\n",
       "      <td>301844044</td>\n",
       "      <td>AB \"Ignitis grupė\"</td>\n",
       "      <td>320</td>\n",
       "      <td>Akcinė bendrovė</td>\n",
       "      <td>0</td>\n",
       "      <td>Teisinis stat neįregistruotas</td>\n",
       "      <td>FS0518</td>\n",
       "      <td>Atskirosios finansinės būklės ataskaitos duomenys</td>\n",
       "      <td>BST210</td>\n",
       "      <td>BALANSAS</td>\n",
       "      <td>...</td>\n",
       "      <td>2020-12-31</td>\n",
       "      <td>2021-03-24</td>\n",
       "      <td>1.812955e+09</td>\n",
       "      <td>NaN</td>\n",
       "      <td>2.156290e+09</td>\n",
       "      <td>555363000.0</td>\n",
       "      <td>2022-12-01</td>\n",
       "      <td>NaN</td>\n",
       "      <td>NaN</td>\n",
       "      <td>NaN</td>\n",
       "    </tr>\n",
       "    <tr>\n",
       "      <th>75917</th>\n",
       "      <td>302608755</td>\n",
       "      <td>Uždaroji akcinė bendrovė \"Vilniaus prekyba\"</td>\n",
       "      <td>310</td>\n",
       "      <td>Uždaroji akcinė bendrovė</td>\n",
       "      <td>0</td>\n",
       "      <td>Teisinis stat neįregistruotas</td>\n",
       "      <td>FS0518</td>\n",
       "      <td>Atskirosios finansinės būklės ataskaitos duomenys</td>\n",
       "      <td>BST210</td>\n",
       "      <td>BALANSAS</td>\n",
       "      <td>...</td>\n",
       "      <td>2019-12-31</td>\n",
       "      <td>2020-05-12</td>\n",
       "      <td>1.658114e+09</td>\n",
       "      <td>NaN</td>\n",
       "      <td>1.777890e+09</td>\n",
       "      <td>96465000.0</td>\n",
       "      <td>2022-12-01</td>\n",
       "      <td>NaN</td>\n",
       "      <td>NaN</td>\n",
       "      <td>NaN</td>\n",
       "    </tr>\n",
       "    <tr>\n",
       "      <th>119613</th>\n",
       "      <td>301066547</td>\n",
       "      <td>MAXIMA GRUPĖ UAB</td>\n",
       "      <td>310</td>\n",
       "      <td>Uždaroji akcinė bendrovė</td>\n",
       "      <td>0</td>\n",
       "      <td>Teisinis stat neįregistruotas</td>\n",
       "      <td>FS0518</td>\n",
       "      <td>Atskirosios finansinės būklės ataskaitos duomenys</td>\n",
       "      <td>BST210</td>\n",
       "      <td>BALANSAS</td>\n",
       "      <td>...</td>\n",
       "      <td>2020-12-31</td>\n",
       "      <td>2021-04-16</td>\n",
       "      <td>1.564631e+09</td>\n",
       "      <td>NaN</td>\n",
       "      <td>1.987892e+09</td>\n",
       "      <td>18226000.0</td>\n",
       "      <td>2022-12-01</td>\n",
       "      <td>NaN</td>\n",
       "      <td>NaN</td>\n",
       "      <td>NaN</td>\n",
       "    </tr>\n",
       "    <tr>\n",
       "      <th>6544</th>\n",
       "      <td>301066547</td>\n",
       "      <td>MAXIMA GRUPĖ UAB</td>\n",
       "      <td>310</td>\n",
       "      <td>Uždaroji akcinė bendrovė</td>\n",
       "      <td>0</td>\n",
       "      <td>Teisinis stat neįregistruotas</td>\n",
       "      <td>FS0518</td>\n",
       "      <td>Atskirosios finansinės būklės ataskaitos duomenys</td>\n",
       "      <td>BST210</td>\n",
       "      <td>BALANSAS</td>\n",
       "      <td>...</td>\n",
       "      <td>2019-12-31</td>\n",
       "      <td>2020-05-04</td>\n",
       "      <td>1.459354e+09</td>\n",
       "      <td>NaN</td>\n",
       "      <td>1.803817e+09</td>\n",
       "      <td>10401000.0</td>\n",
       "      <td>2022-12-01</td>\n",
       "      <td>NaN</td>\n",
       "      <td>NaN</td>\n",
       "      <td>NaN</td>\n",
       "    </tr>\n",
       "    <tr>\n",
       "      <th>20518</th>\n",
       "      <td>305115970</td>\n",
       "      <td>UAB \"Thermo Fisher Scientific Vector Senior Ho...</td>\n",
       "      <td>310</td>\n",
       "      <td>Uždaroji akcinė bendrovė</td>\n",
       "      <td>0</td>\n",
       "      <td>Teisinis stat neįregistruotas</td>\n",
       "      <td>FS0128</td>\n",
       "      <td>Labai mažų įmonių, taikančių išimtis, finansin...</td>\n",
       "      <td>BST122</td>\n",
       "      <td>BALANSAS (Trumpas)</td>\n",
       "      <td>...</td>\n",
       "      <td>2019-12-31</td>\n",
       "      <td>2020-05-29</td>\n",
       "      <td>1.340596e+09</td>\n",
       "      <td>1.148000e+04</td>\n",
       "      <td>1.340605e+09</td>\n",
       "      <td>2550.0</td>\n",
       "      <td>2022-12-01</td>\n",
       "      <td>NaN</td>\n",
       "      <td>NaN</td>\n",
       "      <td>NaN</td>\n",
       "    </tr>\n",
       "  </tbody>\n",
       "</table>\n",
       "<p>10 rows × 21 columns</p>\n",
       "</div>"
      ],
      "text/plain": [
       "        obj_kodas                                            obj_pav  \\\n",
       "54243   305115931     UAB \"Thermo Fisher Scientific Vector Holdings\"   \n",
       "25845   305115970  UAB \"Thermo Fisher Scientific Vector Senior Ho...   \n",
       "16978   305115956  UAB \"Thermo Fisher Scientific Vector Senior Ho...   \n",
       "62819   188710638  Valstybės įmonė Lietuvos automobilių kelių dir...   \n",
       "39828   302608755        Uždaroji akcinė bendrovė \"Vilniaus prekyba\"   \n",
       "74818   301844044                                 AB \"Ignitis grupė\"   \n",
       "75917   302608755        Uždaroji akcinė bendrovė \"Vilniaus prekyba\"   \n",
       "119613  301066547                                   MAXIMA GRUPĖ UAB   \n",
       "6544    301066547                                   MAXIMA GRUPĖ UAB   \n",
       "20518   305115970  UAB \"Thermo Fisher Scientific Vector Senior Ho...   \n",
       "\n",
       "        form_kodas                  form_pav  stat_statusas  \\\n",
       "54243          310  Uždaroji akcinė bendrovė              0   \n",
       "25845          310  Uždaroji akcinė bendrovė              0   \n",
       "16978          310  Uždaroji akcinė bendrovė              0   \n",
       "62819          110           Valstybės įmonė              0   \n",
       "39828          310  Uždaroji akcinė bendrovė              0   \n",
       "74818          320           Akcinė bendrovė              0   \n",
       "75917          310  Uždaroji akcinė bendrovė              0   \n",
       "119613         310  Uždaroji akcinė bendrovė              0   \n",
       "6544           310  Uždaroji akcinė bendrovė              0   \n",
       "20518          310  Uždaroji akcinė bendrovė              0   \n",
       "\n",
       "                             stat_pav template_id  \\\n",
       "54243   Teisinis stat neįregistruotas      FS0129   \n",
       "25845   Teisinis stat neįregistruotas      FS0129   \n",
       "16978   Teisinis stat neįregistruotas      FS0129   \n",
       "62819   Teisinis stat neįregistruotas      FS0132   \n",
       "39828   Teisinis stat neįregistruotas      FS0518   \n",
       "74818   Teisinis stat neįregistruotas      FS0518   \n",
       "75917   Teisinis stat neįregistruotas      FS0518   \n",
       "119613  Teisinis stat neįregistruotas      FS0518   \n",
       "6544    Teisinis stat neįregistruotas      FS0518   \n",
       "20518   Teisinis stat neįregistruotas      FS0128   \n",
       "\n",
       "                                            template_name standard_id  \\\n",
       "54243   Mažų ir labai mažų įmonių, netaikančių išimčių...      BST124   \n",
       "25845   Mažų ir labai mažų įmonių, netaikančių išimčių...      BST124   \n",
       "16978   Mažų ir labai mažų įmonių, netaikančių išimčių...      BST124   \n",
       "62819   Valstybės ir savivaldybės įmonių finansinių at...      BST504   \n",
       "39828   Atskirosios finansinės būklės ataskaitos duomenys      BST210   \n",
       "74818   Atskirosios finansinės būklės ataskaitos duomenys      BST210   \n",
       "75917   Atskirosios finansinės būklės ataskaitos duomenys      BST210   \n",
       "119613  Atskirosios finansinės būklės ataskaitos duomenys      BST210   \n",
       "6544    Atskirosios finansinės būklės ataskaitos duomenys      BST210   \n",
       "20518   Labai mažų įmonių, taikančių išimtis, finansin...      BST122   \n",
       "\n",
       "                  standard_name  ... laikotarpis_iki    reg_date  \\\n",
       "54243   BALANSAS (Sutrumpintas)  ...      2020-12-31  2021-05-31   \n",
       "25845   BALANSAS (Sutrumpintas)  ...      2020-12-31  2021-05-31   \n",
       "16978   BALANSAS (Sutrumpintas)  ...      2020-12-31  2021-05-31   \n",
       "62819                  BALANSAS  ...      2020-12-31  2021-05-31   \n",
       "39828                  BALANSAS  ...      2020-12-31  2021-05-20   \n",
       "74818                  BALANSAS  ...      2020-12-31  2021-03-24   \n",
       "75917                  BALANSAS  ...      2019-12-31  2020-05-12   \n",
       "119613                 BALANSAS  ...      2020-12-31  2021-04-16   \n",
       "6544                   BALANSAS  ...      2019-12-31  2020-05-04   \n",
       "20518        BALANSAS (Trumpas)  ...      2019-12-31  2020-05-29   \n",
       "\n",
       "       nuosavas_kapitalas  mok_sumos_ir_isipareigojimai  ilgalaikis_turtas  \\\n",
       "54243        3.898038e+09                  9.062000e+03       3.898045e+09   \n",
       "25845        3.898038e+09                  1.148000e+04       3.898047e+09   \n",
       "16978        2.950793e+09                  1.146558e+09       4.097346e+09   \n",
       "62819        2.693140e+09                  5.707500e+07       3.230581e+09   \n",
       "39828        1.950511e+09                           NaN       1.754522e+09   \n",
       "74818        1.812955e+09                           NaN       2.156290e+09   \n",
       "75917        1.658114e+09                           NaN       1.777890e+09   \n",
       "119613       1.564631e+09                           NaN       1.987892e+09   \n",
       "6544         1.459354e+09                           NaN       1.803817e+09   \n",
       "20518        1.340596e+09                  1.148000e+04       1.340605e+09   \n",
       "\n",
       "        trumpalaikis_turtas  formavimo_data pelnas_pries_apmokestinima  \\\n",
       "54243                2345.0      2022-12-01                        NaN   \n",
       "25845                2381.0      2022-12-01                        NaN   \n",
       "16978                4881.0      2022-12-01                        NaN   \n",
       "62819            47480000.0      2022-12-01                        NaN   \n",
       "39828           199991000.0      2022-12-01                        NaN   \n",
       "74818           555363000.0      2022-12-01                        NaN   \n",
       "75917            96465000.0      2022-12-01                        NaN   \n",
       "119613           18226000.0      2022-12-01                        NaN   \n",
       "6544             10401000.0      2022-12-01                        NaN   \n",
       "20518                2550.0      2022-12-01                        NaN   \n",
       "\n",
       "        grynasis_pelnas  pardavimo_pajamos  \n",
       "54243               NaN                NaN  \n",
       "25845               NaN                NaN  \n",
       "16978               NaN                NaN  \n",
       "62819               NaN                NaN  \n",
       "39828               NaN                NaN  \n",
       "74818               NaN                NaN  \n",
       "75917               NaN                NaN  \n",
       "119613              NaN                NaN  \n",
       "6544                NaN                NaN  \n",
       "20518               NaN                NaN  \n",
       "\n",
       "[10 rows x 21 columns]"
      ]
     },
     "execution_count": 30,
     "metadata": {},
     "output_type": "execute_result"
    },
    {
     "data": {
      "application/javascript": [
       "\n",
       "            setTimeout(function() {\n",
       "                var nbb_cell_id = 30;\n",
       "                var nbb_unformatted_code = \"full_df[full_df[\\\"nuosavas_kapitalas\\\"] > percentile_99].sort_values(\\n    by=\\\"nuosavas_kapitalas\\\", ascending=False\\n).head(10)\";\n",
       "                var nbb_formatted_code = \"full_df[full_df[\\\"nuosavas_kapitalas\\\"] > percentile_99].sort_values(\\n    by=\\\"nuosavas_kapitalas\\\", ascending=False\\n).head(10)\";\n",
       "                var nbb_cells = Jupyter.notebook.get_cells();\n",
       "                for (var i = 0; i < nbb_cells.length; ++i) {\n",
       "                    if (nbb_cells[i].input_prompt_number == nbb_cell_id) {\n",
       "                        if (nbb_cells[i].get_text() == nbb_unformatted_code) {\n",
       "                             nbb_cells[i].set_text(nbb_formatted_code);\n",
       "                        }\n",
       "                        break;\n",
       "                    }\n",
       "                }\n",
       "            }, 500);\n",
       "            "
      ],
      "text/plain": [
       "<IPython.core.display.Javascript object>"
      ]
     },
     "metadata": {},
     "output_type": "display_data"
    }
   ],
   "source": [
    "full_df[full_df[\"nuosavas_kapitalas\"] > percentile_99].sort_values(\n",
    "    by=\"nuosavas_kapitalas\", ascending=False\n",
    ").head(10)"
   ]
  },
  {
   "cell_type": "code",
   "execution_count": 31,
   "id": "c19a8166",
   "metadata": {
    "ExecuteTime": {
     "end_time": "2022-12-08T18:20:38.395013Z",
     "start_time": "2022-12-08T18:20:38.389018Z"
    }
   },
   "outputs": [
    {
     "data": {
      "application/javascript": [
       "\n",
       "            setTimeout(function() {\n",
       "                var nbb_cell_id = 31;\n",
       "                var nbb_unformatted_code = \"# Lietuvos automobili\\u0173 keli\\u0173 direkcija, V\\u012e\";\n",
       "                var nbb_formatted_code = \"# Lietuvos automobili\\u0173 keli\\u0173 direkcija, V\\u012e\";\n",
       "                var nbb_cells = Jupyter.notebook.get_cells();\n",
       "                for (var i = 0; i < nbb_cells.length; ++i) {\n",
       "                    if (nbb_cells[i].input_prompt_number == nbb_cell_id) {\n",
       "                        if (nbb_cells[i].get_text() == nbb_unformatted_code) {\n",
       "                             nbb_cells[i].set_text(nbb_formatted_code);\n",
       "                        }\n",
       "                        break;\n",
       "                    }\n",
       "                }\n",
       "            }, 500);\n",
       "            "
      ],
      "text/plain": [
       "<IPython.core.display.Javascript object>"
      ]
     },
     "metadata": {},
     "output_type": "display_data"
    }
   ],
   "source": [
    "# Lietuvos automobilių kelių direkcija, VĮ"
   ]
  },
  {
   "cell_type": "markdown",
   "id": "f0801dcc",
   "metadata": {},
   "source": [
    "## Vizualiai atvaizduoti juridinių asmenų formos pasiskirstymą per visą laikotarpį (2020 ir 2021 metais kartu). Vizualizacijos turi sutapti su pavaizduota dešinėje. [0.4 taško]"
   ]
  },
  {
   "cell_type": "code",
   "execution_count": 32,
   "id": "dc9fbefd",
   "metadata": {
    "ExecuteTime": {
     "end_time": "2022-12-08T18:20:44.340254Z",
     "start_time": "2022-12-08T18:20:44.292345Z"
    }
   },
   "outputs": [
    {
     "data": {
      "application/javascript": [
       "\n",
       "            setTimeout(function() {\n",
       "                var nbb_cell_id = 32;\n",
       "                var nbb_unformatted_code = \"blns_merged[\\\"year\\\"] = pd.to_datetime(blns_merged[\\\"reg_date\\\"]).dt.year\";\n",
       "                var nbb_formatted_code = \"blns_merged[\\\"year\\\"] = pd.to_datetime(blns_merged[\\\"reg_date\\\"]).dt.year\";\n",
       "                var nbb_cells = Jupyter.notebook.get_cells();\n",
       "                for (var i = 0; i < nbb_cells.length; ++i) {\n",
       "                    if (nbb_cells[i].input_prompt_number == nbb_cell_id) {\n",
       "                        if (nbb_cells[i].get_text() == nbb_unformatted_code) {\n",
       "                             nbb_cells[i].set_text(nbb_formatted_code);\n",
       "                        }\n",
       "                        break;\n",
       "                    }\n",
       "                }\n",
       "            }, 500);\n",
       "            "
      ],
      "text/plain": [
       "<IPython.core.display.Javascript object>"
      ]
     },
     "metadata": {},
     "output_type": "display_data"
    }
   ],
   "source": [
    "blns_merged[\"year\"] = pd.to_datetime(blns_merged[\"reg_date\"]).dt.year"
   ]
  },
  {
   "cell_type": "code",
   "execution_count": 33,
   "id": "a78c4619",
   "metadata": {
    "ExecuteTime": {
     "end_time": "2022-12-08T18:20:46.288592Z",
     "start_time": "2022-12-08T18:20:46.239722Z"
    }
   },
   "outputs": [
    {
     "data": {
      "application/javascript": [
       "\n",
       "            setTimeout(function() {\n",
       "                var nbb_cell_id = 33;\n",
       "                var nbb_unformatted_code = \"df_for_plot = blns_merged.groupby(\\\"year\\\")[\\\"form_pav\\\"].value_counts().to_frame()\";\n",
       "                var nbb_formatted_code = \"df_for_plot = blns_merged.groupby(\\\"year\\\")[\\\"form_pav\\\"].value_counts().to_frame()\";\n",
       "                var nbb_cells = Jupyter.notebook.get_cells();\n",
       "                for (var i = 0; i < nbb_cells.length; ++i) {\n",
       "                    if (nbb_cells[i].input_prompt_number == nbb_cell_id) {\n",
       "                        if (nbb_cells[i].get_text() == nbb_unformatted_code) {\n",
       "                             nbb_cells[i].set_text(nbb_formatted_code);\n",
       "                        }\n",
       "                        break;\n",
       "                    }\n",
       "                }\n",
       "            }, 500);\n",
       "            "
      ],
      "text/plain": [
       "<IPython.core.display.Javascript object>"
      ]
     },
     "metadata": {},
     "output_type": "display_data"
    }
   ],
   "source": [
    "df_for_plot = blns_merged.groupby(\"year\")[\"form_pav\"].value_counts().to_frame()"
   ]
  },
  {
   "cell_type": "code",
   "execution_count": 34,
   "id": "f1cf9be5",
   "metadata": {
    "ExecuteTime": {
     "end_time": "2022-12-08T18:20:47.061302Z",
     "start_time": "2022-12-08T18:20:47.048346Z"
    }
   },
   "outputs": [
    {
     "data": {
      "application/javascript": [
       "\n",
       "            setTimeout(function() {\n",
       "                var nbb_cell_id = 34;\n",
       "                var nbb_unformatted_code = \"df_for_plot.columns = range(df_for_plot.shape[1])\";\n",
       "                var nbb_formatted_code = \"df_for_plot.columns = range(df_for_plot.shape[1])\";\n",
       "                var nbb_cells = Jupyter.notebook.get_cells();\n",
       "                for (var i = 0; i < nbb_cells.length; ++i) {\n",
       "                    if (nbb_cells[i].input_prompt_number == nbb_cell_id) {\n",
       "                        if (nbb_cells[i].get_text() == nbb_unformatted_code) {\n",
       "                             nbb_cells[i].set_text(nbb_formatted_code);\n",
       "                        }\n",
       "                        break;\n",
       "                    }\n",
       "                }\n",
       "            }, 500);\n",
       "            "
      ],
      "text/plain": [
       "<IPython.core.display.Javascript object>"
      ]
     },
     "metadata": {},
     "output_type": "display_data"
    }
   ],
   "source": [
    "df_for_plot.columns = range(df_for_plot.shape[1])"
   ]
  },
  {
   "cell_type": "code",
   "execution_count": 35,
   "id": "1a0802db",
   "metadata": {
    "ExecuteTime": {
     "end_time": "2022-12-08T18:20:47.608228Z",
     "start_time": "2022-12-08T18:20:47.585306Z"
    }
   },
   "outputs": [
    {
     "data": {
      "application/javascript": [
       "\n",
       "            setTimeout(function() {\n",
       "                var nbb_cell_id = 35;\n",
       "                var nbb_unformatted_code = \"df_for_plot = df_for_plot.reset_index().pivot_table(\\n    index=[\\\"form_pav\\\"], columns=[\\\"year\\\"], values=0\\n)\";\n",
       "                var nbb_formatted_code = \"df_for_plot = df_for_plot.reset_index().pivot_table(\\n    index=[\\\"form_pav\\\"], columns=[\\\"year\\\"], values=0\\n)\";\n",
       "                var nbb_cells = Jupyter.notebook.get_cells();\n",
       "                for (var i = 0; i < nbb_cells.length; ++i) {\n",
       "                    if (nbb_cells[i].input_prompt_number == nbb_cell_id) {\n",
       "                        if (nbb_cells[i].get_text() == nbb_unformatted_code) {\n",
       "                             nbb_cells[i].set_text(nbb_formatted_code);\n",
       "                        }\n",
       "                        break;\n",
       "                    }\n",
       "                }\n",
       "            }, 500);\n",
       "            "
      ],
      "text/plain": [
       "<IPython.core.display.Javascript object>"
      ]
     },
     "metadata": {},
     "output_type": "display_data"
    }
   ],
   "source": [
    "df_for_plot = df_for_plot.reset_index().pivot_table(\n",
    "    index=[\"form_pav\"], columns=[\"year\"], values=0\n",
    ")"
   ]
  },
  {
   "cell_type": "code",
   "execution_count": 36,
   "id": "8cd764ea",
   "metadata": {
    "ExecuteTime": {
     "end_time": "2022-12-08T18:20:48.986990Z",
     "start_time": "2022-12-08T18:20:48.143384Z"
    }
   },
   "outputs": [
    {
     "data": {
      "image/png": "[encoded data removed]",
      "text/plain": [
       "<Figure size 700x500 with 1 Axes>"
      ]
     },
     "metadata": {},
     "output_type": "display_data"
    },
    {
     "data": {
      "application/javascript": [
       "\n",
       "            setTimeout(function() {\n",
       "                var nbb_cell_id = 36;\n",
       "                var nbb_unformatted_code = \"# Matplotlib\\n\\nfig, axes = plt.subplots(1, 1, figsize=(7, 5))\\n\\ndf_for_plot.plot.bar(ax=axes, title=\\\"Juridini\\u0173 asmen\\u0173 skai\\u010dius 2020 ir 2021 metais\\\")\\nplt.xlabel(\\\"\\\")\\nplt.ylabel(\\\"Vienet\\u0173 skai\\u010dius\\\")\\nplt.yscale(\\\"log\\\")\";\n",
       "                var nbb_formatted_code = \"# Matplotlib\\n\\nfig, axes = plt.subplots(1, 1, figsize=(7, 5))\\n\\ndf_for_plot.plot.bar(ax=axes, title=\\\"Juridini\\u0173 asmen\\u0173 skai\\u010dius 2020 ir 2021 metais\\\")\\nplt.xlabel(\\\"\\\")\\nplt.ylabel(\\\"Vienet\\u0173 skai\\u010dius\\\")\\nplt.yscale(\\\"log\\\")\";\n",
       "                var nbb_cells = Jupyter.notebook.get_cells();\n",
       "                for (var i = 0; i < nbb_cells.length; ++i) {\n",
       "                    if (nbb_cells[i].input_prompt_number == nbb_cell_id) {\n",
       "                        if (nbb_cells[i].get_text() == nbb_unformatted_code) {\n",
       "                             nbb_cells[i].set_text(nbb_formatted_code);\n",
       "                        }\n",
       "                        break;\n",
       "                    }\n",
       "                }\n",
       "            }, 500);\n",
       "            "
      ],
      "text/plain": [
       "<IPython.core.display.Javascript object>"
      ]
     },
     "metadata": {},
     "output_type": "display_data"
    }
   ],
   "source": [
    "# Matplotlib\n",
    "\n",
    "fig, axes = plt.subplots(1, 1, figsize=(7, 5))\n",
    "\n",
    "df_for_plot.plot.bar(ax=axes, title=\"Juridinių asmenų skaičius 2020 ir 2021 metais\")\n",
    "plt.xlabel(\"\")\n",
    "plt.ylabel(\"Vienetų skaičius\")\n",
    "plt.yscale(\"log\")"
   ]
  },
  {
   "cell_type": "code",
   "execution_count": 37,
   "id": "2e56a24a",
   "metadata": {
    "ExecuteTime": {
     "end_time": "2022-12-08T18:20:52.098371Z",
     "start_time": "2022-12-08T18:20:51.444118Z"
    }
   },
   "outputs": [
    {
     "data": {
      "text/plain": [
       "<AxesSubplot: title={'center': 'Juridinių asmenų skaičius 2020 ir 2021 metais'}, xlabel=' ', ylabel='Vienetų skaičius'>"
      ]
     },
     "execution_count": 37,
     "metadata": {},
     "output_type": "execute_result"
    },
    {
     "data": {
      "image/png": "[encoded data removed]",
      "text/plain": [
       "<Figure size 640x480 with 1 Axes>"
      ]
     },
     "metadata": {},
     "output_type": "display_data"
    },
    {
     "data": {
      "application/javascript": [
       "\n",
       "            setTimeout(function() {\n",
       "                var nbb_cell_id = 37;\n",
       "                var nbb_unformatted_code = \"# Pandas plot\\n\\ndf_for_plot.plot(\\n    kind=\\\"bar\\\",\\n    logy=True,\\n    xlabel=\\\" \\\",\\n    ylabel=\\\"Vienet\\u0173 skai\\u010dius\\\",\\n    title=\\\"Juridini\\u0173 asmen\\u0173 skai\\u010dius 2020 ir 2021 metais\\\",\\n)\";\n",
       "                var nbb_formatted_code = \"# Pandas plot\\n\\ndf_for_plot.plot(\\n    kind=\\\"bar\\\",\\n    logy=True,\\n    xlabel=\\\" \\\",\\n    ylabel=\\\"Vienet\\u0173 skai\\u010dius\\\",\\n    title=\\\"Juridini\\u0173 asmen\\u0173 skai\\u010dius 2020 ir 2021 metais\\\",\\n)\";\n",
       "                var nbb_cells = Jupyter.notebook.get_cells();\n",
       "                for (var i = 0; i < nbb_cells.length; ++i) {\n",
       "                    if (nbb_cells[i].input_prompt_number == nbb_cell_id) {\n",
       "                        if (nbb_cells[i].get_text() == nbb_unformatted_code) {\n",
       "                             nbb_cells[i].set_text(nbb_formatted_code);\n",
       "                        }\n",
       "                        break;\n",
       "                    }\n",
       "                }\n",
       "            }, 500);\n",
       "            "
      ],
      "text/plain": [
       "<IPython.core.display.Javascript object>"
      ]
     },
     "metadata": {},
     "output_type": "display_data"
    }
   ],
   "source": [
    "# Pandas plot\n",
    "\n",
    "df_for_plot.plot(\n",
    "    kind=\"bar\",\n",
    "    logy=True,\n",
    "    xlabel=\" \",\n",
    "    ylabel=\"Vienetų skaičius\",\n",
    "    title=\"Juridinių asmenų skaičius 2020 ir 2021 metais\",\n",
    ")"
   ]
  },
  {
   "cell_type": "code",
   "execution_count": 38,
   "id": "6af7d3f5",
   "metadata": {
    "ExecuteTime": {
     "end_time": "2022-12-08T18:20:54.889043Z",
     "start_time": "2022-12-08T18:20:54.255335Z"
    }
   },
   "outputs": [
    {
     "data": {
      "image/png": "[encoded data removed]",
      "text/plain": [
       "<Figure size 640x480 with 1 Axes>"
      ]
     },
     "metadata": {},
     "output_type": "display_data"
    },
    {
     "data": {
      "application/javascript": [
       "\n",
       "            setTimeout(function() {\n",
       "                var nbb_cell_id = 38;\n",
       "                var nbb_unformatted_code = \"# Seaborn\\n\\nax = sns.histplot(\\n    blns_merged, x=\\\"form_pav\\\", hue=\\\"year\\\", multiple=\\\"dodge\\\", log_scale=(False, True)\\n)\\n\\nax.set(xlabel=\\\" \\\", ylabel=\\\"Vienet\\u0173 skai\\u010dius\\\")\\nplt.xticks(rotation=90)\\nplt.show()\";\n",
       "                var nbb_formatted_code = \"# Seaborn\\n\\nax = sns.histplot(\\n    blns_merged, x=\\\"form_pav\\\", hue=\\\"year\\\", multiple=\\\"dodge\\\", log_scale=(False, True)\\n)\\n\\nax.set(xlabel=\\\" \\\", ylabel=\\\"Vienet\\u0173 skai\\u010dius\\\")\\nplt.xticks(rotation=90)\\nplt.show()\";\n",
       "                var nbb_cells = Jupyter.notebook.get_cells();\n",
       "                for (var i = 0; i < nbb_cells.length; ++i) {\n",
       "                    if (nbb_cells[i].input_prompt_number == nbb_cell_id) {\n",
       "                        if (nbb_cells[i].get_text() == nbb_unformatted_code) {\n",
       "                             nbb_cells[i].set_text(nbb_formatted_code);\n",
       "                        }\n",
       "                        break;\n",
       "                    }\n",
       "                }\n",
       "            }, 500);\n",
       "            "
      ],
      "text/plain": [
       "<IPython.core.display.Javascript object>"
      ]
     },
     "metadata": {},
     "output_type": "display_data"
    }
   ],
   "source": [
    "# Seaborn\n",
    "\n",
    "ax = sns.histplot(\n",
    "    blns_merged, x=\"form_pav\", hue=\"year\", multiple=\"dodge\", log_scale=(False, True)\n",
    ")\n",
    "\n",
    "ax.set(xlabel=\" \", ylabel=\"Vienetų skaičius\")\n",
    "plt.xticks(rotation=90)\n",
    "plt.show()"
   ]
  },
  {
   "cell_type": "markdown",
   "id": "9c299ad7",
   "metadata": {},
   "source": [
    "## Kurį mėnesį buvo įregistruota daugiausiai juridinių asmenų 2020 ir 2021 metais? Atvaizduokite stulpelinę diagramą. [0.4 taško]"
   ]
  },
  {
   "cell_type": "code",
   "execution_count": 39,
   "id": "b2e21156",
   "metadata": {
    "ExecuteTime": {
     "end_time": "2022-12-08T18:21:00.288734Z",
     "start_time": "2022-12-08T18:21:00.244846Z"
    }
   },
   "outputs": [
    {
     "data": {
      "application/javascript": [
       "\n",
       "            setTimeout(function() {\n",
       "                var nbb_cell_id = 39;\n",
       "                var nbb_unformatted_code = \"# Add column by month\\n\\nblns_merged[\\\"month\\\"] = pd.to_datetime(blns_merged[\\\"reg_date\\\"]).dt.month\";\n",
       "                var nbb_formatted_code = \"# Add column by month\\n\\nblns_merged[\\\"month\\\"] = pd.to_datetime(blns_merged[\\\"reg_date\\\"]).dt.month\";\n",
       "                var nbb_cells = Jupyter.notebook.get_cells();\n",
       "                for (var i = 0; i < nbb_cells.length; ++i) {\n",
       "                    if (nbb_cells[i].input_prompt_number == nbb_cell_id) {\n",
       "                        if (nbb_cells[i].get_text() == nbb_unformatted_code) {\n",
       "                             nbb_cells[i].set_text(nbb_formatted_code);\n",
       "                        }\n",
       "                        break;\n",
       "                    }\n",
       "                }\n",
       "            }, 500);\n",
       "            "
      ],
      "text/plain": [
       "<IPython.core.display.Javascript object>"
      ]
     },
     "metadata": {},
     "output_type": "display_data"
    }
   ],
   "source": [
    "# Add column by month\n",
    "\n",
    "blns_merged[\"month\"] = pd.to_datetime(blns_merged[\"reg_date\"]).dt.month"
   ]
  },
  {
   "cell_type": "code",
   "execution_count": 40,
   "id": "2183302c",
   "metadata": {
    "ExecuteTime": {
     "end_time": "2022-12-08T18:21:01.539594Z",
     "start_time": "2022-12-08T18:21:00.876177Z"
    }
   },
   "outputs": [
    {
     "data": {
      "image/png": "[encoded data removed]",
      "text/plain": [
       "<Figure size 640x480 with 1 Axes>"
      ]
     },
     "metadata": {},
     "output_type": "display_data"
    },
    {
     "data": {
      "application/javascript": [
       "\n",
       "            setTimeout(function() {\n",
       "                var nbb_cell_id = 40;\n",
       "                var nbb_unformatted_code = \"ax = sns.histplot(blns_merged, x=\\\"month\\\", hue=\\\"year\\\", multiple=\\\"dodge\\\", shrink=10)\\n\\nax.set(xlabel=\\\"M\\u0117nesis\\\", ylabel=\\\"Vienet\\u0173 skai\\u010dius\\\")\\nplt.xticks(range(13), rotation=90)\\nplt.show()\";\n",
       "                var nbb_formatted_code = \"ax = sns.histplot(blns_merged, x=\\\"month\\\", hue=\\\"year\\\", multiple=\\\"dodge\\\", shrink=10)\\n\\nax.set(xlabel=\\\"M\\u0117nesis\\\", ylabel=\\\"Vienet\\u0173 skai\\u010dius\\\")\\nplt.xticks(range(13), rotation=90)\\nplt.show()\";\n",
       "                var nbb_cells = Jupyter.notebook.get_cells();\n",
       "                for (var i = 0; i < nbb_cells.length; ++i) {\n",
       "                    if (nbb_cells[i].input_prompt_number == nbb_cell_id) {\n",
       "                        if (nbb_cells[i].get_text() == nbb_unformatted_code) {\n",
       "                             nbb_cells[i].set_text(nbb_formatted_code);\n",
       "                        }\n",
       "                        break;\n",
       "                    }\n",
       "                }\n",
       "            }, 500);\n",
       "            "
      ],
      "text/plain": [
       "<IPython.core.display.Javascript object>"
      ]
     },
     "metadata": {},
     "output_type": "display_data"
    }
   ],
   "source": [
    "ax = sns.histplot(blns_merged, x=\"month\", hue=\"year\", multiple=\"dodge\", shrink=10)\n",
    "\n",
    "ax.set(xlabel=\"Mėnesis\", ylabel=\"Vienetų skaičius\")\n",
    "plt.xticks(range(13), rotation=90)\n",
    "plt.show()"
   ]
  },
  {
   "cell_type": "markdown",
   "id": "e2597b01",
   "metadata": {},
   "source": [
    "## Vizualiai atvaizduoti juridinių asmenų statuso pasiskirstymą kiekvienais metais. [0.4 taško]"
   ]
  },
  {
   "cell_type": "code",
   "execution_count": 42,
   "id": "52fa4f4e",
   "metadata": {
    "ExecuteTime": {
     "end_time": "2022-12-08T18:21:08.922583Z",
     "start_time": "2022-12-08T18:21:08.875708Z"
    }
   },
   "outputs": [
    {
     "data": {
      "application/javascript": [
       "\n",
       "            setTimeout(function() {\n",
       "                var nbb_cell_id = 42;\n",
       "                var nbb_unformatted_code = \"df_for_plot_2 = blns_merged.groupby([\\\"stat_pav\\\", \\\"year\\\"])[\\\"stat_pav\\\"].count().to_frame()\";\n",
       "                var nbb_formatted_code = \"df_for_plot_2 = blns_merged.groupby([\\\"stat_pav\\\", \\\"year\\\"])[\\\"stat_pav\\\"].count().to_frame()\";\n",
       "                var nbb_cells = Jupyter.notebook.get_cells();\n",
       "                for (var i = 0; i < nbb_cells.length; ++i) {\n",
       "                    if (nbb_cells[i].input_prompt_number == nbb_cell_id) {\n",
       "                        if (nbb_cells[i].get_text() == nbb_unformatted_code) {\n",
       "                             nbb_cells[i].set_text(nbb_formatted_code);\n",
       "                        }\n",
       "                        break;\n",
       "                    }\n",
       "                }\n",
       "            }, 500);\n",
       "            "
      ],
      "text/plain": [
       "<IPython.core.display.Javascript object>"
      ]
     },
     "metadata": {},
     "output_type": "display_data"
    }
   ],
   "source": [
    "df_for_plot_2 = blns_merged.groupby([\"stat_pav\", \"year\"])[\"stat_pav\"].count().to_frame()"
   ]
  },
  {
   "cell_type": "code",
   "execution_count": 43,
   "id": "5f19b633",
   "metadata": {
    "ExecuteTime": {
     "end_time": "2022-12-08T18:21:09.619283Z",
     "start_time": "2022-12-08T18:21:09.607273Z"
    }
   },
   "outputs": [
    {
     "data": {
      "application/javascript": [
       "\n",
       "            setTimeout(function() {\n",
       "                var nbb_cell_id = 43;\n",
       "                var nbb_unformatted_code = \"df_for_plot_2.columns = range(df_for_plot_2.shape[1])\";\n",
       "                var nbb_formatted_code = \"df_for_plot_2.columns = range(df_for_plot_2.shape[1])\";\n",
       "                var nbb_cells = Jupyter.notebook.get_cells();\n",
       "                for (var i = 0; i < nbb_cells.length; ++i) {\n",
       "                    if (nbb_cells[i].input_prompt_number == nbb_cell_id) {\n",
       "                        if (nbb_cells[i].get_text() == nbb_unformatted_code) {\n",
       "                             nbb_cells[i].set_text(nbb_formatted_code);\n",
       "                        }\n",
       "                        break;\n",
       "                    }\n",
       "                }\n",
       "            }, 500);\n",
       "            "
      ],
      "text/plain": [
       "<IPython.core.display.Javascript object>"
      ]
     },
     "metadata": {},
     "output_type": "display_data"
    }
   ],
   "source": [
    "df_for_plot_2.columns = range(df_for_plot_2.shape[1])"
   ]
  },
  {
   "cell_type": "code",
   "execution_count": 44,
   "id": "78de7c15",
   "metadata": {
    "ExecuteTime": {
     "end_time": "2022-12-08T18:21:10.153169Z",
     "start_time": "2022-12-08T18:21:10.141201Z"
    }
   },
   "outputs": [
    {
     "data": {
      "application/javascript": [
       "\n",
       "            setTimeout(function() {\n",
       "                var nbb_cell_id = 44;\n",
       "                var nbb_unformatted_code = \"df_for_plot_2 = df_for_plot_2.reset_index().pivot_table(\\n    index=[\\\"stat_pav\\\"], columns=[\\\"year\\\"], values=0\\n)\";\n",
       "                var nbb_formatted_code = \"df_for_plot_2 = df_for_plot_2.reset_index().pivot_table(\\n    index=[\\\"stat_pav\\\"], columns=[\\\"year\\\"], values=0\\n)\";\n",
       "                var nbb_cells = Jupyter.notebook.get_cells();\n",
       "                for (var i = 0; i < nbb_cells.length; ++i) {\n",
       "                    if (nbb_cells[i].input_prompt_number == nbb_cell_id) {\n",
       "                        if (nbb_cells[i].get_text() == nbb_unformatted_code) {\n",
       "                             nbb_cells[i].set_text(nbb_formatted_code);\n",
       "                        }\n",
       "                        break;\n",
       "                    }\n",
       "                }\n",
       "            }, 500);\n",
       "            "
      ],
      "text/plain": [
       "<IPython.core.display.Javascript object>"
      ]
     },
     "metadata": {},
     "output_type": "display_data"
    }
   ],
   "source": [
    "df_for_plot_2 = df_for_plot_2.reset_index().pivot_table(\n",
    "    index=[\"stat_pav\"], columns=[\"year\"], values=0\n",
    ")"
   ]
  },
  {
   "cell_type": "code",
   "execution_count": 45,
   "id": "f6745111",
   "metadata": {
    "ExecuteTime": {
     "end_time": "2022-12-08T18:21:11.339026Z",
     "start_time": "2022-12-08T18:21:10.852274Z"
    }
   },
   "outputs": [
    {
     "data": {
      "image/png": "[encoded data removed]",
      "text/plain": [
       "<Figure size 700x500 with 1 Axes>"
      ]
     },
     "metadata": {},
     "output_type": "display_data"
    },
    {
     "data": {
      "application/javascript": [
       "\n",
       "            setTimeout(function() {\n",
       "                var nbb_cell_id = 45;\n",
       "                var nbb_unformatted_code = \"# Matplotlib\\n\\nfig, axes = plt.subplots(1, 1, figsize=(7, 5))\\n\\ndf_for_plot_2.plot.bar(\\n    ax=axes, title=\\\"juridini\\u0173 asmen\\u0173 statuso pasiskirstymas kiekvienais metais\\\"\\n)\\nplt.xlabel(\\\"\\\")\\nplt.ylabel(\\\"Vienet\\u0173 skai\\u010dius\\\")\\nplt.yscale(\\\"log\\\")\";\n",
       "                var nbb_formatted_code = \"# Matplotlib\\n\\nfig, axes = plt.subplots(1, 1, figsize=(7, 5))\\n\\ndf_for_plot_2.plot.bar(\\n    ax=axes, title=\\\"juridini\\u0173 asmen\\u0173 statuso pasiskirstymas kiekvienais metais\\\"\\n)\\nplt.xlabel(\\\"\\\")\\nplt.ylabel(\\\"Vienet\\u0173 skai\\u010dius\\\")\\nplt.yscale(\\\"log\\\")\";\n",
       "                var nbb_cells = Jupyter.notebook.get_cells();\n",
       "                for (var i = 0; i < nbb_cells.length; ++i) {\n",
       "                    if (nbb_cells[i].input_prompt_number == nbb_cell_id) {\n",
       "                        if (nbb_cells[i].get_text() == nbb_unformatted_code) {\n",
       "                             nbb_cells[i].set_text(nbb_formatted_code);\n",
       "                        }\n",
       "                        break;\n",
       "                    }\n",
       "                }\n",
       "            }, 500);\n",
       "            "
      ],
      "text/plain": [
       "<IPython.core.display.Javascript object>"
      ]
     },
     "metadata": {},
     "output_type": "display_data"
    }
   ],
   "source": [
    "# Matplotlib\n",
    "\n",
    "fig, axes = plt.subplots(1, 1, figsize=(7, 5))\n",
    "\n",
    "df_for_plot_2.plot.bar(\n",
    "    ax=axes, title=\"juridinių asmenų statuso pasiskirstymas kiekvienais metais\"\n",
    ")\n",
    "plt.xlabel(\"\")\n",
    "plt.ylabel(\"Vienetų skaičius\")\n",
    "plt.yscale(\"log\")"
   ]
  },
  {
   "cell_type": "markdown",
   "id": "1278c546",
   "metadata": {
    "ExecuteTime": {
     "end_time": "2022-12-06T17:24:47.476820Z",
     "start_time": "2022-12-06T17:24:47.470851Z"
    }
   },
   "source": [
    "## Kiekvienai įmonei apskaičiuoti tendenciją. Jei “grynasis_pelnas” + “nuosavas_kapitalas” 2021 metais buvo didesnis už 2020 metais deklaruotą, tai tendencija “teigiama”, jei ne - “neigiama”. Atvaizduoti tendencijos duomenis stulpelinėje diagramoje. [0.4 taško]"
   ]
  },
  {
   "cell_type": "code",
   "execution_count": 46,
   "id": "27aa3454",
   "metadata": {
    "ExecuteTime": {
     "end_time": "2022-12-08T18:21:37.382353Z",
     "start_time": "2022-12-08T18:21:37.091589Z"
    }
   },
   "outputs": [
    {
     "data": {
      "application/javascript": [
       "\n",
       "            setTimeout(function() {\n",
       "                var nbb_cell_id = 46;\n",
       "                var nbb_unformatted_code = \"# Merge dataframe by year\\n\\nmerged_df_by_year_2021 = pd.merge(\\n    left=df_blns_2021,\\n    right=df_plna_2021,\\n    how=\\\"left\\\",\\n    left_on=[\\\"obj_kodas\\\", \\\"obj_pav\\\"],\\n    right_on=[\\\"obj_kodas\\\", \\\"obj_pav\\\"],\\n)\\nmerged_df_by_year_2020 = pd.merge(\\n    left=df_blns_2020,\\n    right=df_plna_2020,\\n    how=\\\"left\\\",\\n    left_on=[\\\"obj_kodas\\\", \\\"obj_pav\\\"],\\n    right_on=[\\\"obj_kodas\\\", \\\"obj_pav\\\"],\\n)\";\n",
       "                var nbb_formatted_code = \"# Merge dataframe by year\\n\\nmerged_df_by_year_2021 = pd.merge(\\n    left=df_blns_2021,\\n    right=df_plna_2021,\\n    how=\\\"left\\\",\\n    left_on=[\\\"obj_kodas\\\", \\\"obj_pav\\\"],\\n    right_on=[\\\"obj_kodas\\\", \\\"obj_pav\\\"],\\n)\\nmerged_df_by_year_2020 = pd.merge(\\n    left=df_blns_2020,\\n    right=df_plna_2020,\\n    how=\\\"left\\\",\\n    left_on=[\\\"obj_kodas\\\", \\\"obj_pav\\\"],\\n    right_on=[\\\"obj_kodas\\\", \\\"obj_pav\\\"],\\n)\";\n",
       "                var nbb_cells = Jupyter.notebook.get_cells();\n",
       "                for (var i = 0; i < nbb_cells.length; ++i) {\n",
       "                    if (nbb_cells[i].input_prompt_number == nbb_cell_id) {\n",
       "                        if (nbb_cells[i].get_text() == nbb_unformatted_code) {\n",
       "                             nbb_cells[i].set_text(nbb_formatted_code);\n",
       "                        }\n",
       "                        break;\n",
       "                    }\n",
       "                }\n",
       "            }, 500);\n",
       "            "
      ],
      "text/plain": [
       "<IPython.core.display.Javascript object>"
      ]
     },
     "metadata": {},
     "output_type": "display_data"
    }
   ],
   "source": [
    "# Merge dataframe by year\n",
    "\n",
    "merged_df_by_year_2021 = pd.merge(\n",
    "    left=df_blns_2021,\n",
    "    right=df_plna_2021,\n",
    "    how=\"left\",\n",
    "    left_on=[\"obj_kodas\", \"obj_pav\"],\n",
    "    right_on=[\"obj_kodas\", \"obj_pav\"],\n",
    ")\n",
    "merged_df_by_year_2020 = pd.merge(\n",
    "    left=df_blns_2020,\n",
    "    right=df_plna_2020,\n",
    "    how=\"left\",\n",
    "    left_on=[\"obj_kodas\", \"obj_pav\"],\n",
    "    right_on=[\"obj_kodas\", \"obj_pav\"],\n",
    ")"
   ]
  },
  {
   "cell_type": "code",
   "execution_count": 47,
   "id": "9f497344",
   "metadata": {
    "ExecuteTime": {
     "end_time": "2022-12-08T18:21:43.099781Z",
     "start_time": "2022-12-08T18:21:42.955126Z"
    }
   },
   "outputs": [
    {
     "data": {
      "application/javascript": [
       "\n",
       "            setTimeout(function() {\n",
       "                var nbb_cell_id = 47;\n",
       "                var nbb_unformatted_code = \"# Filter only needed columns\\n\\nmerged_df_by_year_2021 = merged_df_by_year_2021[\\n    [\\\"obj_kodas\\\", \\\"obj_pav\\\", \\\"nuosavas_kapitalas\\\", \\\"grynasis_pelnas\\\"]\\n]\\nmerged_df_by_year_2020 = merged_df_by_year_2020[\\n    [\\\"obj_kodas\\\", \\\"obj_pav\\\", \\\"nuosavas_kapitalas\\\", \\\"grynasis_pelnas\\\"]\\n]\";\n",
       "                var nbb_formatted_code = \"# Filter only needed columns\\n\\nmerged_df_by_year_2021 = merged_df_by_year_2021[\\n    [\\\"obj_kodas\\\", \\\"obj_pav\\\", \\\"nuosavas_kapitalas\\\", \\\"grynasis_pelnas\\\"]\\n]\\nmerged_df_by_year_2020 = merged_df_by_year_2020[\\n    [\\\"obj_kodas\\\", \\\"obj_pav\\\", \\\"nuosavas_kapitalas\\\", \\\"grynasis_pelnas\\\"]\\n]\";\n",
       "                var nbb_cells = Jupyter.notebook.get_cells();\n",
       "                for (var i = 0; i < nbb_cells.length; ++i) {\n",
       "                    if (nbb_cells[i].input_prompt_number == nbb_cell_id) {\n",
       "                        if (nbb_cells[i].get_text() == nbb_unformatted_code) {\n",
       "                             nbb_cells[i].set_text(nbb_formatted_code);\n",
       "                        }\n",
       "                        break;\n",
       "                    }\n",
       "                }\n",
       "            }, 500);\n",
       "            "
      ],
      "text/plain": [
       "<IPython.core.display.Javascript object>"
      ]
     },
     "metadata": {},
     "output_type": "display_data"
    }
   ],
   "source": [
    "# Filter only needed columns\n",
    "\n",
    "merged_df_by_year_2021 = merged_df_by_year_2021[\n",
    "    [\"obj_kodas\", \"obj_pav\", \"nuosavas_kapitalas\", \"grynasis_pelnas\"]\n",
    "]\n",
    "merged_df_by_year_2020 = merged_df_by_year_2020[\n",
    "    [\"obj_kodas\", \"obj_pav\", \"nuosavas_kapitalas\", \"grynasis_pelnas\"]\n",
    "]"
   ]
  },
  {
   "cell_type": "code",
   "execution_count": 48,
   "id": "bb5f0b03",
   "metadata": {
    "ExecuteTime": {
     "end_time": "2022-12-08T18:21:43.640638Z",
     "start_time": "2022-12-08T18:21:43.624735Z"
    }
   },
   "outputs": [
    {
     "data": {
      "application/javascript": [
       "\n",
       "            setTimeout(function() {\n",
       "                var nbb_cell_id = 48;\n",
       "                var nbb_unformatted_code = \"# Count yearly trend\\n\\nmerged_df_by_year_2021[\\\"metu_tendencija\\\"] = (\\n    merged_df_by_year_2021[\\\"nuosavas_kapitalas\\\"]\\n    + merged_df_by_year_2021[\\\"grynasis_pelnas\\\"]\\n)\\nmerged_df_by_year_2020[\\\"metu_tendencija\\\"] = (\\n    merged_df_by_year_2020[\\\"nuosavas_kapitalas\\\"]\\n    + merged_df_by_year_2020[\\\"grynasis_pelnas\\\"]\\n)\";\n",
       "                var nbb_formatted_code = \"# Count yearly trend\\n\\nmerged_df_by_year_2021[\\\"metu_tendencija\\\"] = (\\n    merged_df_by_year_2021[\\\"nuosavas_kapitalas\\\"]\\n    + merged_df_by_year_2021[\\\"grynasis_pelnas\\\"]\\n)\\nmerged_df_by_year_2020[\\\"metu_tendencija\\\"] = (\\n    merged_df_by_year_2020[\\\"nuosavas_kapitalas\\\"]\\n    + merged_df_by_year_2020[\\\"grynasis_pelnas\\\"]\\n)\";\n",
       "                var nbb_cells = Jupyter.notebook.get_cells();\n",
       "                for (var i = 0; i < nbb_cells.length; ++i) {\n",
       "                    if (nbb_cells[i].input_prompt_number == nbb_cell_id) {\n",
       "                        if (nbb_cells[i].get_text() == nbb_unformatted_code) {\n",
       "                             nbb_cells[i].set_text(nbb_formatted_code);\n",
       "                        }\n",
       "                        break;\n",
       "                    }\n",
       "                }\n",
       "            }, 500);\n",
       "            "
      ],
      "text/plain": [
       "<IPython.core.display.Javascript object>"
      ]
     },
     "metadata": {},
     "output_type": "display_data"
    }
   ],
   "source": [
    "# Count yearly trend\n",
    "\n",
    "merged_df_by_year_2021[\"metu_tendencija\"] = (\n",
    "    merged_df_by_year_2021[\"nuosavas_kapitalas\"]\n",
    "    + merged_df_by_year_2021[\"grynasis_pelnas\"]\n",
    ")\n",
    "merged_df_by_year_2020[\"metu_tendencija\"] = (\n",
    "    merged_df_by_year_2020[\"nuosavas_kapitalas\"]\n",
    "    + merged_df_by_year_2020[\"grynasis_pelnas\"]\n",
    ")"
   ]
  },
  {
   "cell_type": "code",
   "execution_count": 50,
   "id": "f1b2f715",
   "metadata": {
    "ExecuteTime": {
     "end_time": "2022-12-08T18:21:55.001748Z",
     "start_time": "2022-12-08T18:21:54.871086Z"
    }
   },
   "outputs": [
    {
     "data": {
      "application/javascript": [
       "\n",
       "            setTimeout(function() {\n",
       "                var nbb_cell_id = 50;\n",
       "                var nbb_unformatted_code = \"# Merge both yearly dataframes\\n\\nfull_df_yearly = pd.merge(\\n    left=merged_df_by_year_2021,\\n    right=merged_df_by_year_2020,\\n    how=\\\"left\\\",\\n    left_on=[\\\"obj_kodas\\\", \\\"obj_pav\\\"],\\n    right_on=[\\\"obj_kodas\\\", \\\"obj_pav\\\"],\\n)\";\n",
       "                var nbb_formatted_code = \"# Merge both yearly dataframes\\n\\nfull_df_yearly = pd.merge(\\n    left=merged_df_by_year_2021,\\n    right=merged_df_by_year_2020,\\n    how=\\\"left\\\",\\n    left_on=[\\\"obj_kodas\\\", \\\"obj_pav\\\"],\\n    right_on=[\\\"obj_kodas\\\", \\\"obj_pav\\\"],\\n)\";\n",
       "                var nbb_cells = Jupyter.notebook.get_cells();\n",
       "                for (var i = 0; i < nbb_cells.length; ++i) {\n",
       "                    if (nbb_cells[i].input_prompt_number == nbb_cell_id) {\n",
       "                        if (nbb_cells[i].get_text() == nbb_unformatted_code) {\n",
       "                             nbb_cells[i].set_text(nbb_formatted_code);\n",
       "                        }\n",
       "                        break;\n",
       "                    }\n",
       "                }\n",
       "            }, 500);\n",
       "            "
      ],
      "text/plain": [
       "<IPython.core.display.Javascript object>"
      ]
     },
     "metadata": {},
     "output_type": "display_data"
    }
   ],
   "source": [
    "# Merge both yearly dataframes\n",
    "\n",
    "full_df_yearly = pd.merge(\n",
    "    left=merged_df_by_year_2021,\n",
    "    right=merged_df_by_year_2020,\n",
    "    how=\"left\",\n",
    "    left_on=[\"obj_kodas\", \"obj_pav\"],\n",
    "    right_on=[\"obj_kodas\", \"obj_pav\"],\n",
    ")"
   ]
  },
  {
   "cell_type": "code",
   "execution_count": 51,
   "id": "1f41ecfa",
   "metadata": {
    "ExecuteTime": {
     "end_time": "2022-12-08T18:21:59.992861Z",
     "start_time": "2022-12-08T18:21:59.956957Z"
    }
   },
   "outputs": [
    {
     "data": {
      "application/javascript": [
       "\n",
       "            setTimeout(function() {\n",
       "                var nbb_cell_id = 51;\n",
       "                var nbb_unformatted_code = \"# Rename column names\\n\\nfull_df_yearly = full_df_yearly.rename(\\n    columns={\\n        \\\"nuosavas_kapitalas_x\\\": \\\"nuosavas_kapitalas_2021\\\",\\n        \\\"grynasis_pelnas_x\\\": \\\"grynasis_pelnas_2021\\\",\\n        \\\"metu_tendencija_x\\\": \\\"metu_tendencija_2021\\\",\\n        \\\"nuosavas_kapitalas_y\\\": \\\"nuosavas_kapitalas_2020\\\",\\n        \\\"grynasis_pelnas_y\\\": \\\"grynasis_pelnas_2020\\\",\\n        \\\"metu_tendencija_y\\\": \\\"metu_tendencija_2020\\\",\\n    }\\n)\";\n",
       "                var nbb_formatted_code = \"# Rename column names\\n\\nfull_df_yearly = full_df_yearly.rename(\\n    columns={\\n        \\\"nuosavas_kapitalas_x\\\": \\\"nuosavas_kapitalas_2021\\\",\\n        \\\"grynasis_pelnas_x\\\": \\\"grynasis_pelnas_2021\\\",\\n        \\\"metu_tendencija_x\\\": \\\"metu_tendencija_2021\\\",\\n        \\\"nuosavas_kapitalas_y\\\": \\\"nuosavas_kapitalas_2020\\\",\\n        \\\"grynasis_pelnas_y\\\": \\\"grynasis_pelnas_2020\\\",\\n        \\\"metu_tendencija_y\\\": \\\"metu_tendencija_2020\\\",\\n    }\\n)\";\n",
       "                var nbb_cells = Jupyter.notebook.get_cells();\n",
       "                for (var i = 0; i < nbb_cells.length; ++i) {\n",
       "                    if (nbb_cells[i].input_prompt_number == nbb_cell_id) {\n",
       "                        if (nbb_cells[i].get_text() == nbb_unformatted_code) {\n",
       "                             nbb_cells[i].set_text(nbb_formatted_code);\n",
       "                        }\n",
       "                        break;\n",
       "                    }\n",
       "                }\n",
       "            }, 500);\n",
       "            "
      ],
      "text/plain": [
       "<IPython.core.display.Javascript object>"
      ]
     },
     "metadata": {},
     "output_type": "display_data"
    }
   ],
   "source": [
    "# Rename column names\n",
    "\n",
    "full_df_yearly = full_df_yearly.rename(\n",
    "    columns={\n",
    "        \"nuosavas_kapitalas_x\": \"nuosavas_kapitalas_2021\",\n",
    "        \"grynasis_pelnas_x\": \"grynasis_pelnas_2021\",\n",
    "        \"metu_tendencija_x\": \"metu_tendencija_2021\",\n",
    "        \"nuosavas_kapitalas_y\": \"nuosavas_kapitalas_2020\",\n",
    "        \"grynasis_pelnas_y\": \"grynasis_pelnas_2020\",\n",
    "        \"metu_tendencija_y\": \"metu_tendencija_2020\",\n",
    "    }\n",
    ")"
   ]
  },
  {
   "cell_type": "code",
   "execution_count": 52,
   "id": "ae1be4cd",
   "metadata": {
    "ExecuteTime": {
     "end_time": "2022-12-08T18:22:06.286105Z",
     "start_time": "2022-12-08T18:22:06.227262Z"
    }
   },
   "outputs": [
    {
     "data": {
      "application/javascript": [
       "\n",
       "            setTimeout(function() {\n",
       "                var nbb_cell_id = 52;\n",
       "                var nbb_unformatted_code = \"# Count trend difference between years, and covert to boolean value\\n\\n\\ndef tend(x):\\n    if x > 0:\\n        return True\\n    else:\\n        return False\\n\\n\\nfull_df_yearly[\\\"tendencija\\\"] = (\\n    full_df_yearly[\\\"metu_tendencija_2021\\\"] - full_df_yearly[\\\"metu_tendencija_2020\\\"]\\n)\\nfull_df_yearly[\\\"tendencija_bool\\\"] = full_df_yearly[\\\"tendencija\\\"].apply(tend)\";\n",
       "                var nbb_formatted_code = \"# Count trend difference between years, and covert to boolean value\\n\\n\\ndef tend(x):\\n    if x > 0:\\n        return True\\n    else:\\n        return False\\n\\n\\nfull_df_yearly[\\\"tendencija\\\"] = (\\n    full_df_yearly[\\\"metu_tendencija_2021\\\"] - full_df_yearly[\\\"metu_tendencija_2020\\\"]\\n)\\nfull_df_yearly[\\\"tendencija_bool\\\"] = full_df_yearly[\\\"tendencija\\\"].apply(tend)\";\n",
       "                var nbb_cells = Jupyter.notebook.get_cells();\n",
       "                for (var i = 0; i < nbb_cells.length; ++i) {\n",
       "                    if (nbb_cells[i].input_prompt_number == nbb_cell_id) {\n",
       "                        if (nbb_cells[i].get_text() == nbb_unformatted_code) {\n",
       "                             nbb_cells[i].set_text(nbb_formatted_code);\n",
       "                        }\n",
       "                        break;\n",
       "                    }\n",
       "                }\n",
       "            }, 500);\n",
       "            "
      ],
      "text/plain": [
       "<IPython.core.display.Javascript object>"
      ]
     },
     "metadata": {},
     "output_type": "display_data"
    }
   ],
   "source": [
    "# Count trend difference between years, and covert to boolean value\n",
    "\n",
    "\n",
    "def tend(x):\n",
    "    if x > 0:\n",
    "        return True\n",
    "    else:\n",
    "        return False\n",
    "\n",
    "\n",
    "full_df_yearly[\"tendencija\"] = (\n",
    "    full_df_yearly[\"metu_tendencija_2021\"] - full_df_yearly[\"metu_tendencija_2020\"]\n",
    ")\n",
    "full_df_yearly[\"tendencija_bool\"] = full_df_yearly[\"tendencija\"].apply(tend)"
   ]
  },
  {
   "cell_type": "code",
   "execution_count": 53,
   "id": "952b5a31",
   "metadata": {
    "ExecuteTime": {
     "end_time": "2022-12-08T18:22:08.510948Z",
     "start_time": "2022-12-08T18:22:08.500934Z"
    }
   },
   "outputs": [
    {
     "data": {
      "text/plain": [
       "False    141747\n",
       "True      59334\n",
       "Name: tendencija_bool, dtype: int64"
      ]
     },
     "execution_count": 53,
     "metadata": {},
     "output_type": "execute_result"
    },
    {
     "data": {
      "application/javascript": [
       "\n",
       "            setTimeout(function() {\n",
       "                var nbb_cell_id = 53;\n",
       "                var nbb_unformatted_code = \"# Value counts\\n\\nfull_df_yearly[\\\"tendencija_bool\\\"].value_counts()\";\n",
       "                var nbb_formatted_code = \"# Value counts\\n\\nfull_df_yearly[\\\"tendencija_bool\\\"].value_counts()\";\n",
       "                var nbb_cells = Jupyter.notebook.get_cells();\n",
       "                for (var i = 0; i < nbb_cells.length; ++i) {\n",
       "                    if (nbb_cells[i].input_prompt_number == nbb_cell_id) {\n",
       "                        if (nbb_cells[i].get_text() == nbb_unformatted_code) {\n",
       "                             nbb_cells[i].set_text(nbb_formatted_code);\n",
       "                        }\n",
       "                        break;\n",
       "                    }\n",
       "                }\n",
       "            }, 500);\n",
       "            "
      ],
      "text/plain": [
       "<IPython.core.display.Javascript object>"
      ]
     },
     "metadata": {},
     "output_type": "display_data"
    }
   ],
   "source": [
    "# Value counts\n",
    "\n",
    "full_df_yearly[\"tendencija_bool\"].value_counts()"
   ]
  },
  {
   "cell_type": "code",
   "execution_count": 54,
   "id": "a383f8f1",
   "metadata": {
    "ExecuteTime": {
     "end_time": "2022-12-08T18:22:11.355207Z",
     "start_time": "2022-12-08T18:22:11.092859Z"
    }
   },
   "outputs": [
    {
     "name": "stderr",
     "output_type": "stream",
     "text": [
      "<__array_function__ internals>:180: RuntimeWarning: Converting input from bool to <class 'numpy.uint8'> for compatibility.\n",
      "<__array_function__ internals>:180: RuntimeWarning: Converting input from bool to <class 'numpy.uint8'> for compatibility.\n"
     ]
    },
    {
     "data": {
      "image/png": "[encoded data removed]",
      "text/plain": [
       "<Figure size 640x480 with 1 Axes>"
      ]
     },
     "metadata": {},
     "output_type": "display_data"
    },
    {
     "data": {
      "application/javascript": [
       "\n",
       "            setTimeout(function() {\n",
       "                var nbb_cell_id = 54;\n",
       "                var nbb_unformatted_code = \"# Seaborn Boolean histplot\\n\\nax = sns.histplot(full_df_yearly, x=\\\"tendencija_bool\\\", hue=\\\"tendencija_bool\\\", shrink=20)\\n\\nax.set(xlabel=\\\"boolean reik\\u0161m\\u0117\\\", ylabel=\\\"Vienet\\u0173 skai\\u010dius\\\")\\nplt.xticks(range(2), rotation=90)\\nplt.show()\";\n",
       "                var nbb_formatted_code = \"# Seaborn Boolean histplot\\n\\nax = sns.histplot(full_df_yearly, x=\\\"tendencija_bool\\\", hue=\\\"tendencija_bool\\\", shrink=20)\\n\\nax.set(xlabel=\\\"boolean reik\\u0161m\\u0117\\\", ylabel=\\\"Vienet\\u0173 skai\\u010dius\\\")\\nplt.xticks(range(2), rotation=90)\\nplt.show()\";\n",
       "                var nbb_cells = Jupyter.notebook.get_cells();\n",
       "                for (var i = 0; i < nbb_cells.length; ++i) {\n",
       "                    if (nbb_cells[i].input_prompt_number == nbb_cell_id) {\n",
       "                        if (nbb_cells[i].get_text() == nbb_unformatted_code) {\n",
       "                             nbb_cells[i].set_text(nbb_formatted_code);\n",
       "                        }\n",
       "                        break;\n",
       "                    }\n",
       "                }\n",
       "            }, 500);\n",
       "            "
      ],
      "text/plain": [
       "<IPython.core.display.Javascript object>"
      ]
     },
     "metadata": {},
     "output_type": "display_data"
    }
   ],
   "source": [
    "# Seaborn Boolean histplot\n",
    "\n",
    "ax = sns.histplot(full_df_yearly, x=\"tendencija_bool\", hue=\"tendencija_bool\", shrink=20)\n",
    "\n",
    "ax.set(xlabel=\"boolean reikšmė\", ylabel=\"Vienetų skaičius\")\n",
    "plt.xticks(range(2), rotation=90)\n",
    "plt.show()"
   ]
  },
  {
   "cell_type": "markdown",
   "id": "cfe026ba",
   "metadata": {},
   "source": [
    "## Surasti UAB ir MB įmones, kurios 2020 vykdė veiklą, o 2021 - bankrutavo. Bankrutavusių įmonių statusai: “Bankrutavęs”, “Bankrutuojantis”, “Išregistruotas”, “Inicijuojamas likvidavimas”, “Likviduojamas”, “Likviduojamas dėl bankroto”. Toliau veiklą vykdanti įmonė pažymėta \"Teisinis stat neįregistruotas\" statusu. Kokia bankrutavusių įmonių “nuosavas_kapitalas”suma 2021 metais? Kokia bankrutavusių įmonių “grynasis_pelnas” suma 2021 metais? Palyginti šias sumas su veikiančių įmonių atitinkamomis sumomis. [0.4 taško]"
   ]
  },
  {
   "cell_type": "code",
   "execution_count": 55,
   "id": "f97698c3",
   "metadata": {
    "ExecuteTime": {
     "end_time": "2022-12-08T18:22:49.281243Z",
     "start_time": "2022-12-08T18:22:49.272233Z"
    }
   },
   "outputs": [
    {
     "data": {
      "application/javascript": [
       "\n",
       "            setTimeout(function() {\n",
       "                var nbb_cell_id = 55;\n",
       "                var nbb_unformatted_code = \"# Filter for bancrupting companies\\n\\nstatus = [\\n    \\\"Bankrutav\\u0119s\\\",\\n    \\\"Bankrutuojantis\\\",\\n    \\\"I\\u0161registruotas\\\",\\n    \\\"Inicijuojamas likvidavimas\\\",\\n    \\\"Likviduojamas\\\",\\n    \\\"Likviduojamas d\\u0117l bankroto\\\",\\n]\\n\\nform = [\\\"U\\u017edaroji akcin\\u0117 bendrov\\u0117\\\", \\\"Ma\\u017eoji bendrija\\\"]\";\n",
       "                var nbb_formatted_code = \"# Filter for bancrupting companies\\n\\nstatus = [\\n    \\\"Bankrutav\\u0119s\\\",\\n    \\\"Bankrutuojantis\\\",\\n    \\\"I\\u0161registruotas\\\",\\n    \\\"Inicijuojamas likvidavimas\\\",\\n    \\\"Likviduojamas\\\",\\n    \\\"Likviduojamas d\\u0117l bankroto\\\",\\n]\\n\\nform = [\\\"U\\u017edaroji akcin\\u0117 bendrov\\u0117\\\", \\\"Ma\\u017eoji bendrija\\\"]\";\n",
       "                var nbb_cells = Jupyter.notebook.get_cells();\n",
       "                for (var i = 0; i < nbb_cells.length; ++i) {\n",
       "                    if (nbb_cells[i].input_prompt_number == nbb_cell_id) {\n",
       "                        if (nbb_cells[i].get_text() == nbb_unformatted_code) {\n",
       "                             nbb_cells[i].set_text(nbb_formatted_code);\n",
       "                        }\n",
       "                        break;\n",
       "                    }\n",
       "                }\n",
       "            }, 500);\n",
       "            "
      ],
      "text/plain": [
       "<IPython.core.display.Javascript object>"
      ]
     },
     "metadata": {},
     "output_type": "display_data"
    }
   ],
   "source": [
    "# Filter for bancrupting companies\n",
    "\n",
    "status = [\n",
    "    \"Bankrutavęs\",\n",
    "    \"Bankrutuojantis\",\n",
    "    \"Išregistruotas\",\n",
    "    \"Inicijuojamas likvidavimas\",\n",
    "    \"Likviduojamas\",\n",
    "    \"Likviduojamas dėl bankroto\",\n",
    "]\n",
    "\n",
    "form = [\"Uždaroji akcinė bendrovė\", \"Mažoji bendrija\"]"
   ]
  },
  {
   "cell_type": "code",
   "execution_count": 57,
   "id": "86bc8f5f",
   "metadata": {
    "ExecuteTime": {
     "end_time": "2022-12-08T18:23:08.601262Z",
     "start_time": "2022-12-08T18:23:08.587258Z"
    }
   },
   "outputs": [
    {
     "data": {
      "text/plain": [
       "Index(['obj_kodas', 'obj_pav_x', 'form_kodas_x', 'form_pav_x',\n",
       "       'stat_statusas_x', 'stat_pav_x', 'template_id_x', 'template_name_x',\n",
       "       'standard_id_x', 'standard_name_x', 'laikotarpis_nuo_x',\n",
       "       'laikotarpis_iki_x', 'reg_date_x', 'nuosavas_kapitalas',\n",
       "       'mok_sumos_ir_isipareigojimai', 'ilgalaikis_turtas',\n",
       "       'trumpalaikis_turtas', 'formavimo_data_x', 'obj_pav_y', 'form_kodas_y',\n",
       "       'form_pav_y', 'stat_statusas_y', 'stat_pav_y', 'template_id_y',\n",
       "       'template_name_y', 'standard_id_y', 'standard_name_y',\n",
       "       'laikotarpis_nuo_y', 'laikotarpis_iki_y', 'reg_date_y',\n",
       "       'pelnas_pries_apmokestinima', 'grynasis_pelnas', 'pardavimo_pajamos',\n",
       "       'formavimo_data_y'],\n",
       "      dtype='object')"
      ]
     },
     "execution_count": 57,
     "metadata": {},
     "output_type": "execute_result"
    },
    {
     "data": {
      "application/javascript": [
       "\n",
       "            setTimeout(function() {\n",
       "                var nbb_cell_id = 57;\n",
       "                var nbb_unformatted_code = \"df_of_2021.columns\";\n",
       "                var nbb_formatted_code = \"df_of_2021.columns\";\n",
       "                var nbb_cells = Jupyter.notebook.get_cells();\n",
       "                for (var i = 0; i < nbb_cells.length; ++i) {\n",
       "                    if (nbb_cells[i].input_prompt_number == nbb_cell_id) {\n",
       "                        if (nbb_cells[i].get_text() == nbb_unformatted_code) {\n",
       "                             nbb_cells[i].set_text(nbb_formatted_code);\n",
       "                        }\n",
       "                        break;\n",
       "                    }\n",
       "                }\n",
       "            }, 500);\n",
       "            "
      ],
      "text/plain": [
       "<IPython.core.display.Javascript object>"
      ]
     },
     "metadata": {},
     "output_type": "display_data"
    }
   ],
   "source": [
    "df_of_2021.columns"
   ]
  },
  {
   "cell_type": "code",
   "execution_count": 58,
   "id": "e36d9f31",
   "metadata": {
    "ExecuteTime": {
     "end_time": "2022-12-08T18:23:16.339375Z",
     "start_time": "2022-12-08T18:23:16.259548Z"
    }
   },
   "outputs": [
    {
     "data": {
      "application/javascript": [
       "\n",
       "            setTimeout(function() {\n",
       "                var nbb_cell_id = 58;\n",
       "                var nbb_unformatted_code = \"merged_2021_filtered = df_of_2021[\\n    df_of_2021[\\\"stat_pav_x\\\"].isin(status) & df_of_2021[\\\"form_pav_x\\\"].isin(form)\\n]\";\n",
       "                var nbb_formatted_code = \"merged_2021_filtered = df_of_2021[\\n    df_of_2021[\\\"stat_pav_x\\\"].isin(status) & df_of_2021[\\\"form_pav_x\\\"].isin(form)\\n]\";\n",
       "                var nbb_cells = Jupyter.notebook.get_cells();\n",
       "                for (var i = 0; i < nbb_cells.length; ++i) {\n",
       "                    if (nbb_cells[i].input_prompt_number == nbb_cell_id) {\n",
       "                        if (nbb_cells[i].get_text() == nbb_unformatted_code) {\n",
       "                             nbb_cells[i].set_text(nbb_formatted_code);\n",
       "                        }\n",
       "                        break;\n",
       "                    }\n",
       "                }\n",
       "            }, 500);\n",
       "            "
      ],
      "text/plain": [
       "<IPython.core.display.Javascript object>"
      ]
     },
     "metadata": {},
     "output_type": "display_data"
    }
   ],
   "source": [
    "merged_2021_filtered = df_of_2021[\n",
    "    df_of_2021[\"stat_pav_x\"].isin(status) & df_of_2021[\"form_pav_x\"].isin(form)\n",
    "]"
   ]
  },
  {
   "cell_type": "code",
   "execution_count": 60,
   "id": "062f8697",
   "metadata": {
    "ExecuteTime": {
     "end_time": "2022-12-08T18:23:57.875780Z",
     "start_time": "2022-12-08T18:23:57.855834Z"
    }
   },
   "outputs": [
    {
     "name": "stderr",
     "output_type": "stream",
     "text": [
      "C:\\Users\\lrsko\\AppData\\Local\\Temp\\ipykernel_22616\\1273328000.py:1: FutureWarning: Indexing with multiple keys (implicitly converted to a tuple of keys) will be deprecated, use a list instead.\n",
      "  merged_2021_filtered = merged_2021_filtered.groupby([\"obj_kodas\", \"obj_pav_x\"])[\n"
     ]
    },
    {
     "data": {
      "application/javascript": [
       "\n",
       "            setTimeout(function() {\n",
       "                var nbb_cell_id = 60;\n",
       "                var nbb_unformatted_code = \"merged_2021_filtered = merged_2021_filtered.groupby([\\\"obj_kodas\\\", \\\"obj_pav_x\\\"])[\\n    \\\"nuosavas_kapitalas\\\", \\\"grynasis_pelnas\\\"\\n].mean()\";\n",
       "                var nbb_formatted_code = \"merged_2021_filtered = merged_2021_filtered.groupby([\\\"obj_kodas\\\", \\\"obj_pav_x\\\"])[\\n    \\\"nuosavas_kapitalas\\\", \\\"grynasis_pelnas\\\"\\n].mean()\";\n",
       "                var nbb_cells = Jupyter.notebook.get_cells();\n",
       "                for (var i = 0; i < nbb_cells.length; ++i) {\n",
       "                    if (nbb_cells[i].input_prompt_number == nbb_cell_id) {\n",
       "                        if (nbb_cells[i].get_text() == nbb_unformatted_code) {\n",
       "                             nbb_cells[i].set_text(nbb_formatted_code);\n",
       "                        }\n",
       "                        break;\n",
       "                    }\n",
       "                }\n",
       "            }, 500);\n",
       "            "
      ],
      "text/plain": [
       "<IPython.core.display.Javascript object>"
      ]
     },
     "metadata": {},
     "output_type": "display_data"
    }
   ],
   "source": [
    "merged_2021_filtered = merged_2021_filtered.groupby([\"obj_kodas\", \"obj_pav_x\"])[\n",
    "    \"nuosavas_kapitalas\", \"grynasis_pelnas\"\n",
    "].mean()"
   ]
  },
  {
   "cell_type": "code",
   "execution_count": 61,
   "id": "01267fe4",
   "metadata": {
    "ExecuteTime": {
     "end_time": "2022-12-08T18:24:03.086001Z",
     "start_time": "2022-12-08T18:24:02.900500Z"
    }
   },
   "outputs": [
    {
     "name": "stderr",
     "output_type": "stream",
     "text": [
      "C:\\Users\\lrsko\\AppData\\Local\\Temp\\ipykernel_22616\\3038476311.py:1: FutureWarning: Indexing with multiple keys (implicitly converted to a tuple of keys) will be deprecated, use a list instead.\n",
      "  merged_2020_grouped = df_of_2020.groupby([\"obj_kodas\", \"obj_pav_x\"])[\n"
     ]
    },
    {
     "data": {
      "application/javascript": [
       "\n",
       "            setTimeout(function() {\n",
       "                var nbb_cell_id = 61;\n",
       "                var nbb_unformatted_code = \"merged_2020_grouped = df_of_2020.groupby([\\\"obj_kodas\\\", \\\"obj_pav_x\\\"])[\\n    \\\"nuosavas_kapitalas\\\", \\\"grynasis_pelnas\\\"\\n].mean()\";\n",
       "                var nbb_formatted_code = \"merged_2020_grouped = df_of_2020.groupby([\\\"obj_kodas\\\", \\\"obj_pav_x\\\"])[\\n    \\\"nuosavas_kapitalas\\\", \\\"grynasis_pelnas\\\"\\n].mean()\";\n",
       "                var nbb_cells = Jupyter.notebook.get_cells();\n",
       "                for (var i = 0; i < nbb_cells.length; ++i) {\n",
       "                    if (nbb_cells[i].input_prompt_number == nbb_cell_id) {\n",
       "                        if (nbb_cells[i].get_text() == nbb_unformatted_code) {\n",
       "                             nbb_cells[i].set_text(nbb_formatted_code);\n",
       "                        }\n",
       "                        break;\n",
       "                    }\n",
       "                }\n",
       "            }, 500);\n",
       "            "
      ],
      "text/plain": [
       "<IPython.core.display.Javascript object>"
      ]
     },
     "metadata": {},
     "output_type": "display_data"
    }
   ],
   "source": [
    "merged_2020_grouped = df_of_2020.groupby([\"obj_kodas\", \"obj_pav_x\"])[\n",
    "    \"nuosavas_kapitalas\", \"grynasis_pelnas\"\n",
    "].mean()"
   ]
  },
  {
   "cell_type": "code",
   "execution_count": 62,
   "id": "b5065da7",
   "metadata": {
    "ExecuteTime": {
     "end_time": "2022-12-08T18:24:07.839087Z",
     "start_time": "2022-12-08T18:24:07.615093Z"
    }
   },
   "outputs": [
    {
     "data": {
      "application/javascript": [
       "\n",
       "            setTimeout(function() {\n",
       "                var nbb_cell_id = 62;\n",
       "                var nbb_unformatted_code = \"bancrupting_companies_2021 = pd.merge(\\n    merged_2021_filtered, merged_2020_grouped, left_index=True, right_index=True\\n)\";\n",
       "                var nbb_formatted_code = \"bancrupting_companies_2021 = pd.merge(\\n    merged_2021_filtered, merged_2020_grouped, left_index=True, right_index=True\\n)\";\n",
       "                var nbb_cells = Jupyter.notebook.get_cells();\n",
       "                for (var i = 0; i < nbb_cells.length; ++i) {\n",
       "                    if (nbb_cells[i].input_prompt_number == nbb_cell_id) {\n",
       "                        if (nbb_cells[i].get_text() == nbb_unformatted_code) {\n",
       "                             nbb_cells[i].set_text(nbb_formatted_code);\n",
       "                        }\n",
       "                        break;\n",
       "                    }\n",
       "                }\n",
       "            }, 500);\n",
       "            "
      ],
      "text/plain": [
       "<IPython.core.display.Javascript object>"
      ]
     },
     "metadata": {},
     "output_type": "display_data"
    }
   ],
   "source": [
    "bancrupting_companies_2021 = pd.merge(\n",
    "    merged_2021_filtered, merged_2020_grouped, left_index=True, right_index=True\n",
    ")"
   ]
  },
  {
   "cell_type": "code",
   "execution_count": 63,
   "id": "4bcfdbee",
   "metadata": {
    "ExecuteTime": {
     "end_time": "2022-12-08T18:24:09.530874Z",
     "start_time": "2022-12-08T18:24:09.515898Z"
    }
   },
   "outputs": [
    {
     "data": {
      "text/plain": [
       "471773811.5"
      ]
     },
     "execution_count": 63,
     "metadata": {},
     "output_type": "execute_result"
    },
    {
     "data": {
      "application/javascript": [
       "\n",
       "            setTimeout(function() {\n",
       "                var nbb_cell_id = 63;\n",
       "                var nbb_unformatted_code = \"# Bankrutuojan\\u010di\\u0173 kompanij\\u0173 nuosavo kapitalo suma 2021:\\n\\nbancrupting_companies_2021[\\\"nuosavas_kapitalas_x\\\"].sum()\";\n",
       "                var nbb_formatted_code = \"# Bankrutuojan\\u010di\\u0173 kompanij\\u0173 nuosavo kapitalo suma 2021:\\n\\nbancrupting_companies_2021[\\\"nuosavas_kapitalas_x\\\"].sum()\";\n",
       "                var nbb_cells = Jupyter.notebook.get_cells();\n",
       "                for (var i = 0; i < nbb_cells.length; ++i) {\n",
       "                    if (nbb_cells[i].input_prompt_number == nbb_cell_id) {\n",
       "                        if (nbb_cells[i].get_text() == nbb_unformatted_code) {\n",
       "                             nbb_cells[i].set_text(nbb_formatted_code);\n",
       "                        }\n",
       "                        break;\n",
       "                    }\n",
       "                }\n",
       "            }, 500);\n",
       "            "
      ],
      "text/plain": [
       "<IPython.core.display.Javascript object>"
      ]
     },
     "metadata": {},
     "output_type": "display_data"
    }
   ],
   "source": [
    "# Bankrutuojančių kompanijų nuosavo kapitalo suma 2021:\n",
    "\n",
    "bancrupting_companies_2021[\"nuosavas_kapitalas_x\"].sum()"
   ]
  },
  {
   "cell_type": "code",
   "execution_count": 64,
   "id": "75131262",
   "metadata": {
    "ExecuteTime": {
     "end_time": "2022-12-08T18:24:11.851406Z",
     "start_time": "2022-12-08T18:24:11.843428Z"
    }
   },
   "outputs": [
    {
     "data": {
      "text/plain": [
       "-97825933.58333333"
      ]
     },
     "execution_count": 64,
     "metadata": {},
     "output_type": "execute_result"
    },
    {
     "data": {
      "application/javascript": [
       "\n",
       "            setTimeout(function() {\n",
       "                var nbb_cell_id = 64;\n",
       "                var nbb_unformatted_code = \"# Bankrutuojan\\u010di\\u0173 kompanij\\u0173 grynojo pelno suma 2021:\\n\\nbancrupting_companies_2021[\\\"grynasis_pelnas_x\\\"].sum()\";\n",
       "                var nbb_formatted_code = \"# Bankrutuojan\\u010di\\u0173 kompanij\\u0173 grynojo pelno suma 2021:\\n\\nbancrupting_companies_2021[\\\"grynasis_pelnas_x\\\"].sum()\";\n",
       "                var nbb_cells = Jupyter.notebook.get_cells();\n",
       "                for (var i = 0; i < nbb_cells.length; ++i) {\n",
       "                    if (nbb_cells[i].input_prompt_number == nbb_cell_id) {\n",
       "                        if (nbb_cells[i].get_text() == nbb_unformatted_code) {\n",
       "                             nbb_cells[i].set_text(nbb_formatted_code);\n",
       "                        }\n",
       "                        break;\n",
       "                    }\n",
       "                }\n",
       "            }, 500);\n",
       "            "
      ],
      "text/plain": [
       "<IPython.core.display.Javascript object>"
      ]
     },
     "metadata": {},
     "output_type": "display_data"
    }
   ],
   "source": [
    "# Bankrutuojančių kompanijų grynojo pelno suma 2021:\n",
    "\n",
    "bancrupting_companies_2021[\"grynasis_pelnas_x\"].sum()"
   ]
  },
  {
   "cell_type": "code",
   "execution_count": 66,
   "id": "34203a38",
   "metadata": {
    "ExecuteTime": {
     "end_time": "2022-12-08T18:24:17.114354Z",
     "start_time": "2022-12-08T18:24:17.063442Z"
    }
   },
   "outputs": [
    {
     "data": {
      "application/javascript": [
       "\n",
       "            setTimeout(function() {\n",
       "                var nbb_cell_id = 66;\n",
       "                var nbb_unformatted_code = \"working_companies_2021 = df_of_2021[\\n    df_of_2021[\\\"stat_pav_x\\\"] == \\\"Teisinis stat ne\\u012fregistruotas\\\"\\n]\";\n",
       "                var nbb_formatted_code = \"working_companies_2021 = df_of_2021[\\n    df_of_2021[\\\"stat_pav_x\\\"] == \\\"Teisinis stat ne\\u012fregistruotas\\\"\\n]\";\n",
       "                var nbb_cells = Jupyter.notebook.get_cells();\n",
       "                for (var i = 0; i < nbb_cells.length; ++i) {\n",
       "                    if (nbb_cells[i].input_prompt_number == nbb_cell_id) {\n",
       "                        if (nbb_cells[i].get_text() == nbb_unformatted_code) {\n",
       "                             nbb_cells[i].set_text(nbb_formatted_code);\n",
       "                        }\n",
       "                        break;\n",
       "                    }\n",
       "                }\n",
       "            }, 500);\n",
       "            "
      ],
      "text/plain": [
       "<IPython.core.display.Javascript object>"
      ]
     },
     "metadata": {},
     "output_type": "display_data"
    }
   ],
   "source": [
    "working_companies_2021 = df_of_2021[\n",
    "    df_of_2021[\"stat_pav_x\"] == \"Teisinis stat neįregistruotas\"\n",
    "]"
   ]
  },
  {
   "cell_type": "code",
   "execution_count": 67,
   "id": "9efb7ff7",
   "metadata": {
    "ExecuteTime": {
     "end_time": "2022-12-08T18:24:19.190324Z",
     "start_time": "2022-12-08T18:24:19.181347Z"
    }
   },
   "outputs": [
    {
     "data": {
      "text/plain": [
       "74313931717.0"
      ]
     },
     "execution_count": 67,
     "metadata": {},
     "output_type": "execute_result"
    },
    {
     "data": {
      "application/javascript": [
       "\n",
       "            setTimeout(function() {\n",
       "                var nbb_cell_id = 67;\n",
       "                var nbb_unformatted_code = \"# S\\u0117kmingai dirban\\u010di\\u0173 kompanij\\u0173 nuosavo kapitalo suma 2021:\\n\\nworking_companies_2021[\\\"nuosavas_kapitalas\\\"].sum()\";\n",
       "                var nbb_formatted_code = \"# S\\u0117kmingai dirban\\u010di\\u0173 kompanij\\u0173 nuosavo kapitalo suma 2021:\\n\\nworking_companies_2021[\\\"nuosavas_kapitalas\\\"].sum()\";\n",
       "                var nbb_cells = Jupyter.notebook.get_cells();\n",
       "                for (var i = 0; i < nbb_cells.length; ++i) {\n",
       "                    if (nbb_cells[i].input_prompt_number == nbb_cell_id) {\n",
       "                        if (nbb_cells[i].get_text() == nbb_unformatted_code) {\n",
       "                             nbb_cells[i].set_text(nbb_formatted_code);\n",
       "                        }\n",
       "                        break;\n",
       "                    }\n",
       "                }\n",
       "            }, 500);\n",
       "            "
      ],
      "text/plain": [
       "<IPython.core.display.Javascript object>"
      ]
     },
     "metadata": {},
     "output_type": "display_data"
    }
   ],
   "source": [
    "# Sėkmingai dirbančių kompanijų nuosavo kapitalo suma 2021:\n",
    "\n",
    "working_companies_2021[\"nuosavas_kapitalas\"].sum()"
   ]
  },
  {
   "cell_type": "code",
   "execution_count": 68,
   "id": "f07233b2",
   "metadata": {
    "ExecuteTime": {
     "end_time": "2022-12-08T18:24:20.781952Z",
     "start_time": "2022-12-08T18:24:20.767452Z"
    }
   },
   "outputs": [
    {
     "data": {
      "text/plain": [
       "6359199378.0"
      ]
     },
     "execution_count": 68,
     "metadata": {},
     "output_type": "execute_result"
    },
    {
     "data": {
      "application/javascript": [
       "\n",
       "            setTimeout(function() {\n",
       "                var nbb_cell_id = 68;\n",
       "                var nbb_unformatted_code = \"# S\\u0117kmingai dirban\\u010di\\u0173 kompanij\\u0173 grynojo pelno suma 2021:\\n\\nworking_companies_2021[\\\"grynasis_pelnas\\\"].sum()\";\n",
       "                var nbb_formatted_code = \"# S\\u0117kmingai dirban\\u010di\\u0173 kompanij\\u0173 grynojo pelno suma 2021:\\n\\nworking_companies_2021[\\\"grynasis_pelnas\\\"].sum()\";\n",
       "                var nbb_cells = Jupyter.notebook.get_cells();\n",
       "                for (var i = 0; i < nbb_cells.length; ++i) {\n",
       "                    if (nbb_cells[i].input_prompt_number == nbb_cell_id) {\n",
       "                        if (nbb_cells[i].get_text() == nbb_unformatted_code) {\n",
       "                             nbb_cells[i].set_text(nbb_formatted_code);\n",
       "                        }\n",
       "                        break;\n",
       "                    }\n",
       "                }\n",
       "            }, 500);\n",
       "            "
      ],
      "text/plain": [
       "<IPython.core.display.Javascript object>"
      ]
     },
     "metadata": {},
     "output_type": "display_data"
    }
   ],
   "source": [
    "# Sėkmingai dirbančių kompanijų grynojo pelno suma 2021:\n",
    "\n",
    "working_companies_2021[\"grynasis_pelnas\"].sum()"
   ]
  },
  {
   "cell_type": "markdown",
   "id": "0eaf05fb",
   "metadata": {},
   "source": [
    "Sėkmingai dirbančių įmonių nuosavas kapitalas didesnis n kartų. Pelnas taip pat, bankrutuojančių įmonių saraše pelnas yra neigiamas (kas yra logiška)."
   ]
  },
  {
   "cell_type": "markdown",
   "id": "e9dc2a79",
   "metadata": {},
   "source": [
    "## Sukurti naują stulpelį “turtas”, kuris skaičiuojamas sudedant “trumpalaikis_turtas” ir “ilgalaikis_turtas” [0.4 taško]."
   ]
  },
  {
   "cell_type": "code",
   "execution_count": 69,
   "id": "8ed048fc",
   "metadata": {
    "ExecuteTime": {
     "end_time": "2022-12-08T18:24:49.872428Z",
     "start_time": "2022-12-08T18:24:49.857469Z"
    }
   },
   "outputs": [
    {
     "data": {
      "application/javascript": [
       "\n",
       "            setTimeout(function() {\n",
       "                var nbb_cell_id = 69;\n",
       "                var nbb_unformatted_code = \"df_blns_2021[\\\"turtas\\\"] = (\\n    df_blns_2021[\\\"ilgalaikis_turtas\\\"] + df_blns_2021[\\\"trumpalaikis_turtas\\\"]\\n)\\ndf_blns_2020[\\\"turtas\\\"] = (\\n    df_blns_2020[\\\"ilgalaikis_turtas\\\"] + df_blns_2020[\\\"trumpalaikis_turtas\\\"]\\n)\";\n",
       "                var nbb_formatted_code = \"df_blns_2021[\\\"turtas\\\"] = (\\n    df_blns_2021[\\\"ilgalaikis_turtas\\\"] + df_blns_2021[\\\"trumpalaikis_turtas\\\"]\\n)\\ndf_blns_2020[\\\"turtas\\\"] = (\\n    df_blns_2020[\\\"ilgalaikis_turtas\\\"] + df_blns_2020[\\\"trumpalaikis_turtas\\\"]\\n)\";\n",
       "                var nbb_cells = Jupyter.notebook.get_cells();\n",
       "                for (var i = 0; i < nbb_cells.length; ++i) {\n",
       "                    if (nbb_cells[i].input_prompt_number == nbb_cell_id) {\n",
       "                        if (nbb_cells[i].get_text() == nbb_unformatted_code) {\n",
       "                             nbb_cells[i].set_text(nbb_formatted_code);\n",
       "                        }\n",
       "                        break;\n",
       "                    }\n",
       "                }\n",
       "            }, 500);\n",
       "            "
      ],
      "text/plain": [
       "<IPython.core.display.Javascript object>"
      ]
     },
     "metadata": {},
     "output_type": "display_data"
    }
   ],
   "source": [
    "df_blns_2021[\"turtas\"] = (\n",
    "    df_blns_2021[\"ilgalaikis_turtas\"] + df_blns_2021[\"trumpalaikis_turtas\"]\n",
    ")\n",
    "df_blns_2020[\"turtas\"] = (\n",
    "    df_blns_2020[\"ilgalaikis_turtas\"] + df_blns_2020[\"trumpalaikis_turtas\"]\n",
    ")"
   ]
  },
  {
   "cell_type": "markdown",
   "id": "e1e9599e",
   "metadata": {},
   "source": [
    "### Suskirstyti įmones į 5 grupes pagal lauką “turtas”"
   ]
  },
  {
   "cell_type": "code",
   "execution_count": 70,
   "id": "442d642f",
   "metadata": {
    "ExecuteTime": {
     "end_time": "2022-12-08T18:24:52.655673Z",
     "start_time": "2022-12-08T18:24:52.618770Z"
    }
   },
   "outputs": [
    {
     "data": {
      "application/javascript": [
       "\n",
       "            setTimeout(function() {\n",
       "                var nbb_cell_id = 70;\n",
       "                var nbb_unformatted_code = \"df_blns_2021[\\\"turto_grupe\\\"] = pd.cut(\\n    df_blns_2021[\\\"turtas\\\"],\\n    [0, 3000, 20000, 35000, 70000, 100000000000000000000000],\\n    labels=[\\\"iki 3k\\\", \\\"3k-20k\\\", \\\"20k-35k\\\", \\\"35k-70k\\\", \\\"70k +\\\"],\\n)\";\n",
       "                var nbb_formatted_code = \"df_blns_2021[\\\"turto_grupe\\\"] = pd.cut(\\n    df_blns_2021[\\\"turtas\\\"],\\n    [0, 3000, 20000, 35000, 70000, 100000000000000000000000],\\n    labels=[\\\"iki 3k\\\", \\\"3k-20k\\\", \\\"20k-35k\\\", \\\"35k-70k\\\", \\\"70k +\\\"],\\n)\";\n",
       "                var nbb_cells = Jupyter.notebook.get_cells();\n",
       "                for (var i = 0; i < nbb_cells.length; ++i) {\n",
       "                    if (nbb_cells[i].input_prompt_number == nbb_cell_id) {\n",
       "                        if (nbb_cells[i].get_text() == nbb_unformatted_code) {\n",
       "                             nbb_cells[i].set_text(nbb_formatted_code);\n",
       "                        }\n",
       "                        break;\n",
       "                    }\n",
       "                }\n",
       "            }, 500);\n",
       "            "
      ],
      "text/plain": [
       "<IPython.core.display.Javascript object>"
      ]
     },
     "metadata": {},
     "output_type": "display_data"
    }
   ],
   "source": [
    "df_blns_2021[\"turto_grupe\"] = pd.cut(\n",
    "    df_blns_2021[\"turtas\"],\n",
    "    [0, 3000, 20000, 35000, 70000, 100000000000000000000000],\n",
    "    labels=[\"iki 3k\", \"3k-20k\", \"20k-35k\", \"35k-70k\", \"70k +\"],\n",
    ")"
   ]
  },
  {
   "cell_type": "code",
   "execution_count": 71,
   "id": "03c06f81",
   "metadata": {
    "ExecuteTime": {
     "end_time": "2022-12-08T18:24:54.250413Z",
     "start_time": "2022-12-08T18:24:54.223516Z"
    }
   },
   "outputs": [
    {
     "data": {
      "application/javascript": [
       "\n",
       "            setTimeout(function() {\n",
       "                var nbb_cell_id = 71;\n",
       "                var nbb_unformatted_code = \"df_blns_2020[\\\"turto_grupe\\\"] = pd.cut(\\n    df_blns_2020[\\\"turtas\\\"],\\n    [0, 3000, 20000, 35000, 70000, 100000000000000000000000],\\n    labels=[\\\"iki 3k\\\", \\\"3k-20k\\\", \\\"20k-35k\\\", \\\"35k-70k\\\", \\\"70k +\\\"],\\n)\";\n",
       "                var nbb_formatted_code = \"df_blns_2020[\\\"turto_grupe\\\"] = pd.cut(\\n    df_blns_2020[\\\"turtas\\\"],\\n    [0, 3000, 20000, 35000, 70000, 100000000000000000000000],\\n    labels=[\\\"iki 3k\\\", \\\"3k-20k\\\", \\\"20k-35k\\\", \\\"35k-70k\\\", \\\"70k +\\\"],\\n)\";\n",
       "                var nbb_cells = Jupyter.notebook.get_cells();\n",
       "                for (var i = 0; i < nbb_cells.length; ++i) {\n",
       "                    if (nbb_cells[i].input_prompt_number == nbb_cell_id) {\n",
       "                        if (nbb_cells[i].get_text() == nbb_unformatted_code) {\n",
       "                             nbb_cells[i].set_text(nbb_formatted_code);\n",
       "                        }\n",
       "                        break;\n",
       "                    }\n",
       "                }\n",
       "            }, 500);\n",
       "            "
      ],
      "text/plain": [
       "<IPython.core.display.Javascript object>"
      ]
     },
     "metadata": {},
     "output_type": "display_data"
    }
   ],
   "source": [
    "df_blns_2020[\"turto_grupe\"] = pd.cut(\n",
    "    df_blns_2020[\"turtas\"],\n",
    "    [0, 3000, 20000, 35000, 70000, 100000000000000000000000],\n",
    "    labels=[\"iki 3k\", \"3k-20k\", \"20k-35k\", \"35k-70k\", \"70k +\"],\n",
    ")"
   ]
  },
  {
   "cell_type": "markdown",
   "id": "5a9564d2",
   "metadata": {},
   "source": [
    "### Palyginti kaip šios grupės keičiasi 2020 ir 2021 metais. Palyginimą atvaizduoti skrituline diagrama ir gauti tokį patį kaip apačioje pavaizduotas paveikslas (skaitinės reikšmės gali skirtis):"
   ]
  },
  {
   "cell_type": "markdown",
   "id": "b0560ea3",
   "metadata": {},
   "source": [
    "#### naudojantis matplotlib funkcionalumu."
   ]
  },
  {
   "cell_type": "code",
   "execution_count": 72,
   "id": "d6a35a78",
   "metadata": {
    "ExecuteTime": {
     "end_time": "2022-12-08T18:24:56.744549Z",
     "start_time": "2022-12-08T18:24:56.727595Z"
    }
   },
   "outputs": [
    {
     "data": {
      "application/javascript": [
       "\n",
       "            setTimeout(function() {\n",
       "                var nbb_cell_id = 72;\n",
       "                var nbb_unformatted_code = \"plot_2021 = df_blns_2021.groupby(\\\"turto_grupe\\\")[\\\"stat_pav\\\"].count().to_frame()\";\n",
       "                var nbb_formatted_code = \"plot_2021 = df_blns_2021.groupby(\\\"turto_grupe\\\")[\\\"stat_pav\\\"].count().to_frame()\";\n",
       "                var nbb_cells = Jupyter.notebook.get_cells();\n",
       "                for (var i = 0; i < nbb_cells.length; ++i) {\n",
       "                    if (nbb_cells[i].input_prompt_number == nbb_cell_id) {\n",
       "                        if (nbb_cells[i].get_text() == nbb_unformatted_code) {\n",
       "                             nbb_cells[i].set_text(nbb_formatted_code);\n",
       "                        }\n",
       "                        break;\n",
       "                    }\n",
       "                }\n",
       "            }, 500);\n",
       "            "
      ],
      "text/plain": [
       "<IPython.core.display.Javascript object>"
      ]
     },
     "metadata": {},
     "output_type": "display_data"
    }
   ],
   "source": [
    "plot_2021 = df_blns_2021.groupby(\"turto_grupe\")[\"stat_pav\"].count().to_frame()"
   ]
  },
  {
   "cell_type": "code",
   "execution_count": 73,
   "id": "64e9cafc",
   "metadata": {
    "ExecuteTime": {
     "end_time": "2022-12-08T18:24:58.607872Z",
     "start_time": "2022-12-08T18:24:58.591915Z"
    }
   },
   "outputs": [
    {
     "data": {
      "application/javascript": [
       "\n",
       "            setTimeout(function() {\n",
       "                var nbb_cell_id = 73;\n",
       "                var nbb_unformatted_code = \"plot_2020 = df_blns_2020.groupby(\\\"turto_grupe\\\")[\\\"stat_pav\\\"].count().to_frame()\";\n",
       "                var nbb_formatted_code = \"plot_2020 = df_blns_2020.groupby(\\\"turto_grupe\\\")[\\\"stat_pav\\\"].count().to_frame()\";\n",
       "                var nbb_cells = Jupyter.notebook.get_cells();\n",
       "                for (var i = 0; i < nbb_cells.length; ++i) {\n",
       "                    if (nbb_cells[i].input_prompt_number == nbb_cell_id) {\n",
       "                        if (nbb_cells[i].get_text() == nbb_unformatted_code) {\n",
       "                             nbb_cells[i].set_text(nbb_formatted_code);\n",
       "                        }\n",
       "                        break;\n",
       "                    }\n",
       "                }\n",
       "            }, 500);\n",
       "            "
      ],
      "text/plain": [
       "<IPython.core.display.Javascript object>"
      ]
     },
     "metadata": {},
     "output_type": "display_data"
    }
   ],
   "source": [
    "plot_2020 = df_blns_2020.groupby(\"turto_grupe\")[\"stat_pav\"].count().to_frame()"
   ]
  },
  {
   "cell_type": "code",
   "execution_count": 74,
   "id": "8a3b1cd6",
   "metadata": {
    "ExecuteTime": {
     "end_time": "2022-12-08T18:25:00.504068Z",
     "start_time": "2022-12-08T18:25:00.344448Z"
    }
   },
   "outputs": [
    {
     "data": {
      "image/png": "[encoded data removed]",
      "text/plain": [
       "<Figure size 640x480 with 1 Axes>"
      ]
     },
     "metadata": {},
     "output_type": "display_data"
    },
    {
     "data": {
      "image/png": "[encoded data removed]",
      "text/plain": [
       "<Figure size 640x480 with 1 Axes>"
      ]
     },
     "metadata": {},
     "output_type": "display_data"
    },
    {
     "data": {
      "application/javascript": [
       "\n",
       "            setTimeout(function() {\n",
       "                var nbb_cell_id = 74;\n",
       "                var nbb_unformatted_code = \"# Matplotlib\\nlabels = [\\\"iki 3k\\\", \\\"3k-20k\\\", \\\"20k-35k\\\", \\\"35k-70k\\\", \\\"70k +\\\"]\\n\\nplt.pie(plot_2021[\\\"stat_pav\\\"], autopct=\\\"%1.1f%%\\\", labels=labels)\\nlabels = labels\\nplt.title(\\\"2021 metais\\\")\\nplt.axis(\\\"equal\\\")\\nplt.show()\\n\\nplt.pie(plot_2020[\\\"stat_pav\\\"], autopct=\\\"%1.1f%%\\\", labels=labels)\\nplt.title(\\\"2020 metais\\\")\\nplt.axis(\\\"equal\\\")\\nplt.show()\";\n",
       "                var nbb_formatted_code = \"# Matplotlib\\nlabels = [\\\"iki 3k\\\", \\\"3k-20k\\\", \\\"20k-35k\\\", \\\"35k-70k\\\", \\\"70k +\\\"]\\n\\nplt.pie(plot_2021[\\\"stat_pav\\\"], autopct=\\\"%1.1f%%\\\", labels=labels)\\nlabels = labels\\nplt.title(\\\"2021 metais\\\")\\nplt.axis(\\\"equal\\\")\\nplt.show()\\n\\nplt.pie(plot_2020[\\\"stat_pav\\\"], autopct=\\\"%1.1f%%\\\", labels=labels)\\nplt.title(\\\"2020 metais\\\")\\nplt.axis(\\\"equal\\\")\\nplt.show()\";\n",
       "                var nbb_cells = Jupyter.notebook.get_cells();\n",
       "                for (var i = 0; i < nbb_cells.length; ++i) {\n",
       "                    if (nbb_cells[i].input_prompt_number == nbb_cell_id) {\n",
       "                        if (nbb_cells[i].get_text() == nbb_unformatted_code) {\n",
       "                             nbb_cells[i].set_text(nbb_formatted_code);\n",
       "                        }\n",
       "                        break;\n",
       "                    }\n",
       "                }\n",
       "            }, 500);\n",
       "            "
      ],
      "text/plain": [
       "<IPython.core.display.Javascript object>"
      ]
     },
     "metadata": {},
     "output_type": "display_data"
    }
   ],
   "source": [
    "# Matplotlib\n",
    "labels = [\"iki 3k\", \"3k-20k\", \"20k-35k\", \"35k-70k\", \"70k +\"]\n",
    "\n",
    "plt.pie(plot_2021[\"stat_pav\"], autopct=\"%1.1f%%\", labels=labels)\n",
    "labels = labels\n",
    "plt.title(\"2021 metais\")\n",
    "plt.axis(\"equal\")\n",
    "plt.show()\n",
    "\n",
    "plt.pie(plot_2020[\"stat_pav\"], autopct=\"%1.1f%%\", labels=labels)\n",
    "plt.title(\"2020 metais\")\n",
    "plt.axis(\"equal\")\n",
    "plt.show()"
   ]
  },
  {
   "cell_type": "markdown",
   "id": "5778318b",
   "metadata": {},
   "source": [
    "#### naudojantis pandas funkcionalumu."
   ]
  },
  {
   "cell_type": "code",
   "execution_count": 75,
   "id": "a1bb7777",
   "metadata": {
    "ExecuteTime": {
     "end_time": "2022-12-08T18:25:03.147084Z",
     "start_time": "2022-12-08T18:25:02.836914Z"
    }
   },
   "outputs": [
    {
     "data": {
      "text/plain": [
       "<AxesSubplot: ylabel='stat_pav'>"
      ]
     },
     "execution_count": 75,
     "metadata": {},
     "output_type": "execute_result"
    },
    {
     "data": {
      "image/png": "[encoded data removed]",
      "text/plain": [
       "<Figure size 500x500 with 1 Axes>"
      ]
     },
     "metadata": {},
     "output_type": "display_data"
    },
    {
     "data": {
      "image/png": "[encoded data removed]",
      "text/plain": [
       "<Figure size 500x500 with 1 Axes>"
      ]
     },
     "metadata": {},
     "output_type": "display_data"
    },
    {
     "data": {
      "application/javascript": [
       "\n",
       "            setTimeout(function() {\n",
       "                var nbb_cell_id = 75;\n",
       "                var nbb_unformatted_code = \"# Pandas\\n\\nplot_2021.plot.pie(y=\\\"stat_pav\\\", figsize=(5, 5))\\nplot_2020.plot.pie(y=\\\"stat_pav\\\", figsize=(5, 5))\";\n",
       "                var nbb_formatted_code = \"# Pandas\\n\\nplot_2021.plot.pie(y=\\\"stat_pav\\\", figsize=(5, 5))\\nplot_2020.plot.pie(y=\\\"stat_pav\\\", figsize=(5, 5))\";\n",
       "                var nbb_cells = Jupyter.notebook.get_cells();\n",
       "                for (var i = 0; i < nbb_cells.length; ++i) {\n",
       "                    if (nbb_cells[i].input_prompt_number == nbb_cell_id) {\n",
       "                        if (nbb_cells[i].get_text() == nbb_unformatted_code) {\n",
       "                             nbb_cells[i].set_text(nbb_formatted_code);\n",
       "                        }\n",
       "                        break;\n",
       "                    }\n",
       "                }\n",
       "            }, 500);\n",
       "            "
      ],
      "text/plain": [
       "<IPython.core.display.Javascript object>"
      ]
     },
     "metadata": {},
     "output_type": "display_data"
    }
   ],
   "source": [
    "# Pandas\n",
    "\n",
    "plot_2021.plot.pie(y=\"stat_pav\", figsize=(5, 5))\n",
    "plot_2020.plot.pie(y=\"stat_pav\", figsize=(5, 5))"
   ]
  },
  {
   "cell_type": "markdown",
   "id": "277c60dd",
   "metadata": {},
   "source": [
    "## Rasti TOP-100 pelningiausių įmonių pagal “grynasis pelnas” ir TOP-100 įmonių kurių “nuosavas kapitalas” didžiausias. Ar yra sutampančių įmonių šiuose sąrašuose? Skaičiuojant TOP įmonės įtraukti viso laikotarpio įmones (naudoti 2020 ir 2021 metų duomenis kartu). [0.4 taško]"
   ]
  },
  {
   "cell_type": "code",
   "execution_count": 76,
   "id": "158ca28e",
   "metadata": {
    "ExecuteTime": {
     "end_time": "2022-12-08T18:25:07.687467Z",
     "start_time": "2022-12-08T18:25:07.360186Z"
    }
   },
   "outputs": [
    {
     "data": {
      "application/javascript": [
       "\n",
       "            setTimeout(function() {\n",
       "                var nbb_cell_id = 76;\n",
       "                var nbb_unformatted_code = \"kapitalas_top_100 = (\\n    full_df.groupby([\\\"obj_pav\\\", \\\"obj_kodas\\\"])[\\\"nuosavas_kapitalas\\\"]\\n    .sum()\\n    .sort_values(ascending=False)[0:100]\\n    .to_frame()\\n)\";\n",
       "                var nbb_formatted_code = \"kapitalas_top_100 = (\\n    full_df.groupby([\\\"obj_pav\\\", \\\"obj_kodas\\\"])[\\\"nuosavas_kapitalas\\\"]\\n    .sum()\\n    .sort_values(ascending=False)[0:100]\\n    .to_frame()\\n)\";\n",
       "                var nbb_cells = Jupyter.notebook.get_cells();\n",
       "                for (var i = 0; i < nbb_cells.length; ++i) {\n",
       "                    if (nbb_cells[i].input_prompt_number == nbb_cell_id) {\n",
       "                        if (nbb_cells[i].get_text() == nbb_unformatted_code) {\n",
       "                             nbb_cells[i].set_text(nbb_formatted_code);\n",
       "                        }\n",
       "                        break;\n",
       "                    }\n",
       "                }\n",
       "            }, 500);\n",
       "            "
      ],
      "text/plain": [
       "<IPython.core.display.Javascript object>"
      ]
     },
     "metadata": {},
     "output_type": "display_data"
    }
   ],
   "source": [
    "kapitalas_top_100 = (\n",
    "    full_df.groupby([\"obj_pav\", \"obj_kodas\"])[\"nuosavas_kapitalas\"]\n",
    "    .sum()\n",
    "    .sort_values(ascending=False)[0:100]\n",
    "    .to_frame()\n",
    ")"
   ]
  },
  {
   "cell_type": "code",
   "execution_count": 77,
   "id": "f77bea3d",
   "metadata": {
    "ExecuteTime": {
     "end_time": "2022-12-08T18:25:09.181705Z",
     "start_time": "2022-12-08T18:25:08.831986Z"
    }
   },
   "outputs": [
    {
     "data": {
      "application/javascript": [
       "\n",
       "            setTimeout(function() {\n",
       "                var nbb_cell_id = 77;\n",
       "                var nbb_unformatted_code = \"pelnas_top_100 = (\\n    full_df.groupby([\\\"obj_pav\\\", \\\"obj_kodas\\\"])[\\\"grynasis_pelnas\\\"]\\n    .sum()\\n    .sort_values(ascending=False)[0:100]\\n    .to_frame()\\n)\";\n",
       "                var nbb_formatted_code = \"pelnas_top_100 = (\\n    full_df.groupby([\\\"obj_pav\\\", \\\"obj_kodas\\\"])[\\\"grynasis_pelnas\\\"]\\n    .sum()\\n    .sort_values(ascending=False)[0:100]\\n    .to_frame()\\n)\";\n",
       "                var nbb_cells = Jupyter.notebook.get_cells();\n",
       "                for (var i = 0; i < nbb_cells.length; ++i) {\n",
       "                    if (nbb_cells[i].input_prompt_number == nbb_cell_id) {\n",
       "                        if (nbb_cells[i].get_text() == nbb_unformatted_code) {\n",
       "                             nbb_cells[i].set_text(nbb_formatted_code);\n",
       "                        }\n",
       "                        break;\n",
       "                    }\n",
       "                }\n",
       "            }, 500);\n",
       "            "
      ],
      "text/plain": [
       "<IPython.core.display.Javascript object>"
      ]
     },
     "metadata": {},
     "output_type": "display_data"
    }
   ],
   "source": [
    "pelnas_top_100 = (\n",
    "    full_df.groupby([\"obj_pav\", \"obj_kodas\"])[\"grynasis_pelnas\"]\n",
    "    .sum()\n",
    "    .sort_values(ascending=False)[0:100]\n",
    "    .to_frame()\n",
    ")"
   ]
  },
  {
   "cell_type": "code",
   "execution_count": 78,
   "id": "e99b1097",
   "metadata": {
    "ExecuteTime": {
     "end_time": "2022-12-08T18:25:10.813710Z",
     "start_time": "2022-12-08T18:25:10.756853Z"
    }
   },
   "outputs": [
    {
     "data": {
      "text/plain": [
       "40"
      ]
     },
     "execution_count": 78,
     "metadata": {},
     "output_type": "execute_result"
    },
    {
     "data": {
      "application/javascript": [
       "\n",
       "            setTimeout(function() {\n",
       "                var nbb_cell_id = 78;\n",
       "                var nbb_unformatted_code = \"len(pd.merge(kapitalas_top_100, pelnas_top_100, left_index=True, right_index=True))\";\n",
       "                var nbb_formatted_code = \"len(pd.merge(kapitalas_top_100, pelnas_top_100, left_index=True, right_index=True))\";\n",
       "                var nbb_cells = Jupyter.notebook.get_cells();\n",
       "                for (var i = 0; i < nbb_cells.length; ++i) {\n",
       "                    if (nbb_cells[i].input_prompt_number == nbb_cell_id) {\n",
       "                        if (nbb_cells[i].get_text() == nbb_unformatted_code) {\n",
       "                             nbb_cells[i].set_text(nbb_formatted_code);\n",
       "                        }\n",
       "                        break;\n",
       "                    }\n",
       "                }\n",
       "            }, 500);\n",
       "            "
      ],
      "text/plain": [
       "<IPython.core.display.Javascript object>"
      ]
     },
     "metadata": {},
     "output_type": "display_data"
    }
   ],
   "source": [
    "len(pd.merge(kapitalas_top_100, pelnas_top_100, left_index=True, right_index=True))"
   ]
  },
  {
   "cell_type": "markdown",
   "id": "6e926edb",
   "metadata": {},
   "source": [
    "Top 100 Kapitalo ir Top 100 Pelno duomenyse sutampa 40 įmonių."
   ]
  },
  {
   "cell_type": "markdown",
   "id": "7f2fcd58",
   "metadata": {},
   "source": [
    "## Ar TOP įmonės pagal “grynasis pelnas” iš 15 užduoties skiriasi pagal metus, t.y. 2020 ir 2021 metais? Kurios įmonės iškrenta iš TOP sąrašo 2021 metais? [0.4 taško]"
   ]
  },
  {
   "cell_type": "code",
   "execution_count": 80,
   "id": "feb53d6c",
   "metadata": {
    "ExecuteTime": {
     "end_time": "2022-12-08T18:25:24.515777Z",
     "start_time": "2022-12-08T18:25:24.340207Z"
    }
   },
   "outputs": [
    {
     "data": {
      "application/javascript": [
       "\n",
       "            setTimeout(function() {\n",
       "                var nbb_cell_id = 80;\n",
       "                var nbb_unformatted_code = \"pelnas_top_100_2021 = (\\n    df_of_2021.groupby([\\\"obj_pav_x\\\", \\\"obj_kodas\\\"])[\\\"grynasis_pelnas\\\"]\\n    .sum()\\n    .sort_values(ascending=False)[0:100]\\n    .to_frame()\\n)\";\n",
       "                var nbb_formatted_code = \"pelnas_top_100_2021 = (\\n    df_of_2021.groupby([\\\"obj_pav_x\\\", \\\"obj_kodas\\\"])[\\\"grynasis_pelnas\\\"]\\n    .sum()\\n    .sort_values(ascending=False)[0:100]\\n    .to_frame()\\n)\";\n",
       "                var nbb_cells = Jupyter.notebook.get_cells();\n",
       "                for (var i = 0; i < nbb_cells.length; ++i) {\n",
       "                    if (nbb_cells[i].input_prompt_number == nbb_cell_id) {\n",
       "                        if (nbb_cells[i].get_text() == nbb_unformatted_code) {\n",
       "                             nbb_cells[i].set_text(nbb_formatted_code);\n",
       "                        }\n",
       "                        break;\n",
       "                    }\n",
       "                }\n",
       "            }, 500);\n",
       "            "
      ],
      "text/plain": [
       "<IPython.core.display.Javascript object>"
      ]
     },
     "metadata": {},
     "output_type": "display_data"
    }
   ],
   "source": [
    "pelnas_top_100_2021 = (\n",
    "    df_of_2021.groupby([\"obj_pav_x\", \"obj_kodas\"])[\"grynasis_pelnas\"]\n",
    "    .sum()\n",
    "    .sort_values(ascending=False)[0:100]\n",
    "    .to_frame()\n",
    ")"
   ]
  },
  {
   "cell_type": "code",
   "execution_count": 81,
   "id": "7ebc52c0",
   "metadata": {
    "ExecuteTime": {
     "end_time": "2022-12-08T18:25:29.870672Z",
     "start_time": "2022-12-08T18:25:29.711163Z"
    }
   },
   "outputs": [
    {
     "data": {
      "application/javascript": [
       "\n",
       "            setTimeout(function() {\n",
       "                var nbb_cell_id = 81;\n",
       "                var nbb_unformatted_code = \"pelnas_top_100_2020 = (\\n    df_of_2020.groupby([\\\"obj_pav_x\\\", \\\"obj_kodas\\\"])[\\\"grynasis_pelnas\\\"]\\n    .sum()\\n    .sort_values(ascending=False)[0:100]\\n    .to_frame()\\n)\";\n",
       "                var nbb_formatted_code = \"pelnas_top_100_2020 = (\\n    df_of_2020.groupby([\\\"obj_pav_x\\\", \\\"obj_kodas\\\"])[\\\"grynasis_pelnas\\\"]\\n    .sum()\\n    .sort_values(ascending=False)[0:100]\\n    .to_frame()\\n)\";\n",
       "                var nbb_cells = Jupyter.notebook.get_cells();\n",
       "                for (var i = 0; i < nbb_cells.length; ++i) {\n",
       "                    if (nbb_cells[i].input_prompt_number == nbb_cell_id) {\n",
       "                        if (nbb_cells[i].get_text() == nbb_unformatted_code) {\n",
       "                             nbb_cells[i].set_text(nbb_formatted_code);\n",
       "                        }\n",
       "                        break;\n",
       "                    }\n",
       "                }\n",
       "            }, 500);\n",
       "            "
      ],
      "text/plain": [
       "<IPython.core.display.Javascript object>"
      ]
     },
     "metadata": {},
     "output_type": "display_data"
    }
   ],
   "source": [
    "pelnas_top_100_2020 = (\n",
    "    df_of_2020.groupby([\"obj_pav_x\", \"obj_kodas\"])[\"grynasis_pelnas\"]\n",
    "    .sum()\n",
    "    .sort_values(ascending=False)[0:100]\n",
    "    .to_frame()\n",
    ")"
   ]
  },
  {
   "cell_type": "code",
   "execution_count": 82,
   "id": "0e7f1433",
   "metadata": {
    "ExecuteTime": {
     "end_time": "2022-12-08T18:25:31.460150Z",
     "start_time": "2022-12-08T18:25:31.408246Z"
    }
   },
   "outputs": [
    {
     "data": {
      "text/plain": [
       "53"
      ]
     },
     "execution_count": 82,
     "metadata": {},
     "output_type": "execute_result"
    },
    {
     "data": {
      "application/javascript": [
       "\n",
       "            setTimeout(function() {\n",
       "                var nbb_cell_id = 82;\n",
       "                var nbb_unformatted_code = \"len(\\n    pd.merge(\\n        pelnas_top_100_2021, pelnas_top_100_2020, left_index=True, right_index=True\\n    )\\n)\";\n",
       "                var nbb_formatted_code = \"len(\\n    pd.merge(\\n        pelnas_top_100_2021, pelnas_top_100_2020, left_index=True, right_index=True\\n    )\\n)\";\n",
       "                var nbb_cells = Jupyter.notebook.get_cells();\n",
       "                for (var i = 0; i < nbb_cells.length; ++i) {\n",
       "                    if (nbb_cells[i].input_prompt_number == nbb_cell_id) {\n",
       "                        if (nbb_cells[i].get_text() == nbb_unformatted_code) {\n",
       "                             nbb_cells[i].set_text(nbb_formatted_code);\n",
       "                        }\n",
       "                        break;\n",
       "                    }\n",
       "                }\n",
       "            }, 500);\n",
       "            "
      ],
      "text/plain": [
       "<IPython.core.display.Javascript object>"
      ]
     },
     "metadata": {},
     "output_type": "display_data"
    }
   ],
   "source": [
    "len(\n",
    "    pd.merge(\n",
    "        pelnas_top_100_2021, pelnas_top_100_2020, left_index=True, right_index=True\n",
    "    )\n",
    ")"
   ]
  },
  {
   "cell_type": "markdown",
   "id": "fdea327e",
   "metadata": {},
   "source": [
    "53 įmonės pagal pelną patenka į Top_100 ir 2021 ir 2020 m."
   ]
  },
  {
   "cell_type": "code",
   "execution_count": 83,
   "id": "197f02e3",
   "metadata": {
    "ExecuteTime": {
     "end_time": "2022-12-08T18:25:45.761021Z",
     "start_time": "2022-12-08T18:25:45.584493Z"
    }
   },
   "outputs": [
    {
     "data": {
      "application/javascript": [
       "\n",
       "            setTimeout(function() {\n",
       "                var nbb_cell_id = 83;\n",
       "                var nbb_unformatted_code = \"pelnas_top_10_2021 = (\\n    df_of_2021.groupby([\\\"obj_pav_x\\\", \\\"obj_kodas\\\"])[\\\"grynasis_pelnas\\\"]\\n    .sum()\\n    .sort_values(ascending=False)[0:10]\\n    .to_frame()\\n)\";\n",
       "                var nbb_formatted_code = \"pelnas_top_10_2021 = (\\n    df_of_2021.groupby([\\\"obj_pav_x\\\", \\\"obj_kodas\\\"])[\\\"grynasis_pelnas\\\"]\\n    .sum()\\n    .sort_values(ascending=False)[0:10]\\n    .to_frame()\\n)\";\n",
       "                var nbb_cells = Jupyter.notebook.get_cells();\n",
       "                for (var i = 0; i < nbb_cells.length; ++i) {\n",
       "                    if (nbb_cells[i].input_prompt_number == nbb_cell_id) {\n",
       "                        if (nbb_cells[i].get_text() == nbb_unformatted_code) {\n",
       "                             nbb_cells[i].set_text(nbb_formatted_code);\n",
       "                        }\n",
       "                        break;\n",
       "                    }\n",
       "                }\n",
       "            }, 500);\n",
       "            "
      ],
      "text/plain": [
       "<IPython.core.display.Javascript object>"
      ]
     },
     "metadata": {},
     "output_type": "display_data"
    }
   ],
   "source": [
    "pelnas_top_10_2021 = (\n",
    "    df_of_2021.groupby([\"obj_pav_x\", \"obj_kodas\"])[\"grynasis_pelnas\"]\n",
    "    .sum()\n",
    "    .sort_values(ascending=False)[0:10]\n",
    "    .to_frame()\n",
    ")"
   ]
  },
  {
   "cell_type": "code",
   "execution_count": 84,
   "id": "9f124d1b",
   "metadata": {
    "ExecuteTime": {
     "end_time": "2022-12-08T18:25:50.958059Z",
     "start_time": "2022-12-08T18:25:50.803431Z"
    }
   },
   "outputs": [
    {
     "data": {
      "application/javascript": [
       "\n",
       "            setTimeout(function() {\n",
       "                var nbb_cell_id = 84;\n",
       "                var nbb_unformatted_code = \"pelnas_top_10_2020 = (\\n    df_of_2020.groupby([\\\"obj_pav_x\\\", \\\"obj_kodas\\\"])[\\\"grynasis_pelnas\\\"]\\n    .sum()\\n    .sort_values(ascending=False)[0:10]\\n    .to_frame()\\n)\";\n",
       "                var nbb_formatted_code = \"pelnas_top_10_2020 = (\\n    df_of_2020.groupby([\\\"obj_pav_x\\\", \\\"obj_kodas\\\"])[\\\"grynasis_pelnas\\\"]\\n    .sum()\\n    .sort_values(ascending=False)[0:10]\\n    .to_frame()\\n)\";\n",
       "                var nbb_cells = Jupyter.notebook.get_cells();\n",
       "                for (var i = 0; i < nbb_cells.length; ++i) {\n",
       "                    if (nbb_cells[i].input_prompt_number == nbb_cell_id) {\n",
       "                        if (nbb_cells[i].get_text() == nbb_unformatted_code) {\n",
       "                             nbb_cells[i].set_text(nbb_formatted_code);\n",
       "                        }\n",
       "                        break;\n",
       "                    }\n",
       "                }\n",
       "            }, 500);\n",
       "            "
      ],
      "text/plain": [
       "<IPython.core.display.Javascript object>"
      ]
     },
     "metadata": {},
     "output_type": "display_data"
    }
   ],
   "source": [
    "pelnas_top_10_2020 = (\n",
    "    df_of_2020.groupby([\"obj_pav_x\", \"obj_kodas\"])[\"grynasis_pelnas\"]\n",
    "    .sum()\n",
    "    .sort_values(ascending=False)[0:10]\n",
    "    .to_frame()\n",
    ")"
   ]
  },
  {
   "cell_type": "code",
   "execution_count": 85,
   "id": "5fe73887",
   "metadata": {
    "ExecuteTime": {
     "end_time": "2022-12-08T18:25:54.254432Z",
     "start_time": "2022-12-08T18:25:54.187613Z"
    }
   },
   "outputs": [
    {
     "data": {
      "text/html": [
       "<div>\n",
       "<style scoped>\n",
       "    .dataframe tbody tr th:only-of-type {\n",
       "        vertical-align: middle;\n",
       "    }\n",
       "\n",
       "    .dataframe tbody tr th {\n",
       "        vertical-align: top;\n",
       "    }\n",
       "\n",
       "    .dataframe thead th {\n",
       "        text-align: right;\n",
       "    }\n",
       "</style>\n",
       "<table border=\"1\" class=\"dataframe\">\n",
       "  <thead>\n",
       "    <tr style=\"text-align: right;\">\n",
       "      <th></th>\n",
       "      <th></th>\n",
       "      <th>grynasis_pelnas_x</th>\n",
       "      <th>grynasis_pelnas_y</th>\n",
       "    </tr>\n",
       "    <tr>\n",
       "      <th>obj_pav_x</th>\n",
       "      <th>obj_kodas</th>\n",
       "      <th></th>\n",
       "      <th></th>\n",
       "    </tr>\n",
       "  </thead>\n",
       "  <tbody>\n",
       "    <tr>\n",
       "      <th>UAB \"Thermo Fisher Scientific Baltics\"</th>\n",
       "      <th>122351387</th>\n",
       "      <td>405474058.0</td>\n",
       "      <td>246597137.0</td>\n",
       "    </tr>\n",
       "    <tr>\n",
       "      <th>MAXIMA LT UAB</th>\n",
       "      <th>123033512</th>\n",
       "      <td>219700000.0</td>\n",
       "      <td>83641000.0</td>\n",
       "    </tr>\n",
       "    <tr>\n",
       "      <th>UAB \"TELE2\"</th>\n",
       "      <th>111471645</th>\n",
       "      <td>64809000.0</td>\n",
       "      <td>56625000.0</td>\n",
       "    </tr>\n",
       "    <tr>\n",
       "      <th>UAB \"ME investicija\"</th>\n",
       "      <th>302489393</th>\n",
       "      <td>59597076.0</td>\n",
       "      <td>65718272.0</td>\n",
       "    </tr>\n",
       "    <tr>\n",
       "      <th>Telia Lietuva AB</th>\n",
       "      <th>121215434</th>\n",
       "      <td>55914000.0</td>\n",
       "      <td>54889000.0</td>\n",
       "    </tr>\n",
       "  </tbody>\n",
       "</table>\n",
       "</div>"
      ],
      "text/plain": [
       "                                                  grynasis_pelnas_x  \\\n",
       "obj_pav_x                              obj_kodas                      \n",
       "UAB \"Thermo Fisher Scientific Baltics\" 122351387        405474058.0   \n",
       "MAXIMA LT UAB                          123033512        219700000.0   \n",
       "UAB \"TELE2\"                            111471645         64809000.0   \n",
       "UAB \"ME investicija\"                   302489393         59597076.0   \n",
       "Telia Lietuva AB                       121215434         55914000.0   \n",
       "\n",
       "                                                  grynasis_pelnas_y  \n",
       "obj_pav_x                              obj_kodas                     \n",
       "UAB \"Thermo Fisher Scientific Baltics\" 122351387        246597137.0  \n",
       "MAXIMA LT UAB                          123033512         83641000.0  \n",
       "UAB \"TELE2\"                            111471645         56625000.0  \n",
       "UAB \"ME investicija\"                   302489393         65718272.0  \n",
       "Telia Lietuva AB                       121215434         54889000.0  "
      ]
     },
     "execution_count": 85,
     "metadata": {},
     "output_type": "execute_result"
    },
    {
     "data": {
      "application/javascript": [
       "\n",
       "            setTimeout(function() {\n",
       "                var nbb_cell_id = 85;\n",
       "                var nbb_unformatted_code = \"pd.merge(pelnas_top_10_2021, pelnas_top_10_2020, left_index=True, right_index=True)\";\n",
       "                var nbb_formatted_code = \"pd.merge(pelnas_top_10_2021, pelnas_top_10_2020, left_index=True, right_index=True)\";\n",
       "                var nbb_cells = Jupyter.notebook.get_cells();\n",
       "                for (var i = 0; i < nbb_cells.length; ++i) {\n",
       "                    if (nbb_cells[i].input_prompt_number == nbb_cell_id) {\n",
       "                        if (nbb_cells[i].get_text() == nbb_unformatted_code) {\n",
       "                             nbb_cells[i].set_text(nbb_formatted_code);\n",
       "                        }\n",
       "                        break;\n",
       "                    }\n",
       "                }\n",
       "            }, 500);\n",
       "            "
      ],
      "text/plain": [
       "<IPython.core.display.Javascript object>"
      ]
     },
     "metadata": {},
     "output_type": "display_data"
    }
   ],
   "source": [
    "pd.merge(pelnas_top_10_2021, pelnas_top_10_2020, left_index=True, right_index=True)"
   ]
  },
  {
   "cell_type": "markdown",
   "id": "1353f8c8",
   "metadata": {},
   "source": [
    "5 įmonės pagal pelną patenka į Top_10 ir 2021 ir 2020 m."
   ]
  },
  {
   "cell_type": "markdown",
   "id": "9a7039d1",
   "metadata": {},
   "source": [
    "# Trečia dalis"
   ]
  },
  {
   "cell_type": "markdown",
   "id": "1fbb2107",
   "metadata": {},
   "source": [
    "Jūs norite įsigyti labai mažą arba mažą įmonę."
   ]
  },
  {
   "cell_type": "markdown",
   "id": "f10f19e5",
   "metadata": {},
   "source": [
    "## Jums prieinamą finansinę informaciją papildykite (https://atvira.sodra.lt/imones/rinkiniai/index.html)\n",
    "    a. darbuotojų skaičiumi (2020, 2021 metais)\n",
    "    b. atlyginimų istoriją.\n",
    "    c. veiklos sritimi."
   ]
  },
  {
   "cell_type": "code",
   "execution_count": 87,
   "id": "72300338",
   "metadata": {
    "ExecuteTime": {
     "end_time": "2022-12-08T18:27:15.329051Z",
     "start_time": "2022-12-08T18:27:12.804664Z"
    }
   },
   "outputs": [
    {
     "data": {
      "application/javascript": [
       "\n",
       "            setTimeout(function() {\n",
       "                var nbb_cell_id = 87;\n",
       "                var nbb_unformatted_code = \"monthly_2020 = pd.read_csv(\\\"monthly-2020.csv\\\", sep=\\\";\\\")\\nmonthly_2019 = pd.read_csv(\\\"monthly-2019.csv\\\", sep=\\\";\\\")\";\n",
       "                var nbb_formatted_code = \"monthly_2020 = pd.read_csv(\\\"monthly-2020.csv\\\", sep=\\\";\\\")\\nmonthly_2019 = pd.read_csv(\\\"monthly-2019.csv\\\", sep=\\\";\\\")\";\n",
       "                var nbb_cells = Jupyter.notebook.get_cells();\n",
       "                for (var i = 0; i < nbb_cells.length; ++i) {\n",
       "                    if (nbb_cells[i].input_prompt_number == nbb_cell_id) {\n",
       "                        if (nbb_cells[i].get_text() == nbb_unformatted_code) {\n",
       "                             nbb_cells[i].set_text(nbb_formatted_code);\n",
       "                        }\n",
       "                        break;\n",
       "                    }\n",
       "                }\n",
       "            }, 500);\n",
       "            "
      ],
      "text/plain": [
       "<IPython.core.display.Javascript object>"
      ]
     },
     "metadata": {},
     "output_type": "display_data"
    }
   ],
   "source": [
    "monthly_2020 = pd.read_csv(\"monthly-2020.csv\", sep=\";\")\n",
    "monthly_2019 = pd.read_csv(\"monthly-2019.csv\", sep=\";\")"
   ]
  },
  {
   "cell_type": "code",
   "execution_count": 88,
   "id": "ed0e72cb",
   "metadata": {
    "ExecuteTime": {
     "end_time": "2022-12-08T18:27:16.394633Z",
     "start_time": "2022-12-08T18:27:16.301896Z"
    }
   },
   "outputs": [
    {
     "data": {
      "application/javascript": [
       "\n",
       "            setTimeout(function() {\n",
       "                var nbb_cell_id = 88;\n",
       "                var nbb_unformatted_code = \"# Filter needed columns\\n\\nmonthly_2019 = monthly_2019[\\n    [\\n        \\\"Juridini\\u0173 asmen\\u0173 registro kodas (jarCode)\\\",\\n        \\\"Pavadinimas (name)\\\",\\n        \\\"Vidutinis darbo u\\u017emokestis (avgWage)\\\",\\n        \\\"Ekonomin\\u0117s veiklos r\\u016b\\u0161ies pavadinimas(ecoActName)\\\",\\n        \\\"Apdraust\\u0173j\\u0173 skai\\u010dius (numInsured)\\\",\\n        \\\"Ekonomin\\u0117s veiklos r\\u016b\\u0161ies kodas(ecoActCode)\\\",\\n        \\\"Savivaldyb\\u0117, kurioje registruota(municipality)\\\",\\n    ]\\n]\\nmonthly_2020 = monthly_2020[\\n    [\\n        \\\"Juridini\\u0173 asmen\\u0173 registro kodas (jarCode)\\\",\\n        \\\"Pavadinimas (name)\\\",\\n        \\\"Vidutinis darbo u\\u017emokestis (avgWage)\\\",\\n        \\\"Ekonomin\\u0117s veiklos r\\u016b\\u0161ies pavadinimas(ecoActName)\\\",\\n        \\\"Apdraust\\u0173j\\u0173 skai\\u010dius (numInsured)\\\",\\n        \\\"Ekonomin\\u0117s veiklos r\\u016b\\u0161ies kodas(ecoActCode)\\\",\\n        \\\"Savivaldyb\\u0117, kurioje registruota(municipality)\\\",\\n    ]\\n]\";\n",
       "                var nbb_formatted_code = \"# Filter needed columns\\n\\nmonthly_2019 = monthly_2019[\\n    [\\n        \\\"Juridini\\u0173 asmen\\u0173 registro kodas (jarCode)\\\",\\n        \\\"Pavadinimas (name)\\\",\\n        \\\"Vidutinis darbo u\\u017emokestis (avgWage)\\\",\\n        \\\"Ekonomin\\u0117s veiklos r\\u016b\\u0161ies pavadinimas(ecoActName)\\\",\\n        \\\"Apdraust\\u0173j\\u0173 skai\\u010dius (numInsured)\\\",\\n        \\\"Ekonomin\\u0117s veiklos r\\u016b\\u0161ies kodas(ecoActCode)\\\",\\n        \\\"Savivaldyb\\u0117, kurioje registruota(municipality)\\\",\\n    ]\\n]\\nmonthly_2020 = monthly_2020[\\n    [\\n        \\\"Juridini\\u0173 asmen\\u0173 registro kodas (jarCode)\\\",\\n        \\\"Pavadinimas (name)\\\",\\n        \\\"Vidutinis darbo u\\u017emokestis (avgWage)\\\",\\n        \\\"Ekonomin\\u0117s veiklos r\\u016b\\u0161ies pavadinimas(ecoActName)\\\",\\n        \\\"Apdraust\\u0173j\\u0173 skai\\u010dius (numInsured)\\\",\\n        \\\"Ekonomin\\u0117s veiklos r\\u016b\\u0161ies kodas(ecoActCode)\\\",\\n        \\\"Savivaldyb\\u0117, kurioje registruota(municipality)\\\",\\n    ]\\n]\";\n",
       "                var nbb_cells = Jupyter.notebook.get_cells();\n",
       "                for (var i = 0; i < nbb_cells.length; ++i) {\n",
       "                    if (nbb_cells[i].input_prompt_number == nbb_cell_id) {\n",
       "                        if (nbb_cells[i].get_text() == nbb_unformatted_code) {\n",
       "                             nbb_cells[i].set_text(nbb_formatted_code);\n",
       "                        }\n",
       "                        break;\n",
       "                    }\n",
       "                }\n",
       "            }, 500);\n",
       "            "
      ],
      "text/plain": [
       "<IPython.core.display.Javascript object>"
      ]
     },
     "metadata": {},
     "output_type": "display_data"
    }
   ],
   "source": [
    "# Filter needed columns\n",
    "\n",
    "monthly_2019 = monthly_2019[\n",
    "    [\n",
    "        \"Juridinių asmenų registro kodas (jarCode)\",\n",
    "        \"Pavadinimas (name)\",\n",
    "        \"Vidutinis darbo užmokestis (avgWage)\",\n",
    "        \"Ekonominės veiklos rūšies pavadinimas(ecoActName)\",\n",
    "        \"Apdraustųjų skaičius (numInsured)\",\n",
    "        \"Ekonominės veiklos rūšies kodas(ecoActCode)\",\n",
    "        \"Savivaldybė, kurioje registruota(municipality)\",\n",
    "    ]\n",
    "]\n",
    "monthly_2020 = monthly_2020[\n",
    "    [\n",
    "        \"Juridinių asmenų registro kodas (jarCode)\",\n",
    "        \"Pavadinimas (name)\",\n",
    "        \"Vidutinis darbo užmokestis (avgWage)\",\n",
    "        \"Ekonominės veiklos rūšies pavadinimas(ecoActName)\",\n",
    "        \"Apdraustųjų skaičius (numInsured)\",\n",
    "        \"Ekonominės veiklos rūšies kodas(ecoActCode)\",\n",
    "        \"Savivaldybė, kurioje registruota(municipality)\",\n",
    "    ]\n",
    "]"
   ]
  },
  {
   "cell_type": "code",
   "execution_count": 89,
   "id": "ee99e539",
   "metadata": {
    "ExecuteTime": {
     "end_time": "2022-12-08T18:27:17.979391Z",
     "start_time": "2022-12-08T18:27:17.696227Z"
    }
   },
   "outputs": [
    {
     "data": {
      "application/javascript": [
       "\n",
       "            setTimeout(function() {\n",
       "                var nbb_cell_id = 89;\n",
       "                var nbb_unformatted_code = \"# Count avg of salary from monthly data:\\n\\nmonthly_2019 = (\\n    monthly_2019.groupby([\\\"Juridini\\u0173 asmen\\u0173 registro kodas (jarCode)\\\"])\\n    .agg(\\n        {\\n            \\\"Vidutinis darbo u\\u017emokestis (avgWage)\\\": \\\"mean\\\",\\n            \\\"Ekonomin\\u0117s veiklos r\\u016b\\u0161ies pavadinimas(ecoActName)\\\": \\\"first\\\",\\n            \\\"Apdraust\\u0173j\\u0173 skai\\u010dius (numInsured)\\\": \\\"last\\\",\\n            \\\"Ekonomin\\u0117s veiklos r\\u016b\\u0161ies kodas(ecoActCode)\\\": \\\"last\\\",\\n            \\\"Savivaldyb\\u0117, kurioje registruota(municipality)\\\": \\\"last\\\",\\n        }\\n    )\\n    .reset_index()\\n)\\n\\nmonthly_2020 = (\\n    monthly_2020.groupby([\\\"Juridini\\u0173 asmen\\u0173 registro kodas (jarCode)\\\"])\\n    .agg(\\n        {\\n            \\\"Vidutinis darbo u\\u017emokestis (avgWage)\\\": \\\"mean\\\",\\n            \\\"Ekonomin\\u0117s veiklos r\\u016b\\u0161ies pavadinimas(ecoActName)\\\": \\\"first\\\",\\n            \\\"Apdraust\\u0173j\\u0173 skai\\u010dius (numInsured)\\\": \\\"last\\\",\\n            \\\"Ekonomin\\u0117s veiklos r\\u016b\\u0161ies kodas(ecoActCode)\\\": \\\"last\\\",\\n            \\\"Savivaldyb\\u0117, kurioje registruota(municipality)\\\": \\\"last\\\",\\n        }\\n    )\\n    .reset_index()\\n)\";\n",
       "                var nbb_formatted_code = \"# Count avg of salary from monthly data:\\n\\nmonthly_2019 = (\\n    monthly_2019.groupby([\\\"Juridini\\u0173 asmen\\u0173 registro kodas (jarCode)\\\"])\\n    .agg(\\n        {\\n            \\\"Vidutinis darbo u\\u017emokestis (avgWage)\\\": \\\"mean\\\",\\n            \\\"Ekonomin\\u0117s veiklos r\\u016b\\u0161ies pavadinimas(ecoActName)\\\": \\\"first\\\",\\n            \\\"Apdraust\\u0173j\\u0173 skai\\u010dius (numInsured)\\\": \\\"last\\\",\\n            \\\"Ekonomin\\u0117s veiklos r\\u016b\\u0161ies kodas(ecoActCode)\\\": \\\"last\\\",\\n            \\\"Savivaldyb\\u0117, kurioje registruota(municipality)\\\": \\\"last\\\",\\n        }\\n    )\\n    .reset_index()\\n)\\n\\nmonthly_2020 = (\\n    monthly_2020.groupby([\\\"Juridini\\u0173 asmen\\u0173 registro kodas (jarCode)\\\"])\\n    .agg(\\n        {\\n            \\\"Vidutinis darbo u\\u017emokestis (avgWage)\\\": \\\"mean\\\",\\n            \\\"Ekonomin\\u0117s veiklos r\\u016b\\u0161ies pavadinimas(ecoActName)\\\": \\\"first\\\",\\n            \\\"Apdraust\\u0173j\\u0173 skai\\u010dius (numInsured)\\\": \\\"last\\\",\\n            \\\"Ekonomin\\u0117s veiklos r\\u016b\\u0161ies kodas(ecoActCode)\\\": \\\"last\\\",\\n            \\\"Savivaldyb\\u0117, kurioje registruota(municipality)\\\": \\\"last\\\",\\n        }\\n    )\\n    .reset_index()\\n)\";\n",
       "                var nbb_cells = Jupyter.notebook.get_cells();\n",
       "                for (var i = 0; i < nbb_cells.length; ++i) {\n",
       "                    if (nbb_cells[i].input_prompt_number == nbb_cell_id) {\n",
       "                        if (nbb_cells[i].get_text() == nbb_unformatted_code) {\n",
       "                             nbb_cells[i].set_text(nbb_formatted_code);\n",
       "                        }\n",
       "                        break;\n",
       "                    }\n",
       "                }\n",
       "            }, 500);\n",
       "            "
      ],
      "text/plain": [
       "<IPython.core.display.Javascript object>"
      ]
     },
     "metadata": {},
     "output_type": "display_data"
    }
   ],
   "source": [
    "# Count avg of salary from monthly data:\n",
    "\n",
    "monthly_2019 = (\n",
    "    monthly_2019.groupby([\"Juridinių asmenų registro kodas (jarCode)\"])\n",
    "    .agg(\n",
    "        {\n",
    "            \"Vidutinis darbo užmokestis (avgWage)\": \"mean\",\n",
    "            \"Ekonominės veiklos rūšies pavadinimas(ecoActName)\": \"first\",\n",
    "            \"Apdraustųjų skaičius (numInsured)\": \"last\",\n",
    "            \"Ekonominės veiklos rūšies kodas(ecoActCode)\": \"last\",\n",
    "            \"Savivaldybė, kurioje registruota(municipality)\": \"last\",\n",
    "        }\n",
    "    )\n",
    "    .reset_index()\n",
    ")\n",
    "\n",
    "monthly_2020 = (\n",
    "    monthly_2020.groupby([\"Juridinių asmenų registro kodas (jarCode)\"])\n",
    "    .agg(\n",
    "        {\n",
    "            \"Vidutinis darbo užmokestis (avgWage)\": \"mean\",\n",
    "            \"Ekonominės veiklos rūšies pavadinimas(ecoActName)\": \"first\",\n",
    "            \"Apdraustųjų skaičius (numInsured)\": \"last\",\n",
    "            \"Ekonominės veiklos rūšies kodas(ecoActCode)\": \"last\",\n",
    "            \"Savivaldybė, kurioje registruota(municipality)\": \"last\",\n",
    "        }\n",
    "    )\n",
    "    .reset_index()\n",
    ")"
   ]
  },
  {
   "cell_type": "code",
   "execution_count": 90,
   "id": "d788e170",
   "metadata": {
    "ExecuteTime": {
     "end_time": "2022-12-08T18:27:19.707441Z",
     "start_time": "2022-12-08T18:27:19.472189Z"
    }
   },
   "outputs": [
    {
     "data": {
      "application/javascript": [
       "\n",
       "            setTimeout(function() {\n",
       "                var nbb_cell_id = 90;\n",
       "                var nbb_unformatted_code = \"# Add new columns to dataframes\\n\\ndf_of_2020_su_sodra = df_of_2020.merge(\\n    monthly_2019,\\n    how=\\\"inner\\\",\\n    left_on=\\\"obj_kodas\\\",\\n    right_on=\\\"Juridini\\u0173 asmen\\u0173 registro kodas (jarCode)\\\",\\n    left_index=False,\\n    right_index=False,\\n)\\n\\ndf_of_2021_su_sodra = df_of_2021.merge(\\n    monthly_2020,\\n    how=\\\"inner\\\",\\n    left_on=\\\"obj_kodas\\\",\\n    right_on=\\\"Juridini\\u0173 asmen\\u0173 registro kodas (jarCode)\\\",\\n    left_index=False,\\n    right_index=False,\\n)\";\n",
       "                var nbb_formatted_code = \"# Add new columns to dataframes\\n\\ndf_of_2020_su_sodra = df_of_2020.merge(\\n    monthly_2019,\\n    how=\\\"inner\\\",\\n    left_on=\\\"obj_kodas\\\",\\n    right_on=\\\"Juridini\\u0173 asmen\\u0173 registro kodas (jarCode)\\\",\\n    left_index=False,\\n    right_index=False,\\n)\\n\\ndf_of_2021_su_sodra = df_of_2021.merge(\\n    monthly_2020,\\n    how=\\\"inner\\\",\\n    left_on=\\\"obj_kodas\\\",\\n    right_on=\\\"Juridini\\u0173 asmen\\u0173 registro kodas (jarCode)\\\",\\n    left_index=False,\\n    right_index=False,\\n)\";\n",
       "                var nbb_cells = Jupyter.notebook.get_cells();\n",
       "                for (var i = 0; i < nbb_cells.length; ++i) {\n",
       "                    if (nbb_cells[i].input_prompt_number == nbb_cell_id) {\n",
       "                        if (nbb_cells[i].get_text() == nbb_unformatted_code) {\n",
       "                             nbb_cells[i].set_text(nbb_formatted_code);\n",
       "                        }\n",
       "                        break;\n",
       "                    }\n",
       "                }\n",
       "            }, 500);\n",
       "            "
      ],
      "text/plain": [
       "<IPython.core.display.Javascript object>"
      ]
     },
     "metadata": {},
     "output_type": "display_data"
    }
   ],
   "source": [
    "# Add new columns to dataframes\n",
    "\n",
    "df_of_2020_su_sodra = df_of_2020.merge(\n",
    "    monthly_2019,\n",
    "    how=\"inner\",\n",
    "    left_on=\"obj_kodas\",\n",
    "    right_on=\"Juridinių asmenų registro kodas (jarCode)\",\n",
    "    left_index=False,\n",
    "    right_index=False,\n",
    ")\n",
    "\n",
    "df_of_2021_su_sodra = df_of_2021.merge(\n",
    "    monthly_2020,\n",
    "    how=\"inner\",\n",
    "    left_on=\"obj_kodas\",\n",
    "    right_on=\"Juridinių asmenų registro kodas (jarCode)\",\n",
    "    left_index=False,\n",
    "    right_index=False,\n",
    ")"
   ]
  },
  {
   "cell_type": "markdown",
   "id": "1a42d01b",
   "metadata": {
    "ExecuteTime": {
     "end_time": "2022-12-08T16:43:12.436563Z",
     "start_time": "2022-12-08T16:43:12.425021Z"
    }
   },
   "source": [
    "## Galutinis duomenų masyvas turi atrodyti kaip 3_uzduotis_data_sample.csv. [0.5 taško]"
   ]
  },
  {
   "cell_type": "markdown",
   "id": "1b3e60a5",
   "metadata": {},
   "source": [
    "### Svarbu atkreipti dėmesį į finasinių duomenų ir sodros duomenų datas ir galimus prasilenkimus. Rekomeduojam vidutinį darbuotojų skaičių imti finansinių metų paskutinį mėnesį."
   ]
  },
  {
   "cell_type": "code",
   "execution_count": 93,
   "id": "85dde229",
   "metadata": {
    "ExecuteTime": {
     "end_time": "2022-12-08T18:27:32.645628Z",
     "start_time": "2022-12-08T18:27:32.631661Z"
    }
   },
   "outputs": [
    {
     "data": {
      "application/javascript": [
       "\n",
       "            setTimeout(function() {\n",
       "                var nbb_cell_id = 93;\n",
       "                var nbb_unformatted_code = \"column_names = [\\n    \\\"obj_kodas\\\",\\n    \\\"obj_pav\\\",\\n    \\\"form_pav\\\",\\n    \\\"veiklos_kodas\\\",\\n    \\\"veiklos_aprasymas\\\",\\n    \\\"savivaldybe\\\",\\n    \\\"nuosavas_kapitalas_20\\\",\\n    \\\"mok_sumos_ir_isipareigojimai_20\\\",\\n    \\\"ilgalaikis_turtas_20\\\",\\n    \\\"trumpalaikis_turtas_20\\\",\\n    \\\"pardavimo_pajamos_20\\\",\\n    \\\"grynasis_pelnas_20\\\",\\n    \\\"vid_atlyginimas_20\\\",\\n    \\\"darbuotoju_skaicius_20\\\",\\n    \\\"nuosavas_kapitalas_21\\\",\\n    \\\"mok_sumos_ir_isipareigojimai_21\\\",\\n    \\\"ilgalaikis_turtas_21\\\",\\n    \\\"trumpalaikis_turtas_21\\\",\\n    \\\"pardavimo_pajamos_21\\\",\\n    \\\"grynasis_pelnas_21\\\",\\n    \\\"vid_atlyginimas_21\\\",\\n    \\\"darbuotoju_skaicius_21\\\",\\n]\";\n",
       "                var nbb_formatted_code = \"column_names = [\\n    \\\"obj_kodas\\\",\\n    \\\"obj_pav\\\",\\n    \\\"form_pav\\\",\\n    \\\"veiklos_kodas\\\",\\n    \\\"veiklos_aprasymas\\\",\\n    \\\"savivaldybe\\\",\\n    \\\"nuosavas_kapitalas_20\\\",\\n    \\\"mok_sumos_ir_isipareigojimai_20\\\",\\n    \\\"ilgalaikis_turtas_20\\\",\\n    \\\"trumpalaikis_turtas_20\\\",\\n    \\\"pardavimo_pajamos_20\\\",\\n    \\\"grynasis_pelnas_20\\\",\\n    \\\"vid_atlyginimas_20\\\",\\n    \\\"darbuotoju_skaicius_20\\\",\\n    \\\"nuosavas_kapitalas_21\\\",\\n    \\\"mok_sumos_ir_isipareigojimai_21\\\",\\n    \\\"ilgalaikis_turtas_21\\\",\\n    \\\"trumpalaikis_turtas_21\\\",\\n    \\\"pardavimo_pajamos_21\\\",\\n    \\\"grynasis_pelnas_21\\\",\\n    \\\"vid_atlyginimas_21\\\",\\n    \\\"darbuotoju_skaicius_21\\\",\\n]\";\n",
       "                var nbb_cells = Jupyter.notebook.get_cells();\n",
       "                for (var i = 0; i < nbb_cells.length; ++i) {\n",
       "                    if (nbb_cells[i].input_prompt_number == nbb_cell_id) {\n",
       "                        if (nbb_cells[i].get_text() == nbb_unformatted_code) {\n",
       "                             nbb_cells[i].set_text(nbb_formatted_code);\n",
       "                        }\n",
       "                        break;\n",
       "                    }\n",
       "                }\n",
       "            }, 500);\n",
       "            "
      ],
      "text/plain": [
       "<IPython.core.display.Javascript object>"
      ]
     },
     "metadata": {},
     "output_type": "display_data"
    }
   ],
   "source": [
    "column_names = [\n",
    "    \"obj_kodas\",\n",
    "    \"obj_pav\",\n",
    "    \"form_pav\",\n",
    "    \"veiklos_kodas\",\n",
    "    \"veiklos_aprasymas\",\n",
    "    \"savivaldybe\",\n",
    "    \"nuosavas_kapitalas_20\",\n",
    "    \"mok_sumos_ir_isipareigojimai_20\",\n",
    "    \"ilgalaikis_turtas_20\",\n",
    "    \"trumpalaikis_turtas_20\",\n",
    "    \"pardavimo_pajamos_20\",\n",
    "    \"grynasis_pelnas_20\",\n",
    "    \"vid_atlyginimas_20\",\n",
    "    \"darbuotoju_skaicius_20\",\n",
    "    \"nuosavas_kapitalas_21\",\n",
    "    \"mok_sumos_ir_isipareigojimai_21\",\n",
    "    \"ilgalaikis_turtas_21\",\n",
    "    \"trumpalaikis_turtas_21\",\n",
    "    \"pardavimo_pajamos_21\",\n",
    "    \"grynasis_pelnas_21\",\n",
    "    \"vid_atlyginimas_21\",\n",
    "    \"darbuotoju_skaicius_21\",\n",
    "]\n"
   ]
  },
  {
   "cell_type": "code",
   "execution_count": 94,
   "id": "0476ecde",
   "metadata": {
    "ExecuteTime": {
     "end_time": "2022-12-08T18:27:34.731801Z",
     "start_time": "2022-12-08T18:27:34.543259Z"
    }
   },
   "outputs": [
    {
     "data": {
      "application/javascript": [
       "\n",
       "            setTimeout(function() {\n",
       "                var nbb_cell_id = 94;\n",
       "                var nbb_unformatted_code = \"# Create full dataframe with additional info\\n\\nfull_df_su_sodra = df_of_2021_su_sodra.merge(\\n    df_of_2020_su_sodra,\\n    how=\\\"inner\\\",\\n    left_on=\\\"obj_kodas\\\",\\n    right_on=\\\"obj_kodas\\\",\\n    left_index=False,\\n    right_index=False,\\n)\";\n",
       "                var nbb_formatted_code = \"# Create full dataframe with additional info\\n\\nfull_df_su_sodra = df_of_2021_su_sodra.merge(\\n    df_of_2020_su_sodra,\\n    how=\\\"inner\\\",\\n    left_on=\\\"obj_kodas\\\",\\n    right_on=\\\"obj_kodas\\\",\\n    left_index=False,\\n    right_index=False,\\n)\";\n",
       "                var nbb_cells = Jupyter.notebook.get_cells();\n",
       "                for (var i = 0; i < nbb_cells.length; ++i) {\n",
       "                    if (nbb_cells[i].input_prompt_number == nbb_cell_id) {\n",
       "                        if (nbb_cells[i].get_text() == nbb_unformatted_code) {\n",
       "                             nbb_cells[i].set_text(nbb_formatted_code);\n",
       "                        }\n",
       "                        break;\n",
       "                    }\n",
       "                }\n",
       "            }, 500);\n",
       "            "
      ],
      "text/plain": [
       "<IPython.core.display.Javascript object>"
      ]
     },
     "metadata": {},
     "output_type": "display_data"
    }
   ],
   "source": [
    "# Create full dataframe with additional info\n",
    "\n",
    "full_df_su_sodra = df_of_2021_su_sodra.merge(\n",
    "    df_of_2020_su_sodra,\n",
    "    how=\"inner\",\n",
    "    left_on=\"obj_kodas\",\n",
    "    right_on=\"obj_kodas\",\n",
    "    left_index=False,\n",
    "    right_index=False,\n",
    ")"
   ]
  },
  {
   "cell_type": "code",
   "execution_count": 96,
   "id": "701c7e4f",
   "metadata": {
    "ExecuteTime": {
     "end_time": "2022-12-08T18:28:09.247740Z",
     "start_time": "2022-12-08T18:28:09.240710Z"
    }
   },
   "outputs": [
    {
     "data": {
      "text/plain": [
       "Index(['obj_kodas', 'obj_pav_x_x', 'form_kodas_x_x', 'form_pav_x_x',\n",
       "       'stat_statusas_x_x', 'stat_pav_x_x', 'template_id_x_x',\n",
       "       'template_name_x_x', 'standard_id_x_x', 'standard_name_x_x',\n",
       "       'laikotarpis_nuo_x_x', 'laikotarpis_iki_x_x', 'reg_date_x_x',\n",
       "       'nuosavas_kapitalas_x', 'mok_sumos_ir_isipareigojimai_x',\n",
       "       'ilgalaikis_turtas_x', 'trumpalaikis_turtas_x', 'formavimo_data_x_x',\n",
       "       'obj_pav_y_x', 'form_kodas_y_x', 'form_pav_y_x', 'stat_statusas_y_x',\n",
       "       'stat_pav_y_x', 'template_id_y_x', 'template_name_y_x',\n",
       "       'standard_id_y_x', 'standard_name_y_x', 'laikotarpis_nuo_y_x',\n",
       "       'laikotarpis_iki_y_x', 'reg_date_y_x', 'pelnas_pries_apmokestinima_x',\n",
       "       'grynasis_pelnas_x', 'pardavimo_pajamos_x', 'formavimo_data_y_x',\n",
       "       'Juridinių asmenų registro kodas (jarCode)_x',\n",
       "       'Vidutinis darbo užmokestis (avgWage)_x',\n",
       "       'Ekonominės veiklos rūšies pavadinimas(ecoActName)_x',\n",
       "       'Apdraustųjų skaičius (numInsured)_x',\n",
       "       'Ekonominės veiklos rūšies kodas(ecoActCode)_x',\n",
       "       'Savivaldybė, kurioje registruota(municipality)_x', 'obj_pav_x_y',\n",
       "       'form_kodas_x_y', 'form_pav_x_y', 'stat_statusas_x_y', 'stat_pav_x_y',\n",
       "       'template_id_x_y', 'template_name_x_y', 'standard_id_x_y',\n",
       "       'standard_name_x_y', 'laikotarpis_nuo_x_y', 'laikotarpis_iki_x_y',\n",
       "       'reg_date_x_y', 'nuosavas_kapitalas_y',\n",
       "       'mok_sumos_ir_isipareigojimai_y', 'ilgalaikis_turtas_y',\n",
       "       'trumpalaikis_turtas_y', 'formavimo_data_x_y', 'obj_pav_y_y',\n",
       "       'form_kodas_y_y', 'form_pav_y_y', 'stat_statusas_y_y', 'stat_pav_y_y',\n",
       "       'template_id_y_y', 'template_name_y_y', 'standard_id_y_y',\n",
       "       'standard_name_y_y', 'laikotarpis_nuo_y_y', 'laikotarpis_iki_y_y',\n",
       "       'reg_date_y_y', 'pelnas_pries_apmokestinima_y', 'grynasis_pelnas_y',\n",
       "       'pardavimo_pajamos_y', 'formavimo_data_y_y',\n",
       "       'Juridinių asmenų registro kodas (jarCode)_y',\n",
       "       'Vidutinis darbo užmokestis (avgWage)_y',\n",
       "       'Ekonominės veiklos rūšies pavadinimas(ecoActName)_y',\n",
       "       'Apdraustųjų skaičius (numInsured)_y',\n",
       "       'Ekonominės veiklos rūšies kodas(ecoActCode)_y',\n",
       "       'Savivaldybė, kurioje registruota(municipality)_y'],\n",
       "      dtype='object')"
      ]
     },
     "execution_count": 96,
     "metadata": {},
     "output_type": "execute_result"
    },
    {
     "data": {
      "application/javascript": [
       "\n",
       "            setTimeout(function() {\n",
       "                var nbb_cell_id = 96;\n",
       "                var nbb_unformatted_code = \"full_df_su_sodra.columns\";\n",
       "                var nbb_formatted_code = \"full_df_su_sodra.columns\";\n",
       "                var nbb_cells = Jupyter.notebook.get_cells();\n",
       "                for (var i = 0; i < nbb_cells.length; ++i) {\n",
       "                    if (nbb_cells[i].input_prompt_number == nbb_cell_id) {\n",
       "                        if (nbb_cells[i].get_text() == nbb_unformatted_code) {\n",
       "                             nbb_cells[i].set_text(nbb_formatted_code);\n",
       "                        }\n",
       "                        break;\n",
       "                    }\n",
       "                }\n",
       "            }, 500);\n",
       "            "
      ],
      "text/plain": [
       "<IPython.core.display.Javascript object>"
      ]
     },
     "metadata": {},
     "output_type": "display_data"
    }
   ],
   "source": [
    "full_df_su_sodra.columns"
   ]
  },
  {
   "cell_type": "code",
   "execution_count": 97,
   "id": "569b6b36",
   "metadata": {
    "ExecuteTime": {
     "end_time": "2022-12-08T18:30:20.955272Z",
     "start_time": "2022-12-08T18:30:20.857486Z"
    }
   },
   "outputs": [
    {
     "data": {
      "application/javascript": [
       "\n",
       "            setTimeout(function() {\n",
       "                var nbb_cell_id = 97;\n",
       "                var nbb_unformatted_code = \"# Filter only needed columns\\n\\nfull_df_su_sodra = full_df_su_sodra[\\n    [\\n        \\\"obj_kodas\\\",\\n        \\\"obj_pav_x_x\\\",\\n        \\\"form_pav_x_x\\\",\\n        \\\"Ekonomin\\u0117s veiklos r\\u016b\\u0161ies kodas(ecoActCode)_x\\\",\\n        \\\"Ekonomin\\u0117s veiklos r\\u016b\\u0161ies pavadinimas(ecoActName)_x\\\",\\n        \\\"Savivaldyb\\u0117, kurioje registruota(municipality)_x\\\",\\n        \\\"nuosavas_kapitalas_y\\\",\\n        \\\"mok_sumos_ir_isipareigojimai_y\\\",\\n        \\\"ilgalaikis_turtas_y\\\",\\n        \\\"trumpalaikis_turtas_y\\\",\\n        \\\"pardavimo_pajamos_y\\\",\\n        \\\"grynasis_pelnas_y\\\",\\n        \\\"Vidutinis darbo u\\u017emokestis (avgWage)_y\\\",\\n        \\\"Apdraust\\u0173j\\u0173 skai\\u010dius (numInsured)_y\\\",\\n        \\\"nuosavas_kapitalas_x\\\",\\n        \\\"mok_sumos_ir_isipareigojimai_x\\\",\\n        \\\"ilgalaikis_turtas_x\\\",\\n        \\\"pardavimo_pajamos_x\\\",\\n        \\\"trumpalaikis_turtas_x\\\",\\n        \\\"grynasis_pelnas_x\\\",\\n        \\\"Vidutinis darbo u\\u017emokestis (avgWage)_x\\\",\\n        \\\"Apdraust\\u0173j\\u0173 skai\\u010dius (numInsured)_x\\\",\\n    ]\\n]\";\n",
       "                var nbb_formatted_code = \"# Filter only needed columns\\n\\nfull_df_su_sodra = full_df_su_sodra[\\n    [\\n        \\\"obj_kodas\\\",\\n        \\\"obj_pav_x_x\\\",\\n        \\\"form_pav_x_x\\\",\\n        \\\"Ekonomin\\u0117s veiklos r\\u016b\\u0161ies kodas(ecoActCode)_x\\\",\\n        \\\"Ekonomin\\u0117s veiklos r\\u016b\\u0161ies pavadinimas(ecoActName)_x\\\",\\n        \\\"Savivaldyb\\u0117, kurioje registruota(municipality)_x\\\",\\n        \\\"nuosavas_kapitalas_y\\\",\\n        \\\"mok_sumos_ir_isipareigojimai_y\\\",\\n        \\\"ilgalaikis_turtas_y\\\",\\n        \\\"trumpalaikis_turtas_y\\\",\\n        \\\"pardavimo_pajamos_y\\\",\\n        \\\"grynasis_pelnas_y\\\",\\n        \\\"Vidutinis darbo u\\u017emokestis (avgWage)_y\\\",\\n        \\\"Apdraust\\u0173j\\u0173 skai\\u010dius (numInsured)_y\\\",\\n        \\\"nuosavas_kapitalas_x\\\",\\n        \\\"mok_sumos_ir_isipareigojimai_x\\\",\\n        \\\"ilgalaikis_turtas_x\\\",\\n        \\\"pardavimo_pajamos_x\\\",\\n        \\\"trumpalaikis_turtas_x\\\",\\n        \\\"grynasis_pelnas_x\\\",\\n        \\\"Vidutinis darbo u\\u017emokestis (avgWage)_x\\\",\\n        \\\"Apdraust\\u0173j\\u0173 skai\\u010dius (numInsured)_x\\\",\\n    ]\\n]\";\n",
       "                var nbb_cells = Jupyter.notebook.get_cells();\n",
       "                for (var i = 0; i < nbb_cells.length; ++i) {\n",
       "                    if (nbb_cells[i].input_prompt_number == nbb_cell_id) {\n",
       "                        if (nbb_cells[i].get_text() == nbb_unformatted_code) {\n",
       "                             nbb_cells[i].set_text(nbb_formatted_code);\n",
       "                        }\n",
       "                        break;\n",
       "                    }\n",
       "                }\n",
       "            }, 500);\n",
       "            "
      ],
      "text/plain": [
       "<IPython.core.display.Javascript object>"
      ]
     },
     "metadata": {},
     "output_type": "display_data"
    }
   ],
   "source": [
    "# Filter only needed columns\n",
    "\n",
    "full_df_su_sodra = full_df_su_sodra[\n",
    "    [\n",
    "        \"obj_kodas\",\n",
    "        \"obj_pav_x_x\",\n",
    "        \"form_pav_x_x\",\n",
    "        \"Ekonominės veiklos rūšies kodas(ecoActCode)_x\",\n",
    "        \"Ekonominės veiklos rūšies pavadinimas(ecoActName)_x\",\n",
    "        \"Savivaldybė, kurioje registruota(municipality)_x\",\n",
    "        \"nuosavas_kapitalas_y\",\n",
    "        \"mok_sumos_ir_isipareigojimai_y\",\n",
    "        \"ilgalaikis_turtas_y\",\n",
    "        \"trumpalaikis_turtas_y\",\n",
    "        \"pardavimo_pajamos_y\",\n",
    "        \"grynasis_pelnas_y\",\n",
    "        \"Vidutinis darbo užmokestis (avgWage)_y\",\n",
    "        \"Apdraustųjų skaičius (numInsured)_y\",\n",
    "        \"nuosavas_kapitalas_x\",\n",
    "        \"mok_sumos_ir_isipareigojimai_x\",\n",
    "        \"ilgalaikis_turtas_x\",\n",
    "        \"pardavimo_pajamos_x\",\n",
    "        \"trumpalaikis_turtas_x\",\n",
    "        \"grynasis_pelnas_x\",\n",
    "        \"Vidutinis darbo užmokestis (avgWage)_x\",\n",
    "        \"Apdraustųjų skaičius (numInsured)_x\",\n",
    "    ]\n",
    "]"
   ]
  },
  {
   "cell_type": "code",
   "execution_count": 98,
   "id": "56411857",
   "metadata": {
    "ExecuteTime": {
     "end_time": "2022-12-08T18:30:23.218024Z",
     "start_time": "2022-12-08T18:30:23.212064Z"
    }
   },
   "outputs": [
    {
     "data": {
      "application/javascript": [
       "\n",
       "            setTimeout(function() {\n",
       "                var nbb_cell_id = 98;\n",
       "                var nbb_unformatted_code = \"# Rename column names\\n\\nfull_df_su_sodra.columns = column_names\";\n",
       "                var nbb_formatted_code = \"# Rename column names\\n\\nfull_df_su_sodra.columns = column_names\";\n",
       "                var nbb_cells = Jupyter.notebook.get_cells();\n",
       "                for (var i = 0; i < nbb_cells.length; ++i) {\n",
       "                    if (nbb_cells[i].input_prompt_number == nbb_cell_id) {\n",
       "                        if (nbb_cells[i].get_text() == nbb_unformatted_code) {\n",
       "                             nbb_cells[i].set_text(nbb_formatted_code);\n",
       "                        }\n",
       "                        break;\n",
       "                    }\n",
       "                }\n",
       "            }, 500);\n",
       "            "
      ],
      "text/plain": [
       "<IPython.core.display.Javascript object>"
      ]
     },
     "metadata": {},
     "output_type": "display_data"
    }
   ],
   "source": [
    "# Rename column names\n",
    "\n",
    "full_df_su_sodra.columns = column_names"
   ]
  },
  {
   "cell_type": "markdown",
   "id": "30aad0ba",
   "metadata": {},
   "source": [
    "## Išsiaiškinkite micro ir mažos įmonės apibrėžimą."
   ]
  },
  {
   "cell_type": "markdown",
   "id": "aedf213a",
   "metadata": {},
   "source": [
    "Maža įmonė – įmonė, kurioje dirba mažiau kaip 50 darbuotojų ir kurios finansiniai duomenys atitinka bent vieną iš šių sąlygų:\n",
    " - įmonės metinės pajamos neviršija 10 mln. eurų;\n",
    " - įmonės balanse nurodyto turto vertė neviršija 10 mln. eurų.\n",
    "\n",
    "Labai maža įmonė (micro) – įmonė, kurioje dirba mažiau kaip 10 darbuotojų ir kurios finansiniai duomenys atitinka bent vieną iš šių sąlygų:\n",
    " - įmonės metinės pajamos neviršija 2 mln. eurų;\n",
    " - įmonės balanse nurodyto turto vertė neviršija 2 mln. eurų."
   ]
  },
  {
   "cell_type": "code",
   "execution_count": 102,
   "id": "51d44a20",
   "metadata": {
    "ExecuteTime": {
     "end_time": "2022-12-08T18:32:07.152883Z",
     "start_time": "2022-12-08T18:32:07.143907Z"
    }
   },
   "outputs": [
    {
     "data": {
      "application/javascript": [
       "\n",
       "            setTimeout(function() {\n",
       "                var nbb_cell_id = 102;\n",
       "                var nbb_unformatted_code = \"df_of_2021_su_sodra[\\\"turtas\\\"] = (\\n    df_of_2021_su_sodra[\\\"trumpalaikis_turtas\\\"]\\n    + df_of_2021_su_sodra[\\\"ilgalaikis_turtas\\\"]\\n)\\n#df_of_2021_su_sodra.info()\";\n",
       "                var nbb_formatted_code = \"df_of_2021_su_sodra[\\\"turtas\\\"] = (\\n    df_of_2021_su_sodra[\\\"trumpalaikis_turtas\\\"]\\n    + df_of_2021_su_sodra[\\\"ilgalaikis_turtas\\\"]\\n)\\n# df_of_2021_su_sodra.info()\";\n",
       "                var nbb_cells = Jupyter.notebook.get_cells();\n",
       "                for (var i = 0; i < nbb_cells.length; ++i) {\n",
       "                    if (nbb_cells[i].input_prompt_number == nbb_cell_id) {\n",
       "                        if (nbb_cells[i].get_text() == nbb_unformatted_code) {\n",
       "                             nbb_cells[i].set_text(nbb_formatted_code);\n",
       "                        }\n",
       "                        break;\n",
       "                    }\n",
       "                }\n",
       "            }, 500);\n",
       "            "
      ],
      "text/plain": [
       "<IPython.core.display.Javascript object>"
      ]
     },
     "metadata": {},
     "output_type": "display_data"
    }
   ],
   "source": [
    "df_of_2021_su_sodra[\"turtas\"] = (\n",
    "    df_of_2021_su_sodra[\"trumpalaikis_turtas\"]\n",
    "    + df_of_2021_su_sodra[\"ilgalaikis_turtas\"]\n",
    ")\n",
    "# df_of_2021_su_sodra.info()"
   ]
  },
  {
   "cell_type": "code",
   "execution_count": 104,
   "id": "2f80137b",
   "metadata": {
    "ExecuteTime": {
     "end_time": "2022-12-08T18:32:21.179162Z",
     "start_time": "2022-12-08T18:32:21.172154Z"
    }
   },
   "outputs": [
    {
     "data": {
      "application/javascript": [
       "\n",
       "            setTimeout(function() {\n",
       "                var nbb_cell_id = 104;\n",
       "                var nbb_unformatted_code = \"df_of_2020_su_sodra[\\\"turtas\\\"] = (\\n    df_of_2020_su_sodra[\\\"trumpalaikis_turtas\\\"]\\n    + df_of_2020_su_sodra[\\\"ilgalaikis_turtas\\\"]\\n)\\n# df_of_2020_su_sodra.info()\";\n",
       "                var nbb_formatted_code = \"df_of_2020_su_sodra[\\\"turtas\\\"] = (\\n    df_of_2020_su_sodra[\\\"trumpalaikis_turtas\\\"]\\n    + df_of_2020_su_sodra[\\\"ilgalaikis_turtas\\\"]\\n)\\n# df_of_2020_su_sodra.info()\";\n",
       "                var nbb_cells = Jupyter.notebook.get_cells();\n",
       "                for (var i = 0; i < nbb_cells.length; ++i) {\n",
       "                    if (nbb_cells[i].input_prompt_number == nbb_cell_id) {\n",
       "                        if (nbb_cells[i].get_text() == nbb_unformatted_code) {\n",
       "                             nbb_cells[i].set_text(nbb_formatted_code);\n",
       "                        }\n",
       "                        break;\n",
       "                    }\n",
       "                }\n",
       "            }, 500);\n",
       "            "
      ],
      "text/plain": [
       "<IPython.core.display.Javascript object>"
      ]
     },
     "metadata": {},
     "output_type": "display_data"
    }
   ],
   "source": [
    "df_of_2020_su_sodra[\"turtas\"] = (\n",
    "    df_of_2020_su_sodra[\"trumpalaikis_turtas\"]\n",
    "    + df_of_2020_su_sodra[\"ilgalaikis_turtas\"]\n",
    ")\n",
    "# df_of_2020_su_sodra.info()"
   ]
  },
  {
   "cell_type": "code",
   "execution_count": 106,
   "id": "492c7704",
   "metadata": {
    "ExecuteTime": {
     "end_time": "2022-12-08T18:33:04.439955Z",
     "start_time": "2022-12-08T18:33:04.300329Z"
    }
   },
   "outputs": [
    {
     "data": {
      "application/javascript": [
       "\n",
       "            setTimeout(function() {\n",
       "                var nbb_cell_id = 106;\n",
       "                var nbb_unformatted_code = \"form_pav = [\\\"U\\u017edaroji akcin\\u0117 bendrov\\u0117\\\", \\\"Ma\\u017eoji bendrija\\\"]\\n\\nfilt_df_of_2021_su_sodra = df_of_2021_su_sodra[\\n    df_of_2021_su_sodra[\\\"form_pav_x\\\"].isin(form_pav)\\n]\\nfilt_df_of_2020_su_sodra = df_of_2020_su_sodra[\\n    df_of_2020_su_sodra[\\\"form_pav_x\\\"].isin(form_pav)\\n]\";\n",
       "                var nbb_formatted_code = \"form_pav = [\\\"U\\u017edaroji akcin\\u0117 bendrov\\u0117\\\", \\\"Ma\\u017eoji bendrija\\\"]\\n\\nfilt_df_of_2021_su_sodra = df_of_2021_su_sodra[\\n    df_of_2021_su_sodra[\\\"form_pav_x\\\"].isin(form_pav)\\n]\\nfilt_df_of_2020_su_sodra = df_of_2020_su_sodra[\\n    df_of_2020_su_sodra[\\\"form_pav_x\\\"].isin(form_pav)\\n]\";\n",
       "                var nbb_cells = Jupyter.notebook.get_cells();\n",
       "                for (var i = 0; i < nbb_cells.length; ++i) {\n",
       "                    if (nbb_cells[i].input_prompt_number == nbb_cell_id) {\n",
       "                        if (nbb_cells[i].get_text() == nbb_unformatted_code) {\n",
       "                             nbb_cells[i].set_text(nbb_formatted_code);\n",
       "                        }\n",
       "                        break;\n",
       "                    }\n",
       "                }\n",
       "            }, 500);\n",
       "            "
      ],
      "text/plain": [
       "<IPython.core.display.Javascript object>"
      ]
     },
     "metadata": {},
     "output_type": "display_data"
    }
   ],
   "source": [
    "form_pav = [\"Uždaroji akcinė bendrovė\", \"Mažoji bendrija\"]\n",
    "\n",
    "filt_df_of_2021_su_sodra = df_of_2021_su_sodra[\n",
    "    df_of_2021_su_sodra[\"form_pav_x\"].isin(form_pav)\n",
    "]\n",
    "filt_df_of_2020_su_sodra = df_of_2020_su_sodra[\n",
    "    df_of_2020_su_sodra[\"form_pav_x\"].isin(form_pav)\n",
    "]"
   ]
  },
  {
   "cell_type": "code",
   "execution_count": 113,
   "id": "7e6bb34d",
   "metadata": {
    "ExecuteTime": {
     "end_time": "2022-12-08T18:36:08.905003Z",
     "start_time": "2022-12-08T18:36:08.836111Z"
    }
   },
   "outputs": [
    {
     "data": {
      "text/html": [
       "<div>\n",
       "<style scoped>\n",
       "    .dataframe tbody tr th:only-of-type {\n",
       "        vertical-align: middle;\n",
       "    }\n",
       "\n",
       "    .dataframe tbody tr th {\n",
       "        vertical-align: top;\n",
       "    }\n",
       "\n",
       "    .dataframe thead th {\n",
       "        text-align: right;\n",
       "    }\n",
       "</style>\n",
       "<table border=\"1\" class=\"dataframe\">\n",
       "  <thead>\n",
       "    <tr style=\"text-align: right;\">\n",
       "      <th></th>\n",
       "      <th>obj_kodas</th>\n",
       "      <th>obj_pav_x</th>\n",
       "      <th>form_kodas_x</th>\n",
       "      <th>form_pav_x</th>\n",
       "      <th>stat_statusas_x</th>\n",
       "      <th>stat_pav_x</th>\n",
       "      <th>template_id_x</th>\n",
       "      <th>template_name_x</th>\n",
       "      <th>standard_id_x</th>\n",
       "      <th>standard_name_x</th>\n",
       "      <th>...</th>\n",
       "      <th>grynasis_pelnas</th>\n",
       "      <th>pardavimo_pajamos</th>\n",
       "      <th>formavimo_data_y</th>\n",
       "      <th>Juridinių asmenų registro kodas (jarCode)</th>\n",
       "      <th>Vidutinis darbo užmokestis (avgWage)</th>\n",
       "      <th>Ekonominės veiklos rūšies pavadinimas(ecoActName)</th>\n",
       "      <th>Apdraustųjų skaičius (numInsured)</th>\n",
       "      <th>Ekonominės veiklos rūšies kodas(ecoActCode)</th>\n",
       "      <th>Savivaldybė, kurioje registruota(municipality)</th>\n",
       "      <th>turtas</th>\n",
       "    </tr>\n",
       "  </thead>\n",
       "  <tbody>\n",
       "    <tr>\n",
       "      <th>51254</th>\n",
       "      <td>305644920</td>\n",
       "      <td>UAB Redrola</td>\n",
       "      <td>310</td>\n",
       "      <td>Uždaroji akcinė bendrovė</td>\n",
       "      <td>0</td>\n",
       "      <td>Teisinis stat neįregistruotas</td>\n",
       "      <td>FS0129</td>\n",
       "      <td>Mažų ir labai mažų įmonių, netaikančių išimčių...</td>\n",
       "      <td>BST124</td>\n",
       "      <td>BALANSAS (Sutrumpintas)</td>\n",
       "      <td>...</td>\n",
       "      <td>-957.0</td>\n",
       "      <td>31443.0</td>\n",
       "      <td>2022-12-01</td>\n",
       "      <td>305644920.0</td>\n",
       "      <td>NaN</td>\n",
       "      <td>Variklinių transporto priemonių ir motociklų d...</td>\n",
       "      <td>2</td>\n",
       "      <td>450000.0</td>\n",
       "      <td>Kauno m. sav.</td>\n",
       "      <td>74492.0</td>\n",
       "    </tr>\n",
       "    <tr>\n",
       "      <th>18391</th>\n",
       "      <td>157585318</td>\n",
       "      <td>Uždaroji akcinė bendrovė \"GRASA\"</td>\n",
       "      <td>310</td>\n",
       "      <td>Uždaroji akcinė bendrovė</td>\n",
       "      <td>0</td>\n",
       "      <td>Teisinis stat neįregistruotas</td>\n",
       "      <td>FS0129</td>\n",
       "      <td>Mažų ir labai mažų įmonių, netaikančių išimčių...</td>\n",
       "      <td>BST124</td>\n",
       "      <td>BALANSAS (Sutrumpintas)</td>\n",
       "      <td>...</td>\n",
       "      <td>7859.0</td>\n",
       "      <td>146965.0</td>\n",
       "      <td>2022-12-01</td>\n",
       "      <td>157585318.0</td>\n",
       "      <td>360.3100</td>\n",
       "      <td>Mažmeninė prekyba nespecializuotose parduotuvėse</td>\n",
       "      <td>3</td>\n",
       "      <td>471000.0</td>\n",
       "      <td>Joniškio r. sav.</td>\n",
       "      <td>14275.0</td>\n",
       "    </tr>\n",
       "    <tr>\n",
       "      <th>17085</th>\n",
       "      <td>302308359</td>\n",
       "      <td>UAB \"DynamicsWay\"</td>\n",
       "      <td>310</td>\n",
       "      <td>Uždaroji akcinė bendrovė</td>\n",
       "      <td>0</td>\n",
       "      <td>Teisinis stat neįregistruotas</td>\n",
       "      <td>FS0129</td>\n",
       "      <td>Mažų ir labai mažų įmonių, netaikančių išimčių...</td>\n",
       "      <td>BST124</td>\n",
       "      <td>BALANSAS (Sutrumpintas)</td>\n",
       "      <td>...</td>\n",
       "      <td>42500.0</td>\n",
       "      <td>109047.0</td>\n",
       "      <td>2022-12-01</td>\n",
       "      <td>302308359.0</td>\n",
       "      <td>NaN</td>\n",
       "      <td>Kita informacinių technologijų ir kompiuterių ...</td>\n",
       "      <td>2</td>\n",
       "      <td>620900.0</td>\n",
       "      <td>Šalčininkų r. sav.</td>\n",
       "      <td>203038.0</td>\n",
       "    </tr>\n",
       "    <tr>\n",
       "      <th>82322</th>\n",
       "      <td>302531180</td>\n",
       "      <td>UAB \"Transverta\"</td>\n",
       "      <td>310</td>\n",
       "      <td>Uždaroji akcinė bendrovė</td>\n",
       "      <td>0</td>\n",
       "      <td>Teisinis stat neįregistruotas</td>\n",
       "      <td>FS0129</td>\n",
       "      <td>Mažų ir labai mažų įmonių, netaikančių išimčių...</td>\n",
       "      <td>BST124</td>\n",
       "      <td>BALANSAS (Sutrumpintas)</td>\n",
       "      <td>...</td>\n",
       "      <td>7533.0</td>\n",
       "      <td>48555.0</td>\n",
       "      <td>2022-12-01</td>\n",
       "      <td>302531180.0</td>\n",
       "      <td>NaN</td>\n",
       "      <td>Apskaitos, buhalterijos ir audito veikla; kons...</td>\n",
       "      <td>2</td>\n",
       "      <td>692000.0</td>\n",
       "      <td>Rietavo sav.</td>\n",
       "      <td>18095.0</td>\n",
       "    </tr>\n",
       "    <tr>\n",
       "      <th>23509</th>\n",
       "      <td>304298878</td>\n",
       "      <td>UAB \"Melada\"</td>\n",
       "      <td>310</td>\n",
       "      <td>Uždaroji akcinė bendrovė</td>\n",
       "      <td>0</td>\n",
       "      <td>Teisinis stat neįregistruotas</td>\n",
       "      <td>FS0129</td>\n",
       "      <td>Mažų ir labai mažų įmonių, netaikančių išimčių...</td>\n",
       "      <td>BST124</td>\n",
       "      <td>BALANSAS (Sutrumpintas)</td>\n",
       "      <td>...</td>\n",
       "      <td>10888.0</td>\n",
       "      <td>146994.0</td>\n",
       "      <td>2022-12-01</td>\n",
       "      <td>304298878.0</td>\n",
       "      <td>505.2675</td>\n",
       "      <td>Medienos pjaustymas ir obliavimas</td>\n",
       "      <td>6</td>\n",
       "      <td>161000.0</td>\n",
       "      <td>Kauno r. sav.</td>\n",
       "      <td>157081.0</td>\n",
       "    </tr>\n",
       "  </tbody>\n",
       "</table>\n",
       "<p>5 rows × 41 columns</p>\n",
       "</div>"
      ],
      "text/plain": [
       "       obj_kodas                         obj_pav_x  form_kodas_x  \\\n",
       "51254  305644920                       UAB Redrola           310   \n",
       "18391  157585318  Uždaroji akcinė bendrovė \"GRASA\"           310   \n",
       "17085  302308359                 UAB \"DynamicsWay\"           310   \n",
       "82322  302531180                  UAB \"Transverta\"           310   \n",
       "23509  304298878                      UAB \"Melada\"           310   \n",
       "\n",
       "                     form_pav_x  stat_statusas_x  \\\n",
       "51254  Uždaroji akcinė bendrovė                0   \n",
       "18391  Uždaroji akcinė bendrovė                0   \n",
       "17085  Uždaroji akcinė bendrovė                0   \n",
       "82322  Uždaroji akcinė bendrovė                0   \n",
       "23509  Uždaroji akcinė bendrovė                0   \n",
       "\n",
       "                          stat_pav_x template_id_x  \\\n",
       "51254  Teisinis stat neįregistruotas        FS0129   \n",
       "18391  Teisinis stat neįregistruotas        FS0129   \n",
       "17085  Teisinis stat neįregistruotas        FS0129   \n",
       "82322  Teisinis stat neįregistruotas        FS0129   \n",
       "23509  Teisinis stat neįregistruotas        FS0129   \n",
       "\n",
       "                                         template_name_x standard_id_x  \\\n",
       "51254  Mažų ir labai mažų įmonių, netaikančių išimčių...        BST124   \n",
       "18391  Mažų ir labai mažų įmonių, netaikančių išimčių...        BST124   \n",
       "17085  Mažų ir labai mažų įmonių, netaikančių išimčių...        BST124   \n",
       "82322  Mažų ir labai mažų įmonių, netaikančių išimčių...        BST124   \n",
       "23509  Mažų ir labai mažų įmonių, netaikančių išimčių...        BST124   \n",
       "\n",
       "               standard_name_x  ... grynasis_pelnas pardavimo_pajamos  \\\n",
       "51254  BALANSAS (Sutrumpintas)  ...          -957.0           31443.0   \n",
       "18391  BALANSAS (Sutrumpintas)  ...          7859.0          146965.0   \n",
       "17085  BALANSAS (Sutrumpintas)  ...         42500.0          109047.0   \n",
       "82322  BALANSAS (Sutrumpintas)  ...          7533.0           48555.0   \n",
       "23509  BALANSAS (Sutrumpintas)  ...         10888.0          146994.0   \n",
       "\n",
       "      formavimo_data_y  Juridinių asmenų registro kodas (jarCode)  \\\n",
       "51254       2022-12-01                                305644920.0   \n",
       "18391       2022-12-01                                157585318.0   \n",
       "17085       2022-12-01                                302308359.0   \n",
       "82322       2022-12-01                                302531180.0   \n",
       "23509       2022-12-01                                304298878.0   \n",
       "\n",
       "       Vidutinis darbo užmokestis (avgWage)  \\\n",
       "51254                                   NaN   \n",
       "18391                              360.3100   \n",
       "17085                                   NaN   \n",
       "82322                                   NaN   \n",
       "23509                              505.2675   \n",
       "\n",
       "       Ekonominės veiklos rūšies pavadinimas(ecoActName)  \\\n",
       "51254  Variklinių transporto priemonių ir motociklų d...   \n",
       "18391   Mažmeninė prekyba nespecializuotose parduotuvėse   \n",
       "17085  Kita informacinių technologijų ir kompiuterių ...   \n",
       "82322  Apskaitos, buhalterijos ir audito veikla; kons...   \n",
       "23509                  Medienos pjaustymas ir obliavimas   \n",
       "\n",
       "       Apdraustųjų skaičius (numInsured)  \\\n",
       "51254                                  2   \n",
       "18391                                  3   \n",
       "17085                                  2   \n",
       "82322                                  2   \n",
       "23509                                  6   \n",
       "\n",
       "      Ekonominės veiklos rūšies kodas(ecoActCode)  \\\n",
       "51254                                    450000.0   \n",
       "18391                                    471000.0   \n",
       "17085                                    620900.0   \n",
       "82322                                    692000.0   \n",
       "23509                                    161000.0   \n",
       "\n",
       "      Savivaldybė, kurioje registruota(municipality)    turtas  \n",
       "51254                                  Kauno m. sav.   74492.0  \n",
       "18391                               Joniškio r. sav.   14275.0  \n",
       "17085                             Šalčininkų r. sav.  203038.0  \n",
       "82322                                   Rietavo sav.   18095.0  \n",
       "23509                                  Kauno r. sav.  157081.0  \n",
       "\n",
       "[5 rows x 41 columns]"
      ]
     },
     "execution_count": 113,
     "metadata": {},
     "output_type": "execute_result"
    },
    {
     "data": {
      "application/javascript": [
       "\n",
       "            setTimeout(function() {\n",
       "                var nbb_cell_id = 113;\n",
       "                var nbb_unformatted_code = \"# Atrinkti ma\\u017eas \\u012fmones:\\n\\ndarb_sk = 50\\nmet_pajam = 10000000\\nturt_vert = 10000000\\n\\nmazos_imones_df_2021 = df_of_2021_su_sodra[\\n    (df_of_2021_su_sodra[\\\"Apdraust\\u0173j\\u0173 skai\\u010dius (numInsured)\\\"] < darb_sk)\\n    & (df_of_2021_su_sodra[\\\"pardavimo_pajamos\\\"] < met_pajam)\\n    & (df_of_2021_su_sodra[\\\"turtas\\\"] < met_pajam)\\n]\\n\\nmazos_imones_df_2020 = df_of_2020_su_sodra[\\n    (df_of_2020_su_sodra[\\\"Apdraust\\u0173j\\u0173 skai\\u010dius (numInsured)\\\"] < darb_sk)\\n    & (df_of_2020_su_sodra[\\\"pardavimo_pajamos\\\"] < met_pajam)\\n    & (df_of_2020_su_sodra[\\\"turtas\\\"] < met_pajam)\\n]\\n\\nmazos_imones_df_2021.sample(5)\";\n",
       "                var nbb_formatted_code = \"# Atrinkti ma\\u017eas \\u012fmones:\\n\\ndarb_sk = 50\\nmet_pajam = 10000000\\nturt_vert = 10000000\\n\\nmazos_imones_df_2021 = df_of_2021_su_sodra[\\n    (df_of_2021_su_sodra[\\\"Apdraust\\u0173j\\u0173 skai\\u010dius (numInsured)\\\"] < darb_sk)\\n    & (df_of_2021_su_sodra[\\\"pardavimo_pajamos\\\"] < met_pajam)\\n    & (df_of_2021_su_sodra[\\\"turtas\\\"] < met_pajam)\\n]\\n\\nmazos_imones_df_2020 = df_of_2020_su_sodra[\\n    (df_of_2020_su_sodra[\\\"Apdraust\\u0173j\\u0173 skai\\u010dius (numInsured)\\\"] < darb_sk)\\n    & (df_of_2020_su_sodra[\\\"pardavimo_pajamos\\\"] < met_pajam)\\n    & (df_of_2020_su_sodra[\\\"turtas\\\"] < met_pajam)\\n]\\n\\nmazos_imones_df_2021.sample(5)\";\n",
       "                var nbb_cells = Jupyter.notebook.get_cells();\n",
       "                for (var i = 0; i < nbb_cells.length; ++i) {\n",
       "                    if (nbb_cells[i].input_prompt_number == nbb_cell_id) {\n",
       "                        if (nbb_cells[i].get_text() == nbb_unformatted_code) {\n",
       "                             nbb_cells[i].set_text(nbb_formatted_code);\n",
       "                        }\n",
       "                        break;\n",
       "                    }\n",
       "                }\n",
       "            }, 500);\n",
       "            "
      ],
      "text/plain": [
       "<IPython.core.display.Javascript object>"
      ]
     },
     "metadata": {},
     "output_type": "display_data"
    }
   ],
   "source": [
    "# Atrinkti mažas įmones:\n",
    "\n",
    "darb_sk = 50\n",
    "met_pajam = 10000000\n",
    "turt_vert = 10000000\n",
    "\n",
    "mazos_imones_df_2021 = df_of_2021_su_sodra[\n",
    "    (df_of_2021_su_sodra[\"Apdraustųjų skaičius (numInsured)\"] < darb_sk)\n",
    "    & (df_of_2021_su_sodra[\"pardavimo_pajamos\"] < met_pajam)\n",
    "    & (df_of_2021_su_sodra[\"turtas\"] < met_pajam)\n",
    "]\n",
    "\n",
    "mazos_imones_df_2020 = df_of_2020_su_sodra[\n",
    "    (df_of_2020_su_sodra[\"Apdraustųjų skaičius (numInsured)\"] < darb_sk)\n",
    "    & (df_of_2020_su_sodra[\"pardavimo_pajamos\"] < met_pajam)\n",
    "    & (df_of_2020_su_sodra[\"turtas\"] < met_pajam)\n",
    "]\n",
    "\n",
    "mazos_imones_df_2021.sample(5)"
   ]
  },
  {
   "cell_type": "code",
   "execution_count": 114,
   "id": "eb1db397",
   "metadata": {
    "ExecuteTime": {
     "end_time": "2022-12-08T18:36:13.525449Z",
     "start_time": "2022-12-08T18:36:13.447657Z"
    }
   },
   "outputs": [
    {
     "data": {
      "text/html": [
       "<div>\n",
       "<style scoped>\n",
       "    .dataframe tbody tr th:only-of-type {\n",
       "        vertical-align: middle;\n",
       "    }\n",
       "\n",
       "    .dataframe tbody tr th {\n",
       "        vertical-align: top;\n",
       "    }\n",
       "\n",
       "    .dataframe thead th {\n",
       "        text-align: right;\n",
       "    }\n",
       "</style>\n",
       "<table border=\"1\" class=\"dataframe\">\n",
       "  <thead>\n",
       "    <tr style=\"text-align: right;\">\n",
       "      <th></th>\n",
       "      <th>obj_kodas</th>\n",
       "      <th>obj_pav_x</th>\n",
       "      <th>form_kodas_x</th>\n",
       "      <th>form_pav_x</th>\n",
       "      <th>stat_statusas_x</th>\n",
       "      <th>stat_pav_x</th>\n",
       "      <th>template_id_x</th>\n",
       "      <th>template_name_x</th>\n",
       "      <th>standard_id_x</th>\n",
       "      <th>standard_name_x</th>\n",
       "      <th>...</th>\n",
       "      <th>grynasis_pelnas</th>\n",
       "      <th>pardavimo_pajamos</th>\n",
       "      <th>formavimo_data_y</th>\n",
       "      <th>Juridinių asmenų registro kodas (jarCode)</th>\n",
       "      <th>Vidutinis darbo užmokestis (avgWage)</th>\n",
       "      <th>Ekonominės veiklos rūšies pavadinimas(ecoActName)</th>\n",
       "      <th>Apdraustųjų skaičius (numInsured)</th>\n",
       "      <th>Ekonominės veiklos rūšies kodas(ecoActCode)</th>\n",
       "      <th>Savivaldybė, kurioje registruota(municipality)</th>\n",
       "      <th>turtas</th>\n",
       "    </tr>\n",
       "  </thead>\n",
       "  <tbody>\n",
       "    <tr>\n",
       "      <th>76456</th>\n",
       "      <td>305431961</td>\n",
       "      <td>UAB \"Speciali technika\"</td>\n",
       "      <td>310</td>\n",
       "      <td>Uždaroji akcinė bendrovė</td>\n",
       "      <td>0</td>\n",
       "      <td>Teisinis stat neįregistruotas</td>\n",
       "      <td>FS0129</td>\n",
       "      <td>Mažų ir labai mažų įmonių, netaikančių išimčių...</td>\n",
       "      <td>BST124</td>\n",
       "      <td>BALANSAS (Sutrumpintas)</td>\n",
       "      <td>...</td>\n",
       "      <td>674.0</td>\n",
       "      <td>27465.0</td>\n",
       "      <td>2022-12-01</td>\n",
       "      <td>305431961.0</td>\n",
       "      <td>NaN</td>\n",
       "      <td>Krovininis kelių transportas</td>\n",
       "      <td>1</td>\n",
       "      <td>494100.0</td>\n",
       "      <td>Klaipėdos m. sav.</td>\n",
       "      <td>35010.0</td>\n",
       "    </tr>\n",
       "    <tr>\n",
       "      <th>33922</th>\n",
       "      <td>305209537</td>\n",
       "      <td>UAB \"Rodoteka\"</td>\n",
       "      <td>310</td>\n",
       "      <td>Uždaroji akcinė bendrovė</td>\n",
       "      <td>0</td>\n",
       "      <td>Teisinis stat neįregistruotas</td>\n",
       "      <td>FS0129</td>\n",
       "      <td>Mažų ir labai mažų įmonių, netaikančių išimčių...</td>\n",
       "      <td>BST124</td>\n",
       "      <td>BALANSAS (Sutrumpintas)</td>\n",
       "      <td>...</td>\n",
       "      <td>9165.0</td>\n",
       "      <td>87169.0</td>\n",
       "      <td>2022-12-01</td>\n",
       "      <td>305209537.0</td>\n",
       "      <td>556.180000</td>\n",
       "      <td>Ortopedinių ir kitokių įtaisų gamyba</td>\n",
       "      <td>3</td>\n",
       "      <td>325020.0</td>\n",
       "      <td>Kauno m. sav.</td>\n",
       "      <td>86842.0</td>\n",
       "    </tr>\n",
       "    <tr>\n",
       "      <th>97980</th>\n",
       "      <td>303195925</td>\n",
       "      <td>UAB \"Licitus\"</td>\n",
       "      <td>310</td>\n",
       "      <td>Uždaroji akcinė bendrovė</td>\n",
       "      <td>0</td>\n",
       "      <td>Teisinis stat neįregistruotas</td>\n",
       "      <td>FS0128</td>\n",
       "      <td>Labai mažų įmonių, taikančių išimtis, finansin...</td>\n",
       "      <td>BST122</td>\n",
       "      <td>BALANSAS (Trumpas)</td>\n",
       "      <td>...</td>\n",
       "      <td>-14692.0</td>\n",
       "      <td>27700.0</td>\n",
       "      <td>2022-12-01</td>\n",
       "      <td>303195925.0</td>\n",
       "      <td>NaN</td>\n",
       "      <td>Kita mažmeninė prekyba nespecializuotose pardu...</td>\n",
       "      <td>1</td>\n",
       "      <td>471900.0</td>\n",
       "      <td>Vilniaus m. sav.</td>\n",
       "      <td>0.0</td>\n",
       "    </tr>\n",
       "    <tr>\n",
       "      <th>43411</th>\n",
       "      <td>163332547</td>\n",
       "      <td>UAB \"Ančiuvis\"</td>\n",
       "      <td>310</td>\n",
       "      <td>Uždaroji akcinė bendrovė</td>\n",
       "      <td>0</td>\n",
       "      <td>Teisinis stat neįregistruotas</td>\n",
       "      <td>FS0129</td>\n",
       "      <td>Mažų ir labai mažų įmonių, netaikančių išimčių...</td>\n",
       "      <td>BST124</td>\n",
       "      <td>BALANSAS (Sutrumpintas)</td>\n",
       "      <td>...</td>\n",
       "      <td>16217.0</td>\n",
       "      <td>115083.0</td>\n",
       "      <td>2022-12-01</td>\n",
       "      <td>163332547.0</td>\n",
       "      <td>480.009167</td>\n",
       "      <td>Sporto įrangos mažmeninė prekyba specializuoto...</td>\n",
       "      <td>6</td>\n",
       "      <td>476400.0</td>\n",
       "      <td>Klaipėdos r. sav.</td>\n",
       "      <td>211566.0</td>\n",
       "    </tr>\n",
       "    <tr>\n",
       "      <th>88466</th>\n",
       "      <td>303517002</td>\n",
       "      <td>UAB \"Žaidenta\"</td>\n",
       "      <td>310</td>\n",
       "      <td>Uždaroji akcinė bendrovė</td>\n",
       "      <td>0</td>\n",
       "      <td>Teisinis stat neįregistruotas</td>\n",
       "      <td>FS0129</td>\n",
       "      <td>Mažų ir labai mažų įmonių, netaikančių išimčių...</td>\n",
       "      <td>BST124</td>\n",
       "      <td>BALANSAS (Sutrumpintas)</td>\n",
       "      <td>...</td>\n",
       "      <td>6687.0</td>\n",
       "      <td>8750.0</td>\n",
       "      <td>2022-12-01</td>\n",
       "      <td>303517002.0</td>\n",
       "      <td>NaN</td>\n",
       "      <td>Medicinos ir odontologijos prietaisų, instrume...</td>\n",
       "      <td>1</td>\n",
       "      <td>325000.0</td>\n",
       "      <td>Vilniaus m. sav.</td>\n",
       "      <td>10625.0</td>\n",
       "    </tr>\n",
       "  </tbody>\n",
       "</table>\n",
       "<p>5 rows × 41 columns</p>\n",
       "</div>"
      ],
      "text/plain": [
       "       obj_kodas                obj_pav_x  form_kodas_x  \\\n",
       "76456  305431961  UAB \"Speciali technika\"           310   \n",
       "33922  305209537           UAB \"Rodoteka\"           310   \n",
       "97980  303195925            UAB \"Licitus\"           310   \n",
       "43411  163332547           UAB \"Ančiuvis\"           310   \n",
       "88466  303517002           UAB \"Žaidenta\"           310   \n",
       "\n",
       "                     form_pav_x  stat_statusas_x  \\\n",
       "76456  Uždaroji akcinė bendrovė                0   \n",
       "33922  Uždaroji akcinė bendrovė                0   \n",
       "97980  Uždaroji akcinė bendrovė                0   \n",
       "43411  Uždaroji akcinė bendrovė                0   \n",
       "88466  Uždaroji akcinė bendrovė                0   \n",
       "\n",
       "                          stat_pav_x template_id_x  \\\n",
       "76456  Teisinis stat neįregistruotas        FS0129   \n",
       "33922  Teisinis stat neįregistruotas        FS0129   \n",
       "97980  Teisinis stat neįregistruotas        FS0128   \n",
       "43411  Teisinis stat neįregistruotas        FS0129   \n",
       "88466  Teisinis stat neįregistruotas        FS0129   \n",
       "\n",
       "                                         template_name_x standard_id_x  \\\n",
       "76456  Mažų ir labai mažų įmonių, netaikančių išimčių...        BST124   \n",
       "33922  Mažų ir labai mažų įmonių, netaikančių išimčių...        BST124   \n",
       "97980  Labai mažų įmonių, taikančių išimtis, finansin...        BST122   \n",
       "43411  Mažų ir labai mažų įmonių, netaikančių išimčių...        BST124   \n",
       "88466  Mažų ir labai mažų įmonių, netaikančių išimčių...        BST124   \n",
       "\n",
       "               standard_name_x  ... grynasis_pelnas pardavimo_pajamos  \\\n",
       "76456  BALANSAS (Sutrumpintas)  ...           674.0           27465.0   \n",
       "33922  BALANSAS (Sutrumpintas)  ...          9165.0           87169.0   \n",
       "97980       BALANSAS (Trumpas)  ...        -14692.0           27700.0   \n",
       "43411  BALANSAS (Sutrumpintas)  ...         16217.0          115083.0   \n",
       "88466  BALANSAS (Sutrumpintas)  ...          6687.0            8750.0   \n",
       "\n",
       "      formavimo_data_y  Juridinių asmenų registro kodas (jarCode)  \\\n",
       "76456       2022-12-01                                305431961.0   \n",
       "33922       2022-12-01                                305209537.0   \n",
       "97980       2022-12-01                                303195925.0   \n",
       "43411       2022-12-01                                163332547.0   \n",
       "88466       2022-12-01                                303517002.0   \n",
       "\n",
       "       Vidutinis darbo užmokestis (avgWage)  \\\n",
       "76456                                   NaN   \n",
       "33922                            556.180000   \n",
       "97980                                   NaN   \n",
       "43411                            480.009167   \n",
       "88466                                   NaN   \n",
       "\n",
       "       Ekonominės veiklos rūšies pavadinimas(ecoActName)  \\\n",
       "76456                       Krovininis kelių transportas   \n",
       "33922               Ortopedinių ir kitokių įtaisų gamyba   \n",
       "97980  Kita mažmeninė prekyba nespecializuotose pardu...   \n",
       "43411  Sporto įrangos mažmeninė prekyba specializuoto...   \n",
       "88466  Medicinos ir odontologijos prietaisų, instrume...   \n",
       "\n",
       "       Apdraustųjų skaičius (numInsured)  \\\n",
       "76456                                  1   \n",
       "33922                                  3   \n",
       "97980                                  1   \n",
       "43411                                  6   \n",
       "88466                                  1   \n",
       "\n",
       "      Ekonominės veiklos rūšies kodas(ecoActCode)  \\\n",
       "76456                                    494100.0   \n",
       "33922                                    325020.0   \n",
       "97980                                    471900.0   \n",
       "43411                                    476400.0   \n",
       "88466                                    325000.0   \n",
       "\n",
       "      Savivaldybė, kurioje registruota(municipality)    turtas  \n",
       "76456                              Klaipėdos m. sav.   35010.0  \n",
       "33922                                  Kauno m. sav.   86842.0  \n",
       "97980                               Vilniaus m. sav.       0.0  \n",
       "43411                              Klaipėdos r. sav.  211566.0  \n",
       "88466                               Vilniaus m. sav.   10625.0  \n",
       "\n",
       "[5 rows x 41 columns]"
      ]
     },
     "execution_count": 114,
     "metadata": {},
     "output_type": "execute_result"
    },
    {
     "data": {
      "application/javascript": [
       "\n",
       "            setTimeout(function() {\n",
       "                var nbb_cell_id = 114;\n",
       "                var nbb_unformatted_code = \"# Atrinkti macro \\u012fmones:\\n\\ndarb_sk = 10\\nmet_pajam = 2000000\\nturt_vert = 2000000\\n\\nmacro_imones_df_2021 = df_of_2021_su_sodra[\\n    (df_of_2021_su_sodra[\\\"Apdraust\\u0173j\\u0173 skai\\u010dius (numInsured)\\\"] < darb_sk)\\n    & (df_of_2021_su_sodra[\\\"pardavimo_pajamos\\\"] < met_pajam)\\n    & (df_of_2021_su_sodra[\\\"turtas\\\"] < met_pajam)\\n]\\n\\nmacro_imones_df_2020 = df_of_2020_su_sodra[\\n    (df_of_2020_su_sodra[\\\"Apdraust\\u0173j\\u0173 skai\\u010dius (numInsured)\\\"] < darb_sk)\\n    & (df_of_2020_su_sodra[\\\"pardavimo_pajamos\\\"] < met_pajam)\\n    & (df_of_2020_su_sodra[\\\"turtas\\\"] < met_pajam)\\n]\\n\\nmacro_imones_df_2021.sample(5)\";\n",
       "                var nbb_formatted_code = \"# Atrinkti macro \\u012fmones:\\n\\ndarb_sk = 10\\nmet_pajam = 2000000\\nturt_vert = 2000000\\n\\nmacro_imones_df_2021 = df_of_2021_su_sodra[\\n    (df_of_2021_su_sodra[\\\"Apdraust\\u0173j\\u0173 skai\\u010dius (numInsured)\\\"] < darb_sk)\\n    & (df_of_2021_su_sodra[\\\"pardavimo_pajamos\\\"] < met_pajam)\\n    & (df_of_2021_su_sodra[\\\"turtas\\\"] < met_pajam)\\n]\\n\\nmacro_imones_df_2020 = df_of_2020_su_sodra[\\n    (df_of_2020_su_sodra[\\\"Apdraust\\u0173j\\u0173 skai\\u010dius (numInsured)\\\"] < darb_sk)\\n    & (df_of_2020_su_sodra[\\\"pardavimo_pajamos\\\"] < met_pajam)\\n    & (df_of_2020_su_sodra[\\\"turtas\\\"] < met_pajam)\\n]\\n\\nmacro_imones_df_2021.sample(5)\";\n",
       "                var nbb_cells = Jupyter.notebook.get_cells();\n",
       "                for (var i = 0; i < nbb_cells.length; ++i) {\n",
       "                    if (nbb_cells[i].input_prompt_number == nbb_cell_id) {\n",
       "                        if (nbb_cells[i].get_text() == nbb_unformatted_code) {\n",
       "                             nbb_cells[i].set_text(nbb_formatted_code);\n",
       "                        }\n",
       "                        break;\n",
       "                    }\n",
       "                }\n",
       "            }, 500);\n",
       "            "
      ],
      "text/plain": [
       "<IPython.core.display.Javascript object>"
      ]
     },
     "metadata": {},
     "output_type": "display_data"
    }
   ],
   "source": [
    "# Atrinkti macro įmones:\n",
    "\n",
    "darb_sk = 10\n",
    "met_pajam = 2000000\n",
    "turt_vert = 2000000\n",
    "\n",
    "macro_imones_df_2021 = df_of_2021_su_sodra[\n",
    "    (df_of_2021_su_sodra[\"Apdraustųjų skaičius (numInsured)\"] < darb_sk)\n",
    "    & (df_of_2021_su_sodra[\"pardavimo_pajamos\"] < met_pajam)\n",
    "    & (df_of_2021_su_sodra[\"turtas\"] < met_pajam)\n",
    "]\n",
    "\n",
    "macro_imones_df_2020 = df_of_2020_su_sodra[\n",
    "    (df_of_2020_su_sodra[\"Apdraustųjų skaičius (numInsured)\"] < darb_sk)\n",
    "    & (df_of_2020_su_sodra[\"pardavimo_pajamos\"] < met_pajam)\n",
    "    & (df_of_2020_su_sodra[\"turtas\"] < met_pajam)\n",
    "]\n",
    "\n",
    "macro_imones_df_2021.sample(5)"
   ]
  },
  {
   "cell_type": "markdown",
   "id": "795be5bb",
   "metadata": {},
   "source": [
    "### Indentifikuokite labiausiai augusias įmones. [1 taškas]"
   ]
  },
  {
   "cell_type": "code",
   "execution_count": 115,
   "id": "43e6a3db",
   "metadata": {
    "ExecuteTime": {
     "end_time": "2022-12-08T18:42:55.112923Z",
     "start_time": "2022-12-08T18:42:55.103941Z"
    }
   },
   "outputs": [
    {
     "data": {
      "text/plain": [
       "Index(['obj_kodas', 'obj_pav_x', 'form_kodas_x', 'form_pav_x',\n",
       "       'stat_statusas_x', 'stat_pav_x', 'template_id_x', 'template_name_x',\n",
       "       'standard_id_x', 'standard_name_x', 'laikotarpis_nuo_x',\n",
       "       'laikotarpis_iki_x', 'reg_date_x', 'nuosavas_kapitalas',\n",
       "       'mok_sumos_ir_isipareigojimai', 'ilgalaikis_turtas',\n",
       "       'trumpalaikis_turtas', 'formavimo_data_x', 'obj_pav_y', 'form_kodas_y',\n",
       "       'form_pav_y', 'stat_statusas_y', 'stat_pav_y', 'template_id_y',\n",
       "       'template_name_y', 'standard_id_y', 'standard_name_y',\n",
       "       'laikotarpis_nuo_y', 'laikotarpis_iki_y', 'reg_date_y',\n",
       "       'pelnas_pries_apmokestinima', 'grynasis_pelnas', 'pardavimo_pajamos',\n",
       "       'formavimo_data_y', 'Juridinių asmenų registro kodas (jarCode)',\n",
       "       'Vidutinis darbo užmokestis (avgWage)',\n",
       "       'Ekonominės veiklos rūšies pavadinimas(ecoActName)',\n",
       "       'Apdraustųjų skaičius (numInsured)',\n",
       "       'Ekonominės veiklos rūšies kodas(ecoActCode)',\n",
       "       'Savivaldybė, kurioje registruota(municipality)', 'turtas'],\n",
       "      dtype='object')"
      ]
     },
     "execution_count": 115,
     "metadata": {},
     "output_type": "execute_result"
    },
    {
     "data": {
      "application/javascript": [
       "\n",
       "            setTimeout(function() {\n",
       "                var nbb_cell_id = 115;\n",
       "                var nbb_unformatted_code = \"# labiausiai augusios mazos imones:\\n\\nmacro_imones_df_2021.columns\";\n",
       "                var nbb_formatted_code = \"# labiausiai augusios mazos imones:\\n\\nmacro_imones_df_2021.columns\";\n",
       "                var nbb_cells = Jupyter.notebook.get_cells();\n",
       "                for (var i = 0; i < nbb_cells.length; ++i) {\n",
       "                    if (nbb_cells[i].input_prompt_number == nbb_cell_id) {\n",
       "                        if (nbb_cells[i].get_text() == nbb_unformatted_code) {\n",
       "                             nbb_cells[i].set_text(nbb_formatted_code);\n",
       "                        }\n",
       "                        break;\n",
       "                    }\n",
       "                }\n",
       "            }, 500);\n",
       "            "
      ],
      "text/plain": [
       "<IPython.core.display.Javascript object>"
      ]
     },
     "metadata": {},
     "output_type": "display_data"
    }
   ],
   "source": [
    "# labiausiai augusios macro imones:\n",
    "\n",
    "macro_imones_df_2021.columns"
   ]
  },
  {
   "cell_type": "code",
   "execution_count": 126,
   "id": "f9ddfbce",
   "metadata": {
    "ExecuteTime": {
     "end_time": "2022-12-08T18:47:51.347127Z",
     "start_time": "2022-12-08T18:47:51.328177Z"
    }
   },
   "outputs": [
    {
     "data": {
      "application/javascript": [
       "\n",
       "            setTimeout(function() {\n",
       "                var nbb_cell_id = 126;\n",
       "                var nbb_unformatted_code = \"column_names_3 = [\\n    \\\"obj_kodas\\\",\\n    \\\"obj_pav\\\",\\n    \\\"grynasis_pelnas\\\",\\n    \\\"pardavimo_pajamos\\\",\\n    \\\"vid_atlyginimas\\\",\\n    \\\"darbuotoju_skaicius\\\",\\n]\\n\\nmacro_imones_df_2021_filtered = macro_imones_df_2021[\\n    [\\n        \\\"obj_kodas\\\",\\n        \\\"obj_pav_x\\\",\\n        \\\"grynasis_pelnas\\\",\\n        \\\"pardavimo_pajamos\\\",\\n        \\\"Vidutinis darbo u\\u017emokestis (avgWage)\\\",\\n        \\\"Apdraust\\u0173j\\u0173 skai\\u010dius (numInsured)\\\",\\n    ]\\n]\\nmacro_imones_df_2020_filtered = macro_imones_df_2020[\\n    [\\n        \\\"obj_kodas\\\",\\n        \\\"obj_pav_x\\\",\\n        \\\"grynasis_pelnas\\\",\\n        \\\"pardavimo_pajamos\\\",\\n        \\\"Vidutinis darbo u\\u017emokestis (avgWage)\\\",\\n        \\\"Apdraust\\u0173j\\u0173 skai\\u010dius (numInsured)\\\",\\n    ]\\n]\\nmacro_imones_df_2021_filtered.columns = column_names_3\\nmacro_imones_df_2020_filtered.columns = column_names_3\";\n",
       "                var nbb_formatted_code = \"column_names_3 = [\\n    \\\"obj_kodas\\\",\\n    \\\"obj_pav\\\",\\n    \\\"grynasis_pelnas\\\",\\n    \\\"pardavimo_pajamos\\\",\\n    \\\"vid_atlyginimas\\\",\\n    \\\"darbuotoju_skaicius\\\",\\n]\\n\\nmacro_imones_df_2021_filtered = macro_imones_df_2021[\\n    [\\n        \\\"obj_kodas\\\",\\n        \\\"obj_pav_x\\\",\\n        \\\"grynasis_pelnas\\\",\\n        \\\"pardavimo_pajamos\\\",\\n        \\\"Vidutinis darbo u\\u017emokestis (avgWage)\\\",\\n        \\\"Apdraust\\u0173j\\u0173 skai\\u010dius (numInsured)\\\",\\n    ]\\n]\\nmacro_imones_df_2020_filtered = macro_imones_df_2020[\\n    [\\n        \\\"obj_kodas\\\",\\n        \\\"obj_pav_x\\\",\\n        \\\"grynasis_pelnas\\\",\\n        \\\"pardavimo_pajamos\\\",\\n        \\\"Vidutinis darbo u\\u017emokestis (avgWage)\\\",\\n        \\\"Apdraust\\u0173j\\u0173 skai\\u010dius (numInsured)\\\",\\n    ]\\n]\\nmacro_imones_df_2021_filtered.columns = column_names_3\\nmacro_imones_df_2020_filtered.columns = column_names_3\";\n",
       "                var nbb_cells = Jupyter.notebook.get_cells();\n",
       "                for (var i = 0; i < nbb_cells.length; ++i) {\n",
       "                    if (nbb_cells[i].input_prompt_number == nbb_cell_id) {\n",
       "                        if (nbb_cells[i].get_text() == nbb_unformatted_code) {\n",
       "                             nbb_cells[i].set_text(nbb_formatted_code);\n",
       "                        }\n",
       "                        break;\n",
       "                    }\n",
       "                }\n",
       "            }, 500);\n",
       "            "
      ],
      "text/plain": [
       "<IPython.core.display.Javascript object>"
      ]
     },
     "metadata": {},
     "output_type": "display_data"
    }
   ],
   "source": [
    "# Filter needed columns:\n",
    "\n",
    "column_names_3 = [\n",
    "    \"obj_kodas\",\n",
    "    \"obj_pav\",\n",
    "    \"grynasis_pelnas\",\n",
    "    \"pardavimo_pajamos\",\n",
    "    \"vid_atlyginimas\",\n",
    "    \"darbuotoju_skaicius\",\n",
    "]\n",
    "\n",
    "macro_imones_df_2021_filtered = macro_imones_df_2021[\n",
    "    [\n",
    "        \"obj_kodas\",\n",
    "        \"obj_pav_x\",\n",
    "        \"grynasis_pelnas\",\n",
    "        \"pardavimo_pajamos\",\n",
    "        \"Vidutinis darbo užmokestis (avgWage)\",\n",
    "        \"Apdraustųjų skaičius (numInsured)\",\n",
    "    ]\n",
    "]\n",
    "macro_imones_df_2020_filtered = macro_imones_df_2020[\n",
    "    [\n",
    "        \"obj_kodas\",\n",
    "        \"obj_pav_x\",\n",
    "        \"grynasis_pelnas\",\n",
    "        \"pardavimo_pajamos\",\n",
    "        \"Vidutinis darbo užmokestis (avgWage)\",\n",
    "        \"Apdraustųjų skaičius (numInsured)\",\n",
    "    ]\n",
    "]\n",
    "macro_imones_df_2021_filtered.columns = column_names_3\n",
    "macro_imones_df_2020_filtered.columns = column_names_3"
   ]
  },
  {
   "cell_type": "code",
   "execution_count": 266,
   "id": "7f7b45a3",
   "metadata": {
    "ExecuteTime": {
     "end_time": "2022-12-08T19:47:42.194072Z",
     "start_time": "2022-12-08T19:47:42.151719Z"
    }
   },
   "outputs": [
    {
     "data": {
      "application/javascript": [
       "\n",
       "            setTimeout(function() {\n",
       "                var nbb_cell_id = 266;\n",
       "                var nbb_unformatted_code = \"# Merge to one dataframe:\\n\\nmacro_full = macro_imones_df_2021_filtered.merge(\\n    macro_imones_df_2020_filtered,\\n    how=\\\"inner\\\",\\n    left_on=\\\"obj_kodas\\\",\\n    right_on=\\\"obj_kodas\\\",\\n    left_index=False,\\n    right_index=False,\\n)\";\n",
       "                var nbb_formatted_code = \"# Merge to one dataframe:\\n\\nmacro_full = macro_imones_df_2021_filtered.merge(\\n    macro_imones_df_2020_filtered,\\n    how=\\\"inner\\\",\\n    left_on=\\\"obj_kodas\\\",\\n    right_on=\\\"obj_kodas\\\",\\n    left_index=False,\\n    right_index=False,\\n)\";\n",
       "                var nbb_cells = Jupyter.notebook.get_cells();\n",
       "                for (var i = 0; i < nbb_cells.length; ++i) {\n",
       "                    if (nbb_cells[i].input_prompt_number == nbb_cell_id) {\n",
       "                        if (nbb_cells[i].get_text() == nbb_unformatted_code) {\n",
       "                             nbb_cells[i].set_text(nbb_formatted_code);\n",
       "                        }\n",
       "                        break;\n",
       "                    }\n",
       "                }\n",
       "            }, 500);\n",
       "            "
      ],
      "text/plain": [
       "<IPython.core.display.Javascript object>"
      ]
     },
     "metadata": {},
     "output_type": "display_data"
    }
   ],
   "source": [
    "# Merge to one dataframe:\n",
    "\n",
    "macro_full = macro_imones_df_2021_filtered.merge(\n",
    "    macro_imones_df_2020_filtered,\n",
    "    how=\"inner\",\n",
    "    left_on=\"obj_kodas\",\n",
    "    right_on=\"obj_kodas\",\n",
    "    left_index=False,\n",
    "    right_index=False,\n",
    ")"
   ]
  },
  {
   "cell_type": "code",
   "execution_count": 275,
   "id": "c90d40fa",
   "metadata": {
    "ExecuteTime": {
     "end_time": "2022-12-08T19:48:50.867198Z",
     "start_time": "2022-12-08T19:48:50.851226Z"
    }
   },
   "outputs": [
    {
     "data": {
      "application/javascript": [
       "\n",
       "            setTimeout(function() {\n",
       "                var nbb_cell_id = 275;\n",
       "                var nbb_unformatted_code = \"# Pa\\u0161alinu neigiamas reik\\u0161mes (kad nerodyt\\u0173 nepelningai dirban\\u010di\\u0173 \\u012fmoni\\u0173):\\n\\nmacro_full = macro_full[\\n    (macro_full[\\\"pardavimo_pajamos_y\\\"] > 10000)\\n    & (macro_full[\\\"pardavimo_pajamos_x\\\"] > 10000)\\n    & (macro_full[\\\"grynasis_pelnas_x\\\"] > 10000)\\n    & (macro_full[\\\"grynasis_pelnas_y\\\"] > 10000)\\n    & (macro_full[\\\"darbuotoju_skaicius_x\\\"] > 5)\\n    & (macro_full[\\\"darbuotoju_skaicius_y\\\"] > 5)\\n]\";\n",
       "                var nbb_formatted_code = \"# Pa\\u0161alinu neigiamas reik\\u0161mes (kad nerodyt\\u0173 nepelningai dirban\\u010di\\u0173 \\u012fmoni\\u0173):\\n\\nmacro_full = macro_full[\\n    (macro_full[\\\"pardavimo_pajamos_y\\\"] > 10000)\\n    & (macro_full[\\\"pardavimo_pajamos_x\\\"] > 10000)\\n    & (macro_full[\\\"grynasis_pelnas_x\\\"] > 10000)\\n    & (macro_full[\\\"grynasis_pelnas_y\\\"] > 10000)\\n    & (macro_full[\\\"darbuotoju_skaicius_x\\\"] > 5)\\n    & (macro_full[\\\"darbuotoju_skaicius_y\\\"] > 5)\\n]\";\n",
       "                var nbb_cells = Jupyter.notebook.get_cells();\n",
       "                for (var i = 0; i < nbb_cells.length; ++i) {\n",
       "                    if (nbb_cells[i].input_prompt_number == nbb_cell_id) {\n",
       "                        if (nbb_cells[i].get_text() == nbb_unformatted_code) {\n",
       "                             nbb_cells[i].set_text(nbb_formatted_code);\n",
       "                        }\n",
       "                        break;\n",
       "                    }\n",
       "                }\n",
       "            }, 500);\n",
       "            "
      ],
      "text/plain": [
       "<IPython.core.display.Javascript object>"
      ]
     },
     "metadata": {},
     "output_type": "display_data"
    }
   ],
   "source": [
    "# Pašalinu neigiamas reikšmes (kad nerodytų nepelningai dirbančių įmonių):\n",
    "\n",
    "macro_full = macro_full[\n",
    "    (macro_full[\"pardavimo_pajamos_y\"] > 10000)\n",
    "    & (macro_full[\"pardavimo_pajamos_x\"] > 10000)\n",
    "    & (macro_full[\"grynasis_pelnas_x\"] > 10000)\n",
    "    & (macro_full[\"grynasis_pelnas_y\"] > 10000)\n",
    "    & (macro_full[\"darbuotoju_skaicius_x\"] > 5)\n",
    "    & (macro_full[\"darbuotoju_skaicius_y\"] > 5)\n",
    "]"
   ]
  },
  {
   "cell_type": "code",
   "execution_count": 276,
   "id": "fd2745ea",
   "metadata": {
    "ExecuteTime": {
     "end_time": "2022-12-08T19:48:52.371984Z",
     "start_time": "2022-12-08T19:48:52.355064Z"
    }
   },
   "outputs": [
    {
     "data": {
      "application/javascript": [
       "\n",
       "            setTimeout(function() {\n",
       "                var nbb_cell_id = 276;\n",
       "                var nbb_unformatted_code = \"# Sukuriu procentinius augimo stulpelius pelnui, pajamoms, darbuotojams\\n\\nmacro_full[\\\"pajamos_ptc\\\"] = (\\n    (macro_full[\\\"pardavimo_pajamos_x\\\"] - macro_full[\\\"pardavimo_pajamos_y\\\"])\\n    / macro_full[\\\"pardavimo_pajamos_y\\\"]\\n    * 100\\n)\\n\\nmacro_full[\\\"pelnas_ptc\\\"] = (\\n    (macro_full[\\\"grynasis_pelnas_x\\\"] - macro_full[\\\"grynasis_pelnas_y\\\"])\\n    / macro_full[\\\"grynasis_pelnas_y\\\"]\\n    * 100\\n)\\n\\nmacro_full[\\\"darbuotojai_ptc\\\"] = (\\n    (macro_full[\\\"darbuotoju_skaicius_x\\\"] - macro_full[\\\"darbuotoju_skaicius_y\\\"])\\n    / macro_full[\\\"darbuotoju_skaicius_y\\\"]\\n    * 100\\n)\";\n",
       "                var nbb_formatted_code = \"# Sukuriu procentinius augimo stulpelius pelnui, pajamoms, darbuotojams\\n\\nmacro_full[\\\"pajamos_ptc\\\"] = (\\n    (macro_full[\\\"pardavimo_pajamos_x\\\"] - macro_full[\\\"pardavimo_pajamos_y\\\"])\\n    / macro_full[\\\"pardavimo_pajamos_y\\\"]\\n    * 100\\n)\\n\\nmacro_full[\\\"pelnas_ptc\\\"] = (\\n    (macro_full[\\\"grynasis_pelnas_x\\\"] - macro_full[\\\"grynasis_pelnas_y\\\"])\\n    / macro_full[\\\"grynasis_pelnas_y\\\"]\\n    * 100\\n)\\n\\nmacro_full[\\\"darbuotojai_ptc\\\"] = (\\n    (macro_full[\\\"darbuotoju_skaicius_x\\\"] - macro_full[\\\"darbuotoju_skaicius_y\\\"])\\n    / macro_full[\\\"darbuotoju_skaicius_y\\\"]\\n    * 100\\n)\";\n",
       "                var nbb_cells = Jupyter.notebook.get_cells();\n",
       "                for (var i = 0; i < nbb_cells.length; ++i) {\n",
       "                    if (nbb_cells[i].input_prompt_number == nbb_cell_id) {\n",
       "                        if (nbb_cells[i].get_text() == nbb_unformatted_code) {\n",
       "                             nbb_cells[i].set_text(nbb_formatted_code);\n",
       "                        }\n",
       "                        break;\n",
       "                    }\n",
       "                }\n",
       "            }, 500);\n",
       "            "
      ],
      "text/plain": [
       "<IPython.core.display.Javascript object>"
      ]
     },
     "metadata": {},
     "output_type": "display_data"
    }
   ],
   "source": [
    "# Sukuriu procentinius augimo stulpelius pelnui, pajamoms, darbuotojams\n",
    "\n",
    "macro_full[\"pajamos_ptc\"] = (\n",
    "    (macro_full[\"pardavimo_pajamos_x\"] - macro_full[\"pardavimo_pajamos_y\"])\n",
    "    / macro_full[\"pardavimo_pajamos_y\"]\n",
    "    * 100\n",
    ")\n",
    "\n",
    "macro_full[\"pelnas_ptc\"] = (\n",
    "    (macro_full[\"grynasis_pelnas_x\"] - macro_full[\"grynasis_pelnas_y\"])\n",
    "    / macro_full[\"grynasis_pelnas_y\"]\n",
    "    * 100\n",
    ")\n",
    "\n",
    "macro_full[\"darbuotojai_ptc\"] = (\n",
    "    (macro_full[\"darbuotoju_skaicius_x\"] - macro_full[\"darbuotoju_skaicius_y\"])\n",
    "    / macro_full[\"darbuotoju_skaicius_y\"]\n",
    "    * 100\n",
    ")"
   ]
  },
  {
   "cell_type": "code",
   "execution_count": 277,
   "id": "92d1f70f",
   "metadata": {
    "ExecuteTime": {
     "end_time": "2022-12-08T19:48:53.933564Z",
     "start_time": "2022-12-08T19:48:53.920626Z"
    }
   },
   "outputs": [
    {
     "data": {
      "text/html": [
       "<div>\n",
       "<style scoped>\n",
       "    .dataframe tbody tr th:only-of-type {\n",
       "        vertical-align: middle;\n",
       "    }\n",
       "\n",
       "    .dataframe tbody tr th {\n",
       "        vertical-align: top;\n",
       "    }\n",
       "\n",
       "    .dataframe thead th {\n",
       "        text-align: right;\n",
       "    }\n",
       "</style>\n",
       "<table border=\"1\" class=\"dataframe\">\n",
       "  <thead>\n",
       "    <tr style=\"text-align: right;\">\n",
       "      <th></th>\n",
       "      <th>obj_pav_x</th>\n",
       "      <th>pelnas_ptc</th>\n",
       "    </tr>\n",
       "  </thead>\n",
       "  <tbody>\n",
       "    <tr>\n",
       "      <th>20748</th>\n",
       "      <td>UAB \"Cessio\"</td>\n",
       "      <td>1979.878429</td>\n",
       "    </tr>\n",
       "    <tr>\n",
       "      <th>37370</th>\n",
       "      <td>UAB \"Tiksli forma\"</td>\n",
       "      <td>1496.815858</td>\n",
       "    </tr>\n",
       "    <tr>\n",
       "      <th>41667</th>\n",
       "      <td>UAB \"NORKĖ\"</td>\n",
       "      <td>1405.810741</td>\n",
       "    </tr>\n",
       "    <tr>\n",
       "      <th>35741</th>\n",
       "      <td>UAB \"Jurfa\"</td>\n",
       "      <td>1368.967123</td>\n",
       "    </tr>\n",
       "    <tr>\n",
       "      <th>121</th>\n",
       "      <td>Uždaroji akcinė bendrovė \"KORPORACIJA TJANŠI\"</td>\n",
       "      <td>1341.124856</td>\n",
       "    </tr>\n",
       "    <tr>\n",
       "      <th>57341</th>\n",
       "      <td>ŽŪB \"Savarina\"</td>\n",
       "      <td>1044.137142</td>\n",
       "    </tr>\n",
       "    <tr>\n",
       "      <th>15499</th>\n",
       "      <td>UAB \"Linkona\"</td>\n",
       "      <td>979.188989</td>\n",
       "    </tr>\n",
       "    <tr>\n",
       "      <th>14058</th>\n",
       "      <td>AL-KO Technology Lithuania UAB</td>\n",
       "      <td>851.184505</td>\n",
       "    </tr>\n",
       "    <tr>\n",
       "      <th>37601</th>\n",
       "      <td>Uždaroji akcinė bendrovė \"SOLISUN BALTIC\"</td>\n",
       "      <td>707.254426</td>\n",
       "    </tr>\n",
       "    <tr>\n",
       "      <th>31898</th>\n",
       "      <td>UAB \"Žaidimų aikštelių įranga\"</td>\n",
       "      <td>703.853773</td>\n",
       "    </tr>\n",
       "    <tr>\n",
       "      <th>2160</th>\n",
       "      <td>UAB \"Karal Trading\"</td>\n",
       "      <td>674.191988</td>\n",
       "    </tr>\n",
       "    <tr>\n",
       "      <th>13793</th>\n",
       "      <td>UAB \"GENERGA\"</td>\n",
       "      <td>664.908500</td>\n",
       "    </tr>\n",
       "    <tr>\n",
       "      <th>9351</th>\n",
       "      <td>Virgilita UAB</td>\n",
       "      <td>659.102782</td>\n",
       "    </tr>\n",
       "    <tr>\n",
       "      <th>39806</th>\n",
       "      <td>UAB GINRASA</td>\n",
       "      <td>658.490075</td>\n",
       "    </tr>\n",
       "    <tr>\n",
       "      <th>18670</th>\n",
       "      <td>UAB \"Urbanistikos formatas\"</td>\n",
       "      <td>629.442623</td>\n",
       "    </tr>\n",
       "  </tbody>\n",
       "</table>\n",
       "</div>"
      ],
      "text/plain": [
       "                                           obj_pav_x   pelnas_ptc\n",
       "20748                                   UAB \"Cessio\"  1979.878429\n",
       "37370                             UAB \"Tiksli forma\"  1496.815858\n",
       "41667                                    UAB \"NORKĖ\"  1405.810741\n",
       "35741                                    UAB \"Jurfa\"  1368.967123\n",
       "121    Uždaroji akcinė bendrovė \"KORPORACIJA TJANŠI\"  1341.124856\n",
       "57341                                 ŽŪB \"Savarina\"  1044.137142\n",
       "15499                                  UAB \"Linkona\"   979.188989\n",
       "14058                 AL-KO Technology Lithuania UAB   851.184505\n",
       "37601      Uždaroji akcinė bendrovė \"SOLISUN BALTIC\"   707.254426\n",
       "31898                 UAB \"Žaidimų aikštelių įranga\"   703.853773\n",
       "2160                             UAB \"Karal Trading\"   674.191988\n",
       "13793                                  UAB \"GENERGA\"   664.908500\n",
       "9351                                   Virgilita UAB   659.102782\n",
       "39806                                    UAB GINRASA   658.490075\n",
       "18670                    UAB \"Urbanistikos formatas\"   629.442623"
      ]
     },
     "execution_count": 277,
     "metadata": {},
     "output_type": "execute_result"
    },
    {
     "data": {
      "application/javascript": [
       "\n",
       "            setTimeout(function() {\n",
       "                var nbb_cell_id = 277;\n",
       "                var nbb_unformatted_code = \"# Labiausiai augusios \\u012fmon\\u0117s pagal peln\\u0105 pct:\\n\\nmacro_full[[\\\"obj_pav_x\\\", \\\"pelnas_ptc\\\"]].sort_values(by=\\\"pelnas_ptc\\\", ascending=False)[\\n    0:15\\n]\";\n",
       "                var nbb_formatted_code = \"# Labiausiai augusios \\u012fmon\\u0117s pagal peln\\u0105 pct:\\n\\nmacro_full[[\\\"obj_pav_x\\\", \\\"pelnas_ptc\\\"]].sort_values(by=\\\"pelnas_ptc\\\", ascending=False)[\\n    0:15\\n]\";\n",
       "                var nbb_cells = Jupyter.notebook.get_cells();\n",
       "                for (var i = 0; i < nbb_cells.length; ++i) {\n",
       "                    if (nbb_cells[i].input_prompt_number == nbb_cell_id) {\n",
       "                        if (nbb_cells[i].get_text() == nbb_unformatted_code) {\n",
       "                             nbb_cells[i].set_text(nbb_formatted_code);\n",
       "                        }\n",
       "                        break;\n",
       "                    }\n",
       "                }\n",
       "            }, 500);\n",
       "            "
      ],
      "text/plain": [
       "<IPython.core.display.Javascript object>"
      ]
     },
     "metadata": {},
     "output_type": "display_data"
    }
   ],
   "source": [
    "# Labiausiai augusios įmonės pagal pelną pct:\n",
    "\n",
    "macro_full[[\"obj_pav_x\", \"pelnas_ptc\"]].sort_values(by=\"pelnas_ptc\", ascending=False)[\n",
    "    0:15\n",
    "]"
   ]
  },
  {
   "cell_type": "code",
   "execution_count": 278,
   "id": "58f5a108",
   "metadata": {
    "ExecuteTime": {
     "end_time": "2022-12-08T19:48:56.291470Z",
     "start_time": "2022-12-08T19:48:56.278455Z"
    }
   },
   "outputs": [
    {
     "data": {
      "text/html": [
       "<div>\n",
       "<style scoped>\n",
       "    .dataframe tbody tr th:only-of-type {\n",
       "        vertical-align: middle;\n",
       "    }\n",
       "\n",
       "    .dataframe tbody tr th {\n",
       "        vertical-align: top;\n",
       "    }\n",
       "\n",
       "    .dataframe thead th {\n",
       "        text-align: right;\n",
       "    }\n",
       "</style>\n",
       "<table border=\"1\" class=\"dataframe\">\n",
       "  <thead>\n",
       "    <tr style=\"text-align: right;\">\n",
       "      <th></th>\n",
       "      <th>obj_pav_x</th>\n",
       "      <th>pajamos_ptc</th>\n",
       "    </tr>\n",
       "  </thead>\n",
       "  <tbody>\n",
       "    <tr>\n",
       "      <th>29409</th>\n",
       "      <td>UAB \"Ortopedijos paslaugos\"</td>\n",
       "      <td>1498.874447</td>\n",
       "    </tr>\n",
       "    <tr>\n",
       "      <th>41667</th>\n",
       "      <td>UAB \"NORKĖ\"</td>\n",
       "      <td>664.514346</td>\n",
       "    </tr>\n",
       "    <tr>\n",
       "      <th>57750</th>\n",
       "      <td>UAB \"Čeringa\"</td>\n",
       "      <td>630.682129</td>\n",
       "    </tr>\n",
       "    <tr>\n",
       "      <th>25821</th>\n",
       "      <td>\"Starksida\" UAB</td>\n",
       "      <td>628.744025</td>\n",
       "    </tr>\n",
       "    <tr>\n",
       "      <th>47512</th>\n",
       "      <td>UAB \"Zipis\"</td>\n",
       "      <td>553.914148</td>\n",
       "    </tr>\n",
       "    <tr>\n",
       "      <th>47514</th>\n",
       "      <td>UAB \"Zipis\"</td>\n",
       "      <td>553.914148</td>\n",
       "    </tr>\n",
       "    <tr>\n",
       "      <th>20732</th>\n",
       "      <td>UAB AMBERMAGIC</td>\n",
       "      <td>502.276409</td>\n",
       "    </tr>\n",
       "    <tr>\n",
       "      <th>24770</th>\n",
       "      <td>UAB \"Alkensta\"</td>\n",
       "      <td>495.500240</td>\n",
       "    </tr>\n",
       "    <tr>\n",
       "      <th>15771</th>\n",
       "      <td>UAB \"Avantus\"</td>\n",
       "      <td>461.211708</td>\n",
       "    </tr>\n",
       "    <tr>\n",
       "      <th>23797</th>\n",
       "      <td>UAB \"TJLT\"</td>\n",
       "      <td>450.734838</td>\n",
       "    </tr>\n",
       "    <tr>\n",
       "      <th>23805</th>\n",
       "      <td>UAB \"TJLT\"</td>\n",
       "      <td>450.734838</td>\n",
       "    </tr>\n",
       "    <tr>\n",
       "      <th>23795</th>\n",
       "      <td>UAB \"TJLT\"</td>\n",
       "      <td>450.734838</td>\n",
       "    </tr>\n",
       "    <tr>\n",
       "      <th>23803</th>\n",
       "      <td>UAB \"TJLT\"</td>\n",
       "      <td>450.734838</td>\n",
       "    </tr>\n",
       "    <tr>\n",
       "      <th>20301</th>\n",
       "      <td>UAB \"Rugeta\"</td>\n",
       "      <td>370.250716</td>\n",
       "    </tr>\n",
       "    <tr>\n",
       "      <th>31293</th>\n",
       "      <td>UAB \"Solita\"</td>\n",
       "      <td>358.944997</td>\n",
       "    </tr>\n",
       "  </tbody>\n",
       "</table>\n",
       "</div>"
      ],
      "text/plain": [
       "                         obj_pav_x  pajamos_ptc\n",
       "29409  UAB \"Ortopedijos paslaugos\"  1498.874447\n",
       "41667                  UAB \"NORKĖ\"   664.514346\n",
       "57750                UAB \"Čeringa\"   630.682129\n",
       "25821              \"Starksida\" UAB   628.744025\n",
       "47512                  UAB \"Zipis\"   553.914148\n",
       "47514                  UAB \"Zipis\"   553.914148\n",
       "20732               UAB AMBERMAGIC   502.276409\n",
       "24770               UAB \"Alkensta\"   495.500240\n",
       "15771                UAB \"Avantus\"   461.211708\n",
       "23797                   UAB \"TJLT\"   450.734838\n",
       "23805                   UAB \"TJLT\"   450.734838\n",
       "23795                   UAB \"TJLT\"   450.734838\n",
       "23803                   UAB \"TJLT\"   450.734838\n",
       "20301                 UAB \"Rugeta\"   370.250716\n",
       "31293                 UAB \"Solita\"   358.944997"
      ]
     },
     "execution_count": 278,
     "metadata": {},
     "output_type": "execute_result"
    },
    {
     "data": {
      "application/javascript": [
       "\n",
       "            setTimeout(function() {\n",
       "                var nbb_cell_id = 278;\n",
       "                var nbb_unformatted_code = \"# Labiausiai augusios \\u012fmon\\u0117s pagal pajamas pct:\\n\\nmacro_full[[\\\"obj_pav_x\\\", \\\"pajamos_ptc\\\"]].sort_values(by=\\\"pajamos_ptc\\\", ascending=False)[\\n    0:15\\n]\";\n",
       "                var nbb_formatted_code = \"# Labiausiai augusios \\u012fmon\\u0117s pagal pajamas pct:\\n\\nmacro_full[[\\\"obj_pav_x\\\", \\\"pajamos_ptc\\\"]].sort_values(by=\\\"pajamos_ptc\\\", ascending=False)[\\n    0:15\\n]\";\n",
       "                var nbb_cells = Jupyter.notebook.get_cells();\n",
       "                for (var i = 0; i < nbb_cells.length; ++i) {\n",
       "                    if (nbb_cells[i].input_prompt_number == nbb_cell_id) {\n",
       "                        if (nbb_cells[i].get_text() == nbb_unformatted_code) {\n",
       "                             nbb_cells[i].set_text(nbb_formatted_code);\n",
       "                        }\n",
       "                        break;\n",
       "                    }\n",
       "                }\n",
       "            }, 500);\n",
       "            "
      ],
      "text/plain": [
       "<IPython.core.display.Javascript object>"
      ]
     },
     "metadata": {},
     "output_type": "display_data"
    }
   ],
   "source": [
    "# Labiausiai augusios įmonės pagal pajamas pct:\n",
    "\n",
    "macro_full[[\"obj_pav_x\", \"pajamos_ptc\"]].sort_values(by=\"pajamos_ptc\", ascending=False)[\n",
    "    0:15\n",
    "]"
   ]
  },
  {
   "cell_type": "code",
   "execution_count": 279,
   "id": "5f1dda4f",
   "metadata": {
    "ExecuteTime": {
     "end_time": "2022-12-08T19:48:58.347833Z",
     "start_time": "2022-12-08T19:48:58.327887Z"
    }
   },
   "outputs": [
    {
     "data": {
      "text/html": [
       "<div>\n",
       "<style scoped>\n",
       "    .dataframe tbody tr th:only-of-type {\n",
       "        vertical-align: middle;\n",
       "    }\n",
       "\n",
       "    .dataframe tbody tr th {\n",
       "        vertical-align: top;\n",
       "    }\n",
       "\n",
       "    .dataframe thead th {\n",
       "        text-align: right;\n",
       "    }\n",
       "</style>\n",
       "<table border=\"1\" class=\"dataframe\">\n",
       "  <thead>\n",
       "    <tr style=\"text-align: right;\">\n",
       "      <th></th>\n",
       "      <th>obj_pav_x</th>\n",
       "      <th>darbuotojai_ptc</th>\n",
       "    </tr>\n",
       "  </thead>\n",
       "  <tbody>\n",
       "    <tr>\n",
       "      <th>23860</th>\n",
       "      <td>REMATRADE UAB</td>\n",
       "      <td>50.0</td>\n",
       "    </tr>\n",
       "    <tr>\n",
       "      <th>10981</th>\n",
       "      <td>UAB \"RAKVA\"</td>\n",
       "      <td>50.0</td>\n",
       "    </tr>\n",
       "    <tr>\n",
       "      <th>48489</th>\n",
       "      <td>Uždaroji akcinė bendrovė \"Arnavita\"</td>\n",
       "      <td>50.0</td>\n",
       "    </tr>\n",
       "    <tr>\n",
       "      <th>48770</th>\n",
       "      <td>UAB \"Baltic foodis\"</td>\n",
       "      <td>50.0</td>\n",
       "    </tr>\n",
       "    <tr>\n",
       "      <th>29935</th>\n",
       "      <td>UAB \"Finansų ekspertai\"</td>\n",
       "      <td>50.0</td>\n",
       "    </tr>\n",
       "    <tr>\n",
       "      <th>29934</th>\n",
       "      <td>UAB \"Finansų ekspertai\"</td>\n",
       "      <td>50.0</td>\n",
       "    </tr>\n",
       "    <tr>\n",
       "      <th>11558</th>\n",
       "      <td>UAB \"Personalo paslaugos\"</td>\n",
       "      <td>50.0</td>\n",
       "    </tr>\n",
       "    <tr>\n",
       "      <th>29933</th>\n",
       "      <td>UAB \"Finansų ekspertai\"</td>\n",
       "      <td>50.0</td>\n",
       "    </tr>\n",
       "    <tr>\n",
       "      <th>29932</th>\n",
       "      <td>UAB \"Finansų ekspertai\"</td>\n",
       "      <td>50.0</td>\n",
       "    </tr>\n",
       "    <tr>\n",
       "      <th>42717</th>\n",
       "      <td>UAB \"Žemaitijos medis\"</td>\n",
       "      <td>50.0</td>\n",
       "    </tr>\n",
       "    <tr>\n",
       "      <th>55443</th>\n",
       "      <td>UAB \"Gopestetika\"</td>\n",
       "      <td>50.0</td>\n",
       "    </tr>\n",
       "    <tr>\n",
       "      <th>57547</th>\n",
       "      <td>Uždaroji akcinė bendrovė \"R. ir R. Žiobakų gin...</td>\n",
       "      <td>50.0</td>\n",
       "    </tr>\n",
       "    <tr>\n",
       "      <th>42493</th>\n",
       "      <td>UAB \"Medvalis\"</td>\n",
       "      <td>50.0</td>\n",
       "    </tr>\n",
       "    <tr>\n",
       "      <th>42261</th>\n",
       "      <td>MB \"Žemelda\"</td>\n",
       "      <td>50.0</td>\n",
       "    </tr>\n",
       "    <tr>\n",
       "      <th>10114</th>\n",
       "      <td>UAB \"Virdera\"</td>\n",
       "      <td>50.0</td>\n",
       "    </tr>\n",
       "  </tbody>\n",
       "</table>\n",
       "</div>"
      ],
      "text/plain": [
       "                                               obj_pav_x  darbuotojai_ptc\n",
       "23860                                      REMATRADE UAB             50.0\n",
       "10981                                        UAB \"RAKVA\"             50.0\n",
       "48489                Uždaroji akcinė bendrovė \"Arnavita\"             50.0\n",
       "48770                                UAB \"Baltic foodis\"             50.0\n",
       "29935                            UAB \"Finansų ekspertai\"             50.0\n",
       "29934                            UAB \"Finansų ekspertai\"             50.0\n",
       "11558                          UAB \"Personalo paslaugos\"             50.0\n",
       "29933                            UAB \"Finansų ekspertai\"             50.0\n",
       "29932                            UAB \"Finansų ekspertai\"             50.0\n",
       "42717                             UAB \"Žemaitijos medis\"             50.0\n",
       "55443                                  UAB \"Gopestetika\"             50.0\n",
       "57547  Uždaroji akcinė bendrovė \"R. ir R. Žiobakų gin...             50.0\n",
       "42493                                     UAB \"Medvalis\"             50.0\n",
       "42261                                       MB \"Žemelda\"             50.0\n",
       "10114                                      UAB \"Virdera\"             50.0"
      ]
     },
     "execution_count": 279,
     "metadata": {},
     "output_type": "execute_result"
    },
    {
     "data": {
      "application/javascript": [
       "\n",
       "            setTimeout(function() {\n",
       "                var nbb_cell_id = 279;\n",
       "                var nbb_unformatted_code = \"# Labiausiai augusios \\u012fmon\\u0117s pagal darbuotoj\\u0173 skai\\u010di\\u0173 pct:\\n\\nmacro_full[[\\\"obj_pav_x\\\", \\\"darbuotojai_ptc\\\"]].sort_values(\\n    by=\\\"darbuotojai_ptc\\\", ascending=False\\n)[0:15]\";\n",
       "                var nbb_formatted_code = \"# Labiausiai augusios \\u012fmon\\u0117s pagal darbuotoj\\u0173 skai\\u010di\\u0173 pct:\\n\\nmacro_full[[\\\"obj_pav_x\\\", \\\"darbuotojai_ptc\\\"]].sort_values(\\n    by=\\\"darbuotojai_ptc\\\", ascending=False\\n)[0:15]\";\n",
       "                var nbb_cells = Jupyter.notebook.get_cells();\n",
       "                for (var i = 0; i < nbb_cells.length; ++i) {\n",
       "                    if (nbb_cells[i].input_prompt_number == nbb_cell_id) {\n",
       "                        if (nbb_cells[i].get_text() == nbb_unformatted_code) {\n",
       "                             nbb_cells[i].set_text(nbb_formatted_code);\n",
       "                        }\n",
       "                        break;\n",
       "                    }\n",
       "                }\n",
       "            }, 500);\n",
       "            "
      ],
      "text/plain": [
       "<IPython.core.display.Javascript object>"
      ]
     },
     "metadata": {},
     "output_type": "display_data"
    }
   ],
   "source": [
    "# Labiausiai augusios įmonės pagal darbuotojų skaičių pct:\n",
    "\n",
    "macro_full[[\"obj_pav_x\", \"darbuotojai_ptc\"]].sort_values(\n",
    "    by=\"darbuotojai_ptc\", ascending=False\n",
    ")[0:15]"
   ]
  },
  {
   "cell_type": "code",
   "execution_count": 282,
   "id": "cdb20531",
   "metadata": {
    "ExecuteTime": {
     "end_time": "2022-12-08T19:50:10.590889Z",
     "start_time": "2022-12-08T19:50:10.583907Z"
    }
   },
   "outputs": [
    {
     "data": {
      "application/javascript": [
       "\n",
       "            setTimeout(function() {\n",
       "                var nbb_cell_id = 282;\n",
       "                var nbb_unformatted_code = \"# Labiausiai augusi \\u012fmon\\u0117 UAB \\\"NORK\\u0116\\\" nes papuola tiek pagal peln\\u0105, tiek pagal pajamas \\u012f geriausi\\u0173 penketuk\\u0105.\";\n",
       "                var nbb_formatted_code = \"# Labiausiai augusi \\u012fmon\\u0117 UAB \\\"NORK\\u0116\\\" nes papuola tiek pagal peln\\u0105, tiek pagal pajamas \\u012f geriausi\\u0173 penketuk\\u0105.\";\n",
       "                var nbb_cells = Jupyter.notebook.get_cells();\n",
       "                for (var i = 0; i < nbb_cells.length; ++i) {\n",
       "                    if (nbb_cells[i].input_prompt_number == nbb_cell_id) {\n",
       "                        if (nbb_cells[i].get_text() == nbb_unformatted_code) {\n",
       "                             nbb_cells[i].set_text(nbb_formatted_code);\n",
       "                        }\n",
       "                        break;\n",
       "                    }\n",
       "                }\n",
       "            }, 500);\n",
       "            "
      ],
      "text/plain": [
       "<IPython.core.display.Javascript object>"
      ]
     },
     "metadata": {},
     "output_type": "display_data"
    }
   ],
   "source": [
    "# Labiausiai augusi įmonė UAB \"NORKĖ\" nes papuola tiek pagal pelną, tiek pagal pajamas į geriausių penketuką."
   ]
  },
  {
   "cell_type": "code",
   "execution_count": null,
   "id": "2b58a5a2",
   "metadata": {
    "ExecuteTime": {
     "end_time": "2022-12-08T19:50:03.203019Z",
     "start_time": "2022-12-08T19:50:02.306663Z"
    }
   },
   "outputs": [],
   "source": [
    "# labiausiai augusios mazos imones:"
   ]
  },
  {
   "cell_type": "code",
   "execution_count": null,
   "id": "f9372a84",
   "metadata": {},
   "outputs": [],
   "source": [
    "mazos_imones_df_2021"
   ]
  },
  {
   "cell_type": "code",
   "execution_count": 283,
   "id": "f3767ffa",
   "metadata": {
    "ExecuteTime": {
     "end_time": "2022-12-08T19:51:46.727511Z",
     "start_time": "2022-12-08T19:51:46.672616Z"
    }
   },
   "outputs": [
    {
     "data": {
      "application/javascript": [
       "\n",
       "            setTimeout(function() {\n",
       "                var nbb_cell_id = 283;\n",
       "                var nbb_unformatted_code = \"column_names_3 = [\\n    \\\"obj_kodas\\\",\\n    \\\"obj_pav\\\",\\n    \\\"grynasis_pelnas\\\",\\n    \\\"pardavimo_pajamos\\\",\\n    \\\"vid_atlyginimas\\\",\\n    \\\"darbuotoju_skaicius\\\",\\n]\\n\\nmazos_imones_df_2021_filtered = mazos_imones_df_2021[\\n    [\\n        \\\"obj_kodas\\\",\\n        \\\"obj_pav_x\\\",\\n        \\\"grynasis_pelnas\\\",\\n        \\\"pardavimo_pajamos\\\",\\n        \\\"Vidutinis darbo u\\u017emokestis (avgWage)\\\",\\n        \\\"Apdraust\\u0173j\\u0173 skai\\u010dius (numInsured)\\\",\\n    ]\\n]\\nmazos_imones_df_2020_filtered = mazos_imones_df_2020[\\n    [\\n        \\\"obj_kodas\\\",\\n        \\\"obj_pav_x\\\",\\n        \\\"grynasis_pelnas\\\",\\n        \\\"pardavimo_pajamos\\\",\\n        \\\"Vidutinis darbo u\\u017emokestis (avgWage)\\\",\\n        \\\"Apdraust\\u0173j\\u0173 skai\\u010dius (numInsured)\\\",\\n    ]\\n]\\nmazos_imones_df_2021_filtered.columns = column_names_3\\nmazos_imones_df_2020_filtered.columns = column_names_3\";\n",
       "                var nbb_formatted_code = \"column_names_3 = [\\n    \\\"obj_kodas\\\",\\n    \\\"obj_pav\\\",\\n    \\\"grynasis_pelnas\\\",\\n    \\\"pardavimo_pajamos\\\",\\n    \\\"vid_atlyginimas\\\",\\n    \\\"darbuotoju_skaicius\\\",\\n]\\n\\nmazos_imones_df_2021_filtered = mazos_imones_df_2021[\\n    [\\n        \\\"obj_kodas\\\",\\n        \\\"obj_pav_x\\\",\\n        \\\"grynasis_pelnas\\\",\\n        \\\"pardavimo_pajamos\\\",\\n        \\\"Vidutinis darbo u\\u017emokestis (avgWage)\\\",\\n        \\\"Apdraust\\u0173j\\u0173 skai\\u010dius (numInsured)\\\",\\n    ]\\n]\\nmazos_imones_df_2020_filtered = mazos_imones_df_2020[\\n    [\\n        \\\"obj_kodas\\\",\\n        \\\"obj_pav_x\\\",\\n        \\\"grynasis_pelnas\\\",\\n        \\\"pardavimo_pajamos\\\",\\n        \\\"Vidutinis darbo u\\u017emokestis (avgWage)\\\",\\n        \\\"Apdraust\\u0173j\\u0173 skai\\u010dius (numInsured)\\\",\\n    ]\\n]\\nmazos_imones_df_2021_filtered.columns = column_names_3\\nmazos_imones_df_2020_filtered.columns = column_names_3\";\n",
       "                var nbb_cells = Jupyter.notebook.get_cells();\n",
       "                for (var i = 0; i < nbb_cells.length; ++i) {\n",
       "                    if (nbb_cells[i].input_prompt_number == nbb_cell_id) {\n",
       "                        if (nbb_cells[i].get_text() == nbb_unformatted_code) {\n",
       "                             nbb_cells[i].set_text(nbb_formatted_code);\n",
       "                        }\n",
       "                        break;\n",
       "                    }\n",
       "                }\n",
       "            }, 500);\n",
       "            "
      ],
      "text/plain": [
       "<IPython.core.display.Javascript object>"
      ]
     },
     "metadata": {},
     "output_type": "display_data"
    }
   ],
   "source": [
    "column_names_3 = [\n",
    "    \"obj_kodas\",\n",
    "    \"obj_pav\",\n",
    "    \"grynasis_pelnas\",\n",
    "    \"pardavimo_pajamos\",\n",
    "    \"vid_atlyginimas\",\n",
    "    \"darbuotoju_skaicius\",\n",
    "]\n",
    "\n",
    "mazos_imones_df_2021_filtered = mazos_imones_df_2021[\n",
    "    [\n",
    "        \"obj_kodas\",\n",
    "        \"obj_pav_x\",\n",
    "        \"grynasis_pelnas\",\n",
    "        \"pardavimo_pajamos\",\n",
    "        \"Vidutinis darbo užmokestis (avgWage)\",\n",
    "        \"Apdraustųjų skaičius (numInsured)\",\n",
    "    ]\n",
    "]\n",
    "mazos_imones_df_2020_filtered = mazos_imones_df_2020[\n",
    "    [\n",
    "        \"obj_kodas\",\n",
    "        \"obj_pav_x\",\n",
    "        \"grynasis_pelnas\",\n",
    "        \"pardavimo_pajamos\",\n",
    "        \"Vidutinis darbo užmokestis (avgWage)\",\n",
    "        \"Apdraustųjų skaičius (numInsured)\",\n",
    "    ]\n",
    "]\n",
    "mazos_imones_df_2021_filtered.columns = column_names_3\n",
    "mazos_imones_df_2020_filtered.columns = column_names_3"
   ]
  },
  {
   "cell_type": "code",
   "execution_count": 284,
   "id": "02e07ae7",
   "metadata": {
    "ExecuteTime": {
     "end_time": "2022-12-08T19:52:12.000919Z",
     "start_time": "2022-12-08T19:52:11.939119Z"
    }
   },
   "outputs": [
    {
     "data": {
      "application/javascript": [
       "\n",
       "            setTimeout(function() {\n",
       "                var nbb_cell_id = 284;\n",
       "                var nbb_unformatted_code = \"# Merge to one dataframe:\\n\\nmazos_full = mazos_imones_df_2021_filtered.merge(\\n    mazos_imones_df_2020_filtered,\\n    how=\\\"inner\\\",\\n    left_on=\\\"obj_kodas\\\",\\n    right_on=\\\"obj_kodas\\\",\\n    left_index=False,\\n    right_index=False,\\n)\";\n",
       "                var nbb_formatted_code = \"# Merge to one dataframe:\\n\\nmazos_full = mazos_imones_df_2021_filtered.merge(\\n    mazos_imones_df_2020_filtered,\\n    how=\\\"inner\\\",\\n    left_on=\\\"obj_kodas\\\",\\n    right_on=\\\"obj_kodas\\\",\\n    left_index=False,\\n    right_index=False,\\n)\";\n",
       "                var nbb_cells = Jupyter.notebook.get_cells();\n",
       "                for (var i = 0; i < nbb_cells.length; ++i) {\n",
       "                    if (nbb_cells[i].input_prompt_number == nbb_cell_id) {\n",
       "                        if (nbb_cells[i].get_text() == nbb_unformatted_code) {\n",
       "                             nbb_cells[i].set_text(nbb_formatted_code);\n",
       "                        }\n",
       "                        break;\n",
       "                    }\n",
       "                }\n",
       "            }, 500);\n",
       "            "
      ],
      "text/plain": [
       "<IPython.core.display.Javascript object>"
      ]
     },
     "metadata": {},
     "output_type": "display_data"
    }
   ],
   "source": [
    "# Merge to one dataframe:\n",
    "\n",
    "mazos_full = mazos_imones_df_2021_filtered.merge(\n",
    "    mazos_imones_df_2020_filtered,\n",
    "    how=\"inner\",\n",
    "    left_on=\"obj_kodas\",\n",
    "    right_on=\"obj_kodas\",\n",
    "    left_index=False,\n",
    "    right_index=False,\n",
    ")"
   ]
  },
  {
   "cell_type": "code",
   "execution_count": 285,
   "id": "c13a3fe9",
   "metadata": {
    "ExecuteTime": {
     "end_time": "2022-12-08T19:52:36.132248Z",
     "start_time": "2022-12-08T19:52:36.117289Z"
    }
   },
   "outputs": [
    {
     "name": "stderr",
     "output_type": "stream",
     "text": [
      "C:\\Users\\lrsko\\AppData\\Local\\Temp\\ipykernel_22616\\1406090791.py:3: UserWarning: Boolean Series key will be reindexed to match DataFrame index.\n",
      "  mazos_full = macro_full[\n"
     ]
    },
    {
     "data": {
      "application/javascript": [
       "\n",
       "            setTimeout(function() {\n",
       "                var nbb_cell_id = 285;\n",
       "                var nbb_unformatted_code = \"# Pa\\u0161alinu neigiamas reik\\u0161mes (kad nerodyt\\u0173 nepelningai dirban\\u010di\\u0173 \\u012fmoni\\u0173):\\n\\nmazos_full = macro_full[\\n    (mazos_full[\\\"pardavimo_pajamos_y\\\"] > 10000)\\n    & (mazos_full[\\\"pardavimo_pajamos_x\\\"] > 10000)\\n    & (mazos_full[\\\"grynasis_pelnas_x\\\"] > 10000)\\n    & (mazos_full[\\\"grynasis_pelnas_y\\\"] > 10000)\\n    & (mazos_full[\\\"darbuotoju_skaicius_x\\\"] > 5)\\n    & (mazos_full[\\\"darbuotoju_skaicius_y\\\"] > 5)\\n]\";\n",
       "                var nbb_formatted_code = \"# Pa\\u0161alinu neigiamas reik\\u0161mes (kad nerodyt\\u0173 nepelningai dirban\\u010di\\u0173 \\u012fmoni\\u0173):\\n\\nmazos_full = macro_full[\\n    (mazos_full[\\\"pardavimo_pajamos_y\\\"] > 10000)\\n    & (mazos_full[\\\"pardavimo_pajamos_x\\\"] > 10000)\\n    & (mazos_full[\\\"grynasis_pelnas_x\\\"] > 10000)\\n    & (mazos_full[\\\"grynasis_pelnas_y\\\"] > 10000)\\n    & (mazos_full[\\\"darbuotoju_skaicius_x\\\"] > 5)\\n    & (mazos_full[\\\"darbuotoju_skaicius_y\\\"] > 5)\\n]\";\n",
       "                var nbb_cells = Jupyter.notebook.get_cells();\n",
       "                for (var i = 0; i < nbb_cells.length; ++i) {\n",
       "                    if (nbb_cells[i].input_prompt_number == nbb_cell_id) {\n",
       "                        if (nbb_cells[i].get_text() == nbb_unformatted_code) {\n",
       "                             nbb_cells[i].set_text(nbb_formatted_code);\n",
       "                        }\n",
       "                        break;\n",
       "                    }\n",
       "                }\n",
       "            }, 500);\n",
       "            "
      ],
      "text/plain": [
       "<IPython.core.display.Javascript object>"
      ]
     },
     "metadata": {},
     "output_type": "display_data"
    }
   ],
   "source": [
    "# Pašalinu neigiamas reikšmes (kad nerodytų nepelningai dirbančių įmonių):\n",
    "\n",
    "mazos_full = macro_full[\n",
    "    (mazos_full[\"pardavimo_pajamos_y\"] > 10000)\n",
    "    & (mazos_full[\"pardavimo_pajamos_x\"] > 10000)\n",
    "    & (mazos_full[\"grynasis_pelnas_x\"] > 10000)\n",
    "    & (mazos_full[\"grynasis_pelnas_y\"] > 10000)\n",
    "    & (mazos_full[\"darbuotoju_skaicius_x\"] > 5)\n",
    "    & (mazos_full[\"darbuotoju_skaicius_y\"] > 5)\n",
    "]"
   ]
  },
  {
   "cell_type": "code",
   "execution_count": 286,
   "id": "5a53f894",
   "metadata": {
    "ExecuteTime": {
     "end_time": "2022-12-08T19:52:59.776669Z",
     "start_time": "2022-12-08T19:52:59.758716Z"
    }
   },
   "outputs": [
    {
     "name": "stderr",
     "output_type": "stream",
     "text": [
      "C:\\Users\\lrsko\\AppData\\Local\\Temp\\ipykernel_22616\\3802568958.py:3: SettingWithCopyWarning: \n",
      "A value is trying to be set on a copy of a slice from a DataFrame.\n",
      "Try using .loc[row_indexer,col_indexer] = value instead\n",
      "\n",
      "See the caveats in the documentation: https://pandas.pydata.org/pandas-docs/stable/user_guide/indexing.html#returning-a-view-versus-a-copy\n",
      "  mazos_full[\"pajamos_ptc\"] = (\n",
      "C:\\Users\\lrsko\\AppData\\Local\\Temp\\ipykernel_22616\\3802568958.py:9: SettingWithCopyWarning: \n",
      "A value is trying to be set on a copy of a slice from a DataFrame.\n",
      "Try using .loc[row_indexer,col_indexer] = value instead\n",
      "\n",
      "See the caveats in the documentation: https://pandas.pydata.org/pandas-docs/stable/user_guide/indexing.html#returning-a-view-versus-a-copy\n",
      "  mazos_full[\"pelnas_ptc\"] = (\n",
      "C:\\Users\\lrsko\\AppData\\Local\\Temp\\ipykernel_22616\\3802568958.py:15: SettingWithCopyWarning: \n",
      "A value is trying to be set on a copy of a slice from a DataFrame.\n",
      "Try using .loc[row_indexer,col_indexer] = value instead\n",
      "\n",
      "See the caveats in the documentation: https://pandas.pydata.org/pandas-docs/stable/user_guide/indexing.html#returning-a-view-versus-a-copy\n",
      "  mazos_full[\"darbuotojai_ptc\"] = (\n"
     ]
    },
    {
     "data": {
      "application/javascript": [
       "\n",
       "            setTimeout(function() {\n",
       "                var nbb_cell_id = 286;\n",
       "                var nbb_unformatted_code = \"# Sukuriu procentinius augimo stulpelius pelnui, pajamoms, darbuotojams\\n\\nmazos_full[\\\"pajamos_ptc\\\"] = (\\n    (mazos_full[\\\"pardavimo_pajamos_x\\\"] - mazos_full[\\\"pardavimo_pajamos_y\\\"])\\n    / mazos_full[\\\"pardavimo_pajamos_y\\\"]\\n    * 100\\n)\\n\\nmazos_full[\\\"pelnas_ptc\\\"] = (\\n    (mazos_full[\\\"grynasis_pelnas_x\\\"] - mazos_full[\\\"grynasis_pelnas_y\\\"])\\n    / mazos_full[\\\"grynasis_pelnas_y\\\"]\\n    * 100\\n)\\n\\nmazos_full[\\\"darbuotojai_ptc\\\"] = (\\n    (mazos_full[\\\"darbuotoju_skaicius_x\\\"] - mazos_full[\\\"darbuotoju_skaicius_y\\\"])\\n    / mazos_full[\\\"darbuotoju_skaicius_y\\\"]\\n    * 100\\n)\";\n",
       "                var nbb_formatted_code = \"# Sukuriu procentinius augimo stulpelius pelnui, pajamoms, darbuotojams\\n\\nmazos_full[\\\"pajamos_ptc\\\"] = (\\n    (mazos_full[\\\"pardavimo_pajamos_x\\\"] - mazos_full[\\\"pardavimo_pajamos_y\\\"])\\n    / mazos_full[\\\"pardavimo_pajamos_y\\\"]\\n    * 100\\n)\\n\\nmazos_full[\\\"pelnas_ptc\\\"] = (\\n    (mazos_full[\\\"grynasis_pelnas_x\\\"] - mazos_full[\\\"grynasis_pelnas_y\\\"])\\n    / mazos_full[\\\"grynasis_pelnas_y\\\"]\\n    * 100\\n)\\n\\nmazos_full[\\\"darbuotojai_ptc\\\"] = (\\n    (mazos_full[\\\"darbuotoju_skaicius_x\\\"] - mazos_full[\\\"darbuotoju_skaicius_y\\\"])\\n    / mazos_full[\\\"darbuotoju_skaicius_y\\\"]\\n    * 100\\n)\";\n",
       "                var nbb_cells = Jupyter.notebook.get_cells();\n",
       "                for (var i = 0; i < nbb_cells.length; ++i) {\n",
       "                    if (nbb_cells[i].input_prompt_number == nbb_cell_id) {\n",
       "                        if (nbb_cells[i].get_text() == nbb_unformatted_code) {\n",
       "                             nbb_cells[i].set_text(nbb_formatted_code);\n",
       "                        }\n",
       "                        break;\n",
       "                    }\n",
       "                }\n",
       "            }, 500);\n",
       "            "
      ],
      "text/plain": [
       "<IPython.core.display.Javascript object>"
      ]
     },
     "metadata": {},
     "output_type": "display_data"
    }
   ],
   "source": [
    "# Sukuriu procentinius augimo stulpelius pelnui, pajamoms, darbuotojams\n",
    "\n",
    "mazos_full[\"pajamos_ptc\"] = (\n",
    "    (mazos_full[\"pardavimo_pajamos_x\"] - mazos_full[\"pardavimo_pajamos_y\"])\n",
    "    / mazos_full[\"pardavimo_pajamos_y\"]\n",
    "    * 100\n",
    ")\n",
    "\n",
    "mazos_full[\"pelnas_ptc\"] = (\n",
    "    (mazos_full[\"grynasis_pelnas_x\"] - mazos_full[\"grynasis_pelnas_y\"])\n",
    "    / mazos_full[\"grynasis_pelnas_y\"]\n",
    "    * 100\n",
    ")\n",
    "\n",
    "mazos_full[\"darbuotojai_ptc\"] = (\n",
    "    (mazos_full[\"darbuotoju_skaicius_x\"] - mazos_full[\"darbuotoju_skaicius_y\"])\n",
    "    / mazos_full[\"darbuotoju_skaicius_y\"]\n",
    "    * 100\n",
    ")"
   ]
  },
  {
   "cell_type": "code",
   "execution_count": 287,
   "id": "e1e0debd",
   "metadata": {
    "ExecuteTime": {
     "end_time": "2022-12-08T19:53:29.790184Z",
     "start_time": "2022-12-08T19:53:29.772233Z"
    }
   },
   "outputs": [
    {
     "data": {
      "text/html": [
       "<div>\n",
       "<style scoped>\n",
       "    .dataframe tbody tr th:only-of-type {\n",
       "        vertical-align: middle;\n",
       "    }\n",
       "\n",
       "    .dataframe tbody tr th {\n",
       "        vertical-align: top;\n",
       "    }\n",
       "\n",
       "    .dataframe thead th {\n",
       "        text-align: right;\n",
       "    }\n",
       "</style>\n",
       "<table border=\"1\" class=\"dataframe\">\n",
       "  <thead>\n",
       "    <tr style=\"text-align: right;\">\n",
       "      <th></th>\n",
       "      <th>obj_pav_x</th>\n",
       "      <th>pelnas_ptc</th>\n",
       "    </tr>\n",
       "  </thead>\n",
       "  <tbody>\n",
       "    <tr>\n",
       "      <th>9351</th>\n",
       "      <td>Virgilita UAB</td>\n",
       "      <td>659.102782</td>\n",
       "    </tr>\n",
       "    <tr>\n",
       "      <th>43051</th>\n",
       "      <td>UAB \"Astrohn Technology\"</td>\n",
       "      <td>613.798233</td>\n",
       "    </tr>\n",
       "    <tr>\n",
       "      <th>29168</th>\n",
       "      <td>Uždaroji akcinė bendrovė \"OPS\"</td>\n",
       "      <td>538.446097</td>\n",
       "    </tr>\n",
       "    <tr>\n",
       "      <th>39624</th>\n",
       "      <td>UAB \"MES IR MŪRAS\"</td>\n",
       "      <td>532.088819</td>\n",
       "    </tr>\n",
       "    <tr>\n",
       "      <th>53461</th>\n",
       "      <td>UAB \"Stilartas\"</td>\n",
       "      <td>411.482311</td>\n",
       "    </tr>\n",
       "    <tr>\n",
       "      <th>57750</th>\n",
       "      <td>UAB \"Čeringa\"</td>\n",
       "      <td>402.676242</td>\n",
       "    </tr>\n",
       "    <tr>\n",
       "      <th>57058</th>\n",
       "      <td>UAB \"AILYA\"</td>\n",
       "      <td>357.931034</td>\n",
       "    </tr>\n",
       "    <tr>\n",
       "      <th>42188</th>\n",
       "      <td>UAB \"BOKER\"</td>\n",
       "      <td>340.430465</td>\n",
       "    </tr>\n",
       "    <tr>\n",
       "      <th>24232</th>\n",
       "      <td>UAB \"Vinlita\"</td>\n",
       "      <td>320.076207</td>\n",
       "    </tr>\n",
       "    <tr>\n",
       "      <th>17640</th>\n",
       "      <td>UAB SAULONAS</td>\n",
       "      <td>283.198490</td>\n",
       "    </tr>\n",
       "    <tr>\n",
       "      <th>23967</th>\n",
       "      <td>UAB \"Aitransa\"</td>\n",
       "      <td>239.667374</td>\n",
       "    </tr>\n",
       "    <tr>\n",
       "      <th>47432</th>\n",
       "      <td>UAB \"ILIZA\"</td>\n",
       "      <td>232.155784</td>\n",
       "    </tr>\n",
       "    <tr>\n",
       "      <th>24658</th>\n",
       "      <td>UAB \"Jankvila\"</td>\n",
       "      <td>228.417819</td>\n",
       "    </tr>\n",
       "    <tr>\n",
       "      <th>7726</th>\n",
       "      <td>UAB \"Vilikridas\"</td>\n",
       "      <td>226.975740</td>\n",
       "    </tr>\n",
       "    <tr>\n",
       "      <th>24515</th>\n",
       "      <td>UAB \"Advis\"</td>\n",
       "      <td>219.068909</td>\n",
       "    </tr>\n",
       "  </tbody>\n",
       "</table>\n",
       "</div>"
      ],
      "text/plain": [
       "                            obj_pav_x  pelnas_ptc\n",
       "9351                    Virgilita UAB  659.102782\n",
       "43051        UAB \"Astrohn Technology\"  613.798233\n",
       "29168  Uždaroji akcinė bendrovė \"OPS\"  538.446097\n",
       "39624              UAB \"MES IR MŪRAS\"  532.088819\n",
       "53461                 UAB \"Stilartas\"  411.482311\n",
       "57750                   UAB \"Čeringa\"  402.676242\n",
       "57058                     UAB \"AILYA\"  357.931034\n",
       "42188                     UAB \"BOKER\"  340.430465\n",
       "24232                   UAB \"Vinlita\"  320.076207\n",
       "17640                    UAB SAULONAS  283.198490\n",
       "23967                  UAB \"Aitransa\"  239.667374\n",
       "47432                     UAB \"ILIZA\"  232.155784\n",
       "24658                  UAB \"Jankvila\"  228.417819\n",
       "7726                 UAB \"Vilikridas\"  226.975740\n",
       "24515                     UAB \"Advis\"  219.068909"
      ]
     },
     "execution_count": 287,
     "metadata": {},
     "output_type": "execute_result"
    },
    {
     "data": {
      "application/javascript": [
       "\n",
       "            setTimeout(function() {\n",
       "                var nbb_cell_id = 287;\n",
       "                var nbb_unformatted_code = \"# Labiausiai augusios \\u012fmon\\u0117s pagal peln\\u0105 pct:\\n\\nmazos_full[[\\\"obj_pav_x\\\", \\\"pelnas_ptc\\\"]].sort_values(by=\\\"pelnas_ptc\\\", ascending=False)[\\n    0:15\\n]\";\n",
       "                var nbb_formatted_code = \"# Labiausiai augusios \\u012fmon\\u0117s pagal peln\\u0105 pct:\\n\\nmazos_full[[\\\"obj_pav_x\\\", \\\"pelnas_ptc\\\"]].sort_values(by=\\\"pelnas_ptc\\\", ascending=False)[\\n    0:15\\n]\";\n",
       "                var nbb_cells = Jupyter.notebook.get_cells();\n",
       "                for (var i = 0; i < nbb_cells.length; ++i) {\n",
       "                    if (nbb_cells[i].input_prompt_number == nbb_cell_id) {\n",
       "                        if (nbb_cells[i].get_text() == nbb_unformatted_code) {\n",
       "                             nbb_cells[i].set_text(nbb_formatted_code);\n",
       "                        }\n",
       "                        break;\n",
       "                    }\n",
       "                }\n",
       "            }, 500);\n",
       "            "
      ],
      "text/plain": [
       "<IPython.core.display.Javascript object>"
      ]
     },
     "metadata": {},
     "output_type": "display_data"
    }
   ],
   "source": [
    "# Labiausiai augusios įmonės pagal pelną pct:\n",
    "\n",
    "mazos_full[[\"obj_pav_x\", \"pelnas_ptc\"]].sort_values(by=\"pelnas_ptc\", ascending=False)[\n",
    "    0:15\n",
    "]"
   ]
  },
  {
   "cell_type": "code",
   "execution_count": 288,
   "id": "d37cd7e6",
   "metadata": {
    "ExecuteTime": {
     "end_time": "2022-12-08T19:53:32.586497Z",
     "start_time": "2022-12-08T19:53:32.574530Z"
    }
   },
   "outputs": [
    {
     "data": {
      "text/html": [
       "<div>\n",
       "<style scoped>\n",
       "    .dataframe tbody tr th:only-of-type {\n",
       "        vertical-align: middle;\n",
       "    }\n",
       "\n",
       "    .dataframe tbody tr th {\n",
       "        vertical-align: top;\n",
       "    }\n",
       "\n",
       "    .dataframe thead th {\n",
       "        text-align: right;\n",
       "    }\n",
       "</style>\n",
       "<table border=\"1\" class=\"dataframe\">\n",
       "  <thead>\n",
       "    <tr style=\"text-align: right;\">\n",
       "      <th></th>\n",
       "      <th>obj_pav_x</th>\n",
       "      <th>pajamos_ptc</th>\n",
       "    </tr>\n",
       "  </thead>\n",
       "  <tbody>\n",
       "    <tr>\n",
       "      <th>57750</th>\n",
       "      <td>UAB \"Čeringa\"</td>\n",
       "      <td>630.682129</td>\n",
       "    </tr>\n",
       "    <tr>\n",
       "      <th>23805</th>\n",
       "      <td>UAB \"TJLT\"</td>\n",
       "      <td>450.734838</td>\n",
       "    </tr>\n",
       "    <tr>\n",
       "      <th>23803</th>\n",
       "      <td>UAB \"TJLT\"</td>\n",
       "      <td>450.734838</td>\n",
       "    </tr>\n",
       "    <tr>\n",
       "      <th>47517</th>\n",
       "      <td>UAB \"Navis marina\"</td>\n",
       "      <td>245.883671</td>\n",
       "    </tr>\n",
       "    <tr>\n",
       "      <th>39669</th>\n",
       "      <td>UAB \"Kretingos miškas\"</td>\n",
       "      <td>193.718565</td>\n",
       "    </tr>\n",
       "    <tr>\n",
       "      <th>57932</th>\n",
       "      <td>UAB \"Jandas\"</td>\n",
       "      <td>170.959653</td>\n",
       "    </tr>\n",
       "    <tr>\n",
       "      <th>9074</th>\n",
       "      <td>UAB \"Vitacon LT\"</td>\n",
       "      <td>166.861099</td>\n",
       "    </tr>\n",
       "    <tr>\n",
       "      <th>28739</th>\n",
       "      <td>UAB \"Aitrena\"</td>\n",
       "      <td>132.291667</td>\n",
       "    </tr>\n",
       "    <tr>\n",
       "      <th>51981</th>\n",
       "      <td>UAB \"Rytų sveikata\"</td>\n",
       "      <td>106.808875</td>\n",
       "    </tr>\n",
       "    <tr>\n",
       "      <th>23804</th>\n",
       "      <td>UAB \"TJLT\"</td>\n",
       "      <td>104.056476</td>\n",
       "    </tr>\n",
       "    <tr>\n",
       "      <th>24515</th>\n",
       "      <td>UAB \"Advis\"</td>\n",
       "      <td>82.835266</td>\n",
       "    </tr>\n",
       "    <tr>\n",
       "      <th>9351</th>\n",
       "      <td>Virgilita UAB</td>\n",
       "      <td>68.850227</td>\n",
       "    </tr>\n",
       "    <tr>\n",
       "      <th>36564</th>\n",
       "      <td>MB \"Jurola\"</td>\n",
       "      <td>68.322974</td>\n",
       "    </tr>\n",
       "    <tr>\n",
       "      <th>13835</th>\n",
       "      <td>UAB \"ARGUTUS\"</td>\n",
       "      <td>66.906080</td>\n",
       "    </tr>\n",
       "    <tr>\n",
       "      <th>47472</th>\n",
       "      <td>UAB \"PROGRESYVŪS SPRENDIMAI\"</td>\n",
       "      <td>46.370535</td>\n",
       "    </tr>\n",
       "  </tbody>\n",
       "</table>\n",
       "</div>"
      ],
      "text/plain": [
       "                          obj_pav_x  pajamos_ptc\n",
       "57750                 UAB \"Čeringa\"   630.682129\n",
       "23805                    UAB \"TJLT\"   450.734838\n",
       "23803                    UAB \"TJLT\"   450.734838\n",
       "47517            UAB \"Navis marina\"   245.883671\n",
       "39669        UAB \"Kretingos miškas\"   193.718565\n",
       "57932                  UAB \"Jandas\"   170.959653\n",
       "9074               UAB \"Vitacon LT\"   166.861099\n",
       "28739                 UAB \"Aitrena\"   132.291667\n",
       "51981           UAB \"Rytų sveikata\"   106.808875\n",
       "23804                    UAB \"TJLT\"   104.056476\n",
       "24515                   UAB \"Advis\"    82.835266\n",
       "9351                  Virgilita UAB    68.850227\n",
       "36564                   MB \"Jurola\"    68.322974\n",
       "13835                 UAB \"ARGUTUS\"    66.906080\n",
       "47472  UAB \"PROGRESYVŪS SPRENDIMAI\"    46.370535"
      ]
     },
     "execution_count": 288,
     "metadata": {},
     "output_type": "execute_result"
    },
    {
     "data": {
      "application/javascript": [
       "\n",
       "            setTimeout(function() {\n",
       "                var nbb_cell_id = 288;\n",
       "                var nbb_unformatted_code = \"# Labiausiai augusios \\u012fmon\\u0117s pagal pajamas pct:\\n\\nmazos_full[[\\\"obj_pav_x\\\", \\\"pajamos_ptc\\\"]].sort_values(by=\\\"pajamos_ptc\\\", ascending=False)[\\n    0:15\\n]\";\n",
       "                var nbb_formatted_code = \"# Labiausiai augusios \\u012fmon\\u0117s pagal pajamas pct:\\n\\nmazos_full[[\\\"obj_pav_x\\\", \\\"pajamos_ptc\\\"]].sort_values(by=\\\"pajamos_ptc\\\", ascending=False)[\\n    0:15\\n]\";\n",
       "                var nbb_cells = Jupyter.notebook.get_cells();\n",
       "                for (var i = 0; i < nbb_cells.length; ++i) {\n",
       "                    if (nbb_cells[i].input_prompt_number == nbb_cell_id) {\n",
       "                        if (nbb_cells[i].get_text() == nbb_unformatted_code) {\n",
       "                             nbb_cells[i].set_text(nbb_formatted_code);\n",
       "                        }\n",
       "                        break;\n",
       "                    }\n",
       "                }\n",
       "            }, 500);\n",
       "            "
      ],
      "text/plain": [
       "<IPython.core.display.Javascript object>"
      ]
     },
     "metadata": {},
     "output_type": "display_data"
    }
   ],
   "source": [
    "# Labiausiai augusios įmonės pagal pajamas pct:\n",
    "\n",
    "mazos_full[[\"obj_pav_x\", \"pajamos_ptc\"]].sort_values(by=\"pajamos_ptc\", ascending=False)[\n",
    "    0:15\n",
    "]"
   ]
  },
  {
   "cell_type": "code",
   "execution_count": 289,
   "id": "f21f2b42",
   "metadata": {
    "ExecuteTime": {
     "end_time": "2022-12-08T19:53:35.403160Z",
     "start_time": "2022-12-08T19:53:35.387201Z"
    }
   },
   "outputs": [
    {
     "data": {
      "text/html": [
       "<div>\n",
       "<style scoped>\n",
       "    .dataframe tbody tr th:only-of-type {\n",
       "        vertical-align: middle;\n",
       "    }\n",
       "\n",
       "    .dataframe tbody tr th {\n",
       "        vertical-align: top;\n",
       "    }\n",
       "\n",
       "    .dataframe thead th {\n",
       "        text-align: right;\n",
       "    }\n",
       "</style>\n",
       "<table border=\"1\" class=\"dataframe\">\n",
       "  <thead>\n",
       "    <tr style=\"text-align: right;\">\n",
       "      <th></th>\n",
       "      <th>obj_pav_x</th>\n",
       "      <th>darbuotojai_ptc</th>\n",
       "    </tr>\n",
       "  </thead>\n",
       "  <tbody>\n",
       "    <tr>\n",
       "      <th>33471</th>\n",
       "      <td>UAB Unum design London</td>\n",
       "      <td>50.000000</td>\n",
       "    </tr>\n",
       "    <tr>\n",
       "      <th>42600</th>\n",
       "      <td>UAB \"Everitas\"</td>\n",
       "      <td>33.333333</td>\n",
       "    </tr>\n",
       "    <tr>\n",
       "      <th>51981</th>\n",
       "      <td>UAB \"Rytų sveikata\"</td>\n",
       "      <td>33.333333</td>\n",
       "    </tr>\n",
       "    <tr>\n",
       "      <th>23967</th>\n",
       "      <td>UAB \"Aitransa\"</td>\n",
       "      <td>33.333333</td>\n",
       "    </tr>\n",
       "    <tr>\n",
       "      <th>10802</th>\n",
       "      <td>Uždaroji akcinė bendrovė \"DABALTA IR KO\"</td>\n",
       "      <td>28.571429</td>\n",
       "    </tr>\n",
       "    <tr>\n",
       "      <th>39669</th>\n",
       "      <td>UAB \"Kretingos miškas\"</td>\n",
       "      <td>28.571429</td>\n",
       "    </tr>\n",
       "    <tr>\n",
       "      <th>29530</th>\n",
       "      <td>Uždaroji akcinė bendrovė \"UOSTAMIESČIO PROJEKTAS\"</td>\n",
       "      <td>28.571429</td>\n",
       "    </tr>\n",
       "    <tr>\n",
       "      <th>55699</th>\n",
       "      <td>UAB ARCHICOM</td>\n",
       "      <td>28.571429</td>\n",
       "    </tr>\n",
       "    <tr>\n",
       "      <th>56493</th>\n",
       "      <td>Uždaroji akcinė bendrovė \"Acetilenas plius\"</td>\n",
       "      <td>16.666667</td>\n",
       "    </tr>\n",
       "    <tr>\n",
       "      <th>11712</th>\n",
       "      <td>UAB \"Kaladoka\"</td>\n",
       "      <td>16.666667</td>\n",
       "    </tr>\n",
       "    <tr>\n",
       "      <th>44758</th>\n",
       "      <td>UAB \"Elektromagija\"</td>\n",
       "      <td>16.666667</td>\n",
       "    </tr>\n",
       "    <tr>\n",
       "      <th>8641</th>\n",
       "      <td>Uždaroji akcinė bendrovė \"DENTESTA IR PARTNERIAI\"</td>\n",
       "      <td>16.666667</td>\n",
       "    </tr>\n",
       "    <tr>\n",
       "      <th>37218</th>\n",
       "      <td>UAB \"ANAPUS RIBOS\"</td>\n",
       "      <td>16.666667</td>\n",
       "    </tr>\n",
       "    <tr>\n",
       "      <th>39004</th>\n",
       "      <td>UAB \"Zuzus\"</td>\n",
       "      <td>16.666667</td>\n",
       "    </tr>\n",
       "    <tr>\n",
       "      <th>24002</th>\n",
       "      <td>UAB \"EUROKAM\"</td>\n",
       "      <td>16.666667</td>\n",
       "    </tr>\n",
       "  </tbody>\n",
       "</table>\n",
       "</div>"
      ],
      "text/plain": [
       "                                               obj_pav_x  darbuotojai_ptc\n",
       "33471                             UAB Unum design London        50.000000\n",
       "42600                                     UAB \"Everitas\"        33.333333\n",
       "51981                                UAB \"Rytų sveikata\"        33.333333\n",
       "23967                                     UAB \"Aitransa\"        33.333333\n",
       "10802           Uždaroji akcinė bendrovė \"DABALTA IR KO\"        28.571429\n",
       "39669                             UAB \"Kretingos miškas\"        28.571429\n",
       "29530  Uždaroji akcinė bendrovė \"UOSTAMIESČIO PROJEKTAS\"        28.571429\n",
       "55699                                       UAB ARCHICOM        28.571429\n",
       "56493        Uždaroji akcinė bendrovė \"Acetilenas plius\"        16.666667\n",
       "11712                                     UAB \"Kaladoka\"        16.666667\n",
       "44758                                UAB \"Elektromagija\"        16.666667\n",
       "8641   Uždaroji akcinė bendrovė \"DENTESTA IR PARTNERIAI\"        16.666667\n",
       "37218                                 UAB \"ANAPUS RIBOS\"        16.666667\n",
       "39004                                        UAB \"Zuzus\"        16.666667\n",
       "24002                                      UAB \"EUROKAM\"        16.666667"
      ]
     },
     "execution_count": 289,
     "metadata": {},
     "output_type": "execute_result"
    },
    {
     "data": {
      "application/javascript": [
       "\n",
       "            setTimeout(function() {\n",
       "                var nbb_cell_id = 289;\n",
       "                var nbb_unformatted_code = \"# Labiausiai augusios \\u012fmon\\u0117s pagal darbuotoj\\u0173 skai\\u010di\\u0173 pct:\\n\\nmazos_full[[\\\"obj_pav_x\\\", \\\"darbuotojai_ptc\\\"]].sort_values(\\n    by=\\\"darbuotojai_ptc\\\", ascending=False\\n)[0:15]\";\n",
       "                var nbb_formatted_code = \"# Labiausiai augusios \\u012fmon\\u0117s pagal darbuotoj\\u0173 skai\\u010di\\u0173 pct:\\n\\nmazos_full[[\\\"obj_pav_x\\\", \\\"darbuotojai_ptc\\\"]].sort_values(\\n    by=\\\"darbuotojai_ptc\\\", ascending=False\\n)[0:15]\";\n",
       "                var nbb_cells = Jupyter.notebook.get_cells();\n",
       "                for (var i = 0; i < nbb_cells.length; ++i) {\n",
       "                    if (nbb_cells[i].input_prompt_number == nbb_cell_id) {\n",
       "                        if (nbb_cells[i].get_text() == nbb_unformatted_code) {\n",
       "                             nbb_cells[i].set_text(nbb_formatted_code);\n",
       "                        }\n",
       "                        break;\n",
       "                    }\n",
       "                }\n",
       "            }, 500);\n",
       "            "
      ],
      "text/plain": [
       "<IPython.core.display.Javascript object>"
      ]
     },
     "metadata": {},
     "output_type": "display_data"
    }
   ],
   "source": [
    "# Labiausiai augusios įmonės pagal darbuotojų skaičių pct:\n",
    "\n",
    "mazos_full[[\"obj_pav_x\", \"darbuotojai_ptc\"]].sort_values(\n",
    "    by=\"darbuotojai_ptc\", ascending=False\n",
    ")[0:15]"
   ]
  },
  {
   "cell_type": "code",
   "execution_count": null,
   "id": "fffbd549",
   "metadata": {},
   "outputs": [],
   "source": [
    "# Labiausiai augusios įmonės Virgilita UAB, UAB \"Čeringa\" ir UAB \"Advis\" nes papuola tiek pagal pelną, \n",
    "# tiek pagal pajamas į geriausių penkioliktuką."
   ]
  },
  {
   "cell_type": "code",
   "execution_count": 290,
   "id": "d891b2ec",
   "metadata": {
    "ExecuteTime": {
     "end_time": "2022-12-08T19:55:27.618457Z",
     "start_time": "2022-12-08T19:55:26.800443Z"
    }
   },
   "outputs": [
    {
     "data": {
      "application/javascript": [
       "\n",
       "            setTimeout(function() {\n",
       "                var nbb_cell_id = 290;\n",
       "                var nbb_unformatted_code = \"!pip freeze > requirements.txt\";\n",
       "                var nbb_formatted_code = \"!pip freeze > requirements.txt\";\n",
       "                var nbb_cells = Jupyter.notebook.get_cells();\n",
       "                for (var i = 0; i < nbb_cells.length; ++i) {\n",
       "                    if (nbb_cells[i].input_prompt_number == nbb_cell_id) {\n",
       "                        if (nbb_cells[i].get_text() == nbb_unformatted_code) {\n",
       "                             nbb_cells[i].set_text(nbb_formatted_code);\n",
       "                        }\n",
       "                        break;\n",
       "                    }\n",
       "                }\n",
       "            }, 500);\n",
       "            "
      ],
      "text/plain": [
       "<IPython.core.display.Javascript object>"
      ]
     },
     "metadata": {},
     "output_type": "display_data"
    }
   ],
   "source": [
    "!pip freeze > requirements.txt"
   ]
  }
 ],
 "metadata": {
  "kernelspec": {
   "display_name": "Python 3 (ipykernel)",
   "language": "python",
   "name": "python3"
  },
  "language_info": {
   "codemirror_mode": {
    "name": "ipython",
    "version": 3
   },
   "file_extension": ".py",
   "mimetype": "text/x-python",
   "name": "python",
   "nbconvert_exporter": "python",
   "pygments_lexer": "ipython3",
   "version": "3.10.5"
  },
  "toc": {
   "base_numbering": 1,
   "nav_menu": {},
   "number_sections": true,
   "sideBar": true,
   "skip_h1_title": false,
   "title_cell": "Table of Contents",
   "title_sidebar": "Contents",
   "toc_cell": false,
   "toc_position": {},
   "toc_section_display": true,
   "toc_window_display": false
  }
 },
 "nbformat": 4,
 "nbformat_minor": 5
}
