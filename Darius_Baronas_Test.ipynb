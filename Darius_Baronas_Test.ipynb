{
 "cells": [
  {
   "cell_type": "markdown",
   "id": "f3a673bf",
   "metadata": {},
   "source": [
    "### 1"
   ]
  },
  {
   "cell_type": "code",
   "execution_count": 18,
   "id": "cc038b10",
   "metadata": {},
   "outputs": [
    {
     "data": {
      "application/javascript": "\n            setTimeout(function() {\n                var nbb_cell_id = 18;\n                var nbb_unformatted_code = \"import pandas as pd\\nimport numpy as np\\nimport matplotlib as plt\";\n                var nbb_formatted_code = \"import pandas as pd\\nimport numpy as np\\nimport matplotlib as plt\";\n                var nbb_cells = Jupyter.notebook.get_cells();\n                for (var i = 0; i < nbb_cells.length; ++i) {\n                    if (nbb_cells[i].input_prompt_number == nbb_cell_id) {\n                        if (nbb_cells[i].get_text() == nbb_unformatted_code) {\n                             nbb_cells[i].set_text(nbb_formatted_code);\n                        }\n                        break;\n                    }\n                }\n            }, 500);\n            ",
      "text/plain": [
       "<IPython.core.display.Javascript object>"
      ]
     },
     "metadata": {},
     "output_type": "display_data"
    }
   ],
   "source": [
    "import pandas as pd\n",
    "import numpy as np\n",
    "import matplotlib as plt"
   ]
  },
  {
   "cell_type": "code",
   "execution_count": 4,
   "id": "5f71882b",
   "metadata": {},
   "outputs": [
    {
     "data": {
      "application/javascript": "\n            setTimeout(function() {\n                var nbb_cell_id = 4;\n                var nbb_unformatted_code = \"%load_ext nb_black\";\n                var nbb_formatted_code = \"%load_ext nb_black\";\n                var nbb_cells = Jupyter.notebook.get_cells();\n                for (var i = 0; i < nbb_cells.length; ++i) {\n                    if (nbb_cells[i].input_prompt_number == nbb_cell_id) {\n                        if (nbb_cells[i].get_text() == nbb_unformatted_code) {\n                             nbb_cells[i].set_text(nbb_formatted_code);\n                        }\n                        break;\n                    }\n                }\n            }, 500);\n            ",
      "text/plain": [
       "<IPython.core.display.Javascript object>"
      ]
     },
     "metadata": {},
     "output_type": "display_data"
    }
   ],
   "source": [
    "%load_ext nb_black"
   ]
  },
  {
   "attachments": {},
   "cell_type": "markdown",
   "id": "c407f880",
   "metadata": {},
   "source": [
    "<font color='red'> Erikas Švažas: \n",
    "Labai nice, kad naudojate nb_black (automatinis PEP8 formatavimas).\n",
    "</font>"
   ]
  },
  {
   "cell_type": "code",
   "execution_count": 5,
   "id": "79aaece3",
   "metadata": {},
   "outputs": [
    {
     "data": {
      "text/html": [
       "<style>.container { width:90% !important; }</style>"
      ],
      "text/plain": [
       "<IPython.core.display.HTML object>"
      ]
     },
     "metadata": {},
     "output_type": "display_data"
    },
    {
     "data": {
      "application/javascript": "\n            setTimeout(function() {\n                var nbb_cell_id = 5;\n                var nbb_unformatted_code = \"from IPython.display import display, HTML\\n\\ndisplay(HTML(\\\"<style>.container { width:90% !important; }</style>\\\"))\";\n                var nbb_formatted_code = \"from IPython.display import display, HTML\\n\\ndisplay(HTML(\\\"<style>.container { width:90% !important; }</style>\\\"))\";\n                var nbb_cells = Jupyter.notebook.get_cells();\n                for (var i = 0; i < nbb_cells.length; ++i) {\n                    if (nbb_cells[i].input_prompt_number == nbb_cell_id) {\n                        if (nbb_cells[i].get_text() == nbb_unformatted_code) {\n                             nbb_cells[i].set_text(nbb_formatted_code);\n                        }\n                        break;\n                    }\n                }\n            }, 500);\n            ",
      "text/plain": [
       "<IPython.core.display.Javascript object>"
      ]
     },
     "metadata": {},
     "output_type": "display_data"
    }
   ],
   "source": [
    "from IPython.display import display, HTML\n",
    "\n",
    "display(HTML(\"<style>.container { width:90% !important; }</style>\"))"
   ]
  },
  {
   "cell_type": "markdown",
   "id": "7223064d",
   "metadata": {},
   "source": [
    "### 2"
   ]
  },
  {
   "cell_type": "code",
   "execution_count": 6,
   "id": "44de486b",
   "metadata": {
    "scrolled": true
   },
   "outputs": [
    {
     "data": {
      "application/javascript": "\n            setTimeout(function() {\n                var nbb_cell_id = 6;\n                var nbb_unformatted_code = \"df = pd.read_csv(\\\"CSV/JAR_FA_RODIKLIAI_BLNS_2020.csv\\\")\";\n                var nbb_formatted_code = \"df = pd.read_csv(\\\"CSV/JAR_FA_RODIKLIAI_BLNS_2020.csv\\\")\";\n                var nbb_cells = Jupyter.notebook.get_cells();\n                for (var i = 0; i < nbb_cells.length; ++i) {\n                    if (nbb_cells[i].input_prompt_number == nbb_cell_id) {\n                        if (nbb_cells[i].get_text() == nbb_unformatted_code) {\n                             nbb_cells[i].set_text(nbb_formatted_code);\n                        }\n                        break;\n                    }\n                }\n            }, 500);\n            ",
      "text/plain": [
       "<IPython.core.display.Javascript object>"
      ]
     },
     "metadata": {},
     "output_type": "display_data"
    }
   ],
   "source": [
    "df = pd.read_csv(\"CSV/JAR_FA_RODIKLIAI_BLNS_2020.csv\")"
   ]
  },
  {
   "cell_type": "code",
   "execution_count": 7,
   "id": "32d53d56",
   "metadata": {
    "scrolled": true
   },
   "outputs": [
    {
     "data": {
      "application/javascript": "\n            setTimeout(function() {\n                var nbb_cell_id = 7;\n                var nbb_unformatted_code = \"df2 = pd.read_csv(\\\"CSV/JAR_FA_RODIKLIAI_BLNS_2021.csv\\\")\";\n                var nbb_formatted_code = \"df2 = pd.read_csv(\\\"CSV/JAR_FA_RODIKLIAI_BLNS_2021.csv\\\")\";\n                var nbb_cells = Jupyter.notebook.get_cells();\n                for (var i = 0; i < nbb_cells.length; ++i) {\n                    if (nbb_cells[i].input_prompt_number == nbb_cell_id) {\n                        if (nbb_cells[i].get_text() == nbb_unformatted_code) {\n                             nbb_cells[i].set_text(nbb_formatted_code);\n                        }\n                        break;\n                    }\n                }\n            }, 500);\n            ",
      "text/plain": [
       "<IPython.core.display.Javascript object>"
      ]
     },
     "metadata": {},
     "output_type": "display_data"
    }
   ],
   "source": [
    "df2 = pd.read_csv(\"CSV/JAR_FA_RODIKLIAI_BLNS_2021.csv\")"
   ]
  },
  {
   "cell_type": "code",
   "execution_count": 8,
   "id": "322a23b6",
   "metadata": {
    "scrolled": true
   },
   "outputs": [
    {
     "data": {
      "application/javascript": "\n            setTimeout(function() {\n                var nbb_cell_id = 8;\n                var nbb_unformatted_code = \"df3 = pd.read_csv(\\\"CSV/JAR_FA_RODIKLIAI_PLNA_2020.csv\\\")\";\n                var nbb_formatted_code = \"df3 = pd.read_csv(\\\"CSV/JAR_FA_RODIKLIAI_PLNA_2020.csv\\\")\";\n                var nbb_cells = Jupyter.notebook.get_cells();\n                for (var i = 0; i < nbb_cells.length; ++i) {\n                    if (nbb_cells[i].input_prompt_number == nbb_cell_id) {\n                        if (nbb_cells[i].get_text() == nbb_unformatted_code) {\n                             nbb_cells[i].set_text(nbb_formatted_code);\n                        }\n                        break;\n                    }\n                }\n            }, 500);\n            ",
      "text/plain": [
       "<IPython.core.display.Javascript object>"
      ]
     },
     "metadata": {},
     "output_type": "display_data"
    }
   ],
   "source": [
    "df3 = pd.read_csv(\"CSV/JAR_FA_RODIKLIAI_PLNA_2020.csv\")"
   ]
  },
  {
   "cell_type": "code",
   "execution_count": 9,
   "id": "9d3347c1",
   "metadata": {
    "scrolled": true
   },
   "outputs": [
    {
     "data": {
      "application/javascript": "\n            setTimeout(function() {\n                var nbb_cell_id = 9;\n                var nbb_unformatted_code = \"df4 = pd.read_csv(\\\"CSV/JAR_FA_RODIKLIAI_PLNA_2021.csv\\\")\";\n                var nbb_formatted_code = \"df4 = pd.read_csv(\\\"CSV/JAR_FA_RODIKLIAI_PLNA_2021.csv\\\")\";\n                var nbb_cells = Jupyter.notebook.get_cells();\n                for (var i = 0; i < nbb_cells.length; ++i) {\n                    if (nbb_cells[i].input_prompt_number == nbb_cell_id) {\n                        if (nbb_cells[i].get_text() == nbb_unformatted_code) {\n                             nbb_cells[i].set_text(nbb_formatted_code);\n                        }\n                        break;\n                    }\n                }\n            }, 500);\n            ",
      "text/plain": [
       "<IPython.core.display.Javascript object>"
      ]
     },
     "metadata": {},
     "output_type": "display_data"
    }
   ],
   "source": [
    "df4 = pd.read_csv(\"CSV/JAR_FA_RODIKLIAI_PLNA_2021.csv\")"
   ]
  },
  {
   "attachments": {},
   "cell_type": "markdown",
   "id": "7bb78e90",
   "metadata": {},
   "source": [
    "<font color='red'> Erikas Švažas: \n",
    "\n",
    "Teisingai jei norima pirma atsisiųsti failą! Paprastesnė alternatyva tiesiog nusiskaityti iš remote: \n",
    "````\n",
    "pd.read_csv(\n",
    "    \"https://www.registrucentras.lt/aduomenys/?byla=JAR_FA_RODIKLIAI_BLNS_2020.csv\"\n",
    ")\n",
    "````\n",
    "</font>"
   ]
  },
  {
   "cell_type": "markdown",
   "id": "bd0a528e",
   "metadata": {},
   "source": [
    "### 3"
   ]
  },
  {
   "cell_type": "code",
   "execution_count": 8,
   "id": "5d037b18",
   "metadata": {},
   "outputs": [
    {
     "data": {
      "text/plain": [
       "obj_kodas                       True\n",
       "obj_pav                         True\n",
       "form_kodas                      True\n",
       "form_pav                        True\n",
       "stat_statusas                   True\n",
       "stat_pav                        True\n",
       "template_id                     True\n",
       "template_name                   True\n",
       "standard_id                     True\n",
       "standard_name                   True\n",
       "laikotarpis_nuo                 True\n",
       "laikotarpis_iki                 True\n",
       "reg_date                        True\n",
       "nuosavas_kapitalas              True\n",
       "mok_sumos_ir_isipareigojimai    True\n",
       "ilgalaikis_turtas               True\n",
       "trumpalaikis_turtas             True\n",
       "formavimo_data                  True\n",
       "dtype: bool"
      ]
     },
     "execution_count": 8,
     "metadata": {},
     "output_type": "execute_result"
    },
    {
     "data": {
      "application/javascript": "\n            setTimeout(function() {\n                var nbb_cell_id = 8;\n                var nbb_unformatted_code = \"df.dtypes == df2.dtypes\";\n                var nbb_formatted_code = \"df.dtypes == df2.dtypes\";\n                var nbb_cells = Jupyter.notebook.get_cells();\n                for (var i = 0; i < nbb_cells.length; ++i) {\n                    if (nbb_cells[i].input_prompt_number == nbb_cell_id) {\n                        if (nbb_cells[i].get_text() == nbb_unformatted_code) {\n                             nbb_cells[i].set_text(nbb_formatted_code);\n                        }\n                        break;\n                    }\n                }\n            }, 500);\n            ",
      "text/plain": [
       "<IPython.core.display.Javascript object>"
      ]
     },
     "metadata": {},
     "output_type": "display_data"
    }
   ],
   "source": [
    "df.dtypes == df2.dtypes"
   ]
  },
  {
   "cell_type": "code",
   "execution_count": 9,
   "id": "024170c8",
   "metadata": {},
   "outputs": [
    {
     "data": {
      "text/plain": [
       "obj_kodas                     True\n",
       "obj_pav                       True\n",
       "form_kodas                    True\n",
       "form_pav                      True\n",
       "stat_statusas                 True\n",
       "stat_pav                      True\n",
       "template_id                   True\n",
       "template_name                 True\n",
       "standard_id                   True\n",
       "standard_name                 True\n",
       "laikotarpis_nuo               True\n",
       "laikotarpis_iki               True\n",
       "reg_date                      True\n",
       "pelnas_pries_apmokestinima    True\n",
       "grynasis_pelnas               True\n",
       "pardavimo_pajamos             True\n",
       "formavimo_data                True\n",
       "dtype: bool"
      ]
     },
     "execution_count": 9,
     "metadata": {},
     "output_type": "execute_result"
    },
    {
     "data": {
      "application/javascript": "\n            setTimeout(function() {\n                var nbb_cell_id = 9;\n                var nbb_unformatted_code = \"df3.dtypes == df4.dtypes\";\n                var nbb_formatted_code = \"df3.dtypes == df4.dtypes\";\n                var nbb_cells = Jupyter.notebook.get_cells();\n                for (var i = 0; i < nbb_cells.length; ++i) {\n                    if (nbb_cells[i].input_prompt_number == nbb_cell_id) {\n                        if (nbb_cells[i].get_text() == nbb_unformatted_code) {\n                             nbb_cells[i].set_text(nbb_formatted_code);\n                        }\n                        break;\n                    }\n                }\n            }, 500);\n            ",
      "text/plain": [
       "<IPython.core.display.Javascript object>"
      ]
     },
     "metadata": {},
     "output_type": "display_data"
    }
   ],
   "source": [
    "df3.dtypes == df4.dtypes"
   ]
  },
  {
   "cell_type": "markdown",
   "id": "c51df0b6",
   "metadata": {},
   "source": [
    "### 1.3 A"
   ]
  },
  {
   "cell_type": "code",
   "execution_count": 19,
   "id": "55776a9c",
   "metadata": {},
   "outputs": [
    {
     "data": {
      "application/javascript": "\n            setTimeout(function() {\n                var nbb_cell_id = 19;\n                var nbb_unformatted_code = \"#JAR_FA_BLNS struktura (stulelio pavadinimas, duomenu tipas, atributo aprasas):\\n\\n#obj_kodas - decimal - juridinio asmens kodas Juridini\\u0173 asmen\\u0173 registre\\n#obj_pav - string - juridinio asmens pavadinimas (individuali\\u0173 \\u012fmoni\\u0173, komanditini\\u0173 \\u016bkini\\u0173 bendrij\\u0173, tikr\\u0173j\\u0173 \\u016bkini\\u0173 bendrij\\u0173 nuasmeninti pavadinimai)\\n#form_kodas - decimal - juridinio asmens formos kodas\\n#form_pav - string -juridinio asmens formos pavadinimas\\n#stat_statusas - decimal- juridinio asmens teisinio statuso kodas\\n#stat_pav - string - juridinio asmens teisinio statuso pavadinimas\\n#template_id - decimal- ataskaitos r\\u016b\\u0161ies kodas\\n#template_name - string - ataskaitos r\\u016b\\u0161ies pavadinimas\\n#standard_id - decimal - FA dokument\\u0173 rinkinio kodas\\n#standard_name - string- FA dokument\\u0173 rinkinio tipas\\n#laikotarpis_nuo - date - finansini\\u0173 met\\u0173 prad\\u017eios data\\n#laikotarpis_iki - date - finansini\\u0173 met\\u0173 pabaigos data\\n#reg_date - date - FA dokument\\u0173 registravimo JAR data\\n#nuosavas_kapitalas - decimal - FA ataskaitos rodiklio (nuosavo kapitalo) reik\\u0161m\\u0117 eurais\\n#mok_sumos_ir_isipareigojimai - decimal - FA rodiklio (mok\\u0117tin\\u0173 sum\\u0173 ir \\u012fsipareigojim\\u0173) reik\\u0161m\\u0117 eurais\\n#ilgalaikis_turtas -decimal - FA ataskaitos rodiklio (ilgalaikio turto) reik\\u0161m\\u0117 eurais\\n#trumpalaikis_turtas - decimal - FA ataskaitos rodiklio (trumpalaikio turto) reik\\u0161m\\u0117 eurais\";\n                var nbb_formatted_code = \"# JAR_FA_BLNS struktura (stulelio pavadinimas, duomenu tipas, atributo aprasas):\\n\\n# obj_kodas - decimal - juridinio asmens kodas Juridini\\u0173 asmen\\u0173 registre\\n# obj_pav - string - juridinio asmens pavadinimas (individuali\\u0173 \\u012fmoni\\u0173, komanditini\\u0173 \\u016bkini\\u0173 bendrij\\u0173, tikr\\u0173j\\u0173 \\u016bkini\\u0173 bendrij\\u0173 nuasmeninti pavadinimai)\\n# form_kodas - decimal - juridinio asmens formos kodas\\n# form_pav - string -juridinio asmens formos pavadinimas\\n# stat_statusas - decimal- juridinio asmens teisinio statuso kodas\\n# stat_pav - string - juridinio asmens teisinio statuso pavadinimas\\n# template_id - decimal- ataskaitos r\\u016b\\u0161ies kodas\\n# template_name - string - ataskaitos r\\u016b\\u0161ies pavadinimas\\n# standard_id - decimal - FA dokument\\u0173 rinkinio kodas\\n# standard_name - string- FA dokument\\u0173 rinkinio tipas\\n# laikotarpis_nuo - date - finansini\\u0173 met\\u0173 prad\\u017eios data\\n# laikotarpis_iki - date - finansini\\u0173 met\\u0173 pabaigos data\\n# reg_date - date - FA dokument\\u0173 registravimo JAR data\\n# nuosavas_kapitalas - decimal - FA ataskaitos rodiklio (nuosavo kapitalo) reik\\u0161m\\u0117 eurais\\n# mok_sumos_ir_isipareigojimai - decimal - FA rodiklio (mok\\u0117tin\\u0173 sum\\u0173 ir \\u012fsipareigojim\\u0173) reik\\u0161m\\u0117 eurais\\n# ilgalaikis_turtas -decimal - FA ataskaitos rodiklio (ilgalaikio turto) reik\\u0161m\\u0117 eurais\\n# trumpalaikis_turtas - decimal - FA ataskaitos rodiklio (trumpalaikio turto) reik\\u0161m\\u0117 eurais\";\n                var nbb_cells = Jupyter.notebook.get_cells();\n                for (var i = 0; i < nbb_cells.length; ++i) {\n                    if (nbb_cells[i].input_prompt_number == nbb_cell_id) {\n                        if (nbb_cells[i].get_text() == nbb_unformatted_code) {\n                             nbb_cells[i].set_text(nbb_formatted_code);\n                        }\n                        break;\n                    }\n                }\n            }, 500);\n            ",
      "text/plain": [
       "<IPython.core.display.Javascript object>"
      ]
     },
     "metadata": {},
     "output_type": "display_data"
    }
   ],
   "source": [
    "# JAR_FA_BLNS struktura (stulelio pavadinimas, duomenu tipas, atributo aprasas):\n",
    "\n",
    "# obj_kodas - decimal - juridinio asmens kodas Juridinių asmenų registre\n",
    "# obj_pav - string - juridinio asmens pavadinimas (individualių įmonių, komanditinių ūkinių bendrijų, tikrųjų ūkinių bendrijų nuasmeninti pavadinimai)\n",
    "# form_kodas - decimal - juridinio asmens formos kodas\n",
    "# form_pav - string -juridinio asmens formos pavadinimas\n",
    "# stat_statusas - decimal- juridinio asmens teisinio statuso kodas\n",
    "# stat_pav - string - juridinio asmens teisinio statuso pavadinimas\n",
    "# template_id - decimal- ataskaitos rūšies kodas\n",
    "# template_name - string - ataskaitos rūšies pavadinimas\n",
    "# standard_id - decimal - FA dokumentų rinkinio kodas\n",
    "# standard_name - string- FA dokumentų rinkinio tipas\n",
    "# laikotarpis_nuo - date - finansinių metų pradžios data\n",
    "# laikotarpis_iki - date - finansinių metų pabaigos data\n",
    "# reg_date - date - FA dokumentų registravimo JAR data\n",
    "# nuosavas_kapitalas - decimal - FA ataskaitos rodiklio (nuosavo kapitalo) reikšmė eurais\n",
    "# mok_sumos_ir_isipareigojimai - decimal - FA rodiklio (mokėtinų sumų ir įsipareigojimų) reikšmė eurais\n",
    "# ilgalaikis_turtas -decimal - FA ataskaitos rodiklio (ilgalaikio turto) reikšmė eurais\n",
    "# trumpalaikis_turtas - decimal - FA ataskaitos rodiklio (trumpalaikio turto) reikšmė eurais"
   ]
  },
  {
   "cell_type": "code",
   "execution_count": 18,
   "id": "7c1f38b2",
   "metadata": {},
   "outputs": [
    {
     "data": {
      "application/javascript": "\n            setTimeout(function() {\n                var nbb_cell_id = 18;\n                var nbb_unformatted_code = \"# JAR_FA_PLNA struktura(stulelio pavadinimas, duomenu tipas, atributo aprasas):\\n\\n# obj_kodas - decimal - juridinio asmens kodas Juridini\\u0173 asmen\\u0173 registre\\n# obj_pav - string - juridinio asmens pavadinimas (individuali\\u0173 \\u012fmoni\\u0173, komanditini\\u0173 \\u016bkini\\u0173 bendrij\\u0173, tikr\\u0173j\\u0173 \\u016bkini\\u0173 bendrij\\u0173 nuasmeninti pavadinimai)\\n# form_kodas - decimal - juridinio asmens formos kodas\\n# form_pav - string - juridinio asmens formos pavadinimas\\n# stat_statusas - decimal - juridinio asmens teisinio statuso kodas\\n# stat_pav - string - juridinio asmens teisinio statuso pavadinimas\\n# template_id - decimal - ataskaitos r\\u016b\\u0161ies kodas\\n# template_name - string - ataskaitos r\\u016b\\u0161ies pavadinimas\\n# standard_id - decimal - FA dokument\\u0173 rinkinio kodas\\n# standard_name - string - FA dokument\\u0173 rinkinio tipas\\n# laikotarpis_nuo - date - finansini\\u0173 met\\u0173 prad\\u017eios data\\n# laikotarpis_iki - date - finansini\\u0173 met\\u0173 pabaigos data\\n# reg_date - date - FA dokument\\u0173 registravimo JAR data\\n# pelnas_pries_apmokestinima - decimal - FA ataskaitos rodiklio (pelno prie\\u0161 apmokestinim\\u0105) reik\\u0161m\\u0117 eurais\\n# grynasis_pelnas - decimal - FA ataskaitos rodiklio (grynojo pelno) reik\\u0161m\\u0117 eurais\\n# pardavimo_pajamos - decimal - FA ataskaitos rodiklio (pardavimo pajam\\u0173) reik\\u0161m\\u0117 eurais\";\n                var nbb_formatted_code = \"# JAR_FA_PLNA struktura(stulelio pavadinimas, duomenu tipas, atributo aprasas):\\n\\n# obj_kodas - decimal - juridinio asmens kodas Juridini\\u0173 asmen\\u0173 registre\\n# obj_pav - string - juridinio asmens pavadinimas (individuali\\u0173 \\u012fmoni\\u0173, komanditini\\u0173 \\u016bkini\\u0173 bendrij\\u0173, tikr\\u0173j\\u0173 \\u016bkini\\u0173 bendrij\\u0173 nuasmeninti pavadinimai)\\n# form_kodas - decimal - juridinio asmens formos kodas\\n# form_pav - string - juridinio asmens formos pavadinimas\\n# stat_statusas - decimal - juridinio asmens teisinio statuso kodas\\n# stat_pav - string - juridinio asmens teisinio statuso pavadinimas\\n# template_id - decimal - ataskaitos r\\u016b\\u0161ies kodas\\n# template_name - string - ataskaitos r\\u016b\\u0161ies pavadinimas\\n# standard_id - decimal - FA dokument\\u0173 rinkinio kodas\\n# standard_name - string - FA dokument\\u0173 rinkinio tipas\\n# laikotarpis_nuo - date - finansini\\u0173 met\\u0173 prad\\u017eios data\\n# laikotarpis_iki - date - finansini\\u0173 met\\u0173 pabaigos data\\n# reg_date - date - FA dokument\\u0173 registravimo JAR data\\n# pelnas_pries_apmokestinima - decimal - FA ataskaitos rodiklio (pelno prie\\u0161 apmokestinim\\u0105) reik\\u0161m\\u0117 eurais\\n# grynasis_pelnas - decimal - FA ataskaitos rodiklio (grynojo pelno) reik\\u0161m\\u0117 eurais\\n# pardavimo_pajamos - decimal - FA ataskaitos rodiklio (pardavimo pajam\\u0173) reik\\u0161m\\u0117 eurais\";\n                var nbb_cells = Jupyter.notebook.get_cells();\n                for (var i = 0; i < nbb_cells.length; ++i) {\n                    if (nbb_cells[i].input_prompt_number == nbb_cell_id) {\n                        if (nbb_cells[i].get_text() == nbb_unformatted_code) {\n                             nbb_cells[i].set_text(nbb_formatted_code);\n                        }\n                        break;\n                    }\n                }\n            }, 500);\n            ",
      "text/plain": [
       "<IPython.core.display.Javascript object>"
      ]
     },
     "metadata": {},
     "output_type": "display_data"
    }
   ],
   "source": [
    "# JAR_FA_PLNA struktura (stulelio pavadinimas, duomenu tipas, atributo aprasas):\n",
    "\n",
    "# obj_kodas - decimal - juridinio asmens kodas Juridinių asmenų registre\n",
    "# obj_pav - string - juridinio asmens pavadinimas (individualių įmonių, komanditinių ūkinių bendrijų, tikrųjų ūkinių bendrijų nuasmeninti pavadinimai)\n",
    "# form_kodas - decimal - juridinio asmens formos kodas\n",
    "# form_pav - string - juridinio asmens formos pavadinimas\n",
    "# stat_statusas - decimal - juridinio asmens teisinio statuso kodas\n",
    "# stat_pav - string - juridinio asmens teisinio statuso pavadinimas\n",
    "# template_id - decimal - ataskaitos rūšies kodas\n",
    "# template_name - string - ataskaitos rūšies pavadinimas\n",
    "# standard_id - decimal - FA dokumentų rinkinio kodas\n",
    "# standard_name - string - FA dokumentų rinkinio tipas\n",
    "# laikotarpis_nuo - date - finansinių metų pradžios data\n",
    "# laikotarpis_iki - date - finansinių metų pabaigos data\n",
    "# reg_date - date - FA dokumentų registravimo JAR data\n",
    "# pelnas_pries_apmokestinima - decimal - FA ataskaitos rodiklio (pelno prieš apmokestinimą) reikšmė eurais\n",
    "# grynasis_pelnas - decimal - FA ataskaitos rodiklio (grynojo pelno) reikšmė eurais\n",
    "# pardavimo_pajamos - decimal - FA ataskaitos rodiklio (pardavimo pajamų) reikšmė eurais"
   ]
  },
  {
   "cell_type": "markdown",
   "id": "65cfe66f",
   "metadata": {},
   "source": [
    "### 1.3 B,C"
   ]
  },
  {
   "cell_type": "code",
   "execution_count": 20,
   "id": "64fccf57",
   "metadata": {},
   "outputs": [
    {
     "data": {
      "application/javascript": "\n            setTimeout(function() {\n                var nbb_cell_id = 20;\n                var nbb_unformatted_code = \"# Balanso ataskait\\u0173 lentel\\u0117s(df, df2) turi po 17 stulpeli\\u0173 ir po 3 skirtingus duomen\\u0173 tipus (Float(64), int(64) ir object)\\n# Pelno (nuostoli\\u0173) lentel\\u0117s(df3, df4) turi po 16 stulpeli\\u0173 ir po 3 skirtingus duomen\\u0173 tipus (Float(64), int(64) ir object)\\n# Atskir\\u0173 lenteli\\u0173 (df ir df2), bei (df3, df4) duomenys sutampa. Jei lygint jas tarpusavyje Balanso ir Pelno lenteli\\u0173 at\\u017evilgiu,\\n# tuomet Balanso lenteles turi 1 stulpeliu daugiau. \\n#Lyginant lenteliu duomenu tipus, pagal duotasias esybiu lenteles, Pandas date laikus atpazysta kaip Object tipa.\";\n                var nbb_formatted_code = \"# Balanso ataskait\\u0173 lentel\\u0117s(df, df2) turi po 17 stulpeli\\u0173 ir po 3 skirtingus duomen\\u0173 tipus (Float(64), int(64) ir object)\\n# Pelno (nuostoli\\u0173) lentel\\u0117s(df3, df4) turi po 16 stulpeli\\u0173 ir po 3 skirtingus duomen\\u0173 tipus (Float(64), int(64) ir object)\\n# Atskir\\u0173 lenteli\\u0173 (df ir df2), bei (df3, df4) duomenys sutampa. Jei lygint jas tarpusavyje Balanso ir Pelno lenteli\\u0173 at\\u017evilgiu,\\n# tuomet Balanso lenteles turi 1 stulpeliu daugiau.\\n# Lyginant lenteliu duomenu tipus, pagal duotasias esybiu lenteles, Pandas date laikus atpazysta kaip Object tipa.\";\n                var nbb_cells = Jupyter.notebook.get_cells();\n                for (var i = 0; i < nbb_cells.length; ++i) {\n                    if (nbb_cells[i].input_prompt_number == nbb_cell_id) {\n                        if (nbb_cells[i].get_text() == nbb_unformatted_code) {\n                             nbb_cells[i].set_text(nbb_formatted_code);\n                        }\n                        break;\n                    }\n                }\n            }, 500);\n            ",
      "text/plain": [
       "<IPython.core.display.Javascript object>"
      ]
     },
     "metadata": {},
     "output_type": "display_data"
    }
   ],
   "source": [
    "# Balanso ataskaitų lentelės(df, df2) turi po 17 stulpelių ir po 3 skirtingus duomenų tipus (Float(64), int(64) ir object)\n",
    "# Pelno (nuostolių) lentelės(df3, df4) turi po 16 stulpelių ir po 3 skirtingus duomenų tipus (Float(64), int(64) ir object)\n",
    "# Atskirų lentelių (df ir df2), bei (df3, df4) duomenys sutampa. Jei lygint jas tarpusavyje Balanso ir Pelno lentelių atžvilgiu,\n",
    "# tuomet Balanso lenteles turi 1 stulpeliu daugiau.\n",
    "# Lyginant lenteliu duomenu tipus, pagal duotasias esybiu lenteles, Pandas date laikus atpazysta kaip Object tipa."
   ]
  },
  {
   "cell_type": "markdown",
   "id": "40a153ee",
   "metadata": {},
   "source": [
    "### 1.3 D"
   ]
  },
  {
   "cell_type": "code",
   "execution_count": 21,
   "id": "c24cccf2",
   "metadata": {},
   "outputs": [
    {
     "data": {
      "application/javascript": "\n            setTimeout(function() {\n                var nbb_cell_id = 21;\n                var nbb_unformatted_code = \"#Kai Pandas negali atpazinti duomenu tipo, pvz, kaip musu atveju laukelis - 'laikotarpis_nuo' - tuomet pagal nutylejima pavercia\\n# object tipu. Matant object duomenu tipa, tai tikrai nereiskia, kad sis tipas yra python string.\";\n                var nbb_formatted_code = \"# Kai Pandas negali atpazinti duomenu tipo, pvz, kaip musu atveju laukelis - 'laikotarpis_nuo' - tuomet pagal nutylejima pavercia\\n# object tipu. Matant object duomenu tipa, tai tikrai nereiskia, kad sis tipas yra python string.\";\n                var nbb_cells = Jupyter.notebook.get_cells();\n                for (var i = 0; i < nbb_cells.length; ++i) {\n                    if (nbb_cells[i].input_prompt_number == nbb_cell_id) {\n                        if (nbb_cells[i].get_text() == nbb_unformatted_code) {\n                             nbb_cells[i].set_text(nbb_formatted_code);\n                        }\n                        break;\n                    }\n                }\n            }, 500);\n            ",
      "text/plain": [
       "<IPython.core.display.Javascript object>"
      ]
     },
     "metadata": {},
     "output_type": "display_data"
    }
   ],
   "source": [
    "# Kai Pandas negali atpazinti duomenu tipo, pvz, kaip musu atveju laukelis - 'laikotarpis_nuo' - tuomet pagal nutylejima pavercia\n",
    "# object tipu. Matant object duomenu tipa, tai tikrai nereiskia, kad sis tipas yra python string, tai gali buti ir integer tipas."
   ]
  },
  {
   "attachments": {},
   "cell_type": "markdown",
   "id": "91e89c35",
   "metadata": {},
   "source": [
    "<font color='red'> Erikas Švažas: \n",
    "\n",
    "Taip, teisingai. Dar pridėčiau, kad *everything is an object in Python* ir jei *Pandas* negali atpažinti duomenų tipo (ar tai integer ar string), by default bus *object*. Kiekvineas objektas turės skirtingas funkcijas ir savybes - pavyzdžiui norint naudoti string tipui būdingas fcijas .str.contains() reikės pradžioje atlikti konvertavimą į šį duomenų tipą.\n",
    "\n",
    "</font>"
   ]
  },
  {
   "cell_type": "markdown",
   "id": "98eae497",
   "metadata": {},
   "source": [
    "### 1.3 E"
   ]
  },
  {
   "cell_type": "code",
   "execution_count": 25,
   "id": "682befd7",
   "metadata": {},
   "outputs": [
    {
     "data": {
      "text/plain": [
       "17013"
      ]
     },
     "execution_count": 25,
     "metadata": {},
     "output_type": "execute_result"
    },
    {
     "data": {
      "application/javascript": "\n            setTimeout(function() {\n                var nbb_cell_id = 25;\n                var nbb_unformatted_code = \"df.isna().sum().sum()\";\n                var nbb_formatted_code = \"df.isna().sum().sum()\";\n                var nbb_cells = Jupyter.notebook.get_cells();\n                for (var i = 0; i < nbb_cells.length; ++i) {\n                    if (nbb_cells[i].input_prompt_number == nbb_cell_id) {\n                        if (nbb_cells[i].get_text() == nbb_unformatted_code) {\n                             nbb_cells[i].set_text(nbb_formatted_code);\n                        }\n                        break;\n                    }\n                }\n            }, 500);\n            ",
      "text/plain": [
       "<IPython.core.display.Javascript object>"
      ]
     },
     "metadata": {},
     "output_type": "display_data"
    }
   ],
   "source": [
    "df.isna().sum().sum()"
   ]
  },
  {
   "cell_type": "code",
   "execution_count": 26,
   "id": "b1c2db22",
   "metadata": {},
   "outputs": [
    {
     "data": {
      "text/plain": [
       "24187"
      ]
     },
     "execution_count": 26,
     "metadata": {},
     "output_type": "execute_result"
    },
    {
     "data": {
      "application/javascript": "\n            setTimeout(function() {\n                var nbb_cell_id = 26;\n                var nbb_unformatted_code = \"df2.isna().sum().sum()\";\n                var nbb_formatted_code = \"df2.isna().sum().sum()\";\n                var nbb_cells = Jupyter.notebook.get_cells();\n                for (var i = 0; i < nbb_cells.length; ++i) {\n                    if (nbb_cells[i].input_prompt_number == nbb_cell_id) {\n                        if (nbb_cells[i].get_text() == nbb_unformatted_code) {\n                             nbb_cells[i].set_text(nbb_formatted_code);\n                        }\n                        break;\n                    }\n                }\n            }, 500);\n            ",
      "text/plain": [
       "<IPython.core.display.Javascript object>"
      ]
     },
     "metadata": {},
     "output_type": "display_data"
    }
   ],
   "source": [
    "df2.isna().sum().sum()"
   ]
  },
  {
   "cell_type": "code",
   "execution_count": 27,
   "id": "7538c28e",
   "metadata": {},
   "outputs": [
    {
     "data": {
      "text/plain": [
       "47606"
      ]
     },
     "execution_count": 27,
     "metadata": {},
     "output_type": "execute_result"
    },
    {
     "data": {
      "application/javascript": "\n            setTimeout(function() {\n                var nbb_cell_id = 27;\n                var nbb_unformatted_code = \"df3.isna().sum().sum()\";\n                var nbb_formatted_code = \"df3.isna().sum().sum()\";\n                var nbb_cells = Jupyter.notebook.get_cells();\n                for (var i = 0; i < nbb_cells.length; ++i) {\n                    if (nbb_cells[i].input_prompt_number == nbb_cell_id) {\n                        if (nbb_cells[i].get_text() == nbb_unformatted_code) {\n                             nbb_cells[i].set_text(nbb_formatted_code);\n                        }\n                        break;\n                    }\n                }\n            }, 500);\n            ",
      "text/plain": [
       "<IPython.core.display.Javascript object>"
      ]
     },
     "metadata": {},
     "output_type": "display_data"
    }
   ],
   "source": [
    "df3.isna().sum().sum()"
   ]
  },
  {
   "cell_type": "code",
   "execution_count": 28,
   "id": "23fd5c39",
   "metadata": {},
   "outputs": [
    {
     "data": {
      "text/plain": [
       "55858"
      ]
     },
     "execution_count": 28,
     "metadata": {},
     "output_type": "execute_result"
    },
    {
     "data": {
      "application/javascript": "\n            setTimeout(function() {\n                var nbb_cell_id = 28;\n                var nbb_unformatted_code = \"df4.isna().sum().sum()\";\n                var nbb_formatted_code = \"df4.isna().sum().sum()\";\n                var nbb_cells = Jupyter.notebook.get_cells();\n                for (var i = 0; i < nbb_cells.length; ++i) {\n                    if (nbb_cells[i].input_prompt_number == nbb_cell_id) {\n                        if (nbb_cells[i].get_text() == nbb_unformatted_code) {\n                             nbb_cells[i].set_text(nbb_formatted_code);\n                        }\n                        break;\n                    }\n                }\n            }, 500);\n            ",
      "text/plain": [
       "<IPython.core.display.Javascript object>"
      ]
     },
     "metadata": {},
     "output_type": "display_data"
    }
   ],
   "source": [
    "df4.isna().sum().sum()"
   ]
  },
  {
   "cell_type": "code",
   "execution_count": 29,
   "id": "0974b607",
   "metadata": {},
   "outputs": [
    {
     "data": {
      "text/plain": [
       "obj_kodas                           0\n",
       "obj_pav                             0\n",
       "form_kodas                          0\n",
       "form_pav                            0\n",
       "stat_statusas                       0\n",
       "stat_pav                            0\n",
       "template_id                         0\n",
       "template_name                       0\n",
       "standard_id                         0\n",
       "standard_name                       0\n",
       "laikotarpis_nuo                     0\n",
       "laikotarpis_iki                     0\n",
       "reg_date                            0\n",
       "nuosavas_kapitalas                552\n",
       "mok_sumos_ir_isipareigojimai    13644\n",
       "ilgalaikis_turtas                1378\n",
       "trumpalaikis_turtas              1439\n",
       "formavimo_data                      0\n",
       "dtype: int64"
      ]
     },
     "execution_count": 29,
     "metadata": {},
     "output_type": "execute_result"
    },
    {
     "data": {
      "application/javascript": "\n            setTimeout(function() {\n                var nbb_cell_id = 29;\n                var nbb_unformatted_code = \"df.isna().sum()\";\n                var nbb_formatted_code = \"df.isna().sum()\";\n                var nbb_cells = Jupyter.notebook.get_cells();\n                for (var i = 0; i < nbb_cells.length; ++i) {\n                    if (nbb_cells[i].input_prompt_number == nbb_cell_id) {\n                        if (nbb_cells[i].get_text() == nbb_unformatted_code) {\n                             nbb_cells[i].set_text(nbb_formatted_code);\n                        }\n                        break;\n                    }\n                }\n            }, 500);\n            ",
      "text/plain": [
       "<IPython.core.display.Javascript object>"
      ]
     },
     "metadata": {},
     "output_type": "display_data"
    }
   ],
   "source": [
    "df.isna().sum()"
   ]
  },
  {
   "cell_type": "code",
   "execution_count": 30,
   "id": "c004151c",
   "metadata": {},
   "outputs": [
    {
     "data": {
      "text/plain": [
       "obj_kodas                           0\n",
       "obj_pav                             0\n",
       "form_kodas                          0\n",
       "form_pav                            0\n",
       "stat_statusas                       0\n",
       "stat_pav                            0\n",
       "template_id                         0\n",
       "template_name                       0\n",
       "standard_id                         0\n",
       "standard_name                       0\n",
       "laikotarpis_nuo                     0\n",
       "laikotarpis_iki                     0\n",
       "reg_date                            0\n",
       "nuosavas_kapitalas                666\n",
       "mok_sumos_ir_isipareigojimai    19670\n",
       "ilgalaikis_turtas                1893\n",
       "trumpalaikis_turtas              1958\n",
       "formavimo_data                      0\n",
       "dtype: int64"
      ]
     },
     "execution_count": 30,
     "metadata": {},
     "output_type": "execute_result"
    },
    {
     "data": {
      "application/javascript": "\n            setTimeout(function() {\n                var nbb_cell_id = 30;\n                var nbb_unformatted_code = \"df2.isna().sum()\";\n                var nbb_formatted_code = \"df2.isna().sum()\";\n                var nbb_cells = Jupyter.notebook.get_cells();\n                for (var i = 0; i < nbb_cells.length; ++i) {\n                    if (nbb_cells[i].input_prompt_number == nbb_cell_id) {\n                        if (nbb_cells[i].get_text() == nbb_unformatted_code) {\n                             nbb_cells[i].set_text(nbb_formatted_code);\n                        }\n                        break;\n                    }\n                }\n            }, 500);\n            ",
      "text/plain": [
       "<IPython.core.display.Javascript object>"
      ]
     },
     "metadata": {},
     "output_type": "display_data"
    }
   ],
   "source": [
    "df2.isna().sum()"
   ]
  },
  {
   "cell_type": "code",
   "execution_count": 31,
   "id": "a1e42fc1",
   "metadata": {},
   "outputs": [
    {
     "data": {
      "text/plain": [
       "obj_kodas                         0\n",
       "obj_pav                           0\n",
       "form_kodas                        0\n",
       "form_pav                          0\n",
       "stat_statusas                     0\n",
       "stat_pav                          0\n",
       "template_id                       0\n",
       "template_name                     0\n",
       "standard_id                       0\n",
       "standard_name                     0\n",
       "laikotarpis_nuo                   0\n",
       "laikotarpis_iki                   0\n",
       "reg_date                          0\n",
       "pelnas_pries_apmokestinima    30365\n",
       "grynasis_pelnas                5200\n",
       "pardavimo_pajamos             12041\n",
       "formavimo_data                    0\n",
       "dtype: int64"
      ]
     },
     "execution_count": 31,
     "metadata": {},
     "output_type": "execute_result"
    },
    {
     "data": {
      "application/javascript": "\n            setTimeout(function() {\n                var nbb_cell_id = 31;\n                var nbb_unformatted_code = \"df3.isna().sum()\";\n                var nbb_formatted_code = \"df3.isna().sum()\";\n                var nbb_cells = Jupyter.notebook.get_cells();\n                for (var i = 0; i < nbb_cells.length; ++i) {\n                    if (nbb_cells[i].input_prompt_number == nbb_cell_id) {\n                        if (nbb_cells[i].get_text() == nbb_unformatted_code) {\n                             nbb_cells[i].set_text(nbb_formatted_code);\n                        }\n                        break;\n                    }\n                }\n            }, 500);\n            ",
      "text/plain": [
       "<IPython.core.display.Javascript object>"
      ]
     },
     "metadata": {},
     "output_type": "display_data"
    }
   ],
   "source": [
    "df3.isna().sum()"
   ]
  },
  {
   "cell_type": "code",
   "execution_count": 32,
   "id": "839f10f9",
   "metadata": {},
   "outputs": [
    {
     "data": {
      "text/plain": [
       "obj_kodas                         0\n",
       "obj_pav                           0\n",
       "form_kodas                        0\n",
       "form_pav                          0\n",
       "stat_statusas                     0\n",
       "stat_pav                          0\n",
       "template_id                       0\n",
       "template_name                     0\n",
       "standard_id                       0\n",
       "standard_name                     0\n",
       "laikotarpis_nuo                   0\n",
       "laikotarpis_iki                   0\n",
       "reg_date                          0\n",
       "pelnas_pries_apmokestinima    34755\n",
       "grynasis_pelnas                6193\n",
       "pardavimo_pajamos             14910\n",
       "formavimo_data                    0\n",
       "dtype: int64"
      ]
     },
     "execution_count": 32,
     "metadata": {},
     "output_type": "execute_result"
    },
    {
     "data": {
      "application/javascript": "\n            setTimeout(function() {\n                var nbb_cell_id = 32;\n                var nbb_unformatted_code = \"df4.isna().sum()\";\n                var nbb_formatted_code = \"df4.isna().sum()\";\n                var nbb_cells = Jupyter.notebook.get_cells();\n                for (var i = 0; i < nbb_cells.length; ++i) {\n                    if (nbb_cells[i].input_prompt_number == nbb_cell_id) {\n                        if (nbb_cells[i].get_text() == nbb_unformatted_code) {\n                             nbb_cells[i].set_text(nbb_formatted_code);\n                        }\n                        break;\n                    }\n                }\n            }, 500);\n            ",
      "text/plain": [
       "<IPython.core.display.Javascript object>"
      ]
     },
     "metadata": {},
     "output_type": "display_data"
    }
   ],
   "source": [
    "df4.isna().sum()"
   ]
  },
  {
   "cell_type": "code",
   "execution_count": 42,
   "id": "faaf816c",
   "metadata": {},
   "outputs": [
    {
     "data": {
      "application/javascript": "\n            setTimeout(function() {\n                var nbb_cell_id = 42;\n                var nbb_unformatted_code = \"#Daugiausia nezinomu verciu turi df3 duomenu rinkinys - 47606\\n# JAR_FA_BLNS - daugiausia nezinomu verciu turi laukas - mok_sumos_ir_isipareigojimai\\n# JAR_FA_PLNA - daugiausia nezinomu verciu turi laukas - pelnas_pries_apmokestinima \";\n                var nbb_formatted_code = \"# Daugiausia nezinomu verciu turi df3 duomenu rinkinys - 47606\\n# JAR_FA_BLNS - daugiausia nezinomu verciu turi laukas - mok_sumos_ir_isipareigojimai\\n# JAR_FA_PLNA - daugiausia nezinomu verciu turi laukas - pelnas_pries_apmokestinima\";\n                var nbb_cells = Jupyter.notebook.get_cells();\n                for (var i = 0; i < nbb_cells.length; ++i) {\n                    if (nbb_cells[i].input_prompt_number == nbb_cell_id) {\n                        if (nbb_cells[i].get_text() == nbb_unformatted_code) {\n                             nbb_cells[i].set_text(nbb_formatted_code);\n                        }\n                        break;\n                    }\n                }\n            }, 500);\n            ",
      "text/plain": [
       "<IPython.core.display.Javascript object>"
      ]
     },
     "metadata": {},
     "output_type": "display_data"
    }
   ],
   "source": [
    "# Daugiausia nezinomu verciu turi df3 duomenu rinkinys - 47606\n",
    "# JAR_FA_BLNS - daugiausia nezinomu verciu turi laukas - mok_sumos_ir_isipareigojimai\n",
    "# JAR_FA_PLNA - daugiausia nezinomu verciu turi laukas - pelnas_pries_apmokestinima"
   ]
  },
  {
   "cell_type": "markdown",
   "id": "d0eb0225",
   "metadata": {},
   "source": [
    "### 1.3 F"
   ]
  },
  {
   "cell_type": "code",
   "execution_count": 43,
   "id": "d925ee20",
   "metadata": {},
   "outputs": [
    {
     "data": {
      "text/plain": [
       "0"
      ]
     },
     "execution_count": 43,
     "metadata": {},
     "output_type": "execute_result"
    },
    {
     "data": {
      "application/javascript": "\n            setTimeout(function() {\n                var nbb_cell_id = 43;\n                var nbb_unformatted_code = \"df.duplicated().sum()\";\n                var nbb_formatted_code = \"df.duplicated().sum()\";\n                var nbb_cells = Jupyter.notebook.get_cells();\n                for (var i = 0; i < nbb_cells.length; ++i) {\n                    if (nbb_cells[i].input_prompt_number == nbb_cell_id) {\n                        if (nbb_cells[i].get_text() == nbb_unformatted_code) {\n                             nbb_cells[i].set_text(nbb_formatted_code);\n                        }\n                        break;\n                    }\n                }\n            }, 500);\n            ",
      "text/plain": [
       "<IPython.core.display.Javascript object>"
      ]
     },
     "metadata": {},
     "output_type": "display_data"
    }
   ],
   "source": [
    "df.duplicated().sum()"
   ]
  },
  {
   "cell_type": "code",
   "execution_count": 44,
   "id": "29bd8c60",
   "metadata": {},
   "outputs": [
    {
     "data": {
      "text/plain": [
       "0"
      ]
     },
     "execution_count": 44,
     "metadata": {},
     "output_type": "execute_result"
    },
    {
     "data": {
      "application/javascript": "\n            setTimeout(function() {\n                var nbb_cell_id = 44;\n                var nbb_unformatted_code = \"df2.duplicated().sum()\";\n                var nbb_formatted_code = \"df2.duplicated().sum()\";\n                var nbb_cells = Jupyter.notebook.get_cells();\n                for (var i = 0; i < nbb_cells.length; ++i) {\n                    if (nbb_cells[i].input_prompt_number == nbb_cell_id) {\n                        if (nbb_cells[i].get_text() == nbb_unformatted_code) {\n                             nbb_cells[i].set_text(nbb_formatted_code);\n                        }\n                        break;\n                    }\n                }\n            }, 500);\n            ",
      "text/plain": [
       "<IPython.core.display.Javascript object>"
      ]
     },
     "metadata": {},
     "output_type": "display_data"
    }
   ],
   "source": [
    "df2.duplicated().sum()"
   ]
  },
  {
   "cell_type": "code",
   "execution_count": 45,
   "id": "a29f18c0",
   "metadata": {},
   "outputs": [
    {
     "data": {
      "text/plain": [
       "0"
      ]
     },
     "execution_count": 45,
     "metadata": {},
     "output_type": "execute_result"
    },
    {
     "data": {
      "application/javascript": "\n            setTimeout(function() {\n                var nbb_cell_id = 45;\n                var nbb_unformatted_code = \"df3.duplicated().sum()\";\n                var nbb_formatted_code = \"df3.duplicated().sum()\";\n                var nbb_cells = Jupyter.notebook.get_cells();\n                for (var i = 0; i < nbb_cells.length; ++i) {\n                    if (nbb_cells[i].input_prompt_number == nbb_cell_id) {\n                        if (nbb_cells[i].get_text() == nbb_unformatted_code) {\n                             nbb_cells[i].set_text(nbb_formatted_code);\n                        }\n                        break;\n                    }\n                }\n            }, 500);\n            ",
      "text/plain": [
       "<IPython.core.display.Javascript object>"
      ]
     },
     "metadata": {},
     "output_type": "display_data"
    }
   ],
   "source": [
    "df3.duplicated().sum()"
   ]
  },
  {
   "cell_type": "code",
   "execution_count": 46,
   "id": "d4745609",
   "metadata": {},
   "outputs": [
    {
     "data": {
      "text/plain": [
       "0"
      ]
     },
     "execution_count": 46,
     "metadata": {},
     "output_type": "execute_result"
    },
    {
     "data": {
      "application/javascript": "\n            setTimeout(function() {\n                var nbb_cell_id = 46;\n                var nbb_unformatted_code = \"df4.duplicated().sum()\";\n                var nbb_formatted_code = \"df4.duplicated().sum()\";\n                var nbb_cells = Jupyter.notebook.get_cells();\n                for (var i = 0; i < nbb_cells.length; ++i) {\n                    if (nbb_cells[i].input_prompt_number == nbb_cell_id) {\n                        if (nbb_cells[i].get_text() == nbb_unformatted_code) {\n                             nbb_cells[i].set_text(nbb_formatted_code);\n                        }\n                        break;\n                    }\n                }\n            }, 500);\n            ",
      "text/plain": [
       "<IPython.core.display.Javascript object>"
      ]
     },
     "metadata": {},
     "output_type": "display_data"
    }
   ],
   "source": [
    "df4.duplicated().sum()"
   ]
  },
  {
   "attachments": {},
   "cell_type": "markdown",
   "id": "9384f71c",
   "metadata": {},
   "source": [
    "<font color='red'> Erikas Švažas: \n",
    "\n",
    "Nėra paskutinės dalies [-0.3 taško]\n",
    "\n",
    "</font>"
   ]
  },
  {
   "cell_type": "markdown",
   "id": "058562fa",
   "metadata": {},
   "source": [
    "### 4"
   ]
  },
  {
   "cell_type": "code",
   "execution_count": 37,
   "id": "17186f28",
   "metadata": {},
   "outputs": [
    {
     "data": {
      "text/plain": [
       "array(['UAB \"Thermo Fisher Scientific Vector Holdings\"',\n",
       "       'UAB \"Thermo Fisher Scientific Baltics\"',\n",
       "       'UAB \"Thermo Fisher Scientific Vector Senior Holdings I\"',\n",
       "       'UAB \"Thermo Fisher Scientific Vector Senior Holdings II\"'],\n",
       "      dtype=object)"
      ]
     },
     "execution_count": 37,
     "metadata": {},
     "output_type": "execute_result"
    },
    {
     "data": {
      "application/javascript": "\n            setTimeout(function() {\n                var nbb_cell_id = 37;\n                var nbb_unformatted_code = \"df[df[\\\"obj_pav\\\"].str.contains(\\\"Thermo Fisher\\\")]['obj_pav'].unique()\";\n                var nbb_formatted_code = \"df[df[\\\"obj_pav\\\"].str.contains(\\\"Thermo Fisher\\\")][\\\"obj_pav\\\"].unique()\";\n                var nbb_cells = Jupyter.notebook.get_cells();\n                for (var i = 0; i < nbb_cells.length; ++i) {\n                    if (nbb_cells[i].input_prompt_number == nbb_cell_id) {\n                        if (nbb_cells[i].get_text() == nbb_unformatted_code) {\n                             nbb_cells[i].set_text(nbb_formatted_code);\n                        }\n                        break;\n                    }\n                }\n            }, 500);\n            ",
      "text/plain": [
       "<IPython.core.display.Javascript object>"
      ]
     },
     "metadata": {},
     "output_type": "display_data"
    }
   ],
   "source": [
    "df[df[\"obj_pav\"].str.contains(\"Thermo Fisher\")][\"obj_pav\"].unique()"
   ]
  },
  {
   "attachments": {},
   "cell_type": "markdown",
   "id": "5108ce0f",
   "metadata": {},
   "source": [
    "<font color=\"red\"> Erikas Švažas\n",
    "\n",
    "Ateityje gali praversti .str.contains(case=?) argumentas\n",
    "\n",
    "</font>"
   ]
  },
  {
   "cell_type": "markdown",
   "id": "5b986b7f",
   "metadata": {},
   "source": [
    "### 5"
   ]
  },
  {
   "cell_type": "code",
   "execution_count": 10,
   "id": "86415a6b",
   "metadata": {},
   "outputs": [
    {
     "data": {
      "application/javascript": "\n            setTimeout(function() {\n                var nbb_cell_id = 10;\n                var nbb_unformatted_code = \"def parse_form(obj_name):\\n    if (\\n        \\\"UAB \\\" in obj_name.upper()\\n        or \\\" UAB\\\" in obj_name.upper()\\n        or \\\"u\\u017edaroji akcin\\u0117 bendrov\\u0117\\\" in obj_name.lower()\\n    ):\\n        return \\\"U\\u017edaroji akcin\\u0117 bendrov\\u0117\\\"\\n    elif (\\n        \\\"MB \\\" in obj_name.upper()\\n        or \\\" MB\\\" in obj_name.upper()\\n        or \\\"ma\\u017eoji bendrija\\\" in obj_name.lower()\\n    ):\\n        return \\\"Ma\\u017eoji bendrija\\\"\\n\\n    return None\\n\\n\\ndf3[\\\"extracted_form_pav\\\"] = df3[\\\"obj_pav\\\"].apply(parse_form)\\ndf4[\\\"extracted_form_pav\\\"] = df4[\\\"obj_pav\\\"].apply(parse_form)\\ndf2[\\\"extracted_form_pav\\\"] = df2[\\\"obj_pav\\\"].apply(parse_form)\\ndf[\\\"extracted_form_pav\\\"] = df[\\\"obj_pav\\\"].apply(parse_form)\";\n                var nbb_formatted_code = \"def parse_form(obj_name):\\n    if (\\n        \\\"UAB \\\" in obj_name.upper()\\n        or \\\" UAB\\\" in obj_name.upper()\\n        or \\\"u\\u017edaroji akcin\\u0117 bendrov\\u0117\\\" in obj_name.lower()\\n    ):\\n        return \\\"U\\u017edaroji akcin\\u0117 bendrov\\u0117\\\"\\n    elif (\\n        \\\"MB \\\" in obj_name.upper()\\n        or \\\" MB\\\" in obj_name.upper()\\n        or \\\"ma\\u017eoji bendrija\\\" in obj_name.lower()\\n    ):\\n        return \\\"Ma\\u017eoji bendrija\\\"\\n\\n    return None\\n\\n\\ndf3[\\\"extracted_form_pav\\\"] = df3[\\\"obj_pav\\\"].apply(parse_form)\\ndf4[\\\"extracted_form_pav\\\"] = df4[\\\"obj_pav\\\"].apply(parse_form)\\ndf2[\\\"extracted_form_pav\\\"] = df2[\\\"obj_pav\\\"].apply(parse_form)\\ndf[\\\"extracted_form_pav\\\"] = df[\\\"obj_pav\\\"].apply(parse_form)\";\n                var nbb_cells = Jupyter.notebook.get_cells();\n                for (var i = 0; i < nbb_cells.length; ++i) {\n                    if (nbb_cells[i].input_prompt_number == nbb_cell_id) {\n                        if (nbb_cells[i].get_text() == nbb_unformatted_code) {\n                             nbb_cells[i].set_text(nbb_formatted_code);\n                        }\n                        break;\n                    }\n                }\n            }, 500);\n            ",
      "text/plain": [
       "<IPython.core.display.Javascript object>"
      ]
     },
     "metadata": {},
     "output_type": "display_data"
    }
   ],
   "source": [
    "def parse_form(obj_name):\n",
    "    if (\n",
    "        \"UAB \" in obj_name.upper()\n",
    "        or \" UAB\" in obj_name.upper()\n",
    "        or \"uždaroji akcinė bendrovė\" in obj_name.lower()\n",
    "    ):\n",
    "        return \"Uždaroji akcinė bendrovė\"\n",
    "    elif (\n",
    "        \"MB \" in obj_name.upper()\n",
    "        or \" MB\" in obj_name.upper()\n",
    "        or \"mažoji bendrija\" in obj_name.lower()\n",
    "    ):\n",
    "        return \"Mažoji bendrija\"\n",
    "\n",
    "    return None\n",
    "\n",
    "\n",
    "df3[\"extracted_form_pav\"] = df3[\"obj_pav\"].apply(parse_form)\n",
    "df4[\"extracted_form_pav\"] = df4[\"obj_pav\"].apply(parse_form)\n",
    "df2[\"extracted_form_pav\"] = df2[\"obj_pav\"].apply(parse_form)\n",
    "df[\"extracted_form_pav\"] = df[\"obj_pav\"].apply(parse_form)"
   ]
  },
  {
   "cell_type": "markdown",
   "id": "bdc1954a",
   "metadata": {},
   "source": [
    "### 10"
   ]
  },
  {
   "cell_type": "code",
   "execution_count": 11,
   "id": "7a091c1b",
   "metadata": {},
   "outputs": [
    {
     "data": {
      "text/plain": [
       "<AxesSubplot:xlabel='reg_menesis'>"
      ]
     },
     "execution_count": 11,
     "metadata": {},
     "output_type": "execute_result"
    },
    {
     "data": {
      "image/png": "[encoded data removed]",
      "text/plain": [
       "<Figure size 432x288 with 1 Axes>"
      ]
     },
     "metadata": {
      "needs_background": "light"
     },
     "output_type": "display_data"
    },
    {
     "data": {
      "application/javascript": "\n            setTimeout(function() {\n                var nbb_cell_id = 11;\n                var nbb_unformatted_code = \"df[\\\"reg_menesis\\\"] = df[\\\"reg_date\\\"].str.split(\\\"-\\\").str.get(1)\\ndf2[\\\"reg_menesis\\\"] = df2[\\\"reg_date\\\"].str.split(\\\"-\\\").str.get(1)\\n\\nyear_2020 = df.groupby(by=\\\"reg_menesis\\\").count()[\\\"obj_kodas\\\"]\\nyear_2021 = df2.groupby(by=\\\"reg_menesis\\\").count()[\\\"obj_kodas\\\"]\\n\\npd.concat([year_2020, year_2021], axis=1).plot(kind=\\\"bar\\\")\";\n                var nbb_formatted_code = \"df[\\\"reg_menesis\\\"] = df[\\\"reg_date\\\"].str.split(\\\"-\\\").str.get(1)\\ndf2[\\\"reg_menesis\\\"] = df2[\\\"reg_date\\\"].str.split(\\\"-\\\").str.get(1)\\n\\nyear_2020 = df.groupby(by=\\\"reg_menesis\\\").count()[\\\"obj_kodas\\\"]\\nyear_2021 = df2.groupby(by=\\\"reg_menesis\\\").count()[\\\"obj_kodas\\\"]\\n\\npd.concat([year_2020, year_2021], axis=1).plot(kind=\\\"bar\\\")\";\n                var nbb_cells = Jupyter.notebook.get_cells();\n                for (var i = 0; i < nbb_cells.length; ++i) {\n                    if (nbb_cells[i].input_prompt_number == nbb_cell_id) {\n                        if (nbb_cells[i].get_text() == nbb_unformatted_code) {\n                             nbb_cells[i].set_text(nbb_formatted_code);\n                        }\n                        break;\n                    }\n                }\n            }, 500);\n            ",
      "text/plain": [
       "<IPython.core.display.Javascript object>"
      ]
     },
     "metadata": {},
     "output_type": "display_data"
    }
   ],
   "source": [
    "df[\"reg_menesis\"] = df[\"reg_date\"].str.split(\"-\").str.get(1)\n",
    "df2[\"reg_menesis\"] = df2[\"reg_date\"].str.split(\"-\").str.get(1)\n",
    "\n",
    "year_2020 = df.groupby(by=\"reg_menesis\").count()[\"obj_kodas\"]\n",
    "year_2021 = df2.groupby(by=\"reg_menesis\").count()[\"obj_kodas\"]\n",
    "\n",
    "pd.concat([year_2020, year_2021], axis=1).plot(kind=\"bar\")"
   ]
  },
  {
   "cell_type": "markdown",
   "id": "47165543-b464-418a-9118-e3c341cf22d0",
   "metadata": {},
   "source": [
    "<font color='red'> Tomas Rasymas: \n",
    "Viskas šauniai!\n",
    "</font>"
   ]
  },
  {
   "cell_type": "markdown",
   "id": "5788538e",
   "metadata": {},
   "source": [
    "### 12"
   ]
  },
  {
   "cell_type": "code",
   "execution_count": 16,
   "id": "15d70fc8",
   "metadata": {},
   "outputs": [
    {
     "data": {
      "text/plain": [
       "<AxesSubplot:>"
      ]
     },
     "execution_count": 16,
     "metadata": {},
     "output_type": "execute_result"
    },
    {
     "data": {
      "image/png": "[encoded data removed]",
      "text/plain": [
       "<Figure size 432x288 with 1 Axes>"
      ]
     },
     "metadata": {
      "needs_background": "light"
     },
     "output_type": "display_data"
    },
    {
     "data": {
      "application/javascript": "\n            setTimeout(function() {\n                var nbb_cell_id = 16;\n                var nbb_unformatted_code = \"trend_df_20 = df3[df3['laikotarpis_nuo'] == '2019-01-01'][['obj_kodas', 'form_pav', 'grynasis_pelnas']].merge(df[df['laikotarpis_nuo'] == '2019-01-01'], on='obj_kodas')\\n\\ntrend_df_21 = df4[df4['laikotarpis_nuo'] == '2020-01-01'][['obj_kodas', 'form_pav', 'grynasis_pelnas']].merge(df2[df2['laikotarpis_nuo'] == '2020-01-01'], on='obj_kodas')\\n\\n\\ntrend_df_20['grynasis_pelnas+nuosavas_kapitalas_20'] = trend_df_20['grynasis_pelnas'] + trend_df_20['nuosavas_kapitalas']\\ntrend_df_21['grynasis_pelnas+nuosavas_kapitalas_21'] = trend_df_21['grynasis_pelnas'] + trend_df_21['nuosavas_kapitalas']\\n\\ntrend_df = trend_df_20.merge(trend_df_21, on='obj_kodas')\\n\\ntrend_df['tendencija'] = 'neigiama'\\n\\ntrend_filter = trend_df['grynasis_pelnas+nuosavas_kapitalas_21'] > trend_df['grynasis_pelnas+nuosavas_kapitalas_20']\\ntrend_df.loc[trend_filter, 'tendencija'] = 'teigiama'\\n\\ntrend_df['tendencija'].value_counts().plot(kind='bar')\";\n                var nbb_formatted_code = \"trend_df_20 = df3[df3[\\\"laikotarpis_nuo\\\"] == \\\"2019-01-01\\\"][\\n    [\\\"obj_kodas\\\", \\\"form_pav\\\", \\\"grynasis_pelnas\\\"]\\n].merge(df[df[\\\"laikotarpis_nuo\\\"] == \\\"2019-01-01\\\"], on=\\\"obj_kodas\\\")\\n\\ntrend_df_21 = df4[df4[\\\"laikotarpis_nuo\\\"] == \\\"2020-01-01\\\"][\\n    [\\\"obj_kodas\\\", \\\"form_pav\\\", \\\"grynasis_pelnas\\\"]\\n].merge(df2[df2[\\\"laikotarpis_nuo\\\"] == \\\"2020-01-01\\\"], on=\\\"obj_kodas\\\")\\n\\n\\ntrend_df_20[\\\"grynasis_pelnas+nuosavas_kapitalas_20\\\"] = (\\n    trend_df_20[\\\"grynasis_pelnas\\\"] + trend_df_20[\\\"nuosavas_kapitalas\\\"]\\n)\\ntrend_df_21[\\\"grynasis_pelnas+nuosavas_kapitalas_21\\\"] = (\\n    trend_df_21[\\\"grynasis_pelnas\\\"] + trend_df_21[\\\"nuosavas_kapitalas\\\"]\\n)\\n\\ntrend_df = trend_df_20.merge(trend_df_21, on=\\\"obj_kodas\\\")\\n\\ntrend_df[\\\"tendencija\\\"] = \\\"neigiama\\\"\\n\\ntrend_filter = (\\n    trend_df[\\\"grynasis_pelnas+nuosavas_kapitalas_21\\\"]\\n    > trend_df[\\\"grynasis_pelnas+nuosavas_kapitalas_20\\\"]\\n)\\ntrend_df.loc[trend_filter, \\\"tendencija\\\"] = \\\"teigiama\\\"\\n\\ntrend_df[\\\"tendencija\\\"].value_counts().plot(kind=\\\"bar\\\")\";\n                var nbb_cells = Jupyter.notebook.get_cells();\n                for (var i = 0; i < nbb_cells.length; ++i) {\n                    if (nbb_cells[i].input_prompt_number == nbb_cell_id) {\n                        if (nbb_cells[i].get_text() == nbb_unformatted_code) {\n                             nbb_cells[i].set_text(nbb_formatted_code);\n                        }\n                        break;\n                    }\n                }\n            }, 500);\n            ",
      "text/plain": [
       "<IPython.core.display.Javascript object>"
      ]
     },
     "metadata": {},
     "output_type": "display_data"
    }
   ],
   "source": [
    "trend_df_20 = df3[df3['laikotarpis_nuo'] == '2019-01-01'][['obj_kodas', 'form_pav', 'grynasis_pelnas']].merge(df[df['laikotarpis_nuo'] == '2019-01-01'], on='obj_kodas')\n",
    "\n",
    "trend_df_21 = df4[df4['laikotarpis_nuo'] == '2020-01-01'][['obj_kodas', 'form_pav', 'grynasis_pelnas']].merge(df2[df2['laikotarpis_nuo'] == '2020-01-01'], on='obj_kodas')\n",
    "\n",
    "\n",
    "trend_df_20['grynasis_pelnas+nuosavas_kapitalas_20'] = trend_df_20['grynasis_pelnas'] + trend_df_20['nuosavas_kapitalas']\n",
    "trend_df_21['grynasis_pelnas+nuosavas_kapitalas_21'] = trend_df_21['grynasis_pelnas'] + trend_df_21['nuosavas_kapitalas']\n",
    "\n",
    "trend_df = trend_df_20.merge(trend_df_21, on='obj_kodas')\n",
    "\n",
    "trend_df['tendencija'] = 'neigiama'\n",
    "\n",
    "trend_filter = trend_df['grynasis_pelnas+nuosavas_kapitalas_21'] > trend_df['grynasis_pelnas+nuosavas_kapitalas_20']\n",
    "trend_df.loc[trend_filter, 'tendencija'] = 'teigiama'\n",
    "\n",
    "trend_df['tendencija'].value_counts().plot(kind='bar')\n",
    "\n",
    "\n"
   ]
  },
  {
   "cell_type": "markdown",
   "id": "42449d84",
   "metadata": {},
   "source": [
    "### 13"
   ]
  },
  {
   "cell_type": "code",
   "execution_count": 17,
   "id": "5c498562",
   "metadata": {},
   "outputs": [
    {
     "data": {
      "application/javascript": "\n            setTimeout(function() {\n                var nbb_cell_id = 17;\n                var nbb_unformatted_code = \"def get_veikianti_bankrutavusi(x):\\n    veikianti = ['Teisinis stat ne\\u012fregistruotas']\\n    bankrutavusi = [\\n        'Bankrutav\\u0119s',\\n        'Bankrutuojantis',\\n        'I\\u0161registruotas',\\n        'Likviduojamas',\\n        'Likviduojamas d\\u0117l bankroto',\\n        'Inicijuojamas likvidavimas'\\n    ]\\n    \\n    if x in veikianti:\\n        return 'veikianti'\\n    elif x in bankrutavusi:\\n        return 'bankrutavusi'\\n    \\n    return None\\n\\n\\ndf['veikianti_bankrutavusi'] = df['stat_pav'].map(get_veikianti_bankrutavusi)\\ndf2['veikianti_bankrutavusi'] = df2['stat_pav'].map(get_veikianti_bankrutavusi)\";\n                var nbb_formatted_code = \"def get_veikianti_bankrutavusi(x):\\n    veikianti = [\\\"Teisinis stat ne\\u012fregistruotas\\\"]\\n    bankrutavusi = [\\n        \\\"Bankrutav\\u0119s\\\",\\n        \\\"Bankrutuojantis\\\",\\n        \\\"I\\u0161registruotas\\\",\\n        \\\"Likviduojamas\\\",\\n        \\\"Likviduojamas d\\u0117l bankroto\\\",\\n        \\\"Inicijuojamas likvidavimas\\\",\\n    ]\\n\\n    if x in veikianti:\\n        return \\\"veikianti\\\"\\n    elif x in bankrutavusi:\\n        return \\\"bankrutavusi\\\"\\n\\n    return None\\n\\n\\ndf[\\\"veikianti_bankrutavusi\\\"] = df[\\\"stat_pav\\\"].map(get_veikianti_bankrutavusi)\\ndf2[\\\"veikianti_bankrutavusi\\\"] = df2[\\\"stat_pav\\\"].map(get_veikianti_bankrutavusi)\";\n                var nbb_cells = Jupyter.notebook.get_cells();\n                for (var i = 0; i < nbb_cells.length; ++i) {\n                    if (nbb_cells[i].input_prompt_number == nbb_cell_id) {\n                        if (nbb_cells[i].get_text() == nbb_unformatted_code) {\n                             nbb_cells[i].set_text(nbb_formatted_code);\n                        }\n                        break;\n                    }\n                }\n            }, 500);\n            ",
      "text/plain": [
       "<IPython.core.display.Javascript object>"
      ]
     },
     "metadata": {},
     "output_type": "display_data"
    }
   ],
   "source": [
    "def get_veikianti_bankrutavusi(x):\n",
    "    veikianti = [\"Teisinis stat neįregistruotas\"]\n",
    "    bankrutavusi = [\n",
    "        \"Bankrutavęs\",\n",
    "        \"Bankrutuojantis\",\n",
    "        \"Išregistruotas\",\n",
    "        \"Likviduojamas\",\n",
    "        \"Likviduojamas dėl bankroto\",\n",
    "        \"Inicijuojamas likvidavimas\",\n",
    "    ]\n",
    "\n",
    "    if x in veikianti:\n",
    "        return \"veikianti\"\n",
    "    elif x in bankrutavusi:\n",
    "        return \"bankrutavusi\"\n",
    "\n",
    "    return None\n",
    "\n",
    "\n",
    "df[\"veikianti_bankrutavusi\"] = df[\"stat_pav\"].map(get_veikianti_bankrutavusi)\n",
    "df2[\"veikianti_bankrutavusi\"] = df2[\"stat_pav\"].map(get_veikianti_bankrutavusi)"
   ]
  },
  {
   "cell_type": "markdown",
   "id": "7a0cfacc-071e-4d62-95fb-451d40ade4ce",
   "metadata": {},
   "source": [
    "<font color='red'> Tomas Rasymas: \n",
    "Toks be komentaro, bet kodas rodo kad viskas galvota ir daryta teisingai!\n",
    "</font>"
   ]
  }
 ],
 "metadata": {
  "kernelspec": {
   "display_name": "Python 3 (ipykernel)",
   "language": "python",
   "name": "python3"
  },
  "language_info": {
   "codemirror_mode": {
    "name": "ipython",
    "version": 3
   },
   "file_extension": ".py",
   "mimetype": "text/x-python",
   "name": "python",
   "nbconvert_exporter": "python",
   "pygments_lexer": "ipython3",
   "version": "3.9.15"
  }
 },
 "nbformat": 4,
 "nbformat_minor": 5
}
